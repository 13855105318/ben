{
 "cells": [
  {
   "cell_type": "code",
   "execution_count": 1,
   "metadata": {},
   "outputs": [],
   "source": [
    "import os\n",
    "os.chdir('..')\n",
    "\n",
    "from util import hand_to_str\n",
    "from deck52 import random_deal\n",
    "import binary\n",
    "\n",
    "from nn.bid_info_tf2 import BidInfo\n",
    "\n",
    "binfo = BidInfo('../models/binfo.h5')"
   ]
  },
  {
   "cell_type": "code",
   "execution_count": 2,
   "metadata": {},
   "outputs": [
    {
     "name": "stdout",
     "output_type": "stream",
     "text": [
      "[[[ 0.      1.      2.      1.     -0.1428 -0.1428 -0.7144  1.\n",
      "    0.      0.      1.      1.      0.      1.      1.      1.\n",
      "    1.      0.      0.      1.      0.      0.      0.      0.\n",
      "    1.      0.      0.      0.      0.      0.      2.      0.\n",
      "    1.      0.      0.      0.      0.      1.      0.      1.\n",
      "    0.      0.      0.      0.      0.      0.      0.      0.\n",
      "    0.      0.      0.      0.      0.      0.      0.      0.\n",
      "    0.      0.      0.      0.      0.      0.      0.      0.\n",
      "    0.      0.      0.      0.      0.      0.      0.      0.\n",
      "    0.      0.      0.      0.      0.      0.      0.      1.\n",
      "    0.      0.      0.      0.      0.      0.      0.      0.\n",
      "    0.      0.      0.      0.      0.      0.      0.      0.\n",
      "    0.      0.      0.      0.      0.      0.      0.      0.\n",
      "    0.      0.      0.      0.      0.      0.      0.      0.\n",
      "    0.      0.      0.      0.      0.      0.      0.      0.\n",
      "    0.      0.      0.      0.      0.      0.      0.      0.\n",
      "    0.      0.      0.      0.      0.      0.      0.      0.\n",
      "    0.      0.      0.      1.      0.      0.      0.      0.\n",
      "    0.      0.      0.      0.      0.      0.      0.      0.\n",
      "    0.      0.      0.      0.      0.      0.      0.    ]]]\n"
     ]
    }
   ],
   "source": [
    "auction = ['4C']\n",
    "n_steps = binary.calculate_step(auction)\n",
    "ns = -1\n",
    "ew = -1\n",
    "nesw_i = 1\n",
    "vuln = [True, False]\n",
    "hand = binary.parse_hand_f(32)(\"AJT85.AKT.K63.K8\")\n",
    "A = binary.get_auction_binary(n_steps, auction, nesw_i, hand, vuln, ns, ew)\n",
    "print(A)\n"
   ]
  },
  {
   "cell_type": "code",
   "execution_count": 3,
   "metadata": {},
   "outputs": [
    {
     "name": "stdout",
     "output_type": "stream",
     "text": [
      "[[[-0.6526151  -0.571701   -0.39639312]]]\n",
      "[[[ 0.05210641  0.31131235  0.34398574 -0.50948286  0.04333303\n",
      "    0.23772155  0.37316796 -0.60478735 -0.68011457 -0.57150507\n",
      "   -0.2986324   1.9259543 ]]]\n",
      "c_hcp:[[7.3895397 7.713196  8.414428 ]]\n",
      "c_shp:[[3.3411863 3.7947965 3.851975  2.358405  3.3258328 3.6660128 3.903044\n",
      "  2.1916223 2.0597997 2.249866  2.7273932 6.62042  ]]\n"
     ]
    }
   ],
   "source": [
    "p_hcp, p_shp = binfo.model(A)\n",
    "print(p_hcp)\n",
    "print(p_shp)\n",
    "p_hcp = p_hcp.reshape((-1, n_steps, 3))[:, -1, :]\n",
    "p_shp = p_shp.reshape((-1, n_steps, 12))[:, -1, :]\n",
    "\n",
    "def f_trans_hcp(x): return 4 * x + 10\n",
    "def f_trans_shp(x): return 1.75 * x + 3.25\n",
    "\n",
    "p_hcp = f_trans_hcp(p_hcp)\n",
    "p_shp = f_trans_shp(p_shp)\n",
    "\n",
    "c_hcp = p_hcp.copy()\n",
    "c_shp = p_shp.copy()\n",
    "\n",
    "print(f\"c_hcp:{c_hcp}\")\n",
    "print(f\"c_shp:{c_shp}\")\n",
    "\n",
    "\n"
   ]
  },
  {
   "cell_type": "code",
   "execution_count": 4,
   "metadata": {},
   "outputs": [
    {
     "name": "stdout",
     "output_type": "stream",
     "text": [
      "[[[ 9.430501 11.7272    9.191472]]]\n"
     ]
    }
   ],
   "source": [
    "auction = ['PAD_START', '2C','4N']\n",
    "n_steps = binary.calculate_step(auction)\n",
    "n_samples = 10\n",
    "ns = -1\n",
    "ew = -1\n",
    "nesw_i = 3\n",
    "vuln = [True, False]\n",
    "hand = binary.parse_hand_f(32)(\"AJT8653.J.962.92\")\n",
    "A = binary.get_auction_binary(n_steps, auction, nesw_i, hand, vuln, ns, ew)\n",
    "p_hcp, p_shp = binfo.model(A)\n",
    "c_hcp = (lambda x: 4 * x + 10)(p_hcp.copy())\n",
    "print(c_hcp)\n"
   ]
  },
  {
   "cell_type": "code",
   "execution_count": 5,
   "metadata": {},
   "outputs": [
    {
     "name": "stdout",
     "output_type": "stream",
     "text": [
      "[[[12.480727  14.243022   6.833748 ]\n",
      "  [12.542816  14.705857   7.3292007]]]\n"
     ]
    }
   ],
   "source": [
    "auction = ['PAD_START', '2C','4N','PASS']\n",
    "n_steps = binary.calculate_step(auction)\n",
    "n_samples = 10\n",
    "ns = -1\n",
    "ew = -1\n",
    "nesw_i = 0\n",
    "vuln = [True, False]\n",
    "hand = binary.parse_hand_f(32)(\"K4.T9876532.54.6\")\n",
    "A = binary.get_auction_binary(n_steps, auction, nesw_i, hand, vuln, ns, ew)\n",
    "p_hcp, p_shp = binfo.model(A)\n",
    "c_hcp = (lambda x: 4 * x + 10)(p_hcp.copy())\n",
    "print(c_hcp)\n"
   ]
  },
  {
   "cell_type": "code",
   "execution_count": 6,
   "metadata": {},
   "outputs": [
    {
     "name": "stdout",
     "output_type": "stream",
     "text": [
      "[[[11.5817175 11.449823  11.576882 ]]]\n"
     ]
    }
   ],
   "source": [
    "auction = ['1N']\n",
    "n_steps = binary.calculate_step(auction)\n",
    "n_samples = 10\n",
    "ns = -1\n",
    "ew = -1\n",
    "nesw_i = 0\n",
    "vuln = [True, False]\n",
    "hand = binary.parse_hand_f(32)(\"K4.T9876532.54.6\")\n",
    "A = binary.get_auction_binary(n_steps, auction, nesw_i, hand, vuln, ns, ew)\n",
    "p_hcp, p_shp = binfo.model(A)\n",
    "c_hcp = (lambda x: 4 * x + 10)(p_hcp.copy())\n",
    "print(c_hcp)\n"
   ]
  }
 ],
 "metadata": {
  "kernelspec": {
   "display_name": "Python 3",
   "language": "python",
   "name": "python3"
  },
  "language_info": {
   "codemirror_mode": {
    "name": "ipython",
    "version": 3
   },
   "file_extension": ".py",
   "mimetype": "text/x-python",
   "name": "python",
   "nbconvert_exporter": "python",
   "pygments_lexer": "ipython3",
   "version": "3.11.0"
  },
  "orig_nbformat": 4
 },
 "nbformat": 4,
 "nbformat_minor": 2
}
