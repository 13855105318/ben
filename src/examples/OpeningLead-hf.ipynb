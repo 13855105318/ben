{
 "cells": [
  {
   "cell_type": "markdown",
   "id": "170af530",
   "metadata": {},
   "source": [
    "# Opening Lead\n",
    "\n",
    "This is a tutorial for how to use the opening lead engine."
   ]
  },
  {
   "cell_type": "code",
   "execution_count": 1,
   "id": "e299ffcc-5180-4607-b6f8-c7280208d9c6",
   "metadata": {
    "tags": []
   },
   "outputs": [],
   "source": [
    "# %pip install --upgrade tensorflow[and-cuda]\n",
    "# %pip install -q huggingface_hub"
   ]
  },
  {
   "cell_type": "code",
   "execution_count": 2,
   "id": "26570686",
   "metadata": {},
   "outputs": [
    {
     "name": "stdout",
     "output_type": "stream",
     "text": [
      "WARNING:tensorflow:From c:\\Python311\\Lib\\site-packages\\tensorflow\\python\\compat\\v2_compat.py:107: disable_resource_variables (from tensorflow.python.ops.variable_scope) is deprecated and will be removed in a future version.\n",
      "Instructions for updating:\n",
      "non-resource variables are not supported in the long term\n"
     ]
    }
   ],
   "source": [
    "import os\n",
    "os.chdir('..')\n",
    "\n",
    "from nn.models import Models\n",
    "from bots import BotLead\n",
    "from sample import Sample\n",
    "import conf"
   ]
  },
  {
   "cell_type": "code",
   "execution_count": 3,
   "id": "fe373c76",
   "metadata": {},
   "outputs": [
    {
     "name": "stderr",
     "output_type": "stream",
     "text": [
      "c:\\Python311\\Lib\\site-packages\\tqdm\\auto.py:21: TqdmWarning: IProgress not found. Please update jupyter and ipywidgets. See https://ipywidgets.readthedocs.io/en/stable/user_install.html\n",
      "  from .autonotebook import tqdm as notebook_tqdm\n",
      "Fetching 5 files: 100%|██████████| 5/5 [00:00<00:00, 14.45it/s]\n",
      "Fetching 5 files: 100%|██████████| 5/5 [00:00<00:00, 14.54it/s]\n",
      "Fetching 5 files: 100%|██████████| 5/5 [00:00<00:00, 14.16it/s]\n",
      "Fetching 5 files: 100%|██████████| 5/5 [00:00<00:00, 14.71it/s]\n"
     ]
    },
    {
     "data": {
      "text/plain": [
       "'D:\\\\github\\\\ben\\\\src\\\\hfmodels'"
      ]
     },
     "execution_count": 3,
     "metadata": {},
     "output_type": "execute_result"
    }
   ],
   "source": [
    "import huggingface_hub\n",
    "import os\n",
    "lead_id=\"AIBridgeEngine/Ben-3B-Lead-v0.1\"\n",
    "bidding_id=\"AIBridgeEngine/Ben-3B-Bidding-v0.1\"\n",
    "biddinginfo_id=\"AIBridgeEngine/Ben-3B-Biddinginformation-v0.1\"\n",
    "singledummy_id=\"AIBridgeEngine/Ben-3B-Singledummy-v0.1\"\n",
    "folder=\"hfmodels\"\n",
    "huggingface_hub.snapshot_download(repo_id=lead_id, local_dir=folder)\n",
    "huggingface_hub.snapshot_download(repo_id=bidding_id, local_dir=folder)\n",
    "huggingface_hub.snapshot_download(repo_id=biddinginfo_id, local_dir=folder)\n",
    "huggingface_hub.snapshot_download(repo_id=singledummy_id, local_dir=folder)"
   ]
  },
  {
   "cell_type": "code",
   "execution_count": 4,
   "id": "627ca134-93a3-4d36-bc4d-a1207d84cd88",
   "metadata": {
    "tags": []
   },
   "outputs": [
    {
     "name": "stdout",
     "output_type": "stream",
     "text": [
      "INFO:tensorflow:Restoring parameters from hfmodels/lead-1000000\n",
      "INFO:tensorflow:Restoring parameters from hfmodels/lead-1000000\n",
      "INFO:tensorflow:Restoring parameters from hfmodels/binfo-100000\n",
      "INFO:tensorflow:Restoring parameters from hfmodels/bidding-100000\n",
      "INFO:tensorflow:Restoring parameters from hfmodels/lr3-1000000\n"
     ]
    }
   ],
   "source": [
    "from nn.leader import Leader\n",
    "from nn.bid_info import BidInfo\n",
    "from nn.bidder import Bidder\n",
    "from nn.lead_singledummy import LeadSingleDummy\n",
    "lead_suit = Leader(f'{folder}/lead-1000000')\n",
    "lead_nt = Leader(f'{folder}/lead-1000000')\n",
    "biddinginfo = BidInfo(f'{folder}/binfo-100000')\n",
    "bidder = Bidder(\"\", f'{folder}/bidding-100000')\n",
    "sd_model = LeadSingleDummy(f'{folder}/lr3-1000000')\n",
    "models = Models(bidder, biddinginfo, lead_suit, lead_nt, sd_model, None, None, 0.1, 0.05, 1.0, 0.1, False, -1, -1, False, True, False, False, 1)\n",
    "sampler = Sample(0.01, 0.1, 0.03, 0.05, 64, 10, 5000, 5000, 128, 100, 10, 500, False)"
   ]
  },
  {
   "cell_type": "code",
   "execution_count": 5,
   "id": "c3397678",
   "metadata": {},
   "outputs": [],
   "source": [
    "# both vulnerable. you are sitting North as dealer and you hold\n",
    "hand = 'T54.QT87.A98.943'\n",
    "\n",
    "# the auction goes:\n",
    "auction = [\"1C\",\"1D\",\"1S\",\"2D\",\"X\",\"PASS\",\"2S\",\"PASS\",\"3C\",\"PASS\",\"3N\",\"PASS\",\"4S\",'PASS', 'PASS', 'PASS']\n",
    "\n",
    "# what to lead?\n",
    "\n",
    "lead_bot = BotLead([True, True], hand, models, sampler, False)\n",
    "lead = lead_bot.find_opening_lead(auction)"
   ]
  },
  {
   "cell_type": "code",
   "execution_count": 6,
   "id": "a2b5fe25",
   "metadata": {},
   "outputs": [
    {
     "data": {
      "text/plain": [
       "H7"
      ]
     },
     "execution_count": 6,
     "metadata": {},
     "output_type": "execute_result"
    }
   ],
   "source": [
    "lead.card"
   ]
  },
  {
   "cell_type": "markdown",
   "id": "02e88396",
   "metadata": {},
   "source": [
    "seems like the engine chose to lead the ace of diamonds\n",
    "\n",
    "the other options it considered were: a small spade and a small club"
   ]
  },
  {
   "cell_type": "code",
   "execution_count": 7,
   "id": "956ef356",
   "metadata": {},
   "outputs": [
    {
     "data": {
      "text/plain": [
       "[{'card': 'Hx',\n",
       "  'insta_score': 0.612,\n",
       "  'expected_tricks_sd': 9.34,\n",
       "  'p_make_contract': 0.51},\n",
       " {'card': 'DA',\n",
       "  'insta_score': 0.159,\n",
       "  'expected_tricks_sd': 9.38,\n",
       "  'p_make_contract': 0.51},\n",
       " {'card': 'HT',\n",
       "  'insta_score': 0.065,\n",
       "  'expected_tricks_sd': 9.35,\n",
       "  'p_make_contract': 0.51}]"
      ]
     },
     "execution_count": 7,
     "metadata": {},
     "output_type": "execute_result"
    }
   ],
   "source": [
    "lead.to_dict()['candidates']"
   ]
  },
  {
   "cell_type": "markdown",
   "id": "97efc5a1",
   "metadata": {},
   "source": [
    "in the above output:\n",
    "- `insta_score` reflects the preference of the neural network\n",
    "- `expected_tricks` how many tricks declarer is expected to take on this lead\n",
    "- `p_make_contract` is the probability of the contract making on this lead\n",
    "\n",
    "the probability of making and the expected tricks are computed on samples which are consistent with the auction. the samples are estimated single dummy using a neural network (more on this in another tutorial). we could also solve the samples double dummy, but that would be quite a bit slower."
   ]
  },
  {
   "cell_type": "code",
   "execution_count": 8,
   "id": "7cb2bf98",
   "metadata": {},
   "outputs": [
    {
     "data": {
      "text/plain": [
       "['KQx.AJx..KQ8xxxx AJx.Kxx.KJxxx.JT 98xx.9xx.QTxxx.A 0.09477',\n",
       " 'Axx.AK9x.x.AQxxx K9x.xx.QJxxx.KJ8 QJ8x.Jxx.KTxx.Tx 0.07342',\n",
       " 'KJx.AJ9x.K.KJ8xx A8x.xxx.JTxxx.Ax Q9xx.Kx.Qxxx.QTx 0.06904',\n",
       " 'AKQ.AJxx..QT8xxx 8xx.xx.KQxxxx.AJ J9xx.K9x.JTxx.Kx 0.06505',\n",
       " 'Qxx.AJ9x.K.AQJ8x K9x.xx.QTxxx.KTx AJ8x.Kxx.Jxxx.xx 0.05431',\n",
       " 'J9x.AKJx.x.AQ8xx A8x.9xx.QJxxx.Jx KQxx.xx.KTxx.KTx 0.05310',\n",
       " 'A9x.KJ9x.x.AK8xx Kxx.Ax.QTxxx.JTx QJ8x.xxx.KJxx.Qx 0.05246',\n",
       " 'Kx.K9xx.xx.AKQxx AJx.Jx.QTxxx.J8x Q98xx.Axx.KJx.Tx 0.04814',\n",
       " 'AJ8.xxx..AKQ8xxx K9x.AKJx.Jxxxx.x Qxxx.9x.KQTxx.JT 0.04288',\n",
       " 'K9x.Jx.x.AKQJ8xx Ax.K9xx.QJTxxx.x QJ8xx.Axx.Kxx.Tx 0.03857']"
      ]
     },
     "execution_count": 8,
     "metadata": {},
     "output_type": "execute_result"
    }
   ],
   "source": [
    "# each row is one sample board\n",
    "# the hands are in the order: LHO, Partner, RHO. Your cards are not shown as they are fixed/\n",
    "\n",
    "lead.samples"
   ]
  }
 ],
 "metadata": {
  "kernelspec": {
   "display_name": "Python 3 (ipykernel)",
   "language": "python",
   "name": "python3"
  },
  "language_info": {
   "codemirror_mode": {
    "name": "ipython",
    "version": 3
   },
   "file_extension": ".py",
   "mimetype": "text/x-python",
   "name": "python",
   "nbconvert_exporter": "python",
   "pygments_lexer": "ipython3",
   "version": "3.11.0"
  }
 },
 "nbformat": 4,
 "nbformat_minor": 5
}
