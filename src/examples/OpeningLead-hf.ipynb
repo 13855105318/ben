{
 "cells": [
  {
   "cell_type": "markdown",
   "id": "170af530",
   "metadata": {},
   "source": [
    "# Opening Lead\n",
    "\n",
    "This is a tutorial for how to use the opening lead engine."
   ]
  },
  {
   "cell_type": "code",
   "execution_count": 6,
   "id": "e299ffcc-5180-4607-b6f8-c7280208d9c6",
   "metadata": {
    "tags": []
   },
   "outputs": [],
   "source": [
    "# %pip install --upgrade tensorflow[and-cuda]\n",
    "# %pip install -q huggingface_hub"
   ]
  },
  {
   "cell_type": "code",
   "execution_count": 7,
   "id": "26570686",
   "metadata": {},
   "outputs": [],
   "source": [
    "import os\n",
    "os.chdir('..')\n",
    "\n",
    "from nn.models import Models\n",
    "from bots import BotLead\n",
    "from sample import Sample\n",
    "import conf"
   ]
  },
  {
   "cell_type": "code",
   "execution_count": 8,
   "id": "fe373c76",
   "metadata": {},
   "outputs": [
    {
     "name": "stderr",
     "output_type": "stream",
     "text": [
      "Fetching 5 files: 100%|██████████| 5/5 [00:00<00:00, 14.91it/s]\n",
      "Fetching 5 files: 100%|██████████| 5/5 [00:00<00:00, 14.67it/s]\n",
      "Fetching 5 files: 100%|██████████| 5/5 [00:00<00:00, 13.58it/s]\n",
      "Fetching 5 files: 100%|██████████| 5/5 [00:00<00:00, 14.69it/s]\n"
     ]
    },
    {
     "data": {
      "text/plain": [
       "'D:\\\\github\\\\ben\\\\hfmodels'"
      ]
     },
     "execution_count": 8,
     "metadata": {},
     "output_type": "execute_result"
    }
   ],
   "source": [
    "import huggingface_hub\n",
    "import os\n",
    "lead_id=\"AIBridgeEngine/Ben-3B-Lead-v0.1\"\n",
    "bidding_id=\"AIBridgeEngine/Ben-3B-Bidding-v0.1\"\n",
    "biddinginfo_id=\"AIBridgeEngine/Ben-3B-Biddinginformation-v0.1\"\n",
    "singledummy_id=\"AIBridgeEngine/Ben-3B-Singledummy-v0.1\"\n",
    "folder=\"hfmodels\"\n",
    "huggingface_hub.snapshot_download(repo_id=lead_id, local_dir=folder)\n",
    "huggingface_hub.snapshot_download(repo_id=bidding_id, local_dir=folder)\n",
    "huggingface_hub.snapshot_download(repo_id=biddinginfo_id, local_dir=folder)\n",
    "huggingface_hub.snapshot_download(repo_id=singledummy_id, local_dir=folder)"
   ]
  },
  {
   "cell_type": "code",
   "execution_count": 9,
   "id": "627ca134-93a3-4d36-bc4d-a1207d84cd88",
   "metadata": {
    "tags": []
   },
   "outputs": [
    {
     "name": "stdout",
     "output_type": "stream",
     "text": [
      "INFO:tensorflow:Restoring parameters from hfmodels/lead-1000000\n",
      "INFO:tensorflow:Restoring parameters from hfmodels/binfo-100000\n",
      "INFO:tensorflow:Restoring parameters from hfmodels/bidding-100000\n",
      "INFO:tensorflow:Restoring parameters from hfmodels/lr3-1000000\n"
     ]
    }
   ],
   "source": [
    "from nn.leader import Leader\n",
    "from nn.bid_info import BidInfo\n",
    "from nn.bidder import Bidder\n",
    "from nn.lead_singledummy import LeadSingleDummy\n",
    "lead = Leader(f'{folder}/lead-1000000')\n",
    "biddinginfo = BidInfo(f'{folder}/binfo-100000')\n",
    "bidder = Bidder(\"\", f'{folder}/bidding-100000')\n",
    "sd_model = LeadSingleDummy(f'{folder}/lr3-1000000')\n",
    "models = Models(bidder, biddinginfo, lead, sd_model, None, 0.1, 0.05, 1.0, 0.1, False, -1, -1)\n",
    "sampler = Sample(0.01, 0.1, 0.03, 0.05, 64, 5000, 5000, 128, 100, False)"
   ]
  },
  {
   "cell_type": "code",
   "execution_count": 10,
   "id": "c3397678",
   "metadata": {},
   "outputs": [],
   "source": [
    "# both vulnerable. you are sitting North as dealer and you hold\n",
    "hand = 'T54.QT87.A98.943'\n",
    "\n",
    "# the auction goes:\n",
    "auction = [\"1C\",\"1D\",\"1S\",\"2D\",\"X\",\"PASS\",\"2S\",\"PASS\",\"3C\",\"PASS\",\"3N\",\"PASS\",\"4S\",'PASS', 'PASS', 'PASS']\n",
    "\n",
    "# what to lead?\n",
    "\n",
    "lead_bot = BotLead([True, True], hand, models, models.lead_threshold, sampler, False)\n",
    "lead = lead_bot.find_opening_lead(auction)"
   ]
  },
  {
   "cell_type": "code",
   "execution_count": 11,
   "id": "a2b5fe25",
   "metadata": {},
   "outputs": [
    {
     "data": {
      "text/plain": [
       "H7"
      ]
     },
     "execution_count": 11,
     "metadata": {},
     "output_type": "execute_result"
    }
   ],
   "source": [
    "lead.card"
   ]
  },
  {
   "cell_type": "markdown",
   "id": "02e88396",
   "metadata": {},
   "source": [
    "seems like the engine chose to lead the ace of diamonds\n",
    "\n",
    "the other options it considered were: a small spade and a small club"
   ]
  },
  {
   "cell_type": "code",
   "execution_count": 12,
   "id": "956ef356",
   "metadata": {},
   "outputs": [
    {
     "data": {
      "text/plain": [
       "[{'card': 'Hx',\n",
       "  'insta_score': 0.6122,\n",
       "  'expected_tricks': 9.98,\n",
       "  'p_make_contract': 0.65},\n",
       " {'card': 'DA',\n",
       "  'insta_score': 0.1587,\n",
       "  'expected_tricks': 9.71,\n",
       "  'p_make_contract': 0.59},\n",
       " {'card': 'HT',\n",
       "  'insta_score': 0.0649,\n",
       "  'expected_tricks': 9.9,\n",
       "  'p_make_contract': 0.63}]"
      ]
     },
     "execution_count": 12,
     "metadata": {},
     "output_type": "execute_result"
    }
   ],
   "source": [
    "lead.to_dict()['candidates']"
   ]
  },
  {
   "cell_type": "markdown",
   "id": "97efc5a1",
   "metadata": {},
   "source": [
    "in the above output:\n",
    "- `insta_score` reflects the preference of the neural network\n",
    "- `expected_tricks` how many tricks declarer is expected to take on this lead\n",
    "- `p_make_contract` is the probability of the contract making on this lead\n",
    "\n",
    "the probability of making and the expected tricks are computed on samples which are consistent with the auction. the samples are estimated single dummy using a neural network (more on this in another tutorial). we could also solve the samples double dummy, but that would be quite a bit slower."
   ]
  },
  {
   "cell_type": "code",
   "execution_count": 13,
   "id": "7cb2bf98",
   "metadata": {},
   "outputs": [
    {
     "data": {
      "text/plain": [
       "['Axx.KJ9x.K.AJxxx Q98.Ax.Txxxxx.KQ KJxx.xxx.QJx.T8x 0.08078',\n",
       " '9xx.AKJx.T.AKJTx A8x.9x.KQxxxx.Qx KQJx.xxx.Jxx.8xx 0.07396',\n",
       " '98x.A9xx.K.AKT8x Kxx.Kxx.QJTxx.Qx AQJx.Jx.xxxx.Jxx 0.06952',\n",
       " 'Axx.AJ.Tx.AK8xxx 98x.Kxxx.KQxxx.x KQJx.9xx.Jxx.QJT 0.06678',\n",
       " 'Ax.AJxx.xx.AQ8xx KJ9.Kxx.Jxxxx.Jx Q8xxx.9x.KQT.KTx 0.06346',\n",
       " 'Axx.AKJx.x.KQ8xx K8x.9xxx.KQxxx.x QJ9x.x.JTxx.AJTx 0.05800',\n",
       " 'Axx.AK9x.x.KQT8x K9x.xx.KJTxx.Axx QJ8x.Jxx.Qxxx.Jx 0.05644',\n",
       " 'AQ9.K9xx.x.KQJ8x Kx.AJxx.QTxxx.Tx J8xxx.x.KJxx.Axx 0.05347',\n",
       " 'AJ8.KJxx.x.AK8xx K9x.xxx.KQTxx.Tx Qxxx.A9.Jxxx.QJx 0.05057',\n",
       " 'A8x.KJxx.x.AKxxx Qxx.A9xx.KQxxx.x KJ9x.x.JTxx.QJT8 0.03821',\n",
       " 'A8x.Kxxx..AQJTxx K9x.xx.QJTxxx.K8 QJxx.AJ9.Kxxx.xx 0.03808',\n",
       " 'AKx.xxx..AQJ8xxx J9x.A9x.KQJxxx.x Q8xx.KJx.Txxx.KT 0.03717',\n",
       " 'AJx.AK9x.x.AJxxx Q8x.xx.KJxxxx.KT K9xx.Jxx.QTx.Q8x 0.03715',\n",
       " 'K9x.K9xx.x.AKJxx xxx.Axxx.KJxxxx. AQJ8.J.QTx.QT8xx 0.03651',\n",
       " 'KJx.AK9x.x.QJ8xx 98.Jxxx.Qxxxx.AK AQxxx.x.KJTx.Txx 0.03487',\n",
       " 'A8x.AK9x.J.ATxxx K9.Jxxx.QTxxx.QJ QJxxx.x.Kxxx.K8x 0.03226',\n",
       " 'AQ8.Kxxx.x.AJ8xx K9x.J9.KJxxx.QTx Jxxx.Axx.QTxx.Kx 0.03172',\n",
       " 'xxx.AK9x.J.AQ8xx QJx.xx.KQxxxx.KT AK98.Jxx.Txx.Jxx 0.03084',\n",
       " 'AKx.Axxx.x.QJ8xx 9xx.Kx.KJTxxx.Kx QJ8x.J9x.Qxx.ATx 0.03060',\n",
       " 'A9x.Axx.T.AQ8xxx K8x.9xxx.Kxxxx.K QJxx.KJ.QJxx.JTx 0.03059',\n",
       " 'Ax.Kxxx.Jx.AQ8xx Jx.Jx.KTxxxx.KTx KQ98xx.A9x.Qx.Jx 0.03049',\n",
       " 'Jxx.AJ9x.Kx.KQTx K8.xxx.JTxxx.A8x AQ9xx.Kx.Qxx.Jxx 0.03046',\n",
       " 'KJ.Axxx.Kx.KTxxx A8x.9xx.QJTxx.Qx Q9xxx.KJ.xxx.AJ8 0.02985',\n",
       " 'A8x.Axxx.x.AKJTx xx.KJ9.KJxxxx.8x KQJ9x.xx.QTx.Qxx 0.02858',\n",
       " 'AQx.Kxx..KQJ8xxx K8x.J9x.KQJxxxx. J9xx.Axx.Txx.ATx 0.02733',\n",
       " 'xx.KJ9x.J.AKQxxx AK9.xxx.QTxxxx.J QJ8xx.Ax.Kxx.T8x 0.02725',\n",
       " 'K8.AKx.Tx.KJT8xx Jxx.Jxx.KQxxxx.Q AQ9xx.9xx.Jx.Axx 0.02659',\n",
       " 'Q8x.K9xx.K.KQJ8x J.AJxx.QJTxxx.Tx AK9xxx.x.xxx.Axx 0.02601',\n",
       " 'AQx.Jxxx.x.AQJT8 9xx.Kx.KQJxxx.Kx KJ8x.A9x.Txx.xxx 0.02576',\n",
       " 'KJx.AJxx.x.KQT8x xx.Kxx.KQxxxx.xx AQ98x.9x.JTx.AJx 0.02536',\n",
       " 'Kxx.Kxxx.x.AKJ8x AJ8.A9x.Jxxxx.xx Q9xx.Jx.KQTx.QTx 0.02509',\n",
       " 'K8x.AJ.x.KQJT8xx xx.9xxx.KQTxx.Ax AQJ9x.Kxx.Jxxx.x 0.02460',\n",
       " '98.AKxx.KJx.KTxx Jx.Jxxx.QTxxx.A8 AKQxxx.9.xx.QJxx 0.02456',\n",
       " 'KJx.Kxxx.J.AKQxx Q8.AJx.Qxxxxx.8x A9xxx.9x.KTx.JTx 0.02450',\n",
       " 'Qx.Kxxx.xx.AKQJx A9x.Jx.KQTxxx.T8 KJ8xx.A9x.Jx.xxx 0.02443',\n",
       " 'KQJ.A9xx.x.KQ8xx xx.Kxx.Jxxxx.ATx A98xx.Jx.KQTx.Jx 0.02427',\n",
       " 'K9x.K9x.Q.AKJ8xx AJ.Jxxx.KTxxxx.x Q8xxx.Ax.Jxx.QTx 0.02417',\n",
       " 'KJ.Axxx.Tx.AKTxx 98x.Kxx.KJxxx.Qx AQxxx.J9.Qxx.J8x 0.02366',\n",
       " 'Q9x.J9x.K.AKQ8xx K8.Axx.QTxxxx.JT AJxxx.Kxx.Jxx.xx 0.02360',\n",
       " 'AK9.Axxx.x.KTxxx xx.K9x.QJTxxx.QJ QJ8xx.Jx.Kxx.A8x 0.02288',\n",
       " 'Ax.KJ9x.xx.KQJxx J9x.xxx.KQJxx.Tx KQ8xx.Ax.Txx.A8x 0.02155',\n",
       " 'Qxx.AJ.Tx.AKJT8x J9.Kxx.KJxxx.xxx AK8xx.9xxx.Qxx.Q 0.02110',\n",
       " 'KJ9.KJx.J.KQJTxx Axx.9xx.KQxxx.8x Q8xx.Axx.Txxx.Ax 0.02078',\n",
       " 'AQJ.Axx.Kxx.K8xx 9x.J9.QJxxxx.Axx K8xxx.Kxxx.T.QJT 0.02044',\n",
       " 'Q9.AKxx.Kx.Qxxxx A8.Jxx.xxxxx.KJT KJxxxx.9x.QJT.A8 0.02018',\n",
       " 'KQ.K9xx.x.KQJTxx 9x.AJxx.QJTxx.8x AJ8xxx.x.Kxxx.Ax 0.02015',\n",
       " 'KQx.Kxxx.x.AKJTx Jx.A9x.KTxxx.8xx A98xx.Jx.QJxx.Qx 0.02015',\n",
       " 'xx.AJx.Kx.KQJxxx Qx.Kxx.QJTxx.T8x AKJ98x.9xx.xxx.A 0.02013',\n",
       " 'AQx.KJx.T.KJ8xxx K8x.9xx.KQJxxx.A J9xx.Axx.xxx.QTx 0.01985',\n",
       " 'J9.Axx.Qx.AK8xxx Axx.J9xx.KJTxx.Q KQ8xx.Kx.xxx.JTx 0.01963',\n",
       " 'AQx.KJx.x.KJxxxx J8x.A9x.KQTxx.Q8 K9xx.xxx.Jxxx.AT 0.01961',\n",
       " 'Jxx.AKxx.Q.AT8xx A.Jxxx.Txxxxx.KJ KQ98xx.9.KJx.Qxx 0.01941',\n",
       " 'AKQ.Kx.JT.QT8xxx 8x.J9xx.KQxxx.Kx J9xxx.Axx.xxx.AJ 0.01899',\n",
       " 'K8x.AJ9x.T.AK8xx Qx.K.Kxxxxx.JTxx AJ9xx.xxxx.QJx.Q 0.01865',\n",
       " 'Kx.AK9xx..KQJT8x AJx.Jxx.KJTxxx.x Q98xx.x.Qxxx.Axx 0.01859']"
      ]
     },
     "execution_count": 13,
     "metadata": {},
     "output_type": "execute_result"
    }
   ],
   "source": [
    "# each row is one sample board\n",
    "# the hands are in the order: LHO, Partner, RHO. Your cards are not shown as they are fixed/\n",
    "\n",
    "lead.samples"
   ]
  }
 ],
 "metadata": {
  "kernelspec": {
   "display_name": "Python 3 (ipykernel)",
   "language": "python",
   "name": "python3"
  },
  "language_info": {
   "codemirror_mode": {
    "name": "ipython",
    "version": 3
   },
   "file_extension": ".py",
   "mimetype": "text/x-python",
   "name": "python",
   "nbconvert_exporter": "python",
   "pygments_lexer": "ipython3",
   "version": "3.11.0"
  }
 },
 "nbformat": 4,
 "nbformat_minor": 5
}
