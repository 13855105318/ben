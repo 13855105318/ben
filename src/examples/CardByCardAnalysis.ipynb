{
 "cells": [
  {
   "cell_type": "markdown",
   "id": "21a4c878",
   "metadata": {},
   "source": [
    "# Detailed Analysis (Bid by Bid, Card by Card)\n",
    "\n",
    "This is a tutorial of how to do a detailed analysis of a played board.\n",
    "\n",
    "The engine looks at the bidding and play as it originally happened, and does an analysis for every bid and every card played.\n",
    "\n",
    "The analysis is not just a double-dummy analysis for the exact current layout (like if you would press the \"GIB\" button on BBO). Instead, it's an analysis over many different possible layouts (samples)."
   ]
  },
  {
   "cell_type": "code",
   "execution_count": 1,
   "id": "16f73f71",
   "metadata": {},
   "outputs": [
    {
     "name": "stdout",
     "output_type": "stream",
     "text": [
      "WARNING:tensorflow:From c:\\Python311\\Lib\\site-packages\\tensorflow\\python\\compat\\v2_compat.py:107: disable_resource_variables (from tensorflow.python.ops.variable_scope) is deprecated and will be removed in a future version.\n",
      "Instructions for updating:\n",
      "non-resource variables are not supported in the long term\n"
     ]
    }
   ],
   "source": [
    "import os\n",
    "os.chdir('..')\n",
    "\n",
    "from nn.models import Models\n",
    "from analysis import CardByCard\n",
    "from util import parse_lin, display_lin\n",
    "from sample import Sample\n",
    "import conf"
   ]
  },
  {
   "cell_type": "code",
   "execution_count": 2,
   "id": "ca7fa897",
   "metadata": {},
   "outputs": [
    {
     "name": "stdout",
     "output_type": "stream",
     "text": [
      "INFO:tensorflow:Restoring parameters from D:\\github\\ben\\UCBC 2024\\Models\\bidding-3233000\n",
      "INFO:tensorflow:Restoring parameters from D:\\github\\ben\\UCBC 2024\\Models\\binfo-286000\n",
      "INFO:tensorflow:Restoring parameters from ..\\models/lead_model_b/lead-1000000\n",
      "INFO:tensorflow:Restoring parameters from ..\\models/lr3_model/lr3-1000000\n",
      "INFO:tensorflow:Restoring parameters from ..\\models/lefty_model/lefty-1000000\n",
      "INFO:tensorflow:Restoring parameters from ..\\models/dummy_model/dummy-920000\n",
      "INFO:tensorflow:Restoring parameters from ..\\models/righty_model/righty-1000000\n",
      "INFO:tensorflow:Restoring parameters from ..\\models/decl_model/decl-1000000\n"
     ]
    }
   ],
   "source": [
    "models = Models.from_conf(conf.load('./config/default.conf'),'..')   # loading neural networks\n",
    "sampler = Sample.from_conf(conf.load('./config/default.conf'))  # Load sampling strategies"
   ]
  },
  {
   "cell_type": "code",
   "execution_count": 3,
   "id": "2940c18a",
   "metadata": {},
   "outputs": [],
   "source": [
    "# we specify all the information about a board\n",
    "# (it's quite tedious to enter every single thing by hand here,\n",
    "# later we'll have an example of how you can give it a board played on BBO)\n",
    "\n",
    "dealer = 'S'\n",
    "vuln = [True, True]  # fist element is NS, second element is EW\n",
    "\n",
    "hands = [\n",
    "    'AJ87632.J96.753.',\n",
    "    'K9.Q8542.T6.AJ74',\n",
    "    'QT4.A.KJ94.KQ986',\n",
    "    '5.KT73.AQ82.T532'\n",
    "]\n",
    "\n",
    "auction = ['1N', 'PASS', '4H', 'PASS', '4S', 'PASS', 'PASS', 'PASS']\n",
    "\n",
    "play = ['C2', 'D3', 'CA', 'C6', 'D6', 'DJ', 'DQ', 'D5', 'DA', 'D7', 'DT', 'D4', 'D8', 'H6', 'H2', 'D9', 'SQ', 'S5', 'S2', 'SK', 'H4', 'HA', 'H7', 'H9', 'S4', 'C3', 'SA', 'S9', 'S3', 'C4', 'ST', 'H3', 'CK', 'C5', 'HJ', 'C7', 'C8', 'CT', 'S6', 'CJ', 'S7', 'H8', 'C9', 'D2', 'S8', 'H5', 'CQ', 'HT', 'SJ', 'HQ', 'DK', 'HK']"
   ]
  },
  {
   "cell_type": "code",
   "execution_count": 4,
   "id": "79dae473",
   "metadata": {},
   "outputs": [],
   "source": [
    "card_by_card = CardByCard(dealer, vuln, hands, auction, play, models, sampler, False)"
   ]
  },
  {
   "cell_type": "code",
   "execution_count": 5,
   "id": "7ab0cce5",
   "metadata": {},
   "outputs": [
    {
     "name": "stdout",
     "output_type": "stream",
     "text": [
      "analyzing the bidding\n",
      "1N ?\n",
      "PASS .\n",
      "4H .\n",
      "PASS .\n",
      "4S .\n",
      "PASS .\n",
      "PASS .\n",
      "PASS .\n",
      "analyzing the play\n",
      "C2\n"
     ]
    },
    {
     "name": "stderr",
     "output_type": "stream",
     "text": [
      "Loaded lib dds.dll\n"
     ]
    },
    {
     "name": "stdout",
     "output_type": "stream",
     "text": [
      "D3 ??\n",
      "CA .\n",
      "C6 .\n",
      "D6 .\n",
      "DJ .\n",
      "DQ .\n",
      "D5 .\n",
      "DA .\n",
      "D7 .\n",
      "DT .\n",
      "D4 .\n",
      "D8 .\n",
      "H6 .\n",
      "H2 .\n",
      "D9 .\n",
      "SQ .\n",
      "S5 .\n",
      "S2 ??\n",
      "SK .\n",
      "H4 .\n",
      "HA .\n",
      "H7 .\n",
      "H9 .\n",
      "S4 .\n",
      "C3 .\n",
      "SA .\n",
      "S9 .\n",
      "S3 .\n",
      "C4 .\n",
      "ST .\n",
      "H3 .\n",
      "CK .\n",
      "C5 .\n",
      "HJ .\n",
      "C7 .\n",
      "C8 .\n",
      "CT .\n",
      "S6 .\n",
      "CJ .\n",
      "S7 .\n",
      "H8 .\n",
      "C9 .\n",
      "D2 .\n",
      "S8 .\n",
      "H5 .\n",
      "CQ .\n",
      "HT .\n"
     ]
    }
   ],
   "source": [
    "# calling this starts the analysis\n",
    "# it will go bid-by-bid and card-by-card, and will take a few moments\n",
    "# possible mistakes will be annotated with ? or with ?? (if it's a bigger mistake)\n",
    "# (possible mistake means that the engine does not agree with the bid/play. the engine could be wrong too :))\n",
    "\n",
    "card_by_card.analyze()"
   ]
  },
  {
   "cell_type": "code",
   "execution_count": 6,
   "id": "73be8e31",
   "metadata": {},
   "outputs": [
    {
     "data": {
      "text/plain": [
       "{'bid': '1N',\n",
       " 'candidates': [{'call': '1C', 'insta_score': 0.9965}],\n",
       " 'samples': ['A9xx.KJxx.T8.Txx x.9xxxx.AQxx.Axx QTx.A.KJ9x.KQ98x KJ8xx.QT8.xxx.Jx 1.00000',\n",
       "  'K8.QT8x.A8xxx.JT J9xxx.K9xx.Qx.xx QTx.A.KJ9x.KQ98x Axx.Jxxx.Tx.Axxx 1.00000',\n",
       "  'Ax.Qxxx.8xxx.ATx K8xxx.98xxx.A.xx QTx.A.KJ9x.KQ98x J9x.KJT.QTxx.Jxx 1.00000',\n",
       "  'K8x.9xxx.xx.Txxx 9xxx.QJx.AQxx.Jx QTx.A.KJ9x.KQ98x AJx.KT8xx.T8x.Ax 1.00000',\n",
       "  '9xxx.Kxx.xx.Jxxx KJ8x.J9xxx.AT8x. QTx.A.KJ9x.KQ98x Ax.QT8x.Qxx.ATxx 1.00000',\n",
       "  'AK8.xx.QTxx.Txxx 9xx.KT9xx.8xx.Jx QTx.A.KJ9x.KQ98x Jxxx.QJ8xx.Ax.Ax 1.00000',\n",
       "  'Kxx.Qxx.Qxxx.AJT J8xx.KJTxx.Ax.xx QTx.A.KJ9x.KQ98x A9x.98xx.T8x.xxx 1.00000',\n",
       "  'K8x.KQxxx.xx.xxx AJxx.J98x.Qxx.Ax QTx.A.KJ9x.KQ98x 9xx.Txx.AT8x.JTx 1.00000',\n",
       "  'KJ9x.8xx.Tx.Axxx xxx.KQJTxx.xx.Jx QTx.A.KJ9x.KQ98x A8x.9xx.AQ8xx.Tx 1.00000',\n",
       "  'Axxx.9xx.8xxx.xx J8xx.KQ8.A.AJTxx QTx.A.KJ9x.KQ98x K9.JTxxxx.QTxx.x 1.00000',\n",
       "  'Kxx.T9xx.8xx.Txx 98x.K8xx.ATxx.Jx QTx.A.KJ9x.KQ98x AJxx.QJxx.Qx.Axx 1.00000',\n",
       "  '8xx.KTxxx.Tx.Axx AKJ9.9x.Q8xx.Txx QTx.A.KJ9x.KQ98x xxx.QJ8xx.Axx.Jx 1.00000',\n",
       "  'J98x.KT9xx.Qx.Ax Kxxx.Q8xx.T8x.Jx QTx.A.KJ9x.KQ98x Ax.Jxx.Axxx.Txxx 1.00000',\n",
       "  'J8xx.Kxxx.Ax.Axx AK9.QJ8x.QT8xx.x QTx.A.KJ9x.KQ98x xxx.T9xx.xx.JTxx 1.00000',\n",
       "  'Ax.KQTxx.A8x.Txx K98x.J98xx.xx.Ax QTx.A.KJ9x.KQ98x Jxxx.xx.QTxx.Jxx 1.00000',\n",
       "  'Axxxx.J8.AQx.Txx K98.Q9xxx.xx.xxx QTx.A.KJ9x.KQ98x Jx.KTxxx.T8xx.AJ 1.00000',\n",
       "  '8xxx.Qxx.Ax.Axxx KJ.KJ9xx.T8xx.xx QTx.A.KJ9x.KQ98x A9xx.T8xx.Qxx.JT 1.00000',\n",
       "  'KJxxx.J8.Ax.AJxx A9xx.Kxxx.8xx.Tx QTx.A.KJ9x.KQ98x 8.QT9xxx.QTxx.xx 1.00000',\n",
       "  '9x.KQJTx.Axxx.Ax KJ8x.98.T8x.Jxxx QTx.A.KJ9x.KQ98x Axxx.xxxxx.Qx.Tx 1.00000',\n",
       "  'KJ98x.T9xx.x.Jxx x.QJ8x.AQTxx.ATx QTx.A.KJ9x.KQ98x Axxx.Kxxx.8xx.xx 1.00000'],\n",
       " 'hcp': -1,\n",
       " 'shape': -1,\n",
       " 'who': 'Analysis'}"
      ]
     },
     "execution_count": 6,
     "metadata": {},
     "output_type": "execute_result"
    }
   ],
   "source": [
    "# the engine does not agree with the 1N opening.\n",
    "# indeed, it's a little offbeat with a singleton\n",
    "# let's see what the engine is thinking (what would it bid instead)\n",
    "\n",
    "card_by_card.bid_responses[0].to_dict()  # the 0 index is the first bid in the auction"
   ]
  },
  {
   "cell_type": "markdown",
   "id": "186f6cff",
   "metadata": {},
   "source": [
    "the engine very confidently opens `1C` and doesn't even consider `1N`"
   ]
  },
  {
   "cell_type": "code",
   "execution_count": 7,
   "id": "573b5939",
   "metadata": {},
   "outputs": [
    {
     "data": {
      "text/plain": [
       "{'card': 'C2',\n",
       " 'candidates': [{'card': 'Cx',\n",
       "   'insta_score': 0.6436,\n",
       "   'expected_tricks': 10.34,\n",
       "   'p_make_contract': 0.76},\n",
       "  {'card': 'Hx',\n",
       "   'insta_score': 0.2702,\n",
       "   'expected_tricks': 10.38,\n",
       "   'p_make_contract': 0.77},\n",
       "  {'card': 'DA',\n",
       "   'insta_score': 0.0617,\n",
       "   'expected_tricks': 10.35,\n",
       "   'p_make_contract': 0.77}],\n",
       " 'samples': ['QJT8xxxxx.8x.x.x .QJx.KJ9xx.KQ9xx AK9.A9xx.Txx.AJ8 0.98033',\n",
       "  'KJT98xxxx.98.T.9 x.xxx.KJ9xx.AQxx AQ.AQJx.xxx.KJ8x 0.97490',\n",
       "  'KJT98xxxx.J9.x.9 x.Qxx.KJ9xx.K8xx AQ.A8xx.Txx.AQJx 0.97244',\n",
       "  'KQT9xxxxx.9.x.xx J.8xxx.KT9xx.AQ9 A8.AQJx.Jxx.KJ8x 0.97217',\n",
       "  'QJT98xxx.Q9xx..x x.8x.KJTxxxx.KQJ AKx.AJx.9x.A98xx 0.97053',\n",
       "  'KJT8xxxx.Jx..8xx 9.98xx.KJT9xx.AJ AQx.AQx.xxx.KQ9x 0.96975',\n",
       "  'AJT98xxxx.x.xx.x Q.J9xx.JT9.AJ98x Kx.AQ8x.Kxxx.KQx 0.96931',\n",
       "  'KJT8xxxx.9x.J.8x 9.AJx.T9xx.KJ9xx AQx.Q8xx.Kxxx.AQ 0.96839',\n",
       "  'KJT98xxx.xx.T.xx xx.Qxx.Kxxx.KQJ9 AQ.AJ98.J9xx.A8x 0.96830',\n",
       "  'KQT98xxx.8x.x.xx Ax.QJxx.K9xxx.Jx Jx.A9x.JTx.AKQ98 0.96796',\n",
       "  'KT8xxxxx.8xx..8x Q.Q9x.K9xxx.KQxx AJ9.AJx.JTxx.AJ9 0.96785',\n",
       "  'QT9xxxxx.8x.K.8x J8.AQ9x.xxx.QJ9x AK.Jxx.JT9xx.AKx 0.96764',\n",
       "  'KJT9xxxx.xx.xx.x 8.QJ98.KTxx.AJ9x AQx.Axx.J9x.KQ8x 0.96707',\n",
       "  'KJT98xxx.xx.xx.x Qx.AQ9x.JTxx.QJx Ax.J8x.K9x.AK98x 0.96695',\n",
       "  'QJT9xxxx.98xx..9 x.Qxx.xxxx.AKQxx AK8.AJ.KJT9x.J8x 0.96658',\n",
       "  'AJT9xxxx.x.xx.8x KQ.Q8xx.J9xx.Jxx 8x.AJ9x.KTx.AKQ9 0.96651',\n",
       "  'KT98xxxx.Jx..98x AQ.Q8x.JT9xx.Qxx Jx.A9xx.Kxxx.AKJ 0.96649',\n",
       "  'AJT98xxx.8xx.T.8 x.J9x.KJ9xx.KJxx KQx.AQx.xxx.AQ9x 0.96649',\n",
       "  'KJT98xxx.x.J.xxx A.Q9xx.Txxx.QJ98 Qxx.AJ8x.K9xx.AK 0.96643',\n",
       "  'AJT98xxx.8xx.x.x Qx.AQx.KT9x.98xx Kx.J9x.Jxxx.AKQJ 0.96616',\n",
       "  'KQT98xxx.8x.T.9x J.Axx.J9xx.AJ8xx Axx.QJ9x.Kxxx.KQ 0.96613',\n",
       "  'KT8xxxxx.8xx.x.8 J9.QJ.KJTx.KQxxx AQ.A9xx.9xxx.AJ9 0.96607',\n",
       "  'KJT98xxx.xx.x.9x Qx.Q9x.JT9xx.AK8 Ax.AJ8x.Kxx.QJxx 0.96604',\n",
       "  'KQT8xxxx.xx.xx.x 9x.AJ8.KTx.J98xx AJ.Q9xx.J9xx.AKQ 0.96598',\n",
       "  'QT98xxxx.9x.K.8x K.Q8x.JTxxx.QJ9x AJx.AJxx.9xx.AKx 0.96597',\n",
       "  'KJT9xxxx.8x.T.Jx Qx.Axxx.Kxxxx.Q8 A8.QJ9.J9x.AK9xx 0.96591',\n",
       "  'KJT9xxxx.9x.9.8x Q8.AJ8x.xxx.KJ9x Ax.Qxx.KJTxx.AQx 0.96587',\n",
       "  'AT98xxxx.xx.T.9x Jx.J98x.Kxx.KQJx KQ.AQx.J9xxx.A8x 0.96561',\n",
       "  'KQT9xxxx.xx.Tx.8 J.A8x.J9xx.QJ9xx A8x.QJ9x.Kxx.AKx 0.96561',\n",
       "  'KQT8xxxx.x.xx.9x Ax.J8xx.JTx.KQ8x J9.AQ9x.K9xx.AJx 0.96537',\n",
       "  'KQT98xxx.xxx.x.x x.QJ9.KJTx.KJ98x AJx.A8x.9xxx.AQx 0.96523',\n",
       "  'KJT98xxx.Jxx.x.8 Qx.Q9.Jxxx.KQ9xx Ax.A8xx.KT9x.AJx 0.96518',\n",
       "  'KJT8xxxx.Jxx.T.x A.A9xx.9xxxx.Qxx Q9x.Q8.KJx.AKJ98 0.96515',\n",
       "  'QT8xxxxx.8x.Kx.x J.Axxx.J9xx.KQ98 AK9.QJ9.Txx.AJxx 0.96514',\n",
       "  'QJT9xxxx.Qx.x.8x Ax.8xx.JT9x.KQJx K8.AJ9x.Kxxx.A9x 0.96514',\n",
       "  'AJTxxxxx.x.x.98x K.8xxx.JTxx.KQJx Q98.AQJ9.K9xx.Ax 0.96510',\n",
       "  'KJT9xxxx.xx.9x.8 A.J9xx.KTxxx.K9x Q8x.AQ8.Jx.AQJxx 0.96510',\n",
       "  'QJTxxxxx.x.Jx.xx A.Q9xx.Txxx.KJ9x K98.AJ8x.K9x.AQ8 0.96487',\n",
       "  'KJT98xxx.9x.Tx.x Q.QJ8x.Kxxx.Q9xx Axx.Axx.J9x.AKJ8 0.96467',\n",
       "  'KJT9xxxx.98.x.9x Q.Jxxx.KJxx.QJxx A8x.AQx.T9xx.AK8 0.96450',\n",
       "  'JT98xxxx.8.KT.Jx KQ.Qxxx.J9xx.K8x Ax.AJ9x.xxx.AQ9x 0.96402',\n",
       "  'KJT9xxxx.J.Tx.9x Qx.A98x.Jxx.K8xx A8.Qxxx.K9xx.AQJ 0.96362',\n",
       "  'QJTxxxxx.8x.xx.x 9.Q9xx.K9xx.KQJx AK8.AJx.JTx.A98x 0.96353',\n",
       "  'KQT9xxxx.8x.Tx.9 .AJ9x.Jxx.AJ8xxx AJ8x.Qxx.K9xx.KQ 0.96345',\n",
       "  'KQT98xxx.8xx.x.9 A.Q9xx.Txxx.KQ8x Jxx.AJ.KJ9x.AJxx 0.96340',\n",
       "  'QJT8xxxx.Jx.Jx.8 AK.Axxx.Txxx.xxx 9x.Q98.K9x.AKQJ9 0.96330',\n",
       "  'KJT98xxx.xx.9.9x Qx.AJ8x.KTx.Q8xx Ax.Q9x.Jxxxx.AKJ 0.96318',\n",
       "  'KJT9xxxx.J9x.x.8 Qx.xx.KT9xx.KJ9x A8.AQ8x.Jxx.AQxx 0.96312',\n",
       "  'KT98xxxx.8x.T.98 .AQJ9.xxxx.KQJxx AQJx.xxx.KJ9x.Ax 0.96297',\n",
       "  'QJT98xxx.xx.xx.x xx.Q8x.KT9x.KQJx AK.AJ9x.Jxx.A98x 0.96255',\n",
       "  'AT98xxxx.Jx.J.8x Kx.Q8x.T9xxx.AJx QJ.A9xx.Kxx.KQ9x 0.96244',\n",
       "  'JT9xxxxx.Qx.x.8x KQ.J9x.KJ9x.J9xx A8.A8xx.Txxx.AKQ 0.96234',\n",
       "  'QJT9xxxx.Qxx.x.x x.AJ8.T9xx.AQ9xx AK8.9xx.KJxx.KJ8 0.96232',\n",
       "  'QJT9xxxx.Qxx.x.x 8x.Ax.JTxx.AJ98x AK.J98x.K9xx.KQx 0.96232',\n",
       "  'AT98xxxx.J98.T.9 Q.Axxx.xxxx.QJxx KJx.Qx.KJ9x.AK8x 0.96213',\n",
       "  'QJT98xxx.Jx.x.Jx xx.A98x.T9xx.AK8 AK.Qxx.KJxx.Q9xx 0.96196',\n",
       "  'QT98xxxx.xxx.K.9 KJ.Q9x.J9xx.KJxx Ax.AJ8.Txxx.AQ8x 0.96192',\n",
       "  'AT98xxxx.Jx.xx.9 Q.9xx.KJ9xx.KQ8x KJx.AQ8x.Tx.AJxx 0.96188',\n",
       "  'QT98xxxx.8x.T.Kx Jx.AJxx.K9xx.9xx AK.Q9x.Jxxx.AQJ8 0.96181',\n",
       "  'KJT98xxx.8.Jxx.x xx.AQJx.Tx.A98xx AQ.9xxx.K9xx.KQJ 0.96168',\n",
       "  'JT98xxxx.Jx.K9.x x.AQ8x.Txxx.K98x AKQ.9xx.Jxx.AQJx 0.96155',\n",
       "  'QT98xxxx.Q8x.J.x A.AJxx.T9xxx.J9x KJx.9x.Kxx.AKQ8x 0.96154',\n",
       "  'QJT98xxx.J8.x.9x x.Q9xx.KJTxx.KQJ AKx.Axx.9xx.A8xx 0.96150',\n",
       "  'AJT98xxx.9xx.9.9 K.Qxx.JTxxxx.KJx Qxx.AJ8.Kx.AQ8xx 0.96103',\n",
       "  'KJT9xxxx.x.9xx.x .Q8xx.JTxx.AQJ9x AQ8x.AJ9x.Kx.K8x 0.96073',\n",
       "  'KT9xxxxx.9x.9x.x .Jxx.KJxxx.AQJ9x AQJ8.AQ8x.Tx.K8x 0.96067',\n",
       "  'QT98xxxx.Jx.xx.x A.Qxx.JT9xx.KQJx KJx.A98x.Kx.A98x 0.96042',\n",
       "  'QT98xxxx.Jx.xx.x A.xxx.K9xxx.A98x KJx.AQ98.JT.KQJx 0.96042',\n",
       "  'QJT98xxx.J8x.J.x x.A9x.Txxxx.AQJ9 AKx.Qxx.K9x.K8xx 0.96039',\n",
       "  'KJT98xxx.8x.x.Qx Q.Qxxx.KJ9xxx.9x Axx.AJ9.Tx.AKJ8x 0.96019',\n",
       "  'K98xxxxx.xx.xx.8 JT.AQ98.xx.KQJxx AQ.Jxx.KJT9x.A9x 0.96006',\n",
       "  'KQJTxxxx.x.xx.8x .AJ8x.JT9x.QJ9xx A98x.Q9xx.Kxx.AK 0.96005',\n",
       "  'JT98xxxx.xx.J.8x x.AJ8x.KT9xx.AQ9 AKQ.Q9x.xxx.KJxx 0.95974',\n",
       "  'QJT98xxx.8x.J.Qx x.9xx.KTxxx.AJ8x AKx.AQJx.9xx.K9x 0.95966',\n",
       "  'QJT8xxxx.Jx.xx.9 9.Q8xx.KTxx.AQxx AKx.A9x.J9x.KJ8x 0.95951',\n",
       "  'QJT8xxxx.xx.T9.Q Kx.QJ9x.xxx.A98x A9.A8x.KJxx.KJxx 0.95947',\n",
       "  'KJT98xxx.xx.x.Qx Qx.Q98x.K9xx.J9x Ax.AJx.JTxx.AK8x 0.95946',\n",
       "  'QT98xxxx.8xx..Kx Jx.Qx.Jxxxxx.AQ9 AK.AJ9x.KT9.J8xx 0.95942',\n",
       "  'QJT9xxxx.98.x.Jx AK.Qxx.KTxxx.9xx 8x.AJxx.J9x.AKQ8 0.95937',\n",
       "  'JT98xxxx.A8.x.xx Q.9xxx.T9x.AKQ8x AKx.QJx.KJxxx.J9 0.95919',\n",
       "  'QJT98xxx.x.T.J8x Ax.9xxx.Jxxx.AQx Kx.AQJ8.K9xx.K9x 0.95912',\n",
       "  'JT98xxxx.8x..KJx AQ.Qxx.J9xxxx.xx Kx.AJ9x.KTx.AQ98 0.95908',\n",
       "  'QJT9xxxx.98x.x.Q x.QJx.KJ9xx.K9xx AK8.Axx.Txx.AJ8x 0.95902',\n",
       "  'QT98xxxx.xxx.x.x J.AJx.Txxx.KQJ9x AKx.Q98.KJ9x.A8x 0.95899',\n",
       "  'QJ8xxxxx.Qx.x.98 T.9xxx.KJ9xxx.KQ AK9.AJ8.Tx.AJxxx 0.95899',\n",
       "  'T98xxxxx.J9.KT.8 J.AQx.Jxxx.QJ9xx AKQ.8xxx.9xx.AKx 0.95899',\n",
       "  'QJTxxxxx.xxx.x.Q 98.AQx.K9xx.8xxx AK.J98.JTxx.AKJ9 0.95897',\n",
       "  'JT98xxxx.xx.Jx.x Q.AQJx.KTxxx.98x AKx.98x.9x.AKQJx 0.95888',\n",
       "  'KQT98xxx.Jx.x.9x Jx.8xx.K9xx.AQxx Ax.AQ9x.JTxx.KJ8 0.95872',\n",
       "  'KT98xxxx.Q8.Jx.x x.Axx.K9xxx.QJ9x AQJ.J9xx.Tx.AK8x 0.95871',\n",
       "  'KQJT9xxx.x.Tx.8x Ax.98xx.Jxx.QJ9x 8x.AQJx.K9xx.AKx 0.95865',\n",
       "  'KJT9xxxx.Jx.x.Jx Q.8xxx.KJT9x.K9x A8x.AQ9.xxx.AQ8x 0.95849',\n",
       "  'KJT9xxxx.Jx.x.Jx A.Q9xx.JTxx.K98x Q8x.A8x.K9xx.AQx 0.95849',\n",
       "  'JT8xxxxx.x.Kxx.J K.QJ8x.9xx.K98xx AQ9.A9xx.JTx.AQx 0.95848',\n",
       "  'AJT98xxx.xx.x.J8 Kx.A8x.T9xxx.Qxx Qx.QJ9x.KJx.AK9x 0.95846',\n",
       "  'QJT8xxxx.Q.9.98x 9x.A8xx.Jxxx.KQx AK.J9xx.KTxx.AJx 0.95843',\n",
       "  'QJT98xxx.xx..QJx Ax.AJxx.J9xxx.98 Kx.Q98.KTxx.AKxx 0.95817',\n",
       "  'QJT98xxx.J8x..98 Ax.Axx.9xxx.QJxx Kx.Q9x.KJTxx.AKx 0.95811',\n",
       "  'JT98xxxx.x.xx.Qx Kx.AQxx.JT9x.J8x AQ.J98x.Kxx.AK9x 0.95799',\n",
       "  'QJT8xxxx.9xx.J.x Kx.Jx.xxxx.AKJxx A9.AQ8x.KT9x.Q98 0.95794',\n",
       "  'KQJT98xx.x.xx.xx x.Q98x.T9xx.AK9x Axx.AJxx.KJx.QJ8 0.95788',\n",
       "  'QT98xxxx.9x.xx.x Ax.J8xx.KJxx.A98 KJ.AQx.T9x.KQJxx 0.95766',\n",
       "  'QJT98xxx.xx.9.Jx x.J98x.Jxx.AKQ8x AKx.AQx.KTxxx.9x 0.95763',\n",
       "  'QJ98xxxx.x.xx.8x AT.98xx.T9x.AQJx Kx.AQJx.KJxx.K9x 0.95760',\n",
       "  'QT9xxxxx.Jxx.J.8 K8.Q8x.xxxx.AJxx AJ.A9x.KT9x.KQ9x 0.95755',\n",
       "  'QJT8xxxx.98.9x.x A9.QJxx.xx.A98xx Kx.Axx.KJTxx.KQJ 0.95754',\n",
       "  'KQJT8xxx.xx.Tx.x 9.QJ8x.9xxx.AQxx Axx.A9x.KJx.KJ98 0.95748',\n",
       "  'KQJT8xxx.xx.9.xx x.A8xx.KJxxxx.9x A9x.QJ9.Tx.AKQJ8 0.95740',\n",
       "  'KJ98xxxx.8x.9.J9 A.Qxx.KJTxx.8xxx QTx.AJ9x.xxx.AKQ 0.95733',\n",
       "  'QJ9xxxxx.Qxx.x.x KT.xx.KJTxx.Q9xx A8.AJ98.9xx.AKJ8 0.95732',\n",
       "  'KJT98xxx.8.9x.Q9 Ax.Q9xx.KTx.J8xx Qx.AJxx.Jxxx.AKx 0.95718',\n",
       "  'AQT98xxx.x.xx.8x Jx.QJ8x.KJxx.Jxx Kx.A9xx.T9x.AKQ9 0.95710',\n",
       "  'KJT98xxx.x.Jx.J9 A.Jxxx.K9xxx.Qxx Qxx.AQ98.Tx.AK8x 0.95703',\n",
       "  'QJT98xxx.J8x.x.J Ax.9x.KJxx.Q98xx Kx.AQxx.T9xx.AKx 0.95701',\n",
       "  'QJT98xxx.xx.x.QJ Kx.QJ98.T9x.K8xx Ax.Axx.KJxxx.A9x 0.95700',\n",
       "  'JT98xxxx.8xx.Kx. Ax.QJ9.T9x.K9xxx KQ.Axx.Jxxx.AQJ8 0.95700',\n",
       "  'QT8xxxxx.x.Tx.KJ A.8xxx.Kxx.Q8xxx KJ9.AQJ9.J9xx.A9 0.95699',\n",
       "  'QJT9xxxx.xx.Tx.9 A8.J98x.K9x.Axxx Kx.AQx.Jxxx.KQJ8 0.95699',\n",
       "  'QT98xxxx.x.9x.xx .Jxxx.KJxxx.AQJ8 AKJx.AQ98.Tx.K9x 0.95694',\n",
       "  'QJT9xxxx.xx.KT.x x.AJ9.Jxxxx.A98x AK8.Q8xx.9x.KQJx 0.95686',\n",
       "  'KQJTxxxx.xx.xx.x Ax.QJ8x.T9xx.K98 98.A9x.KJx.AQJxx 0.95682',\n",
       "  'JT98xxxx.Q.xx.8x x.Jxxx.J9xx.AKQx AKQ.A98x.KTx.J9x 0.95660',\n",
       "  'KQJT9xxx.9.xx.xx x.Jxxx.KJ9xx.A98 A8x.AQ8x.Tx.KQJx 0.95655',\n",
       "  'KJ9xxxxx.J.J9.8x T.Q8xx.Txxx.AQ9x AQ8.A9xx.Kxx.KJx 0.95644',\n",
       "  'AQT8xxxx.8.x.9xx 9.Jxxx.KJTx.QJ8x KJx.AQ9x.9xxx.AK 0.95642',\n",
       "  'KQJTxxxx.8x.Tx.9 9x.A9x.Jxx.KQ8xx A8.QJxx.K9xx.AJx 0.95635',\n",
       "  'QT98xxxx.9.KT.J9 Ax.Axxx.xxxx.Qxx KJ.QJ8x.J9x.AK8x 0.95628',\n",
       "  'AT98xxxx.xx.xx.Q x.AQx.KT9xx.J9xx KQJ.J98x.Jx.AK8x 0.95623'],\n",
       " 'hcp': -1,\n",
       " 'shape': -1}"
      ]
     },
     "execution_count": 7,
     "metadata": {},
     "output_type": "execute_result"
    }
   ],
   "source": [
    "# what about the opening lead? let's see...\n",
    "\n",
    "card_by_card.cards['C2'].to_dict()"
   ]
  },
  {
   "cell_type": "markdown",
   "id": "0a2a2bde",
   "metadata": {},
   "source": [
    "the engine agrees with leading a low club, but it's very close. the alternative is a low heart"
   ]
  },
  {
   "cell_type": "code",
   "execution_count": 8,
   "id": "7dcf0964",
   "metadata": {},
   "outputs": [
    {
     "data": {
      "text/plain": [
       "{'card': 'D3',\n",
       " 'candidates': [{'card': 'S7',\n",
       "   'insta_score': 0.2611,\n",
       "   'expected_tricks': 11.1,\n",
       "   'expected_score': 612},\n",
       "  {'card': 'S2',\n",
       "   'insta_score': 0.2611,\n",
       "   'expected_tricks': 11.1,\n",
       "   'expected_score': 612},\n",
       "  {'card': 'S6',\n",
       "   'insta_score': 0.2611,\n",
       "   'expected_tricks': 11.1,\n",
       "   'expected_score': 612},\n",
       "  {'card': 'S3',\n",
       "   'insta_score': 0.2611,\n",
       "   'expected_tricks': 11.1,\n",
       "   'expected_score': 612},\n",
       "  {'card': 'S8',\n",
       "   'insta_score': 0.0,\n",
       "   'expected_tricks': 11.1,\n",
       "   'expected_score': 612},\n",
       "  {'card': 'SJ',\n",
       "   'insta_score': 0.0,\n",
       "   'expected_tricks': 11.03,\n",
       "   'expected_score': 610},\n",
       "  {'card': 'SA',\n",
       "   'insta_score': 0.0,\n",
       "   'expected_tricks': 10.35,\n",
       "   'expected_score': 555},\n",
       "  {'card': 'D5',\n",
       "   'insta_score': 0.4917,\n",
       "   'expected_tricks': 10.43,\n",
       "   'expected_score': 550},\n",
       "  {'card': 'D3',\n",
       "   'insta_score': 0.4917,\n",
       "   'expected_tricks': 10.43,\n",
       "   'expected_score': 550},\n",
       "  {'card': 'D7',\n",
       "   'insta_score': 0.4917,\n",
       "   'expected_tricks': 10.43,\n",
       "   'expected_score': 550},\n",
       "  {'card': 'H6',\n",
       "   'insta_score': 0.2385,\n",
       "   'expected_tricks': 10.4,\n",
       "   'expected_score': 535},\n",
       "  {'card': 'H9',\n",
       "   'insta_score': 0.0,\n",
       "   'expected_tricks': 10.4,\n",
       "   'expected_score': 535},\n",
       "  {'card': 'HJ',\n",
       "   'insta_score': 0.0,\n",
       "   'expected_tricks': 10.4,\n",
       "   'expected_score': 535}],\n",
       " 'samples': ['K.KT8xxx.AQ8.xxx AJ8xxxx.J9x.xxx. 9x.Qxx.Txx.AJTxx QTx.A.KJ9x.KQ98x',\n",
       "  'K.xxxx.AQ8.Txxxx AJ8xxxx.J9x.xxx. 9x.KQT8x.Txx.AJx QTx.A.KJ9x.KQ98x',\n",
       "  'K9.QTxxx.xx.Jxxx AJ8xxxx.J9x.xxx. x.K8xx.AQT8.ATxx QTx.A.KJ9x.KQ98x',\n",
       "  'K.QTx.AQTx.Txxxx AJ8xxxx.J9x.xxx. 9x.K8xxxx.8x.AJx QTx.A.KJ9x.KQ98x',\n",
       "  '.Kxxxx.QT8x.Jxxx AJ8xxxx.J9x.xxx. K9x.QT8x.Ax.ATxx QTx.A.KJ9x.KQ98x',\n",
       "  '9x.KQxx.Ax.Txxxx AJ8xxxx.J9x.xxx. K.T8xxx.QT8x.AJx QTx.A.KJ9x.KQ98x',\n",
       "  'Kx.KT8xx.AQx.Jxx AJ8xxxx.J9x.xxx. 9.Qxxx.T8x.ATxxx QTx.A.KJ9x.KQ98x',\n",
       "  'K9x.Txx.AQTxx.xx AJ8xxxx.J9x.xxx. .KQ8xxx.8.AJTxxx QTx.A.KJ9x.KQ98x',\n",
       "  'x.KT8xxx.AQx.xxx AJ8xxxx.J9x.xxx. K9.Qxx.T8x.AJTxx QTx.A.KJ9x.KQ98x',\n",
       "  'x.KT8xxx.A8x.Txx AJ8xxxx.J9x.xxx. K9.Qxx.QTx.AJxxx QTx.A.KJ9x.KQ98x',\n",
       "  'Kx.KTxx.T8x.Txxx AJ8xxxx.J9x.xxx. 9.Q8xxx.AQx.AJxx QTx.A.KJ9x.KQ98x',\n",
       "  '.KQTxx.AT8x.xxxx AJ8xxxx.J9x.xxx. K9x.8xxx.Qx.AJTx QTx.A.KJ9x.KQ98x',\n",
       "  'K9.KTxx.Q8x.Jxxx AJ8xxxx.J9x.xxx. x.Q8xxx.ATx.ATxx QTx.A.KJ9x.KQ98x',\n",
       "  'K9.KQ8xx.8.Jxxxx AJ8xxxx.J9x.xxx. x.Txxx.AQTxx.ATx QTx.A.KJ9x.KQ98x',\n",
       "  'Kx.KQx.Q8.Jxxxxx AJ8xxxx.J9x.xxx. 9.T8xxxx.ATxx.AT QTx.A.KJ9x.KQ98x',\n",
       "  'K.KQ8xxx.8x.Jxxx AJ8xxxx.J9x.xxx. 9x.Txx.AQTx.ATxx QTx.A.KJ9x.KQ98x',\n",
       "  '9x.K8xx.Qx.Txxxx AJ8xxxx.J9x.xxx. K.QTxxx.AT8x.AJx QTx.A.KJ9x.KQ98x',\n",
       "  '9x.Txxx.AQx.Txxx AJ8xxxx.J9x.xxx. K.KQ8xx.T8x.AJxx QTx.A.KJ9x.KQ98x',\n",
       "  'K.K8xxx.QT8x.Txx AJ8xxxx.J9x.xxx. 9x.QTxx.Ax.AJxxx QTx.A.KJ9x.KQ98x',\n",
       "  '.QTxxx.AQTx.xxxx AJ8xxxx.J9x.xxx. K9x.K8xx.8x.AJTx QTx.A.KJ9x.KQ98x',\n",
       "  '9.QT8xx.ATxx.Txx AJ8xxxx.J9x.xxx. Kx.Kxxx.Q8.AJxxx QTx.A.KJ9x.KQ98x',\n",
       "  'K9x.KQxx.QT.Jxxx AJ8xxxx.J9x.xxx. .T8xxx.A8xx.ATxx QTx.A.KJ9x.KQ98x',\n",
       "  'Kx.QTxxx.Q8.Txxx AJ8xxxx.J9x.xxx. 9.K8xx.ATxx.AJxx QTx.A.KJ9x.KQ98x',\n",
       "  'K.KQ8xx.AQ8.Txxx AJ8xxxx.J9x.xxx. 9x.Txxx.Txx.AJxx QTx.A.KJ9x.KQ98x',\n",
       "  '9x.Qx.AQT8xx.Axx AJ8xxxx.J9x.xxx. K.KT8xxxx..JTxxx QTx.A.KJ9x.KQ98x',\n",
       "  'x.K8xxx.xx.Txxxx AJ8xxxx.J9x.xxx. K9.QTxx.AQT8.AJx QTx.A.KJ9x.KQ98x',\n",
       "  'x.xxx.AQxx.Jxxxx AJ8xxxx.J9x.xxx. K9.KQT8xx.T8.ATx QTx.A.KJ9x.KQ98x',\n",
       "  'K.KTxx.8xx.Jxxxx AJ8xxxx.J9x.xxx. 9x.Q8xxx.AQT.ATx QTx.A.KJ9x.KQ98x',\n",
       "  '9.KT8xx.AQx.xxxx AJ8xxxx.J9x.xxx. Kx.Qxxx.T8x.AJTx QTx.A.KJ9x.KQ98x',\n",
       "  'K9.Q8x.AT8.Txxxx AJ8xxxx.J9x.xxx. x.KTxxxx.Qxx.AJx QTx.A.KJ9x.KQ98x',\n",
       "  'K.Q8xx.8xx.Jxxxx AJ8xxxx.J9x.xxx. 9x.KTxxx.AQT.ATx QTx.A.KJ9x.KQ98x',\n",
       "  'K9.8xx.AQTx.Txxx AJ8xxxx.J9x.xxx. x.KQTxxx.8x.AJxx QTx.A.KJ9x.KQ98x',\n",
       "  'K9x.KTxx.Q8x.Jxx AJ8xxxx.J9x.xxx. .Q8xxx.ATx.ATxxx QTx.A.KJ9x.KQ98x',\n",
       "  'K9x.Txxx.ATx.xxx AJ8xxxx.J9x.xxx. .KQ8xx.Q8x.AJTxx QTx.A.KJ9x.KQ98x',\n",
       "  'x.K8xxx.T8x.xxxx AJ8xxxx.J9x.xxx. K9.QTxx.AQx.AJTx QTx.A.KJ9x.KQ98x',\n",
       "  '9.KQTxxx.AQT.Txx AJ8xxxx.J9x.xxx. Kx.8xx.8xx.AJxxx QTx.A.KJ9x.KQ98x',\n",
       "  'Kx.KQTxxx.Qx.xxx AJ8xxxx.J9x.xxx. 9.8xx.AT8x.AJTxx QTx.A.KJ9x.KQ98x',\n",
       "  'K.KQ8xx.Tx.xxxxx AJ8xxxx.J9x.xxx. 9x.Txxx.AQ8x.AJT QTx.A.KJ9x.KQ98x',\n",
       "  'x.Q8xx.ATx.Txxxx AJ8xxxx.J9x.xxx. K9.KTxxx.Q8x.AJx QTx.A.KJ9x.KQ98x',\n",
       "  'x.KQT8x.AQT.Jxxx AJ8xxxx.J9x.xxx. K9.xxxx.8xx.ATxx QTx.A.KJ9x.KQ98x',\n",
       "  '9.QT8xx.AQT.Txxx AJ8xxxx.J9x.xxx. Kx.Kxxx.8xx.AJxx QTx.A.KJ9x.KQ98x',\n",
       "  '9x.K8xxx.A8x.Jxx AJ8xxxx.J9x.xxx. K.QTxx.QTx.ATxxx QTx.A.KJ9x.KQ98x',\n",
       "  'Kx.T8xx.A8x.Jxxx AJ8xxxx.J9x.xxx. 9.KQxxx.QTx.ATxx QTx.A.KJ9x.KQ98x',\n",
       "  'K9.QT8xx.A8.Jxxx AJ8xxxx.J9x.xxx. x.Kxxx.QTxx.ATxx QTx.A.KJ9x.KQ98x',\n",
       "  'K.T8xxxx.Tx.xxxx AJ8xxxx.J9x.xxx. 9x.KQx.AQ8x.AJTx QTx.A.KJ9x.KQ98x',\n",
       "  'Kx.Qxxxx.ATxx.xx AJ8xxxx.J9x.xxx. 9.KT8x.Q8.AJTxxx QTx.A.KJ9x.KQ98x',\n",
       "  'Kx.KQx.Qxx.Jxxxx AJ8xxxx.J9x.xxx. 9.T8xxxx.AT8.ATx QTx.A.KJ9x.KQ98x',\n",
       "  '9x.KQ8xxx.A8.Txx AJ8xxxx.J9x.xxx. K.Txx.QTxx.AJxxx QTx.A.KJ9x.KQ98x',\n",
       "  '9.8xxx.AQx.Jxxxx AJ8xxxx.J9x.xxx. Kx.KQTxx.T8x.ATx QTx.A.KJ9x.KQ98x',\n",
       "  '9x.KT8xx.Tx.Txxx AJ8xxxx.J9x.xxx. K.Qxxx.AQ8x.AJxx QTx.A.KJ9x.KQ98x',\n",
       "  '9x.KQxxx.Q8x.xxx AJ8xxxx.J9x.xxx. K.T8xx.ATx.AJTxx QTx.A.KJ9x.KQ98x',\n",
       "  'x.QT8xx.8x.Jxxxx AJ8xxxx.J9x.xxx. K9.Kxxx.AQTx.ATx QTx.A.KJ9x.KQ98x',\n",
       "  'x.KT8x.8xx.Txxxx AJ8xxxx.J9x.xxx. K9.Qxxxx.AQT.AJx QTx.A.KJ9x.KQ98x',\n",
       "  'x.KT8x.Q8xx.Jxxx AJ8xxxx.J9x.xxx. K9.Qxxxx.AT.ATxx QTx.A.KJ9x.KQ98x',\n",
       "  '9x.8xxx.Ax.Jxxxx AJ8xxxx.J9x.xxx. K.KQTxx.QT8x.ATx QTx.A.KJ9x.KQ98x',\n",
       "  'x.T8xxx.QT8x.xxx AJ8xxxx.J9x.xxx. K9.KQxx.Ax.AJTxx QTx.A.KJ9x.KQ98x',\n",
       "  'Kx.K8xx.AQx.xxxx AJ8xxxx.J9x.xxx. 9.QTxxx.T8x.AJTx QTx.A.KJ9x.KQ98x',\n",
       "  '9.KTxx.T8xx.xxxx AJ8xxxx.J9x.xxx. Kx.Q8xxx.AQ.AJTx QTx.A.KJ9x.KQ98x',\n",
       "  'x.8xxx.xx.Jxxxxx AJ8xxxx.J9x.xxx. K9.KQTxx.AQT8.AT QTx.A.KJ9x.KQ98x',\n",
       "  'Kx.KQ8xx.T.Jxxxx AJ8xxxx.J9x.xxx. 9.Txxx.AQ8xx.ATx QTx.A.KJ9x.KQ98x',\n",
       "  'K9x.KQxx.8x.Jxxx AJ8xxxx.J9x.xxx. .T8xxx.AQTx.ATxx QTx.A.KJ9x.KQ98x',\n",
       "  'Kx.QTxx.AQT.Jxxx AJ8xxxx.J9x.xxx. 9.K8xxx.8xx.ATxx QTx.A.KJ9x.KQ98x',\n",
       "  'x.Txxx.AQ8x.Jxxx AJ8xxxx.J9x.xxx. K9.KQ8xx.Tx.ATxx QTx.A.KJ9x.KQ98x',\n",
       "  '9x.Q8xxxx.AT.xxx AJ8xxxx.J9x.xxx. K.KTx.Q8xx.AJTxx QTx.A.KJ9x.KQ98x',\n",
       "  '.xxxxx.T8xx.Axxx AJ8xxxx.J9x.xxx. K9x.KQT8.AQ.JTxx QTx.A.KJ9x.KQ98x',\n",
       "  '9x.T8xx.AQT.Jxxx AJ8xxxx.J9x.xxx. K.KQxxx.8xx.ATxx QTx.A.KJ9x.KQ98x',\n",
       "  '.KQxxx.ATx.Jxxxx AJ8xxxx.J9x.xxx. K9x.T8xx.Q8x.ATx QTx.A.KJ9x.KQ98x',\n",
       "  'Kx.QT8x.Ax.Txxxx AJ8xxxx.J9x.xxx. 9.Kxxxx.QT8x.AJx QTx.A.KJ9x.KQ98x',\n",
       "  'x.KTx.AQ8xx.Jxxx AJ8xxxx.J9x.xxx. K9.Q8xxxx.T.ATxx QTx.A.KJ9x.KQ98x',\n",
       "  '.KT8xxx.Txx.Txxx AJ8xxxx.J9x.xxx. K9x.Qxx.AQ8.AJxx QTx.A.KJ9x.KQ98x',\n",
       "  'K.KT8xxxx.x.xxxx AJ8xxxx.J9x.xxx. 9x.Qx.AQT8x.AJTx QTx.A.KJ9x.KQ98x',\n",
       "  '9x.KQx.ATx.Txxxx AJ8xxxx.J9x.xxx. K.T8xxxx.Q8x.AJx QTx.A.KJ9x.KQ98x',\n",
       "  'Kx.KQ8xx.QT8.xxx AJ8xxxx.J9x.xxx. 9.Txxx.Axx.AJTxx QTx.A.KJ9x.KQ98x',\n",
       "  'K9.KTxx.8xx.Jxxx AJ8xxxx.J9x.xxx. x.Q8xxx.AQT.ATxx QTx.A.KJ9x.KQ98x',\n",
       "  'K9.KTxxx.Ax.Jxxx AJ8xxxx.J9x.xxx. x.Q8xx.QT8x.ATxx QTx.A.KJ9x.KQ98x',\n",
       "  '9x.Txxx.AT8x.Jxx AJ8xxxx.J9x.xxx. K.KQ8xx.Qx.ATxxx QTx.A.KJ9x.KQ98x',\n",
       "  'Kx.KQT8xx.Tx.Jxx AJ8xxxx.J9x.xxx. 9.xxx.AQ8x.ATxxx QTx.A.KJ9x.KQ98x',\n",
       "  'x.KT8xx.8xx.Txxx AJ8xxxx.J9x.xxx. K9.Qxxx.AQT.AJxx QTx.A.KJ9x.KQ98x',\n",
       "  'Kx.T8xxxx.T.xxxx AJ8xxxx.J9x.xxx. 9.KQx.AQ8xx.AJTx QTx.A.KJ9x.KQ98x',\n",
       "  'K9x.8xx.Tx.Jxxxx AJ8xxxx.J9x.xxx. .KQTxxx.AQ8x.ATx QTx.A.KJ9x.KQ98x',\n",
       "  'Kx.QTxx.T8xx.xxx AJ8xxxx.J9x.xxx. 9.K8xxx.AQ.AJTxx QTx.A.KJ9x.KQ98x',\n",
       "  '9x.KQ8xx.T8x.Jxx AJ8xxxx.J9x.xxx. K.Txxx.AQx.ATxxx QTx.A.KJ9x.KQ98x',\n",
       "  'Kx.Qxxx.AT.Jxxxx AJ8xxxx.J9x.xxx. 9.KT8xx.Q8xx.ATx QTx.A.KJ9x.KQ98x',\n",
       "  'x.KT8xx.AQT.xxxx AJ8xxxx.J9x.xxx. K9.Qxxx.8xx.AJTx QTx.A.KJ9x.KQ98x',\n",
       "  '9x.KQxx.A8x.xxxx AJ8xxxx.J9x.xxx. K.T8xxx.QTx.AJTx QTx.A.KJ9x.KQ98x',\n",
       "  'K.KT8xx.QTxx.Jxx AJ8xxxx.J9x.xxx. 9x.Qxxx.A8.ATxxx QTx.A.KJ9x.KQ98x',\n",
       "  'K9x.Kxxxx.Qx.xxx AJ8xxxx.J9x.xxx. .QT8x.AT8x.AJTxx QTx.A.KJ9x.KQ98x',\n",
       "  'Kx.KQx.QTx.Jxxxx AJ8xxxx.J9x.xxx. 9.T8xxxx.A8x.ATx QTx.A.KJ9x.KQ98x',\n",
       "  '9x.KT8x.Q8x.Txxx AJ8xxxx.J9x.xxx. K.Qxxxx.ATx.AJxx QTx.A.KJ9x.KQ98x',\n",
       "  'K.KQxxx.Q8.Jxxxx AJ8xxxx.J9x.xxx. 9x.T8xx.ATxx.ATx QTx.A.KJ9x.KQ98x',\n",
       "  'K9.KTxx.Qxx.Txxx AJ8xxxx.J9x.xxx. x.Q8xxx.AT8.AJxx QTx.A.KJ9x.KQ98x',\n",
       "  'x.K8xx.A8xx.Jxxx AJ8xxxx.J9x.xxx. K9.QTxxx.QT.ATxx QTx.A.KJ9x.KQ98x',\n",
       "  '.KQxxx.A8x.Txxxx AJ8xxxx.J9x.xxx. K9x.T8xx.QTx.AJx QTx.A.KJ9x.KQ98x',\n",
       "  'Kx.KQxx.Qx.xxxxx AJ8xxxx.J9x.xxx. 9.T8xxx.AT8x.AJT QTx.A.KJ9x.KQ98x',\n",
       "  '9.K8xx.AQT8x.Jxx AJ8xxxx.J9x.xxx. Kx.QTxxx.x.ATxxx QTx.A.KJ9x.KQ98x',\n",
       "  'Kx.Txxx.QT8.Txxx AJ8xxxx.J9x.xxx. 9.KQ8xx.Axx.AJxx QTx.A.KJ9x.KQ98x',\n",
       "  'Kx.T8xxx.ATx.Jxx AJ8xxxx.J9x.xxx. 9.KQxx.Q8x.ATxxx QTx.A.KJ9x.KQ98x',\n",
       "  '9x.KQxxx.QT8.Jxx AJ8xxxx.J9x.xxx. K.T8xx.Axx.ATxxx QTx.A.KJ9x.KQ98x',\n",
       "  'K9x.T8xxx.A.Jxxx AJ8xxxx.J9x.xxx. .KQxx.QT8xx.ATxx QTx.A.KJ9x.KQ98x',\n",
       "  '9.K8xxxx.ATx.Txx AJ8xxxx.J9x.xxx. Kx.QTx.Q8x.AJxxx QTx.A.KJ9x.KQ98x'],\n",
       " 'hcp': [8.4, 9.3],\n",
       " 'shape': [[2.0, 3.4, 3.3, 4.2], [2.1, 3.3, 3.4, 4.2]]}"
      ]
     },
     "execution_count": 8,
     "metadata": {},
     "output_type": "execute_result"
    }
   ],
   "source": [
    "# the engine considers dummy's discard of D3 on the first trick a big mistake.\n",
    "# perhaps we should ruff instead, let's see what the engine suggests\n",
    "\n",
    "card_by_card.cards['D3'].to_dict()"
   ]
  },
  {
   "cell_type": "markdown",
   "id": "d6dcab82",
   "metadata": {},
   "source": [
    "indeed, the best play is to ruff low.\n",
    "\n",
    "looking at the samples, we see that East has the `CA` in every sample (this is by inference because underleading an A is very unlikely)"
   ]
  },
  {
   "cell_type": "markdown",
   "id": "994e8878",
   "metadata": {},
   "source": [
    "## Analyzing a board played on BBO"
   ]
  },
  {
   "cell_type": "code",
   "execution_count": 9,
   "id": "cdd0edee",
   "metadata": {},
   "outputs": [],
   "source": [
    "# copy-paste from the hand records (in lin format)\n",
    "\n",
    "lin = 'pn|You,~~M7228oka,~~M72302cm,~~M72316sq|st||md|1S4TKHJD68QC679TKA,S35H479TQKD24TAC8,S2789H3AD379JKC35,|rh||ah|Board 3|sv|e|mb|1C|an|Minor suit opening -- 3+ !C; 11-21 HCP; 12-22 total points|mb|2H|an|Aggressive weak jump overcall -- 6+ !H; 4-10 HCP |mb|d|an|Negative double -- 4+ !S; 7+ HCP; 8+ total points |mb|4H|an|The Law: 10 trump -> game support -- 4+ total points |mb|4S|an|3+ !C; 4+ !S; 16-21 HCP; 17-22 total points|mb|p|mb|p|mb|p|pg||pc|DA|pc|D3|pc|D5|pc|D6|pg||pc|C8|pc|C3|pc|CJ|pc|CA|pg||pc|S4|pc|S5|pc|S8|pc|SJ|pg||pc|H5|pc|HJ|pc|HQ|pc|HA|pg||pc|S2|pc|SA|pc|ST|pc|S3|pg||pc|H2|pc|SK|pc|H4|pc|H3|pg||pc|D8|pc|D2|pc|DJ|pc|S6|pg||pc|SQ|pc|C6|pc|H7|pc|S7|pg||pc|H8|pc|C7|pc|HK|pc|S9|pg||pc|C5|pc|C2|pc|CT|pc|HT|pg||pc|CK|pc|H9|pc|D7|pc|C4|pg||pc|DQ|pc|D4|pc|DK|pc|H6|pg||pc|D9|pc|CQ|pc|C9|pc|DT|pg||'"
   ]
  },
  {
   "cell_type": "code",
   "execution_count": 10,
   "id": "86ccd5f5",
   "metadata": {},
   "outputs": [
    {
     "data": {
      "text/html": [
       "<iframe width=\"800\" height=\"600\" src=\"http://bridgebase.com/tools/handviewer.html?lin=pn|You,~~M7228oka,~~M72302cm,~~M72316sq|st||md|1S4TKHJD68QC679TKA,S35H479TQKD24TAC8,S2789H3AD379JKC35,|rh||ah|Board 3|sv|e|mb|1C|an|Minor suit opening -- 3+ !C; 11-21 HCP; 12-22 total points|mb|2H|an|Aggressive weak jump overcall -- 6+ !H; 4-10 HCP |mb|d|an|Negative double -- 4+ !S; 7+ HCP; 8+ total points |mb|4H|an|The Law: 10 trump -> game support -- 4+ total points |mb|4S|an|3+ !C; 4+ !S; 16-21 HCP; 17-22 total points|mb|p|mb|p|mb|p|pg||pc|DA|pc|D3|pc|D5|pc|D6|pg||pc|C8|pc|C3|pc|CJ|pc|CA|pg||pc|S4|pc|S5|pc|S8|pc|SJ|pg||pc|H5|pc|HJ|pc|HQ|pc|HA|pg||pc|S2|pc|SA|pc|ST|pc|S3|pg||pc|H2|pc|SK|pc|H4|pc|H3|pg||pc|D8|pc|D2|pc|DJ|pc|S6|pg||pc|SQ|pc|C6|pc|H7|pc|S7|pg||pc|H8|pc|C7|pc|HK|pc|S9|pg||pc|C5|pc|C2|pc|CT|pc|HT|pg||pc|CK|pc|H9|pc|D7|pc|C4|pg||pc|DQ|pc|D4|pc|DK|pc|H6|pg||pc|D9|pc|CQ|pc|C9|pc|DT|pg||\" />"
      ],
      "text/plain": [
       "<IPython.core.display.HTML object>"
      ]
     },
     "execution_count": 10,
     "metadata": {},
     "output_type": "execute_result"
    }
   ],
   "source": [
    "display_lin(lin)"
   ]
  },
  {
   "cell_type": "code",
   "execution_count": 11,
   "id": "8fa74a29",
   "metadata": {},
   "outputs": [],
   "source": [
    "board = parse_lin(lin)"
   ]
  },
  {
   "cell_type": "code",
   "execution_count": 12,
   "id": "fb875929",
   "metadata": {},
   "outputs": [
    {
     "ename": "TypeError",
     "evalue": "CardByCard.__init__() takes 9 positional arguments but 11 were given",
     "output_type": "error",
     "traceback": [
      "\u001b[1;31m---------------------------------------------------------------------------\u001b[0m",
      "\u001b[1;31mTypeError\u001b[0m                                 Traceback (most recent call last)",
      "\u001b[1;32md:\\github\\ben\\src\\examples\\CardByCardAnalysis.ipynb Cell 17\u001b[0m line \u001b[0;36m1\n\u001b[1;32m----> <a href='vscode-notebook-cell:/d%3A/github/ben/src/examples/CardByCardAnalysis.ipynb#X22sZmlsZQ%3D%3D?line=0'>1</a>\u001b[0m card_by_card \u001b[39m=\u001b[39m CardByCard(\u001b[39m*\u001b[39;49mboard, models, \u001b[39m-\u001b[39;49m\u001b[39m1\u001b[39;49m, \u001b[39m-\u001b[39;49m\u001b[39m1\u001b[39;49m, sampler, \u001b[39mFalse\u001b[39;49;00m)\n",
      "\u001b[1;31mTypeError\u001b[0m: CardByCard.__init__() takes 9 positional arguments but 11 were given"
     ]
    }
   ],
   "source": [
    "card_by_card = CardByCard(*board, models, -1, -1, sampler, False)"
   ]
  },
  {
   "cell_type": "code",
   "execution_count": null,
   "id": "49c15172",
   "metadata": {},
   "outputs": [],
   "source": [
    "card_by_card.analyze()"
   ]
  },
  {
   "cell_type": "markdown",
   "id": "bf465259",
   "metadata": {},
   "source": [
    "the engine agrees with the bidding, but didn't like something in the cardplay.\n",
    "\n",
    "playing `S4` from hand is the first mistake. apparently this play drops almost half a trick on average."
   ]
  },
  {
   "cell_type": "code",
   "execution_count": null,
   "id": "d79d9389",
   "metadata": {},
   "outputs": [],
   "source": [
    "card_by_card.cards['S4'].to_dict()"
   ]
  },
  {
   "cell_type": "markdown",
   "id": "760b7b2f",
   "metadata": {},
   "source": [
    "the opening lead of `DA` is interesting. the engine prefers the `HK` and it's the only card it considers."
   ]
  },
  {
   "cell_type": "code",
   "execution_count": null,
   "id": "00c728a0",
   "metadata": {},
   "outputs": [],
   "source": [
    "card_by_card.cards['DA'].to_dict()"
   ]
  },
  {
   "cell_type": "code",
   "execution_count": null,
   "id": "e55103f4",
   "metadata": {},
   "outputs": [],
   "source": []
  }
 ],
 "metadata": {
  "kernelspec": {
   "display_name": "Python 3 (ipykernel)",
   "language": "python",
   "name": "python3"
  },
  "language_info": {
   "codemirror_mode": {
    "name": "ipython",
    "version": 3
   },
   "file_extension": ".py",
   "mimetype": "text/x-python",
   "name": "python",
   "nbconvert_exporter": "python",
   "pygments_lexer": "ipython3",
   "version": "3.11.0"
  }
 },
 "nbformat": 4,
 "nbformat_minor": 5
}
