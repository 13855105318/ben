{
 "cells": [
  {
   "cell_type": "markdown",
   "id": "21a4c878",
   "metadata": {},
   "source": [
    "# Detailed Analysis (Bid by Bid, Card by Card)\n",
    "\n",
    "This is a tutorial of how to do a detailed analysis of a played board.\n",
    "\n",
    "The engine looks at the bidding and play as it originally happened, and does an analysis for every bid and every card played.\n",
    "\n",
    "The analysis is not just a double-dummy analysis for the exact current layout (like if you would press the \"GIB\" button on BBO). Instead, it's an analysis over many different possible layouts (samples)."
   ]
  },
  {
   "cell_type": "code",
   "execution_count": 1,
   "id": "16f73f71",
   "metadata": {},
   "outputs": [],
   "source": [
    "import os\n",
    "os.chdir('..')\n",
    "\n",
    "from nn.models import Models\n",
    "from analysis import CardByCard\n",
    "from util import parse_lin, display_lin\n",
    "from sample import Sample\n",
    "import conf"
   ]
  },
  {
   "cell_type": "code",
   "execution_count": 2,
   "id": "ca7fa897",
   "metadata": {},
   "outputs": [
    {
     "name": "stdout",
     "output_type": "stream",
     "text": [
      "WARNING:tensorflow:From c:\\Python311\\Lib\\site-packages\\tensorflow\\python\\compat\\v2_compat.py:107: disable_resource_variables (from tensorflow.python.ops.variable_scope) is deprecated and will be removed in a future version.\n",
      "Instructions for updating:\n",
      "non-resource variables are not supported in the long term\n",
      "INFO:tensorflow:Restoring parameters from ..\\models/muppet/512/bidding_V2-1100000\n",
      "INFO:tensorflow:Restoring parameters from ..\\models/contract/contract-193200\n",
      "INFO:tensorflow:Restoring parameters from ..\\models/muppet/binfo_V2-1128000\n",
      "INFO:tensorflow:Restoring parameters from ..\\UCBC 2024/Models/lead_suit-999000\n",
      "INFO:tensorflow:Restoring parameters from ..\\UCBC 2024/Models/lead_nt-475000\n",
      "INFO:tensorflow:Restoring parameters from ..\\models/lr3_model/lr3-1000000\n",
      "INFO:tensorflow:Restoring parameters from ..\\models/single_dummy/single_dummy-32768000\n",
      "INFO:tensorflow:Restoring parameters from ..\\models/playing/lefty_nt-475000\n",
      "INFO:tensorflow:Restoring parameters from ..\\models/playing/dummy_nt-475000\n",
      "INFO:tensorflow:Restoring parameters from ..\\models/playing/righty_nt-475000\n",
      "INFO:tensorflow:Restoring parameters from ..\\models/playing/decl_nt-475000\n",
      "INFO:tensorflow:Restoring parameters from ..\\models/playing/lefty_suit-999000\n",
      "INFO:tensorflow:Restoring parameters from ..\\models/playing/dummy_suit-999000\n",
      "INFO:tensorflow:Restoring parameters from ..\\models/playing/righty_suit-999000\n",
      "INFO:tensorflow:Restoring parameters from ..\\models/playing/decl_suit-999000\n"
     ]
    }
   ],
   "source": [
    "models = Models.from_conf(conf.load('./config/default.conf'),'..')   # loading neural networks\n",
    "sampler = Sample.from_conf(conf.load('./config/default.conf'))  # Load sampling strategies\n",
    "# For some strange reason PIMC is crashing the second time it is called from Jupyter\n",
    "models.pimc_use_declaring = False\n",
    "models.pimc_use_defending = False"
   ]
  },
  {
   "cell_type": "code",
   "execution_count": 3,
   "id": "2940c18a",
   "metadata": {},
   "outputs": [],
   "source": [
    "# we specify all the information about a board\n",
    "# (it's quite tedious to enter every single thing by hand here,\n",
    "# later we'll have an example of how you can give it a board played on BBO)\n",
    "\n",
    "dealer = 'S'\n",
    "vuln = [True, True]  # fist element is NS, second element is EW\n",
    "\n",
    "hands = [\n",
    "    'AJ87632.J96.753.',\n",
    "    'K9.Q8542.T6.AJ74',\n",
    "    'QT4.A.KJ94.KQ986',\n",
    "    '5.KT73.AQ82.T532'\n",
    "]\n",
    "\n",
    "auction = ['1N', 'PASS', '4H', 'PASS', '4S', 'PASS', 'PASS', 'PASS']\n",
    "\n",
    "play = ['C2', 'D3', 'CA', 'C6', 'D6', 'DJ', 'DQ', 'D5', 'DA', 'D7', 'DT', 'D4', 'D8', 'H6', 'H2', 'D9', 'SQ', 'S5', 'S2', 'SK', 'H4', 'HA', 'H7', 'H9', 'S4', 'C3', 'SA', 'S9', 'S3', 'C4', 'ST', 'H3', 'CK', 'C5', 'HJ', 'C7', 'C8', 'CT', 'S6', 'CJ', 'S7', 'H8', 'C9', 'D2', 'S8', 'H5', 'CQ', 'HT', 'SJ', 'HQ', 'DK', 'HK']"
   ]
  },
  {
   "cell_type": "code",
   "execution_count": 4,
   "id": "79dae473",
   "metadata": {},
   "outputs": [],
   "source": [
    "card_by_card = CardByCard(dealer, vuln, hands, auction, play, models, sampler, False)"
   ]
  },
  {
   "cell_type": "code",
   "execution_count": 5,
   "id": "7ab0cce5",
   "metadata": {},
   "outputs": [
    {
     "name": "stdout",
     "output_type": "stream",
     "text": [
      "analyzing the bidding\n",
      "1N Suggested bid from NN: CandidateBid(bid=1C  , insta_score=0.9826, expected_score=---, expected_tricks=---, adjust=---, alert=  )\n",
      "1N NN-values:CandidateBid(bid=1N  , insta_score=0.0170, expected_score=---, expected_tricks=---, adjust=---, alert=  )\n",
      "PASS OK NN-value: 1.000\n",
      "4H OK NN-value: 0.996\n"
     ]
    },
    {
     "name": "stderr",
     "output_type": "stream",
     "text": [
      "Loaded lib dds.dll\n"
     ]
    },
    {
     "name": "stdout",
     "output_type": "stream",
     "text": [
      "PASS OK NN-value: 0.926\n",
      "4S OK NN-value: 0.999\n",
      "PASS OK NN-value: 1.000\n",
      "PASS OK NN-value: 1.000\n",
      "PASS OK NN-value: 1.000\n",
      "analyzing opening lead\n",
      "C2\n",
      "C2 OK\n",
      "analyzing play\n",
      "play_card\n",
      "8\n",
      "D3 ? losing: 0.26\n",
      "play_card\n",
      "49\n",
      "CA ?? losing: 0.73\n",
      "play_card\n",
      "47\n",
      "C6 OK\n",
      "play_card\n",
      "21\n",
      "D6 OK\n",
      "play_card\n",
      "23\n",
      "DJ OK\n",
      "play_card\n",
      "13\n",
      "DQ OK\n",
      "play_card\n",
      "24\n",
      "D5 OK\n",
      "play_card\n",
      "40\n",
      "DA OK\n",
      "play_card\n",
      "50\n",
      "D7 OK\n",
      "play_card\n",
      "12\n",
      "DT OK\n",
      "play_card\n",
      "46\n",
      "D4 OK\n",
      "play_card\n",
      "18\n",
      "D8 OK\n",
      "play_card\n",
      "25\n",
      "H6 OK\n",
      "play_card\n",
      "4\n",
      "H2 OK\n",
      "play_card\n",
      "20\n",
      "D9 OK\n",
      "play_card\n",
      "45\n",
      "SQ ? losing: 0.18\n",
      "play_card\n",
      "48\n",
      "S5 OK\n",
      "play_card\n",
      "11\n",
      "S2 OK\n",
      "play_card\n",
      "42\n",
      "SK OK\n",
      "play_card\n",
      "16\n",
      "H4 OK\n",
      "play_card\n",
      "15\n",
      "HA OK\n",
      "play_card\n",
      "10\n",
      "H7 OK\n",
      "play_card\n",
      "17\n",
      "H9 OK\n",
      "play_card\n",
      "44\n",
      "S4 OK\n",
      "play_card\n",
      "43\n",
      "C3 OK\n",
      "play_card\n",
      "7\n",
      "SA ?? losing: 0.91\n",
      "play_card\n",
      "39\n",
      "S9 OK\n",
      "play_card\n",
      "37\n",
      "S3 OK\n",
      "play_card\n",
      "30\n",
      "C4 OK\n",
      "play_card\n",
      "29\n",
      "ST OK\n",
      "play_card\n",
      "28\n",
      "H3 OK\n",
      "play_card\n",
      "9\n",
      "CK OK\n",
      "play_card\n",
      "0\n",
      "C5 OK\n",
      "play_card\n",
      "5\n",
      "HJ OK\n",
      "play_card\n",
      "2\n",
      "C7 OK\n",
      "play_card\n",
      "35\n",
      "C8 OK\n",
      "play_card\n",
      "34\n",
      "CT OK\n",
      "play_card\n",
      "27\n",
      "S6 OK\n",
      "play_card\n",
      "26\n",
      "CJ OK\n",
      "play_card\n",
      "32\n",
      "S7 OK\n",
      "play_card\n",
      "33\n",
      "H8 OK\n",
      "play_card\n",
      "22\n",
      "C9 OK\n",
      "play_card\n",
      "31\n",
      "D2 OK\n",
      "play_card\n",
      "41\n",
      "S8 OK\n",
      "play_card\n",
      "38\n",
      "H5 OK\n",
      "play_card\n",
      "6\n",
      "CQ OK\n",
      "play_card\n",
      "1\n",
      "HT OK\n"
     ]
    }
   ],
   "source": [
    "# calling this starts the analysis\n",
    "# it will go bid-by-bid and card-by-card, and will take a few moments\n",
    "# possible mistakes will be annotated with ? or with ?? (if it's a bigger mistake)\n",
    "# (possible mistake means that the engine does not agree with the bid/play. the engine could be wrong too :))\n",
    "\n",
    "await card_by_card.analyze()"
   ]
  },
  {
   "cell_type": "code",
   "execution_count": 6,
   "id": "73be8e31",
   "metadata": {},
   "outputs": [
    {
     "data": {
      "text/plain": [
       "{'bid': '1N',\n",
       " 'who': 'Analysis',\n",
       " 'quality': 'Good',\n",
       " 'candidates': [{'call': '1C', 'insta_score': 0.983},\n",
       "  {'call': '1N', 'insta_score': 0.017}],\n",
       " 'samples': ['A98x.Q9xxx.Q8.Ax Jxxx.KJTx.xxx.xx QTx.A.KJ9x.KQ98x Kx.8xx.ATxx.JTxx 0.75000',\n",
       "  '98xx.Q8xx.Tx.AJx xx.KT9xx.AQxx.xx QTx.A.KJ9x.KQ98x AKJx.Jxx.8xx.Txx 0.75000',\n",
       "  'K8xx.QTxxx..ATxx 9xx.Kxx.Axxx.Jxx QTx.A.KJ9x.KQ98x AJx.J98x.QT8xx.x 0.75000',\n",
       "  '9x.KQJ8xx.8x.Jxx K8x.Txx.Txxx.Axx QTx.A.KJ9x.KQ98x AJxxx.9xx.AQx.Tx 0.75000',\n",
       "  'AJxx.KQJ8x.Tx.Jx K8xx.9.Q8xxx.Txx QTx.A.KJ9x.KQ98x 9x.Txxxxx.Ax.Axx 0.75000',\n",
       "  'AKJx.KJT8x.xx.xx 9x.Q9xxx.T8xx.AJ QTx.A.KJ9x.KQ98x 8xxx.xx.AQx.Txxx 0.75000',\n",
       "  'J8x.K8xxx.x.Txxx AK9x.9xx.Txx.AJx QTx.A.KJ9x.KQ98x xxx.QJTx.AQ8xx.x 0.75000',\n",
       "  '9xxx.K9xx.Qx.Jxx 8x.QJxx.T8xx.ATx QTx.A.KJ9x.KQ98x AKJx.T8xx.Axx.xx 0.75000',\n",
       "  'KJ8xx.T8.xx.JTxx Axx.9xxx.AT8x.xx QTx.A.KJ9x.KQ98x 9x.KQJxxx.Qxx.Ax 0.75000',\n",
       "  '8x.K8xx.A8xx.xxx AJ9xx.QTxxx.Qx.A QTx.A.KJ9x.KQ98x Kxx.J9x.Txx.JTxx 0.75000',\n",
       "  'Axx.xxx.AQ8.Jxxx Jxx.QT98x.Txxx.T QTx.A.KJ9x.KQ98x K98x.KJxx.xx.Axx 0.75000',\n",
       "  'A8xx.Txx.Qxx.xxx xx.J8xxx.Ax.AJxx QTx.A.KJ9x.KQ98x KJ9x.KQ9x.T8xx.T 0.75000',\n",
       "  'K98.KQJxx.Ax.Txx Axxx.8xx.T8xx.Jx QTx.A.KJ9x.KQ98x Jxx.T9xx.Qxx.Axx 0.75000',\n",
       "  'AJxx.Q8x.AQT.AJx 98.KJxx.xxxx.Txx QTx.A.KJ9x.KQ98x Kxxx.T9xxx.8x.xx 0.75000',\n",
       "  'KJx.Txx.AQ8xx.Tx A9x.KQ9xx.x.Jxxx QTx.A.KJ9x.KQ98x 8xxx.J8xx.Txx.Ax 0.75000',\n",
       "  '8xx.K8xx.8x.AJxx xx.Jxxx.AQTx.xxx QTx.A.KJ9x.KQ98x AKJ9x.QT9x.xxx.T 0.75000',\n",
       "  'Axx.QJxx.Q8xx.xx KJxx.Txxx.xx.Axx QTx.A.KJ9x.KQ98x 98x.K98x.ATx.JTx 0.75000',\n",
       "  'Kxxx.98xxx.xxx.A 8x.QTxx.ATx.Jxxx QTx.A.KJ9x.KQ98x AJ9x.KJx.Q8x.Txx 0.75000',\n",
       "  'K8xx.xxx.AQxx.Jx xx.KJ98x.x.Axxxx QTx.A.KJ9x.KQ98x AJ9x.QTxx.T8xx.T 0.75000',\n",
       "  'KJ.8xx.AT8.Jxxxx 9xxx.KQxx.Qxx.Ax QTx.A.KJ9x.KQ98x A8xx.JT9xx.xxx.T 0.75000'],\n",
       " 'hcp': [3.2, 4.0, 2.9, 2.8, 3.2, 3.9, 3.0, 2.8, 3.2, 3.9, 3.0, 2.9],\n",
       " 'shape': [8.2, 8.2, 8.3]}"
      ]
     },
     "execution_count": 6,
     "metadata": {},
     "output_type": "execute_result"
    }
   ],
   "source": [
    "# the engine does not agree with the 1N opening.\n",
    "# indeed, it's a little offbeat with a singleton\n",
    "# let's see what the engine is thinking (what would it bid instead)\n",
    "\n",
    "card_by_card.bid_responses[0].to_dict()  # the 0 index is the first bid in the auction"
   ]
  },
  {
   "cell_type": "markdown",
   "id": "186f6cff",
   "metadata": {},
   "source": [
    "the engine very confidently opens `1C` and doesn't even consider `1N`"
   ]
  },
  {
   "cell_type": "code",
   "execution_count": 7,
   "id": "573b5939",
   "metadata": {},
   "outputs": [
    {
     "data": {
      "text/plain": [
       "{'card': 'C2',\n",
       " 'who': '',\n",
       " 'quality': 'Good',\n",
       " 'hcp': [6.3, 2.1, 2.3, 2.2, 2.8, 3.2, 3.5, 3.5, 2.9, 3.4, 3.3, 3.3],\n",
       " 'shape': [8.5, 7.3, 15.3],\n",
       " 'candidates': [{'card': 'Sx',\n",
       "   'insta_score': 0.487,\n",
       "   'expected_tricks_sd': 10.26,\n",
       "   'p_make_contract': 0.23,\n",
       "   'expected_score_sd': -469},\n",
       "  {'card': 'Cx',\n",
       "   'insta_score': 0.3,\n",
       "   'expected_tricks_sd': 10.29,\n",
       "   'p_make_contract': 0.22,\n",
       "   'expected_score_sd': -474},\n",
       "  {'card': 'Hx',\n",
       "   'insta_score': 0.144,\n",
       "   'expected_tricks_sd': 10.5,\n",
       "   'p_make_contract': 0.2,\n",
       "   'expected_score_sd': -490},\n",
       "  {'card': 'DA',\n",
       "   'insta_score': 0.052,\n",
       "   'expected_tricks_sd': 10.45,\n",
       "   'p_make_contract': 0.13,\n",
       "   'expected_score_sd': -542}],\n",
       " 'samples': ['x.KTxx.AQ8x.Txxx AQJ98x.Q9xx.Tx.x xx.J8x.KJxx.J9xx KTxx.Ax.9xx.AKQ8 0.74819',\n",
       "  'x.KTxx.AQ8x.Txxx AKTxxx.xx.J9x.xx J9x.Q9x.KTx.J98x Q8x.AJ8x.xxx.AKQ 0.74992',\n",
       "  'x.KTxx.AQ8x.Txxx KJ9xxx.AQx.Jxx.x QT8x.xxx.T9x.QJ9 Ax.J98.Kxx.AK8xx 0.71315',\n",
       "  'x.KTxx.AQ8x.Txxx KQJ9xx.J9x.KJ.Jx xx.Q8xx.9xxx.Q9x AT8x.Ax.Txx.AK8x 0.74510',\n",
       "  'x.KTxx.AQ8x.Txxx AJ8xxx.J8x.K9.QJ QT9.9xx.JTxx.8xx Kxx.AQx.xxx.AK9x 0.74262',\n",
       "  'x.KTxx.AQ8x.Txxx A8xxxx.J8.x.K9xx JTx.Q9x.JTxx.A8x KQ9.Axxx.K9xx.QJ 0.74995',\n",
       "  'x.KTxx.AQ8x.Txxx JT8xxxx.x.xx.KQ9 Q9.QJ8x.KJTx.J8x AKx.A9xx.9xx.Axx 0.73615',\n",
       "  'x.KTxx.AQ8x.Txxx AK98xxx.98.Tx.9x Qxx.xxxx.KJx.Jxx JT.AQJ.9xxx.AKQ8 0.74974',\n",
       "  'x.KTxx.AQ8x.Txxx T9xxxx.AQ9x.Jx.8 AQ8.xx.Txx.K9xxx KJx.J8x.K9xx.AQJ 0.74613',\n",
       "  'x.KTxx.AQ8x.Txxx KJT8xxxx.9x.x.Q9 Qx.J8xx.K9xx.Axx A9.AQx.JTxx.KJ8x 0.73958',\n",
       "  'x.KTxx.AQ8x.Txxx AJ9xxx.9.JTxx.AJ Qx.J8xxx.x.Q8xxx KT8x.AQx.K9xx.K9 0.71423',\n",
       "  'x.KTxx.AQ8x.Txxx KQT98x.Q.9x.QJ98 Jx.J98xx.Kxxx.xx Axxx.Axx.JTx.AKx 0.74971',\n",
       "  'x.KTxx.AQ8x.Txxx AT98xxx.J.xx.Q9x QJx.A8xxx.Txx.8x Kx.Q9x.KJ9x.AKJx 0.73532',\n",
       "  'x.KTxx.AQ8x.Txxx AQJ9xx.x.Txx.Q9x xx.J98xx.Jxx.KJx KT8x.AQx.K9x.A8x 0.74967',\n",
       "  'x.KTxx.AQ8x.Txxx J8xxxx.Ax.T.K98x KT9.9xxx.KJxxx.J AQx.QJ8.9xx.AQxx 0.74992',\n",
       "  'x.KTxx.AQ8x.Txxx AT9xxxx.9.K9xx.x J8.J8x.xx.KQJ8xx KQx.AQxxx.JTx.A9 0.74926',\n",
       "  'x.KTxx.AQ8x.Txxx QT8xxx.8xx.K9x.K AJx.QJxx.xxx.98x K9x.A9.JTx.AQJxx 0.74408',\n",
       "  'x.KTxx.AQ8x.Txxx KJTxxx.9x.Kxx.Kx xx.QJ8x.J9x.J9xx AQ98.Axx.Txx.AQ8 0.74748',\n",
       "  'x.KTxx.AQ8x.Txxx QJT9xx.8xx.K9.Q8 8xx.QJx.Jxxx.Axx AKx.A9x.Txx.KJ9x 0.74489',\n",
       "  'x.KTxx.AQ8x.Txxx KQJ98x.x.9xx.K8x xxxx.J9x.xxx.AJx AT.AQ8xx.KJT.Q9x 0.74983']}"
      ]
     },
     "execution_count": 7,
     "metadata": {},
     "output_type": "execute_result"
    }
   ],
   "source": [
    "# what about the opening lead? let's see...\n",
    "\n",
    "card_by_card.cards['C2'].to_dict()"
   ]
  },
  {
   "cell_type": "markdown",
   "id": "0a2a2bde",
   "metadata": {},
   "source": [
    "the engine agrees with leading a low club, but it's very close. the alternative is a low heart"
   ]
  },
  {
   "cell_type": "code",
   "execution_count": 8,
   "id": "7dcf0964",
   "metadata": {},
   "outputs": [
    {
     "data": {
      "text/plain": [
       "{'card': 'S6',\n",
       " 'who': 'NN-Make',\n",
       " 'quality': 'Good',\n",
       " 'hcp': [9.1, 8.8],\n",
       " 'shape': [2.1, 3.2, 3.3, 4.3, 2.0, 3.2, 3.4, 4.3],\n",
       " 'candidates': [{'card': 'S6',\n",
       "   'insta_score': 0.61,\n",
       "   'expected_tricks_dd': 11.26,\n",
       "   'p_make_contract': 0.98,\n",
       "   'expected_score_dd': 649},\n",
       "  {'card': 'S2',\n",
       "   'insta_score': 0.61,\n",
       "   'expected_tricks_dd': 11.26,\n",
       "   'p_make_contract': 0.98,\n",
       "   'expected_score_dd': 649},\n",
       "  {'card': 'S3',\n",
       "   'insta_score': 0.61,\n",
       "   'expected_tricks_dd': 11.26,\n",
       "   'p_make_contract': 0.98,\n",
       "   'expected_score_dd': 649},\n",
       "  {'card': 'S7',\n",
       "   'insta_score': 0.61,\n",
       "   'expected_tricks_dd': 11.26,\n",
       "   'p_make_contract': 0.98,\n",
       "   'expected_score_dd': 649},\n",
       "  {'card': 'S8',\n",
       "   'insta_score': 0.03,\n",
       "   'expected_tricks_dd': 11.26,\n",
       "   'p_make_contract': 0.98,\n",
       "   'expected_score_dd': 649},\n",
       "  {'card': 'SJ',\n",
       "   'insta_score': 0.01,\n",
       "   'expected_tricks_dd': 11.15,\n",
       "   'p_make_contract': 0.98,\n",
       "   'expected_score_dd': 641},\n",
       "  {'card': 'D3',\n",
       "   'insta_score': 0.18,\n",
       "   'expected_tricks_dd': 10.99,\n",
       "   'p_make_contract': 0.95,\n",
       "   'expected_score_dd': 619},\n",
       "  {'card': 'D5',\n",
       "   'insta_score': 0.18,\n",
       "   'expected_tricks_dd': 10.99,\n",
       "   'p_make_contract': 0.95,\n",
       "   'expected_score_dd': 619},\n",
       "  {'card': 'D7',\n",
       "   'insta_score': 0.18,\n",
       "   'expected_tricks_dd': 10.99,\n",
       "   'p_make_contract': 0.95,\n",
       "   'expected_score_dd': 619},\n",
       "  {'card': 'H6',\n",
       "   'insta_score': 0.14,\n",
       "   'expected_tricks_dd': 10.88,\n",
       "   'p_make_contract': 0.94,\n",
       "   'expected_score_dd': 600},\n",
       "  {'card': 'H9',\n",
       "   'insta_score': 0.01,\n",
       "   'expected_tricks_dd': 10.88,\n",
       "   'p_make_contract': 0.94,\n",
       "   'expected_score_dd': 600},\n",
       "  {'card': 'HJ',\n",
       "   'insta_score': 0.0,\n",
       "   'expected_tricks_dd': 10.88,\n",
       "   'p_make_contract': 0.94,\n",
       "   'expected_score_dd': 600},\n",
       "  {'card': 'SA',\n",
       "   'insta_score': 0.02,\n",
       "   'expected_tricks_dd': 10.52,\n",
       "   'p_make_contract': 0.93,\n",
       "   'expected_score_dd': 581}],\n",
       " 'samples': ['.KT8xx.AQT.Jxxxx AJ8xxxx.J9x.xxx. K9x.Qxxx.8xx.ATx QTx.A.KJ9x.KQ98x 0.99042 0.00593 ',\n",
       "  '.KTxx.QTxx.AJxxx AJ8xxxx.J9x.xxx. K9x.Q8xxx.A8.Txx QTx.A.KJ9x.KQ98x 0.98914 0.00592 ',\n",
       "  'Kx.QT8x.QT8x.xxx AJ8xxxx.J9x.xxx. 9.Kxxxx.Ax.AJTxx QTx.A.KJ9x.KQ98x 0.46679 0.00280 ',\n",
       "  'x.KQxx.AQxx.Txxx AJ8xxxx.J9x.xxx. K9.T8xxx.T8.AJxx QTx.A.KJ9x.KQ98x 0.99821 0.00598 ',\n",
       "  'Kx.Kxxxx.Qx.JTxx AJ8xxxx.J9x.xxx. 9.QT8x.AT8x.Axxx QTx.A.KJ9x.KQ98x 0.93145 0.00558 ',\n",
       "  'x.KQ8x.Q8xx.Txxx AJ8xxxx.J9x.xxx. K9.Txxxx.AT.AJxx QTx.A.KJ9x.KQ98x 0.96819 0.00580 ',\n",
       "  'K9.K8xx.Qxx.JTxx AJ8xxxx.J9x.xxx. x.QTxxx.AT8.Axxx QTx.A.KJ9x.KQ98x 0.91189 0.00546 ',\n",
       "  'Kx.QT8xx.QTx.xxx AJ8xxxx.J9x.xxx. 9.Kxxx.A8x.AJTxx QTx.A.KJ9x.KQ98x 0.78357 0.00469 ',\n",
       "  'K.KQ8x.Tx.Jxxxxx AJ8xxxx.J9x.xxx. 9x.Txxxx.AQ8x.AT QTx.A.KJ9x.KQ98x 0.99338 0.00595 ',\n",
       "  'K9x.Kxxxx.Qx.Jxx AJ8xxxx.J9x.xxx. .QT8x.AT8x.ATxxx QTx.A.KJ9x.KQ98x 0.78533 0.00470 ',\n",
       "  '9.Kxxxx.Tx.AJTxx AJ8xxxx.J9x.xxx. Kx.QT8x.AQ8x.xxx QTx.A.KJ9x.KQ98x 0.99172 0.00594 ',\n",
       "  '9.QTxxx.AQT8.Axx AJ8xxxx.J9x.xxx. Kx.K8xx.xx.JTxxx QTx.A.KJ9x.KQ98x 0.31323 0.00188 ',\n",
       "  'K9.Q8xxx.Ax.JTxx AJ8xxxx.J9x.xxx. x.KTxx.QT8x.Axxx QTx.A.KJ9x.KQ98x 0.91797 0.00550 ',\n",
       "  '9.K8xx.T8x.ATxxx AJ8xxxx.J9x.xxx. Kx.QTxxx.AQx.Jxx QTx.A.KJ9x.KQ98x 0.94220 0.00564 ',\n",
       "  'Kx.KQxx.A8x.xxxx AJ8xxxx.J9x.xxx. 9.T8xxx.QTx.AJTx QTx.A.KJ9x.KQ98x 0.99927 0.00598 ',\n",
       "  'K9x.Qxx.AT8x.Txx AJ8xxxx.J9x.xxx. .KT8xxx.Qx.AJxxx QTx.A.KJ9x.KQ98x 0.44113 0.00264 ',\n",
       "  'K.KQ8x.QT8x.AJTx AJ8xxxx.J9x.xxx. 9x.Txxxx.Ax.xxxx QTx.A.KJ9x.KQ98x 0.99913 0.00598 ',\n",
       "  '9.KQTx.Q8x.xxxxx AJ8xxxx.J9x.xxx. Kx.8xxxx.ATx.AJT QTx.A.KJ9x.KQ98x 0.98483 0.00590 ',\n",
       "  'K.T8xxx.AT.JTxxx AJ8xxxx.J9x.xxx. 9x.KQxx.Q8xx.Axx QTx.A.KJ9x.KQ98x 0.08372 0.00050 ',\n",
       "  'x.K8xx.Tx.ATxxxx AJ8xxxx.J9x.xxx. K9.QTxxx.AQ8x.Jx QTx.A.KJ9x.KQ98x 0.93788 0.00562 ']}"
      ]
     },
     "execution_count": 8,
     "metadata": {},
     "output_type": "execute_result"
    }
   ],
   "source": [
    "# the engine considers dummy's discard of D3 on the first trick a big mistake.\n",
    "# perhaps we should ruff instead, let's see what the engine suggests\n",
    "\n",
    "card_by_card.cards['D3'].to_dict()"
   ]
  },
  {
   "cell_type": "markdown",
   "id": "d6dcab82",
   "metadata": {},
   "source": [
    "indeed, the best play is to ruff low.\n",
    "\n",
    "looking at the samples, we see that East has the `CA` in every sample (this is by inference because underleading an A is very unlikely)"
   ]
  },
  {
   "cell_type": "markdown",
   "id": "994e8878",
   "metadata": {},
   "source": [
    "## Analyzing a board played on BBO"
   ]
  },
  {
   "cell_type": "code",
   "execution_count": 9,
   "id": "cdd0edee",
   "metadata": {},
   "outputs": [],
   "source": [
    "# copy-paste from the hand records (in lin format)\n",
    "\n",
    "lin = 'pn|You,~~M7228oka,~~M72302cm,~~M72316sq|st||md|1S4TKHJD68QC679TKA,S35H479TQKD24TAC8,S2789H3AD379JKC35,|rh||ah|Board 3|sv|e|mb|1C|an|Minor suit opening -- 3+ !C; 11-21 HCP; 12-22 total points|mb|2H|an|Aggressive weak jump overcall -- 6+ !H; 4-10 HCP |mb|d|an|Negative double -- 4+ !S; 7+ HCP; 8+ total points |mb|4H|an|The Law: 10 trump -> game support -- 4+ total points |mb|4S|an|3+ !C; 4+ !S; 16-21 HCP; 17-22 total points|mb|p|mb|p|mb|p|pg||pc|DA|pc|D3|pc|D5|pc|D6|pg||pc|C8|pc|C3|pc|CJ|pc|CA|pg||pc|S4|pc|S5|pc|S8|pc|SJ|pg||pc|H5|pc|HJ|pc|HQ|pc|HA|pg||pc|S2|pc|SA|pc|ST|pc|S3|pg||pc|H2|pc|SK|pc|H4|pc|H3|pg||pc|D8|pc|D2|pc|DJ|pc|S6|pg||pc|SQ|pc|C6|pc|H7|pc|S7|pg||pc|H8|pc|C7|pc|HK|pc|S9|pg||pc|C5|pc|C2|pc|CT|pc|HT|pg||pc|CK|pc|H9|pc|D7|pc|C4|pg||pc|DQ|pc|D4|pc|DK|pc|H6|pg||pc|D9|pc|CQ|pc|C9|pc|DT|pg||'"
   ]
  },
  {
   "cell_type": "code",
   "execution_count": 10,
   "id": "86ccd5f5",
   "metadata": {},
   "outputs": [
    {
     "data": {
      "text/html": [
       "<iframe width=\"800\" height=\"600\" src=\"http://bridgebase.com/tools/handviewer.html?lin=pn|You,~~M7228oka,~~M72302cm,~~M72316sq|st||md|1S4TKHJD68QC679TKA,S35H479TQKD24TAC8,S2789H3AD379JKC35,|rh||ah|Board 3|sv|e|mb|1C|an|Minor suit opening -- 3+ !C; 11-21 HCP; 12-22 total points|mb|2H|an|Aggressive weak jump overcall -- 6+ !H; 4-10 HCP |mb|d|an|Negative double -- 4+ !S; 7+ HCP; 8+ total points |mb|4H|an|The Law: 10 trump -> game support -- 4+ total points |mb|4S|an|3+ !C; 4+ !S; 16-21 HCP; 17-22 total points|mb|p|mb|p|mb|p|pg||pc|DA|pc|D3|pc|D5|pc|D6|pg||pc|C8|pc|C3|pc|CJ|pc|CA|pg||pc|S4|pc|S5|pc|S8|pc|SJ|pg||pc|H5|pc|HJ|pc|HQ|pc|HA|pg||pc|S2|pc|SA|pc|ST|pc|S3|pg||pc|H2|pc|SK|pc|H4|pc|H3|pg||pc|D8|pc|D2|pc|DJ|pc|S6|pg||pc|SQ|pc|C6|pc|H7|pc|S7|pg||pc|H8|pc|C7|pc|HK|pc|S9|pg||pc|C5|pc|C2|pc|CT|pc|HT|pg||pc|CK|pc|H9|pc|D7|pc|C4|pg||pc|DQ|pc|D4|pc|DK|pc|H6|pg||pc|D9|pc|CQ|pc|C9|pc|DT|pg||\" />"
      ],
      "text/plain": [
       "<IPython.core.display.HTML object>"
      ]
     },
     "execution_count": 10,
     "metadata": {},
     "output_type": "execute_result"
    }
   ],
   "source": [
    "display_lin(lin)"
   ]
  },
  {
   "cell_type": "code",
   "execution_count": 11,
   "id": "8fa74a29",
   "metadata": {},
   "outputs": [
    {
     "name": "stdout",
     "output_type": "stream",
     "text": [
      "Board(dealer='S', vuln=[False, True], hands=['9872.A3.KJ973.53', 'AJ6Q.8562.5.4J2Q', 'KT4.J.Q86.AKT976', '53.KQT974.AT42.8'], auction=['1C', '2H', 'X', '4H', '4S', 'PASS', 'PASS', 'PASS'], play=['DA', 'D3', 'D5', 'D6', 'C8', 'C3', 'CJ', 'CA', 'S4', 'S5', 'S8', 'SJ', 'H5', 'HJ', 'HQ', 'HA', 'S2', 'SA', 'ST', 'S3', 'H2', 'SK', 'H4', 'H3', 'D8', 'D2', 'DJ', 'S6', 'SQ', 'C6', 'H7', 'S7', 'H8', 'C7', 'HK', 'S9', 'C5', 'C2', 'CT', 'HT', 'CK', 'H9', 'D7', 'C4', 'DQ', 'D4', 'DK', 'H6', 'D9', 'CQ', 'C9', 'DT'])\n"
     ]
    }
   ],
   "source": [
    "board = parse_lin(lin)\n",
    "print(board)"
   ]
  },
  {
   "cell_type": "code",
   "execution_count": 12,
   "id": "fb875929",
   "metadata": {},
   "outputs": [],
   "source": [
    "card_by_card = CardByCard(*board, models, sampler, False)\n"
   ]
  },
  {
   "cell_type": "code",
   "execution_count": 13,
   "id": "49c15172",
   "metadata": {},
   "outputs": [
    {
     "name": "stdout",
     "output_type": "stream",
     "text": [
      "analyzing the bidding\n",
      "1C OK NN-value: 1.000\n",
      "2H Suggested bid from NN: CandidateBid(bid=3H  , insta_score=0.6901, expected_score=    5, expected_tricks= 9.13, adjust=  35, alert=  )\n",
      "2H NN-values:CandidateBid(bid=2H  , insta_score=0.3028, expected_score=  -16, expected_tricks= 8.80, adjust=  15, alert=  )\n",
      "X OK NN-value: 1.000\n",
      "4H Suggested bid from NN: CandidateBid(bid=3H  , insta_score=0.5616, expected_score=   44, expected_tricks= 9.04, adjust=  28, alert=  )\n",
      "4H NN-values:CandidateBid(bid=4H  , insta_score=0.3473, expected_score=  -18, expected_tricks= 8.77, adjust=  17, alert=  )\n",
      "4S OK NN-value: 0.048\n",
      "PASS OK NN-value: 0.998\n",
      "PASS OK NN-value: 1.000\n",
      "PASS Suggested bid from NN: CandidateBid(bid=X   , insta_score=0.3572, expected_score=   58, expected_tricks= 8.83, adjust=  18, alert=  )\n",
      "PASS NN-values:CandidateBid(bid=PASS, insta_score=0.6419, expected_score=  -12, expected_tricks= 8.83, adjust=  32, alert=  )\n",
      "analyzing opening lead\n",
      "DA\n"
     ]
    },
    {
     "ename": "TypeError",
     "evalue": "unsupported operand type(s) for -: 'NoneType' and 'NoneType'",
     "output_type": "error",
     "traceback": [
      "\u001b[1;31m---------------------------------------------------------------------------\u001b[0m",
      "\u001b[1;31mTypeError\u001b[0m                                 Traceback (most recent call last)",
      "Cell \u001b[1;32mIn[13], line 1\u001b[0m\n\u001b[1;32m----> 1\u001b[0m \u001b[38;5;28;01mawait\u001b[39;00m card_by_card\u001b[38;5;241m.\u001b[39manalyze()\n",
      "File \u001b[1;32md:\\github\\ben\\src\\analysis.py:29\u001b[0m, in \u001b[0;36mCardByCard.analyze\u001b[1;34m(self)\u001b[0m\n\u001b[0;32m     27\u001b[0m \u001b[38;5;28mself\u001b[39m\u001b[38;5;241m.\u001b[39manalyze_bidding()\n\u001b[0;32m     28\u001b[0m \u001b[38;5;28mprint\u001b[39m(\u001b[38;5;124m'\u001b[39m\u001b[38;5;124manalyzing opening lead\u001b[39m\u001b[38;5;124m'\u001b[39m)\n\u001b[1;32m---> 29\u001b[0m \u001b[38;5;28;43mself\u001b[39;49m\u001b[38;5;241;43m.\u001b[39;49m\u001b[43manalyze_opening_lead\u001b[49m\u001b[43m(\u001b[49m\u001b[43m)\u001b[49m\n\u001b[0;32m     30\u001b[0m \u001b[38;5;28mprint\u001b[39m(\u001b[38;5;124m'\u001b[39m\u001b[38;5;124manalyzing play\u001b[39m\u001b[38;5;124m'\u001b[39m)\n\u001b[0;32m     31\u001b[0m \u001b[38;5;28;01mawait\u001b[39;00m \u001b[38;5;28mself\u001b[39m\u001b[38;5;241m.\u001b[39manalyze_play()\n",
      "File \u001b[1;32md:\\github\\ben\\src\\analysis.py:85\u001b[0m, in \u001b[0;36mCardByCard.analyze_opening_lead\u001b[1;34m(self)\u001b[0m\n\u001b[0;32m     83\u001b[0m \u001b[38;5;28mself\u001b[39m\u001b[38;5;241m.\u001b[39mcard_responses\u001b[38;5;241m.\u001b[39mappend(card_resp)\n\u001b[0;32m     84\u001b[0m \u001b[38;5;28mself\u001b[39m\u001b[38;5;241m.\u001b[39mcards[card_resp\u001b[38;5;241m.\u001b[39mcard\u001b[38;5;241m.\u001b[39msymbol()] \u001b[38;5;241m=\u001b[39m card_resp\n\u001b[1;32m---> 85\u001b[0m \u001b[38;5;28;43mtype\u001b[39;49m\u001b[43m(\u001b[49m\u001b[38;5;28;43mself\u001b[39;49m\u001b[43m)\u001b[49m\u001b[38;5;241;43m.\u001b[39;49m\u001b[43mcard_eval\u001b[49m\u001b[43m(\u001b[49m\u001b[38;5;28;43mself\u001b[39;49m\u001b[38;5;241;43m.\u001b[39;49m\u001b[43mplay\u001b[49m\u001b[43m[\u001b[49m\u001b[38;5;241;43m0\u001b[39;49m\u001b[43m]\u001b[49m\u001b[43m,\u001b[49m\u001b[43m \u001b[49m\u001b[43mcard_resp\u001b[49m\u001b[43m)\u001b[49m\n",
      "File \u001b[1;32md:\\github\\ben\\src\\analysis.py:67\u001b[0m, in \u001b[0;36mCardByCard.card_eval\u001b[1;34m(card, card_resp)\u001b[0m\n\u001b[0;32m     65\u001b[0m \u001b[38;5;28;01mfor\u001b[39;00m candidate \u001b[38;5;129;01min\u001b[39;00m card_resp\u001b[38;5;241m.\u001b[39mcandidates:\n\u001b[0;32m     66\u001b[0m     \u001b[38;5;28;01mif\u001b[39;00m candidate\u001b[38;5;241m.\u001b[39mcard\u001b[38;5;241m.\u001b[39msymbol() \u001b[38;5;241m==\u001b[39m card:\n\u001b[1;32m---> 67\u001b[0m         \u001b[38;5;28;01mif\u001b[39;00m \u001b[43mbest_tricks\u001b[49m\u001b[43m \u001b[49m\u001b[38;5;241;43m-\u001b[39;49m\u001b[43m \u001b[49m\u001b[43mcandidate\u001b[49m\u001b[38;5;241;43m.\u001b[39;49m\u001b[43mexpected_tricks_dd\u001b[49m \u001b[38;5;241m>\u001b[39m \u001b[38;5;241m0.1\u001b[39m:\n\u001b[0;32m     68\u001b[0m             qualifier \u001b[38;5;241m=\u001b[39m \u001b[38;5;124mf\u001b[39m\u001b[38;5;124m'\u001b[39m\u001b[38;5;124m? losing: \u001b[39m\u001b[38;5;132;01m{\u001b[39;00mbest_tricks\u001b[38;5;250m \u001b[39m\u001b[38;5;241m-\u001b[39m\u001b[38;5;250m \u001b[39mcandidate\u001b[38;5;241m.\u001b[39mexpected_tricks_dd\u001b[38;5;132;01m:\u001b[39;00m\u001b[38;5;124m.2f\u001b[39m\u001b[38;5;132;01m}\u001b[39;00m\u001b[38;5;124m'\u001b[39m\n\u001b[0;32m     69\u001b[0m         \u001b[38;5;28;01mif\u001b[39;00m best_tricks \u001b[38;5;241m-\u001b[39m candidate\u001b[38;5;241m.\u001b[39mexpected_tricks_dd \u001b[38;5;241m>\u001b[39m \u001b[38;5;241m0.6\u001b[39m:\n",
      "\u001b[1;31mTypeError\u001b[0m: unsupported operand type(s) for -: 'NoneType' and 'NoneType'"
     ]
    }
   ],
   "source": [
    "await card_by_card.analyze()"
   ]
  },
  {
   "cell_type": "markdown",
   "id": "bf465259",
   "metadata": {},
   "source": [
    "the engine agrees with the bidding, but didn't like something in the cardplay.\n",
    "\n",
    "playing `S4` from hand is the first mistake. apparently this play drops almost half a trick on average."
   ]
  },
  {
   "cell_type": "code",
   "execution_count": null,
   "id": "d79d9389",
   "metadata": {},
   "outputs": [],
   "source": [
    "card_by_card.cards['S4'].to_dict()"
   ]
  },
  {
   "cell_type": "markdown",
   "id": "760b7b2f",
   "metadata": {},
   "source": [
    "the opening lead of `DA` is interesting. the engine prefers the `HK` and it's the only card it considers."
   ]
  },
  {
   "cell_type": "code",
   "execution_count": null,
   "id": "00c728a0",
   "metadata": {},
   "outputs": [],
   "source": [
    "card_by_card.cards['DA'].to_dict()"
   ]
  },
  {
   "cell_type": "code",
   "execution_count": null,
   "id": "e55103f4",
   "metadata": {},
   "outputs": [],
   "source": []
  }
 ],
 "metadata": {
  "kernelspec": {
   "display_name": "Python 3 (ipykernel)",
   "language": "python",
   "name": "python3"
  },
  "language_info": {
   "codemirror_mode": {
    "name": "ipython",
    "version": 3
   },
   "file_extension": ".py",
   "mimetype": "text/x-python",
   "name": "python",
   "nbconvert_exporter": "python",
   "pygments_lexer": "ipython3",
   "version": "3.11.9"
  }
 },
 "nbformat": 4,
 "nbformat_minor": 5
}
