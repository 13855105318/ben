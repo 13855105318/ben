{
 "cells": [
  {
   "cell_type": "markdown",
   "id": "170af530",
   "metadata": {},
   "source": [
    "# Opening Lead\n",
    "\n",
    "This is a tutorial for how to use the opening lead engine."
   ]
  },
  {
   "cell_type": "code",
   "execution_count": 1,
   "id": "26570686",
   "metadata": {},
   "outputs": [
    {
     "name": "stdout",
     "output_type": "stream",
     "text": [
      "WARNING:tensorflow:From c:\\Python311\\Lib\\site-packages\\tensorflow\\python\\compat\\v2_compat.py:107: disable_resource_variables (from tensorflow.python.ops.variable_scope) is deprecated and will be removed in a future version.\n",
      "Instructions for updating:\n",
      "non-resource variables are not supported in the long term\n"
     ]
    }
   ],
   "source": [
    "import os\n",
    "os.chdir('..')\n",
    "\n",
    "from nn.models import Models\n",
    "from bots import BotLead\n",
    "from sample import Sample\n",
    "import conf"
   ]
  },
  {
   "cell_type": "code",
   "execution_count": 2,
   "id": "fe373c76",
   "metadata": {},
   "outputs": [
    {
     "name": "stdout",
     "output_type": "stream",
     "text": [
      "INFO:tensorflow:Restoring parameters from ..\\models/eamon/21gf/21gfc-12720000\n",
      "INFO:tensorflow:Restoring parameters from ..\\models/eamon/21gfinfo/binfo_21gfc-500000\n",
      "INFO:tensorflow:Restoring parameters from ..\\models/lead_model_b/lead-1000000\n",
      "INFO:tensorflow:Restoring parameters from ..\\models/lr3_model/lr3-1000000\n",
      "INFO:tensorflow:Restoring parameters from ..\\models/lefty_model/lefty-1000000\n",
      "INFO:tensorflow:Restoring parameters from ..\\models/dummy_model/dummy-920000\n",
      "INFO:tensorflow:Restoring parameters from ..\\models/righty_model/righty-1000000\n",
      "INFO:tensorflow:Restoring parameters from ..\\models/decl_model/decl-1000000\n"
     ]
    }
   ],
   "source": [
    "models = Models.from_conf(conf.load('./config/E.conf'),'..')   # loading neural networks\n",
    "sampler = Sample.from_conf(conf.load('./config/E.conf'), False)  # Load sampling strategies"
   ]
  },
  {
   "cell_type": "code",
   "execution_count": 3,
   "id": "c3397678",
   "metadata": {},
   "outputs": [],
   "source": [
    "# both vulnerable. you are sitting North as dealer and you hold\n",
    "hand = 'J96.J43.A32.KJ42'\n",
    "\n",
    "# the auction goes:\n",
    "auction = ['PASS', '1C', '2D', '2H', '3D', '3H', 'PASS', '4H', 'PASS', 'PASS', 'PASS']\n",
    "\n",
    "# what to lead?\n",
    "\n",
    "lead_bot = BotLead([True, True], hand, models, -1, -1, models.lead_threshold, sampler, False)\n",
    "lead = lead_bot.find_opening_lead(auction)"
   ]
  },
  {
   "cell_type": "code",
   "execution_count": 4,
   "id": "a2b5fe25",
   "metadata": {},
   "outputs": [
    {
     "data": {
      "text/plain": [
       "DA"
      ]
     },
     "execution_count": 4,
     "metadata": {},
     "output_type": "execute_result"
    }
   ],
   "source": [
    "lead.card"
   ]
  },
  {
   "cell_type": "markdown",
   "id": "02e88396",
   "metadata": {},
   "source": [
    "seems like the engine chose to lead the ace of diamonds\n",
    "\n",
    "the other options it considered were: a small spade and a small club"
   ]
  },
  {
   "cell_type": "code",
   "execution_count": 5,
   "id": "956ef356",
   "metadata": {},
   "outputs": [
    {
     "data": {
      "text/plain": [
       "[{'card': 'DA',\n",
       "  'insta_score': 0.5361,\n",
       "  'expected_tricks': 9.59,\n",
       "  'p_make_contract': 0.56},\n",
       " {'card': 'Sx',\n",
       "  'insta_score': 0.2617,\n",
       "  'expected_tricks': 9.63,\n",
       "  'p_make_contract': 0.56},\n",
       " {'card': 'Cx',\n",
       "  'insta_score': 0.1395,\n",
       "  'expected_tricks': 9.74,\n",
       "  'p_make_contract': 0.58}]"
      ]
     },
     "execution_count": 5,
     "metadata": {},
     "output_type": "execute_result"
    }
   ],
   "source": [
    "lead.to_dict()['candidates']"
   ]
  },
  {
   "cell_type": "markdown",
   "id": "97efc5a1",
   "metadata": {},
   "source": [
    "in the above output:\n",
    "- `insta_score` reflects the preference of the neural network\n",
    "- `expected_tricks` how many tricks declarer is expected to take on this lead\n",
    "- `p_make_contract` is the probability of the contract making on this lead\n",
    "\n",
    "the probability of making and the expected tricks are computed on samples which are consistent with the auction. the samples are estimated single dummy using a neural network (more on this in another tutorial). we could also solve the samples double dummy, but that would be quite a bit slower."
   ]
  },
  {
   "cell_type": "code",
   "execution_count": 6,
   "id": "7cb2bf98",
   "metadata": {},
   "outputs": [
    {
     "data": {
      "text/plain": [
       "['AKx.Q9x.K8x.Qxxx xxx.x.QJT9xxx.A9 QT8x.AKT8xx..T8x',\n",
       " 'AQ.8xx.9x.AT9xxx 8xx.KQ.KJ8xxx.Qx KTxxx.AT9xx.QT.8',\n",
       " 'Q8xx.AKQT.8.A8xx Kxx..QJT9xxx.QT9 ATx.98xxxx.Kx.xx',\n",
       " 'AKxx.QT9x.x.AQ8x Tx.A.KJT98xx.9xx Q8xx.K8xxx.Qx.Tx',\n",
       " 'Kxx.AQ9.K9x.QTxx QTxx..QJT8xxx.9x A8x.KT8xxxx..A8x',\n",
       " 'KQxx.AT9.K.T98xx ATxx.xx.QT98xxx. 8x.KQ8xx.Jx.AQxx',\n",
       " 'Ax.AKxx.8.ATxxxx Q8xx.x.KQ9xxx.98 KTxx.QT98x.JTx.Q',\n",
       " 'KTxx.AQxx.K.AT9x Qxx..T98xxxx.Q8x A8x.KT98xx.QJ.xx',\n",
       " 'Axxx.Q.Q.AT98xxx KQ.K8.KJT98xxx.Q T8xx.AT9xxxx.x.x',\n",
       " 'A8xx.Qx.8x.ATxxx QTx.8.KQJT9xx.Qx Kxx.AKT9xxx.x.98',\n",
       " 'KQxx.Q98.9x.A8xx 8x.Kx.KQJT8xx.xx ATxx.ATxxx.x.QT9',\n",
       " 'AQxx.K.Kxx.Txxxx xx.9x.QJT98xx.Q8 KT8x.AQT8xxx..A9',\n",
       " 'AK8x.K9.8xx.QT98 xx.x.QJT9xx.Axxx QTxx.AQT8xxx.K.x',\n",
       " 'KTxx.Qxxx.Q9.A9x 8xx.K.KT8xxx.8xx AQx.AT98x.Jx.QTx',\n",
       " 'ATxx.xx.x.AQT9xx Kxxx..KQJ98xx.xx Q8.AKQT98xx.Tx.8',\n",
       " 'KTx.Axx.Q.QT9xxx Q8xx.x.T98xxx.A8 Axx.KQT98x.KJx.x',\n",
       " 'KQx.KQx.Q9x.Q8xx AT8x.T9.T8xxx.A9 xxx.A8xxx.KJ.Txx',\n",
       " 'Ax.Txx.KTx.AQ9xx QTx.KQx.QJ98xx.x K8xxx.A98x.x.T8x',\n",
       " 'xxx.AK8x.9xx.Axx Q8x.Tx.QJT8xx.8x AKTx.Q9xx.K.QT9x',\n",
       " 'ATx.Q8.Qxx.AQTxx Kxx.Ax.KT8xx.98x Q8xx.KT9xxx.J9.x']"
      ]
     },
     "execution_count": 6,
     "metadata": {},
     "output_type": "execute_result"
    }
   ],
   "source": [
    "# each row is one sample board\n",
    "# the hands are in the order: LHO, Partner, RHO. Your cards are not shown as they are fixed/\n",
    "\n",
    "lead.samples"
   ]
  },
  {
   "cell_type": "code",
   "execution_count": null,
   "id": "9f4ecd47",
   "metadata": {},
   "outputs": [],
   "source": []
  }
 ],
 "metadata": {
  "kernelspec": {
   "display_name": "Python 3 (ipykernel)",
   "language": "python",
   "name": "python3"
  },
  "language_info": {
   "codemirror_mode": {
    "name": "ipython",
    "version": 3
   },
   "file_extension": ".py",
   "mimetype": "text/x-python",
   "name": "python",
   "nbconvert_exporter": "python",
   "pygments_lexer": "ipython3",
   "version": "3.7.16"
  }
 },
 "nbformat": 4,
 "nbformat_minor": 5
}
