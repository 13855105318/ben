{
 "cells": [
  {
   "cell_type": "markdown",
   "id": "170af530",
   "metadata": {},
   "source": [
    "# Opening Lead\n",
    "\n",
    "This is a tutorial for how to use the opening lead engine."
   ]
  },
  {
   "cell_type": "code",
   "execution_count": 1,
   "id": "26570686",
   "metadata": {},
   "outputs": [
    {
     "name": "stdout",
     "output_type": "stream",
     "text": [
      "WARNING:tensorflow:From c:\\Python311\\Lib\\site-packages\\tensorflow\\python\\compat\\v2_compat.py:107: disable_resource_variables (from tensorflow.python.ops.variable_scope) is deprecated and will be removed in a future version.\n",
      "Instructions for updating:\n",
      "non-resource variables are not supported in the long term\n"
     ]
    }
   ],
   "source": [
    "import os\n",
    "os.chdir('..')\n",
    "\n",
    "from nn.models import Models\n",
    "from bots import BotLead\n",
    "from sample import Sample\n",
    "import conf"
   ]
  },
  {
   "cell_type": "code",
   "execution_count": 2,
   "id": "fe373c76",
   "metadata": {},
   "outputs": [
    {
     "name": "stdout",
     "output_type": "stream",
     "text": [
      "INFO:tensorflow:Restoring parameters from ..\\UCBC 2024/Models/NS1EW99-bidding-2584000\n",
      "INFO:tensorflow:Restoring parameters from ..\\UCBC 2024/Models/NS1EW99-binfo-6131000\n",
      "INFO:tensorflow:Restoring parameters from ..\\UCBC 2024/Models/lead_suit-154000\n",
      "INFO:tensorflow:Restoring parameters from ..\\UCBC 2024/Models/lead_nt-59000\n",
      "INFO:tensorflow:Restoring parameters from ..\\UCBC 2024/Models/lr3-1000000\n",
      "INFO:tensorflow:Restoring parameters from ..\\UCBC 2024/Models/single_dummy-32768000\n",
      "INFO:tensorflow:Restoring parameters from ..\\UCBC 2024/Models/lefty-1000000\n",
      "INFO:tensorflow:Restoring parameters from ..\\UCBC 2024/Models/dummy-920000\n",
      "INFO:tensorflow:Restoring parameters from ..\\UCBC 2024/Models/righty-1000000\n",
      "INFO:tensorflow:Restoring parameters from ..\\UCBC 2024/Models/decl-1000000\n"
     ]
    }
   ],
   "source": [
    "models = Models.from_conf(conf.load('./config/default.conf'),'..')   # loading neural networks\n",
    "sampler = Sample.from_conf(conf.load('./config/default.conf'), False)  # Load sampling strategies"
   ]
  },
  {
   "cell_type": "code",
   "execution_count": 3,
   "id": "c3397678",
   "metadata": {},
   "outputs": [
    {
     "name": "stdout",
     "output_type": "stream",
     "text": [
      "Loading DDS: ..\\bin\\dds.dll\n"
     ]
    },
    {
     "name": "stderr",
     "output_type": "stream",
     "text": [
      "Loaded lib dds.dll\n"
     ]
    }
   ],
   "source": [
    "# both vulnerable. you are sitting North as dealer and you hold\n",
    "hand = 'T54.QT87.A98.943'\n",
    "\n",
    "# the auction goes:\n",
    "auction = [\"1C\",\"1D\",\"1S\",\"2D\",\"X\",\"PASS\",\"2S\",\"PASS\",\"3C\",\"PASS\",\"3N\",\"PASS\",\"4S\",'PASS', 'PASS', 'PASS']\n",
    "\n",
    "# what to lead?\n",
    "\n",
    "lead_bot = BotLead([True, True], hand, models, sampler, False)\n",
    "lead = lead_bot.find_opening_lead(auction)"
   ]
  },
  {
   "cell_type": "code",
   "execution_count": 4,
   "id": "a2b5fe25",
   "metadata": {},
   "outputs": [
    {
     "data": {
      "text/plain": [
       "C9"
      ]
     },
     "execution_count": 4,
     "metadata": {},
     "output_type": "execute_result"
    }
   ],
   "source": [
    "lead.card"
   ]
  },
  {
   "cell_type": "markdown",
   "id": "02e88396",
   "metadata": {},
   "source": [
    "seems like the engine chose to lead the ace of diamonds\n",
    "\n",
    "the other options it considered were: a small spade and a small club"
   ]
  },
  {
   "cell_type": "code",
   "execution_count": 5,
   "id": "956ef356",
   "metadata": {},
   "outputs": [
    {
     "data": {
      "text/plain": [
       "[{'card': 'C9',\n",
       "  'insta_score': 0.173,\n",
       "  'expected_tricks_sd': 10.55,\n",
       "  'p_make_contract': 0.2},\n",
       " {'card': 'Hx',\n",
       "  'insta_score': 0.329,\n",
       "  'expected_tricks_sd': 10.7,\n",
       "  'p_make_contract': 0.15},\n",
       " {'card': 'DA',\n",
       "  'insta_score': 0.397,\n",
       "  'expected_tricks_sd': 10.7,\n",
       "  'p_make_contract': 0.1}]"
      ]
     },
     "execution_count": 5,
     "metadata": {},
     "output_type": "execute_result"
    }
   ],
   "source": [
    "lead.to_dict()['candidates']"
   ]
  },
  {
   "cell_type": "markdown",
   "id": "97efc5a1",
   "metadata": {},
   "source": [
    "in the above output:\n",
    "- `insta_score` reflects the preference of the neural network\n",
    "- `expected_tricks` how many tricks declarer is expected to take on this lead\n",
    "- `p_make_contract` is the probability of the contract making on this lead\n",
    "\n",
    "the probability of making and the expected tricks are computed on samples which are consistent with the auction. the samples are estimated single dummy using a neural network (more on this in another tutorial). we could also solve the samples double dummy, but that would be quite a bit slower."
   ]
  },
  {
   "cell_type": "code",
   "execution_count": 6,
   "id": "7cb2bf98",
   "metadata": {},
   "outputs": [
    {
     "data": {
      "text/plain": [
       "['AKx.AKJx..JTxxxx Q98.9xx.KQxxx.Q8 Jxxx.xx.JTxxx.AK 0.12045',\n",
       " 'QJ8.AKxx..KQJT8x Kx.Jxx.JTxxx.Axx A9xxx.9x.KQxxx.x 0.11284',\n",
       " 'KQJ.Axxx..KQJTxx A8x.Jxx.KQJTxx.x 9xxx.K9.xxxx.A8x 0.11162',\n",
       " 'Q9x.AKJx..AQ8xxx AKx.xx.Jxxxx.KJT J8xx.9xx.KQTxx.x 0.11093',\n",
       " 'KQJ.AKJx..KJ8xxx 9xx.9xxx.KQJxx.Q A8xx.x.Txxxx.ATx 0.10054',\n",
       " 'KQx.KJxx..AKJ8xx 98x.9x.KQJxx.Qxx AJxx.Axx.Txxxx.T 0.10048',\n",
       " 'Qxx.KJxx..AKQJxx Kx.A9xx.KJxxx.xx AJ98x.x.QTxxx.T8 0.09782',\n",
       " 'AQx.AKJx.x.AJT8x Jxx.9x.QJxxx.KQx K98x.xxx.KTxx.xx 0.09722',\n",
       " 'J9x.AKxx..AKJ8xx AKx.Jx.Txxxxx.Tx Q8xx.9xx.KQJx.Qx 0.09440',\n",
       " 'AJx.K9xx..AKJTxx K9.AJx.QTxxx.Q8x Q8xxx.xx.KJxxx.x 0.09416',\n",
       " 'KQx.AKJx.x.AQJxx Ax.9xx.KJxxx.Txx J98xx.xx.QTxx.K8 0.09406',\n",
       " 'QJx.KJxx..AKQJTx Kxx.9xx.KQJTx.8x A98x.Ax.xxxxx.xx 0.09258',\n",
       " 'Axx.AKxx.T.KQJTx KQ9.xx.Jxxxxx.Ax J8xx.J9x.KQx.8xx 0.08976',\n",
       " 'AQx.Axxx..KQJTxx Jx.Kxx.KJxxx.8xx K98xx.J9.QTxxx.A 0.08941',\n",
       " 'KQ9.Kxxx..AKQJTx AJ.A9.JTxxxxx.8x 8xxxx.Jxx.KQx.xx 0.08837',\n",
       " 'AKJ.KJ9x.x.AKJ8x 98.xxx.KQJTx.QTx Qxxxx.Ax.xxxx.xx 0.08835',\n",
       " 'A98.AKxx..KQ8xxx QJx.J9x.JTxxxx.A Kxxx.xx.KQxx.JTx 0.08583',\n",
       " 'AJx.AK9x.x.KQJxx Q8.Jx.KJTxx.A8xx K9xxx.xxx.Qxxx.T 0.08579',\n",
       " 'AQx.AKxx.x.KQTxx K9x.xx.Qxxxx.Axx J8xx.J9x.KJTx.J8 0.08550',\n",
       " 'Qxx.AKxx.K.AK8xx Axx.Jx.QJxxx.JTx KJ98.9xx.Txxx.Qx 0.08502']"
      ]
     },
     "execution_count": 6,
     "metadata": {},
     "output_type": "execute_result"
    }
   ],
   "source": [
    "# each row is one sample board\n",
    "# the hands are in the order: LHO, Partner, RHO. Your cards are not shown as they are fixed/\n",
    "\n",
    "lead.samples"
   ]
  }
 ],
 "metadata": {
  "kernelspec": {
   "display_name": "Python 3 (ipykernel)",
   "language": "python",
   "name": "python3"
  },
  "language_info": {
   "codemirror_mode": {
    "name": "ipython",
    "version": 3
   },
   "file_extension": ".py",
   "mimetype": "text/x-python",
   "name": "python",
   "nbconvert_exporter": "python",
   "pygments_lexer": "ipython3",
   "version": "3.11.0"
  }
 },
 "nbformat": 4,
 "nbformat_minor": 5
}
