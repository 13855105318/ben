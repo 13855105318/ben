{
 "cells": [
  {
   "cell_type": "markdown",
   "id": "170af530",
   "metadata": {},
   "source": [
    "# Opening Lead\n",
    "\n",
    "This is a tutorial for how to use the opening lead engine."
   ]
  },
  {
   "cell_type": "code",
   "execution_count": 1,
   "id": "26570686",
   "metadata": {},
   "outputs": [
    {
     "name": "stdout",
     "output_type": "stream",
     "text": [
      "WARNING:tensorflow:From c:\\Python311\\Lib\\site-packages\\tensorflow\\python\\compat\\v2_compat.py:107: disable_resource_variables (from tensorflow.python.ops.variable_scope) is deprecated and will be removed in a future version.\n",
      "Instructions for updating:\n",
      "non-resource variables are not supported in the long term\n"
     ]
    }
   ],
   "source": [
    "import os\n",
    "os.chdir('..')\n",
    "\n",
    "from nn.models import Models\n",
    "from bots import BotLead\n",
    "from sample import Sample\n",
    "import conf"
   ]
  },
  {
   "cell_type": "code",
   "execution_count": 2,
   "id": "fe373c76",
   "metadata": {},
   "outputs": [
    {
     "name": "stdout",
     "output_type": "stream",
     "text": [
      "INFO:tensorflow:Restoring parameters from D:\\github\\ben\\UCBC 2024\\Models\\bidding-3233000\n",
      "INFO:tensorflow:Restoring parameters from D:\\github\\ben\\UCBC 2024\\Models\\binfo-286000\n",
      "INFO:tensorflow:Restoring parameters from ..\\models/lead_model_b/lead-1000000\n",
      "INFO:tensorflow:Restoring parameters from ..\\models/lr3_model/lr3-1000000\n",
      "INFO:tensorflow:Restoring parameters from ..\\models/lefty_model/lefty-1000000\n",
      "INFO:tensorflow:Restoring parameters from ..\\models/dummy_model/dummy-920000\n",
      "INFO:tensorflow:Restoring parameters from ..\\models/righty_model/righty-1000000\n",
      "INFO:tensorflow:Restoring parameters from ..\\models/decl_model/decl-1000000\n"
     ]
    }
   ],
   "source": [
    "models = Models.from_conf(conf.load('./config/default.conf'),'..')   # loading neural networks\n",
    "sampler = Sample.from_conf(conf.load('./config/default.conf'), False)  # Load sampling strategies"
   ]
  },
  {
   "cell_type": "code",
   "execution_count": 3,
   "id": "c3397678",
   "metadata": {},
   "outputs": [],
   "source": [
    "# both vulnerable. you are sitting North as dealer and you hold\n",
    "hand = 'T54.QT87.A98.943'\n",
    "\n",
    "# the auction goes:\n",
    "auction = [\"1C\",\"1D\",\"1S\",\"2D\",\"X\",\"PASS\",\"2S\",\"PASS\",\"3C\",\"PASS\",\"3N\",\"PASS\",\"4S\",'PASS', 'PASS', 'PASS']\n",
    "\n",
    "# what to lead?\n",
    "\n",
    "lead_bot = BotLead([True, True], hand, models, sampler, False)\n",
    "lead = lead_bot.find_opening_lead(auction)"
   ]
  },
  {
   "cell_type": "code",
   "execution_count": 4,
   "id": "a2b5fe25",
   "metadata": {},
   "outputs": [
    {
     "data": {
      "text/plain": [
       "DA"
      ]
     },
     "execution_count": 4,
     "metadata": {},
     "output_type": "execute_result"
    }
   ],
   "source": [
    "lead.card"
   ]
  },
  {
   "cell_type": "markdown",
   "id": "02e88396",
   "metadata": {},
   "source": [
    "seems like the engine chose to lead the ace of diamonds\n",
    "\n",
    "the other options it considered were: a small spade and a small club"
   ]
  },
  {
   "cell_type": "code",
   "execution_count": 5,
   "id": "956ef356",
   "metadata": {},
   "outputs": [
    {
     "data": {
      "text/plain": [
       "[{'card': 'DA',\n",
       "  'insta_score': 0.4491,\n",
       "  'expected_tricks': 8.98,\n",
       "  'p_make_contract': 0.39},\n",
       " {'card': 'Sx',\n",
       "  'insta_score': 0.0649,\n",
       "  'expected_tricks': 8.99,\n",
       "  'p_make_contract': 0.4},\n",
       " {'card': 'Hx',\n",
       "  'insta_score': 0.3922,\n",
       "  'expected_tricks': 9.09,\n",
       "  'p_make_contract': 0.43},\n",
       " {'card': 'C9',\n",
       "  'insta_score': 0.0774,\n",
       "  'expected_tricks': 9.09,\n",
       "  'p_make_contract': 0.43}]"
      ]
     },
     "execution_count": 5,
     "metadata": {},
     "output_type": "execute_result"
    }
   ],
   "source": [
    "lead.to_dict()['candidates']"
   ]
  },
  {
   "cell_type": "markdown",
   "id": "97efc5a1",
   "metadata": {},
   "source": [
    "in the above output:\n",
    "- `insta_score` reflects the preference of the neural network\n",
    "- `expected_tricks` how many tricks declarer is expected to take on this lead\n",
    "- `p_make_contract` is the probability of the contract making on this lead\n",
    "\n",
    "the probability of making and the expected tricks are computed on samples which are consistent with the auction. the samples are estimated single dummy using a neural network (more on this in another tutorial). we could also solve the samples double dummy, but that would be quite a bit slower."
   ]
  },
  {
   "cell_type": "code",
   "execution_count": 6,
   "id": "7cb2bf98",
   "metadata": {},
   "outputs": [
    {
     "data": {
      "text/plain": [
       "['AKx.Axx.T.AQJT8x Jxx.Kxx.Kxxxx.Kx Q98x.J9x.QJxx.xx 0.21857',\n",
       " 'AK8.KJx.x.AQJ8xx Q9x.A9x.KJxxx.Tx Jxxx.xxx.QTxx.Kx 0.20322',\n",
       " 'AQx.9xx.K.AQJ8xx K9x.Jxx.QTxxx.KT J8xx.AKx.Jxxx.xx 0.18186',\n",
       " 'A8x.A9xx..AKQJxx KQx.KJx.Jxxxxx.x J9xx.xx.KQTx.T8x 0.17612',\n",
       " 'AQx.AKx.x.KQTxxx K9x.J9xx.KQJxx.x J8xx.xx.Txxx.AJ8 0.15879',\n",
       " 'Kxx.AJx.x.AKQJT8 AJx.9xx.KJxxx.xx Q98x.Kxx.QTxx.xx 0.15341',\n",
       " 'Q8x.AJx.K.AQJT8x Axx.K9xx.QJTxx.x KJ9x.xx.xxxx.Kxx 0.15287',\n",
       " 'AJ8.AK9x.x.AT8xx Kxx.Jx.KTxxx.QJx Q9xx.xxx.QJxx.Kx 0.14964',\n",
       " 'KQ.Jxxx.K.AQJT8x AJxx.Kx.Qxxxx.xx 98xx.A9x.JTxx.Kx 0.14806',\n",
       " 'AKx.AKxx..QT8xxx QJ9.xx.QTxxx.KJx 8xxx.J9x.KJxxx.A 0.14084',\n",
       " 'KQx.AKx.Q.AT8xxx 8xx.9xx.KJTxx.KQ AJ9x.Jxx.xxxx.Jx 0.13895',\n",
       " 'KQ.AK9x.Jx.QJTxx AJxx.xx.KQxxx.xx 98xx.Jxx.Txx.AK8 0.13267',\n",
       " 'AJ8.A9xx.x.AKTxx KQ9.Kx.QJxxxx.8x xxxx.Jxx.KTx.QJx 0.13026',\n",
       " 'Kx.Jxxx.Kx.AKJxx AJxx.Kx.QTxxx.QT Q98x.A9x.Jxx.8xx 0.12784',\n",
       " 'AJx.K9x.x.AKJT8x Q9x.AJxx.Qxxxx.Q K8xx.xx.KJTx.xxx 0.12712',\n",
       " 'KQx.AKxx.x.AT8xx AJx.xx.KTxxx.QJx 98xx.J9x.QJxx.Kx 0.12564',\n",
       " 'AQ9.Kxx.J.AQJ8xx Kxx.Jxx.KTxxx.Kx J8xx.A9x.Qxxx.Tx 0.12510',\n",
       " 'QJx.KJx.x.AKQT8x Axx.9xx.KQxxx.xx K98x.Axx.JTxx.Jx 0.12030',\n",
       " 'K9.Axxx.Kx.KQJ8x AQxx.Kx.QTxxx.Tx J8xx.J9x.Jxx.Axx 0.12018',\n",
       " 'AQx.Axxx..AQJT8x Jxx.K9x.KJxxx.Kx K98x.Jx.QTxxx.xx 0.11622',\n",
       " 'K8x.A9x.x.AKQJxx AJ9.xxx.KJTxx.T8 Qxxx.KJx.Qxxx.xx 0.11600',\n",
       " '98x.AKx.J.AKJT8x AJx.J9xx.KQTxx.x KQxx.xx.xxxx.Qxx 0.11323',\n",
       " 'Qxx.AKJ.T.AKT8xx A8x.9xx.KQJxx.Jx KJ9x.xxx.xxxx.Qx 0.11302',\n",
       " 'AKx.AJ9x..QJT8xx 98x.Kx.QTxxx.AKx QJxx.xxx.KJxxx.x 0.11253',\n",
       " 'Q8x.Axxx..AKQJT8 AK9.xx.KTxxx.xxx Jxxx.KJ9.QJxxx.x 0.11073',\n",
       " 'A8x.AK9.x.AK8xxx Q9x.xxx.KQJTx.JT KJxx.Jxx.xxxx.Qx 0.11017',\n",
       " 'Q8x.A9x.Q.AK8xxx KJ9.Jxxx.KJTxx.J Axxx.Kx.xxxx.QTx 0.10934',\n",
       " 'AKQ.9xxx..KQJTxx 9xx.AKxx.QJxxx.x J8xx.J.KTxxx.A8x 0.10825',\n",
       " 'A8x.Axx.T.AQJTxx KQJ.KJx.Jxxxx.xx 9xxx.9xx.KQxx.K8 0.10751',\n",
       " 'KJx.Axx.J.AQJT8x AQx.J9x.KQxxxx.x 98xx.Kxx.Txx.Kxx 0.10695',\n",
       " 'A9x.Kxx.J.AQJTxx KQx.Jxx.QTxxx.K8 J8xx.A9x.Kxxx.xx 0.10624',\n",
       " 'AKQ.Jxx.x.AKJT8x 8xx.K9x.KQTxx.xx J9xx.Axx.Jxxx.Qx 0.10538',\n",
       " 'K8x.AJ.x.AQJT8xx QJx.Kxxx.Jxxxx.K A9xx.9xx.KQTx.xx 0.10400',\n",
       " 'Kxx.AKx.x.AQTxxx A98.9xx.KJTxx.Kx QJxx.Jxx.Qxxx.J8 0.10341',\n",
       " 'QJx.Ax.K.KQT8xxx A8x.KJxx.Qxxxx.x K9xx.9xx.JTxx.AJ 0.10284',\n",
       " 'A8x.Kx..AKJT8xxx Kxx.AJ9x.Qxxxx.Q QJ9x.xxx.KJTxx.x 0.10087',\n",
       " 'Q9x.AKx.x.AQT8xx Kxx.9xx.KQTxxx.J AJ8x.Jxx.Jxx.Kxx 0.10080',\n",
       " 'KQx.AKJ.x.QJT8xx J8x.xxx.KQTxx.Kx A9xx.9xx.Jxxx.Ax 0.09823',\n",
       " 'AJx.A9xx.x.AKxxx KQx.Jxx.QJxxx.J8 98xx.Kx.KTxx.QTx 0.09744',\n",
       " 'K9x.A9x.K.KQT8xx AJ8.Jxx.QJTxxx.A Qxxx.Kxx.xxx.Jxx 0.09706',\n",
       " 'AQx.Kx.Qx.AJ8xxx KJx.J9xx.KJxxx.Q 98xx.Axx.Txx.KTx 0.09663',\n",
       " 'Kxx.Axx.K.AJTxxx A8x.KJ9x.Txxxx.Q QJ9x.xx.QJxx.K8x 0.09593',\n",
       " 'KJx.Axxx.J.AQJ8x AQx.9x.Txxxx.Kxx 98xx.KJx.KQxx.Tx 0.09518',\n",
       " 'Axx.Kxx.x.AKJxxx QJ8.9xx.KQTxx.QT K9xx.AJx.Jxxx.8x 0.09454',\n",
       " 'AKQ.xxx.x.KQJxxx 9xx.AKx.QJxxxx.8 J8xx.J9x.KTx.ATx 0.09403',\n",
       " 'AQx.Axx.x.KQT8xx Jxx.Jxx.KJTxx.Ax K98x.K9x.Qxxx.Jx 0.09398',\n",
       " 'KQJ.Jxx.x.AKQ8xx 9xx.AKx.KJTxx.Tx A8xx.9xx.Qxxx.Jx 0.09287',\n",
       " 'AJx.J.xx.AKQ8xxx x.Kxxx.KQxxxx.Jx KQ98xx.A9xx.JT.T 0.09259',\n",
       " 'Q8x.Jx.KQ.AKJxxx KJx.Axxx.JTxxx.8 A9xx.K9x.xxx.QTx 0.09137',\n",
       " 'A98.AJx.x.AQT8xx QJx.Kxx.KQJTx.Jx Kxxx.9xx.xxxx.Kx 0.09129',\n",
       " 'K9x.AKx.x.KQTxxx A8x.Jxx.KQJxxx.J QJxx.9xx.Txx.A8x 0.09099',\n",
       " 'Qxx.AJx.x.AKQTxx AJx.K9x.Jxxxx.xx K98x.xxx.KQTx.J8 0.09035',\n",
       " 'KJ9.AK9x.x.AJxxx AQ8.Jxx.xxxxx.KQ xxxx.xx.KQJT.T8x 0.09034',\n",
       " 'A98.Kxx.x.AKQTxx Qxx.A9xx.QJTxx.J KJxx.Jx.Kxxx.8xx 0.08986',\n",
       " 'Ax.AJxx.xx.KQJT8 KJxx.9x.QJTxx.Ax Q98x.Kxx.Kxx.xxx 0.08929',\n",
       " 'KQx.Ax.T.KQJTxxx 9xx.K9xx.KQJxx.x AJ8x.Jxx.xxxx.A8 0.08922',\n",
       " 'AJx.Axxx.x.AQJxx Qxx.Jx.KQxxx.KT8 K98x.K9x.JTxx.xx 0.08886']"
      ]
     },
     "execution_count": 6,
     "metadata": {},
     "output_type": "execute_result"
    }
   ],
   "source": [
    "# each row is one sample board\n",
    "# the hands are in the order: LHO, Partner, RHO. Your cards are not shown as they are fixed/\n",
    "\n",
    "lead.samples"
   ]
  }
 ],
 "metadata": {
  "kernelspec": {
   "display_name": "Python 3 (ipykernel)",
   "language": "python",
   "name": "python3"
  },
  "language_info": {
   "codemirror_mode": {
    "name": "ipython",
    "version": 3
   },
   "file_extension": ".py",
   "mimetype": "text/x-python",
   "name": "python",
   "nbconvert_exporter": "python",
   "pygments_lexer": "ipython3",
   "version": "3.11.0"
  }
 },
 "nbformat": 4,
 "nbformat_minor": 5
}
