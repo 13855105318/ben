{
 "cells": [
  {
   "cell_type": "markdown",
   "id": "3d26ee18",
   "metadata": {},
   "source": [
    "# Single Dummy Estimates\n",
    "\n",
    "This tutorial shows the use of a neural network to estimate the number of tricks which will be taken on a given open lead in a given contract (single dummy)\n",
    "\n",
    "In this tutorial we'll access a bit lower-level APIs.\n"
   ]
  },
  {
   "cell_type": "code",
   "execution_count": 1,
   "id": "3db7a448",
   "metadata": {},
   "outputs": [
    {
     "name": "stdout",
     "output_type": "stream",
     "text": [
      "WARNING:tensorflow:From c:\\Python311\\Lib\\site-packages\\tensorflow\\python\\compat\\v2_compat.py:107: disable_resource_variables (from tensorflow.python.ops.variable_scope) is deprecated and will be removed in a future version.\n",
      "Instructions for updating:\n",
      "non-resource variables are not supported in the long term\n"
     ]
    }
   ],
   "source": [
    "import os\n",
    "os.chdir('..')\n",
    "\n",
    "import numpy as np\n",
    "import matplotlib.pyplot as plt\n",
    "\n",
    "import scoring\n",
    "import deck52\n",
    "\n",
    "from nn.models import Models\n",
    "from bidding import bidding\n",
    "from bidding.binary import parse_hand_f\n",
    "from bots import BotBid\n",
    "from objects import Card\n",
    "from util import hand_to_str\n",
    "from sample import Sample\n",
    "import conf"
   ]
  },
  {
   "cell_type": "code",
   "execution_count": 2,
   "id": "b08c7148",
   "metadata": {},
   "outputs": [
    {
     "name": "stdout",
     "output_type": "stream",
     "text": [
      "INFO:tensorflow:Restoring parameters from ..\\UCBC 2024/Models/NS1EW99-bidding-3961000\n",
      "INFO:tensorflow:Restoring parameters from ..\\UCBC 2024/Models/NS1EW99-binfo-3961000\n",
      "INFO:tensorflow:Restoring parameters from ..\\UCBC 2024/Models/lead_suit-154000\n",
      "INFO:tensorflow:Restoring parameters from ..\\UCBC 2024/Models/lead_nt-59000\n",
      "INFO:tensorflow:Restoring parameters from ..\\UCBC 2024/Models/lr3-1000000\n",
      "INFO:tensorflow:Restoring parameters from ..\\UCBC 2024/Models/single_dummy-32768000\n",
      "INFO:tensorflow:Restoring parameters from ..\\UCBC 2024/Models/lefty-1000000\n",
      "INFO:tensorflow:Restoring parameters from ..\\UCBC 2024/Models/dummy-920000\n",
      "INFO:tensorflow:Restoring parameters from ..\\UCBC 2024/Models/righty-1000000\n",
      "INFO:tensorflow:Restoring parameters from ..\\UCBC 2024/Models/decl-1000000\n"
     ]
    }
   ],
   "source": [
    "models = Models.from_conf(conf.load('./config/default.conf'),'..')   # loading neural networks\n",
    "sampler = Sample.from_conf(conf.load('./config/default.conf'))  # Load sampling strategies"
   ]
  },
  {
   "cell_type": "code",
   "execution_count": 3,
   "id": "b4b75d68",
   "metadata": {},
   "outputs": [],
   "source": [
    "# helper functions are defined here. it's ok to scroll over this part\n",
    "\n",
    "# this is the function which does the prediction\n",
    "# for each possible number of tricks (from 0 to 13) \n",
    "# it returns the probability that that number of tricks will be taken (single dummy)\n",
    "def single_dummy(model, hands, decl_i, strain_i, lead_card_i, lead_included):\n",
    "    # an array, which is the input for the neural network, is prepared\n",
    "    X_sd = np.zeros((hands.shape[0], 32 + 5 + 4*32))\n",
    "    X_sd[:,32 + strain_i] = 1\n",
    "    X_sd[:,(32 + 5 + 0*32):(32 + 5 + 1*32)] = hands[:, (decl_i + 1) % 4]\n",
    "    X_sd[:,(32 + 5 + 1*32):(32 + 5 + 2*32)] = hands[:, (decl_i + 2) % 4]\n",
    "    X_sd[:,(32 + 5 + 2*32):(32 + 5 + 3*32)] = hands[:, (decl_i + 3) % 4]\n",
    "    X_sd[:,(32 + 5 + 3*32):] = hands[:, decl_i]\n",
    "    if lead_included:\n",
    "        X_sd[:, lead_card_i] = 1\n",
    "    \n",
    "    return model(X_sd)\n",
    "\n",
    "# plotting the trick probability distribution\n",
    "def plot_tricks(tricks_softmax):\n",
    "    tricks = tricks_softmax[0]\n",
    "    plt.bar(range(14), tricks)\n",
    "    plt.title(f'E(tricks) = {tricks @ np.arange(14)}')\n",
    "    plt.xlabel('# tricks')\n",
    "    plt.ylabel('probability')\n",
    "\n",
    "def expected_score(tricks_softmax, contract, vuln):\n",
    "    tricks = tricks_softmax\n",
    "    score_by_tricks = np.array([scoring.score(contract, vuln, i) for i in range(14)])\n",
    "    return tricks @ score_by_tricks"
   ]
  },
  {
   "cell_type": "code",
   "execution_count": 4,
   "id": "fc7fa234",
   "metadata": {},
   "outputs": [],
   "source": [
    "# we take the following hand as an example\n",
    "# West plays it in 3N on a small heart lead\n",
    "# how many tricks will declarer take?\n",
    "\n",
    "hands_str = 'A8.Q752.T54.JT63 K54.T643.A92.A72 JT932.K9.Q86.854 Q76.AJ8.KJ73.KQ9'  # N E S W\n",
    "contract = '3NW'\n",
    "opening_lead = 'H2'"
   ]
  },
  {
   "cell_type": "code",
   "execution_count": 5,
   "id": "573954a6",
   "metadata": {},
   "outputs": [],
   "source": [
    "# this line just converts the string representation of the hands into a binary format\n",
    "hands = np.vstack([parse_hand_f(32)(s) for s in hands_str.split()]).reshape((-1, 4, 32))\n",
    "\n",
    "# applying the function which does the prediction\n",
    "tricks_distr = single_dummy(\n",
    "    models.sd_model.model, \n",
    "    hands, \n",
    "    decl_i='NESW'.index(contract[-1]), \n",
    "    strain_i='NSHDC'.index(contract[1]), \n",
    "    lead_card_i=deck52.card52to32(Card.from_symbol(opening_lead).code()),\n",
    "    lead_included=models.lead_included\n",
    ")"
   ]
  },
  {
   "cell_type": "code",
   "execution_count": 6,
   "id": "c6f6fdff",
   "metadata": {},
   "outputs": [
    {
     "data": {
      "text/plain": [
       "array([[0.0000000e+00, 0.0000000e+00, 1.8585399e-20, 3.0899516e-04,\n",
       "        7.3889154e-03, 2.5816504e-02, 5.3941339e-02, 1.0921939e-01,\n",
       "        1.7050131e-01, 2.1809544e-01, 2.0545630e-01, 1.3839684e-01,\n",
       "        5.7527427e-02, 1.3347659e-02]], dtype=float32)"
      ]
     },
     "execution_count": 6,
     "metadata": {},
     "output_type": "execute_result"
    }
   ],
   "source": [
    "# the result is an array representing the probability distribution of tricks\n",
    "# the first element of the array is the probability that declarer will take 0 tricks\n",
    "# the last element of the array is the probability that declarer will take 13 tricks\n",
    "tricks_distr"
   ]
  },
  {
   "cell_type": "code",
   "execution_count": 7,
   "id": "a0bead58",
   "metadata": {},
   "outputs": [
    {
     "data": {
      "image/png": "[encoded data removed]",
      "text/plain": [
       "<Figure size 640x480 with 1 Axes>"
      ]
     },
     "metadata": {},
     "output_type": "display_data"
    }
   ],
   "source": [
    "# we can also plot it to see it better\n",
    "plot_tricks(tricks_distr)"
   ]
  },
  {
   "cell_type": "markdown",
   "id": "5ccaf6b1",
   "metadata": {},
   "source": [
    "We can see that the most likely declarer will take 10 tricks. But there is a spread, and declarer will take on average 9.57 tricks (according to the neural network)"
   ]
  },
  {
   "cell_type": "code",
   "execution_count": 8,
   "id": "8923c1dc",
   "metadata": {},
   "outputs": [
    {
     "data": {
      "text/plain": [
       "239.7347214590991"
      ]
     },
     "execution_count": 8,
     "metadata": {},
     "output_type": "execute_result"
    }
   ],
   "source": [
    "# we can also compute how much declarer is expected to score on this hand (non-vulnerable)\n",
    "expected_score(tricks_distr, contract='3N', vuln=False)[0]"
   ]
  },
  {
   "cell_type": "code",
   "execution_count": 9,
   "id": "ad71c875",
   "metadata": {},
   "outputs": [
    {
     "data": {
      "text/plain": [
       "0.6328237"
      ]
     },
     "execution_count": 9,
     "metadata": {},
     "output_type": "execute_result"
    }
   ],
   "source": [
    "# or we can get the probability that the contract will be made (i.e declarer will take 9 or more tricks)\n",
    "np.sum(tricks_distr[:,9:])"
   ]
  },
  {
   "cell_type": "markdown",
   "id": "c88dc55c",
   "metadata": {},
   "source": [
    "## Estimating on many samples at the same time\n",
    "\n",
    "A frequent use of single dummy models is to apply it on many samples to choose between possible actions (for example when making a bid or selecting the opening lead)\n",
    "\n",
    "We could just follow the steps in the above example in a loop (looping once for each sample), but it's much more efficient to make the prediction for all samples at the same time:"
   ]
  },
  {
   "cell_type": "code",
   "execution_count": 10,
   "id": "6e53c7e8",
   "metadata": {},
   "outputs": [],
   "source": [
    "# we'll use a bidder bot to draw samples which are consistent with the auction\n",
    "# and give it North's cards (as North will be on lead against 3N)\n",
    "bid_bot = BotBid([False, False], 'A8.Q752.T54.JT63', models, sampler, False)\n",
    "\n",
    "# let's assume the following auction has occurred\n",
    "auction = [\n",
    "    'PASS', 'PASS', 'PASS', '1N', \n",
    "    'PASS', '2C', 'PASS', '2D', \n",
    "    'PASS', '3N', 'PASS', 'PASS', \n",
    "    'PASS', 'PAD_END', 'PAD_END', 'PAD_END'   # we need to put the 'PAD_END' stuff so it will look like it's North's turn to bid again\n",
    "]\n",
    "contract = bidding.get_contract(auction)"
   ]
  },
  {
   "cell_type": "code",
   "execution_count": 11,
   "id": "d31e8c24",
   "metadata": {},
   "outputs": [
    {
     "name": "stdout",
     "output_type": "stream",
     "text": [
      "A8.Qxxx.Txx.JTxx Txx.AK9x.8xx.K9x J9xxx.Txx.KQx.Qx KQx.J8.AJ9x.A8xx\n",
      "A8.Qxxx.Txx.JTxx T9x.KJTx.KJ9.Kxx KQxxx.8x.Q8xx.xx Jxx.A9x.Axx.AQ98\n",
      "A8.Qxxx.Txx.JTxx K9x.KJTx.9xx.Kxx JTxxx.xx.QJ8.Q8x Qxx.A98.AKxx.A9x\n",
      "A8.Qxxx.Txx.JTxx QTxx.Kxx.KJx.Qxx K9xx.T98.8xx.A8x Jxx.AJx.AQ9x.K9x\n",
      "A8.Qxxx.Txx.JTxx QJ9x.K9x.K9x.Q8x Txxxx.8xx.J8.A9x Kx.AJT.AQxxx.Kxx\n",
      "A8.Qxxx.Txx.JTxx Q9x.AJTx.Axx.xxx Txxxx.98x.Q8xx.K KJx.Kx.KJ9.AQ98x\n",
      "A8.Qxxx.Txx.JTxx QJTx.T9x.A9x.Axx xxxx.A8x.Jxx.98x K9x.KJx.KQ8x.KQx\n",
      "A8.Qxxx.Txx.JTxx Qxxx.KJT.KJx.xxx 9xxx.A9xx.Axxx.9 KJT.8x.Q98.AKQ8x\n",
      "A8.Qxxx.Txx.JTxx Txxx.KT8x.AQ.Q9x QJxx.9xx.K8xx.xx K9x.AJ.J9xx.AK8x\n",
      "A8.Qxxx.Txx.JTxx KQTx.A8xx.Qxx.8x 9xxx.Kx.K98x.xxx Jxx.JT9.AJx.AKQ9\n"
     ]
    }
   ],
   "source": [
    "# we sample the hidden cards for the auction\n",
    "samples, sorted_score, p_hcp, p_shp = bid_bot.sample_hands(auction)\n",
    "\n",
    "# and display a few samples just for illustration\n",
    "for i in range(10):\n",
    "    print(f'{hand_to_str(samples[i,0,:])} {hand_to_str(samples[i,1,:])} {hand_to_str(samples[i,2,:])} {hand_to_str(samples[i,3,:])}')"
   ]
  },
  {
   "cell_type": "markdown",
   "id": "9a983c75",
   "metadata": {},
   "source": [
    "North's cards are always the same `A8.Qxxx.Txx.JTxx` (because it's the known hand)\n",
    "\n",
    "The rest of the cards are consistent with the Stayman sequence which occurred in the auction (West has a 1N opener without four-card majors, East has a four-card major and the strength for 3N)"
   ]
  },
  {
   "cell_type": "code",
   "execution_count": 12,
   "id": "8b0b6640",
   "metadata": {},
   "outputs": [],
   "source": [
    "# now we apply the prediction on all samples (estimating how many tricks declarer will take in 3N)\n",
    "\n",
    "# we consider the following opening leads\n",
    "opening_lead_options = ['SA', 'H2', 'D4', 'CJ', 'C3']"
   ]
  },
  {
   "cell_type": "code",
   "execution_count": 13,
   "id": "6dbb241a",
   "metadata": {},
   "outputs": [],
   "source": [
    "# for each opening opening lead option,\n",
    "# we estimate the number of tricks taken (on each sample)\n",
    "\n",
    "lead_tricks = {}\n",
    "\n",
    "for opening_lead in opening_lead_options:\n",
    "    tricks_distr = single_dummy(\n",
    "        models.sd_model.model, \n",
    "        samples, \n",
    "        decl_i='NESW'.index(contract[-1]), \n",
    "        strain_i='NSHDC'.index(contract[1]), \n",
    "        lead_card_i=deck52.card52to32(Card.from_symbol(opening_lead).code()),\n",
    "        lead_included=models.lead_included\n",
    "    )\n",
    "    lead_tricks[opening_lead] = tricks_distr"
   ]
  },
  {
   "cell_type": "code",
   "execution_count": 14,
   "id": "6d8fd172",
   "metadata": {},
   "outputs": [
    {
     "data": {
      "text/plain": [
       "{'SA': 205.44281737208422,\n",
       " 'H2': 205.44281737208422,\n",
       " 'D4': 205.44281737208422,\n",
       " 'CJ': 205.44281737208422,\n",
       " 'C3': 205.44281737208422}"
      ]
     },
     "execution_count": 14,
     "metadata": {},
     "output_type": "execute_result"
    }
   ],
   "source": [
    "# computing declarer's expected score for each lead\n",
    "\n",
    "{lead:np.mean(expected_score(tricks, contract, False)) for lead, tricks in lead_tricks.items()}"
   ]
  },
  {
   "cell_type": "code",
   "execution_count": 15,
   "id": "dbc0b203",
   "metadata": {},
   "outputs": [
    {
     "data": {
      "text/plain": [
       "<matplotlib.legend.Legend at 0x249f3ca2210>"
      ]
     },
     "execution_count": 15,
     "metadata": {},
     "output_type": "execute_result"
    },
    {
     "data": {
      "image/png": "[encoded data removed]",
      "text/plain": [
       "<Figure size 640x480 with 1 Axes>"
      ]
     },
     "metadata": {},
     "output_type": "display_data"
    }
   ],
   "source": [
    "# to get an idea about the variance, we can compare two cards by plotting histograms of expected scores\n",
    "plt.hist(expected_score(lead_tricks['H2'], contract, False), label='H2', alpha=0.5)\n",
    "plt.hist(expected_score(lead_tricks['D4'], contract, False), label='D4', alpha=0.5)\n",
    "plt.xlabel('expected score')\n",
    "plt.ylabel('frequency')\n",
    "plt.legend()"
   ]
  }
 ],
 "metadata": {
  "kernelspec": {
   "display_name": "Python 3 (ipykernel)",
   "language": "python",
   "name": "python3"
  },
  "language_info": {
   "codemirror_mode": {
    "name": "ipython",
    "version": 3
   },
   "file_extension": ".py",
   "mimetype": "text/x-python",
   "name": "python",
   "nbconvert_exporter": "python",
   "pygments_lexer": "ipython3",
   "version": "3.11.0"
  }
 },
 "nbformat": 4,
 "nbformat_minor": 5
}
