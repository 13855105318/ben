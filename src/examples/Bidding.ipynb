{
 "cells": [
  {
   "cell_type": "markdown",
   "id": "75d07246",
   "metadata": {},
   "source": [
    "# Bidding\n",
    "\n",
    "This is a tutorial for how to use the bidding engine"
   ]
  },
  {
   "cell_type": "code",
   "execution_count": 1,
   "id": "59a5664c",
   "metadata": {},
   "outputs": [
    {
     "name": "stdout",
     "output_type": "stream",
     "text": [
      "WARNING:tensorflow:From c:\\Python311\\Lib\\site-packages\\tensorflow\\python\\compat\\v2_compat.py:107: disable_resource_variables (from tensorflow.python.ops.variable_scope) is deprecated and will be removed in a future version.\n",
      "Instructions for updating:\n",
      "non-resource variables are not supported in the long term\n"
     ]
    }
   ],
   "source": [
    "import os\n",
    "os.chdir('..')\n",
    "\n",
    "from nn.models import Models\n",
    "from bots import BotBid\n",
    "from bidding import bidding\n",
    "from util import hand_to_str\n",
    "from deck52 import random_deal\n",
    "from sample import Sample\n",
    "import conf"
   ]
  },
  {
   "cell_type": "code",
   "execution_count": 2,
   "id": "44786d5d",
   "metadata": {},
   "outputs": [
    {
     "name": "stdout",
     "output_type": "stream",
     "text": [
      "INFO:tensorflow:Restoring parameters from ..\\models/gib21_model/gib21-1000000\n",
      "INFO:tensorflow:Restoring parameters from ..\\models/gib21_info_model/gib21_info-500000\n",
      "INFO:tensorflow:Restoring parameters from ..\\models/lead_model_b/lead-1000000\n",
      "INFO:tensorflow:Restoring parameters from ..\\models/lr3_model/lr3-1000000\n",
      "INFO:tensorflow:Restoring parameters from ..\\models/lefty_model/lefty-1000000\n",
      "INFO:tensorflow:Restoring parameters from ..\\models/dummy_model/dummy-920000\n",
      "INFO:tensorflow:Restoring parameters from ..\\models/righty_model/righty-1000000\n",
      "INFO:tensorflow:Restoring parameters from ..\\models/decl_model/decl-1000000\n"
     ]
    }
   ],
   "source": [
    "models = Models.from_conf(conf.load('./config/default.conf'),'..')   # loading neural networks\n",
    "sampler = Sample.from_conf(conf.load('./config/default.conf'))  # Load sampling strategies"
   ]
  },
  {
   "cell_type": "markdown",
   "id": "10d8f2fc",
   "metadata": {},
   "source": [
    "### Running through an example"
   ]
  },
  {
   "cell_type": "code",
   "execution_count": 3,
   "id": "19dbfeb7",
   "metadata": {},
   "outputs": [],
   "source": [
    "# East deals, EW vulnerable.\n",
    "vuln_ns, vuln_ew = False, False\n",
    "\n",
    "# you sit West and hold:\n",
    "hand = 'AK.JT4.AQT.KQJ76'\n",
    "\n",
    "# the auction goes:\n",
    "# (a few words about 'PAD_START':\n",
    "# the auction is padded to dealer North\n",
    "# if North is not dealer, than we have to put in a 'PAD_START' for every seat that was skipped\n",
    "# if East deals we have one pad (because North is skipped)\n",
    "# if South deals we have two pads (because North and East are skipped)\n",
    "# etc.)\n",
    "auction = ['PAD_START', 'PAD_START', 'PAD_START']\n",
    "\n",
    "# what's your bid?"
   ]
  },
  {
   "cell_type": "code",
   "execution_count": 4,
   "id": "bfe98f56",
   "metadata": {},
   "outputs": [
    {
     "data": {
      "text/plain": [
       "'2N'"
      ]
     },
     "execution_count": 4,
     "metadata": {},
     "output_type": "execute_result"
    }
   ],
   "source": [
    "bot_bid = BotBid([vuln_ns, vuln_ew], hand, models, -1, -1, 0.1, sampler, False)\n",
    "\n",
    "bot_bid.bid(auction).bid\n"
   ]
  },
  {
   "cell_type": "code",
   "execution_count": 5,
   "id": "602468ef",
   "metadata": {},
   "outputs": [
    {
     "data": {
      "text/plain": [
       "'3D'"
      ]
     },
     "execution_count": 5,
     "metadata": {},
     "output_type": "execute_result"
    }
   ],
   "source": [
    "# you double, North bids 2S, your partner 3H, PASS, back to you ...\n",
    "\n",
    "bid = bot_bid.bid(['PAD_START', 'PAD_START', 'PAD_START','2N','PASS','3C','PASS'])\n",
    "bid.bid"
   ]
  },
  {
   "cell_type": "code",
   "execution_count": 6,
   "id": "7227ea6b",
   "metadata": {},
   "outputs": [
    {
     "data": {
      "text/plain": [
       "[{'call': '3D', 'insta_score': 0.9975}]"
      ]
     },
     "execution_count": 6,
     "metadata": {},
     "output_type": "execute_result"
    }
   ],
   "source": [
    "# what options were considered?\n",
    "\n",
    "bid.to_dict()['candidates']"
   ]
  },
  {
   "cell_type": "markdown",
   "id": "ad120123",
   "metadata": {},
   "source": [
    "in the output above:\n",
    "- `insta_score` reflects what the neural network prefers to bid\n",
    "- `expected_score` is based on what you expect to score on difference samples (for example, 70% of the time you are making and 30% of the time you are going one off, then the expected score is 0.7 * 620 - 0.3 * 100)"
   ]
  },
  {
   "cell_type": "markdown",
   "id": "051ff121",
   "metadata": {},
   "source": [
    "### Samples consistent with the auction so far\n",
    "\n",
    "Above we said that we are computig expected scores on samples consistent with the auction so far.\n",
    "\n",
    "How do we get these samples?\n",
    "\n",
    "We get some samples in the response we get from the bot (i.e `bid.samples`)"
   ]
  },
  {
   "cell_type": "code",
   "execution_count": 7,
   "id": "55b647a5",
   "metadata": {},
   "outputs": [
    {
     "data": {
      "text/plain": [
       "['J9xx.9xxx.Kx.A9x QT8x.AQ8x.Jxx.8x xxx.Kx.98xxx.Txx AK.JTx.AQT.KQJxx',\n",
       " 'Txx.Axxx.K9xx.Tx QJ9x.Q98x.Jx.A98 8xxx.Kx.8xxx.xxx AK.JTx.AQT.KQJxx',\n",
       " 'QJx.Axxx.KJx.9xx 98xx.KQ9x.xxx.AT Txxx.8x.98xx.8xx AK.JTx.AQT.KQJxx',\n",
       " 'JT9xx.Qxx.K9.98x Q8.AK98.Jxxx.xxx xxxx.xxx.8xxx.AT AK.JTx.AQT.KQJxx',\n",
       " 'Txxx.A9xx.Kx.T8x QJ8x.KQxx.8xx.xx 9xx.8x.J9xxx.A9x AK.JTx.AQT.KQJxx',\n",
       " 'QJ9x.AQxx.98x.xx T8xx.K98x.KJx.8x xxx.xx.xxxx.AT9x AK.JTx.AQT.KQJxx',\n",
       " 'Q9xx.A8xx.KJx.9x T8xx.KQxx.9xx.Ax Jxx.9x.8xxx.T8xx AK.JTx.AQT.KQJxx',\n",
       " 'Q9xx.A9xx.Jxx.8x xxx.KQ8x.K8x.9xx JT8x.xx.9xxx.ATx AK.JTx.AQT.KQJxx',\n",
       " 'Qxx.KQ9xx.9x.Axx J98x.A8x.Kxxx.Tx Txxx.xx.J8xx.98x AK.JTx.AQT.KQJxx',\n",
       " 'Q8xx.A8xx.Kx.T98 Jxx.Q9xx.xxx.Axx T9xx.Kx.J98xx.xx AK.JTx.AQT.KQJxx',\n",
       " 'J8xx.A98x.Jxx.Ax Q9.KQxx.K98.98xx Txxxx.xx.xxxx.Tx AK.JTx.AQT.KQJxx',\n",
       " 'J8x.Q8xx.Kxx.T8x Qxxx.A9xx.J9x.xx T9xx.Kx.8xxx.A9x AK.JTx.AQT.KQJxx',\n",
       " '98x.AKQx.Jxx.98x QJxx.98xx.K8x.xx Txxx.xx.9xxx.ATx AK.JTx.AQT.KQJxx',\n",
       " 'Txx.AKQx.9xxx.xx J98x.8xxx.K8.Axx Qxxx.9x.Jxxx.T98 AK.JTx.AQT.KQJxx',\n",
       " 'T9xx.AQxx.x.Txxx Qxx.K98x.K98x.9x J8xx.xx.Jxxxx.A8 AK.JTx.AQT.KQJxx',\n",
       " '8xx.Q98x.8xx.A9x Qxxx.AKxx.J9x.xx JT9x.xx.Kxxx.T8x AK.JTx.AQT.KQJxx',\n",
       " 'QJ8xx.AQ8x.Jx.Tx 9xx.Kxxx.9xxx.Ax Txx.9x.K8xx.98xx AK.JTx.AQT.KQJxx',\n",
       " 'Txxx.A9xx.8xx.98 8xxx.KQxx.Kx.xxx QJ9.8x.J9xxx.ATx AK.JTx.AQT.KQJxx',\n",
       " 'J98x.AKQx.Jx.8xx QT.98xx.K98xx.xx xxxxx.xx.xxx.AT9 AK.JTx.AQT.KQJxx',\n",
       " 'Qxx.Q8xxx.Jx.A98 J9xx.Kxx.K8xx.xx T8xx.A9.9xxx.Txx AK.JTx.AQT.KQJxx',\n",
       " 'QJTxx.Kxx.98x.Tx 8x.AQ9x.Kxx.9xxx 9xxx.8xx.Jxxx.A8 AK.JTx.AQT.KQJxx',\n",
       " 'QJ8xx.Kxx.9xx.Tx xxx.A98x.Kxx.8xx T9x.Qxx.J8xx.A9x AK.JTx.AQT.KQJxx',\n",
       " '8xxx.AKxx.8xx.98 QJT.98xx.Kxxx.Ax 9xxx.Qx.J9x.Txxx AK.JTx.AQT.KQJxx',\n",
       " 'Jxxxx.KQx.Jxx.xx Q8x.A8xx.9xx.98x T9x.9xx.K8xx.ATx AK.JTx.AQT.KQJxx',\n",
       " 'Qxxx.Q98xx.K8x.x T9xx.Axx.Jxx.ATx J8x.Kx.9xxx.98xx AK.JTx.AQT.KQJxx',\n",
       " 'Qxxxx.K8xx.9xx.8 98x.AQ9x.Kxx.xxx JTx.xx.J8xx.AT9x AK.JTx.AQT.KQJxx',\n",
       " 'T9xx.KQxx.Jx.9xx Qxx.A9xx.8xx.Axx J8xx.8x.K9xxx.T8 AK.JTx.AQT.KQJxx',\n",
       " 'QJx.Axxx.9xxx.T9 T98x.Q98x.KJx.Ax xxxx.Kx.8xx.8xxx AK.JTx.AQT.KQJxx',\n",
       " 'Jxx.A98x.J8x.T8x T9xx.Kxxx.9xx.Ax Q8xx.Qx.Kxxx.9xx AK.JTx.AQT.KQJxx',\n",
       " 'QJT.K98xx.Jx.T9x 98xx.AQx.K8x.8xx xxxx.xx.9xxxx.Ax AK.JTx.AQT.KQJxx',\n",
       " '9x.Kxxx.Jxx.Axxx QTxx.AQ8x.K8x.T9 J8xxx.9x.9xxx.8x AK.JTx.AQT.KQJxx',\n",
       " 'Jxxxx.Axx.8x.xxx Q98x.KQ98.J9x.T8 Tx.xxx.Kxxxx.A9x AK.JTx.AQT.KQJxx',\n",
       " 'Qxx.K8xx.K9x.9xx 9xx.AQ9x.Jxx.Txx JT8xx.xx.8xxx.A8 AK.JTx.AQT.KQJxx',\n",
       " 'Q9x.KQ9x.Jxx.ATx J8xx.Axx.K9xx.xx Txxx.8xx.8xx.98x AK.JTx.AQT.KQJxx',\n",
       " 'Jxx.Q98x.98x.AT8 T98x.AKxx.xxx.9x Qxxx.xx.KJxx.xxx AK.JTx.AQT.KQJxx',\n",
       " 'QT8x.K98xx.Jx.8x xxxx.Axx.Kxxx.xx J9x.Qx.98xx.AT9x AK.JTx.AQT.KQJxx',\n",
       " '9xx.K98x.K8xx.T9 QJx.Axxx.Jx.8xxx T8xxx.Qx.9xxx.Ax AK.JTx.AQT.KQJxx',\n",
       " 'JTxx.Axxx.8xx.8x Q9xx.K9x.K9x.T9x 8xx.Q8x.Jxxx.Axx AK.JTx.AQT.KQJxx',\n",
       " '98x.A98xx.Kx.8xx QJx.Kxxx.xxxx.Tx Txxxx.Q.J98x.A9x AK.JTx.AQT.KQJxx',\n",
       " 'QJ9xx.xxx.Kxx.A9 T8x.AKQ8.J8.8xxx xxx.9xx.9xxxx.Tx AK.JTx.AQT.KQJxx',\n",
       " 'QJ9xx.Qxx.Kx.A9x Txx.AK9x.98x.8xx 8xx.8xx.Jxxxx.Tx AK.JTx.AQT.KQJxx',\n",
       " '98xx.A98x.KJxx.x Jxx.Kxxx.x.ATxxx QTxx.Qx.98xxx.98 AK.JTx.AQT.KQJxx',\n",
       " 'Qxx.K8xx.8xx.A9x J8x.AQxx.Jxx.8xx T9xxx.9x.K9xx.Tx AK.JTx.AQT.KQJxx',\n",
       " 'J9xx.KQx.KJx.9xx QTx.A9xx.98xx.Tx 8xxx.8xx.xxx.A8x AK.JTx.AQT.KQJxx',\n",
       " 'Q9x.Q8xx.K8x.xxx JTxx.AKx.xxx.98x 8xxx.9xx.J9xx.AT AK.JTx.AQT.KQJxx',\n",
       " 'J8xx.A8xx.K8.T8x QT9x.Q9x.J9xx.Ax xxx.Kxx.xxxx.9xx AK.JTx.AQT.KQJxx',\n",
       " 'QT9xx.K9x.J9.9xx Jxx.Q8xx.Kxx.A8x 8xx.Axx.8xxxx.Tx AK.JTx.AQT.KQJxx',\n",
       " 'J98x.Qxxx.8x.Axx Txx.A98x.Kxxx.T9 Qxxx.Kx.J9xx.8xx AK.JTx.AQT.KQJxx',\n",
       " '8xx.K8xx.xxx.9xx T9xx.A9xx.K8x.Ax QJxx.Qx.J9xx.T8x AK.JTx.AQT.KQJxx',\n",
       " 'Txxx.Axx.Jx.T8xx Qxx.K9xx.K98x.xx J98x.Q8x.xxxx.A9 AK.JTx.AQT.KQJxx',\n",
       " '9xx.Q8xx.KJ9x.Tx Q8xx.AKx.xx.98xx JTxx.9xx.8xxx.Ax AK.JTx.AQT.KQJxx',\n",
       " 'J9xxx.A9x.Jx.Txx T8.KQ8x.Kxx.98xx Qxxx.xxx.98xxx.A AK.JTx.AQT.KQJxx',\n",
       " 'QJxx.AQ9x.9xx.T8 8xxx.8xx.Kx.A9xx T9x.Kxx.J8xxx.xx AK.JTx.AQT.KQJxx',\n",
       " '9xx.AK9x.Jxxx.9x QJTx.Q8xx.8xx.AT 8xxx.xx.K9x.8xxx AK.JTx.AQT.KQJxx',\n",
       " '9xx.Q8xx.Kxxx.9x QJxx.Axxx.Jx.AT8 T8xx.K9.98xx.xxx AK.JTx.AQT.KQJxx',\n",
       " '9x.AQxxx.Jxx.9xx QJxx.K8x.98xx.Ax T8xxx.9x.Kxx.T8x AK.JTx.AQT.KQJxx',\n",
       " 'QJxx.A8x.xx.98xx xxx.KQ9x.Jxxx.Ax T98x.xxx.K98x.Tx AK.JTx.AQT.KQJxx',\n",
       " 'Qxxx.Axx.J9x.Txx JT98.K8xx.xxx.Ax xxx.Q9x.K8xx.98x AK.JTx.AQT.KQJxx',\n",
       " 'Jx.A9xx.Kxx.T9xx T9xx.K8xx.8xx.Ax Q8xxx.Qx.J9xx.8x AK.JTx.AQT.KQJxx',\n",
       " 'Txxxx.Axx.Jxx.8x Qxx.K8xx.9xx.AT9 J98.Q9x.K8xx.xxx AK.JTx.AQT.KQJxx',\n",
       " 'xx.Q98xx.KJx.ATx QJ8x.AKx.xx.98xx T9xxx.xx.98xxx.x AK.JTx.AQT.KQJxx',\n",
       " 'Qxxx.KQxx.xx.xxx xx.A9xx.Jxxx.A98 JT98x.8x.K98x.Tx AK.JTx.AQT.KQJxx',\n",
       " 'Jxx.AQ9xx.Jxx.98 QTxx.xx.K9x.ATxx 98xx.K8x.8xxx.xx AK.JTx.AQT.KQJxx',\n",
       " 'Jxxxx.Q8x.Jx.T8x Q9x.AKxx.98xx.9x T8x.9xx.Kxxx.Axx AK.JTx.AQT.KQJxx',\n",
       " 'QJx.8xx.K8x.T98x 98xx.AK9x.Jx.xxx Txxx.Qxx.9xxxx.A AK.JTx.AQT.KQJxx',\n",
       " 'J8x.KQ98x.K8xx.T QTxx.Axx.J9.A9xx 9xxx.xx.xxxx.8xx AK.JTx.AQT.KQJxx',\n",
       " 'QJ9x.KQ8x.9xx.xx 8x.Axxx.J8xx.AT8 Txxxx.9x.Kxx.9xx AK.JTx.AQT.KQJxx',\n",
       " 'Qxxx.Axxxx.8x.AT T98x.K9x.K9xx.98 Jxx.Q8.Jxxx.xxxx AK.JTx.AQT.KQJxx',\n",
       " 'J8xx.Axxx.J9x.8x 9xxx.Q9x.Kx.Axxx QTx.K8x.8xxxx.T9 AK.JTx.AQT.KQJxx',\n",
       " '8xx.AKxxx.Jx.8xx QJTx.9xx.9xxx.Ax 9xxx.Q8.K8xx.T9x AK.JTx.AQT.KQJxx',\n",
       " 'Q8xxx.A9x.Jx.8xx JTx.Kxxx.xxx.ATx 9xx.Q8x.K98xx.9x AK.JTx.AQT.KQJxx',\n",
       " 'QJx.Qxxx.KJxx.8x 9xx.A8xx.xxx.A9x T8xxx.K9.98x.Txx AK.JTx.AQT.KQJxx',\n",
       " '9xxx.A9x.KJxx.xx JTx.KQ8x.9xx.A9x Q8xx.xxx.8xx.T8x AK.JTx.AQT.KQJxx',\n",
       " '9xx.9xxx.Kx.8xxx Q8xx.AKxx.9xxx.x JTxx.Q8.J8xx.AT9 AK.JTx.AQT.KQJxx',\n",
       " 'JTx.A9x.9xxx.9xx Q9xx.Q8xx.Kx.AT8 8xxx.Kxx.J8xx.xx AK.JTx.AQT.KQJxx',\n",
       " '98x.A98x.K8x.9xx xxxx.KQxx.Jx.T8x QJTx.xx.9xxxx.Ax AK.JTx.AQT.KQJxx',\n",
       " 'QTxx.9xx.KJ9.Axx 9xxx.AQ8x.8xx.8x J8x.Kxx.xxxx.T9x AK.JTx.AQT.KQJxx',\n",
       " 'J9xx.AKxxx.9x.xx Qx.Q98x.KJ8x.98x T8xxx.x.xxxx.ATx AK.JTx.AQT.KQJxx',\n",
       " 'J9xxx.A9x.Jx.Axx Q8x.K8xx.98xx.Tx Txx.Qxx.Kxxx.98x AK.JTx.AQT.KQJxx',\n",
       " 'QJxxx.KQ8xx.xx.T T98x.Axx.98x.Axx xx.9x.KJxxx.98xx AK.JTx.AQT.KQJxx',\n",
       " 'Q9xx.K9xx.xxx.8x J8xx.A8x.9x.A9xx Txx.Qxx.KJ8xx.Tx AK.JTx.AQT.KQJxx',\n",
       " 'QJT.AQ98.8xxx.xx 8xxx.Kxx.J9x.A8x 9xxx.xxx.Kxx.T9x AK.JTx.AQT.KQJxx',\n",
       " 'Q8xx.AQxx.J8x.xx Jx.K8xx.9xxx.Axx T9xxx.9x.Kxx.T98 AK.JTx.AQT.KQJxx',\n",
       " 'Q8x.AQ8x.K8xx.8x Txx.Kxxx.Jxx.ATx J9xxx.9x.9xx.9xx AK.JTx.AQT.KQJxx',\n",
       " 'QT9x.Qxx.KJx.T9x Jxxx.A9xx.8xx.8x 8xx.K8x.9xxx.Axx AK.JTx.AQT.KQJxx',\n",
       " 'QJ8x.Axx.Kxx.xxx Txxx.K98x.J9x.98 9xx.Qxx.8xxx.ATx AK.JTx.AQT.KQJxx',\n",
       " 'QTxxx.xxx.xx.T8x Jx.AK8x.K9xx.xxx 98xx.Q9x.J8xx.A9 AK.JTx.AQT.KQJxx',\n",
       " 'J9xx.KQxxx.xx.xx 8xxx.8xx.K8x.A8x QTx.A9.J9xxx.T9x AK.JTx.AQT.KQJxx',\n",
       " 'T9xx.AKx.9xx.T8x QJ8x.Qxxx.Kx.A9x xxx.98x.J8xxx.xx AK.JTx.AQT.KQJxx',\n",
       " 'Q9xx.Q9x.Kxxx.xx JT8x.K8xx.J.ATxx xxx.Axx.98xxx.98 AK.JTx.AQT.KQJxx',\n",
       " '98.KQxx.Jxx.A9xx xxxx.A8xx.K9x.xx QJTxx.9x.8xxx.T8 AK.JTx.AQT.KQJxx',\n",
       " 'QT98.Qxx.98xx.A9 Jxxx.A8xx.K.Txxx xxx.K9x.Jxxxx.8x AK.JTx.AQT.KQJxx',\n",
       " '8xx.AQx.Jx.98xxx JT9x.K8xx.K98.Tx Qxxx.9xx.xxxxx.A AK.JTx.AQT.KQJxx',\n",
       " 'Jx.98xx.K9xxx.xx Txxx.AKxx.xx.AT9 Q98xx.Qx.J8x.8xx AK.JTx.AQT.KQJxx',\n",
       " 'Qxxx.A8xx.8x.8xx J9x.Q9xx.Kxx.Txx T8xx.Kx.J9xxx.A9 AK.JTx.AQT.KQJxx',\n",
       " 'Jxx.98xxx.Kxx.Tx QT9x.KQx.9xx.A9x 8xxx.Ax.J8xx.8xx AK.JTx.AQT.KQJxx',\n",
       " 'Txx.AQ8.J9xx.ATx J9xx.Kxxx.Kxx.98 Q8xx.9xx.8xx.xxx AK.JTx.AQT.KQJxx',\n",
       " 'Q9xxx.KQx.J8x.xx Tx.Axxx.9xx.AT9x J8xx.98x.Kxxx.8x AK.JTx.AQT.KQJxx',\n",
       " 'QJx.Axxx.Kxxx.Tx 8xxx.Q9xx.Jxx.A9 T9xx.K8.98x.8xxx AK.JTx.AQT.KQJxx',\n",
       " 'Qxx.AK8xx.J9x.8x J98.Q9xx.Kxx.xxx Txxxx.x.8xxx.AT9 AK.JTx.AQT.KQJxx',\n",
       " 'Q8xx.KQx.xxx.A8x 9xx.A9xx.KJ8x.9x JTxx.8xx.9xx.Txx AK.JTx.AQT.KQJxx',\n",
       " 'JTxxx.Axx.J8x.9x 8x.K98x.K9x.ATxx Q9xx.Qxx.xxxx.8x AK.JTx.AQT.KQJxx',\n",
       " 'T8xx.9xx.Jxx.A98 Q9xx.AK8x.8xx.Tx Jxx.Qxx.K9xx.xxx AK.JTx.AQT.KQJxx',\n",
       " '9x.A9xx.K8xx.Axx JTxx.K8xx.Jxx.Tx Q8xxx.Qx.9xx.98x AK.JTx.AQT.KQJxx',\n",
       " 'Tx.xxxx.KJ9.98xx Q9xx.KQ9x.xx.ATx J8xxx.A8.8xxxx.x AK.JTx.AQT.KQJxx',\n",
       " 'QJxx.A8x.K98.Txx 98xx.Q9xx.xxx.Ax Txx.Kxx.Jxxx.98x AK.JTx.AQT.KQJxx',\n",
       " 'Jxx.AQ9x.8xxx.8x xxx.Kxxx.Jx.A9xx QT98x.8x.K9xx.Tx AK.JTx.AQT.KQJxx',\n",
       " '98x.8xxx.Kxxx.8x QJx.AK9x.J8x.9xx Txxxx.Qx.9xx.ATx AK.JTx.AQT.KQJxx',\n",
       " 'Q98xx.A9x.9xxx.x JTx.KQ8x.Jx.A98x xxx.xxx.K8xx.Txx AK.JTx.AQT.KQJxx',\n",
       " 'J8xx.Qxx.KJxx.Tx Q9x.AK98.8xx.98x Txxx.xxx.9xx.Axx AK.JTx.AQT.KQJxx',\n",
       " '8xxxx.Kx.Jxxx.xx QJx.AQ8x.8x.98xx T9x.9xxx.K9xx.AT AK.JTx.AQT.KQJxx',\n",
       " 'QJxxx.AQx.8xx.8x 98x.98xx.Kxx.Axx Txx.Kxx.J9xx.T9x AK.JTx.AQT.KQJxx',\n",
       " 'QJ8x.A98xx.xxx.8 9xxx.Kxx.9x.ATxx Txx.Qx.KJ8xx.9xx AK.JTx.AQT.KQJxx',\n",
       " 'QT8.K8xx.Jxx.T9x Jxxx.AQ9x.K8xx.8 9xxx.xx.9xx.Axxx AK.JTx.AQT.KQJxx',\n",
       " 'J9xx.KQxx.8xx.9x T8x.A8xx.xx.ATxx Qxxx.9x.KJ9xx.8x AK.JTx.AQT.KQJxx',\n",
       " 'Q9xxx.Qxx.Jxx.Ax 8x.AKxx.8xx.T98x JTxx.98x.K9xx.xx AK.JTx.AQT.KQJxx',\n",
       " 'JTx.AKxx.98x.A8x 98xx.Qxx.KJxx.Tx Qxxx.98x.xxx.9xx AK.JTx.AQT.KQJxx',\n",
       " 'J8xx.Qxx.Kxxx.A8 Q9xx.K9xx.Jx.xxx Txx.A8x.98xx.T9x AK.JTx.AQT.KQJxx',\n",
       " 'QJxx.AKQx.xx.xxx T8xx.9x.KJ9x.A9x 9xx.8xxx.8xxx.T8 AK.JTx.AQT.KQJxx',\n",
       " 'Q8x.A9xx.xxxx.Ax JTxx.KQx.J8x.T8x 9xxx.8xx.K9x.9xx AK.JTx.AQT.KQJxx',\n",
       " 'Q9x.AQ9x.xx.T8xx JTxx.8xx.J98x.Ax 8xxx.Kxx.Kxxx.9x AK.JTx.AQT.KQJxx',\n",
       " 'J8xx.98x.K9x.Axx Txxx.KQxx.Jx.9xx Q9x.Axx.8xxxx.T8 AK.JTx.AQT.KQJxx',\n",
       " '8x.K8xxx.Jxx.8xx QJTx.AQ9x.Kx.T9x 9xxxx.x.98xxx.Ax AK.JTx.AQT.KQJxx',\n",
       " 'Qxxx.8xx.KJ8x.9x JT9x.AKx.xx.T8xx 8xx.Q9xx.9xxx.Ax AK.JTx.AQT.KQJxx',\n",
       " 'Txxx.A9xx.Kxx.T9 Qx.Q8xx.J8xx.A8x J98xx.Kx.9xx.xxx AK.JTx.AQT.KQJxx',\n",
       " 'JT9x.KQx.KJ9x.9x 8x.Axxx.xxx.A8xx Qxxxx.98x.8xx.Tx AK.JTx.AQT.KQJxx',\n",
       " 'JT9x.K8x.KJxx.xx xx.AQ9x.9xx.AT9x Q8xxx.xxx.8xx.8x AK.JTx.AQT.KQJxx',\n",
       " 'xxx.AQ9xx.Kx.xxx 98xx.Kx.Jxx.AT8x QJTx.8xx.98xxx.9 AK.JTx.AQT.KQJxx']"
      ]
     },
     "execution_count": 7,
     "metadata": {},
     "output_type": "execute_result"
    }
   ],
   "source": [
    "bid.samples"
   ]
  },
  {
   "cell_type": "markdown",
   "id": "7d0dd8f5",
   "metadata": {},
   "source": [
    "each row is one sample. the hands are in the order: N E S W\n",
    "\n",
    "(West always has the same cards because it's your hand and it's known to you)"
   ]
  },
  {
   "cell_type": "code",
   "execution_count": 8,
   "id": "7101e514",
   "metadata": {},
   "outputs": [
    {
     "name": "stdout",
     "output_type": "stream",
     "text": [
      "0\n"
     ]
    }
   ],
   "source": [
    "# we got some samples above. if we want more, we can always get more\n",
    "\n",
    "sample_hands = bot_bid.sample_hands(['PAD_START', 'PAD_START', 'PAD_START','2N','PASS','3C','PASS','3D'])\n",
    "print(sample_hands.shape[0])\n",
    "for i in range(sample_hands.shape[0]):\n",
    "    print(f'{hand_to_str(sample_hands[i, 0, :])} {hand_to_str(sample_hands[i, 1, :])} {hand_to_str(sample_hands[i, 2, :])} {hand_to_str(sample_hands[i, 3, :])}')"
   ]
  },
  {
   "cell_type": "markdown",
   "id": "7e7f18d2",
   "metadata": {},
   "source": [
    "How do we know on which sample 4H is making and on which sample it is not? It's the topic for another tutorial, but basically we could do either (1) solve the sample double dummpy or (2) estimate the outcome using a neural network"
   ]
  },
  {
   "cell_type": "markdown",
   "id": "669da023",
   "metadata": {},
   "source": [
    "### Bidding through an entire auction for all four hands\n",
    "\n",
    "Now we'll take a random deal and let the bot bid for each hand. We assume North deals and nobody is vulnerable."
   ]
  },
  {
   "cell_type": "code",
   "execution_count": 9,
   "id": "fc27ca79",
   "metadata": {},
   "outputs": [
    {
     "data": {
      "text/plain": [
       "['9.AT7.QJ95.97432',\n",
       " 'K8532.Q9.T3.AKT6',\n",
       " 'J76.K54.A84.QJ85',\n",
       " 'AQT4.J8632.K762.']"
      ]
     },
     "execution_count": 9,
     "metadata": {},
     "output_type": "execute_result"
    }
   ],
   "source": [
    "hands = random_deal().split()\n",
    "hands # N, E, S, W"
   ]
  },
  {
   "cell_type": "code",
   "execution_count": 10,
   "id": "d480cbba",
   "metadata": {},
   "outputs": [],
   "source": [
    "bidder_bots = [BotBid([False, False], hand, models, -1, -1, 0.1, sampler, False) for hand in hands]"
   ]
  },
  {
   "cell_type": "code",
   "execution_count": 11,
   "id": "7d77351a",
   "metadata": {},
   "outputs": [
    {
     "name": "stdout",
     "output_type": "stream",
     "text": [
      "['4S', 'PASS', 'PASS']\n"
     ]
    },
    {
     "data": {
      "text/plain": [
       "['PASS', '1S', 'PASS', '4C', 'PASS', '4S', 'PASS', 'PASS', 'PASS']"
      ]
     },
     "execution_count": 11,
     "metadata": {},
     "output_type": "execute_result"
    }
   ],
   "source": [
    "auction = []  # since North deals, we don't need any 'PAD_START'\n",
    "\n",
    "turn_i = 0  # whose turn is it to bid\n",
    "\n",
    "while not bidding.auction_over(auction):\n",
    "    auction.append(bidder_bots[turn_i].bid(auction).bid)\n",
    "    turn_i = (turn_i + 1) % 4  # next player's turn\n",
    "    \n",
    "auction"
   ]
  }
 ],
 "metadata": {
  "kernelspec": {
   "display_name": "Python 3 (ipykernel)",
   "language": "python",
   "name": "python3"
  },
  "language_info": {
   "codemirror_mode": {
    "name": "ipython",
    "version": 3
   },
   "file_extension": ".py",
   "mimetype": "text/x-python",
   "name": "python",
   "nbconvert_exporter": "python",
   "pygments_lexer": "ipython3",
   "version": "3.11.0"
  }
 },
 "nbformat": 4,
 "nbformat_minor": 5
}
