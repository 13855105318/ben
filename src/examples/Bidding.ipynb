{
 "cells": [
  {
   "cell_type": "markdown",
   "id": "75d07246",
   "metadata": {},
   "source": [
    "# Bidding\n",
    "\n",
    "This is a tutorial for how to use the bidding engine"
   ]
  },
  {
   "cell_type": "code",
   "execution_count": 1,
   "id": "59a5664c",
   "metadata": {},
   "outputs": [
    {
     "name": "stdout",
     "output_type": "stream",
     "text": [
      "WARNING:tensorflow:From c:\\Python311\\Lib\\site-packages\\tensorflow\\python\\compat\\v2_compat.py:107: disable_resource_variables (from tensorflow.python.ops.variable_scope) is deprecated and will be removed in a future version.\n",
      "Instructions for updating:\n",
      "non-resource variables are not supported in the long term\n"
     ]
    }
   ],
   "source": [
    "import os\n",
    "os.chdir('..')\n",
    "\n",
    "from nn.models import Models\n",
    "from bots import BotBid\n",
    "from bidding import bidding\n",
    "from util import hand_to_str\n",
    "from deck52 import random_deal\n",
    "from sample import Sample\n",
    "import conf\n",
    "import numpy as np\n",
    "\n",
    "np.set_printoptions(precision=2, suppress=True, linewidth=200)\n"
   ]
  },
  {
   "cell_type": "code",
   "execution_count": 2,
   "id": "44786d5d",
   "metadata": {},
   "outputs": [
    {
     "name": "stdout",
     "output_type": "stream",
     "text": [
      "INFO:tensorflow:Restoring parameters from D:\\github\\ben\\UCBC 2024\\Models\\bidding-3233000\n",
      "INFO:tensorflow:Restoring parameters from D:\\github\\ben\\UCBC 2024\\Models\\binfo-286000\n",
      "INFO:tensorflow:Restoring parameters from ..\\models/lead_model_b/lead-1000000\n",
      "INFO:tensorflow:Restoring parameters from ..\\models/lr3_model/lr3-1000000\n",
      "INFO:tensorflow:Restoring parameters from ..\\models/lefty_model/lefty-1000000\n",
      "INFO:tensorflow:Restoring parameters from ..\\models/dummy_model/dummy-920000\n",
      "INFO:tensorflow:Restoring parameters from ..\\models/righty_model/righty-1000000\n",
      "INFO:tensorflow:Restoring parameters from ..\\models/decl_model/decl-1000000\n"
     ]
    }
   ],
   "source": [
    "models = Models.from_conf(conf.load('./config/default.conf'),'..')   # loading neural networks\n",
    "sampler = Sample.from_conf(conf.load('./config/default.conf'))  # Load sampling strategies"
   ]
  },
  {
   "cell_type": "markdown",
   "id": "10d8f2fc",
   "metadata": {},
   "source": [
    "### Running through an example"
   ]
  },
  {
   "cell_type": "code",
   "execution_count": 3,
   "id": "19dbfeb7",
   "metadata": {},
   "outputs": [
    {
     "data": {
      "text/plain": [
       "[{'call': '4H',\n",
       "  'insta_score': 0.2556,\n",
       "  'expected_score': 186,\n",
       "  'adjustment': 13},\n",
       " {'call': 'PASS',\n",
       "  'insta_score': 0.6695,\n",
       "  'expected_score': 33,\n",
       "  'adjustment': 33}]"
      ]
     },
     "execution_count": 3,
     "metadata": {},
     "output_type": "execute_result"
    }
   ],
   "source": [
    "# East deals, EW vulnerable.\n",
    "vuln_ns, vuln_ew = False, False\n",
    "\n",
    "# you sit West and hold:\n",
    "hand = '6.AKJT82.762.K63'\n",
    "\n",
    "# the auction goes:\n",
    "# (a few words about 'PAD_START':\n",
    "# the auction is padded to dealer North\n",
    "# if North is not dealer, than we have to put in a 'PAD_START' for every seat that was skipped\n",
    "# if East deals we have one pad (because North is skipped)\n",
    "# if South deals we have two pads (because North and East are skipped)\n",
    "# etc.)\n",
    "auction = ['1D', '3S']\n",
    "bot_bid = BotBid([vuln_ns, vuln_ew], hand, models, sampler, False)\n",
    "\n",
    "bid = bot_bid.bid(auction)\n",
    "bid.to_dict()['candidates']\n",
    "\n",
    "# what's your bid?"
   ]
  },
  {
   "cell_type": "code",
   "execution_count": 4,
   "id": "bfe98f56",
   "metadata": {},
   "outputs": [
    {
     "data": {
      "text/plain": [
       "[{'call': '6H', 'insta_score': 0.132, 'expected_score': 557, 'adjustment': 7},\n",
       " {'call': 'PASS',\n",
       "  'insta_score': 0.8391,\n",
       "  'expected_score': 409,\n",
       "  'adjustment': 42}]"
      ]
     },
     "execution_count": 4,
     "metadata": {},
     "output_type": "execute_result"
    }
   ],
   "source": [
    "auction = ['1D', '3S', '4H', '4S', '5H', 'PASS']\n",
    "bid = bot_bid.bid(auction)\n",
    "bid.to_dict()['candidates']"
   ]
  },
  {
   "cell_type": "code",
   "execution_count": 5,
   "id": "602468ef",
   "metadata": {},
   "outputs": [
    {
     "data": {
      "text/plain": [
       "'PASS'"
      ]
     },
     "execution_count": 5,
     "metadata": {},
     "output_type": "execute_result"
    }
   ],
   "source": [
    "# you double, North bids 2S, your partner 3H, PASS, back to you ...\n",
    "\n",
    "bid = bot_bid.bid([\"PAD_START\", \"PASS\", \"1H\", \"X\", \"4H\", \"PASS\", \"PASS\", \"X\"])\n",
    "bid.bid"
   ]
  },
  {
   "cell_type": "code",
   "execution_count": 6,
   "id": "7227ea6b",
   "metadata": {},
   "outputs": [
    {
     "data": {
      "text/plain": [
       "[{'call': 'PASS', 'insta_score': 0.9995}]"
      ]
     },
     "execution_count": 6,
     "metadata": {},
     "output_type": "execute_result"
    }
   ],
   "source": [
    "# what options were considered?\n",
    "\n",
    "bid.to_dict()['candidates']"
   ]
  },
  {
   "cell_type": "markdown",
   "id": "ad120123",
   "metadata": {},
   "source": [
    "in the output above:\n",
    "- `insta_score` reflects what the neural network prefers to bid\n",
    "- `expected_score` is based on what you expect to score on difference samples (for example, 70% of the time you are making and 30% of the time you are going one off, then the expected score is 0.7 * 620 - 0.3 * 100)"
   ]
  },
  {
   "cell_type": "markdown",
   "id": "051ff121",
   "metadata": {},
   "source": [
    "### Samples consistent with the auction so far\n",
    "\n",
    "Above we said that we are computig expected scores on samples consistent with the auction so far.\n",
    "\n",
    "How do we get these samples?\n",
    "\n",
    "We get some samples in the response we get from the bot (i.e `bid.samples`)"
   ]
  },
  {
   "cell_type": "code",
   "execution_count": 7,
   "id": "55b647a5",
   "metadata": {},
   "outputs": [
    {
     "data": {
      "text/plain": [
       "['x.AKJT8x.xxx.Kxx T98xx.x.T98x.T9x AJxx.Q9xxxx.KJ.x KQx..AQxx.AQJ8xx 0.21341',\n",
       " 'x.AKJT8x.xxx.Kxx 8xxxx.xx.J9x.xxx Ax.Q9xxx.AT8x.T8 KQJT9..KQx.AQJ9x 0.19239',\n",
       " 'x.AKJT8x.xxx.Kxx T9xx.9.J8xx.8xxx Kxx.Qxxxxx.A9.JT AQJ8x..KQTx.AQ9x 0.07737',\n",
       " 'x.AKJT8x.xxx.Kxx 8xxx.x.J8xx.J9xx ATxx.Q9xxx.9x.Ax KQJ9.x.AKQT.QT8x 0.03372',\n",
       " 'x.AKJT8x.xxx.Kxx T9xxx.x.9xx.Txxx Q8x.Q9xxx.AQ8.Jx AKJx.x.KJTx.AQ98 0.02312']"
      ]
     },
     "execution_count": 7,
     "metadata": {},
     "output_type": "execute_result"
    }
   ],
   "source": [
    "bid.samples"
   ]
  },
  {
   "cell_type": "markdown",
   "id": "7d0dd8f5",
   "metadata": {},
   "source": [
    "each row is one sample. the hands are in the order: N E S W\n",
    "\n",
    "(West always has the same cards because it's your hand and it's known to you)"
   ]
  },
  {
   "cell_type": "code",
   "execution_count": 8,
   "id": "7101e514",
   "metadata": {},
   "outputs": [
    {
     "name": "stdout",
     "output_type": "stream",
     "text": [
      "17\n",
      "x.AKJT8x.xxx.Kxx AQxx.xxx.J8x.Jxx T9xxx.x.T9x.T98x KJ8.Q9x.AKQx.AQx\n",
      "x.AKJT8x.xxx.Kxx Q9xx.Q9x.K98.xxx T8xxx.x.Txx.JT8x AKJ.xxx.AQJx.AQ9\n",
      "x.AKJT8x.xxx.Kxx K8xx.xx.Txx.QJT9 QTxxx.9x.8x.xxxx AJ9.Qxx.AKQJ9.A8\n",
      "x.AKJT8x.xxx.Kxx QJ8x.9x.J8x.QJ98 T9xxx.xx.Q9x.Txx AKx.Qxx.AKTx.Axx\n",
      "x.AKJT8x.xxx.Kxx KQ9x.9xx.8xxx.Qx JTxxx.xx.T.JT9xx A8x.Qx.AKQJ9.A8x\n",
      "x.AKJT8x.xxx.Kxx KJxx.9x.8x.QT9xx QT9xx.xx.T9x.J8x A8x.Qxx.AKQJx.Ax\n",
      "x.AKJT8x.xxx.Kxx Q9xx.xx.J9x.Q8xx JT8xx.9x.Q8.J9xx AKx.Qxx.AKTxx.AT\n",
      "x.AKJT8x.xxx.Kxx KTxx.9xx.Q98.Txx J98xx.xx.xx.QJ8x AQx.Qx.AKJTx.A9x\n",
      "x.AKJT8x.xxx.Kxx KJxx.xxx.J98.Txx T98xx.x.Tx.QJ98x AQx.Q9x.AKQxx.Ax\n",
      "x.AKJT8x.xxx.Kxx J9xx.xx.K8x.QJTx QT8xxx.xxx.9x.9x AK.Q9.AQJTx.A8xx\n",
      "x.AKJT8x.xxx.Kxx JTxx.xx.K8x.QT9x Q98xxx.9xx.JTx.x AK.Qx.AQ9x.AJ8xx\n",
      "x.AKJT8x.xxx.Kxx K9xx.9xx.9xx.Q9x QJT8xx.xx.JT.8xx Ax.Qx.AKQ8x.AJTx\n",
      "x.AKJT8x.xxx.Kxx KT8x.9x.Q98x.JTx QJ9xxx.xxx.T.9xx Ax.Qx.AKJxx.AQ8x\n",
      "x.AKJT8x.xxx.Kxx QT9x.9xx.Qxx.J9x KJ8xxx.xx.98x.8x Ax.Qx.AKJT.AQTxx\n",
      "x.AKJT8x.xxx.Kxx Jxxx.9xxx.xx.QJx QT98x.x.Q9x.T9xx AKx.Qx.AKJT8.A8x\n",
      "x.AKJT8x.xxx.Kxx KQJTxx.xx.98x.8x 98xx.xxx.Jx.Jxxx Ax.Q9.AKQTx.AQT9\n",
      "x.AKJT8x.xxx.Kxx J8xx.9xx.T8x.ATx 9xxx.Qxx.9x.J9xx AKQT.x.AKQJx.Q8x\n"
     ]
    }
   ],
   "source": [
    "# we got some samples above. if we want more, we can always get more\n",
    "\n",
    "sample_hands, sorted_score, p_hcp, p_shp = bot_bid.sample_hands_auction(['PAD_START', 'PAD_START', 'PAD_START','2N','PASS','3C','PASS','3D'])\n",
    "\n",
    "for i in range(sample_hands.shape[0]):\n",
    "    print(f'{hand_to_str(sample_hands[i, 0, :])} {hand_to_str(sample_hands[i, 1, :])} {hand_to_str(sample_hands[i, 2, :])} {hand_to_str(sample_hands[i, 3, :])}')"
   ]
  },
  {
   "cell_type": "markdown",
   "id": "7e7f18d2",
   "metadata": {},
   "source": [
    "How do we know on which sample 4H is making and on which sample it is not? It's the topic for another tutorial, but basically we could do either (1) solve the sample double dummpy or (2) estimate the outcome using a neural network"
   ]
  },
  {
   "cell_type": "markdown",
   "id": "669da023",
   "metadata": {},
   "source": [
    "### Bidding through an entire auction for all four hands\n",
    "\n",
    "Now we'll take a random deal and let the bot bid for each hand. We assume North deals and nobody is vulnerable."
   ]
  },
  {
   "cell_type": "code",
   "execution_count": 9,
   "id": "fc27ca79",
   "metadata": {},
   "outputs": [
    {
     "data": {
      "text/plain": [
       "['JT7.AJ62.T9.JT87',\n",
       " 'AQ9832.T87.876.9',\n",
       " 'K4.Q43.AQ432.Q65',\n",
       " '65.K95.KJ5.AK432']"
      ]
     },
     "execution_count": 9,
     "metadata": {},
     "output_type": "execute_result"
    }
   ],
   "source": [
    "hands = random_deal().split()\n",
    "hands # N, E, S, W"
   ]
  },
  {
   "cell_type": "code",
   "execution_count": 10,
   "id": "d480cbba",
   "metadata": {},
   "outputs": [],
   "source": [
    "bidder_bots = [BotBid([False, False], hand, models, sampler, False) for hand in hands]"
   ]
  },
  {
   "cell_type": "code",
   "execution_count": 11,
   "id": "7d77351a",
   "metadata": {},
   "outputs": [
    {
     "data": {
      "text/plain": [
       "['PASS', '2S', '3D', '3S', 'PASS', 'PASS', 'PASS']"
      ]
     },
     "execution_count": 11,
     "metadata": {},
     "output_type": "execute_result"
    }
   ],
   "source": [
    "auction = []  # since North deals, we don't need any 'PAD_START'\n",
    "\n",
    "turn_i = 0  # whose turn is it to bid\n",
    "\n",
    "while not bidding.auction_over(auction):\n",
    "    auction.append(bidder_bots[turn_i].bid(auction).bid)\n",
    "    turn_i = (turn_i + 1) % 4  # next player's turn\n",
    "    \n",
    "auction"
   ]
  }
 ],
 "metadata": {
  "kernelspec": {
   "display_name": "Python 3 (ipykernel)",
   "language": "python",
   "name": "python3"
  },
  "language_info": {
   "codemirror_mode": {
    "name": "ipython",
    "version": 3
   },
   "file_extension": ".py",
   "mimetype": "text/x-python",
   "name": "python",
   "nbconvert_exporter": "python",
   "pygments_lexer": "ipython3",
   "version": "3.11.0"
  }
 },
 "nbformat": 4,
 "nbformat_minor": 5
}
