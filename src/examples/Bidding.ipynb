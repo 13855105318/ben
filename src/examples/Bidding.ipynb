{
 "cells": [
  {
   "cell_type": "markdown",
   "id": "75d07246",
   "metadata": {},
   "source": [
    "# Bidding\n",
    "\n",
    "This is a tutorial for how to use the bidding engine"
   ]
  },
  {
   "cell_type": "code",
   "execution_count": 1,
   "id": "59a5664c",
   "metadata": {},
   "outputs": [
    {
     "name": "stdout",
     "output_type": "stream",
     "text": [
      "Loaded lib <CDLL './ddsolver/libdds.so', handle 55c95737d3c0 at 0x7f0d7f834990>\n"
     ]
    }
   ],
   "source": [
    "import os\n",
    "os.chdir('..')\n",
    "\n",
    "from nn.models import Models\n",
    "from bots import BotBid\n",
    "from bidding import bidding\n",
    "from util import hand_to_str\n",
    "from deck52 import random_deal"
   ]
  },
  {
   "cell_type": "code",
   "execution_count": 3,
   "id": "44786d5d",
   "metadata": {},
   "outputs": [
    {
     "name": "stdout",
     "output_type": "stream",
     "text": [
      "INFO:tensorflow:Restoring parameters from ../models/gib21_model/gib21-1000000\n",
      "INFO:tensorflow:Restoring parameters from ../models/gib21_info_model/gib21_info-500000\n",
      "INFO:tensorflow:Restoring parameters from ../models/lead_model_b/lead-1000000\n",
      "INFO:tensorflow:Restoring parameters from ../models/lr3_model/lr3-1000000\n",
      "INFO:tensorflow:Restoring parameters from ../models/lefty_model_tiny/lefty-1000000\n",
      "INFO:tensorflow:Restoring parameters from ../models/dummy_model_tiny/dummy-1000000\n",
      "INFO:tensorflow:Restoring parameters from ../models/righty_model_tiny/righty-1000000\n",
      "INFO:tensorflow:Restoring parameters from ../models/decl_model_tiny/decl-1000000\n"
     ]
    }
   ],
   "source": [
    "models = Models.load('../models')   # loading neural networks"
   ]
  },
  {
   "cell_type": "markdown",
   "id": "10d8f2fc",
   "metadata": {},
   "source": [
    "### Running through an example"
   ]
  },
  {
   "cell_type": "code",
   "execution_count": 4,
   "id": "19dbfeb7",
   "metadata": {},
   "outputs": [],
   "source": [
    "# East deals, EW vulnerable.\n",
    "vuln_ns, vuln_ew = False, True\n",
    "\n",
    "# you sit West and hold:\n",
    "hand = '73.KJ83.AT2.T962'\n",
    "\n",
    "# the auction goes:\n",
    "# (a few words about 'PAD_START':\n",
    "# the auction is padded to dealer North\n",
    "# if North is not dealer, than we have to put in a 'PAD_START' for every seat that was skipped\n",
    "# if East deals we have one pad (because North is skipped)\n",
    "# if South deals we have two pads (because North and East are skipped)\n",
    "# etc.)\n",
    "auction = ['PAD_START', '1D', '1S']\n",
    "\n",
    "# what's your bid?"
   ]
  },
  {
   "cell_type": "code",
   "execution_count": 5,
   "id": "bfe98f56",
   "metadata": {},
   "outputs": [
    {
     "data": {
      "text/plain": [
       "'X'"
      ]
     },
     "execution_count": 5,
     "metadata": {},
     "output_type": "execute_result"
    }
   ],
   "source": [
    "bot_bid = BotBid([vuln_ns, vuln_ew], hand, models)\n",
    "\n",
    "bot_bid.bid(['PAD_START', '1D', '1S']).bid"
   ]
  },
  {
   "cell_type": "code",
   "execution_count": 6,
   "id": "602468ef",
   "metadata": {},
   "outputs": [
    {
     "data": {
      "text/plain": [
       "'4H'"
      ]
     },
     "execution_count": 6,
     "metadata": {},
     "output_type": "execute_result"
    }
   ],
   "source": [
    "# you double, North bids 2S, your partner 3H, PASS, back to you ...\n",
    "\n",
    "bid = bot_bid.bid(['PAD_START', '1D', '1S', 'X', '2S', '3H', 'PASS'])\n",
    "bid.bid"
   ]
  },
  {
   "cell_type": "code",
   "execution_count": 7,
   "id": "7227ea6b",
   "metadata": {},
   "outputs": [
    {
     "data": {
      "text/plain": [
       "[{'call': '4H',\n",
       "  'insta_score': 0.6589298248291016,\n",
       "  'expected_score': 38.16571872706945},\n",
       " {'call': 'PASS',\n",
       "  'insta_score': 0.3114378750324249,\n",
       "  'expected_score': 15.413541678671342}]"
      ]
     },
     "execution_count": 7,
     "metadata": {},
     "output_type": "execute_result"
    }
   ],
   "source": [
    "# what options were considered?\n",
    "\n",
    "bid.to_dict()['candidates']"
   ]
  },
  {
   "cell_type": "markdown",
   "id": "ad120123",
   "metadata": {},
   "source": [
    "in the output above:\n",
    "- `insta_score` reflects what the neural network prefers to bid\n",
    "- `expected_score` is based on what you expect to score on difference samples (for example, 70% of the time you are making and 30% of the time you are going one off, then the expected score is 0.7 * 620 - 0.3 * 100)"
   ]
  },
  {
   "cell_type": "markdown",
   "id": "051ff121",
   "metadata": {},
   "source": [
    "### Samples consistent with the auction so far\n",
    "\n",
    "Above we said that we are computig expected scores on samples consistent with the auction so far.\n",
    "\n",
    "How do we get these samples?\n",
    "\n",
    "We get some samples in the response we get from the bot (i.e `bid.samples`)"
   ]
  },
  {
   "cell_type": "code",
   "execution_count": 8,
   "id": "55b647a5",
   "metadata": {},
   "outputs": [
    {
     "data": {
      "text/plain": [
       "['xxxx.Qxx.Q8xx.KQ Q8.A9xx.KJxx.Axx AKJT9.Tx.9x.J8xx xx.KJ8x.ATx.T9xx',\n",
       " 'KJ9x.Txx.8xx.Qxx 8x.AQx.KJxxx.KJx AQTxx.9xx.Q9.A8x xx.KJ8x.ATx.T9xx',\n",
       " 'T8x.QT.KJ9x.QJ8x Qxx.A9xx.Q8xx.Ax AKJ9x.xxx.xx.Kxx xx.KJ8x.ATx.T9xx',\n",
       " '8xx.9x.K8xx.KQ8x AT9.Axxx.Q9xx.Ax KQJxx.QTx.Jx.Jxx xx.KJ8x.ATx.T9xx',\n",
       " '8xx.A9xx.QJxx.xx ATx.QTxx.K9xx.AJ KQJ9x.x.8x.KQ8xx xx.KJ8x.ATx.T9xx',\n",
       " 'KTxx.Q9x.xxx.Qxx Ax.ATxx.KQJ9x.8x QJ98x.xx.8x.AKJx xx.KJ8x.ATx.T9xx',\n",
       " 'QJx.9xxx.xxx.K8x AT.ATxx.QJ8x.QJx K98xxx.Q.K9x.Axx xx.KJ8x.ATx.T9xx',\n",
       " 'JTx.x.K98x.K8xxx K98.AQ9x.QJxxx.Q AQxxx.Txxx.x.AJx xx.KJ8x.ATx.T9xx',\n",
       " 'Txx.9xx.QJx.Axxx KQ9.AQTx.8xxxx.Q AJ8xx.xx.K9.KJ8x xx.KJ8x.ATx.T9xx',\n",
       " 'QT9.Qxx.98xx.AJx KJ8.AT9x.KJxxx.8 Axxxx.xx.Q.KQxxx xx.KJ8x.ATx.T9xx']"
      ]
     },
     "execution_count": 8,
     "metadata": {},
     "output_type": "execute_result"
    }
   ],
   "source": [
    "bid.samples"
   ]
  },
  {
   "cell_type": "markdown",
   "id": "7d0dd8f5",
   "metadata": {},
   "source": [
    "each row is one sample. the hands are in the order: N E S W\n",
    "\n",
    "(West always has the same cards because it's your hand and it's known to you)"
   ]
  },
  {
   "cell_type": "code",
   "execution_count": 9,
   "id": "7101e514",
   "metadata": {},
   "outputs": [
    {
     "name": "stdout",
     "output_type": "stream",
     "text": [
      "8xx.xx.xxx.AKJxx K9x.AQTx.KQJ98.8 AQJTx.9xx.xx.Qxx xx.KJ8x.ATx.T9xx\n",
      "KJ8.xx.8xx.J8xxx Q9x.Axxx.KQJ9x.K ATxxx.QT9.xx.AQx xx.KJ8x.ATx.T9xx\n",
      "xxx.9xx.9x.AQJxx A98.Axxx.KJ8xx.x KQJTx.QT.Qxx.K8x xx.KJ8x.ATx.T9xx\n",
      "KTxx.9xx.9x.Qxxx 8x.ATxx.KJ8x.AJ8 AQJ9x.Qx.Qxxx.Kx xx.KJ8x.ATx.T9xx\n",
      "Q9x.Qxx.Q9x.Kxxx ATx.ATxx.Kxxx.Jx KJ8xx.9x.J8x.AQ8 xx.KJ8x.ATx.T9xx\n",
      "Kxx.Txx.KJ98.Jxx AT.A9xx.Qxxx.A8x QJ98xx.Qx.xx.KQx xx.KJ8x.ATx.T9xx\n",
      "JT8x.T9x.Qx.A8xx 9x.AQxx.KJ8xxx.Q AKQxx.xx.9x.KJxx xx.KJ8x.ATx.T9xx\n",
      "Kxx.T9xx.QJxx.xx ATx.AQxx.98xx.K8 QJ98x.x.Kx.AQJxx xx.KJ8x.ATx.T9xx\n",
      "Jxx.ATx.Jxxx.Jxx AK.Qxxx.K9xx.Qxx QT98xx.9x.Q8.AK8 xx.KJ8x.ATx.T9xx\n",
      "AJ9.9xx.Q8x.Q8xx 8x.QTxx.K9xx.AKJ KQTxxx.Ax.Jxx.xx xx.KJ8x.ATx.T9xx\n",
      "Qxx.QT.J8xx.Qxxx A98.A9xx.KQxx.Jx KJTxx.xxx.9x.AK8 xx.KJ8x.ATx.T9xx\n",
      "K9x.Qx.J98x.K8xx xx.Axxx.Qxxx.AQx AQJT8x.T9x.Kx.Jx xx.KJ8x.ATx.T9xx\n",
      "Jxx.Qxx.QJx.QJxx KTx.AT9x.K9xx.K8 AQ98x.xx.8xx.Axx xx.KJ8x.ATx.T9xx\n",
      "KTx.9xx.Kxxx.QJx AJ8.AQxx.Q9xx.8x Q9xxx.Tx.J8.AKxx xx.KJ8x.ATx.T9xx\n",
      "QT9.9xx.Qx.KJ8xx AKx.Qxxx.J98xx.Q J8xxx.AT.Kxx.Axx xx.KJ8x.ATx.T9xx\n",
      "Jxx.Txx.Jxx.KQ8x K8xx.Q9xx.KQx.Ax AQT9.Ax.98xx.Jxx xx.KJ8x.ATx.T9xx\n",
      "T9xx.Qx.Q9xx.QJx Jx.ATxx.K8xxx.Ax AKQ8x.9xx.J.K8xx xx.KJ8x.ATx.T9xx\n",
      "QJxx.9xx.KJx.xxx T9x.ATxx.Qxxx.AQ AK8x.Qx.98x.KJ8x xx.KJ8x.ATx.T9xx\n",
      "AJ8x.xx.xxxx.xxx KT.T9xx.KQJ98.KJ Q9xxx.AQx.x.AQ8x xx.KJ8x.ATx.T9xx\n",
      "Jxxx.9xx.KJx.J8x K9x.AQTx.Qxxx.Qx AQT8.xx.98x.AKxx xx.KJ8x.ATx.T9xx\n",
      "Kxx.Txx.8xx.QJ8x Qxx.Q9xx.Qxxx.AK AJT98.Ax.KJ9.xxx xx.KJ8x.ATx.T9xx\n",
      "Q8xx.9xx.Kxxx.Q8 Ax.AQTx.Q98xx.xx KJT9x.xx.J.AKJxx xx.KJ8x.ATx.T9xx\n",
      "JTx.xx.xxx.KJ8xx AQ.ATxx.KJ8xx.xx K98xxx.Q9x.Q9.AQ xx.KJ8x.ATx.T9xx\n",
      "KJxxx.xxx.Qx.8xx 8.A9xx.KJ9xx.KQJ AQT9x.QT.8xx.Axx xx.KJ8x.ATx.T9xx\n",
      "JT9.xx.J8xx.K8xx xxx.AQ9x.Kxxx.Ax AKQ8x.Txx.Q9.QJx xx.KJ8x.ATx.T9xx\n",
      "J98xx.xx.J9x.KJ8 K.QT9x.KQxxx.AQx AQTxx.Axx.8x.xxx xx.KJ8x.ATx.T9xx\n",
      "KJx.Qxxx.98.Q8xx Qx.AT9x.KQxx.Kxx AT98xx.x.Jxxx.AJ xx.KJ8x.ATx.T9xx\n",
      "QJ9x.Txx.Q8x.J8x 8x.A9xx.Kxxxx.KQ AKTxx.Qx.J9.Axxx xx.KJ8x.ATx.T9xx\n",
      "J8xx.9x.9xx.AJxx Qx.AQxx.KJxxx.Q8 AKT9x.Txx.Q8.Kxx xx.KJ8x.ATx.T9xx\n",
      "A98x.QTx.Q8x.Jxx J.Axxx.K9xxx.KQx KQTxxx.9x.Jx.A8x xx.KJ8x.ATx.T9xx\n",
      "T9xx.QT9.Jxx.KQx Qx.Axxx.Q98x.AJ8 AKJ8x.xx.Kxx.xxx xx.KJ8x.ATx.T9xx\n",
      "ATx.Qxx.9xx.Jxxx Jxx.ATxx.KQxxx.Q KQ98x.9x.J8.AK8x xx.KJ8x.ATx.T9xx\n",
      "Axxx.xxx.9xx.Q8x Kx.AQxx.KQ8xx.xx QJT98.T9.Jx.AKJx xx.KJ8x.ATx.T9xx\n",
      "Txx.Axx.J98xx.Jx A8x.T9xx.KQxx.Kx KQJ9x.Qx.x.AQ8xx xx.KJ8x.ATx.T9xx\n",
      "KT9x.T9x.98x.Kxx xx.AQxx.QJxx.A8x AQJ8x.xx.Kxx.QJx xx.KJ8x.ATx.T9xx\n",
      "K9xx.Qx.8xx.Qxxx A8.9xxx.KQxx.KJ8 QJTxx.ATx.J9x.Ax xx.KJ8x.ATx.T9xx\n",
      "Qxx.ATxx.98xx.Q8 JTx.Q9xx.KQJx.Ax AK98x.x.xx.KJxxx xx.KJ8x.ATx.T9xx\n",
      "AT8.T9x.9xxx.Q8x 9xx.AQxx.KQ8x.Kx KQJxx.xx.Jx.AJxx xx.KJ8x.ATx.T9xx\n",
      "JT8x.Q9x.K.8xxxx AQ.ATxx.J9xxxx.K K9xxx.xx.Q8x.AQJ xx.KJ8x.ATx.T9xx\n",
      "Q9x.xx.Qxx.QJ8xx Axx.AQ9x.K98xx.x KJT8x.Txx.Jx.AKx xx.KJ8x.ATx.T9xx\n",
      "Jxxx.Q9x.Jx.QJ8x Kx.ATxx.Q98x.Kxx AQT98.xx.Kxxx.Ax xx.KJ8x.ATx.T9xx\n",
      "QT8x.Axx.8xxx.Jx K9.Qxxx.KQ9xx.Ax AJxxx.T9.J.KQ8xx xx.KJ8x.ATx.T9xx\n",
      "T9x.9xx.Kxxx.KQx Axx.Qxxx.QJxx.Ax KQJ8x.AT.98.J8xx xx.KJ8x.ATx.T9xx\n",
      "QTx.xx.Q8xx.KJ8x KJ.AT9x.KJxx.Qxx A98xxx.Qxx.9x.Ax xx.KJ8x.ATx.T9xx\n",
      "Axxx.9xx.8xx.KQx KJ.Axxx.KJ9x.8xx QT98x.QT.Qxx.AJx xx.KJ8x.ATx.T9xx\n",
      "KTx.xxx.Q8x.QJxx Qxx.AQ9x.KJxx.xx AJ98x.Tx.9xx.AK8 xx.KJ8x.ATx.T9xx\n",
      "AT8x.Txx.8xx.Kxx 9x.A9xx.KQJx.A8x KQJxx.Qx.9xx.QJx xx.KJ8x.ATx.T9xx\n",
      "KQx.T9x.J98x.Kxx J8x.AQxx.KQxxx.Q AT9xx.xx.x.AJ8xx xx.KJ8x.ATx.T9xx\n",
      "Txx.QTxx.J9x.AJ8 KQx.A9xx.KQxx.xx AJ98x.x.8xx.KQxx xx.KJ8x.ATx.T9xx\n",
      "8xx.xx.QJ9x.K8xx J9xx.AQ9x.K8x.Qx AKQT.Txx.xxx.AJx xx.KJ8x.ATx.T9xx\n",
      "T8x.9x.QJxx.QJxx J9x.ATxx.K8xx.Ax AKQxx.Qxx.9x.K8x xx.KJ8x.ATx.T9xx\n",
      "Txx.Axx.J9xx.Q8x KQx.Q9xx.KQ8x.xx AJ98x.Tx.xx.AKJx xx.KJ8x.ATx.T9xx\n",
      "Txx.xxx.KQx.J8xx AK8.QT9x.J9xxx.K QJ9xx.Ax.8x.AQxx xx.KJ8x.ATx.T9xx\n",
      "QTx.T.KJ9xx.Jxxx J8x.Axxx.Q8xx.AK AK9xx.Q9xx.x.Q8x xx.KJ8x.ATx.T9xx\n",
      "JTx.A9.Qxxx.J8xx A9x.QTxx.K8xx.KQ KQ8xx.xxx.J9.Axx xx.KJ8x.ATx.T9xx\n",
      "Kxx.QTx.8xxx.8xx AT8.9xxx.KJ9x.KJ QJ9xx.Ax.Qx.AQxx xx.KJ8x.ATx.T9xx\n",
      "8xx.9xxx.xx.AQ8x KJ9x.AQTx.K8xx.x AQTx.x.QJ9x.KJxx xx.KJ8x.ATx.T9xx\n"
     ]
    }
   ],
   "source": [
    "# we got some samples above. if we want more, we can always get more\n",
    "\n",
    "sample_hands = bot_bid.sample_hands(['PAD_START', '1D', '1S', 'X', '2S', '3H', 'PASS'])\n",
    "\n",
    "for i in range(sample_hands.shape[0]):\n",
    "    print(f'{hand_to_str(sample_hands[i, 0, :])} {hand_to_str(sample_hands[i, 1, :])} {hand_to_str(sample_hands[i, 2, :])} {hand_to_str(sample_hands[i, 3, :])}')"
   ]
  },
  {
   "cell_type": "markdown",
   "id": "7e7f18d2",
   "metadata": {},
   "source": [
    "How do we know on which sample 4H is making and on which sample it is not? It's the topic for another tutorial, but basically we could do either (1) solve the sample double dummpy or (2) estimate the outcome using a neural network"
   ]
  },
  {
   "cell_type": "markdown",
   "id": "669da023",
   "metadata": {},
   "source": [
    "### Bidding through an entire auction for all four hands\n",
    "\n",
    "Now we'll take a random deal and let the bot bid for each hand. We assume North deals and nobody is vulnerable."
   ]
  },
  {
   "cell_type": "code",
   "execution_count": 10,
   "id": "fc27ca79",
   "metadata": {},
   "outputs": [
    {
     "data": {
      "text/plain": [
       "['A8.Q752.T54.JT63',\n",
       " 'K54.T643.A92.A72',\n",
       " 'JT932.K9.Q86.854',\n",
       " 'Q76.AJ8.KJ73.KQ9']"
      ]
     },
     "execution_count": 10,
     "metadata": {},
     "output_type": "execute_result"
    }
   ],
   "source": [
    "hands = random_deal().split()\n",
    "hands # N, E, S, W"
   ]
  },
  {
   "cell_type": "code",
   "execution_count": 11,
   "id": "d480cbba",
   "metadata": {},
   "outputs": [],
   "source": [
    "bidder_bots = [BotBid([False, False], hand, models) for hand in hands]"
   ]
  },
  {
   "cell_type": "code",
   "execution_count": 12,
   "id": "7d77351a",
   "metadata": {},
   "outputs": [
    {
     "data": {
      "text/plain": [
       "['PASS',\n",
       " 'PASS',\n",
       " 'PASS',\n",
       " '1N',\n",
       " 'PASS',\n",
       " '2C',\n",
       " 'PASS',\n",
       " '2D',\n",
       " 'PASS',\n",
       " '3N',\n",
       " 'PASS',\n",
       " 'PASS',\n",
       " 'PASS']"
      ]
     },
     "execution_count": 12,
     "metadata": {},
     "output_type": "execute_result"
    }
   ],
   "source": [
    "auction = []  # since North deals, we don't need any 'PAD_START'\n",
    "\n",
    "turn_i = 0  # whose turn is it to bid\n",
    "\n",
    "while not bidding.auction_over(auction):\n",
    "    auction.append(bidder_bots[turn_i].bid(auction).bid)\n",
    "    turn_i = (turn_i + 1) % 4  # next player's turn\n",
    "    \n",
    "auction"
   ]
  }
 ],
 "metadata": {
  "kernelspec": {
   "display_name": "Python 3 (ipykernel)",
   "language": "python",
   "name": "python3"
  },
  "language_info": {
   "codemirror_mode": {
    "name": "ipython",
    "version": 3
   },
   "file_extension": ".py",
   "mimetype": "text/x-python",
   "name": "python",
   "nbconvert_exporter": "python",
   "pygments_lexer": "ipython3",
   "version": "3.7.11"
  }
 },
 "nbformat": 4,
 "nbformat_minor": 5
}
