{
 "cells": [
  {
   "cell_type": "markdown",
   "id": "75d07246",
   "metadata": {},
   "source": [
    "# Bidding\n",
    "\n",
    "This is a tutorial for how to use the bidding engine"
   ]
  },
  {
   "cell_type": "code",
   "execution_count": 1,
   "id": "59a5664c",
   "metadata": {},
   "outputs": [],
   "source": [
    "import os\n",
    "os.chdir('..')\n",
    "\n",
    "from nn.models import Models\n",
    "from bots import BotBid\n",
    "from bidding import bidding\n",
    "from util import hand_to_str\n",
    "from deck52 import random_deal\n",
    "from sample import Sample\n",
    "import conf\n",
    "import numpy as np\n",
    "\n",
    "np.set_printoptions(precision=2, suppress=True, linewidth=200)\n"
   ]
  },
  {
   "cell_type": "code",
   "execution_count": 2,
   "id": "44786d5d",
   "metadata": {},
   "outputs": [
    {
     "name": "stdout",
     "output_type": "stream",
     "text": [
      "WARNING:tensorflow:From c:\\Python311\\Lib\\site-packages\\tensorflow\\python\\compat\\v2_compat.py:107: disable_resource_variables (from tensorflow.python.ops.variable_scope) is deprecated and will be removed in a future version.\n",
      "Instructions for updating:\n",
      "non-resource variables are not supported in the long term\n",
      "INFO:tensorflow:Restoring parameters from ..\\models/GIB/bidding_V2-3130000\n",
      "INFO:tensorflow:Restoring parameters from ..\\models/contract/contract-193200\n",
      "INFO:tensorflow:Restoring parameters from ..\\models/GIB/binfo_V2-3130000\n",
      "INFO:tensorflow:Restoring parameters from ..\\UCBC 2024/Models/lead_suit-999000\n",
      "INFO:tensorflow:Restoring parameters from ..\\UCBC 2024/Models/lead_nt-475000\n",
      "INFO:tensorflow:Restoring parameters from ..\\models/lr3_model/lr3-1000000\n",
      "INFO:tensorflow:Restoring parameters from ..\\models/single_dummy/single_dummy-32768000\n",
      "INFO:tensorflow:Restoring parameters from ..\\models/playing/lefty_nt-475000\n",
      "INFO:tensorflow:Restoring parameters from ..\\models/playing/dummy_nt-475000\n",
      "INFO:tensorflow:Restoring parameters from ..\\models/playing/righty_nt-475000\n",
      "INFO:tensorflow:Restoring parameters from ..\\models/playing/decl_nt-475000\n",
      "INFO:tensorflow:Restoring parameters from ..\\models/playing/lefty_suit-999000\n",
      "INFO:tensorflow:Restoring parameters from ..\\models/playing/dummy_suit-999000\n",
      "INFO:tensorflow:Restoring parameters from ..\\models/playing/righty_suit-999000\n",
      "INFO:tensorflow:Restoring parameters from ..\\models/playing/decl_suit-999000\n"
     ]
    }
   ],
   "source": [
    "models = Models.from_conf(conf.load('./config/default.conf'),'..')   # loading neural networks\n",
    "sampler = Sample.from_conf(conf.load('./config/default.conf'))  # Load sampling strategies"
   ]
  },
  {
   "cell_type": "markdown",
   "id": "10d8f2fc",
   "metadata": {},
   "source": [
    "### Running through an example"
   ]
  },
  {
   "cell_type": "code",
   "execution_count": 3,
   "id": "19dbfeb7",
   "metadata": {},
   "outputs": [
    {
     "name": "stderr",
     "output_type": "stream",
     "text": [
      "Loaded lib dds.dll\n"
     ]
    },
    {
     "data": {
      "text/plain": [
       "[{'call': '4H',\n",
       "  'insta_score': 0.497,\n",
       "  'expected_score': 284,\n",
       "  'expected_tricks': 10.3,\n",
       "  'adjustment': 25,\n",
       "  'alert': 'False'},\n",
       " {'call': 'PASS',\n",
       "  'insta_score': 0.498,\n",
       "  'expected_score': 82,\n",
       "  'expected_tricks': 9.0,\n",
       "  'adjustment': 25,\n",
       "  'alert': 'False'}]"
      ]
     },
     "execution_count": 3,
     "metadata": {},
     "output_type": "execute_result"
    }
   ],
   "source": [
    "\n",
    "vuln_ns, vuln_ew = False, False\n",
    "\n",
    "# you sit West and hold:\n",
    "hand = '6.AKJT82.762.K63'\n",
    "\n",
    "# the auction goes:\n",
    "auction = ['1D', '3S']\n",
    "bot_bid = BotBid([vuln_ns, vuln_ew], hand, models, sampler, seat=2, dealer=0, verbose=False)\n",
    "\n",
    "bid = bot_bid.bid(auction)\n",
    "bid.to_dict()['candidates']\n",
    "\n",
    "# what's your bid?"
   ]
  },
  {
   "cell_type": "code",
   "execution_count": 4,
   "id": "bfe98f56",
   "metadata": {},
   "outputs": [
    {
     "data": {
      "text/plain": [
       "[{'call': 'PASS',\n",
       "  'insta_score': 0.981,\n",
       "  'expected_score': 160,\n",
       "  'expected_tricks': 10.2,\n",
       "  'adjustment': 0,\n",
       "  'alert': 'False'}]"
      ]
     },
     "execution_count": 4,
     "metadata": {},
     "output_type": "execute_result"
    }
   ],
   "source": [
    "auction = ['1D', '3S', '4H', '4S', '5H', 'PASS']\n",
    "bid = bot_bid.bid(auction)\n",
    "bid.to_dict()['candidates']"
   ]
  },
  {
   "cell_type": "markdown",
   "id": "ad120123",
   "metadata": {},
   "source": [
    "in the output above:\n",
    "- `insta_score` reflects what the neural network prefers to bid\n",
    "- `expected_score` is based on what you expect to score on difference samples (for example, 70% of the time you are making and 30% of the time you are going one off, then the expected score is 0.7 * 620 - 0.3 * 100)"
   ]
  },
  {
   "cell_type": "markdown",
   "id": "051ff121",
   "metadata": {},
   "source": [
    "### Samples consistent with the auction so far\n",
    "\n",
    "Above we said that we are computig expected scores on samples consistent with the auction so far.\n",
    "\n",
    "How do we get these samples?\n",
    "\n",
    "We get some samples in the response we get from the bot (i.e `bid.samples`)"
   ]
  },
  {
   "cell_type": "code",
   "execution_count": 5,
   "id": "55b647a5",
   "metadata": {},
   "outputs": [
    {
     "data": {
      "text/plain": [
       "['A8x.Q9x.KQT9x.Jx KJT9xxx.xxx..T9x x.AKJT8x.xxx.Kxx Qx.x.AJ8xx.AQ8xx 0.69102',\n",
       " 'x.Qx.AQJ98x.QJTx KQJ8xxx.9.x.A98x x.AKJT8x.xxx.Kxx AT9x.xxxx.KTx.xx 0.67535',\n",
       " 'Ax.9xx.KT9x.A98x KT8xxxx.x.J8x.Qx x.AKJT8x.xxx.Kxx QJ9.Qxx.AQx.JTxx 0.67421',\n",
       " 'x.xx.KQJT8x.AJTx KQT9xxx.x.A.Q8xx x.AKJT8x.xxx.Kxx AJ8x.Q9xx.9xx.9x 0.65984',\n",
       " 'Tx.9x.KQJT98x.AJ AK98xxx.Qx..QTxx x.AKJT8x.xxx.Kxx QJx.xxx.Axx.98xx 0.64260',\n",
       " 'A9x.xxx.KJxx.A8x KJT8xxx.xx.Tx.Tx x.AKJT8x.xxx.Kxx Qx.Q9.AQ98.QJ9xx 0.62197',\n",
       " 'Axx.Qx.AK98x.98x KJ98xxx.9.Txx.Jx x.AKJT8x.xxx.Kxx QT.xxxx.QJ.AQTxx 0.61275',\n",
       " 'AQx.xx.KQTxx.Q9x KJT8xxx.9xx.9.Jx x.AKJT8x.xxx.Kxx 9x.Qx.AJ8x.AT8xx 0.60011',\n",
       " 'JT.xx.AKQ98xx.J8 KQ9xxxx.xx..AQxx x.AKJT8x.xxx.Kxx A8x.Q9x.JTx.T9xx 0.59392',\n",
       " 'K9x.xx.KQ9x.AJxx QJT8xxx.Qx.JT.8x x.AKJT8x.xxx.Kxx Ax.9xx.A8xx.QT9x 0.59276',\n",
       " 'Qx.Qxx.AKJTx.QT8 AT8xxxx.9x.9x.J9 x.AKJT8x.xxx.Kxx KJ9.xx.Q8x.Axxxx 0.59097',\n",
       " '9.Qxxx.KQJx.A98x AT8xxxx.x.A.QJTx x.AKJT8x.xxx.Kxx KQJx.9x.T98xx.xx 0.58950',\n",
       " 'AQ.xx.KQ98xx.A8x K9xxxxx.Q.JTx.xx x.AKJT8x.xxx.Kxx JT8.9xxx.A.QJT9x 0.58702',\n",
       " 'Kxx.9x.AT98xx.AT QJT8xxx.xxx..J9x x.AKJT8x.xxx.Kxx A9.Qx.KQJx.Q8xxx 0.58272',\n",
       " 'Kxx.9xx.AKT8x.Qx QT98xxx.Q.9xx.T8 x.AKJT8x.xxx.Kxx AJ.xxx.QJ.AJ9xxx 0.57936',\n",
       " 'A8.xxxx.AKJ8x.Qx KJT9xxx.x.9x.8xx x.AKJT8x.xxx.Kxx Qxx.Q9.QTx.AJT9x 0.56894',\n",
       " 'QJx.xxx.AJ8xx.A8 AT9xxxx.x.T9.9xx x.AKJT8x.xxx.Kxx K8.Q9x.KQx.QJTxx 0.56125',\n",
       " 'K.Qxx.AQJT8x.J8x AQJ8xxx.x.x.AT9x x.AKJT8x.xxx.Kxx T9xx.9xx.K9x.Qxx 0.56068',\n",
       " 'AK.xxx.KJ8xx.Q98 QJT98xx.9.T9.Jxx x.AKJT8x.xxx.Kxx xxx.Qxx.AQx.ATxx 0.56041',\n",
       " 'Jx.xxx.AKT9xx.AQ QT98xxx.x.J.Jxxx x.AKJT8x.xxx.Kxx AKx.Q9x.Q8x.T98x 0.56017']"
      ]
     },
     "execution_count": 5,
     "metadata": {},
     "output_type": "execute_result"
    }
   ],
   "source": [
    "bid.samples"
   ]
  },
  {
   "cell_type": "markdown",
   "id": "7d0dd8f5",
   "metadata": {},
   "source": [
    "each row is one sample. the hands are in the order: N E S W\n",
    "\n",
    "(West always has the same cards because it's your hand and it's known to you)"
   ]
  },
  {
   "cell_type": "code",
   "execution_count": 6,
   "id": "7101e514",
   "metadata": {},
   "outputs": [
    {
     "name": "stdout",
     "output_type": "stream",
     "text": [
      "Good quality: True\n",
      "x.AKJT8x.xxx.Kxx K8x.Qxx.AKQ8.AQx QJxxx.xxx.Tx.9xx AT9x.9.J9xx.JT8x\n",
      "x.AKJT8x.xxx.Kxx AK9.Qxx.AKJx.Axx QT8xx.9.8xx.98xx Jxxx.xxx.QT9.QJT\n",
      "x.AKJT8x.xxx.Kxx AK.Qxx.AK9x.Axxx QJ8xxx.9x.Tx.JT8 T9xx.xx.QJ8x.Q9x\n",
      "x.AKJT8x.xxx.Kxx Ax.Q9x.AKTx.AQJ8 QT98x..J98x.T9xx KJxxx.xxxx.Qx.xx\n",
      "x.AKJT8x.xxx.Kxx KQx.Q9x.AKQ8x.AT JT8xx.x.xx.J98xx A9xx.xxx.JT9.Qxx\n",
      "x.AKJT8x.xxx.Kxx AKQ.Qxx.AKQ98.Tx J98xx.x.Jxx.J98x Txxx.9xx.Tx.AQxx\n",
      "x.AKJT8x.xxx.Kxx AQx.xxx.AKQJx.A9 KT98x.9.Tx.Jxxxx Jxxx.Qxx.98x.QT8\n",
      "x.AKJT8x.xxx.Kxx AKx.Q9.AKT9.A9xx Q8xxx.xx.8x.JT8x JT9x.xxx.QJxx.Qx\n",
      "x.AKJT8x.xxx.Kxx AQx.9x.AKQ98.AJx J8xxx.xx.x.QT98x KT9x.Qxx.JTxx.xx\n",
      "x.AKJT8x.xxx.Kxx KQx.Qx.AKQ9x.AJx JT8xx.9xxx.8.Q8x A9xx.x.JTxx.T9xx\n",
      "x.AKJT8x.xxx.Kxx Kxx.Qx.AKQx.AQTx QJT9x.9xxx.8.J8x A8xx.x.JT9xx.9xx\n",
      "x.AKJT8x.xxx.Kxx AK8.Qx.AKJ.AT8xx Q9xxx.xx.Txx.J9x JTxx.9xx.Q98x.Qx\n",
      "x.AKJT8x.xxx.Kxx AKQ.Qx.AQJ9.Q8xx T8xxx.x.K8xxx.JT J9xx.9xxx.T.A9xx\n",
      "x.AKJT8x.xxx.Kxx AKx.Qx.KJ8.AQJ8x T9xxxx.x.ATx.9xx QJ8.9xxx.Q9xx.Tx\n",
      "x.AKJT8x.xxx.Kxx AKx.Qx.AT9.AQJTx QT8xx.9xx.Qxx.xx J9xx.xx.KJ8x.98x\n",
      "x.AKJT8x.xxx.Kxx AQx.xx.AKQTx.AQT 9xxx.x.Jxx.Jxxxx KJT8x.Q9xx.98.98\n",
      "x.AKJT8x.xxx.Kxx AQx.Q9.AKQJx.ATx T98xx.xxx.T9x.8x KJxx.xx.8x.QJ9xx\n",
      "x.AKJT8x.xxx.Kxx AK.xx.AKT8x.AQxx JT8xxx.Qx.9x.Jxx Q9xx.9xx.QJx.T98\n",
      "x.AKJT8x.xxx.Kxx AKQ.Qxx.AKxx.QTx 98xxx.9x.98.AJ8x JTxx.xx.QJTx.9xx\n",
      "x.AKJT8x.xxx.Kxx Axx.Qxx.AKQT.AQT K98xx.x.J9xx.9xx QJTx.9xx.8x.J8xx\n"
     ]
    }
   ],
   "source": [
    "# we got some samples above. if we want more, we can always get more\n",
    "\n",
    "sample_hands, sorted_score, p_hcp, p_shp, good_quality = bot_bid.sample_hands_for_auction(['PAD_START','2N','PASS','3C','PASS','3D'], 0)\n",
    "print(\"Good quality:\", good_quality)\n",
    "for i in range(sample_hands.shape[0]):\n",
    "    print(f'{hand_to_str(sample_hands[i, 0, :])} {hand_to_str(sample_hands[i, 1, :])} {hand_to_str(sample_hands[i, 2, :])} {hand_to_str(sample_hands[i, 3, :])}')"
   ]
  },
  {
   "cell_type": "markdown",
   "id": "7e7f18d2",
   "metadata": {},
   "source": [
    "How do we know on which sample 4H is making and on which sample it is not? It's the topic for another tutorial, but basically we could do either (1) solve the sample double dummpy or (2) estimate the outcome using a neural network"
   ]
  },
  {
   "cell_type": "markdown",
   "id": "669da023",
   "metadata": {},
   "source": [
    "### Bidding through an entire auction for all four hands\n",
    "\n",
    "Now we'll take a random deal and let the bot bid for each hand. We assume North deals and nobody is vulnerable."
   ]
  },
  {
   "cell_type": "code",
   "execution_count": 7,
   "id": "fc27ca79",
   "metadata": {},
   "outputs": [
    {
     "data": {
      "text/plain": [
       "['A87.AT52.Q.T8543',\n",
       " 'QT9.J73.AT985.J7',\n",
       " '6532.84.KJ642.K9',\n",
       " 'KJ4.KQ96.73.AQ62']"
      ]
     },
     "execution_count": 7,
     "metadata": {},
     "output_type": "execute_result"
    }
   ],
   "source": [
    "hands = random_deal().split()\n",
    "hands # N, E, S, W"
   ]
  },
  {
   "cell_type": "code",
   "execution_count": 8,
   "id": "d480cbba",
   "metadata": {},
   "outputs": [],
   "source": [
    "bidder_bots = [BotBid([False, False], hand, models, sampler,i, 0,False) for i, hand in enumerate(hands)]"
   ]
  },
  {
   "cell_type": "code",
   "execution_count": 9,
   "id": "7d77351a",
   "metadata": {},
   "outputs": [
    {
     "name": "stdout",
     "output_type": "stream",
     "text": [
      "expected_score 193.0\n"
     ]
    },
    {
     "data": {
      "text/plain": [
       "['PASS', 'PASS', 'PASS', '1N', 'PASS', 'PASS', 'PASS']"
      ]
     },
     "execution_count": 9,
     "metadata": {},
     "output_type": "execute_result"
    }
   ],
   "source": [
    "auction = []  # since North deals, we don't need any 'PAD_START'\n",
    "\n",
    "turn_i = 0  # whose turn is it to bid\n",
    "\n",
    "while not bidding.auction_over(auction):\n",
    "    auction.append(bidder_bots[turn_i].bid(auction).bid)\n",
    "    turn_i = (turn_i + 1) % 4  # next player's turn\n",
    "    \n",
    "auction"
   ]
  }
 ],
 "metadata": {
  "kernelspec": {
   "display_name": "Python 3 (ipykernel)",
   "language": "python",
   "name": "python3"
  },
  "language_info": {
   "codemirror_mode": {
    "name": "ipython",
    "version": 3
   },
   "file_extension": ".py",
   "mimetype": "text/x-python",
   "name": "python",
   "nbconvert_exporter": "python",
   "pygments_lexer": "ipython3",
   "version": "3.11.9"
  }
 },
 "nbformat": 4,
 "nbformat_minor": 5
}
