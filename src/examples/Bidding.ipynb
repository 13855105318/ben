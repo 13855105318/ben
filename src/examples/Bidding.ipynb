{
 "cells": [
  {
   "cell_type": "markdown",
   "id": "75d07246",
   "metadata": {},
   "source": [
    "# Bidding\n",
    "\n",
    "This is a tutorial for how to use the bidding engine"
   ]
  },
  {
   "cell_type": "code",
   "execution_count": 1,
   "id": "59a5664c",
   "metadata": {},
   "outputs": [
    {
     "name": "stdout",
     "output_type": "stream",
     "text": [
      "WARNING:tensorflow:From c:\\Python311\\Lib\\site-packages\\tensorflow\\python\\compat\\v2_compat.py:107: disable_resource_variables (from tensorflow.python.ops.variable_scope) is deprecated and will be removed in a future version.\n",
      "Instructions for updating:\n",
      "non-resource variables are not supported in the long term\n"
     ]
    }
   ],
   "source": [
    "import os\n",
    "os.chdir('..')\n",
    "\n",
    "from nn.models import Models\n",
    "from bots import BotBid\n",
    "from bidding import bidding\n",
    "from util import hand_to_str\n",
    "from deck52 import random_deal\n",
    "from sample import Sample\n",
    "import conf\n",
    "import numpy as np\n",
    "\n",
    "np.set_printoptions(precision=2, suppress=True, linewidth=200)\n"
   ]
  },
  {
   "cell_type": "code",
   "execution_count": 2,
   "id": "44786d5d",
   "metadata": {},
   "outputs": [
    {
     "name": "stdout",
     "output_type": "stream",
     "text": [
      "INFO:tensorflow:Restoring parameters from ..\\UCBC 2024/Models/NS1EW99-bidding_same-278000\n",
      "INFO:tensorflow:Restoring parameters from ..\\UCBC 2024/Models/NS1EW99-binfo_same-278000\n",
      "INFO:tensorflow:Restoring parameters from ..\\UCBC 2024/Models/lead_suit-154000\n",
      "INFO:tensorflow:Restoring parameters from ..\\UCBC 2024/Models/lead_nt-59000\n",
      "INFO:tensorflow:Restoring parameters from ..\\UCBC 2024/Models/lr3-1000000\n",
      "INFO:tensorflow:Restoring parameters from ..\\UCBC 2024/Models/single_dummy-32768000\n",
      "INFO:tensorflow:Restoring parameters from ..\\UCBC 2024/Models/lefty-1000000\n",
      "INFO:tensorflow:Restoring parameters from ..\\UCBC 2024/Models/dummy-920000\n",
      "INFO:tensorflow:Restoring parameters from ..\\UCBC 2024/Models/righty-1000000\n",
      "INFO:tensorflow:Restoring parameters from ..\\UCBC 2024/Models/decl-1000000\n"
     ]
    }
   ],
   "source": [
    "models = Models.from_conf(conf.load('./config/default.conf'),'..')   # loading neural networks\n",
    "sampler = Sample.from_conf(conf.load('./config/default.conf'))  # Load sampling strategies"
   ]
  },
  {
   "cell_type": "markdown",
   "id": "10d8f2fc",
   "metadata": {},
   "source": [
    "### Running through an example"
   ]
  },
  {
   "cell_type": "code",
   "execution_count": 3,
   "id": "19dbfeb7",
   "metadata": {},
   "outputs": [
    {
     "data": {
      "text/plain": [
       "[{'call': '4H', 'insta_score': 0.188, 'expected_score': 186, 'adjustment': 9},\n",
       " {'call': 'X', 'insta_score': 0.433, 'expected_score': 131, 'adjustment': 22},\n",
       " {'call': 'PASS',\n",
       "  'insta_score': 0.354,\n",
       "  'expected_score': 122,\n",
       "  'adjustment': 18}]"
      ]
     },
     "execution_count": 3,
     "metadata": {},
     "output_type": "execute_result"
    }
   ],
   "source": [
    "\n",
    "vuln_ns, vuln_ew = False, False\n",
    "\n",
    "# you sit West and hold:\n",
    "hand = '6.AKJT82.762.K63'\n",
    "\n",
    "# the auction goes:\n",
    "# (a few words about 'PAD_START':\n",
    "# the auction is padded to dealer North\n",
    "# if North is not dealer, than we have to put in a 'PAD_START' for every seat that was skipped\n",
    "# if East deals we have one pad (because North is skipped)\n",
    "# if South deals we have two pads (because North and East are skipped)\n",
    "# etc.)\n",
    "auction = ['1D', '3S']\n",
    "bot_bid = BotBid([vuln_ns, vuln_ew], hand, models, sampler, 2, 0, False)\n",
    "\n",
    "bid = bot_bid.bid(auction)\n",
    "bid.to_dict()['candidates']\n",
    "\n",
    "# what's your bid?"
   ]
  },
  {
   "cell_type": "code",
   "execution_count": 4,
   "id": "bfe98f56",
   "metadata": {},
   "outputs": [
    {
     "data": {
      "text/plain": [
       "[{'call': 'PASS', 'insta_score': 0.961}]"
      ]
     },
     "execution_count": 4,
     "metadata": {},
     "output_type": "execute_result"
    }
   ],
   "source": [
    "auction = ['1D', '3S', '4H', '4S', '5H', 'PASS']\n",
    "bid = bot_bid.bid(auction)\n",
    "bid.to_dict()['candidates']"
   ]
  },
  {
   "cell_type": "code",
   "execution_count": 5,
   "id": "602468ef",
   "metadata": {},
   "outputs": [
    {
     "name": "stderr",
     "output_type": "stream",
     "text": [
      "['PAD_START', 'PASS', '1H', 'X', '4H', 'PASS', 'PASS', 'X']\n",
      "Bid not valid: 4H insta_score: 0.218 0.1\n"
     ]
    },
    {
     "data": {
      "text/plain": [
       "'PASS'"
      ]
     },
     "execution_count": 5,
     "metadata": {},
     "output_type": "execute_result"
    }
   ],
   "source": [
    "# you double, North bids 2S, your partner 3H, PASS, back to you ...\n",
    "\n",
    "bid = bot_bid.bid([\"PAD_START\", \"PASS\", \"1H\", \"X\", \"4H\", \"PASS\", \"PASS\", \"X\"])\n",
    "bid.bid"
   ]
  },
  {
   "cell_type": "code",
   "execution_count": 6,
   "id": "7227ea6b",
   "metadata": {},
   "outputs": [
    {
     "data": {
      "text/plain": [
       "[{'call': 'PASS', 'insta_score': 0.219}]"
      ]
     },
     "execution_count": 6,
     "metadata": {},
     "output_type": "execute_result"
    }
   ],
   "source": [
    "# what options were considered?\n",
    "\n",
    "bid.to_dict()['candidates']"
   ]
  },
  {
   "cell_type": "markdown",
   "id": "ad120123",
   "metadata": {},
   "source": [
    "in the output above:\n",
    "- `insta_score` reflects what the neural network prefers to bid\n",
    "- `expected_score` is based on what you expect to score on difference samples (for example, 70% of the time you are making and 30% of the time you are going one off, then the expected score is 0.7 * 620 - 0.3 * 100)"
   ]
  },
  {
   "cell_type": "markdown",
   "id": "051ff121",
   "metadata": {},
   "source": [
    "### Samples consistent with the auction so far\n",
    "\n",
    "Above we said that we are computig expected scores on samples consistent with the auction so far.\n",
    "\n",
    "How do we get these samples?\n",
    "\n",
    "We get some samples in the response we get from the bot (i.e `bid.samples`)"
   ]
  },
  {
   "cell_type": "code",
   "execution_count": 7,
   "id": "55b647a5",
   "metadata": {},
   "outputs": [
    {
     "data": {
      "text/plain": [
       "[]"
      ]
     },
     "execution_count": 7,
     "metadata": {},
     "output_type": "execute_result"
    }
   ],
   "source": [
    "bid.samples"
   ]
  },
  {
   "cell_type": "markdown",
   "id": "7d0dd8f5",
   "metadata": {},
   "source": [
    "each row is one sample. the hands are in the order: N E S W\n",
    "\n",
    "(West always has the same cards because it's your hand and it's known to you)"
   ]
  },
  {
   "cell_type": "code",
   "execution_count": 8,
   "id": "7101e514",
   "metadata": {},
   "outputs": [
    {
     "name": "stdout",
     "output_type": "stream",
     "text": [
      "Good quality: True\n",
      "x.AKJT8x.xxx.Kxx Q9xx.9xxx.KJ.Txx JT8xx.x.8xxx.Q8x AKx.Qx.AQT9.AJ9x\n",
      "x.AKJT8x.xxx.Kxx Qxxx.9x.J9x.Qxxx JT98x.xxx.Kx.98x AKx.Qx.AQT8x.AJT\n",
      "x.AKJT8x.xxx.Kxx AT9x.Q9xx.8xx.Q8 J8xxx.x.T9x.T9xx KQx.xx.AKQJ.AJxx\n",
      "x.AKJT8x.xxx.Kxx K9xx.xx.Tx.Q8xxx Q8xxx.9x.J8x.T9x AJT.Qxx.AKQ9x.AJ\n",
      "x.AKJT8x.xxx.Kxx QJ9x.xx.AJ9.Jxxx T8xxx.9x.xxx.T98 AKx.Qxx.KQT8.AQx\n",
      "x.AKJT8x.xxx.Kxx Q9xx.Qx.Qxx.Jxxx JTxxx.xx.JT9.T8x AK8.9xx.AK8x.AQ9\n",
      "x.AKJT8x.xxx.Kxx Qxxx.9xxx.98.AJx JT98x.x.JTxx.Txx AKx.Qx.AKQx.Q98x\n",
      "x.AKJT8x.xxx.Kxx K9x.Qxxx.8xx.8xx QJT8xx.x.T9x.T9x Axx.9x.AKQJ.AQJx\n",
      "x.AKJT8x.xxx.Kxx KTxx.xx.QTxx.Q9x Q98xx.xxx.9x.8xx AJx.Q9.AKJ8.AJTx\n",
      "x.AKJT8x.xxx.Kxx KQ8x.xxx.JTx.Qxx T9xxx.9.98x.J8xx AJx.Qxx.AKQx.AT9\n",
      "x.AKJT8x.xxx.Kxx A9xx.9xx.xx.QJ8x JT8xx.xx.JT98x.x KQx.Qx.AKQ.AT9xx\n",
      "x.AKJT8x.xxx.Kxx KT8x.xx.QJTx.T9x Q9xxx.9x.98x.Jxx AJx.Qxx.AKx.AQ8x\n",
      "x.AKJT8x.xxx.Kxx QT8xx.Qxxx.Kxx.x J9xx.x.T98x.98xx AKx.9x.AQJ.AQJTx\n",
      "x.AKJT8x.xxx.Kxx T9xx.xxxx.Q8xx.Q QJ8xx.9.J9x.J8xx AKx.Qx.AKT.AT9xx\n",
      "x.AKJT8x.xxx.Kxx AT8x.xxx.9.Txxxx J9xxx.Qx.JT8xx.J KQx.9x.AKQx.AQ98\n",
      "x.AKJT8x.xxx.Kxx KT8x.xxxx.Txx.JT Q9xxx.x.QJ9.98xx AJx.Q9.AK8x.AQxx\n",
      "x.AKJT8x.xxx.Kxx QJ9x.xxx.J9x.9xx 8xxxx.9x.Q8x.QT8 AKT.Qx.AKTx.AJxx\n",
      "x.AKJT8x.xxx.Kxx T8xx.xxx.J8x.QJx KQ9xx.9x.T9.T8xx AJx.Qx.AKQxx.A9x\n",
      "x.AKJT8x.xxx.Kxx Q9xx.xxx.Jx.Jxxx JT8xx.9x.QT9.QTx AKx.Qx.AK8xx.A98\n",
      "x.AKJT8x.xxx.Kxx JTxx.xxx.K8x.Txx Q98xx.9x.Qx.98xx AKx.Qx.AJT9x.AQJ\n",
      "x.AKJT8x.xxx.Kxx J9x.Q9xx.x.JT8xx KT8xxx.x.JT98.xx AQx.xx.AKQxx.AQ9\n",
      "x.AKJT8x.xxx.Kxx Jxxx.Q9x.JT9.Txx QT98x.xx.xxx.J98 AKx.xx.AKQ8.AQxx\n",
      "x.AKJT8x.xxx.Kxx QTxx.xx.JT9x.JT8 J98xx.xx.8xx.Qxx AKx.Q9x.AKQ.A9xx\n",
      "x.AKJT8x.xxx.Kxx QTxx.Qxxx.QTx.Tx J98xxx.x.8x.Q9xx AK.9x.AKJ9x.AJ8x\n",
      "x.AKJT8x.xxx.Kxx K8x.Q9xx.T.QT8xx JT9xxxx.x.J9xx.x AQ.xx.AKQ8x.AJ9x\n"
     ]
    }
   ],
   "source": [
    "# we got some samples above. if we want more, we can always get more\n",
    "\n",
    "sample_hands, sorted_score, p_hcp, p_shp, good_quality = bot_bid.sample_hands_for_auction(['PAD_START', 'PAD_START', 'PAD_START','2N','PASS','3C','PASS','3D'], 0)\n",
    "print(\"Good quality:\", good_quality)\n",
    "for i in range(sample_hands.shape[0]):\n",
    "    print(f'{hand_to_str(sample_hands[i, 0, :])} {hand_to_str(sample_hands[i, 1, :])} {hand_to_str(sample_hands[i, 2, :])} {hand_to_str(sample_hands[i, 3, :])}')"
   ]
  },
  {
   "cell_type": "markdown",
   "id": "7e7f18d2",
   "metadata": {},
   "source": [
    "How do we know on which sample 4H is making and on which sample it is not? It's the topic for another tutorial, but basically we could do either (1) solve the sample double dummpy or (2) estimate the outcome using a neural network"
   ]
  },
  {
   "cell_type": "markdown",
   "id": "669da023",
   "metadata": {},
   "source": [
    "### Bidding through an entire auction for all four hands\n",
    "\n",
    "Now we'll take a random deal and let the bot bid for each hand. We assume North deals and nobody is vulnerable."
   ]
  },
  {
   "cell_type": "code",
   "execution_count": 9,
   "id": "fc27ca79",
   "metadata": {},
   "outputs": [
    {
     "data": {
      "text/plain": [
       "['QT942..KJT6.T963',\n",
       " 'AK8753.QT5.43.J5',\n",
       " 'J.764.AQ9875.A84',\n",
       " '6.AKJ9832.2.KQ72']"
      ]
     },
     "execution_count": 9,
     "metadata": {},
     "output_type": "execute_result"
    }
   ],
   "source": [
    "hands = random_deal().split()\n",
    "hands # N, E, S, W"
   ]
  },
  {
   "cell_type": "code",
   "execution_count": 10,
   "id": "d480cbba",
   "metadata": {},
   "outputs": [],
   "source": [
    "bidder_bots = [BotBid([False, False], hand, models, sampler,i, 0,False) for i, hand in enumerate(hands)]"
   ]
  },
  {
   "cell_type": "code",
   "execution_count": 11,
   "id": "7d77351a",
   "metadata": {},
   "outputs": [
    {
     "data": {
      "text/plain": [
       "['PASS', '2S', 'PASS', '3H', 'PASS', '4H', 'PASS', 'PASS', 'PASS']"
      ]
     },
     "execution_count": 11,
     "metadata": {},
     "output_type": "execute_result"
    }
   ],
   "source": [
    "auction = []  # since North deals, we don't need any 'PAD_START'\n",
    "\n",
    "turn_i = 0  # whose turn is it to bid\n",
    "\n",
    "while not bidding.auction_over(auction):\n",
    "    auction.append(bidder_bots[turn_i].bid(auction).bid)\n",
    "    turn_i = (turn_i + 1) % 4  # next player's turn\n",
    "    \n",
    "auction"
   ]
  }
 ],
 "metadata": {
  "kernelspec": {
   "display_name": "Python 3 (ipykernel)",
   "language": "python",
   "name": "python3"
  },
  "language_info": {
   "codemirror_mode": {
    "name": "ipython",
    "version": 3
   },
   "file_extension": ".py",
   "mimetype": "text/x-python",
   "name": "python",
   "nbconvert_exporter": "python",
   "pygments_lexer": "ipython3",
   "version": "3.11.0"
  }
 },
 "nbformat": 4,
 "nbformat_minor": 5
}
