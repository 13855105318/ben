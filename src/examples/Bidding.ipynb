{
 "cells": [
  {
   "cell_type": "markdown",
   "id": "75d07246",
   "metadata": {},
   "source": [
    "# Bidding\n",
    "\n",
    "This is a tutorial for how to use the bidding engine"
   ]
  },
  {
   "cell_type": "code",
   "execution_count": 1,
   "id": "59a5664c",
   "metadata": {},
   "outputs": [
    {
     "name": "stdout",
     "output_type": "stream",
     "text": [
      "WARNING:tensorflow:From c:\\Python311\\Lib\\site-packages\\tensorflow\\python\\compat\\v2_compat.py:107: disable_resource_variables (from tensorflow.python.ops.variable_scope) is deprecated and will be removed in a future version.\n",
      "Instructions for updating:\n",
      "non-resource variables are not supported in the long term\n"
     ]
    }
   ],
   "source": [
    "import os\n",
    "os.chdir('..')\n",
    "\n",
    "from nn.models import Models\n",
    "from bots import BotBid\n",
    "from bidding import bidding\n",
    "from util import hand_to_str\n",
    "from deck52 import random_deal\n",
    "from sample import Sample\n",
    "import conf"
   ]
  },
  {
   "cell_type": "code",
   "execution_count": 2,
   "id": "44786d5d",
   "metadata": {},
   "outputs": [
    {
     "name": "stdout",
     "output_type": "stream",
     "text": [
      "INFO:tensorflow:Restoring parameters from ..\\models/gib21_model/gib21-1000000\n",
      "INFO:tensorflow:Restoring parameters from ..\\models/gib21_info_model/gib21_info-500000\n",
      "INFO:tensorflow:Restoring parameters from ..\\models/lead_model_b/lead-1000000\n",
      "INFO:tensorflow:Restoring parameters from ..\\models/lr3_model/lr3-1000000\n",
      "INFO:tensorflow:Restoring parameters from ..\\models/lefty_model/lefty-1000000\n",
      "INFO:tensorflow:Restoring parameters from ..\\models/dummy_model/dummy-920000\n",
      "INFO:tensorflow:Restoring parameters from ..\\models/righty_model/righty-1000000\n",
      "INFO:tensorflow:Restoring parameters from ..\\models/decl_model/decl-1000000\n"
     ]
    }
   ],
   "source": [
    "models = Models.from_conf(conf.load('./config/default.conf'),'..')   # loading neural networks\n",
    "sampler = Sample.from_conf(conf.load('./config/default.conf'))  # Load sampling strategies"
   ]
  },
  {
   "cell_type": "markdown",
   "id": "10d8f2fc",
   "metadata": {},
   "source": [
    "### Running through an example"
   ]
  },
  {
   "cell_type": "code",
   "execution_count": 3,
   "id": "19dbfeb7",
   "metadata": {},
   "outputs": [],
   "source": [
    "# East deals, EW vulnerable.\n",
    "vuln_ns, vuln_ew = True, True\n",
    "\n",
    "# you sit West and hold:\n",
    "hand = 'T9.AQT87.873.653'\n",
    "\n",
    "# the auction goes:\n",
    "# (a few words about 'PAD_START':\n",
    "# the auction is padded to dealer North\n",
    "# if North is not dealer, than we have to put in a 'PAD_START' for every seat that was skipped\n",
    "# if East deals we have one pad (because North is skipped)\n",
    "# if South deals we have two pads (because North and East are skipped)\n",
    "# etc.)\n",
    "auction = ['PAD_START', \"PASS\", \"1H\", \"X\"]\n",
    "\n",
    "# what's your bid?"
   ]
  },
  {
   "cell_type": "code",
   "execution_count": 4,
   "id": "bfe98f56",
   "metadata": {},
   "outputs": [
    {
     "data": {
      "text/plain": [
       "[{'call': '4H', 'insta_score': 0.4037, 'expected_score': 90, 'adjustment': 20},\n",
       " {'call': '2H',\n",
       "  'insta_score': 0.5911,\n",
       "  'expected_score': -104,\n",
       "  'adjustment': 30}]"
      ]
     },
     "execution_count": 4,
     "metadata": {},
     "output_type": "execute_result"
    }
   ],
   "source": [
    "bot_bid = BotBid([vuln_ns, vuln_ew], hand, models, -1, -1, 0.1, sampler, False)\n",
    "\n",
    "bid = bot_bid.bid(auction)\n",
    "bid.to_dict()['candidates']"
   ]
  },
  {
   "cell_type": "code",
   "execution_count": 5,
   "id": "602468ef",
   "metadata": {},
   "outputs": [
    {
     "name": "stderr",
     "output_type": "stream",
     "text": [
      "Bid not valid 3H insta_score: 0.9810969829559326\n"
     ]
    },
    {
     "data": {
      "text/plain": [
       "'PASS'"
      ]
     },
     "execution_count": 5,
     "metadata": {},
     "output_type": "execute_result"
    }
   ],
   "source": [
    "# you double, North bids 2S, your partner 3H, PASS, back to you ...\n",
    "\n",
    "bid = bot_bid.bid([\"PAD_START\", \"PASS\", \"1H\", \"X\", \"4H\", \"PASS\", \"PASS\", \"X\"])\n",
    "bid.bid"
   ]
  },
  {
   "cell_type": "code",
   "execution_count": 6,
   "id": "7227ea6b",
   "metadata": {},
   "outputs": [
    {
     "data": {
      "text/plain": [
       "[{'call': 'PASS', 'insta_score': 0.0153}]"
      ]
     },
     "execution_count": 6,
     "metadata": {},
     "output_type": "execute_result"
    }
   ],
   "source": [
    "# what options were considered?\n",
    "\n",
    "bid.to_dict()['candidates']"
   ]
  },
  {
   "cell_type": "markdown",
   "id": "ad120123",
   "metadata": {},
   "source": [
    "in the output above:\n",
    "- `insta_score` reflects what the neural network prefers to bid\n",
    "- `expected_score` is based on what you expect to score on difference samples (for example, 70% of the time you are making and 30% of the time you are going one off, then the expected score is 0.7 * 620 - 0.3 * 100)"
   ]
  },
  {
   "cell_type": "markdown",
   "id": "051ff121",
   "metadata": {},
   "source": [
    "### Samples consistent with the auction so far\n",
    "\n",
    "Above we said that we are computig expected scores on samples consistent with the auction so far.\n",
    "\n",
    "How do we get these samples?\n",
    "\n",
    "We get some samples in the response we get from the bot (i.e `bid.samples`)"
   ]
  },
  {
   "cell_type": "code",
   "execution_count": 7,
   "id": "55b647a5",
   "metadata": {},
   "outputs": [
    {
     "data": {
      "text/plain": [
       "['T9.AQT8x.8xx.xxx J8xxx.xx.JTx.K98 x.KJ9xx.AQxx.JTx AKQxx.x.K9x.AQxx',\n",
       " 'T9.AQT8x.8xx.xxx Qxx.xx.QT9.T98xx J8x.KJ9xx.AJxx.Q AKxxx.x.Kxx.AKJx',\n",
       " 'T9.AQT8x.8xx.xxx 8xx.x.JT9xx.T8xx KQx.KJ9xxx.Qx.Qx AJxxx.x.AKx.AKJ9',\n",
       " 'T9.AQT8x.8xx.xxx J8xx.9xx.QTxx.Tx KQx.KJxxx.9x.KQx Axxx..AKJx.AJ98x',\n",
       " 'T9.AQT8x.8xx.xxx xxxx.x.9xxx.J98x Kx.J9xxx.AQJx.Qx AQJ8x.Kx.KT.AKTx',\n",
       " 'T9.AQT8x.8xx.xxx xxxxx.Jx.9x.KQTx QJ.K9xxx.AQxx.xx AK8x.x.KJTx.AJ98',\n",
       " 'T9.AQT8x.8xx.xxx xxxx.xx.Qxx.T9xx x.KJ9xxx.ATx.AQJ AKQJ8x..KJ9x.K8x',\n",
       " 'T9.AQT8x.8xx.xxx Jxxx.xx.Q9x.JT9x Kxx.KJ9xx.AJx.Qx AQ8x.x.KTxx.AK8x',\n",
       " 'T9.AQT8x.8xx.xxx xxxx.Kx.JTxx.98x Jxx.J9xxx.AKQ.Qx AKQ8.x.9xx.AKJTx',\n",
       " 'T9.AQT8x.8xx.xxx 8xxx.xx.QJxx.9xx AKQx.KJ9xx.9x.JT Jxx.x.AKTx.AKQ8x',\n",
       " 'T9.AQT8x.8xx.xxx 8xxxx.xx.9x.QJT9 AQJ.KJ9xx.JTx.xx Kxx.x.AKQxx.AK8x',\n",
       " 'T9.AQT8x.8xx.xxx Q8xxx.xx.Txx.T9x Jxx.KJ9xx.Qxx.KQ AKx.x.AKJ9.AJ8xx',\n",
       " 'T9.AQT8x.8xx.xxx 8xxxx.9x.QJx.JTx Jxx.KJxxx.AK.98x AKQ.x.T9xxx.AKQx',\n",
       " 'T9.AQT8x.8xx.xxx 8xx.9x.Q9xx.T9xx Jx.KJxxxx.ATx.Ax AKQxxx..KJx.KQJ8',\n",
       " 'T9.AQT8x.8xx.xxx Q8xx.xx.Txx.KT8x KJx.KJ9xxx.Q.QJx Axxx..AKJ9xx.A9x',\n",
       " 'T9.AQT8x.8xx.xxx 8xxxxx.K.xx.T8xx AK.Jxxxx.QJx.J9x QJx.9x.AKT9x.AKQ',\n",
       " 'T9.AQT8x.8xx.xxx J8xxx.J.T9xx.J9x Kxx.K9xxx.KJx.QT AQx.xx.AQx.AK8xx',\n",
       " 'T9.AQT8x.8xx.xxx Jxx.9x.Kxxx.J9xx 8x.Jxxxx.AQJ9.Ax AKQxxx.K.Tx.KQT8',\n",
       " 'T9.AQT8x.8xx.xxx xxx.9x.Txxx.KJTx AK8x.Jxxxx.Qx.A8 QJxx.K.AKJ9.Q9xx',\n",
       " 'T9.AQT8x.8xx.xxx xxx.xx.QJxx.Q9xx 8x.J9xxx.A9x.AKT AKQJxx.K.KTx.J8x']"
      ]
     },
     "execution_count": 7,
     "metadata": {},
     "output_type": "execute_result"
    }
   ],
   "source": [
    "bid.samples"
   ]
  },
  {
   "cell_type": "markdown",
   "id": "7d0dd8f5",
   "metadata": {},
   "source": [
    "each row is one sample. the hands are in the order: N E S W\n",
    "\n",
    "(West always has the same cards because it's your hand and it's known to you)"
   ]
  },
  {
   "cell_type": "code",
   "execution_count": 8,
   "id": "7101e514",
   "metadata": {},
   "outputs": [
    {
     "name": "stdout",
     "output_type": "stream",
     "text": [
      "116\n",
      "T9.AQT8x.8xx.xxx KQxx.xx.xxx.KJ8x A8xx.J9x.T9x.9xx Jxx.Kxx.AKQJ.AQT\n",
      "T9.AQT8x.8xx.xxx 8xx.J9xx.QTx.AQx KJxxx.xx.J9x.8xx AQx.Kx.AKxx.KJT9\n",
      "T9.AQT8x.8xx.xxx KQJx.xxx.J9.J98x 8xxx.J9x.Txx.Axx Axx.Kx.AKQxx.KQT\n",
      "T9.AQT8x.8xx.xxx 8xxx.Kxxx.x.KJ8x AQxx.xx.T9xxx.Tx KJx.J9.AKQJ.AQ9x\n",
      "T9.AQT8x.8xx.xxx QJxx.J9xx.Jxx.8x 8xxx.Kx.QT9.K9xx AKx.xx.AKxx.AQJT\n",
      "T9.AQT8x.8xx.xxx Qxxx.J9xx.KT9x.9 J8xx.x.QJxx.AT8x AKx.Kxx.Ax.KQJxx\n",
      "T9.AQT8x.8xx.xxx Q8xx.Jxxx.J9.T9x KJxx.x.QTxx.KJ8x Axx.K9x.AKxx.AQx\n",
      "T9.AQT8x.8xx.xxx 8xxx.K9x.Q9xx.T9 QJxxx.xx.KT.QJ8x AK.Jxx.AJxx.AKxx\n",
      "T9.AQT8x.8xx.xxx Qxxxx.J9xx.xx.Jx AJx.xx.A9xx.T9xx K8x.Kx.KQJT.AKQ8\n",
      "T9.AQT8x.8xx.xxx xxxx.Kxx.9xxxx.J KJ8x.J9.QT.K98xx AQx.xxx.AKJ.AQTx\n",
      "T9.AQT8x.8xx.xxx KJxxx.9xxx.KJT.T Q8x.x.9xx.QJ9xxx Axx.KJx.AQxx.AK8\n",
      "T9.AQT8x.8xx.xxx Qxxxx.K9xx.Q9x.8 K8xx.xx.Kx.JT9xx AJ.Jx.AJTxx.AKQx\n",
      "T9.AQT8x.8xx.xxx QJxx.9xxx.Jxxx.9 A8xxx.J.Qx.QJTxx Kx.Kxx.AKT9.AK8x\n",
      "T9.AQT8x.8xx.xxx Jxxxx.Kxxx.Tx.QJ KQxx.J9.Jxxx.9xx A8.xx.AKQ9.AKT8x\n",
      "T9.AQT8x.8xx.xxx Axxx.Jxxx.QJx.8x QJ8xx.9x.xx.QJT9 Kx.Kx.AKT9x.AKxx\n",
      "T9.AQT8x.8xx.xxx QJxx.KJxx.QTxx.8 8xxxx.9x.x.KJ9xx AK.xx.AKJ9x.AQTx\n",
      "T9.AQT8x.8xx.xxx xxxx.xxx.Q9x.A8x J8xx.Jx.xx.KQTxx AKQ.K9x.AKJTx.J9\n",
      "T9.AQT8x.8xx.xxx Qxxx.xxx.xx.J98x J8xx.KJ9.KJ9x.Qx AKx.xx.AQTx.AKTx\n",
      "T9.AQT8x.8xx.xxx KJxxxx.Kxxx.x.Q8 8xx.9x.KJT9x.T9x AQ.Jx.AQxx.AKJxx\n",
      "T9.AQT8x.8xx.xxx KQJ8xx.KJ9x.9x.8 xxx.xx.QJTx.JT9x Ax.xx.AKxx.AKQxx\n",
      "T9.AQT8x.8xx.xxx J8xxxx.Jxxx.x.K8 AKx.9.JT9x.JTxxx Qx.Kxx.AKQxx.AQ9\n",
      "T9.AQT8x.8xx.xxx QJxx.xx.9xx.T9xx AK8xx.J9x.QTxx.8 xx.Kxx.AKJ.AKQJx\n",
      "T9.AQT8x.8xx.xxx J8xxxx.9xxx.xx.Q Kxx.x.AJTx.K9xxx AQ.KJx.KQ9x.AJT8\n",
      "T9.AQT8x.8xx.xxx QJxx.xxxx.Jxx.xx 8xxx.K9.xx.KQT8x AKx.Jx.AKQT9.AJ9\n",
      "T9.AQT8x.8xx.xxx Qxx.KJ9x.Q9x.9xx Jxxx.xx.Txx.QJT8 AK8x.xx.AKJx.AKx\n",
      "T9.AQT8x.8xx.xxx Jxxx.J9x.Jxx.K8x 8xxx.Kxx.T9.QJTx AKQ.xx.AKQxx.A9x\n",
      "T9.AQT8x.8xx.xxx Jxxxx.Jxxx.9x.8x K8xx.K9.JTxx.QJT AQ.xx.AKQx.AK9xx\n",
      "T9.AQT8x.8xx.xxx Kxxx.9xx.T9xx.Tx AJ8x.x.Jx.QJ98xx Qxx.KJxx.AKQx.AK\n",
      "T9.AQT8x.8xx.xxx Axxxx.J9xxx.J.98 J8x.xx.xxxx.AQTx KQx.K.AKQT9.KJxx\n",
      "T9.AQT8x.8xx.xxx QJxx.Jxxx.Jx.Q8x K8xxx.9.QTxxx.9x Ax.Kxx.AK9.AKJTx\n",
      "T9.AQT8x.8xx.xxx KJ8xxx.xxx.9.8xx Qxx.9xx.KJTx.QJx Ax.KJ.AQxxx.AKT9\n",
      "T9.AQT8x.8xx.xxx Q8xx.xxx.Q9x.JTx AJxxx.9x.xxx.Qxx Kx.KJx.AKJT.AK98\n",
      "T9.AQT8x.8xx.xxx xxx.J9.Txx.Q98xx KJ8xxx.x.KQJxx.T AQ.Kxxxx.A9.AKJx\n",
      "T9.AQT8x.8xx.xxx Kxxx.K9xx.Jxx.xx J8xx.Jxx.T9x.A98 AQx.x.AKQx.KQJTx\n",
      "T9.AQT8x.8xx.xxx J8x.K9xx.9xx.Kxx Qxxx.Jx.Jx.QJT9x AKxx.xx.AKQTx.A8\n",
      "T9.AQT8x.8xx.xxx Jxx.9xxx.QJx.ATx K8xx.Jxx.Txxx.J8 AQxx.K.AK9.KQ9xx\n",
      "T9.AQT8x.8xx.xxx Axx.J9xxx.9x.K9x QJxxx.x.KTxx.8xx K8x.Kx.AQJx.AQJT\n",
      "T9.AQT8x.8xx.xxx Axx.KJ9xx.9xx.T8 Q8xxxx.x.Tx.KJxx KJ.xx.AKQJx.AQ9x\n",
      "T9.AQT8x.8xx.xxx Qxx.Jxxxx.xxxx.x J8xxx.x.A9.KJ9xx AKx.K9.KQJT.AQT8\n",
      "T9.AQT8x.8xx.xxx KQ8xx.J9xx.Tx.xx Jxx.Kxx.Q9xx.QTx Axx.x.AKJx.AKJ98\n",
      "T9.AQT8x.8xx.xxx Qxx.J9xxx.Qx.QT8 AJ8xxx.x.JT9.9xx Kx.Kx.AKxxx.AKJx\n",
      "T9.AQT8x.8xx.xxx A8xx.Jxx.9xx.T9x KQJxxx.9xx.Tx.Q8 x.Kx.AKQJx.AKJxx\n",
      "T9.AQT8x.8xx.xxx KQxxx.9xx.xxx.9x Jxxx.xx.A9x.QT8x A8.KJx.KQJT.AKJx\n",
      "T9.AQT8x.8xx.xxx KJxxx.J9x.Ax.T9x Q8xxx.Kxx.9xx.xx A.xx.KQJTx.AKQJ8\n",
      "T9.AQT8x.8xx.xxx Kxxx.J9xxx.Txx.x AJ8xx.xx.Qx.QJ98 Qx.K.AKJ9x.AKTxx\n",
      "T9.AQT8x.8xx.xxx Axxxx.Kxx.Jx.J9x J8x.J9xx.T9x.Qxx KQx.x.AKQxx.AKT8\n",
      "T9.AQT8x.8xx.xxx J8x.9x.J9xx.T98x KQxxxx.Jxx.QTx.A Ax.Kxx.AKx.KQJxx\n",
      "T9.AQT8x.8xx.xxx AKJ8x.xxx.xx.J8x Qxxx.9xx.JTx.Qxx xx.KJ.AKQ9x.AKT9\n",
      "T9.AQT8x.8xx.xxx KJ8xx.xx.KT.T98x Qxxx.J9xx.xxx.KJ Ax.Kx.AQJ9x.AQxx\n",
      "T9.AQT8x.8xx.xxx Axxx.Jxxxx.K.Jxx 8xx.9x.QJxx.QT8x KQJx.K.AT9xx.AK9\n",
      "T9.AQT8x.8xx.xxx xxx.Kxxxx.Tx.JT8 QJ8xxx.J.Q9xx.Ax AK.9x.AKJx.KQ9xx\n",
      "T9.AQT8x.8xx.xxx QJxx.Jxx.J9x.T9x 8xxx.9xx.Kxxx.K8 AKx.Kx.AQT.AQJxx\n",
      "T9.AQT8x.8xx.xxx QJxxx.9xx.ATx.J8 xxx.xx.9xx.AT9xx AK8.KJx.KQJx.KQx\n",
      "T9.AQT8x.8xx.xxx Jxxx.xxxx.xx.J9x Qxx.KJx.KJT.Q8xx AK8x.9.AQ9xx.AKT\n",
      "T9.AQT8x.8xx.xxx Qxx.K9xxxx.T9.9x J8xx.x.AJxx.QT8x AKxx.J.KQxx.AKJx\n",
      "T9.AQT8x.8xx.xxx QJ8x.xxx.xx.AQxx xxxx.9xx.JT9.J98 AKx.KJ.AKQxx.KTx\n",
      "T9.AQT8x.8xx.xxx Qxxxx.Kx.JT9x.Qx J8x.9xx.xxx.KJ9x AKx.Jxx.AKQ.AT8x\n",
      "T9.AQT8x.8xx.xxx 8xxx.9xx.Tx.KJT9 Jxx.Kx.QJ9x.8xxx AKQx.Jxx.AKxx.AQ\n",
      "T9.AQT8x.8xx.xxx QJxxx.x.K9x.Q98x 8xx.J9xx.QTxx.KT AKx.Kxx.AJx.AJxx\n",
      "T9.AQT8x.8xx.xxx J8xxx.xxx.xx.8xx KQxx.J9x.JT9x.QJ Ax.Kx.AKQx.AKT9x\n",
      "T9.AQT8x.8xx.xxx QJxx.Jx.KTx.JT9x 8xxx.K9x.9xx.8xx AKx.xxx.AQJx.AKQ\n",
      "T9.AQT8x.8xx.xxx AJxxxx.9xx.9x.Jx K8x.Jxx.QTx.QT8x Qx.Kx.AKJxx.AK9x\n",
      "T9.AQT8x.8xx.xxx 8xxx.xxxx.QT.Q8x KQJxx.Jx.9xx.T9x Ax.K9.AKJxx.AKJx\n",
      "T9.AQT8x.8xx.xxx J8xxx.x.AJ9x.Jxx Qxx.Jxxx.xx.A98x AKx.K9x.KQTx.KQT\n",
      "T9.AQT8x.8xx.xxx 8xxx.xx.KTx.J8xx KJx.K9xxx.xx.KTx AQxx.J.AQJ9x.AQ9\n",
      "T9.AQT8x.8xx.xxx J8xxx.xx.xx.QT9x Qxx.9xx.AJ9x.K8x AKx.KJx.KQTx.AJx\n",
      "T9.AQT8x.8xx.xxx J8xxxx.9xx.K9.Tx Kxx.Kxx.JTxx.Q9x AQ.Jx.AQxx.AKJ8x\n",
      "T9.AQT8x.8xx.xxx J8xxx.Jxxx.QJ.Jx xxx.xx.T9xx.AT9x AKQ.K9.AKxx.KQ8x\n",
      "T9.AQT8x.8xx.xxx xxxx.x.QTxx.AKTx J8xx.xxxx.9x.J9x AKQ.KJ9.AKJx.Q8x\n",
      "T9.AQT8x.8xx.xxx Q8xxx.9x.QJ9.Q9x Kxx.KJxx.Txx.T8x AJx.xx.AKxx.AKJx\n",
      "T9.AQT8x.8xx.xxx Qxx.9xxx.Jxx.T9x 8xxx.xx.KT9x.K8x AKJx.KJ.AQx.AQJx\n",
      "T9.AQT8x.8xx.xxx Qxxx.Jx.KQJT9.9x J8xxx.Kx.xx.J8xx AK.9xxx.Axx.AKQT\n",
      "T9.AQT8x.8xx.xxx AJxx.9xxx.xx.8xx 8xxx.xx.QJ9x.Q9x KQx.KJ.AKTx.AKJT\n",
      "T9.AQT8x.8xx.xxx 8xxx.Jxx.Txx.KTx QJxx.9xx.9.AQJxx AKx.Kx.AKQJxx.98\n",
      "T9.AQT8x.8xx.xxx Q8xx.9xxx.T9xx.T KJxxx.KJx.Jx.xxx Ax.x.AKQx.AKQJ98\n",
      "T9.AQT8x.8xx.xxx KQ8xxx.J9xx.Tx.T AJxxx.xx.Jxxx.Qx .Kx.AKQ9.AKJ98xx\n",
      "T9.AQT8x.8xx.xxx J8xxx.K9.KJT.J9x Axx.Jxxx.9x.T8xx KQx.xx.AQxxx.AKQ\n",
      "T9.AQT8x.8xx.xxx Q8xxx.Kxxxx.J.9x Jxxx.J9x.xxx.KQJ AK..AKQT9x.AT8xx\n",
      "T9.AQT8x.8xx.xxx AJ8xxx.KJx.xx.J8 xxx.9xx.Txx.QTxx KQ.xx.AKQJ9.AK9x\n",
      "T9.AQT8x.8xx.xxx K8xxx.xx.JT9x.9x QJxx.J9.xxx.QT8x Ax.Kxxx.AKQ.AKJx\n",
      "T9.AQT8x.8xx.xxx Qxx.xxx.JT.QJ98x AK8xxx.9xx.xx.Tx Jx.KJ.AKQ9xx.AKx\n",
      "T9.AQT8x.8xx.xxx KQxx.Jxx.J9.QJ98 8xxx.9x.Txx.Txxx AJx.Kxx.AKQxx.AK\n",
      "T9.AQT8x.8xx.xxx KJx.9xx.xxx.K8xx Q8xxx.xx.Q9x.Q9x Axx.KJx.AKJT.AJT\n",
      "T9.AQT8x.8xx.xxx xxxx.Jxxx.Txx.AK J8xx.9xx.J9x.Qxx AKQ.K.AKQx.JT98x\n",
      "T9.AQT8x.8xx.xxx xxx.J9xxx.Qx.T8x KQJx.xx.JT9x.Jxx A8xx.K.AKxx.AKQ9\n",
      "T9.AQT8x.8xx.xxx Jxx.J9x.QTx.QT98 Qxxx.xxx.K9xx.xx AK8x.Kx.AJx.AKJx\n",
      "T9.AQT8x.8xx.xxx Qxx.Kxx.9xxx.J9x AJ8xx.J9x.x.Q8xx Kxx.xx.AKQJT.AKT\n",
      "T9.AQT8x.8xx.xxx QJ8xxx.xxx.9.98x xxx.Jx.Qxxx.KTxx AK.K9x.AKJTx.AQJ\n",
      "T9.AQT8x.8xx.xxx 8xx.Jxx.AQTx.Kxx Jxxx.xxx.x.JT98x AKQx.K9.KJ9xx.AQ\n",
      "T9.AQT8x.8xx.xxx Jxx.J9xxx.Jx.AKx Kxxx.x.T9xxx.JT9 AQ8x.Kx.AKQ.Q8xx\n",
      "T9.AQT8x.8xx.xxx 8xxx.9x.QJTxx.T9 AQJxx.xxx.K9x.J8 Kx.KJx.Ax.AKQxxx\n",
      "T9.AQT8x.8xx.xxx Jxx.xxx.Axx.QJ9x Qxx.9x.QT9xx.T8x AK8xx.KJx.KJ.AKx\n",
      "T9.AQT8x.8xx.xxx Jxxxx.xxx.J9x.Jx AKQ8x.9xx.xx.Txx x.KJ.AKQTx.AKQ98\n",
      "T9.AQT8x.8xx.xxx Q8x.Jxx.A9x.KTxx Jxxxxx.9x.Txx.J8 AK.Kxx.KQJx.AQ9x\n",
      "T9.AQT8x.8xx.xxx KJxxx.9xx.9xxx.x Q8xx.K.QJx.JT98x Ax.Jxxx.AKT.AKQx\n",
      "T9.AQT8x.8xx.xxx Jxxx.J9xx.Q9xx.T xxx.xx.JTxx.Q98x AKQ8.Kx.AK.AKJxx\n",
      "T9.AQT8x.8xx.xxx QJ8.Kxx.J9xx.J9x xxxxx.Jxxx.Q.KT AKx..AKTxx.AQ8xx\n",
      "T9.AQT8x.8xx.xxx xxxx.K9xxx.Qxx.J Q8x.Jx.JT9x.T98x AKJx.x.AKx.AKQxx\n",
      "T9.AQT8x.8xx.xxx xxx.9xxx.JTxx.Qx KQJx.Jx.Axx.T98x A8xx.Kx.KQ9.AKJx\n",
      "T9.AQT8x.8xx.xxx Jxxxx.Jx.QJx.KJx Q8xx.xx.T9xx.Qxx AK.K9xx.AKx.AT98\n",
      "T9.AQT8x.8xx.xxx 8xxx.xx.xxx.AQJT xxx.Jxxx.QTx.K9x AKQJ.K9.AKJ9.8xx\n",
      "T9.AQT8x.8xx.xxx 8xx.Kxx.xx.KQT9x KJxxx.9x.Q9xx.8x AQx.Jxx.AKJT.AJx\n",
      "T9.AQT8x.8xx.xxx 8xxx.Jxx.JT9.K8x xxx.K9x.KQx.T9xx AKQJ.xx.Axxx.AQJ\n",
      "T9.AQT8x.8xx.xxx Jxxx.xxx.Txx.T8x 8xxx.K9xx.AJx.J9 AKQ.J.KQ9x.AKQxx\n",
      "T9.AQT8x.8xx.xxx Qxxx.KJxx.9x.9xx J8xx.9xx.xx.KQ8x AKx.x.AKQJTx.AJT\n",
      "T9.AQT8x.8xx.xxx Q8x.J9xx.KQJ.9xx xxx.Kxx.T9xxx.J8 AKJxx.x.Ax.AKQTx\n",
      "T9.AQT8x.8xx.xxx xxxx.xxxx.Jx.8xx AJ8xx.J9x.QTx.Tx KQ.K.AK9xx.AKQJ9\n",
      "T9.AQT8x.8xx.xxx A8xxxx.xxx.Txx.x KQxx.9x.QJxx.Q8x J.KJx.AK9.AKJT9x\n",
      "T9.AQT8x.8xx.xxx KJx.xx.QJTxx.Q8x 8xxxx.x.A9x.T9xx AQx.KJ9xx.Kx.AKJ\n",
      "T9.AQT8x.8xx.xxx Qxx.Jxx.QJx.KT8x Jxxx.Kxx.xxx.9xx AK8x.9x.AKT9.AQJ\n",
      "T9.AQT8x.8xx.xxx J8xxxx.x.ATx.JT9 Qxx.9xx.QJ9.K8xx AK.KJxx.Kxxx.AQx\n",
      "T9.AQT8x.8xx.xxx Kxx.9xx.QT9xx.Kx Qxxx.Jxx.x.QT98x AJ8x.Kx.AKJx.AJx\n",
      "T9.AQT8x.8xx.xxx xxx.xxx.A9xxx.Kx Q8xx.J9.Jx.QJ98x AKJx.Kxx.KQT.ATx\n",
      "T9.AQT8x.8xx.xxx Q8xx.xxx.KJx.AJ9 xxx.9x.9xx.QT8xx AKJx.KJx.AQTx.Kx\n",
      "T9.AQT8x.8xx.xxx Qxx.K9xx.Jxx.xxx 8xx.Jxx.KT9x.Q98 AKJxx.x.AQx.AKJT\n",
      "T9.AQT8x.8xx.xxx 8xxxx.K9.xx.Jxxx KQxx.xx.QJTx.Q98 AJ.Jxxx.AK9x.AKT\n"
     ]
    }
   ],
   "source": [
    "# we got some samples above. if we want more, we can always get more\n",
    "\n",
    "sample_hands = bot_bid.sample_hands(['PAD_START', 'PAD_START', 'PAD_START','2N','PASS','3C','PASS','3D'])\n",
    "print(sample_hands.shape[0])\n",
    "for i in range(sample_hands.shape[0]):\n",
    "    print(f'{hand_to_str(sample_hands[i, 0, :])} {hand_to_str(sample_hands[i, 1, :])} {hand_to_str(sample_hands[i, 2, :])} {hand_to_str(sample_hands[i, 3, :])}')"
   ]
  },
  {
   "cell_type": "markdown",
   "id": "7e7f18d2",
   "metadata": {},
   "source": [
    "How do we know on which sample 4H is making and on which sample it is not? It's the topic for another tutorial, but basically we could do either (1) solve the sample double dummpy or (2) estimate the outcome using a neural network"
   ]
  },
  {
   "cell_type": "markdown",
   "id": "669da023",
   "metadata": {},
   "source": [
    "### Bidding through an entire auction for all four hands\n",
    "\n",
    "Now we'll take a random deal and let the bot bid for each hand. We assume North deals and nobody is vulnerable."
   ]
  },
  {
   "cell_type": "code",
   "execution_count": 9,
   "id": "fc27ca79",
   "metadata": {},
   "outputs": [
    {
     "data": {
      "text/plain": [
       "['AQT74.43.72.A765',\n",
       " 'K3.Q752.K865.KQ8',\n",
       " 'J92.T986.AQJ94.4',\n",
       " '865.AKJ.T3.JT932']"
      ]
     },
     "execution_count": 9,
     "metadata": {},
     "output_type": "execute_result"
    }
   ],
   "source": [
    "hands = random_deal().split()\n",
    "hands # N, E, S, W"
   ]
  },
  {
   "cell_type": "code",
   "execution_count": 10,
   "id": "d480cbba",
   "metadata": {},
   "outputs": [],
   "source": [
    "bidder_bots = [BotBid([False, False], hand, models, -1, -1, 0.1, sampler, False) for hand in hands]"
   ]
  },
  {
   "cell_type": "code",
   "execution_count": 11,
   "id": "7d77351a",
   "metadata": {},
   "outputs": [
    {
     "data": {
      "text/plain": [
       "['PASS', '1D', 'PASS', '1N', '2S', 'PASS', 'PASS', 'PASS']"
      ]
     },
     "execution_count": 11,
     "metadata": {},
     "output_type": "execute_result"
    }
   ],
   "source": [
    "auction = []  # since North deals, we don't need any 'PAD_START'\n",
    "\n",
    "turn_i = 0  # whose turn is it to bid\n",
    "\n",
    "while not bidding.auction_over(auction):\n",
    "    auction.append(bidder_bots[turn_i].bid(auction).bid)\n",
    "    turn_i = (turn_i + 1) % 4  # next player's turn\n",
    "    \n",
    "auction"
   ]
  }
 ],
 "metadata": {
  "kernelspec": {
   "display_name": "Python 3 (ipykernel)",
   "language": "python",
   "name": "python3"
  },
  "language_info": {
   "codemirror_mode": {
    "name": "ipython",
    "version": 3
   },
   "file_extension": ".py",
   "mimetype": "text/x-python",
   "name": "python",
   "nbconvert_exporter": "python",
   "pygments_lexer": "ipython3",
   "version": "3.11.0"
  }
 },
 "nbformat": 4,
 "nbformat_minor": 5
}
