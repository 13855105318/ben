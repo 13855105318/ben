{
 "cells": [
  {
   "cell_type": "code",
   "execution_count": 1,
   "metadata": {},
   "outputs": [
    {
     "name": "stdout",
     "output_type": "stream",
     "text": [
      "INFO:tensorflow:Restoring parameters from ../models/21gf_info/binfo_21gf-500000\n"
     ]
    }
   ],
   "source": [
    "import os\n",
    "os.chdir('..')\n",
    "\n",
    "from util import hand_to_str\n",
    "from deck52 import random_deal\n",
    "import binary\n",
    "\n",
    "from nn.bid_info import BidInfo\n",
    "\n",
    "binfo = BidInfo('../models/21gf_info/binfo_21gf-500000')\n"
   ]
  },
  {
   "cell_type": "code",
   "execution_count": 2,
   "metadata": {},
   "outputs": [],
   "source": [
    "auction = ['4C']\n",
    "n_steps = 1 + (len(auction)-1) // 4\n",
    "ns = -1\n",
    "ew = -1\n",
    "nesw_i = 1\n",
    "vuln = [True, False]\n",
    "hand = binary.parse_hand_f(32)(\"AJT85.AKT.K63.K8\")\n",
    "A = binary.get_auction_binary(n_steps, auction, nesw_i, hand, vuln, ns, ew)\n"
   ]
  },
  {
   "cell_type": "code",
   "execution_count": 3,
   "metadata": {},
   "outputs": [
    {
     "name": "stdout",
     "output_type": "stream",
     "text": [
      "c_hcp:[[6.161647 6.62594  9.480374]]\n",
      "c_shp:[[3.4721162 2.9833052 3.8504107 2.675741  3.4730241 3.2105064 3.6407146\n",
      "  2.5272415 1.2402604 4.425272  1.6998398 5.7104445]]\n"
     ]
    }
   ],
   "source": [
    "p_hcp, p_shp = binfo.model(A)\n",
    "p_hcp = p_hcp.reshape((-1, n_steps, 3))[:, -1, :]\n",
    "p_shp = p_shp.reshape((-1, n_steps, 12))[:, -1, :]\n",
    "\n",
    "def f_trans_hcp(x): return 4 * x + 10\n",
    "def f_trans_shp(x): return 1.75 * x + 3.25\n",
    "\n",
    "p_hcp = f_trans_hcp(p_hcp)\n",
    "p_shp = f_trans_shp(p_shp)\n",
    "\n",
    "c_hcp = p_hcp.copy()\n",
    "c_shp = p_shp.copy()\n",
    "\n",
    "print(f\"c_hcp:{c_hcp}\")\n",
    "print(f\"c_shp:{c_shp}\")\n"
   ]
  },
  {
   "cell_type": "code",
   "execution_count": 4,
   "metadata": {},
   "outputs": [
    {
     "name": "stdout",
     "output_type": "stream",
     "text": [
      "[[ 6.9078207 18.210526   9.56655  ]]\n"
     ]
    }
   ],
   "source": [
    "auction = ['PAD_START', '2C','4N']\n",
    "n_steps = 1 + len(auction) // 4\n",
    "n_samples = 10\n",
    "ns = -1\n",
    "ew = -1\n",
    "nesw_i = 3\n",
    "vuln = [True, False]\n",
    "hand = binary.parse_hand_f(32)(\"AJT8653.J.962.92\")\n",
    "A = binary.get_auction_binary(n_steps, auction, nesw_i, hand, vuln, ns, ew)\n",
    "p_hcp, p_shp = binfo.model(A)\n",
    "c_hcp = (lambda x: 4 * x + 10)(p_hcp.copy())\n",
    "print(c_hcp)\n"
   ]
  },
  {
   "cell_type": "code",
   "execution_count": 5,
   "metadata": {},
   "outputs": [
    {
     "name": "stdout",
     "output_type": "stream",
     "text": [
      "[[20.275938   8.96347    6.9984803]\n",
      " [21.049858   8.790658   6.693444 ]]\n"
     ]
    }
   ],
   "source": [
    "auction = ['PAD_START', '2C','4N','PASS']\n",
    "n_steps = 1 + len(auction) // 4\n",
    "n_samples = 10\n",
    "ns = -1\n",
    "ew = -1\n",
    "nesw_i = 0\n",
    "vuln = [True, False]\n",
    "hand = binary.parse_hand_f(32)(\"K4.T9876532.54.6\")\n",
    "A = binary.get_auction_binary(n_steps, auction, nesw_i, hand, vuln, ns, ew)\n",
    "p_hcp, p_shp = binfo.model(A)\n",
    "c_hcp = (lambda x: 4 * x + 10)(p_hcp.copy())\n",
    "print(c_hcp)\n"
   ]
  }
 ],
 "metadata": {
  "kernelspec": {
   "display_name": "Python 3",
   "language": "python",
   "name": "python3"
  },
  "language_info": {
   "codemirror_mode": {
    "name": "ipython",
    "version": 3
   },
   "file_extension": ".py",
   "mimetype": "text/x-python",
   "name": "python",
   "nbconvert_exporter": "python",
   "pygments_lexer": "ipython3",
   "version": "3.11.0"
  },
  "orig_nbformat": 4
 },
 "nbformat": 4,
 "nbformat_minor": 2
}
