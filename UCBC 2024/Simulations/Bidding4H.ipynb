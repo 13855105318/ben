{
 "cells": [
  {
   "cell_type": "markdown",
   "id": "75d07246",
   "metadata": {},
   "source": [
    "# Bidding\n",
    "\n",
    "This is a tutorial for how to use the bidding engine"
   ]
  },
  {
   "cell_type": "code",
   "execution_count": 1,
   "id": "59a5664c",
   "metadata": {},
   "outputs": [],
   "source": [
    "import sys\n",
    "import os\n",
    "sys.path.append('../../src')\n",
    "os.environ['BEN_HOME'] = \"../..\"\n",
    "\n",
    "from nn.models import Models\n",
    "from bots import BotBid\n",
    "from util import hand_to_str\n",
    "from sample import Sample\n",
    "import conf\n",
    "import numpy as np\n",
    "\n",
    "np.set_printoptions(precision=2, suppress=True, linewidth=200)\n",
    "np.random.seed(42)\n"
   ]
  },
  {
   "cell_type": "code",
   "execution_count": 2,
   "id": "44786d5d",
   "metadata": {},
   "outputs": [
    {
     "name": "stdout",
     "output_type": "stream",
     "text": [
      "WARNING:tensorflow:From c:\\Python311\\Lib\\site-packages\\tensorflow\\python\\compat\\v2_compat.py:107: disable_resource_variables (from tensorflow.python.ops.variable_scope) is deprecated and will be removed in a future version.\n",
      "Instructions for updating:\n",
      "non-resource variables are not supported in the long term\n",
      "INFO:tensorflow:Restoring parameters from ..\\Models/NS1EW99-bidding_same-5556000\n",
      "INFO:tensorflow:Restoring parameters from ..\\Models/NS1EW99-binfo_same-5556000\n",
      "INFO:tensorflow:Restoring parameters from ..\\Models/lead_suit-999000\n",
      "INFO:tensorflow:Restoring parameters from ..\\Models/lead_nt-475000\n",
      "INFO:tensorflow:Restoring parameters from ..\\Models/Jack/lr3-1000000\n",
      "INFO:tensorflow:Restoring parameters from ..\\Models/single_dummy-32768000\n",
      "INFO:tensorflow:Restoring parameters from ..\\Models/jack/lefty-1000000\n",
      "INFO:tensorflow:Restoring parameters from ..\\Models/jack/dummy-920000\n",
      "INFO:tensorflow:Restoring parameters from ..\\Models/jack/righty-1000000\n",
      "INFO:tensorflow:Restoring parameters from ..\\Models/jack/decl-1000000\n",
      "INFO:tensorflow:Restoring parameters from ..\\Models/jack/lefty-1000000\n",
      "INFO:tensorflow:Restoring parameters from ..\\Models/jack/dummy-920000\n",
      "INFO:tensorflow:Restoring parameters from ..\\Models/jack/righty-1000000\n",
      "INFO:tensorflow:Restoring parameters from ..\\Models/jack/decl-1000000\n"
     ]
    }
   ],
   "source": [
    "models = Models.from_conf(conf.load('../Conf/UCBC2024.conf'),'..')   # loading neural networks\n",
    "sampler = Sample.from_conf(conf.load('../Conf/UCBC2024.conf'), False)  # Load sampling strategies\n"
   ]
  },
  {
   "cell_type": "markdown",
   "id": "10d8f2fc",
   "metadata": {},
   "source": [
    "### Running through an example"
   ]
  },
  {
   "cell_type": "code",
   "execution_count": 3,
   "id": "19dbfeb7",
   "metadata": {},
   "outputs": [
    {
     "data": {
      "text/plain": [
       "[{'call': '1N', 'insta_score': 0.967}]"
      ]
     },
     "execution_count": 3,
     "metadata": {},
     "output_type": "execute_result"
    }
   ],
   "source": [
    "# East deals, EW vulnerable.\n",
    "vuln_ns, vuln_ew = False, False\n",
    "\n",
    "# you sit West and hold:\n",
    "hand = 'AQ8.KQ94.JT.KJ52'\n",
    "\n",
    "auction = [\"PAD_START\", \"PAD_START\", \"PAD_START\", \"PASS\"]\n",
    "bot_bid = BotBid([vuln_ns, vuln_ew], hand, models, sampler, 0, 0, False)\n",
    "\n",
    "bid = bot_bid.bid(auction)\n",
    "bid.to_dict()['candidates']\n",
    "\n",
    "# what's your bid?"
   ]
  },
  {
   "cell_type": "code",
   "execution_count": 4,
   "id": "bfe98f56",
   "metadata": {},
   "outputs": [
    {
     "name": "stderr",
     "output_type": "stream",
     "text": [
      "Loaded lib dds.dll\n"
     ]
    },
    {
     "data": {
      "text/plain": [
       "[{'call': '4H', 'insta_score': 0.531, 'expected_score': 596, 'adjustment': 27},\n",
       " {'call': '3N', 'insta_score': 0.3, 'expected_score': 558, 'adjustment': 15}]"
      ]
     },
     "execution_count": 4,
     "metadata": {},
     "output_type": "execute_result"
    }
   ],
   "source": [
    "auction = [\"PAD_START\", \"PAD_START\", \"PAD_START\", \"PASS\", \"1N\", \"PASS\", \"3S\",\"PASS\"]\n",
    "bid = bot_bid.bid(auction)\n",
    "\n",
    "bid.to_dict()['candidates']"
   ]
  },
  {
   "cell_type": "markdown",
   "id": "ad120123",
   "metadata": {},
   "source": [
    "in the output above:\n",
    "- `insta_score` reflects what the neural network prefers to bid\n",
    "- `expected_score` is based on what you expect to score on difference samples (for example, 70% of the time you are making and 30% of the time you are going one off, then the expected score is 0.7 * 620 - 0.3 * 100)"
   ]
  },
  {
   "cell_type": "markdown",
   "id": "051ff121",
   "metadata": {},
   "source": [
    "### Samples consistent with the auction so far\n",
    "\n",
    "Above we said that we are computig expected scores on samples consistent with the auction so far.\n",
    "\n",
    "How do we get these samples?\n",
    "\n",
    "We get some samples in the response we get from the bot (i.e `bid.samples`)"
   ]
  },
  {
   "cell_type": "code",
   "execution_count": 5,
   "id": "55b647a5",
   "metadata": {},
   "outputs": [
    {
     "data": {
      "text/plain": [
       "['AQ8.KQ9x.JT.KJxx KTxxxx.xxx.K9x.x .AJTx.A8xxx.A98x J9xx.8x.Qxx.QTxx 0.95894 \\n P-1N-P-3S-P-4H-P-4N-P-5H-P-6H-P-P-P (12, 12.0, 12.3)  \\n P-1N-P-3S-P-3N-P-P-P (10, 10.9, 11.3) ',\n",
       " 'AQ8.KQ9x.JT.KJxx KJxx.Jxx.Axxx.8x .Axxx.KQ9xx.AT9x T9xxxx.T8.8x.Qxx 0.95832 \\n P-1N-P-3S-P-4H-P-4N-P-5H-P-6H-P-P-P (12, 12.0, 12.1)  \\n P-1N-P-3S-P-3N-P-P-P (12, 9.9, 11.4) ',\n",
       " 'AQ8.KQ9x.JT.KJxx KJTxx.A8x.98.xxx .Jxxx.AKQxx.QT8x 9xxxx.Tx.xxxx.A9 0.94991 \\n P-1N-P-3S-P-4H-P-P-P (10, 10.9, 11.4)  \\n P-1N-P-3S-P-3N-P-P-P (10, 8.4, 10.0) ',\n",
       " 'AQ8.KQ9x.JT.KJxx Kxxxx.xxx.9x.Txx .AT8x.KQ8xx.AQ9x JT9xx.Jx.Axxx.8x 0.94387 \\n P-1N-P-3S-P-4H-P-4N-P-5H-P-6H-P-P-P (12, 12.3, 12.3)  \\n P-1N-P-3S-P-3N-P-4C-P-4S-P-5C-P-5H-P-6N-P-P-P (12, 10.8, 11.8) ',\n",
       " 'AQ8.KQ9x.JT.KJxx KJxx.T8xx.Kxxx.x .AJxx.A98xx.A98x T9xxxx.x.Qx.QTxx 0.94351 \\n P-1N-P-3S-P-4H-P-4N-P-5H-P-6H-P-P-P (12, 11.9, 12.1)  \\n P-1N-P-3S-P-3N-P-P-P (11, 10.7, 11.3) ',\n",
       " 'AQ8.KQ9x.JT.KJxx 9xxxx.Txx.Ax.Axx .AJ8x.KQ98x.Q98x KJTxx.xx.xxxx.Tx 0.94262 \\n P-1N-P-3S-P-4H-P-P-P (11, 11.2, 11.2)  \\n P-1N-P-3S-P-3N-P-P-P (10, 9.0, 9.8) ',\n",
       " 'AQ8.KQ9x.JT.KJxx KJT9xx.xx.Qx.T8x .J8xx.AK8xx.AQxx xxxx.ATx.9xxx.9x 0.94130 \\n P-1N-P-3S-P-4H-P-4N-P-5H-P-6H-P-P-P (12, 11.9, 12.1)  \\n P-1N-P-3S-P-3N-P-4C-P-4S-P-5C-P-5H-P-6N-P-P-P (11, 10.6, 11.5) ',\n",
       " 'AQ8.KQ9x.JT.KJxx JT9xxx.Jx.Qxx.T8 .ATxx.AK8xx.AQxx Kxxx.8xx.9xx.9xx 0.93896 \\n P-1N-P-3S-P-4H-P-4N-P-5H-P-5N-P-6D-P-7H-P-P-P (13, 12.3, 12.9)  \\n P-1N-P-3S-P-3N-P-4C-P-4S-P-5C-P-5H-P-6N-P-P-P (13, 12.2, 12.8) ',\n",
       " 'AQ8.KQ9x.JT.KJxx JTxxx.T8.9xx.A9x .AJxx.AKQ8x.QTxx K9xxx.xxx.xxx.8x 0.93762 \\n P-1N-P-3S-P-4H-P-4N-P-5H-P-6H-P-P-P (12, 12.3, 12.3)  \\n P-1N-P-3S-P-3N-P-4C-P-4S-P-5C-P-5H-P-6N-P-P-P (12, 11.2, 12.0) ',\n",
       " 'AQ8.KQ9x.JT.KJxx Kxxxxx.xx.xx.ATx .AT8x.KQ8xx.Q98x JT9x.Jxx.A9xx.xx 0.93750 \\n P-1N-P-3S-P-4H-P-P-P (11, 11.1, 10.9)  \\n P-1N-P-3S-P-3N-P-P-P (10, 8.3, 9.8) ',\n",
       " 'AQ8.KQ9x.JT.KJxx KT9xx.JT.K8x.8xx .A8xx.AQxxx.AQxx Jxxxx.xxx.9xx.T9 0.93584 \\n P-1N-P-3S-P-4H-P-4N-P-5H-P-6H-P-P-P (13, 12.3, 12.8)  \\n P-1N-P-3S-P-3N-P-4C-P-4S-P-5C-P-5H-P-6N-P-P-P (13, 12.0, 12.6) ',\n",
       " 'AQ8.KQ9x.JT.KJxx T9xxxx.x.98x.QTx .AJ8x.AKQxx.A9xx KJxx.Txxx.xxx.8x 0.93287 \\n P-1N-P-3S-P-4H-P-4N-P-5H-P-5N-P-6D-P-7H-P-P-P (13, 12.2, 12.9)  \\n P-1N-P-3S-P-3N-P-4C-P-4S-P-5C-P-5H-P-6N-P-P-P (12, 12.1, 12.8) ',\n",
       " 'AQ8.KQ9x.JT.KJxx KTxxxx.8.8xxx.Qx .AJTx.AKQxx.ATxx J9xx.xxxx.9x.98x 0.93132 \\n P-1N-P-3S-P-4H-P-4N-P-5H-P-5N-P-6D-P-7H-P-P-P (13, 12.1, 12.9)  \\n P-1N-P-3S-P-3N-P-4C-P-4S-P-5C-P-5H-P-6N-P-P-P (13, 12.0, 12.7) ',\n",
       " 'AQ8.KQ9x.JT.KJxx KJTx.Axx.8xxx.98 .J8xx.AK9xx.QTxx 9xxxxx.Tx.Qx.Axx 0.92093 \\n P-1N-P-3S-P-4H-P-P-P (10, 11.0, 10.8)  \\n P-1N-P-3S-P-3N-P-P-P (8, 8.1, 9.1) ',\n",
       " 'AQ8.KQ9x.JT.KJxx KJxx.xx.Qxxx.98x .AJxx.AK8x.AQTxx T9xxxx.T8x.9xx.x 0.91780 \\n P-1N-P-3S-P-4H-P-6C-P-P-P (13, 12.2, 12.9)  \\n P-1N-P-3S-P-3N-P-4C-P-4S-P-5C-P-5H-P-6N-P-P-P (13, 12.0, 12.8) ',\n",
       " 'AQ8.KQ9x.JT.KJxx Jxxx.T8x.AQxx.Q8 .Axxx.K98xx.A9xx KT9xxx.Jx.xx.Txx 0.91590 \\n P-1N-P-3S-P-4H-P-P-P (12, 12.1, 11.7)  \\n P-1N-P-3S-P-3N-P-P-P (11, 9.9, 10.5) ',\n",
       " 'AQ8.KQ9x.JT.KJxx KTxxx.8.xxxxx.T8 .Txxx.AQ98x.Axxx J9xxx.AJxx.K.Q9x 0.91484 \\n P-1N-P-3S-P-4H-P-P-P (12, 11.2, 10.4)  \\n P-1N-P-3S-P-3N-P-P-P (12, 8.9, 9.1) ',\n",
       " 'AQ8.KQ9x.JT.KJxx K9xxxx.Jx.Qxx.8x .A8xx.AKxx.AQ9xx JTxx.Txx.98xx.Tx 0.91057 \\n P-1N-P-3S-P-4H-P-6C-P-P-P (13, 12.2, 12.8)  \\n P-1N-P-3S-P-3N-P-4C-P-4S-P-5C-P-5H-P-6N-P-P-P (13, 12.0, 12.8) ',\n",
       " 'AQ8.KQ9x.JT.KJxx KTxxx.Tx.Ax.QT9x .A8xx.K9xxx.Axxx J9xxx.Jxx.Q8xx.8 0.89644 \\n P-1N-P-3S-P-4H-P-P-P (11, 11.4, 11.4)  \\n P-1N-P-3S-P-3N-P-P-P (9, 9.2, 9.8) ',\n",
       " 'AQ8.KQ9x.JT.KJxx KJTxx.ATx.9xxx.x .8xxx.AK8xx.Q8xx 9xxxx.Jx.Qx.AT9x 0.88980 \\n P-1N-P-3S-P-4H-P-P-P (10, 9.8, 10.0)  \\n P-1N-P-3S-P-3N-P-P-P (8, 7.4, 8.3) ']"
      ]
     },
     "execution_count": 5,
     "metadata": {},
     "output_type": "execute_result"
    }
   ],
   "source": [
    "bid.samples"
   ]
  },
  {
   "cell_type": "markdown",
   "id": "7d0dd8f5",
   "metadata": {},
   "source": [
    "each row is one sample. the hands are in the order: N E S W\n",
    "\n",
    "(West always has the same cards because it's your hand and it's known to you)"
   ]
  },
  {
   "cell_type": "code",
   "execution_count": 6,
   "id": "7101e514",
   "metadata": {},
   "outputs": [
    {
     "name": "stdout",
     "output_type": "stream",
     "text": [
      "Good quality: True\n",
      "AQ8.KQ9x.JT.KJxx KTxxxx.xxx.K9x.x .AJTx.A8xxx.A98x J9xx.8x.Qxx.QTxx\n",
      "AQ8.KQ9x.JT.KJxx KJxx.Jxx.Axxx.8x .Axxx.KQ9xx.AT9x T9xxxx.T8.8x.Qxx\n",
      "AQ8.KQ9x.JT.KJxx KJTxx.A8x.98.xxx .Jxxx.AKQxx.QT8x 9xxxx.Tx.xxxx.A9\n",
      "AQ8.KQ9x.JT.KJxx Kxxxx.xxx.9x.Txx .AT8x.KQ8xx.AQ9x JT9xx.Jx.Axxx.8x\n",
      "AQ8.KQ9x.JT.KJxx KJxx.T8xx.Kxxx.x .AJxx.A98xx.A98x T9xxxx.x.Qx.QTxx\n",
      "AQ8.KQ9x.JT.KJxx 9xxxx.Txx.Ax.Axx .AJ8x.KQ98x.Q98x KJTxx.xx.xxxx.Tx\n",
      "AQ8.KQ9x.JT.KJxx KJT9xx.xx.Qx.T8x .J8xx.AK8xx.AQxx xxxx.ATx.9xxx.9x\n",
      "AQ8.KQ9x.JT.KJxx JT9xxx.Jx.Qxx.T8 .ATxx.AK8xx.AQxx Kxxx.8xx.9xx.9xx\n",
      "AQ8.KQ9x.JT.KJxx JTxxx.T8.9xx.A9x .AJxx.AKQ8x.QTxx K9xxx.xxx.xxx.8x\n",
      "AQ8.KQ9x.JT.KJxx Kxxxxx.xx.xx.ATx .AT8x.KQ8xx.Q98x JT9x.Jxx.A9xx.xx\n",
      "AQ8.KQ9x.JT.KJxx KT9xx.JT.K8x.8xx .A8xx.AQxxx.AQxx Jxxxx.xxx.9xx.T9\n",
      "AQ8.KQ9x.JT.KJxx T9xxxx.x.98x.QTx .AJ8x.AKQxx.A9xx KJxx.Txxx.xxx.8x\n",
      "AQ8.KQ9x.JT.KJxx KTxxxx.8.8xxx.Qx .AJTx.AKQxx.ATxx J9xx.xxxx.9x.98x\n",
      "AQ8.KQ9x.JT.KJxx KJTx.Axx.8xxx.98 .J8xx.AK9xx.QTxx 9xxxxx.Tx.Qx.Axx\n",
      "AQ8.KQ9x.JT.KJxx KJxx.xx.Qxxx.98x .AJxx.AK8x.AQTxx T9xxxx.T8x.9xx.x\n",
      "AQ8.KQ9x.JT.KJxx Jxxx.T8x.AQxx.Q8 .Axxx.K98xx.A9xx KT9xxx.Jx.xx.Txx\n",
      "AQ8.KQ9x.JT.KJxx KTxxx.8.xxxxx.T8 .Txxx.AQ98x.Axxx J9xxx.AJxx.K.Q9x\n",
      "AQ8.KQ9x.JT.KJxx K9xxxx.Jx.Qxx.8x .A8xx.AKxx.AQ9xx JTxx.Txx.98xx.Tx\n",
      "AQ8.KQ9x.JT.KJxx KTxxx.Tx.Ax.QT9x .A8xx.K9xxx.Axxx J9xxx.Jxx.Q8xx.8\n",
      "AQ8.KQ9x.JT.KJxx KJTxx.ATx.9xxx.x .8xxx.AK8xx.Q8xx 9xxxx.Jx.Qx.AT9x\n",
      "AQ8.KQ9x.JT.KJxx JTxxxx.Ax.xx.T9x .JTxx.Axxx.AQ8xx K9xx.8xx.KQ98x.x\n",
      "AQ8.KQ9x.JT.KJxx Kxxxx.8x.xxx.T9x 9.Axxx.AK9x.Q8xx JTxx.JTx.Q8xx.Ax\n",
      "AQ8.KQ9x.JT.KJxx 9xxx.xx.Q8xx.ATx T.ATxx.AK9x.Q8xx KJxxx.J8x.xxx.9x\n",
      "AQ8.KQ9x.JT.KJxx K9xx.J8x.AQ9x.98 .ATxx.Kxxx.ATxxx JTxxxx.xx.8xx.Qx\n",
      "AQ8.KQ9x.JT.KJxx KT9xx.xx.K9xxx.9 .AJxx.AQx.AQ8xxx Jxxxx.T8x.8xx.Tx\n",
      "AQ8.KQ9x.JT.KJxx KTxxx.Txx.8xx.xx .AJ8x.A9xx.AQ8xx J9xxx.xx.KQxx.T9\n",
      "AQ8.KQ9x.JT.KJxx KJTxxx.x.9xx.Qxx .AJTx.Axxx.AT8xx 9xxx.8xxx.KQ8x.9\n",
      "AQ8.KQ9x.JT.KJxx JTxxx.Jxx.K9xx.x .ATxx.AQxx.AT9xx K9xxx.8x.8xx.Q8x\n",
      "AQ8.KQ9x.JT.KJxx KT9x.xx.8xxx.T9x x.8xxx.AKQ9.AQ8x Jxxxx.AJT.xxx.xx\n",
      "AQ8.KQ9x.JT.KJxx J9xxx.Tx.98xx.QT x.A8xx.AKxx.Axxx KTxx.Jxx.Qxx.98x\n",
      "AQ8.KQ9x.JT.KJxx Kxxx.8x.9xx.QTxx 9.ATxx.KQxx.A98x JTxxx.Jxx.A8xx.x\n",
      "AQ8.KQ9x.JT.KJxx KT9x.8xx.Qxx.Qxx x.AJxx.AK9x.T98x Jxxxx.Tx.8xxx.Ax\n",
      "AQ8.KQ9x.JT.KJxx T9xxxx.T8.KQ8.AT .Axxx.Axxxx.Q9xx KJxx.Jxx.9xx.8xx\n",
      "AQ8.KQ9x.JT.KJxx KT9xx.Jxx.Qxx.xx x.Axxx.AKxx.QT98 Jxxx.T8.98xx.Axx\n",
      "AQ8.KQ9x.JT.KJxx xxxxxx.J.KQx.Txx .ATxx.A8xx.AQ98x KJT9.8xxx.9xxx.x\n",
      "AQ8.KQ9x.JT.KJxx KJTxx.xxx.Qxxx.x .AJ8x.AK9x.QT8xx 9xxxx.Tx.8xx.A9x\n",
      "AQ8.KQ9x.JT.KJxx KTxxx.JTx.Qxx.Qx J.A8xx.AKxx.T8xx 9xxx.xx.98xx.A9x\n",
      "AQ8.KQ9x.JT.KJxx Jxxx.T8.Kxxx.A8x T.AJxx.AQ8x.QTxx K9xxx.xxx.9xx.9x\n",
      "AQ8.KQ9x.JT.KJxx K9xx.Jx.9xxx.A8x x.A8xx.AKxx.T9xx JTxxx.Txx.Q8x.Qx\n",
      "AQ8.KQ9x.JT.KJxx K9xxx.8x.K8xx.8x x.Jxxx.AQ9x.AQTx JTxx.ATx.xxx.9xx\n",
      "AQ8.KQ9x.JT.KJxx KJxxx.xx.K8x.9xx x.ATxx.Qxxx.AQxx T9xx.J8x.A9xx.T8\n",
      "AQ8.KQ9x.JT.KJxx J9xx.JTx.9xx.xxx x.A8xx.AKQx.AQT9 KTxxx.xx.8xxx.8x\n",
      "AQ8.KQ9x.JT.KJxx Jxxxx.Tx.Q9x.A9x 9.AJxx.AKxx.Q8xx KTxx.8xx.8xxx.Tx\n",
      "AQ8.KQ9x.JT.KJxx K9xxx.x.A98x.8xx x.A8xx.KQxx.QT9x JTxx.JTxx.xxx.Ax\n",
      "AQ8.KQ9x.JT.KJxx T9xxx.T8xx.Q8.xx x.AJxx.AK9x.T9xx KJxx.x.xxxxx.AQ8\n",
      "AQ8.KQ9x.JT.KJxx KJTxx.Jx.8xx.T8x 9.ATxx.KQ9x.AQ9x xxxx.8xx.Axxx.xx\n",
      "AQ8.KQ9x.JT.KJxx KTxx.x.Axxxx.9xx x.A8xx.KQ8x.AQT8 J9xxx.JTxx.9x.xx\n",
      "AQ8.KQ9x.JT.KJxx KJTx.JTx.xxxx.Tx 9.A8xx.K98x.AQ8x xxxxx.xx.AQx.9xx\n",
      "AQ8.KQ9x.JT.KJxx K9xxxx.Jxx.8x.Tx x.AT8x.AQxx.Axxx JTx.xx.K9xxx.Q98\n",
      "AQ8.KQ9x.JT.KJxx Kxxx.Jxxx.Kx.8xx x.A8xx.Qxxx.AQxx JT9xx.T.A98xx.T9\n",
      "AQ8.KQ9x.JT.KJxx KJ9xx.J8.Qxx.Q9x x.ATxx.K9xx.ATxx Txxx.xxx.A8xx.8x\n",
      "AQ8.KQ9x.JT.KJxx KJxx.Jxx.xx.Q8xx x.ATxx.A9xx.A9xx T9xxx.8x.KQ8xx.T\n",
      "AQ8.KQ9x.JT.KJxx xxxxx.x.K98xx.Qx T.JT8x.AQxx.A9xx KJ9x.Axxx.xx.T8x\n",
      "AQ8.KQ9x.JT.KJxx KJ9xx.Txx.xxx.9x x.A8xx.AK9.AQ8xx Txxx.Jx.Q8xxx.Tx\n",
      "AQ8.KQ9x.JT.KJxx KTxxx.x.Q98x.Axx .Txxx.AKxxx.QT9x J9xxx.AJ8x.xx.8x\n",
      "AQ8.KQ9x.JT.KJxx KJTxx.x.98xx.A8x x.Axxx.AKQx.Q9xx 9xxx.JT8x.xxx.Tx\n",
      "AQ8.KQ9x.JT.KJxx JTxxxx.xx.8xxx.x x.A8xx.AK9.AQ98x K9x.JTx.Qxxx.Txx\n",
      "AQ8.KQ9x.JT.KJxx KJx.8xxx.AQxx.T9 9.AJxx.K9xx.AQ8x Txxxxx.T.8xx.xxx\n",
      "AQ8.KQ9x.JT.KJxx JT9xx.Jx.Qxxx.98 x.ATxx.A9xx.AQxx Kxxx.8xx.K8x.Txx\n",
      "AQ8.KQ9x.JT.KJxx KJ9xxx.Tx.K98x.x .A8xx.xxxx.AQxxx Txxx.Jxx.AQx.T98\n",
      "AQ8.KQ9x.JT.KJxx KJxxxx.x.KQx.98x .A8xx.A9xxx.AQxx T9xx.JTxx.8xx.Tx\n",
      "AQ8.KQ9x.JT.KJxx J9xxx.Jx.Axx.Q8x x.AT8x.K98xx.Axx KTxx.xxx.Qxx.T9x\n",
      "AQ8.KQ9x.JT.KJxx Kxxxx.Jxx.K8x.9x x.Axxx.Qxx.AQTxx JT9x.T8.A9xxx.8x\n",
      "AQ8.KQ9x.JT.KJxx Jxxx.AT8x.Qxx.Qx x.Jxxx.AKxxx.Axx KT9xx.x.98x.T98x\n",
      "AQ8.KQ9x.JT.KJxx KJxxx.8x.xxxx.xx x.JTxx.AKx.AT98x T9xx.Axx.Q98x.Qx\n",
      "AQ8.KQ9x.JT.KJxx Txxx.Jx.KQx.Q8xx x.AT8x.A9xxx.ATx KJ9xx.xxx.8xx.9x\n",
      "AQ8.KQ9x.JT.KJxx KJxx.Jxxx.Ax.Txx x.A8xx.KQ9xx.Q9x T9xxx.T.8xxx.A8x\n",
      "AQ8.KQ9x.JT.KJxx 9xxx.Tx.Axxxx.8x x.Axxx.KQ9x.Axxx KJTxx.J8x.8x.QT9\n",
      "AQ8.KQ9x.JT.KJxx KT9xxx.Tx.8xxx.T x.AJ8x.K9x.A9xxx Jxx.xxx.AQxx.Q8x\n",
      "AQ8.KQ9x.JT.KJxx Txxx.x.9xxx.AQT8 x.ATxx.AK8xx.9xx KJ9xx.J8xx.Qx.xx\n",
      "AQ8.KQ9x.JT.KJxx KTxxx.AJx.x.8xxx 9.T8xx.A98xx.AQ9 Jxxx.xx.KQxxx.Tx\n",
      "AQ8.KQ9x.JT.KJxx KJT9xx.xx.98x.8x x.AJT8.AKxx.A9xx xxx.xxx.Qxxx.QTx\n",
      "AQ8.KQ9x.JT.KJxx K9xxx.xx.9xxxx.8 x.A8xx.AKQ.QT9xx JTxx.JTx.8xx.Axx\n",
      "AQ8.KQ9x.JT.KJxx Txxx.AJx.xxx.Qxx K.xxxx.AK8x.AT98 J9xxx.T8.Q9xx.xx\n",
      "AQ8.KQ9x.JT.KJxx JTxx.Jxx.9x.AQxx x.ATxx.AK8xx.Txx K9xxx.8x.Qxxx.98\n",
      "AQ8.KQ9x.JT.KJxx JT9xx.JTx.A9x.9x x.Axxx.8xxx.AQxx Kxxx.8x.KQxx.T8x\n",
      "AQ8.KQ9x.JT.KJxx Kxxx.Txxx.9xx.Qx T.AJ8x.AQ8.AT98x J9xxx.x.Kxxxx.xx\n",
      "AQ8.KQ9x.JT.KJxx K9x.Txx.Axxxx.xx x.AJ8x.Q9xx.AQ98 JTxxxx.xx.K8.Txx\n",
      "AQ8.KQ9x.JT.KJxx KTx.8xxx.98xxx.A x.AJTx.AKx.T9xxx J9xxxx.x.Qxx.Q8x\n",
      "AQ8.KQ9x.JT.KJxx KJxx.JT8x.AQ9.xx T.Axxx.Kxx.AQT98 9xxxx.x.8xxxx.xx\n",
      "AQ8.KQ9x.JT.KJxx Kxxxx.xx.Q98x.Ax x.AT8x.AKxx.Q98x JT9x.Jxx.xxx.Txx\n",
      "AQ8.KQ9x.JT.KJxx K9xx.8xx.Kxx.Qxx x.AJTx.AQx.T98xx JTxxx.xx.98xxx.A\n",
      "AQ8.KQ9x.JT.KJxx KTxx.xx.AQxx.Txx x.ATxx.98xx.AQxx J9xxx.J8x.Kxx.98\n",
      "AQ8.KQ9x.JT.KJxx KTxx.x.AQ8x.T9xx x.AT8x.xxxx.AQ8x J9xxx.Jxxx.K9x.x\n",
      "AQ8.KQ9x.JT.KJxx KT9xx.Jx.Qxxx.xx x.AT8x.AK9.AT8xx Jxxx.xxx.8xxx.Q9\n",
      "AQ8.KQ9x.JT.KJxx KJTxx.ATx.9x.98x x.Jxxx.Kxxx.AQTx 9xxx.8x.AQ8xx.xx\n",
      "AQ8.KQ9x.JT.KJxx K9x.T8.Qxxx.8xxx J.Axxx.K9xxx.AT9 Txxxxx.Jxx.A8.Qx\n",
      "AQ8.KQ9x.JT.KJxx Txxx.T8x.K9xx.Tx .AJxx.AQxx.AQ8xx KJ9xxx.xx.8xx.9x\n",
      "AQ8.KQ9x.JT.KJxx KJxxx.Jxx.9xx.98 T.AT8x.Axx.AQxxx 9xxx.xx.KQ8xx.Tx\n",
      "AQ8.KQ9x.JT.KJxx 9xxxxx.x.Q98x.8x T.J8xx.AKx.AQTxx KJx.ATxx.xxxx.9x\n",
      "AQ8.KQ9x.JT.KJxx JT9x.T8x.AKxx.9x x.AJxx.Q98xx.AQx Kxxxx.xx.xx.T8xx\n",
      "AQ8.KQ9x.JT.KJxx K9xx.8xx.Q8xx.Tx x.AJxx.A9x.A98xx JTxxx.Tx.Kxxx.Qx\n",
      "AQ8.KQ9x.JT.KJxx JT9xxx.Jx.98x.Q9 K.AT8x.KQxx.Txxx xxx.xxx.Axxx.A8x\n",
      "AQ8.KQ9x.JT.KJxx KJxx.J8.98x.Txxx x.Axxx.Axxxx.A8x T9xxx.Txx.KQx.Q9\n",
      "AQ8.KQ9x.JT.KJxx KJxx.Txx.KQ8xx.x T.Axxx.A9x.AQTxx 9xxxx.J8.xxx.98x\n",
      "AQ8.KQ9x.JT.KJxx JTxxx.Txx.AQxx.T K.Axxx.K9xx.A8xx 9xxx.J8.8xx.Q9xx\n",
      "AQ8.KQ9x.JT.KJxx 9xxx.T8.KQxx.9xx T.AJxx.A8xxx.A8x KJxxx.xxx.9x.QTx\n",
      "AQ8.KQ9x.JT.KJxx KJ9xx.Jx.9xx.8xx x.A8xx.KQ8xx.A9x Txxx.Txx.Axx.QTx\n",
      "AQ8.KQ9x.JT.KJxx 9xxx.Ax.KQ8x.Txx K.8xxx.A9xx.AQ9x JTxxx.JTx.xxx.8x\n",
      "AQ8.KQ9x.JT.KJxx T9xx.Jxx.Qxxx.Ax .A8xx.AK8x.QT98x KJxxxx.Tx.9xx.xx\n",
      "AQ8.KQ9x.JT.KJxx J9xx.Tx.8xxx.98x K.J8xx.AKxx.AQxx Txxxx.Axx.Q9x.Tx\n",
      "AQ8.KQ9x.JT.KJxx K9xxx.Txxx.98x.x x.AJxx.AKQxx.AT9 JTxx.8.xxx.Q8xxx\n",
      "AQ8.KQ9x.JT.KJxx JT9x.AJx.KQ9x.8x K.T8xx.A8xx.AQ9x xxxxx.xx.xxx.Txx\n",
      "AQ8.KQ9x.JT.KJxx JTxxx.Txx.Qxx.Tx K.Jxxx.A9xx.A9xx 9xxx.A8.K8xx.Q8x\n",
      "AQ8.KQ9x.JT.KJxx KJT9x.Txx.8xx.8x .AJ8x.AKQ9xx.Q9x xxxxx.xx.xx.ATxx\n",
      "AQ8.KQ9x.JT.KJxx KTxxx.Jxx.9xxx.9 J.A8xx.AQ8.QT8xx 9xxx.Tx.Kxxx.Axx\n",
      "AQ8.KQ9x.JT.KJxx 9xxx.JTx.AQxx.8x x.Axxx.K98xx.AQ9 KJTxx.8x.xx.Txxx\n",
      "AQ8.KQ9x.JT.KJxx JTxx.8xx.K98x.Tx x.ATxx.AQx.A98xx K9xxx.Jx.xxxx.Qx\n",
      "AQ8.KQ9x.JT.KJxx Jxxxx.xx.AKxxx.x T.AT8x.8xx.AQT8x K9xx.Jxx.Q9x.9xx\n",
      "AQ8.KQ9x.JT.KJxx Kxxxx.T8x.xxx.8x T.Axxx.AKQ9x.Q9x J9xx.Jx.8xx.ATxx\n",
      "AQ8.KQ9x.JT.KJxx Txx.Jxxx.KQxx.xx K.AT8x.Axxx.Q98x J9xxxx.x.98x.ATx\n",
      "AQ8.KQ9x.JT.KJxx K9xx.Jxx.Q8xx.9x .AT8x.K9xx.AQT8x JTxxxx.xx.Axx.xx\n",
      "AQ8.KQ9x.JT.KJxx Kxxxx.Jx.Q98.8xx x.ATxx.AKxxx.A9x JT9x.8xx.xxx.QTx\n",
      "AQ8.KQ9x.JT.KJxx KJT9x.8x.98xx.98 x.Txxx.KQx.AQxxx xxxx.AJx.Axxx.Tx\n",
      "AQ8.KQ9x.JT.KJxx Txxx.Jx.AQx.T98x J.A8xx.Kxx.AQxxx K9xxx.Txx.98xxx.\n",
      "AQ8.KQ9x.JT.KJxx J9xxxx.T8.Q8x.Qx K.AJxx.Kxx.AT8xx Txx.xxx.A9xxx.9x\n",
      "AQ8.KQ9x.JT.KJxx JTxxx.8xx.Kx.T9x K.AJTx.Q8x.AQ8xx 9xxx.xx.A9xxxx.x\n",
      "AQ8.KQ9x.JT.KJxx T9xxx.xx.K9xxx.A K.AJxx.AQ8x.98xx Jxxx.T8x.xx.QTxx\n",
      "AQ8.KQ9x.JT.KJxx Jxx.J8xx.Qxx.A8x T.ATxx.AK98x.Qxx K9xxxx.x.xxx.T9x\n",
      "AQ8.KQ9x.JT.KJxx xxxx.Jxx.Qxx.8xx x.ATxx.AK9xx.AT9 KJT9x.8x.8xx.Qxx\n",
      "AQ8.KQ9x.JT.KJxx KTxx.Jx.Kxxx.98x x.AT8x.AQ9xx.ATx J9xxx.xxx.8x.Qxx\n",
      "AQ8.KQ9x.JT.KJxx J9xx.Jx.A9xx.98x K.Axxx.K8xx.AQxx Txxxx.T8x.Qxx.Tx\n",
      "AQ8.KQ9x.JT.KJxx xxxxx.JT8.Kxx.Q8 x.Axxx.AQ8xx.Axx KJT9.xx.9xx.T9xx\n",
      "AQ8.KQ9x.JT.KJxx T9xxx.Jx.KQx.Q8x K.T8xx.A9xx.A9xx Jxxx.Axx.8xxx.Tx\n",
      "AQ8.KQ9x.JT.KJxx Kxxx.xx.Q8xx.T8x J.AT8x.K9x.AQ9xx T9xxx.Jxx.Axxx.x\n",
      "AQ8.KQ9x.JT.KJxx J9xxx.xx.Axxx.Ax x.AJTx.K98x.Qxxx KTxx.8xx.Qxx.T98\n",
      "AQ8.KQ9x.JT.KJxx JT9xx.xx.Kxxx.8x K.T8xx.AQx.A9xxx xxxx.AJx.98xx.QT\n",
      "AQ8.KQ9x.JT.KJxx KT9xx.Jx.98xx.Q8 x.AT8x.AQxxx.Axx Jxxx.xxx.Kx.T9xx\n",
      "AQ8.KQ9x.JT.KJxx JT9x.T8x.KQx.Q8x K.Axxx.98xxx.AT9 xxxxx.Jx.Axx.xxx\n",
      "AQ8.KQ9x.JT.KJxx JTxx.Jx.Q98xxx.x 9.ATxx.Axx.AQ8xx Kxxxx.8xx.Kx.T9x\n",
      "AQ8.KQ9x.JT.KJxx T9xxx.Txx.K98.9x K.J8xx.AQxx.A8xx Jxxx.Ax.xxxx.QTx\n",
      "AQ8.KQ9x.JT.KJxx KJx.Jx.AQ98x.98x x.ATxx.Kxx.AQxxx T9xxxx.8xx.xxx.T\n",
      "AQ8.KQ9x.JT.KJxx K9xx.8xx.A9x.Q9x x.AJxx.KQxxx.A8x JTxxx.Tx.8xx.Txx\n",
      "AQ8.KQ9x.JT.KJxx Kxxxx.xxx.xx.Txx x.AJ8x.KQxxx.A8x JT9x.Tx.A98x.Q9x\n",
      "AQ8.KQ9x.JT.KJxx KJT9xx.8.Axxx.Qx x.AJxx.KQ98.A98x xxx.Txxx.xxx.Txx\n",
      "AQ8.KQ9x.JT.KJxx KJxx.xxx.xxx.8xx x.JTxx.AKQ8x.T9x T9xxx.A8.9xx.AQx\n",
      "AQ8.KQ9x.JT.KJxx KJxx.Axxx.8x.T9x x.JT8x.AKQxx.Axx T9xxx.x.9xxx.Q8x\n",
      "AQ8.KQ9x.JT.KJxx T9xx.JT8x.Qxx.Ax .Axxx.AK9xx.98xx KJxxxx.x.8xx.QTx\n",
      "AQ8.KQ9x.JT.KJxx T9xxx.J8x.Kxxx.x .Txxx.AQ98x.AQ8x KJxxx.Ax.xx.T9xx\n",
      "AQ8.KQ9x.JT.KJxx Txxx.Txx.Kxx.Q9x .AJ8x.A8xxx.ATxx KJ9xxx.xx.Q9x.8x\n",
      "AQ8.KQ9x.JT.KJxx J9xxx.Tx.8xx.Q9x .AJ8x.A9xxx.AT8x KTxxx.xxx.KQx.xx\n",
      "AQ8.KQ9x.JT.KJxx Jxxx.8x.A98xx.9x K.JTxx.KQxx.AQ8x T9xxx.Axx.xx.Txx\n",
      "AQ8.KQ9x.JT.KJxx Txx.ATx.K9x.QT9x x.Jxxx.AQxxx.A8x KJ9xxx.8x.8xx.xx\n",
      "AQ8.KQ9x.JT.KJxx KJT9xx.Axx.8xx.Q x.JT8x.AKxx.A98x xxx.xx.Q9xx.Txxx\n",
      "AQ8.KQ9x.JT.KJxx JTxx.xxx.A9.QTxx K.AJxx.Kxxxx.A9x 9xxxx.T8.Q8xx.8x\n",
      "AQ8.KQ9x.JT.KJxx JTxxx.Tx.Axx.Q9x K.Jxxx.K9xx.ATxx 9xxx.A8x.Q8xx.8x\n",
      "AQ8.KQ9x.JT.KJxx T9xxx.xx.9xx.8xx .ATxx.Axxxx.QT9x KJxxx.J8x.KQ8.Ax\n",
      "AQ8.KQ9x.JT.KJxx KT9xxx.x.KQxx.T9 x.A8xx.A8x.AQxxx Jxx.JTxx.9xxx.8x\n",
      "AQ8.KQ9x.JT.KJxx J9xxx.Axxx.9x.Qx T.JT8x.KQ8.AT9xx Kxxx.x.Axxxxx.8x\n",
      "AQ8.KQ9x.JT.KJxx J9xx.xxx.Qxxx.QT .AJTx.AK98x.8xxx KTxxxx.8x.xx.A9x\n",
      "AQ8.KQ9x.JT.KJxx 9xxxx.Jxx.A8xx.x K.AT8x.Q9xx.QTxx JTxx.xx.Kxx.A98x\n",
      "AQ8.KQ9x.JT.KJxx KJTxxx.x.K9xx.9x .JTxx.A8xx.AT8xx 9xxx.A8xx.Qxx.Qx\n",
      "AQ8.KQ9x.JT.KJxx Txxx.T8x.AKxx.T8 K.AJxx.Q9x.Q9xxx J9xxx.xx.8xxx.Ax\n",
      "AQ8.KQ9x.JT.KJxx Kxxx.xxx.8xx.Txx x.AJTx.KQ9xx.Axx JT9xx.8x.Axx.Q98\n",
      "AQ8.KQ9x.JT.KJxx KTxxxx.Tx.AQx.9x x.AJxx.8xxx.AQxx J9x.8xx.K9xx.T8x\n",
      "AQ8.KQ9x.JT.KJxx KTxxx.T8x.KQx.Qx .AJxx.98xx.ATxxx J9xxx.xx.Axxx.98\n",
      "AQ8.KQ9x.JT.KJxx KTxxx.x.8xx.A8xx J.JT8x.AQ9xx.QT9 9xxx.Axxx.Kxx.xx\n",
      "AQ8.KQ9x.JT.KJxx xxxxx.xx.xx.A9xx K.AJxx.Kxxxx.QTx JT9x.T8x.AQ98.8x\n"
     ]
    }
   ],
   "source": [
    "# we got some samples above. if we want more, we can always get more\n",
    "\n",
    "sample_hands, sorted_score, p_hcp, p_shp, good_quality = bot_bid.sample_hands_for_auction([\"PAD_START\", \"PAD_START\", \"PAD_START\", \"PASS\", \"1N\", \"PASS\", \"3S\",\"PASS\"],0)\n",
    "print(\"Good quality:\", good_quality)\n",
    "for i in range(sample_hands.shape[0]):\n",
    "    print(f'{hand_to_str(sample_hands[i, 0, :])} {hand_to_str(sample_hands[i, 1, :])} {hand_to_str(sample_hands[i, 2, :])} {hand_to_str(sample_hands[i, 3, :])}')"
   ]
  }
 ],
 "metadata": {
  "kernelspec": {
   "display_name": "Python 3 (ipykernel)",
   "language": "python",
   "name": "python3"
  },
  "language_info": {
   "codemirror_mode": {
    "name": "ipython",
    "version": 3
   },
   "file_extension": ".py",
   "mimetype": "text/x-python",
   "name": "python",
   "nbconvert_exporter": "python",
   "pygments_lexer": "ipython3",
   "version": "3.11.0"
  }
 },
 "nbformat": 4,
 "nbformat_minor": 5
}
