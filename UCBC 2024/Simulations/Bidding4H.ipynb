{
 "cells": [
  {
   "cell_type": "markdown",
   "id": "75d07246",
   "metadata": {},
   "source": [
    "# Bidding\n",
    "\n",
    "This is a tutorial for how to use the bidding engine"
   ]
  },
  {
   "cell_type": "code",
   "execution_count": 1,
   "id": "59a5664c",
   "metadata": {},
   "outputs": [
    {
     "name": "stdout",
     "output_type": "stream",
     "text": [
      "WARNING:tensorflow:From c:\\Python311\\Lib\\site-packages\\tensorflow\\python\\compat\\v2_compat.py:107: disable_resource_variables (from tensorflow.python.ops.variable_scope) is deprecated and will be removed in a future version.\n",
      "Instructions for updating:\n",
      "non-resource variables are not supported in the long term\n"
     ]
    }
   ],
   "source": [
    "import sys\n",
    "sys.path.append('../../src')\n",
    "\n",
    "from nn.models import Models\n",
    "from bots import BotBid\n",
    "from util import hand_to_str\n",
    "from sample import Sample\n",
    "import conf\n",
    "import numpy as np\n",
    "\n",
    "np.set_printoptions(precision=2, suppress=True, linewidth=200)\n",
    "np.random.seed(42)\n"
   ]
  },
  {
   "cell_type": "code",
   "execution_count": 2,
   "id": "44786d5d",
   "metadata": {},
   "outputs": [
    {
     "name": "stdout",
     "output_type": "stream",
     "text": [
      "INFO:tensorflow:Restoring parameters from ..\\Models/NS1EW99-bidding_same-5556000\n",
      "INFO:tensorflow:Restoring parameters from ..\\Models/NS1EW99-binfo_same-5556000\n",
      "INFO:tensorflow:Restoring parameters from ..\\Models/lead_suit-999000\n",
      "INFO:tensorflow:Restoring parameters from ..\\Models/lead_nt-475000\n",
      "INFO:tensorflow:Restoring parameters from ..\\Models/Jack/lr3-1000000\n",
      "INFO:tensorflow:Restoring parameters from ..\\Models/single_dummy-32768000\n",
      "INFO:tensorflow:Restoring parameters from ..\\Models/lefty_nt-475000\n",
      "INFO:tensorflow:Restoring parameters from ..\\Models/dummy_nt-475000\n",
      "INFO:tensorflow:Restoring parameters from ..\\Models/righty_nt-475000\n",
      "INFO:tensorflow:Restoring parameters from ..\\Models/decl_nt-950000\n",
      "INFO:tensorflow:Restoring parameters from ..\\Models/lefty_suit-999000\n",
      "INFO:tensorflow:Restoring parameters from ..\\Models/dummy_suit-999000\n",
      "INFO:tensorflow:Restoring parameters from ..\\Models/righty_suit-999000\n",
      "INFO:tensorflow:Restoring parameters from ..\\Models/decl_suit-1278000\n"
     ]
    }
   ],
   "source": [
    "models = Models.from_conf(conf.load('../Conf/UCBC2024.conf'),'..')   # loading neural networks\n",
    "sampler = Sample.from_conf(conf.load('../Conf/UCBC2024.conf'), False)  # Load sampling strategies\n"
   ]
  },
  {
   "cell_type": "markdown",
   "id": "10d8f2fc",
   "metadata": {},
   "source": [
    "### Running through an example"
   ]
  },
  {
   "cell_type": "code",
   "execution_count": 3,
   "id": "19dbfeb7",
   "metadata": {},
   "outputs": [
    {
     "data": {
      "text/plain": [
       "[{'call': '1N', 'insta_score': 0.967}]"
      ]
     },
     "execution_count": 3,
     "metadata": {},
     "output_type": "execute_result"
    }
   ],
   "source": [
    "# East deals, EW vulnerable.\n",
    "vuln_ns, vuln_ew = False, False\n",
    "\n",
    "# you sit West and hold:\n",
    "hand = 'AQ8.KQ94.JT.KJ52'\n",
    "\n",
    "auction = [\"PAD_START\", \"PAD_START\", \"PAD_START\", \"PASS\"]\n",
    "bot_bid = BotBid([vuln_ns, vuln_ew], hand, models, sampler, 0, 0, False)\n",
    "\n",
    "bid = bot_bid.bid(auction)\n",
    "bid.to_dict()['candidates']\n",
    "\n",
    "# what's your bid?"
   ]
  },
  {
   "cell_type": "code",
   "execution_count": 4,
   "id": "bfe98f56",
   "metadata": {},
   "outputs": [
    {
     "data": {
      "text/plain": [
       "[{'call': '4H', 'insta_score': 0.531, 'expected_score': 492, 'adjustment': 27},\n",
       " {'call': '3N', 'insta_score': 0.3, 'expected_score': 415, 'adjustment': 15},\n",
       " {'call': '4C', 'insta_score': 0.09, 'expected_score': 316, 'adjustment': 5}]"
      ]
     },
     "execution_count": 4,
     "metadata": {},
     "output_type": "execute_result"
    }
   ],
   "source": [
    "auction = [\"PAD_START\", \"PAD_START\", \"PAD_START\", \"PASS\", \"1N\", \"PASS\", \"3S\",\"PASS\"]\n",
    "bid = bot_bid.bid(auction)\n",
    "\n",
    "bid.to_dict()['candidates']"
   ]
  },
  {
   "cell_type": "markdown",
   "id": "ad120123",
   "metadata": {},
   "source": [
    "in the output above:\n",
    "- `insta_score` reflects what the neural network prefers to bid\n",
    "- `expected_score` is based on what you expect to score on difference samples (for example, 70% of the time you are making and 30% of the time you are going one off, then the expected score is 0.7 * 620 - 0.3 * 100)"
   ]
  },
  {
   "cell_type": "markdown",
   "id": "051ff121",
   "metadata": {},
   "source": [
    "### Samples consistent with the auction so far\n",
    "\n",
    "Above we said that we are computig expected scores on samples consistent with the auction so far.\n",
    "\n",
    "How do we get these samples?\n",
    "\n",
    "We get some samples in the response we get from the bot (i.e `bid.samples`)"
   ]
  },
  {
   "cell_type": "code",
   "execution_count": 5,
   "id": "55b647a5",
   "metadata": {},
   "outputs": [
    {
     "data": {
      "text/plain": [
       "['AQ8.KQ9x.JT.KJxx KTxxxx.xxx.K9x.x .AJTx.A8xxx.A98x J9xx.8x.Qxx.QTxx 0.95894 \\n P-1N-P-3S-P-4H-P-4N-P-5H-P-6H-P-P-P (12.0, 12.3)  \\n P-1N-P-3S-P-3N-P-P-P (10.9, 11.3)  \\n P-1N-P-3S-P-4C-P-4N-P-5H-P-6C-P-P-P (12.1, 12.4) ',\n",
       " 'AQ8.KQ9x.JT.KJxx KJxx.Jxx.Axxx.8x .Axxx.KQ9xx.AT9x T9xxxx.T8.8x.Qxx 0.95832 \\n P-1N-P-3S-P-4H-P-4N-P-5H-P-6H-P-P-P (12.0, 12.1)  \\n P-1N-P-3S-P-3N-P-P-P (9.9, 11.4)  \\n P-1N-P-3S-P-4C-P-4N-P-5H-P-6C-P-P-P (12.4, 12.1) ',\n",
       " 'AQ8.KQ9x.JT.KJxx KJTxx.A8x.98.xxx .Jxxx.AKQxx.QT8x 9xxxx.Tx.xxxx.A9 0.94991 \\n P-1N-P-3S-P-4H-P-P-P (10.9, 11.4)  \\n P-1N-P-3S-P-3N-P-P-P (8.4, 10.0)  \\n P-1N-P-3S-P-4C-P-4N-P-5H-P-6C-P-P-P (11.0, 11.2) ',\n",
       " 'AQ8.KQ9x.JT.KJxx Kxxxx.xxx.9x.Txx .AT8x.KQ8xx.AQ9x JT9xx.Jx.Axxx.8x 0.94387 \\n P-1N-P-3S-P-4H-P-4N-P-5H-P-6H-P-P-P (12.3, 12.3)  \\n P-1N-P-3S-P-3N-P-4C-P-4S-P-5C-P-5H-P-6N-P-P-P (10.8, 11.8)  \\n P-1N-P-3S-P-4C-P-4N-P-5H-P-6C-P-P-P (12.4, 12.2) ',\n",
       " 'AQ8.KQ9x.JT.KJxx KJxx.T8xx.Kxxx.x .AJxx.A98xx.A98x T9xxxx.x.Qx.QTxx 0.94351 \\n P-1N-P-3S-P-4H-P-4N-P-5H-P-6H-P-P-P (11.9, 12.1)  \\n P-1N-P-3S-P-3N-P-P-P (10.7, 11.3)  \\n P-1N-P-3S-P-4C-P-4N-P-5H-P-6C-P-P-P (12.1, 12.3) ',\n",
       " 'AQ8.KQ9x.JT.KJxx 9xxxx.Txx.Ax.Axx .AJ8x.KQ98x.Q98x KJTxx.xx.xxxx.Tx 0.94262 \\n P-1N-P-3S-P-4H-P-P-P (11.2, 11.2)  \\n P-1N-P-3S-P-3N-P-P-P (9.0, 9.8)  \\n P-1N-P-3S-P-4C-P-4H-P-4S-P-4N-P-5H-P-6C-P-P-P (11.2, 11.3) ',\n",
       " 'AQ8.KQ9x.JT.KJxx KJT9xx.xx.Qx.T8x .J8xx.AK8xx.AQxx xxxx.ATx.9xxx.9x 0.94130 \\n P-1N-P-3S-P-4H-P-4N-P-5H-P-6H-P-P-P (11.9, 12.1)  \\n P-1N-P-3S-P-3N-P-4C-P-4S-P-5C-P-5H-P-6N-P-P-P (10.6, 11.5)  \\n P-1N-P-3S-P-4C-P-4N-P-5H-P-6C-P-P-P (12.3, 12.0) ',\n",
       " 'AQ8.KQ9x.JT.KJxx JT9xxx.Jx.Qxx.T8 .ATxx.AK8xx.AQxx Kxxx.8xx.9xx.9xx 0.93896 \\n P-1N-P-3S-P-4H-P-4N-P-5H-P-5N-P-6D-P-7H-P-P-P (12.3, 12.9)  \\n P-1N-P-3S-P-3N-P-4C-P-4S-P-5C-P-5H-P-6N-P-P-P (12.2, 12.8)  \\n P-1N-P-3S-P-4C-P-4N-P-5H-P-5N-P-6D-P-7H-P-P-P (12.3, 12.8) ',\n",
       " 'AQ8.KQ9x.JT.KJxx JTxxx.T8.9xx.A9x .AJxx.AKQ8x.QTxx K9xxx.xxx.xxx.8x 0.93762 \\n P-1N-P-3S-P-4H-P-4N-P-5H-P-6H-P-P-P (12.3, 12.3)  \\n P-1N-P-3S-P-3N-P-4C-P-4S-P-5C-P-5H-P-6N-P-P-P (11.2, 12.0)  \\n P-1N-P-3S-P-4C-P-4N-P-5H-P-5N-P-6D-P-7H-P-P-P (12.3, 12.3) ',\n",
       " 'AQ8.KQ9x.JT.KJxx Kxxxxx.xx.xx.ATx .AT8x.KQ8xx.Q98x JT9x.Jxx.A9xx.xx 0.93750 \\n P-1N-P-3S-P-4H-P-P-P (11.1, 10.9)  \\n P-1N-P-3S-P-3N-P-P-P (8.3, 9.8)  \\n P-1N-P-3S-P-4C-P-4H-P-4S-P-4N-P-5H-P-6C-P-P-P (11.1, 11.1) ',\n",
       " 'AQ8.KQ9x.JT.KJxx KT9xx.JT.K8x.8xx .A8xx.AQxxx.AQxx Jxxxx.xxx.9xx.T9 0.93584 \\n P-1N-P-3S-P-4H-P-4N-P-5H-P-6H-P-P-P (12.3, 12.8)  \\n P-1N-P-3S-P-3N-P-4C-P-4S-P-5C-P-5H-P-6N-P-P-P (12.0, 12.6)  \\n P-1N-P-3S-P-4C-P-4N-P-5H-P-5N-P-6D-P-7H-P-P-P (12.3, 12.8) ',\n",
       " 'AQ8.KQ9x.JT.KJxx T9xxxx.x.98x.QTx .AJ8x.AKQxx.A9xx KJxx.Txxx.xxx.8x 0.93287 \\n P-1N-P-3S-P-4H-P-4N-P-5H-P-5N-P-6D-P-7H-P-P-P (12.2, 12.9)  \\n P-1N-P-3S-P-3N-P-4C-P-4S-P-5C-P-5H-P-6N-P-P-P (12.1, 12.8)  \\n P-1N-P-3S-P-4C-P-4N-P-5H-P-5N-P-6D-P-7H-P-P-P (12.2, 12.9) ',\n",
       " 'AQ8.KQ9x.JT.KJxx KTxxxx.8.8xxx.Qx .AJTx.AKQxx.ATxx J9xx.xxxx.9x.98x 0.93132 \\n P-1N-P-3S-P-4H-P-4N-P-5H-P-5N-P-6D-P-7H-P-P-P (12.1, 12.9)  \\n P-1N-P-3S-P-3N-P-4C-P-4S-P-5C-P-5H-P-6N-P-P-P (12.0, 12.7)  \\n P-1N-P-3S-P-4C-P-4N-P-5H-P-5N-P-6D-P-7H-P-P-P (12.1, 12.9) ',\n",
       " 'AQ8.KQ9x.JT.KJxx KJTx.Axx.8xxx.98 .J8xx.AK9xx.QTxx 9xxxxx.Tx.Qx.Axx 0.92093 \\n P-1N-P-3S-P-4H-P-P-P (11.0, 10.8)  \\n P-1N-P-3S-P-3N-P-P-P (8.1, 9.1)  \\n P-1N-P-3S-P-4C-P-4H-P-4S-P-5C-P-P-P (11.0, 10.8) ',\n",
       " 'AQ8.KQ9x.JT.KJxx KJxx.xx.Qxxx.98x .AJxx.AK8x.AQTxx T9xxxx.T8x.9xx.x 0.91780 \\n P-1N-P-3S-P-4H-P-6C-P-P-P (12.2, 12.9)  \\n P-1N-P-3S-P-3N-P-4C-P-4S-P-5C-P-5H-P-6N-P-P-P (12.0, 12.8)  \\n P-1N-P-3S-P-4C-P-4N-P-5H-P-5N-P-6D-P-7C-P-P-P (12.3, 13.0) ',\n",
       " 'AQ8.KQ9x.JT.KJxx Jxxx.T8x.AQxx.Q8 .Axxx.K98xx.A9xx KT9xxx.Jx.xx.Txx 0.91590 \\n P-1N-P-3S-P-4H-P-P-P (12.1, 11.7)  \\n P-1N-P-3S-P-3N-P-P-P (9.9, 10.5)  \\n P-1N-P-3S-P-4C-P-4H-P-4S-P-4N-P-5H-P-6C-P-P-P (12.3, 11.9) ',\n",
       " 'AQ8.KQ9x.JT.KJxx KTxxx.8.xxxxx.T8 .Txxx.AQ98x.Axxx J9xxx.AJxx.K.Q9x 0.91484 \\n P-1N-P-3S-P-4H-P-P-P (11.2, 10.4)  \\n P-1N-P-3S-P-3N-P-P-P (8.9, 9.1)  \\n P-1N-P-3S-P-4C-P-4N-P-5H-P-6C-P-P-P (11.1, 10.9) ',\n",
       " 'AQ8.KQ9x.JT.KJxx K9xxxx.Jx.Qxx.8x .A8xx.AKxx.AQ9xx JTxx.Txx.98xx.Tx 0.91057 \\n P-1N-P-3S-P-4H-P-6C-P-P-P (12.2, 12.8)  \\n P-1N-P-3S-P-3N-P-4C-P-4S-P-5C-P-5H-P-6N-P-P-P (12.0, 12.8)  \\n P-1N-P-3S-P-4C-P-4N-P-5H-P-5N-P-6D-P-7C-P-P-P (12.3, 12.9) ',\n",
       " 'AQ8.KQ9x.JT.KJxx KTxxx.Tx.Ax.QT9x .A8xx.K9xxx.Axxx J9xxx.Jxx.Q8xx.8 0.89644 \\n P-1N-P-3S-P-4H-P-P-P (11.4, 11.4)  \\n P-1N-P-3S-P-3N-P-P-P (9.2, 9.8)  \\n P-1N-P-3S-P-4C-P-4H-P-4S-P-4N-P-5H-P-6C-P-P-P (10.9, 11.4) ',\n",
       " 'AQ8.KQ9x.JT.KJxx KJTxx.ATx.9xxx.x .8xxx.AK8xx.Q8xx 9xxxx.Jx.Qx.AT9x 0.88980 \\n P-1N-P-3S-P-4H-P-P-P (9.8, 10.0)  \\n P-1N-P-3S-P-3N-P-P-P (7.4, 8.3)  \\n P-1N-P-3S-P-4C-P-4H-P-4S-X-5C-P-P-P (10.3, 10.1) ']"
      ]
     },
     "execution_count": 5,
     "metadata": {},
     "output_type": "execute_result"
    }
   ],
   "source": [
    "bid.samples"
   ]
  },
  {
   "cell_type": "markdown",
   "id": "7d0dd8f5",
   "metadata": {},
   "source": [
    "each row is one sample. the hands are in the order: N E S W\n",
    "\n",
    "(West always has the same cards because it's your hand and it's known to you)"
   ]
  },
  {
   "cell_type": "code",
   "execution_count": 6,
   "id": "7101e514",
   "metadata": {},
   "outputs": [
    {
     "name": "stdout",
     "output_type": "stream",
     "text": [
      "Good quality: True\n",
      "AQ8.KQ9x.JT.KJxx KTxxxx.xxx.Kx.Qx .AT8x.Qxxxx.AT98 J9xx.Jx.A98x.xxx\n",
      "AQ8.KQ9x.JT.KJxx JTxxx.Txx.Axx.9x .A8xx.KQ9xx.Axxx K9xxx.Jx.8xx.QT8\n",
      "AQ8.KQ9x.JT.KJxx J9xxxx.Tx.A8x.Qx .A8xx.KQ9xx.AT9x KTxx.Jxx.xxx.8xx\n",
      "AQ8.KQ9x.JT.KJxx J9xxxx.x.Axx.QT9 .Axxx.KQ98x.A8xx KTxx.JT8x.xxx.xx\n",
      "AQ8.KQ9x.JT.KJxx JT9xxx.xx.xxx.xx .AJTx.AQ8xx.AQT9 Kxxx.8xx.K9x.8xx\n",
      "AQ8.KQ9x.JT.KJxx KJ9xx.Txx.Qxx.xx .A8xx.K9xxx.A98x Txxxx.Jx.A8x.QTx\n",
      "AQ8.KQ9x.JT.KJxx KT9xx.8x.Q9xx.8x .ATxx.Axxx.AT9xx Jxxxx.Jxx.K8x.Qx\n",
      "AQ8.KQ9x.JT.KJxx KJTxxx.xxx.8x.9x .A8xx.Axxx.A8xxx 9xxx.JT.KQ9xx.QT\n",
      "AQ8.KQ9x.JT.KJxx KTxxxx.Jxx.8x.xx .Axxx.Qxxx.AQ8xx J9xx.T8.AK9xx.T9\n",
      "AQ8.KQ9x.JT.KJxx Jxxxx.JT8.8xx.xx T.Axxx.AKQx.T98x K9xx.xx.9xxx.AQx\n",
      "AQ8.KQ9x.JT.KJxx KJ9xx.xx.Qxx.T8x .Axxx.A9xx.A9xxx Txxxx.JT8.K8xx.Q\n",
      "AQ8.KQ9x.JT.KJxx KJxx.Jx.Axxx.T9x .Axxx.Q98x.AQ8xx T9xxxx.T8x.Kxx.x\n",
      "AQ8.KQ9x.JT.KJxx K9xxxx.J.9xxx.T9 .T8xx.KQxx.AQxxx JTxx.Axxx.A8x.8x\n",
      "AQ8.KQ9x.JT.KJxx JTxxx.Tx.Q9xx.Ax .A8xx.AK8x.Q98xx K9xxx.Jxx.xxx.Tx\n",
      "AQ8.KQ9x.JT.KJxx KJxx.Jxx.xxx.9xx x.Axxx.KQ8x.AT8x T9xxx.T8.A9xx.Qx\n",
      "AQ8.KQ9x.JT.KJxx Txxxx.xx.Qxxx.QT 9.A8xx.AK98.A8xx KJxx.JTx.xxx.9xx\n",
      "AQ8.KQ9x.JT.KJxx T9xxx.x.9xxx.A9x x.A8xx.AK8x.QT8x KJxx.JTxx.Qxx.xx\n",
      "AQ8.KQ9x.JT.KJxx Jxxx.Ax.Qxxx.Q9x x.J8xx.AKxx.A8xx KT9xx.Txx.98x.Tx\n",
      "AQ8.KQ9x.JT.KJxx KJxx.xx.98xxx.9x T.AJ8x.AKQx.8xxx 9xxxx.Txx.xx.AQT\n",
      "AQ8.KQ9x.JT.KJxx K9xxxx.8xx.98x.x .ATxx.Axxx.AQ98x JTxx.Jx.KQxx.Txx\n",
      "AQ8.KQ9x.JT.KJxx KT9xx.JT8.xx.9xx .Axxx.A8xx.AQTxx Jxxxx.xx.KQ9xx.8\n",
      "AQ8.KQ9x.JT.KJxx T9xx.AJx.K9x.8xx x.Txxx.AQxx.AQTx KJxxx.8x.8xxx.9x\n",
      "AQ8.KQ9x.JT.KJxx 9xxxxx.8x.xx.Q9x .AJTx.K8xx.AT8xx KJTx.xxx.AQ9xx.x\n",
      "AQ8.KQ9x.JT.KJxx Jxxxx.T8x.8xx.Q8 9.Axxx.AK9x.T9xx KTxx.Jx.Qxxx.Axx\n",
      "AQ8.KQ9x.JT.KJxx Txxxx.JT8x.AQx.x x.Axxx.Kxxx.AT9x KJ9x.x.98xx.Q8xx\n",
      "AQ8.KQ9x.JT.KJxx J9xxx.8xxx.Q9x.9 x.ATxx.AKxx.ATxx KTxx.J.8xxx.Q8xx\n",
      "AQ8.KQ9x.JT.KJxx K9x.8xx.9xx.9xxx x.ATxx.AKQx.AQT8 JTxxxx.Jx.8xxx.x\n",
      "AQ8.KQ9x.JT.KJxx KJx.T8x.Q8xx.AQx x.AJxx.AK9x.T9xx T9xxxx.xx.xxx.8x\n",
      "AQ8.KQ9x.JT.KJxx KT9x.JTx.A8x.Q8x x.A8xx.Kxxx.ATxx Jxxxx.xx.Q9xx.9x\n",
      "AQ8.KQ9x.JT.KJxx T9xxx.Jxx.Qx.ATx x.AT8x.AK8x.8xxx KJxx.xx.9xxxx.Q9\n",
      "AQ8.KQ9x.JT.KJxx JTxxxx.Jx.9xx.8x 9.ATxx.AKxx.A9xx Kxx.8xx.Q8xx.QTx\n",
      "AQ8.KQ9x.JT.KJxx Kxxx.8xxx.A9x.xx 9.AJTx.KQ8x.Q9xx JTxxx.x.xxxx.AT8\n",
      "AQ8.KQ9x.JT.KJxx Txxxx.Axx.xxx.QT J.J8xx.AKQx.Axxx K9xx.Tx.98xx.98x\n",
      "AQ8.KQ9x.JT.KJxx KTxx.Tx.xxx.A8xx J.Axxx.KQ9x.QT9x 9xxxx.J8x.A8xx.x\n",
      "AQ8.KQ9x.JT.KJxx KJ9xx.xxx.8xx.9x x.AT8x.KQxx.QT8x Txxx.Jx.A9xx.Axx\n",
      "AQ8.KQ9x.JT.KJxx Jxxx.AJT.A8xx.xx x.8xxx.KQ9x.AQ9x KT9xx.xx.xxx.T8x\n",
      "AQ8.KQ9x.JT.KJxx JTxx.T8xx.AQxx.x .Axxx.K9xx.AQ98x K9xxxx.J.8xx.Txx\n",
      "AQ8.KQ9x.JT.KJxx K9x.Jxx.8xx.Txxx .AT8x.AKQxx.AQ9x JTxxxxx.xx.9xx.8\n",
      "AQ8.KQ9x.JT.KJxx KT9x.T8x.AQxxx.T x.Axxx.K8xx.A98x Jxxxx.Jx.9x.Qxxx\n",
      "AQ8.KQ9x.JT.KJxx KTxx.J8x.98x.QTx .Axxx.KQxx.A98xx J9xxxx.Tx.Axxx.x\n",
      "AQ8.KQ9x.JT.KJxx KJ9xx.Tx.Axxx.xx x.Axxx.Kxxx.ATxx Txxx.J8x.Q98.Q98\n",
      "AQ8.KQ9x.JT.KJxx 9xxxx.T8x.Q9x.8x J.AJxx.AK8x.ATxx KTxx.xx.xxxx.Q9x\n",
      "AQ8.KQ9x.JT.KJxx Kxxx.8xx.Kxx.T9x x.JTxx.AQxx.A8xx JT9xx.Ax.98xx.Qx\n",
      "AQ8.KQ9x.JT.KJxx KJxx.Axx.9xx.8xx 9.JTxx.AKxx.AQ9x Txxxx.8x.Q8xx.Tx\n",
      "AQ8.KQ9x.JT.KJxx KJTxx.x.Q98x.8xx x.JTxx.AKxx.AQTx 9xxx.A8xx.xxx.9x\n",
      "AQ8.KQ9x.JT.KJxx KJx.8x.Q8xxx.9xx x.AJTx.AK9x.Q8xx T9xxxx.xxx.xx.AT\n",
      "AQ8.KQ9x.JT.KJxx KT9x.Txx.Q98.Q98 x.AJxx.Kxxxx.ATx Jxxxx.8x.Axx.xxx\n",
      "AQ8.KQ9x.JT.KJxx T9xx.8xx.xxxx.AT J.AJxx.AKQx.Q8xx Kxxxx.Tx.98x.9xx\n",
      "AQ8.KQ9x.JT.KJxx J9xxx.Tx.98x.ATx x.AJ8x.Axxx.Qxxx KTxx.xxx.KQxx.98\n",
      "AQ8.KQ9x.JT.KJxx 9xxx.8xxx.AKx.9x x.AJTx.Q9xx.AQxx KJTxx.x.8xxx.T8x\n",
      "AQ8.KQ9x.JT.KJxx T9xxx..K9xx.8xxx x.Axxx.A8xx.AQ9x KJxx.JT8xx.Qxx.T\n",
      "AQ8.KQ9x.JT.KJxx Jxx.A8.Q98xx.QTx 9.Txxx.AKxx.A9xx KTxxxx.Jxx.xx.8x\n",
      "AQ8.KQ9x.JT.KJxx Txxx.AJx.8xxx.xx x.T8xx.AKxx.AQTx KJ9xx.xx.Q9x.98x\n",
      "AQ8.KQ9x.JT.KJxx JTxxx.Tx.8xxx.98 x.AJ8x.AKxx.Axxx K9xx.xxx.Q9x.QTx\n",
      "AQ8.KQ9x.JT.KJxx K9xx.Tx.8xxx.ATx x.AJxx.AKxxx.9xx JTxxx.8xx.Q9.Q8x\n",
      "AQ8.KQ9x.JT.KJxx J9xxx.8x.9x.Q8xx x.Axxx.AK8xx.9xx KTxx.JTx.Qxxx.AT\n",
      "AQ8.KQ9x.JT.KJxx K9xxx.Txx.Axx.Tx x.A8xx.K98xx.A8x JTxx.Jx.Qxx.Q9xx\n",
      "AQ8.KQ9x.JT.KJxx KJxxx.x.K98.98xx x.Txxx.Axxxx.AQx T9xx.AJ8x.Qxx.Tx\n",
      "AQ8.KQ9x.JT.KJxx K9xx.Jx.xxxx.Axx x.A8xx.AQ98x.Txx JTxxx.Txx.Kx.Q98\n",
      "AQ8.KQ9x.JT.KJxx KJTxx.xx.xxxx.T9 9.AJTx.KQx.AQxxx xxxx.8xx.A98x.8x\n",
      "AQ8.KQ9x.JT.KJxx J9xxx.JT.K9x.QTx x.8xxx.AQ8x.A9xx KTxx.Axx.xxxx.8x\n",
      "AQ8.KQ9x.JT.KJxx Jxxx.Txx.8xxx.Ax 9.AJ8x.AKQx.Q8xx KTxxx.xx.9xx.T9x\n",
      "AQ8.KQ9x.JT.KJxx KJTxx.Axxx.xxx.x .JTxx.AKQx.QT98x 9xxxx.8.98xx.Axx\n",
      "AQ8.KQ9x.JT.KJxx KT9x.xxxx.98.AQ9 x.AT8x.AQxxx.Txx Jxxxx.J.Kxxx.8xx\n",
      "AQ8.KQ9x.JT.KJxx K9xxx.x.Q9xx.QTx x.AJxx.AK8xx.9xx JTxx.T8xx.xx.A8x\n",
      "AQ8.KQ9x.JT.KJxx Txxx.Tx.Kxxx.Q98 K.AJxx.AQ8x.Axxx J9xxx.8xx.9xx.Tx\n",
      "AQ8.KQ9x.JT.KJxx KJTxx.T8x.K8.98x x.Axxx.AQxxx.QTx 9xxx.Jx.9xxx.Axx\n",
      "AQ8.KQ9x.JT.KJxx KJTx.JTxx.Q9xx.T x.A8xx.Axxx.AQ98 9xxxx.x.K8x.xxxx\n",
      "AQ8.KQ9x.JT.KJxx J9xxx.JTx.Kx.98x x.A8xx.98xxx.AQT KTxx.xx.AQxx.xxx\n",
      "AQ8.KQ9x.JT.KJxx KJxxx.J8.Q9xx.T8 x.ATxx.A8xx.Qxxx T9xx.xxx.Kxx.A9x\n",
      "AQ8.KQ9x.JT.KJxx JT9xx.8.K8x.A98x x.AJTx.Axxxx.Qxx Kxxx.xxxx.Q9x.Tx\n",
      "AQ8.KQ9x.JT.KJxx Kxx.8xx.Q9xxx.8x T.AJxx.AK8x.QT9x J9xxxx.Tx.xx.Axx\n",
      "AQ8.KQ9x.JT.KJxx KJTxxx.Tx.Axx.Tx x.AJxx.Kxxx.A9xx 9xx.8xx.Q98x.Q8x\n",
      "AQ8.KQ9x.JT.KJxx KT9xx.Tx.K9xx.T9 x.AJ8x.8xx.AQxxx Jxxx.xxx.AQxx.8x\n",
      "AQ8.KQ9x.JT.KJxx JT9x.AJx.Q98xx.T x.T8xx.AKx.AQ8xx Kxxxx.xx.xxx.9xx\n",
      "AQ8.KQ9x.JT.KJxx KJTxx.8x.A8x.xxx x.AJxx.K9xx.AQT8 9xxx.Txx.Qxxx.9x\n",
      "AQ8.KQ9x.JT.KJxx JTxxx.JTx.Kx.8xx x.Axxx.AQ9x.AQ9x K9xx.8x.8xxxx.Tx\n",
      "AQ8.KQ9x.JT.KJxx JTxxx.Ax.xxx.AQx .J8xx.AKQ9x.8xxx K9xxx.Txx.8xx.T9\n",
      "AQ8.KQ9x.JT.KJxx KT9xx.J8x.Kxxx.T J.ATxx.A8x.AQxxx xxxx.xx.Q9xx.98x\n",
      "AQ8.KQ9x.JT.KJxx T9xxx.8xx.xx.T8x x.ATxx.AQxx.AQ9x KJxx.Jx.K98xx.xx\n",
      "AQ8.KQ9x.JT.KJxx Jxxx.T8x.K9xx.xx x.AJxx.A8xx.AQ98 KT9xx.xx.Qxx.Txx\n",
      "AQ8.KQ9x.JT.KJxx J9xxxx.Ax.8xxx.Q x.Txxx.AKx.A98xx KTx.J8x.Q9xx.Txx\n",
      "AQ8.KQ9x.JT.KJxx KJT9x.J8x.8xx.Ax x.ATxx.AKx.QT9xx xxxx.xx.Q9xxx.8x\n",
      "AQ8.KQ9x.JT.KJxx Kxxx.xx.Q8xx.8xx T.8xxx.AK9x.ATxx J9xxx.AJT.xxx.Q9\n",
      "AQ8.KQ9x.JT.KJxx KTxx.Ax.9xxx.T9x x.T8xx.AKQxx.Qxx J9xxx.Jxx.8x.A8x\n",
      "AQ8.KQ9x.JT.KJxx KJTx.xx.9xx.QT8x 9.AT8x.AKxx.9xxx xxxxx.Jxx.Q8xx.A\n",
      "AQ8.KQ9x.JT.KJxx KJ9xx.A.98x.T9xx x.xxxx.AQxxx.AQx Txxx.JT8x.Kxx.8x\n",
      "AQ8.KQ9x.JT.KJxx KTxx.J8.9xx.Q8xx x.Axxx.K8xxx.AT9 J9xxx.Txx.AQx.xx\n",
      "AQ8.KQ9x.JT.KJxx Kxxxx.8.9xx.Q8xx .AJxx.AKQ8xx.A9x JT9xx.Txxx.xx.Tx\n",
      "AQ8.KQ9x.JT.KJxx KTxxx.Jxx.9x.Q98 .AT8x.AKQ8xx.Axx J9xxx.xx.xxx.Txx\n",
      "AQ8.KQ9x.JT.KJxx JT9xx.xx.xxx.Qxx x.A8xx.Q9xx.ATxx Kxxx.JTx.AK8x.98\n",
      "AQ8.KQ9x.JT.KJxx J9xxx.JTx.K9xx.x x.A8xx.Axx.AQTxx KTxx.xx.Q8xx.98x\n",
      "AQ8.KQ9x.JT.KJxx 9xxxxx.8x.A9x.Tx K.AJxx.8xxx.A9xx JTx.Txx.KQxx.Q8x\n",
      "AQ8.KQ9x.JT.KJxx T9xxx.x.A9xx.T9x x.AJ8x.K8xx.Q8xx KJxx.Txxx.Qxx.Ax\n",
      "AQ8.KQ9x.JT.KJxx JT9xx.Tx.AK9x.8x K.A8xx.Q8xx.A9xx xxxx.Jxx.xxx.QTx\n",
      "AQ8.KQ9x.JT.KJxx KJ9xx.xxx.K8xxx. x.AJxx.A9x.AT9xx Txxx.T8.Qxx.Q8xx\n",
      "AQ8.KQ9x.JT.KJxx K9xx.8xx.9xx.Q9x x.AJTx.AQ8xx.ATx JTxxx.xx.Kxx.8xx\n",
      "AQ8.KQ9x.JT.KJxx JTxxx.J8x.AKx.9x K.ATxx.Q8xx.AT8x 9xxx.xx.9xxx.Qxx\n",
      "AQ8.KQ9x.JT.KJxx T9xxx.xx.A9xxx.x J.AJT8.KQx.AT98x Kxxx.xxx.8xx.Qxx\n",
      "AQ8.KQ9x.JT.KJxx KT9x.Txx.KQxx.Tx x.A8xx.8xx.AQ98x Jxxxx.Jx.A9xx.xx\n",
      "AQ8.KQ9x.JT.KJxx Kxx.AJT.Q9x.T8xx x.8xxx.AKxxx.AQx JT9xxx.xx.8xx.9x\n",
      "AQ8.KQ9x.JT.KJxx K9xxx.x.xxxx.A8x x.Jxxx.AKQ8x.Txx JTxx.AT8x.9x.Q9x\n",
      "AQ8.KQ9x.JT.KJxx Kxx.JTxx.Kxxx.Tx T.A8xx.AQ8xx.AQ9 J9xxxx.x.9x.8xxx\n",
      "AQ8.KQ9x.JT.KJxx xxxx.T8x.K8xxx.x K.AJxx.A9xx.QT9x JT9xx.xx.Qx.A8xx\n",
      "AQ8.KQ9x.JT.KJxx J9x.T8x.xxxx.A8x K.Axxx.KQ8x.Txxx Txxxxx.Jx.A9x.Q9\n",
      "AQ8.KQ9x.JT.KJxx J9x.JTxx.98xx.Ax K.A8xx.Axxx.Q8xx Txxxxx.x.KQx.T9x\n",
      "AQ8.KQ9x.JT.KJxx KJTxx.Jx.9xx.8xx x.T8xx.AKQxx.ATx 9xxx.Axx.8xx.Q9x\n",
      "AQ8.KQ9x.JT.KJxx J9xx.xxx.A8xx.AT K.ATxx.Kxx.Q9xxx Txxxx.J8.Q9xx.8x\n",
      "AQ8.KQ9x.JT.KJxx KTx.T8x.KQxxxx.T x.Jxxx.A8x.AQ98x J9xxxx.Ax.9x.xxx\n",
      "AQ8.KQ9x.JT.KJxx KJTxx.JT.K8x.A8x .A8xx.AQ9xx.Q9xx 9xxxx.xxx.xxx.Tx\n",
      "AQ8.KQ9x.JT.KJxx KT9xx.JT.9xx.QTx x.8xxx.AKQxx.Axx Jxxx.Axx.8xx.98x\n",
      "AQ8.KQ9x.JT.KJxx KJxxx.xx.A9xx.xx x.AJTx.KQ8x.98xx T9xx.8xx.xxx.AQT\n",
      "AQ8.KQ9x.JT.KJxx J9xxx.xx.Qx.8xxx K.AJ8x.Kxxx.AQTx Txxx.Txx.A98xx.9\n",
      "AQ8.KQ9x.JT.KJxx JTxx.xxx.Qxxx.9x K.AJTx.Kxx.AT8xx 9xxxx.8x.A98x.Qx\n",
      "AQ8.KQ9x.JT.KJxx Txxxx.xxx.Kxxx.x K.J8xx.A98.AT9xx J9xx.AT.Qxxx.Q8x\n",
      "AQ8.KQ9x.JT.KJxx Kxxx.T8x.8xx.Qxx .AJxx.AK9xxx.A8x JT9xxx.xx.Qx.T9x\n",
      "AQ8.KQ9x.JT.KJxx JT9x.xx.A9xxx.9x x.AJTx.KQ8xx.AQx Kxxxx.8xx.x.T8xx\n",
      "AQ8.KQ9x.JT.KJxx Kxxxx.Txx.A9x.Tx J.AJxx.KQxxx.A9x T9xx.8x.8xx.Q8xx\n",
      "AQ8.KQ9x.JT.KJxx J9xxxx.Tx.K98x.9 K.J8xx.Axx.A8xxx Txx.Axx.Qxxx.QTx\n",
      "AQ8.KQ9x.JT.KJxx T9xxx.xx.9x.QTxx x.Axxx.AQxxx.A9x KJxx.JT8.K8xx.8x\n",
      "AQ8.KQ9x.JT.KJxx Txx.Txx.KQ8xx.xx K.A8xx.Axx.QT9xx J9xxxx.Jx.9xx.A8\n",
      "AQ8.KQ9x.JT.KJxx T9xxxx.T8x.A9x.9 K.Jxxx.KQxx.AQxx Jxx.Ax.8xxx.T8xx\n",
      "AQ8.KQ9x.JT.KJxx T9xxxx.x.8xx.AT9 x.AJxx.AKQ9x.Q8x KJx.T8xx.xxx.xxx\n",
      "AQ8.KQ9x.JT.KJxx K9xx.T8.KQ8xx.Qx J.Jxxx.A9xx.A8xx Txxxx.Axx.xx.T9x\n",
      "AQ8.KQ9x.JT.KJxx J9xxx.x.A8xx.T8x .AJT8.KQ9xx.Qxxx KTxxx.xxxx.xx.A9\n",
      "AQ8.KQ9x.JT.KJxx K9xxx.xx.A9x.Q8x x.AJTx.KQxxx.Txx JTxx.8xx.8xx.A9x\n",
      "AQ8.KQ9x.JT.KJxx K9x.8xxxx.K9.T8x x.AJTx.AQ8xx.Axx JTxxxx..xxxx.Q9x\n",
      "AQ8.KQ9x.JT.KJxx K9xxx.Tx.Qxx.8xx x.A8xx.AKxxx.AQx JTxx.Jxx.98x.T9x\n",
      "AQ8.KQ9x.JT.KJxx xxxxx.x.KQ8xx.9x K.AJxx.Axx.QT8xx JT9x.T8xx.9xx.Ax\n",
      "AQ8.KQ9x.JT.KJxx T9x.xx.A8xxxx.Q8 x.AJTx.KQxx.Axxx KJxxxx.8xx.9.T9x\n",
      "AQ8.KQ9x.JT.KJxx K9xxx.8x.Kx.QTxx .ATxx.Q98xxx.Axx JTxxx.Jxx.Axx.98\n",
      "AQ8.KQ9x.JT.KJxx T9xxx.xxx.AK8x.x J.AJ8x.Q9x.AQxxx Kxxx.Tx.xxxx.T98\n",
      "AQ8.KQ9x.JT.KJxx Jxx.xxx.AKxx.8xx .AJ8x.Q8xxx.AT9x KT9xxxx.Tx.9x.Qx\n",
      "AQ8.KQ9x.JT.KJxx JT9x.8x.xxx.AT8x x.AJTx.AK98x.Q9x Kxxxx.xxx.Qxx.xx\n",
      "AQ8.KQ9x.JT.KJxx KJxx.x.xxxx.QT9x 9.JT8x.AKQxx.A8x Txxxx.Axxx.98.xx\n",
      "AQ8.KQ9x.JT.KJxx Jxxxx.AJT.xx.Axx x.8xxx.AKQxx.Q8x KT9x.xx.98xx.T9x\n",
      "AQ8.KQ9x.JT.KJxx KJ9xx.xx.xxx.A9x x.ATxx.AKQ8x.Qxx Txxx.J8x.9xx.T8x\n",
      "AQ8.KQ9x.JT.KJxx KJx.JTxx.9xx.8xx x.A8xx.K8xx.A9xx T9xxxx.x.AQxx.QT\n",
      "AQ8.KQ9x.JT.KJxx KJxxx.A8xx.xx.8x x.JTxx.K98x.AQ9x T9xx.x.AQxxx.Txx\n",
      "AQ8.KQ9x.JT.KJxx 9xx.xxx.Qxxx.AQx .AJxx.AKxxx.T8xx KJTxxxx.T8.98.9x\n",
      "AQ8.KQ9x.JT.KJxx xxxx.Jxx.Kxxx.Ax .AT8x.AQ9xx.T8xx KJT9xx.xx.8x.Q9x\n",
      "AQ8.KQ9x.JT.KJxx KT9xxx.Txx.9.T9x J.AJ8x.KQxxx.AQx xxx.xx.A8xxx.8xx\n",
      "AQ8.KQ9x.JT.KJxx T9xxx.AJx.KQx.8x .T8xx.A98xx.ATxx KJxxx.xx.xxx.Q9x\n",
      "AQ8.KQ9x.JT.KJxx Jxxx.x.Qxxxx.A8x K.JT8x.AK9x.T9xx T9xxx.Axxx.8x.Qx\n",
      "AQ8.KQ9x.JT.KJxx Jxxxx.T8x.A9xxx. K.AJxx.Q8x.A9xxx T9xx.xx.Kxx.QT8x\n",
      "AQ8.KQ9x.JT.KJxx Txxx.Txx.8xxx.xx .8xxx.AK9xx.AT98 KJ9xxx.AJ.Qx.Qxx\n",
      "AQ8.KQ9x.JT.KJxx T9x.JTxx.AQ9x.Tx K.Axxx.xxxxx.A98 Jxxxxx.8.K8.Qxxx\n",
      "AQ8.KQ9x.JT.KJxx Kxxx.Jxxx.Axx.T9 J.A8xx.K98xx.Q8x T9xxx.T.Qxx.Axxx\n",
      "AQ8.KQ9x.JT.KJxx K9xx.Txx.Axx.Txx J.AJ8x.9xxx.A8xx Txxxx.xx.KQ8x.Q9\n",
      "AQ8.KQ9x.JT.KJxx KJ9xx.xx.8xx.T8x .AJxx.K9xx.A9xxx Txxxx.T8x.AQxx.Q\n",
      "AQ8.KQ9x.JT.KJxx KJTxx.8xxx.xx.Ax 9.AJTx.AKQxx.Q9x xxxx.x.98xx.T8xx\n",
      "AQ8.KQ9x.JT.KJxx Txx.Txxx.Kxx.A9x x.A8xx.AQ98.QT8x KJ9xxx.J.xxxx.xx\n",
      "AQ8.KQ9x.JT.KJxx JTxx.JT8x.Axx.Tx x.Axxx.Q9x.AQ9xx K9xxx.x.K8xxx.8x\n"
     ]
    }
   ],
   "source": [
    "# we got some samples above. if we want more, we can always get more\n",
    "\n",
    "sample_hands, sorted_score, p_hcp, p_shp, good_quality = bot_bid.sample_hands_for_auction([\"PAD_START\", \"PAD_START\", \"PAD_START\", \"PASS\", \"1N\", \"PASS\", \"3S\",\"PASS\"],0)\n",
    "print(\"Good quality:\", good_quality)\n",
    "for i in range(sample_hands.shape[0]):\n",
    "    print(f'{hand_to_str(sample_hands[i, 0, :])} {hand_to_str(sample_hands[i, 1, :])} {hand_to_str(sample_hands[i, 2, :])} {hand_to_str(sample_hands[i, 3, :])}')"
   ]
  }
 ],
 "metadata": {
  "kernelspec": {
   "display_name": "Python 3 (ipykernel)",
   "language": "python",
   "name": "python3"
  },
  "language_info": {
   "codemirror_mode": {
    "name": "ipython",
    "version": 3
   },
   "file_extension": ".py",
   "mimetype": "text/x-python",
   "name": "python",
   "nbconvert_exporter": "python",
   "pygments_lexer": "ipython3",
   "version": "3.11.0"
  }
 },
 "nbformat": 4,
 "nbformat_minor": 5
}
