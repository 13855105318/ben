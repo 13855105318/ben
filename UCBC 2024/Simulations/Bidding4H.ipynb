{
 "cells": [
  {
   "cell_type": "markdown",
   "id": "75d07246",
   "metadata": {},
   "source": [
    "# Bidding\n",
    "\n",
    "This is a tutorial for how to use the bidding engine"
   ]
  },
  {
   "cell_type": "code",
   "execution_count": 1,
   "id": "59a5664c",
   "metadata": {},
   "outputs": [
    {
     "name": "stdout",
     "output_type": "stream",
     "text": [
      "WARNING:tensorflow:From c:\\Python311\\Lib\\site-packages\\tensorflow\\python\\compat\\v2_compat.py:107: disable_resource_variables (from tensorflow.python.ops.variable_scope) is deprecated and will be removed in a future version.\n",
      "Instructions for updating:\n",
      "non-resource variables are not supported in the long term\n"
     ]
    }
   ],
   "source": [
    "import sys\n",
    "sys.path.append('../../src')\n",
    "\n",
    "from nn.models import Models\n",
    "from bots import BotBid\n",
    "from util import hand_to_str\n",
    "from sample import Sample\n",
    "import conf\n",
    "import numpy as np\n",
    "\n",
    "np.set_printoptions(precision=2, suppress=True, linewidth=200)\n",
    "np.random.seed(42)\n"
   ]
  },
  {
   "cell_type": "code",
   "execution_count": 2,
   "id": "44786d5d",
   "metadata": {},
   "outputs": [
    {
     "name": "stdout",
     "output_type": "stream",
     "text": [
      "INFO:tensorflow:Restoring parameters from ..\\Models/NS1EW99-bidding_same-278000\n",
      "INFO:tensorflow:Restoring parameters from ..\\Models/NS1EW99-binfo_same-278000\n",
      "INFO:tensorflow:Restoring parameters from ..\\Models/lead_suit-154000\n",
      "INFO:tensorflow:Restoring parameters from ..\\Models/lead_nt-59000\n",
      "INFO:tensorflow:Restoring parameters from ..\\Models/lr3-1000000\n",
      "INFO:tensorflow:Restoring parameters from ..\\Models/single_dummy-32768000\n",
      "INFO:tensorflow:Restoring parameters from ..\\Models/lefty-1000000\n",
      "INFO:tensorflow:Restoring parameters from ..\\Models/dummy-920000\n",
      "INFO:tensorflow:Restoring parameters from ..\\Models/righty-1000000\n",
      "INFO:tensorflow:Restoring parameters from ..\\Models/decl-1000000\n"
     ]
    }
   ],
   "source": [
    "models = Models.from_conf(conf.load('../Conf/UCBC2024.conf'),'..')   # loading neural networks\n",
    "sampler = Sample.from_conf(conf.load('../Conf/UCBC2024.conf'), False)  # Load sampling strategies\n"
   ]
  },
  {
   "cell_type": "markdown",
   "id": "10d8f2fc",
   "metadata": {},
   "source": [
    "### Running through an example"
   ]
  },
  {
   "cell_type": "code",
   "execution_count": 3,
   "id": "19dbfeb7",
   "metadata": {},
   "outputs": [
    {
     "data": {
      "text/plain": [
       "[{'call': '1N', 'insta_score': 0.998}]"
      ]
     },
     "execution_count": 3,
     "metadata": {},
     "output_type": "execute_result"
    }
   ],
   "source": [
    "# East deals, EW vulnerable.\n",
    "vuln_ns, vuln_ew = False, False\n",
    "\n",
    "# you sit West and hold:\n",
    "hand = 'AQ8.KQ94.JT.KJ52'\n",
    "\n",
    "auction = [\"PAD_START\", \"PAD_START\", \"PAD_START\", \"PASS\"]\n",
    "bot_bid = BotBid([vuln_ns, vuln_ew], hand, models, sampler, 0, 0, False)\n",
    "\n",
    "bid = bot_bid.bid(auction)\n",
    "bid.to_dict()['candidates']\n",
    "\n",
    "# what's your bid?"
   ]
  },
  {
   "cell_type": "code",
   "execution_count": 4,
   "id": "bfe98f56",
   "metadata": {},
   "outputs": [
    {
     "data": {
      "text/plain": [
       "[{'call': '4H', 'insta_score': 0.206, 'expected_score': 535, 'adjustment': 10},\n",
       " {'call': '4C', 'insta_score': 0.159, 'expected_score': 485, 'adjustment': 8},\n",
       " {'call': '3N', 'insta_score': 0.512, 'expected_score': 450, 'adjustment': 26}]"
      ]
     },
     "execution_count": 4,
     "metadata": {},
     "output_type": "execute_result"
    }
   ],
   "source": [
    "auction = [\"PAD_START\", \"PAD_START\", \"PAD_START\", \"PASS\", \"1N\", \"PASS\", \"3S\",\"PASS\"]\n",
    "bid = bot_bid.bid(auction)\n",
    "\n",
    "bid.to_dict()['candidates']"
   ]
  },
  {
   "cell_type": "markdown",
   "id": "ad120123",
   "metadata": {},
   "source": [
    "in the output above:\n",
    "- `insta_score` reflects what the neural network prefers to bid\n",
    "- `expected_score` is based on what you expect to score on difference samples (for example, 70% of the time you are making and 30% of the time you are going one off, then the expected score is 0.7 * 620 - 0.3 * 100)"
   ]
  },
  {
   "cell_type": "markdown",
   "id": "051ff121",
   "metadata": {},
   "source": [
    "### Samples consistent with the auction so far\n",
    "\n",
    "Above we said that we are computig expected scores on samples consistent with the auction so far.\n",
    "\n",
    "How do we get these samples?\n",
    "\n",
    "We get some samples in the response we get from the bot (i.e `bid.samples`)"
   ]
  },
  {
   "cell_type": "code",
   "execution_count": 5,
   "id": "55b647a5",
   "metadata": {},
   "outputs": [
    {
     "data": {
      "text/plain": [
       "['AQ8.KQ9x.JT.KJxx K9xx.Jxx.8xx.Qxx .A8xx.AQ9.AT98xx JTxxxx.Tx.Kxxxx. 0.77259 \\n P-1N-P-3S-P-3N-P-4C-P-4H-P-5C-P-5H-P-7C-P-P-P (12.2)  \\n P-1N-P-3S-P-4H-P-4N-P-5D-P-6C-P-P-P (12.2)  \\n P-1N-P-3S-P-4C-P-4N-P-5D-P-6C-P-P-P (12.3) ',\n",
       " 'AQ8.KQ9x.JT.KJxx JTxxx.JT8x.Kxx.x x.Axxx.AQx.AT8xx K9xx.x.98xxx.Q9x 0.75825 \\n P-1N-P-3S-P-3N-P-P-P (12.2)  \\n P-1N-P-3S-P-4H-P-4N-P-5D-P-6C-P-P-P (12.3)  \\n P-1N-P-3S-P-4C-P-4N-P-5D-P-6C-P-P-P (12.2) ',\n",
       " 'AQ8.KQ9x.JT.KJxx KT9x.JTxx.9xx.9x .A8xx.A8xx.AQxxx Jxxxxx.x.KQxx.T8 0.75648 \\n P-1N-P-3S-P-3N-P-4C-P-4H-P-5C-P-5H-P-7C-P-P-P (12.2)  \\n P-1N-P-3S-P-4H-P-4N-P-5D-P-6C-P-P-P (12.2)  \\n P-1N-P-3S-P-4C-P-4N-P-5D-P-6C-P-P-P (12.2) ',\n",
       " 'AQ8.KQ9x.JT.KJxx KJTxxx.8xx.8xx.x .AJTx.Axxx.A8xxx 9xxx.xx.KQ9x.QT9 0.74850 \\n P-1N-P-3S-P-3N-P-4C-P-4H-P-5C-P-5H-P-6C-P-P-P (12.2)  \\n P-1N-P-3S-P-4H-P-4N-P-5D-P-6C-P-P-P (12.2)  \\n P-1N-P-3S-P-4C-P-4N-P-5D-P-6C-P-P-P (12.2) ',\n",
       " 'AQ8.KQ9x.JT.KJxx JTxxx.x.Q9xxx.AT 9.AJ8x.AK8.Q98xx Kxxx.Txxx.xxx.xx 0.73873 \\n P-1N-P-3S-P-3N-P-P-P (11.3)  \\n P-1N-P-3S-P-4H-P-4N-P-5D-P-5H-P-5N-P-6H-P-P-P (12.0)  \\n P-1N-P-3S-P-4C-P-4N-P-5D-P-6C-P-P-P (11.8) ',\n",
       " 'AQ8.KQ9x.JT.KJxx KTxx.xx.Q9xxx.8x x.ATxx.A8x.AQT9x J9xxx.J8x.Kxx.xx 0.73317 \\n P-1N-P-3S-P-3N-P-P-P (11.5)  \\n P-1N-P-3S-P-4H-P-4N-P-5D-P-6C-P-P-P (12.1)  \\n P-1N-P-3S-P-4C-P-4N-P-5D-P-6C-P-P-P (12.2) ',\n",
       " 'AQ8.KQ9x.JT.KJxx Txxx.JTx.AK9x.Tx .Axxx.Q8xx.AQ9xx KJ9xxx.8x.xxx.8x 0.73003 \\n P-1N-P-3S-P-3N-P-P-P (9.7)  \\n P-1N-P-3S-P-4H-P-4N-P-5D-P-6C-P-P-P (11.8)  \\n P-1N-P-3S-P-4C-P-5C-P-5H-P-6C-P-P-P (11.8) ',\n",
       " 'AQ8.KQ9x.JT.KJxx K9xxxx.8.Q8xx.9x T.AJxx.Axx.AQT8x Jxx.Txxx.K9xx.xx 0.72678 \\n P-1N-P-3S-P-3N-P-4C-P-4H-P-5C-P-5H-P-6N-P-P-P (11.6)  \\n P-1N-P-3S-P-4H-P-4N-P-5D-P-6C-P-P-P (12.1)  \\n P-1N-P-3S-P-4C-P-4N-P-5D-P-6C-P-P-P (12.1) ',\n",
       " 'AQ8.KQ9x.JT.KJxx JT9xx.Jxxx.Q8x.x x.A8xx.AKx.QT98x Kxxx.T.9xxxx.Axx 0.72561 \\n P-1N-P-3S-P-3N-P-P-P (11.0)  \\n P-1N-P-3S-P-4H-P-4N-P-5D-P-5H-P-5N-P-6H-P-P-P (11.3)  \\n P-1N-P-3S-P-4C-P-5C-P-5H-P-6C-P-P-P (11.8) ',\n",
       " 'AQ8.KQ9x.JT.KJxx KT9xxx.JT.Qxxxx. .Axxx.AK8x.AT8xx Jxxx.8xx.9x.Q9xx 0.72416 \\n P-1N-P-3S-P-3N-P-4C-P-4H-P-5C-P-5H-P-7C-P-P-P (12.2)  \\n P-1N-P-3S-P-4H-P-4N-P-5D-P-6C-P-P-P (12.2)  \\n P-1N-P-3S-P-4C-P-4N-P-5D-P-6C-P-P-P (12.2) ',\n",
       " 'AQ8.KQ9x.JT.KJxx KJTxx.Jxx.xxx.Qx .ATxx.AK8x.A98xx 9xxxx.8x.Q9xx.Tx 0.72290 \\n P-1N-P-3S-P-3N-P-4C-P-4H-P-5C-P-5H-P-7C-P-P-P (12.2)  \\n P-1N-P-3S-P-4H-P-4N-P-5D-P-6C-P-P-P (12.2)  \\n P-1N-P-3S-P-4C-P-4N-P-5D-P-6C-P-P-P (12.3) ',\n",
       " 'AQ8.KQ9x.JT.KJxx K9x.8x.Kxxxx.T8x x.AJxx.A9x.AQ9xx JTxxxx.Txx.Q8x.x 0.72155 \\n P-1N-P-3S-P-3N-P-4C-P-4H-P-5C-P-5H-P-6N-P-P-P (11.7)  \\n P-1N-P-3S-P-4H-P-4N-P-5D-P-6C-P-P-P (12.2)  \\n P-1N-P-3S-P-4C-P-4N-P-5D-P-6C-P-P-P (12.1) ',\n",
       " 'AQ8.KQ9x.JT.KJxx JTxx.x.Q9xx.AQ8x .AJ8x.AKxx.T9xxx K9xxxx.Txxx.8xx. 0.71930 \\n P-1N-P-3S-P-3N-P-P-P (9.3)  \\n P-1N-P-3S-P-4H-P-4N-P-5D-P-6C-P-P-P (11.0)  \\n P-1N-P-3S-P-4C-P-5C-P-5H-P-6C-P-P-P (11.0) ',\n",
       " 'AQ8.KQ9x.JT.KJxx KJT9xx.xx.Q98xx. .AJxx.AKx.A9xxxx xxxx.T8x.xxx.QT8 0.71618 \\n P-1N-P-3S-P-3N-P-4C-P-4H-P-5C-P-5H-P-6N-P-P-P (12.0)  \\n P-1N-P-3S-P-4H-P-4N-P-5D-P-6C-P-P-P (12.3)  \\n P-1N-P-3S-P-4C-P-4N-P-5D-P-6C-P-P-P (12.3) ',\n",
       " 'AQ8.KQ9x.JT.KJxx KT9x.8xx.Kxxx.8x x.AJTx.A9x.AQTxx Jxxxx.xx.Q8xx.9x 0.70876 \\n P-1N-P-3S-P-3N-P-4C-P-4H-P-5C-P-5H-P-6N-P-P-P (11.8)  \\n P-1N-P-3S-P-4H-P-4N-P-5D-P-6C-P-P-P (12.1)  \\n P-1N-P-3S-P-4C-P-4N-P-5D-P-6C-P-P-P (12.1) ',\n",
       " 'AQ8.KQ9x.JT.KJxx Kxxx.J8x.AQxx.8x 9.Axxx.Kxx.AQTxx JTxxx.Tx.98xx.9x 0.70801 \\n P-1N-P-3S-P-3N-P-P-P (10.7)  \\n P-1N-P-3S-P-4H-P-4N-P-5D-P-5H-P-5N-P-6H-P-P-P (11.6)  \\n P-1N-P-3S-P-4C-P-5C-P-5H-P-6C-P-P-P (12.2) ',\n",
       " 'AQ8.KQ9x.JT.KJxx JT9xxx.x.K8xx.8x .AJ8x.AQ9xx.AQxx Kxxx.Txxx.xx.T9x 0.70671 \\n P-1N-P-3S-P-3N-P-4C-P-4H-P-6D-P-P-P (12.1)  \\n P-1N-P-3S-P-4H-P-4N-P-5D-P-6C-P-P-P (12.2)  \\n P-1N-P-3S-P-4C-P-4N-P-5D-P-6C-P-P-P (12.2) ',\n",
       " 'AQ8.KQ9x.JT.KJxx KT9xx.Txx.K8xx.x x.AJ8x.Axx.A8xxx Jxxx.xx.Q9xx.QT9 0.70045 \\n P-1N-P-3S-P-3N-P-P-P (11.2)  \\n P-1N-P-3S-P-4H-P-4N-P-5D-P-5H-P-5N-P-6H-P-P-P (11.5)  \\n P-1N-P-3S-P-4C-P-5C-P-5H-P-6C-P-P-P (12.2) ',\n",
       " 'AQ8.KQ9x.JT.KJxx KJxxx.8x.9xx.T9x 9.AJTx.Axx.A8xxx Txxx.xxx.KQ8xx.Q 0.69795 \\n P-1N-P-3S-P-3N-P-P-P (11.1)  \\n P-1N-P-3S-P-4H-P-4N-P-5D-P-5H-P-5N-P-6H-P-P-P (11.8)  \\n P-1N-P-3S-P-4C-P-5C-P-5H-P-6C-P-P-P (12.2) ',\n",
       " 'AQ8.KQ9x.JT.KJxx J9xxxx.JT.Q8x.Qx x.Axxx.Axx.A98xx KTx.8xx.K9xxx.Tx 0.68979 \\n P-1N-P-3S-P-3N-P-P-P (11.6)  \\n P-1N-P-3S-P-4H-P-4N-P-5D-P-5H-P-5N-P-6H-P-P-P (11.9)  \\n P-1N-P-3S-P-4C-P-5C-P-5H-P-6C-P-P-P (12.2) ']"
      ]
     },
     "execution_count": 5,
     "metadata": {},
     "output_type": "execute_result"
    }
   ],
   "source": [
    "bid.samples"
   ]
  },
  {
   "cell_type": "markdown",
   "id": "7d0dd8f5",
   "metadata": {},
   "source": [
    "each row is one sample. the hands are in the order: N E S W\n",
    "\n",
    "(West always has the same cards because it's your hand and it's known to you)"
   ]
  },
  {
   "cell_type": "code",
   "execution_count": 6,
   "id": "7101e514",
   "metadata": {},
   "outputs": [
    {
     "name": "stdout",
     "output_type": "stream",
     "text": [
      "AQ8.KQ9x.JT.KJxx K9xx.Jxx.8xx.Qxx .A8xx.AQ9.AT98xx JTxxxx.Tx.Kxxxx.\n",
      "AQ8.KQ9x.JT.KJxx JTxxx.JT8x.Kxx.x x.Axxx.AQx.AT8xx K9xx.x.98xxx.Q9x\n",
      "AQ8.KQ9x.JT.KJxx KT9x.JTxx.9xx.9x .A8xx.A8xx.AQxxx Jxxxxx.x.KQxx.T8\n",
      "AQ8.KQ9x.JT.KJxx KJTxxx.8xx.8xx.x .AJTx.Axxx.A8xxx 9xxx.xx.KQ9x.QT9\n",
      "AQ8.KQ9x.JT.KJxx JTxxx.x.Q9xxx.AT 9.AJ8x.AK8.Q98xx Kxxx.Txxx.xxx.xx\n",
      "AQ8.KQ9x.JT.KJxx KTxx.xx.Q9xxx.8x x.ATxx.A8x.AQT9x J9xxx.J8x.Kxx.xx\n",
      "AQ8.KQ9x.JT.KJxx Txxx.JTx.AK9x.Tx .Axxx.Q8xx.AQ9xx KJ9xxx.8x.xxx.8x\n",
      "AQ8.KQ9x.JT.KJxx K9xxxx.8.Q8xx.9x T.AJxx.Axx.AQT8x Jxx.Txxx.K9xx.xx\n",
      "AQ8.KQ9x.JT.KJxx JT9xx.Jxxx.Q8x.x x.A8xx.AKx.QT98x Kxxx.T.9xxxx.Axx\n",
      "AQ8.KQ9x.JT.KJxx KT9xxx.JT.Qxxxx. .Axxx.AK8x.AT8xx Jxxx.8xx.9x.Q9xx\n",
      "AQ8.KQ9x.JT.KJxx KJTxx.Jxx.xxx.Qx .ATxx.AK8x.A98xx 9xxxx.8x.Q9xx.Tx\n",
      "AQ8.KQ9x.JT.KJxx K9x.8x.Kxxxx.T8x x.AJxx.A9x.AQ9xx JTxxxx.Txx.Q8x.x\n",
      "AQ8.KQ9x.JT.KJxx JTxx.x.Q9xx.AQ8x .AJ8x.AKxx.T9xxx K9xxxx.Txxx.8xx.\n",
      "AQ8.KQ9x.JT.KJxx KJT9xx.xx.Q98xx. .AJxx.AKx.A9xxxx xxxx.T8x.xxx.QT8\n",
      "AQ8.KQ9x.JT.KJxx KT9x.8xx.Kxxx.8x x.AJTx.A9x.AQTxx Jxxxx.xx.Q8xx.9x\n",
      "AQ8.KQ9x.JT.KJxx Kxxx.J8x.AQxx.8x 9.Axxx.Kxx.AQTxx JTxxx.Tx.98xx.9x\n",
      "AQ8.KQ9x.JT.KJxx JT9xxx.x.K8xx.8x .AJ8x.AQ9xx.AQxx Kxxx.Txxx.xx.T9x\n",
      "AQ8.KQ9x.JT.KJxx KT9xx.Txx.K8xx.x x.AJ8x.Axx.A8xxx Jxxx.xx.Q9xx.QT9\n",
      "AQ8.KQ9x.JT.KJxx KJxxx.8x.9xx.T9x 9.AJTx.Axx.A8xxx Txxx.xxx.KQ8xx.Q\n",
      "AQ8.KQ9x.JT.KJxx J9xxxx.JT.Q8x.Qx x.Axxx.Axx.A98xx KTx.8xx.K9xxx.Tx\n",
      "AQ8.KQ9x.JT.KJxx JTxx.xx.9xxx.QT9 x.AJTx.AQx.A8xxx K9xxx.8xx.K8xx.x\n",
      "AQ8.KQ9x.JT.KJxx K9xx.J8x.Kxx.Txx x.ATxx.AQ9x.A9xx JTxxx.xx.8xxx.Q8\n",
      "AQ8.KQ9x.JT.KJxx KJTx.ATxx.Q8xx.T x.J8xx.AKx.A8xxx 9xxxx.x.9xxx.Q9x\n",
      "AQ8.KQ9x.JT.KJxx KJxx.8xx.Qxxxx.8 T.Axxx.AK8.AQ9xx 9xxxx.JT.9xx.Txx\n",
      "AQ8.KQ9x.JT.KJxx KJT9x.8xx.9xx.8x .AJTx.AKQxx.AT9x xxxxx.xx.8xx.Qxx\n",
      "AQ8.KQ9x.JT.KJxx Jxxx.8xx.Qxx.xxx 9.ATxx.AKx.AQ98x KTxxx.Jx.98xxx.T\n",
      "AQ8.KQ9x.JT.KJxx KJTxx.xxx.xx.QTx x.AT8x.AQxx.A9xx 9xxx.Jx.K98xx.8x\n",
      "AQ8.KQ9x.JT.KJxx KJT9.Txx.Q9xx.9x .AJ8x.A8xxx.AQ8x xxxxxx.xx.Kx.Txx\n",
      "AQ8.KQ9x.JT.KJxx KJxx.A.Qxxxx.T9x T.Jxxx.AK9x.AQ8x 9xxxx.T8xx.8x.xx\n",
      "AQ8.KQ9x.JT.KJxx JT9xx.xx.Kxxx.Q8 x.AJTx.A98x.AT9x Kxxx.8xx.Qxx.xxx\n",
      "AQ8.KQ9x.JT.KJxx KT9xxx.Jx.Qxxx.8 x.A8xx.AKx.AQxxx Jxx.Txx.98xx.T9x\n",
      "AQ8.KQ9x.JT.KJxx KTxx.Jx.98xx.Qxx x.ATxx.AKxx.AT8x J9xxx.8xx.Qxx.9x\n",
      "AQ8.KQ9x.JT.KJxx JTxx.T8.K9xx.8xx .Axxx.AQxxx.AT9x K9xxxx.Jxx.8x.Qx\n",
      "AQ8.KQ9x.JT.KJxx KJ9xxx.x.9xx.Qxx .Axxx.AQxxx.AT9x Txxx.JT8x.K8x.8x\n",
      "AQ8.KQ9x.JT.KJxx KJTxxx.x.9xx.T9x x.A8xx.AQxx.Axxx 9xx.JTxx.K8xx.Q8\n",
      "AQ8.KQ9x.JT.KJxx Txxx.Txx.Axx.QTx x.AJxx.KQ98.A8xx KJ9xx.8x.xxxx.9x\n",
      "AQ8.KQ9x.JT.KJxx J9xx.8x.K9xxx.Tx x.AJxx.A8xx.A9xx KTxxx.Txx.Qx.Q8x\n",
      "AQ8.KQ9x.JT.KJxx KJ9xxx.x.8xx.Axx x.AJxx.AKQx.T9xx Txx.T8xx.9xxx.Q8\n",
      "AQ8.KQ9x.JT.KJxx Kxxx.xx.KQ8x.Q8x 9.AT8x.Axxx.A9xx JTxxx.Jxx.9xx.Tx\n",
      "AQ8.KQ9x.JT.KJxx Kxxxx.xx.8xxx.Q9 x.AJTx.AKQx.Txxx JT9x.8xx.9xx.A8x\n",
      "AQ8.KQ9x.JT.KJxx KTxxx.xx.Axxx.xx x.AJTx.K8x.AT8xx J9xx.8xx.Q9xx.Q9\n",
      "AQ8.KQ9x.JT.KJxx KT9xxx.xx.xx.T98 x.AJxx.Axxx.AQxx Jxx.T8x.KQ98x.xx\n",
      "AQ8.KQ9x.JT.KJxx J9xxx.Txx.Kxx.T8 x.AJ8x.A8xx.AQ9x KTxx.xx.Q9xx.xxx\n",
      "AQ8.KQ9x.JT.KJxx T9xxxx.Jx.98x.Tx x.ATxx.Kxxx.AQ9x KJx.8xx.AQxx.8xx\n",
      "AQ8.KQ9x.JT.KJxx KTxxx.xx.Q9xx.9x .AJ8x.K8xxx.AQxx J9xxx.Txx.Ax.T8x\n",
      "AQ8.KQ9x.JT.KJxx KJTxx.8xx.A8xx.8 x.ATxx.K9x.AT9xx 9xxx.Jx.Qxxx.Qxx\n",
      "AQ8.KQ9x.JT.KJxx Kxxxx.8x.AQxx.xx .Axxx.K98xx.AQxx JT9xx.JTx.xx.T98\n",
      "AQ8.KQ9x.JT.KJxx K9xxxx.8x.Axx.xx x.ATxx.K8xx.AQT8 JTx.Jxx.Q9xx.9xx\n",
      "AQ8.KQ9x.JT.KJxx KJxx.xxx.9x.Q98x .AT8x.A8xxx.ATxx T9xxxx.Jx.KQxx.x\n",
      "AQ8.KQ9x.JT.KJxx KJ9xx.Jxx.Axx.Tx x.ATxx.KQxx.AQ8x Txxx.8x.98xx.9xx\n",
      "AQ8.KQ9x.JT.KJxx K9x.Txx.9xxx.Axx .AJ8x.AKQxx.T98x JTxxxxx.xx.8x.Qx\n",
      "AQ8.KQ9x.JT.KJxx K9xxx.JTx.Q9.T8x .Axxx.Axxxx.A9xx JTxxx.8x.K8xx.Qx\n",
      "AQ8.KQ9x.JT.KJxx KTxx.xx.98xx.8xx x.JT8x.AKQx.AQ9x J9xxx.Axx.xxx.Tx\n",
      "AQ8.KQ9x.JT.KJxx KJTxxx.Tx.Qxx.Tx .8xxx.AK8xx.AQ8x 9xxx.AJx.9xx.9xx\n",
      "AQ8.KQ9x.JT.KJxx JTxxx.J.A8xx.9xx x.AT8x.Kxxx.AQT8 K9xx.xxxx.Q9x.xx\n",
      "AQ8.KQ9x.JT.KJxx J9xx.JT.Kxxx.9xx T.A8xx.AQ8x.AQ8x Kxxxx.xxx.9xx.Tx\n",
      "AQ8.KQ9x.JT.KJxx JTx.Txx.Kxx.Axxx 9.Axxx.AQ8x.Q98x Kxxxxx.J8.9xxx.T\n",
      "AQ8.KQ9x.JT.KJxx KT9x.T8xx.Axx.Tx .AJxx.K9xxx.A9xx Jxxxxx.x.Q8x.Q8x\n",
      "AQ8.KQ9x.JT.KJxx xxx.Txx.A8xxx.xx K.Axxx.K9x.AT98x JT9xxx.J8.Qxx.Qx\n",
      "AQ8.KQ9x.JT.KJxx JTx.JT8x.Kxx.T8x x.Axxx.AQxx.AQ9x K9xxxx.x.98xx.xx\n",
      "AQ8.KQ9x.JT.KJxx KJT9x.8xx.Q9.Q8x x.AJxx.AKxx.ATxx xxxx.Tx.8xxxx.9x\n",
      "AQ8.KQ9x.JT.KJxx Kxxx.JTx.A9xxx.Q x.Axxx.K8x.AT8xx JT9xx.8x.Qxx.9xx\n",
      "AQ8.KQ9x.JT.KJxx K9xx.xx.A8xxx.8x T.AJxx.9xx.AQT9x Jxxxx.T8x.KQx.xx\n",
      "AQ8.KQ9x.JT.KJxx KJ9xx.xxx.9xx.Tx x.AJTx.Axx.Q98xx Txxx.8x.KQ8xx.Ax\n",
      "AQ8.KQ9x.JT.KJxx JTx.Jxxx.K8xx.xx K.AT8x.Qxx.AQ98x 9xxxxx.x.A9xx.Tx\n",
      "AQ8.KQ9x.JT.KJxx J9xx.Jxxx.AQ9xx. x.ATxx.Kxx.A8xxx KTxxx.8.8xx.QT9x\n",
      "AQ8.KQ9x.JT.KJxx JT9xx.Txx.Q98x.x x.AJ8x.AKxx.AT98 Kxxx.xx.xxx.Qxxx\n",
      "AQ8.KQ9x.JT.KJxx K9xxxx.Tx.Q9xx.Q x.AJ8x.AKxx.ATxx JTx.xxx.8xx.98xx\n",
      "AQ8.KQ9x.JT.KJxx KJxxxx.xx.8x.QT8 .JT8x.AKxxx.A9xx T9xx.Axx.Q9xx.xx\n",
      "AQ8.KQ9x.JT.KJxx Jxxxx.Jxx.xxxx.A .A8xx.AK98x.98xx KT9xx.Tx.Qx.QTxx\n",
      "AQ8.KQ9x.JT.KJxx KTxxx.x.Axxx.8xx x.ATxx.KQ9xx.A9x J9xx.J8xx.8x.QTx\n",
      "AQ8.KQ9x.JT.KJxx T9xxx.8x.9x.AQ9x x.AJxx.AK8x.8xxx KJxx.Txx.Qxxxx.T\n",
      "AQ8.KQ9x.JT.KJxx K9x.xxx.Q8xx.QTx x.J8xx.AKxx.A8xx JTxxxx.AT.9xx.9x\n",
      "AQ8.KQ9x.JT.KJxx JTxx.xxxx.Q8x.T9 x.AT8x.A9xxx.AQx K9xxx.J.Kxx.8xxx\n",
      "AQ8.KQ9x.JT.KJxx K9xxx.T8x.xxx.9x x.AJxx.AKQx.QTxx JTxx.xx.98xx.A8x\n",
      "AQ8.KQ9x.JT.KJxx K9xxxx.Jx.Q8x.QT .Axxx.AKxxx.98xx JTxx.T8x.9xx.Axx\n",
      "AQ8.KQ9x.JT.KJxx Txxx.Txx.Axx.Q9x x.A8xx.KQ9xx.ATx KJ9xx.Jx.8xx.8xx\n",
      "AQ8.KQ9x.JT.KJxx Kxxx.JTx.8xx.Q9x x.A8xx.KQ9xx.A8x JT9xx.xx.Axx.Txx\n",
      "AQ8.KQ9x.JT.KJxx KTxxxx.xx.A8xx.x x.A8xx.Q9xx.AQ8x J9x.JTx.Kxx.T9xx\n",
      "AQ8.KQ9x.JT.KJxx xxxx.xxx.Kxx.T98 x.A8xx.A9xx.AQxx KJT9x.JT.Q8xx.xx\n",
      "AQ8.KQ9x.JT.KJxx JTxxxx.xx.A9x.8x .ATxx.KQxxx.QT9x K9xx.J8x.8xx.Axx\n",
      "AQ8.KQ9x.JT.KJxx JT9xx.T8x.xx.Qxx x.Jxxx.AKQxx.AT8 Kxxx.Ax.98xx.9xx\n",
      "AQ8.KQ9x.JT.KJxx KTxx.xx.Qxxx.8xx x.AJ8x.A98xx.ATx J9xxx.Txx.Kx.Q9x\n",
      "AQ8.KQ9x.JT.KJxx Kxx.Jxx.xxxx.T8x T.Axxx.K98x.A9xx J9xxxx.T8.AQx.Qx\n",
      "AQ8.KQ9x.JT.KJxx Kxxx.Jxx.xxx.Qxx x.A8xx.KQ8xx.A8x JT9xx.Tx.A9x.T9x\n",
      "AQ8.KQ9x.JT.KJxx KTxx.JTx.K98.9xx x.A8xx.Qxxx.AQ8x J9xxx.xx.Axxx.Tx\n",
      "AQ8.KQ9x.JT.KJxx JTxx.A8x.8x.9xxx x.JTxx.AKxxx.AQT K9xxx.xx.Q9xx.8x\n",
      "AQ8.KQ9x.JT.KJxx Kxxxx.8x.9xxx.xx x.AJTx.KQxx.AQT9 JT9x.xxx.A8x.8xx\n",
      "AQ8.KQ9x.JT.KJxx K9xxx.Tx.Qxx.T9x x.A8xx.AK8xx.Q8x JTxx.Jxx.9xx.Axx\n",
      "AQ8.KQ9x.JT.KJxx JTxxx.xx.Kxx.9xx x.AJT8.AQ8x.AQT8 K9xx.xxx.9xxx.xx\n",
      "AQ8.KQ9x.JT.KJxx KJTxx.J8x.Qxx.Tx x.ATxx.AK9xx.Qxx 9xxx.xx.8xx.A98x\n",
      "AQ8.KQ9x.JT.KJxx KJ9x.JTxx.8x.9xx x.A8xx.A9xxx.ATx Txxxx.x.KQxx.Q8x\n",
      "AQ8.KQ9x.JT.KJxx Kxxx.ATxx.8x.T9x x.J8xx.AKQx.Q8xx JT9xx.x.9xxxx.Ax\n",
      "AQ8.KQ9x.JT.KJxx 9xxx.Jx.Axx.QT9x .ATxx.KQ9xx.Axxx KJTxxx.8xx.8xx.8\n",
      "AQ8.KQ9x.JT.KJxx KTxx.A8xx.Q8x.Qx 9.JTxx.AK9xx.Axx Jxxxx.x.xxx.T98x\n",
      "AQ8.KQ9x.JT.KJxx 9xxxx.JT.Qxx.QTx x.Axxx.AK9xx.A9x KJTx.8xx.8xx.8xx\n",
      "AQ8.KQ9x.JT.KJxx Jxx.xx.Qxxx.AQxx T.AJ8x.AK9xx.8xx K9xxxx.Txx.8x.T9\n",
      "AQ8.KQ9x.JT.KJxx Kxx.xxx.xxx.AQxx 9.AJxx.AK8xx.9xx JTxxxx.T8.Q9x.T8\n",
      "AQ8.KQ9x.JT.KJxx KJTxx.T.Q98x.Q8x 9.Axxx.Axxxx.Axx xxxx.J8xx.Kx.T9x\n",
      "AQ8.KQ9x.JT.KJxx K9xxx.xx.Qxx.Txx J.AJTx.A9xx.AQ9x Txxx.8xx.K8xx.8x\n",
      "AQ8.KQ9x.JT.KJxx JTxx.xxx.K8x.Axx x.AJxx.Axxx.QT9x K9xxx.T8.Q9xx.8x\n",
      "AQ8.KQ9x.JT.KJxx J9xx.T8.8xxx.Axx T.AJxx.KQxx.Q9xx Kxxxx.xxx.A9x.T8\n",
      "AQ8.KQ9x.JT.KJxx 9xxx.8x.K8x.T8xx x.ATxx.AQxxx.A9x KJTxx.Jxx.9xx.Qx\n",
      "AQ8.KQ9x.JT.KJxx 9xxx.J8.9xx.QT8x T.ATxx.AQxx.A9xx KJxxx.xxx.K8xx.x\n",
      "AQ8.KQ9x.JT.KJxx Jxxx.8.AQ98x.QTx x.AJxx.Kxxxx.A9x KT9xx.Txxx.x.8xx\n",
      "AQ8.KQ9x.JT.KJxx T9xx.Tx.KQ9xxx.9 K.AJxx.A8x.Q8xxx Jxxxx.8xx.xx.ATx\n",
      "AQ8.KQ9x.JT.KJxx 9xxx.J8.Q8xxx.T9 x.ATxx.AKxx.8xxx KJTxx.xxx.9x.AQx\n",
      "AQ8.KQ9x.JT.KJxx KJ9xx.8x.xxx.Qxx x.Jxxx.AK8xx.A8x Txxx.ATx.Q9x.T9x\n",
      "AQ8.KQ9x.JT.KJxx KJ9xx.Jx.8xx.8xx x.T8xx.AK9xx.A9x Txxx.Axx.Qxx.QTx\n",
      "AQ8.KQ9x.JT.KJxx Kxxxx.8.Q8.T98xx x.AJxx.K9xxx.Axx JT9x.Txxx.Axxx.Q\n",
      "AQ8.KQ9x.JT.KJxx 9xxxx.Axx.K98.9x K.J8xx.AQx.AQTxx JTxx.Tx.xxxxx.8x\n",
      "AQ8.KQ9x.JT.KJxx xxxx.8xx.AQx.9xx K.ATxx.xxx.AQT8x JT9xx.Jx.K98xx.x\n",
      "AQ8.KQ9x.JT.KJxx K9xxxx.xx.K9xx.x x.J8xx.A8xx.AQTx JTx.ATx.Qxx.98xx\n",
      "AQ8.KQ9x.JT.KJxx J9xxx.T8.Axx.9xx x.AJxx.K8xxx.AT8 KTxx.xxx.Q9x.Qxx\n",
      "AQ8.KQ9x.JT.KJxx KJxx.xx.9xxx.A98 9.Axxx.AKQxx.QTx Txxxx.JT8.8x.xxx\n",
      "AQ8.KQ9x.JT.KJxx KTxx.Txx.AK9x.98 x.AJ8x.8xxx.AQxx J9xxx.xx.Qxx.Txx\n",
      "AQ8.KQ9x.JT.KJxx J9xx.Txx.Kxxx.xx x.AJ8x.AQ8xx.ATx KTxxx.xx.9x.Q98x\n",
      "AQ8.KQ9x.JT.KJxx KJT9.JTxxx.Q9x.T x.A8xx.AKxx.xxxx xxxxx..8xxx.AQ98\n",
      "AQ8.KQ9x.JT.KJxx Txxxx.8xx.Ax.Txx x.Axxx.KQ8xx.AQx KJ9x.JT.9xxx.98x\n",
      "AQ8.KQ9x.JT.KJxx J9xxx.xx.9xx.AQ8 x.A8xx.AK8xx.9xx KTxx.JTx.Qxx.Txx\n",
      "AQ8.KQ9x.JT.KJxx JTxxx.xx.Qxxx.8x 9.8xxx.AK9xx.ATx Kxxx.AJT.8x.Q9xx\n",
      "AQ8.KQ9x.JT.KJxx Txxx.xxx.Axx.8xx K.ATxx.98x.AQTxx J9xxx.J8.KQxxx.9\n",
      "AQ8.KQ9x.JT.KJxx Txxx.JTx.xx.Q9xx 9.8xxx.AK8xx.ATx KJxxx.Ax.Q9xx.8x\n",
      "AQ8.KQ9x.JT.KJxx Kxxxxx.8x.xx.Q8x 9.AJTx.AKxxx.A9x JTx.xxx.Q98x.Txx\n",
      "AQ8.KQ9x.JT.KJxx T9xxx.AJTx.xx.xx .8xxx.AKQ9xx.ATx KJxxx.x.8xx.Q98x\n",
      "AQ8.KQ9x.JT.KJxx J9xxx.xx.Axxx.Qx T.AJTx.Q9xx.Axxx Kxxx.8xx.K8x.T98\n",
      "AQ8.KQ9x.JT.KJxx KJx.xxx.A9xx.8xx x.AJxx.Qxxx.A9xx T9xxxx.T8.K8x.QT\n",
      "AQ8.KQ9x.JT.KJxx Txxxxx.Ax.Qxx.9x .J8xx.AK8xxx.A8x KJ9x.Txx.9x.QTxx\n",
      "AQ8.KQ9x.JT.KJxx Jxxxx.Axx.x.Qxxx .Txxx.AKQ9xx.A9x KT9xx.J8.8xxx.T8\n",
      "AQ8.KQ9x.JT.KJxx K9xxxx.8xx.8x.8x .AJTx.AKQxxx.Txx JTxx.xx.9xx.AQ9x\n",
      "AQ8.KQ9x.JT.KJxx K9xxx.ATxx.xx.xx .J8xx.AKQ8xx.A9x JTxxx.x.9xx.QT8x\n",
      "AQ8.KQ9x.JT.KJxx T9xx.8xx.K98xx.x x.AJxx.Axxx.Q98x KJxxx.Tx.Qx.ATxx\n",
      "AQ8.KQ9x.JT.KJxx JTxxx.Jx.xx.QT8x .A8xx.AKQxxx.9xx K9xxx.Txx.98x.Ax\n",
      "AQ8.KQ9x.JT.KJxx JT9xxx.Txx.AQx.x K.AJ8x.K8x.QT8xx xxx.xx.9xxxx.A9x\n",
      "AQ8.KQ9x.JT.KJxx K9xx.Txx.Q8xx.Tx J.Axxx.xxx.AQ98x Txxxx.J8.AK9x.xx\n",
      "AQ8.KQ9x.JT.KJxx 9xxx.T8.AQ9x.Q8x J.AJxx.K8xx.ATxx KTxxx.xxx.xxx.9x\n",
      "AQ8.KQ9x.JT.KJxx K9xxxx.8xx.98x.A x.AJxx.AQxx.9xxx JTx.Tx.Kxxx.QT8x\n",
      "AQ8.KQ9x.JT.KJxx K9x.xx.AQx.98xxx .A8xx.K98xxx.ATx JTxxxxx.JTx.xx.Q\n",
      "AQ8.KQ9x.JT.KJxx T9xxx.Ax.K8x.98x x.J8xx.A9xxx.AQT KJxx.Txx.Qxx.xxx\n",
      "AQ8.KQ9x.JT.KJxx Kxxx.xx.8xx.A8xx x.T8xx.AKQxx.QTx JT9xx.AJx.9xx.9x\n",
      "AQ8.KQ9x.JT.KJxx K9xxx.Tx.9xx.98x .AJ8x.A8xxx.QTxx JTxxx.xxx.KQx.Ax\n",
      "AQ8.KQ9x.JT.KJxx Txxx..AQ8xx.8xxx J.AJ8x.K9xxx.AQ9 K9xxx.Txxxx.x.Tx\n",
      "AQ8.KQ9x.JT.KJxx JTxxx.A8x.8xx.Qx x.Jxxx.AQ9xx.A8x K9xx.Tx.Kxx.T9xx\n",
      "AQ8.KQ9x.JT.KJxx JTxx.Jx.Qxx.T98x x.AT8x.AKxxx.AQx K9xxx.xxx.98x.xx\n",
      "AQ8.KQ9x.JT.KJxx KTxxx.xx.xx.AT8x x.AJxx.AKQ98.Qxx J9xx.T8x.xxxx.9x\n",
      "AQ8.KQ9x.JT.KJxx JTxxx.Tx.xxxx.Ax .A8xx.KQ98x.QT8x K9xxx.Jxx.Ax.9xx\n",
      "AQ8.KQ9x.JT.KJxx K9xxxx.T8.8.A8xx J.AJxx.KQxx.QT9x Txx.xxx.A9xxxx.x\n",
      "AQ8.KQ9x.JT.KJxx T9xxxx.8x.8x.A8x .ATxx.AKQ9xx.QT9 KJxx.Jxx.xxx.xxx\n",
      "AQ8.KQ9x.JT.KJxx J9xx.J8x.K8xx.Qx K.Axxx.Qxx.A98xx Txxxx.Tx.A9xx.Tx\n",
      "AQ8.KQ9x.JT.KJxx JTxx.8xx.Qxx.xxx K.Jxxx.AK8x.AQT8 9xxxx.AT.9xxx.9x\n",
      "AQ8.KQ9x.JT.KJxx JTxx.xxx.Kxx.Txx K.AJ8x.Axxx.AQ8x 9xxxx.Tx.Q98x.9x\n",
      "AQ8.KQ9x.JT.KJxx T9x.J8xx.Q8xx.Tx J.Axxx.AK9xx.A8x Kxxxxx.T.xx.Q9xx\n",
      "AQ8.KQ9x.JT.KJxx KJTxxx.x.8xx.Txx .Axxx.AKQ9xx.Q9x 9xxx.JT8x.xx.A8x\n",
      "AQ8.KQ9x.JT.KJxx JT9x.xxx.98xxx.8 x.AJTx.Kxx.AT9xx Kxxxx.8x.AQx.Qxx\n",
      "AQ8.KQ9x.JT.KJxx T9xx.xxx.xxx.Axx x.A8xx.AK98x.T9x KJxxx.JT.Qxx.Q8x\n",
      "AQ8.KQ9x.JT.KJxx JTxx.Txx.KQ9x.Tx K.A8xx.A8xx.AQ8x 9xxxx.Jx.xxx.9xx\n",
      "AQ8.KQ9x.JT.KJxx J9xx.Jx.Q98x.xxx x.A8xx.AKxx.T98x KTxxx.Txx.xxx.AQ\n",
      "AQ8.KQ9x.JT.KJxx Jxxx.JT.xxx.Txxx x.Axxx.AK98x.Q9x KT9xx.8xx.Qxx.A8\n",
      "AQ8.KQ9x.JT.KJxx Txxx.T8xx.K8.xxx J.AJxx.A9xx.QT8x K9xxx.x.Qxxxx.A9\n",
      "AQ8.KQ9x.JT.KJxx Kxxx.8xxx.xxx.T9 T.JTxx.AKxx.A8xx J9xxx.A.Q98x.Qxx\n",
      "AQ8.KQ9x.JT.KJxx T9xx.xx.Q98xx.QT x.ATxx.AKx.9xxxx KJxxx.J8x.xxx.A8\n",
      "AQ8.KQ9x.JT.KJxx J9xxxx.Ax.xx.98x .J8xx.AKQ9xx.AQx KTxx.Txx.8xx.Txx\n",
      "AQ8.KQ9x.JT.KJxx 9xx.xxx.K98xx.9x x.AJT8.AQxxx.AQx KJTxxx.xx.x.T8xx\n",
      "AQ8.KQ9x.JT.KJxx K9xx.T8.xxxx.T8x T.AJxx.AKQ8x.A9x Jxxxx.xxx.9x.Qxx\n",
      "AQ8.KQ9x.JT.KJxx T9xx.8xx.K8xx.xx x.ATxx.Qxxx.AQxx KJxxx.Jx.A9x.T98\n",
      "AQ8.KQ9x.JT.KJxx JT9xx.Tx.Kxx.Txx .Jxxx.A98xx.AQ9x Kxxxx.A8x.Qxx.8x\n",
      "AQ8.KQ9x.JT.KJxx J9xxx.JT8.xx.Qxx .Axxx.AKxxxx.T8x KTxxx.xx.Q98.A9x\n",
      "AQ8.KQ9x.JT.KJxx xxxx.8xx.xxxx.Qx x.Txxx.AK8x.A8xx KJT9x.AJ.Q9x.T9x\n",
      "AQ8.KQ9x.JT.KJxx xxxx.8xx.xxx.Qxx x.AJTx.A98x.A8xx KJT9x.xx.KQxx.T9\n",
      "AQ8.KQ9x.JT.KJxx xxxx.Txx.xx.QTxx J.Axxx.AQ8xx.A9x KT9xx.J8.K9xx.8x\n",
      "AQ8.KQ9x.JT.KJxx K9xx.Txx.Qxx.Q8x J.Axxx.A8xxx.ATx Txxxx.J8.K9x.9xx\n",
      "AQ8.KQ9x.JT.KJxx 9xx.Jx.Qxxxx.AQ8 J.Axxx.AK98.Txxx KTxxxx.T8x.xx.9x\n",
      "AQ8.KQ9x.JT.KJxx xxxx.xx.Q9xx.xxx .ATxx.AK8xx.AQT8 KJT9xx.J8x.xx.9x\n",
      "AQ8.KQ9x.JT.KJxx J9xxxx.Tx.Q9x.xx K.A8xx.Kxxx.A98x Txx.Jxx.A8xx.QTx\n",
      "AQ8.KQ9x.JT.KJxx T9x.ATxx.Q9x.Qxx J.Jxxx.AKxxx.ATx Kxxxxx.8.8xx.98x\n",
      "AQ8.KQ9x.JT.KJxx Txxxx.x.K8xx.Qxx J.A8xx.AQxxx.Axx K9xx.JTxx.9x.T98\n",
      "AQ8.KQ9x.JT.KJxx Txxx.JT.xxxxx.Qx K.A8xx.AQ8x.A9xx J9xxx.xxx.K9.T8x\n",
      "AQ8.KQ9x.JT.KJxx T9xx.Tx.AK8x.xxx K.AJ8x.xxxx.AQ9x Jxxxx.xxx.Q9x.T8\n",
      "AQ8.KQ9x.JT.KJxx 9xxx.Tx.AQxx.9xx .Axxx.K98x.AQ8xx KJTxxx.J8x.xxx.T\n",
      "AQ8.KQ9x.JT.KJxx KT9xx.Tx.KQxx.Qx .Axxx.A98xx.AT9x Jxxxx.J8x.xx.8xx\n"
     ]
    }
   ],
   "source": [
    "# we got some samples above. if we want more, we can always get more\n",
    "\n",
    "sample_hands, sorted_score, p_hcp, p_shp, good_quality = bot_bid.sample_hands_for_auction([\"PAD_START\", \"PAD_START\", \"PAD_START\", \"PASS\", \"1N\", \"PASS\", \"3S\",\"PASS\"],0)\n",
    "print(\"Good quality:\", good_quality)\n",
    "for i in range(sample_hands.shape[0]):\n",
    "    print(f'{hand_to_str(sample_hands[i, 0, :])} {hand_to_str(sample_hands[i, 1, :])} {hand_to_str(sample_hands[i, 2, :])} {hand_to_str(sample_hands[i, 3, :])}')"
   ]
  }
 ],
 "metadata": {
  "kernelspec": {
   "display_name": "Python 3 (ipykernel)",
   "language": "python",
   "name": "python3"
  },
  "language_info": {
   "codemirror_mode": {
    "name": "ipython",
    "version": 3
   },
   "file_extension": ".py",
   "mimetype": "text/x-python",
   "name": "python",
   "nbconvert_exporter": "python",
   "pygments_lexer": "ipython3",
   "version": "3.11.0"
  }
 },
 "nbformat": 4,
 "nbformat_minor": 5
}
