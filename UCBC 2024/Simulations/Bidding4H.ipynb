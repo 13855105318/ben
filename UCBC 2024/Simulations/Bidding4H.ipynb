{
 "cells": [
  {
   "cell_type": "markdown",
   "id": "75d07246",
   "metadata": {},
   "source": [
    "# Bidding\n",
    "\n",
    "This is a tutorial for how to use the bidding engine"
   ]
  },
  {
   "cell_type": "code",
   "execution_count": 1,
   "id": "59a5664c",
   "metadata": {},
   "outputs": [
    {
     "name": "stdout",
     "output_type": "stream",
     "text": [
      "WARNING:tensorflow:From c:\\Python311\\Lib\\site-packages\\tensorflow\\python\\compat\\v2_compat.py:107: disable_resource_variables (from tensorflow.python.ops.variable_scope) is deprecated and will be removed in a future version.\n",
      "Instructions for updating:\n",
      "non-resource variables are not supported in the long term\n"
     ]
    }
   ],
   "source": [
    "import sys\n",
    "sys.path.append('../../src')\n",
    "\n",
    "from nn.models import Models\n",
    "from bots import BotBid\n",
    "from util import hand_to_str\n",
    "from sample import Sample\n",
    "import conf\n",
    "import numpy as np\n",
    "\n",
    "np.set_printoptions(precision=2, suppress=True, linewidth=200)\n",
    "np.random.seed(42)\n"
   ]
  },
  {
   "cell_type": "code",
   "execution_count": 2,
   "id": "44786d5d",
   "metadata": {},
   "outputs": [
    {
     "name": "stdout",
     "output_type": "stream",
     "text": [
      "INFO:tensorflow:Restoring parameters from ..\\Models/NS1EW99-bidding-3961000\n",
      "INFO:tensorflow:Restoring parameters from ..\\Models/NS1EW99-binfo-1887000\n",
      "INFO:tensorflow:Restoring parameters from ..\\Models/lead_suit-154000\n",
      "INFO:tensorflow:Restoring parameters from ..\\Models/lead_nt-59000\n",
      "INFO:tensorflow:Restoring parameters from ..\\Models/single_dummy-1562000\n",
      "INFO:tensorflow:Restoring parameters from ..\\Models/lefty-1000000\n",
      "INFO:tensorflow:Restoring parameters from ..\\Models/dummy-920000\n",
      "INFO:tensorflow:Restoring parameters from ..\\Models/righty-1000000\n",
      "INFO:tensorflow:Restoring parameters from ..\\Models/decl-1000000\n"
     ]
    }
   ],
   "source": [
    "models = Models.from_conf(conf.load('../Conf/UCBC2024.conf'),'..')   # loading neural networks\n",
    "sampler = Sample.from_conf(conf.load('../Conf/UCBC2024.conf'), False)  # Load sampling strategies\n"
   ]
  },
  {
   "cell_type": "markdown",
   "id": "10d8f2fc",
   "metadata": {},
   "source": [
    "### Running through an example"
   ]
  },
  {
   "cell_type": "code",
   "execution_count": 3,
   "id": "19dbfeb7",
   "metadata": {},
   "outputs": [
    {
     "data": {
      "text/plain": [
       "[{'call': '1N', 'insta_score': 0.998}]"
      ]
     },
     "execution_count": 3,
     "metadata": {},
     "output_type": "execute_result"
    }
   ],
   "source": [
    "# East deals, EW vulnerable.\n",
    "vuln_ns, vuln_ew = False, False\n",
    "\n",
    "# you sit West and hold:\n",
    "hand = 'AQ8.KQ94.JT.KJ52'\n",
    "\n",
    "auction = [\"PAD_START\", \"PAD_START\", \"PAD_START\", \"PASS\"]\n",
    "bot_bid = BotBid([vuln_ns, vuln_ew], hand, models, sampler, 0, False)\n",
    "\n",
    "bid = bot_bid.bid(auction)\n",
    "bid.to_dict()['candidates']\n",
    "\n",
    "# what's your bid?"
   ]
  },
  {
   "cell_type": "code",
   "execution_count": 4,
   "id": "bfe98f56",
   "metadata": {},
   "outputs": [
    {
     "data": {
      "text/plain": [
       "[{'call': '4H', 'insta_score': 0.764, 'expected_score': 419, 'adjustment': 38},\n",
       " {'call': '3N', 'insta_score': 0.218, 'expected_score': 312, 'adjustment': 11}]"
      ]
     },
     "execution_count": 4,
     "metadata": {},
     "output_type": "execute_result"
    }
   ],
   "source": [
    "auction = [\"PAD_START\", \"PAD_START\", \"PAD_START\", \"PASS\", \"1N\", \"PASS\", \"3S\",\"PASS\"]\n",
    "bid = bot_bid.bid(auction)\n",
    "\n",
    "bid.to_dict()['candidates']"
   ]
  },
  {
   "cell_type": "markdown",
   "id": "ad120123",
   "metadata": {},
   "source": [
    "in the output above:\n",
    "- `insta_score` reflects what the neural network prefers to bid\n",
    "- `expected_score` is based on what you expect to score on difference samples (for example, 70% of the time you are making and 30% of the time you are going one off, then the expected score is 0.7 * 620 - 0.3 * 100)"
   ]
  },
  {
   "cell_type": "markdown",
   "id": "051ff121",
   "metadata": {},
   "source": [
    "### Samples consistent with the auction so far\n",
    "\n",
    "Above we said that we are computig expected scores on samples consistent with the auction so far.\n",
    "\n",
    "How do we get these samples?\n",
    "\n",
    "We get some samples in the response we get from the bot (i.e `bid.samples`)"
   ]
  },
  {
   "cell_type": "code",
   "execution_count": 5,
   "id": "55b647a5",
   "metadata": {},
   "outputs": [
    {
     "data": {
      "text/plain": [
       "['AQ8.KQ9x.JT.KJxx Kxxxx.Tx.KQ9x.xx J.AJxx.Axxxx.AQ8 T9xx.8xx.8x.T9xx 0.80515 \\n P-1N-P-3S-P-4H-P-4N-P-P-P (12.2)  \\n P-1N-P-3S-P-3N-P-4C-P-4H-P-6N-P-P-P (12.2) ',\n",
       " 'AQ8.KQ9x.JT.KJxx 9xxxx.T8xx.8x.QT K.AJxx.AQ9xx.98x JTxx.x.Kxxx.Axxx 0.30526 \\n P-1N-P-3S-P-4H-P-P-P (10.9)  \\n P-1N-P-3S-P-3N-P-P-P (10.0) ',\n",
       " 'AQ8.KQ9x.JT.KJxx K9xxxx.Jxx.xxx.x T.AT8x.K8x.AQTxx Jxx.xx.AQ9xx.98x 0.86629 \\n P-1N-P-3S-P-4H-P-P-P (11.3)  \\n P-1N-P-3S-P-3N-P-P-P (9.7) ',\n",
       " 'AQ8.KQ9x.JT.KJxx KTxxx.T8x.KQx.Q8 x.AJxx.A8xx.ATxx J9xx.xx.9xxx.9xx 0.98222 \\n P-1N-P-3S-P-4H-P-P-P (12.4)  \\n P-1N-P-3S-P-3N-P-P-P (11.8) ',\n",
       " 'AQ8.KQ9x.JT.KJxx J9xxxx.xx.KQ98.A .AT8x.Axx.T98xxx KTxx.Jxx.xxxx.Qx 0.34745 \\n P-1N-P-3S-P-4H-P-P-P (11.3)  \\n P-1N-P-3S-P-3N-P-P-P (9.1) ',\n",
       " 'AQ8.KQ9x.JT.KJxx KTxx.T8x.xxxx.xx x.Axxx.K9x.AT98x J9xxx.Jx.AQ8x.Qx 0.46020 \\n P-1N-P-3S-P-4H-P-P-P (11.4)  \\n P-1N-P-3S-P-3N-P-P-P (9.3) ',\n",
       " 'AQ8.KQ9x.JT.KJxx 9xxx.8x.KQxxx.xx K.ATxx.A9xx.T9xx JTxxx.Jxx.8x.AQ8 0.55030 \\n P-1N-P-3S-P-4H-P-P-P (11.2)  \\n P-1N-P-3S-P-3N-P-P-P (10.4) ',\n",
       " 'AQ8.KQ9x.JT.KJxx K9xx.xxx.KQxxx.Q .AT8x.A98xx.AT8x JTxxxx.Jx.x.9xxx 0.98913 \\n P-1N-P-3S-P-4H-P-P-P (12.4)  \\n P-1N-P-3S-P-3N-P-P-P (11.4) ',\n",
       " 'AQ8.KQ9x.JT.KJxx Txxxx.AJx.9x.ATx 9.T8xx.AKQxx.Q9x KJxx.xx.8xxx.8xx 0.92802 \\n P-1N-P-3S-P-4H-P-P-P (10.8)  \\n P-1N-P-3S-P-3N-P-P-P (9.2) ',\n",
       " 'AQ8.KQ9x.JT.KJxx KJxx.T8x.KQxx.8x T.AJxx.98xx.AT9x 9xxxx.xx.Axx.Qxx 0.94049 \\n P-1N-P-3S-P-4H-P-P-P (10.8)  \\n P-1N-P-3S-P-3N-P-P-P (8.7) ',\n",
       " 'AQ8.KQ9x.JT.KJxx JT9xx.A8x.K98xx. x.Txxx.AQx.AT8xx Kxxx.Jx.xxx.Q9xx 0.90858 \\n P-1N-P-3S-P-4H-P-P-P (11.2)  \\n P-1N-P-3S-P-3N-P-P-P (10.2) ',\n",
       " 'AQ8.KQ9x.JT.KJxx JTxxx.8x.Axxxx.x x.AJTx.KQ9x.AQ9x K9xx.xxx.8x.T8xx 0.73264 \\n P-1N-P-3S-P-4H-P-4N-P-P-P (12.0)  \\n P-1N-P-3S-P-3N-P-4N-P-P-P (12.0) ',\n",
       " 'AQ8.KQ9x.JT.KJxx JTxxx.AJ8.xx.Q9x .xxxx.AQ9xx.A8xx K9xxx.Tx.K8xx.Tx 0.96757 \\n P-1N-P-3S-P-4H-P-P-P (10.9)  \\n P-1N-P-3S-P-3N-P-P-P (8.6) ',\n",
       " 'AQ8.KQ9x.JT.KJxx JT9xxx.x.K9xx.Qx .Axxx.A8xxx.T98x Kxxx.JT8x.Qx.Axx 0.34356 \\n P-1N-P-3S-P-4H-P-P-P (10.1)  \\n P-1N-P-3S-P-3N-P-P-P (8.1) ',\n",
       " 'AQ8.KQ9x.JT.KJxx T9xx.8xx.Kx.98xx J.Axxx.A98xx.ATx Kxxxx.JT.Qxxx.Qx 0.62247 \\n P-1N-P-3S-P-4H-P-P-P (12.4)  \\n P-1N-P-3S-P-3N-P-P-P (12.0) ',\n",
       " 'AQ8.KQ9x.JT.KJxx KJT9x.Jxx.K8x.T8 x.ATxx.A9xx.Q9xx xxxx.8x.Qxxx.Axx 0.96803 \\n P-1N-P-3S-P-4H-P-P-P (11.0)  \\n P-1N-P-3S-P-3N-P-P-P (8.8) ',\n",
       " 'AQ8.KQ9x.JT.KJxx 9xxx.Ax.A9xxx.Qx x.Txxx.KQ8.A8xxx KJTxx.J8x.xxx.T9 0.88038 \\n P-1N-P-3S-P-4H-P-P-P (10.9)  \\n P-1N-P-3S-P-3N-P-P-P (8.8) ',\n",
       " 'AQ8.KQ9x.JT.KJxx JT9xxx.Axx.xx.8x K.JT8x.K9xx.AQTx xxx.xx.AQ8xx.9xx 0.61552 \\n P-1N-P-3S-P-4H-P-P-P (10.4)  \\n P-1N-P-3S-P-3N-P-P-P (9.6) ',\n",
       " 'AQ8.KQ9x.JT.KJxx KJT9xx.8xx.9xx.T .ATxx.A8xx.Q9xxx xxxx.Jx.KQxx.A8x 0.98122 \\n P-1N-P-3S-P-4H-P-P-P (11.1)  \\n P-1N-P-3S-P-3N-P-P-P (8.4) ',\n",
       " 'AQ8.KQ9x.JT.KJxx KJxxx.xx.9xxx.9x .AJTx.AQ8xx.AQT8 T9xxx.8xx.Kx.xxx 0.96068 \\n P-1N-P-3S-P-4H-P-4N-P-P-P (12.2)  \\n P-1N-P-3S-P-3N-P-4C-P-4H-P-5C-P-5S-P-6N-P-P-P (12.2) ',\n",
       " 'AQ8.KQ9x.JT.KJxx JTxxx.T8xx.8xx.x x.AJxx.KQ9x.AQ9x K9xx.x.Axxx.T8xx 0.76607 \\n P-1N-P-3S-P-4H-P-4N-P-P-P (11.6)  \\n P-1N-P-3S-P-3N-P-4N-P-P-P (11.6) ',\n",
       " 'AQ8.KQ9x.JT.KJxx Kxxx.AJx.Q8x.Qxx .Txxx.AKxxxx.A8x JT9xxx.8x.9x.T9x 0.90899 \\n P-1N-P-3S-P-4H-P-P-P (11.7)  \\n P-1N-P-3S-P-3N-P-P-P (9.4) ',\n",
       " 'AQ8.KQ9x.JT.KJxx KJTxxx.Ax.9xx.Tx 9.J8xx.Axx.A98xx xxx.Txx.KQ8xx.Qx 0.76108 \\n P-1N-P-3S-P-4H-P-P-P (10.9)  \\n P-1N-P-3S-P-3N-P-P-P (8.6) ',\n",
       " 'AQ8.KQ9x.JT.KJxx K9xx.J8xx.9x.Txx .ATxx.A8xxx.AQ9x JTxxxx.x.KQxx.8x 0.46414 \\n P-1N-P-3S-P-4H-P-P-P (12.1)  \\n P-1N-P-3S-P-3N-P-P-P (11.0) ',\n",
       " 'AQ8.KQ9x.JT.KJxx K9xx.Jxx.9xx.Axx x.ATxx.KQ8xx.9xx JTxxx.8x.Axx.QT8 0.85745 \\n P-1N-P-3S-P-4H-P-P-P (10.3)  \\n P-1N-P-3S-P-3N-P-P-P (8.1) ',\n",
       " 'AQ8.KQ9x.JT.KJxx Jxxxx.A8x.KQx.xx K.Txxx.Axxx.AT98 T9xx.Jx.98xx.Qxx 0.50732 \\n P-1N-P-3S-P-4H-P-P-P (11.0)  \\n P-1N-P-3S-P-3N-P-P-P (10.3) ',\n",
       " 'AQ8.KQ9x.JT.KJxx KJ9x.AJT.xxx.Txx T.8xxx.AQ9x.AQxx xxxxx.xx.K8xx.98 0.98006 \\n P-1N-P-3S-P-4H-P-P-P (10.8)  \\n P-1N-P-3S-P-3N-P-P-P (9.2) ',\n",
       " 'AQ8.KQ9x.JT.KJxx KJTxxx.Tx.8x.9xx 9.J8xx.AK9xx.ATx xxx.Axx.Qxxx.Q8x 0.94994 \\n P-1N-P-3S-P-4H-P-P-P (11.5)  \\n P-1N-P-3S-P-3N-P-P-P (9.8) ',\n",
       " 'AQ8.KQ9x.JT.KJxx KJxx.Txx.Q9xx.AQ T.AJxx.AK8xx.T8x 9xxxx.8x.xx.9xxx 0.94130 \\n P-1N-P-3S-P-4H-P-P-P (11.4)  \\n P-1N-P-3S-P-3N-P-P-P (10.3) ',\n",
       " 'AQ8.KQ9x.JT.KJxx Jxxx.Jxx.Axx.T9x x.8xxx.KQ9x.Axxx KT9xx.AT.8xxx.Q8 0.37011 \\n P-1N-P-3S-P-4H-P-P-P (10.6)  \\n P-1N-P-3S-P-3N-P-P-P (8.8) ',\n",
       " 'AQ8.KQ9x.JT.KJxx KJT9x.JT.Q9x.T9x x.A8xx.Axxx.AQ8x xxxx.xxx.K8xx.xx 0.98149 \\n P-1N-P-3S-P-4H-P-P-P (12.4)  \\n P-1N-P-3S-P-3N-P-P-P (11.7) ',\n",
       " 'AQ8.KQ9x.JT.KJxx K9xxxx.8.9xxx.Tx T.JTxx.KQ8x.AQ8x Jxx.Axxx.Axx.9xx 0.97439 \\n P-1N-P-3S-P-4H-P-P-P (10.7)  \\n P-1N-P-3S-P-3N-P-P-P (8.6) ',\n",
       " 'AQ8.KQ9x.JT.KJxx KTxxx.xx.A9xx.A9 x.AJ8x.Qxx.Q8xxx J9xx.Txx.K8xx.Tx 0.30624 \\n P-1N-P-3S-P-4H-P-P-P (9.8)  \\n P-1N-P-3S-P-3N-P-P-P (7.0) ',\n",
       " 'AQ8.KQ9x.JT.KJxx Jxxx.T8.xxxx.98x x.Jxxx.AKx.AQTxx KT9xx.Axx.Q98x.x 0.31268 \\n P-1N-P-3S-P-4H-P-P-P (11.5)  \\n P-1N-P-3S-P-3N-P-P-P (11.4) ',\n",
       " 'AQ8.KQ9x.JT.KJxx KJ9xxx.JT.KQ8xx. .A8xx.9xxx.A8xxx Txxx.xxx.Ax.QT9x 0.32138 \\n P-1N-P-3S-P-4H-P-P-P (10.0)  \\n P-1N-P-3S-P-3N-P-P-P (7.0) ',\n",
       " 'AQ8.KQ9x.JT.KJxx KJ9x.JTx.8xx.Q9x x.A8xx.K9xxx.ATx Txxxx.xx.AQx.8xx 0.94237 \\n P-1N-P-3S-P-4H-P-P-P (10.6)  \\n P-1N-P-3S-P-3N-P-P-P (9.0) ',\n",
       " 'AQ8.KQ9x.JT.KJxx 9xxxxx.Jx.AKQxx. .A8xx.9xx.AT9xxx KJTx.Txx.8xx.Q8x 0.35234 \\n P-1N-P-3S-P-4H-P-P-P (10.7)  \\n P-1N-P-3S-P-3N-P-P-P (8.1) ',\n",
       " 'AQ8.KQ9x.JT.KJxx Jxxx.Jx.Axxx.Txx K.ATxx.KQ9xx.Q98 T9xxx.8xx.8x.Axx 0.28508 \\n P-1N-P-3S-P-4H-P-P-P (11.1)  \\n P-1N-P-3S-P-3N-P-P-P (10.5) ',\n",
       " 'AQ8.KQ9x.JT.KJxx KTxxx.A8xx.9x.Tx .JTxx.AKQ8xx.Q8x J9xxx.x.xxx.A9xx 0.93006 \\n P-1N-P-3S-P-4H-P-P-P (10.8)  \\n P-1N-P-3S-P-3N-P-P-P (8.4) ',\n",
       " 'AQ8.KQ9x.JT.KJxx KJTx.T8.xxxxx.xx x.Axxx.AQ9.AQTxx 9xxxx.Jxx.K8x.98 0.44190 \\n P-1N-P-3S-P-4H-P-4N-P-P-P (12.3)  \\n P-1N-P-3S-P-3N-P-4C-P-4H-P-5C-P-5S-P-6N-P-P-P (12.3) ',\n",
       " 'AQ8.KQ9x.JT.KJxx Kxxx.8x.K8xx.A8x T.AJTx.Q9xx.QT9x J9xxx.xxx.Axx.xx 0.92938 \\n P-1N-P-3S-P-4H-P-P-P (9.9)  \\n P-1N-P-3S-P-3N-P-P-P (7.7) ',\n",
       " 'AQ8.KQ9x.JT.KJxx Txxxx.xx.xxx.AQT K.AJTx.A98xx.8xx J9xx.8xx.KQx.9xx 0.34398 \\n P-1N-P-3S-P-4H-P-P-P (10.6)  \\n P-1N-P-3S-P-3N-P-P-P (9.5) ',\n",
       " 'AQ8.KQ9x.JT.KJxx KJTx.8xx.Kxx.9xx .AJxx.A98xxx.Qxx 9xxxxx.Tx.Qx.AT8 0.91877 \\n P-1N-P-3S-P-4H-P-P-P (11.4)  \\n P-1N-P-3S-P-3N-P-P-P (8.4) ',\n",
       " 'AQ8.KQ9x.JT.KJxx Txxx.AJTx.A.8xxx K.8xxx.KQxxx.A9x J9xxx.x.98xxx.QT 0.26101 \\n P-1N-P-3S-P-4H-P-P-P (9.6)  \\n P-1N-P-3S-P-3N-P-P-P (9.6) ',\n",
       " 'AQ8.KQ9x.JT.KJxx Kxxx.Jxx.Kxxx.98 J.Txxx.AQx.AQxxx T9xxx.A8.98xx.Tx 0.86898 \\n P-1N-P-3S-P-4H-P-P-P (11.5)  \\n P-1N-P-3S-P-3N-P-P-P (11.1) ',\n",
       " 'AQ8.KQ9x.JT.KJxx JT9xxx.xx.9xx.xx .JT8x.AKQ8x.AQ8x Kxxx.Axx.xxx.T9x 0.95146 \\n P-1N-P-3S-P-4H-P-4N-P-P-P (11.7)  \\n P-1N-P-3S-P-3N-P-4C-P-4H-P-5C-P-5S-P-6N-P-P-P (11.7) ',\n",
       " 'AQ8.KQ9x.JT.KJxx KJ9x.JT8x.Qx.8xx x.Axxx.Axxx.A9xx Txxxx.x.K98xx.QT 0.98023 \\n P-1N-P-3S-P-4H-P-P-P (11.2)  \\n P-1N-P-3S-P-3N-P-P-P (10.4) ',\n",
       " 'AQ8.KQ9x.JT.KJxx T9xxx.Jx.Qxx.98x .8xxx.AK8x.AQTxx KJxxx.ATx.9xxx.x 0.36717 \\n P-1N-P-3S-P-4H-P-P-P (11.7)  \\n P-1N-P-3S-P-3N-P-P-P (11.2) ',\n",
       " 'AQ8.KQ9x.JT.KJxx Kxxxx.8xx.98x.T8 x.AJTx.Axx.AQxxx JT9x.xx.KQxxx.9x 0.72068 \\n P-1N-P-3S-P-4H-P-P-P (12.4)  \\n P-1N-P-3S-P-3N-P-P-P (11.9) ',\n",
       " 'AQ8.KQ9x.JT.KJxx KJT9x.Jxx.8x.98x x.AT8x.AKxxx.AQx xxxx.xx.Q9xx.Txx 0.50813 \\n P-1N-P-3S-P-4H-P-4N-P-P-P (12.2)  \\n P-1N-P-3S-P-3N-P-4C-P-4H-P-5C-P-5S-P-6N-P-P-P (12.2) ',\n",
       " 'AQ8.KQ9x.JT.KJxx T9xxx.T8x.Axx.Q8 x.Jxxx.KQ98x.A9x KJxx.Ax.xxx.Txxx 0.89996 \\n P-1N-P-3S-P-4H-P-P-P (10.9)  \\n P-1N-P-3S-P-3N-P-P-P (9.0) ',\n",
       " 'AQ8.KQ9x.JT.KJxx 9xxxx.ATx.8x.xxx x.Jxxx.AQ9xx.AT8 KJTx.8x.Kxxx.Q9x 0.94226 \\n P-1N-P-3S-P-4H-P-P-P (11.2)  \\n P-1N-P-3S-P-3N-P-P-P (9.5) ',\n",
       " 'AQ8.KQ9x.JT.KJxx KJ9xx.AT.Q8x.Txx x.Jxxx.A9xx.AQ8x Txxx.8xx.Kxxx.9x 0.96640 \\n P-1N-P-3S-P-4H-P-P-P (11.2)  \\n P-1N-P-3S-P-3N-P-P-P (9.3) ',\n",
       " 'AQ8.KQ9x.JT.KJxx 9xxxx.Axx.AKxx.x K.Txx.Q98x.AT8x JTx.J8x.xxx.Q9xx 0.49843 \\n P-1N-P-3S-P-4H-P-P-P (9.5)  \\n P-1N-P-3S-P-3N-P-P-P (9.4) ',\n",
       " 'AQ8.KQ9x.JT.KJxx Kxxx.8.Qxxx.A9xx 9.Txxx.AK98x.QTx JTxxx.AJxx.xx.8x 0.89560 \\n P-1N-P-3S-P-4H-P-P-P (9.5)  \\n P-1N-P-3S-P-3N-P-P-P (8.6) ',\n",
       " 'AQ8.KQ9x.JT.KJxx K9xxxx.xxx.Kx.xx T.AT8x.A8xxx.A98 Jxx.Jx.Q9xx.QTxx 0.95180 \\n P-1N-P-3S-P-4H-P-P-P (12.1)  \\n P-1N-P-3S-P-3N-P-P-P (11.1) ',\n",
       " 'AQ8.KQ9x.JT.KJxx KT9xxxx.J8x.xx.x .Axxx.Q98x.AT8xx Jxx.Tx.AKxxx.Q9x 0.25323 \\n P-1N-P-3S-P-4H-P-P-P (11.0)  \\n P-1N-P-3S-P-3N-P-P-P (6.4) ',\n",
       " 'AQ8.KQ9x.JT.KJxx KJTxxx.xx.Kxx.Tx .AJ8x.AQxxx.98xx 9xxx.Txx.98x.AQx 0.98842 \\n P-1N-P-3S-P-4H-P-P-P (11.7)  \\n P-1N-P-3S-P-3N-P-P-P (9.1) ',\n",
       " 'AQ8.KQ9x.JT.KJxx T9xxx.x.AK8x.Q9x x.AJxx.xxxxx.A8x KJxx.T8xx.Q9.Txx 0.87103 \\n P-1N-P-3S-P-4H-P-P-P (10.1)  \\n P-1N-P-3S-P-3N-P-P-P (8.6) ',\n",
       " 'AQ8.KQ9x.JT.KJxx Jxxxx.ATx.9xx.Qx K.8xxx.A8xx.AT9x T9xx.Jx.KQxx.8xx 0.51341 \\n P-1N-P-3S-P-4H-P-P-P (10.5)  \\n P-1N-P-3S-P-3N-P-P-P (9.5) ',\n",
       " 'AQ8.KQ9x.JT.KJxx J9xx.J8x.K98xx.x x.ATxx.AQxx.ATxx KTxxx.xx.xx.Q98x 0.97292 \\n P-1N-P-3S-P-4H-P-P-P (12.4)  \\n P-1N-P-3S-P-3N-P-P-P (12.3) ',\n",
       " 'AQ8.KQ9x.JT.KJxx KJTxxx.Jx.xxx.xx .ATxx.AKxx.QT8xx 9xxx.8xx.Q98x.A9 0.97939 \\n P-1N-P-3S-P-4H-P-P-P (12.3)  \\n P-1N-P-3S-P-3N-P-P-P (9.5) ',\n",
       " 'AQ8.KQ9x.JT.KJxx KT9xx.x.AQ9xx.8x x.AJT8.K8xx.A9xx Jxxx.xxxx.xx.QTx 0.96716 \\n P-1N-P-3S-P-4H-P-P-P (11.6)  \\n P-1N-P-3S-P-3N-P-P-P (9.9) ',\n",
       " 'AQ8.KQ9x.JT.KJxx KJxx.xxx.Axx.98x x.AT8x.K8xxx.AQx T9xxx.Jx.Q9x.Txx 0.95122 \\n P-1N-P-3S-P-4H-P-P-P (11.8)  \\n P-1N-P-3S-P-3N-P-P-P (10.2) ',\n",
       " 'AQ8.KQ9x.JT.KJxx KJxx.Tx.KQx.8xxx T.A8xx.A9xxx.AQT 9xxxx.Jxx.8xx.9x 0.95737 \\n P-1N-P-3S-P-4H-P-P-P (12.4)  \\n P-1N-P-3S-P-3N-P-P-P (12.2) ',\n",
       " 'AQ8.KQ9x.JT.KJxx KTxxx.xxx.xxx.Qx x.A8xx.KQ8x.AT9x J9xx.JT.A9xx.8xx 0.97690 \\n P-1N-P-3S-P-4H-P-P-P (11.8)  \\n P-1N-P-3S-P-3N-P-P-P (10.4) ',\n",
       " 'AQ8.KQ9x.JT.KJxx JTxxxx.T8.xxx.Ax K.AJxx.AQ9x.T8xx 9xx.xxx.K8xx.Q9x 0.54545 \\n P-1N-P-3S-P-4H-P-P-P (11.2)  \\n P-1N-P-3S-P-3N-P-P-P (10.5) ',\n",
       " 'AQ8.KQ9x.JT.KJxx 9xxxx.JTx.9xx.AT .A8xx.Axxx.Q98xx KJTxx.xx.KQ8x.xx 0.31802 \\n P-1N-P-3S-P-4H-P-P-P (11.2)  \\n P-1N-P-3S-P-3N-P-P-P (8.9) ',\n",
       " 'AQ8.KQ9x.JT.KJxx KJxxxx.xx.9x.Q9x x.JTxx.AKQxx.Axx T9x.A8x.8xxx.T8x 0.91817 \\n P-1N-P-3S-P-4H-P-P-P (11.7)  \\n P-1N-P-3S-P-3N-P-P-P (10.3) ',\n",
       " 'AQ8.KQ9x.JT.KJxx KJxxxx.Ax.xx.Qxx x.JT8x.KQxxx.AT9 T9x.xxx.A98x.8xx 0.29101 \\n P-1N-P-3S-P-4H-P-P-P (10.6)  \\n P-1N-P-3S-P-3N-P-P-P (8.2) ',\n",
       " 'AQ8.KQ9x.JT.KJxx Txxx.Txx.AK98.8x x.AJ8x.Qxxx.AQxx KJ9xx.xx.xxx.T9x 0.98090 \\n P-1N-P-3S-P-4H-P-P-P (11.3)  \\n P-1N-P-3S-P-3N-P-P-P (10.2) ',\n",
       " 'AQ8.KQ9x.JT.KJxx Txxx.x.Axxx.AT9x .AT8x.KQ9xx.Q8xx KJ9xxx.Jxxx.8x.x 0.42803 \\n P-1N-P-3S-P-4H-P-P-P (10.5)  \\n P-1N-P-3S-P-3N-P-P-P (8.7) ',\n",
       " 'AQ8.KQ9x.JT.KJxx xxxx.AT8.Kx.T8xx x.Jxxx.A8xx.AQxx KJT9x.xx.Q9xxx.9 0.93708 \\n P-1N-P-3S-P-4H-P-P-P (10.9)  \\n P-1N-P-3S-P-3N-P-P-P (9.4) ',\n",
       " 'AQ8.KQ9x.JT.KJxx K9xxxx.x.Qx.T9xx x.ATxx.A8xxx.Q8x JTx.J8xx.K9xx.Ax 0.93075 \\n P-1N-P-3S-P-4H-P-P-P (10.2)  \\n P-1N-P-3S-P-3N-P-P-P (8.6) ',\n",
       " 'AQ8.KQ9x.JT.KJxx 9xxxx.AJT.Q8xx.x K.8xxx.Kxxx.A98x JTxx.xx.A9x.QTxx 0.41433 \\n P-1N-P-3S-P-4H-P-P-P (9.4)  \\n P-1N-P-3S-P-3N-P-P-P (8.6) ',\n",
       " 'AQ8.KQ9x.JT.KJxx KTxx.J8x.Kxx.T9x 9.Axxx.A8xx.Qxxx Jxxxx.Tx.Q9xx.A8 0.94305 \\n P-1N-P-3S-P-4H-P-P-P (10.9)  \\n P-1N-P-3S-P-3N-P-P-P (8.6) ',\n",
       " 'AQ8.KQ9x.JT.KJxx T9xx.8xxx.xx.AQx K.ATxx.A8xx.T9xx Jxxxx.J.KQ9xx.8x 0.49421 \\n P-1N-P-3S-P-4H-P-P-P (10.0)  \\n P-1N-P-3S-P-3N-P-P-P (9.4) ',\n",
       " 'AQ8.KQ9x.JT.KJxx Jxxxx.Tx.Axx.T9x 9.AJ8x.8xxx.AQ8x KTxx.xxx.KQ9x.xx 0.97635 \\n P-1N-P-3S-P-4H-P-P-P (11.1)  \\n P-1N-P-3S-P-3N-P-P-P (9.4) ',\n",
       " 'AQ8.KQ9x.JT.KJxx Kxxxx.xx.AQxxx.T 9.AJ8x.K8x.Q8xxx JTxx.Txx.9xx.A9x 0.89294 \\n P-1N-P-3S-P-4H-P-P-P (10.3)  \\n P-1N-P-3S-P-3N-P-P-P (8.3) ',\n",
       " 'AQ8.KQ9x.JT.KJxx Jxxxx.Axx.Q9x.Qx K.JT8x.Kxxx.A9xx T9xx.xx.A8xx.T8x 0.40348 \\n P-1N-P-3S-P-4H-P-P-P (10.6)  \\n P-1N-P-3S-P-3N-P-P-P (9.6) ',\n",
       " 'AQ8.KQ9x.JT.KJxx 9xxxx.8x.xxx.Q9x x.Axxx.AQ8xx.ATx KJTx.JTx.K9x.8xx 0.95015 \\n P-1N-P-3S-P-4H-P-P-P (12.4)  \\n P-1N-P-3S-P-3N-P-P-P (11.5) ',\n",
       " 'AQ8.KQ9x.JT.KJxx JT9x.AJxx.Kxx.8x .8xxx.A8xx.AT9xx Kxxxxx.T.Q9xx.Qx 0.32174 \\n P-1N-P-3S-P-4H-P-P-P (10.4)  \\n P-1N-P-3S-P-3N-P-P-P (8.7) ',\n",
       " 'AQ8.KQ9x.JT.KJxx KJ9xx.JTx.9.xxxx .Axxx.KQxxx.AT98 Txxxx.8x.A8xxx.Q 0.98627 \\n P-1N-P-3S-P-4H-P-P-P (11.6)  \\n P-1N-P-3S-P-3N-P-P-P (9.5) ',\n",
       " 'AQ8.KQ9x.JT.KJxx 9xxx.AT.8xxx.9xx T.Jxxx.KQ9x.AT8x KJxxx.8xx.Axx.Qx 0.31692 \\n P-1N-P-3S-P-4H-P-P-P (11.0)  \\n P-1N-P-3S-P-3N-P-P-P (9.4) ',\n",
       " 'AQ8.KQ9x.JT.KJxx KJTxx.J.Axxx.Q9x x.Txxx.KQxx.ATxx 9xxx.A8xx.98x.8x 0.89123 \\n P-1N-P-3S-P-4H-P-P-P (10.3)  \\n P-1N-P-3S-P-3N-P-P-P (8.5) ',\n",
       " 'AQ8.KQ9x.JT.KJxx Txxxx.8x.xxx.ATx 9.Txxx.AKQ9.Q8xx KJxx.AJx.8xxx.9x 0.97043 \\n P-1N-P-3S-P-4H-P-P-P (10.8)  \\n P-1N-P-3S-P-3N-P-P-P (9.1) ',\n",
       " 'AQ8.KQ9x.JT.KJxx Txxx.8xx.A98.Q9x 9.AJTx.KQxxx.A8x KJxxx.xx.xxx.Txx 0.92624 \\n P-1N-P-3S-P-4H-P-P-P (11.9)  \\n P-1N-P-3S-P-3N-P-P-P (11.1) ',\n",
       " 'AQ8.KQ9x.JT.KJxx K9xxxx.Tx.8xx.xx T.AJ8x.Axx.AQT9x Jxx.xxx.KQ9xx.8x 0.77503 \\n P-1N-P-3S-P-4H-P-P-P (12.4)  \\n P-1N-P-3S-P-3N-P-P-P (12.2) ',\n",
       " 'AQ8.KQ9x.JT.KJxx Jxxxx.xxx.K9x.A9 x.AJTx.Q8xxx.Q8x KT9x.8x.Axx.Txxx 0.83005 \\n P-1N-P-3S-P-4H-P-P-P (9.9)  \\n P-1N-P-3S-P-3N-P-P-P (8.3) ',\n",
       " 'AQ8.KQ9x.JT.KJxx KJ9xx.J.KQxxx.9x x.ATxx.A8x.AQTxx Txxx.8xxx.9xx.8x 0.81130 \\n P-1N-P-3S-P-4H-P-P-P (12.4)  \\n P-1N-P-3S-P-3N-P-P-P (12.3) ',\n",
       " 'AQ8.KQ9x.JT.KJxx T9xxx.Jxx.Axx.A8 .Axxx.KQ98x.Q9xx KJxxx.T8.xxx.Txx 0.98877 \\n P-1N-P-3S-P-4H-P-P-P (11.2)  \\n P-1N-P-3S-P-3N-P-P-P (8.8) ',\n",
       " 'AQ8.KQ9x.JT.KJxx KJxx.Txxx.98x.AQ x.AJxx.AKxxx.9xx T9xxx.8.Qxx.T8xx 0.92950 \\n P-1N-P-3S-P-4H-P-P-P (11.2)  \\n P-1N-P-3S-P-3N-P-P-P (9.4) ',\n",
       " 'AQ8.KQ9x.JT.KJxx JTxx.J8x.Kxxx.Ax .ATxx.A9x.QT98xx K9xxxx.xx.Q8xx.x 0.58865 \\n P-1N-P-3S-P-4H-P-P-P (11.3)  \\n P-1N-P-3S-P-3N-P-P-P (9.5) ',\n",
       " 'AQ8.KQ9x.JT.KJxx Jxxxx.xxx.AQ9x.9 x.ATxx.8xx.AQT8x KT9x.J8.Kxxx.xxx 0.91674 \\n P-1N-P-3S-P-4H-P-P-P (11.1)  \\n P-1N-P-3S-P-3N-P-P-P (9.2) ',\n",
       " 'AQ8.KQ9x.JT.KJxx JT9xx.Tx.Q9xx.A8 x.AJ8x.K8x.QT9xx Kxxx.xxx.Axxx.xx 0.87935 \\n P-1N-P-3S-P-4H-P-P-P (11.0)  \\n P-1N-P-3S-P-3N-P-P-P (9.1) ',\n",
       " 'AQ8.KQ9x.JT.KJxx KTxx.Axx.9xxxx.Q .JT8x.KQx.AT8xxx J9xxxx.xx.A8x.9x 0.77474 \\n P-1N-P-3S-P-4H-P-P-P (11.2)  \\n P-1N-P-3S-P-3N-P-P-P (8.0) ',\n",
       " 'AQ8.KQ9x.JT.KJxx KTxxx.Txx.Q8xx.9 x.Axxx.K9xx.AQTx J9xx.J8.Axx.8xxx 0.98156 \\n P-1N-P-3S-P-4H-P-P-P (11.5)  \\n P-1N-P-3S-P-3N-P-P-P (10.5) ',\n",
       " 'AQ8.KQ9x.JT.KJxx K9xxxx.8x.9xx.Tx T.ATxx.Kxxx.AQxx Jxx.Jxx.AQ8x.98x 0.97809 \\n P-1N-P-3S-P-4H-P-P-P (11.4)  \\n P-1N-P-3S-P-3N-P-P-P (9.8) ',\n",
       " 'AQ8.KQ9x.JT.KJxx KTxxxx.xx.8x.T8x .AJTx.AQxxx.AQ9x J9xx.8xx.K9xx.xx 0.96257 \\n P-1N-P-3S-P-4H-P-4N-P-P-P (12.0)  \\n P-1N-P-3S-P-3N-P-4C-P-4H-P-5C-P-5S-P-6N-P-P-P (12.0) ',\n",
       " 'AQ8.KQ9x.JT.KJxx KT9xx.Jxx.Ax.Q9x x.AT8x.K98x.A8xx Jxxx.xx.Qxxxx.Tx 0.97407 \\n P-1N-P-3S-P-4H-P-P-P (11.3)  \\n P-1N-P-3S-P-3N-P-P-P (9.5) ',\n",
       " 'AQ8.KQ9x.JT.KJxx J9xx.Jxx.A8xx.Qx x.Axxx.KQx.AT98x KTxxx.T8.9xxx.xx 0.81584 \\n P-1N-P-3S-P-4H-P-P-P (11.9)  \\n P-1N-P-3S-P-3N-P-P-P (11.7) ',\n",
       " 'AQ8.KQ9x.JT.KJxx Jxxx.Ax.A9xx.A9x K.Jxxx.KQ8x.Qxxx T9xxx.T8x.xxx.T8 0.43337 \\n P-1N-P-3S-P-4H-P-P-P (9.8)  \\n P-1N-P-3S-P-3N-P-P-P (9.4) ',\n",
       " 'AQ8.KQ9x.JT.KJxx Kxxxx.Jx.Q8xx.8x .AT8x.AKxxx.QT9x JT9xx.xxx.9x.Axx 0.98742 \\n P-1N-P-3S-P-4H-P-P-P (12.3)  \\n P-1N-P-3S-P-3N-P-P-P (9.6) ',\n",
       " 'AQ8.KQ9x.JT.KJxx Txxx.xxx.xx.A98x J.JTxx.AKQ8x.Txx K9xxx.A8.9xxx.Qx 0.37563 \\n P-1N-P-3S-P-4H-P-P-P (10.9)  \\n P-1N-P-3S-P-3N-P-P-P (9.6) ',\n",
       " 'AQ8.KQ9x.JT.KJxx T9xx.Txx.Axxx.Ax x.AJ8x.Qxx.QT9xx KJxxx.xx.K98x.8x 0.46632 \\n P-1N-P-3S-P-4H-P-P-P (10.3)  \\n P-1N-P-3S-P-3N-P-P-P (8.2) ',\n",
       " 'AQ8.KQ9x.JT.KJxx 9xxxx.AJ.K98.T8x K.8xxx.xxxx.AQxx JTxx.Txx.AQxx.9x 0.25815 \\n P-1N-P-3S-P-4H-P-P-P (9.3)  \\n P-1N-P-3S-P-3N-P-P-P (7.5) ',\n",
       " 'AQ8.KQ9x.JT.KJxx KJ9xxx.J8x.8x.A9 .ATxx.AKQxx.T8xx Txxx.xx.9xxx.Qxx 0.95956 \\n P-1N-P-3S-P-4H-P-P-P (12.0)  \\n P-1N-P-3S-P-3N-P-P-P (9.4) ',\n",
       " 'AQ8.KQ9x.JT.KJxx KT9x.Jxx.Q8x.8xx x.A8xx.AKxx.QT9x Jxxxx.Tx.9xxx.Ax 0.97694 \\n P-1N-P-3S-P-4H-P-P-P (11.7)  \\n P-1N-P-3S-P-3N-P-P-P (10.6) ',\n",
       " 'AQ8.KQ9x.JT.KJxx KJxxx.Jxx.8xx.Q9 x.A8xx.KQ9xx.xxx T9xx.Tx.Axx.AT8x 0.87154 \\n P-1N-P-3S-P-4H-P-P-P (10.1)  \\n P-1N-P-3S-P-3N-P-P-P (8.0) ',\n",
       " 'AQ8.KQ9x.JT.KJxx JT9xxx.x.xxx.Qxx .xxxx.AKQ9x.AT9x Kxxx.AJT8.8xx.8x 0.98550 \\n P-1N-P-3S-P-4H-P-P-P (11.5)  \\n P-1N-P-3S-P-3N-P-P-P (10.8) ',\n",
       " 'AQ8.KQ9x.JT.KJxx Kxxx.Txx.Kxx.Axx x.AJ8x.Qxxx.QT98 JT9xx.xx.A98x.xx 0.93654 \\n P-1N-P-3S-P-4H-P-P-P (9.8)  \\n P-1N-P-3S-P-3N-P-P-P (7.2) ',\n",
       " 'AQ8.KQ9x.JT.KJxx T9xxxx.A8x.xx.9x x.Jxxx.KQ9xx.A8x KJx.Tx.A8xx.QTxx 0.89435 \\n P-1N-P-3S-P-4H-P-P-P (10.6)  \\n P-1N-P-3S-P-3N-P-P-P (8.6) ',\n",
       " 'AQ8.KQ9x.JT.KJxx Kxxx.Tx.Qxx.Q9xx J.Axxx.K98x.AT8x T9xxx.J8x.Axxx.x 0.97871 \\n P-1N-P-3S-P-4H-P-P-P (11.2)  \\n P-1N-P-3S-P-3N-P-P-P (10.4) ',\n",
       " 'AQ8.KQ9x.JT.KJxx Txxx.Ax.Kxxx.Q9x K.8xxx.A9xx.A8xx J9xxx.JTx.Q8x.Tx 0.50421 \\n P-1N-P-3S-P-4H-P-P-P (10.7)  \\n P-1N-P-3S-P-3N-P-P-P (9.6) ',\n",
       " 'AQ8.KQ9x.JT.KJxx T9xxx.x.A98.AQT8 J.AJTx.Kxxxx.9xx Kxxx.8xxx.Qxx.xx 0.74466 \\n P-1N-P-3S-P-4H-P-P-P (9.7)  \\n P-1N-P-3S-P-3N-P-P-P (8.5) ',\n",
       " 'AQ8.KQ9x.JT.KJxx KTxxxx.xx.Qxx.Q9 .ATxx.K8xx.AT8xx J9xx.J8x.A9xx.xx 0.97969 \\n P-1N-P-3S-P-4H-P-P-P (12.3)  \\n P-1N-P-3S-P-3N-P-P-P (9.5) ',\n",
       " 'AQ8.KQ9x.JT.KJxx KJTxxx.Jx.Kxx.Tx 9.A8xx.Q8x.AQ9xx xxx.Txx.A9xxx.8x 0.90159 \\n P-1N-P-3S-P-4H-P-P-P (11.2)  \\n P-1N-P-3S-P-3N-P-P-P (9.2) ',\n",
       " 'AQ8.KQ9x.JT.KJxx KT9xx.Axx.98x.xx x.Jxxx.AQxx.QT8x Jxxx.T8.Kxxx.A9x 0.86018 \\n P-1N-P-3S-P-4H-P-P-P (9.8)  \\n P-1N-P-3S-P-3N-P-P-P (7.5) ',\n",
       " 'AQ8.KQ9x.JT.KJxx Txxx.AT.xxxx.Qxx 9.J8xx.AKQ9.ATxx KJxxx.xxx.8xx.98 0.97791 \\n P-1N-P-3S-P-4H-P-P-P (11.9)  \\n P-1N-P-3S-P-3N-P-P-P (11.3) ',\n",
       " 'AQ8.KQ9x.JT.KJxx JTxxx.8x.A8xx.T8 K.ATxx.K9xx.Axxx 9xxx.Jxx.Qxx.Q9x 0.64956 \\n P-1N-P-3S-P-4H-P-P-P (12.1)  \\n P-1N-P-3S-P-3N-P-P-P (11.4) ',\n",
       " 'AQ8.KQ9x.JT.KJxx KT9xxx.Jxx.xx.T9 .A8xx.AQ9xx.xxxx Jxxx.Tx.K8xx.AQ8 0.98813 \\n P-1N-P-3S-P-4H-P-P-P (11.0)  \\n P-1N-P-3S-P-3N-P-P-P (8.0) ',\n",
       " 'AQ8.KQ9x.JT.KJxx KJTx.JTxx.98xx.8 9.A8xx.AQxx.AQTx xxxxx.x.Kxx.9xxx 0.80467 \\n P-1N-P-3S-P-4H-P-4N-P-P-P (12.1)  \\n P-1N-P-3S-P-3N-P-4C-P-4H-P-5C-P-5S-P-6N-P-P-P (12.1) ',\n",
       " 'AQ8.KQ9x.JT.KJxx Txxxxx.xxx.K.Txx 9.AJxx.Q8xxx.AQ9 KJx.T8.A9xxx.8xx 0.95476 \\n P-1N-P-3S-P-4H-P-P-P (11.2)  \\n P-1N-P-3S-P-3N-P-P-P (10.3) ',\n",
       " 'AQ8.KQ9x.JT.KJxx K9xxx.Jx.Axxx.8x x.ATxx.K9xx.QT9x JTxx.8xx.Q8x.Axx 0.94512 \\n P-1N-P-3S-P-4H-P-P-P (10.3)  \\n P-1N-P-3S-P-3N-P-P-P (8.3) ',\n",
       " 'AQ8.KQ9x.JT.KJxx KJTx.8xx.A8xx.Tx 9.AJxx.Q9xx.A9xx xxxxx.Tx.Kxx.Q8x 0.97309 \\n P-1N-P-3S-P-4H-P-P-P (11.1)  \\n P-1N-P-3S-P-3N-P-P-P (9.0) ',\n",
       " 'AQ8.KQ9x.JT.KJxx Jxxxx.xx.Kxx.Q8x x.AJTx.Qxxx.A9xx KT9x.8xx.A98x.Tx 0.96471 \\n P-1N-P-3S-P-4H-P-P-P (11.2)  \\n P-1N-P-3S-P-3N-P-P-P (9.3) ',\n",
       " 'AQ8.KQ9x.JT.KJxx KTxxx.Jxx.AQ8x.x J.AT8x.9xx.AQT9x 9xxx.xx.Kxxx.8xx 0.87826 \\n P-1N-P-3S-P-4H-P-P-P (10.5)  \\n P-1N-P-3S-P-3N-P-P-P (8.8) ',\n",
       " 'AQ8.KQ9x.JT.KJxx J9xxxx.xxx.Q8xx. .AJxx.K9xx.QT98x KTxx.T8.Axx.Axxx 0.25313 \\n P-1N-P-3S-P-4H-P-P-P (10.6)  \\n P-1N-P-3S-P-3N-P-P-P (8.9) ']"
      ]
     },
     "execution_count": 5,
     "metadata": {},
     "output_type": "execute_result"
    }
   ],
   "source": [
    "bid.samples"
   ]
  },
  {
   "cell_type": "markdown",
   "id": "7d0dd8f5",
   "metadata": {},
   "source": [
    "each row is one sample. the hands are in the order: N E S W\n",
    "\n",
    "(West always has the same cards because it's your hand and it's known to you)"
   ]
  },
  {
   "cell_type": "code",
   "execution_count": 6,
   "id": "7101e514",
   "metadata": {},
   "outputs": [
    {
     "name": "stdout",
     "output_type": "stream",
     "text": [
      "AQ8.KQ9x.JT.KJxx Txxx.xx.Q98x.8xx K.T8xx.Axxx.A9xx J9xxx.AJx.Kxx.QT\n",
      "AQ8.KQ9x.JT.KJxx KJT9x.xx.xx.AQxx x.Txxx.AKQx.T98x xxxx.AJ8.98xxx.x\n",
      "AQ8.KQ9x.JT.KJxx KTxxx.xxx.98xx.9 .T8xx.KQxx.AQxxx J9xxx.AJ.Axx.T8x\n",
      "AQ8.KQ9x.JT.KJxx KJ9xx.JTx.8xx.Ax x.A8xx.Axxx.Q8xx Txxx.xx.KQ9x.T9x\n",
      "AQ8.KQ9x.JT.KJxx KJTxx.J8xx.Kx.9x .ATxx.A9xx.AQT8x 9xxxx.x.Q8xxx.xx\n",
      "AQ8.KQ9x.JT.KJxx Jxxxx.8xx.Kx.Q8x .Txxx.AQ8xxx.ATx KT9xx.AJ.9xx.9xx\n",
      "AQ8.KQ9x.JT.KJxx KJ9x.AT8x.Q8.T9x .Jxxx.AKxxx.AQ8x Txxxxx.x.9xxx.xx\n",
      "AQ8.KQ9x.JT.KJxx T9xxxx.Ax.8xx.8x x.8xxx.AKQxx.AQx KJx.JTx.9xx.T9xx\n",
      "AQ8.KQ9x.JT.KJxx J9xx.A8xx.xxx.Qx K.Jxxx.AQ9x.AT8x Txxxx.T.K8xx.9xx\n",
      "AQ8.KQ9x.JT.KJxx Jxxx.T.Qxxx.T98x x.J8xx.AK9x.Axxx KT9xx.Axxx.8xx.Q\n",
      "AQ8.KQ9x.JT.KJxx KJxxx.8x.Q8x.A8x x.Txxx.AKxx.Q9xx T9xx.AJx.9xxx.Tx\n",
      "AQ8.KQ9x.JT.KJxx J9xxx.T8x.AKx.Tx K.Axxx.Q98xx.A9x Txxx.Jx.xxx.Q8xx\n",
      "AQ8.KQ9x.JT.KJxx K9xxxx.ATx.9xx.x x.J8xx.AKx.AT9xx JTx.xx.Q8xxx.Q8x\n",
      "AQ8.KQ9x.JT.KJxx KJxxxx.Jxx.K9x.x .8xxx.A8xx.A98xx T9xx.AT.Qxxx.QTx\n",
      "AQ8.KQ9x.JT.KJxx 9xxx.T8xx.8x.Q8x T.AJxx.KQ9xx.Axx KJxxx.x.Axxx.T9x\n",
      "AQ8.KQ9x.JT.KJxx Kxxxx.JTxx.AQx.Q J.A8xx.Kxxx.AT8x T9xx.x.98xx.9xxx\n",
      "AQ8.KQ9x.JT.KJxx Kxxxx.ATx.8xx.Tx T.Jxxx.KQxx.AQ9x J9xx.8x.A9xx.8xx\n",
      "AQ8.KQ9x.JT.KJxx KTxxx.Txxx.Qxx.x J.A8xx.8xx.AT8xx 9xxx.J.AK9xx.Q9x\n",
      "AQ8.KQ9x.JT.KJxx Kxxx.JTx.A9xx.9x x.A8xx.Q8x.ATxxx JT9xx.xx.Kxxx.Q8\n",
      "AQ8.KQ9x.JT.KJxx JTxxx.AJ.9xxx.9x .T8xx.A8xx.AT8xx K9xxx.xxx.KQx.Qx\n",
      "AQ8.KQ9x.JT.KJxx KT9xx.A8.xxx.xxx x.xxxx.AQ98x.AQT Jxxx.JTx.Kxx.98x\n",
      "AQ8.KQ9x.JT.KJxx Txxxx.ATx.KQ8x.T 9.J8xx.Axx.A9xxx KJxx.xx.9xxx.Q8x\n",
      "AQ8.KQ9x.JT.KJxx 9xxx.xxx.Axx.Txx J.AJTx.98x.AQ98x KTxxx.8x.KQxxx.x\n",
      "AQ8.KQ9x.JT.KJxx K9xxxx.xx.xxx.98 .AJ8x.KQ9x.ATxxx JTxx.Txx.A8xx.Qx\n",
      "AQ8.KQ9x.JT.KJxx J9xxx.Jx.98x.Qxx x.A8xx.AQx.AT8xx KTxx.Txx.Kxxxx.9\n",
      "AQ8.KQ9x.JT.KJxx T9xx.Txx.x.T8xxx x.AJxx.AKxxx.Q9x KJxxx.8x.Q98xx.A\n",
      "AQ8.KQ9x.JT.KJxx KJxx.Jxx.Qxxx.9x x.A8xx.AK9x.8xxx T9xxx.Tx.8xx.AQT\n",
      "AQ8.KQ9x.JT.KJxx K9xxx.8x.Kxx.8xx .AJxx.98xx.AQT9x JTxxx.Txx.AQxx.x\n",
      "AQ8.KQ9x.JT.KJxx K9xxx.8x.AQ98.Q8 .Axxx.Kxx.AT9xxx JTxxx.JTx.xxxx.x\n",
      "AQ8.KQ9x.JT.KJxx T9xxx.Jx.xxx.A98 J.ATxx.AKQ9.QTxx Kxxx.8xx.8xxx.xx\n",
      "AQ8.KQ9x.JT.KJxx J9xxx.A8x.K9xx.x K.JTxx.AQ8x.AT8x Txxx.xx.xxx.Q9xx\n",
      "AQ8.KQ9x.JT.KJxx KJ9xxx..xxxx.8xx .ATxx.Q8xx.AQT9x Txxx.J8xxx.AK9.x\n",
      "AQ8.KQ9x.JT.KJxx KTxxx.Axx.8x.ATx .8xxx.AKxxx.Q8xx J9xxx.JT.Q9xx.9x\n",
      "AQ8.KQ9x.JT.KJxx KJxxx.Tx.K9xxx.x x.AJ8x.Q8xx.AQ9x T9xx.xxx.Ax.T8xx\n",
      "AQ8.KQ9x.JT.KJxx T9xxx.8x.KQ9x.xx .Axxx.Axxx.AQT8x KJxxx.JTx.8xx.9x\n",
      "AQ8.KQ9x.JT.KJxx 9xxxxx.J.AK9.T8x K.A8xx.xxxx.Q9xx JTx.Txxx.Q8xx.Ax\n",
      "AQ8.KQ9x.JT.KJxx KJxxx.xx.A8xxx.x x.A8xx.KQ9.AQT9x T9xx.JTx.xxx.8xx\n",
      "AQ8.KQ9x.JT.KJxx Jxxxxx.8.Axxx.Tx .Txxx.KQ8.AQ98xx KT9x.AJxx.9xxx.x\n",
      "AQ8.KQ9x.JT.KJxx 9xxxx.8xx.Axx.xx x.AJxx.9xxx.A98x KJTx.Tx.KQ8x.QTx\n",
      "AQ8.KQ9x.JT.KJxx KT9xxx.xxx.Kxx.x .AJTx.Q8xx.AQ8xx Jxxx.8x.A9xx.T9x\n",
      "AQ8.KQ9x.JT.KJxx Kxxxxx.x.xx.T8xx .xxxx.AK9xxx.AQx JT9x.AJT8.Q8x.9x\n",
      "AQ8.KQ9x.JT.KJxx J9xx.8xx.A9x.Q9x x.ATxx.Q8xxx.A8x KTxxx.Jx.Kxx.Txx\n",
      "AQ8.KQ9x.JT.KJxx Jxxxxx.Ax.K9xx.x T.Jxxx.A8x.AQT8x K9x.T8x.Qxxx.9xx\n",
      "AQ8.KQ9x.JT.KJxx KJ9xx.xx.xxx.T8x x.JTxx.AKQ98.Axx Txxx.A8x.xxx.Q9x\n",
      "AQ8.KQ9x.JT.KJxx KJTxx.8x.8xxx.T8 .JTxx.AKx.AQ9xxx 9xxxx.Axx.Q9xx.x\n",
      "AQ8.KQ9x.JT.KJxx KJTxxx.Jxx.K9x.x .T8xx.A8xxx.AQTx 9xxx.Ax.Qxx.98xx\n",
      "AQ8.KQ9x.JT.KJxx KJ9xx.xx.8xxx.A8 x.A8xx.AQ9x.Q9xx Txxx.JTx.Kxx.Txx\n",
      "AQ8.KQ9x.JT.KJxx JTxxx.Tx.A9x.xxx K.8xxx.Q8xxx.AQT 9xxx.AJx.Kxx.98x\n",
      "AQ8.KQ9x.JT.KJxx K9xxxx.Txx.A8x.x .AJxx.Kxxx.QT98x JTxx.8x.Q9xx.Axx\n",
      "AQ8.KQ9x.JT.KJxx K9xx.8.98xxx.Axx x.AJxx.Axxx.T98x JTxxx.Txxx.KQ.Qx\n",
      "AQ8.KQ9x.JT.KJxx K9xxx.xxx.AQ9x.T .A8xx.8xxxx.A8xx JTxxx.JT.Kx.Q9xx\n",
      "AQ8.KQ9x.JT.KJxx xxxx.8xxx.Kxxx.T J.AJTx.Axxx.Q8xx KT9xx.x.Q98.A9xx\n",
      "AQ8.KQ9x.JT.KJxx KTxxx.Jxx.Q9xx.x 9.ATxx.Kxxx.Q98x Jxxx.8x.A8x.ATxx\n",
      "AQ8.KQ9x.JT.KJxx KT9xxx.T.K8xx.Tx J.J8xx.AQxxx.Axx xxx.Axxx.9x.Q98x\n",
      "AQ8.KQ9x.JT.KJxx J9xxx.Jx.9xx.A8x .AT8x.AKQxx.Q9xx KTxxx.xxx.8xx.Tx\n",
      "AQ8.KQ9x.JT.KJxx KT9xx.Tx.A9xx.Qx .AJxx.KQ8xx.AT98 Jxxxx.8xx.xx.xxx\n",
      "AQ8.KQ9x.JT.KJxx KJxxx.xx.AQ9xx.x x.AJTx.8xx.AT9xx T9xx.8xx.Kxx.Q8x\n",
      "AQ8.KQ9x.JT.KJxx K9xxx.Axx.9x.9xx x.JTxx.AKxxx.QTx JTxx.8x.Q8xx.A8x\n",
      "AQ8.KQ9x.JT.KJxx 9xxx.ATx.Kxxx.8x T.J8xx.AQ8x.AQTx KJxxx.xx.9xx.9xx\n",
      "AQ8.KQ9x.JT.KJxx xxxxx.Ax.A9xx.8x .J8xx.Q8xxx.AQ9x KJT9x.Txx.Kx.Txx\n",
      "AQ8.KQ9x.JT.KJxx KT9xx.JTx.xxx.9x J.A8xx.Axx.AQxxx xxxx.xx.KQ98x.T8\n",
      "AQ8.KQ9x.JT.KJxx KJxx.JT.A8x.QT9x .Axxx.xxxx.A8xxx T9xxxx.8xx.KQ9x.\n",
      "AQ8.KQ9x.JT.KJxx Jxxx.Jxx.9xx.xxx 9.A8xx.AQ8x.AQTx KTxxx.Tx.Kxxx.98\n",
      "AQ8.KQ9x.JT.KJxx JT9xx.xx.AKx.ATx K.AT8x.9xxx.Q8xx xxxx.Jxx.Q8xx.9x\n",
      "AQ8.KQ9x.JT.KJxx Txxxx.xx.98x.A9x J.AJ8x.AKxxx.Qxx K9xx.Txx.Qxx.T8x\n",
      "AQ8.KQ9x.JT.KJxx KJTx.JTxx.K9xx.x x.A8xx.AQx.T9xxx 9xxxx.x.8xxx.AQ8\n",
      "AQ8.KQ9x.JT.KJxx KTxxx.Jx.9xx.Txx x.AT8x.Qxx.AQ9xx J9xx.xxx.AK8xx.8\n",
      "AQ8.KQ9x.JT.KJxx J9xxx.Jx.A8xx.xx .xxxx.K9x.AQT98x KTxxx.AT8.Qxxx.x\n",
      "AQ8.KQ9x.JT.KJxx KJTx.8x.Q9xx.Q8x x.AJTx.A8xx.Axxx 9xxxx.xxx.Kxx.T9\n",
      "AQ8.KQ9x.JT.KJxx T9xxx.xxx.K8x.A9 x.ATxx.AQxx.Txxx KJxx.J8.9xxx.Q8x\n",
      "AQ8.KQ9x.JT.KJxx JTxxx.8xx.A9x.8x .JTxx.KQ8xx.A9xx K9xxx.Ax.xxx.QTx\n",
      "AQ8.KQ9x.JT.KJxx KT9x.xxx.Q98.Axx x.AJT8.Axxxx.Q9x Jxxxx.xx.Kxx.T8x\n",
      "AQ8.KQ9x.JT.KJxx K9xxxx.8x.8x.AQx .xxxx.AKQxx.T8xx JTxx.AJT.9xxx.9x\n",
      "AQ8.KQ9x.JT.KJxx Txxxxx.Txx.98x.Q .AJxx.AQxx.AT9xx KJ9x.8x.Kxxx.8xx\n",
      "AQ8.KQ9x.JT.KJxx JTxx.x.AK8xx.T9x K.JTxx.Qxxx.AQxx 9xxxx.A8xx.9x.8x\n",
      "AQ8.KQ9x.JT.KJxx xxxxx.Jx.AKxx.T9 K.AT8x.Qxxx.A8xx JT9x.xxx.98x.Qxx\n",
      "AQ8.KQ9x.JT.KJxx KTxxx.x.Q9xxx.Tx 9.AJxx.K8xx.A8xx Jxxx.T8xx.Ax.Q9x\n",
      "AQ8.KQ9x.JT.KJxx Kxxxx.xx.Axx.Axx T.AJTx.KQxxx.Q98 J9xx.8xx.98x.Txx\n",
      "AQ8.KQ9x.JT.KJxx Jxxx.Tx.Kxx.AQ9x 9.AJ8x.Axxx.T8xx KTxxx.xxx.Q98x.x\n",
      "AQ8.KQ9x.JT.KJxx JTxxxx.Jxx.Ax.9x .A8xx.K98xx.Q8xx K9xx.Tx.Qxxx.ATx\n",
      "AQ8.KQ9x.JT.KJxx T9xxx.Txx.K9xx.x x.A8xx.Q8x.AQ98x KJxx.Jx.Axxx.Txx\n",
      "AQ8.KQ9x.JT.KJxx K9xx.JTxx.KQ98.x .8xxx.Axxxx.A98x JTxxxx.A.xx.QTxx\n",
      "AQ8.KQ9x.JT.KJxx JT9xx.8xx.Ax.AQx x.AJxx.KQ9xx.98x Kxxx.Tx.8xxx.Txx\n",
      "AQ8.KQ9x.JT.KJxx xxxxx.ATx.AQ.T8x x.8xxx.Kxxx.AQxx KJT9.Jx.98xxx.9x\n",
      "AQ8.KQ9x.JT.KJxx JT9xxx.Ax.Ax.Txx .Txxx.KQ8xxx.A8x Kxxx.J8x.9xx.Q9x\n",
      "AQ8.KQ9x.JT.KJxx J9xx.AJ.KQ9x.98x x.Txxx.A8xx.AQTx KTxxx.8xx.xxx.xx\n",
      "AQ8.KQ9x.JT.KJxx JT9xx.xxx.Kxx.Ax K.AT8x.Qxxx.Q8xx xxxx.Jx.A98x.T9x\n",
      "AQ8.KQ9x.JT.KJxx KJ9xx.J8.98xx.8x .xxxx.Axxx.AQTxx Txxxx.ATx.KQx.9x\n",
      "AQ8.KQ9x.JT.KJxx K9xxx.T8xx.8xx.Q .AJxx.A9xx.ATxxx JTxxx.x.KQxx.98x\n",
      "AQ8.KQ9x.JT.KJxx Txxx.x.98xxx.98x x.A8xx.AKxx.ATxx KJ9xx.JTxx.Qx.Qx\n",
      "AQ8.KQ9x.JT.KJxx J9xxx.8.A98x.Txx .AJxx.Kxxxx.Q8xx KTxxx.Txxx.Qx.A9\n",
      "AQ8.KQ9x.JT.KJxx KTxx.xxx.KQxx.Tx .AJTx.98xxx.A98x J9xxxx.8x.Ax.Qxx\n",
      "AQ8.KQ9x.JT.KJxx Kxxx.Jx.xxx.Q8xx x.T8xx.AKQx.T9xx JT9xx.Axx.98xx.A\n",
      "AQ8.KQ9x.JT.KJxx JT9xx.x.AKxx.QTx x.AJTx.Q8xx.A9xx Kxxx.8xxx.9xx.8x\n",
      "AQ8.KQ9x.JT.KJxx J9xxx.xx.A8x.xxx K.AT8x.Qxxx.AQT8 Txxx.Jxx.K9xx.9x\n",
      "AQ8.KQ9x.JT.KJxx KJTxx.8xx.9x.AQx .AJTx.AQ8xx.8xxx 9xxxx.xx.Kxxx.T9\n",
      "AQ8.KQ9x.JT.KJxx KJTxx.Tx.xx.ATxx .Axxx.AQxxx.Q98x 9xxxx.J8x.K98x.x\n",
      "AQ8.KQ9x.JT.KJxx KJ9x.Tx.Kxx.QT9x x.AJ8x.A9xxx.8xx Txxxx.xxx.Q8x.Ax\n",
      "AQ8.KQ9x.JT.KJxx Txxx.Axx.9xxx.xx K.J8xx.K8xx.AT9x J9xxx.Tx.AQx.Q8x\n",
      "AQ8.KQ9x.JT.KJxx KTxxx.Ax.Q9x.Qxx x.xxxx.AK8x.ATxx J9xx.JT8.xxxx.98\n",
      "AQ8.KQ9x.JT.KJxx KJT9.8xx.Axx.T8x x.ATxx.KQ8xx.Qxx xxxxx.Jx.9xx.A9x\n",
      "AQ8.KQ9x.JT.KJxx JTxxx.8x.8xx.AQT K.JTxx.AQ9x.9xxx 9xxx.Axx.Kxxx.8x\n",
      "AQ8.KQ9x.JT.KJxx KTxx.J8x.Qxxx.QT x.ATxx.AKx.A98xx J9xxx.xx.98xx.xx\n",
      "AQ8.KQ9x.JT.KJxx JT9xx.xx.9xxx.Qx x.AT8x.KQ8x.A9xx Kxxx.Jxx.Axx.T8x\n",
      "AQ8.KQ9x.JT.KJxx T9xxx.Tx.K9xx.QT .A8xx.Q8xx.A98xx KJxxx.Jxx.Axx.xx\n",
      "AQ8.KQ9x.JT.KJxx Txxx.J.K8xx.T9xx x.ATxx.AQxx.AQ8x KJ9xx.8xxx.9xx.x\n",
      "AQ8.KQ9x.JT.KJxx J9xxx.xxx.8xx.xx x.AJTx.Axx.AQT98 KTxx.8x.KQ9xx.xx\n",
      "AQ8.KQ9x.JT.KJxx KJTxxx.8x.8x.Axx .Axxx.AK9xx.Q8xx 9xxx.JTx.Qxxx.T9\n",
      "AQ8.KQ9x.JT.KJxx JTxx.x.Q98xx.Q9x x.AJ8x.Kxx.AT8xx K9xxx.Txxx.Axx.x\n",
      "AQ8.KQ9x.JT.KJxx J9xxx.8xx.A9xx.x x.AJTx.K8xxx.A8x KTxx.xx.Qx.QT9xx\n",
      "AQ8.KQ9x.JT.KJxx K9xxxx.Jx.9xx.Tx .T8xx.AKxxx.AQ8x JTxx.Axx.Q8x.9xx\n",
      "AQ8.KQ9x.JT.KJxx Jxxxxx.Jx.Kxx.9x T.xxxx.A98x.AQTx K9x.AT8.Qxxx.8xx\n",
      "AQ8.KQ9x.JT.KJxx Kxxx.Txxx.AQxx.x .AJ8x.Kxxx.QT8xx JT9xxx.x.98x.A9x\n",
      "AQ8.KQ9x.JT.KJxx KJxxxx.xx.8xx.xx .AJTx.Qxxx.AQTxx T9xx.8xx.AK9x.98\n",
      "AQ8.KQ9x.JT.KJxx Jxxxxx.Jx.Kxx.QT K.Axxx.A98xx.8xx T9x.T8x.Qxx.A9xx\n",
      "AQ8.KQ9x.JT.KJxx Txxxxx.8xx.AK9.x J.Axxx.xxx.ATxxx K9x.JT.Q8xxx.Q98\n",
      "AQ8.KQ9x.JT.KJxx K9xx.xxx.AQxx.Tx x.J8xx.K8xx.AQ9x JTxxx.AT.9xx.8xx\n",
      "AQ8.KQ9x.JT.KJxx JT9x.Ax.K9xx.9xx .T8xx.A8xx.AQT8x Kxxxxx.Jxx.Qxx.x\n",
      "AQ8.KQ9x.JT.KJxx JTxx.8xxx.Qxxx.x x.AJxx.K8xx.ATxx K9xxx.T.A9x.Q98x\n",
      "AQ8.KQ9x.JT.KJxx 9xxx.Axx.KQ9.Qxx x.J8xx.Axxxx.AT8 KJTxx.Tx.8xx.9xx\n",
      "AQ8.KQ9x.JT.KJxx Txxxx.8xx.Q98x.T .AJTx.Axxx.AQ8xx KJ9xx.xx.Kxx.9xx\n",
      "AQ8.KQ9x.JT.KJxx KJ9xxx.8xx.Qxx.x .AJTx.AK98x.QT8x Txxx.xx.xxx.A9xx\n",
      "AQ8.KQ9x.JT.KJxx KJTxx.Jx.A8x.Txx x.Txxx.KQxxx.AQx 9xxx.A8x.9xx.98x\n",
      "AQ8.KQ9x.JT.KJxx JTxx.xx.Axx.QT8x .AT8x.KQ8x.A9xxx K9xxxx.Jxx.9xxx.\n",
      "AQ8.KQ9x.JT.KJxx KTxx.JT.8xxx.xxx x.A8xx.AKQx.AQTx J9xxx.xxx.9xx.98\n",
      "AQ8.KQ9x.JT.KJxx KJT9x.xx.K8xx.xx .JTxx.A9xxxx.A8x xxxxx.A8x.Q.QT9x\n",
      "AQ8.KQ9x.JT.KJxx KJxxx.Jxx.Q8x.Tx x.A8xx.A9xx.AQ8x T9xx.Tx.Kxxx.9xx\n",
      "AQ8.KQ9x.JT.KJxx T9xx.JTx.98x.Qxx x.8xxx.AKQxx.A8x KJxxx.Ax.xxx.T9x\n"
     ]
    }
   ],
   "source": [
    "# we got some samples above. if we want more, we can always get more\n",
    "\n",
    "sample_hands, sorted_score, p_hcp, p_shp = bot_bid.sample_hands_auction([\"PAD_START\", \"PAD_START\", \"PAD_START\", \"PASS\", \"1N\", \"PASS\", \"3S\",\"PASS\"])\n",
    "\n",
    "for i in range(sample_hands.shape[0]):\n",
    "    print(f'{hand_to_str(sample_hands[i, 0, :])} {hand_to_str(sample_hands[i, 1, :])} {hand_to_str(sample_hands[i, 2, :])} {hand_to_str(sample_hands[i, 3, :])}')"
   ]
  }
 ],
 "metadata": {
  "kernelspec": {
   "display_name": "Python 3 (ipykernel)",
   "language": "python",
   "name": "python3"
  },
  "language_info": {
   "codemirror_mode": {
    "name": "ipython",
    "version": 3
   },
   "file_extension": ".py",
   "mimetype": "text/x-python",
   "name": "python",
   "nbconvert_exporter": "python",
   "pygments_lexer": "ipython3",
   "version": "3.11.0"
  }
 },
 "nbformat": 4,
 "nbformat_minor": 5
}
