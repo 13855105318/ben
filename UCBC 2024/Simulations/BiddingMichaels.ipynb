{
 "cells": [
  {
   "cell_type": "markdown",
   "id": "75d07246",
   "metadata": {},
   "source": [
    "# Bidding\n",
    "\n",
    "This is a tutorial for how to use the bidding engine"
   ]
  },
  {
   "cell_type": "code",
   "execution_count": 1,
   "id": "59a5664c",
   "metadata": {},
   "outputs": [
    {
     "name": "stdout",
     "output_type": "stream",
     "text": [
      "WARNING:tensorflow:From c:\\Python311\\Lib\\site-packages\\tensorflow\\python\\compat\\v2_compat.py:107: disable_resource_variables (from tensorflow.python.ops.variable_scope) is deprecated and will be removed in a future version.\n",
      "Instructions for updating:\n",
      "non-resource variables are not supported in the long term\n",
      "INFO:tensorflow:Restoring parameters from ..\\Models/NS1EW99-bidding_same-5556000\n",
      "INFO:tensorflow:Restoring parameters from ..\\Models/NS1EW99-binfo_same-5556000\n",
      "INFO:tensorflow:Restoring parameters from ..\\Models/lead_suit-999000\n",
      "INFO:tensorflow:Restoring parameters from ..\\Models/lead_nt-475000\n",
      "INFO:tensorflow:Restoring parameters from ..\\Models/Jack/lr3-1000000\n",
      "INFO:tensorflow:Restoring parameters from ..\\Models/single_dummy-32768000\n",
      "INFO:tensorflow:Restoring parameters from ..\\Models/lefty_nt-475000\n",
      "INFO:tensorflow:Restoring parameters from ..\\Models/dummy_nt-475000\n",
      "INFO:tensorflow:Restoring parameters from ..\\Models/righty_nt-475000\n",
      "INFO:tensorflow:Restoring parameters from ..\\Models/decl_nt-950000\n",
      "INFO:tensorflow:Restoring parameters from ..\\Models/lefty_suit-999000\n",
      "INFO:tensorflow:Restoring parameters from ..\\Models/dummy_suit-999000\n",
      "INFO:tensorflow:Restoring parameters from ..\\Models/righty_suit-999000\n",
      "INFO:tensorflow:Restoring parameters from ..\\Models/decl_suit-1278000\n"
     ]
    }
   ],
   "source": [
    "import sys\n",
    "import os\n",
    "sys.path.append('../../src')\n",
    "os.environ['BEN_HOME'] = \"../..\"\n",
    "\n",
    "from nn.models import Models\n",
    "from bots import BotBid\n",
    "from util import hand_to_str\n",
    "from sample import Sample\n",
    "import conf\n",
    "import numpy as np\n",
    "\n",
    "np.set_printoptions(precision=2, suppress=True, linewidth=200)\n",
    "np.random.seed(42)\n",
    "models = Models.from_conf(conf.load('../Conf/UCBC2024.conf'),'..')   # loading neural networks\n",
    "sampler = Sample.from_conf(conf.load('../Conf/UCBC2024.conf'), False)  # Load sampling strategies\n"
   ]
  },
  {
   "cell_type": "markdown",
   "id": "10d8f2fc",
   "metadata": {},
   "source": [
    "### Bidding"
   ]
  },
  {
   "cell_type": "code",
   "execution_count": 2,
   "id": "19dbfeb7",
   "metadata": {},
   "outputs": [
    {
     "data": {
      "text/plain": [
       "[{'call': '4S', 'insta_score': 0.101, 'expected_score': 615, 'adjustment': 5},\n",
       " {'call': '3C', 'insta_score': 0.116, 'expected_score': 566, 'adjustment': 6},\n",
       " {'call': '2S', 'insta_score': 0.265, 'expected_score': 240, 'adjustment': 13},\n",
       " {'call': '2H', 'insta_score': 0.165, 'expected_score': 191, 'adjustment': 8},\n",
       " {'call': '3D', 'insta_score': 0.115, 'expected_score': 81, 'adjustment': 6}]"
      ]
     },
     "execution_count": 2,
     "metadata": {},
     "output_type": "execute_result"
    }
   ],
   "source": [
    "vuln_ns, vuln_ew = True, False\n",
    "hand = 'K983.8.AJ873.AQ6'\n",
    "\n",
    "auction = [\"PAD_START\",\"1C\",\"2C\",\"PASS\"]\n",
    "bot_bid = BotBid([vuln_ns, vuln_ew], hand, models, sampler, 0, 1, False)\n",
    "\n",
    "bid = bot_bid.bid(auction)\n",
    "bid.to_dict()['candidates']\n",
    "\n",
    "# what's your bid?\n"
   ]
  },
  {
   "cell_type": "code",
   "execution_count": 3,
   "id": "55b647a5",
   "metadata": {},
   "outputs": [
    {
     "name": "stdout",
     "output_type": "stream",
     "text": [
      "K98x.8.AJ8xx.AQx T.Kx.KTxxx.KT8xx AQJxx.JT9xxx..Jx xxx.AQxx.Q9x.9xx 0.73685 \n",
      " 1C-2C-P-2S-P-P-P (10.8, 11.5)  \n",
      " 1C-2C-P-2H-P-P-P (8.2, 8.9)  \n",
      " 1C-2C-P-3C-X-P-P-4S-P-P-P (10.8, 11.0)  \n",
      " 1C-2C-P-3D-X-P-3H-3S-P-P-P (10.8, 11.3)  \n",
      " 1C-2C-P-4S-P-P-P (10.8, 11.3) \n",
      "K98x.8.AJ8xx.AQx x.A9xxx.T.KT98xx ATxxx.KQJxx.Q.xx QJx.Tx.K9xxxx.Jx 0.73749 \n",
      " 1C-2C-P-2S-P-P-3D-3S-P-P-P (10.9, 10.8)  \n",
      " 1C-2C-P-2H-P-P-3D-3S-P-P-P (10.9, 10.7)  \n",
      " 1C-2C-P-3C-X-P-P-4S-P-P-P (10.9, 10.7)  \n",
      " 1C-2C-P-3D-P-P-P (8.3, 9.4)  \n",
      " 1C-2C-P-4S-P-P-P (10.9, 10.9) \n",
      "K98x.8.AJ8xx.AQx A.Txxx.Q9.KT98xx QJTxxx.KJ9xx.KT. xx.AQx.xxxx.Jxxx 0.73095 \n",
      " 1C-2C-P-2S-P-P-P (11.1, 11.5)  \n",
      " 1C-2C-P-2H-P-2S-P-4S-P-P-P (10.8, 11.2)  \n",
      " 1C-2C-P-3C-X-P-P-4S-P-P-P (11.1, 11.5)  \n",
      " 1C-2C-P-3D-P-P-P (10.0, 10.9)  \n",
      " 1C-2C-P-4S-P-P-P (11.1, 11.5) \n",
      "K98x.8.AJ8xx.AQx A.K9.QTx.KT98xxx QJTxx.AQJTxx..Jx xxx.xxxx.K9xxx.x 0.99630 \n",
      " 1C-2C-P-2S-3C-P-P-3S-4C-P-P-4S-P-P-P (10.8, 11.3)  \n",
      " 1C-2C-P-2H-3C-P-P-3S-4C-P-P-4S-P-P-P (10.8, 11.4)  \n",
      " 1C-2C-P-3C-4C-4H-P-P-P (10.0, 10.3)  \n",
      " 1C-2C-P-3D-4C-P-P-4S-P-P-P (10.8, 11.3)  \n",
      " 1C-2C-P-4S-P-P-P (10.8, 11.3) \n",
      "K98x.8.AJ8xx.AQx .KQxx.QT9x.J98xx AQJxxxx.ATxxx..x Tx.J9x.Kxxx.KTxx 0.71253 \n",
      " 1C-2C-P-2S-P-P-3C-3S-P-4S-P-P-P (12.4, 12.4)  \n",
      " 1C-2C-P-2H-P-2S-P-4S-P-P-P (12.4, 12.4)  \n",
      " 1C-2C-P-3C-P-4S-P-P-P (12.4, 12.4)  \n",
      " 1C-2C-P-3D-P-4S-P-P-P (12.4, 12.4)  \n",
      " 1C-2C-P-4S-P-P-P (12.4, 12.4) \n",
      "K98x.8.AJ8xx.AQx A.KJ.Kxxx.KJTxxx Qxxxx.AQTxxx.x.x JTx.9xxx.QT9.98x 0.98503 \n",
      " 1C-2C-P-2S-3C-P-P-3S-P-P-P (10.8, 11.0)  \n",
      " 1C-2C-P-2H-3C-P-P-3S-P-P-P (10.8, 10.7)  \n",
      " 1C-2C-P-3C-X-P-P-4S-P-P-P (10.8, 10.9)  \n",
      " 1C-2C-P-3D-4C-P-P-4S-P-P-P (10.8, 11.0)  \n",
      " 1C-2C-P-4S-P-P-P (10.8, 10.9) \n",
      "K98x.8.AJ8xx.AQx A.KJxx.T9x.Kxxxx QJTxx.AQxxx.KQ.T xxx.T9x.xxx.J98x 0.99205 \n",
      " 1C-2C-P-2S-P-P-P (11.9, 12.1)  \n",
      " 1C-2C-P-2H-P-P-P (9.4, 10.0)  \n",
      " 1C-2C-P-3C-X-P-P-4S-P-P-P (11.9, 12.1)  \n",
      " 1C-2C-P-3D-P-P-P (11.4, 11.5)  \n",
      " 1C-2C-P-4S-P-P-P (11.9, 12.1) \n",
      "K98x.8.AJ8xx.AQx Q.AJx.KQx.J98xxx AJTxxx.K9xxx.9x. xx.QTxx.Txx.KTxx 0.96687 \n",
      " 1C-2C-P-2S-P-P-P (11.6, 11.5)  \n",
      " 1C-2C-P-2H-P-P-P (8.3, 9.7)  \n",
      " 1C-2C-P-3C-X-P-P-4S-P-P-P (11.6, 11.5)  \n",
      " 1C-2C-P-3D-P-P-P (10.0, 10.7)  \n",
      " 1C-2C-P-4S-P-P-P (11.6, 11.5) \n",
      "K98x.8.AJ8xx.AQx AT.Q9x.Kxx.JT9xx Qxxxx.KJTxx.T.Kx Jx.Axxx.Q9xx.8xx 0.70889 \n",
      " 1C-2C-P-2S-P-P-P (10.4, 10.5)  \n",
      " 1C-2C-P-2H-P-P-P (8.2, 8.5)  \n",
      " 1C-2C-P-3C-P-3H-P-3N-P-4C-P-4D-P-4S-P-P-P (10.1, 10.6)  \n",
      " 1C-2C-P-3D-P-P-P (7.7, 8.0)  \n",
      " 1C-2C-P-4S-P-P-P (10.4, 10.5) \n",
      "K98x.8.AJ8xx.AQx Txx.Kx.Qx.KJ9xxx AQxxx.Q9xxx.Kx.x J.AJTxx.T9xx.T8x 0.74809 \n",
      " 1C-2C-P-2S-P-P-P (11.1, 11.4)  \n",
      " 1C-2C-P-2H-P-P-P (7.1, 9.0)  \n",
      " 1C-2C-P-3C-X-P-P-4S-P-P-P (11.1, 11.4)  \n",
      " 1C-2C-P-3D-P-P-P (9.8, 10.6)  \n",
      " 1C-2C-P-4S-P-P-P (11.1, 11.4) \n"
     ]
    }
   ],
   "source": [
    "### Samples consistent with the auction so far\n",
    "\n",
    "for i in range(min(10,len(bid.samples))):\n",
    "    print(bid.samples[i])\n"
   ]
  }
 ],
 "metadata": {
  "kernelspec": {
   "display_name": "Python 3 (ipykernel)",
   "language": "python",
   "name": "python3"
  },
  "language_info": {
   "codemirror_mode": {
    "name": "ipython",
    "version": 3
   },
   "file_extension": ".py",
   "mimetype": "text/x-python",
   "name": "python",
   "nbconvert_exporter": "python",
   "pygments_lexer": "ipython3",
   "version": "3.11.9"
  }
 },
 "nbformat": 4,
 "nbformat_minor": 5
}
