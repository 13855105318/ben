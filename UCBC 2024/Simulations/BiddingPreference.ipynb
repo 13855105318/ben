{
 "cells": [
  {
   "cell_type": "markdown",
   "id": "75d07246",
   "metadata": {},
   "source": [
    "# Bidding\n",
    "\n",
    "This is a tutorial for how to use the bidding engine"
   ]
  },
  {
   "cell_type": "code",
   "execution_count": 1,
   "id": "59a5664c",
   "metadata": {},
   "outputs": [
    {
     "name": "stdout",
     "output_type": "stream",
     "text": [
      "WARNING:tensorflow:From c:\\Python311\\Lib\\site-packages\\tensorflow\\python\\compat\\v2_compat.py:107: disable_resource_variables (from tensorflow.python.ops.variable_scope) is deprecated and will be removed in a future version.\n",
      "Instructions for updating:\n",
      "non-resource variables are not supported in the long term\n"
     ]
    }
   ],
   "source": [
    "import sys\n",
    "sys.path.append('../../src')\n",
    "\n",
    "import os\n",
    "import logging\n",
    "\n",
    "# Set logging level to suppress warnings\n",
    "logging.getLogger().setLevel(logging.ERROR)\n",
    "# Just disables the warnings\n",
    "os.environ['TF_CPP_MIN_LOG_LEVEL'] = '2'\n",
    "from nn.models import Models\n",
    "from bots import BotBid\n",
    "from bidding import bidding\n",
    "from util import hand_to_str\n",
    "from deck52 import random_deal\n",
    "from sample import Sample\n",
    "import conf\n",
    "import numpy as np\n",
    "\n",
    "np.set_printoptions(precision=2, suppress=True, linewidth=200)\n",
    "np.random.seed(42)"
   ]
  },
  {
   "cell_type": "code",
   "execution_count": 2,
   "id": "44786d5d",
   "metadata": {},
   "outputs": [
    {
     "name": "stdout",
     "output_type": "stream",
     "text": [
      "INFO:tensorflow:Restoring parameters from ..\\Models/NS1EW99-bidding_same-5556000\n",
      "INFO:tensorflow:Restoring parameters from ..\\Models/NS1EW99-binfo_same-5556000\n",
      "INFO:tensorflow:Restoring parameters from ..\\Models/lead_suit-999000\n",
      "INFO:tensorflow:Restoring parameters from ..\\Models/lead_nt-475000\n",
      "INFO:tensorflow:Restoring parameters from ..\\Models/Jack/lr3-1000000\n",
      "INFO:tensorflow:Restoring parameters from ..\\Models/single_dummy-32768000\n",
      "INFO:tensorflow:Restoring parameters from ..\\Models/lefty_nt-475000\n",
      "INFO:tensorflow:Restoring parameters from ..\\Models/dummy_nt-475000\n",
      "INFO:tensorflow:Restoring parameters from ..\\Models/righty_nt-475000\n",
      "INFO:tensorflow:Restoring parameters from ..\\Models/decl_nt-950000\n",
      "INFO:tensorflow:Restoring parameters from ..\\Models/lefty_suit-999000\n",
      "INFO:tensorflow:Restoring parameters from ..\\Models/dummy_suit-999000\n",
      "INFO:tensorflow:Restoring parameters from ..\\Models/righty_suit-999000\n",
      "INFO:tensorflow:Restoring parameters from ..\\Models/decl_suit-1278000\n"
     ]
    }
   ],
   "source": [
    "models = Models.from_conf(conf.load('../Conf/UCBC2024.conf'),'..')   # loading neural networks\n",
    "sampler = Sample.from_conf(conf.load('../Conf/UCBC2024.conf'), False)  # Load sampling strategies"
   ]
  },
  {
   "cell_type": "markdown",
   "id": "669da023",
   "metadata": {},
   "source": [
    "### Bidding through an entire auction for all four hands\n",
    "\n",
    "Now we'll take a random deal and let the bot bid for each hand. We assume North deals and nobody is vulnerable.\n",
    "\n",
    "This script was used to detect the reason for some strange bidding. But the error is fixed, so this should look normal now"
   ]
  },
  {
   "cell_type": "code",
   "execution_count": 3,
   "id": "fc27ca79",
   "metadata": {},
   "outputs": [],
   "source": [
    "hands = ['T8732.K7532.J.Q3', '4.AQJ98.KQ975.94', 'AQ.T6.A863.JT862', 'KJ965.4.T42.AK75']"
   ]
  },
  {
   "cell_type": "code",
   "execution_count": 4,
   "id": "d480cbba",
   "metadata": {},
   "outputs": [],
   "source": [
    "bidder_bots = [BotBid([True, False], hand, models, sampler, i, 3, False) for i, hand in enumerate(hands)]"
   ]
  },
  {
   "cell_type": "code",
   "execution_count": 5,
   "id": "7d77351a",
   "metadata": {},
   "outputs": [
    {
     "name": "stdout",
     "output_type": "stream",
     "text": [
      "{'bid': '1S', 'who': 'NN', 'candidates': [{'call': '1S', 'insta_score': 0.988}], 'hcp': [10.1, 9.3, 9.3], 'shape': [2.6, 4.0, 3.3, 3.0, 2.8, 3.9, 3.2, 2.9, 2.7, 3.9, 3.3, 3.0]}\n",
      "{'bid': 'PASS', 'who': 'NN', 'candidates': [{'call': 'PASS', 'insta_score': 0.999}], 'hcp': [7.3, 11.3, 14.3], 'shape': [1.7, 3.0, 4.4, 4.0, 1.3, 3.2, 4.3, 4.1, 5.1, 1.9, 3.1, 2.8]}\n",
      "{'bid': '2H', 'who': 'NN', 'candidates': [{'call': '2H', 'insta_score': 1.0}], 'hcp': [8.2, 12.7, 6.8], 'shape': [3.3, 3.0, 2.7, 4.0, 5.0, 2.3, 2.6, 3.1, 3.4, 3.0, 2.7, 4.0]}\n",
      "{'bid': '2N', 'who': 'NN', 'candidates': [{'call': 'PASS', 'insta_score': 0.992}], 'hcp': [11.5, 5.4, 12.2], 'shape': [5.5, 2.0, 2.8, 2.6, 3.3, 3.3, 3.4, 2.9, 2.0, 5.6, 3.0, 2.5]}\n",
      "{'bid': 'PASS', 'who': 'Simulation', 'quality': 'Good', 'candidates': [{'call': 'PASS', 'insta_score': 0.884, 'expected_score': 49, 'adjustment': 44}, {'call': 'X', 'insta_score': 0.079, 'expected_score': 64, 'adjustment': 4}], 'samples': ['ATxx.8x.Jxx.T98x x.AKJT9xx.K98x.x Q8x.Qxx.AQx.QJxx KJ9xx.x.Txx.AKxx 0.74118 \\n 1S-P-2H-2N-P-P-4S-P-P-P (6.9, 8.2)  \\n 1S-P-2H-2N-X-P-4S-P-P-P (6.9, 8.2) ', 'Txx.KJ8x.9xx.Q8x x.AQTxxx.KJ8.Jxx AQ8x.9x.AQxx.T9x KJ9xx.x.Txx.AKxx 0.73621 \\n 1S-P-2H-2N-P-3N-4S-X-P-P-P (7.6, 8.0)  \\n 1S-P-2H-2N-X-P-4S-P-P-P (7.6, 8.0) ', '8xx.Tx.Q98x.98xx xx.AQJ9xx.KJx.JT AQT.K8xx.Axx.Qxx KJ9xx.x.Txx.AKxx 0.74966 \\n 1S-P-2H-2N-P-P-4S-P-P-P (8.9, 8.5)  \\n 1S-P-2H-2N-X-P-4S-P-P-P (8.9, 8.5) ', 'Q8xx.T9x.9x.QJxx Ax.KQJ8x.J8xx.Tx Tx.Axxx.AKQx.98x KJ9xx.x.Txx.AKxx 0.73291 \\n 1S-P-2H-2N-P-P-4S-P-P-P (7.5, 7.3)  \\n 1S-P-2H-2N-X-P-4S-P-P-P (7.5, 7.3) ', 'xx.KQT8x.xx.Txxx T8.AJ9xxx.AQx.J9 AQxx.x.KJ98x.Q8x KJ9xx.x.Txx.AKxx 0.74934 \\n 1S-P-2H-2N-P-P-4S-P-P-P (9.1, 8.5)  \\n 1S-P-2H-2N-X-P-4S-P-P-P (9.1, 8.5) ', 'T.JT9x.A9xx.JTxx Qx.AK8xx.Q8x.98x A8xxx.Qxx.KJx.Qx KJ9xx.x.Txx.AKxx 0.73496 \\n 1S-P-2H-2N-P-P-4S-P-P-P (7.9, 7.6)  \\n 1S-P-2H-2N-X-P-4S-P-P-P (7.9, 7.6) ', 'Txxx.Jx.98.Q98xx Q.AT98xxx.AJxx.T A8x.KQx.KQxx.Jxx KJ9xx.x.Txx.AKxx 0.74110 \\n 1S-P-2H-2N-P-P-4S-P-P-P (7.7, 8.3)  \\n 1S-P-2H-2N-X-P-4S-P-P-P (7.7, 8.3) ', 'A.J9xx.98xxx.98x Tx.ATxxx.KQ.QTxx Q8xxx.KQ8.AJx.Jx KJ9xx.x.Txx.AKxx 0.73185 \\n 1S-P-2H-2N-P-P-4S-P-P-P (8.7, 7.7)  \\n 1S-P-2H-2N-X-P-4S-P-P-P (8.7, 7.7) ', '8xxx.Jx.J9xx.8xx AT.AT9xx.AQ8.Q9x Qx.KQ8xx.Kxx.JTx KJ9xx.x.Txx.AKxx 0.74391 \\n 1S-P-2H-2N-P-3C-4S-P-P-P (11.8, 10.8)  \\n 1S-P-2H-2N-X-P-4S-P-P-P (11.8, 10.8) ', 'Tx.QJ98xx.QJ8x.x xxx.AKTxx.Kx.Q8x AQ8.x.A9xx.JT9xx KJ9xx.x.Txx.AKxx 0.74565 \\n 1S-P-2H-2N-P-P-4S-P-P-P (8.7, 8.7)  \\n 1S-P-2H-2N-X-P-4S-P-P-P (8.7, 8.7) ', 'QTx.8xxx.9xx.Q8x Ax.QT9xx.AKx.9xx 8xx.AKJ.QJ8x.JTx KJ9xx.x.Txx.AKxx 0.74986 \\n 1S-P-2H-2N-P-P-4S-P-P-P (9.9, 9.2)  \\n 1S-P-2H-2N-X-P-4S-P-P-P (9.9, 9.1) ', 'QTxx.Q8x.9x.T9xx 8xx.AKJ9xx.Kxx.8 A.Txx.AQJ8x.QJxx KJ9xx.x.Txx.AKxx 0.72864 \\n 1S-P-2H-2N-P-3D-3S-P-4H-P-4S-P-P-P (8.3, 8.4)  \\n 1S-P-2H-2N-X-P-4S-P-P-P (8.3, 8.4) ', 'T8x.KJxx.J9x.J8x Qx.AT9xxx.KQxx.T Axx.Q8.A8x.Q9xxx KJ9xx.x.Txx.AKxx 0.74257 \\n 1S-P-2H-2N-P-P-4S-P-P-P (9.3, 9.3)  \\n 1S-P-2H-2N-X-P-4S-P-P-P (9.3, 9.1) ', 'xx.QT8xx.8xx.98x QT.K9xxx.AKx.Txx A8xx.AJ.QJ9x.QJx KJ9xx.x.Txx.AKxx 0.74975 \\n 1S-P-2H-2N-P-3N-4S-P-P-P (9.4, 9.3)  \\n 1S-P-2H-2N-X-P-4S-P-P-P (9.4, 9.3) ', 'QT8x.xx.Qxxxx.Jx x.KQJ98xx.A9.QT8 Axx.ATx.KJ8.9xxx KJ9xx.x.Txx.AKxx 0.74908 \\n 1S-P-2H-2N-P-P-4S-P-P-P (6.8, 8.3)  \\n 1S-P-2H-2N-X-P-4S-P-P-P (6.8, 7.9) ', 'Q8x.Qxxx.Q9xx.xx Txx.AKJ98x.Ax.9x Ax.Tx.KJ8x.QJT8x KJ9xx.x.Txx.AKxx 0.74762 \\n 1S-P-2H-2N-P-P-4S-P-P-P (10.2, 10.0)  \\n 1S-P-2H-2N-X-P-4S-P-P-P (10.2, 10.0) ', 'Txx.J9xx.9xx.Q8x 8x.AQ8xx.KJx.Jxx AQx.KTx.AQ8x.T9x KJ9xx.x.Txx.AKxx 0.73133 \\n 1S-P-2H-2N-P-P-4S-P-P-P (8.2, 7.7)  \\n 1S-P-2H-2N-X-P-4S-P-P-P (8.2, 7.8) ', 'Txx.JTx.J8x.QT9x Q.AK9xx.Kxxx.8xx A8xx.Q8xx.AQ9.Jx KJ9xx.x.Txx.AKxx 0.74976 \\n 1S-P-2H-2N-P-3N-4S-X-P-P-P (7.7, 8.2)  \\n 1S-P-2H-2N-X-P-4S-P-P-P (7.7, 8.1) ', 'Q8xx.J8.8xxxx.Tx x.AKQxxxx.QJ9.8x ATx.T9x.AK.QJ9xx KJ9xx.x.Txx.AKxx 0.74935 \\n 1S-P-2H-2N-P-P-4S-P-P-P (7.4, 8.2)  \\n 1S-P-2H-2N-X-P-4S-P-P-P (7.4, 8.2) ', 'Qxx.QJxx.Q8.Txxx A8.AT8xx.Jxxx.Q8 Txx.K9x.AK9x.J9x KJ9xx.x.Txx.AKxx 0.71569 \\n 1S-P-2H-2N-P-3N-4S-X-P-P-P (8.9, 8.8)  \\n 1S-P-2H-2N-X-P-4S-P-P-P (8.9, 8.7) '], 'hcp': [4.0, 10.2, 15.7], 'shape': [2.9, 3.3, 3.6, 3.1, 2.3, 5.5, 2.8, 2.4, 3.1, 3.0, 3.6, 3.3]}\n",
      "{'bid': 'PASS', 'who': 'Simulation', 'quality': 'Bad', 'candidates': [{'call': 'PASS', 'insta_score': 0.304, 'expected_score': 24, 'adjustment': 152}, {'call': '3D', 'insta_score': 0.298, 'expected_score': 16, 'adjustment': 149}, {'call': '3C', 'insta_score': 0.268, 'expected_score': 11, 'adjustment': 134}], 'samples': ['T8xxx.Kxxxx.J.Qx x.AJT98x.Qxxx.AJ QJ.Q.AT9xx.Kxxxx AK9xx.x.K8x.T98x 0.51165 \\n 1S-P-2H-2N-P-P-4S-P-P-P (7.2, 7.3)  \\n 1S-P-2H-2N-P-3D-4S-P-P-P (7.2, 7.3)  \\n 1S-P-2H-2N-P-3C-4S-P-P-P (7.2, 7.3) ', 'T8xxx.Kxxxx.J.Qx J.AJT98x.Qx.K98x AK.Q.KTxxx.JTxxx Q9xxx.x.A98xx.Ax 0.50775 \\n 1S-P-2H-2N-P-P-4S-P-P-P (7.0, 7.3)  \\n 1S-P-2H-2N-P-3D-4S-P-P-P (7.0, 7.3)  \\n 1S-P-2H-2N-P-3C-4S-P-P-P (7.0, 7.3) ', 'T8xxx.Kxxxx.J.Qx K.QT8xx.ATxxx.K8 Ax.A9.Q8xxx.JT9x QJ9xx.J.K9.Axxxx 0.47297 \\n 1S-P-2H-2N-P-P-4S-P-P-P (7.5, 7.5)  \\n 1S-P-2H-2N-P-3D-4S-P-P-P (7.5, 7.5)  \\n 1S-P-2H-2N-P-3C-4S-P-P-P (7.5, 7.5) ', 'T8xxx.Kxxxx.J.Qx Kx.AJT8x.Kxxx.8x x.Q9.AQ8xx.AJT9x AQJ9x.x.T9x.Kxxx 0.47203 \\n 1S-P-2H-2N-P-P-4S-P-P-P (7.4, 7.4)  \\n 1S-P-2H-2N-P-3D-4S-P-P-P (7.4, 7.4)  \\n 1S-P-2H-2N-P-3C-4S-P-P-P (7.4, 7.4) ', 'T8xxx.Kxxxx.J.Qx K.AQJ98.AT8x.J8x Jx.Tx.Kxxxx.A9xx AQ9xx.x.Q9x.KTxx 0.47194 \\n 1S-P-2H-2N-P-P-4S-P-P-P (9.3, 8.8)  \\n 1S-P-2H-2N-P-3D-3S-P-P-P (9.3, 8.8)  \\n 1S-P-2H-2N-P-3C-3S-P-P-P (9.3, 8.8) ', 'T8xxx.Kxxxx.J.Qx J.Q98xx.AK9x.AKx Kx.JT.QT8xx.Jxxx AQ9xx.A.xxx.T98x 0.47087 \\n 1S-P-2H-2N-P-P-4S-P-P-P (9.8, 9.4)  \\n 1S-P-2H-2N-P-3D-4S-P-P-P (9.8, 9.4)  \\n 1S-P-2H-2N-P-3C-4S-P-P-P (9.8, 9.4) ', 'T8xxx.Kxxxx.J.Qx 9.AQJT8.T8x.KJTx AJ.9x.AKxxxx.98x KQxxx.x.Q9x.Axxx 0.46694 \\n 1S-P-2H-2N-P-P-4S-P-P-P (7.7, 7.6)  \\n 1S-P-2H-2N-P-3D-3S-P-P-P (7.7, 7.6)  \\n 1S-P-2H-2N-P-3C-3S-P-P-P (7.7, 7.6) ', 'T8xxx.Kxxxx.J.Qx K.JT9xx.Axxx.KT8 Q9.AQ.KQ9x.9xxxx AJxxx.8.T8xx.AJx 0.46393 \\n 1S-P-2H-2N-P-P-4S-P-P-P (7.9, 7.4)  \\n 1S-P-2H-2N-P-3D-4S-P-P-P (7.9, 7.4)  \\n 1S-P-2H-2N-P-3C-4S-P-P-P (7.9, 7.4) ', 'T8xxx.Kxxxx.J.Qx Q.AQJ9x.K9xx.A9x Jx.x.AQTxxx.8xxx AK9xx.T8.8x.KJTx 0.46390 \\n 1S-P-2H-2N-P-P-4S-P-P-P (9.0, 9.2)  \\n 1S-P-2H-2N-P-3D-3S-P-P-P (9.0, 9.2)  \\n 1S-P-2H-2N-P-3C-3S-P-P-P (9.0, 9.2) ', 'T8xxx.Kxxxx.J.Qx xx.AQ98x.AQx.Jxx K.Tx.K9xxx.AT98x AQJ9x.J.T8xx.Kxx 0.46299 \\n 1S-P-2H-2N-P-P-4S-P-P-P (8.9, 8.5)  \\n 1S-P-2H-2N-P-3D-4S-P-P-P (8.9, 8.5)  \\n 1S-P-2H-2N-P-3C-3S-P-P-P (8.9, 8.5) '], 'hcp': [9.6, 14.5, 10.7], 'shape': [1.2, 4.7, 3.8, 3.3, 2.2, 2.5, 4.3, 4.1, 4.9, 1.2, 3.5, 3.4]}\n",
      "{'bid': 'X', 'who': 'Simulation', 'quality': 'Good', 'candidates': [{'call': 'X', 'insta_score': 0.181, 'expected_score': 878, 'adjustment': 90}, {'call': 'PASS', 'insta_score': 0.506, 'expected_score': 327, 'adjustment': 253}, {'call': '3D', 'insta_score': 0.283, 'expected_score': -37, 'adjustment': 141}], 'samples': ['KT9x.xxxx.Tx.JTx x.AQJ98.KQ9xx.9x Jxx.KT.AJxx.KQxx AQ8xx.xx.8x.A8xx 0.68751 \\n 1S-P-2H-2N-P-P-P (5.9, 5.2)  \\n 1S-P-2H-2N-P-P-3D-P-P-P (7.7, 7.8)  \\n 1S-P-2H-2N-P-P-X-P-P-P (5.9, 5.2) ', 'KJT8xxx.xxx.xx.8 x.AQJ98.KQ9xx.9x .KTx.AJxx.KQJTxx AQ9xx.xx.T8.Axxx 0.66387 \\n 1S-P-2H-2N-P-P-P (5.5, 6.5)  \\n 1S-P-2H-2N-P-P-3D-P-P-4C-4S-P-P-P (5.9, 6.0)  \\n 1S-P-2H-2N-P-P-X-P-P-P (5.5, 6.5) ', 'QJ9xx.Txxx.x.Txx x.AQJ98.KQ9xx.9x 8x.Kx.AJT8x.AQ8x AKTxx.xx.xx.KJxx 0.65657 \\n 1S-P-2H-2N-P-P-P (5.1, 5.5)  \\n 1S-P-2H-2N-P-P-3D-P-P-P (7.9, 7.4)  \\n 1S-P-2H-2N-P-P-X-P-P-P (5.1, 5.5) ', 'T9xxx.Txx.xx.Kxx x.AQJ98.KQ9xx.9x Kx.Kxx.AJx.QJ8xx AQJ8x.xx.T8x.ATx 0.64812 \\n 1S-P-2H-2N-P-P-P (3.8, 5.3)  \\n 1S-P-2H-2N-P-P-3D-P-P-P (9.5, 9.5)  \\n 1S-P-2H-2N-P-P-X-P-P-P (3.8, 5.3) ', 'QT9xx.Txxx.Jx.QJ x.AQJ98.KQ9xx.9x xx.Kx.ATx.ATxxxx AKJ8x.xx.8xx.K8x 0.64648 \\n 1S-P-2H-2N-P-P-P (4.9, 5.1)  \\n 1S-P-2H-2N-P-P-3D-P-P-4C-4S-P-P-P (6.9, 7.2)  \\n 1S-P-2H-2N-P-P-X-P-P-P (4.9, 5.1) ', 'AJ9xx.xxxx.8.8xx x.AQJ98.KQ9xx.9x T8.Kx.AJTxx.KJxx KQxxx.Tx.xx.AQTx 0.64537 \\n 1S-P-2H-2N-P-P-P (5.0, 6.0)  \\n 1S-P-2H-2N-P-P-3D-P-P-P (7.6, 7.7)  \\n 1S-P-2H-2N-P-P-X-P-P-P (5.0, 6.0) ', 'Txxxxx.KTxx.J.xx x.AQJ98.KQ9xx.9x A.xxx.A8xx.AJ8xx KQJ98.x.Txx.KQTx 0.64478 \\n 1S-P-2H-2N-P-P-P (4.1, 5.3)  \\n 1S-P-2H-2N-P-P-3D-P-P-P (8.9, 9.6)  \\n 1S-P-2H-2N-P-P-X-P-P-P (4.1, 5.3) ', '9xxxx.Txxx.Jx.Jx x.AQJ98.KQ9xx.9x Kx.Kx.Axx.KQT8xx AQJT8.xx.T8x.Axx 0.64472 \\n 1S-P-2H-2N-P-P-P (2.8, 5.8)  \\n 1S-P-2H-2N-P-P-3D-P-P-4C-4S-P-P-P (7.9, 8.2)  \\n 1S-P-2H-2N-P-P-X-P-P-P (2.8, 5.8) ', 'JT9xx.Txxx.J.Kxx x.AQJ98.KQ9xx.9x Kx.Kx.Txxx.AQJTx AQ8xx.xx.A8x.8xx 0.64072 \\n 1S-P-2H-2N-P-P-P (4.8, 6.1)  \\n 1S-P-2H-2N-P-P-3D-P-P-P (9.3, 9.3)  \\n 1S-P-2H-2N-P-P-X-P-P-P (4.8, 6.1) ', 'T8xxxx.xxx.xx.Ax x.AQJ98.KQ9xx.9x A.KTx.T8xx.KQJTx KQJ9x.xx.AJ.8xxx 0.63937 \\n 1S-P-2H-2N-P-P-P (5.2, 5.9)  \\n 1S-P-2H-2N-P-P-3D-P-P-P (7.9, 8.0)  \\n 1S-P-2H-2N-P-P-X-P-P-P (5.2, 5.9) '], 'hcp': [10.1, 11.8, 6.3], 'shape': [1.7, 1.8, 4.3, 5.2, 5.4, 2.7, 2.1, 2.8, 4.6, 3.6, 1.9, 3.0]}\n",
      "{'bid': 'PASS', 'who': 'NN', 'candidates': [{'call': 'PASS', 'insta_score': 1.0}], 'hcp': [11.0, 6.2, 12.2], 'shape': [5.3, 2.2, 2.9, 2.6, 3.8, 3.2, 3.4, 2.6, 1.8, 5.3, 3.0, 2.9]}\n",
      "{'bid': 'PASS', 'who': 'NN', 'candidates': [{'call': 'PASS', 'insta_score': 0.947}], 'hcp': [1.8, 11.2, 16.2], 'shape': [3.1, 2.9, 3.6, 3.3, 1.8, 5.6, 3.1, 2.6, 3.2, 3.3, 3.4, 3.1]}\n",
      "{'bid': 'PASS', 'who': 'Simulation', 'quality': 'Bad', 'candidates': [{'call': 'PASS', 'insta_score': 0.941, 'expected_score': -986, 'adjustment': 470}, {'call': '3H', 'insta_score': 0.044, 'expected_score': 76, 'adjustment': -78}], 'samples': ['T8xxx.Kxxxx.J.Qx A.QT9xx.KQ8x.T9x 9x.AJ.AT9xx.K8xx KQJxx.8.xxx.AJxx 0.33404 \\n 1S-P-2H-2N-P-P-X-P-P-P (5.3, 5.4)  \\n 1S-P-2H-2N-P-P-X-P-P-3H-3S-P-P-P (6.7, 7.2) ', 'T8xxx.Kxxxx.J.Qx .J98xx.KTxx.AKT8 KJx.QT.AQxx.J9xx AQ9xx.A.98xx.xxx 0.32777 \\n 1S-P-2H-2N-P-P-X-P-P-P (5.7, 5.6)  \\n 1S-P-2H-2N-P-P-X-P-P-3H-3S-P-4H-P-4S-P-P-P (6.3, 7.5) ', 'T8xxx.Kxxxx.J.Qx 9.AT9xx.QTx.AKxx QJ.QJ.A8xxx.JTxx AKxxx.8.K9xx.98x 0.32516 \\n 1S-P-2H-2N-P-P-X-P-P-P (3.8, 5.0)  \\n 1S-P-2H-2N-P-P-X-P-P-3H-3S-P-4H-P-4S-P-P-P (8.0, 8.1) ', 'T8xxx.Kxxxx.J.Qx Qx.Q98xx.A9.KT9x K.JT.KQxxx.A8xxx AJ9xx.A.T8xxx.Jx 0.31757 \\n 1S-P-2H-2N-P-P-X-P-P-P (4.5, 6.2)  \\n 1S-P-2H-2N-P-P-X-P-P-3H-3S-P-4H-P-4S-P-P-P (7.9, 7.5) ', 'T8xxx.Kxxxx.J.Qx Jx.AJTxx.KQx.9xx 9.98.AT98xx.AKTx AKQxx.Q.xxx.J8xx 0.31465 \\n 1S-P-2H-2N-P-P-X-P-P-P (5.5, 6.1)  \\n 1S-P-2H-2N-P-P-X-P-P-3H-3S-P-4H-P-4S-P-P-P (6.7, 7.3) ', 'T8xxx.Kxxxx.J.Qx A.AQT9x.T8x.KJ8x Kx.J8x.KQ9xx.9xx QJ9xx..Axxx.ATxx 0.31426 \\n 1S-P-2H-2N-P-P-X-P-P-P (2.4, 5.0)  \\n 1S-P-2H-2N-P-P-X-P-P-3H-3S-P-4H-P-4S-P-P-P (9.4, 9.2) ', 'T8xxx.Kxxxx.J.Qx J.QJT8x.AQxx.Jxx Qx.Ax.K8xx.K98xx AK9xx.9.T9xx.ATx 0.31421 \\n 1S-P-2H-2N-P-P-X-P-P-P (4.6, 5.7)  \\n 1S-P-2H-2N-P-P-X-P-P-3H-3S-P-P-P (7.2, 7.6) ', 'T8xxx.Kxxxx.J.Qx Kx.QJ98x.9x.AJTx J.AT.KQTxxx.K9xx AQ9xx.x.A8xx.8xx 0.31403 \\n 1S-P-2H-2N-P-P-X-P-P-P (4.7, 6.4)  \\n 1S-P-2H-2N-P-P-X-P-P-3H-3S-P-4H-P-4S-P-P-P (7.3, 7.2) ', 'T8xxx.Kxxxx.J.Qx Qx.QT98x.AKxx.8x K.x.98xxx.AKJ9xx AJ9xx.AJ.QTx.Txx 0.31316 \\n 1S-P-2H-2N-P-P-X-P-P-P (4.2, 6.3)  \\n 1S-P-2H-2N-P-P-X-P-P-3H-3S-P-4H-P-4S-P-P-P (7.3, 8.3) ', 'T8xxx.Kxxxx.J.Qx J.QJT98.A8xx.AKx Kx.x.KQT9xx.J8xx AQ9xx.Ax.xx.T9xx 0.31130 \\n 1S-P-2H-2N-P-P-X-P-P-P (3.1, 5.1)  \\n 1S-P-2H-2N-P-P-X-P-P-3H-3S-P-4H-P-4S-P-P-P (9.1, 8.6) '], 'hcp': [9.5, 14.4, 10.7], 'shape': [1.1, 4.8, 3.7, 3.4, 2.3, 2.2, 4.4, 4.0, 4.6, 1.1, 3.7, 3.6]}\n",
      "['PAD_START', 'PAD_START', 'PAD_START', '1S', 'PASS', '2H', '2N', 'PASS', 'PASS', 'X', 'PASS', 'PASS', 'PASS']\n"
     ]
    }
   ],
   "source": [
    "auction = ['PAD_START','PAD_START','PAD_START']  # since West deals we need 'PAD_START'\n",
    "\n",
    "turn_i = len(auction) % 4 # whose turn is it to bid\n",
    "step = 0\n",
    "\n",
    "while not bidding.auction_over(auction):\n",
    "    bid = bidder_bots[turn_i].bid(auction)\n",
    "    # if step== 1:\n",
    "    # bid.bid='X'\n",
    "    if step== 3:\n",
    "        bid.bid='2N'\n",
    "    #if step== 5:\n",
    "    #    bid.bid='2C'\n",
    "    print(bid.to_dict())\n",
    "    auction.append(bid.bid)\n",
    "    turn_i = (turn_i + 1) % 4  # next player's turn\n",
    "    step += 1\n",
    "print(auction)"
   ]
  }
 ],
 "metadata": {
  "kernelspec": {
   "display_name": "Python 3 (ipykernel)",
   "language": "python",
   "name": "python3"
  },
  "language_info": {
   "codemirror_mode": {
    "name": "ipython",
    "version": 3
   },
   "file_extension": ".py",
   "mimetype": "text/x-python",
   "name": "python",
   "nbconvert_exporter": "python",
   "pygments_lexer": "ipython3",
   "version": "3.11.0"
  }
 },
 "nbformat": 4,
 "nbformat_minor": 5
}
