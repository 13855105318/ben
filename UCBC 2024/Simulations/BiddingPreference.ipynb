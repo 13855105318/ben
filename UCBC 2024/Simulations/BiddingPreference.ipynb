{
 "cells": [
  {
   "cell_type": "markdown",
   "id": "75d07246",
   "metadata": {},
   "source": [
    "# Bidding\n",
    "\n",
    "This is a tutorial for how to use the bidding engine"
   ]
  },
  {
   "cell_type": "code",
   "execution_count": 1,
   "id": "59a5664c",
   "metadata": {},
   "outputs": [
    {
     "name": "stdout",
     "output_type": "stream",
     "text": [
      "WARNING:tensorflow:From c:\\Python311\\Lib\\site-packages\\tensorflow\\python\\compat\\v2_compat.py:107: disable_resource_variables (from tensorflow.python.ops.variable_scope) is deprecated and will be removed in a future version.\n",
      "Instructions for updating:\n",
      "non-resource variables are not supported in the long term\n"
     ]
    }
   ],
   "source": [
    "import sys\n",
    "sys.path.append('../../src')\n",
    "\n",
    "import os\n",
    "import logging\n",
    "\n",
    "# Set logging level to suppress warnings\n",
    "logging.getLogger().setLevel(logging.ERROR)\n",
    "# Just disables the warnings\n",
    "os.environ['TF_CPP_MIN_LOG_LEVEL'] = '2'\n",
    "from nn.models import Models\n",
    "from bots import BotBid\n",
    "from bidding import bidding\n",
    "from util import hand_to_str\n",
    "from deck52 import random_deal\n",
    "from sample import Sample\n",
    "import conf\n",
    "import numpy as np\n",
    "\n",
    "np.set_printoptions(precision=2, suppress=True, linewidth=200)\n",
    "np.random.seed(42)"
   ]
  },
  {
   "cell_type": "code",
   "execution_count": 2,
   "id": "44786d5d",
   "metadata": {},
   "outputs": [
    {
     "name": "stdout",
     "output_type": "stream",
     "text": [
      "INFO:tensorflow:Restoring parameters from ..\\Models/NS1EW99-bidding-10724000\n",
      "INFO:tensorflow:Restoring parameters from ..\\Models/NS1EW99-binfo-6131000\n",
      "INFO:tensorflow:Restoring parameters from ..\\Models/lead_suit-154000\n",
      "INFO:tensorflow:Restoring parameters from ..\\Models/lead_nt-59000\n",
      "INFO:tensorflow:Restoring parameters from ..\\Models/lr3-1000000\n",
      "INFO:tensorflow:Restoring parameters from ..\\Models/single_dummy-32768000\n",
      "INFO:tensorflow:Restoring parameters from ..\\Models/lefty-1000000\n",
      "INFO:tensorflow:Restoring parameters from ..\\Models/dummy-920000\n",
      "INFO:tensorflow:Restoring parameters from ..\\Models/righty-1000000\n",
      "INFO:tensorflow:Restoring parameters from ..\\Models/decl-1000000\n"
     ]
    }
   ],
   "source": [
    "models = Models.from_conf(conf.load('../Conf/UCBC2024.conf'),'..')   # loading neural networks\n",
    "sampler = Sample.from_conf(conf.load('../Conf/UCBC2024.conf'), False)  # Load sampling strategies"
   ]
  },
  {
   "cell_type": "markdown",
   "id": "669da023",
   "metadata": {},
   "source": [
    "### Bidding through an entire auction for all four hands\n",
    "\n",
    "Now we'll take a random deal and let the bot bid for each hand. We assume North deals and nobody is vulnerable.\n",
    "\n",
    "This script was used to detect the reason for some strange bidding. But the error is fixed, so this should look normal now"
   ]
  },
  {
   "cell_type": "code",
   "execution_count": 3,
   "id": "fc27ca79",
   "metadata": {},
   "outputs": [],
   "source": [
    "hands = ['T8732.K7532.J.Q3', '4.AQJ98.KQ975.94', 'AQ.T6.A863.JT862', 'KJ965.4.T42.AK75']"
   ]
  },
  {
   "cell_type": "code",
   "execution_count": 4,
   "id": "d480cbba",
   "metadata": {},
   "outputs": [],
   "source": [
    "bidder_bots = [BotBid([True, False], hand, models, sampler, i, 3, False) for i, hand in enumerate(hands)]"
   ]
  },
  {
   "cell_type": "code",
   "execution_count": 5,
   "id": "7d77351a",
   "metadata": {},
   "outputs": [
    {
     "name": "stdout",
     "output_type": "stream",
     "text": [
      "{'bid': '1S', 'candidates': [{'call': '1S', 'insta_score': 0.99}], 'samples': [], 'hcp': -1, 'shape': -1, 'who': 'NN'}\n",
      "{'bid': 'PASS', 'candidates': [{'call': 'PASS', 'insta_score': 1.0}], 'samples': [], 'hcp': -1, 'shape': -1, 'who': 'NN'}\n",
      "{'bid': '2H', 'candidates': [{'call': '2H', 'insta_score': 1.0}], 'samples': [], 'hcp': -1, 'shape': -1, 'who': 'NN'}\n",
      "{'bid': '2N', 'candidates': [{'call': 'PASS', 'insta_score': 0.999}], 'samples': [], 'hcp': -1, 'shape': -1, 'who': 'NN'}\n",
      "{'bid': 'PASS', 'candidates': [{'call': 'PASS', 'insta_score': 0.902, 'expected_score': 160, 'adjustment': 451}, {'call': 'X', 'insta_score': 0.044, 'expected_score': 249, 'adjustment': 22}, {'call': '3S', 'insta_score': 0.032, 'expected_score': -20, 'adjustment': 16}], 'samples': ['Tx.98xx.xxx.T8xx xxx.KQJxx.K9x.Qx AQ8.ATx.AQJ8.J9x KJ9xx.x.Txx.AKxx 0.04951 \\n 1S-P-2H-2N-P-P-3S-P-P-P (8.2)  \\n 1S-P-2H-2N-X-P-P-P (5.5)  \\n 1S-P-2H-2N-3S-P-4C-P-P-P (6.7) ', 'T.xxx.J98xx.JTxx 8xx.QJT9x.AQx.Q8 AQxx.AK8x.Kx.9xx KJ9xx.x.Txx.AKxx 0.03765 \\n 1S-P-2H-2N-P-3D-3S-P-P-P (8.9)  \\n 1S-P-2H-2N-X-3D-3S-P-P-P (8.9)  \\n 1S-P-2H-2N-3S-P-4C-P-P-P (6.8) ', 'Txxx.T.QJ98x.9xx Qx.KJ8xxxxx.x.QT A8.AQ9.AKxx.J8xx KJ9xx.x.Txx.AKxx 0.03564 \\n 1S-P-2H-2N-P-P-4H-X-P-P-P (9.0)  \\n 1S-P-2H-2N-X-P-4H-P-P-P (9.0)  \\n 1S-P-2H-2N-3S-P-4H-P-P-P (9.0) ', 'xxx.xx.Q98xx.98x x.AQJT98x.Ax.Txx AQT8.Kxx.KJx.QJx KJ9xx.x.Txx.AKxx 0.03559 \\n 1S-P-2H-2N-P-P-4H-P-P-P (9.9)  \\n 1S-P-2H-2N-X-P-4H-P-P-P (9.9)  \\n 1S-P-2H-2N-3S-P-4H-P-P-P (9.9) ', 'x.8x.Q8xxx.J9xxx Qx.AKJ9xxx.9x.Tx AT8xx.QTx.AKJ.Q8 KJ9xx.x.Txx.AKxx 0.03552 \\n 1S-P-2H-2N-P-P-4H-P-P-P (8.5)  \\n 1S-P-2H-2N-X-3C-4H-P-P-P (8.5)  \\n 1S-P-2H-2N-3S-P-4C-P-P-P (5.7) ', 'Tx.8xx.J9x.J98xx xx.KQJT9xx.KQx.x AQ8x.Ax.A8xx.QTx KJ9xx.x.Txx.AKxx 0.03531 \\n 1S-P-2H-2N-P-P-4H-P-P-P (9.7)  \\n 1S-P-2H-2N-X-P-4H-P-P-P (9.7)  \\n 1S-P-2H-2N-3S-P-4C-P-P-P (6.4) ', 'xx.J9x.98x.T98xx T8.AQ8xx.AQxxx.x AQxx.KTxx.KJ.QJx KJ9xx.x.Txx.AKxx 0.03499 \\n 1S-P-2H-2N-P-P-3D-P-P-P (10.0)  \\n 1S-P-2H-2N-X-3C-3H-P-P-P (8.0)  \\n 1S-P-2H-2N-3S-P-4S-P-P-P (9.2) ', 'xx.J8x.98xx.JTxx QT.KQT9xx.KJx.9x A8xx.Axx.AQx.Q8x KJ9xx.x.Txx.AKxx 0.03383 \\n 1S-P-2H-2N-P-P-3H-P-P-P (8.4)  \\n 1S-P-2H-2N-X-P-4H-P-P-P (8.4)  \\n 1S-P-2H-2N-3S-P-4S-P-P-P (8.3) ', '8x.xxx.8xxxx.98x AT.AQT8x.J9.JTxx Qxxx.KJ9x.AKQ.Qx KJ9xx.x.Txx.AKxx 0.03315 \\n 1S-P-2H-2N-P-P-P (3.2)  \\n 1S-P-2H-2N-X-P-P-P (3.2)  \\n 1S-P-2H-2N-3S-P-4S-P-P-P (9.9) ', 'Tx.xx.J98xx.JT9x A8.JT98xx.AQx.xx Qxxx.AKQx.Kx.Q8x KJ9xx.x.Txx.AKxx 0.03291 \\n 1S-P-2H-2N-P-P-P (4.8)  \\n 1S-P-2H-2N-X-P-4H-P-P-P (8.3)  \\n 1S-P-2H-2N-3S-P-4C-P-P-P (7.5) '], 'hcp': [4.6, 7.6, 16.7], 'shape': [2.9, 3.0, 3.7, 3.4, 1.8, 5.6, 3.0, 2.6, 3.1, 3.2, 3.5, 3.3], 'who': 'Simulation'}\n",
      "{'bid': 'PASS', 'candidates': [{'call': 'PASS', 'insta_score': 0.262, 'expected_score': -61, 'adjustment': 131}, {'call': '3C', 'insta_score': 0.361, 'expected_score': -163, 'adjustment': 181}, {'call': '3S', 'insta_score': 0.034, 'expected_score': -152, 'adjustment': 17}, {'call': '3D', 'insta_score': 0.184, 'expected_score': -249, 'adjustment': 92}, {'call': '3N', 'insta_score': 0.03, 'expected_score': -192, 'adjustment': 15}, {'call': '3H', 'insta_score': 0.082, 'expected_score': -309, 'adjustment': 41}], 'samples': ['T8xxx.Kxxxx.J.Qx 9.AQT9xx.98x.A9x A..AQTxxx.KJTxxx KQJxxx.J8.Kxx.8x 0.00731 \\n 1S-P-2H-2N-P-3C-X-P-P-P (9.3)  \\n 1S-P-2H-2N-P-P-3H-P-P-P (8.0)  \\n 1S-P-2H-2N-P-3D-P-P-P (8.2)  \\n 1S-P-2H-2N-P-3H-X-4C-P-P-P (8.8)  \\n 1S-P-2H-2N-P-3S-P-4C-P-P-P (8.8)  \\n 1S-P-2H-2N-P-3N-X-4C-P-P-P (8.8) ', 'T8xxx.Kxxxx.J.Qx x.AQJT98x.9x.9xx J..KQ8xxx.AKJT8x AKQ9xx.x.ATxx.xx 0.00703 \\n 1S-P-2H-2N-P-3C-P-P-3S-P-4H-P-P-P (9.0)  \\n 1S-P-2H-2N-P-P-3H-P-3S-P-4H-P-P-P (9.0)  \\n 1S-P-2H-2N-P-3D-P-P-P (7.2)  \\n 1S-P-2H-2N-P-3H-X-4C-P-P-P (7.8)  \\n 1S-P-2H-2N-P-3S-P-4C-P-P-P (7.8)  \\n 1S-P-2H-2N-P-3N-P-4C-P-P-P (7.8) ', 'T8xxx.Kxxxx.J.Qx .AQJT98x.KT8x.9x xx.x.AQ9xx.AKJ8x AKQJ9x..xxx.Txxx 0.00413 \\n 1S-P-2H-2N-P-3C-4H-P-P-P (7.5)  \\n 1S-P-2H-2N-P-P-4H-P-P-P (7.5)  \\n 1S-P-2H-2N-P-3D-4H-P-P-P (7.5)  \\n 1S-P-2H-2N-P-3H-4H-P-P-P (7.5)  \\n 1S-P-2H-2N-P-3S-4H-P-P-P (7.5)  \\n 1S-P-2H-2N-P-3N-4H-X-P-P-P (7.5) ', 'T8xxx.Kxxxx.J.Qx .AQJT9x.xxx.KT9x J.8x.AKQ9x.AJ8xx AKQ9xxx..T8xx.xx 0.00379 \\n 1S-P-2H-2N-P-3C-X-P-P-P (6.7)  \\n 1S-P-2H-2N-P-P-3H-P-4S-P-P-P (7.2)  \\n 1S-P-2H-2N-P-3D-3H-P-4S-P-P-P (7.2)  \\n 1S-P-2H-2N-P-3H-X-P-P-P (6.1)  \\n 1S-P-2H-2N-P-3S-P-4D-P-P-P (6.1)  \\n 1S-P-2H-2N-P-3N-P-P-P (5.8) ', 'T8xxx.Kxxxx.J.Qx .QJ8xx.xxx.KJxxx KQ9.A9.KT8x.A9xx AJxxx.T.AQ9xx.T8 0.00364 \\n 1S-P-2H-2N-P-3C-X-P-P-P (5.5)  \\n 1S-P-2H-2N-P-P-P (6.7)  \\n 1S-P-2H-2N-P-3D-P-P-P (4.5)  \\n 1S-P-2H-2N-P-3H-P-3N-P-P-P (6.7)  \\n 1S-P-2H-2N-P-3S-P-3N-P-P-P (6.7)  \\n 1S-P-2H-2N-P-3N-P-P-P (6.7) ', 'T8xxx.Kxxxx.J.Qx x.AQTxx.K98xx.9x J.J8.AQxxx.AKT8x AKQ9xx.9.Tx.Jxxx 0.00362 \\n 1S-P-2H-2N-P-3C-P-P-P (7.5)  \\n 1S-P-2H-2N-P-P-P (6.2)  \\n 1S-P-2H-2N-P-3D-X-P-P-P (6.2)  \\n 1S-P-2H-2N-P-3H-P-4D-P-P-P (6.3)  \\n 1S-P-2H-2N-P-3S-P-4D-P-P-P (6.3)  \\n 1S-P-2H-2N-P-3N-P-P-P (6.2) ', 'T8xxx.Kxxxx.J.Qx .QT98x.Kxxx.A98x 9.AJ.AQ8xx.KJTxx AKQJxxx.x.T9x.xx 0.00348 \\n 1S-P-2H-2N-P-3C-X-P-P-P (8.2)  \\n 1S-P-2H-2N-P-P-P (6.3)  \\n 1S-P-2H-2N-P-3D-X-P-P-P (7.1)  \\n 1S-P-2H-2N-P-3H-P-4D-P-P-P (6.7)  \\n 1S-P-2H-2N-P-3S-P-4D-4S-P-P-X-P-P-P (6.6)  \\n 1S-P-2H-2N-P-3N-P-P-P (6.3) ', 'T8xxx.Kxxxx.J.Qx .QJT8x.A8x.JTxxx KQ.9.KT9xx.AK9xx AJ9xxx.Ax.Qxxx.8 0.00339 \\n 1S-P-2H-2N-P-3C-P-P-P (6.6)  \\n 1S-P-2H-2N-P-P-P (6.5)  \\n 1S-P-2H-2N-P-3D-P-P-P (5.7)  \\n 1S-P-2H-2N-P-3H-P-4D-P-P-P (5.7)  \\n 1S-P-2H-2N-P-3S-P-3N-P-P-P (6.5)  \\n 1S-P-2H-2N-P-3N-P-P-P (6.5) ', 'T8xxx.Kxxxx.J.Qx .AQJ98.8xxx.J98x Qx.x.AK9xx.AKTxx AKJ9xx.Tx.QTx.xx 0.00319 \\n 1S-P-2H-2N-P-3C-P-P-P (7.1)  \\n 1S-P-2H-2N-P-P-P (5.5)  \\n 1S-P-2H-2N-P-3D-P-P-P (6.2)  \\n 1S-P-2H-2N-P-3H-P-4D-P-P-P (6.3)  \\n 1S-P-2H-2N-P-3S-P-3N-P-P-P (5.5)  \\n 1S-P-2H-2N-P-3N-P-P-P (5.5) ', 'T8xxx.Kxxxx.J.Qx .AQT98xx.xx.8xxx Qxx..AKxxx.AJ9xx AKJ9x.J.QT98x.KT 0.00277 \\n 1S-P-2H-2N-P-3C-P-P-P (6.4)  \\n 1S-P-2H-2N-P-P-3H-P-P-P (8.3)  \\n 1S-P-2H-2N-P-3D-P-P-P (5.7)  \\n 1S-P-2H-2N-P-3H-P-4D-P-P-P (5.8)  \\n 1S-P-2H-2N-P-3S-P-3N-P-P-P (4.8)  \\n 1S-P-2H-2N-P-3N-P-P-P (4.8) '], 'hcp': [9.6, 14.5, 10.6], 'shape': [1.1, 5.3, 3.6, 3.0, 1.7, 2.2, 4.7, 4.5, 5.2, 1.1, 3.6, 3.3], 'who': 'Simulation'}\n",
      "{'bid': 'X', 'candidates': [{'call': 'X', 'insta_score': 0.147, 'expected_score': 831, 'adjustment': 73}, {'call': 'PASS', 'insta_score': 0.518, 'expected_score': 346, 'adjustment': 259}, {'call': '3H', 'insta_score': 0.04, 'expected_score': 124, 'adjustment': 20}, {'call': '3D', 'insta_score': 0.267, 'expected_score': -568, 'adjustment': 133}], 'samples': ['98xxxx.xxxx..QJx x.AQJ98.KQ9xx.9x J..A8xxxx.AKTxxx AKQTx.KTxx.JT.8x 0.37195 \\n 1S-P-2H-2N-P-P-P (3.3)  \\n 1S-P-2H-2N-P-P-3D-X-P-P-P (7.3)  \\n 1S-P-2H-2N-P-P-X-P-P-P (3.3)  \\n 1S-P-2H-2N-P-P-3H-P-P-P (8.9) ', 'JT98x.Txxx.x.AJx x.AQJ98.KQ9xx.9x Q..AJTxxx.KQT8xx AKxxxx.Kxxx.8.xx 0.28109 \\n 1S-P-2H-2N-P-P-P (5.3)  \\n 1S-P-2H-2N-P-P-3D-X-P-P-P (4.9)  \\n 1S-P-2H-2N-P-P-X-P-P-P (5.3)  \\n 1S-P-2H-2N-P-P-3H-P-P-P (8.8) ', 'QJ98xx.Kxxx.x.xx x.AQJ98.KQ9xx.9x T..AJTxxx.KQ8xxx AKxxx.Txxx.8.AJT 0.27414 \\n 1S-P-2H-2N-P-P-P (2.7)  \\n 1S-P-2H-2N-P-P-3D-X-P-P-P (7.1)  \\n 1S-P-2H-2N-P-P-X-P-P-P (2.7)  \\n 1S-P-2H-2N-P-P-3H-P-P-P (10.1) ', 'K98xxx.Txxx.x.Kx x.AQJ98.KQ9xx.9x .x.AJ8xxx.AQJ8xx AQJTxx.Kxx.T.Txx 0.26275 \\n 1S-P-2H-2N-P-P-P (5.5)  \\n 1S-P-2H-2N-P-P-3D-X-P-P-P (5.6)  \\n 1S-P-2H-2N-P-P-X-P-P-P (5.5)  \\n 1S-P-2H-2N-P-P-3H-P-P-P (7.9) ', 'KJT9xxx.Txx..Txx x.AQJ98.KQ9xx.9x .x.AJ8xxx.KQ8xxx AQ8xx.Kxxx.Tx.AJ 0.25733 \\n 1S-P-2H-2N-P-P-P (3.4)  \\n 1S-P-2H-2N-P-P-3D-X-P-P-P (7.4)  \\n 1S-P-2H-2N-P-P-X-P-P-P (3.4)  \\n 1S-P-2H-2N-P-P-3H-P-P-P (9.1) ', 'KTxxx.xxxx.xx.AT x.AQJ98.KQ9xx.9x x..AJT8xx.KQJ8xx AQJ98x.KTxx..xxx 0.25661 \\n 1S-P-2H-2N-P-P-P (5.8)  \\n 1S-P-2H-2N-P-P-3D-X-P-P-P (4.2)  \\n 1S-P-2H-2N-P-P-X-P-P-P (5.8)  \\n 1S-P-2H-2N-P-P-3H-P-4H-P-P-P (9.8) ', 'KQJ9xx.xxx.8x.Jx x.AQJ98.KQ9xx.9x x..AJTxxx.ATxxxx AT8xx.KTxxx..KQ8 0.21150 \\n 1S-P-2H-2N-P-P-P (3.7)  \\n 1S-P-2H-2N-P-P-3D-X-P-P-P (6.1)  \\n 1S-P-2H-2N-P-P-X-P-3H-P-P-P (10.9)  \\n 1S-P-2H-2N-P-P-3H-P-4H-P-P-P (10.9) ', 'AT8xxx.Kxxx.Tx.T x.AQJ98.KQ9xx.9x .T.AJ8xxx.KQJ8xx KQJ9xx.xxx..Axxx 0.20750 \\n 1S-P-2H-2N-P-P-P (5.8)  \\n 1S-P-2H-2N-P-P-3D-X-P-P-P (5.3)  \\n 1S-P-2H-2N-P-P-X-P-P-P (5.8)  \\n 1S-P-2H-2N-P-P-3H-P-P-P (8.6) ', 'QJxxx.Txxx.x.KJx x.AQJ98.KQ9xx.9x 8..AJT8xx.AQ8xxx AKT9xx.Kxxx.x.Tx 0.20618 \\n 1S-P-2H-2N-P-P-P (5.1)  \\n 1S-P-2H-2N-P-P-3D-X-P-P-P (5.5)  \\n 1S-P-2H-2N-P-P-X-P-P-P (5.1)  \\n 1S-P-2H-2N-P-P-3H-P-P-P (8.9) ', 'JT9xx.KTxx.J.xxx x.AQJ98.KQ9xx.9x .x.AT8xxx.AKJ8xx AKQ8xxx.xxx.x.QT 0.18616 \\n 1S-P-2H-2N-P-P-P (4.3)  \\n 1S-P-2H-2N-P-P-3D-X-P-P-P (5.6)  \\n 1S-P-2H-2N-P-P-X-P-P-P (4.3)  \\n 1S-P-2H-2N-P-P-3H-P-P-P (8.2) '], 'hcp': [9.7, 11.7, 6.0], 'shape': [1.2, 1.2, 5.4, 5.2, 5.4, 2.9, 1.7, 3.0, 4.7, 4.0, 1.7, 2.4], 'who': 'Simulation'}\n",
      "{'bid': 'PASS', 'candidates': [{'call': 'PASS', 'insta_score': 0.995}], 'samples': [], 'hcp': -1, 'shape': -1, 'who': 'NN'}\n",
      "{'bid': 'PASS', 'candidates': [{'call': 'PASS', 'insta_score': 0.885, 'expected_score': 851, 'adjustment': 442}, {'call': '3S', 'insta_score': 0.076, 'expected_score': 27, 'adjustment': 38}], 'samples': ['Txx.98x.8xx.98xx A8x.Qxxxx.Q9x.QJ Qx.AKJT.AKJx.Txx KJ9xx.x.Txx.AKxx 0.05131 \\n 1S-P-2H-2N-P-P-X-P-P-P (4.8)  \\n 1S-P-2H-2N-P-P-X-P-3S-P-P-P (8.9) ', 'T8.JTx.98xx.T98x Qx.KQ8xx.AJxx.xx Axxx.A9xx.KQ.QJx KJ9xx.x.Txx.AKxx 0.03781 \\n 1S-P-2H-2N-P-P-X-P-P-P (4.0)  \\n 1S-P-2H-2N-P-P-X-P-3S-P-P-P (8.7) ', 'Txx.xxx.J98xx.xx .AQJT8x.Kxx.QT8x AQ8xx.K9x.AQ.J9x KJ9xx.x.Txx.AKxx 0.03714 \\n 1S-P-2H-2N-P-P-X-P-P-P (4.6)  \\n 1S-P-2H-2N-P-P-X-P-3S-P-4H-P-P-P (9.1) ', '8xx.Tx.98xx.QT9x A.J8xxxx.AJx.Jxx QTxx.AKQ9.KQx.8x KJ9xx.x.Txx.AKxx 0.03561 \\n 1S-P-2H-2N-P-P-X-P-P-P (5.8)  \\n 1S-P-2H-2N-P-P-X-P-3S-P-4H-P-P-P (7.6) ', '8xx.T9xx.Q98.Txx x.AQJ8x.KJxx.8xx AQTx.Kxx.Axx.QJ9 KJ9xx.x.Txx.AKxx 0.03535 \\n 1S-P-2H-2N-P-P-X-P-P-P (4.8)  \\n 1S-P-2H-2N-P-P-X-P-3S-P-P-P (8.1) ', 'xx.J9xx.J9xx.9xx Tx.KQT8x.A8x.QTx AQ8x.Axx.KQx.J8x KJ9xx.x.Txx.AKxx 0.03525 \\n 1S-P-2H-2N-P-P-X-P-P-P (3.9)  \\n 1S-P-2H-2N-P-P-X-P-3S-P-P-P (8.8) ', '8xx.xx.J98x.T8xx x.AQT98x.AQxx.9x AQTx.KJxx.Kx.QJx KJ9xx.x.Txx.AKxx 0.03485 \\n 1S-P-2H-2N-P-P-X-P-P-P (4.0)  \\n 1S-P-2H-2N-P-P-X-P-3S-P-3N-P-P-P (8.3) ', 'T8x.T8xx.xx.98xx x.AJ9xx.KJxx.Qxx AQxx.KQx.AQ98.JT KJ9xx.x.Txx.AKxx 0.03069 \\n 1S-P-2H-2N-P-P-X-P-P-P (5.2)  \\n 1S-P-2H-2N-P-P-X-P-3S-P-P-P (7.4) ', 'Txx.JTxx.9x.Jxxx .AQ9xx.KJ8xx.QTx AQ8xx.K8x.AQx.98 KJ9xx.x.Txx.AKxx 0.02466 \\n 1S-P-2H-2N-P-P-X-P-P-P (4.7)  \\n 1S-P-2H-2N-P-P-X-P-3S-P-3N-P-P-P (7.9) ', 'xxx.T9x.Jxx.QT9x A.A8xxx.Q8xx.xxx QT8x.KQJx.AK9.J8 KJ9xx.x.Txx.AKxx 0.02360 \\n 1S-P-2H-2N-P-P-X-P-P-P (6.1)  \\n 1S-P-2H-2N-P-P-X-P-3S-P-P-P (7.7) '], 'hcp': [3.3, 9.8, 15.7], 'shape': [2.9, 3.0, 3.6, 3.3, 1.8, 5.2, 3.1, 2.9, 3.1, 3.5, 3.4, 3.1], 'who': 'Simulation'}\n",
      "{'bid': 'PASS', 'candidates': [{'call': 'PASS', 'insta_score': 0.975, 'expected_score': -737, 'adjustment': 487}, {'call': '3S', 'insta_score': 0.007, 'expected_score': -262, 'adjustment': -783}], 'samples': ['T8xxx.Kxxxx.J.Qx J.AQT98.T9xx.K9x .x.AK8xxx.AJ8xxx AKQ9xxx.Jx.Qx.Tx 0.02274 \\n 1S-P-2H-2N-P-P-X-P-P-P (3.8)  \\n 1S-P-2H-2N-P-P-X-P-P-3S-P-P-4S-P-P-P (7.7) ', 'T8xxx.Kxxxx.J.Qx x.AQJT98x.98x.9x Jx.x.AKQxx.AJxxx AKQ9x..Txxx.KT8x 0.00375 \\n 1S-P-2H-2N-P-P-X-P-P-P (5.6)  \\n 1S-P-2H-2N-P-P-X-P-P-3S-P-P-P (5.7) ', 'T8xxx.Kxxxx.J.Qx x.AQJTx.T9.J8xxx Ax.9.KQxxx.AKTxx KQJ9x.8x.A8xxx.9 0.00318 \\n 1S-P-2H-2N-P-P-X-P-P-P (6.3)  \\n 1S-P-2H-2N-P-P-X-P-P-3S-P-P-P (6.0) ', 'T8xxx.Kxxxx.J.Qx Ax.AJ98x.Qx.T8xx Q.T.KT8xxx.AKxxx KJ9xx.Qx.A9xx.J9 0.00315 \\n 1S-P-2H-2N-P-P-X-P-P-P (4.2)  \\n 1S-P-2H-2N-P-P-X-P-P-3S-P-P-P (5.0) ', 'T8xxx.Kxxxx.J.Qx Qx.AJT9x.Q98x.Jx .Qx.AKTxxx.ATxxx AKJ9xx.8.xx.K98x 0.00295 \\n 1S-P-2H-2N-P-P-X-P-P-P (4.6)  \\n 1S-P-2H-2N-P-P-X-P-P-3S-P-P-P (4.6) ', 'T8xxx.Kxxxx.J.Qx .AQJ98xx.T9x.8xx Qx.T.KQ8xx.AKJ9x AKJ9xx..Axxx.Txx 0.00289 \\n 1S-P-2H-2N-P-P-X-P-P-P (5.4)  \\n 1S-P-2H-2N-P-P-X-P-P-3S-P-P-P (5.6) ', 'T8xxx.Kxxxx.J.Qx .AQJ98xx.8xxx.Jx Ax.T.AKTxx.A98xx KQJ9xx..Q9x.KTxx 0.00287 \\n 1S-P-2H-2N-P-P-X-P-P-P (6.3)  \\n 1S-P-2H-2N-P-P-X-P-P-3S-P-P-P (5.9) ', 'T8xxx.Kxxxx.J.Qx K.QJT98x.AT8x.T8 xx.A.KQxxx.KJxxx AQJ9x.x.9xx.A9xx 0.00272 \\n 1S-P-2H-2N-P-P-X-P-P-P (5.0)  \\n 1S-P-2H-2N-P-P-X-P-P-3S-P-P-P (5.7) ', 'T8xxx.Kxxxx.J.Qx AK.QJT8x.Txx.xxx x.9x.AQ9xx.AKJTx QJ9xx.A.K8xx.98x 0.00258 \\n 1S-P-2H-2N-P-P-X-P-P-P (5.9)  \\n 1S-P-2H-2N-P-P-X-P-P-3S-P-P-P (5.9) ', 'T8xxx.Kxxxx.J.Qx K.AQJT98x.8xx.9x J.x.AQ9xx.AJTxxx AQ9xxx..KTxx.K8x 0.00247 \\n 1S-P-2H-2N-P-P-X-P-P-P (4.0)  \\n 1S-P-2H-2N-P-P-X-P-P-3S-4H-P-P-P (8.4) '], 'hcp': [9.1, 14.3, 10.6], 'shape': [1.1, 5.0, 3.7, 3.3, 1.7, 2.2, 4.7, 4.4, 4.9, 1.2, 3.6, 3.3], 'who': 'Simulation'}\n",
      "['PAD_START', 'PAD_START', 'PAD_START', '1S', 'PASS', '2H', '2N', 'PASS', 'PASS', 'X', 'PASS', 'PASS', 'PASS']\n"
     ]
    }
   ],
   "source": [
    "auction = ['PAD_START','PAD_START','PAD_START']  # since West deals we need 'PAD_START'\n",
    "\n",
    "turn_i = len(auction) % 4 # whose turn is it to bid\n",
    "step = 0\n",
    "\n",
    "while not bidding.auction_over(auction):\n",
    "    bid = bidder_bots[turn_i].bid(auction)\n",
    "    # if step== 1:\n",
    "    # bid.bid='X'\n",
    "    if step== 3:\n",
    "        bid.bid='2N'\n",
    "    #if step== 5:\n",
    "    #    bid.bid='2C'\n",
    "    print(bid.to_dict())\n",
    "    auction.append(bid.bid)\n",
    "    turn_i = (turn_i + 1) % 4  # next player's turn\n",
    "    step += 1\n",
    "print(auction)"
   ]
  }
 ],
 "metadata": {
  "kernelspec": {
   "display_name": "Python 3 (ipykernel)",
   "language": "python",
   "name": "python3"
  },
  "language_info": {
   "codemirror_mode": {
    "name": "ipython",
    "version": 3
   },
   "file_extension": ".py",
   "mimetype": "text/x-python",
   "name": "python",
   "nbconvert_exporter": "python",
   "pygments_lexer": "ipython3",
   "version": "3.11.0"
  }
 },
 "nbformat": 4,
 "nbformat_minor": 5
}
