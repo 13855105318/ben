{
 "cells": [
  {
   "cell_type": "markdown",
   "id": "170af530",
   "metadata": {},
   "source": [
    "# Opening Lead\n",
    "\n",
    "Checking the opening lead for a specific contract"
   ]
  },
  {
   "cell_type": "code",
   "execution_count": 1,
   "id": "26570686",
   "metadata": {},
   "outputs": [
    {
     "name": "stdout",
     "output_type": "stream",
     "text": [
      "WARNING:tensorflow:From c:\\Python311\\Lib\\site-packages\\tensorflow\\python\\compat\\v2_compat.py:107: disable_resource_variables (from tensorflow.python.ops.variable_scope) is deprecated and will be removed in a future version.\n",
      "Instructions for updating:\n",
      "non-resource variables are not supported in the long term\n"
     ]
    }
   ],
   "source": [
    "import os\n",
    "import sys\n",
    "sys.path.append('../../src')\n",
    "os.environ['BEN_HOME'] = \"../..\"\n",
    "\n",
    "from nn.models import Models\n",
    "from bots import BotLead\n",
    "from sample import Sample\n",
    "import conf\n",
    "import numpy as np\n",
    "\n",
    "np.set_printoptions(precision=2, suppress=True, linewidth=200)\n",
    "np.random.seed(42)\n"
   ]
  },
  {
   "cell_type": "code",
   "execution_count": 2,
   "id": "fe373c76",
   "metadata": {},
   "outputs": [
    {
     "name": "stdout",
     "output_type": "stream",
     "text": [
      "INFO:tensorflow:Restoring parameters from ..\\Models/NS1EW99-bidding-10724000\n",
      "INFO:tensorflow:Restoring parameters from ..\\Models/NS1EW99-binfo-6131000\n",
      "INFO:tensorflow:Restoring parameters from ..\\Models/lead_suit-154000\n",
      "INFO:tensorflow:Restoring parameters from ..\\Models/lead_nt-59000\n",
      "INFO:tensorflow:Restoring parameters from ..\\Models/lr3-1000000\n",
      "INFO:tensorflow:Restoring parameters from ..\\Models/single_dummy-32768000\n",
      "INFO:tensorflow:Restoring parameters from ..\\Models/lefty-1000000\n",
      "INFO:tensorflow:Restoring parameters from ..\\Models/dummy-920000\n",
      "INFO:tensorflow:Restoring parameters from ..\\Models/righty-1000000\n",
      "INFO:tensorflow:Restoring parameters from ..\\Models/decl-1000000\n"
     ]
    }
   ],
   "source": [
    "models = Models.from_conf(conf.load('../Conf/UCBC2024.conf'),'..')   # loading neural networks\n",
    "sampler = Sample.from_conf(conf.load('../Conf/UCBC2024.conf'), False)  # Load sampling strategies"
   ]
  },
  {
   "cell_type": "code",
   "execution_count": 3,
   "id": "c3397678",
   "metadata": {},
   "outputs": [
    {
     "name": "stderr",
     "output_type": "stream",
     "text": [
      "Loaded lib dds.dll\n"
     ]
    }
   ],
   "source": [
    "# both vulnerable. you are sitting North as dealer and you hold\n",
    "hand = 'QJT75.86.63.AT52'\n",
    "\n",
    "# the auction goes:\n",
    "auction = [\"PAD_START\", \"PAD_START\", \"PAD_START\", \"2N\", \"PASS\", \"3C\", \"PASS\", \"3D\", \"PASS\", \"6N\", \"PASS\", \"PASS\", \"PASS\"]\n",
    "\n",
    "# what to lead?\n",
    "\n",
    "lead_bot = BotLead([False, False], hand, models, sampler, False)\n",
    "lead = lead_bot.find_opening_lead(auction)"
   ]
  },
  {
   "cell_type": "code",
   "execution_count": 4,
   "id": "a2b5fe25",
   "metadata": {},
   "outputs": [
    {
     "data": {
      "text/plain": [
       "SQ"
      ]
     },
     "execution_count": 4,
     "metadata": {},
     "output_type": "execute_result"
    }
   ],
   "source": [
    "lead.card"
   ]
  },
  {
   "cell_type": "markdown",
   "id": "02e88396",
   "metadata": {},
   "source": [
    "seems like the engine chose to lead the ace of diamonds\n",
    "\n",
    "the other options it considered were: a small spade and a small club"
   ]
  },
  {
   "cell_type": "code",
   "execution_count": 5,
   "id": "956ef356",
   "metadata": {},
   "outputs": [
    {
     "data": {
      "text/plain": [
       "[{'card': 'SQ',\n",
       "  'insta_score': 0.898,\n",
       "  'expected_tricks_sd': 11.52,\n",
       "  'p_make_contract': 0.44},\n",
       " {'card': 'Cx',\n",
       "  'insta_score': 0.099,\n",
       "  'expected_tricks_sd': 11.74,\n",
       "  'p_make_contract': 0.27}]"
      ]
     },
     "execution_count": 5,
     "metadata": {},
     "output_type": "execute_result"
    }
   ],
   "source": [
    "lead.to_dict()['candidates']"
   ]
  },
  {
   "cell_type": "markdown",
   "id": "97efc5a1",
   "metadata": {},
   "source": [
    "in the above output:\n",
    "- `insta_score` reflects the preference of the neural network\n",
    "- `expected_tricks` how many tricks declarer is expected to take on this lead\n",
    "- `p_make_contract` is the probability of the contract making on this lead\n",
    "\n",
    "the probability of making and the expected tricks are computed on samples which are consistent with the auction. the samples are estimated single dummy using a neural network (more on this in another tutorial). we could also solve the samples double dummy, but that would be quite a bit slower."
   ]
  },
  {
   "cell_type": "code",
   "execution_count": 6,
   "id": "7cb2bf98",
   "metadata": {},
   "outputs": [
    {
     "data": {
      "text/plain": [
       "['8x.AKxx.Qx.Q98xx 9xx.JT9x.J98x.xx AKx.Qxx.AKTxx.KJ 0.59336',\n",
       " 'Ax.QJxx.Jx.QJ8xx 9xx.T9xx.QT98x.9 K8x.AKx.AKxx.Kxx 0.58787',\n",
       " 'xx.ATxx.A8.QJ8xx 98x.J9xx.JT9x.9x AKx.KQx.KQxxx.Kx 0.56284',\n",
       " '9x.AQxx.KT.QJ9xx 8xx.Txxx.xxxx.8x AKx.KJ9.AQJ98.Kx 0.52862',\n",
       " 'Kx.QT9x.KJTxx.QJ 98x.Jxxx.98x.8xx Axx.AKx.AQx.K9xx 0.43601',\n",
       " '8x.KJxx.A9x.KJ9x 9xx.T9xx.Txxx.8x AKx.AQx.KQJ8.Qxx 0.41688',\n",
       " 'K9x.KQxx.Qx.J8xx 8xx.JT9xx.T98x.x Ax.Ax.AKJxx.KQ9x 0.41615',\n",
       " '98.AJ9x.KQT98.J9 xxx.Txxx.xxx.Q8x AKx.KQx.AJx.Kxxx 0.40385',\n",
       " '98x.KQxx.KQT9x.Q xx.JT9xx.xx.98xx AKx.Ax.AJ8x.KJxx 0.39978',\n",
       " 'xxx.AQJT.QJTxx.J 98x.xxxx.9.Q98xx AK.K9x.AK8xx.Kxx 0.39976']"
      ]
     },
     "execution_count": 6,
     "metadata": {},
     "output_type": "execute_result"
    }
   ],
   "source": [
    "# each row is one sample board\n",
    "# the hands are in the order: LHO, Partner, RHO. Your cards are not shown as they are fixed/\n",
    "\n",
    "lead.samples"
   ]
  }
 ],
 "metadata": {
  "kernelspec": {
   "display_name": "Python 3 (ipykernel)",
   "language": "python",
   "name": "python3"
  },
  "language_info": {
   "codemirror_mode": {
    "name": "ipython",
    "version": 3
   },
   "file_extension": ".py",
   "mimetype": "text/x-python",
   "name": "python",
   "nbconvert_exporter": "python",
   "pygments_lexer": "ipython3",
   "version": "3.11.0"
  }
 },
 "nbformat": 4,
 "nbformat_minor": 5
}
