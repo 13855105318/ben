{
 "cells": [
  {
   "cell_type": "markdown",
   "id": "170af530",
   "metadata": {},
   "source": [
    "# Opening Lead\n",
    "\n",
    "Checking the opening lead for a specific contract"
   ]
  },
  {
   "cell_type": "code",
   "execution_count": 1,
   "id": "26570686",
   "metadata": {},
   "outputs": [
    {
     "name": "stdout",
     "output_type": "stream",
     "text": [
      "WARNING:tensorflow:From c:\\Python311\\Lib\\site-packages\\tensorflow\\python\\compat\\v2_compat.py:107: disable_resource_variables (from tensorflow.python.ops.variable_scope) is deprecated and will be removed in a future version.\n",
      "Instructions for updating:\n",
      "non-resource variables are not supported in the long term\n"
     ]
    }
   ],
   "source": [
    "import os\n",
    "import sys\n",
    "sys.path.append('../../src')\n",
    "os.environ['BEN_HOME'] = \"../..\"\n",
    "\n",
    "from nn.models import Models\n",
    "from bots import BotLead\n",
    "from sample import Sample\n",
    "import conf\n",
    "import numpy as np\n",
    "\n",
    "np.set_printoptions(precision=2, suppress=True, linewidth=200)\n",
    "np.random.seed(42)\n"
   ]
  },
  {
   "cell_type": "code",
   "execution_count": 2,
   "id": "fe373c76",
   "metadata": {},
   "outputs": [
    {
     "name": "stdout",
     "output_type": "stream",
     "text": [
      "INFO:tensorflow:Restoring parameters from ..\\Models/NS1EW2-bidding-3233000\n",
      "INFO:tensorflow:Restoring parameters from ..\\Models/NS1EW2-binfo-808000\n",
      "INFO:tensorflow:Restoring parameters from ..\\Models/lead_suit-154000\n",
      "INFO:tensorflow:Restoring parameters from ..\\Models/lead_nt-59000\n",
      "INFO:tensorflow:Restoring parameters from ..\\Models/lr3-1000000\n",
      "INFO:tensorflow:Restoring parameters from ..\\Models/lefty-1000000\n",
      "INFO:tensorflow:Restoring parameters from ..\\Models/dummy-920000\n",
      "INFO:tensorflow:Restoring parameters from ..\\Models/righty-1000000\n",
      "INFO:tensorflow:Restoring parameters from ..\\Models/decl-1000000\n"
     ]
    }
   ],
   "source": [
    "models = Models.from_conf(conf.load('../Conf/UCBC2024.conf'),'..')   # loading neural networks\n",
    "sampler = Sample.from_conf(conf.load('../Conf/UCBC2024.conf'), False)  # Load sampling strategies"
   ]
  },
  {
   "cell_type": "code",
   "execution_count": 3,
   "id": "c3397678",
   "metadata": {},
   "outputs": [],
   "source": [
    "# both vulnerable. you are sitting North as dealer and you hold\n",
    "hand = 'QJT75.86.63.AT52'\n",
    "\n",
    "# the auction goes:\n",
    "auction = [\"PAD_START\", \"PAD_START\", \"PAD_START\", \"2N\", \"PASS\", \"3C\", \"PASS\", \"3D\", \"PASS\", \"6N\", \"PASS\", \"PASS\", \"PASS\"]\n",
    "\n",
    "# what to lead?\n",
    "\n",
    "lead_bot = BotLead([False, False], hand, models, sampler, False)\n",
    "lead = lead_bot.find_opening_lead(auction)"
   ]
  },
  {
   "cell_type": "code",
   "execution_count": 4,
   "id": "a2b5fe25",
   "metadata": {},
   "outputs": [
    {
     "data": {
      "text/plain": [
       "C5"
      ]
     },
     "execution_count": 4,
     "metadata": {},
     "output_type": "execute_result"
    }
   ],
   "source": [
    "lead.card"
   ]
  },
  {
   "cell_type": "markdown",
   "id": "02e88396",
   "metadata": {},
   "source": [
    "seems like the engine chose to lead the ace of diamonds\n",
    "\n",
    "the other options it considered were: a small spade and a small club"
   ]
  },
  {
   "cell_type": "code",
   "execution_count": 5,
   "id": "956ef356",
   "metadata": {},
   "outputs": [
    {
     "data": {
      "text/plain": [
       "[{'card': 'Cx',\n",
       "  'insta_score': 0.3347,\n",
       "  'expected_tricks_sd': 11.506,\n",
       "  'p_make_contract': 0.554},\n",
       " {'card': 'SQ',\n",
       "  'insta_score': 0.6514,\n",
       "  'expected_tricks_sd': 11.516,\n",
       "  'p_make_contract': 0.562}]"
      ]
     },
     "execution_count": 5,
     "metadata": {},
     "output_type": "execute_result"
    }
   ],
   "source": [
    "lead.to_dict()['candidates']"
   ]
  },
  {
   "cell_type": "markdown",
   "id": "97efc5a1",
   "metadata": {},
   "source": [
    "in the above output:\n",
    "- `insta_score` reflects the preference of the neural network\n",
    "- `expected_tricks` how many tricks declarer is expected to take on this lead\n",
    "- `p_make_contract` is the probability of the contract making on this lead\n",
    "\n",
    "the probability of making and the expected tricks are computed on samples which are consistent with the auction. the samples are estimated single dummy using a neural network (more on this in another tutorial). we could also solve the samples double dummy, but that would be quite a bit slower."
   ]
  },
  {
   "cell_type": "code",
   "execution_count": 6,
   "id": "7cb2bf98",
   "metadata": {},
   "outputs": [
    {
     "data": {
      "text/plain": [
       "['A8xx.AQx.xx.J8xx 9x.JTxxx.JT98.9x Kx.K9x.AKQxx.KQx 0.49426',\n",
       " '9xxx.KJxx.Ax.QJx x.QTxxx.98xx.8xx AK8.A9.KQJTx.K9x 0.46943',\n",
       " '98xx.Qxx.AQ8x.K8 x.T9xxx.J9xx.xxx AKx.AKJ.KTx.QJ9x 0.46376',\n",
       " '9xxx.QJTx.Ax.KJ8 x.9xxxx.98xx.Q9x AK8.AK.KQJTx.xxx 0.46321',\n",
       " 'K8xx.Kxx.QJTx.Qx 9x.Q9xxx.98x.98x Ax.AJT.AKxx.KJxx 0.46267',\n",
       " 'AKxx.Q9x.8x.Q98x 98.Txxxx.JT9xx.x xx.AKJ.AKQx.KJxx 0.46113',\n",
       " 'A8xx.AJxx.9x.QJx xx.T9xx.JT8x.8xx K9.KQx.AKQxx.K9x 0.45727',\n",
       " 'Axxx.Qxx.Qxx.K9x 8.JT9xx.T8x.J8xx K9x.AKx.AKJ9x.Qx 0.44683',\n",
       " 'A9xx.KQ9.Qxxxx.8 8x.Txxxx.T9.Jxxx Kx.AJx.AKJ8.KQ9x 0.44542',\n",
       " 'A9.QJxx.Kx.J98xx 8xx.T9xxx.QT98x. Kxx.AK.AJxx.KQxx 0.44289',\n",
       " 'K98x.KT.K98.Q98x xx.J9xxxx.JTxx.x Ax.AQx.AQxx.KJxx 0.43999',\n",
       " 'K8xx.AQx.QTx.8xx 9x.JT9xxx.98x.Jx Ax.Kx.AKJxx.KQ9x 0.43657',\n",
       " 'Axx.KTxx.KJx.Jxx 98.J9xxx.98x.98x Kxx.AQ.AQTxx.KQx 0.42913',\n",
       " '98xx.Kxx.AQx.Q9x x.JT9xx.JT9x.xxx AKx.AQx.K8xx.KJ8 0.42810',\n",
       " 'Kxxx.K9x.J9xx.KJ 8x.JTxxx.8x.9xxx A9.AQx.AKQTx.Q8x 0.42775',\n",
       " '9xxx.Axx.KQx.Qxx 8x.T9xxx.J9xx.Jx AK.KQJ.AT8x.K98x 0.42427',\n",
       " 'K9x.QJxx.A9xx.Qx 8xx.T9xx.8xx.8xx Ax.AKx.KQJT.KJ9x 0.42369',\n",
       " '9xx.KJ9x.A9xx.Kx 8x.Txxxx.QTx.8xx AKx.AQ.KJ8x.QJ9x 0.42344',\n",
       " 'K98.KT9x.KJxx.Q9 xx.Jxxxx.T8.8xxx Axx.AQ.AQ9xx.KJx 0.42334',\n",
       " 'AK98.Qxx.QT9x.8x xx.T9xxx.J8xx.xx xx.AKJ.AKx.KQJ9x 0.42214',\n",
       " 'K9xx.ATx.KJ9.xxx 8x.9xxxx.Txxx.Q9 Ax.KQJ.AQ8x.KJ8x 0.41601',\n",
       " 'K9.KJxx.K9.J8xxx xxx.T9xx.QT8x.9x A8x.AQx.AJxxx.KQ 0.40607',\n",
       " '9xx.AQ9x.KJ.J8xx 8x.Txxx.Txxxx.Qx AKx.KJx.AQ98.K9x 0.40380',\n",
       " 'xxx.AQTx.AJx.9xx 9x.J9xxx.T9x.J8x AK8.Kx.KQ8xx.KQx 0.40282',\n",
       " 'xxx.AJ9x.KQxx.Qx 98x.Txxx.T8x.9xx AK.KQx.AJ9x.KJ8x 0.40154',\n",
       " '9xx.AQJx.QJxx.Qx xx.T9xxx.98x.Jxx AK8.Kx.AKTx.K98x 0.40055',\n",
       " 'AK9x.9xx.98x.KJx xx.QTxxx.Txx.9xx 8x.AKJ.AKQJx.Q8x 0.39869',\n",
       " 'A8xx.K9xx.Ax.98x 9x.QTxx.T98xx.xx Kx.AJx.KQJx.KQJx 0.39848',\n",
       " 'Kxxx.AJT.Txx.QJx 8x.9xxxx.Q8x.8xx A9.KQx.AKJ9x.K9x 0.39834',\n",
       " 'A8x.AJxx.JT9x.Q8 xx.9xxx.8xx.Jxxx K9x.KQT.AKQx.K9x 0.39653',\n",
       " 'K9xx.QT.KQJ8x.9x 8.Jxxxxx.9xx.J8x Axx.AK9.ATx.KQxx 0.39418',\n",
       " 'A8xx.AKTx.Tx.8xx 9x.Jxxx.J9xx.9xx Kx.Q9x.AKQ8x.KQJ 0.39352',\n",
       " 'A9xx.AKT.9x.J9xx x.xxxxx.JT8xx.xx K8x.QJ9.AKQx.KQ8 0.38991',\n",
       " 'A8xx.Axx.Q8x.Jxx x.T9xxx.JTxx.9xx K9x.KQJ.AK9x.KQ8 0.38979',\n",
       " 'xx.AQJx.98xx.KQ9 98xx.T9xx.Jxx.8x AK.Kxx.AKQT.Jxxx 0.38893',\n",
       " 'Axx.QT9x.AJ.9xxx 9x.Jxxx.8xxxx.J8 K8x.AKx.KQT9.KQx 0.38835',\n",
       " 'K9x.AQxx.Q8xx.xx 8x.JTxx.T9xx.Jxx Axx.K9x.AKJ.KQ98 0.38829',\n",
       " 'A9.AJ9x.K9xx.9xx 8xx.Txxx.JT8x.8x Kxx.KQx.AQx.KQJx 0.38668',\n",
       " 'Kxx.QJxx.K9xx.Qx 9x.T9xx.8xx.J9xx A8x.AKx.AQJT.K8x 0.38664',\n",
       " '8xx.QTxx.AQT9.K9 9x.J9xxx.8x.8xxx AKx.AK.KJxxx.QJx 0.38500',\n",
       " 'K98x.Kxx.T9x.KQ8 xx.T9xxx.Jxx.9xx Ax.AQJ.AKQ8x.Jxx 0.38321',\n",
       " '98x.KQTx.KTx.QJx xx.J9xx.J9xx.8xx AKx.Axx.AQ8x.K9x 0.38232',\n",
       " '8xxx.AKx.KJ9x.98 9.JT9xx.Tx.Jxxxx AKx.Qxx.AQ8xx.KQ 0.38032',\n",
       " 'Kxx.KQ9x.KTx.98x 98x.Jxxx.Jxxx.xx Ax.ATx.AQ98.KQJx 0.37952',\n",
       " 'K9xx.Kxx.KJxx.Jx 8.Q9xxx.98xx.98x Axx.AJT.AQT.KQxx 0.37950',\n",
       " 'xxx.AKT9.QJx.Q9x 9x.xxxx.xxx.Jxxx AK8.QJx.AKT98.K8 0.37594',\n",
       " '98xx.AQ.KQ9x.98x x.J9xxxxx.T8x.xx AKx.KT.AJxx.KQJx 0.37561',\n",
       " '98xx.KQx.KQJ.98x x.Txxxx.T98x.Jxx AKx.AJ9.Axxx.KQx 0.37414',\n",
       " 'Axxx.AJTx.Tx.Qxx 9.Qxxx.98xx.98xx K8x.K9x.AKQJx.KJ 0.37262',\n",
       " 'AKxx.QJxx.xxx.Qx 8x.T9xxx.J8x.9xx 9x.AK.AKQT9.KJ8x 0.37071',\n",
       " '9xx.AQ9x.A9xx.Jx 8x.Txxx.J8xx.8xx AKx.KJx.KQT.KQ9x 0.37022',\n",
       " 'Kx.Qxxx.AJ9x.Q9x 9xx.JT9xx.Tx.8xx A8x.AK.KQ8xx.KJx 0.36964',\n",
       " 'A9x.KQTx.9xx.Qxx 8x.Jxxxx.8xx.8xx Kxx.A9.AKQJT.KJ9 0.36914',\n",
       " '8xxx.AKJ.K98x.98 x.Txxxx.xx.Qxxxx AK9.Q9x.AQJTx.KJ 0.36879',\n",
       " '9xxx.KQ9x.KJx.Qx 8x.JTxxx.T9xx.J8 AK.Ax.AQ8x.K9xxx 0.36641',\n",
       " 'A8x.K9xx.KTx.Jxx xx.JTxx.J8xxx.9x K9x.AQx.AQ9.KQ8x 0.36601',\n",
       " 'AKxx.QTxx.Q8.xxx 9x.J9xx.T9xx.J98 8x.AKx.AKJxx.KQx 0.36504',\n",
       " 'AK8x.Q9x.JT9x.Qx xx.JTxxxx.xx.xxx 9x.AK.AKQ8x.KJ98 0.36433',\n",
       " '98xx.AKxx.ATx.9x xx.J9xx.8xx.J8xx AK.QTx.KQJ9x.KQx 0.36404',\n",
       " '9x.K9xx.AK8xx.Jx xxx.Txxx.Jx.98xx AK8.AQJ.QT9x.KQx 0.36376',\n",
       " 'Ax.KTxx.T9x.KQ8x 9xx.9xxx.J8x.9xx K8x.AQJ.AKQxx.Jx 0.36302',\n",
       " 'Axxx.QJTx.J9.Kxx 9x.9xxx.QT8xx.8x K8.AKx.AKxx.QJ9x 0.36206',\n",
       " 'AKx.QTxx.QTx.xxx 8x.9xxx.J8xx.J9x 9xx.AKJ.AK9x.KQ8 0.36164',\n",
       " 'Kxx.KJ9x.Qxx.QJx 9x.Txxx.T98.98xx A8x.AQx.AKJxx.Kx 0.36040',\n",
       " 'xx.A9xx.AT9.QJ9x 98x.Qxxx.8xxx.xx AKx.KJT.KQJx.K8x 0.36022',\n",
       " 'A9x.AQxx.Q9xx.xx 8xx.T9xxx.J8x.9x Kx.KJ.AKTx.KQJ8x 0.35980',\n",
       " 'Kxx.AJxx.8xxx.K8 9xx.T9xx.Tx.J9xx A8.KQx.AKQJ9.Qxx 0.35774',\n",
       " 'AK8x.K9x.JT9x.9x 9x.QTxxx.8xx.8xx xx.AJx.AKQx.KQJx 0.35635',\n",
       " 'Kx.KTxx.QTxx.Kxx 98x.Q9xx.98xx.8x Axx.AJx.AKJ.QJ9x 0.35260',\n",
       " '9x.KQTx.QT9x.KJ9 8xx.9xxx.8xx.Q8x AKx.AJx.AKJx.xxx 0.35108',\n",
       " 'K8x.QT9x.KQx.J9x 9x.xxxx.98x.Q8xx Axx.AKJ.AJTxx.Kx 0.35089',\n",
       " 'AKxx.Jxx.QJTxx.8 8.QT9xx.98.9xxxx 9xx.AKx.AKxx.KQJ 0.35023',\n",
       " 'K9x.QJT9.Q9xx.Kx 8x.xxxx.J8xx.J9x Axx.AKx.AKT.Q8xx 0.34992',\n",
       " 'K9xx.Qx.KQTx.J9x xx.JT9xxx.J8x.xx A8.AKx.A9xx.KQ8x 0.34872',\n",
       " '98xx.QJ.QJ8xx.KQ x.T9xxxx.Txx.J8x AKx.AKx.AK9.9xxx 0.34548',\n",
       " 'A8x.Jxxx.AJx.Q9x xx.T9xx.98xx.8xx K9x.AKQ.KQTx.KJx 0.34392',\n",
       " 'Axx.Q9xx.QJx.Q8x 9x.JTxx.T8xx.Jxx K8x.AKx.AK9x.K9x 0.34144',\n",
       " '8xxx.AJxx.KT.Kxx 9x.QTxx.98xx.98x AK.K9x.AQJxx.QJx 0.34134',\n",
       " 'AK98.KQ9x.9xx.9x xx.Txxx.J8x.8xxx xx.AJx.AKQTx.KQJ 0.33580',\n",
       " '8xx.AJxx.Q9x.KQx xx.Txxx.T8xx.J8x AK9.KQ9.AKJx.9xx 0.33556',\n",
       " 'A8xx.KJx.K9x.Jxx 9.T9xxx.JT8xx.9x Kxx.AQx.AQx.KQ8x 0.33511',\n",
       " 'K98.QJxx.KJx.Q8x xxx.9xxx.T98x.9x Ax.AKT.AQxx.KJxx 0.33364',\n",
       " 'Axx.KJ9x.J8x.Kxx 9xx.Txxxx.Txx.Jx K8.AQ.AKQ9x.Q98x 0.33255',\n",
       " 'K8x.ATxx.KJ9x.9x 9x.J9xx.8xx.Jxxx Axx.KQx.AQTx.KQ8 0.33095',\n",
       " 'K98x.AQxx.Q8x.xx x.Jxxx.JTxx.98xx Axx.KT9.AK9x.KQJ 0.32724',\n",
       " 'Kxxx.KQ9x.QJ.8xx 98.JTxx.T98xx.xx Ax.Axx.AKxx.KQJ9 0.32596',\n",
       " 'K9x.AQxx.Jxx.Qxx 8xx.Txxx.T8xx.Jx Ax.KJ9.AKQ9.K98x 0.32490',\n",
       " '98xx.KQT9.QJx.Kx xx.Jxxxx.8xx.8xx AK.Ax.AKT9x.QJ9x 0.32404',\n",
       " '8xxx.AJxx.AJ.J9x 9.9xxx.T98x.Q8xx AKx.KQT.KQxxx.Kx 0.32307',\n",
       " 'xxx.AQ9x.Q98.QJx 8x.Txxxx.JTx.98x AK9.KJ.AKxxx.Kxx 0.32268',\n",
       " 'A9xx.J9x.K9x.QJ9 8.Txxxx.JTxx.xxx Kxx.AKQ.AQ8x.K8x 0.31813',\n",
       " 'AKx.QJTx.8xxx.J8 98x.9xxxx.Tx.Qxx xx.AK.AKQJ9.K9xx 0.31568',\n",
       " 'K9.JT9x.A9xx.KJx 8xxx.xxxx.Txx.xx Ax.AKQ.KQJ8.Q98x 0.31035',\n",
       " 'K8.KJxx.KT98.Jxx 9xx.T9xxx.Qxx.98 Axx.AQ.AJxx.KQxx 0.30840',\n",
       " 'Kx.K9xx.QJ98.Qxx 9xx.JTxx.xxx.8xx A8x.AQx.AKTx.KJ9 0.30821',\n",
       " 'K9xx.KQxx.QTx.Jx 8x.Txxx.J98x.98x Ax.AJ9.AKxx.KQxx 0.30658',\n",
       " '98xx.ATxx.KQ8.Qx xx.Jxxx.9xxxx.J8 AK.KQ9.AJT.K9xxx 0.30598',\n",
       " 'A9xx.KJxx.Qxx.Jx 8x.Txxx.T8x.Q9xx Kx.AQ9.AKJ9x.K8x 0.30586',\n",
       " 'K9x.A9xx.AT9xx.x 8xx.Txxx.J8x.J9x Ax.KQJ.KQx.KQ8xx 0.30507',\n",
       " 'K8x.Q9xx.KQT9.Qx xx.JTxx.8xxx.98x A9x.AKx.AJx.KJxx 0.30324',\n",
       " 'K9xx.AKTx.JT8x.x 8.9xxx.xx.Q98xxx Axx.QJx.AKQ9x.KJ 0.30247',\n",
       " '8xx.Axxx.KJx.QJ9 9x.QTxx.Txxx.8xx AKx.KJ9.AQ98.Kxx 0.30110',\n",
       " 'A9x.KT9x.K98x.Jx 8x.Jxxx.JTxx.98x Kxx.AQx.AQx.KQxx 0.29984',\n",
       " 'Axx.QJxx.KQxx.98 8x.T9xxx.Tx.Jxxx K9x.AK.AJ98x.KQx 0.29820',\n",
       " 'K9x.AKxx.JTx.8xx 8xx.J9xx.98xx.9x Ax.QTx.AKQx.KQJx 0.29210',\n",
       " '8xxx.AJT9.AJx.J8 x.Qxxxx.T98xx.9x AK9.Kx.KQx.KQxxx 0.28955',\n",
       " '98xx.AKJT.T9x.Kx x.9xxxx.J8x.98xx AKx.Qx.AKQxx.QJx 0.28142',\n",
       " 'K.Kxxx.KJ98x.Jxx xxx.QTx.xx.8x A8.AJx.AQTx.KQ9x 0.27337',\n",
       " 'Kxx.Q9xx.J9x.KQ9 9x.JTxx.Txx.Jxxx A8x.AKx.AKQ8x.8x 0.26991',\n",
       " '8xx.AT9x.A98.KJ8 xx.Jxxx.Txxxx.9x AK9.KQx.KQJ.Qxxx 0.26763',\n",
       " 'K9x.KQTx.A8xx.9x xxx.9xxxx.Jxx.8x A8.AJ.KQT9.KQJxx 0.26613',\n",
       " 'K8xx.KJxx.JTx.Kx 9x.Q9xx.98xx.9xx Ax.ATx.AKQx.QJ8x 0.26000',\n",
       " 'K8xx.KQJx.Q9x.Jx 9x.Txxx.T8xx.9xx Ax.A9x.AKJx.KQ8x 0.25716',\n",
       " 'A9x.A9xx.T9x.QJx 8x.QTxx.8xx.98xx Kxx.KJx.AKQJx.Kx 0.25665',\n",
       " 'K8xx.A9x.KT8.Q8x 9x.Txxxx.9xx.Jxx Ax.KQJ.AQJxx.K9x 0.25571',\n",
       " 'K8xx.AJ9x.Q98.Jx x.QTxx.Txxx.98xx A9x.Kxx.AKJx.KQx 0.25412',\n",
       " 'Kxxx.ATxx.K9x.Jx 8x.Qxxx.T8x.98xx A9.KJ9.AQJxx.KQx 0.25312',\n",
       " '98xx.AJxx.KQx.Jx xx.T9xx.JTxx.8xx AK.KQx.A98x.KQ9x 0.25211',\n",
       " '98x.AJxx.JTx.KQx xx.T9xx.9xx.J9xx AKx.KQx.AKQ8x.8x 0.25069']"
      ]
     },
     "execution_count": 6,
     "metadata": {},
     "output_type": "execute_result"
    }
   ],
   "source": [
    "# each row is one sample board\n",
    "# the hands are in the order: LHO, Partner, RHO. Your cards are not shown as they are fixed/\n",
    "\n",
    "lead.samples"
   ]
  }
 ],
 "metadata": {
  "kernelspec": {
   "display_name": "Python 3 (ipykernel)",
   "language": "python",
   "name": "python3"
  },
  "language_info": {
   "codemirror_mode": {
    "name": "ipython",
    "version": 3
   },
   "file_extension": ".py",
   "mimetype": "text/x-python",
   "name": "python",
   "nbconvert_exporter": "python",
   "pygments_lexer": "ipython3",
   "version": "3.11.0"
  }
 },
 "nbformat": 4,
 "nbformat_minor": 5
}
