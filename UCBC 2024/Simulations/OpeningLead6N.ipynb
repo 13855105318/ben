{
 "cells": [
  {
   "cell_type": "markdown",
   "id": "170af530",
   "metadata": {},
   "source": [
    "# Opening Lead\n",
    "\n",
    "Checking the opening lead for a specific contract"
   ]
  },
  {
   "cell_type": "code",
   "execution_count": 1,
   "id": "26570686",
   "metadata": {},
   "outputs": [
    {
     "name": "stdout",
     "output_type": "stream",
     "text": [
      "WARNING:tensorflow:From c:\\Python311\\Lib\\site-packages\\tensorflow\\python\\compat\\v2_compat.py:107: disable_resource_variables (from tensorflow.python.ops.variable_scope) is deprecated and will be removed in a future version.\n",
      "Instructions for updating:\n",
      "non-resource variables are not supported in the long term\n"
     ]
    }
   ],
   "source": [
    "import os\n",
    "import sys\n",
    "sys.path.append('../../src')\n",
    "os.environ['BEN_HOME'] = \"../..\"\n",
    "\n",
    "from nn.models import Models\n",
    "from bots import BotLead\n",
    "from sample import Sample\n",
    "import conf\n",
    "import numpy as np\n",
    "\n",
    "np.set_printoptions(precision=2, suppress=True, linewidth=200)\n",
    "np.random.seed(42)\n"
   ]
  },
  {
   "cell_type": "code",
   "execution_count": 2,
   "id": "fe373c76",
   "metadata": {},
   "outputs": [
    {
     "name": "stdout",
     "output_type": "stream",
     "text": [
      "INFO:tensorflow:Restoring parameters from ..\\Models/NS1EW99-bidding-3961000\n",
      "INFO:tensorflow:Restoring parameters from ..\\Models/NS1EW99-binfo-1887000\n",
      "INFO:tensorflow:Restoring parameters from ..\\Models/lead_suit-154000\n",
      "INFO:tensorflow:Restoring parameters from ..\\Models/lead_nt-59000\n",
      "INFO:tensorflow:Restoring parameters from ..\\Models/single_dummy-1562000\n",
      "INFO:tensorflow:Restoring parameters from ..\\Models/lefty-1000000\n",
      "INFO:tensorflow:Restoring parameters from ..\\Models/dummy-920000\n",
      "INFO:tensorflow:Restoring parameters from ..\\Models/righty-1000000\n",
      "INFO:tensorflow:Restoring parameters from ..\\Models/decl-1000000\n"
     ]
    }
   ],
   "source": [
    "models = Models.from_conf(conf.load('../Conf/UCBC2024.conf'),'..')   # loading neural networks\n",
    "sampler = Sample.from_conf(conf.load('../Conf/UCBC2024.conf'), False)  # Load sampling strategies"
   ]
  },
  {
   "cell_type": "code",
   "execution_count": 3,
   "id": "c3397678",
   "metadata": {},
   "outputs": [],
   "source": [
    "# both vulnerable. you are sitting North as dealer and you hold\n",
    "hand = 'QJT75.86.63.AT52'\n",
    "\n",
    "# the auction goes:\n",
    "auction = [\"PAD_START\", \"PAD_START\", \"PAD_START\", \"2N\", \"PASS\", \"3C\", \"PASS\", \"3D\", \"PASS\", \"6N\", \"PASS\", \"PASS\", \"PASS\"]\n",
    "\n",
    "# what to lead?\n",
    "\n",
    "lead_bot = BotLead([False, False], hand, models, sampler, False)\n",
    "lead = lead_bot.find_opening_lead(auction)"
   ]
  },
  {
   "cell_type": "code",
   "execution_count": 4,
   "id": "a2b5fe25",
   "metadata": {},
   "outputs": [
    {
     "data": {
      "text/plain": [
       "SQ"
      ]
     },
     "execution_count": 4,
     "metadata": {},
     "output_type": "execute_result"
    }
   ],
   "source": [
    "lead.card"
   ]
  },
  {
   "cell_type": "markdown",
   "id": "02e88396",
   "metadata": {},
   "source": [
    "seems like the engine chose to lead the ace of diamonds\n",
    "\n",
    "the other options it considered were: a small spade and a small club"
   ]
  },
  {
   "cell_type": "code",
   "execution_count": 5,
   "id": "956ef356",
   "metadata": {},
   "outputs": [
    {
     "data": {
      "text/plain": [
       "[{'card': 'SQ',\n",
       "  'insta_score': 0.983,\n",
       "  'expected_tricks_sd': 10.76,\n",
       "  'p_make_contract': 0.35}]"
      ]
     },
     "execution_count": 5,
     "metadata": {},
     "output_type": "execute_result"
    }
   ],
   "source": [
    "lead.to_dict()['candidates']"
   ]
  },
  {
   "cell_type": "markdown",
   "id": "97efc5a1",
   "metadata": {},
   "source": [
    "in the above output:\n",
    "- `insta_score` reflects the preference of the neural network\n",
    "- `expected_tricks` how many tricks declarer is expected to take on this lead\n",
    "- `p_make_contract` is the probability of the contract making on this lead\n",
    "\n",
    "the probability of making and the expected tricks are computed on samples which are consistent with the auction. the samples are estimated single dummy using a neural network (more on this in another tutorial). we could also solve the samples double dummy, but that would be quite a bit slower."
   ]
  },
  {
   "cell_type": "code",
   "execution_count": 6,
   "id": "7cb2bf98",
   "metadata": {},
   "outputs": [
    {
     "data": {
      "text/plain": [
       "['Ax.QT9x.9x.KQxxx 9xx.xxxx.QTxx.98 K8x.AKJ.AKJ8x.Jx 0.43298',\n",
       " 'xxxx.AKQJ.xx.J8x 98.Txxx.T98xx.Qx AK.9xx.AKQJ.K9xx 0.38901',\n",
       " 'A8x.Jxxx.AJx.Q9x xx.T9xx.98xx.8xx K9x.AKQ.KQTx.KJx 0.38193',\n",
       " 'A9xx.KQ9x.9x.Q9x 8.JTxxx.J8xx.8xx Kxx.Ax.AKQTx.KJx 0.38072',\n",
       " 'AKxx.Axxx.T9xx.x x.QT9x.8xx.98xxx 98x.KJx.AKQJ.KQJ 0.37923',\n",
       " 'A8xx.K9xx.AT.98x 9x.QTxx.98xxx.xx Kx.AJx.KQJx.KQJx 0.37465',\n",
       " '9xx.KJ9x.A9xx.Kx 8x.Txxxx.QTx.8xx AKx.AQ.KJ8x.QJ9x 0.37423',\n",
       " 'A9xx.KJ9x.K.9xxx 8x.Txxxx.Txxxx.x Kx.AQ.AQJ98.KQJ8 0.37377',\n",
       " '9x.K9xx.AK8xx.Jx xxx.Txxx.Jx.98xx AK8.AQJ.QT9x.KQx 0.37353',\n",
       " '98xx.AKxx.ATx.9x xx.J9xx.8xx.J8xx AK.QTx.KQJ9x.KQx 0.37323',\n",
       " 'Axx.J9xx.K9xx.Kx 8x.Txxx.Jxx.98xx K9x.AKQ.AQT8.QJx 0.37155',\n",
       " 'A8xx.AJxx.T9.QJx 9x.9xxx.J8xx.8xx Kx.KQT.AKQxx.K9x 0.37088',\n",
       " '9xxx.AKJx.K8x.xx 8x.9xxx.QT9xx.9x AK.QTx.AJx.KQJ8x 0.37067',\n",
       " '9xx.AQ9x.A9xx.Jx 8x.Txxx.J8xx.8xx AKx.KJx.KQT.KQ9x 0.36813',\n",
       " 'A8xx.Jxxx.AQxx.8 xx.T9xx.T98.J9xx K9.AKQ.KJxx.KQxx 0.36658',\n",
       " 'Kxx.AJxx.8xxx.K8 9xx.T9xx.Tx.J9xx A8.KQx.AKQJ9.Qxx 0.36631',\n",
       " '98x.KTxx.A9x.KQ8 xxx.J9xx.T8x.9xx AK.AQx.KQJxx.Jxx 0.36424',\n",
       " '8x.Q9xx.AQ.KJ9xx xxx.Jxxx.T98x.8x AK9.AKT.KJxxx.Qx 0.36357',\n",
       " '8x.AT9x.AT9.KJ8x xxx.Jxxx.xxxx.9x AK9.KQx.KQJ8.Qxx 0.36343',\n",
       " 'A9xx.QT9x.K9x.Kx x.xxxx.JT8xx.8xx K8x.AKJ.AQx.QJ9x 0.36166',\n",
       " 'K98x.QJ9x.Ax.Qxx xx.Txxx.T9xxx.Jx Ax.AKx.KQJ8.K98x 0.36157',\n",
       " 'Axxx.AJTx.Tx.Qxx 9.Qxxx.98xx.98xx K8x.K9x.AKQJx.KJ 0.36138',\n",
       " 'A8xx.AKxx.x.J98x 9x.T9xx.JT98xx.x Kx.QJx.AKQx.KQxx 0.36043',\n",
       " 'Kxx.QJ9x.ATx.Q8x 8x.Txxx.98x.J9xx A9x.AKx.KQJxx.Kx 0.35856',\n",
       " 'xx.KQxx.A98x.Q9x 8xx.T9xxx.xxx.xx AK9.AJ.KQJT.KJ8x 0.35843',\n",
       " 'A98.AKxx.xxx.8xx xxx.JT9x.T98x.Jx Kx.Qxx.AKQJ.KQ9x 0.35674',\n",
       " 'Ax.KTxx.9x.KQ8xx 9xx.9xxx.JT8x.9x K8x.AQJ.AKQxx.Jx 0.35584',\n",
       " 'K8x.KQJT.J9x.Q9x xx.xxxx.Txxx.8xx A9x.A9x.AKQ8.KJx 0.35237',\n",
       " 'K9x.AQxx.JTx.Qxx 8xx.Txxx.8xx.J9x Ax.KJ9.AKQ9x.K8x 0.35222',\n",
       " '8x.KTxx.AQTxx.Qx 9xx.J9xxx.9x.8xx AKx.AQ.KJ8x.KJ9x 0.35184',\n",
       " 'Kx.KTxx.QTxx.Kxx 98x.Q9xx.98xx.8x Axx.AJx.AKJ.QJ9x 0.35174',\n",
       " 'A8x.Q9xx.Jx.KQ9x 9xx.Txxx.98xx.8x Kx.AKJ.AKQTx.Jxx 0.35117',\n",
       " 'Kxx.KJTx.ATx.9xx 8x.Q9xxx.98xxx.8 A9x.Ax.KQJ.KQJxx 0.35067',\n",
       " 'A8xx.QT9x.AJ.xxx 9x.Jxxx.8xxxx.J8 Kx.AKx.KQT9.KQ9x 0.34984',\n",
       " '8x.QTxx.AQT9.K9x 9xx.J9xxx.8x.8xx AKx.AK.KJxxx.QJx 0.34816',\n",
       " 'xx.AQJx.Qx.Q98xx 98xx.9xxx.98xx.x AK.KTx.AKJTx.KJx 0.34746',\n",
       " 'Axx.QJT9.KJ8x.8x 8xx.xxxx.9xx.Qxx K9.AKx.AQTx.KJ9x 0.34553',\n",
       " '9xxx.AQTx.Ax.Qxx 8x.xxxx.9xxx.J8x AK.KJ9.KQJT8.K9x 0.34513',\n",
       " 'K9.T9xx.A9xx.KJx 8xxx.Jxxx.Txx.xx Ax.AKQ.KQJ8.Q98x 0.34472',\n",
       " 'xx.AQJx.98xx.KQ9 98xx.T9xx.Jxx.8x AK.Kxx.AKQT.Jxxx 0.34457',\n",
       " '8xxx.AJxx.KT.Kxx 9x.QTxx.98xx.98x AK.K9x.AQJxx.QJx 0.34351',\n",
       " 'K8.KJxx.KT98.Jxx 9xxx.Txxx.Qxx.98 Ax.AQ9.AJxx.KQxx 0.34236',\n",
       " 'K9x.AKxx.JTx.8xx 8xx.J9xx.98xx.9x Ax.QTx.AKQx.KQJx 0.34227',\n",
       " 'K9xx.AKTx.JTx.8x 8.9xxx.9xx.Q9xxx Axx.QJx.AKQ8x.KJ 0.34197',\n",
       " 'K8x.KQJx.Q9x.J9x 9xx.Txxx.T8xx.xx Ax.A9x.AKJx.KQ8x 0.34113',\n",
       " 'K98x.AQxx.Q8xx.x x.JTxx.JTx.98xxx Axx.K9x.AK9x.KQJ 0.33822',\n",
       " 'Kxx.KJ9x.Qxx.QJx 9x.Txxx.T98.98xx A8x.AQx.AKJxx.Kx 0.33798',\n",
       " '9x.KJ9x.KJ.QJxxx 8xxx.QTxx.T8xx.9 AK.Axx.AQ9xx.K8x 0.33755',\n",
       " 'K9x.KT9x.8x.KQxx xx.Jxxx.T9xx.J8x A8x.AQx.AKQJx.9x 0.33725',\n",
       " 'Kx.Axxx.Q98x.Qxx 98x.JT9xx.Jx.9xx Axx.KQ.AKTxx.KJ8 0.33721',\n",
       " 'x.Kxxx.A9xx.KJxx 8xxx.QT9x.T8x.8x AK9.AJx.KQJx.Q9x 0.33579',\n",
       " 'xxx.KQ9x.AT9x.Qx 98.JTxxx.8xxx.Jx AKx.Ax.KQJ.K98xx 0.33499',\n",
       " '8xx.AKJT.T9x.Kxx 9x.9xxxx.J8x.98x AKx.Qx.AKQxx.QJx 0.33204',\n",
       " 'Kxx.AQJx.Jx.98xx 9xx.Txxx.T8xxx.J A8.K9x.AKQ9.KQxx 0.33197',\n",
       " 'Kx.QJxx.JT8x.KQ8 98x.T9xxx.9xx.9x Axx.AK.AKQx.Jxxx 0.32997',\n",
       " 'A9.QJxx.Kx.J98xx 8xxx.T9xxx.QT8x. Kx.AK.AJ9xx.KQxx 0.32849',\n",
       " 'Kx.KJxx.QJT8.Q9x 8xx.Txxx.9x.Jxxx A9x.AQ9.AKxxx.K8 0.32595',\n",
       " 'A9xx.KJ9x.QJ8x.x x.Txxxx.T9x.Q9xx K8x.AQ.AKxx.KJ8x 0.32520',\n",
       " 'A9x.AJTx.Jxx.J98 xxx.xxxx.QT8xx.x K8.KQ9.AK9.KQxxx 0.32505',\n",
       " '98.KQxx.JTxx.KQ9 xxx.T9xx.9xx.xxx AKx.AJx.AKQ8.J8x 0.32394',\n",
       " 'Axxx.QJTx.J9.Kxx 9x.9xxx.QT8xx.8x K8.AKx.AKxx.QJ9x 0.32359',\n",
       " 'xxx.K9xx.KQxx.K9 98.Txxx.JT9x.J8x AKx.AQJ.A8x.Qxxx 0.32218',\n",
       " 'A8xx.KQTx.9xx.Q9 9x.xxxx.QT8.8xxx Kx.AJ9.AKJxx.KJx 0.32064',\n",
       " '98x.AJxx.KQTx.Jx xxx.T9xx.Jxx.8xx AK.KQx.A98x.KQ9x 0.32001',\n",
       " '9xx.AJTx.KQJ8.xx 8x.Qxxx.Txxx.8xx AKx.K9x.A9x.KQJ9 0.31936',\n",
       " 'AK9.QT9x.Q8x.J8x xx.xxxx.JT9x.9xx 8xx.AKJ.AKxx.KQx 0.31909',\n",
       " 'x.A9xx.KJT8.QJxx 98xx.Txxx.9xx.8x AKx.KQJ.AQxx.K9x 0.31898',\n",
       " '9xx.QJxx.AKT9.Jx xx.T9xx.Qxxx.8xx AK8.AKx.J8x.KQ9x 0.31412',\n",
       " 'xxx.Q9xx.AQ8x.K8 98.Jxxx.T9x.Jxxx AKx.AKT.KJxx.Q9x 0.30865',\n",
       " '9xxx.QJTx.Ax.KJ8 x.9xxxx.98xx.Q9x AK8.AK.KQJTx.xxx 0.30697',\n",
       " 'A9.AJ9x.K9xx.9xx 8xxx.Txxx.T8x.8x Kx.KQx.AQJx.KQJx 0.30593',\n",
       " 'Kx.AQ9x.Q8xx.J9x 9xx.JTxx.T9xx.8x A8x.Kxx.AKJ.KQxx 0.30482',\n",
       " 'A8xx.J9x.KJx.QJ9 9x.Txxxx.Txx.xxx Kx.AKQ.AQ98x.K8x 0.30400',\n",
       " '8.AJxx.Txx.KQJxx 9xxx.9xxx.J9x.8x AKx.KQT.AKQ8x.9x 0.30285',\n",
       " 'Kxx.AJ9x.QT8.J9x 8xx.QTxx.9xxx.8x A9.Kxx.AKJx.KQxx 0.29899',\n",
       " 'K9xx.KQxx.QTx.Jx 8x.Txxx.J98x.98x Ax.AJ9.AKxx.KQxx 0.29832',\n",
       " 'K98.KQxx.QJ8.J8x xxx.JTxx.Txx.9xx Ax.A9x.AK9xx.KQx 0.29696',\n",
       " '9xx.KQJx.KJx.QJx xx.Txxxx.8xxx.xx AK8.A9.AQT9.K98x 0.29452',\n",
       " '9xx.KJxx.A9x.K9x 8x.T9xx.J8xx.8xx AKx.AQx.KQTx.QJx 0.29416',\n",
       " 'A9xx.AKT.9x.J9xx x.xxxxx.JT8xx.xx K8x.QJ9.AKQx.KQ8 0.29273',\n",
       " 'Ax.AJxx.K98x.xxx 98x.T9xxx.Txx.8x Kxx.KQ.AQJx.KQJ9 0.28830',\n",
       " '98x.AQxx.AQTx.9x xx.J9xxx.8xx.8xx AKx.KT.KJ9x.KQJx 0.28770',\n",
       " 'AK.Kxxx.J98x.J9x 98xx.JT9x.Txx.xx xx.AQx.AKQx.KQ8x 0.28352',\n",
       " 'A.AJ9x.9xxx.Kxxx 98xx.xxxx.8x.J8x Kxx.KQT.AKQJT.Q9 0.28313',\n",
       " 'K8xx.Axx.KJ8.J9x 9x.JT9xx.9xxxx.x Ax.KQx.AQT.KQ8xx 0.28234',\n",
       " 'xxx.Axxx.AQJ8x.J 98.JT9x.9xx.9xxx AKx.KQx.KTx.KQ8x 0.27420',\n",
       " '8xxx.AKJ.K98x.98 x.QTxxxx.Txx.xxx AK9.9x.AQJx.KQJx 0.27296',\n",
       " 'A9x.KQTx.9xx.Qxx 8x.Jxxxx.8xx.8xx Kxx.A9.AKQJT.KJ9 0.27226',\n",
       " 'A8x.AQTx.QT9.J9x 9x.9xxx.xxx.8xxx Kxx.KJx.AKJ8x.KQ 0.26945',\n",
       " 'xx.AKJ9.QT8xx.Qx 9xx.Txxxx.J9.9xx AK8.Qx.AKxx.KJ8x 0.26860',\n",
       " 'Kxx.AJTx.Txx.QJx 8xx.9xxx.Q8x.8xx A9.KQx.AKJ9x.K9x 0.26846',\n",
       " 'K8x.KQxx.xx.QJ9x xxx.T9xxx.Q98x.8 A9.AJ.AKJTx.Kxxx 0.26777',\n",
       " 'K8xx.JT9.AKx.xxx xx.Qxxxx.T98x.9x A9.AKx.QJxx.KQJ8 0.26606',\n",
       " '98x.KJxx.A9x.K8x xx.T9xx.Jxxx.9xx AKx.AQx.KQT8.QJx 0.26571',\n",
       " 'xx.A9xx.AQT9x.Qx 98x.Jxxx.8xx.8xx AKx.KQT.KJx.KJ9x 0.26518',\n",
       " 'xx.AJTx.Jxx.KQxx 9xx.9xxx.QT9.98x AK8.KQx.AK8xx.Jx 0.26497',\n",
       " '9xx.KQ9x.KJ8x.QJ 8x.Jxxx.T9xx.98x AKx.ATx.AQx.Kxxx 0.26339',\n",
       " 'Ax.QTxx.KJT8x.Qx 98x.J9xxx.9xx.9x Kxx.AK.AQx.KJ8xx 0.26253',\n",
       " 'xxx.AQTx.AJx.9xx 9x.J9xxx.T9x.J8x AK8.Kx.KQ8xx.KQx 0.26139',\n",
       " 'K9x.QJxx.A9xx.Qx 8xx.T9xx.8xx.8xx Ax.AKx.KQJT.KJ9x 0.25916',\n",
       " '98.AK9x.KJ98.Qxx xxxx.Txxx.xxx.xx AK.QJx.AQTx.KJ98 0.25748',\n",
       " 'Kx.KQ9x.QJx.J98x 8xxx.JTxxx.T9x.x A9.Ax.AK8xx.KQxx 0.25692',\n",
       " 'K9xx.AJTx.Jx.KJx x.9xxx.T9xxx.98x A8x.KQx.AKQ8.Qxx 0.25650',\n",
       " 'Ax.QJxx.AJ98x.xx 98x.T9xxx.xx.9xx Kxx.AK.KQTx.KQJ8 0.25553',\n",
       " '98xx.Qxx.AQ8x.K8 x.T9xxx.J9xx.xxx AKx.AKJ.KTx.QJ9x 0.25420',\n",
       " 'Axxx.Jx.QJ9x.K9x 8x.QT9xxx.8xx.8x K9.AKx.AKTx.QJxx 0.25167',\n",
       " 'Kxx.QJxx.AKx.9xx 98.T9xx.T8xx.8xx Axx.AKx.QJ9x.KQJ 0.25073',\n",
       " 'K9xx.Kxx.KJxx.Jx 8x.Q9xxx.98x.98x Ax.AJT.AQTx.KQxx 0.25059',\n",
       " 'xx.AKQx.Qxx.98xx 98x.JT9xx.JT98.x AKx.xx.AKxx.KQJx 0.25000']"
      ]
     },
     "execution_count": 6,
     "metadata": {},
     "output_type": "execute_result"
    }
   ],
   "source": [
    "# each row is one sample board\n",
    "# the hands are in the order: LHO, Partner, RHO. Your cards are not shown as they are fixed/\n",
    "\n",
    "lead.samples"
   ]
  }
 ],
 "metadata": {
  "kernelspec": {
   "display_name": "Python 3 (ipykernel)",
   "language": "python",
   "name": "python3"
  },
  "language_info": {
   "codemirror_mode": {
    "name": "ipython",
    "version": 3
   },
   "file_extension": ".py",
   "mimetype": "text/x-python",
   "name": "python",
   "nbconvert_exporter": "python",
   "pygments_lexer": "ipython3",
   "version": "3.11.0"
  }
 },
 "nbformat": 4,
 "nbformat_minor": 5
}
