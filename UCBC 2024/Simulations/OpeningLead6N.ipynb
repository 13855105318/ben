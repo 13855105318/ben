{
 "cells": [
  {
   "cell_type": "markdown",
   "id": "170af530",
   "metadata": {},
   "source": [
    "# Opening Lead\n",
    "\n",
    "Checking the opening lead for a specific contract"
   ]
  },
  {
   "cell_type": "code",
   "execution_count": 1,
   "id": "26570686",
   "metadata": {},
   "outputs": [
    {
     "name": "stdout",
     "output_type": "stream",
     "text": [
      "WARNING:tensorflow:From c:\\Python311\\Lib\\site-packages\\tensorflow\\python\\compat\\v2_compat.py:107: disable_resource_variables (from tensorflow.python.ops.variable_scope) is deprecated and will be removed in a future version.\n",
      "Instructions for updating:\n",
      "non-resource variables are not supported in the long term\n"
     ]
    }
   ],
   "source": [
    "import os\n",
    "import sys\n",
    "sys.path.append('../../src')\n",
    "os.environ['BEN_HOME'] = \"../..\"\n",
    "\n",
    "from nn.models import Models\n",
    "from bots import BotLead\n",
    "from sample import Sample\n",
    "import conf\n",
    "import numpy as np\n",
    "\n",
    "np.set_printoptions(precision=2, suppress=True, linewidth=200)\n",
    "np.random.seed(42)\n"
   ]
  },
  {
   "cell_type": "code",
   "execution_count": 2,
   "id": "fe373c76",
   "metadata": {},
   "outputs": [
    {
     "name": "stdout",
     "output_type": "stream",
     "text": [
      "INFO:tensorflow:Restoring parameters from ..\\Models/NS1EW99-bidding-2584000\n",
      "INFO:tensorflow:Restoring parameters from ..\\Models/NS1EW99-binfo-6131000\n",
      "INFO:tensorflow:Restoring parameters from ..\\Models/lead_suit-154000\n",
      "INFO:tensorflow:Restoring parameters from ..\\Models/lead_nt-59000\n",
      "INFO:tensorflow:Restoring parameters from ..\\Models/lr3-1000000\n",
      "INFO:tensorflow:Restoring parameters from ..\\Models/single_dummy-32768000\n",
      "INFO:tensorflow:Restoring parameters from ..\\Models/lefty-1000000\n",
      "INFO:tensorflow:Restoring parameters from ..\\Models/dummy-920000\n",
      "INFO:tensorflow:Restoring parameters from ..\\Models/righty-1000000\n",
      "INFO:tensorflow:Restoring parameters from ..\\Models/decl-1000000\n"
     ]
    }
   ],
   "source": [
    "models = Models.from_conf(conf.load('../Conf/UCBC2024.conf'),'..')   # loading neural networks\n",
    "sampler = Sample.from_conf(conf.load('../Conf/UCBC2024.conf'), False)  # Load sampling strategies"
   ]
  },
  {
   "cell_type": "code",
   "execution_count": 3,
   "id": "c3397678",
   "metadata": {},
   "outputs": [
    {
     "name": "stdout",
     "output_type": "stream",
     "text": [
      "Loading DDS: ../..\\bin\\dds.dll\n"
     ]
    },
    {
     "name": "stderr",
     "output_type": "stream",
     "text": [
      "Loaded lib dds.dll\n"
     ]
    }
   ],
   "source": [
    "# both vulnerable. you are sitting North as dealer and you hold\n",
    "hand = 'QJT75.86.63.AT52'\n",
    "\n",
    "# the auction goes:\n",
    "auction = [\"PAD_START\", \"PAD_START\", \"PAD_START\", \"2N\", \"PASS\", \"3C\", \"PASS\", \"3D\", \"PASS\", \"6N\", \"PASS\", \"PASS\", \"PASS\"]\n",
    "\n",
    "# what to lead?\n",
    "\n",
    "lead_bot = BotLead([False, False], hand, models, sampler, False)\n",
    "lead = lead_bot.find_opening_lead(auction)"
   ]
  },
  {
   "cell_type": "code",
   "execution_count": 4,
   "id": "a2b5fe25",
   "metadata": {},
   "outputs": [
    {
     "data": {
      "text/plain": [
       "SQ"
      ]
     },
     "execution_count": 4,
     "metadata": {},
     "output_type": "execute_result"
    }
   ],
   "source": [
    "lead.card"
   ]
  },
  {
   "cell_type": "markdown",
   "id": "02e88396",
   "metadata": {},
   "source": [
    "seems like the engine chose to lead the ace of diamonds\n",
    "\n",
    "the other options it considered were: a small spade and a small club"
   ]
  },
  {
   "cell_type": "code",
   "execution_count": 5,
   "id": "956ef356",
   "metadata": {},
   "outputs": [
    {
     "data": {
      "text/plain": [
       "[{'card': 'SQ',\n",
       "  'insta_score': 0.898,\n",
       "  'expected_tricks_sd': 11.48,\n",
       "  'p_make_contract': 0.47},\n",
       " {'card': 'Cx',\n",
       "  'insta_score': 0.099,\n",
       "  'expected_tricks_sd': 11.74,\n",
       "  'p_make_contract': 0.29}]"
      ]
     },
     "execution_count": 5,
     "metadata": {},
     "output_type": "execute_result"
    }
   ],
   "source": [
    "lead.to_dict()['candidates']"
   ]
  },
  {
   "cell_type": "markdown",
   "id": "97efc5a1",
   "metadata": {},
   "source": [
    "in the above output:\n",
    "- `insta_score` reflects the preference of the neural network\n",
    "- `expected_tricks` how many tricks declarer is expected to take on this lead\n",
    "- `p_make_contract` is the probability of the contract making on this lead\n",
    "\n",
    "the probability of making and the expected tricks are computed on samples which are consistent with the auction. the samples are estimated single dummy using a neural network (more on this in another tutorial). we could also solve the samples double dummy, but that would be quite a bit slower."
   ]
  },
  {
   "cell_type": "code",
   "execution_count": 6,
   "id": "7cb2bf98",
   "metadata": {},
   "outputs": [
    {
     "data": {
      "text/plain": [
       "['K.Q9xx.AJTx.98xx xxxx.JTxx.8xx.Qx A98.AKx.KQ9x.KJx 0.47829',\n",
       " '98xx.A.KQ8x.Q9xx x.JT9xxxx.J9xx.8 AKx.KQx.ATx.KJxx 0.47200',\n",
       " '98xx.A.AT9x.K8xx xx.QT9xxxx.xx.9x AK.KJx.KQJ8x.QJx 0.46240',\n",
       " '9x.A9xx.KQJT.Jxx 8xx.Txxx.9xx.Q8x AKx.KQJ.A8xx.K9x 0.45264',\n",
       " 'A9x.QTxx.QJ8x.Kx 8x.Jxxx.T9x.98xx Kxx.AK9.AKxx.QJx 0.45014',\n",
       " 'xxx.AJxx.KQ9x.Qx 98x.Txxx.JT.8xxx AK.KQ9.A8xxx.KJ9 0.44682',\n",
       " '9xx.Q9xx.AKxx.Qx 8x.JTxxx.T9xx.Jx AKx.AK.QJ8.K98xx 0.43567',\n",
       " 'xxx.KQJT.KQJ8.Jx 8x.9xxx.xxx.98xx AK9.Axx.AT9x.KQx 0.43544',\n",
       " 'xxx.AQ9x.QT8x.Kx 98.Txxx.Jxx.J9xx AKx.KJx.AK9x.Q8x 0.43358',\n",
       " '98x.KQxx.A98x.QJ xx.Jxxx.Txxx.xxx AKx.AT9.KQJ.K98x 0.43135',\n",
       " 'Kxx.Qxxx.QJT9.Kx 9x.JT9xx.xx.8xxx A8x.AK.AK8xx.QJ9 0.42966',\n",
       " 'x.AJTx.T9xx.KQJ8 9xxx.Qxxx.8x.xxx AK8.K9x.AKQJx.9x 0.42729',\n",
       " '9xx.KQ9x.ATxx.Qx 8x.xxxx.J98.J98x AKx.AJT.KQxx.Kxx 0.42519',\n",
       " 'A9.Q9xx.8xxx.KQ8 8xx.Jxxx.Jx.9xxx Kxx.AKT.AKQT9.Jx 0.42164',\n",
       " 'Kx.QJ9x.Q8xx.Kxx xxx.Txxx.JT9x.9x A98.AKx.AKx.QJ8x 0.41729',\n",
       " '98x.AQxx.QT9x.K8 xx.JT9x.J8xx.xxx AKx.Kxx.AKx.QJ9x 0.41716',\n",
       " 'Kx.KQxx.QTxx.J98 8xx.JTxxx.Jxx.xx A9x.A9.AK98.KQxx 0.41615',\n",
       " 'K8x.QT9x.KQ8x.Jx 9xx.Jxxx.JTxx.xx Ax.AKx.A9x.KQ98x 0.41557',\n",
       " 'x.AJxx.AJxx.J98x 98xx.QT9xx.T9x.x AKx.Kx.KQ8x.KQxx 0.41390',\n",
       " 'Kxx.QJxx.QT8x.K8 98x.T9xxx.xx.Qxx Ax.AK.AKJ9x.J9xx 0.40923',\n",
       " 'Axx.ATxx.Q9xx.Jx xx.J9xx.JTx.8xxx K98.KQx.AK8x.KQ9 0.40703',\n",
       " 'K9x.Qxxx.A98x.Q9 8xx.T9xx.JTx.8xx Ax.AKJ.KQxx.KJxx 0.40679',\n",
       " 'xx.AKQx.JT8x.Jxx 8xx.T9xx.Q9x.9xx AK9.Jxx.AKxx.KQ8 0.40660',\n",
       " 'A9x.QTxx.T9xx.KQ 8x.J9xx.J8x.9xxx Kxx.AKx.AKQx.J8x 0.39716',\n",
       " 'Kx.KJT9.QT8xx.Qx 9xx.xxxxx.J9.Jxx A8x.AQ.AKxx.K98x 0.39629',\n",
       " '8xx.AQxx.KQJx.8x 9xx.JTxx.T8xx.9x AK.K9x.A9x.KQJxx 0.39136',\n",
       " 'x.AJxx.KT9x.Q9xx 8xxx.QTxx.Jxxx.8 AK9.K9x.AQ8.KJxx 0.38900',\n",
       " 'Kxx.KQTx.Q98x.J8 9xx.J9xx.Jxx.9xx A8.Axx.AKTx.KQxx 0.38880',\n",
       " 'xxx.AJxx.AK8x.xx 98.T9xxx.T9x.J8x AKx.KQ.QJxx.KQ9x 0.38824',\n",
       " 'Kxxx.Qx.A8xx.Q8x 9.T9xxxx.Jxx.xxx A8x.AKJ.KQT9.KJ9 0.38017',\n",
       " '98x.AQTx.QT9xx.K xxx.9xxx.8x.Q8xx AK.KJx.AKJx.J9xx 0.37918',\n",
       " 'x.AK9x.9xxx.QJxx 98xx.Qxxx.J8.98x AKx.JTx.AKQTx.Kx 0.37906',\n",
       " 'Kx.QT9x.KJTxx.QJ 98x.Jxxx.98x.8xx Axx.AKx.AQx.K9xx 0.37891',\n",
       " '9xxx.Axx.KJT9.K9 8.QT9xx.xxxx.8xx AKx.KJx.AQ8.QJxx 0.37724',\n",
       " 'Kx.KQxx.KTxxx.8x 8xx.JT9xx.J98.xx A9x.Ax.AQx.KQJ9x 0.37673',\n",
       " 'xx.AQJx.Q98x.Q8x 98xx.T9xx.Txx.Jx AK.Kxx.AKJx.K9xx 0.37658',\n",
       " 'AKxx.J9.QT9x.J9x x.QTxxxx.8xxx.xx 98x.AKx.AKJ.KQ8x 0.37640',\n",
       " '8x.QT9x.AQ8.Kxxx 9xxx.Jxxx.9xx.J9 AK.AKx.KJTxx.Q8x 0.37393',\n",
       " 'Ax.A9xx.QJT.J9xx 9xx.JTxx.8xx.8xx K8x.KQx.AK9xx.KQ 0.37363',\n",
       " '98xx.KQx.AQJx.Jx xx.T9xxxx.98x.xx AK.AJ.KTxx.KQ98x 0.37164',\n",
       " 'Kxxx.KJx.K9xx.QJ 8x.T9xxx.T8x.98x A9.AQx.AQJx.Kxxx 0.37143',\n",
       " '8x.AK9x.Axx.J8xx xxx.JTxxx.Txx.9x AK9.Qx.KQJ98.KQx 0.36212',\n",
       " 'xx.ATxx.A8.QJ8xx 98x.J9xx.JT9x.9x AKx.KQx.KQxxx.Kx 0.36050',\n",
       " '8xx.KQTx.AQT9.9x xx.9xxx.Jxx.J8xx AK9.AJx.K8xx.KQx 0.35539',\n",
       " '98.AJ9x.KQT98.J9 xxx.Txxx.xxx.Q8x AKx.KQx.AJx.Kxxx 0.35408',\n",
       " 'A98x.KJ.QJ9x.98x xx.Q9xxxx.8xxx.x Kx.ATx.AKT.KQJxx 0.35279',\n",
       " '8xx.AQxx.A8.Q98x 9xx.T9xx.JT9x.xx AK.KJx.KQxxx.KJx 0.34968',\n",
       " '8x.KJxx.A9x.KJ9x 9xx.T9xx.Txxx.8x AKx.AQx.KQJ8.Qxx 0.34525',\n",
       " 'K9x.QJxx.KQ8x.9x xx.T9xxx.JTx.J8x A8x.AK.A9xx.KQxx 0.34220',\n",
       " '9xx.Q9xx.AKx.Kxx 8xx.JTxx.T9x.98x AK.AKx.QJ8xx.QJx 0.34192',\n",
       " 'K9xx.Qxx.KJT98.K 8x.JT9xx.xx.9xxx Ax.AKx.AQxx.QJ8x 0.34015',\n",
       " 'A9xx.K.J98xx.Q8x 8x.QJTxxxx.Tx.xx Kx.A9x.AKQx.KJ9x 0.33664',\n",
       " 'xx.AQJ9.QTx.Qxxx 8xx.xxxxx.J8x.9x AK9.KT.AK9xx.KJ8 0.33654',\n",
       " 'A9xx.ATx.K9xx.9x 8x.J9xxx.Tx.J8xx Kx.KQx.AQJ8x.KQx 0.33601',\n",
       " '8.AQJ9.KTxxx.Jxx 9xxx.Txxxx.Q9.8x AKx.Kx.AJ8x.KQ9x 0.33473',\n",
       " '8xx.KQJx.KQxx.98 9x.Txxxx.Txx.Qxx AKx.A9.AJ98.KJxx 0.33361',\n",
       " '8x.AKxx.Qx.Q98xx 9xx.JT9x.J98x.xx AKx.Qxx.AKTxx.KJ 0.33312',\n",
       " 'A8x.KJxx.J9.Q8xx 9xx.9xxx.8xxx.Jx Kx.AQT.AKQTx.K9x 0.32888',\n",
       " 'Kxx.KQJx.Qxxx.9x 9x.9xxxx.T98.Q8x A8x.AT.AKJx.KJxx 0.32453',\n",
       " 'Ax.A9xx.T8xx.Q9x 9xx.Txxx.J9x.J8x K8x.KQJ.AKQx.Kxx 0.32431',\n",
       " '98.Q9xx.AQ98.Q8x xxx.JTxx.JTxx.xx AKx.AKx.Kxx.KJ9x 0.32329',\n",
       " '8x.KQxx.A8xxx.Jx 9xx.JT9xx.J9x.8x AKx.Ax.KQT.KQ9xx 0.32274',\n",
       " 'K8xx.KQx.QJ9.J8x xx.JT9xxx.T8xx.x A9.Ax.AKxx.KQ9xx 0.32254',\n",
       " 'Kxxx.ATx.Kx.Q9xx 8.Jxxxx.8xxx.8xx A9x.KQ9.AQJT9.KJ 0.32215',\n",
       " '9x.AJxx.QJx.K98x 8xx.T9xx.Txx.Qxx AKx.KQx.AK98x.Jx 0.32187',\n",
       " '98xx.KQJ.KQ9.J8x x.T9xxxx.JTxx.9x AKx.Ax.A8xx.KQxx 0.32173',\n",
       " '8x.KQxx.Q9x.KQJ8 9xxx.T9xx.T8xx.x AK.AJx.AKJx.9xxx 0.32133',\n",
       " '9x.KQJx.QJTx.J98 Kxx.Txxxx.9xx.xx A8x.A9.AK8x.KQxx 0.32085',\n",
       " 'K98.KQJ9.Q98x.8x xx.Txxxx.Jxxx.xx Axx.Ax.AKT.KQJ9x 0.32016',\n",
       " '8xx.AQJx.KJxx.8x 9x.Txxx.T98.Jxxx AKx.K9x.AQxx.KQ9 0.32012',\n",
       " '9x.AJxx.K98x.Q9x 8xx.Txxx.JTx.Jxx AKx.KQ9.AQxx.K8x 0.31997',\n",
       " '9x.KQxx.KT8xx.Q9 xxx.9xxx.Jx.J8xx AK8.AJT.AQ9x.Kxx 0.31600',\n",
       " '98x.AQTx.T98.KQJ xx.J9xxx.xxx.9xx AKx.Kx.AKQJx.8xx 0.31564',\n",
       " 'Axx.KTxx.T9x.KQ8 9xx.J9xx.8xx.9xx K8.AQx.AKQJx.Jxx 0.31480',\n",
       " '9x.AJ9x.JTxx.KJx 8xx.QTxxx.8x.9xx AKx.Kx.AKQ9x.Q8x 0.31451',\n",
       " 'K9x.9xxx.QJx.KQx 8xx.QTxx.9xxx.8x Ax.AKJ.AKT8.J9xx 0.31252',\n",
       " 'xx.AKxx.T8xx.QJ9 98xx.QT9x.xx.xxx AK.Jxx.AKQJ9.K8x 0.31114',\n",
       " 'A9xx.Qxx.8x.KQxx 8x.T9xxx.JTxx.8x Kx.AKJ.AKQ9x.J9x 0.31090',\n",
       " 'A8xx.Kxx.J8.K8xx 9x.J9xxx.T9xx.xx Kx.AQT.AKQxx.QJ9 0.31054',\n",
       " '8x.AJTx.QJ8x.Qxx 9xxx.Qxxx.Txx.Jx AK.K9x.AK9x.K98x 0.31026',\n",
       " '9x.KQTx.AJTx.8xx xxx.9xxxx.Q9x.xx AK8.AJ.K8xx.KQJ9 0.30879',\n",
       " 'K8xx.A9x.A9xx.9x 9x.JTxxx.J8xx.xx Ax.KQx.KQT.KQJ8x 0.30848',\n",
       " 'xxx.AQJT.QJTxx.J 98x.xxxx.9.Q98xx AK.K9x.AK8xx.Kxx 0.30830',\n",
       " 'AK9.QJ9x.Qxx.9xx xx.xxxx.T98x.8xx 8xx.AKT.AKJx.KQJ 0.30577',\n",
       " 'A8xx.JTx.KQT.Jxx xx.Q9xxx.9xx.98x K9.AKx.AJ8xx.KQx 0.30493',\n",
       " 'Kx.K9xx.K9xx.J8x 9xx.JTxxx.JTx.xx A8x.AQ.AQ8x.KQ9x 0.30405',\n",
       " 'A9.QT9x.A9xx.8xx 8xx.Jxxx.JT8x.xx Kxx.AKx.KQx.KQJ9 0.30348',\n",
       " 'Kxx.AJTx.Q8x.K9x 9x.9xxx.T9xxx.xx A8x.KQx.AKJ.QJ8x 0.30318',\n",
       " 'K9x.QTxx.Q98x.Kx 8x.J9xx.xxx.J8xx Axx.AKx.AKJT.Q9x 0.30288',\n",
       " 'K8xx.KJx.Q98xx.Q 9x.T9xxxx.Jx.Jxx Ax.AQ.AKTx.K98xx 0.30081',\n",
       " 'K8x.JTxx.QJ8x.Kx 9xx.9xxx.Kxx.8xx Ax.AKQ.AT9x.QJ9x 0.30013',\n",
       " 'A9xx.AQx.QJTx.xx x.T9xxxx.98x.98x K8x.KJ.AKxx.KQJx 0.29953',\n",
       " '8xxx.KQTx.KQxx.Q 9x.xxxx.8x.J98xx AK.AJ9.AJT9x.Kxx 0.29945',\n",
       " 'Ax.QJxx.Jx.QJ8xx 9xx.T9xx.QT98x.9 K8x.AKx.AKxx.Kxx 0.29909',\n",
       " 'Ax.Jxxx.KQT9x.98 8xx.Q9xx.xxx.xxx K9x.AKT.AJ8.KQJx 0.29769',\n",
       " '98x.KQxx.KQT9x.Q xx.JT9xx.xx.98xx AKx.Ax.AJ8x.KJxx 0.29759',\n",
       " '98x.AQxx.QTx.K8x xx.JTxx.98xx.9xx AKx.K9x.AKJx.QJx 0.29718',\n",
       " 'A9x.Jxxx.AJx.Jxx 8xx.T9xx.QT8x.xx Kx.AKQ.K9xx.KQ98 0.29703',\n",
       " 'A98x.T9x.KJx.QJx xx.Jxxxx.8xx.8xx Kx.AKQ.AQT9x.K9x 0.29684',\n",
       " 'K9x.AKTx.JTx.Q8x xx.9xxx.98x.9xxx A8x.QJx.AKQxx.KJ 0.29640',\n",
       " 'xxx.Axxx.A9xx.Qx 8x.JT9xx.JT8x.Jx AK9.KQ.KQx.K98xx 0.29606',\n",
       " 'xx.KQJx.KJT9x.9x 9xx.9xxxx.xx.Qxx AK8.AT.AQ8x.KJ8x 0.29581',\n",
       " 'Kx.KTxx.A8x.98xx 98x.J9xxx.Txx.Jx Axx.AQ.KQJ9x.KQx 0.29382',\n",
       " 'K98.Axxx.Jxx.Kxx xxx.JTxx.8xx.9xx Ax.KQ9.AKQT9.QJ8 0.29340',\n",
       " 'K9x.Qxxx.Kxx.Kxx 8xx.JT9x.T98x.9x Ax.AKx.AQJx.QJ8x 0.29318',\n",
       " 'A9x.KJxx.x.QJxxx 8x.T9xx.JT98x.9x Kxx.AQx.AKQxx.K8 0.29175',\n",
       " 'K8x.KTxx.Qxxx.Qx xx.J9xx.JT8x.J8x A9x.AQx.AK9.K9xx 0.29151',\n",
       " 'Ax.Kxxx.QJxxx.xx 8xxx.QJ9xx.x.9xx K9.AT.AKT98.KQJ8 0.29147',\n",
       " '8x.KT9x.AJxxx.QJ 9xx.Jxxx.T9x.9xx AKx.AQx.KQ8.K8xx 0.28955',\n",
       " 'K9x.Q9xx.QJxx.Q8 xx.Jxxx.8xx.J9xx A8x.AKT.AKT9.Kxx 0.28843',\n",
       " '9xx.AKTx.KQxxx.x 8xx.9xxx.T8x.8xx AK.QJx.AJ9.KQJ9x 0.28429',\n",
       " 'K8xx.QJx.KQx.8xx 9.Txxxx.J98xx.9x Axx.AK9.ATx.KQJx 0.28298',\n",
       " 'A9x.AT9x.QJ9.98x xxx.xxxx.xxx.Qxx K8.KQJ.AKT8x.KJx 0.28284',\n",
       " 'K8xx.KJ.KJ9xx.9x 9x.9xxxxx.8.J8xx Ax.AQT.AQTxx.KQx 0.28235',\n",
       " 'A9x.KQxx.8xx.Q98 xx.JT9xx.JTxx.xx K8x.Ax.AKQ9.KJxx 0.28041',\n",
       " '98x.KQxx.QJx.Kxx xxx.JT9x.T8x.J9x AK.Axx.AK9xx.Q8x 0.27953',\n",
       " 'A8xx.Axx.QJT.Qxx x.T9xxx.98xx.9xx K9x.KQJ.AKxx.KJ8 0.27923',\n",
       " 'xxx.KTxx.A8xx.QJ 98x.Q9xx.JT9x.8x AK.AJx.KQx.K9xxx 0.27878',\n",
       " '8x.AQJx.J98x.Qxx Kxx.9xxx.Tx.98xx A9x.KTx.AKQxx.KJ 0.27858',\n",
       " 'A9x.QJTx.K9x.J98 xxx.9xxx.QT8x.xx K8.AKx.AJxx.KQxx 0.27820',\n",
       " 'K8x.Qxxx.A8xx.Jx 9x.JT9xx.9x.Q98x Axx.AK.KQJTx.Kxx 0.27622',\n",
       " '8xx.AKxx.A8x.98x 9xx.QTxxx.9xx.xx AK.J9.KQJTx.KQJx 0.27068',\n",
       " 'Ax.9xxx.Axx.Q8xx 98x.JTxx.JT98x.x Kxx.AKQ.KQx.KJ9x 0.26930',\n",
       " 'xx.AQxx.QT8.Q9xx 98x.J9xx.9xxx.Jx AKx.KTx.AKJx.K8x 0.26874',\n",
       " '9xx.QJxx.KQJxx.Q xx.T9xx.T8x.Jxxx AK8.AKx.A9x.K98x 0.26870',\n",
       " 'Kxx.KJxx.Jxxx.Qx xx.QTxxx.T9x.98x A98.A9.AKQ8.KJxx 0.26870',\n",
       " 'xxxx.QJxx.AQJ.Qx 98.9xxx.Txxx.J98 AK.AKT.K98x.Kxxx 0.26531',\n",
       " 'A9x.Txxx.AJ9xx.J xx.J9xx.8xx.Q8xx K8x.AKQ.KQT.K9xx 0.26342',\n",
       " '9x.Axxx.J9x.KQxx 8xxx.J9xx.QTx.9x AK.KQT.AK8xx.J8x 0.26081',\n",
       " '9xxx.KQJ9.KQ8x.J 8x.xxxx.JT9x.9xx AK.ATx.Axx.KQ8xx 0.25719',\n",
       " 'Kxx.AT9x.K8xx.9x 8x.Jxxx.JTx.8xxx A9x.KQx.AQ9x.KQJ 0.25508',\n",
       " 'K9xx.QJ9x.AQ8x.x 8.Txxx.Txxx.8xxx Axx.AKx.KJ9.KQJ9 0.25414',\n",
       " '9xx.AQTx.AT98.xx 8xx.9xxx.QJx.9xx AK.KJx.Kxxx.KQJ8 0.25350']"
      ]
     },
     "execution_count": 6,
     "metadata": {},
     "output_type": "execute_result"
    }
   ],
   "source": [
    "# each row is one sample board\n",
    "# the hands are in the order: LHO, Partner, RHO. Your cards are not shown as they are fixed/\n",
    "\n",
    "lead.samples"
   ]
  }
 ],
 "metadata": {
  "kernelspec": {
   "display_name": "Python 3 (ipykernel)",
   "language": "python",
   "name": "python3"
  },
  "language_info": {
   "codemirror_mode": {
    "name": "ipython",
    "version": 3
   },
   "file_extension": ".py",
   "mimetype": "text/x-python",
   "name": "python",
   "nbconvert_exporter": "python",
   "pygments_lexer": "ipython3",
   "version": "3.11.0"
  }
 },
 "nbformat": 4,
 "nbformat_minor": 5
}
