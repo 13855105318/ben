{
 "cells": [
  {
   "cell_type": "markdown",
   "id": "75d07246",
   "metadata": {},
   "source": [
    "# Bidding\n",
    "\n",
    "This is a tutorial for how to use the bidding engine"
   ]
  },
  {
   "cell_type": "code",
   "execution_count": 1,
   "id": "59a5664c",
   "metadata": {},
   "outputs": [
    {
     "name": "stdout",
     "output_type": "stream",
     "text": [
      "WARNING:tensorflow:From c:\\Python311\\Lib\\site-packages\\tensorflow\\python\\compat\\v2_compat.py:107: disable_resource_variables (from tensorflow.python.ops.variable_scope) is deprecated and will be removed in a future version.\n",
      "Instructions for updating:\n",
      "non-resource variables are not supported in the long term\n"
     ]
    }
   ],
   "source": [
    "import os\n",
    "import sys\n",
    "sys.path.append('../../src')\n",
    "\n",
    "from nn.models import Models\n",
    "from bots import BotBid\n",
    "from util import hand_to_str\n",
    "from sample import Sample\n",
    "import conf\n",
    "import numpy as np\n",
    "\n",
    "np.set_printoptions(precision=2, suppress=True, linewidth=200)\n",
    "np.random.seed(42)\n"
   ]
  },
  {
   "cell_type": "code",
   "execution_count": 2,
   "id": "44786d5d",
   "metadata": {},
   "outputs": [
    {
     "name": "stdout",
     "output_type": "stream",
     "text": [
      "INFO:tensorflow:Restoring parameters from ..\\Models/bidding-3233000\n",
      "INFO:tensorflow:Restoring parameters from ..\\Models/binfo-808000\n",
      "INFO:tensorflow:Restoring parameters from ..\\Models/lead-1000000\n",
      "INFO:tensorflow:Restoring parameters from ..\\Models/lead-1000000\n",
      "INFO:tensorflow:Restoring parameters from ..\\Models/lr3-1000000\n",
      "INFO:tensorflow:Restoring parameters from ..\\Models/lefty-1000000\n",
      "INFO:tensorflow:Restoring parameters from ..\\Models/dummy-920000\n",
      "INFO:tensorflow:Restoring parameters from ..\\Models/righty-1000000\n",
      "INFO:tensorflow:Restoring parameters from ..\\Models/decl-1000000\n"
     ]
    }
   ],
   "source": [
    "models = Models.from_conf(conf.load('../Conf/UCBC2024.conf'),'..')   # loading neural networks\n",
    "sampler = Sample.from_conf(conf.load('../Conf/UCBC2024.conf'), False)  # Load sampling strategies\n"
   ]
  },
  {
   "cell_type": "markdown",
   "id": "10d8f2fc",
   "metadata": {},
   "source": [
    "### Running through an example"
   ]
  },
  {
   "cell_type": "code",
   "execution_count": 3,
   "id": "19dbfeb7",
   "metadata": {},
   "outputs": [
    {
     "data": {
      "text/plain": [
       "[{'call': '1N', 'insta_score': 0.9994}]"
      ]
     },
     "execution_count": 3,
     "metadata": {},
     "output_type": "execute_result"
    }
   ],
   "source": [
    "# East deals, EW vulnerable.\n",
    "vuln_ns, vuln_ew = False, False\n",
    "\n",
    "# you sit West and hold:\n",
    "hand = 'AQ8.KQ94.JT.KJ52'\n",
    "\n",
    "# the auction goes:\n",
    "# (a few words about 'PAD_START':\n",
    "# the auction is padded to dealer North\n",
    "# if North is not dealer, than we have to put in a 'PAD_START' for every seat that was skipped\n",
    "# if East deals we have one pad (because North is skipped)\n",
    "# if South deals we have two pads (because North and East are skipped)\n",
    "# etc.)\n",
    "auction = [\"PAD_START\", \"PAD_START\", \"PAD_START\", \"PASS\"]\n",
    "bot_bid = BotBid([vuln_ns, vuln_ew], hand, models, sampler, False)\n",
    "\n",
    "bid = bot_bid.bid(auction)\n",
    "bid.to_dict()['candidates']\n",
    "\n",
    "# what's your bid?"
   ]
  },
  {
   "cell_type": "code",
   "execution_count": 4,
   "id": "bfe98f56",
   "metadata": {},
   "outputs": [
    {
     "data": {
      "text/plain": [
       "[{'call': '4H',\n",
       "  'insta_score': 0.7903,\n",
       "  'expected_score': 349,\n",
       "  'adjustment': 40},\n",
       " {'call': '3N', 'insta_score': 0.1586, 'expected_score': 268, 'adjustment': 8}]"
      ]
     },
     "execution_count": 4,
     "metadata": {},
     "output_type": "execute_result"
    }
   ],
   "source": [
    "auction = [\"PAD_START\", \"PAD_START\", \"PAD_START\", \"PASS\", \"1N\", \"PASS\", \"3S\",\"PASS\"]\n",
    "bid = bot_bid.bid(auction)\n",
    "\n",
    "bid.to_dict()['candidates']"
   ]
  },
  {
   "cell_type": "markdown",
   "id": "ad120123",
   "metadata": {},
   "source": [
    "in the output above:\n",
    "- `insta_score` reflects what the neural network prefers to bid\n",
    "- `expected_score` is based on what you expect to score on difference samples (for example, 70% of the time you are making and 30% of the time you are going one off, then the expected score is 0.7 * 620 - 0.3 * 100)"
   ]
  },
  {
   "cell_type": "markdown",
   "id": "051ff121",
   "metadata": {},
   "source": [
    "### Samples consistent with the auction so far\n",
    "\n",
    "Above we said that we are computig expected scores on samples consistent with the auction so far.\n",
    "\n",
    "How do we get these samples?\n",
    "\n",
    "We get some samples in the response we get from the bot (i.e `bid.samples`)"
   ]
  },
  {
   "cell_type": "code",
   "execution_count": 5,
   "id": "55b647a5",
   "metadata": {},
   "outputs": [
    {
     "data": {
      "text/plain": [
       "['AQ8.KQ9x.JT.KJxx JT9xx.Axx.xx.9xx x.JT8x.AQ9x.A8xx Kxxx.xx.K8xxx.QT 0.99088 P-1N-P-3S-P-4H-P-P-P (10.6)  P-1N-P-3S-P-3N-P-P-P (9.1) ',\n",
       " 'AQ8.KQ9x.JT.KJxx J9xxx.J8x.xx.AQx .Axxx.AKQ9x.T9xx KTxxx.Tx.8xxx.8x 0.98844 P-1N-P-3S-P-4H-P-P-P (11.6)  P-1N-P-3S-P-3N-P-P-P (10.4) ',\n",
       " 'AQ8.KQ9x.JT.KJxx Txxxx.JT8x.Axx.T 9.Axxx.K98x.Qxxx KJxx.x.Qxxx.A98x 0.98477 P-1N-P-3S-P-4H-P-P-P (9.0)  P-1N-P-3S-P-3N-P-P-P (8.7) ',\n",
       " 'AQ8.KQ9x.JT.KJxx Kxxxx.Jx.K9xxx.x x.A8xx.xxx.AQxxx JT9x.Txx.AQ8.T98 0.98457 P-1N-P-3S-P-4H-P-P-P (10.9)  P-1N-P-3S-P-3N-P-P-P (9.2) ',\n",
       " 'AQ8.KQ9x.JT.KJxx KT9xx.Jxx.Q98x.Q x.ATxx.Kxxx.A98x Jxxx.8x.Axx.Txxx 0.97891 P-1N-P-3S-P-4H-P-P-P (11.0)  P-1N-P-3S-P-3N-P-P-P (9.5) ',\n",
       " 'AQ8.KQ9x.JT.KJxx K9xx.Txx.9x.Qxxx T.Jxxx.AKxx.AT98 Jxxxx.A8.Q8xxx.x 0.97796 P-1N-P-3S-P-4H-P-P-P (11.2)  P-1N-P-3S-P-3N-P-P-P (10.0) ',\n",
       " 'AQ8.KQ9x.JT.KJxx Jxxxx.Tx.Kxx.A9x x.AJxx.Axxx.8xxx KT9x.8xx.Q98x.QT 0.97521 P-1N-P-3S-P-4H-P-P-P (10.4)  P-1N-P-3S-P-3N-P-P-P (8.6) ',\n",
       " 'AQ8.KQ9x.JT.KJxx JTxx.A8x.9x.AQ9x x.Txxx.AKQ8x.Txx K9xxx.Jx.xxxx.8x 0.97133 P-1N-P-3S-P-4H-P-P-P (9.8)  P-1N-P-3S-P-3N-P-P-P (8.2) ',\n",
       " 'AQ8.KQ9x.JT.KJxx KJTx.Tx.Qxxx.AQx x.AJxx.AK9x.T9xx 9xxxx.8xx.8xx.8x 0.96793 P-1N-P-3S-P-4H-P-P-P (10.9)  P-1N-P-3S-P-3N-P-P-P (9.8) ',\n",
       " 'AQ8.KQ9x.JT.KJxx J9xxx.xx.Q8xx.AT x.AJ8x.A9xx.8xxx KTxx.Txx.Kxx.Q9x 0.96686 P-1N-P-3S-P-4H-P-P-P (9.9)  P-1N-P-3S-P-3N-P-P-P (8.4) ',\n",
       " 'AQ8.KQ9x.JT.KJxx KJTxx.Axx.x.9xxx x.Txxx.AKxxx.ATx 9xxx.J8.Q98xx.Q8 0.95724 P-1N-P-3S-P-4H-P-P-P (10.7)  P-1N-P-3S-P-3N-P-P-P (9.1) ',\n",
       " 'AQ8.KQ9x.JT.KJxx KJxx.Jxxx.A9xx.T x.A8xx.KQ8xx.Q9x T9xxx.T.xx.A8xxx 0.95206 P-1N-P-3S-P-4H-P-P-P (9.9)  P-1N-P-3S-P-3N-P-P-P (9.6) ',\n",
       " 'AQ8.KQ9x.JT.KJxx KT9x.8xxx.K9x.8x x.AJxx.A8xx.AQxx Jxxxx.T.Qxxx.T9x 0.94460 P-1N-P-3S-P-4H-P-P-P (12.3)  P-1N-P-3S-P-3N-P-P-P (11.7) ',\n",
       " 'AQ8.KQ9x.JT.KJxx KTxx.Ax.98xx.Q9x J.T8xx.Axxx.AT8x 9xxxx.Jxx.KQx.xx 0.93446 P-1N-P-3S-P-4H-P-P-P (10.5)  P-1N-P-3S-P-3N-P-P-P (8.5) ',\n",
       " 'AQ8.KQ9x.JT.KJxx xxxx.A8x.Qxx.8xx K.JTxx.AK98xx.Q9 JT9xx.xx.xx.ATxx 0.69013 P-1N-P-3S-P-4H-P-4N-P-6H-P-P-P (11.1)  P-1N-P-3S-P-3N-P-4C-P-4N-P-6D-P-P-P (10.7) ',\n",
       " 'AQ8.KQ9x.JT.KJxx Tx.JT8x.K8xxxx.x J.Axxx.A9x.AQ98x Kxxxxx.x.Qx.Txx 0.62778 P-1N-P-3S-P-4H-P-4N-P-6H-P-P-P (11.4)  P-1N-P-3S-P-3N-P-P-P (11.7) ',\n",
       " 'AQ8.KQ9x.JT.KJxx KJTxxx.xx.Axx.Qx .Axxx.K9xxx.Axxx 9xxx.JT8.Q8x.T98 0.44469 P-1N-P-3S-P-4H-P-P-P (11.5)  P-1N-P-3S-P-3N-P-P-P (9.1) ',\n",
       " 'AQ8.KQ9x.JT.KJxx Txxx.x.Kxxx.QT9x J.Jxxx.A8xxx.A8x K9xxx.AT8x.Q9.xx 0.39171 P-1N-P-3S-P-4H-P-P-P (10.0)  P-1N-P-3S-P-3N-P-P-P (8.7) ',\n",
       " 'AQ8.KQ9x.JT.KJxx JT9xxx.Txxx.x.Ax K.A8xx.KQxxx.QTx xxx.J.A98xx.98xx 0.29410 P-1N-P-3S-P-4H-P-P-P (10.5)  P-1N-P-3S-P-3N-P-P-P (10.7) ',\n",
       " 'AQ8.KQ9x.JT.KJxx T9xx.8x.K8xx.Q8x x.JTxx.Axxx.ATxx KJxxx.Axx.Q9x.9x 0.27926 P-1N-P-3S-P-4H-P-P-P (10.8)  P-1N-P-3S-P-3N-P-P-P (9.1) ']"
      ]
     },
     "execution_count": 5,
     "metadata": {},
     "output_type": "execute_result"
    }
   ],
   "source": [
    "bid.samples"
   ]
  },
  {
   "cell_type": "markdown",
   "id": "7d0dd8f5",
   "metadata": {},
   "source": [
    "each row is one sample. the hands are in the order: N E S W\n",
    "\n",
    "(West always has the same cards because it's your hand and it's known to you)"
   ]
  },
  {
   "cell_type": "code",
   "execution_count": 6,
   "id": "7101e514",
   "metadata": {},
   "outputs": [
    {
     "name": "stdout",
     "output_type": "stream",
     "text": [
      "AQ8.KQ9x.JT.KJxx KJ9xx.8xxx.xx.Tx x.AJxx.98xx.AQxx Txxx.T.AKQxx.98x\n",
      "AQ8.KQ9x.JT.KJxx KTxxxx.x.A9xx.9x J.ATxx.Q8x.QT8xx 9xx.J8xx.Kxxx.Ax\n",
      "AQ8.KQ9x.JT.KJxx T9xx.AJx.AQ9x.T8 x.T8xx.Kxxx.AQ9x KJxxx.xx.8xx.xxx\n",
      "AQ8.KQ9x.JT.KJxx KJ9.Jxx.KQ8.QTxx T.Axxx.A9x.A98xx xxxxxx.T8.xxxxx.\n",
      "AQ8.KQ9x.JT.KJxx KJx.Jxx.K8xx.Q9x x.AT8x.AQxx.ATxx T9xxxx.xx.9xx.8x\n",
      "AQ8.KQ9x.JT.KJxx KJxxxx.Tx.8xxx.Q x.AJxx.A9.AT9xxx T9x.8xx.KQxxx.8x\n",
      "AQ8.KQ9x.JT.KJxx xxxxx.xxx.8x.A9x J.T8xx.AKQxxx.Qx KT9x.AJ.9xx.T8xx\n",
      "AQ8.KQ9x.JT.KJxx KJTx.T.Qxxxx.T9x x.8xxx.A98x.AQxx 9xxxx.AJxx.Kx.8x\n",
      "AQ8.KQ9x.JT.KJxx Txxx.Txxx.xx.ATx x.AJ8x.AQxxx.Q8x KJ9xx.x.K98x.9xx\n",
      "AQ8.KQ9x.JT.KJxx xxxx.8xx.Axx.A9x K.AJxx.K98x.Q8xx JT9xx.Tx.Qxxx.Tx\n",
      "AQ8.KQ9x.JT.KJxx xxxx.Txx.Kxx.Q98 T.AJxx.A8x.Txxxx KJ9xx.8x.Q9xxx.A\n",
      "AQ8.KQ9x.JT.KJxx T9xxx.A8x.Qx.T9x K.Txxx.K8xxx.AQx Jxxx.Jx.A9xx.8xx\n"
     ]
    }
   ],
   "source": [
    "# we got some samples above. if we want more, we can always get more\n",
    "\n",
    "sample_hands, sorted_score, p_hcp, p_shp = bot_bid.sample_hands([\"PAD_START\", \"PAD_START\", \"PAD_START\", \"PASS\", \"1N\", \"PASS\", \"3S\",\"PASS\"])\n",
    "\n",
    "for i in range(sample_hands.shape[0]):\n",
    "    print(f'{hand_to_str(sample_hands[i, 0, :])} {hand_to_str(sample_hands[i, 1, :])} {hand_to_str(sample_hands[i, 2, :])} {hand_to_str(sample_hands[i, 3, :])}')"
   ]
  }
 ],
 "metadata": {
  "kernelspec": {
   "display_name": "Python 3 (ipykernel)",
   "language": "python",
   "name": "python3"
  },
  "language_info": {
   "codemirror_mode": {
    "name": "ipython",
    "version": 3
   },
   "file_extension": ".py",
   "mimetype": "text/x-python",
   "name": "python",
   "nbconvert_exporter": "python",
   "pygments_lexer": "ipython3",
   "version": "3.11.0"
  }
 },
 "nbformat": 4,
 "nbformat_minor": 5
}
