{
 "cells": [
  {
   "cell_type": "markdown",
   "id": "75d07246",
   "metadata": {},
   "source": [
    "# Bidding\n",
    "\n",
    "This is a tutorial for how to use the bidding engine"
   ]
  },
  {
   "cell_type": "code",
   "execution_count": 1,
   "id": "59a5664c",
   "metadata": {},
   "outputs": [
    {
     "name": "stdout",
     "output_type": "stream",
     "text": [
      "WARNING:tensorflow:From c:\\Python311\\Lib\\site-packages\\tensorflow\\python\\compat\\v2_compat.py:107: disable_resource_variables (from tensorflow.python.ops.variable_scope) is deprecated and will be removed in a future version.\n",
      "Instructions for updating:\n",
      "non-resource variables are not supported in the long term\n"
     ]
    }
   ],
   "source": [
    "import os\n",
    "import sys\n",
    "sys.path.append('../../src')\n",
    "\n",
    "from nn.models import Models\n",
    "from bots import BotBid\n",
    "from util import hand_to_str\n",
    "from sample import Sample\n",
    "import conf\n",
    "import numpy as np\n",
    "\n",
    "np.set_printoptions(precision=2, suppress=True, linewidth=200)\n",
    "np.random.seed(42)\n"
   ]
  },
  {
   "cell_type": "code",
   "execution_count": 2,
   "id": "44786d5d",
   "metadata": {},
   "outputs": [
    {
     "name": "stdout",
     "output_type": "stream",
     "text": [
      "INFO:tensorflow:Restoring parameters from ..\\Models/bidding-3233000\n",
      "INFO:tensorflow:Restoring parameters from ..\\Models/binfo-286000\n",
      "INFO:tensorflow:Restoring parameters from ..\\Models/lead-1000000\n",
      "INFO:tensorflow:Restoring parameters from ..\\Models/lr3-1000000\n",
      "INFO:tensorflow:Restoring parameters from ..\\Models/lefty-1000000\n",
      "INFO:tensorflow:Restoring parameters from ..\\Models/dummy-920000\n",
      "INFO:tensorflow:Restoring parameters from ..\\Models/righty-1000000\n",
      "INFO:tensorflow:Restoring parameters from ..\\Models/decl-1000000\n"
     ]
    }
   ],
   "source": [
    "models = Models.from_conf(conf.load('../Conf/UCBC2024.conf'),'..')   # loading neural networks\n",
    "sampler = Sample.from_conf(conf.load('../Conf/UCBC2024.conf'), False)  # Load sampling strategies\n"
   ]
  },
  {
   "cell_type": "markdown",
   "id": "10d8f2fc",
   "metadata": {},
   "source": [
    "### Running through an example"
   ]
  },
  {
   "cell_type": "code",
   "execution_count": 3,
   "id": "19dbfeb7",
   "metadata": {},
   "outputs": [
    {
     "name": "stdout",
     "output_type": "stream",
     "text": [
      "Sampling for aution: ['PAD_START', 'PAD_START', 'PAD_START', 'PASS'] trying to find 5000\n",
      "sample_cards_auction, nsteps= 2\n",
      "NS:  1.0 EW:  2.0 Auction:  ['PAD_START', 'PAD_START', 'PAD_START', 'PASS']\n",
      "n_samples 5000 matching bidding info\n"
     ]
    },
    {
     "data": {
      "text/plain": [
       "[{'call': '1N', 'insta_score': 0.9994}]"
      ]
     },
     "execution_count": 3,
     "metadata": {},
     "output_type": "execute_result"
    }
   ],
   "source": [
    "# East deals, EW vulnerable.\n",
    "vuln_ns, vuln_ew = False, False\n",
    "\n",
    "# you sit West and hold:\n",
    "hand = 'AQ8.KQ94.JT.KJ52'\n",
    "\n",
    "# the auction goes:\n",
    "# (a few words about 'PAD_START':\n",
    "# the auction is padded to dealer North\n",
    "# if North is not dealer, than we have to put in a 'PAD_START' for every seat that was skipped\n",
    "# if East deals we have one pad (because North is skipped)\n",
    "# if South deals we have two pads (because North and East are skipped)\n",
    "# etc.)\n",
    "auction = [\"PAD_START\", \"PAD_START\", \"PAD_START\", \"PASS\"]\n",
    "bot_bid = BotBid([vuln_ns, vuln_ew], hand, models, sampler, False)\n",
    "\n",
    "bid = bot_bid.bid(auction)\n",
    "bid.to_dict()['candidates']\n",
    "\n",
    "# what's your bid?"
   ]
  },
  {
   "cell_type": "code",
   "execution_count": 4,
   "id": "bfe98f56",
   "metadata": {},
   "outputs": [
    {
     "name": "stdout",
     "output_type": "stream",
     "text": [
      "Sampling for aution: ['PAD_START', 'PAD_START', 'PAD_START', 'PASS', '1N', 'PASS', '3S', 'PASS'] trying to find 5000\n",
      "sample_cards_auction, nsteps= 3\n",
      "NS:  1.0 EW:  2.0 Auction:  ['PAD_START', 'PAD_START', 'PAD_START', 'PASS', '1N', 'PASS', '3S', 'PASS']\n",
      "n_samples 3212 matching bidding info\n",
      " 4H   0.7903 Samples: 23\n",
      "['4HN', '4HN', '4HN', '4HN', '4HN', '4HN', '4HN', '4HN', '4HN', '4HN', '4HN', '4HN', '4HN', '4HN', '4HN', '4HN', '6HN', '4HN', '6HN', '6HN', '4HN', '4HN', '4HN']\n",
      "[[0.   0.   0.   0.   0.   0.   0.   0.02 0.04 0.12 0.24 0.31 0.21 0.06]\n",
      " [0.   0.   0.   0.   0.   0.   0.01 0.02 0.04 0.12 0.25 0.3  0.2  0.06]\n",
      " [0.   0.   0.   0.   0.   0.   0.   0.   0.01 0.04 0.16 0.34 0.33 0.11]\n",
      " [0.   0.   0.   0.   0.   0.   0.   0.01 0.03 0.1  0.22 0.31 0.23 0.08]\n",
      " [0.   0.   0.   0.   0.   0.   0.   0.   0.01 0.05 0.18 0.36 0.31 0.09]\n",
      " [0.   0.   0.   0.   0.   0.   0.   0.   0.01 0.03 0.14 0.35 0.36 0.11]\n",
      " [0.   0.   0.   0.   0.   0.   0.   0.01 0.03 0.1  0.23 0.33 0.23 0.07]\n",
      " [0.   0.   0.   0.   0.   0.   0.   0.   0.   0.02 0.09 0.31 0.42 0.16]\n",
      " [0.   0.   0.   0.   0.   0.   0.   0.   0.01 0.03 0.11 0.3  0.38 0.17]\n",
      " [0.   0.   0.   0.   0.   0.   0.   0.   0.   0.01 0.06 0.2  0.38 0.35]\n",
      " [0.   0.   0.   0.   0.   0.   0.   0.   0.01 0.06 0.2  0.36 0.29 0.08]\n",
      " [0.   0.   0.   0.   0.   0.   0.   0.   0.   0.   0.04 0.18 0.4  0.37]\n",
      " [0.   0.   0.   0.   0.   0.   0.   0.01 0.03 0.08 0.2  0.32 0.26 0.1 ]\n",
      " [0.   0.   0.   0.   0.   0.   0.   0.   0.   0.   0.02 0.13 0.33 0.51]\n",
      " [0.   0.   0.   0.   0.   0.   0.   0.   0.01 0.02 0.1  0.27 0.38 0.22]\n",
      " [0.   0.   0.   0.   0.   0.   0.   0.   0.01 0.03 0.11 0.29 0.37 0.19]\n",
      " [0.   0.   0.   0.   0.   0.   0.   0.   0.   0.   0.03 0.19 0.48 0.29]\n",
      " [0.   0.   0.   0.   0.   0.   0.   0.01 0.01 0.06 0.2  0.36 0.28 0.08]\n",
      " [0.   0.   0.   0.   0.   0.   0.   0.   0.   0.   0.   0.06 0.25 0.68]\n",
      " [0.   0.   0.   0.   0.   0.   0.   0.   0.   0.01 0.05 0.22 0.44 0.29]\n",
      " [0.   0.   0.   0.   0.   0.   0.   0.   0.02 0.1  0.29 0.38 0.18 0.02]\n",
      " [0.   0.   0.   0.   0.   0.   0.   0.   0.01 0.04 0.16 0.35 0.33 0.1 ]\n",
      " [0.   0.   0.   0.   0.   0.   0.   0.01 0.01 0.05 0.17 0.33 0.31 0.11]]\n",
      "4HN [-500. -450. -400. -350. -300. -250. -200. -150. -100.  -50.  420.  450.  480.  510.]\n",
      "4HN [-500. -450. -400. -350. -300. -250. -200. -150. -100.  -50.  420.  450.  480.  510.]\n",
      "4HN [-500. -450. -400. -350. -300. -250. -200. -150. -100.  -50.  420.  450.  480.  510.]\n",
      "4HN [-500. -450. -400. -350. -300. -250. -200. -150. -100.  -50.  420.  450.  480.  510.]\n",
      "4HN [-500. -450. -400. -350. -300. -250. -200. -150. -100.  -50.  420.  450.  480.  510.]\n",
      "4HN [-500. -450. -400. -350. -300. -250. -200. -150. -100.  -50.  420.  450.  480.  510.]\n",
      "4HN [-500. -450. -400. -350. -300. -250. -200. -150. -100.  -50.  420.  450.  480.  510.]\n",
      "4HN [-500. -450. -400. -350. -300. -250. -200. -150. -100.  -50.  420.  450.  480.  510.]\n",
      "4HN [-500. -450. -400. -350. -300. -250. -200. -150. -100.  -50.  420.  450.  480.  510.]\n",
      "4HN [-500. -450. -400. -350. -300. -250. -200. -150. -100.  -50.  420.  450.  480.  510.]\n",
      "4HN [-500. -450. -400. -350. -300. -250. -200. -150. -100.  -50.  420.  450.  480.  510.]\n",
      "4HN [-500. -450. -400. -350. -300. -250. -200. -150. -100.  -50.  420.  450.  480.  510.]\n",
      "4HN [-500. -450. -400. -350. -300. -250. -200. -150. -100.  -50.  420.  450.  480.  510.]\n",
      "4HN [-500. -450. -400. -350. -300. -250. -200. -150. -100.  -50.  420.  450.  480.  510.]\n",
      "4HN [-500. -450. -400. -350. -300. -250. -200. -150. -100.  -50.  420.  450.  480.  510.]\n",
      "4HN [-500. -450. -400. -350. -300. -250. -200. -150. -100.  -50.  420.  450.  480.  510.]\n",
      "6HN [-600. -550. -500. -450. -400. -350. -300. -250. -200. -150. -100.  -50.  980. 1010.]\n",
      "4HN [-500. -450. -400. -350. -300. -250. -200. -150. -100.  -50.  420.  450.  480.  510.]\n",
      "6HN [-600. -550. -500. -450. -400. -350. -300. -250. -200. -150. -100.  -50.  980. 1010.]\n",
      "6HN [-600. -550. -500. -450. -400. -350. -300. -250. -200. -150. -100.  -50.  980. 1010.]\n",
      "4HN [-500. -450. -400. -350. -300. -250. -200. -150. -100.  -50.  420.  450.  480.  510.]\n",
      "4HN [-500. -450. -400. -350. -300. -250. -200. -150. -100.  -50.  420.  450.  480.  510.]\n",
      "4HN [-500. -450. -400. -350. -300. -250. -200. -150. -100.  -50.  420.  450.  480.  510.]\n",
      " 3N   0.1586 Samples: 23\n",
      "['3NN', '3NN', '3NN', '3NN', '3NN', '3NN', '3NN', '3NN', '3NN', '3NN', '3NN', '3NN', '3NN', '3NN', '3NN', '3NN', '6HN', '3NN', '6NN', '6DS', '3NN', '3NN', '3NN']\n",
      "[[0.   0.   0.   0.   0.   0.02 0.04 0.08 0.12 0.18 0.21 0.18 0.11 0.04]\n",
      " [0.   0.   0.   0.   0.01 0.03 0.06 0.11 0.17 0.2  0.19 0.14 0.06 0.02]\n",
      " [0.   0.   0.   0.   0.   0.01 0.03 0.05 0.08 0.15 0.21 0.22 0.17 0.08]\n",
      " [0.   0.   0.   0.   0.   0.   0.02 0.04 0.07 0.14 0.22 0.25 0.19 0.08]\n",
      " [0.   0.   0.   0.   0.   0.02 0.04 0.07 0.1  0.16 0.2  0.2  0.15 0.07]\n",
      " [0.   0.   0.   0.   0.   0.   0.01 0.04 0.07 0.16 0.24 0.26 0.16 0.06]\n",
      " [0.   0.   0.   0.   0.   0.03 0.05 0.1  0.14 0.19 0.2  0.16 0.09 0.03]\n",
      " [0.   0.   0.   0.   0.   0.   0.01 0.03 0.05 0.1  0.18 0.26 0.25 0.13]\n",
      " [0.   0.   0.   0.   0.   0.   0.01 0.02 0.04 0.09 0.19 0.28 0.26 0.13]\n",
      " [0.   0.   0.   0.   0.   0.   0.   0.01 0.02 0.06 0.14 0.25 0.3  0.21]\n",
      " [0.   0.   0.   0.   0.   0.   0.02 0.04 0.07 0.15 0.23 0.25 0.17 0.07]\n",
      " [0.   0.   0.   0.   0.   0.   0.   0.   0.01 0.04 0.11 0.23 0.33 0.29]\n",
      " [0.   0.   0.   0.   0.   0.02 0.04 0.07 0.11 0.17 0.2  0.2  0.13 0.06]\n",
      " [0.   0.   0.   0.   0.   0.   0.   0.   0.01 0.03 0.1  0.2  0.3  0.34]\n",
      " [0.   0.   0.   0.   0.   0.   0.01 0.03 0.05 0.1  0.18 0.26 0.24 0.13]\n",
      " [0.   0.   0.   0.   0.   0.   0.01 0.03 0.06 0.13 0.22 0.26 0.19 0.08]\n",
      " [0.   0.   0.   0.   0.   0.   0.   0.   0.   0.   0.03 0.19 0.48 0.29]\n",
      " [0.   0.   0.   0.   0.   0.03 0.06 0.1  0.13 0.18 0.19 0.16 0.1  0.05]\n",
      " [0.   0.   0.   0.   0.   0.   0.   0.   0.   0.   0.01 0.09 0.27 0.62]\n",
      " [0.   0.   0.   0.   0.   0.   0.   0.   0.   0.01 0.1  0.39 0.43 0.08]\n",
      " [0.   0.   0.   0.   0.   0.01 0.02 0.05 0.1  0.18 0.25 0.22 0.12 0.04]\n",
      " [0.   0.   0.   0.   0.   0.   0.01 0.03 0.05 0.12 0.21 0.27 0.21 0.09]\n",
      " [0.   0.   0.   0.   0.   0.   0.02 0.05 0.07 0.13 0.19 0.23 0.2  0.11]]\n",
      "3NN [-450. -400. -350. -300. -250. -200. -150. -100.  -50.  400.  430.  460.  490.  520.]\n",
      "3NN [-450. -400. -350. -300. -250. -200. -150. -100.  -50.  400.  430.  460.  490.  520.]\n",
      "3NN [-450. -400. -350. -300. -250. -200. -150. -100.  -50.  400.  430.  460.  490.  520.]\n",
      "3NN [-450. -400. -350. -300. -250. -200. -150. -100.  -50.  400.  430.  460.  490.  520.]\n",
      "3NN [-450. -400. -350. -300. -250. -200. -150. -100.  -50.  400.  430.  460.  490.  520.]\n",
      "3NN [-450. -400. -350. -300. -250. -200. -150. -100.  -50.  400.  430.  460.  490.  520.]\n",
      "3NN [-450. -400. -350. -300. -250. -200. -150. -100.  -50.  400.  430.  460.  490.  520.]\n",
      "3NN [-450. -400. -350. -300. -250. -200. -150. -100.  -50.  400.  430.  460.  490.  520.]\n",
      "3NN [-450. -400. -350. -300. -250. -200. -150. -100.  -50.  400.  430.  460.  490.  520.]\n",
      "3NN [-450. -400. -350. -300. -250. -200. -150. -100.  -50.  400.  430.  460.  490.  520.]\n",
      "3NN [-450. -400. -350. -300. -250. -200. -150. -100.  -50.  400.  430.  460.  490.  520.]\n",
      "3NN [-450. -400. -350. -300. -250. -200. -150. -100.  -50.  400.  430.  460.  490.  520.]\n",
      "3NN [-450. -400. -350. -300. -250. -200. -150. -100.  -50.  400.  430.  460.  490.  520.]\n",
      "3NN [-450. -400. -350. -300. -250. -200. -150. -100.  -50.  400.  430.  460.  490.  520.]\n",
      "3NN [-450. -400. -350. -300. -250. -200. -150. -100.  -50.  400.  430.  460.  490.  520.]\n",
      "3NN [-450. -400. -350. -300. -250. -200. -150. -100.  -50.  400.  430.  460.  490.  520.]\n",
      "6HN [-600. -550. -500. -450. -400. -350. -300. -250. -200. -150. -100.  -50.  980. 1010.]\n",
      "3NN [-450. -400. -350. -300. -250. -200. -150. -100.  -50.  400.  430.  460.  490.  520.]\n",
      "6NN [-600. -550. -500. -450. -400. -350. -300. -250. -200. -150. -100.  -50.  990. 1020.]\n",
      "6DS [-600. -550. -500. -450. -400. -350. -300. -250. -200. -150. -100.  -50.  920.  940.]\n",
      "3NN [-450. -400. -350. -300. -250. -200. -150. -100.  -50.  400.  430.  460.  490.  520.]\n",
      "3NN [-450. -400. -350. -300. -250. -200. -150. -100.  -50.  400.  430.  460.  490.  520.]\n",
      "3NN [-450. -400. -350. -300. -250. -200. -150. -100.  -50.  400.  430.  460.  490.  520.]\n"
     ]
    },
    {
     "data": {
      "text/plain": [
       "[{'call': '4H',\n",
       "  'insta_score': 0.7903,\n",
       "  'expected_score': 473,\n",
       "  'adjustment': 40},\n",
       " {'call': '3N', 'insta_score': 0.1586, 'expected_score': 415, 'adjustment': 8}]"
      ]
     },
     "execution_count": 4,
     "metadata": {},
     "output_type": "execute_result"
    }
   ],
   "source": [
    "auction = [\"PAD_START\", \"PAD_START\", \"PAD_START\", \"PASS\", \"1N\", \"PASS\", \"3S\",\"PASS\"]\n",
    "bid = bot_bid.bid(auction)\n",
    "\n",
    "bid.to_dict()['candidates']"
   ]
  },
  {
   "cell_type": "markdown",
   "id": "ad120123",
   "metadata": {},
   "source": [
    "in the output above:\n",
    "- `insta_score` reflects what the neural network prefers to bid\n",
    "- `expected_score` is based on what you expect to score on difference samples (for example, 70% of the time you are making and 30% of the time you are going one off, then the expected score is 0.7 * 620 - 0.3 * 100)"
   ]
  },
  {
   "cell_type": "markdown",
   "id": "051ff121",
   "metadata": {},
   "source": [
    "### Samples consistent with the auction so far\n",
    "\n",
    "Above we said that we are computig expected scores on samples consistent with the auction so far.\n",
    "\n",
    "How do we get these samples?\n",
    "\n",
    "We get some samples in the response we get from the bot (i.e `bid.samples`)"
   ]
  },
  {
   "cell_type": "code",
   "execution_count": 5,
   "id": "55b647a5",
   "metadata": {},
   "outputs": [
    {
     "data": {
      "text/plain": [
       "['AQ8.KQ9x.JT.KJxx Jxxxx.JTx.AKx.9x x.A8xx.Q8xx.AT8x KT9x.xx.9xxx.Qxx 0.98702 P-1N-P-3S-P-4H-P-P-P (10.6)  P-1N-P-3S-P-3N-P-P-P (9.6) ',\n",
       " 'AQ8.KQ9x.JT.KJxx KJTxx.Jx.9x.A9xx x.ATxx.Axxx.QT8x 9xxx.8xx.KQ8xx.x 0.98680 P-1N-P-3S-P-4H-P-P-P (10.6)  P-1N-P-3S-P-3N-P-P-P (9.0) ',\n",
       " 'AQ8.KQ9x.JT.KJxx J9xxxx.Txx.Ax.Tx T.AJxx.Q8xx.AQxx Kxx.8x.K9xxx.98x 0.98504 P-1N-P-3S-P-4H-P-P-P (11.2)  P-1N-P-3S-P-3N-P-P-P (10.2) ',\n",
       " 'AQ8.KQ9x.JT.KJxx T9xxx.8xx.K8xxx. J.ATxx.AQ9x.QTxx Kxxx.Jx.xx.A98xx 0.98215 P-1N-P-3S-P-4H-P-P-P (10.8)  P-1N-P-3S-P-3N-P-P-P (10.4) ',\n",
       " 'AQ8.KQ9x.JT.KJxx KT9xxx.8xx.xx.9x x.AJxx.Q9xx.AQxx Jxx.Tx.AK8xx.T8x 0.98164 P-1N-P-3S-P-4H-P-P-P (11.2)  P-1N-P-3S-P-3N-P-P-P (9.9) ',\n",
       " 'AQ8.KQ9x.JT.KJxx Kxxx.AJ.98xxx.8x 9.8xxx.AKQx.ATxx JTxxx.Txx.xx.Q9x 0.98071 P-1N-P-3S-P-4H-P-P-P (11.3)  P-1N-P-3S-P-3N-P-P-P (10.3) ',\n",
       " 'AQ8.KQ9x.JT.KJxx JTxxx.xxx.Q8x.xx x.AT8x.A9xx.QT9x K9xx.Jx.Kxxx.A8x 0.97611 P-1N-P-3S-P-4H-P-P-P (10.8)  P-1N-P-3S-P-3N-P-P-P (9.3) ',\n",
       " 'AQ8.KQ9x.JT.KJxx 9xxxx.xx.A9xx.Q9 x.AJT8.KQxx.A8xx KJTx.xxx.8xx.Txx 0.96373 P-1N-P-3S-P-4H-P-P-P (11.6)  P-1N-P-3S-P-3N-P-P-P (10.8) ',\n",
       " 'AQ8.KQ9x.JT.KJxx Kxxx.xx.8xxx.9xx 9.AJ8x.Qxx.AQT8x JTxxx.Txx.AK9x.x 0.94372 P-1N-P-3S-P-4H-P-P-P (11.5)  P-1N-P-3S-P-3N-P-P-P (10.9) ',\n",
       " 'AQ8.KQ9x.JT.KJxx 9xx.xx.KQ9xx.Q9x J.AJTx.Axxx.AT8x KTxxxx.8xx.8x.xx 0.93419 P-1N-P-3S-P-4H-P-P-P (12.0)  P-1N-P-3S-P-3N-P-P-P (11.3) ',\n",
       " 'AQ8.KQ9x.JT.KJxx 9xxx.xx.xxxx.AQx x.AJxx.AKQ9.98xx KJTxx.T8x.8xx.Tx 0.92855 P-1N-P-3S-P-4H-P-P-P (11.1)  P-1N-P-3S-P-3N-P-P-P (10.3) ',\n",
       " 'AQ8.KQ9x.JT.KJxx KJ9xxx.Jx.8xx.xx x.Axxx.KQx.AQT8x Txx.T8x.A9xxx.9x 0.92051 P-1N-P-3S-P-4H-P-P-P (12.1)  P-1N-P-3S-P-3N-P-P-P (11.7) ',\n",
       " 'AQ8.KQ9x.JT.KJxx JT9x.J.Axxxx.Txx x.ATxx.K9xx.A98x Kxxxx.8xxx.Q8.Qx 0.92034 P-1N-P-3S-P-4H-P-P-P (11.0)  P-1N-P-3S-P-3N-P-P-P (9.8) ',\n",
       " 'AQ8.KQ9x.JT.KJxx J9xxx.xx.Kxxx.xx x.AJ8x.A8xx.AQT8 KTxx.Txx.Q9x.9xx 0.91785 P-1N-P-3S-P-4H-P-P-P (12.3)  P-1N-P-3S-P-3N-P-P-P (11.8) ',\n",
       " 'AQ8.KQ9x.JT.KJxx KJxxxx.8x.xx.Qxx T.Axxx.AKQ8x.T98 9xx.JTx.9xxx.Axx 0.81708 P-1N-P-3S-P-4H-P-P-P (11.6)  P-1N-P-3S-P-3N-P-P-P (10.8) ',\n",
       " 'AQ8.KQ9x.JT.KJxx T9xxx.Jx.9xxx.9x x.ATxx.AQxxx.ATx KJxx.8xx.K8.Q8xx 0.79677 P-1N-P-3S-P-4H-P-P-P (11.6)  P-1N-P-3S-P-3N-P-P-P (10.5) ',\n",
       " 'AQ8.KQ9x.JT.KJxx KJTxxx.xx.A8x.8x 9.AJxx.KQ9xx.AQx xxx.T8x.xxx.T9xx 0.55678 P-1N-P-3S-P-4H-P-4N-P-6H-P-P-P (12.0)  P-1N-P-3S-P-3N-P-4N-P-6H-P-P-P (12.0) ',\n",
       " 'AQ8.KQ9x.JT.KJxx KTxxx.JTx.Axx.Ax .Axxx.KQ9xxx.Qxx J9xxx.8x.8x.T98x 0.51450 P-1N-P-3S-P-4H-P-P-P (11.0)  P-1N-P-3S-P-3N-P-P-P (9.4) ',\n",
       " 'AQ8.KQ9x.JT.KJxx xxxx.Jxxx.8xx.Q9 x.AT8x.AKQ9x.A8x KJT9x.x.xxx.Txxx 0.45003 P-1N-P-3S-P-4H-P-4N-P-6H-P-P-P (12.6)  P-1N-P-3S-P-3N-P-4C-P-4N-P-5C-P-5H-P-6N-P-P-P (12.5) ',\n",
       " 'AQ8.KQ9x.JT.KJxx KJ9xxx.A.9xx.Q8x x.Jxxx.AKQ8xx.AT Txx.T8xx.xx.9xxx 0.39781 P-1N-P-3S-P-4H-P-4N-P-6H-P-P-P (12.0)  P-1N-P-3S-P-3N-P-4C-P-4N-P-6D-P-P-P (11.5) ',\n",
       " 'AQ8.KQ9x.JT.KJxx JTxxx.A8.Kxxx.xx K.JTxx.AQxxx.Qxx 9xxx.xxx.98.AT98 0.36769 P-1N-P-3S-P-4H-P-P-P (10.7)  P-1N-P-3S-P-3N-P-P-P (9.9) ',\n",
       " 'AQ8.KQ9x.JT.KJxx Jxxx.J8.Kxxx.ATx K.Axxx.Axx.Q8xxx T9xxx.Txx.Q98x.9 0.36491 P-1N-P-3S-P-4H-P-P-P (11.2)  P-1N-P-3S-P-3N-P-P-P (10.6) ',\n",
       " 'AQ8.KQ9x.JT.KJxx Txxxx.T8x.Axx.8x K.AJxx.98xx.A9xx J9xx.xx.KQxx.QTx 0.25039 P-1N-P-3S-P-4H-P-P-P (11.2)  P-1N-P-3S-P-3N-P-P-P (10.5) ']"
      ]
     },
     "execution_count": 5,
     "metadata": {},
     "output_type": "execute_result"
    }
   ],
   "source": [
    "bid.samples"
   ]
  },
  {
   "cell_type": "markdown",
   "id": "7d0dd8f5",
   "metadata": {},
   "source": [
    "each row is one sample. the hands are in the order: N E S W\n",
    "\n",
    "(West always has the same cards because it's your hand and it's known to you)"
   ]
  },
  {
   "cell_type": "code",
   "execution_count": 6,
   "id": "7101e514",
   "metadata": {},
   "outputs": [
    {
     "name": "stdout",
     "output_type": "stream",
     "text": [
      "sample_cards_auction, nsteps= 3\n",
      "NS:  1.0 EW:  2.0 Auction:  ['PAD_START', 'PAD_START', 'PAD_START', 'PASS', '1N', 'PASS', '3S', 'PASS']\n",
      "n_samples 3172 matching bidding info\n",
      "AQ8.KQ9x.JT.KJxx KT9xxx.8xx.xx.9x .AJTx.Q8xx.A8xxx Jxxx.xx.AK9xx.QT\n",
      "AQ8.KQ9x.JT.KJxx K9xxxx.x.9xx.8xx x.Txxx.AQ8x.AT9x JTx.AJ8x.Kxxx.Qx\n",
      "AQ8.KQ9x.JT.KJxx K9xxx.xx.xxx.Q9x T.A8xx.Q8xx.AT8x Jxxx.JTx.AK9x.xx\n",
      "AQ8.KQ9x.JT.KJxx KTxxx.8xx.98xx.Q x.ATxx.AKxx.9xxx J9xx.Jx.Qxx.AT8x\n",
      "AQ8.KQ9x.JT.KJxx Txxxx.A8x.xxx.Ax x.Jxxx.AKQ98.xxx KJ9x.Tx.xxx.QT98\n",
      "AQ8.KQ9x.JT.KJxx KJxxxx.8x.xx.ATx 9.xxxx.AK8x.Q8xx Txx.AJT.Q9xxx.9x\n",
      "AQ8.KQ9x.JT.KJxx Txxxx.J8x.Axx.xx x.Txxx.Kxx.AQTxx KJ9x.Ax.Q98xx.98\n",
      "AQ8.KQ9x.JT.KJxx JTxxx.xxx.Kxx.Ax 9.AJTx.A8xxx.Txx Kxxx.8x.Q9x.Q98x\n",
      "AQ8.KQ9x.JT.KJxx KJTxx.8xx.Q.Q8xx 9.AJxx.98xxx.Axx xxxx.Tx.AKxxx.T9\n",
      "AQ8.KQ9x.JT.KJxx KTxxx.xxx.Qx.T98 9.JTxx.Axxxx.Axx Jxxx.A8.K98x.Qxx\n",
      "AQ8.KQ9x.JT.KJxx KTxx.JTx.8xx.8xx x.A8xx.9xx.AQT9x J9xxx.xx.AKQxx.x\n",
      "AQ8.KQ9x.JT.KJxx KJ9xxx.T.K8x.Txx x.AJ8x.A9xx.A8xx Txx.xxxx.Qxxx.Q9\n",
      "AQ8.KQ9x.JT.KJxx Kxxxx.x.98x.Axxx x.AJxx.AKxx.QT9x JT9x.T8xx.Qxxx.8\n",
      "AQ8.KQ9x.JT.KJxx KT9xx.Jx.Q9x.98x x.ATxx.AK8xxx.xx Jxxx.8xx.xx.AQTx\n",
      "AQ8.KQ9x.JT.KJxx JTxx.J8.Q8x.ATxx x.ATxx.AKxxxx.xx K9xxx.xxx.9x.Q98\n",
      "AQ8.KQ9x.JT.KJxx Kxxxx.Axx.K8x.8x 9.J8xx.Axxxx.AQx JTxx.Tx.Q9x.T9xx\n",
      "AQ8.KQ9x.JT.KJxx Jxxxx.JTx.xx.Axx x.A8xx.AKQ8xx.9x KT9x.xx.9xx.QT8x\n",
      "AQ8.KQ9x.JT.KJxx JT9xx.Jx.xxx.Axx x.A8xx.AK9xx.T98 Kxxx.Txx.Q8x.Qxx\n",
      "AQ8.KQ9x.JT.KJxx KTxx.8x.K9xx.Qxx J.ATxx.AQ8xx.A8x 9xxxx.Jxx.xx.T9x\n",
      "AQ8.KQ9x.JT.KJxx KTxx.Tx.Axxx.xxx J.A8xx.KQxx.AQ98 9xxxx.Jxx.98x.Tx\n",
      "AQ8.KQ9x.JT.KJxx KJTxxx.xx.Qxx.xx 9.AT8x.AK8x.AQ8x xxx.Jxx.9xxx.T9x\n",
      "AQ8.KQ9x.JT.KJxx JT9xxxx.T.8xx.Q8 x.A8xx.AK9xx.ATx Kx.Jxxx.Qxx.9xxx\n",
      "AQ8.KQ9x.JT.KJxx Txxx.8xx.Q9x.Qxx x.AJxx.A8xx.ATxx KJ9xx.Tx.Kxxx.98\n",
      "AQ8.KQ9x.JT.KJxx T9xx.Txx.xxx.Axx x.AJ8x.AQxx.Q98x KJxxx.xx.K98x.Tx\n",
      "AQ8.KQ9x.JT.KJxx J9xxx.Jx.KQ9xx.x K.xxxx.Axxx.AT8x Txxx.AT8.8x.Q9xx\n"
     ]
    }
   ],
   "source": [
    "# we got some samples above. if we want more, we can always get more\n",
    "\n",
    "sample_hands, sorted_score, p_hcp, p_shp = bot_bid.sample_hands([\"PAD_START\", \"PAD_START\", \"PAD_START\", \"PASS\", \"1N\", \"PASS\", \"3S\",\"PASS\"])\n",
    "\n",
    "for i in range(sample_hands.shape[0]):\n",
    "    print(f'{hand_to_str(sample_hands[i, 0, :])} {hand_to_str(sample_hands[i, 1, :])} {hand_to_str(sample_hands[i, 2, :])} {hand_to_str(sample_hands[i, 3, :])}')"
   ]
  }
 ],
 "metadata": {
  "kernelspec": {
   "display_name": "Python 3 (ipykernel)",
   "language": "python",
   "name": "python3"
  },
  "language_info": {
   "codemirror_mode": {
    "name": "ipython",
    "version": 3
   },
   "file_extension": ".py",
   "mimetype": "text/x-python",
   "name": "python",
   "nbconvert_exporter": "python",
   "pygments_lexer": "ipython3",
   "version": "3.11.0"
  }
 },
 "nbformat": 4,
 "nbformat_minor": 5
}
