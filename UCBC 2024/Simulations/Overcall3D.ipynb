{
 "cells": [
  {
   "cell_type": "markdown",
   "id": "75d07246",
   "metadata": {},
   "source": [
    "# Bidding\n",
    "\n",
    "This is a tutorial for how to use the bidding engine"
   ]
  },
  {
   "cell_type": "code",
   "execution_count": 1,
   "id": "59a5664c",
   "metadata": {},
   "outputs": [
    {
     "name": "stdout",
     "output_type": "stream",
     "text": [
      "WARNING:tensorflow:From c:\\Python311\\Lib\\site-packages\\tensorflow\\python\\compat\\v2_compat.py:107: disable_resource_variables (from tensorflow.python.ops.variable_scope) is deprecated and will be removed in a future version.\n",
      "Instructions for updating:\n",
      "non-resource variables are not supported in the long term\n",
      "INFO:tensorflow:Restoring parameters from ..\\Models/NS1EW99-bidding-1335000\n",
      "INFO:tensorflow:Restoring parameters from ..\\Models/NS1EW99-binfo-6131000\n",
      "INFO:tensorflow:Restoring parameters from ..\\Models/lead_suit-154000\n",
      "INFO:tensorflow:Restoring parameters from ..\\Models/lead_nt-59000\n",
      "INFO:tensorflow:Restoring parameters from ..\\Models/lr3-1000000\n",
      "INFO:tensorflow:Restoring parameters from ..\\Models/single_dummy-32768000\n",
      "INFO:tensorflow:Restoring parameters from ..\\Models/lefty-1000000\n",
      "INFO:tensorflow:Restoring parameters from ..\\Models/dummy-920000\n",
      "INFO:tensorflow:Restoring parameters from ..\\Models/righty-1000000\n",
      "INFO:tensorflow:Restoring parameters from ..\\Models/decl-1000000\n"
     ]
    }
   ],
   "source": [
    "import sys\n",
    "sys.path.append('../../src')\n",
    "\n",
    "from nn.models import Models\n",
    "from bots import BotBid\n",
    "from util import hand_to_str\n",
    "from sample import Sample\n",
    "import conf\n",
    "import numpy as np\n",
    "\n",
    "np.set_printoptions(precision=2, suppress=True, linewidth=200)\n",
    "np.random.seed(42)\n",
    "\n",
    "models = Models.from_conf(conf.load('../Conf/UCBC2024.conf'),'..')   # loading neural networks\n",
    "sampler = Sample.from_conf(conf.load('../Conf/UCBC2024.conf'), False)  # Load sampling strategies\n"
   ]
  },
  {
   "cell_type": "markdown",
   "id": "10d8f2fc",
   "metadata": {},
   "source": [
    "### Running through an example"
   ]
  },
  {
   "cell_type": "code",
   "execution_count": 2,
   "id": "19dbfeb7",
   "metadata": {},
   "outputs": [
    {
     "name": "stdout",
     "output_type": "stream",
     "text": [
      "[{'call': 'PASS', 'insta_score': 0.058, 'expected_score': 46, 'adjustment': 3}, {'call': '3D', 'insta_score': 0.8, 'expected_score': -70, 'adjustment': 40}, {'call': 'X', 'insta_score': 0.051, 'expected_score': -38, 'adjustment': 3}, {'call': '4D', 'insta_score': 0.06, 'expected_score': -44, 'adjustment': 3}]\n"
     ]
    }
   ],
   "source": [
    "# East deals, EW vulnerable.\n",
    "vuln_ns, vuln_ew = False, False\n",
    "\n",
    "# you sit West and hold:\n",
    "hand = '5.AK93.AKJT72.T4'\n",
    "\n",
    "# the auction goes:\n",
    "auction = [\"PAD_START\",\"PASS\", \"PASS\", \"2D\"]\n",
    "bot_bid = BotBid([vuln_ns, vuln_ew], hand, models, sampler, 0, False)\n",
    "\n",
    "bid = bot_bid.bid(auction)\n",
    "print(bid.to_dict()['candidates'])\n",
    "\n",
    "# what's your bid?"
   ]
  },
  {
   "cell_type": "code",
   "execution_count": 3,
   "id": "55b647a5",
   "metadata": {},
   "outputs": [
    {
     "data": {
      "text/plain": [
       "['x.AK9x.AKJTxx.Tx A8xxx.QJ8x..Q98x QJTxx.xxx.x.Axxx K9.Tx.Q98xxx.KJx 0.97584 \\n P-P-2D-3D-P-3S-P-4D-P-4S-P-P-P (6.5)  \\n P-P-2D-4D-P-4S-P-P-P (6.5)  \\n P-P-2D-P-P-P (5.1)  \\n P-P-2D-X-P-2S-P-3D-P-4S-P-P-P (6.5) ',\n",
       " 'x.AK9x.AKJTxx.Tx AQT8x.Qxxx..9xxx Jxxx.JT8x.8.AQ8x K9x.x.Q9xxxx.KJx 0.96829 \\n P-P-2D-3D-P-3S-P-4D-P-4S-P-P-P (4.5)  \\n P-P-2D-4D-P-4H-P-P-P (9.0)  \\n P-P-2D-P-P-P (4.9)  \\n P-P-2D-X-P-2H-P-3H-P-4H-P-P-P (9.0) ',\n",
       " 'x.AK9x.AKJTxx.Tx KQ9x.xx.x.Q8xxxx AT8xxx.QJT8x..Jx Jx.xx.Q98xxx.AK9 0.96529 \\n P-P-2D-3D-P-3S-P-4D-P-4S-P-P-P (8.7)  \\n P-P-2D-4D-P-4S-P-P-P (8.7)  \\n P-P-2D-P-P-2S-P-3D-P-3S-P-4D-P-4S-P-P-P (8.7)  \\n P-P-2D-X-P-4S-P-P-P (8.7) ',\n",
       " 'x.AK9x.AKJTxx.Tx Txxx.Q8xx..AK8xx KJ9xx.Jxxx.x.Q9x AQ8.T.Q98xxx.Jxx 0.96332 \\n P-P-2D-3D-P-3S-P-4D-P-4S-P-P-P (5.7)  \\n P-P-2D-4D-P-4S-P-P-P (5.7)  \\n P-P-2D-P-P-P (5.9)  \\n P-P-2D-X-P-2S-P-3D-P-3S-P-4D-P-4S-P-P-P (5.7) ',\n",
       " 'x.AK9x.AKJTxx.Tx AQxx.QTxxx.x.9xx JT98x.Jxx..KQJ8x Kxx.8.Q98xxx.Axx 0.95980 \\n P-P-2D-3D-P-3S-P-4D-P-4S-P-P-P (7.5)  \\n P-P-2D-4D-P-4S-P-P-P (7.5)  \\n P-P-2D-P-P-P (5.4)  \\n P-P-2D-X-P-2S-P-3D-P-3S-P-4D-P-4S-P-P-P (7.5) ',\n",
       " 'x.AK9x.AKJTxx.Tx J98xx.Txxx..KQ8x KTxx.Q8xx.x.Axxx AQx.J.Q98xxx.J9x 0.95915 \\n P-P-2D-3D-P-3H-P-4H-P-P-P (9.0)  \\n P-P-2D-4D-P-4H-P-P-P (9.0)  \\n P-P-2D-P-P-X-P-3D-P-3H-P-3S-P-P-P (5.8)  \\n P-P-2D-X-P-3D-P-P-P (8.1) ',\n",
       " 'x.AK9x.AKJTxx.Tx QJ8x.QTxx.x.QJ8x 9xxxx.J8xx..AKxx AKT.x.Q98xxx.9xx 0.95785 \\n P-P-2D-3D-P-3S-P-4D-P-4S-P-P-P (7.5)  \\n P-P-2D-4D-P-4S-P-P-P (7.5)  \\n P-P-2D-P-P-P (4.7)  \\n P-P-2D-X-P-4S-P-P-P (7.5) ',\n",
       " 'x.AK9x.AKJTxx.Tx AT98x.Jxx.x.KJxx Jxxx.T8xxx..AQ8x KQx.Q.Q98xxx.9xx 0.95607 \\n P-P-2D-3D-P-3H-P-4H-P-P-P (11.1)  \\n P-P-2D-4D-P-4H-P-P-P (11.1)  \\n P-P-2D-P-P-P (4.5)  \\n P-P-2D-X-P-2H-P-3H-P-4H-P-P-P (11.1) ',\n",
       " 'x.AK9x.AKJTxx.Tx KQJTx.JTxxx..J8x A8xxx.8x.9.KQ9xx 9x.Qx.Q8xxxx.Axx 0.95590 \\n P-P-2D-3D-P-3S-P-4D-P-4S-P-P-P (7.1)  \\n P-P-2D-4D-P-4S-P-P-P (7.1)  \\n P-P-2D-P-P-2S-P-3D-P-3S-P-4D-P-4S-P-P-P (7.1)  \\n P-P-2D-X-P-4S-P-P-P (7.1) ',\n",
       " 'x.AK9x.AKJTxx.Tx JTxx.8xx..AK9xxx KQxxx.QJTx.9.J8x A98.xx.Q8xxxx.Qx 0.95177 \\n P-P-2D-3D-P-3S-P-4D-P-4S-P-P-P (6.7)  \\n P-P-2D-4D-P-4S-P-P-P (6.7)  \\n P-P-2D-P-P-X-P-3D-P-3S-P-3N-P-4C-P-4H-P-4S-P-4N-P-5C-P-6D-P-P-P (7.9)  \\n P-P-2D-X-P-3D-P-P-P (7.9) ']"
      ]
     },
     "execution_count": 3,
     "metadata": {},
     "output_type": "execute_result"
    }
   ],
   "source": [
    "bid.samples"
   ]
  },
  {
   "cell_type": "markdown",
   "id": "7d0dd8f5",
   "metadata": {},
   "source": [
    "each row is one sample. the hands are in the order: N E S W\n",
    "\n",
    "(West always has the same cards because it's your hand and it's known to you)"
   ]
  },
  {
   "cell_type": "code",
   "execution_count": 4,
   "id": "7101e514",
   "metadata": {},
   "outputs": [
    {
     "name": "stdout",
     "output_type": "stream",
     "text": [
      "x.AK9x.AKJTxx.Tx QT9.JTxx.xx.Q98x AKJ.8.9xx.AKJxxx 8xxxxx.Qxxx.Q8.x\n",
      "x.AK9x.AKJTxx.Tx J8xx.JT8xx.9x.Kx AKx.Q.Qxx.AJ8xxx QT9xx.xxx.8x.Q9x\n",
      "x.AK9x.AKJTxx.Tx QJT8xx.Jxx.8x.xx Axx.Q.xx.AKQJ98x K9x.T8xxx.Q9x.xx\n",
      "x.AK9x.AKJTxx.Tx T98xx.Qxx.8x.98x Axx.x.Qxxx.AKQJx KQJx.JT8xx.9.xxx\n",
      "x.AK9x.AKJTxx.Tx Jxxxxx.QJxx.x.8x AQ8.x.8xxx.AKQJx KT9.T8xx.Q9.9xxx\n",
      "x.AK9x.AKJTxx.Tx Q9xxx.QTxx.8x.9x AJx..9xxx.AKQ8xx KT8x.J8xxx.Q.Jxx\n",
      "x.AK9x.AKJTxx.Tx J9xx.J8xx.Q8x.Qx AK8.Q.9xxx.AKJxx QTxxx.Txxx..98xx\n",
      "x.AK9x.AKJTxx.Tx JTxxx.J8x.xx.xxx AKx.xx.Q9xx.AQJ9 Q98x.QTxx.8.K8xx\n",
      "x.AK9x.AKJTxx.Tx JTxx.Q8xx.xx.xxx AQx.x.98x.AKQ8xx K98xx.JTxx.Qx.J9\n",
      "x.AK9x.AKJTxx.Tx QT8xx.J8x.9.QJxx AKx.Tx.Qxxx.AKxx J9xx.Qxxx.8x.98x\n"
     ]
    }
   ],
   "source": [
    "# we got some samples above. if we want more, we can always get more\n",
    "\n",
    "sample_hands, sorted_score, p_hcp, p_shp = bot_bid.sample_hands_auction([\"PAD_START\", \"PAD_START\", \"PAD_START\", \"PASS\", \"1N\", \"PASS\", \"3S\",\"PASS\"])\n",
    "\n",
    "for i in range(sample_hands.shape[0]):\n",
    "    print(f'{hand_to_str(sample_hands[i, 0, :])} {hand_to_str(sample_hands[i, 1, :])} {hand_to_str(sample_hands[i, 2, :])} {hand_to_str(sample_hands[i, 3, :])}')"
   ]
  }
 ],
 "metadata": {
  "kernelspec": {
   "display_name": "Python 3 (ipykernel)",
   "language": "python",
   "name": "python3"
  },
  "language_info": {
   "codemirror_mode": {
    "name": "ipython",
    "version": 3
   },
   "file_extension": ".py",
   "mimetype": "text/x-python",
   "name": "python",
   "nbconvert_exporter": "python",
   "pygments_lexer": "ipython3",
   "version": "3.11.0"
  }
 },
 "nbformat": 4,
 "nbformat_minor": 5
}
