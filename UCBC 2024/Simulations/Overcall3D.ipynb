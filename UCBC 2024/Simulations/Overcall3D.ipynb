{
 "cells": [
  {
   "cell_type": "markdown",
   "id": "75d07246",
   "metadata": {},
   "source": [
    "# Bidding\n",
    "\n",
    "This is a tutorial for how to use the bidding engine"
   ]
  },
  {
   "cell_type": "code",
   "execution_count": 1,
   "id": "59a5664c",
   "metadata": {},
   "outputs": [
    {
     "name": "stdout",
     "output_type": "stream",
     "text": [
      "WARNING:tensorflow:From c:\\Python311\\Lib\\site-packages\\tensorflow\\python\\compat\\v2_compat.py:107: disable_resource_variables (from tensorflow.python.ops.variable_scope) is deprecated and will be removed in a future version.\n",
      "Instructions for updating:\n",
      "non-resource variables are not supported in the long term\n",
      "INFO:tensorflow:Restoring parameters from ..\\Models/NS1EW99-bidding_same-278000\n",
      "INFO:tensorflow:Restoring parameters from ..\\Models/NS1EW99-binfo_same-278000\n",
      "INFO:tensorflow:Restoring parameters from ..\\Models/lead_suit-154000\n",
      "INFO:tensorflow:Restoring parameters from ..\\Models/lead_nt-59000\n",
      "INFO:tensorflow:Restoring parameters from ..\\Models/lr3-1000000\n",
      "INFO:tensorflow:Restoring parameters from ..\\Models/single_dummy-32768000\n",
      "INFO:tensorflow:Restoring parameters from ..\\Models/lefty-1000000\n",
      "INFO:tensorflow:Restoring parameters from ..\\Models/dummy-920000\n",
      "INFO:tensorflow:Restoring parameters from ..\\Models/righty-1000000\n",
      "INFO:tensorflow:Restoring parameters from ..\\Models/decl-1000000\n"
     ]
    }
   ],
   "source": [
    "import sys\n",
    "sys.path.append('../../src')\n",
    "\n",
    "from nn.models import Models\n",
    "from bots import BotBid\n",
    "from util import hand_to_str\n",
    "from sample import Sample\n",
    "import conf\n",
    "import numpy as np\n",
    "\n",
    "np.set_printoptions(precision=2, suppress=True, linewidth=200)\n",
    "np.random.seed(42)\n",
    "\n",
    "models = Models.from_conf(conf.load('../Conf/UCBC2024.conf'),'..')   # loading neural networks\n",
    "sampler = Sample.from_conf(conf.load('../Conf/UCBC2024.conf'), False)  # Load sampling strategies\n"
   ]
  },
  {
   "cell_type": "markdown",
   "id": "10d8f2fc",
   "metadata": {},
   "source": [
    "### Running through an example"
   ]
  },
  {
   "cell_type": "code",
   "execution_count": 2,
   "id": "19dbfeb7",
   "metadata": {},
   "outputs": [
    {
     "name": "stdout",
     "output_type": "stream",
     "text": [
      "[{'call': 'X', 'insta_score': 0.285, 'expected_score': 8, 'adjustment': 14}, {'call': '3D', 'insta_score': 0.566, 'expected_score': -86, 'adjustment': 28}]\n"
     ]
    }
   ],
   "source": [
    "# East deals, EW vulnerable.\n",
    "vuln_ns, vuln_ew = False, False\n",
    "\n",
    "# you sit West and hold:\n",
    "hand = '5.AK93.AKJT72.T4'\n",
    "\n",
    "# the auction goes:\n",
    "auction = [\"PAD_START\",\"PASS\", \"PASS\", \"2D\"]\n",
    "bot_bid = BotBid([vuln_ns, vuln_ew], hand, models, sampler, 0, 1, False)\n",
    "\n",
    "bid = bot_bid.bid(auction)\n",
    "print(bid.to_dict()['candidates'])\n",
    "\n",
    "# what's your bid?"
   ]
  },
  {
   "cell_type": "code",
   "execution_count": 3,
   "id": "55b647a5",
   "metadata": {},
   "outputs": [
    {
     "data": {
      "text/plain": [
       "['x.AK9x.AKJTxx.Tx QJ8x.QTxx.x.QJ8x 9xxxx.J8xx..AKxx AKT.x.Q98xxx.9xx 0.97998 \\n P-P-2D-3D-P-3S-P-4D-P-4S-P-P-P (7.5)  \\n P-P-2D-X-P-2S-P-P-P (7.5) ',\n",
       " 'x.AK9x.AKJTxx.Tx Q8xx.Qxxx.x.AJxx KJ9xx.Txx..K9xxx ATx.J8.Q98xxx.Q8 0.97852 \\n P-P-2D-3D-P-3S-P-4D-P-4S-P-P-P (8.0)  \\n P-P-2D-X-P-2S-P-P-P (8.0) ',\n",
       " 'x.AK9x.AKJTxx.Tx AQxxx.JTxxx.x.Jx JT98x.Qx..KQ98xx Kx.8x.Q98xxx.Axx 0.97824 \\n P-P-2D-3D-P-3S-P-4D-P-4S-P-P-P (7.9)  \\n P-P-2D-X-P-2S-P-P-P (7.9) ',\n",
       " 'x.AK9x.AKJTxx.Tx QJxxx.JT.9.QJxxx AT8xx.Q8xxx..Kxx K9.xx.Q8xxxx.A98 0.97550 \\n P-P-2D-3D-P-3S-P-4D-P-4S-P-P-P (7.9)  \\n P-P-2D-X-P-2H-P-3H-P-4H-P-P-P (11.1) ',\n",
       " 'x.AK9x.AKJTxx.Tx JTxx.8xx..AK9xxx KQxxx.QJTx.9.J8x A98.xx.Q8xxxx.Qx 0.97424 \\n P-P-2D-3D-P-3S-P-4D-P-4S-P-P-P (6.7)  \\n P-P-2D-X-P-3D-P-P-P (7.9) ',\n",
       " 'x.AK9x.AKJTxx.Tx QJTxx.xxx..KQJ9x Kxxx.JTxx.9.Axxx A98.Q8.Q8xxxx.8x 0.97357 \\n P-P-2D-3D-P-3S-P-4D-P-P-P (8.3)  \\n P-P-2D-X-P-3D-P-P-P (8.9) ',\n",
       " 'x.AK9x.AKJTxx.Tx KTxxx.T8xx..KQJx AJ98x.Qxx.x.98xx Qx.Jx.Q98xxx.Axx 0.97297 \\n P-P-2D-3D-P-3S-P-4D-P-4S-P-P-P (6.0)  \\n P-P-2D-X-P-2S-P-P-P (6.0) ',\n",
       " 'x.AK9x.AKJTxx.Tx KQJTx.JTxxx..J8x A8xxx.8x.9.KQ9xx 9x.Qx.Q8xxxx.Axx 0.96978 \\n P-P-2D-3D-P-3S-P-4D-P-4S-P-P-P (7.1)  \\n P-P-2D-X-P-2S-P-P-P (7.1) ',\n",
       " 'x.AK9x.AKJTxx.Tx JTxxx.Q8.8.AJ9xx AQ9xx.JTxx..Q8xx K8.xxx.Q9xxxx.Kx 0.96580 \\n P-P-2D-3D-P-3S-P-4D-P-4S-P-P-P (7.9)  \\n P-P-2D-X-P-3D-P-P-P (8.2) ',\n",
       " 'x.AK9x.AKJTxx.Tx T98x.QJTxx.x.AQx AKxxx.8xx..J9xxx QJx.x.Q98xxx.K8x 0.96447 \\n P-P-2D-3D-P-3S-P-4D-P-4S-P-P-P (7.5)  \\n P-P-2D-X-P-2S-P-P-P (7.5) ',\n",
       " 'x.AK9x.AKJTxx.Tx AJ8xx.T8xx..K98x KQTx.Qxx.x.QJxxx 9xx.Jx.Q98xxx.Ax 0.95330 \\n P-P-2D-3D-P-3S-P-4D-P-4H-P-5D-P-5H-P-6D-P-6S-P-P-X-P-P-P (6.2)  \\n P-P-2D-X-P-3C-P-3D-P-3S-P-4D-P-4S-P-P-P (6.2) ',\n",
       " 'x.AK9x.AKJTxx.Tx K8xx.JTxx..AJ8xx AJT9x.Q8xx.x.Q9x Qxx.x.Q98xxx.Kxx 0.95181 \\n P-P-2D-3D-P-3S-P-4D-P-4S-P-P-P (6.9)  \\n P-P-2D-X-P-3D-P-P-P (8.6) ',\n",
       " 'x.AK9x.AKJTxx.Tx KQ8xx.QT.x.Q98xx T9xx.Jxxxxx..AKx AJx.8.Q98xxx.Jxx 0.95177 \\n P-P-2D-3D-P-3H-P-4H-P-P-P (11.4)  \\n P-P-2D-X-P-3D-P-P-P (8.7) ',\n",
       " 'x.AK9x.AKJTxx.Tx QJ8xx.QTxx..KJxx A9xxx.8x.x.A8xxx KT.Jxx.Q98xxx.Q9 0.95128 \\n P-P-2D-3D-P-3S-P-4D-P-4S-P-P-P (6.8)  \\n P-P-2D-X-P-2S-P-P-P (6.8) ',\n",
       " 'x.AK9x.AKJTxx.Tx K98x.Txx..K9xxxx AJxxx.J8xx.x.QJx QTx.Qx.Q98xxx.A8 0.94918 \\n P-P-2D-3D-P-3S-P-4D-P-4S-P-P-P (6.9)  \\n P-P-2D-X-P-2S-P-P-P (6.9) ',\n",
       " 'x.AK9x.AKJTxx.Tx KJ8xx.Txx.9.A8xx QT9xx.Jxx..KJ9xx Ax.Q8x.Q8xxxx.Qx 0.94659 \\n P-P-2D-3D-P-3S-P-4D-P-4S-P-P-P (7.6)  \\n P-P-2D-X-P-2S-P-P-P (7.6) ',\n",
       " 'x.AK9x.AKJTxx.Tx AJTxx.Jxx..K98xx Q9xxx.Txxx.Q.QJx K8.Q8.98xxxx.Axx 0.92953 \\n P-P-2D-3D-P-3S-P-4D-P-P-P (7.7)  \\n P-P-2D-X-P-2S-P-P-P (5.7) ',\n",
       " 'x.AK9x.AKJTxx.Tx JT9xx.xx.x.AQ9xx AQ8x.QJT8x..J8xx Kxx.xx.Q98xxx.Kx 0.91481 \\n P-P-2D-3D-P-3H-P-4H-P-P-P (10.9)  \\n P-P-2D-X-P-3D-P-P-P (7.9) ',\n",
       " 'x.AK9x.AKJTxx.Tx QT9x.Txx.x.AK9xx A8xxx.QJ8x..QJ8x KJx.xx.Q98xxx.xx 0.91130 \\n P-P-2D-3D-P-3S-P-4D-P-4S-P-P-P (7.9)  \\n P-P-2D-X-P-3D-P-P-P (8.7) ',\n",
       " 'x.AK9x.AKJTxx.Tx KJ98xx.Txxx..KQx xxx.J8xx.8.AJ98x AQT.Q.Q9xxxx.xxx 0.89810 \\n P-P-2D-3D-P-3H-P-4H-P-P-P (9.2)  \\n P-P-2D-X-P-3C-P-3D-P-3N-P-P-P (6.9) ']"
      ]
     },
     "execution_count": 3,
     "metadata": {},
     "output_type": "execute_result"
    }
   ],
   "source": [
    "bid.samples"
   ]
  },
  {
   "cell_type": "markdown",
   "id": "7d0dd8f5",
   "metadata": {},
   "source": [
    "each row is one sample. the hands are in the order: N E S W\n",
    "\n",
    "(West always has the same cards because it's your hand and it's known to you)"
   ]
  },
  {
   "cell_type": "code",
   "execution_count": 5,
   "id": "7101e514",
   "metadata": {},
   "outputs": [
    {
     "name": "stdout",
     "output_type": "stream",
     "text": [
      "x.AK9x.AKJTxx.Tx AQ9xx.Qx.x.J8xxx K.Txxx.Q9xx.AKQx JT8xxx.J8x.8x.9x\n",
      "x.AK9x.AKJTxx.Tx JT9xx.T8xx.x.98x AK8.Qxx.Qxx.AKJx Qxxx.Jx.98x.Qxxx\n",
      "x.AK9x.AKJTxx.Tx JTxx.T8xx.8.Q8xx AKx.QJx.Qxx.AKJx Q98xx.xx.9xx.9xx\n",
      "x.AK9x.AKJTxx.Tx 9xx.QJT8.98x.8xx QTxx..xxx.AKQJ9x AKJ8x.xxxxx.Q.xx\n",
      "x.AK9x.AKJTxx.Tx A8x.QJxxxx.Q8x.x QJTx..xx.AKQJxxx K9xxx.T8x.9x.98x\n",
      "x.AK9x.AKJTxx.Tx KJTx.8xx.8x.9xxx AQx.Jxx.Qxx.AKQ8 98xxx.QTx.9x.Jxx\n",
      "x.AK9x.AKJTxx.Tx Q8xx.8x.Q9x.Q8xx AKT.QJx.xxx.AKJx J9xxx.Txxx.8.9xx\n",
      "x.AK9x.AKJTxx.Tx Qxx.QT8xx.9x.Qxx K9xx..Q8xx.AKJxx AJT8x.Jxxx.x.98x\n",
      "x.AK9x.AKJTxx.Tx 98xx.QJxxx.xxx.x KJTx.T.8.AKQ9xxx AQxx.8xx.Q9x.J8x\n",
      "x.AK9x.AKJTxx.Tx KQxx.QJ8x.Q8x.Q8 AT9x.x.xx.AKJ9xx J8xx.Txxx.9x.xxx\n"
     ]
    }
   ],
   "source": [
    "# we got some samples above. if we want more, we can always get more\n",
    "\n",
    "sample_hands, sorted_score, p_hcp, p_shp, good_quality = bot_bid.sample_hands_for_auction([\"PAD_START\", \"PAD_START\", \"PAD_START\", \"PASS\", \"1N\", \"PASS\", \"3S\",\"PASS\"],0)\n",
    "print(\"Good quality:\", good_quality)\n",
    "for i in range(sample_hands.shape[0]):\n",
    "    print(f'{hand_to_str(sample_hands[i, 0, :])} {hand_to_str(sample_hands[i, 1, :])} {hand_to_str(sample_hands[i, 2, :])} {hand_to_str(sample_hands[i, 3, :])}')"
   ]
  }
 ],
 "metadata": {
  "kernelspec": {
   "display_name": "Python 3 (ipykernel)",
   "language": "python",
   "name": "python3"
  },
  "language_info": {
   "codemirror_mode": {
    "name": "ipython",
    "version": 3
   },
   "file_extension": ".py",
   "mimetype": "text/x-python",
   "name": "python",
   "nbconvert_exporter": "python",
   "pygments_lexer": "ipython3",
   "version": "3.11.0"
  }
 },
 "nbformat": 4,
 "nbformat_minor": 5
}
