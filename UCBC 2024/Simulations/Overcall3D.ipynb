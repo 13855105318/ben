{
 "cells": [
  {
   "cell_type": "markdown",
   "id": "75d07246",
   "metadata": {},
   "source": [
    "# Bidding\n",
    "\n",
    "This is a tutorial for how to use the bidding engine"
   ]
  },
  {
   "cell_type": "code",
   "execution_count": 1,
   "id": "59a5664c",
   "metadata": {},
   "outputs": [
    {
     "name": "stdout",
     "output_type": "stream",
     "text": [
      "WARNING:tensorflow:From c:\\Python311\\Lib\\site-packages\\tensorflow\\python\\compat\\v2_compat.py:107: disable_resource_variables (from tensorflow.python.ops.variable_scope) is deprecated and will be removed in a future version.\n",
      "Instructions for updating:\n",
      "non-resource variables are not supported in the long term\n",
      "INFO:tensorflow:Restoring parameters from ..\\Models/NS1EW99-bidding-10724000\n",
      "INFO:tensorflow:Restoring parameters from ..\\Models/NS1EW99-binfo-6131000\n",
      "INFO:tensorflow:Restoring parameters from ..\\Models/lead_suit-154000\n",
      "INFO:tensorflow:Restoring parameters from ..\\Models/lead_nt-59000\n",
      "INFO:tensorflow:Restoring parameters from ..\\Models/lr3-1000000\n",
      "INFO:tensorflow:Restoring parameters from ..\\Models/single_dummy-32768000\n",
      "INFO:tensorflow:Restoring parameters from ..\\Models/lefty-1000000\n",
      "INFO:tensorflow:Restoring parameters from ..\\Models/dummy-920000\n",
      "INFO:tensorflow:Restoring parameters from ..\\Models/righty-1000000\n",
      "INFO:tensorflow:Restoring parameters from ..\\Models/decl-1000000\n"
     ]
    }
   ],
   "source": [
    "import sys\n",
    "sys.path.append('../../src')\n",
    "\n",
    "from nn.models import Models\n",
    "from bots import BotBid\n",
    "from util import hand_to_str\n",
    "from sample import Sample\n",
    "import conf\n",
    "import numpy as np\n",
    "\n",
    "np.set_printoptions(precision=2, suppress=True, linewidth=200)\n",
    "np.random.seed(42)\n",
    "\n",
    "models = Models.from_conf(conf.load('../Conf/UCBC2024.conf'),'..')   # loading neural networks\n",
    "sampler = Sample.from_conf(conf.load('../Conf/UCBC2024.conf'), False)  # Load sampling strategies\n"
   ]
  },
  {
   "cell_type": "markdown",
   "id": "10d8f2fc",
   "metadata": {},
   "source": [
    "### Running through an example"
   ]
  },
  {
   "cell_type": "code",
   "execution_count": 2,
   "id": "19dbfeb7",
   "metadata": {},
   "outputs": [
    {
     "name": "stdout",
     "output_type": "stream",
     "text": [
      "[{'call': '3D', 'insta_score': 0.905, 'expected_score': -38, 'adjustment': 45}, {'call': 'X', 'insta_score': 0.053, 'expected_score': -24, 'adjustment': 3}]\n"
     ]
    }
   ],
   "source": [
    "# East deals, EW vulnerable.\n",
    "vuln_ns, vuln_ew = False, False\n",
    "\n",
    "# you sit West and hold:\n",
    "hand = '5.AK93.AKJT72.T4'\n",
    "\n",
    "# the auction goes:\n",
    "auction = [\"PAD_START\",\"PASS\", \"PASS\", \"2D\"]\n",
    "bot_bid = BotBid([vuln_ns, vuln_ew], hand, models, sampler, 0, False)\n",
    "\n",
    "bid = bot_bid.bid(auction)\n",
    "print(bid.to_dict()['candidates'])\n",
    "\n",
    "# what's your bid?"
   ]
  },
  {
   "cell_type": "code",
   "execution_count": 3,
   "id": "55b647a5",
   "metadata": {},
   "outputs": [
    {
     "data": {
      "text/plain": [
       "['x.AK9x.AKJTxx.Tx AQTx.Jxxx.x.98xx J9xxx.QT8x..KQxx K8x.x.Q98xxx.AJx 0.95925 \\n P-P-2D-3D-P-4S-P-P-P (7.1)  \\n P-P-2D-X-P-2S-P-3D-P-3H-P-P-P (9.8) ',\n",
       " 'x.AK9x.AKJTxx.Tx QJxxx.JT.9.Q8xxx AT8xx.Q8xxx..Kxx K9.xx.Q8xxxx.AJ9 0.95912 \\n P-P-2D-3D-P-4S-P-P-P (7.9)  \\n P-P-2D-X-P-4S-P-P-P (7.9) ',\n",
       " 'x.AK9x.AKJTxx.Tx Qxxx.Qxxx..KJ8xx AJT8x.8xx.x.Qxxx K9x.JT.Q98xxx.A9 0.95401 \\n P-P-2D-3D-P-3S-P-3N-P-P-P (7.6)  \\n P-P-2D-X-P-2S-P-3D-P-4S-P-P-P (6.5) ',\n",
       " 'x.AK9x.AKJTxx.Tx AQxx.QTxxx.x.9xx JT98x.Jxx..KQJ8x Kxx.8.Q98xxx.Axx 0.94990 \\n P-P-2D-3D-P-4S-P-P-P (7.5)  \\n P-P-2D-X-P-2S-P-3D-P-4S-P-P-P (7.5) ',\n",
       " 'x.AK9x.AKJTxx.Tx AQJx.JT8x.x.98xx K8xxx.Qxxx..Qxxx T9x.x.Q98xxx.AKJ 0.94889 \\n P-P-2D-3D-P-3S-P-3N-P-P-P (7.2)  \\n P-P-2D-X-P-2S-P-3D-P-3H-P-P-P (8.7) ',\n",
       " 'x.AK9x.AKJTxx.Tx J98xxx.QTxx..Axx QTxx.J8x.9.KQ8xx AK.xx.Q8xxxx.J9x 0.94756 \\n P-P-2D-3D-P-3S-P-3N-P-P-P (7.1)  \\n P-P-2D-X-P-2S-P-3D-P-4S-P-P-P (5.8) ',\n",
       " 'x.AK9x.AKJTxx.Tx QT9x.J8xx.x.K9xx KJ8xxx.Qxxx..QJ8 Ax.T.Q98xxx.Axxx 0.94267 \\n P-P-2D-3D-P-4S-P-P-P (8.2)  \\n P-P-2D-X-P-4S-P-P-P (8.2) ',\n",
       " 'x.AK9x.AKJTxx.Tx KQJTx.J8xx..QJ9x 9xxxx.Qxx.9.Kxxx A8.Tx.Q8xxxx.A8x 0.93927 \\n P-P-2D-3D-P-3S-P-3N-P-P-P (5.7)  \\n P-P-2D-X-P-2S-P-3D-P-4S-P-P-P (5.5) ',\n",
       " 'x.AK9x.AKJTxx.Tx AQT9xx.T8xx..QJx Jxxx.QJx.x.K98xx K8.xx.Q98xxx.Axx 0.93547 \\n P-P-2D-3D-P-3S-P-3N-P-4C-P-4S-P-P-P (4.7)  \\n P-P-2D-X-P-2S-P-3D-P-4S-P-P-P (4.7) ',\n",
       " 'x.AK9x.AKJTxx.Tx Kxxx.Q8xx.x.8xxx AT98x.Jxxx..KQxx QJx.T.Q98xxx.AJ9 0.93326 \\n P-P-2D-3D-P-4S-P-P-P (8.2)  \\n P-P-2D-X-P-4S-P-P-P (8.2) ']"
      ]
     },
     "execution_count": 3,
     "metadata": {},
     "output_type": "execute_result"
    }
   ],
   "source": [
    "bid.samples"
   ]
  },
  {
   "cell_type": "markdown",
   "id": "7d0dd8f5",
   "metadata": {},
   "source": [
    "each row is one sample. the hands are in the order: N E S W\n",
    "\n",
    "(West always has the same cards because it's your hand and it's known to you)"
   ]
  },
  {
   "cell_type": "code",
   "execution_count": 4,
   "id": "7101e514",
   "metadata": {},
   "outputs": [
    {
     "name": "stdout",
     "output_type": "stream",
     "text": [
      "x.AK9x.AKJTxx.Tx 98xxx.Q8xx.8xx.8 AKx.x.xx.AQJxxxx QJTx.JTxx.Q9.K9x\n",
      "x.AK9x.AKJTxx.Tx Q9xxx.QTxx.8x.9x AJx..9xxx.AKQ8xx KT8x.J8xxx.Q.Jxx\n",
      "x.AK9x.AKJTxx.Tx 98xxx.8xx.xx.8xx KTx.T.Q9xx.AKQ9x AQJx.QJxxx.8.Jxx\n",
      "x.AK9x.AKJTxx.Tx AT9xx.QT.xx.Q98x KQ8.x.Q8xx.AKxxx Jxxx.J8xxxx.9.Jx\n",
      "x.AK9x.AKJTxx.Tx KQ8xx.xxx.8x.Qxx AJT.x.Q9x.AK8xxx 9xxx.QJT8x.xx.J9\n",
      "x.AK9x.AKJTxx.Tx KJ9x.Jxxxx.Qx.xx A8x.Q.9x.AKJ8xxx QTxxx.T8x.8xx.Q9\n",
      "x.AK9x.AKJTxx.Tx Qxx.Qxx.Q8xxx.Jx AKx.JTxx.x.AK9xx JT98xx.8x.9.Q8xx\n",
      "x.AK9x.AKJTxx.Tx KQ8xx.xx.9xxx.8x AJx.JT8x.Q.AQJxx T9xx.Qxx.8x.K9xx\n",
      "x.AK9x.AKJTxx.Tx 98xxx.Qxxx.9.Kxx AKJ.x.xxxx.AQ9xx QTxx.JT8x.Q8.J8x\n",
      "x.AK9x.AKJTxx.Tx KQTxx.Txx.Qxx.xx AJ9.QJxx.x.AKJxx 8xxx.8x.98x.Q98x\n"
     ]
    }
   ],
   "source": [
    "# we got some samples above. if we want more, we can always get more\n",
    "\n",
    "sample_hands, sorted_score, p_hcp, p_shp = bot_bid.sample_hands_auction([\"PAD_START\", \"PAD_START\", \"PAD_START\", \"PASS\", \"1N\", \"PASS\", \"3S\",\"PASS\"])\n",
    "\n",
    "for i in range(sample_hands.shape[0]):\n",
    "    print(f'{hand_to_str(sample_hands[i, 0, :])} {hand_to_str(sample_hands[i, 1, :])} {hand_to_str(sample_hands[i, 2, :])} {hand_to_str(sample_hands[i, 3, :])}')"
   ]
  }
 ],
 "metadata": {
  "kernelspec": {
   "display_name": "Python 3 (ipykernel)",
   "language": "python",
   "name": "python3"
  },
  "language_info": {
   "codemirror_mode": {
    "name": "ipython",
    "version": 3
   },
   "file_extension": ".py",
   "mimetype": "text/x-python",
   "name": "python",
   "nbconvert_exporter": "python",
   "pygments_lexer": "ipython3",
   "version": "3.11.0"
  }
 },
 "nbformat": 4,
 "nbformat_minor": 5
}
