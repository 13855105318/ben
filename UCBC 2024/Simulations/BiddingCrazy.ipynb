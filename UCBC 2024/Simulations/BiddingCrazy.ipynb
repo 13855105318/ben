{
 "cells": [
  {
   "cell_type": "markdown",
   "id": "75d07246",
   "metadata": {},
   "source": [
    "# Bidding\n",
    "\n",
    "This is a tutorial for how to use the bidding engine"
   ]
  },
  {
   "cell_type": "code",
   "execution_count": 1,
   "id": "59a5664c",
   "metadata": {},
   "outputs": [],
   "source": [
    "import sys\n",
    "import os\n",
    "sys.path.append('../../src')\n",
    "os.environ['BEN_HOME'] = \"../..\"\n",
    "\n",
    "import logging\n",
    "\n",
    "# Set logging level to suppress warnings\n",
    "logging.getLogger().setLevel(logging.ERROR)\n",
    "# Just disables the warnings\n",
    "os.environ['TF_CPP_MIN_LOG_LEVEL'] = '2'\n",
    "from nn.models import Models\n",
    "from bots import BotBid\n",
    "from bidding import bidding\n",
    "from util import hand_to_str\n",
    "from deck52 import random_deal\n",
    "from sample import Sample\n",
    "import conf\n",
    "import numpy as np\n",
    "\n",
    "np.set_printoptions(precision=2, suppress=True, linewidth=200)\n",
    "np.random.seed(42)"
   ]
  },
  {
   "cell_type": "code",
   "execution_count": 2,
   "id": "44786d5d",
   "metadata": {},
   "outputs": [
    {
     "name": "stdout",
     "output_type": "stream",
     "text": [
      "WARNING:tensorflow:From c:\\Python311\\Lib\\site-packages\\tensorflow\\python\\compat\\v2_compat.py:107: disable_resource_variables (from tensorflow.python.ops.variable_scope) is deprecated and will be removed in a future version.\n",
      "Instructions for updating:\n",
      "non-resource variables are not supported in the long term\n",
      "INFO:tensorflow:Restoring parameters from ..\\Models/NS1EW99-bidding_same-5556000\n",
      "INFO:tensorflow:Restoring parameters from ..\\Models/NS1EW99-binfo_same-5556000\n",
      "INFO:tensorflow:Restoring parameters from ..\\Models/lead_suit-999000\n",
      "INFO:tensorflow:Restoring parameters from ..\\Models/lead_nt-475000\n",
      "INFO:tensorflow:Restoring parameters from ..\\Models/Jack/lr3-1000000\n",
      "INFO:tensorflow:Restoring parameters from ..\\Models/single_dummy-32768000\n",
      "INFO:tensorflow:Restoring parameters from ..\\Models/jack/lefty-1000000\n",
      "INFO:tensorflow:Restoring parameters from ..\\Models/jack/dummy-920000\n",
      "INFO:tensorflow:Restoring parameters from ..\\Models/jack/righty-1000000\n",
      "INFO:tensorflow:Restoring parameters from ..\\Models/jack/decl-1000000\n",
      "INFO:tensorflow:Restoring parameters from ..\\Models/jack/lefty-1000000\n",
      "INFO:tensorflow:Restoring parameters from ..\\Models/jack/dummy-920000\n",
      "INFO:tensorflow:Restoring parameters from ..\\Models/jack/righty-1000000\n",
      "INFO:tensorflow:Restoring parameters from ..\\Models/jack/decl-1000000\n"
     ]
    }
   ],
   "source": [
    "models = Models.from_conf(conf.load('../Conf/UCBC2024.conf'),'..')   # loading neural networks\n",
    "models.search_threshold = 0.07\n",
    "models.double_dummy_calculator = True\n",
    "# Filter to remove hands not consistent with the bidding. Used during play\n",
    "models.bid_accept_play_threshold = 0.01\n",
    "sampler = Sample.from_conf(conf.load('../Conf/UCBC2024.conf'), False)  # Load sampling strategies\n",
    "#sampler.use_distance = False\n",
    "#sampler.bidding_threshold_sampling = 0.25\n"
   ]
  },
  {
   "cell_type": "markdown",
   "id": "669da023",
   "metadata": {},
   "source": [
    "### Bidding through an entire auction for all four hands\n",
    "\n",
    "Now we'll take a random deal and let the bot bid for each hand. We assume North deals and nobody is vulnerable.\n",
    "\n",
    "This script was used to detect the reason for some strange bidding. But the error is fixed, so this should look normal now"
   ]
  },
  {
   "cell_type": "code",
   "execution_count": 3,
   "id": "fc27ca79",
   "metadata": {},
   "outputs": [],
   "source": [
    "\n",
    "hands = [\"AJ.KJ9.A9764.AJ8\",\"T853.AT65.Q8.T52\", \"K976.Q874.KT.K74\", \"Q42.32.J532.Q963\"]\n",
    "#hands = ['AKQJTx.AQTx.Ax.x', 'xxx.Kx.KT8x.KJxx', 'x.J98xxxx.9.QTxx', '98x..QJxxxx.A98x']"
   ]
  },
  {
   "cell_type": "code",
   "execution_count": 4,
   "id": "d480cbba",
   "metadata": {},
   "outputs": [],
   "source": [
    "# North is dealer\n",
    "dealer = 0\n",
    "bidder_bots = [BotBid([False, True], hand, models, sampler, i, dealer, False) for i, hand in enumerate(hands)]"
   ]
  },
  {
   "cell_type": "code",
   "execution_count": 5,
   "id": "7d77351a",
   "metadata": {},
   "outputs": [
    {
     "name": "stdout",
     "output_type": "stream",
     "text": [
      "{'bid': '1D', 'who': 'NN', 'candidates': [{'call': '1D', 'insta_score': 0.961}], 'hcp': [7.5, 8.1, 6.9], 'shape': [3.8, 3.2, 2.6, 3.2, 3.6, 3.2, 2.8, 3.2, 3.7, 3.2, 2.7, 3.3]}\n",
      "{'bid': 'PASS', 'who': 'NN', 'candidates': [{'call': 'PASS', 'insta_score': 1.0}], 'hcp': [10.5, 10.0, 13.5], 'shape': [3.0, 3.2, 3.2, 3.5, 3.2, 3.3, 2.8, 3.6, 2.5, 2.6, 5.0, 2.8]}\n",
      "{'bid': '1H', 'who': 'NN', 'candidates': [{'call': '1H', 'insta_score': 1.0}], 'hcp': [9.0, 13.2, 6.0], 'shape': [3.2, 3.3, 2.7, 3.7, 2.6, 2.7, 4.9, 2.7, 3.0, 3.2, 3.1, 3.7]}\n",
      "{'bid': 'PASS', 'who': 'NN', 'candidates': [{'call': 'PASS', 'insta_score': 1.0}], 'hcp': [14.3, 7.4, 12.5], 'shape': [3.4, 2.8, 4.4, 2.5, 3.8, 3.1, 2.8, 3.4, 3.2, 4.8, 2.1, 2.8]}\n",
      "{'bid': '3N', 'who': 'NN', 'candidates': [{'call': '3N', 'insta_score': 0.992}], 'hcp': [6.1, 11.0, 6.1], 'shape': [4.0, 2.5, 3.0, 3.5, 3.1, 4.6, 2.4, 2.8, 4.0, 2.6, 2.9, 3.5]}\n",
      "{'bid': 'PASS', 'who': 'NN', 'candidates': [{'call': 'PASS', 'insta_score': 1.0}], 'hcp': [10.2, 5.3, 18.1], 'shape': [2.8, 4.4, 2.7, 3.0, 3.6, 2.4, 3.0, 3.9, 2.9, 2.1, 5.1, 2.8]}\n"
     ]
    },
    {
     "name": "stderr",
     "output_type": "stream",
     "text": [
      "Loaded lib dds.dll\n"
     ]
    },
    {
     "name": "stdout",
     "output_type": "stream",
     "text": [
      "{'bid': 'PASS', 'who': 'Simulation', 'quality': 'Good', 'candidates': [{'call': 'PASS', 'insta_score': 0.143, 'expected_score': 471, 'adjustment': 7}, {'call': '4N', 'insta_score': 0.569, 'expected_score': 439, 'adjustment': 28}, {'call': '6N', 'insta_score': 0.259, 'expected_score': 437, 'adjustment': 13}], 'samples': ['AT8.KT.AQJ8x.AJ8 Jxxx.Axxx.xx.xxx K9xx.Q8xx.KT.Kxx Qx.J9x.9xxx.QT9x 0.99622 \\n 1D-P-1H-P-3N-P-4N-P-5D-P-6N-P-P-P (12, 11.4, 11.1)  \\n 1D-P-1H-P-3N-P-6N-P-P-P (12, 11.4, 11.1)  \\n 1D-P-1H-P-3N-P-P-P (12, 11.4, 11.1) ', 'Txx.AK.AQJ8x.AJx AJ8x.9xx.9xx.QT9 K9xx.Q8xx.KT.Kxx Qx.JTxx.xxx.8xxx 0.99619 \\n 1D-P-1H-P-3N-P-4N-P-5D-P-6N-P-P-P (11, 11.0, 10.9)  \\n 1D-P-1H-P-3N-P-6N-P-P-P (11, 11.0, 10.9)  \\n 1D-P-1H-P-3N-P-P-P (11, 11.0, 10.9) ', 'Ax.AJ9.AJ9xx.AJT Txx.KT.Q8xx.98xx K9xx.Q8xx.KT.Kxx QJ8x.xxxx.xx.Qxx 0.99617 \\n 1D-P-1H-P-3N-P-4N-P-5D-P-6N-P-P-P (11, 11.2, 10.9)  \\n 1D-P-1H-P-3N-P-6N-P-P-P (11, 11.2, 10.9)  \\n 1D-P-1H-P-3N-P-P-P (11, 11.2, 10.9) ', 'AQx.Kx.AJ9xx.AJx Txx.9xx.xxx.T98x K9xx.Q8xx.KT.Kxx J8x.AJTx.Q8x.Qxx 0.99611 \\n 1D-P-1H-P-3N-P-4N-P-5D-P-6N-P-P-P (12, 11.3, 10.9)  \\n 1D-P-1H-P-3N-P-6N-X-P-P-P (12, 11.3, 10.8)  \\n 1D-P-1H-P-3N-P-P-P (12, 11.3, 10.8) ', 'Ax.AKx.Q8xxx.AQx QJ8.xx.AJxx.JT9x K9xx.Q8xx.KT.Kxx Txxx.JT9x.9x.8xx 0.99606 \\n 1D-P-1H-P-3N-P-4N-P-5D-P-6N-P-P-P (11, 10.8, 10.9)  \\n 1D-P-1H-P-3N-P-6N-P-P-P (11, 10.8, 10.9)  \\n 1D-P-1H-P-3N-P-P-P (11, 10.8, 10.9) ', '8x.AKT.AQxxx.AQ9 Txx.xxx.J98x.Txx K9xx.Q8xx.KT.Kxx AQJx.J9x.xx.J8xx 0.99601 \\n 1D-P-1H-P-3N-P-4N-P-5D-P-6N-P-P-P (10, 9.5, 11.1)  \\n 1D-P-1H-P-3N-P-6N-X-P-P-P (10, 9.5, 11.1)  \\n 1D-P-1H-P-3N-P-P-P (10, 9.5, 10.8) ', 'Ax.KT9.AJ9xx.AQJ J8xx.AJxxx.x.Txx K9xx.Q8xx.KT.Kxx QTx.x.Q8xxx.98xx 0.99595 \\n 1D-P-1H-P-3N-P-4N-P-6N-P-P-P (11, 11.0, 10.6)  \\n 1D-P-1H-P-3N-P-6N-P-P-P (11, 11.0, 10.6)  \\n 1D-P-1H-P-3N-P-P-P (11, 11.0, 10.6) ', 'Tx.AK9.AQ9xx.AQx J8xx.Tx.J8xxx.8x K9xx.Q8xx.KT.Kxx AQx.Jxxx.x.JT9xx 0.99592 \\n 1D-P-1H-P-3N-P-4N-P-5D-P-6N-P-P-P (11, 9.8, 10.3)  \\n 1D-P-1H-P-3N-P-6N-P-P-P (11, 9.8, 10.3)  \\n 1D-P-1H-P-3N-P-P-P (11, 9.8, 10.4) ', 'A8.KJT.AQJxx.ATx Jx.9xx.98x.QJ9xx K9xx.Q8xx.KT.Kxx QTxxx.Axx.xxx.8x 0.99580 \\n 1D-P-1H-P-3N-P-4N-P-5D-P-6N-P-P-P (12, 11.2, 11.1)  \\n 1D-P-1H-P-3N-P-6N-P-P-P (12, 11.2, 11.1)  \\n 1D-P-1H-P-3N-P-P-P (12, 11.2, 11.1) ', 'Ax.AKJ.Jxxxx.AQ8 Qxx.T9xx.Q8x.T9x K9xx.Q8xx.KT.Kxx JT8x.xx.A9x.Jxxx 0.99575 \\n 1D-P-1H-P-3N-P-4N-P-5D-P-6N-P-P-P (10, 10.8, 10.3)  \\n 1D-P-1H-P-3N-P-6N-P-P-P (10, 10.8, 10.3)  \\n 1D-P-1H-P-3N-P-P-P (10, 10.8, 10.3) ', 'Jxx.AK.AQJ9x.A9x AT8x.J9x.8xxx.xx K9xx.Q8xx.KT.Kxx Qx.Txxx.xx.QJT8x 0.99555 \\n 1D-P-1H-P-3N-P-4N-P-5D-P-6N-P-P-P (11, 11.1, 10.5)  \\n 1D-P-1H-P-3N-P-6N-P-P-P (11, 11.1, 10.5)  \\n 1D-P-1H-P-3N-P-P-P (11, 11.1, 10.5) ', 'Ax.AKx.AQ8xx.Qxx 8xx.Txx.9xxx.JT9 K9xx.Q8xx.KT.Kxx QJTx.J9x.Jx.A8xx 0.99554 \\n 1D-P-1H-P-3N-P-4N-P-5D-P-6N-P-P-P (11, 10.7, 11.0)  \\n 1D-P-1H-P-3N-P-6N-X-P-P-P (11, 10.7, 10.9)  \\n 1D-P-1H-P-3N-P-P-P (11, 10.7, 10.8) ', 'AJx.K9x.AQ8xx.AJ 8xx.Ax.J9xx.T8xx K9xx.Q8xx.KT.Kxx QTx.JTxx.xx.Q9xx 0.99525 \\n 1D-P-1H-P-3N-P-4N-P-5D-P-6N-P-P-P (12, 11.2, 10.7)  \\n 1D-P-1H-P-3N-P-6N-P-P-P (12, 11.2, 10.7)  \\n 1D-P-1H-P-3N-P-P-P (12, 11.2, 10.7) ', 'QTx.AK.AQ98x.Axx Axx.Txxxx.xxx.xx K9xx.Q8xx.KT.Kxx J8x.J9.Jxx.QJT98 0.99508 \\n 1D-P-1H-P-3N-P-4N-P-5D-P-6N-P-P-P (12, 11.0, 11.0)  \\n 1D-P-1H-P-3N-P-6N-P-P-P (12, 11.0, 11.0)  \\n 1D-P-1H-P-3N-P-P-P (12, 11.0, 11.0) ', 'Qx.AKJ.AQ98x.QJ8 8xx.9xxx.Jxxx.Tx K9xx.Q8xx.KT.Kxx AJTx.Tx.xx.A9xxx 0.99498 \\n 1D-P-1H-P-3N-P-4N-P-6N-P-P-P (11, 10.1, 10.6)  \\n 1D-P-1H-P-3N-P-6N-X-P-P-P (11, 10.1, 10.6)  \\n 1D-P-1H-P-3N-P-P-P (11, 10.1, 10.3) ', 'Q8x.AK.AQ8xx.A9x JTx.Txx.J9xx.8xx K9xx.Q8xx.KT.Kxx Axx.J9xx.xx.QJTx 0.99495 \\n 1D-P-1H-P-3N-P-4N-P-5D-P-6N-P-P-P (12, 11.0, 10.6)  \\n 1D-P-1H-P-3N-P-6N-P-P-P (12, 11.0, 10.6)  \\n 1D-P-1H-P-3N-P-P-P (12, 11.0, 10.9) ', 'AJx.AK.AJ8xx.Q8x 8xx.JT9xx.Qxx.Jx K9xx.Q8xx.KT.Kxx QTx.xx.9xx.AT9xx 0.99494 \\n 1D-P-1H-P-3N-P-4N-P-5D-P-6N-P-P-P (12, 11.1, 10.7)  \\n 1D-P-1H-P-3N-P-6N-P-P-P (12, 11.1, 10.7)  \\n 1D-P-1H-P-3N-P-P-P (12, 11.1, 10.4) ', 'AT.Kxx.AQ8xx.AQ8 Jxxxx.x.9xx.JTxx K9xx.Q8xx.KT.Kxx Q8.AJT9x.Jxx.9xx 0.99481 \\n 1D-P-1H-P-3N-P-4N-P-5D-P-6N-P-P-P (11, 10.9, 10.7)  \\n 1D-P-1H-P-3N-P-6N-P-P-P (11, 10.9, 10.7)  \\n 1D-P-1H-P-3N-P-P-P (11, 10.9, 10.7) ', 'Ax.AJx.A8xxx.AQ8 8xx.KTx.Jxx.Txxx K9xx.Q8xx.KT.Kxx QJTx.9xx.Q9x.J9x 0.99480 \\n 1D-P-1H-P-3N-P-4N-P-5D-P-6N-P-P-P (10, 10.8, 10.6)  \\n 1D-P-1H-P-3N-P-6N-P-P-P (10, 10.8, 10.6)  \\n 1D-P-1H-P-3N-P-P-P (10, 10.8, 10.6) ', 'AJ8.Ax.AQ8xx.Axx Txx.Kxx.J9xx.QTx K9xx.Q8xx.KT.Kxx Qxx.JT9x.xx.J98x 0.99464 \\n 1D-P-1H-P-3N-P-4N-P-5D-P-6N-P-P-P (12, 11.8, 11.3)  \\n 1D-P-1H-P-3N-P-6N-P-P-P (12, 11.8, 11.2)  \\n 1D-P-1H-P-3N-P-P-P (12, 11.8, 11.3) '], 'hcp': [5.5, 18.5, 4.9], 'shape': [3.2, 3.3, 2.9, 3.6, 2.6, 2.6, 5.0, 2.8, 3.2, 3.3, 3.0, 3.6]}\n",
      "{'bid': 'PASS', 'who': 'NN', 'candidates': [{'call': 'PASS', 'insta_score': 1.0}, {'call': 'X', 'insta_score': 0.0}], 'hcp': [18.9, 6.7, 9.5], 'shape': [3.1, 2.7, 4.7, 2.6, 3.9, 3.4, 2.5, 3.1, 3.2, 4.6, 2.2, 3.0]}\n",
      "['1D', 'PASS', '1H', 'PASS', '3N', 'PASS', 'PASS', 'PASS']\n"
     ]
    }
   ],
   "source": [
    "auction = [] \n",
    "\n",
    "turn_i = 0 # whose turn is it to bid\n",
    "step = 0\n",
    "\n",
    "while not bidding.auction_over(auction):\n",
    "    bid = bidder_bots[turn_i].bid(auction)\n",
    "    #if step== 5:\n",
    "    #     bid.bid='X'\n",
    "    #if step== 1:\n",
    "    #     bid.bid='PASS'\n",
    "    print(bid.to_dict())\n",
    "    auction.append(bid.bid)\n",
    "    turn_i = (turn_i + 1) % 4  # next player's turn\n",
    "    step += 1\n",
    "print(auction)"
   ]
  }
 ],
 "metadata": {
  "kernelspec": {
   "display_name": "Python 3 (ipykernel)",
   "language": "python",
   "name": "python3"
  },
  "language_info": {
   "codemirror_mode": {
    "name": "ipython",
    "version": 3
   },
   "file_extension": ".py",
   "mimetype": "text/x-python",
   "name": "python",
   "nbconvert_exporter": "python",
   "pygments_lexer": "ipython3",
   "version": "3.11.9"
  }
 },
 "nbformat": 4,
 "nbformat_minor": 5
}
