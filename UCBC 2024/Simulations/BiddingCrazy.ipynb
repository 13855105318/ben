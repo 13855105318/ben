{
 "cells": [
  {
   "cell_type": "markdown",
   "id": "75d07246",
   "metadata": {},
   "source": [
    "# Bidding\n",
    "\n",
    "This is a tutorial for how to use the bidding engine"
   ]
  },
  {
   "cell_type": "code",
   "execution_count": 1,
   "id": "59a5664c",
   "metadata": {},
   "outputs": [
    {
     "name": "stdout",
     "output_type": "stream",
     "text": [
      "WARNING:tensorflow:From c:\\Python311\\Lib\\site-packages\\tensorflow\\python\\compat\\v2_compat.py:107: disable_resource_variables (from tensorflow.python.ops.variable_scope) is deprecated and will be removed in a future version.\n",
      "Instructions for updating:\n",
      "non-resource variables are not supported in the long term\n"
     ]
    }
   ],
   "source": [
    "import sys\n",
    "import os\n",
    "sys.path.append('../../src')\n",
    "os.environ['BEN_HOME'] = \"../..\"\n",
    "\n",
    "import logging\n",
    "\n",
    "# Set logging level to suppress warnings\n",
    "logging.getLogger().setLevel(logging.ERROR)\n",
    "# Just disables the warnings\n",
    "os.environ['TF_CPP_MIN_LOG_LEVEL'] = '2'\n",
    "from nn.models import Models\n",
    "from bots import BotBid\n",
    "from bidding import bidding\n",
    "from util import hand_to_str\n",
    "from deck52 import random_deal\n",
    "from sample import Sample\n",
    "import conf\n",
    "import numpy as np\n",
    "\n",
    "np.set_printoptions(precision=2, suppress=True, linewidth=200)\n",
    "np.random.seed(42)"
   ]
  },
  {
   "cell_type": "code",
   "execution_count": 2,
   "id": "44786d5d",
   "metadata": {},
   "outputs": [
    {
     "name": "stdout",
     "output_type": "stream",
     "text": [
      "INFO:tensorflow:Restoring parameters from ..\\Models/NS1EW99-bidding_same-5556000\n",
      "INFO:tensorflow:Restoring parameters from ..\\Models/NS1EW99-binfo_same-5556000\n",
      "INFO:tensorflow:Restoring parameters from ..\\Models/lead_suit-154000\n",
      "INFO:tensorflow:Restoring parameters from ..\\Models/lead_nt-59000\n",
      "INFO:tensorflow:Restoring parameters from ..\\Models/lr3-1000000\n",
      "INFO:tensorflow:Restoring parameters from ..\\Models/single_dummy-32768000\n",
      "INFO:tensorflow:Restoring parameters from ..\\Models/lefty-1000000\n",
      "INFO:tensorflow:Restoring parameters from ..\\Models/dummy-920000\n",
      "INFO:tensorflow:Restoring parameters from ..\\Models/righty-1000000\n",
      "INFO:tensorflow:Restoring parameters from ..\\Models/decl-1000000\n"
     ]
    }
   ],
   "source": [
    "models = Models.from_conf(conf.load('../Conf/UCBC2024.conf'),'..')   # loading neural networks\n",
    "sampler = Sample.from_conf(conf.load('../Conf/UCBC2024.conf'), False)  # Load sampling strategies"
   ]
  },
  {
   "cell_type": "markdown",
   "id": "669da023",
   "metadata": {},
   "source": [
    "### Bidding through an entire auction for all four hands\n",
    "\n",
    "Now we'll take a random deal and let the bot bid for each hand. We assume North deals and nobody is vulnerable.\n",
    "\n",
    "This script was used to detect the reason for some strange bidding. But the error is fixed, so this should look normal now"
   ]
  },
  {
   "cell_type": "code",
   "execution_count": 3,
   "id": "fc27ca79",
   "metadata": {},
   "outputs": [],
   "source": [
    "hands = ['QTx.Jx.T8xx.QTxx','KJ8x.9xxx.KJ9.9x','A9x.KQ8xx.Q.KJ8x','xxx.AT.Axxxx.Axx']"
   ]
  },
  {
   "cell_type": "code",
   "execution_count": 4,
   "id": "d480cbba",
   "metadata": {},
   "outputs": [],
   "source": [
    "bidder_bots = [BotBid([True, False], hand, models, sampler, i, 2, False) for i, hand in enumerate(hands)]"
   ]
  },
  {
   "cell_type": "code",
   "execution_count": 5,
   "id": "7d77351a",
   "metadata": {},
   "outputs": [
    {
     "name": "stdout",
     "output_type": "stream",
     "text": [
      "{'bid': 'PASS', 'who': 'NN', 'candidates': [{'call': 'PASS', 'insta_score': 1.0}], 'hcp': [10.6, 11.1, 10.9], 'shape': [3.0, 3.0, 3.2, 3.7, 3.0, 3.0, 3.2, 3.5, 3.0, 3.0, 3.3, 3.6]}\n",
      "{'bid': '1H', 'who': 'NN', 'candidates': [{'call': '1H', 'insta_score': 0.998}], 'hcp': [9.0, 9.5, 6.1], 'shape': [3.2, 2.5, 4.1, 3.1, 3.2, 2.7, 3.9, 3.0, 3.1, 2.7, 4.0, 3.1]}\n",
      "{'bid': '2D', 'who': 'NN', 'candidates': [{'call': 'X', 'insta_score': 0.968}], 'hcp': [7.9, 6.6, 13.0], 'shape': [3.7, 2.7, 2.9, 3.6, 3.7, 2.7, 3.0, 3.6, 2.9, 5.4, 2.0, 2.8]}\n",
      "{'bid': 'PASS', 'who': 'NN', 'candidates': [{'call': 'PASS', 'insta_score': 1.0}], 'hcp': [7.2, 14.6, 13.1], 'shape': [4.3, 2.9, 2.2, 3.5, 3.1, 5.3, 1.7, 2.9, 2.7, 2.5, 5.3, 2.5]}\n",
      "{'bid': 'PASS', 'who': 'NN', 'candidates': [{'call': 'PASS', 'insta_score': 0.89}], 'hcp': [13.3, 13.3, 5.1], 'shape': [2.8, 5.2, 1.7, 3.3, 2.5, 2.0, 5.5, 3.0, 3.8, 1.8, 2.9, 4.5]}\n",
      "{'bid': 'X', 'who': 'NN', 'candidates': [{'call': 'X', 'insta_score': 0.975}], 'hcp': [13.6, 5.5, 6.0], 'shape': [2.7, 2.5, 5.6, 2.3, 3.8, 2.1, 3.7, 3.4, 3.6, 3.2, 2.9, 3.3]}\n",
      "{'bid': 'PASS', 'who': 'NN', 'candidates': [{'call': 'PASS', 'insta_score': 0.973}], 'hcp': [6.3, 7.3, 14.1], 'shape': [3.2, 2.5, 3.7, 3.6, 3.5, 3.7, 2.5, 3.3, 3.4, 4.8, 1.9, 2.9]}\n",
      "{'bid': 'PASS', 'who': 'NN', 'candidates': [{'call': '2H', 'insta_score': 0.681}], 'hcp': [6.3, 15.7, 12.8], 'shape': [4.0, 3.1, 2.2, 3.8, 3.3, 5.0, 1.7, 2.9, 2.7, 2.5, 5.4, 2.3]}\n",
      "{'bid': '3D', 'who': 'NN', 'candidates': [{'call': '3D', 'insta_score': 0.535}], 'hcp': [13.1, 13.1, 5.6], 'shape': [3.2, 5.1, 1.4, 3.3, 2.3, 2.1, 5.6, 3.1, 3.7, 1.7, 2.9, 4.6]}\n",
      "{'bid': 'PASS', 'who': 'NN', 'candidates': [{'call': 'PASS', 'insta_score': 0.978}], 'hcp': [13.0, 5.2, 7.0], 'shape': [2.7, 2.6, 5.3, 2.5, 4.1, 2.1, 3.2, 3.6, 3.4, 3.1, 3.5, 3.1]}\n",
      "{'bid': 'PASS', 'who': 'NN', 'candidates': [{'call': 'PASS', 'insta_score': 0.996}], 'hcp': [5.9, 8.3, 13.5], 'shape': [3.3, 2.4, 3.4, 3.9, 3.2, 3.9, 3.2, 2.8, 3.4, 4.9, 1.3, 3.3]}\n",
      "{'bid': 'PASS', 'who': 'NN', 'candidates': [{'call': 'PASS', 'insta_score': 0.924}], 'hcp': [7.8, 13.4, 13.3], 'shape': [3.6, 2.9, 3.1, 3.4, 3.5, 5.2, 1.0, 3.3, 2.9, 2.6, 5.3, 2.2]}\n",
      "['PAD_START', 'PASS', '1H', '2D', 'PASS', 'PASS', 'X', 'PASS', 'PASS', '3D', 'PASS', 'PASS', 'PASS']\n"
     ]
    }
   ],
   "source": [
    "auction = [\"PAD_START\"] \n",
    "\n",
    "turn_i = 1 # whose turn is it to bid\n",
    "step = 0\n",
    "\n",
    "while not bidding.auction_over(auction):\n",
    "    bid = bidder_bots[turn_i].bid(auction)\n",
    "    if step== 2:\n",
    "        bid.bid='2D'\n",
    "    if step== 7:\n",
    "        bid.bid='PASS'\n",
    "    print(bid.to_dict())\n",
    "    auction.append(bid.bid)\n",
    "    turn_i = (turn_i + 1) % 4  # next player's turn\n",
    "    step += 1\n",
    "print(auction)"
   ]
  }
 ],
 "metadata": {
  "kernelspec": {
   "display_name": "Python 3 (ipykernel)",
   "language": "python",
   "name": "python3"
  },
  "language_info": {
   "codemirror_mode": {
    "name": "ipython",
    "version": 3
   },
   "file_extension": ".py",
   "mimetype": "text/x-python",
   "name": "python",
   "nbconvert_exporter": "python",
   "pygments_lexer": "ipython3",
   "version": "3.11.0"
  }
 },
 "nbformat": 4,
 "nbformat_minor": 5
}
