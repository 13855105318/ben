{
 "cells": [
  {
   "cell_type": "markdown",
   "id": "75d07246",
   "metadata": {},
   "source": [
    "# Bidding\n",
    "\n",
    "This is a tutorial for how to use the bidding engine"
   ]
  },
  {
   "cell_type": "code",
   "execution_count": 1,
   "id": "59a5664c",
   "metadata": {},
   "outputs": [
    {
     "name": "stdout",
     "output_type": "stream",
     "text": [
      "WARNING:tensorflow:From c:\\Python311\\Lib\\site-packages\\tensorflow\\python\\compat\\v2_compat.py:107: disable_resource_variables (from tensorflow.python.ops.variable_scope) is deprecated and will be removed in a future version.\n",
      "Instructions for updating:\n",
      "non-resource variables are not supported in the long term\n"
     ]
    }
   ],
   "source": [
    "import sys\n",
    "sys.path.append('../../src')\n",
    "\n",
    "import os\n",
    "import logging\n",
    "\n",
    "# Set logging level to suppress warnings\n",
    "logging.getLogger().setLevel(logging.ERROR)\n",
    "# Just disables the warnings\n",
    "os.environ['TF_CPP_MIN_LOG_LEVEL'] = '2'\n",
    "from nn.models import Models\n",
    "from bots import BotBid\n",
    "from bidding import bidding\n",
    "from util import hand_to_str\n",
    "from deck52 import random_deal\n",
    "from sample import Sample\n",
    "import conf\n",
    "import numpy as np\n",
    "\n",
    "np.set_printoptions(precision=2, suppress=True, linewidth=200)\n",
    "np.random.seed(42)"
   ]
  },
  {
   "cell_type": "code",
   "execution_count": 2,
   "id": "44786d5d",
   "metadata": {},
   "outputs": [
    {
     "name": "stdout",
     "output_type": "stream",
     "text": [
      "INFO:tensorflow:Restoring parameters from ..\\Models/NS1EW99-bidding_same-2030000\n",
      "INFO:tensorflow:Restoring parameters from ..\\Models/NS1EW99-binfo_same-278000\n",
      "INFO:tensorflow:Restoring parameters from ..\\Models/lead_suit-154000\n",
      "INFO:tensorflow:Restoring parameters from ..\\Models/lead_nt-59000\n",
      "INFO:tensorflow:Restoring parameters from ..\\Models/lr3-1000000\n",
      "INFO:tensorflow:Restoring parameters from ..\\Models/single_dummy-32768000\n",
      "INFO:tensorflow:Restoring parameters from ..\\Models/lefty-1000000\n",
      "INFO:tensorflow:Restoring parameters from ..\\Models/dummy-920000\n",
      "INFO:tensorflow:Restoring parameters from ..\\Models/righty-1000000\n",
      "INFO:tensorflow:Restoring parameters from ..\\Models/decl-1000000\n"
     ]
    }
   ],
   "source": [
    "models = Models.from_conf(conf.load('../Conf/UCBC2024.conf'),'..')   # loading neural networks\n",
    "sampler = Sample.from_conf(conf.load('../Conf/UCBC2024.conf'), False)  # Load sampling strategies"
   ]
  },
  {
   "cell_type": "markdown",
   "id": "669da023",
   "metadata": {},
   "source": [
    "### Bidding through an entire auction for all four hands\n",
    "\n",
    "Now we'll take a random deal and let the bot bid for each hand. We assume North deals and nobody is vulnerable.\n",
    "\n",
    "This script was used to detect the reason for some strange bidding. But the error is fixed, so this should look normal now"
   ]
  },
  {
   "cell_type": "code",
   "execution_count": 3,
   "id": "fc27ca79",
   "metadata": {},
   "outputs": [],
   "source": [
    "hands = ['KQ9x.QJx.Kxx.Txx','8xxx.KT9xx..8xxx','JTx.8xx.AQJ98.AQ','Ax.Ax.Txxxx.KJ9x']"
   ]
  },
  {
   "cell_type": "code",
   "execution_count": 4,
   "id": "d480cbba",
   "metadata": {},
   "outputs": [],
   "source": [
    "bidder_bots = [BotBid([True, False], hand, models, sampler, i, 2, False) for i, hand in enumerate(hands)]"
   ]
  },
  {
   "cell_type": "code",
   "execution_count": 5,
   "id": "7d77351a",
   "metadata": {},
   "outputs": [
    {
     "name": "stdout",
     "output_type": "stream",
     "text": [
      "{'bid': '1D', 'candidates': [{'call': '1D', 'insta_score': 1.0}], 'samples': [], 'hcp': [8.5, 9.5, 7.9], 'shape': [3.1, 3.3, 2.8, 3.7, 3.1, 3.1, 2.8, 3.8, 3.2, 3.2, 2.8, 3.7], 'who': 'NN'}\n",
      "{'bid': 'PASS', 'candidates': [{'call': 'PASS', 'insta_score': 0.999}], 'samples': [], 'hcp': [11.0, 9.5, 7.3], 'shape': [3.5, 3.4, 3.7, 2.5, 3.8, 3.9, 2.3, 2.9, 3.8, 3.6, 2.4, 3.1], 'who': 'NN'}\n",
      "{'bid': '1S', 'candidates': [{'call': '1S', 'insta_score': 0.999}], 'samples': [], 'hcp': [9.5, 10.1, 9.6], 'shape': [3.0, 3.3, 3.2, 3.2, 3.1, 3.2, 3.2, 3.2, 3.1, 3.3, 3.2, 3.2], 'who': 'NN'}\n",
      "{'bid': 'PASS', 'candidates': [{'call': 'PASS', 'insta_score': 0.999}], 'samples': [], 'hcp': [11.7, 10.2, 13.8], 'shape': [3.3, 2.8, 3.5, 3.2, 3.3, 2.9, 3.2, 3.3, 2.7, 2.4, 5.2, 2.7], 'who': 'NN'}\n",
      "{'bid': '1N', 'candidates': [{'call': '1N', 'insta_score': 1.0}], 'samples': [], 'hcp': [6.9, 12.9, 6.1], 'shape': [3.6, 3.9, 1.6, 3.8, 2.9, 2.9, 4.4, 2.9, 3.7, 3.6, 1.8, 3.9], 'who': 'NN'}\n",
      "{'bid': 'PASS', 'candidates': [{'call': 'PASS', 'insta_score': 0.999}], 'samples': [], 'hcp': [12.6, 6.2, 7.9], 'shape': [2.4, 3.9, 3.9, 2.9, 3.5, 4.1, 2.2, 3.3, 5.2, 3.1, 1.7, 3.0], 'who': 'NN'}\n",
      "[0.26 0.5  0.48 ... 0.25 1.   1.  ]\n",
      "Samples after bidding filtering:  741  Threshold:  0.7\n",
      "[3, 3, 3, 2]\n",
      "2\n",
      "3 7 ['1D', 'PASS', '1S', 'PASS', '1N', 'PASS', '2N']\n",
      "[3, 3, 3, 2]\n",
      "2\n",
      "3 7 ['1D', 'PASS', '1S', 'PASS', '1N', 'PASS', 'PASS']\n",
      "[3, 3, 3, 2]\n",
      "2\n",
      "3 7 ['1D', 'PASS', '1S', 'PASS', '1N', 'PASS', '3N']\n",
      "{'bid': 'PASS', 'candidates': [{'call': 'PASS', 'insta_score': 0.288, 'expected_score': 86, 'adjustment': 14}, {'call': '2N', 'insta_score': 0.66, 'expected_score': -357, 'adjustment': 33}, {'call': '3N', 'insta_score': 0.047, 'expected_score': -335, 'adjustment': 2}], 'samples': ['KQ9x.QJx.Kxx.Txx Jx.K9x.AQxxx.xxx ATx.A8x.T98x.KQ8 8xxx.Txxx.J.AJ9x 0.99963 \\n 1D-P-1S-P-1N-P-2N-P-3S-P-3N-P-4S-P-P-P (8.2)  \\n 1D-P-1S-P-1N-P-P-P (8.2)  \\n 1D-P-1S-P-1N-P-3N-P-4S-P-P-P (8.2) ', 'KQ9x.QJx.Kxx.Txx x.A9xx.Jxxx.QJ9x Txx.K8x.AQT8.Kxx AJ8xx.Txx.9x.A8x 0.75095 \\n 1D-P-1S-P-1N-P-2N-P-3S-P-3N-P-4S-P-P-P (7.5)  \\n 1D-P-1S-P-1N-P-P-P (7.1)  \\n 1D-P-1S-P-1N-P-3N-P-4S-P-P-P (7.5) ', 'KQ9x.QJx.Kxx.Txx xxxx.8xx.ATx.8xx AT.AK9x.98xx.J9x J8x.Txx.QJx.AKQx 0.77013 \\n 1D-P-1S-P-1N-P-2N-P-3S-P-3N-P-4S-P-P-P (6.9)  \\n 1D-P-1S-P-1N-P-P-P (7.2)  \\n 1D-P-1S-P-1N-P-3N-P-4S-P-P-P (6.9) ', 'KQ9x.QJx.Kxx.Txx JTx.8xx.Axx.QJxx Ax.ATx.JT98x.A9x 8xxx.K9xx.Qx.K8x 0.99986 \\n 1D-P-1S-P-1N-P-2N-P-3S-P-3N-P-4S-P-5D-P-5S-P-6D-P-6S-P-P-P (7.9)  \\n 1D-P-1S-P-1N-P-P-P (8.7)  \\n 1D-P-1S-P-1N-P-3N-P-4S-P-5D-P-5S-P-6D-P-6S-P-P-P (7.9) ', 'KQ9x.QJx.Kxx.Txx Txxxx.A9.x.AQ98x AJ.Txxx.AQxxx.Jx 8x.K8xx.JT98.Kxx 0.98416 \\n 1D-P-1S-P-1N-P-2N-P-3S-P-4D-P-4H-P-5D-P-5S-P-6D-P-6S-P-7D-P-P-P (7.2)  \\n 1D-P-1S-P-1N-P-P-P (6.4)  \\n 1D-P-1S-P-1N-P-3N-P-4S-P-5D-P-5S-P-6D-P-6S-P-7D-P-P-P (7.2) ', 'KQ9x.QJx.Kxx.Txx xx.9xxx.ATxx.Q98 ATx.A8.J98xx.KJx J8xx.KTxx.Q.Axxx 0.99963 \\n 1D-P-1S-P-1N-P-2N-P-3S-P-3N-P-4S-P-5D-P-5S-P-6D-P-6S-P-P-P (8.4)  \\n 1D-P-1S-P-1N-P-P-P (8.4)  \\n 1D-P-1S-P-1N-P-3N-P-4S-P-5D-P-5S-P-6D-P-6S-P-P-P (8.4) ', 'KQ9x.QJx.Kxx.Txx JTxxx.8xx.Jx.AKx A8x.AKTx.AT98x.9 x.9xx.Qxx.QJ8xxx 0.99877 \\n 1D-P-1S-P-1N-P-2N-P-3S-P-4N-P-5C-P-5D-P-6C-P-6D-P-6S-P-7D-P-P-P (11.0)  \\n 1D-P-1S-P-1N-P-P-P (7.1)  \\n 1D-P-1S-P-1N-P-3N-P-4S-P-5D-P-5S-P-6D-P-6S-P-7D-P-P-P (11.0) ', 'KQ9x.QJx.Kxx.Txx Axx.KT98.A9xx.Jx 8x.Axx.Q8xx.AK8x JTxx.xxx.JT.Q9xx 0.98386 \\n 1D-P-1S-P-1N-P-2N-P-3S-P-3N-P-4S-P-P-P (7.9)  \\n 1D-P-1S-P-1N-P-P-P (8.3)  \\n 1D-P-1S-P-1N-P-3N-P-4S-P-P-P (7.9) ', 'KQ9x.QJx.Kxx.Txx 8xxx.Txx.Ax.KQ9x AJx.98xx.QJTxx.A Tx.AKx.98x.J8xxx 0.99964 \\n 1D-P-1S-P-1N-P-2N-P-3S-P-4D-P-4H-P-5D-P-5S-P-6D-P-6S-P-7D-P-P-P (9.3)  \\n 1D-P-1S-P-1N-P-P-P (6.7)  \\n 1D-P-1S-P-1N-P-3N-P-4S-P-5D-P-5S-P-6D-P-6S-P-7D-P-P-P (9.3) ', 'KQ9x.QJx.Kxx.Txx T8xxx.9x.QJx.Kxx Ax.K8xx.AT9xx.Q8 Jx.ATxx.8x.AJ9xx 0.99626 \\n 1D-P-1S-P-1N-P-2N-P-3S-P-4D-P-4H-P-5D-P-5S-P-6D-P-6S-P-7D-P-P-P (8.9)  \\n 1D-P-1S-P-1N-P-P-P (7.2)  \\n 1D-P-1S-P-1N-P-3N-P-4S-P-5D-P-5S-P-6D-P-6S-P-7D-X-P-P-P (8.9) ', 'KQ9x.QJx.Kxx.Txx Jx.KTxx.T8x.J98x ATx.98x.AQ9xx.Ax 8xxx.Axx.Jx.KQxx 0.99944 \\n 1D-P-1S-P-1N-P-2N-P-3S-P-3N-P-4S-P-5D-P-5S-P-6D-P-6S-P-7D-X-P-P-P (9.4)  \\n 1D-P-1S-P-1N-P-P-P (8.4)  \\n 1D-P-1S-P-1N-P-3N-P-4S-P-5D-P-5S-P-6D-P-6S-P-P-P (9.7) ', 'KQ9x.QJx.Kxx.Txx 8x.98xx.Tx.AKxxx Ax.KTxx.AJxxx.Qx JTxxx.Ax.Q98.J98 0.99279 \\n 1D-P-1S-P-1N-P-2N-P-3S-P-4N-P-5C-X-5D-P-6C-P-6D-P-6S-P-7D-X-P-P-P (9.5)  \\n 1D-P-1S-P-1N-P-P-P (8.2)  \\n 1D-P-1S-P-1N-P-3N-P-4S-P-5D-P-5S-P-6D-P-6S-P-7D-P-P-P (9.5) ', 'KQ9x.QJx.Kxx.Txx Axx.T8xx.Q8x.AQx 8x.AKxx.Axxx.J9x JTxx.9x.JT9.K8xx 0.78509 \\n 1D-P-1S-P-1N-P-2N-P-3S-P-3N-P-4S-P-P-P (6.9)  \\n 1D-P-1S-P-1N-P-P-P (7.9)  \\n 1D-P-1S-P-1N-P-3N-P-4S-P-P-P (6.9) ', 'KQ9x.QJx.Kxx.Txx xxxx.8xxx.AT.A8x A.A9xx.Q8xxx.Jxx JT8x.KT.J9x.KQ9x 0.72423 \\n 1D-P-1S-P-1N-P-2N-P-3S-P-4D-P-4H-P-5D-P-5S-P-6D-P-6S-P-P-P (6.0)  \\n 1D-P-1S-P-1N-P-P-P (6.7)  \\n 1D-P-1S-P-1N-P-3N-P-4S-P-5D-P-5S-P-6D-P-6S-P-7D-P-P-P (7.7) ', 'KQ9x.QJx.Kxx.Txx Jxx.T98xx.xx.Q9x T8x.Kx.AQT98.KJx Axx.Axx.Jxx.A8xx 0.75478 \\n 1D-P-1S-P-1N-P-2N-P-3S-P-3N-P-4S-P-5D-P-5S-P-6D-P-6S-P-P-P (8.8)  \\n 1D-P-1S-P-1N-P-P-P (8.8)  \\n 1D-P-1S-P-1N-P-3N-P-4S-P-5D-P-5S-P-6D-P-6S-P-P-X-P-P-P (8.8) ', 'KQ9x.QJx.Kxx.Txx Jx.8xxxx.Qx.Qxxx ATx.Tx.AJ8xx.A9x 8xxx.AK9.T9x.KJ8 0.99968 \\n 1D-P-1S-P-1N-P-2N-P-3S-P-3N-P-4S-P-5D-P-5S-P-6D-P-6S-P-P-P (9.3)  \\n 1D-P-1S-P-1N-P-P-P (9.1)  \\n 1D-P-1S-P-1N-P-3N-P-4S-P-5D-P-5S-P-6D-P-6S-P-P-P (9.3) ', 'KQ9x.QJx.Kxx.Txx 8xx.98xx.A8xx.Ax ATx.Ax.JTxx.KJxx Jxx.KTxx.Q9.Q98x 0.99706 \\n 1D-P-1S-P-1N-P-2N-P-3S-P-3N-P-4S-P-P-P (9.2)  \\n 1D-P-1S-P-1N-P-P-P (8.3)  \\n 1D-P-1S-P-1N-P-3N-P-4S-P-P-P (9.2) ', 'KQ9x.QJx.Kxx.Txx 8xx.KT9xx.Q8.AQ9 AJT.A8.T9xx.Kxxx xxx.xxx.AJxx.J8x 0.87993 \\n 1D-P-1S-P-1N-P-2N-P-3S-P-3N-P-4S-P-P-P (9.1)  \\n 1D-P-1S-P-1N-P-P-P (8.5)  \\n 1D-P-1S-P-1N-P-3N-P-4S-P-P-P (9.1) ', 'KQ9x.QJx.Kxx.Txx Jxxxx.AK9x.8x.xx AT8.8x.QJ9xx.AJ9 x.Txxx.ATx.KQ8xx 0.99841 \\n 1D-P-1S-P-1N-P-2N-P-3S-P-3N-P-4S-P-5D-P-5S-P-6D-P-6S-P-P-P (7.2)  \\n 1D-P-1S-P-1N-P-P-P (7.2)  \\n 1D-P-1S-P-1N-P-3N-P-4S-P-5D-P-5S-P-6D-P-6S-P-P-P (7.2) ', 'KQ9x.QJx.Kxx.Txx A8x.98xx.Qx.AKxx Tx.AKTx.AJxxx.8x Jxxx.xx.T98.QJ9x 0.77056 \\n 1D-P-1S-P-1N-P-2N-P-3S-P-4D-P-4H-P-5D-P-5S-P-6D-P-6S-P-7D-P-P-P (9.7)  \\n 1D-P-1S-P-1N-P-P-P (7.4)  \\n 1D-P-1S-P-1N-P-3N-P-4S-P-5D-P-5S-P-6D-P-6S-P-7D-P-P-P (9.7) '], 'hcp': [8.4, 13.1, 7.4], 'shape': [2.9, 3.7, 2.6, 3.7, 2.7, 3.1, 4.4, 2.9, 3.2, 3.4, 2.8, 3.6], 'who': 'Simulation'}\n",
      "{'bid': 'PASS', 'candidates': [{'call': 'PASS', 'insta_score': 1.0}, {'call': '2H', 'insta_score': 0.0}], 'samples': [], 'hcp': [14.6, 8.2, 13.3], 'shape': [4.7, 2.2, 3.1, 3.1, 2.3, 3.1, 3.9, 3.6, 2.1, 2.9, 4.9, 3.2], 'who': 'NN'}\n",
      "['1D', 'PASS', '1S', 'PASS', '1N', 'PASS', 'PASS', 'PASS']\n"
     ]
    }
   ],
   "source": [
    "auction = [] \n",
    "\n",
    "turn_i = 2 # whose turn is it to bid\n",
    "step = 0\n",
    "\n",
    "while not bidding.auction_over(auction):\n",
    "    bid = bidder_bots[turn_i].bid(auction)\n",
    "    if step== 9:\n",
    "        bid.bid='2N'\n",
    "    print(bid.to_dict())\n",
    "    auction.append(bid.bid)\n",
    "    turn_i = (turn_i + 1) % 4  # next player's turn\n",
    "    step += 1\n",
    "print(auction)"
   ]
  }
 ],
 "metadata": {
  "kernelspec": {
   "display_name": "Python 3 (ipykernel)",
   "language": "python",
   "name": "python3"
  },
  "language_info": {
   "codemirror_mode": {
    "name": "ipython",
    "version": 3
   },
   "file_extension": ".py",
   "mimetype": "text/x-python",
   "name": "python",
   "nbconvert_exporter": "python",
   "pygments_lexer": "ipython3",
   "version": "3.11.0"
  }
 },
 "nbformat": 4,
 "nbformat_minor": 5
}
