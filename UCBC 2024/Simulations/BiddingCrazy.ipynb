{
 "cells": [
  {
   "cell_type": "markdown",
   "id": "75d07246",
   "metadata": {},
   "source": [
    "# Bidding\n",
    "\n",
    "This is a tutorial for how to use the bidding engine"
   ]
  },
  {
   "cell_type": "code",
   "execution_count": 1,
   "id": "59a5664c",
   "metadata": {},
   "outputs": [
    {
     "name": "stdout",
     "output_type": "stream",
     "text": [
      "WARNING:tensorflow:From c:\\Python311\\Lib\\site-packages\\tensorflow\\python\\compat\\v2_compat.py:107: disable_resource_variables (from tensorflow.python.ops.variable_scope) is deprecated and will be removed in a future version.\n",
      "Instructions for updating:\n",
      "non-resource variables are not supported in the long term\n"
     ]
    }
   ],
   "source": [
    "import sys\n",
    "sys.path.append('../../src')\n",
    "\n",
    "import os\n",
    "import logging\n",
    "\n",
    "# Set logging level to suppress warnings\n",
    "logging.getLogger().setLevel(logging.ERROR)\n",
    "# Just disables the warnings\n",
    "os.environ['TF_CPP_MIN_LOG_LEVEL'] = '2'\n",
    "from nn.models import Models\n",
    "from bots import BotBid\n",
    "from bidding import bidding\n",
    "from util import hand_to_str\n",
    "from deck52 import random_deal\n",
    "from sample import Sample\n",
    "import conf\n",
    "import numpy as np\n",
    "\n",
    "np.set_printoptions(precision=2, suppress=True, linewidth=200)\n",
    "np.random.seed(42)"
   ]
  },
  {
   "cell_type": "code",
   "execution_count": 2,
   "id": "44786d5d",
   "metadata": {},
   "outputs": [
    {
     "name": "stdout",
     "output_type": "stream",
     "text": [
      "INFO:tensorflow:Restoring parameters from ..\\Models/NS1EW99-bidding-10724000\n",
      "INFO:tensorflow:Restoring parameters from ..\\Models/NS1EW99-binfo-6131000\n",
      "INFO:tensorflow:Restoring parameters from ..\\Models/lead_suit-154000\n",
      "INFO:tensorflow:Restoring parameters from ..\\Models/lead_nt-59000\n",
      "INFO:tensorflow:Restoring parameters from ..\\Models/lr3-1000000\n",
      "INFO:tensorflow:Restoring parameters from ..\\Models/single_dummy-32768000\n",
      "INFO:tensorflow:Restoring parameters from ..\\Models/lefty-1000000\n",
      "INFO:tensorflow:Restoring parameters from ..\\Models/dummy-920000\n",
      "INFO:tensorflow:Restoring parameters from ..\\Models/righty-1000000\n",
      "INFO:tensorflow:Restoring parameters from ..\\Models/decl-1000000\n"
     ]
    }
   ],
   "source": [
    "models = Models.from_conf(conf.load('../Conf/UCBC2024.conf'),'..')   # loading neural networks\n",
    "sampler = Sample.from_conf(conf.load('../Conf/UCBC2024.conf'), False)  # Load sampling strategies"
   ]
  },
  {
   "cell_type": "markdown",
   "id": "669da023",
   "metadata": {},
   "source": [
    "### Bidding through an entire auction for all four hands\n",
    "\n",
    "Now we'll take a random deal and let the bot bid for each hand. We assume North deals and nobody is vulnerable.\n",
    "\n",
    "This script was used to detect the reason for some strange bidding. But the error is fixed, so this should look normal now"
   ]
  },
  {
   "cell_type": "code",
   "execution_count": 3,
   "id": "fc27ca79",
   "metadata": {},
   "outputs": [],
   "source": [
    "hands = ['T.A2.QT9763.QJ97','98743.KJ3.J52.A8','KJ52.9854.A.K653','AQ6.QT76.K84.T42']"
   ]
  },
  {
   "cell_type": "code",
   "execution_count": 4,
   "id": "d480cbba",
   "metadata": {},
   "outputs": [],
   "source": [
    "bidder_bots = [BotBid([True, False], hand, models, sampler, i, False) for i, hand in enumerate(hands)]"
   ]
  },
  {
   "cell_type": "code",
   "execution_count": 6,
   "id": "7d77351a",
   "metadata": {},
   "outputs": [
    {
     "name": "stderr",
     "output_type": "stream",
     "text": [
      "['PAD_START', 'PAD_START']\n",
      "Bid not valid: PAD_END insta_score: 0.997 0.03\n",
      "['PAD_START', 'PAD_START', 'PASS']\n",
      "Bid not valid: PAD_END insta_score: 0.999 0.03\n",
      "['PAD_START', 'PAD_START', 'PASS', 'PASS']\n",
      "Bid not valid: PAD_END insta_score: 1.000 0.03\n",
      "['PAD_START', 'PAD_START', 'PASS', 'PASS', 'PASS']\n",
      "Bid not valid: PAD_END insta_score: 1.000 0.03\n",
      "['PAD_START', 'PAD_START', 'PASS', 'PASS', 'PASS', '1S']\n",
      "Bid not valid: PAD_END insta_score: 0.076 0.03\n"
     ]
    },
    {
     "name": "stdout",
     "output_type": "stream",
     "text": [
      "{'bid': 'PASS', 'candidates': [{'call': 'PASS', 'insta_score': 0.003}], 'samples': [], 'hcp': -1, 'shape': -1, 'who': 'NN'}\n",
      "{'bid': 'PASS', 'candidates': [{'call': 'PASS', 'insta_score': 0.001}], 'samples': [], 'hcp': -1, 'shape': -1, 'who': 'NN'}\n",
      "{'bid': 'PASS', 'candidates': [{'call': 'PASS', 'insta_score': 0.0}], 'samples': [], 'hcp': -1, 'shape': -1, 'who': 'NN'}\n",
      "{'bid': '1S', 'candidates': [{'call': 'PASS', 'insta_score': 0.0}], 'samples': [], 'hcp': -1, 'shape': -1, 'who': 'NN'}\n",
      "{'bid': 'PASS', 'candidates': [{'call': 'PASS', 'insta_score': 0.768, 'expected_score': -95, 'adjustment': 38}, {'call': 'X', 'insta_score': 0.138, 'expected_score': -159, 'adjustment': 7}], 'samples': ['9x.JTxxx.QJx.Qxx AQ8xx.A.K8xx.JTx KJxx.98xx.A.Kxxx Tx.KQx.T9xxx.A98 0.99985 \\n P-P-P-1S-P-1N-P-2D-P-3D-P-P-P (9.4)  \\n P-P-P-1S-X-1N-2H-P-P-3D-P-P-3H-P-P-P (7.2) ', 'Tx.KQxx.J8xx.J8x A98xx.xx.KT9x.Ax KJxx.98xx.A.Kxxx Qx.AJT.Qxxx.QT9x 0.99573 \\n P-P-P-1S-P-1N-P-2D-P-3D-P-P-P (8.9)  \\n P-P-P-1S-X-XX-2H-P-P-X-P-P-P (7.3) ', 'T.Qxx.KQJxx.T8xx AQ98x.Jx.8xx.AJx KJxx.98xx.A.Kxxx xxx.AKTx.T9xx.Q9 0.99899 \\n P-P-P-1S-P-2S-P-P-P (7.6)  \\n P-P-P-1S-X-P-2D-P-P-2S-P-P-P (7.6) ', '8xx.JT.J8xx.AJ8x QT9xx.AQxx.K9x.Q KJxx.98xx.A.Kxxx A.Kxx.QTxxx.T9xx 0.99977 \\n P-P-P-1S-P-1N-P-2H-P-P-P (8.3)  \\n P-P-P-1S-X-1N-P-2H-P-P-P (8.3) ', 'x.KQTxx.98xxx.8x QT8xx.Ax.KTxx.Ax KJxx.98xx.A.Kxxx A9x.Jx.QJx.QJT9x 0.99537 \\n P-P-P-1S-P-2C-P-2S-P-3S-P-P-P (8.7)  \\n P-P-P-1S-X-XX-2H-P-P-2S-3H-3S-P-P-P (8.7) ', '8.QTxx.QJTxx.J9x AT9xxx.AJx.9xx.A KJxx.98xx.A.Kxxx Qx.Kx.K8xx.QT8xx 0.99920 \\n P-P-P-1S-P-1N-P-2S-P-3S-P-P-P (9.3)  \\n P-P-P-1S-X-XX-2H-2S-P-3H-P-4S-P-P-P (9.3) ', '8x.AJx.T98xx.JT9 QT9xx.K.KQJx.Q8x KJxx.98xx.A.Kxxx Ax.QTxxx.xxx.Axx 0.72865 \\n P-P-P-1S-P-2H-P-3N-P-P-P (7.9)  \\n P-P-P-1S-X-XX-2D-X-P-P-P (5.1) ', 'Q8.JTxxx.98xx.Qx AT9xx.AK.KJx.T8x KJxx.98xx.A.Kxxx xx.Qx.QTxxx.AJ9x 0.48804 \\n P-P-P-1S-P-1N-P-P-P (8.6)  \\n P-P-P-1S-X-1N-P-2N-P-P-P (8.6) ', '.JTxxx.QJxx.QJT9 T98xx.AK.T8xx.A8 KJxx.98xx.A.Kxxx AQxx.Qx.K9xx.xxx 0.99349 \\n P-P-P-1S-P-2C-P-2D-P-3S-P-P-P (9.2)  \\n P-P-P-1S-X-XX-2H-P-P-3H-P-3S-P-P-P (9.2) ', 'Q9.QJTx.xxx.T8xx Axxxx.Ax.KJTx.Jx KJxx.98xx.A.Kxxx T8.Kxx.Q98xx.AQ9 0.82786 \\n P-P-P-1S-P-1N-P-2D-P-3D-P-P-P (10.7)  \\n P-P-P-1S-X-XX-2H-P-P-P (5.9) '], 'hcp': [10.6, 4.4, 13.5], 'shape': [2.2, 3.1, 4.2, 3.4, 2.1, 3.4, 4.1, 3.4, 4.7, 2.5, 3.4, 2.2], 'who': 'Simulation'}\n",
      "{'bid': '2C', 'candidates': [{'call': '3S', 'insta_score': 0.462}], 'samples': [], 'hcp': -1, 'shape': -1, 'who': 'NN'}\n",
      "{'bid': 'PASS', 'candidates': [{'call': 'PASS', 'insta_score': 0.96}], 'samples': [], 'hcp': -1, 'shape': -1, 'who': 'NN'}\n",
      "{'bid': 'PASS', 'candidates': [{'call': 'PASS', 'insta_score': 0.0}], 'samples': [], 'hcp': -1, 'shape': -1, 'who': 'NN'}\n"
     ]
    },
    {
     "name": "stderr",
     "output_type": "stream",
     "text": [
      "['PAD_START', 'PAD_START', 'PASS', 'PASS', 'PASS', '1S', 'PASS']\n",
      "Bid not valid: PAD_END insta_score: 0.363 0.03\n",
      "['PAD_START', 'PAD_START', 'PASS', 'PASS', 'PASS', '1S', 'PASS', '2C']\n",
      "Bid not valid: PAD_END insta_score: 0.039 0.03\n",
      "['PAD_START', 'PAD_START', 'PASS', 'PASS', 'PASS', '1S', 'PASS', '2C', 'PASS']\n",
      "Bid not valid: PAD_END insta_score: 1.000 0.03\n"
     ]
    },
    {
     "name": "stdout",
     "output_type": "stream",
     "text": [
      "{'bid': 'PASS', 'candidates': [{'call': 'PASS', 'insta_score': 0.867, 'expected_score': 37, 'adjustment': 433}, {'call': 'X', 'insta_score': 0.109, 'expected_score': -54, 'adjustment': 55}], 'samples': ['A.xxx.T98xxxxx.x QT9xx.KTx.KQ.A98 KJxx.98xx.A.Kxxx 8xx.AQJ.Jx.QJTxx 0.02501 \\n P-P-P-1S-P-2C-P-P-P (7.4)  \\n P-P-P-1S-P-2C-P-P-X-P-P-P (7.4) ', '9.AKTx.98xxxx.Qx QT8xx.Qx.KQx.JTx KJxx.98xx.A.Kxxx Axx.Jxx.JTx.A98x 0.02228 \\n P-P-P-1S-P-2C-P-P-P (5.5)  \\n P-P-P-1S-P-2C-P-P-X-P-2D-2S-P-P-3D-P-P-3S-P-P-P (6.3) ', '.QTx.QT8xxxx.Jxx AQ98x.AJx.Jx.Q8x KJxx.98xx.A.Kxxx Txxx.Kxx.K9x.AT9 0.02178 \\n P-P-P-1S-P-2C-P-P-P (7.1)  \\n P-P-P-1S-P-2C-P-P-X-P-2D-P-P-2S-P-P-P (9.8) ', 'x.QJxx.Qxxxxx.Jx AQ8xx.ATx.K8.T8x KJxx.98xx.A.Kxxx T9x.Kx.JT9x.AQ9x 0.01503 \\n P-P-P-1S-P-2C-P-P-P (8.3)  \\n P-P-P-1S-P-2C-P-P-X-P-2D-P-P-2S-P-P-P (9.4) ', 'T9.QJxxx.Txxx.Jx AQxxx.Kx.Kxx.Q98 KJxx.98xx.A.Kxxx 8x.AT.QJ98x.ATxx 0.01483 \\n P-P-P-1S-P-2C-P-P-P (9.0)  \\n P-P-P-1S-P-2C-P-P-X-P-2H-P-P-P (7.2) ', 'x.Kxx.Q98xx.QJxx AQT8xxx.Tx.xxx.A KJxx.98xx.A.Kxxx 9.AQJx.KJTx.T98x 0.01351 \\n P-P-P-1S-P-2C-P-P-P (5.5)  \\n P-P-P-1S-P-2C-P-P-X-P-2D-2S-P-P-P (8.3) ', 'x.QJxxx.QJxxx.Qx QT98xxx.AT.8xx.A KJxx.98xx.A.Kxxx A.Kx.KT9x.JT98xx 0.01317 \\n P-P-P-1S-P-2C-P-P-P (8.3)  \\n P-P-P-1S-P-2C-P-P-X-P-2H-3S-P-P-P (9.6) ', '9.AKxxx.Q9xx.Txx AT8xx.QJ.Txx.QJ9 KJxx.98xx.A.Kxxx Qxx.Tx.KJ8xx.A8x 0.01228 \\n P-P-P-1S-P-2C-P-P-P (5.0)  \\n P-P-P-1S-P-2C-P-P-X-P-2H-P-P-2S-3H-P-P-P (9.0) ', 'x.QJTx.JT98x.AJx QT8xx.Ax.Qxxxx.Q KJxx.98xx.A.Kxxx A9x.Kxx.Kx.T98xx 0.00998 \\n P-P-P-1S-P-2C-P-P-P (5.6)  \\n P-P-P-1S-P-2C-P-P-X-P-2H-2S-P-P-3D-P-3H-P-P-P (8.3) ', 'x.QJT.QJ9xx.QTxx AQT98xx.Kxx.8x.J KJxx.98xx.A.Kxxx x.Axx.KTxxx.A98x 0.00956 \\n P-P-P-1S-P-2C-P-P-P (5.8)  \\n P-P-P-1S-P-2C-P-P-X-P-2D-2S-P-P-P (8.7) '], 'hcp': [12.1, 4.6, 11.8], 'shape': [2.6, 2.9, 3.8, 3.6, 1.8, 3.6, 4.5, 3.1, 4.6, 2.7, 3.3, 2.3], 'who': 'Simulation'}\n",
      "['PAD_START', 'PAD_START', 'PASS', 'PASS', 'PASS', '1S', 'PASS', '2C', 'PASS', 'PASS', 'PASS']\n"
     ]
    }
   ],
   "source": [
    "auction = ['PAD_START','PAD_START']  # since West deals we need 'PAD_START'\n",
    "\n",
    "turn_i = len(auction) % 4 # whose turn is it to bid\n",
    "step = 0\n",
    "\n",
    "while not bidding.auction_over(auction):\n",
    "    bid = bidder_bots[turn_i].bid(auction)\n",
    "    # if step== 1:\n",
    "    # bid.bid='X'\n",
    "    if step== 3:\n",
    "        bid.bid='1S'\n",
    "    if step== 5:\n",
    "        bid.bid='2C'\n",
    "    print(bid.to_dict())\n",
    "    auction.append(bid.bid)\n",
    "    turn_i = (turn_i + 1) % 4  # next player's turn\n",
    "    step += 1\n",
    "print(auction)"
   ]
  }
 ],
 "metadata": {
  "kernelspec": {
   "display_name": "Python 3 (ipykernel)",
   "language": "python",
   "name": "python3"
  },
  "language_info": {
   "codemirror_mode": {
    "name": "ipython",
    "version": 3
   },
   "file_extension": ".py",
   "mimetype": "text/x-python",
   "name": "python",
   "nbconvert_exporter": "python",
   "pygments_lexer": "ipython3",
   "version": "3.11.0"
  }
 },
 "nbformat": 4,
 "nbformat_minor": 5
}
