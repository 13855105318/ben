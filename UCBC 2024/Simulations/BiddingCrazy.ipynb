{
 "cells": [
  {
   "cell_type": "markdown",
   "id": "75d07246",
   "metadata": {},
   "source": [
    "# Bidding\n",
    "\n",
    "This is a tutorial for how to use the bidding engine"
   ]
  },
  {
   "cell_type": "code",
   "execution_count": 1,
   "id": "59a5664c",
   "metadata": {},
   "outputs": [
    {
     "name": "stdout",
     "output_type": "stream",
     "text": [
      "WARNING:tensorflow:From c:\\Python311\\Lib\\site-packages\\tensorflow\\python\\compat\\v2_compat.py:107: disable_resource_variables (from tensorflow.python.ops.variable_scope) is deprecated and will be removed in a future version.\n",
      "Instructions for updating:\n",
      "non-resource variables are not supported in the long term\n"
     ]
    }
   ],
   "source": [
    "import sys\n",
    "import os\n",
    "sys.path.append('../../src')\n",
    "os.environ['BEN_HOME'] = \"../..\"\n",
    "\n",
    "import logging\n",
    "\n",
    "# Set logging level to suppress warnings\n",
    "logging.getLogger().setLevel(logging.ERROR)\n",
    "# Just disables the warnings\n",
    "os.environ['TF_CPP_MIN_LOG_LEVEL'] = '2'\n",
    "from nn.models import Models\n",
    "from bots import BotBid\n",
    "from bidding import bidding\n",
    "from util import hand_to_str\n",
    "from deck52 import random_deal\n",
    "from sample import Sample\n",
    "import conf\n",
    "import numpy as np\n",
    "\n",
    "np.set_printoptions(precision=2, suppress=True, linewidth=200)\n",
    "np.random.seed(42)"
   ]
  },
  {
   "cell_type": "code",
   "execution_count": 2,
   "id": "44786d5d",
   "metadata": {},
   "outputs": [
    {
     "name": "stdout",
     "output_type": "stream",
     "text": [
      "INFO:tensorflow:Restoring parameters from ..\\Models/NS1EW99-bidding_same-5556000\n",
      "INFO:tensorflow:Restoring parameters from ..\\Models/NS1EW99-binfo_same-5556000\n",
      "INFO:tensorflow:Restoring parameters from ..\\Models/lead_suit-999000\n",
      "INFO:tensorflow:Restoring parameters from ..\\Models/lead_nt-475000\n",
      "INFO:tensorflow:Restoring parameters from ..\\Models/Jack/lr3-1000000\n",
      "INFO:tensorflow:Restoring parameters from ..\\Models/single_dummy-32768000\n",
      "INFO:tensorflow:Restoring parameters from ..\\Models/lefty_nt-475000\n",
      "INFO:tensorflow:Restoring parameters from ..\\Models/dummy_nt-475000\n",
      "INFO:tensorflow:Restoring parameters from ..\\Models/righty_nt-475000\n",
      "INFO:tensorflow:Restoring parameters from ..\\Models/decl_nt-950000\n",
      "INFO:tensorflow:Restoring parameters from ..\\Models/lefty_suit-999000\n",
      "INFO:tensorflow:Restoring parameters from ..\\Models/dummy_suit-999000\n",
      "INFO:tensorflow:Restoring parameters from ..\\Models/righty_suit-999000\n",
      "INFO:tensorflow:Restoring parameters from ..\\Models/decl_suit-1278000\n"
     ]
    }
   ],
   "source": [
    "models = Models.from_conf(conf.load('../Conf/UCBC2024.conf'),'..')   # loading neural networks\n",
    "sampler = Sample.from_conf(conf.load('../Conf/UCBC2024.conf'), False)  # Load sampling strategies"
   ]
  },
  {
   "cell_type": "markdown",
   "id": "669da023",
   "metadata": {},
   "source": [
    "### Bidding through an entire auction for all four hands\n",
    "\n",
    "Now we'll take a random deal and let the bot bid for each hand. We assume North deals and nobody is vulnerable.\n",
    "\n",
    "This script was used to detect the reason for some strange bidding. But the error is fixed, so this should look normal now"
   ]
  },
  {
   "cell_type": "code",
   "execution_count": 3,
   "id": "fc27ca79",
   "metadata": {},
   "outputs": [],
   "source": [
    "hands = ['QTx.Jx.T8xx.QTxx','KJ8x.9xxx.KJ9.9x','A9x.KQ8xx.Q.KJ8x','xxx.AT.Axxxx.Axx']"
   ]
  },
  {
   "cell_type": "code",
   "execution_count": 4,
   "id": "d480cbba",
   "metadata": {},
   "outputs": [],
   "source": [
    "bidder_bots = [BotBid([True, False], hand, models, sampler, i, 2, False) for i, hand in enumerate(hands)]"
   ]
  },
  {
   "cell_type": "code",
   "execution_count": 5,
   "id": "7d77351a",
   "metadata": {},
   "outputs": [
    {
     "name": "stdout",
     "output_type": "stream",
     "text": [
      "{'bid': 'PASS', 'who': 'NN', 'candidates': [{'call': 'PASS', 'insta_score': 1.0}], 'hcp': [10.6, 11.1, 10.9], 'shape': [3.0, 3.0, 3.2, 3.7, 3.0, 3.0, 3.2, 3.5, 3.0, 3.0, 3.3, 3.6]}\n",
      "{'bid': '1H', 'who': 'NN', 'candidates': [{'call': '1H', 'insta_score': 0.998}], 'hcp': [9.0, 9.5, 6.1], 'shape': [3.2, 2.5, 4.1, 3.1, 3.2, 2.7, 3.9, 3.0, 3.1, 2.7, 4.0, 3.1]}\n",
      "{'bid': '2D', 'who': 'NN', 'candidates': [{'call': 'X', 'insta_score': 0.968}], 'hcp': [7.9, 6.6, 13.0], 'shape': [3.7, 2.7, 2.9, 3.6, 3.7, 2.7, 3.0, 3.6, 2.9, 5.4, 2.0, 2.8]}\n",
      "{'bid': 'PASS', 'who': 'NN', 'candidates': [{'call': 'PASS', 'insta_score': 1.0}], 'hcp': [7.2, 14.6, 13.1], 'shape': [4.3, 2.9, 2.2, 3.5, 3.1, 5.3, 1.7, 2.9, 2.7, 2.5, 5.3, 2.5]}\n",
      "{'bid': '2H', 'who': 'Simulation', 'quality': 'Good', 'candidates': [{'call': '2H', 'insta_score': 0.084, 'expected_score': 390, 'adjustment': 4}, {'call': 'PASS', 'insta_score': 0.89, 'expected_score': 96, 'adjustment': 45}], 'samples': ['Txx.Jx.Qx.KT8xxx KJ8x.9xxx.KJ9.9x Q9x.AKQxx.x.QJxx Axx.T8.AT8xxxx.A 0.99734 \\n P-1H-2D-P-P-P (9.9, 10.3)  \\n P-1H-2D-P-2H-P-2S-4H-P-P-P (6.4, 8.6) ', 'Txxx.Q8.xxx.Axxx KJ8x.9xxx.KJ9.9x AQx.AJTxxx.x.J8x 9x.K.AQT8xx.KQTx 0.98532 \\n P-1H-2D-P-P-P (9.0, 9.3)  \\n P-1H-2D-P-2H-P-2S-4H-5D-P-5S-X-6D-P-6S-X-7D-X-P-P-P (9.0, 9.3) ', 'xxx.x.Q8x.AJ8xxx KJ8x.9xxx.KJ9.9x A9x.KQJT8x..KTxx QTx.Ax.ATxxxxx.Q 0.97877 \\n P-1H-2D-P-P-P (9.6, 9.3)  \\n P-1H-2D-P-2H-P-2S-4H-P-P-P (9.1, 10.5) ', 'QT9x.Q.8xxx.KQTx KJ8x.9xxx.KJ9.9x Axx.AJT8xx.x.J8x xx.Kx.AQTxx.Axxx 0.80170 \\n P-1H-2D-P-P-P (8.1, 8.3)  \\n P-1H-2D-P-2H-P-2S-4H-P-4S-P-P-P (6.5, 7.5) ', 'Q9xx.x.ATx.K8xxx KJ8x.9xxx.KJ9.9x Txxx.KQJT8x..AJT A.Ax.Q8xxxxx.Qxx 0.76895 \\n P-1H-2D-P-P-P (8.4, 8.9)  \\n P-1H-2D-P-2H-P-2S-4H-P-4S-P-4N-P-5D-P-5H-P-6C-P-6H-X-P-P-P (8.8, 8.5) ', 'xxxx.Kx.Tx.QTxxx KJ8x.9xxx.KJ9.9x Q9.AJT8x.xxx.AKx ATx.Qx.AQ8xx.J8x 0.82738 \\n P-1H-2D-P-P-P (8.3, 8.4)  \\n P-1H-2D-P-2H-P-2S-4H-P-4S-P-4N-P-5D-P-5H-P-5S-P-6H-X-P-P-P (7.7, 7.3) ', 'QT9xx.8.x.AJT8xx KJ8x.9xxx.KJ9.9x Axx.AQJTxx.xx.xx x.Kx.AQT8xxx.KQx 0.97136 \\n P-1H-2D-P-P-3C-P-3D-4D-P-P-4H-P-P-P (8.0, 8.0)  \\n P-1H-2D-P-2H-P-2S-4H-5D-P-5S-P-6D-P-6S-X-7D-X-P-P-P (8.4, 9.0) ', 'ATxx.Tx.Qx.JT8xx KJ8x.9xxx.KJ9.9x Qxx.AKQ8xx.xx.Qx 9x.J.AT8xxx.AKxx 0.98896 \\n P-1H-2D-P-P-P (9.9, 9.4)  \\n P-1H-2D-P-2H-P-2S-4H-5D-X-P-P-P (9.9, 9.4) ', 'QT9xx.8.xx.KQTxx KJ8x.9xxx.KJ9.9x Axx.AQTxx.8x.Jxx x.KJx.AQTxxx.A8x 0.97087 \\n P-1H-2D-P-P-P (9.2, 9.2)  \\n P-1H-2D-P-2H-P-2S-4H-P-4S-P-P-P (7.6, 6.9) ', 'Txxxx.J8.8x.KJxx KJ8x.9xxx.KJ9.9x AQx.AQTxxx.x.Txx 9.K.AQTxxxx.AQ8x 0.99609 \\n P-1H-2D-P-P-P (9.7, 10.2)  \\n P-1H-2D-P-2H-P-2S-4H-5D-P-5S-P-6D-P-6S-X-7D-X-P-P-P (9.7, 10.2) ', '9xxx.Q.Qxx.KJTxx KJ8x.9xxx.KJ9.9x QTx.AKJTxx.8x.Qx Ax.8x.ATxxx.A8xx 0.94897 \\n P-1H-2D-P-P-P (9.0, 8.3)  \\n P-1H-2D-P-2H-P-2S-4H-P-4S-P-P-P (5.6, 6.4) ', 'T9xx.JT8.xx.Txxx KJ8x.9xxx.KJ9.9x Qxxx.AKQx.Q.KQxx A.xx.AT8xxxx.AJ8 0.72535 \\n P-1H-2D-P-P-P (9.9, 9.9)  \\n P-1H-2D-P-2H-P-2S-4H-5D-P-5S-X-6D-P-6S-X-7D-X-P-P-P (9.9, 9.9) ', 'T9xxx.JT.Qxx.Txx KJ8x.9xxx.KJ9.9x Axx.AKQ8x.8.KJ8x Q.xx.ATxxxx.AQxx 0.96827 \\n P-1H-2D-P-P-P (9.6, 8.9)  \\n P-1H-2D-P-2H-P-2S-4N-P-5C-P-6H-X-P-P-P (7.0, 7.2) ', 'T9xx.Jx.Ax.8xxxx KJ8x.9xxx.KJ9.9x Qxx.AKTxx.xx.KTx Ax.Q8.QT8xxx.AQJ 0.99317 \\n P-1H-2D-P-P-P (9.5, 9.6)  \\n P-1H-2D-P-2H-P-2S-4H-P-4S-P-P-P (5.0, 5.3) ', 'QTxxx.xx.xx.KJxx KJ8x.9xxx.KJ9.9x Ax.KQJT8x.xx.Txx 9x.A.AQT8xx.AQ8x 0.93522 \\n P-1H-2D-P-P-P (10.3, 10.5)  \\n P-1H-2D-P-2H-P-2S-3H-4D-P-P-P (10.3, 10.5) ', 'Qxxx.T.8xx.Qxxxx KJ8x.9xxx.KJ9.9x Axx.AKQJ8xx.x.K8 T9.x.AQTxxx.AJTx 0.98095 \\n P-1H-2D-P-P-P (10.0, 9.2)  \\n P-1H-2D-P-2H-P-2S-4H-5D-P-5S-X-P-P-P (6.2, 7.1) ', '9xx.8.QT8.J8xxxx KJ8x.9xxx.KJ9.9x QTxx.QJTxx.A.ATx Ax.AKx.xxxxxx.KQ 0.88744 \\n P-1H-2D-P-P-P (9.5, 9.3)  \\n P-1H-2D-P-2H-P-2S-4H-P-P-P (5.2, 5.2) ', 'Txxxx.T.8x.KQJTx KJ8x.9xxx.KJ9.9x AQ.A8xxx.Ax.8xxx 9x.KQJ.QTxxxx.Ax 0.99245 \\n P-1H-2D-P-P-P (7.3, 8.5)  \\n P-1H-2D-P-2H-P-2S-4H-P-4S-P-4N-P-5C-P-5D-P-5S-P-6H-X-P-P-P (6.5, 7.5) ', 'Txx.JT.8xx.KQ8xx KJ8x.9xxx.KJ9.9x 9xx.AKQ8xxx.A.xx AQx..QTxxxx.AJTx 0.96156 \\n P-1H-2D-P-P-P (10.1, 10.3)  \\n P-1H-2D-P-2H-P-2S-4H-5D-P-5S-P-6D-P-6S-X-7D-X-P-P-P (10.1, 10.3) ', 'T9xxx.T.QT8x.Kxx KJ8x.9xxx.KJ9.9x Qx.AQ8xx.x.AQJT8 Ax.KJx.Axxxx.xxx 0.98528 \\n P-1H-2D-P-P-P (8.0, 7.9)  \\n P-1H-2D-P-2H-P-2S-4N-P-5C-P-6H-X-P-P-P (5.9, 7.3) '], 'hcp': [13.3, 13.3, 5.1], 'shape': [2.8, 5.2, 1.7, 3.3, 2.5, 2.0, 5.5, 3.0, 3.8, 1.8, 2.9, 4.5]}\n",
      "{'bid': '3C', 'who': 'Simulation', 'quality': 'Good', 'candidates': [{'call': '3C', 'insta_score': 0.797, 'expected_score': -591, 'adjustment': 40}, {'call': 'PASS', 'insta_score': 0.198, 'expected_score': -853, 'adjustment': 10}], 'samples': ['T8x.T9xx.9xx.Qxx KQJ.Jx.Axx.T9xxx A9x.KQ8xx.Q.KJ8x xxxx.Ax.KJT8xx.A 0.87240 \\n P-1H-2D-P-2H-3C-P-3D-X-P-P-4H-P-P-P (7.0, 8.4)  \\n P-1H-2D-P-2H-P-2S-4H-P-P-P (7.0, 8.4) ', 'J8xx.9.T9.AQ9xxx Txx.Axxx.8xxx.Tx A9x.KQ8xx.Q.KJ8x KQx.JTx.AKJxxx.x 0.73558 \\n P-1H-2D-P-2H-3C-P-3D-X-P-P-4H-P-P-P (6.3, 8.3)  \\n P-1H-2D-P-2H-P-2S-4H-P-4S-P-4N-P-5C-P-6H-X-P-P-P (6.3, 8.3) ', 'Jxx..JT9x.T9xxxx Q8xx.Txx.Axxx.Ax A9x.KQ8xx.Q.KJ8x KTx.AJ9xx.K8xx.Q 0.70568 \\n P-1H-2D-P-2H-3C-3S-4H-P-P-P (3.9, 6.3)  \\n P-1H-2D-P-2H-P-2S-4H-P-P-P (3.9, 6.3) ', 'Jxxxxx.T.8xx.Axx KQ8.xx.Axxx.Q9xx A9x.KQ8xx.Q.KJ8x T.AJ9xx.KJT9x.Tx 0.73529 \\n P-1H-2D-P-2H-3C-P-3D-X-P-P-4H-P-P-P (6.0, 6.1)  \\n P-1H-2D-P-2H-P-2S-4H-P-4S-P-4N-P-5C-P-6H-P-P-X-P-P-P (6.0, 6.6) ', 'JTxxx.Jx.9x.A9xx xx.T9x.AJ8xx.Txx A9x.KQ8xx.Q.KJ8x KQ8.Axx.KTxxx.Qx 0.72722 \\n P-1H-2D-P-2H-3C-P-3D-P-P-P (4.4, 6.4)  \\n P-1H-2D-P-2H-P-2N-4H-P-P-P (8.5, 8.0) ', 'J8xx.JTx.9xx.Q9x KQxx.xx.Txx.ATxx A9x.KQ8xx.Q.KJ8x Tx.A9x.AKJ8xx.xx 0.70259 \\n P-1H-2D-P-2H-3C-3S-4H-P-P-P (7.1, 7.7)  \\n P-1H-2D-P-2H-P-2S-4H-P-4S-P-4N-P-5C-P-6H-X-P-P-P (7.1, 7.7) ', 'Jxxx.Tx.T98.AQTx QT8.J9x.Kxxx.9xx A9x.KQ8xx.Q.KJ8x Kxx.Axx.AJxxx.xx 0.74739 \\n P-1H-2D-P-2H-3C-P-3D-X-P-P-4H-P-P-P (8.2, 8.9)  \\n P-1H-2D-P-2H-P-2S-4H-P-4S-P-4N-P-5C-P-6H-X-P-P-P (8.2, 8.9) ', 'QTxxx.x.xx.QTxxx KJ8x.9.T98xx.A9x A9x.KQ8xx.Q.KJ8x x.AJTxxx.AKJxx.x 0.91207 \\n P-1H-2D-P-2H-3C-3S-4H-P-4S-P-4N-P-5D-P-5H-P-5N-P-6H-X-P-P-P (3.9, 5.5)  \\n P-1H-2D-P-2H-P-2S-4H-5D-P-P-5H-X-P-P-P (3.9, 5.5) ', 'J8xx.Tx.9xx.QTxx Qxx.Axx.T8xx.Axx A9x.KQ8xx.Q.KJ8x KTx.J9x.AKJxx.9x 0.94568 \\n P-1H-2D-P-2H-3C-3S-4H-P-P-P (6.2, 7.0)  \\n P-1H-2D-P-2H-P-2S-4H-P-P-P (6.2, 7.2) ', 'Q8xx.xx.T9x.A9xx Txx.JT9x.K8x.Qxx A9x.KQ8xx.Q.KJ8x KJx.Ax.AJxxxx.Tx 0.74685 \\n P-1H-2D-P-2H-3C-P-3D-X-P-P-4H-P-P-P (8.2, 7.3)  \\n P-1H-2D-P-2H-P-2S-4H-P-4S-P-4N-P-5C-P-6H-X-P-P-P (8.2, 7.3) ', 'JT8xx.xx.9xx.Txx KQxx.Tx.KJTx.Q9x A9x.KQ8xx.Q.KJ8x x.AJ9x.A8xxx.Axx 0.96106 \\n P-1H-2D-P-2H-3C-3S-4H-P-4S-P-4N-P-5C-P-5D-P-P-P (2.0, 5.1)  \\n P-1H-2D-P-2H-P-2S-4H-P-4S-P-4N-P-5C-P-6H-X-P-P-P (5.1, 5.6) ', 'QJT8x.Jx.8.T9xxx xxxx.9x.AJxxx.Qx A9x.KQ8xx.Q.KJ8x K.ATxx.KT9xxx.Ax 0.77548 \\n P-1H-2D-P-2H-3C-3S-4H-P-4S-P-4N-P-5C-P-5D-P-5N-P-6H-X-P-P-P (6.6, 6.9)  \\n P-1H-2D-P-2H-P-2S-4H-P-4S-P-4N-P-5C-P-6H-X-P-P-P (6.6, 6.9) ', 'Q8xx.xxx.Jxx.9xx KTxx.9x.Axx.QTxx A9x.KQ8xx.Q.KJ8x Jx.AJT.KT98xx.Ax 0.73994 \\n P-1H-2D-P-2H-3C-3S-4H-P-P-P (6.0, 5.8)  \\n P-1H-2D-P-2H-P-2S-4H-P-4S-P-4N-P-5C-P-6H-X-P-P-P (6.0, 6.3) ', 'QTxxx.9x.Txx.QTx KJx.xx.J9xx.A9xx A9x.KQ8xx.Q.KJ8x 8x.AJTx.AK8xx.xx 0.92250 \\n P-1H-2D-P-2H-3C-3S-4H-P-4S-P-4N-P-5D-P-5H-P-5N-P-6H-X-P-P-P (6.0, 6.7)  \\n P-1H-2D-P-2H-P-2S-4H-P-4S-P-4N-P-5C-P-6H-X-P-P-P (6.0, 6.7) ', 'QJxx.x.9xxx.AT9x Txx.J9xx.Kxx.xxx A9x.KQ8xx.Q.KJ8x K8x.ATx.AJT8x.Qx 0.71640 \\n P-1H-2D-P-2H-3C-P-3D-P-P-P (5.6, 7.2)  \\n P-1H-2D-P-2H-P-2S-4H-P-4S-P-4N-P-5D-P-5H-P-5N-P-6H-X-P-P-P (7.6, 8.1) ', 'KT8xx.x.Tx.T9xxx Qx.JTx.J8xx.AQxx A9x.KQ8xx.Q.KJ8x Jxx.A9xx.AK9xxx. 0.90219 \\n P-1H-2D-P-2H-3C-P-3D-X-P-P-4H-P-P-P (5.4, 6.1)  \\n P-1H-2D-P-2H-P-3H-4H-5D-P-P-X-P-P-P (9.8, 10.2) ', 'Qxxx.Jx.xxx.QTxx KT8.T9.JTxx.A9xx A9x.KQ8xx.Q.KJ8x Jxx.Axxx.AK98x.x 0.84163 \\n P-1H-2D-P-2H-3C-3S-4H-P-P-P (5.9, 7.0)  \\n P-1H-2D-P-2H-P-2S-4H-P-4S-P-4N-P-5C-P-6H-X-P-P-P (5.9, 6.8) ', 'Q8xx.xx.Txx.T9xx Txx.Jxx.A98x.Axx A9x.KQ8xx.Q.KJ8x KJx.AT9.KJxxx.Qx 0.83219 \\n P-1H-2D-P-2H-3C-3S-4H-P-P-P (6.3, 6.2)  \\n P-1H-2D-P-2H-P-2S-4H-P-4S-P-4N-P-5C-P-6H-X-P-P-P (6.3, 6.6) ', 'T8xx.A9.Jxx.Txxx xx.JTxx.Axx.Q9xx A9x.KQ8xx.Q.KJ8x KQJx.xx.KT98xx.A 0.75507 \\n P-1H-2D-P-2H-3C-P-3D-X-P-P-4H-P-P-P (6.8, 7.0)  \\n P-1H-2D-P-2H-P-2N-4H-P-P-P (6.8, 7.0) ', 'Kxxxx.xx.JTxx.Tx Tx.JT9.K98.AQxxx A9x.KQ8xx.Q.KJ8x QJ8.Axx.Axxxx.9x 0.90119 \\n P-1H-2D-P-2H-3C-P-3D-X-P-P-4H-P-P-P (6.8, 7.0)  \\n P-1H-2D-P-2H-P-3H-4H-P-4S-P-P-P (7.7, 7.5) '], 'hcp': [12.7, 3.9, 8.9], 'shape': [2.5, 2.9, 5.5, 2.3, 4.0, 2.4, 2.9, 3.6, 3.4, 2.6, 3.9, 3.3]}\n",
      "{'bid': 'PASS', 'who': 'NN', 'candidates': [{'call': 'PASS', 'insta_score': 0.907}], 'hcp': [4.2, 9.2, 14.6], 'shape': [3.8, 2.6, 3.4, 3.1, 4.0, 3.4, 2.9, 2.7, 2.1, 5.1, 1.4, 4.3]}\n",
      "{'bid': 'PASS', 'who': 'NN', 'candidates': [{'call': 'PASS', 'insta_score': 0.94}], 'hcp': [8.7, 15.2, 11.5], 'shape': [4.2, 2.9, 3.4, 2.6, 2.8, 5.1, 0.8, 4.3, 3.2, 2.8, 5.0, 1.9]}\n",
      "{'bid': '3D', 'who': 'Simulation', 'quality': 'Good', 'candidates': [{'call': '3D', 'insta_score': 0.766, 'expected_score': 919, 'adjustment': 38}, {'call': 'PASS', 'insta_score': 0.178, 'expected_score': 83, 'adjustment': 9}], 'samples': ['9xx.xx.Txxx.Qxxx KJ8x.9xxx.KJ9.9x ATx.AKT8x.8.AK8x Qxx.QJ.AQxxx.JTx 0.82853 \\n P-1H-2D-P-2H-3C-P-P-3D-P-P-4N-P-5D-P-5H-P-5N-P-6H-P-P-P (8.7, 8.8)  \\n P-1H-2D-P-2H-3C-P-P-P (9.8, 9.9) ', 'Txxxx.QT.xxx.T8x KJ8x.9xxx.KJ9.9x Qx.AKJ8x.8x.AKJx A9.xx.AQTxx.Qxxx 0.82419 \\n P-1H-2D-P-2H-3C-P-P-3D-P-P-4N-P-5C-P-5H-P-5N-P-6H-X-P-P-P (7.4, 7.7)  \\n P-1H-2D-P-2H-3C-P-P-P (6.7, 7.3) ', '9xxx.8x.Q8xx.8xx KJ8x.9xxx.KJ9.9x QTx.AQTxx.A.AQJx Ax.KJ.Txxxx.KTxx 0.79629 \\n P-1H-2D-P-2H-3C-P-P-3D-P-P-4N-P-5C-P-6H-X-P-P-P (6.8, 6.9)  \\n P-1H-2D-P-2H-3C-P-P-P (6.5, 7.0) ', 'QTxxx.8.xxx.Txxx KJ8x.9xxx.KJ9.9x 9x.AQTxx.AT.AKJ8 Ax.KJx.Q8xxx.Qxx 0.79227 \\n P-1H-2D-P-2H-3C-P-P-3D-P-P-4N-P-5C-P-6H-X-P-P-P (6.3, 6.6)  \\n P-1H-2D-P-2H-3C-P-P-P (8.4, 8.9) ', 'QTxx.Tx.Qxx.xxxx KJ8x.9xxx.KJ9.9x Ax.AQJ8x.8x.KQJx 9xx.Kx.ATxxx.AT8 0.78168 \\n P-1H-2D-P-2H-3C-P-P-3D-P-P-4N-P-5D-P-6H-X-P-P-P (6.8, 7.3)  \\n P-1H-2D-P-2H-3C-P-P-P (7.6, 8.2) ', 'T9xxx.Jx.Qxx.Qxx KJ8x.9xxx.KJ9.9x Qx.KQ8xx.Ax.AJ8x Ax.AT.T8xxx.KTxx 0.77502 \\n P-1H-2D-P-2H-3C-P-P-3D-P-P-4H-P-P-P (6.5, 6.8)  \\n P-1H-2D-P-2H-3C-P-P-P (6.1, 6.6) ', '9xxx.T.Axxxx.Jxx KJ8x.9xxx.KJ9.9x AQx.AQ8xx..KTxxx Tx.KJx.QT8xx.AQ8 0.76535 \\n P-1H-2D-P-2H-3C-P-P-3D-P-P-4N-P-5D-P-6H-X-P-P-P (7.1, 7.5)  \\n P-1H-2D-P-2H-3C-P-P-P (9.1, 9.3) ', 'xxx.J.8xxx.QTxxx KJ8x.9xxx.KJ9.9x AQx.AQ8xx.T.AJxx T9x.KTx.AQxxx.K8 0.76140 \\n P-1H-2D-P-2H-3C-P-P-3D-P-P-4N-P-5D-P-6H-X-P-P-P (7.0, 7.9)  \\n P-1H-2D-P-2H-3C-P-P-P (10.0, 9.7) ', 'QTxx.Tx.xxxx.Qxx KJ8x.9xxx.KJ9.9x xx.AK8xx.A.KJTxx A9x.QJ.QT8xx.A8x 0.75991 \\n P-1H-2D-P-2H-3C-P-P-3D-P-P-4N-P-5D-P-5H-P-P-P (6.9, 7.9)  \\n P-1H-2D-P-2H-3C-P-P-P (8.3, 8.8) ', '9xxx.Qx.QTxx.8xx KJ8x.9xxx.KJ9.9x Ax.KT8xx.x.AKQTx QTx.AJ.A8xxx.Jxx 0.75274 \\n P-1H-2D-P-2H-3C-P-P-3D-P-P-4N-P-5D-P-5H-P-5N-P-6H-X-P-P-P (8.0, 8.3)  \\n P-1H-2D-P-2H-3C-P-P-P (8.8, 9.0) ', '9xxx.xx.Txx.AJTx KJ8x.9xxx.KJ9.9x Ax.AQJ8x.Qx.Kxxx QTx.KT.A8xxx.Q8x 0.75131 \\n P-1H-2D-P-2H-3C-P-P-3D-P-P-4H-P-P-P (8.0, 7.6)  \\n P-1H-2D-P-2H-3C-P-P-P (8.7, 8.7) ', '9xxx.xx.xxxx.Jxx KJ8x.9xxx.KJ9.9x QTx.AKQTx.Q.AQ8x Ax.J8.AT8xx.KTxx 0.75104 \\n P-1H-2D-P-2H-3C-P-P-3D-P-P-4N-P-5C-P-6H-X-P-P-P (6.6, 7.1)  \\n P-1H-2D-P-2H-3C-P-P-P (6.2, 7.0) ', 'T9xxx.Qx.Qxx.QTx KJ8x.9xxx.KJ9.9x Q.AKJT8.8x.AJxxx Axx.xx.ATxxx.K8x 0.74626 \\n P-1H-2D-P-2H-3C-P-P-3D-P-P-4H-P-P-P (8.1, 8.6)  \\n P-1H-2D-P-2H-3C-P-P-P (8.4, 9.2) ', 'ATxx.8x.T8x.J8xx KJ8x.9xxx.KJ9.9x Q9.AJTxx.xx.AKQx xxx.KQ.AQxxx.Txx 0.73934 \\n P-1H-2D-P-2H-3C-P-P-3D-P-P-4N-P-5D-P-5H-P-5N-P-6H-X-P-P-P (8.0, 8.2)  \\n P-1H-2D-P-2H-3C-P-P-P (8.9, 9.1) ', 'T9xxx.Q8.Qxx.QTx KJ8x.9xxx.KJ9.9x xx.AKJTx.AT.K8xx AQ.xx.8xxxx.AJxx 0.73728 \\n P-1H-2D-P-2H-3C-P-P-3D-P-P-4H-P-P-P (8.2, 8.3)  \\n P-1H-2D-P-2H-3C-P-P-P (7.5, 8.6) ', 'Txxxx.Kx.Qxx.xxx KJ8x.9xxx.KJ9.9x Ax.QT8xx.AT.AJT8 Q9.AJ.8xxxx.KQxx 0.73727 \\n P-1H-2D-P-2H-3C-P-P-3D-P-P-4N-P-5D-P-6H-X-P-P-P (7.4, 7.0)  \\n P-1H-2D-P-2H-3C-P-P-P (7.0, 6.9) ', 'Q9xx.Tx.Axxx.8xx KJ8x.9xxx.KJ9.9x Axx.KQ8xx.x.KQxx Tx.AJ.QT8xx.AJTx 0.73703 \\n P-1H-2D-P-2H-3C-P-P-3D-P-P-4H-P-P-P (7.1, 6.9)  \\n P-1H-2D-P-2H-3C-P-P-P (6.3, 7.3) ', 'xxxx.A.Txxx.Txxx KJ8x.9xxx.KJ9.9x AQT.KQJTx.8.K8xx 9x.8xx.AQxxx.AQJ 0.72192 \\n P-1H-2D-P-2H-3C-P-P-3D-P-P-4N-P-5D-P-6H-X-P-P-P (6.9, 7.8)  \\n P-1H-2D-P-2H-3C-P-P-P (8.4, 9.0) ', 'Txxx.8.Q8xx.K8xx KJ8x.9xxx.KJ9.9x Qxx.AQxxx.x.AQJx A9.KJT.ATxxx.Txx 0.71594 \\n P-1H-2D-P-2H-3C-P-P-3D-P-P-4N-P-5D-P-6H-X-P-P-P (5.6, 6.3)  \\n P-1H-2D-P-2H-3C-P-P-P (8.3, 8.7) ', 'Q9xxx.Jx.Q8x.Q8x KJ8x.9xxx.KJ9.9x T.AKQT8.Ax.JTxxx Axx.xx.Txxxx.AKx 0.71193 \\n P-1H-2D-P-2H-3C-P-P-3D-P-P-4H-P-P-P (7.6, 8.8)  \\n P-1H-2D-P-2H-3C-P-P-P (8.3, 9.2) '], 'hcp': [15.3, 12.4, 4.3], 'shape': [2.2, 4.9, 1.3, 4.6, 2.8, 2.2, 5.5, 2.5, 4.2, 1.9, 3.2, 3.8]}\n",
      "{'bid': 'PASS', 'who': 'NN', 'candidates': [{'call': 'PASS', 'insta_score': 0.993}], 'hcp': [12.1, 4.0, 9.3], 'shape': [2.6, 3.0, 5.1, 2.3, 4.6, 2.1, 2.7, 3.7, 3.0, 2.5, 4.3, 3.3]}\n",
      "{'bid': 'PASS', 'who': 'NN', 'candidates': [{'call': 'PASS', 'insta_score': 0.98}], 'hcp': [3.4, 10.0, 14.6], 'shape': [4.5, 2.5, 2.8, 3.3, 3.3, 3.4, 4.0, 2.3, 2.3, 5.1, 1.1, 4.4]}\n",
      "{'bid': 'PASS', 'who': 'Simulation', 'quality': 'Good', 'candidates': [{'call': 'PASS', 'insta_score': 0.724, 'expected_score': 57, 'adjustment': 362}, {'call': '4C', 'insta_score': 0.258, 'expected_score': 46, 'adjustment': 129}], 'samples': ['QTx.Jx.T8xx.QTxx 98xx.AQTx.A9xx.8 AKJ.K9xxx..K9xxx xxx.8x.KQJxx.AJx 0.76740 \\n P-1H-2D-P-2H-3C-P-P-3D-P-P-P (8.5, 9.2)  \\n P-1H-2D-P-2H-3C-P-P-3D-P-P-4C-P-P-P (9.8, 9.7) ', 'QTx.Jx.T8xx.QTxx A8xx.9xx.AQ9x.xx KJx.AQ8xx..AJ8xx 9xx.KTx.KJxxx.K9 0.70076 \\n P-1H-2D-P-2H-3C-P-P-3D-P-P-P (8.3, 8.5)  \\n P-1H-2D-P-2H-3C-P-P-3D-P-P-4C-P-P-P (10.0, 10.3) ', 'QTx.Jx.T8xx.QTxx J8xx.AQ8x.QJxx.x AKx.KT9xx..AJ8xx 9xx.xx.AK9xx.K9x 0.69655 \\n P-1H-2D-P-2H-3C-P-P-3D-P-P-P (8.1, 8.5)  \\n P-1H-2D-P-2H-3C-P-P-3D-P-P-4C-P-P-P (10.4, 10.2) ', 'QTx.Jx.T8xx.QTxx 9xxx.A9x.AQxx.8x Kxx.KT8xx.K.AKJ9 AJ8.Qxx.J9xx.xxx 0.68656 \\n P-1H-2D-P-2H-3C-P-P-3D-P-P-P (6.9, 7.8)  \\n P-1H-2D-P-2H-3C-P-P-3D-P-P-4C-P-P-P (9.4, 9.2) ', 'QTx.Jx.T8xx.QTxx Axxx.QT.Q9xx.Kxx J9x.AK98x.A.AJ9x K8x.xxxx.KJxx.8x 0.68589 \\n P-1H-2D-P-2H-3C-P-P-3D-P-P-P (6.3, 6.8)  \\n P-1H-2D-P-2H-3C-P-P-3D-P-P-4C-P-P-P (10.3, 9.9) ', 'QTx.Jx.T8xx.QTxx 8xxx.9x.AQJx.KJx AKx.AQ8xx.x.A98x J9x.KTxx.K9xx.xx 0.68244 \\n P-1H-2D-P-2H-3C-P-P-3D-P-P-P (6.8, 7.5)  \\n P-1H-2D-P-2H-3C-P-P-3D-P-P-4C-P-P-P (9.7, 9.5) ', 'QTx.Jx.T8xx.QTxx 9xx.Axx.QJ9x.K8x AK.K98xx.x.AJ9xx J8xxx.QTx.AKxx.x 0.68165 \\n P-1H-2D-P-2H-3C-P-P-3D-P-P-P (7.1, 8.0)  \\n P-1H-2D-P-2H-3C-P-P-3D-P-P-4C-4D-P-P-4H-P-P-P (8.4, 8.6) ', 'QTx.Jx.T8xx.QTxx AJ8x.8x.KQxx.J8x Kx.AQxxx.A.K9xxx 9xxx.KT9x.J9xx.A 0.67825 \\n P-1H-2D-P-2H-3C-P-P-3D-P-P-P (8.2, 8.5)  \\n P-1H-2D-P-2H-3C-P-P-3D-P-P-4C-P-P-P (9.6, 9.4) ', 'QTx.Jx.T8xx.QTxx Jxx.Axx.KQJx.9xx A8x.Q98xx.A.AKJx K9xx.KTx.9xxx.8x 0.67606 \\n P-1H-2D-P-2H-3C-P-P-3D-P-P-P (6.9, 7.0)  \\n P-1H-2D-P-2H-3C-P-P-3D-P-P-4C-P-P-P (9.7, 9.9) ', 'QTx.Jx.T8xx.QTxx KJ9x.Qxx.Axxx.8x Axx.AKxxx..KJxxx 8xx.T98.KQJ9x.A9 0.67492 \\n P-1H-2D-P-2H-3C-P-P-3D-P-P-P (7.7, 8.1)  \\n P-1H-2D-P-2H-3C-P-P-3D-P-P-4C-P-P-P (10.3, 10.6) '], 'hcp': [8.5, 14.6, 11.7], 'shape': [4.0, 2.8, 4.0, 2.2, 2.9, 5.1, 0.4, 4.6, 3.2, 3.0, 4.7, 2.0]}\n",
      "['PAD_START', 'PASS', '1H', '2D', 'PASS', '2H', '3C', 'PASS', 'PASS', '3D', 'PASS', 'PASS', 'PASS']\n"
     ]
    }
   ],
   "source": [
    "auction = [\"PAD_START\"] \n",
    "\n",
    "turn_i = 1 # whose turn is it to bid\n",
    "step = 0\n",
    "\n",
    "while not bidding.auction_over(auction):\n",
    "    bid = bidder_bots[turn_i].bid(auction)\n",
    "    if step== 2:\n",
    "        bid.bid='2D'\n",
    "    if step== 7:\n",
    "        bid.bid='PASS'\n",
    "    print(bid.to_dict())\n",
    "    auction.append(bid.bid)\n",
    "    turn_i = (turn_i + 1) % 4  # next player's turn\n",
    "    step += 1\n",
    "print(auction)"
   ]
  }
 ],
 "metadata": {
  "kernelspec": {
   "display_name": "Python 3 (ipykernel)",
   "language": "python",
   "name": "python3"
  },
  "language_info": {
   "codemirror_mode": {
    "name": "ipython",
    "version": 3
   },
   "file_extension": ".py",
   "mimetype": "text/x-python",
   "name": "python",
   "nbconvert_exporter": "python",
   "pygments_lexer": "ipython3",
   "version": "3.11.0"
  }
 },
 "nbformat": 4,
 "nbformat_minor": 5
}
