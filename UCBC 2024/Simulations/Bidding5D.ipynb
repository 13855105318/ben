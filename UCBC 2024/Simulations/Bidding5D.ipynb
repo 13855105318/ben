{
 "cells": [
  {
   "cell_type": "markdown",
   "id": "75d07246",
   "metadata": {},
   "source": [
    "# Bidding\n",
    "\n",
    "This is a tutorial for how to use the bidding engine"
   ]
  },
  {
   "cell_type": "code",
   "execution_count": 1,
   "id": "59a5664c",
   "metadata": {},
   "outputs": [
    {
     "name": "stdout",
     "output_type": "stream",
     "text": [
      "WARNING:tensorflow:From c:\\Python311\\Lib\\site-packages\\tensorflow\\python\\compat\\v2_compat.py:107: disable_resource_variables (from tensorflow.python.ops.variable_scope) is deprecated and will be removed in a future version.\n",
      "Instructions for updating:\n",
      "non-resource variables are not supported in the long term\n"
     ]
    }
   ],
   "source": [
    "import sys\n",
    "sys.path.append('../../src')\n",
    "\n",
    "from nn.models import Models\n",
    "from bots import BotBid\n",
    "from util import hand_to_str\n",
    "from sample import Sample\n",
    "import conf\n",
    "import numpy as np\n",
    "\n",
    "np.set_printoptions(precision=2, suppress=True, linewidth=200)\n",
    "np.random.seed(42)\n"
   ]
  },
  {
   "cell_type": "code",
   "execution_count": 2,
   "id": "44786d5d",
   "metadata": {},
   "outputs": [
    {
     "name": "stdout",
     "output_type": "stream",
     "text": [
      "INFO:tensorflow:Restoring parameters from ..\\Models/NS1EW99-bidding_same-278000\n",
      "INFO:tensorflow:Restoring parameters from ..\\Models/NS1EW99-binfo_same-278000\n",
      "INFO:tensorflow:Restoring parameters from ..\\Models/lead_suit-154000\n",
      "INFO:tensorflow:Restoring parameters from ..\\Models/lead_nt-59000\n",
      "INFO:tensorflow:Restoring parameters from ..\\Models/lr3-1000000\n",
      "INFO:tensorflow:Restoring parameters from ..\\Models/single_dummy-32768000\n",
      "INFO:tensorflow:Restoring parameters from ..\\Models/lefty-1000000\n",
      "INFO:tensorflow:Restoring parameters from ..\\Models/dummy-920000\n",
      "INFO:tensorflow:Restoring parameters from ..\\Models/righty-1000000\n",
      "INFO:tensorflow:Restoring parameters from ..\\Models/decl-1000000\n"
     ]
    }
   ],
   "source": [
    "models = Models.from_conf(conf.load('../Conf/UCBC2024.conf'),'..')   # loading neural networks\n",
    "sampler = Sample.from_conf(conf.load('../Conf/UCBC2024.conf'), False)  # Load sampling strategies\n"
   ]
  },
  {
   "cell_type": "markdown",
   "id": "10d8f2fc",
   "metadata": {},
   "source": [
    "### Running through an example"
   ]
  },
  {
   "cell_type": "code",
   "execution_count": 3,
   "id": "19dbfeb7",
   "metadata": {},
   "outputs": [
    {
     "data": {
      "text/plain": [
       "[{'call': '4D', 'insta_score': 0.114, 'expected_score': -18, 'adjustment': 6},\n",
       " {'call': '3D', 'insta_score': 0.347, 'expected_score': -37, 'adjustment': 17},\n",
       " {'call': 'PASS',\n",
       "  'insta_score': 0.173,\n",
       "  'expected_score': -59,\n",
       "  'adjustment': 9},\n",
       " {'call': '2N', 'insta_score': 0.156, 'expected_score': -75, 'adjustment': 8},\n",
       " {'call': '5D', 'insta_score': 0.136, 'expected_score': -279, 'adjustment': 7}]"
      ]
     },
     "execution_count": 3,
     "metadata": {},
     "output_type": "execute_result"
    }
   ],
   "source": [
    "# East deals, EW vulnerable.\n",
    "vuln_ns, vuln_ew = False, False\n",
    "\n",
    "# you sit West and hold:\n",
    "hand = 'J.J82.A98632.T52'\n",
    "\n",
    "# the auction goes:\n",
    "# (a few words about 'PAD_START':\n",
    "# the auction is padded to dealer North\n",
    "# if North is not dealer, than we have to put in a 'PAD_START' for every seat that was skipped\n",
    "# if East deals we have one pad (because North is skipped)\n",
    "# if South deals we have two pads (because North and East are skipped)\n",
    "# etc.)\n",
    "auction = [\"PAD_START\", \"1H\", \"1N\", \"2S\"]\n",
    "bot_bid = BotBid([vuln_ns, vuln_ew], hand, models, sampler, 0, 1, False)\n",
    "\n",
    "bid = bot_bid.bid(auction)\n",
    "bid.to_dict()['candidates']\n",
    "\n",
    "# what's your bid?"
   ]
  },
  {
   "cell_type": "code",
   "execution_count": 4,
   "id": "ce89b968",
   "metadata": {},
   "outputs": [
    {
     "data": {
      "text/plain": [
       "['J.J8x.A98xxx.Txx A8x.A9xxx.JT.Q8x Qx.KQTx.xxx.AKJx KT9xxxx.x.KQ.9xx 0.73409 \\n 1H-1N-2S-3D-P-P-3S-4D-P-P-P (8.8)  \\n 1H-1N-2S-P-P-X-P-3D-3S-P-P-4D-P-P-P (8.8)  \\n 1H-1N-2S-2N-P-P-P (5.3)  \\n 1H-1N-2S-5D-P-P-X-P-P-P (8.8)  \\n 1H-1N-2S-4D-P-P-P (8.8) ',\n",
       " 'J.J8x.A98xxx.Txx Kxx.KT9xx.x.AJ9x Qx.AQxx.KJx.K8xx AT98xxx.x.QTx.Qx 0.70590 \\n 1H-1N-2S-3D-3S-4D-4S-5D-P-P-X-P-P-P (9.0)  \\n 1H-1N-2S-P-P-X-P-3D-3S-P-P-4D-P-P-P (9.0)  \\n 1H-1N-2S-2N-P-P-P (5.0)  \\n 1H-1N-2S-5D-P-P-X-P-P-P (9.0)  \\n 1H-1N-2S-4D-P-P-P (9.0) ',\n",
       " 'J.J8x.A98xxx.Txx KTx.QT9xx.x.AJxx 8x.AKxx.QJTx.KQx AQ9xxxx.x.Kx.98x 0.62963 \\n 1H-1N-2S-3D-P-P-3S-4D-P-P-4S-P-P-P (9.6)  \\n 1H-1N-2S-P-P-X-P-3D-3S-P-P-4D-P-P-P (9.9)  \\n 1H-1N-2S-2N-P-P-3S-4D-P-P-4S-P-P-P (9.6)  \\n 1H-1N-2S-5D-P-P-X-P-P-P (9.9)  \\n 1H-1N-2S-4D-P-P-4S-P-P-P (9.6) ',\n",
       " 'J.J8x.A98xxx.Txx 9.AQT9xx.KT.Q8xx K8xx.Kx.QJx.AK9x AQTxxxx.xx.xx.Jx 0.61171 \\n 1H-1N-2S-3D-3H-P-4H-P-P-P (8.2)  \\n 1H-1N-2S-P-3H-P-4H-P-P-P (8.2)  \\n 1H-1N-2S-2N-P-P-P (7.0)  \\n 1H-1N-2S-5D-P-P-X-P-P-P (9.2)  \\n 1H-1N-2S-4D-4H-P-P-P (8.2) ',\n",
       " 'J.J8x.A98xxx.Txx 9.QTxxxxx.QT.AKx ATxx.AK9.Kx.J8xx KQ8xxxx..Jxx.Q9x 0.60898 \\n 1H-1N-2S-3D-4H-P-4S-P-P-P (8.0)  \\n 1H-1N-2S-P-4H-P-P-P (6.2)  \\n 1H-1N-2S-2N-3H-P-4S-P-P-P (8.0)  \\n 1H-1N-2S-5D-P-P-X-P-P-P (8.1)  \\n 1H-1N-2S-4D-4H-P-P-P (6.2) ',\n",
       " 'J.J8x.A98xxx.Txx 8x.AQTxxx.J.Kxxx Axxx.K9x.KT.AJ8x KQT9xx.x.Qxxx.Q9 0.59944 \\n 1H-1N-2S-3D-P-P-P (8.3)  \\n 1H-1N-2S-P-P-P (8.1)  \\n 1H-1N-2S-2N-P-P-P (6.9)  \\n 1H-1N-2S-5D-P-P-X-P-P-P (8.3)  \\n 1H-1N-2S-4D-P-P-P (8.3) ',\n",
       " 'J.J8x.A98xxx.Txx T8.AQxxx.Tx.A8xx Kxx.K9x.KQJx.KQ9 AQ9xxxx.Tx.x.Jxx 0.59906 \\n 1H-1N-2S-3D-P-P-3S-4D-P-P-P (8.9)  \\n 1H-1N-2S-P-P-P (9.0)  \\n 1H-1N-2S-2N-P-P-P (5.7)  \\n 1H-1N-2S-5D-P-P-X-P-P-P (8.9)  \\n 1H-1N-2S-4D-P-P-P (8.9) ',\n",
       " 'J.J8x.A98xxx.Txx Qx.A9xxxxx.Qx.K9 AK9.KT.KJxx.J8xx T8xxxxx.Q.T.AQxx 0.53479 \\n 1H-1N-2S-3D-4H-P-P-P (7.6)  \\n 1H-1N-2S-P-3H-P-4S-P-P-P (9.2)  \\n 1H-1N-2S-2N-3H-P-4S-P-P-P (9.2)  \\n 1H-1N-2S-5D-P-P-X-P-P-P (8.5)  \\n 1H-1N-2S-4D-P-P-P (8.5) ',\n",
       " 'J.J8x.A98xxx.Txx xx.KQT9xx.x.KQ9x A9x.Axx.KQJx.J8x KQT8xxx.x.Tx.Axx 0.52501 \\n 1H-1N-2S-3D-P-P-3S-4D-P-P-4S-P-P-P (9.5)  \\n 1H-1N-2S-P-P-P (9.5)  \\n 1H-1N-2S-2N-P-P-3S-4D-P-P-4S-P-P-P (9.5)  \\n 1H-1N-2S-5D-P-P-X-P-P-P (8.5)  \\n 1H-1N-2S-4D-P-P-4S-P-P-P (9.5) ',\n",
       " 'J.J8x.A98xxx.Txx 8x.QT9xxxx.KQx.K AKx.AKx.Tx.Q98xx QT9xxxx..Jx.AJxx 0.52229 \\n 1H-1N-2S-3D-4H-P-4S-P-P-P (8.8)  \\n 1H-1N-2S-P-4H-P-P-P (6.6)  \\n 1H-1N-2S-2N-3H-P-4S-P-P-P (8.8)  \\n 1H-1N-2S-5D-P-P-X-P-P-P (7.2)  \\n 1H-1N-2S-4D-4H-P-P-P (6.6) ',\n",
       " 'J.J8x.A98xxx.Txx Qxx.Txxxx.x.AKJx T9.AKQ.KJTx.Q98x AK8xxxx.9x.Qx.xx 0.51351 \\n 1H-1N-2S-3D-P-P-3S-4D-P-P-P (9.7)  \\n 1H-1N-2S-P-P-X-P-3D-3S-P-P-4D-P-P-P (9.7)  \\n 1H-1N-2S-2N-P-P-3S-4D-P-P-P (9.7)  \\n 1H-1N-2S-5D-P-P-X-P-P-P (9.7)  \\n 1H-1N-2S-4D-P-P-P (9.7) ',\n",
       " 'J.J8x.A98xxx.Txx Ax.AQ9xxx.xxx.8x 8xxx.KTx.KJ.AKJx KQT9xx.x.QT.Q9xx 0.48892 \\n 1H-1N-2S-3D-P-P-P (8.9)  \\n 1H-1N-2S-P-3H-P-P-4D-X-P-P-P (8.9)  \\n 1H-1N-2S-2N-P-P-P (5.2)  \\n 1H-1N-2S-5D-P-P-X-P-P-P (8.9)  \\n 1H-1N-2S-4D-P-P-P (8.9) ',\n",
       " 'J.J8x.A98xxx.Txx 8x.AKQTxx.T.Q9xx AKx.xx.KJxx.KJ8x QT9xxxx.9x.Qx.Ax 0.48432 \\n 1H-1N-2S-3D-3H-P-P-4D-P-P-P (9.3)  \\n 1H-1N-2S-P-3H-P-4H-P-P-P (8.8)  \\n 1H-1N-2S-2N-P-P-P (5.5)  \\n 1H-1N-2S-5D-P-P-X-P-P-P (9.3)  \\n 1H-1N-2S-4D-4H-P-P-P (8.8) ',\n",
       " 'J.J8x.A98xxx.Txx A8x.KTxxx.Tx.Kxx Qxx.Axx.KQJ.QJ98 KT9xxx.Q9.xx.Axx 0.47869 \\n 1H-1N-2S-3D-P-P-P (8.3)  \\n 1H-1N-2S-P-P-P (9.1)  \\n 1H-1N-2S-2N-P-P-P (5.5)  \\n 1H-1N-2S-5D-P-P-X-P-P-P (8.3)  \\n 1H-1N-2S-4D-P-P-X-P-P-P (8.3) ',\n",
       " 'J.J8x.A98xxx.Txx xx.AQT9xx.JTx.Ax KQx.Kxx.KQ.Q98xx AT98xxx.x.xx.KJx 0.46409 \\n 1H-1N-2S-3D-3H-P-4S-P-P-P (9.5)  \\n 1H-1N-2S-P-3H-P-4S-P-P-P (9.5)  \\n 1H-1N-2S-2N-P-P-3S-4D-P-P-P (6.7)  \\n 1H-1N-2S-5D-P-P-X-P-P-P (6.7)  \\n 1H-1N-2S-4D-P-P-P (6.7) ',\n",
       " 'J.J8x.A98xxx.Txx T.AK9xxx.QTx.J8x AK8x.Qx.Jxx.AQxx Q9xxxxx.Tx.K.K9x 0.45410 \\n 1H-1N-2S-3D-P-P-P (8.1)  \\n 1H-1N-2S-P-2N-P-3S-P-4H-P-4S-P-P-P (7.7)  \\n 1H-1N-2S-2N-P-P-P (7.2)  \\n 1H-1N-2S-5D-P-P-X-P-P-P (8.1)  \\n 1H-1N-2S-4D-P-P-P (8.1) ',\n",
       " 'J.J8x.A98xxx.Txx QT.Qxxxx.KJx.Kxx A8x.AT9x.QTx.AJ8 K9xxxxx.K.x.Q9xx 0.44688 \\n 1H-1N-2S-3D-P-P-3S-4D-P-P-P (9.4)  \\n 1H-1N-2S-P-P-P (8.6)  \\n 1H-1N-2S-2N-P-P-P (7.3)  \\n 1H-1N-2S-5D-P-P-X-P-P-P (9.4)  \\n 1H-1N-2S-4D-P-P-P (9.4) ',\n",
       " 'J.J8x.A98xxx.Txx K8.9xxxx.QJx.AJ9 Axx.AKQT.Kxx.8xx QT9xxxx.x.T.KQxx 0.44107 \\n 1H-1N-2S-3D-P-P-3S-4D-P-P-P (9.2)  \\n 1H-1N-2S-P-P-P (9.7)  \\n 1H-1N-2S-2N-P-P-P (7.2)  \\n 1H-1N-2S-5D-P-P-X-P-P-P (9.2)  \\n 1H-1N-2S-4D-P-P-P (9.2) ',\n",
       " 'J.J8x.A98xxx.Txx 9xx.AQxxxx.KJx.9 KTx.KT9.QT.AKJ8x AQ8xxx.x.xx.Qxxx 0.43799 \\n 1H-1N-2S-3D-P-P-P (8.2)  \\n 1H-1N-2S-P-3C-P-3S-P-4S-P-P-P (9.1)  \\n 1H-1N-2S-2N-P-3C-P-P-P (8.1)  \\n 1H-1N-2S-5D-P-P-X-P-P-P (8.2)  \\n 1H-1N-2S-4D-P-P-P (8.2) ',\n",
       " 'J.J8x.A98xxx.Txx .AKT9xxx.KTx.9xx AKx.Qxx.Jx.AQJxx QT98xxxxx..Qx.K8 0.42937 \\n 1H-1N-2S-3D-4H-P-4S-P-P-P (9.2)  \\n 1H-1N-2S-P-4H-P-4S-P-P-P (9.2)  \\n 1H-1N-2S-2N-4H-P-4S-P-P-P (9.2)  \\n 1H-1N-2S-5D-P-P-P (7.0)  \\n 1H-1N-2S-4D-4H-P-P-P (7.3) ']"
      ]
     },
     "execution_count": 4,
     "metadata": {},
     "output_type": "execute_result"
    }
   ],
   "source": [
    "bid.samples"
   ]
  },
  {
   "cell_type": "code",
   "execution_count": 5,
   "id": "bfe98f56",
   "metadata": {},
   "outputs": [
    {
     "data": {
      "text/plain": [
       "[{'call': 'PASS',\n",
       "  'insta_score': 0.559,\n",
       "  'expected_score': 342,\n",
       "  'adjustment': 279},\n",
       " {'call': '5D',\n",
       "  'insta_score': 0.354,\n",
       "  'expected_score': -1948,\n",
       "  'adjustment': 177}]"
      ]
     },
     "execution_count": 5,
     "metadata": {},
     "output_type": "execute_result"
    }
   ],
   "source": [
    "auction = [\"PAD_START\", \"PAD_START\", \"1H\", \"1N\", \"2S\",\"3D\",\"3S\",\"PASS\",\"4S\"]\n",
    "bid = bot_bid.bid(auction)\n",
    "\n",
    "bid.to_dict()['candidates']"
   ]
  },
  {
   "cell_type": "markdown",
   "id": "ad120123",
   "metadata": {},
   "source": [
    "in the output above:\n",
    "- `insta_score` reflects what the neural network prefers to bid\n",
    "- `expected_score` is based on what you expect to score on difference samples (for example, 70% of the time you are making and 30% of the time you are going one off, then the expected score is 0.7 * 620 - 0.3 * 100)"
   ]
  },
  {
   "cell_type": "markdown",
   "id": "051ff121",
   "metadata": {},
   "source": [
    "### Samples consistent with the auction so far\n",
    "\n",
    "Above we said that we are computig expected scores on samples consistent with the auction so far.\n",
    "\n",
    "How do we get these samples?\n",
    "\n",
    "We get some samples in the response we get from the bot (i.e `bid.samples`)"
   ]
  },
  {
   "cell_type": "code",
   "execution_count": 6,
   "id": "55b647a5",
   "metadata": {},
   "outputs": [
    {
     "data": {
      "text/plain": [
       "['J.J8x.A98xxx.Txx xxx.AKQTx.xx.K8x AK.xxx.KQJx.Q9xx QT98xxx.9x.T.AJx 0.31800 \\n 1H-1N-2S-3D-3S-P-4S-P-P-P (2.1)  \\n 1H-1N-2S-3D-3S-P-4S-5D-X-P-P-P (4.6) ',\n",
       " 'J.J8x.A98xxx.Txx AQx.AT9xx.xx.98x Tx.KQx.KJTx.AKxx K98xxxx.xx.Q.QJx 0.31280 \\n 1H-1N-2S-3D-3S-P-4S-P-P-P (4.0)  \\n 1H-1N-2S-3D-3S-P-4S-5D-X-P-P-P (2.0) ',\n",
       " 'J.J8x.A98xxx.Txx 9xx.AQTxx.Kx.AJx Ax.K9xx.QJTx.KQx KQT8xxx.x.x.98xx 0.30995 \\n 1H-1N-2S-3D-3S-P-4S-P-P-P (2.8)  \\n 1H-1N-2S-3D-3S-P-4S-5D-X-P-P-P (3.0) ',\n",
       " 'J.J8x.A98xxx.Txx Kxx.AKxxx.Jx.98x Ax.QTx.KQTxx.AJx QT98xxx.9x..KQxx 0.30279 \\n 1H-1N-2S-3D-3S-P-4S-P-P-P (2.8)  \\n 1H-1N-2S-3D-3S-P-4S-5D-X-P-P-P (2.9) ',\n",
       " 'J.J8x.A98xxx.Txx Kxx.Kxxxx.xx.A9x T8x.AQ9.KQJx.KJx AQ9xxx.Tx.T.Q8xx 0.29800 \\n 1H-1N-2S-3D-3S-P-4S-P-P-P (4.2)  \\n 1H-1N-2S-3D-3S-P-4S-5D-X-P-P-P (2.7) ',\n",
       " 'J.J8x.A98xxx.Txx T9x.AKTxxx.J.Axx KQ.Q9xx.QTx.KQJ8 A8xxxxx..Kxx.9xx 0.29507 \\n 1H-1N-2S-3D-3S-P-4S-P-P-P (2.6)  \\n 1H-1N-2S-3D-3S-P-4S-5D-X-P-P-P (4.7) ',\n",
       " 'J.J8x.A98xxx.Txx A9x.K9xxx.Q.Q8xx xx.AQTx.KJxx.AKx KQT8xxx.x.Tx.J9x 0.29490 \\n 1H-1N-2S-3D-3S-P-4S-P-P-P (4.6)  \\n 1H-1N-2S-3D-3S-P-4S-5D-X-P-P-P (1.1) ',\n",
       " 'J.J8x.A98xxx.Txx KT9.9xxxxx.QJx.A Ax.AKQT.Kx.98xxx Q8xxxxx..Tx.KQJx 0.28855 \\n 1H-1N-2S-3D-3S-P-4S-P-P-P (2.8)  \\n 1H-1N-2S-3D-3S-P-4S-5D-X-P-P-P (3.5) ',\n",
       " 'J.J8x.A98xxx.Txx QTx.AQTxx.K.J9xx Kx.xxx.QJTx.AKQx A98xxxx.K9.xx.8x 0.28842 \\n 1H-1N-2S-3D-3S-P-4S-P-P-P (2.7)  \\n 1H-1N-2S-3D-3S-P-4S-5D-X-P-P-P (3.4) ',\n",
       " 'J.J8x.A98xxx.Txx 8xx.A9xxx.KT.Kxx KTx.KQTx.QJx.AJ8 AQ9xxx.x.xx.Q9xx 0.24154 \\n 1H-1N-2S-3D-3S-P-4S-P-P-P (3.0)  \\n 1H-1N-2S-3D-3S-P-4S-5D-X-P-P-P (3.9) ']"
      ]
     },
     "execution_count": 6,
     "metadata": {},
     "output_type": "execute_result"
    }
   ],
   "source": [
    "bid.samples"
   ]
  },
  {
   "cell_type": "markdown",
   "id": "7d0dd8f5",
   "metadata": {},
   "source": [
    "each row is one sample. the hands are in the order: N E S W\n",
    "\n",
    "(West always has the same cards because it's your hand and it's known to you)"
   ]
  },
  {
   "cell_type": "code",
   "execution_count": 7,
   "id": "7101e514",
   "metadata": {},
   "outputs": [
    {
     "name": "stdout",
     "output_type": "stream",
     "text": [
      "J.J8x.A98xxx.Txx 8xxx.9xx.Qx.J8xx AKQ9xx.AQ.x.AKQx Tx.KTxxx.KJTx.9x\n",
      "J.J8x.A98xxx.Txx 98xx.KT9x.Qx.K9x AKQxx.AQ.Tx.AQJx Txx.xxxx.KJx.8xx\n",
      "J.J8x.A98xxx.Txx 9xxx.QTxxx.Qx.Qx AKQ8xx.AKx.x.AK9 Tx.9x.KJTx.J8xxx\n",
      "J.J8x.A98xxx.Txx T9x.QTxx.KQ.K9xx AKQ8xx.AK9.J.AJx xxx.xxx.Txxx.Q8x\n",
      "J.J8x.A98xxx.Txx Kx.Txxx.Txx.K9xx AQT98x.AKQ9.J.AJ xxxx.xx.KQx.Q8xx\n",
      "J.J8x.A98xxx.Txx 8xxx.Txx.KJT.AJx AKQ9x.AKQx.Qx.Q9 Txx.9xx.xx.K8xxx\n",
      "J.J8x.A98xxx.Txx xxx.Txx.Kxx.A9xx AKTxx.AKQ9.J.KQx Q98x.xxx.QTx.J8x\n",
      "J.J8x.A98xxx.Txx Kx.KQT9xx.KTx.9x AQxxxx.A.QJ.AKQx T98x.xxx.xx.J8xx\n",
      "J.J8x.A98xxx.Txx Q9x.Q9xxx.xx.9xx ATxxx.AKT.KJ.AQJ K8xx.xx.QTx.K8xx\n",
      "J.J8x.A98xxx.Txx 8xx.Kxxx.Jx.KJ8x AKQxxx.AQx.Kx.AQ T9x.T9x.QTx.9xxx\n"
     ]
    }
   ],
   "source": [
    "# we got some samples above. if we want more, we can always get more\n",
    "\n",
    "sample_hands, sorted_score, p_hcp, p_shp, good_quality = bot_bid.sample_hands_for_auction([\"PAD_START\", \"PAD_START\", \"PAD_START\", \"PASS\", \"1N\", \"PASS\", \"3S\",\"PASS\"],0)\n",
    "print(\"Good quality:\", good_quality)\n",
    "for i in range(sample_hands.shape[0]):\n",
    "    print(f'{hand_to_str(sample_hands[i, 0, :])} {hand_to_str(sample_hands[i, 1, :])} {hand_to_str(sample_hands[i, 2, :])} {hand_to_str(sample_hands[i, 3, :])}')"
   ]
  }
 ],
 "metadata": {
  "kernelspec": {
   "display_name": "Python 3 (ipykernel)",
   "language": "python",
   "name": "python3"
  },
  "language_info": {
   "codemirror_mode": {
    "name": "ipython",
    "version": 3
   },
   "file_extension": ".py",
   "mimetype": "text/x-python",
   "name": "python",
   "nbconvert_exporter": "python",
   "pygments_lexer": "ipython3",
   "version": "3.11.0"
  }
 },
 "nbformat": 4,
 "nbformat_minor": 5
}
