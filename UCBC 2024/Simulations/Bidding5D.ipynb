{
 "cells": [
  {
   "cell_type": "markdown",
   "id": "75d07246",
   "metadata": {},
   "source": [
    "# Bidding\n",
    "\n",
    "This is a tutorial for how to use the bidding engine"
   ]
  },
  {
   "cell_type": "code",
   "execution_count": 1,
   "id": "59a5664c",
   "metadata": {},
   "outputs": [
    {
     "name": "stdout",
     "output_type": "stream",
     "text": [
      "WARNING:tensorflow:From c:\\Python311\\Lib\\site-packages\\tensorflow\\python\\compat\\v2_compat.py:107: disable_resource_variables (from tensorflow.python.ops.variable_scope) is deprecated and will be removed in a future version.\n",
      "Instructions for updating:\n",
      "non-resource variables are not supported in the long term\n"
     ]
    }
   ],
   "source": [
    "import sys\n",
    "sys.path.append('../../src')\n",
    "\n",
    "from nn.models import Models\n",
    "from bots import BotBid\n",
    "from util import hand_to_str\n",
    "from sample import Sample\n",
    "import conf\n",
    "import numpy as np\n",
    "\n",
    "np.set_printoptions(precision=2, suppress=True, linewidth=200)\n",
    "np.random.seed(42)\n"
   ]
  },
  {
   "cell_type": "code",
   "execution_count": 2,
   "id": "44786d5d",
   "metadata": {},
   "outputs": [
    {
     "name": "stdout",
     "output_type": "stream",
     "text": [
      "INFO:tensorflow:Restoring parameters from ..\\Models/NS1EW99-bidding-3961000\n",
      "INFO:tensorflow:Restoring parameters from ..\\Models/NS1EW99-binfo-1887000\n",
      "INFO:tensorflow:Restoring parameters from ..\\Models/lead_suit-154000\n",
      "INFO:tensorflow:Restoring parameters from ..\\Models/lead_nt-59000\n",
      "INFO:tensorflow:Restoring parameters from ..\\Models/single_dummy-1562000\n",
      "INFO:tensorflow:Restoring parameters from ..\\Models/lefty-1000000\n",
      "INFO:tensorflow:Restoring parameters from ..\\Models/dummy-920000\n",
      "INFO:tensorflow:Restoring parameters from ..\\Models/righty-1000000\n",
      "INFO:tensorflow:Restoring parameters from ..\\Models/decl-1000000\n"
     ]
    }
   ],
   "source": [
    "models = Models.from_conf(conf.load('../Conf/UCBC2024.conf'),'..')   # loading neural networks\n",
    "sampler = Sample.from_conf(conf.load('../Conf/UCBC2024.conf'), False)  # Load sampling strategies\n"
   ]
  },
  {
   "cell_type": "markdown",
   "id": "10d8f2fc",
   "metadata": {},
   "source": [
    "### Running through an example"
   ]
  },
  {
   "cell_type": "code",
   "execution_count": 3,
   "id": "19dbfeb7",
   "metadata": {},
   "outputs": [
    {
     "data": {
      "text/plain": [
       "[{'call': '3D', 'insta_score': 0.365, 'expected_score': -80, 'adjustment': 18},\n",
       " {'call': 'PASS',\n",
       "  'insta_score': 0.266,\n",
       "  'expected_score': -81,\n",
       "  'adjustment': 13},\n",
       " {'call': 'X', 'insta_score': 0.123, 'expected_score': -140, 'adjustment': 6},\n",
       " {'call': '4D', 'insta_score': 0.128, 'expected_score': -178, 'adjustment': 6}]"
      ]
     },
     "execution_count": 3,
     "metadata": {},
     "output_type": "execute_result"
    }
   ],
   "source": [
    "# East deals, EW vulnerable.\n",
    "vuln_ns, vuln_ew = False, False\n",
    "\n",
    "# you sit West and hold:\n",
    "hand = 'J.J82.A98632.T52'\n",
    "\n",
    "# the auction goes:\n",
    "# (a few words about 'PAD_START':\n",
    "# the auction is padded to dealer North\n",
    "# if North is not dealer, than we have to put in a 'PAD_START' for every seat that was skipped\n",
    "# if East deals we have one pad (because North is skipped)\n",
    "# if South deals we have two pads (because North and East are skipped)\n",
    "# etc.)\n",
    "auction = [\"PAD_START\", \"1H\", \"1N\", \"2S\"]\n",
    "bot_bid = BotBid([vuln_ns, vuln_ew], hand, models, sampler, 0, False)\n",
    "\n",
    "bid = bot_bid.bid(auction)\n",
    "bid.to_dict()['candidates']\n",
    "\n",
    "# what's your bid?"
   ]
  },
  {
   "cell_type": "code",
   "execution_count": 4,
   "metadata": {},
   "outputs": [
    {
     "data": {
      "text/plain": [
       "['J.J8x.A98xxx.Txx A9x.Kxxxx.Tx.Kxx K8.AQT.Jxx.AJ8xx QTxxxxx.9x.KQ.Q9 0.43463 \\n 1H-1N-2S-3D-P-P-4S-P-P-P (7.6)  \\n 1H-1N-2S-P-P-3C-3S-4D-P-P-P (10.5)  \\n 1H-1N-2S-4D-P-P-P (10.5)  \\n 1H-1N-2S-X-P-3C-X-P-P-P (9.4) ',\n",
       " 'J.J8x.A98xxx.Txx K.AQT9xx.JT.J9xx Q9xx.Kx.KQx.KQ8x AT8xxxx.xx.xx.Ax 0.39905 \\n 1H-1N-2S-3D-3H-P-P-4D-P-P-P (9.3)  \\n 1H-1N-2S-P-3H-P-P-4D-P-P-P (9.3)  \\n 1H-1N-2S-4D-P-P-P (9.3)  \\n 1H-1N-2S-X-3H-P-P-4D-X-P-P-P (9.3) ',\n",
       " 'J.J8x.A98xxx.Txx T8x.AKxxxx.T.QJx Kx.QT9x.QJxx.AK9 AQ9xxxx..Kx.8xxx 0.38197 \\n 1H-1N-2S-3D-3H-P-4S-P-P-P (10.0)  \\n 1H-1N-2S-P-3D-P-4S-P-P-P (10.0)  \\n 1H-1N-2S-4D-P-4H-X-P-P-P (6.1)  \\n 1H-1N-2S-X-P-P-P (10.0) ',\n",
       " 'J.J8x.A98xxx.Txx 98.AKTxxx.Tx.QJx AKx.Q9x.KQJx.xxx QTxxxxx.x.x.AK98 0.35863 \\n 1H-1N-2S-3D-3H-P-4S-P-P-P (10.0)  \\n 1H-1N-2S-P-3H-P-4S-P-P-P (10.0)  \\n 1H-1N-2S-4D-P-P-P (7.7)  \\n 1H-1N-2S-X-3H-P-4S-P-P-P (10.0) ',\n",
       " 'J.J8x.A98xxx.Txx A.KQTxxx.Jx.J9xx KT8x.A9x.KQx.A8x Q9xxxxx.x.Tx.KQx 0.35815 \\n 1H-1N-2S-3D-P-P-3S-4D-P-P-P (9.1)  \\n 1H-1N-2S-P-3H-P-P-4D-P-P-P (9.1)  \\n 1H-1N-2S-4D-P-4H-X-P-P-P (5.9)  \\n 1H-1N-2S-X-3H-P-P-4D-P-P-P (9.1) ',\n",
       " 'J.J8x.A98xxx.Txx Qx.AKQTxxx.x.xxx A9x.9x.KQJx.KQ8x KT8xxxx.x.Tx.AJ9 0.35181 \\n 1H-1N-2S-3D-4H-P-P-P (9.7)  \\n 1H-1N-2S-P-4H-P-P-P (9.7)  \\n 1H-1N-2S-4D-4H-P-P-P (9.7)  \\n 1H-1N-2S-X-4H-P-P-P (9.7) ',\n",
       " 'J.J8x.A98xxx.Txx Tx.AQxxxx.Tx.Axx A8xx.K9.KJxx.KJx KQ9xxx.Tx.Q.Q98x 0.32955 \\n 1H-1N-2S-3D-3H-P-P-4D-P-P-P (10.0)  \\n 1H-1N-2S-P-3H-P-P-4D-X-P-P-P (10.0)  \\n 1H-1N-2S-4D-P-P-P (10.0)  \\n 1H-1N-2S-X-3H-P-P-4D-P-P-P (10.0) ',\n",
       " 'J.J8x.A98xxx.Txx Ax.QT9xxx.Jx.AJx T8x.AKx.KQTx.K8x KQ9xxxx.x.x.Q9xx 0.32343 \\n 1H-1N-2S-3D-3H-P-4S-P-P-P (9.9)  \\n 1H-1N-2S-P-3H-P-4S-P-P-P (9.9)  \\n 1H-1N-2S-4D-P-4H-X-P-P-P (5.8)  \\n 1H-1N-2S-X-3H-P-4S-P-P-P (9.9) ',\n",
       " 'J.J8x.A98xxx.Txx Qx.AQT9xx.x.QJ9x KTx.xx.KQxx.AKxx A98xxxx.Kx.JT.8x 0.31673 \\n 1H-1N-2S-3D-3H-P-P-4D-P-P-P (9.3)  \\n 1H-1N-2S-P-4H-P-P-P (9.4)  \\n 1H-1N-2S-4D-4H-P-P-P (9.4)  \\n 1H-1N-2S-X-3H-P-P-4D-X-P-P-P (9.3) ',\n",
       " 'J.J8x.A98xxx.Txx Q8x.Qxxxx.Qx.KQJ Kx.AT9.KJTxx.A98 AT9xxxx.Kx..xxxx 0.30422 \\n 1H-1N-2S-3D-P-P-3S-4D-P-P-P (9.6)  \\n 1H-1N-2S-P-P-3D-3S-4D-P-P-P (9.5)  \\n 1H-1N-2S-4D-P-P-P (9.6)  \\n 1H-1N-2S-X-P-P-P (9.9) ',\n",
       " 'J.J8x.A98xxx.Txx xx.K9xxxx.T.AKJ8 KQ8.ATx.KQxx.Q9x AT9xxxx.Q.Jx.xxx 0.29089 \\n 1H-1N-2S-3D-3H-P-P-4D-P-P-P (8.5)  \\n 1H-1N-2S-P-3H-P-P-4D-P-P-P (8.5)  \\n 1H-1N-2S-4D-4H-P-P-P (8.0)  \\n 1H-1N-2S-X-3H-P-P-4D-P-P-P (8.5) ',\n",
       " 'J.J8x.A98xxx.Txx Txx.KQT9xx.T.KQJ Kx.Axxx.KJxx.A8x AQ98xxx..Qx.9xxx 0.26388 \\n 1H-1N-2S-3D-3H-P-4S-P-P-P (10.1)  \\n 1H-1N-2S-P-3D-P-4S-P-P-P (10.1)  \\n 1H-1N-2S-4D-4H-P-P-P (7.5)  \\n 1H-1N-2S-X-P-P-P (10.1) ',\n",
       " 'J.J8x.A98xxx.Txx T9.KQT9xx.x.AJ98 Axx.Ax.KTxx.KQxx KQ8xxxx.xx.QJ.xx 0.26233 \\n 1H-1N-2S-3D-3H-P-P-4D-P-P-P (10.7)  \\n 1H-1N-2S-P-4H-P-P-P (7.6)  \\n 1H-1N-2S-4D-P-P-P (10.7)  \\n 1H-1N-2S-X-4H-P-P-P (7.6) ',\n",
       " 'J.J8x.A98xxx.Txx x.AKxxx.Txx.AJ9x AQTx.T9x.KQJx.Kx K98xxxx.Qx..Q8xx 0.25313 \\n 1H-1N-2S-3D-P-P-3S-4D-P-P-P (8.5)  \\n 1H-1N-2S-P-P-P (9.0)  \\n 1H-1N-2S-4D-P-P-P (8.5)  \\n 1H-1N-2S-X-P-3D-P-P-P (8.6) ']"
      ]
     },
     "execution_count": 4,
     "metadata": {},
     "output_type": "execute_result"
    }
   ],
   "source": [
    "bid.samples"
   ]
  },
  {
   "cell_type": "code",
   "execution_count": 5,
   "id": "bfe98f56",
   "metadata": {},
   "outputs": [
    {
     "data": {
      "text/plain": [
       "[{'call': 'PASS',\n",
       "  'insta_score': 0.554,\n",
       "  'expected_score': -249,\n",
       "  'adjustment': 28},\n",
       " {'call': 'X', 'insta_score': 0.404, 'expected_score': -333, 'adjustment': 20}]"
      ]
     },
     "execution_count": 5,
     "metadata": {},
     "output_type": "execute_result"
    }
   ],
   "source": [
    "auction = [\"PAD_START\", \"PAD_START\", \"1H\", \"1N\", \"2S\",\"3D\",\"3S\",\"PASS\",\"4S\"]\n",
    "bid = bot_bid.bid(auction)\n",
    "\n",
    "bid.to_dict()['candidates']"
   ]
  },
  {
   "cell_type": "markdown",
   "id": "ad120123",
   "metadata": {},
   "source": [
    "in the output above:\n",
    "- `insta_score` reflects what the neural network prefers to bid\n",
    "- `expected_score` is based on what you expect to score on difference samples (for example, 70% of the time you are making and 30% of the time you are going one off, then the expected score is 0.7 * 620 - 0.3 * 100)"
   ]
  },
  {
   "cell_type": "markdown",
   "id": "051ff121",
   "metadata": {},
   "source": [
    "### Samples consistent with the auction so far\n",
    "\n",
    "Above we said that we are computig expected scores on samples consistent with the auction so far.\n",
    "\n",
    "How do we get these samples?\n",
    "\n",
    "We get some samples in the response we get from the bot (i.e `bid.samples`)"
   ]
  },
  {
   "cell_type": "code",
   "execution_count": 6,
   "id": "55b647a5",
   "metadata": {},
   "outputs": [
    {
     "data": {
      "text/plain": [
       "['QT9xxxx..KT.Q8xx J.J8x.A98xxx.Txx Axx.ATxxx.xx.KJx K8.KQ9xx.QJx.A9x 0.30275 \\n 1H-1N-2S-3D-3S-P-4S-P-P-P (10.2)  \\n 1H-1N-2S-3D-3S-P-4S-X-P-P-P (10.2) ',\n",
       " 'AQ9xxx.x.Q.J8xxx J.J8x.A98xxx.Txx Txx.KQ9xx.x.KQ9x K8x.ATxx.KJTxx.A 0.25517 \\n 1H-1N-2S-3D-3S-P-4S-P-P-P (9.2)  \\n 1H-1N-2S-3D-3S-P-4S-X-P-P-P (9.2) ',\n",
       " 'AT9xxx.x.KJTx.8x J.J8x.A98xxx.Txx K8xx.KT9xx.x.Axx Qx.AQxx.Qx.KQJ9x 0.24481 \\n 1H-1N-2S-3D-3S-P-4S-P-P-P (9.9)  \\n 1H-1N-2S-3D-3S-P-4S-X-P-P-P (9.9) ',\n",
       " 'AT9xxx.x.x.AJ9xx J.J8x.A98xxx.Txx KQ8x.KQTxxx.x.8x xx.A9x.KQJTx.KQx 0.24111 \\n 1H-1N-2S-3D-3S-P-4S-P-P-P (11.4)  \\n 1H-1N-2S-3D-3S-P-4S-X-P-P-P (11.4) ',\n",
       " 'KTxxxx.x.KQxx.xx J.J8x.A98xxx.Txx Qxx.KQTxx.x.KJxx A98.A9xx.JT.AQ98 0.23162 \\n 1H-1N-2S-3D-3S-P-4S-P-P-P (7.7)  \\n 1H-1N-2S-3D-3S-P-4S-X-P-P-P (7.7) ',\n",
       " 'AKT8xxx.x.xxx.xx J.J8x.A98xxx.Txx xxx.Q9xxxx..AKQ9 Q9.AKT.KQJT.J8xx 0.21738 \\n 1H-1N-2S-3D-3S-P-4S-P-P-P (10.6)  \\n 1H-1N-2S-3D-3S-P-4S-X-P-P-P (10.6) ',\n",
       " 'Qxxxxx.A.Qx.J8xx J.J8x.A98xxx.Txx KTx.QTxxx.x.KQ9x A98.K9xx.KJTx.Ax 0.20631 \\n 1H-1N-2S-3D-3S-P-4S-P-P-P (9.4)  \\n 1H-1N-2S-3D-3S-P-4S-X-P-P-P (9.4) ',\n",
       " 'QT8xxxx..T.KQxxx J.J8x.A98xxx.Txx Kxx.KTxxxx.J.AJx A9.AQ9x.KQxxx.98 0.19191 \\n 1H-1N-2S-3D-3S-P-4S-P-P-P (11.0)  \\n 1H-1N-2S-3D-3S-P-4S-X-P-P-P (11.0) ',\n",
       " 'KT8xxx.9x.Tx.AJx J.J8x.A98xxx.Txx AQx.KTxxxx.Jx.9x 9xx.AQ.KQx.KQ8xx 0.18954 \\n 1H-1N-2S-3D-3S-P-4S-P-P-P (8.6)  \\n 1H-1N-2S-3D-3S-P-4S-X-P-P-P (8.6) ',\n",
       " 'Q98xxxxx..QT.K8x J.J8x.A98xxx.Txx AKx.Txxxxx.Kx.9x T.AKQ9.Jxx.AQJxx 0.18436 \\n 1H-1N-2S-3D-3S-P-4S-P-P-P (10.6)  \\n 1H-1N-2S-3D-3S-P-4S-X-P-P-P (10.6) ']"
      ]
     },
     "execution_count": 6,
     "metadata": {},
     "output_type": "execute_result"
    }
   ],
   "source": [
    "bid.samples"
   ]
  },
  {
   "cell_type": "markdown",
   "id": "7d0dd8f5",
   "metadata": {},
   "source": [
    "each row is one sample. the hands are in the order: N E S W\n",
    "\n",
    "(West always has the same cards because it's your hand and it's known to you)"
   ]
  },
  {
   "cell_type": "code",
   "execution_count": 7,
   "id": "7101e514",
   "metadata": {},
   "outputs": [
    {
     "name": "stdout",
     "output_type": "stream",
     "text": [
      "J.J8x.A98xxx.Txx Q8xx.xxx.KQ.A8xx AKT9xx.AKQx.JT.K xx.T9x.xxx.QJ9xx\n",
      "J.J8x.A98xxx.Txx x.9x.JTx.AJ98xxx AKQTxx.AKxx.xx.K 98xxx.QTxx.KQ.Qx\n",
      "J.J8x.A98xxx.Txx 8xxx.9.Txx.AJ9xx AQT9xx.AKTx.KJ.Q Kx.Qxxxx.Qx.K8xx\n",
      "J.J8x.A98xxx.Txx 98x.T9x.JTx.AQxx AKQTxxx.AKQx.x.J xx.xxx.KQx.K98xx\n",
      "J.J8x.A98xxx.Txx 8xx.Q9x.QJx.J8xx AKQxxxx.AKTx.K.x T9.xxx.Txx.AKQ9x\n",
      "J.J8x.A98xxx.Txx QTx.T9xxx.xx.KQJ AK98xx.AKQx.K.xx xxx.x.QJTx.A98xx\n",
      "J.J8x.A98xxx.Txx T.QTxx.Txx.KQ8xx AQxxxxx.AK9x.K.A K98x.xx.QJx.J9xx\n",
      "J.J8x.A98xxx.Txx KTxx.Qxx.JTxx.9x AQ98xx.AK9x..AKx xx.Txx.KQx.QJ8xx\n",
      "J.J8x.A98xxx.Txx 9xx.Txx.KJxx.AKx AKQ8xx.AKQx..Q98 Txx.9xx.QTx.Jxxx\n",
      "J.J8x.A98xxx.Txx K9xx.T9x.Qx.Jxxx AQTxxxx.AKxx.K.K 8.Qxx.JTxx.AQ98x\n"
     ]
    }
   ],
   "source": [
    "# we got some samples above. if we want more, we can always get more\n",
    "\n",
    "sample_hands, sorted_score, p_hcp, p_shp = bot_bid.sample_hands_auction([\"PAD_START\", \"PAD_START\", \"PAD_START\", \"PASS\", \"1N\", \"PASS\", \"3S\",\"PASS\"])\n",
    "\n",
    "for i in range(sample_hands.shape[0]):\n",
    "    print(f'{hand_to_str(sample_hands[i, 0, :])} {hand_to_str(sample_hands[i, 1, :])} {hand_to_str(sample_hands[i, 2, :])} {hand_to_str(sample_hands[i, 3, :])}')"
   ]
  }
 ],
 "metadata": {
  "kernelspec": {
   "display_name": "Python 3 (ipykernel)",
   "language": "python",
   "name": "python3"
  },
  "language_info": {
   "codemirror_mode": {
    "name": "ipython",
    "version": 3
   },
   "file_extension": ".py",
   "mimetype": "text/x-python",
   "name": "python",
   "nbconvert_exporter": "python",
   "pygments_lexer": "ipython3",
   "version": "3.11.0"
  }
 },
 "nbformat": 4,
 "nbformat_minor": 5
}
