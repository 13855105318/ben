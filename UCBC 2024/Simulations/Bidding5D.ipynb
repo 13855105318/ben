{
 "cells": [
  {
   "cell_type": "markdown",
   "id": "75d07246",
   "metadata": {},
   "source": [
    "# Bidding\n",
    "\n",
    "This is a tutorial for how to use the bidding engine"
   ]
  },
  {
   "cell_type": "code",
   "execution_count": 1,
   "id": "59a5664c",
   "metadata": {},
   "outputs": [
    {
     "name": "stdout",
     "output_type": "stream",
     "text": [
      "WARNING:tensorflow:From c:\\Python311\\Lib\\site-packages\\tensorflow\\python\\compat\\v2_compat.py:107: disable_resource_variables (from tensorflow.python.ops.variable_scope) is deprecated and will be removed in a future version.\n",
      "Instructions for updating:\n",
      "non-resource variables are not supported in the long term\n"
     ]
    }
   ],
   "source": [
    "import sys\n",
    "sys.path.append('../../src')\n",
    "\n",
    "from nn.models import Models\n",
    "from bots import BotBid\n",
    "from util import hand_to_str\n",
    "from sample import Sample\n",
    "import conf\n",
    "import numpy as np\n",
    "\n",
    "np.set_printoptions(precision=2, suppress=True, linewidth=200)\n",
    "np.random.seed(42)\n"
   ]
  },
  {
   "cell_type": "code",
   "execution_count": 2,
   "id": "44786d5d",
   "metadata": {},
   "outputs": [
    {
     "name": "stdout",
     "output_type": "stream",
     "text": [
      "INFO:tensorflow:Restoring parameters from ..\\Models/NS1EW99-bidding_same-5556000\n",
      "INFO:tensorflow:Restoring parameters from ..\\Models/NS1EW99-binfo_same-5556000\n",
      "INFO:tensorflow:Restoring parameters from ..\\Models/lead_suit-999000\n",
      "INFO:tensorflow:Restoring parameters from ..\\Models/lead_nt-475000\n",
      "INFO:tensorflow:Restoring parameters from ..\\Models/Jack/lr3-1000000\n",
      "INFO:tensorflow:Restoring parameters from ..\\Models/single_dummy-32768000\n",
      "INFO:tensorflow:Restoring parameters from ..\\Models/lefty_nt-475000\n",
      "INFO:tensorflow:Restoring parameters from ..\\Models/dummy_nt-475000\n",
      "INFO:tensorflow:Restoring parameters from ..\\Models/righty_nt-475000\n",
      "INFO:tensorflow:Restoring parameters from ..\\Models/decl_nt-950000\n",
      "INFO:tensorflow:Restoring parameters from ..\\Models/lefty_suit-999000\n",
      "INFO:tensorflow:Restoring parameters from ..\\Models/dummy_suit-999000\n",
      "INFO:tensorflow:Restoring parameters from ..\\Models/righty_suit-999000\n",
      "INFO:tensorflow:Restoring parameters from ..\\Models/decl_suit-1278000\n"
     ]
    }
   ],
   "source": [
    "models = Models.from_conf(conf.load('../Conf/UCBC2024.conf'),'..')   # loading neural networks\n",
    "sampler = Sample.from_conf(conf.load('../Conf/UCBC2024.conf'), False)  # Load sampling strategies\n"
   ]
  },
  {
   "cell_type": "markdown",
   "id": "10d8f2fc",
   "metadata": {},
   "source": [
    "### Running through an example"
   ]
  },
  {
   "cell_type": "code",
   "execution_count": 3,
   "id": "19dbfeb7",
   "metadata": {},
   "outputs": [
    {
     "data": {
      "text/plain": [
       "[{'call': '3D', 'insta_score': 0.467, 'expected_score': -1, 'adjustment': 23},\n",
       " {'call': 'PASS',\n",
       "  'insta_score': 0.391,\n",
       "  'expected_score': -33,\n",
       "  'adjustment': 20}]"
      ]
     },
     "execution_count": 3,
     "metadata": {},
     "output_type": "execute_result"
    }
   ],
   "source": [
    "# East deals, EW vulnerable.\n",
    "vuln_ns, vuln_ew = False, False\n",
    "\n",
    "# you sit West and hold:\n",
    "hand = 'J.J82.A98632.T52'\n",
    "\n",
    "# the auction goes:\n",
    "# (a few words about 'PAD_START':\n",
    "# the auction is padded to dealer North\n",
    "# if North is not dealer, than we have to put in a 'PAD_START' for every seat that was skipped\n",
    "# if East deals we have one pad (because North is skipped)\n",
    "# if South deals we have two pads (because North and East are skipped)\n",
    "# etc.)\n",
    "auction = [\"PAD_START\", \"1H\", \"1N\", \"2S\"]\n",
    "bot_bid = BotBid([vuln_ns, vuln_ew], hand, models, sampler, 0, 1, False)\n",
    "\n",
    "bid = bot_bid.bid(auction)\n",
    "bid.to_dict()['candidates']\n",
    "\n",
    "# what's your bid?"
   ]
  },
  {
   "cell_type": "code",
   "execution_count": 4,
   "id": "ce89b968",
   "metadata": {},
   "outputs": [
    {
     "data": {
      "text/plain": [
       "['J.J8x.A98xxx.Txx ATx.A9xxx.Tx.Axx Kx.KQxx.KJxx.K98 Q98xxxx.T.Q.QJxx 0.83908 \\n 1H-1N-2S-3D-P-P-P (8.5, 8.8)  \\n 1H-1N-2S-P-3S-P-P-P (9.9, 9.9) ',\n",
       " 'J.J8x.A98xxx.Txx Txxx.ATxxx.x.AQJ A8.K9xx.KQx.Kxxx KQ9xxx.Q.JTx.98x 0.83853 \\n 1H-1N-2S-3D-P-P-P (8.8, 9.2)  \\n 1H-1N-2S-P-3S-P-P-P (9.6, 10.0) ',\n",
       " 'J.J8x.A98xxx.Txx Ax.AKTxx.Txxx.xx KTx.Qxxx.KQ.KQ9x Q98xxxx.9.J.AJ8x 0.82745 \\n 1H-1N-2S-3D-P-P-3S-P-P-P (10.0, 9.8)  \\n 1H-1N-2S-P-3H-P-4S-P-P-P (10.0, 9.8) ',\n",
       " 'J.J8x.A98xxx.Txx Tx.KQT9x.Kx.QJxx AQ8.Axxx.Qx.A98x K9xxxxx.x.JTx.Kx 0.81989 \\n 1H-1N-2S-3D-P-P-3S-P-P-P (8.0, 7.9)  \\n 1H-1N-2S-P-3H-P-4S-P-P-P (8.0, 7.9) ',\n",
       " 'J.J8x.A98xxx.Txx Axx.AKT9xx.x.J9x Kx.Qxx.KQJT.KQxx QT98xxx.x.xx.A8x 0.81703 \\n 1H-1N-2S-3D-3S-P-P-P (10.0, 10.5)  \\n 1H-1N-2S-P-3S-P-P-P (10.0, 10.5) ',\n",
       " 'J.J8x.A98xxx.Txx 98.AKT9xx.KTx.8x ATxx.Qxx.QJ.AK9x KQxxxx.x.xx.QJxx 0.81236 \\n 1H-1N-2S-3D-P-P-P (8.3, 8.8)  \\n 1H-1N-2S-P-3H-P-P-P (6.5, 6.8) ',\n",
       " 'J.J8x.A98xxx.Txx Ax.ATxxx.Tx.AJ8x Qxx.KQ9x.KQxx.Kx KT98xxx.x.J.Q9xx 0.79413 \\n 1H-1N-2S-3D-3H-P-P-P (5.6, 7.3)  \\n 1H-1N-2S-P-2N-P-3S-P-4S-P-P-P (10.9, 10.2) ',\n",
       " 'J.J8x.A98xxx.Txx Tx.A9xxx.Kx.Kxxx AKx.Kxx.QJxx.A8x Q98xxxx.QT.T.QJ9 0.79064 \\n 1H-1N-2S-3D-P-P-3S-P-P-4D-P-P-P (9.1, 9.1)  \\n 1H-1N-2S-P-2N-P-3S-P-P-P (8.3, 8.1) ',\n",
       " 'J.J8x.A98xxx.Txx x.ATxxxx.Qxx.KQx AQ8x.KQ9x.Tx.AJx KT9xxxx..KJ.98xx 0.77856 \\n 1H-1N-2S-3D-3H-P-P-P (5.5, 6.0)  \\n 1H-1N-2S-P-3H-P-4S-P-P-P (7.9, 7.9) ',\n",
       " 'J.J8x.A98xxx.Txx AT.ATxxxx.Qx.8xx K9x.KQ9.KTx.AQ9x Q8xxxxx.x.Jx.KJx 0.76914 \\n 1H-1N-2S-3D-P-P-P (8.4, 9.0)  \\n 1H-1N-2S-P-3H-P-3S-P-4S-P-P-P (8.5, 8.4) ',\n",
       " 'J.J8x.A98xxx.Txx 9xx.AK9xx.KT.J9x KT8.QTxx.QJx.AKx AQxxxx.x.xx.Q8xx 0.76513 \\n 1H-1N-2S-3D-P-P-X-P-P-P (7.8, 8.8)  \\n 1H-1N-2S-P-3S-P-P-P (9.1, 8.5) ',\n",
       " 'J.J8x.A98xxx.Txx Kx.AT9xx.xx.K8xx QTx.KQx.KQT.AJ9x A98xxxx.xx.Jx.Qx 0.76110 \\n 1H-1N-2S-3D-P-P-P (9.5, 10.1)  \\n 1H-1N-2S-P-3H-P-P-P (5.8, 6.0) ',\n",
       " 'J.J8x.A98xxx.Txx AKQ.QT9xxx.Qxx.x 8x.Kxx.KJTx.AKQx T9xxxxx.A..J98xx 0.74891 \\n 1H-1N-2S-3D-3S-P-P-P (11.0, 11.0)  \\n 1H-1N-2S-P-3S-P-P-P (11.0, 11.0) ',\n",
       " 'J.J8x.A98xxx.Txx A9x.9xxxx.x.AKQx KQx.AKQx.QJTx.9x T8xxxx.T.Kx.J8xx 0.73948 \\n 1H-1N-2S-3D-3S-P-P-P (9.0, 9.0)  \\n 1H-1N-2S-P-P-P (9.0, 9.0) ',\n",
       " 'J.J8x.A98xxx.Txx AKxx.KQTxx.Tx.8x Tx.A9xx.KQx.AK9x Q98xxx.x.Jx.QJxx 0.73909 \\n 1H-1N-2S-3D-3S-P-P-P (8.6, 8.4)  \\n 1H-1N-2S-P-3S-P-P-P (8.6, 8.4) ',\n",
       " 'J.J8x.A98xxx.Txx AKx.K9xxx.x.AQJx QTx.AQTx.KQxx.K8 98xxxx.x.JT.9xxx 0.73620 \\n 1H-1N-2S-3D-3S-P-P-P (9.0, 8.8)  \\n 1H-1N-2S-P-3C-P-P-3D-3S-P-P-P (9.0, 8.8) ',\n",
       " 'J.J8x.A98xxx.Txx Kxxx.AK9xx.J.Jxx Ax.QTxx.KQx.A98x QT98xx.x.Txx.KQx 0.73463 \\n 1H-1N-2S-3D-3S-P-P-P (9.7, 9.7)  \\n 1H-1N-2S-P-3S-P-P-P (9.7, 9.7) ',\n",
       " 'J.J8x.A98xxx.Txx Kx.AQTxxx.Qx.8xx QTx.K9.KTxx.AKxx A98xxxx.xx.J.QJ9 0.73060 \\n 1H-1N-2S-3D-P-P-3S-P-4C-P-4S-P-P-P (8.6, 8.4)  \\n 1H-1N-2S-P-3H-P-P-P (7.4, 8.2) ',\n",
       " 'J.J8x.A98xxx.Txx K8x.A9xxx.QJx.Ax Ax.KQTx.KTx.K8xx QT9xxxx.x.x.QJ9x 0.72589 \\n 1H-1N-2S-3D-3S-P-P-P (9.8, 9.7)  \\n 1H-1N-2S-P-3S-P-P-P (9.8, 9.7) ',\n",
       " 'J.J8x.A98xxx.Txx Q98.AT9xx.T.AK8x Axx.KQxx.KQxx.Jx KTxxxx.x.Jx.Q9xx 0.72523 \\n 1H-1N-2S-3D-3S-P-P-P (10.6, 10.3)  \\n 1H-1N-2S-P-3S-P-P-P (10.6, 10.3) ']"
      ]
     },
     "execution_count": 4,
     "metadata": {},
     "output_type": "execute_result"
    }
   ],
   "source": [
    "bid.samples"
   ]
  },
  {
   "cell_type": "code",
   "execution_count": 5,
   "id": "bfe98f56",
   "metadata": {},
   "outputs": [
    {
     "data": {
      "text/plain": [
       "[{'call': 'X',\n",
       "  'insta_score': 0.228,\n",
       "  'expected_score': 1635,\n",
       "  'adjustment': 114},\n",
       " {'call': 'PASS',\n",
       "  'insta_score': 0.628,\n",
       "  'expected_score': 339,\n",
       "  'adjustment': 314},\n",
       " {'call': '5D',\n",
       "  'insta_score': 0.143,\n",
       "  'expected_score': -1935,\n",
       "  'adjustment': 71}]"
      ]
     },
     "execution_count": 5,
     "metadata": {},
     "output_type": "execute_result"
    }
   ],
   "source": [
    "auction = [\"PAD_START\", \"PAD_START\", \"1H\", \"1N\", \"2S\",\"3D\",\"3S\",\"PASS\",\"4S\"]\n",
    "bid = bot_bid.bid(auction)\n",
    "\n",
    "bid.to_dict()['candidates']"
   ]
  },
  {
   "cell_type": "markdown",
   "id": "ad120123",
   "metadata": {},
   "source": [
    "in the output above:\n",
    "- `insta_score` reflects what the neural network prefers to bid\n",
    "- `expected_score` is based on what you expect to score on difference samples (for example, 70% of the time you are making and 30% of the time you are going one off, then the expected score is 0.7 * 620 - 0.3 * 100)"
   ]
  },
  {
   "cell_type": "markdown",
   "id": "051ff121",
   "metadata": {},
   "source": [
    "### Samples consistent with the auction so far\n",
    "\n",
    "Above we said that we are computig expected scores on samples consistent with the auction so far.\n",
    "\n",
    "How do we get these samples?\n",
    "\n",
    "We get some samples in the response we get from the bot (i.e `bid.samples`)"
   ]
  },
  {
   "cell_type": "code",
   "execution_count": 6,
   "id": "55b647a5",
   "metadata": {},
   "outputs": [
    {
     "data": {
      "text/plain": [
       "['J.J8x.A98xxx.Txx Q9xx.AKT9x.x.A9x Kxx.Qxx.KQJx.KQ8 AT8xx.xx.Tx.Jxxx 0.51589 \\n 1H-1N-2S-3D-3S-P-4S-P-P-P (3.2, 6.1)  \\n 1H-1N-2S-3D-3S-P-4S-X-P-P-P (3.2, 6.1)  \\n 1H-1N-2S-3D-3S-P-4S-5D-X-P-P-P (3.8, 7.1) ',\n",
       " 'J.J8x.A98xxx.Txx KQ8.AQxxxx.Tx.Jx Axx.KT9x.KQJ.Q8x T9xxxx..xx.AK9xx 0.51310 \\n 1H-1N-2S-3D-3S-P-4S-P-P-P (2.5, 6.0)  \\n 1H-1N-2S-3D-3S-P-4S-X-P-P-P (2.5, 6.0)  \\n 1H-1N-2S-3D-3S-P-4S-5D-X-P-P-P (3.8, 8.1) ',\n",
       " 'J.J8x.A98xxx.Txx 98xx.AK9xx.J.KJx KTx.QTxx.KQT.AQx AQxxx.x.xxx.98xx 0.50541 \\n 1H-1N-2S-3D-3S-P-4S-P-P-P (3.7, 7.2)  \\n 1H-1N-2S-3D-3S-P-4S-X-P-P-P (3.7, 7.2)  \\n 1H-1N-2S-3D-3S-P-4S-5D-X-P-P-P (3.1, 7.3) ',\n",
       " 'J.J8x.A98xxx.Txx QT8x.KQT9x.K.Axx A9x.Axx.Qxxx.KQ9 Kxxxx.xx.JT.J8xx 0.50285 \\n 1H-1N-2S-3D-3S-P-4S-P-P-P (4.6, 6.5)  \\n 1H-1N-2S-3D-3S-P-4S-X-P-P-P (4.6, 6.5)  \\n 1H-1N-2S-3D-3S-P-4S-5D-X-P-P-P (3.0, 6.4) ',\n",
       " 'J.J8x.A98xxx.Txx AK9.9xxxxx.T.KQ9 T8x.AKQT.KQJx.xx Qxxxxx..xx.AJ8xx 0.49880 \\n 1H-1N-2S-3D-3S-P-4S-P-P-P (1.2, 7.2)  \\n 1H-1N-2S-3D-3S-P-4S-X-P-P-P (1.2, 7.2)  \\n 1H-1N-2S-3D-3S-P-4S-5D-X-P-P-P (2.0, 8.1) ',\n",
       " 'J.J8x.A98xxx.Txx K9x.KTxxxx.KJ.xx Axx.A9x.Qxxx.AJ9 QT8xxx.Q.T.KQ8xx 0.49701 \\n 1H-1N-2S-3D-3S-P-4S-P-P-P (3.9, 6.2)  \\n 1H-1N-2S-3D-3S-P-4S-X-P-P-P (3.9, 6.2)  \\n 1H-1N-2S-3D-3S-P-4S-5D-X-P-P-P (3.4, 7.1) ',\n",
       " 'J.J8x.A98xxx.Txx AKx.QT9xxx.x.J9x Txx.Axx.KJTx.AK8 Q98xxx.K.Qx.Qxxx 0.49316 \\n 1H-1N-2S-3D-3S-P-4S-P-P-P (3.9, 6.8)  \\n 1H-1N-2S-3D-3S-P-4S-X-P-P-P (3.9, 6.8)  \\n 1H-1N-2S-3D-3S-P-4S-5D-X-P-P-P (2.5, 6.4) ',\n",
       " 'J.J8x.A98xxx.Txx AQxx.AT9xx.Jx.Qx 8xx.Kxx.KQx.AK98 KT9xx.Qx.Tx.Jxxx 0.49276 \\n 1H-1N-2S-3D-3S-P-4S-P-P-P (4.1, 6.2)  \\n 1H-1N-2S-3D-3S-P-4S-X-P-P-P (4.1, 6.2)  \\n 1H-1N-2S-3D-3S-P-4S-5D-X-P-P-P (2.7, 6.0) ',\n",
       " 'J.J8x.A98xxx.Txx A8xx.AT9xx..K8xx K9x.KQxx.KQx.QJx QTxxx.x.JTxx.A9x 0.48698 \\n 1H-1N-2S-3D-3S-P-4S-P-P-P (2.1, 6.3)  \\n 1H-1N-2S-3D-3S-P-4S-X-P-P-P (2.1, 6.3)  \\n 1H-1N-2S-3D-3S-P-4S-5D-X-P-P-P (4.7, 8.1) ',\n",
       " 'J.J8x.A98xxx.Txx KQTx.A9xxx.Jx.Kx A9x.KQx.KQxx.Qxx 8xxxx.Tx.T.AJ98x 0.48575 \\n 1H-1N-2S-3D-3S-P-4S-P-P-P (3.0, 6.3)  \\n 1H-1N-2S-3D-3S-P-4S-X-P-P-P (3.0, 6.3)  \\n 1H-1N-2S-3D-3S-P-4S-5D-X-P-P-P (3.1, 6.0) ']"
      ]
     },
     "execution_count": 6,
     "metadata": {},
     "output_type": "execute_result"
    }
   ],
   "source": [
    "bid.samples"
   ]
  },
  {
   "cell_type": "markdown",
   "id": "7d0dd8f5",
   "metadata": {},
   "source": [
    "each row is one sample. the hands are in the order: N E S W\n",
    "\n",
    "(West always has the same cards because it's your hand and it's known to you)"
   ]
  },
  {
   "cell_type": "code",
   "execution_count": 7,
   "id": "7101e514",
   "metadata": {},
   "outputs": [
    {
     "name": "stdout",
     "output_type": "stream",
     "text": [
      "Good quality: False\n",
      "J.J8x.A98xxx.Txx 8xxx.Txx.KQx.J8x AKQxxx.AKx..AKxx T9.Q9xx.JTxx.Q9x\n",
      "J.J8x.A98xxx.Txx Kxxx.xxx.Qxx.J8x AQTxxx.AKQ.K.Axx 98.T9xx.JTx.KQ9x\n",
      "J.J8x.A98xxx.Txx Txx.Txx.QJx.K9xx AKQ9xxx.AKQ.K.xx 8x.9xxx.Txx.AQJ8\n",
      "J.J8x.A98xxx.Txx 8xx.QT9.KJxx.J8x AKQxxx.AKx.Q.Axx T9x.xxxx.Tx.KQ9x\n",
      "J.J8x.A98xxx.Txx 9xxx.K9x.QTx.Q8x AKQ8xx.AQxx..AJx Tx.Txx.KJxx.K9xx\n",
      "J.J8x.A98xxx.Txx 9x.xxxx.Jxxx.Qxx AKQT8x.A9x.K.AK8 xxxx.KQT.QT.J9xx\n",
      "J.J8x.A98xxx.Txx Axx.QT9x.Tx.J8xx KQ8xxx.Kx.Kx.AKQ T9x.Axxx.QJx.9xx\n",
      "J.J8x.A98xxx.Txx xx.Qxxx.Qxx.Q8xx AKQTxxx.A9.J.AKJ 98x.KTxx.KTx.9xx\n",
      "J.J8x.A98xxx.Txx Qx.9xxx.Txx.AQ8x AK8xxx.AK.Q.KJ9x T9xx.QTxx.KJx.xx\n",
      "J.J8x.A98xxx.Txx xxx.K9xx.KJTx.Jx AKQT98.Axx.x.AKx xxx.QTx.Qx.Q98xx\n"
     ]
    }
   ],
   "source": [
    "# we got some samples above. if we want more, we can always get more\n",
    "\n",
    "sample_hands, sorted_score, p_hcp, p_shp, good_quality = bot_bid.sample_hands_for_auction([\"PAD_START\", \"PAD_START\", \"PAD_START\", \"PASS\", \"1N\", \"PASS\", \"3S\",\"PASS\"],0)\n",
    "print(\"Good quality:\", good_quality)\n",
    "for i in range(sample_hands.shape[0]):\n",
    "    print(f'{hand_to_str(sample_hands[i, 0, :])} {hand_to_str(sample_hands[i, 1, :])} {hand_to_str(sample_hands[i, 2, :])} {hand_to_str(sample_hands[i, 3, :])}')"
   ]
  }
 ],
 "metadata": {
  "kernelspec": {
   "display_name": "Python 3 (ipykernel)",
   "language": "python",
   "name": "python3"
  },
  "language_info": {
   "codemirror_mode": {
    "name": "ipython",
    "version": 3
   },
   "file_extension": ".py",
   "mimetype": "text/x-python",
   "name": "python",
   "nbconvert_exporter": "python",
   "pygments_lexer": "ipython3",
   "version": "3.11.0"
  }
 },
 "nbformat": 4,
 "nbformat_minor": 5
}
