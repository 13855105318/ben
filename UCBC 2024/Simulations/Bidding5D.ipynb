{
 "cells": [
  {
   "cell_type": "markdown",
   "id": "75d07246",
   "metadata": {},
   "source": [
    "# Bidding\n",
    "\n",
    "This is a tutorial for how to use the bidding engine"
   ]
  },
  {
   "cell_type": "code",
   "execution_count": 1,
   "id": "59a5664c",
   "metadata": {},
   "outputs": [
    {
     "name": "stdout",
     "output_type": "stream",
     "text": [
      "WARNING:tensorflow:From c:\\Python311\\Lib\\site-packages\\tensorflow\\python\\compat\\v2_compat.py:107: disable_resource_variables (from tensorflow.python.ops.variable_scope) is deprecated and will be removed in a future version.\n",
      "Instructions for updating:\n",
      "non-resource variables are not supported in the long term\n"
     ]
    }
   ],
   "source": [
    "import sys\n",
    "sys.path.append('../../src')\n",
    "\n",
    "from nn.models import Models\n",
    "from bots import BotBid\n",
    "from util import hand_to_str\n",
    "from sample import Sample\n",
    "import conf\n",
    "import numpy as np\n",
    "\n",
    "np.set_printoptions(precision=2, suppress=True, linewidth=200)\n",
    "np.random.seed(42)\n"
   ]
  },
  {
   "cell_type": "code",
   "execution_count": 2,
   "id": "44786d5d",
   "metadata": {},
   "outputs": [
    {
     "name": "stdout",
     "output_type": "stream",
     "text": [
      "INFO:tensorflow:Restoring parameters from ..\\Models/NS1EW99-bidding-3233000\n",
      "INFO:tensorflow:Restoring parameters from ..\\Models/NS1EW99-binfo-3233000\n",
      "INFO:tensorflow:Restoring parameters from ..\\Models/lead_suit-154000\n",
      "INFO:tensorflow:Restoring parameters from ..\\Models/lead_nt-59000\n",
      "INFO:tensorflow:Restoring parameters from ..\\Models/lr3-1000000\n",
      "INFO:tensorflow:Restoring parameters from ..\\Models/lefty-1000000\n",
      "INFO:tensorflow:Restoring parameters from ..\\Models/dummy-920000\n",
      "INFO:tensorflow:Restoring parameters from ..\\Models/righty-1000000\n",
      "INFO:tensorflow:Restoring parameters from ..\\Models/decl-1000000\n"
     ]
    }
   ],
   "source": [
    "models = Models.from_conf(conf.load('../Conf/UCBC2024.conf'),'..')   # loading neural networks\n",
    "sampler = Sample.from_conf(conf.load('../Conf/UCBC2024.conf'), False)  # Load sampling strategies\n"
   ]
  },
  {
   "cell_type": "markdown",
   "id": "10d8f2fc",
   "metadata": {},
   "source": [
    "### Running through an example"
   ]
  },
  {
   "cell_type": "code",
   "execution_count": 3,
   "id": "19dbfeb7",
   "metadata": {},
   "outputs": [
    {
     "data": {
      "text/plain": [
       "[{'call': '3D',\n",
       "  'insta_score': 0.3567,\n",
       "  'expected_score': -78,\n",
       "  'adjustment': 18},\n",
       " {'call': 'PASS',\n",
       "  'insta_score': 0.6131,\n",
       "  'expected_score': -162,\n",
       "  'adjustment': 31}]"
      ]
     },
     "execution_count": 3,
     "metadata": {},
     "output_type": "execute_result"
    }
   ],
   "source": [
    "# East deals, EW vulnerable.\n",
    "vuln_ns, vuln_ew = False, False\n",
    "\n",
    "# you sit West and hold:\n",
    "hand = 'J.J82.A98632.T52'\n",
    "\n",
    "# the auction goes:\n",
    "# (a few words about 'PAD_START':\n",
    "# the auction is padded to dealer North\n",
    "# if North is not dealer, than we have to put in a 'PAD_START' for every seat that was skipped\n",
    "# if East deals we have one pad (because North is skipped)\n",
    "# if South deals we have two pads (because North and East are skipped)\n",
    "# etc.)\n",
    "auction = [\"PAD_START\", \"1H\", \"1N\", \"2S\"]\n",
    "bot_bid = BotBid([vuln_ns, vuln_ew], hand, models, sampler, False)\n",
    "\n",
    "bid = bot_bid.bid(auction)\n",
    "bid.to_dict()['candidates']\n",
    "\n",
    "# what's your bid?"
   ]
  },
  {
   "cell_type": "code",
   "execution_count": 4,
   "metadata": {},
   "outputs": [
    {
     "data": {
      "text/plain": [
       "['J.J8x.A98xxx.Txx Q.AQT9xx.Jxx.K9x AKx.Kxx.KTx.Q8xx T98xxxxx.x.Q.AJx 0.24957 1H-1N-2S-P-3H-P-4S-P-P-P (9.2)  1H-1N-2S-3D-3H-P-4S-P-P-P (9.2) ',\n",
       " 'J.J8x.A98xxx.Txx 98x.AKQ9xxx..K9x Ax.Txx.KQJxx.AJx KQTxxxx..Tx.Q8xx 0.23582 1H-1N-2S-P-4H-P-P-P (10.1)  1H-1N-2S-3D-4H-P-P-P (10.1) ',\n",
       " 'J.J8x.A98xxx.Txx xx.AKQxxx.QT.J8x Q9x.T9x.KJx.AKQ9 AKT8xxx.x.xx.xxx 0.20850 1H-1N-2S-P-3H-P-4S-P-P-P (8.8)  1H-1N-2S-3D-3H-P-3S-P-4H-P-P-P (8.1) ',\n",
       " 'J.J8x.A98xxx.Txx Qxx.AQxxxx.Q.J9x xx.KT9x.KJT.AKQx AKT98xx..xxx.8xx 0.20784 1H-1N-2S-P-3H-P-4S-P-P-P (9.7)  1H-1N-2S-3D-P-P-P (9.6) ',\n",
       " 'J.J8x.A98xxx.Txx 8x.QT9xxx.KQx.Ax KQx.AKx.JTx.QJ98 AT9xxxx.x.x.Kxxx 0.20739 1H-1N-2S-P-3H-P-4S-P-P-P (9.1)  1H-1N-2S-3D-3H-P-4S-P-P-P (9.1) ']"
      ]
     },
     "execution_count": 4,
     "metadata": {},
     "output_type": "execute_result"
    }
   ],
   "source": [
    "bid.samples"
   ]
  },
  {
   "cell_type": "code",
   "execution_count": 5,
   "id": "bfe98f56",
   "metadata": {},
   "outputs": [
    {
     "data": {
      "text/plain": [
       "[{'call': '5D', 'insta_score': 0.1046, 'expected_score': 46, 'adjustment': 5},\n",
       " {'call': 'PASS',\n",
       "  'insta_score': 0.863,\n",
       "  'expected_score': -244,\n",
       "  'adjustment': 43}]"
      ]
     },
     "execution_count": 5,
     "metadata": {},
     "output_type": "execute_result"
    }
   ],
   "source": [
    "auction = [\"PAD_START\", \"PAD_START\", \"1H\", \"1N\", \"2S\",\"3D\",\"3S\",\"PASS\",\"4S\"]\n",
    "bid = bot_bid.bid(auction)\n",
    "\n",
    "bid.to_dict()['candidates']"
   ]
  },
  {
   "cell_type": "markdown",
   "id": "ad120123",
   "metadata": {},
   "source": [
    "in the output above:\n",
    "- `insta_score` reflects what the neural network prefers to bid\n",
    "- `expected_score` is based on what you expect to score on difference samples (for example, 70% of the time you are making and 30% of the time you are going one off, then the expected score is 0.7 * 620 - 0.3 * 100)"
   ]
  },
  {
   "cell_type": "markdown",
   "id": "051ff121",
   "metadata": {},
   "source": [
    "### Samples consistent with the auction so far\n",
    "\n",
    "Above we said that we are computig expected scores on samples consistent with the auction so far.\n",
    "\n",
    "How do we get these samples?\n",
    "\n",
    "We get some samples in the response we get from the bot (i.e `bid.samples`)"
   ]
  },
  {
   "cell_type": "code",
   "execution_count": 6,
   "id": "55b647a5",
   "metadata": {},
   "outputs": [
    {
     "data": {
      "text/plain": [
       "['KQ8xxxx..QT.9xxx J.J8x.A98xxx.Txx AT9x.9xxxxx.x.AQ x.AKQT.KJxx.KJ8x 0.25982 1H-1N-2S-3D-3S-P-4S-P-P-P (10.5)  1H-1N-2S-3D-3S-P-4S-5D-X-P-P-P (10.8) ',\n",
       " 'AQTxxxx.x.T.98xx J.J8x.A98xxx.Txx K8x.AK9xx.xx.Qxx 9x.QTxx.KQJx.AKJ 0.25405 1H-1N-2S-3D-3S-P-4S-P-P-P (9.7)  1H-1N-2S-3D-3S-P-4S-5D-X-P-P-P (10.1) ',\n",
       " 'AQT8xxx.x.x.8xxx J.J8x.A98xxx.Txx K9x.KTxxx.KTx.Qx xx.AQ9x.QJx.AKJ9 0.24568 1H-1N-2S-3D-3S-P-4S-P-P-P (8.6)  1H-1N-2S-3D-3S-P-4S-5D-X-P-P-P (9.9) ',\n",
       " 'AQ8xxxx.T.J.98xx J.J8x.A98xxx.Txx Txx.AK9xxx.Qx.Kx K9.Qxx.KTxx.AQJx 0.22895 1H-1N-2S-3D-3S-P-4S-P-P-P (9.5)  1H-1N-2S-3D-3S-P-4S-5D-X-P-P-P (9.5) ',\n",
       " 'AQTxxxxx.x.x.Jxx J.J8x.A98xxx.Txx 98x.AQ9xx.x.KQxx K.KTxx.KQJTx.A98 0.17219 1H-1N-2S-3D-3S-P-4S-P-P-P (11.0)  1H-1N-2S-3D-3S-P-4S-5D-X-P-P-P (9.8) ']"
      ]
     },
     "execution_count": 6,
     "metadata": {},
     "output_type": "execute_result"
    }
   ],
   "source": [
    "bid.samples"
   ]
  },
  {
   "cell_type": "markdown",
   "id": "7d0dd8f5",
   "metadata": {},
   "source": [
    "each row is one sample. the hands are in the order: N E S W\n",
    "\n",
    "(West always has the same cards because it's your hand and it's known to you)"
   ]
  },
  {
   "cell_type": "code",
   "execution_count": 7,
   "id": "7101e514",
   "metadata": {},
   "outputs": [
    {
     "name": "stdout",
     "output_type": "stream",
     "text": [
      "J.J8x.A98xxx.Txx x.xxxx.QJxx.Q8xx AKTxxxx.AKQT..AK Q98x.9x.KTx.J9xx\n",
      "J.J8x.A98xxx.Txx 9x.KTx.QJxxx.Q8x AKQTxxxx.AQ.K.AK 8x.9xxxx.T.J9xxx\n",
      "J.J8x.A98xxx.Txx x.xxxx.Kxx.98xxx AKQ9xxxx.AQ.Q.AK T8x.KT9x.JTx.QJx\n",
      "J.J8x.A98xxx.Txx xx.Txxx.KJTx.Q9x AKQ98xx.AQ9x..AK Txx.Kx.Qxx.J8xxx\n",
      "J.J8x.A98xxx.Txx xx.Txx.QTxx.Q9xx AKQT98xx.AKQ..A8 xx.9xxx.KJx.KJxx\n"
     ]
    }
   ],
   "source": [
    "# we got some samples above. if we want more, we can always get more\n",
    "\n",
    "sample_hands, sorted_score, p_hcp, p_shp = bot_bid.sample_hands([\"PAD_START\", \"PAD_START\", \"PAD_START\", \"PASS\", \"1N\", \"PASS\", \"3S\",\"PASS\"])\n",
    "\n",
    "for i in range(sample_hands.shape[0]):\n",
    "    print(f'{hand_to_str(sample_hands[i, 0, :])} {hand_to_str(sample_hands[i, 1, :])} {hand_to_str(sample_hands[i, 2, :])} {hand_to_str(sample_hands[i, 3, :])}')"
   ]
  }
 ],
 "metadata": {
  "kernelspec": {
   "display_name": "Python 3 (ipykernel)",
   "language": "python",
   "name": "python3"
  },
  "language_info": {
   "codemirror_mode": {
    "name": "ipython",
    "version": 3
   },
   "file_extension": ".py",
   "mimetype": "text/x-python",
   "name": "python",
   "nbconvert_exporter": "python",
   "pygments_lexer": "ipython3",
   "version": "3.11.0"
  }
 },
 "nbformat": 4,
 "nbformat_minor": 5
}
