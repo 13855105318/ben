{
 "cells": [
  {
   "cell_type": "markdown",
   "id": "75d07246",
   "metadata": {},
   "source": [
    "# Bidding\n",
    "\n",
    "This is a tutorial for how to use the bidding engine"
   ]
  },
  {
   "cell_type": "code",
   "execution_count": 1,
   "id": "59a5664c",
   "metadata": {},
   "outputs": [
    {
     "name": "stdout",
     "output_type": "stream",
     "text": [
      "WARNING:tensorflow:From c:\\Python311\\Lib\\site-packages\\tensorflow\\python\\compat\\v2_compat.py:107: disable_resource_variables (from tensorflow.python.ops.variable_scope) is deprecated and will be removed in a future version.\n",
      "Instructions for updating:\n",
      "non-resource variables are not supported in the long term\n",
      "INFO:tensorflow:Restoring parameters from ..\\Models/NS1EW99-bidding_same-5556000\n",
      "INFO:tensorflow:Restoring parameters from ..\\Models/NS1EW99-binfo_same-5556000\n",
      "INFO:tensorflow:Restoring parameters from ..\\Models/lead_suit-999000\n",
      "INFO:tensorflow:Restoring parameters from ..\\Models/lead_nt-475000\n",
      "INFO:tensorflow:Restoring parameters from ..\\Models/Jack/lr3-1000000\n",
      "INFO:tensorflow:Restoring parameters from ..\\Models/single_dummy-32768000\n",
      "INFO:tensorflow:Restoring parameters from ..\\Models/jack/lefty-1000000\n",
      "INFO:tensorflow:Restoring parameters from ..\\Models/jack/dummy-920000\n",
      "INFO:tensorflow:Restoring parameters from ..\\Models/jack/righty-1000000\n",
      "INFO:tensorflow:Restoring parameters from ..\\Models/jack/decl-1000000\n",
      "INFO:tensorflow:Restoring parameters from ..\\Models/jack/lefty-1000000\n",
      "INFO:tensorflow:Restoring parameters from ..\\Models/jack/dummy-920000\n",
      "INFO:tensorflow:Restoring parameters from ..\\Models/jack/righty-1000000\n",
      "INFO:tensorflow:Restoring parameters from ..\\Models/jack/decl-1000000\n"
     ]
    }
   ],
   "source": [
    "import sys\n",
    "import os\n",
    "sys.path.append('../../src')\n",
    "os.environ['BEN_HOME'] = \"../..\"\n",
    "\n",
    "from nn.models import Models\n",
    "from bots import BotBid\n",
    "from util import hand_to_str\n",
    "from sample import Sample\n",
    "import conf\n",
    "import numpy as np\n",
    "\n",
    "np.set_printoptions(precision=2, suppress=True, linewidth=200)\n",
    "np.random.seed(42)\n",
    "models = Models.from_conf(conf.load('../Conf/UCBC2024.conf'),'..')   # loading neural networks\n",
    "sampler = Sample.from_conf(conf.load('../Conf/UCBC2024.conf'), True)  # Load sampling strategies\n"
   ]
  },
  {
   "cell_type": "markdown",
   "id": "10d8f2fc",
   "metadata": {},
   "source": [
    "### Running through an example"
   ]
  },
  {
   "cell_type": "code",
   "execution_count": 2,
   "id": "19dbfeb7",
   "metadata": {},
   "outputs": [
    {
     "name": "stdout",
     "output_type": "stream",
     "text": [
      "Setting seed (Sampling bidding info) from J.32.KJ983.QJT74: 2930407879\n",
      "bid X value 0.6273 is recommended by NN\n",
      "CandidateBid(bid=X   , insta_score=0.6273, expected_score=---, adjust=---)\n",
      "CandidateBid(bid=PASS, insta_score=0.3717, expected_score=---, adjust=---)\n",
      "Sampling for aution: ['PAD_START', '2C'] trying to find 5000\n",
      "sample_cards_auction, nsteps= 1\n",
      "NS:  1.0 EW:  99.0 Auction:  ['PAD_START', '2C']\n",
      "nesw_i 2\n",
      "bids in model 3\n",
      "Player:  S Hand:  J.xx.KJ98x.QJTxx\n",
      "HCP:  [[ 6.4   4.88 21.  ]]\n",
      "Shape:  [[3.94 3.68 2.76 2.56 3.72 3.52 2.91 2.79 4.09 3.69 2.76 2.41]]\n",
      "sample_cards_vec generating 5000\n",
      "sample_cards_vec took 0.0987 Deals: 2977\n",
      "n_samples 2977 matching bidding info\n",
      "Samples after bidding filtering:  2977  Threshold:  0.7\n",
      "Found 2977 samples for bidding\n",
      " X    0.627 Samples: 200\n",
      "bidding_rollout - n_samples:  200\n",
      "bidding_rollout - finished  (200, 64)\n"
     ]
    },
    {
     "name": "stderr",
     "output_type": "stream",
     "text": [
      "Loaded lib dds.dll\n"
     ]
    },
    {
     "name": "stdout",
     "output_type": "stream",
     "text": [
      "dds took 2.347\n",
      "[  100.   200.  -650.  -680.  -620.  -170.   100.   200.   100.  -710.  -680.  -650.  -650. -1430.  -680.   200. -1460.   200.  -710.   200.   100.   200.  -620.   100.   100.   100.  -650.  -200.\n",
      "   300.  -620.   100.  -630.  -200.   100.  -650.  -620.   100.  -680.  -630.   100.   200.  -620.  -620.  -650.  -620.  -660.   200.  -710.   300.  -650.   200.   100.   300. -1460.   300.  -680.\n",
      "   100.  -650.  -650.   200.   100.  -710.  -620.   100.   100. -1460. -1460.  -200.  -650.   100.   100.  -600. -1440.  -200.  -650.  -630.   100.  -620.  -650.  -620.   300.   100.  -650.   100.\n",
      "   100.  -650.  -680.   300.  -710.   100. -1460.  -680.   400.  -650.   300.   200.  -620. -1430. -1460.   200.   100. -1430.  -600.  -650.  -690. -1100.  -710.  -710.  -650.  -210.  -620.   300.\n",
      "  -650.  1100.  -200.   100.  -630.   100.   100.  -680.   200.   300.   200.   100.  -650.   100.  -200.  -630.  -630.  -620.   200.   100.  -650.  -630.  -620.  -620.   100.  -620.  -630.  -650.\n",
      "   100.  -720.  -650.  -650. -1460.  -650.  -650.  -630. -1460.   100. -1460.  -100.   100.  -620.   200. -1440.   100. -1430.  -650.  -650.   200.   700.  -680.  -620.  -650.   100.   100.  -200.\n",
      "  -650.  -630.   100.  -100.  -600.  -650.   200.   300.  -620. -1430.  -680.  -650.  -620.   100.   200.  -660.  -660.  -200.   100.   200. -1440.   500.  -710.  -680. -1430.  -140.   620.   100.\n",
      "  -620.  -710.   200.  -650.]\n",
      "CandidateBid(bid=X   , insta_score=0.6273, expected_score=-370.10, adjust=  31)\n",
      " PASS 0.372 Samples: 200\n",
      "bidding_rollout - n_samples:  200\n",
      "bidding_rollout - finished  (200, 64)\n",
      "dds took 2.458\n",
      "[  600.   300.  -650.   300.   100.   300.   100.   700.   100.  -690. -1430.  -650.  -650. -1430.  -680.   100. -2210. -1430. -1460.   200.   100.   300.   200.   100.   100.  -650. -1430.   400.\n",
      "   500.   100.   100.  -630.   400.   100.   100.  -620.  -650.   100.  -680.   100.   200.  -620.  -620.   200.   100.   100.   100.  -710.   200.   100.   200.   300.   300. -1460.   300.  -680.\n",
      "   100.  -650.  -650.   200.   100. -1460.   100.   100.   100. -1460. -1460.   500.  -650.   100.   500.   500.   100.   400.  -650.   200.   100.  -620.   100.  -620.   300.   100.  -650.   200.\n",
      "   300.  -650.  -680.   300. -1460.   100. -1460.  -680.   400.   100.   500.   500.  -620. -1430. -1460.   200.  -650. -1430.  -620.  -650.  -690.   100. -1460.  -710.  -650.  -210.  -600.  2000.\n",
      "  -650.   600.  -650.   200.   200.   100.   200.  -680.   300.   400.   200.   300.   100.  -650.  1400.   200.  -630.  -620.   200.   100. -1430.  -630.   100.   200.   200.   200.   200.  -650.\n",
      "   100. -1460.  -650.  -650. -1460.   300.  -650.   200. -1460.   400. -1460.   300.   100.   100.   200. -1440.   100. -1430.  -650.  -650.   100.   600.  -680. -1430.  -650.   100.  -650.   400.\n",
      "  -650.   200.   100.   300.   300.  -650.   300.   200.  -650. -1430. -1430.  -650.  -620.   100.  -140.  -680.  -660.  -650.   100.   200. -1440.   200.   100.  -680.   500.   200.   200.   100.\n",
      "  -600.   100.  -630.  -650.]\n",
      "CandidateBid(bid=PASS, insta_score=0.3717, expected_score=-258.40, adjust=  19)\n",
      "1: PASS Insta_score: 0.372 Expected Score: -258  Adjustment:18   \n",
      "2: X    Insta_score: 0.627 Expected Score: -370  Adjustment:31   \n",
      "PASS  selected\n"
     ]
    },
    {
     "data": {
      "text/plain": [
       "[{'call': 'PASS',\n",
       "  'insta_score': 0.372,\n",
       "  'expected_score': -258,\n",
       "  'adjustment': 19},\n",
       " {'call': 'X', 'insta_score': 0.627, 'expected_score': -370, 'adjustment': 31}]"
      ]
     },
     "execution_count": 2,
     "metadata": {},
     "output_type": "execute_result"
    }
   ],
   "source": [
    "# East deals, EW vulnerable.\n",
    "vuln_ns, vuln_ew = True, True\n",
    "\n",
    "# You sit North and hold:\n",
    "hand = 'J.32.KJ983.QJT74'\n",
    "\n",
    "auction = [\"PAD_START\",\"2C\"]\n",
    "bot_bid = BotBid([vuln_ns, vuln_ew], hand, models, sampler, 2, 0, True)\n",
    "\n",
    "bid = bot_bid.bid(auction)\n",
    "bid.to_dict()['candidates']\n",
    "\n",
    "# what's your bid?"
   ]
  },
  {
   "cell_type": "markdown",
   "id": "ad120123",
   "metadata": {},
   "source": [
    "in the output above:\n",
    "- `insta_score` reflects what the neural network prefers to bid\n",
    "- `expected_score` is based on what you expect to score on difference samples (for example, 70% of the time you are making and 30% of the time you are going one off, then the expected score is 0.7 * 620 - 0.3 * 100)"
   ]
  },
  {
   "cell_type": "markdown",
   "id": "051ff121",
   "metadata": {},
   "source": [
    "### Samples consistent with the auction so far\n",
    "\n",
    "Above we said that we are computig expected scores on samples consistent with the auction so far.\n",
    "\n",
    "How do we get these samples?\n",
    "\n",
    "We get some samples in the response we get from the bot (i.e `bid.samples`)"
   ]
  },
  {
   "cell_type": "code",
   "execution_count": 3,
   "id": "55b647a5",
   "metadata": {},
   "outputs": [
    {
     "name": "stdout",
     "output_type": "stream",
     "text": [
      "98xx.Txx.AQTx.xx AKTx.AQ98.xx.A9x J.xx.KJ98x.QJTxx Qxxx.KJxx.xx.K8x 0.75000 \n",
      " 2C-X-2N-P-3N-P-P-P (8, 7.5, 10.0)  \n",
      " 2C-P-2N-P-3N-P-4N-P-5C-P-P-P (5, 6.8, 9.6) \n",
      "Axx.Q8xx.Txx.K9x Q98x.AKxx.AQ.Axx J.xx.KJ98x.QJTxx KTxxx.JT9.xxx.8x 0.75009 \n",
      " 2C-X-2D-P-2H-P-3C-P-3H-P-4H-P-P-P (8, 8.2, 8.5)  \n",
      " 2C-P-2D-P-2H-P-3H-P-4N-P-5D-P-5H-P-P-P (8, 8.2, 8.5) \n",
      "K9xx.QJ.QTx.9xxx AQ8xx.8xx.Axx.AK J.xx.KJ98x.QJTxx Txx.AKT9xx.xx.8x 0.75001 \n",
      " 2C-X-2H-P-4H-P-P-P (11, 10.6, 11.0)  \n",
      " 2C-P-2H-P-4H-P-P-P (11, 10.6, 11.0) \n",
      "9xxx.QT.Qxxx.A9x AQT.AJ8xx.A.K8xx J.xx.KJ98x.QJTxx K8xxx.K9xx.Txx.x 0.75012 \n",
      " 2C-X-2D-P-3C-P-3S-P-4H-P-P-P (12, 11.4, 11.3)  \n",
      " 2C-P-2D-P-3C-P-3S-P-4C-P-P-P (7, 5.8, 8.9) \n",
      "KTxx.QJx.Qxx.8xx A98x.K8x.ATx.AK9 J.xx.KJ98x.QJTxx Qxxx.AT9xx.xx.xx 0.75001 \n",
      " 2C-X-2D-P-2H-P-3C-P-3H-P-4H-P-P-P (10, 9.8, 9.3)  \n",
      " 2C-P-2D-P-2H-P-3H-P-4N-P-5D-P-5H-P-P-P (10, 9.8, 9.3) \n",
      "8xxx.AK8xx.T.9xx AQx.QT9x.Axxx.AK J.xx.KJ98x.QJTxx KT9xx.Jx.Qxx.8xx 0.75003 \n",
      " 2C-X-2D-2H-P-P-2S-P-P-P (10, 9.7, 9.5)  \n",
      " 2C-P-2D-P-2H-P-2S-P-4N-P-5D-P-P-P (8, 7.2, 9.1) \n",
      "QT9x.T9xx.xxx.8x AKxxx.AKJ.Tx.K9x J.xx.KJ98x.QJTxx 8xx.Q8xx.AQx.Axx 0.75017 \n",
      " 2C-X-2N-P-3S-P-4N-P-5C-P-5D-P-5S-P-6S-P-P-P (11, 10.9, 10.6)  \n",
      " 2C-P-2N-P-3S-P-4N-P-5C-P-5D-P-5S-P-6S-P-P-P (11, 10.9, 10.6) \n",
      "KQTxx.Q9.xxx.A9x A98.AKJxx.ATx.8x J.xx.KJ98x.QJTxx xxxx.T8xx.Qx.Kxx 0.75000 \n",
      " 2C-X-2D-2S-3H-P-4H-P-P-P (8, 8.6, 8.2)  \n",
      " 2C-P-2D-P-2N-P-3C-P-4N-P-5C-P-P-P (4, 4.8, 6.8) \n",
      "Q8xx.KQJx.Tx.xxx AK9x.ATxx.AQx.A8 J.xx.KJ98x.QJTxx Txxx.98x.xxx.K9x 0.75011 \n",
      " 2C-X-2D-P-2N-P-3C-P-3S-P-4S-P-P-P (9, 9.4, 8.8)  \n",
      " 2C-P-2D-P-2N-P-3C-P-3S-P-4S-P-P-P (9, 9.4, 8.8) \n",
      "8xxx.Txxx.T.Kxxx AKQ9x.KJ.Axxx.A9 J.xx.KJ98x.QJTxx Txx.AQ98x.Qxx.8x 0.80894 \n",
      " 2C-X-2H-P-2S-P-3C-P-3N-P-4C-P-4D-X-P-P-P (10, 9.0, 11.0)  \n",
      " 2C-P-2H-P-3D-P-3N-P-P-P (12, 10.5, 11.1) \n"
     ]
    }
   ],
   "source": [
    "### Samples consistent with the auction so far\n",
    "\n",
    "for i in range(min(10,len(bid.samples))):\n",
    "    print(bid.samples[i])\n"
   ]
  },
  {
   "cell_type": "markdown",
   "id": "7d0dd8f5",
   "metadata": {},
   "source": [
    "each row is one sample. the hands are in the order: N E S W\n",
    "\n",
    "(West always has the same cards because it's your hand and it's known to you)"
   ]
  },
  {
   "cell_type": "code",
   "execution_count": 4,
   "id": "7101e514",
   "metadata": {},
   "outputs": [
    {
     "name": "stdout",
     "output_type": "stream",
     "text": [
      "sample_cards_auction, nsteps= 3\n",
      "NS:  1.0 EW:  99.0 Auction:  ['PAD_START', 'PAD_START', 'PAD_START', 'PASS', '1N', 'PASS', '3S', 'PASS']\n",
      "nesw_i 0\n",
      "bids in model 3\n",
      "Player:  N Hand:  J.xx.KJ98x.QJTxx\n",
      "HCP:  [[ 7.98 16.72  7.62]]\n",
      "Shape:  [[2.58 4.16 3.25 3.06 6.29 2.82 1.93 1.87 2.74 3.91 3.21 3.13]]\n",
      "sample_cards_vec generating 5000\n",
      "sample_cards_vec took 0.09999 Deals: 2434\n",
      "n_samples 5000 matching bidding info\n",
      "Samples after bidding filtering:  0  Threshold:  0.7\n",
      "Only found 2167 10\n",
      "Found 10 samples for bidding\n",
      "Good quality: True\n",
      "J.xx.KJ98x.QJTxx Kxxx.JT8xx.T.8xx T98x.AKQ.Axx.AKx AQxx.9xx.Qxxx.9x 0.50\n",
      "J.xx.KJ98x.QJTxx ATxx.JTx.Txx.Axx Q9xx.AKx.Ax.K98x K8xx.Q98xx.Qxx.x 0.50\n",
      "J.xx.KJ98x.QJTxx ATxx.98xx.T.K98x Kxxx.AQJx.AQx.Ax Q98x.KTx.xxxx.xx 0.50\n",
      "J.xx.KJ98x.QJTxx Qxxx.Tx.Qxxx.K9x AKTx.AJ8x.A.A8xx 98xx.KQ9xx.Txx.x 0.50\n",
      "J.xx.KJ98x.QJTxx Axxx.Kxxx.Txx.xx K98x.QJ9x.AQx.AK QTxx.AT8.xx.98xx 0.50\n",
      "J.xx.KJ98x.QJTxx KQTxx.Txx.x.98xx A9xx.AKQx.Axxx.A 8xx.J98x.QTx.Kxx 0.50\n",
      "J.xx.KJ98x.QJTxx Kxxx.9x.xxx.A9xx AQ8x.AKxx.AQx.8x T9xx.QJT8x.Tx.Kx 0.50\n",
      "J.xx.KJ98x.QJTxx KQ9x.Q8x.Qxx.98x Axxx.AKxx.ATx.Kx T8xx.JT9x.xx.Axx 0.50\n",
      "J.xx.KJ98x.QJTxx ATxx.J8x.xxx.A8x KQ9x.AKx.Qxx.Kxx 8xxx.QT9xx.AT.9x 0.50\n",
      "J.xx.KJ98x.QJTxx AKxx.8xx.QTx.98x Q98x.AQ9.Axx.Axx Txxx.KJTxx.xx.Kx 0.50\n"
     ]
    }
   ],
   "source": [
    "# we got some samples above. if we want more, we can always get more\n",
    "\n",
    "auction = [\"PAD_START\", \"PAD_START\", \"PAD_START\", \"PASS\", \"1N\", \"PASS\", \"3S\",\"PASS\"]\n",
    "sample_hands, sorted_score, p_hcp, p_shp, good_quality = bot_bid.sample_hands_for_auction(auction,0)\n",
    "print(\"Good quality:\", good_quality)\n",
    "for i in range(min(10,sample_hands.shape[0])):\n",
    "    print(f'{hand_to_str(sample_hands[i, 0, :])} {hand_to_str(sample_hands[i, 1, :])} {hand_to_str(sample_hands[i, 2, :])} {hand_to_str(sample_hands[i, 3, :])} {sorted_score[i]:.2f}')"
   ]
  }
 ],
 "metadata": {
  "kernelspec": {
   "display_name": "Python 3 (ipykernel)",
   "language": "python",
   "name": "python3"
  },
  "language_info": {
   "codemirror_mode": {
    "name": "ipython",
    "version": 3
   },
   "file_extension": ".py",
   "mimetype": "text/x-python",
   "name": "python",
   "nbconvert_exporter": "python",
   "pygments_lexer": "ipython3",
   "version": "3.11.0"
  }
 },
 "nbformat": 4,
 "nbformat_minor": 5
}
