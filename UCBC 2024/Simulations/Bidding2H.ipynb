{
 "cells": [
  {
   "cell_type": "markdown",
   "id": "75d07246",
   "metadata": {},
   "source": [
    "# Bidding\n",
    "\n",
    "This is a tutorial for how to use the bidding engine"
   ]
  },
  {
   "cell_type": "code",
   "execution_count": 1,
   "id": "59a5664c",
   "metadata": {},
   "outputs": [
    {
     "name": "stdout",
     "output_type": "stream",
     "text": [
      "WARNING:tensorflow:From c:\\Python311\\Lib\\site-packages\\tensorflow\\python\\compat\\v2_compat.py:107: disable_resource_variables (from tensorflow.python.ops.variable_scope) is deprecated and will be removed in a future version.\n",
      "Instructions for updating:\n",
      "non-resource variables are not supported in the long term\n",
      "INFO:tensorflow:Restoring parameters from ..\\Models/bidding_V2-5158000\n",
      "INFO:tensorflow:Restoring parameters from ..\\Models/contract-193200\n",
      "INFO:tensorflow:Restoring parameters from ..\\Models/binfo_V2-5158000\n",
      "INFO:tensorflow:Restoring parameters from ..\\Models/lead_suit-999000\n",
      "INFO:tensorflow:Restoring parameters from ..\\Models/lead_nt-475000\n",
      "INFO:tensorflow:Restoring parameters from ..\\Models/Jack/lr3-1000000\n",
      "INFO:tensorflow:Restoring parameters from ..\\Models/single_dummy-32768000\n",
      "INFO:tensorflow:Restoring parameters from ..\\Models/lefty_nt-475000\n",
      "INFO:tensorflow:Restoring parameters from ..\\Models/decl_nt-475000\n",
      "INFO:tensorflow:Restoring parameters from ..\\Models/righty_nt-475000\n",
      "INFO:tensorflow:Restoring parameters from ..\\Models/decl_nt-475000\n",
      "INFO:tensorflow:Restoring parameters from ..\\Models/lefty_suit-999000\n",
      "INFO:tensorflow:Restoring parameters from ..\\Models/decl_suit-999000\n",
      "INFO:tensorflow:Restoring parameters from ..\\Models/righty_suit-999000\n",
      "INFO:tensorflow:Restoring parameters from ..\\Models/decl_suit-999000\n"
     ]
    }
   ],
   "source": [
    "import sys\n",
    "import os\n",
    "sys.path.append('../../src')\n",
    "os.environ['BEN_HOME'] = \"../..\"\n",
    "\n",
    "from nn.models import Models\n",
    "from bots import BotBid\n",
    "from util import hand_to_str\n",
    "from sample import Sample\n",
    "import conf\n",
    "import numpy as np\n",
    "\n",
    "np.set_printoptions(precision=2, suppress=True, linewidth=200)\n",
    "np.random.seed(42)\n",
    "models = Models.from_conf(conf.load('../Conf/UCBC2024.conf'),'..')   # loading neural networks\n",
    "sampler = Sample.from_conf(conf.load('../Conf/UCBC2024.conf'), True)  # Load sampling strategies\n"
   ]
  },
  {
   "cell_type": "markdown",
   "id": "10d8f2fc",
   "metadata": {},
   "source": [
    "### Running through an example"
   ]
  },
  {
   "cell_type": "code",
   "execution_count": 2,
   "id": "19dbfeb7",
   "metadata": {},
   "outputs": [
    {
     "name": "stdout",
     "output_type": "stream",
     "text": [
      "Setting seed (Sampling bidding info) from J.32.KJ983.QJT74: 2930407879\n",
      "next_bid_np SAYC UCBC\n",
      "bid 2N value 0.8270 is recommended by NN\n",
      "CandidateBid(bid=2N  , insta_score=0.8270, expected_score=---, adjust=---)\n",
      "CandidateBid(bid=X   , insta_score=0.1493, expected_score=---, adjust=---)\n",
      "Sampling for aution: ['PAD_START', '2C'] trying to find 5000\n",
      "sample_cards_auction, nsteps= 1\n",
      "NS:  -1.0 EW:  -1.0 Auction:  ['PAD_START', '2C']\n",
      "nesw_i 2\n",
      "bids in model 4\n",
      "Player:  S Hand:  J.xx.KJ98x.QJTxx\n",
      "HCP:  [[ 5.7   4.42 21.88]]\n",
      "Shape:  [[3.87 3.63 2.72 2.8  3.75 3.37 2.77 3.   3.94 3.68 2.8  2.47]]\n",
      "sample_cards_vec generating 5000\n",
      "sample_cards_vec took 0.2861 Deals: 2947\n",
      "n_samples 2947 matching bidding info\n",
      "n_steps 1\n",
      "Samples after bidding filtering:  2947  Threshold:  0.7\n",
      "Found 2947 samples for bidding\n",
      " 2N   0.827 Samples: 200\n",
      "bidding_rollout - n_samples:  200\n",
      "bidding_rollout - finished  (200, 64)\n"
     ]
    },
    {
     "name": "stderr",
     "output_type": "stream",
     "text": [
      "Loaded lib dds.dll\n"
     ]
    },
    {
     "name": "stdout",
     "output_type": "stream",
     "text": [
      "dds took 7.076\n",
      "[ -170.  -680.  -650.  -100. -1460.   100.  -680.  -680. -1460.  -620.  -680.   100.   100.   100.  -630.  -600.  -630.  -620.   200.  -650.   200. -1460.   100.   100.  -650.   100.  -680.   100.\n",
      "  -680.  -630. -1430.   100.  -500.   100.   200. -1430.   200.   100.  -620. -1460. -1430.  -620. -1460.  -400.  -620.   100. -1430.  -650.   100.  -500.  -680.   200.   100.   100.   100.  -710.\n",
      "   200.  -620.   100.   500.   200.  -650.  -650.   200. -1460.   300.  -650.  -650.  -650.  -600.  -680.   100.  -620.  -650. -1460.  -710.   100. -1430.   200.   200.   400.   200. -1430.  -200.\n",
      " -1430.  -650.   100.   100.   100.   100. -1430.  -650.  -650. -1430.   100.   100. -1430. -2210.   100. -1430.   100.   100.  -200.   200.   200.   500.   100.  -680.  -680.  -680. -1430.   300.\n",
      "   100.  1100.  -650.  -650.   100.  -630.  -650.  -630. -1430.   200.  -710.   300.   100.   300.  -650.   100.   100.  -650.  -650.  -710.  -650.   100.   200. -1460.   200.   100.  -680.  -620.\n",
      "   200.   200. -1430.  -680.   300. -1460.   200.  -630.   200.  -650.  -680. -1430.  -650.  -680.  -650. -1430. -1460.   100.   100.   100.   100.   100.  -170.  -620.  -680.  -680. -1430.   200.\n",
      " -1430.  -620.   100.  -650.  -650.  -650. -1430.   100.   300.  -680.  -650.  -710.  -620.  -630.  -650. -1460.  -620.   130.   100.   200. -1100.  -630.   100. -1430.  -600.   100.  -650.  -680.\n",
      " -1460. -1460.  -200. -1460.]\n",
      "CandidateBid(bid=2N  , insta_score=0.8270, expected_score=-454.80, adjust=  41)\n",
      " X    0.149 Samples: 200\n",
      "bidding_rollout - n_samples:  200\n",
      "bidding_rollout - finished  (200, 64)\n",
      "dds took 6.786\n",
      "[ -620. -1430.  -650.   300. -1460.   100. -1430. -1430. -1460.  -620.  -710.  -680.   200.  -650.  -620.   100.   100.   300.  -680.  -650.   300. -2210.  -650.  -650.  -650.  -650.  -680.  -650.\n",
      " -1430.  -650.  -680.  -680.  -650.  -620.   100. -1430.  -600.   100.   200.  -710.  -620.   100. -1460.  -650.   100.  -600. -1430.  -650.   300.   400.  -680.   200.  -650.   100.   100. -1460.\n",
      "   100.  -620.  -650.   100.   200.  -600.  -650.   100. -1430.   100.  -650.  -650.  -650.  -650.  -680.   100.  -620.  -650. -1460. -1460.   300.  -680.   100.   100.  -620.   200. -1430.   300.\n",
      "  -680.   100.  -650.   400.  -650.  -620.  -680.  -650.  -650.  -680.  -600.   600.  -680. -1460.  -650. -1430.  -650.  -650.  -650.   100.   200.  -630.  -650.  -710.  -680. -1430. -1430.   200.\n",
      "  -650.  -680.  -650.   100. -1430.  -630.  -650.   200.  -680.   200.  -680.   100.   100.  -500.   100.  -650.   100.   100.  -650. -1460.  -650.   100.   300.  -720.   200.   200.  -680. -1400.\n",
      "  -200.   100. -1430.  -680.  -630. -1460.   700.  -680.   300.  -650.   200.  -680.  -650. -1430.  -650. -1430.  -710.  -650.   200.   100.   100.  -650.   100.  -620.  -680.   100. -1430.   200.\n",
      " -1430.   200.   300.  -630.   300.  -680. -1430.  -650.   200.  -680.  -680. -1460.  -620.  -620.  -500. -2210.  -620.  -140.   100.   100.  -650.  -630.   100.  -680.   100.  -660.  -630.  -680.\n",
      " -1460. -1460.  -630.  -710.]\n",
      "CandidateBid(bid=X   , insta_score=0.1493, expected_score=-517.50, adjust=   7)\n",
      "1: 2N   Insta_score: 0.827 Expected Score: -454  Adjustment:41   \n",
      "2: X    Insta_score: 0.149 Expected Score: -517  Adjustment:7    \n",
      "2N  selected\n"
     ]
    },
    {
     "data": {
      "text/plain": [
       "[{'call': '2N',\n",
       "  'insta_score': 0.827,\n",
       "  'expected_score': -455,\n",
       "  'adjustment': 41},\n",
       " {'call': 'X', 'insta_score': 0.149, 'expected_score': -518, 'adjustment': 7}]"
      ]
     },
     "execution_count": 2,
     "metadata": {},
     "output_type": "execute_result"
    }
   ],
   "source": [
    "# East deals, EW vulnerable.\n",
    "vuln_ns, vuln_ew = True, True\n",
    "\n",
    "# You sit North and hold:\n",
    "hand = 'J.32.KJ983.QJT74'\n",
    "\n",
    "auction = [\"PAD_START\",\"2C\"]\n",
    "bot_bid = BotBid([vuln_ns, vuln_ew], hand, models, sampler, 2, 0, True)\n",
    "\n",
    "bid = bot_bid.bid(auction)\n",
    "bid.to_dict()['candidates']\n",
    "\n",
    "# what's your bid?"
   ]
  },
  {
   "cell_type": "markdown",
   "id": "ad120123",
   "metadata": {},
   "source": [
    "in the output above:\n",
    "- `insta_score` reflects what the neural network prefers to bid\n",
    "- `expected_score` is based on what you expect to score on difference samples (for example, 70% of the time you are making and 30% of the time you are going one off, then the expected score is 0.7 * 620 - 0.3 * 100)"
   ]
  },
  {
   "cell_type": "markdown",
   "id": "051ff121",
   "metadata": {},
   "source": [
    "### Samples consistent with the auction so far\n",
    "\n",
    "Above we said that we are computig expected scores on samples consistent with the auction so far.\n",
    "\n",
    "How do we get these samples?\n",
    "\n",
    "We get some samples in the response we get from the bot (i.e `bid.samples`)"
   ]
  },
  {
   "cell_type": "code",
   "execution_count": 3,
   "id": "55b647a5",
   "metadata": {},
   "outputs": [
    {
     "name": "stdout",
     "output_type": "stream",
     "text": [
      "9xxx.QTxx.Ax.98x AT8xx.AKx.Txx.AK J.xx.KJ98x.QJTxx KQx.J98x.Qxx.xxx 0.75023 \n",
      " 2C-2N-X-XX-P-3D-P-P-3S-P-P-P (10, 9.8, 9.9)  \n",
      " 2C-X-2N-P-3S-P-4C-P-4S-P-P-P (10, 9.8, 9.7) \n",
      "Txx.T9xxx.Axx.xx A9xx.AKJ.QTxx.AK J.xx.KJ98x.QJTxx KQ8xx.Q8x.x.98xx 0.75001 \n",
      " 2C-2N-3S-P-4C-P-4D-P-4N-P-5D-P-5S-P-P-P (12, 11.9, 11.8)  \n",
      " 2C-X-2D-P-2N-P-3H-P-3S-P-3N-P-4S-P-4N-P-5D-P-6S-P-P-P (12, 11.8, 11.5) \n",
      "98xx.AJxxx.Tx.xx AKQx.KT98.Ax.A9x J.xx.KJ98x.QJTxx Txxx.Qx.Qxxx.K8x 0.75000 \n",
      " 2C-2N-X-XX-3C-P-4S-P-P-P (11, 10.3, 10.4)  \n",
      " 2C-X-2D-P-2N-P-3C-P-3N-P-4S-P-P-P (11, 10.3, 10.4) \n",
      "AKT8x.QJx.QTx.8x Q9x.Axx.Axxx.AKx J.xx.KJ98x.QJTxx xxxx.KT98x.x.9xx 0.75000 \n",
      " 2C-2N-P-3D-P-P-P (8, 8.1, 8.5)  \n",
      " 2C-X-2D-P-2N-P-3C-P-3D-P-3H-P-3N-P-P-P (6, 6.3, 5.4) \n",
      "Qxx.9xx.QTxx.98x AKTx.KQJ8x.Axx.K J.xx.KJ98x.QJTxx 98xxx.ATx.x.Axxx 0.75069 \n",
      " 2C-2N-3S-P-4C-P-4D-P-4N-P-5H-P-6S-P-P-P (13, 12.4, 12.2)  \n",
      " 2C-X-2S-P-3C-P-4D-P-4N-P-5H-P-6S-P-P-P (13, 12.4, 12.3) \n",
      "QTxx.AJxx.Qx.9xx AKxx.Q8.ATx.AK8x J.xx.KJ98x.QJTxx 98xx.KT9xx.xxx.x 0.75000 \n",
      " 2C-2N-P-3C-X-P-4S-P-P-P (9, 8.6, 8.9)  \n",
      " 2C-X-2D-P-2N-P-3C-P-3S-P-4C-P-4S-P-P-P (9, 8.9, 8.9) \n",
      "Txx.Txx.ATxxx.xx AKQ8xx.AQx.Qx.K9 J.xx.KJ98x.QJTxx 9xx.KJ98x.x.A8xx 0.78456 \n",
      " 2C-2N-3H-P-4C-P-4D-P-4N-P-5C-P-5H-P-P-P (12, 11.8, 11.6)  \n",
      " 2C-X-2H-P-3C-P-4D-P-4H-P-4N-P-5H-P-6H-P-P-P (12, 11.8, 12.0) \n",
      "Qxxx.T9x.Txx.xxx T98xx.AKJx.A.AKx J.xx.KJ98x.QJTxx AKx.Q8xx.Qxxx.98 0.75124 \n",
      " 2C-2N-3C-P-3D-P-3H-P-4H-P-P-P (12, 12.1, 12.3)  \n",
      " 2C-X-2N-P-3S-P-4N-P-5D-P-5H-P-6H-P-6S-P-P-P (12, 12.1, 11.8) \n",
      "T8xx.K9.Tx.98xxx Q9xx.AJ.AQxx.AKx J.xx.KJ98x.QJTxx AKxx.QT8xxxx.xx. 0.75000 \n",
      " 2C-2N-3H-P-3N-P-4H-P-4N-P-5C-P-6H-P-P-P (13, 12.2, 12.2)  \n",
      " 2C-X-2H-P-2S-P-5C-P-5S-P-6C-P-6S-P-P-P (13, 12.2, 11.9) \n",
      "Q98xx.Qx.xx.Axxx AKx.AKT9x.AQxx.x J.xx.KJ98x.QJTxx Txxx.J8xx.Tx.K98 0.75677 \n",
      " 2C-2N-X-3C-3H-P-4C-P-4H-P-P-P (10, 10.0, 10.2)  \n",
      " 2C-X-2D-P-2H-P-3C-P-3D-P-3H-P-3S-P-4H-P-P-P (10, 10.0, 10.2) \n"
     ]
    }
   ],
   "source": [
    "### Samples consistent with the auction so far\n",
    "\n",
    "for i in range(min(10,len(bid.samples))):\n",
    "    print(bid.samples[i])\n"
   ]
  },
  {
   "cell_type": "markdown",
   "id": "7d0dd8f5",
   "metadata": {},
   "source": [
    "each row is one sample. the hands are in the order: N E S W\n",
    "\n",
    "(West always has the same cards because it's your hand and it's known to you)"
   ]
  },
  {
   "cell_type": "code",
   "execution_count": 4,
   "id": "7101e514",
   "metadata": {},
   "outputs": [
    {
     "name": "stdout",
     "output_type": "stream",
     "text": [
      "sample_cards_auction, nsteps= 3\n",
      "NS:  -1.0 EW:  -1.0 Auction:  ['PAD_START', 'PAD_START', 'PAD_START', 'PASS', '1N', 'PASS', '3S', 'PASS']\n",
      "nesw_i 0\n",
      "bids in model 4\n",
      "Player:  N Hand:  J.xx.KJ98x.QJTxx\n",
      "HCP:  [[ 8.54 16.23  7.33]]\n",
      "Shape:  [[5.2  3.55 2.23 1.94 1.58 3.78 3.57 4.07 4.63 3.79 2.43 2.11]]\n",
      "sample_cards_vec generating 5000\n",
      "sample_cards_vec took 0.2963 Deals: 3113\n",
      "n_samples 3113 matching bidding info\n",
      "n_steps 2\n",
      "Samples after bidding filtering:  165  Threshold:  0.7\n",
      "Found 165 samples for bidding\n",
      "Good quality: True\n",
      "J.xx.KJ98x.QJTxx AKQxx.9xx.xx.Axx 8.AJxx.AQTx.K8xx T9xxxx.KQT8.xx.9 0.99\n",
      "J.xx.KJ98x.QJTxx AK9xx.Axx.xx.xxx x.KQJx.AQxx.AK8x QT8xxx.T98x.Tx.9 0.98\n",
      "J.xx.KJ98x.QJTxx AKT8x.AJx.Txx.xx x.KQ9x.AQxx.K98x Q9xxxx.T8xx.x.Ax 0.97\n",
      "J.xx.KJ98x.QJTxx KQT8xx.Jxx.QT.98 x.AK8x.Axx.AKxxx A9xxx.QT9x.xxx.x 0.97\n",
      "J.xx.KJ98x.QJTxx AK8xx.J9x.Qxx.8x 9.AKTx.ATx.AK9xx QTxxxx.Q8xx.xx.x 0.97\n",
      "J.xx.KJ98x.QJTxx AQxxx.KQx.QT.K8x x.AT8x.Axxx.A9xx KT98xx.J9xx.xx.x 0.96\n",
      "J.xx.KJ98x.QJTxx KQT98x.K9.Tx.xxx .AQTx.Axxxx.AK98 Axxxxx.J8xxx.Q.x 0.96\n",
      "J.xx.KJ98x.QJTxx AKQT8.J8x.Txxx.8 x.AQxx.Qxx.AK9xx 9xxxxx.KT9x.A.xx 0.95\n",
      "J.xx.KJ98x.QJTxx AK8xxx.98x.Txx.x x.AKJx.AQxx.A98x QT9xx.QTxx.x.Kxx 0.89\n",
      "J.xx.KJ98x.QJTxx AKT8xx.QJ.xxx.9x x.AKxx.AQxx.AK8x Q9xxx.T98xx.T.xx 0.86\n"
     ]
    }
   ],
   "source": [
    "# we got some samples above. if we want more, we can always get more\n",
    "\n",
    "auction = [\"PAD_START\", \"PAD_START\", \"PAD_START\", \"PASS\", \"1N\", \"PASS\", \"3S\",\"PASS\"]\n",
    "sample_hands, sorted_score, p_hcp, p_shp, good_quality = bot_bid.sample_hands_for_auction(auction,0)\n",
    "print(\"Good quality:\", good_quality)\n",
    "for i in range(min(10,sample_hands.shape[0])):\n",
    "    print(f'{hand_to_str(sample_hands[i, 0, :])} {hand_to_str(sample_hands[i, 1, :])} {hand_to_str(sample_hands[i, 2, :])} {hand_to_str(sample_hands[i, 3, :])} {sorted_score[i]:.2f}')"
   ]
  }
 ],
 "metadata": {
  "kernelspec": {
   "display_name": "Python 3 (ipykernel)",
   "language": "python",
   "name": "python3"
  },
  "language_info": {
   "codemirror_mode": {
    "name": "ipython",
    "version": 3
   },
   "file_extension": ".py",
   "mimetype": "text/x-python",
   "name": "python",
   "nbconvert_exporter": "python",
   "pygments_lexer": "ipython3",
   "version": "3.11.9"
  }
 },
 "nbformat": 4,
 "nbformat_minor": 5
}
