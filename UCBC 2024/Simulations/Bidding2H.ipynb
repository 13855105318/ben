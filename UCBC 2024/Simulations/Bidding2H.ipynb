{
 "cells": [
  {
   "cell_type": "markdown",
   "id": "75d07246",
   "metadata": {},
   "source": [
    "# Bidding\n",
    "\n",
    "This is a tutorial for how to use the bidding engine"
   ]
  },
  {
   "cell_type": "code",
   "execution_count": 1,
   "id": "59a5664c",
   "metadata": {},
   "outputs": [
    {
     "name": "stdout",
     "output_type": "stream",
     "text": [
      "WARNING:tensorflow:From c:\\Python311\\Lib\\site-packages\\tensorflow\\python\\compat\\v2_compat.py:107: disable_resource_variables (from tensorflow.python.ops.variable_scope) is deprecated and will be removed in a future version.\n",
      "Instructions for updating:\n",
      "non-resource variables are not supported in the long term\n",
      "INFO:tensorflow:Restoring parameters from ..\\Models/NS1EW99-bidding-3961000\n",
      "INFO:tensorflow:Restoring parameters from ..\\Models/NS1EW99-binfo-1887000\n",
      "INFO:tensorflow:Restoring parameters from ..\\Models/lead_suit-154000\n",
      "INFO:tensorflow:Restoring parameters from ..\\Models/lead_nt-59000\n",
      "INFO:tensorflow:Restoring parameters from ..\\Models/single_dummy-1562000\n",
      "INFO:tensorflow:Restoring parameters from ..\\Models/lefty-1000000\n",
      "INFO:tensorflow:Restoring parameters from ..\\Models/dummy-920000\n",
      "INFO:tensorflow:Restoring parameters from ..\\Models/righty-1000000\n",
      "INFO:tensorflow:Restoring parameters from ..\\Models/decl-1000000\n"
     ]
    }
   ],
   "source": [
    "import sys\n",
    "sys.path.append('../../src')\n",
    "\n",
    "from nn.models import Models\n",
    "from bots import BotBid\n",
    "from util import hand_to_str\n",
    "from sample import Sample\n",
    "import conf\n",
    "import numpy as np\n",
    "\n",
    "np.set_printoptions(precision=2, suppress=True, linewidth=200)\n",
    "np.random.seed(42)\n",
    "models = Models.from_conf(conf.load('../Conf/UCBC2024.conf'),'..')   # loading neural networks\n",
    "sampler = Sample.from_conf(conf.load('../Conf/UCBC2024.conf'), False)  # Load sampling strategies\n"
   ]
  },
  {
   "cell_type": "markdown",
   "id": "10d8f2fc",
   "metadata": {},
   "source": [
    "### Running through an example"
   ]
  },
  {
   "cell_type": "code",
   "execution_count": 2,
   "id": "19dbfeb7",
   "metadata": {},
   "outputs": [
    {
     "data": {
      "text/plain": [
       "[{'call': '2S', 'insta_score': 0.109, 'expected_score': 240, 'adjustment': 5},\n",
       " {'call': 'PASS',\n",
       "  'insta_score': 0.883,\n",
       "  'expected_score': -20,\n",
       "  'adjustment': 44}]"
      ]
     },
     "execution_count": 2,
     "metadata": {},
     "output_type": "execute_result"
    }
   ],
   "source": [
    "# East deals, EW vulnerable.\n",
    "vuln_ns, vuln_ew = False, True\n",
    "\n",
    "# you sit West and hold:\n",
    "hand = 'AKQJ95.J54..K953'\n",
    "\n",
    "auction = [\"PAD_START\", \"2D\", \"PASS\"]\n",
    "bot_bid = BotBid([vuln_ns, vuln_ew], hand, models, sampler, 3, False)\n",
    "\n",
    "bid = bot_bid.bid(auction)\n",
    "bid.to_dict()['candidates']\n",
    "\n",
    "# what's your bid?"
   ]
  },
  {
   "cell_type": "markdown",
   "id": "ad120123",
   "metadata": {},
   "source": [
    "in the output above:\n",
    "- `insta_score` reflects what the neural network prefers to bid\n",
    "- `expected_score` is based on what you expect to score on difference samples (for example, 70% of the time you are making and 30% of the time you are going one off, then the expected score is 0.7 * 620 - 0.3 * 100)"
   ]
  },
  {
   "cell_type": "markdown",
   "id": "051ff121",
   "metadata": {},
   "source": [
    "### Samples consistent with the auction so far\n",
    "\n",
    "Above we said that we are computig expected scores on samples consistent with the auction so far.\n",
    "\n",
    "How do we get these samples?\n",
    "\n",
    "We get some samples in the response we get from the bot (i.e `bid.samples`)"
   ]
  },
  {
   "cell_type": "code",
   "execution_count": 3,
   "id": "55b647a5",
   "metadata": {},
   "outputs": [
    {
     "name": "stdout",
     "output_type": "stream",
     "text": [
      "Tx.AK8xx.Axx.Qxx x.Txx.KQJ9xx.JT8 8xxx.Q9.T8xx.Axx AKQJ9x.Jxx..K9xx 0.79813 \n",
      " 2D-P-P-2H-P-P-2S-P-P-P (7.7)  \n",
      " 2D-P-2S-3H-P-P-3S-P-P-P (7.7) \n",
      "x.Q98xx.AT8.JTxx 8xx.Ax.Q9xxxx.Ax Txx.KTx.KJxx.Q8x AKQJ9x.Jxx..K9xx 0.84467 \n",
      " 2D-P-P-P (7.2)  \n",
      " 2D-P-2S-P-4S-P-P-P (11.2) \n",
      "8x.AKxx.KJ8x.Q8x xx.9.AT9xxx.AJTx Txx.QT8xx.Qxx.xx AKQJ9x.Jxx..K9xx 0.98515 \n",
      " 2D-P-P-P (8.9)  \n",
      " 2D-P-2S-P-3C-P-3S-P-4S-P-P-P (11.6) \n",
      "Txx.KQ9x.Kxx.QJx xx.Txx.AQJ8xx.Tx 8x.A8x.T9xx.A8xx AKQJ9x.Jxx..K9xx 0.89768 \n",
      " 2D-P-P-P (7.1)  \n",
      " 2D-P-2S-P-2N-P-3S-P-4S-P-P-P (8.9) \n",
      "xx.AQ98x.QTxx.Ax x.KT.A9xxxx.QJT8 T8xx.xxx.KJ8.xxx AKQJ9x.Jxx..K9xx 0.93333 \n",
      " 2D-P-P-2H-P-P-2S-P-P-P (10.1)  \n",
      " 2D-P-2S-P-3C-P-3S-P-4S-P-P-P (10.1) \n",
      "8x.KT8x.Kx.QJTxx x.9xx.AJ98xx.A8x Txxx.AQx.QTxxx.x AKQJ9x.Jxx..K9xx 0.98517 \n",
      " 2D-P-P-P (6.8)  \n",
      " 2D-P-2S-P-2N-P-3S-P-4S-P-P-P (8.9) \n",
      "8xx.AQT9x.Kx.Jxx xx.8x.AJT98x.A8x Tx.Kxx.Qxxxx.QTx AKQJ9x.Jxx..K9xx 0.98670 \n",
      " 2D-P-P-2H-P-P-2S-P-P-3H-P-P-P (6.0)  \n",
      " 2D-P-2S-P-2N-P-3S-P-4S-P-P-P (10.3) \n",
      "x.QT8x.AKx.QJTxx 8x.AKx.Q9xxxx.8x Txxx.9xx.JT8x.Ax AKQJ9x.Jxx..K9xx 0.97788 \n",
      " 2D-P-P-3C-P-P-P (5.6)  \n",
      " 2D-P-2S-P-2N-P-3S-P-4S-P-P-P (10.2) \n",
      "xxx.AKT9.A9x.Txx Txx.Q8x.KJTxxx.A 8.xxx.Q8xx.QJ8xx AKQJ9x.Jxx..K9xx 0.97984 \n",
      " 2D-P-P-P (7.4)  \n",
      " 2D-P-2S-P-4S-P-P-P (10.3) \n",
      "x.KQT9x.J9x.ATxx x.8xx.KQTxxx.Q8x T8xxx.Ax.A8xx.Jx AKQJ9x.Jxx..K9xx 0.88975 \n",
      " 2D-P-P-P (5.5)  \n",
      " 2D-P-2S-P-2N-P-3S-P-4S-P-P-P (7.2) \n"
     ]
    }
   ],
   "source": [
    "### Samples consistent with the auction so far\n",
    "\n",
    "for i in range(min(10,len(bid.samples))):\n",
    "    print(bid.samples[i])\n"
   ]
  },
  {
   "cell_type": "markdown",
   "id": "7d0dd8f5",
   "metadata": {},
   "source": [
    "each row is one sample. the hands are in the order: N E S W\n",
    "\n",
    "(West always has the same cards because it's your hand and it's known to you)"
   ]
  },
  {
   "cell_type": "code",
   "execution_count": 4,
   "id": "7101e514",
   "metadata": {},
   "outputs": [
    {
     "name": "stdout",
     "output_type": "stream",
     "text": [
      "AKQJ9x.Jxx..K9xx xx.AQ8.JTxxx.Txx .T9xx.AKQxx.A8xx T8xxx.Kxx.98x.QJ 0.99\n",
      "AKQJ9x.Jxx..K9xx 8xx.KTx.QJxx.Qxx .Q8xx.AK8xx.AJxx Txxx.A9x.T9xx.T8 0.99\n",
      "AKQJ9x.Jxx..K9xx Txxx.T8x.Q8xx.Jx x.Kxxx.AKTx.A8xx 8x.AQ9.J9xxx.QTx 0.98\n",
      "AKQJ9x.Jxx..K9xx xx.8x.KJ9xx.Jxxx 8.KT9x.QT8x.AQT8 Txxx.AQxx.Axxx.x 0.98\n",
      "AKQJ9x.Jxx..K9xx T8x.A8xx.Txxx.Tx x.KQTx.A98x.AJ8x xxx.9x.KQJxx.Qxx 0.97\n",
      "AKQJ9x.Jxx..K9xx xxx.xxx.AT8x.Qxx 8.KQ98.KJxx.AJT8 Txx.ATx.Q9xxx.xx 0.97\n",
      "AKQJ9x.Jxx..K9xx Txx.Q.A8xxx.JTxx 8.AKTx.QJTx.Q8xx xxx.98xxx.K9xx.A 0.97\n",
      "AKQJ9x.Jxx..K9xx 8xx.xxx.J8xxx.AT x.AT9x.AQ9x.QJ8x Txx.KQ8.KTxx.xxx 0.97\n",
      "AKQJ9x.Jxx..K9xx Tx.K8xx.A9xxx.8x x.ATxx.KQJx.ATxx 8xxx.Q9.T8xx.QJx 0.96\n",
      "AKQJ9x.Jxx..K9xx Tx.Axx.J8xxxx.Ax x.KQTx.KQ9x.QJ8x 8xxx.98x.ATx.Txx 0.96\n"
     ]
    }
   ],
   "source": [
    "# we got some samples above. if we want more, we can always get more\n",
    "\n",
    "auction = [\"PAD_START\", \"PAD_START\", \"PAD_START\", \"PASS\", \"1N\", \"PASS\", \"3S\",\"PASS\"]\n",
    "sample_hands, sorted_score, p_hcp, p_shp = bot_bid.sample_hands_auction(auction)\n",
    "\n",
    "for i in range(min(10,sample_hands.shape[0])):\n",
    "    print(f'{hand_to_str(sample_hands[i, 0, :])} {hand_to_str(sample_hands[i, 1, :])} {hand_to_str(sample_hands[i, 2, :])} {hand_to_str(sample_hands[i, 3, :])} {sorted_score[i]:.2f}')"
   ]
  }
 ],
 "metadata": {
  "kernelspec": {
   "display_name": "Python 3 (ipykernel)",
   "language": "python",
   "name": "python3"
  },
  "language_info": {
   "codemirror_mode": {
    "name": "ipython",
    "version": 3
   },
   "file_extension": ".py",
   "mimetype": "text/x-python",
   "name": "python",
   "nbconvert_exporter": "python",
   "pygments_lexer": "ipython3",
   "version": "3.11.0"
  }
 },
 "nbformat": 4,
 "nbformat_minor": 5
}
