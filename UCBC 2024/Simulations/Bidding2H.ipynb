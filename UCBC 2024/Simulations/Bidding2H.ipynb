{
 "cells": [
  {
   "cell_type": "markdown",
   "id": "75d07246",
   "metadata": {},
   "source": [
    "# Bidding\n",
    "\n",
    "This is a tutorial for how to use the bidding engine"
   ]
  },
  {
   "cell_type": "code",
   "execution_count": 1,
   "id": "59a5664c",
   "metadata": {},
   "outputs": [
    {
     "name": "stdout",
     "output_type": "stream",
     "text": [
      "WARNING:tensorflow:From c:\\Python311\\Lib\\site-packages\\tensorflow\\python\\compat\\v2_compat.py:107: disable_resource_variables (from tensorflow.python.ops.variable_scope) is deprecated and will be removed in a future version.\n",
      "Instructions for updating:\n",
      "non-resource variables are not supported in the long term\n",
      "INFO:tensorflow:Restoring parameters from ..\\Models/NS1EW99-bidding_same-5556000\n",
      "INFO:tensorflow:Restoring parameters from ..\\Models/NS1EW99-binfo_same-5556000\n",
      "INFO:tensorflow:Restoring parameters from ..\\Models/lead_suit-999000\n",
      "INFO:tensorflow:Restoring parameters from ..\\Models/lead_nt-475000\n",
      "INFO:tensorflow:Restoring parameters from ..\\Models/Jack/lr3-1000000\n",
      "INFO:tensorflow:Restoring parameters from ..\\Models/single_dummy-32768000\n",
      "INFO:tensorflow:Restoring parameters from ..\\Models/lefty_nt-475000\n",
      "INFO:tensorflow:Restoring parameters from ..\\Models/dummy_nt-475000\n",
      "INFO:tensorflow:Restoring parameters from ..\\Models/righty_nt-475000\n",
      "INFO:tensorflow:Restoring parameters from ..\\Models/decl_nt-950000\n",
      "INFO:tensorflow:Restoring parameters from ..\\Models/lefty_suit-999000\n",
      "INFO:tensorflow:Restoring parameters from ..\\Models/dummy_suit-999000\n",
      "INFO:tensorflow:Restoring parameters from ..\\Models/righty_suit-999000\n",
      "INFO:tensorflow:Restoring parameters from ..\\Models/decl_suit-1278000\n"
     ]
    }
   ],
   "source": [
    "import sys\n",
    "sys.path.append('../../src')\n",
    "\n",
    "from nn.models import Models\n",
    "from bots import BotBid\n",
    "from util import hand_to_str\n",
    "from sample import Sample\n",
    "import conf\n",
    "import numpy as np\n",
    "\n",
    "np.set_printoptions(precision=2, suppress=True, linewidth=200)\n",
    "np.random.seed(42)\n",
    "models = Models.from_conf(conf.load('../Conf/UCBC2024.conf'),'..')   # loading neural networks\n",
    "sampler = Sample.from_conf(conf.load('../Conf/UCBC2024.conf'), True)  # Load sampling strategies\n"
   ]
  },
  {
   "cell_type": "markdown",
   "id": "10d8f2fc",
   "metadata": {},
   "source": [
    "### Running through an example"
   ]
  },
  {
   "cell_type": "code",
   "execution_count": 2,
   "id": "19dbfeb7",
   "metadata": {},
   "outputs": [
    {
     "name": "stdout",
     "output_type": "stream",
     "text": [
      "Setting seed (Sampling bidding info) from J.32.KJ983.QJT74: 2930407879\n",
      "bid X value 0.6273 is recommended by NN\n",
      "CandidateBid(bid=X   , insta_score=0.6273, expected_score=---, adjust=---)\n",
      "CandidateBid(bid=PASS, insta_score=0.3717, expected_score=---, adjust=---)\n",
      "Sampling for aution: ['PAD_START', '2C'] trying to find 5000\n",
      "sample_cards_auction, nsteps= 1\n",
      "NS:  1.0 EW:  99.0 Auction:  ['PAD_START', '2C']\n",
      "nesw_i 0\n",
      "Player:  S Hand:  J.xx.KJ98x.QJTxx\n",
      "HCP:  [[ 6.4   4.88 21.  ]]\n",
      "Shape:  [[3.94 3.68 2.76 2.56 3.72 3.52 2.91 2.79 4.09 3.69 2.76 2.41]]\n",
      "sample_cards_vec generating 5000\n",
      "sample_cards_vec took 0.09768 Deals: 2977\n",
      "n_samples 2977 matching bidding info\n",
      "Samples after bidding filtering:  2977  Threshold:  0.7\n",
      " X    0.627 Samples: 200\n",
      "bidding_rollout - n_samples:  200\n",
      "bidding_rollout - finished  (200, 64)\n",
      "[  -96.39  -156.22  -593.53  -505.28  -253.41  -395.31  -197.99  -681.61  -116.64  -231.95  -206.76  -827.18  -222.74  -236.71  -834.33   493.39  -239.95  -685.6   -239.72   125.92  -164.03 -1340.64\n",
      "   233.25 -1563.37  -639.31  -175.01  -614.73   168.47  -196.22 -1438.61  -210.93   -96.76   268.55    55.7   -193.31  -165.39  -609.43  -575.57    75.31  -200.42   519.41  -500.44  -338.73  -605.83\n",
      "  -151.6   -256.64   206.85 -1153.97   184.44    93.96  -276.35   486.33  -748.27 -1278.64   126.19  -227.78  -494.08  -214.41  -193.48  1512.15  -258.49 -1210.15  -162.63  -163.1   -173.52 -1128.61\n",
      "  -921.75   -13.47  -204.57  -199.89  -152.05   399.85  -588.19  -364.93  -192.85   362.63  -110.92  -365.83   394.47  -194.88  -109.29    45.09    79.8   -312.43   266.14  -641.57  -684.91   262.04\n",
      " -2521.62  -144.07  -820.63  -525.51  -687.83  -254.86  1352.15    14.62  -539.95   273.36 -1131.85   185.58  -377.96  -954.89 -1061.74  -503.4    -23.34  -424.39  -238.05  -689.73  -634.03  -238.42\n",
      "  -593.05    66.57  -217.24   -34.06   146.14  -173.61  -504.51   278.25 -1350.53  -164.25  -833.79   373.9    277.86   320.55   -55.82  -159.84 -1387.18   372.47  -624.36  -103.38   417.52  -503.04\n",
      "  -486.38   276.92    -6.16  -560.3   -851.28  -181.24   959.37   -77.01    38.08  -204.63  -172.73  -201.39 -1388.6   -603.85    -8.67  -603.64  -233.76  -424.19  -237.36   -32.68 -1350.35   153.35\n",
      "   151.36  -232.76   678.48 -1244.97  -628.47  -532.81  -275.65  -586.21  -637.82  -460.2   -194.18  -273.   -1005.42   114.6   1476.64  -715.82    99.46   529.27  -168.66  -590.38   318.31    -3.56\n",
      "  -414.61  -690.94  -239.18  -677.72   236.15  -151.16   -96.4  -1145.13  -211.98   166.51  -159.4   -296.51 -1127.35  -341.43  -204.14  -678.13 -1079.48  -120.5   -338.02  -700.89  -244.5  -2083.4\n",
      "  -172.6  -1447.85]\n",
      "CandidateBid(bid=X   , insta_score=0.6273, expected_score=-300.67, adjust=  31)\n",
      " PASS 0.372 Samples: 200\n",
      "bidding_rollout - n_samples:  200\n",
      "bidding_rollout - finished  (200, 64)\n",
      "[  112.66    21.31    61.88  -615.65    -7.94   464.07  -318.37  -109.6   -103.18  -231.95  -206.77  -476.79  -166.95  -236.71   -94.47  1155.81   312.26  -685.6   -841.95   266.41   304.41   109.63\n",
      "   186.31   658.98    74.55   376.8   -197.2     69.68   363.21  -177.17  -416.55  -142.66   156.5   -124.8    100.92  -165.39    82.77  -674.08  -557.9    249.8    -70.19   188.53  -161.78  -317.01\n",
      "   293.06   528.42   206.85  -869.77  1539.3    551.39  -824.65  1109.1   -188.15  -242.29   555.42  -227.78   289.65  -266.37  -339.49  1882.51   328.85  -882.85  -147.93   554.09  -174.92 -1056.47\n",
      "  -979.97  2142.63   142.3   -199.94   380.68   -74.61  -949.58   222.38   937.59  1397.67   -85.01   280.05  -171.13  -170.46  1037.56   741.82   -17.12   306.3    558.75  -205.69  -967.77  1980.14\n",
      " -1179.76    97.09 -1157.15  -207.06  1071.89  -207.58   274.66   654.59  -398.02 -1108.16 -1131.85  -163.82  -372.36  -226.4    527.27  -173.42  -369.66   776.96 -1015.97 -1082.27  -203.17  -243.78\n",
      "  -197.14    27.15  -401.91  1110.68  -140.07   275.64   543.39   342.69  -156.81  -169.76    39.29   473.91  -144.51  -126.29   -55.82  -129.63   -13.44   170.64  -624.36   366.97  -181.18   165.46\n",
      "  -459.61   280.07  2107.56  -325.73    25.3   -182.6   -374.29  -146.61    97.64  -815.83   216.53   401.32  -652.49  -343.57  -615.97  -349.35 -1068.11  1150.01  -993.32    62.44   307.74  -172.49\n",
      "   151.36 -1030.59   205.84  -241.3   -202.53  -532.81  -195.23  -500.69 -1068.03  -479.92  -233.67  -195.97  -229.63    45.53  -195.36  -715.82   276.41   -52.65   372.65  -170.62   186.86  -172.2\n",
      "  -282.9  -1122.67  -949.89  -173.61  -154.65  -151.16   202.34   510.5   -211.99  -171.81  -946.84  -196.71 -1127.35   305.29  -204.16  -232.     596.02   371.35   302.02  -215.31   388.29  -342.58\n",
      "  -173.95   -95.77]\n",
      "CandidateBid(bid=PASS, insta_score=0.3717, expected_score=-42.15, adjust=  19)\n",
      "1: PASS Insta_score: 0.372 Expected Score: -42   Adjustment:18   \n",
      "2: X    Insta_score: 0.627 Expected Score: -300  Adjustment:31   \n",
      "PASS  selected\n"
     ]
    },
    {
     "data": {
      "text/plain": [
       "[{'call': 'PASS',\n",
       "  'insta_score': 0.372,\n",
       "  'expected_score': -42,\n",
       "  'adjustment': 19},\n",
       " {'call': 'X', 'insta_score': 0.627, 'expected_score': -301, 'adjustment': 31}]"
      ]
     },
     "execution_count": 2,
     "metadata": {},
     "output_type": "execute_result"
    }
   ],
   "source": [
    "# East deals, EW vulnerable.\n",
    "vuln_ns, vuln_ew = True, True\n",
    "\n",
    "# You sit North and hold:\n",
    "hand = 'J.32.KJ983.QJT74'\n",
    "\n",
    "auction = [\"PAD_START\",\"2C\"]\n",
    "bot_bid = BotBid([vuln_ns, vuln_ew], hand, models, sampler, 0, 0, True)\n",
    "\n",
    "bid = bot_bid.bid(auction)\n",
    "bid.to_dict()['candidates']\n",
    "\n",
    "# what's your bid?"
   ]
  },
  {
   "cell_type": "markdown",
   "id": "ad120123",
   "metadata": {},
   "source": [
    "in the output above:\n",
    "- `insta_score` reflects what the neural network prefers to bid\n",
    "- `expected_score` is based on what you expect to score on difference samples (for example, 70% of the time you are making and 30% of the time you are going one off, then the expected score is 0.7 * 620 - 0.3 * 100)"
   ]
  },
  {
   "cell_type": "markdown",
   "id": "051ff121",
   "metadata": {},
   "source": [
    "### Samples consistent with the auction so far\n",
    "\n",
    "Above we said that we are computig expected scores on samples consistent with the auction so far.\n",
    "\n",
    "How do we get these samples?\n",
    "\n",
    "We get some samples in the response we get from the bot (i.e `bid.samples`)"
   ]
  },
  {
   "cell_type": "code",
   "execution_count": 3,
   "id": "55b647a5",
   "metadata": {},
   "outputs": [
    {
     "name": "stdout",
     "output_type": "stream",
     "text": [
      "J.xx.KJ98x.QJTxx Qxxx.KJxx.xx.K8x 98xx.Txx.AQTx.xx AKTx.AQ98.xx.A9x 0.75000 \n",
      " 2C-X-2N-3C-X-P-4N-P-5D-P-5H-P-P-P (10.1, 10.9)  \n",
      " 2C-P-2N-P-3C-P-3H-P-4H-P-4N-P-5D-P-5N-P-6D-P-6H-P-P-P (10.1, 11.0) \n",
      "J.xx.KJ98x.QJTxx KTxxx.JT9.xxx.8x Axx.Q8xx.Txx.K9x Q98x.AKxx.AQ.Axx 0.75009 \n",
      " 2C-X-2N-3C-P-3H-3S-P-P-P (9.8, 9.7)  \n",
      " 2C-P-2N-P-3H-P-4N-P-5D-P-5S-P-P-P (9.8, 9.7) \n",
      "J.xx.KJ98x.QJTxx Txx.AKT9xx.xx.8x K9xx.QJ.QTx.9xxx AQ8xx.8xx.Axx.AK 0.75001 \n",
      " 2C-X-2S-3C-P-3S-4S-P-P-P (10.9, 9.8)  \n",
      " 2C-P-2S-P-3C-P-4N-P-5D-P-5N-P-6D-P-6N-P-P-P (9.8, 9.6) \n",
      "J.xx.KJ98x.QJTxx K8xxx.K9xx.Txx.x 9xxx.QT.Qxxx.A9x AQT.AJ8xx.A.K8xx 0.75012 \n",
      " 2C-X-2H-3C-3H-P-4N-P-5D-P-5H-P-P-P (11.4, 11.3)  \n",
      " 2C-P-2H-P-3H-P-4N-P-5D-P-5S-P-6H-P-P-P (11.4, 11.3) \n",
      "J.xx.KJ98x.QJTxx Qxxx.AT9xx.xx.xx KTxx.QJx.Qxx.8xx A98x.K8x.ATx.AK9 0.75001 \n",
      " 2C-X-2N-3C-P-3S-3N-P-P-P (8.6, 8.7)  \n",
      " 2C-P-2N-P-3C-P-4N-P-5D-P-5H-P-P-P (9.8, 9.5) \n",
      "J.xx.KJ98x.QJTxx KT9xx.Jx.Qxx.8xx 8xxx.AK8xx.T.9xx AQx.QT9x.Axxx.AK 0.75003 \n",
      " 2C-X-2N-3C-P-3H-3N-P-P-P (9.1, 8.7)  \n",
      " 2C-P-2N-P-3H-X-4N-P-5C-P-5N-P-6D-P-6H-P-P-P (7.4, 8.0) \n",
      "J.xx.KJ98x.QJTxx 8xx.Q8xx.AQx.Axx QT9x.T9xx.xxx.8x AKxxx.AKJ.Tx.K9x 0.75017 \n",
      " 2C-X-2S-3C-P-P-3S-P-P-P (10.9, 10.6)  \n",
      " 2C-P-2S-P-3S-P-4N-P-5H-P-5N-P-6C-P-6S-P-P-P (10.9, 10.6) \n",
      "J.xx.KJ98x.QJTxx xxxx.T8xx.Qx.Kxx KQTxx.Q9.xxx.A9x A98.AKJxx.ATx.8x 0.75000 \n",
      " 2C-X-2H-3C-P-3S-X-P-P-P (6.4, 7.1)  \n",
      " 2C-P-2H-P-P-P (8.6, 8.6) \n",
      "J.xx.KJ98x.QJTxx Txxx.98x.xxx.K9x Q8xx.KQJx.Tx.xxx AK9x.ATxx.AQx.A8 0.75011 \n",
      " 2C-X-2N-3C-P-P-3S-P-P-P (9.4, 8.8)  \n",
      " 2C-P-2N-P-P-P (8.5, 8.2) \n",
      "J.xx.KJ98x.QJTxx Txx.AQ98x.Qxx.8x 8xxx.Txxx.T.Kxxx AKQ9x.KJ.Axxx.A9 0.80894 \n",
      " 2C-X-XX-2D-2H-P-2S-P-P-P (12.1, 11.5)  \n",
      " 2C-P-2S-P-P-P (12.1, 11.2) \n"
     ]
    }
   ],
   "source": [
    "### Samples consistent with the auction so far\n",
    "\n",
    "for i in range(min(10,len(bid.samples))):\n",
    "    print(bid.samples[i])\n"
   ]
  },
  {
   "cell_type": "markdown",
   "id": "7d0dd8f5",
   "metadata": {},
   "source": [
    "each row is one sample. the hands are in the order: N E S W\n",
    "\n",
    "(West always has the same cards because it's your hand and it's known to you)"
   ]
  },
  {
   "cell_type": "code",
   "execution_count": 4,
   "id": "7101e514",
   "metadata": {},
   "outputs": [
    {
     "name": "stdout",
     "output_type": "stream",
     "text": [
      "sample_cards_auction, nsteps= 3\n",
      "NS:  1.0 EW:  99.0 Auction:  ['PAD_START', 'PAD_START', 'PAD_START', 'PASS', '1N', 'PASS', '3S', 'PASS']\n",
      "nesw_i 0\n",
      "Player:  N Hand:  J.xx.KJ98x.QJTxx\n",
      "HCP:  [[ 7.98 16.72  7.62]]\n",
      "Shape:  [[2.58 4.16 3.25 3.06 6.29 2.82 1.93 1.87 2.74 3.91 3.21 3.13]]\n",
      "sample_cards_vec generating 5000\n",
      "sample_cards_vec took 0.112 Deals: 2430\n",
      "n_samples 5000 matching bidding info\n",
      "Samples after bidding filtering:  0  Threshold:  0.7\n",
      "Only found 36 10\n",
      "Good quality: True\n",
      "J.xx.KJ98x.QJTxx KT9xx.Q98x.xxx.x AQxx.AKx.Axx.AKx 8xx.JTxx.QT.98xx 0.50\n",
      "J.xx.KJ98x.QJTxx QTxxx.Txx.Tx.xxx A8xx.AK8.AQx.AK8 K9x.QJ9xx.xxx.9x 0.50\n",
      "J.xx.KJ98x.QJTxx K9xxx.K9x.QTx.xx AQT.AJTx.xx.A9xx 8xxx.Q8xx.Axx.K8 0.50\n",
      "J.xx.KJ98x.QJTxx Txx.98.Axxxx.A8x AK98xx.AKQTxx..x Qxx.Jxx.QTx.K9xx 0.50\n",
      "J.xx.KJ98x.QJTxx 9xx.KJT8xx.Tx.xx AKTx.AQx.Ax.AK8x Q8xxx.9x.Qxxx.9x 0.50\n",
      "J.xx.KJ98x.QJTxx Txxx.K9xx.Txx.xx KQ9x.AJ8.AQxx.AK A8xx.QTxx.x.98xx 0.50\n",
      "J.xx.KJ98x.QJTxx QTxx.T9x.Axx.A9x AK98xx.AKQ8xx.x. xx.Jx.QTxx.K8xxx 0.50\n",
      "J.xx.KJ98x.QJTxx KTxx.T9xx.Tx.8xx A9xx.AJx.AQx.AKx Q8xx.KQ8x.xxx.9x 0.50\n",
      "J.xx.KJ98x.QJTxx AKTx.J8xx.xx.8xx Q98x.AK.xx.AK9xx xxxx.QT9xx.AQTx. 0.50\n",
      "J.xx.KJ98x.QJTxx Q98x.KT8.xxx.8xx AKxx.Q9x.AQT.AKx Txxx.AJxxx.xx.9x 0.50\n"
     ]
    }
   ],
   "source": [
    "# we got some samples above. if we want more, we can always get more\n",
    "\n",
    "auction = [\"PAD_START\", \"PAD_START\", \"PAD_START\", \"PASS\", \"1N\", \"PASS\", \"3S\",\"PASS\"]\n",
    "sample_hands, sorted_score, p_hcp, p_shp, good_quality = bot_bid.sample_hands_for_auction(auction,0)\n",
    "print(\"Good quality:\", good_quality)\n",
    "for i in range(min(10,sample_hands.shape[0])):\n",
    "    print(f'{hand_to_str(sample_hands[i, 0, :])} {hand_to_str(sample_hands[i, 1, :])} {hand_to_str(sample_hands[i, 2, :])} {hand_to_str(sample_hands[i, 3, :])} {sorted_score[i]:.2f}')"
   ]
  }
 ],
 "metadata": {
  "kernelspec": {
   "display_name": "Python 3 (ipykernel)",
   "language": "python",
   "name": "python3"
  },
  "language_info": {
   "codemirror_mode": {
    "name": "ipython",
    "version": 3
   },
   "file_extension": ".py",
   "mimetype": "text/x-python",
   "name": "python",
   "nbconvert_exporter": "python",
   "pygments_lexer": "ipython3",
   "version": "3.11.0"
  }
 },
 "nbformat": 4,
 "nbformat_minor": 5
}
