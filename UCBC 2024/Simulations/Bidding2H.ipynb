{
 "cells": [
  {
   "cell_type": "markdown",
   "id": "75d07246",
   "metadata": {},
   "source": [
    "# Bidding\n",
    "\n",
    "This is a tutorial for how to use the bidding engine"
   ]
  },
  {
   "cell_type": "code",
   "execution_count": 1,
   "id": "59a5664c",
   "metadata": {},
   "outputs": [
    {
     "name": "stdout",
     "output_type": "stream",
     "text": [
      "WARNING:tensorflow:From c:\\Python311\\Lib\\site-packages\\tensorflow\\python\\compat\\v2_compat.py:107: disable_resource_variables (from tensorflow.python.ops.variable_scope) is deprecated and will be removed in a future version.\n",
      "Instructions for updating:\n",
      "non-resource variables are not supported in the long term\n"
     ]
    }
   ],
   "source": [
    "import sys\n",
    "sys.path.append('../../src')\n",
    "\n",
    "from nn.models import Models\n",
    "from bots import BotBid\n",
    "from util import hand_to_str\n",
    "from sample import Sample\n",
    "import conf\n",
    "import numpy as np\n",
    "\n",
    "np.set_printoptions(precision=2, suppress=True, linewidth=200)\n",
    "np.random.seed(42)\n"
   ]
  },
  {
   "cell_type": "code",
   "execution_count": 2,
   "id": "44786d5d",
   "metadata": {},
   "outputs": [
    {
     "name": "stdout",
     "output_type": "stream",
     "text": [
      "INFO:tensorflow:Restoring parameters from ..\\Models/bidding-3233000\n",
      "INFO:tensorflow:Restoring parameters from ..\\Models/binfo-808000\n",
      "INFO:tensorflow:Restoring parameters from ..\\Models/lead_suit-154000\n",
      "INFO:tensorflow:Restoring parameters from ..\\Models/lead_nt-59000\n",
      "INFO:tensorflow:Restoring parameters from ..\\Models/lr3-1000000\n",
      "INFO:tensorflow:Restoring parameters from ..\\Models/lefty-1000000\n",
      "INFO:tensorflow:Restoring parameters from ..\\Models/dummy-920000\n",
      "INFO:tensorflow:Restoring parameters from ..\\Models/righty-1000000\n",
      "INFO:tensorflow:Restoring parameters from ..\\Models/decl-1000000\n"
     ]
    }
   ],
   "source": [
    "models = Models.from_conf(conf.load('../Conf/UCBC2024.conf'),'..')   # loading neural networks\n",
    "sampler = Sample.from_conf(conf.load('../Conf/UCBC2024.conf'), False)  # Load sampling strategies\n"
   ]
  },
  {
   "cell_type": "markdown",
   "id": "10d8f2fc",
   "metadata": {},
   "source": [
    "### Running through an example"
   ]
  },
  {
   "cell_type": "code",
   "execution_count": 3,
   "id": "19dbfeb7",
   "metadata": {},
   "outputs": [
    {
     "data": {
      "text/plain": [
       "[{'call': 'PASS', 'insta_score': 0.9765}]"
      ]
     },
     "execution_count": 3,
     "metadata": {},
     "output_type": "execute_result"
    }
   ],
   "source": [
    "# East deals, EW vulnerable.\n",
    "vuln_ns, vuln_ew = False, True\n",
    "\n",
    "# you sit West and hold:\n",
    "hand = 'AKQJ95.J54..K953'\n",
    "\n",
    "# the auction goes:\n",
    "# (a few words about 'PAD_START':\n",
    "# the auction is padded to dealer North\n",
    "# if North is not dealer, than we have to put in a 'PAD_START' for every seat that was skipped\n",
    "# if East deals we have one pad (because North is skipped)\n",
    "# if South deals we have two pads (because North and East are skipped)\n",
    "# etc.)\n",
    "auction = [\"PAD_START\", \"2D\", \"PASS\"]\n",
    "bot_bid = BotBid([vuln_ns, vuln_ew], hand, models, sampler, False)\n",
    "\n",
    "bid = bot_bid.bid(auction)\n",
    "bid.to_dict()['candidates']\n",
    "\n",
    "# what's your bid?"
   ]
  },
  {
   "cell_type": "code",
   "execution_count": 4,
   "id": "bfe98f56",
   "metadata": {},
   "outputs": [
    {
     "data": {
      "text/plain": [
       "[{'call': '2H', 'insta_score': 0.007, 'expected_score': 45, 'adjustment': 0},\n",
       " {'call': 'PASS',\n",
       "  'insta_score': 0.9783,\n",
       "  'expected_score': -41,\n",
       "  'adjustment': 49}]"
      ]
     },
     "execution_count": 4,
     "metadata": {},
     "output_type": "execute_result"
    }
   ],
   "source": [
    "auction = [\"PAD_START\", \"2D\", \"PASS\", \"PASS\", \"X\", \"PASS\", \"PASS\"]\n",
    "bid = bot_bid.bid(auction)\n",
    "\n",
    "bid.to_dict()['candidates']"
   ]
  },
  {
   "cell_type": "markdown",
   "id": "ad120123",
   "metadata": {},
   "source": [
    "in the output above:\n",
    "- `insta_score` reflects what the neural network prefers to bid\n",
    "- `expected_score` is based on what you expect to score on difference samples (for example, 70% of the time you are making and 30% of the time you are going one off, then the expected score is 0.7 * 620 - 0.3 * 100)"
   ]
  },
  {
   "cell_type": "markdown",
   "id": "051ff121",
   "metadata": {},
   "source": [
    "### Samples consistent with the auction so far\n",
    "\n",
    "Above we said that we are computig expected scores on samples consistent with the auction so far.\n",
    "\n",
    "How do we get these samples?\n",
    "\n",
    "We get some samples in the response we get from the bot (i.e `bid.samples`)"
   ]
  },
  {
   "cell_type": "code",
   "execution_count": 5,
   "id": "55b647a5",
   "metadata": {},
   "outputs": [
    {
     "data": {
      "text/plain": [
       "['8xxx.KQxx.A.AQxx Tx.A9x.KQxxxx.Tx x.T8x.JT98xx.J8x AKQJ9x.Jxx..K9xx 0.80416 2D-P-P-X-P-P-P (7.8)  2D-P-P-X-P-P-2H-P-P-P (8.1) ',\n",
       " 'Txx.A8xx.AJ.AQ8x x.KQT.K98xxx.Txx 8xx.9xx.QTxxx.Jx AKQJ9x.Jxx..K9xx 0.75914 2D-P-P-X-P-P-P (7.6)  2D-P-P-X-P-P-2H-P-P-P (8.9) ',\n",
       " 'xxx.AKQx.Jx.Axxx x.9xx.AK9xxx.QTx T8x.T8x.QT8xx.J8 AKQJ9x.Jxx..K9xx 0.74239 2D-P-P-X-P-P-P (7.7)  2D-P-P-X-P-P-2H-P-P-P (8.0) ',\n",
       " 'xxxx.KQxx.KT.AQx 8.Txx.AQJ9xx.xxx Tx.A98.8xxxx.JT8 AKQJ9x.Jxx..K9xx 0.67475 2D-P-P-X-P-P-P (7.7)  2D-P-P-X-P-P-2H-P-P-P (7.5) ',\n",
       " 'Txx.AK9x.AQx.AQx xx.Qxx.KJ9xxx.8x 8x.T8x.T8xx.JTxx AKQJ9x.Jxx..K9xx 0.62271 2D-P-P-X-P-P-P (6.5)  2D-P-P-X-P-P-2H-X-P-3C-P-P-P (6.7) ',\n",
       " 'T8x.AK9x.Qx.AJxx x.8xx.AJT8xx.QT8 xxx.QTx.K9xxx.xx AKQJ9x.Jxx..K9xx 0.59671 2D-P-P-X-P-P-P (7.3)  2D-P-P-X-P-P-2H-P-P-P (7.6) ',\n",
       " 'x.AKQ98.Axx.AJ8x xxx.xx.KQT9xx.Qx T8x.Txx.J8xx.Txx AKQJ9x.Jxx..K9xx 0.57238 2D-P-P-X-P-P-P (7.6)  2D-P-P-X-P-P-2H-P-P-P (7.5) ',\n",
       " 'Txx.AK9x.Kx.QT8x 8x.Txx.QJ98xx.AJ xx.Q8x.ATxxx.xxx AKQJ9x.Jxx..K9xx 0.51474 2D-P-P-X-P-P-P (7.8)  2D-P-P-X-P-P-2H-P-P-P (7.9) ',\n",
       " '8.AKQ9.Axx.AQJ8x Tx.xx.KQJT8x.Txx xxxx.T8xx.9xxx.x AKQJ9x.Jxx..K9xx 0.51205 2D-P-P-X-P-P-P (7.1)  2D-P-P-X-P-P-2H-3C-P-P-P (7.5) ',\n",
       " 'Txx.AKT9.AQx.QTx x.8xx.K98xxx.Axx 8xx.Qxx.JTxx.J8x AKQJ9x.Jxx..K9xx 0.43769 2D-P-P-X-P-P-P (7.2)  2D-P-P-X-P-P-2H-P-P-P (7.8) ',\n",
       " '8.AKQTx.Q9x.AQJx xx.x.AKJT8x.T8xx Txxx.98xx.xxxx.x AKQJ9x.Jxx..K9xx 0.42875 2D-P-P-X-P-P-P (8.1)  2D-P-P-X-P-P-2H-P-3D-P-P-P (8.1) ',\n",
       " 'xxx.AKQx.QTx.AQJ x.98x.AKJxxx.8xx T8x.Txx.98xx.Txx AKQJ9x.Jxx..K9xx 0.30047 2D-P-P-X-P-P-P (7.8)  2D-P-P-X-P-P-2H-X-P-P-P (7.7) ']"
      ]
     },
     "execution_count": 5,
     "metadata": {},
     "output_type": "execute_result"
    }
   ],
   "source": [
    "bid.samples"
   ]
  },
  {
   "cell_type": "markdown",
   "id": "7d0dd8f5",
   "metadata": {},
   "source": [
    "each row is one sample. the hands are in the order: N E S W\n",
    "\n",
    "(West always has the same cards because it's your hand and it's known to you)"
   ]
  },
  {
   "cell_type": "code",
   "execution_count": 6,
   "id": "7101e514",
   "metadata": {},
   "outputs": [
    {
     "name": "stdout",
     "output_type": "stream",
     "text": [
      "AKQJ9x.Jxx..K9xx Txx.K8x.J8xxx.xx 8.T9xx.KQ9x.AQTx xxx.AQx.ATxx.J8x\n",
      "AKQJ9x.Jxx..K9xx Txx.A9x.AJTxx.8x x.Q8xx.KQ8x.QJxx 8xx.KTx.9xxx.ATx\n",
      "AKQJ9x.Jxx..K9xx xx.AKQ9.9xx.QT8x x.T8xx.AKJx.Axxx T8xx.xx.QT8xxx.J\n",
      "AKQJ9x.Jxx..K9xx Txx.QT9x.Axxx.Jx .K8xx.Jxx.AQT8xx 8xxx.Ax.KQT98x.x\n",
      "AKQJ9x.Jxx..K9xx 8xx.8x.QJxxx.AJ8 x.QTxx.AK8xx.Qxx Txx.AK9x.T9x.Txx\n",
      "AKQJ9x.Jxx..K9xx 8xx.QT9.QT8xx.Jx x.Kxxx.A9xx.AQxx Txx.A8x.KJxx.T8x\n",
      "AKQJ9x.Jxx..K9xx xxx.8xx.A8xx.AQx x.AQTx.KQxx.JTxx T8x.K9x.JT9xx.8x\n",
      "AKQJ9x.Jxx..K9xx Txx.AQ8x.QJx.A8x x.KTxx.A8xxx.QTx 8xx.9x.KT9xx.Jxx\n",
      "AKQJ9x.Jxx..K9xx 8x.Q8x.KJTxx.Txx x.AKxx.9xxx.QJxx Txxx.T9x.AQ8x.A8\n",
      "AKQJ9x.Jxx..K9xx xxxx.K9.AQTxxx.x T.A8xx.K9xx.QT8x 8x.QTxx.J8x.AJxx\n",
      "AKQJ9x.Jxx..K9xx 8xxx.9xx.AK9x.8x x.KQTx.QJxx.AQxx Tx.A8x.T8xxx.JTx\n",
      "AKQJ9x.Jxx..K9xx 8xxx.KT8.QJ9x.Tx x.AQxx.Axxx.J8xx Tx.9xx.KT8xx.AQx\n",
      "AKQJ9x.Jxx..K9xx Txxx.9x.AKJ9.JTx x.AQTx.Q8x.AQxxx 8x.K8xx.Txxxxx.8\n",
      "AKQJ9x.Jxx..K9xx T8x.K8x.K8x.Q8xx x.9xxx.AQxxx.ATx xxx.AQT.JT9xx.Jx\n",
      "AKQJ9x.Jxx..K9xx xx.K9x.K9xxx.JTx T.QT8x.AT8xx.A8x 8xxx.Axx.QJx.Qxx\n",
      "AKQJ9x.Jxx..K9xx 8xx.Kx.AJ8xx.AJx x.AT98.KT9xx.Q8x Txx.Qxxx.Qxx.Txx\n",
      "AKQJ9x.Jxx..K9xx xx.Kxx.AJT.QT8xx T.QT98.KQ98xx.Ax 8xxx.Axx.xxxx.Jx\n",
      "AKQJ9x.Jxx..K9xx xxx.Q9xxx.AJ8.8x x.AT8x.KQxxx.Jxx T8x.K.T9xxx.AQTx\n",
      "AKQJ9x.Jxx..K9xx Txxx.KQx.QJT9.Jx 8.98xx.AK8xx.ATx xx.ATx.xxxx.Q8xx\n",
      "AKQJ9x.Jxx..K9xx 8xx.A9x.AQxx.A8x x.KTxx.KJ8xx.QJx Txx.Q8x.T9xx.Txx\n",
      "AKQJ9x.Jxx..K9xx T8x.AQ8.QJ8xx.xx x.KT9x.KTxx.AJT8 xxx.xxx.A9xx.Qxx\n",
      "AKQJ9x.Jxx..K9xx T8x.AKT.xxx.Txxx x.Q98x.KJ98x.A8x xxx.xxx.AQTxx.QJ\n",
      "AKQJ9x.Jxx..K9xx xxx.8x.AJxx.QTxx 8.AK9x.Q8xxx.8xx Txx.QTxx.KT9x.AJ\n",
      "AKQJ9x.Jxx..K9xx Txxx.QTx.8xx.A8x x.A8xx.AQJ9xx.xx 8x.K9x.KTxx.QJTx\n",
      "AKQJ9x.Jxx..K9xx xx.Kxx.QJxx.A8xx 8.A9xx.AT98xx.QJ Txxx.QT8.Kxx.Txx\n",
      "AKQJ9x.Jxx..K9xx T8xx.9x.AQJx.AT8 x.AT8x.KT9xx.QJx xx.KQxx.8xxx.xxx\n",
      "AKQJ9x.Jxx..K9xx 8xxxx.Tx.AJxx.J8 T.K8xx.KT8xxx.Ax x.AQ9x.Q9x.QTxxx\n",
      "AKQJ9x.Jxx..K9xx xx.8xxx.QJxxxx.x x.AKQT.T98x.AQ8x T8xx.9x.AKx.JTxx\n",
      "AKQJ9x.Jxx..K9xx xxxx.Ax.Axx.Qxxx 8.Q8xx.KJT8xx.AJ Tx.KT9x.Q9xx.T8x\n",
      "AKQJ9x.Jxx..K9xx Txx.Kx.AKJTx.Jxx x.A9xx.Q98xx.A8x 8xx.QT8x.xxx.QTx\n",
      "AKQJ9x.Jxx..K9xx xxx.AKQT.Jxxx.Qx x.9xxx.AK98x.AJx T8x.8x.QTxx.T8xx\n",
      "AKQJ9x.Jxx..K9xx T8xx.K9xx.8xxx.A x.AQxx.KQT9xx.Q8 xx.T8.AJx.JTxxxx\n",
      "AKQJ9x.Jxx..K9xx xxx.AKQT.Kxx.Jxx T.8xxx.AQTxxx.AT 8xx.9x.J98x.Q8xx\n",
      "AKQJ9x.Jxx..K9xx Tx.T8xx.A9xx.T8x .AKxx.KQTxx.AJxx 8xxxx.Q9.J8xx.Qx\n",
      "AKQJ9x.Jxx..K9xx xxx.Txx.KTxxx.8x 8.KQ8x.AJ8x.QJTx Txx.A9x.Q9xx.Axx\n",
      "AKQJ9x.Jxx..K9xx T8xx.xx.Axxx.Txx x.AKQ9.QJT9xx.xx xx.T8xx.K8x.AQJ8\n",
      "AKQJ9x.Jxx..K9xx 8xx.Axx.8xx.J8xx x.KQ8x.AQT9xx.Tx Txx.T9x.KJxx.AQx\n",
      "AKQJ9x.Jxx..K9xx Txx.Qx.KJ9xx.JTx x.AKxx.xxx.AQ8xx 8xx.T98x.AQT8x.x\n",
      "AKQJ9x.Jxx..K9xx Txx.KQ9x.9xx.Qxx x.AT8x.AQJxxx.J8 8xx.xx.KT8x.ATxx\n",
      "AKQJ9x.Jxx..K9xx T8x.AQx.Qxxx.QJx x.98xx.AJTxx.Axx xxx.KTx.K98x.T8x\n",
      "AKQJ9x.Jxx..K9xx T8xx.QT.Kxx.JT8x x.Axxx.AQ9xxx.Ax xx.K98x.JT8x.Qxx\n",
      "AKQJ9x.Jxx..K9xx xxx.xx.Q9x.Qxxxx T.AQ8x.AJT8xx.JT 8xx.KT9x.Kxxx.A8\n",
      "AKQJ9x.Jxx..K9xx xxxx.xx.AJxx.Jxx T.AK98.QT98x.T8x 8x.QTxx.Kxxx.AQx\n",
      "AKQJ9x.Jxx..K9xx Txx.8xx.AQ8xx.xx 8.AKQx.Txxx.AT8x xxx.T9x.KJ9x.QJx\n",
      "AKQJ9x.Jxx..K9xx xxx.xxx.Q8xxx.8x x.QT8x.AKTx.AQJx T8x.AK9.J9xx.Txx\n",
      "AKQJ9x.Jxx..K9xx 8xx.K98.AQTx.8xx x.ATxx.J9xxx.AQJ Txx.Qxx.K8xx.Txx\n",
      "AKQJ9x.Jxx..K9xx T8xx.xx.KJ9xx.AQ x.AK9x.Q8xxx.JTx xx.QT8x.ATx.8xxx\n",
      "AKQJ9x.Jxx..K9xx T8x.KT8xx.Kxx.xx x.AQ9x.AJT9x.Qxx xxx.x.Q8xxx.AJT8\n",
      "AKQJ9x.Jxx..K9xx 8xxx.Q9x.Kxx.AT8 x.ATxx.AQJTx.QJx Tx.K8x.98xxx.xxx\n",
      "AKQJ9x.Jxx..K9xx T8.xxx.KT8xx.QJT x.AQT8.A9xxx.Axx xxxx.K9x.QJx.8xx\n",
      "AKQJ9x.Jxx..K9xx 8x.K98x.QTxx.Jxx x.AQTx.KJ8x.AQTx Txxx.xx.A9xxx.8x\n",
      "AKQJ9x.Jxx..K9xx Txx.Txxx.J8xx.Qx x.AQ9x.KQxx.AJxx 8xx.K8.AT9xx.T8x\n",
      "AKQJ9x.Jxx..K9xx Tx.KT8x.Kxxx.8xx 8.Axxx.AQJ8x.ATx xxxx.Q9.T9xx.QJx\n",
      "AKQJ9x.Jxx..K9xx T8xx.9x.AK98x.JT x.AKxx.JTxxx.Axx xx.QT8x.Qxx.Q8xx\n",
      "AKQJ9x.Jxx..K9xx Txx.K9x.QT8.Q8xx x.AQxx.A9xxx.AJx 8xx.T8x.KJxxx.Tx\n",
      "AKQJ9x.Jxx..K9xx 8xx.T8xx.Qxxx.QJ x.KQxx.AK9xx.ATx Txx.A9.JT8x.8xxx\n",
      "AKQJ9x.Jxx..K9xx T8xx.Txx.JT8x.A8 x.AKQ8.AK9x.JTxx xx.9xx.Qxxxx.Qxx\n",
      "AKQJ9x.Jxx..K9xx xx.8.Q98xxx.ATxx 8.AK9x.AKJT.J8xx Txxx.QTxxx.xxx.Q\n"
     ]
    }
   ],
   "source": [
    "# we got some samples above. if we want more, we can always get more\n",
    "\n",
    "sample_hands, sorted_score, p_hcp, p_shp = bot_bid.sample_hands([\"PAD_START\", \"PAD_START\", \"PAD_START\", \"PASS\", \"1N\", \"PASS\", \"3S\",\"PASS\"])\n",
    "\n",
    "for i in range(sample_hands.shape[0]):\n",
    "    print(f'{hand_to_str(sample_hands[i, 0, :])} {hand_to_str(sample_hands[i, 1, :])} {hand_to_str(sample_hands[i, 2, :])} {hand_to_str(sample_hands[i, 3, :])}')"
   ]
  }
 ],
 "metadata": {
  "kernelspec": {
   "display_name": "Python 3 (ipykernel)",
   "language": "python",
   "name": "python3"
  },
  "language_info": {
   "codemirror_mode": {
    "name": "ipython",
    "version": 3
   },
   "file_extension": ".py",
   "mimetype": "text/x-python",
   "name": "python",
   "nbconvert_exporter": "python",
   "pygments_lexer": "ipython3",
   "version": "3.11.0"
  }
 },
 "nbformat": 4,
 "nbformat_minor": 5
}
