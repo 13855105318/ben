{
 "cells": [
  {
   "cell_type": "markdown",
   "id": "75d07246",
   "metadata": {},
   "source": [
    "# Bidding\n",
    "\n",
    "This is a tutorial for how to use the bidding engine"
   ]
  },
  {
   "cell_type": "code",
   "execution_count": 1,
   "id": "59a5664c",
   "metadata": {},
   "outputs": [
    {
     "name": "stdout",
     "output_type": "stream",
     "text": [
      "WARNING:tensorflow:From c:\\Python311\\Lib\\site-packages\\tensorflow\\python\\compat\\v2_compat.py:107: disable_resource_variables (from tensorflow.python.ops.variable_scope) is deprecated and will be removed in a future version.\n",
      "Instructions for updating:\n",
      "non-resource variables are not supported in the long term\n"
     ]
    }
   ],
   "source": [
    "import sys\n",
    "sys.path.append('../../src')\n",
    "\n",
    "from nn.models import Models\n",
    "from bots import BotBid\n",
    "from util import hand_to_str\n",
    "from sample import Sample\n",
    "import conf\n",
    "import numpy as np\n",
    "\n",
    "np.set_printoptions(precision=2, suppress=True, linewidth=200)\n",
    "np.random.seed(42)\n"
   ]
  },
  {
   "cell_type": "code",
   "execution_count": 2,
   "id": "44786d5d",
   "metadata": {},
   "outputs": [
    {
     "name": "stdout",
     "output_type": "stream",
     "text": [
      "INFO:tensorflow:Restoring parameters from ..\\Models/bidding-3233000\n",
      "INFO:tensorflow:Restoring parameters from ..\\Models/binfo-234000\n",
      "INFO:tensorflow:Restoring parameters from ..\\Models/lead_suit-154000\n",
      "INFO:tensorflow:Restoring parameters from ..\\Models/lead_nt-59000\n",
      "INFO:tensorflow:Restoring parameters from ..\\Models/lr3-1000000\n",
      "INFO:tensorflow:Restoring parameters from ..\\Models/lefty-1000000\n",
      "INFO:tensorflow:Restoring parameters from ..\\Models/dummy-920000\n",
      "INFO:tensorflow:Restoring parameters from ..\\Models/righty-1000000\n",
      "INFO:tensorflow:Restoring parameters from ..\\Models/decl-1000000\n"
     ]
    }
   ],
   "source": [
    "models = Models.from_conf(conf.load('../Conf/UCBC2024.conf'),'..')   # loading neural networks\n",
    "sampler = Sample.from_conf(conf.load('../Conf/UCBC2024.conf'), False)  # Load sampling strategies\n"
   ]
  },
  {
   "cell_type": "markdown",
   "id": "10d8f2fc",
   "metadata": {},
   "source": [
    "### Running through an example"
   ]
  },
  {
   "cell_type": "code",
   "execution_count": 3,
   "id": "19dbfeb7",
   "metadata": {},
   "outputs": [
    {
     "data": {
      "text/plain": [
       "[{'call': 'PASS', 'insta_score': 0.967}]"
      ]
     },
     "execution_count": 3,
     "metadata": {},
     "output_type": "execute_result"
    }
   ],
   "source": [
    "# East deals, EW vulnerable.\n",
    "vuln_ns, vuln_ew = False, True\n",
    "\n",
    "# you sit West and hold:\n",
    "hand = 'AKQJ95.J54..K953'\n",
    "\n",
    "# the auction goes:\n",
    "# (a few words about 'PAD_START':\n",
    "# the auction is padded to dealer North\n",
    "# if North is not dealer, than we have to put in a 'PAD_START' for every seat that was skipped\n",
    "# if East deals we have one pad (because North is skipped)\n",
    "# if South deals we have two pads (because North and East are skipped)\n",
    "# etc.)\n",
    "auction = [\"PAD_START\", \"2D\", \"PASS\"]\n",
    "bot_bid = BotBid([vuln_ns, vuln_ew], hand, models, sampler, False)\n",
    "\n",
    "bid = bot_bid.bid(auction)\n",
    "bid.to_dict()['candidates']\n",
    "\n",
    "# what's your bid?"
   ]
  },
  {
   "cell_type": "code",
   "execution_count": 4,
   "id": "bfe98f56",
   "metadata": {},
   "outputs": [
    {
     "data": {
      "text/plain": [
       "[{'call': '2S', 'insta_score': 0.226, 'expected_score': 93, 'adjustment': 11},\n",
       " {'call': 'PASS',\n",
       "  'insta_score': 0.7234,\n",
       "  'expected_score': 36,\n",
       "  'adjustment': 36}]"
      ]
     },
     "execution_count": 4,
     "metadata": {},
     "output_type": "execute_result"
    }
   ],
   "source": [
    "auction = [\"PAD_START\", \"2D\", \"PASS\", \"PASS\", \"X\", \"PASS\", \"PASS\"]\n",
    "bid = bot_bid.bid(auction)\n",
    "\n",
    "bid.to_dict()['candidates']"
   ]
  },
  {
   "cell_type": "markdown",
   "id": "ad120123",
   "metadata": {},
   "source": [
    "in the output above:\n",
    "- `insta_score` reflects what the neural network prefers to bid\n",
    "- `expected_score` is based on what you expect to score on difference samples (for example, 70% of the time you are making and 30% of the time you are going one off, then the expected score is 0.7 * 620 - 0.3 * 100)"
   ]
  },
  {
   "cell_type": "markdown",
   "id": "051ff121",
   "metadata": {},
   "source": [
    "### Samples consistent with the auction so far\n",
    "\n",
    "Above we said that we are computig expected scores on samples consistent with the auction so far.\n",
    "\n",
    "How do we get these samples?\n",
    "\n",
    "We get some samples in the response we get from the bot (i.e `bid.samples`)"
   ]
  },
  {
   "cell_type": "code",
   "execution_count": 5,
   "id": "55b647a5",
   "metadata": {},
   "outputs": [
    {
     "data": {
      "text/plain": [
       "['x.KQT9xx.AKx.AQT Txx.Ax.QJ9xxx.Jx 8xx.8x.T8xx.8xxx AKQJ9x.Jxx..K9xx 0.79717 2D-P-P-X-P-P-P (7.6)  2D-P-P-X-P-P-2S-3H-P-P-P (8.3) ',\n",
       " '8xx.AQxx.Ax.A8xx xx.Txx.KQJT9x.Jx Tx.K98.8xxxx.QTx AKQJ9x.Jxx..K9xx 0.62044 2D-P-P-X-P-P-P (7.8)  2D-P-P-X-P-P-2S-P-P-P (8.7) ',\n",
       " 'x.AKQ9x.A9xx.AJ8 T8x.8x.KQJTxx.Qx xxx.Txx.8xx.Txxx AKQJ9x.Jxx..K9xx 0.45153 2D-P-P-X-P-P-P (8.7)  2D-P-P-X-P-P-2S-3H-P-P-P (8.3) ',\n",
       " 'T8x.KQxx.Kx.AQxx xx.AT8.AJTxxx.T8 xx.9xx.Q98xx.Jxx AKQJ9x.Jxx..K9xx 0.44652 2D-P-P-X-P-P-P (8.7)  2D-P-P-X-P-P-2S-P-P-P (10.3) ',\n",
       " 'xx.AKQ9x.QJ.AQxx T8.T8.AKT8xx.8xx xxx.xxx.9xxxx.JT AKQJ9x.Jxx..K9xx 0.28965 2D-P-P-X-P-P-P (8.0)  2D-P-P-X-P-P-2S-3H-P-P-P (7.4) ',\n",
       " '8xx.AKQT.xx.AQTx Txx.8x.AK8xxx.Jx x.9xxx.QJT9x.8xx AKQJ9x.Jxx..K9xx 0.23851 2D-P-P-X-P-P-P (7.4)  2D-P-P-X-P-P-2S-P-P-P (9.6) ',\n",
       " '8xxx.AQT9.Ax.Axx Tx.Kx.KT9xxx.Q8x x.8xxx.QJ8xx.JTx AKQJ9x.Jxx..K9xx 0.19662 2D-P-P-X-P-P-P (7.3)  2D-P-P-X-P-P-2S-P-P-P (9.8) ',\n",
       " 'T8x.QTxx.AJ.AQTx xxx.Kx.KQT8xx.8x x.A98x.9xxxx.Jxx AKQJ9x.Jxx..K9xx 0.18663 2D-P-P-X-P-P-P (7.9)  2D-P-P-X-P-P-2S-P-P-P (9.5) ',\n",
       " 'T8xx.A98x.AJ.AQx x.Kxx.K98xxxx.Jx xx.QTx.QTxx.T8xx AKQJ9x.Jxx..K9xx 0.17931 2D-P-P-X-P-P-P (7.4)  2D-P-P-X-P-P-2S-P-P-P (8.9) ',\n",
       " 'x.AKQT98.AKx.Qxx x.xxx.QJ9xxx.AJx T8xxx.x.T8xx.T8x AKQJ9x.Jxx..K9xx 0.17292 2D-P-P-X-P-P-P (7.3)  2D-P-P-X-P-P-2S-3H-P-P-P (6.7) ']"
      ]
     },
     "execution_count": 5,
     "metadata": {},
     "output_type": "execute_result"
    }
   ],
   "source": [
    "bid.samples"
   ]
  },
  {
   "cell_type": "markdown",
   "id": "7d0dd8f5",
   "metadata": {},
   "source": [
    "each row is one sample. the hands are in the order: N E S W\n",
    "\n",
    "(West always has the same cards because it's your hand and it's known to you)"
   ]
  },
  {
   "cell_type": "code",
   "execution_count": 6,
   "id": "7101e514",
   "metadata": {},
   "outputs": [
    {
     "name": "stdout",
     "output_type": "stream",
     "text": [
      "AKQJ9x.Jxx..K9xx Txx.AKx.KQx.T8xx 8.8xxx.ATxxx.AQx xxx.QT9.J98xx.Jx\n",
      "AKQJ9x.Jxx..K9xx 8x.A98x.J8x.QJTx x.Txxx.AKTxx.A8x Txxx.KQ.Q9xxx.xx\n",
      "AKQJ9x.Jxx..K9xx Txxx.KTx.QTxx.Qx .A98x.K98xx.AT8x 8xx.Qxx.AJxx.Jxx\n",
      "AKQJ9x.Jxx..K9xx xxx.A8x.QJxxxx.J 8.QTxx.ATx.AQTxx Txx.K9x.K98x.8xx\n",
      "AKQJ9x.Jxx..K9xx 8xxx.AKQx.JTxx.A .T9xx.AKxxx.QT8x Txx.8x.Q98x.Jxxx\n",
      "AKQJ9x.Jxx..K9xx T8x.ATx.T8xxx.T8 x.K8xx.QJx.AQJxx xxx.Q9x.AK9xx.xx\n",
      "AKQJ9x.Jxx..K9xx T8x.K8x.QT98x.Ax x.QTxx.AKxx.QJxx xxx.A9x.Jxxx.T8x\n",
      "AKQJ9x.Jxx..K9xx 8xx.Tx.Axxxx.Q8x x.8xxx.KQ9x.ATxx Txx.AKQ9.JT8x.Jx\n",
      "AKQJ9x.Jxx..K9xx 8xx.Ax.QJ9xx.Qxx x.Qxxx.AKxxx.JT8 Txx.KT98.T8x.Axx\n",
      "AKQJ9x.Jxx..K9xx 8xx.AKx.Q9xx.Q8x x.98xx.A8xx.AJxx Txx.QTx.KJTxx.Tx\n",
      "AKQJ9x.Jxx..K9xx 8xxx.Kxx.Axxx.Jx x.QT8x.KJT98.AQx Tx.A9x.Qxxx.T8xx\n",
      "AKQJ9x.Jxx..K9xx 8xxx.AQxx.KQ9x.T x.KT8x.AJTx.QJxx Tx.9x.8xxxx.A8xx\n",
      "AKQJ9x.Jxx..K9xx 8xx.Txx.AQ9x.Axx x.KQ8x.K8xx.QJTx Txx.A9x.JTxxx.8x\n",
      "AKQJ9x.Jxx..K9xx xxx.AQTx.Q98x.Qx x.Kxxx.Axxxx.A8x T8x.98.KJTx.JTxx\n",
      "AKQJ9x.Jxx..K9xx xxx.Q9.QJT9xx.T8 x.AK8x.Kxx.QJxxx T8x.Txxx.A8xx.Ax\n",
      "AKQJ9x.Jxx..K9xx Tx.A9x.KQJ9.JTxx x.QTxx.AT8xx.AQx 8xxx.K8x.xxxx.8x\n",
      "AKQJ9x.Jxx..K9xx xx.K8xx.Jxxx.J8x 8.AQTx.KT9x.QTxx Txxx.9x.AQ8xx.Ax\n",
      "AKQJ9x.Jxx..K9xx xxx.A.J9xxx.A8xx 8.KQxx.A8xx.QJTx Txx.T98xx.KQTx.x\n",
      "AKQJ9x.Jxx..K9xx 8x.Kx.J9xx.J8xxx x.AT8x.Kxxx.AQTx Txxx.Q9xx.AQT8x.\n",
      "AKQJ9x.Jxx..K9xx Txxx.Kxxx.AQ9x.x x.AQ9x.KT8x.QTxx 8x.T8.Jxxxx.AJ8x\n",
      "AKQJ9x.Jxx..K9xx Txxx.9x.AKx.Qxxx x.AQ8x.T9xx.AJT8 8x.KTxx.QJ8xxx.x\n",
      "AKQJ9x.Jxx..K9xx xxxx.Kx.Txxx.J8x 8.AT9x.AQJ98.Qxx Tx.Q8xx.Kxxx.ATx\n",
      "AKQJ9x.Jxx..K9xx T8x.KTxx.QJx.AQJ x.Q8xx.AKxxx.Txx xxx.A9.T98xx.8xx\n",
      "AKQJ9x.Jxx..K9xx Txxx.AQx.Q8xxx.A x.KT8x.A9xx.QT8x 8x.9xx.KJTx.Jxxx\n",
      "AKQJ9x.Jxx..K9xx xxxx.KQ.Q8xx.Q8x x.A9xx.AKJ9x.Jxx T8.T8xx.Txxx.ATx\n",
      "AKQJ9x.Jxx..K9xx 8xx.KQ8.A98xxx.J x.ATxx.KTxx.AQT8 Txx.9xx.QJx.xxxx\n",
      "AKQJ9x.Jxx..K9xx 8xxx.Kx.KT9x.T8x T.AT8x.AQJ8x.Jxx xx.Q9xx.xxxx.AQx\n",
      "AKQJ9x.Jxx..K9xx Txxx.98.AKTxx.Tx x.AKxx.QJ9x.J8xx 8x.QTxx.8xxx.AQx\n",
      "AKQJ9x.Jxx..K9xx T8xx.Ax.QTx.xx x.Q98x.AKxx.AJTx x.KTx.J98xxx.Q8x\n",
      "AKQJ9x.Jxx..K9xx xxx.Qxx.KJ8xx.Qx x.AKxx.Axxx.J8xx T8x.T98.QT9x.ATx\n",
      "AKQJ9x.Jxx..K9xx Tx.KT9x.AQxxx.Tx x.AQ8x.KJT8x.Jxx 8xxx.xx.9xx.AQ8x\n",
      "AKQJ9x.Jxx..K9xx T8xx.K9x.Axxx.Jx x.AQ8x.KQT9.QT8x xx.Txx.J8xxx.Axx\n",
      "AKQJ9x.Jxx..K9xx xxx.QT9x.Axx.xxx 8.A8xx.KQT8x.T8x Txx.Kx.J9xxx.AQJ\n",
      "AKQJ9x.Jxx..K9xx xx.Q9x.KJT8x.ATx x.K8xx.AQxxx.8xx T8xx.ATx.9xx.QJx\n",
      "AKQJ9x.Jxx..K9xx 8xx.T8x.QJ8xx.xx x.AQxx.ATxx.QJ8x Txx.K9x.K9xx.ATx\n",
      "AKQJ9x.Jxx..K9xx Txx.KT98.Q9xx.QJ x.AQxx.KT8xx.Axx 8xx.xx.AJxx.T8xx\n",
      "AKQJ9x.Jxx..K9xx xxx.Kxx.Qxxx.AJT T.AQ9x.K98xx.xxx 8xx.T8x.AJTx.Q8x\n",
      "AKQJ9x.Jxx..K9xx xxx.KTxx.Axxx.xx T.AQxx.QJxxx.Jxx 8xx.98.KT98.AQT8\n",
      "AKQJ9x.Jxx..K9xx xx.ATxx.AJxx.Qxx T.KQ8x.T9xx.ATxx 8xxx.9x.KQ8xx.J8\n",
      "AKQJ9x.Jxx..K9xx xx.Q8x.AK8xx.Jxx x.AK9x.QTxxx.AT8 T8xx.Txx.J9x.Qxx\n",
      "AKQJ9x.Jxx..K9xx Txx.Ax.A98xx.Q8x x.KQTx.QJxxx.AJx 8xx.98xx.KTx.Txx\n",
      "AKQJ9x.Jxx..K9xx Txxx.9x.A8x.AT8x x.AQTx.QJTxx.QJx 8x.K8xx.K9xxx.xx\n",
      "AKQJ9x.Jxx..K9xx T8xx.Qx.AKJT9.xx x.AK8x.8xxx.AQJx xx.T9xx.Qxxx.T8x\n",
      "AKQJ9x.Jxx..K9xx xxx.A8x.AQxx.J8x x.KQxx.KJ8xx.Txx T8x.T9x.T9xx.AQx\n",
      "AKQJ9x.Jxx..K9xx xx.T8xx.JTxx.Axx x.AKQx.Q9xxx.QTx T8xx.9x.AK8x.J8x\n",
      "AKQJ9x.Jxx..K9xx Txxx.xx.9xxxx.AQ x.A98x.AKQTx.Jxx 8x.KQTx.J8x.T8xx\n",
      "AKQJ9x.Jxx..K9xx xx.K8x.AK8xx.QJT x.AQ9x.JTxxx.Axx T8xx.Txx.Q9x.8xx\n",
      "AKQJ9x.Jxx..K9xx xxxx.9x.Qxxx.AQx .KT8x.AKT8xx.8xx T8x.AQxx.J9x.JTx\n",
      "AKQJ9x.Jxx..K9xx Txx.Q8xx.AQ9x.8x .K9xx.KJT8xx.AJx 8xxx.AT.xxx.QTxx\n",
      "AKQJ9x.Jxx..K9xx 8xxx.Axx.KTx.QJx T.KQTx.AQ98xx.Tx xx.98x.Jxxx.A8xx\n",
      "AKQJ9x.Jxx..K9xx xxx.QTx.AKxx.QJx x.K8xx.QJ9xxx.AT T8x.A9x.T8x.8xxx\n",
      "AKQJ9x.Jxx..K9xx T8xx.Q8x.J9x.ATx x.K9xx.AQT8xx.Jx xx.ATx.Kxxx.Q8xx\n",
      "AKQJ9x.Jxx..K9xx 8xxx.QT8.98xx.Tx T.AKxx.AKxx.J8xx xx.9xx.QJTxx.AQx\n",
      "AKQJ9x.Jxx..K9xx x.9xxx.AJxxx.A8x 8.AKQx.KT8x.QJTx Txxxx.T8.Q9xx.xx\n",
      "AKQJ9x.Jxx..K9xx xxxx.xx.AKx.A8xx x.AKT9.QT9xxx.Qx T8.Q8xx.J8xx.JTx\n",
      "AKQJ9x.Jxx..K9xx Txx.Ax.T98x.J8xx 8.KQ8x.AQxxxx.AT xxx.T9xx.KJx.Qxx\n",
      "AKQJ9x.Jxx..K9xx T8xx.Ax.Txxx.JTx x.KQ8x.KJ98x.AQ8 xx.T9xx.AQxx.xxx\n",
      "AKQJ9x.Jxx..K9xx Txx.8x.98xxx.QTx x.QT9x.AKx.AJ8xx 8xx.AKxx.QJTxx.x\n",
      "AKQJ9x.Jxx..K9xx Txx.8x.AQxx.AQJx x.KQ9x.KJTxxx.xx 8xx.ATxx.98x.T8x\n",
      "AKQJ9x.Jxx..K9xx xx.9x.Axxx.AQJTx 8.AQ8x.QJT8xx.xx Txxx.KTxx.K9x.8x\n",
      "AKQJ9x.Jxx..K9xx xx.Qxx.QJxx.JT8x .K8xx.KT8xxx.Axx T8xxx.AT9.A9x.Qx\n",
      "AKQJ9x.Jxx..K9xx 8xx.Txx.xxx.AQ8x T.AK8x.AKQx.Txxx xxx.Q9x.JT98xx.J\n",
      "AKQJ9x.Jxx..K9xx Tx.T9xx.9xx.xxxx x.AKQ8.AQT8xx.QT 8xxx.xx.KJxx.AJ8\n",
      "AKQJ9x.Jxx..K9xx T8xx.AQTx.QT8x.x x.K98x.Axx.AT8xx xx.xx.KJ9xxx.QJx\n",
      "AKQJ9x.Jxx..K9xx Txx.xx.J9xx.Q8xx x.AQ9x.KQ8xx.AJx 8xx.KT8x.ATxx.Tx\n"
     ]
    }
   ],
   "source": [
    "# we got some samples above. if we want more, we can always get more\n",
    "\n",
    "sample_hands, sorted_score, p_hcp, p_shp = bot_bid.sample_hands([\"PAD_START\", \"PAD_START\", \"PAD_START\", \"PASS\", \"1N\", \"PASS\", \"3S\",\"PASS\"])\n",
    "\n",
    "for i in range(sample_hands.shape[0]):\n",
    "    print(f'{hand_to_str(sample_hands[i, 0, :])} {hand_to_str(sample_hands[i, 1, :])} {hand_to_str(sample_hands[i, 2, :])} {hand_to_str(sample_hands[i, 3, :])}')"
   ]
  }
 ],
 "metadata": {
  "kernelspec": {
   "display_name": "Python 3 (ipykernel)",
   "language": "python",
   "name": "python3"
  },
  "language_info": {
   "codemirror_mode": {
    "name": "ipython",
    "version": 3
   },
   "file_extension": ".py",
   "mimetype": "text/x-python",
   "name": "python",
   "nbconvert_exporter": "python",
   "pygments_lexer": "ipython3",
   "version": "3.11.0"
  }
 },
 "nbformat": 4,
 "nbformat_minor": 5
}
