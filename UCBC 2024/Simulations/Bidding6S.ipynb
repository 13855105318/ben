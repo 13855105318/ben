{
 "cells": [
  {
   "cell_type": "markdown",
   "id": "75d07246",
   "metadata": {},
   "source": [
    "# Bidding\n",
    "\n",
    "This is a tutorial for how to use the bidding engine"
   ]
  },
  {
   "cell_type": "code",
   "execution_count": 1,
   "id": "59a5664c",
   "metadata": {},
   "outputs": [
    {
     "name": "stdout",
     "output_type": "stream",
     "text": [
      "WARNING:tensorflow:From c:\\Python311\\Lib\\site-packages\\tensorflow\\python\\compat\\v2_compat.py:107: disable_resource_variables (from tensorflow.python.ops.variable_scope) is deprecated and will be removed in a future version.\n",
      "Instructions for updating:\n",
      "non-resource variables are not supported in the long term\n",
      "INFO:tensorflow:Restoring parameters from ..\\Models/NS1EW99-bidding-10724000\n",
      "INFO:tensorflow:Restoring parameters from ..\\Models/NS1EW99-binfo-6131000\n",
      "INFO:tensorflow:Restoring parameters from ..\\Models/lead_suit-154000\n",
      "INFO:tensorflow:Restoring parameters from ..\\Models/lead_nt-59000\n",
      "INFO:tensorflow:Restoring parameters from ..\\Models/lr3-1000000\n",
      "INFO:tensorflow:Restoring parameters from ..\\Models/single_dummy-32768000\n",
      "INFO:tensorflow:Restoring parameters from ..\\Models/lefty-1000000\n",
      "INFO:tensorflow:Restoring parameters from ..\\Models/dummy-920000\n",
      "INFO:tensorflow:Restoring parameters from ..\\Models/righty-1000000\n",
      "INFO:tensorflow:Restoring parameters from ..\\Models/decl-1000000\n"
     ]
    }
   ],
   "source": [
    "import sys\n",
    "sys.path.append('../../src')\n",
    "\n",
    "import os\n",
    "import logging\n",
    "\n",
    "# Set logging level to suppress warnings\n",
    "logging.getLogger().setLevel(logging.ERROR)\n",
    "# Just disables the warnings\n",
    "os.environ['TF_CPP_MIN_LOG_LEVEL'] = '2'\n",
    "\n",
    "from nn.models import Models\n",
    "from bots import BotBid\n",
    "from util import hand_to_str\n",
    "from sample import Sample\n",
    "import conf\n",
    "import numpy as np\n",
    "\n",
    "np.set_printoptions(precision=2, suppress=True, linewidth=200)\n",
    "np.random.seed(42)\n",
    "\n",
    "models = Models.from_conf(conf.load('../Conf/UCBC2024.conf'),'..')   # loading neural networks\n",
    "sampler = Sample.from_conf(conf.load('../Conf/UCBC2024.conf'), False)  # Load sampling strategies\n"
   ]
  },
  {
   "cell_type": "markdown",
   "id": "10d8f2fc",
   "metadata": {},
   "source": [
    "### Running through an example"
   ]
  },
  {
   "cell_type": "code",
   "execution_count": 2,
   "id": "19dbfeb7",
   "metadata": {},
   "outputs": [
    {
     "data": {
      "text/plain": [
       "[{'call': '1S', 'insta_score': 1.0}]"
      ]
     },
     "execution_count": 2,
     "metadata": {},
     "output_type": "execute_result"
    }
   ],
   "source": [
    "# East deals, EW vulnerable.\n",
    "vuln_ns, vuln_ew = False, True\n",
    "\n",
    "# you sit West and hold:\n",
    "hand = 'Q6542.QJ7.AKT6.7'\n",
    "\n",
    "auction = [\"PAD_START\", \"PAD_START\"]\n",
    "bot_bid = BotBid([vuln_ns, vuln_ew], hand, models, sampler, 2, 2, False)\n",
    "\n",
    "bid = bot_bid.bid(auction)\n",
    "bid.to_dict()['candidates']\n",
    "\n",
    "# what's your bid?"
   ]
  },
  {
   "cell_type": "code",
   "execution_count": 3,
   "metadata": {},
   "outputs": [
    {
     "data": {
      "text/plain": [
       "[]"
      ]
     },
     "execution_count": 3,
     "metadata": {},
     "output_type": "execute_result"
    }
   ],
   "source": [
    "bid.samples"
   ]
  },
  {
   "cell_type": "code",
   "execution_count": 4,
   "id": "bfe98f56",
   "metadata": {},
   "outputs": [
    {
     "data": {
      "text/plain": [
       "[{'call': '3C', 'insta_score': 0.98}]"
      ]
     },
     "execution_count": 4,
     "metadata": {},
     "output_type": "execute_result"
    }
   ],
   "source": [
    "auction = [\"PAD_START\", \"PAD_START\", \"1S\", \"PASS\", \"2N\",\"PASS\"]\n",
    "bid = bot_bid.bid(auction)\n",
    "\n",
    "bid.to_dict()['candidates']"
   ]
  },
  {
   "cell_type": "code",
   "execution_count": 5,
   "id": "55b647a5",
   "metadata": {},
   "outputs": [
    {
     "data": {
      "text/plain": [
       "[]"
      ]
     },
     "execution_count": 5,
     "metadata": {},
     "output_type": "execute_result"
    }
   ],
   "source": [
    "bid.samples"
   ]
  },
  {
   "cell_type": "code",
   "execution_count": 6,
   "id": "7101e514",
   "metadata": {},
   "outputs": [
    {
     "data": {
      "text/plain": [
       "[{'call': '4S', 'insta_score': 0.462, 'expected_score': 369, 'adjustment': 23},\n",
       " {'call': '4D', 'insta_score': 0.238, 'expected_score': 369, 'adjustment': 12},\n",
       " {'call': '3S', 'insta_score': 0.105, 'expected_score': 369, 'adjustment': 5},\n",
       " {'call': '4C', 'insta_score': 0.073, 'expected_score': 369, 'adjustment': 4},\n",
       " {'call': '3D', 'insta_score': 0.032, 'expected_score': 369, 'adjustment': 2},\n",
       " {'call': '6S', 'insta_score': 0.032, 'expected_score': 95, 'adjustment': 2}]"
      ]
     },
     "execution_count": 6,
     "metadata": {},
     "output_type": "execute_result"
    }
   ],
   "source": [
    "auction = [\"PAD_START\", \"PAD_START\", \"1S\", \"PASS\", \"2N\", \"PASS\",\"3C\",\"X\",\"PASS\",\"PASS\"]\n",
    "bid = bot_bid.bid(auction)\n",
    "\n",
    "bid.to_dict()['candidates']"
   ]
  },
  {
   "cell_type": "code",
   "execution_count": 7,
   "metadata": {},
   "outputs": [
    {
     "data": {
      "text/plain": [
       "['JT9x.AT.Q8xx.KQ9 AK.8xxx.9xx.8xxx Qxxxx.QJx.AKTx.x 8x.K9xx.Jx.AJTxx 0.63450 \\n 1S-P-2N-P-3C-X-P-P-4S-P-P-P (9.9)  \\n 1S-P-2N-P-3C-X-P-P-4D-P-4S-P-P-P (9.9)  \\n 1S-P-2N-P-3C-X-P-P-3S-P-4S-P-P-P (9.9)  \\n 1S-P-2N-P-3C-X-P-P-4C-P-4S-P-P-P (9.9)  \\n 1S-P-2N-P-3C-X-P-P-3D-P-4S-P-P-P (9.9)  \\n 1S-P-2N-P-3C-X-P-P-6S-P-P-P (9.9) ',\n",
       " 'AJ8x.A8xx.8xx.Kx 9x.KTxx.Qxx.T8xx Qxxxx.QJx.AKTx.x KT.9x.J9x.AQJ9xx 0.63228 \\n 1S-P-2N-P-3C-X-P-P-4S-P-P-P (10.1)  \\n 1S-P-2N-P-3C-X-P-P-4D-P-4S-P-P-P (10.1)  \\n 1S-P-2N-P-3C-X-P-P-3S-P-4S-P-P-P (10.1)  \\n 1S-P-2N-P-3C-X-P-P-4C-P-4S-P-P-P (10.1)  \\n 1S-P-2N-P-3C-X-P-P-3D-P-4S-P-P-P (10.1)  \\n 1S-P-2N-P-3C-X-P-P-6S-P-P-P (10.1) ',\n",
       " 'KT98.Kx.Jxxx.KQ9 Axx.T9xxx.Qx.J8x Qxxxx.QJx.AKTx.x J.A8x.98x.ATxxxx 0.63205 \\n 1S-P-2N-P-3C-X-P-P-4S-P-P-P (9.8)  \\n 1S-P-2N-P-3C-X-P-P-4D-P-4S-P-P-P (9.8)  \\n 1S-P-2N-P-3C-X-P-P-3S-P-4S-P-P-P (9.8)  \\n 1S-P-2N-P-3C-X-P-P-4C-P-4S-P-P-P (9.8)  \\n 1S-P-2N-P-3C-X-P-P-3D-P-4S-P-P-P (9.8)  \\n 1S-P-2N-P-3C-X-P-P-6S-P-P-P (9.8) ',\n",
       " 'KJT9.A8xx.9xx.Ax Axx.KTx.J8x.J98x Qxxxx.QJx.AKTx.x 8.9xx.Qxx.KQTxxx 0.62733 \\n 1S-P-2N-P-3C-X-P-P-4S-P-P-P (10.1)  \\n 1S-P-2N-P-3C-X-P-P-4D-P-4S-P-P-P (10.1)  \\n 1S-P-2N-P-3C-X-P-P-3S-P-4S-P-P-P (10.1)  \\n 1S-P-2N-P-3C-X-P-P-4C-P-4S-P-P-P (10.1)  \\n 1S-P-2N-P-3C-X-P-P-3D-P-4S-P-P-P (10.1)  \\n 1S-P-2N-P-3C-X-P-P-6S-P-P-P (10.1) ',\n",
       " 'AJTx.Tx.98xx.AKx 98x.K9xx.xxx.QJ8 Qxxxx.QJx.AKTx.x K.A8xx.QJ.T9xxxx 0.61621 \\n 1S-P-2N-P-3C-X-P-P-4S-P-P-P (10.2)  \\n 1S-P-2N-P-3C-X-P-P-4D-P-4S-P-P-P (10.2)  \\n 1S-P-2N-P-3C-X-P-P-3S-P-4S-P-P-P (10.2)  \\n 1S-P-2N-P-3C-X-P-P-4C-P-4S-P-P-P (10.2)  \\n 1S-P-2N-P-3C-X-P-P-3D-P-4S-P-P-P (10.2)  \\n 1S-P-2N-P-3C-X-P-P-6S-P-P-P (10.2) ',\n",
       " 'AK9x.Kx.Qxxx.9xx JTx.A98x.8xx.Q8x Qxxxx.QJx.AKTx.x 8.Txxx.J9.AKJTxx 0.61439 \\n 1S-P-2N-P-3C-X-P-P-4S-P-P-P (10.4)  \\n 1S-P-2N-P-3C-X-P-P-4D-P-4S-P-P-P (10.4)  \\n 1S-P-2N-P-3C-X-P-P-3S-P-4S-P-P-P (10.4)  \\n 1S-P-2N-P-3C-X-P-P-4C-P-4S-P-P-P (10.4)  \\n 1S-P-2N-P-3C-X-P-P-3D-P-4S-P-P-P (10.4)  \\n 1S-P-2N-P-3C-X-P-P-6S-P-P-P (10.4) ',\n",
       " 'KJxx.Axxx.Q8x.Qx AT8.8x.xxx.J9xxx Qxxxx.QJx.AKTx.x 9.KT9x.J9x.AKT8x 0.61258 \\n 1S-P-2N-P-3C-X-P-P-4S-P-P-P (10.0)  \\n 1S-P-2N-P-3C-X-P-P-4D-P-4S-P-P-P (10.0)  \\n 1S-P-2N-P-3C-X-P-P-3S-P-4S-P-P-P (10.0)  \\n 1S-P-2N-P-3C-X-P-P-4C-P-4S-P-P-P (10.0)  \\n 1S-P-2N-P-3C-X-P-P-3D-P-4S-P-P-P (10.0)  \\n 1S-P-2N-P-3C-X-P-P-6S-P-P-P (10.0) ',\n",
       " 'KT8x.AKTx.Q9x.xx Jx.9xx.Jxx.KQ8xx Qxxxx.QJx.AKTx.x A9.8xx.8xx.AJT9x 0.61115 \\n 1S-P-2N-P-3C-X-P-P-4S-P-P-P (11.0)  \\n 1S-P-2N-P-3C-X-P-P-4D-P-4S-P-P-P (11.0)  \\n 1S-P-2N-P-3C-X-P-P-3S-P-4S-P-P-P (11.0)  \\n 1S-P-2N-P-3C-X-P-P-4C-P-4S-P-P-P (11.0)  \\n 1S-P-2N-P-3C-X-P-P-3D-P-4S-P-P-P (11.0)  \\n 1S-P-2N-P-3C-X-P-P-6S-P-P-P (11.0) ',\n",
       " 'AJ8x.98x.QJ9x.Ax KTx.KTxx.x.Q98xx Qxxxx.QJx.AKTx.x 9.Axx.8xxx.KJTxx 0.61065 \\n 1S-P-2N-P-3C-X-P-P-4S-P-P-P (9.6)  \\n 1S-P-2N-P-3C-X-P-P-4D-P-4S-P-P-P (9.6)  \\n 1S-P-2N-P-3C-X-P-P-3S-P-4S-P-P-P (9.6)  \\n 1S-P-2N-P-3C-X-P-P-4C-P-4S-P-P-P (9.6)  \\n 1S-P-2N-P-3C-X-P-P-3D-P-4S-P-P-P (9.6)  \\n 1S-P-2N-P-3C-X-P-P-6S-P-P-P (9.6) ',\n",
       " 'AJ98.KT9.8xx.ATx Kxx.xxxx.QJ9.Q9x Qxxxx.QJx.AKTx.x T.A8x.xxx.KJ8xxx 0.60793 \\n 1S-P-2N-P-3C-X-P-P-4S-P-P-P (10.8)  \\n 1S-P-2N-P-3C-X-P-P-4D-P-4S-P-P-P (10.8)  \\n 1S-P-2N-P-3C-X-P-P-3S-P-4S-P-P-P (10.8)  \\n 1S-P-2N-P-3C-X-P-P-4C-P-4S-P-P-P (10.8)  \\n 1S-P-2N-P-3C-X-P-P-3D-P-4S-P-P-P (10.8)  \\n 1S-P-2N-P-3C-X-P-P-6S-P-P-P (10.8) ']"
      ]
     },
     "execution_count": 7,
     "metadata": {},
     "output_type": "execute_result"
    }
   ],
   "source": [
    "bid.samples"
   ]
  },
  {
   "cell_type": "code",
   "execution_count": 8,
   "metadata": {},
   "outputs": [
    {
     "data": {
      "text/plain": [
       "[{'call': 'X', 'insta_score': 0.651, 'expected_score': 728, 'adjustment': 326},\n",
       " {'call': 'PASS',\n",
       "  'insta_score': 0.155,\n",
       "  'expected_score': 728,\n",
       "  'adjustment': 78},\n",
       " {'call': '5S', 'insta_score': 0.183, 'expected_score': 154, 'adjustment': 92}]"
      ]
     },
     "execution_count": 8,
     "metadata": {},
     "output_type": "execute_result"
    }
   ],
   "source": [
    "auction = [\"PAD_START\", \"PAD_START\", \"1S\", \"PASS\", \"2N\", \"PASS\",\"3C\",\"X\",\"PASS\",\"PASS\",\"4S\",\"PASS\",\"PASS\",\"5C\"]\n",
    "bid = bot_bid.bid(auction)\n",
    "\n",
    "bid.to_dict()['candidates']"
   ]
  },
  {
   "cell_type": "code",
   "execution_count": 9,
   "metadata": {},
   "outputs": [
    {
     "data": {
      "text/plain": [
       "['A98x.AT9.8xxx.AT KJT.K8xx.J.Q9xxx Qxxxx.QJx.AKTx.x x.xxx.Q9xx.KJ8xx 0.13615 \\n 1S-P-2N-P-3C-X-P-P-4S-P-P-5C-X-P-P-P (7.7)  \\n 1S-P-2N-P-3C-X-P-P-4S-P-P-5C-5S-P-P-P (10.6)  \\n 1S-P-2N-P-3C-X-P-P-4S-P-P-5C-P-P-X-P-P-P (7.7) ',\n",
       " 'AJT9x.K8.J9xx.KT Kx.Txxxx.x.AJ8xx Qxxxx.QJx.AKTx.x 8.A9x.Q8xx.Q9xxx 0.12493 \\n 1S-P-2N-P-3C-X-P-P-4S-P-P-5C-X-P-P-P (8.8)  \\n 1S-P-2N-P-3C-X-P-P-4S-P-P-5C-5S-P-P-P (9.5)  \\n 1S-P-2N-P-3C-X-P-P-4S-P-P-5C-P-P-X-P-P-P (8.8) ',\n",
       " 'KJ8xx.AK9.xxx.Jx AT9.xxxx.8.AQ9xx Qxxxx.QJx.AKTx.x .T8x.QJ9xx.KT8xx 0.12281 \\n 1S-P-2N-P-3C-X-P-P-4S-P-P-5C-X-P-P-P (9.1)  \\n 1S-P-2N-P-3C-X-P-P-4S-P-P-5C-5S-P-P-P (9.8)  \\n 1S-P-2N-P-3C-X-P-P-4S-P-P-5C-P-P-X-P-P-P (9.1) ',\n",
       " 'AK8x.Kxxx.Jxx.JT JTx.AT9.xx.KQxxx Qxxxx.QJx.AKTx.x 9.8xx.Q98x.A98xx 0.10958 \\n 1S-P-2N-P-3C-X-P-P-4S-P-P-5C-X-P-P-P (8.3)  \\n 1S-P-2N-P-3C-X-P-P-4S-P-P-5C-5S-P-P-P (10.0)  \\n 1S-P-2N-P-3C-X-P-P-4S-P-P-5C-P-P-X-P-P-P (8.3) ',\n",
       " 'KJ98.AKxx.Jxx.xx A.8xx.Q8xx.KJ8xx Qxxxx.QJx.AKTx.x Txx.T9x.9x.AQT9x 0.10528 \\n 1S-P-2N-P-3C-X-P-P-4S-P-P-5C-X-P-P-P (8.0)  \\n 1S-P-2N-P-3C-X-P-P-4S-P-P-5C-5S-P-P-P (10.7)  \\n 1S-P-2N-P-3C-X-P-P-4S-P-P-5C-P-P-X-P-P-P (8.0) ',\n",
       " 'JTxx.Axx.QJ8xx.A K8.9xx.9x.KJTxxx Qxxxx.QJx.AKTx.x A9.KT8x.xx.Q98xx 0.10121 \\n 1S-P-2N-P-3C-X-P-P-4S-P-P-5C-X-P-P-P (8.3)  \\n 1S-P-2N-P-3C-X-P-P-4S-P-P-5C-5S-P-P-P (10.6)  \\n 1S-P-2N-P-3C-X-P-P-4S-P-P-5C-P-P-X-P-P-P (8.3) ',\n",
       " 'AJ8x.K9xx.Jxxx.K KT.T8.98x.AJT9xx Qxxxx.QJx.AKTx.x 9x.Axxx.Qx.Q8xxx 0.09824 \\n 1S-P-2N-P-3C-X-P-P-4S-P-P-5C-X-P-P-P (8.6)  \\n 1S-P-2N-P-3C-X-P-P-4S-P-P-5C-5S-P-P-P (9.8)  \\n 1S-P-2N-P-3C-X-P-P-4S-P-P-5C-P-P-X-P-P-P (8.6) ',\n",
       " 'AJT98.9xx.QJx.AT Kxx.Kxx.9x.QJ8xx Qxxxx.QJx.AKTx.x .AT8x.8xxx.K9xxx 0.09097 \\n 1S-P-2N-P-3C-X-P-P-4S-P-P-5C-X-P-P-P (8.8)  \\n 1S-P-2N-P-3C-X-P-P-4S-P-P-5C-5S-P-P-P (9.8)  \\n 1S-P-2N-P-3C-X-P-P-4S-P-P-5C-P-P-X-P-P-P (8.8) ',\n",
       " 'AJ98xx.Ax.Q8x.Jx .9xxxx.J9x.AKT8x Qxxxx.QJx.AKTx.x KT.KT8.xxx.Q9xxx 0.08878 \\n 1S-P-2N-P-3C-X-P-P-4S-P-P-5C-X-P-P-P (7.5)  \\n 1S-P-2N-P-3C-X-P-P-4S-P-P-5C-5S-P-P-P (11.4)  \\n 1S-P-2N-P-3C-X-P-P-4S-P-P-5C-P-P-X-P-P-P (7.5) ',\n",
       " 'AJ8x.AKx.J9xxx.T 9.98xx.Q8.KQJxxx Qxxxx.QJx.AKTx.x KTx.Txx.xx.A98xx 0.08434 \\n 1S-P-2N-P-3C-X-P-P-4S-P-P-5C-X-P-P-P (7.3)  \\n 1S-P-2N-P-3C-X-P-P-4S-P-P-5C-5S-P-P-P (12.4)  \\n 1S-P-2N-P-3C-X-P-P-4S-P-P-5C-P-P-X-P-P-P (7.3) ']"
      ]
     },
     "execution_count": 9,
     "metadata": {},
     "output_type": "execute_result"
    }
   ],
   "source": [
    "bid.samples"
   ]
  },
  {
   "cell_type": "code",
   "execution_count": 10,
   "metadata": {},
   "outputs": [
    {
     "data": {
      "text/plain": [
       "[{'call': 'PASS',\n",
       "  'insta_score': 0.906,\n",
       "  'expected_score': 371,\n",
       "  'adjustment': 453},\n",
       " {'call': '6S', 'insta_score': 0.069, 'expected_score': 536, 'adjustment': 35}]"
      ]
     },
     "execution_count": 10,
     "metadata": {},
     "output_type": "execute_result"
    }
   ],
   "source": [
    "auction = [\"PAD_START\", \"PAD_START\", \"1S\", \"PASS\", \"2N\", \"PASS\",\"3C\",\"X\",\"PASS\",\"PASS\",\"4S\",\"PASS\",\"PASS\",\"5C\",\"X\",\"PASS\",\"5S\",\"PASS\"]\n",
    "bid = bot_bid.bid(auction)\n",
    "\n",
    "bid.to_dict()['candidates']"
   ]
  },
  {
   "cell_type": "code",
   "execution_count": 11,
   "metadata": {},
   "outputs": [
    {
     "data": {
      "text/plain": [
       "['AKJ9.A9xx.Q8xx.9 8.Txx.Jxx.KJTxxx Qxxxx.QJx.AKTx.x Txx.K8x.9x.AQ8xx 0.03936 \\n 1S-P-2N-P-3C-X-P-P-4S-P-P-5C-X-P-5S-P-P-P (12.2)  \\n 1S-P-2N-P-3C-X-P-P-4S-P-P-5C-X-P-5S-P-6S-P-P-P (12.2) ',\n",
       " 'AKJT8x.Ax.98x.8x 9.T9xxx.QJ.AJxxx Qxxxx.QJx.AKTx.x x.K8x.xxxx.KQT9x 0.03621 \\n 1S-P-2N-P-3C-X-P-P-4S-P-P-5C-X-P-5S-P-P-P (12.1)  \\n 1S-P-2N-P-3C-X-P-P-4S-P-P-5C-X-P-5S-P-6S-P-P-P (12.1) ',\n",
       " 'AKJT.9.Q8xxxx.Qx 98.K8xxx.9.K9xxx Qxxxx.QJx.AKTx.x xx.ATxx.Jx.AJT8x 0.03567 \\n 1S-P-2N-P-3C-X-P-P-4S-P-P-5C-X-P-5S-P-P-P (10.0)  \\n 1S-P-2N-P-3C-X-P-P-4S-P-P-5C-X-P-5S-P-6S-P-P-P (10.0) ',\n",
       " 'AJ98.AKTx.Q9xx.J KTx.9x.Jx.QTxxxx Qxxxx.QJx.AKTx.x x.8xxx.8xx.AK98x 0.03496 \\n 1S-P-2N-P-3C-X-P-P-4S-P-P-5C-X-P-5S-P-P-P (12.1)  \\n 1S-P-2N-P-3C-X-P-P-4S-P-P-5C-X-P-5S-P-6S-P-P-P (12.1) ',\n",
       " 'AKT8.AT9x.Q9xx.T J9.Kxx.8x.KJ8xxx Qxxxx.QJx.AKTx.x xx.8xx.Jxx.AQ9xx 0.03410 \\n 1S-P-2N-P-3C-X-P-P-4S-P-P-5C-X-P-5S-P-P-P (11.6)  \\n 1S-P-2N-P-3C-X-P-P-4S-P-P-5C-X-P-5S-P-6S-P-P-P (11.6) ',\n",
       " 'AKJ9x.AT9x.xx.Jx Tx.8x.QJ8x.AQ98x Qxxxx.QJx.AKTx.x 8.Kxxx.9xx.KTxxx 0.03333 \\n 1S-P-2N-P-3C-X-P-P-4S-P-P-5C-X-P-5S-P-P-P (12.3)  \\n 1S-P-2N-P-3C-X-P-P-4S-P-P-5C-X-P-5S-P-6S-P-P-P (12.3) ',\n",
       " 'AKJT.K8xx.J8xx.x 8x.xxx.Qxx.AKJxx Qxxxx.QJx.AKTx.x 9x.AT9.9x.QT98xx 0.02994 \\n 1S-P-2N-P-3C-X-P-P-4S-P-P-5C-X-P-5S-P-P-P (11.4)  \\n 1S-P-2N-P-3C-X-P-P-4S-P-P-5C-X-P-5S-P-6S-P-P-P (11.4) ',\n",
       " 'AJ9x.A8xx.J98x.A KT.T9xx.Qx.QT9xx Qxxxx.QJx.AKTx.x 8x.Kx.xxx.KJ8xxx 0.02764 \\n 1S-P-2N-P-3C-X-P-P-4S-P-P-5C-X-P-5S-P-P-P (12.3)  \\n 1S-P-2N-P-3C-X-P-P-4S-P-P-5C-X-P-5S-P-6S-P-P-P (12.3) ',\n",
       " 'KJT9x.ATxx.9xx.A A8x.K98.Jx.QJxxx Qxxxx.QJx.AKTx.x .xxx.Q8xx.KT98xx 0.02755 \\n 1S-P-2N-P-3C-X-P-P-4S-P-P-5C-X-P-5S-P-P-P (10.3)  \\n 1S-P-2N-P-3C-X-P-P-4S-P-P-5C-X-P-5S-P-6S-P-P-P (10.3) ',\n",
       " 'AKJx.K9xx.QJ8xx. T9.8xx.xx.AQJ8xx Qxxxx.QJx.AKTx.x 8x.ATx.9x.KT9xxx 0.02748 \\n 1S-P-2N-P-3C-X-P-P-4S-P-P-5C-X-P-5S-P-P-P (11.6)  \\n 1S-P-2N-P-3C-X-P-P-4S-P-P-5C-X-P-5S-P-6S-P-P-P (11.6) ']"
      ]
     },
     "execution_count": 11,
     "metadata": {},
     "output_type": "execute_result"
    }
   ],
   "source": [
    "bid.samples"
   ]
  },
  {
   "cell_type": "code",
   "execution_count": null,
   "metadata": {},
   "outputs": [],
   "source": []
  }
 ],
 "metadata": {
  "kernelspec": {
   "display_name": "Python 3 (ipykernel)",
   "language": "python",
   "name": "python3"
  },
  "language_info": {
   "codemirror_mode": {
    "name": "ipython",
    "version": 3
   },
   "file_extension": ".py",
   "mimetype": "text/x-python",
   "name": "python",
   "nbconvert_exporter": "python",
   "pygments_lexer": "ipython3",
   "version": "3.11.0"
  }
 },
 "nbformat": 4,
 "nbformat_minor": 5
}
