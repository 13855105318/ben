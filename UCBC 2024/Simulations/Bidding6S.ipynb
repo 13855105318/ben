{
 "cells": [
  {
   "cell_type": "markdown",
   "id": "75d07246",
   "metadata": {},
   "source": [
    "# Bidding\n",
    "\n",
    "This is a tutorial for how to use the bidding engine"
   ]
  },
  {
   "cell_type": "code",
   "execution_count": 1,
   "id": "59a5664c",
   "metadata": {},
   "outputs": [
    {
     "name": "stdout",
     "output_type": "stream",
     "text": [
      "WARNING:tensorflow:From c:\\Python311\\Lib\\site-packages\\tensorflow\\python\\compat\\v2_compat.py:107: disable_resource_variables (from tensorflow.python.ops.variable_scope) is deprecated and will be removed in a future version.\n",
      "Instructions for updating:\n",
      "non-resource variables are not supported in the long term\n",
      "INFO:tensorflow:Restoring parameters from ..\\Models/NS1EW99-bidding-3233000\n",
      "INFO:tensorflow:Restoring parameters from ..\\Models/NS1EW99-binfo-3233000\n",
      "INFO:tensorflow:Restoring parameters from ..\\Models/lead_suit-154000\n",
      "INFO:tensorflow:Restoring parameters from ..\\Models/lead_nt-59000\n",
      "INFO:tensorflow:Restoring parameters from ..\\Models/single_dummy-312000\n",
      "INFO:tensorflow:Restoring parameters from ..\\Models/lefty-1000000\n",
      "INFO:tensorflow:Restoring parameters from ..\\Models/dummy-920000\n",
      "INFO:tensorflow:Restoring parameters from ..\\Models/righty-1000000\n",
      "INFO:tensorflow:Restoring parameters from ..\\Models/decl-1000000\n"
     ]
    }
   ],
   "source": [
    "import sys\n",
    "sys.path.append('../../src')\n",
    "\n",
    "import os\n",
    "import logging\n",
    "\n",
    "# Set logging level to suppress warnings\n",
    "logging.getLogger().setLevel(logging.ERROR)\n",
    "# Just disables the warnings\n",
    "os.environ['TF_CPP_MIN_LOG_LEVEL'] = '2'\n",
    "\n",
    "from nn.models import Models\n",
    "from bots import BotBid\n",
    "from util import hand_to_str\n",
    "from sample import Sample\n",
    "import conf\n",
    "import numpy as np\n",
    "\n",
    "np.set_printoptions(precision=2, suppress=True, linewidth=200)\n",
    "np.random.seed(42)\n",
    "\n",
    "models = Models.from_conf(conf.load('../Conf/UCBC2024.conf'),'..')   # loading neural networks\n",
    "sampler = Sample.from_conf(conf.load('../Conf/UCBC2024.conf'), False)  # Load sampling strategies\n"
   ]
  },
  {
   "cell_type": "markdown",
   "id": "10d8f2fc",
   "metadata": {},
   "source": [
    "### Running through an example"
   ]
  },
  {
   "cell_type": "code",
   "execution_count": 2,
   "id": "19dbfeb7",
   "metadata": {},
   "outputs": [
    {
     "data": {
      "text/plain": [
       "[{'call': '1S', 'insta_score': 0.9998}]"
      ]
     },
     "execution_count": 2,
     "metadata": {},
     "output_type": "execute_result"
    }
   ],
   "source": [
    "# East deals, EW vulnerable.\n",
    "vuln_ns, vuln_ew = False, True\n",
    "\n",
    "# you sit West and hold:\n",
    "hand = 'Q6542.QJ7.AKT6.7'\n",
    "\n",
    "auction = [\"PAD_START\", \"PAD_START\"]\n",
    "bot_bid = BotBid([vuln_ns, vuln_ew], hand, models, sampler, False)\n",
    "\n",
    "bid = bot_bid.bid(auction)\n",
    "bid.to_dict()['candidates']\n",
    "\n",
    "# what's your bid?"
   ]
  },
  {
   "cell_type": "code",
   "execution_count": 3,
   "metadata": {},
   "outputs": [
    {
     "data": {
      "text/plain": [
       "['Jx.AT9x.J9xx.Txx AT9.K8xx.Qxx.A9x Qxxxx.QJx.AKTx.x K8x.xx.8x.KQJ8xx 1.00000',\n",
       " 'JTx.K9xx.xxx.Axx A9.AT8x.Q8x.J98x Qxxxx.QJx.AKTx.x K8x.xx.J9x.KQTxx 1.00000',\n",
       " 'Tx.AKT.Q9x.AKTxx AJ8.8xx.J8x.QJ8x Qxxxx.QJx.AKTx.x K9x.9xxx.xxx.9xx 1.00000',\n",
       " 'AT.98xx.J98x.ATx J8xx.KT.Qxxx.Jxx Qxxxx.QJx.AKTx.x K9.Axxx.x.KQ98xx 1.00000',\n",
       " '9xx.xx.9xx.AKQJx AJ8.Kxx.QJx.98xx Qxxxx.QJx.AKTx.x KT.AT98x.8xx.Txx 1.00000',\n",
       " 'Kx.A8xx.Qxxx.Txx T9x.T9x.J9.AK98x Qxxxx.QJx.AKTx.x AJ8.Kxx.8xx.QJxx 1.00000',\n",
       " 'KT8.K9x.98.T9xxx Ax.xxx.xxxx.AQ8x Qxxxx.QJx.AKTx.x J9x.AT8x.QJx.KJx 1.00000',\n",
       " 'AKJT9.8.Q8x.AQ8x x.A9xxx.Jxx.Txxx Qxxxx.QJx.AKTx.x 8x.KTxx.9xx.KJ9x 1.00000',\n",
       " '9x.AKT9x.xx.Q9xx AT8x.x.J8xx.KJ8x Qxxxx.QJx.AKTx.x KJ.8xxx.Q9x.ATxx 1.00000',\n",
       " 'JT98x.A98x.x.AKJ AK.Txx.9xx.QTxxx Qxxxx.QJx.AKTx.x x.Kxx.QJ8xx.98xx 1.00000',\n",
       " 'T9x.Axx.Qxxx.AQT Kx.Kxxx.J9x.8xxx Qxxxx.QJx.AKTx.x AJ8.T98.8x.KJ9xx 1.00000',\n",
       " '8x.A98x.Q98xx.T9 x.Txxx.xx.AKJ8xx Qxxxx.QJx.AKTx.x AKJT9.Kx.Jx.Qxxx 1.00000',\n",
       " 'AJ.Axx.Jxx.KJTxx KT9.K8x.Q8xx.Qxx Qxxxx.QJx.AKTx.x 8xx.T9xx.9x.A98x 1.00000',\n",
       " 'AK.xx.9x.AQJ9xxx JT9x.K8xxx.xx.KT Qxxxx.QJx.AKTx.x 8x.AT9.QJ8xx.8xx 1.00000',\n",
       " 'AT9.9xx.Qxxx.KQx 8xx.KTx.Jxx.AJxx Qxxxx.QJx.AKTx.x KJ.A8xx.98.T98xx 1.00000',\n",
       " 'AJT9.98.J8xx.Txx xx.Axxxx.9xx.AJx Qxxxx.QJx.AKTx.x K8.KTx.Qx.KQ98xx 1.00000',\n",
       " '98x.A9.QJx.QT8xx Tx.KTx.98xx.AJ9x Qxxxx.QJx.AKTx.x AKJ.8xxxx.xx.Kxx 1.00000',\n",
       " 'AT9.xx.Q9x.AKJ98 J8xx.AK8.8x.QTxx Qxxxx.QJx.AKTx.x K.T9xxx.Jxxx.xxx 1.00000',\n",
       " 'Jx.Axxx.8xxx.Q8x ATx.K9x.Qxx.Kxxx Qxxxx.QJx.AKTx.x K98.T8x.J9.AJT9x 1.00000',\n",
       " 'xx.K8x.QJx.AJT8x AKT8.Ax.98xx.9xx Qxxxx.QJx.AKTx.x J9.T9xxx.xx.KQxx 1.00000',\n",
       " 'A98.AT9xx.x.KQJT Jx.8xxx.Jxxx.98x Qxxxx.QJx.AKTx.x KTx.K.Q98x.Axxxx 1.00000',\n",
       " 'AT.98xx.Q8x.AT8x 98x.KTx.9xx.J9xx Qxxxx.QJx.AKTx.x KJx.Axx.Jxx.KQxx 1.00000',\n",
       " 'K9.98x.Q8xx.JTxx AJ8x.xxx.9xx.A9x Qxxxx.QJx.AKTx.x Tx.AKTx.Jx.KQ8xx 1.00000',\n",
       " 'AKx.ATx.Q98.T8xx T98.Kxxx.xx.Kxxx Qxxxx.QJx.AKTx.x Jx.98x.Jxxx.AQJ9 1.00000',\n",
       " 'Ax.9x.8xxxx.KQJ9 KJ8.KTxx.Qx.AT8x Qxxxx.QJx.AKTx.x T9x.A8xx.J9.xxxx 1.00000',\n",
       " '8x.AKxxx.xxxx.Jx KJT9x.x.J.A98xxx Qxxxx.QJx.AKTx.x A.T98x.Q98x.KQTx 1.00000',\n",
       " 'AKJ.T9.9xx.KQxxx T.A8xx.Q8xxx.T98 Qxxxx.QJx.AKTx.x 98xx.Kxxx.J.AJxx 1.00000',\n",
       " 'Tx.ATx.QJ9.K98xx KJx.K8xx.8xx.Txx Qxxxx.QJx.AKTx.x A98.9xx.xxx.AQJx 1.00000',\n",
       " 'AJx.AT9xx.Qxx.Qx T9.K8xx.9x.KT8xx Qxxxx.QJx.AKTx.x K8x.x.J8xx.AJ9xx 1.00000',\n",
       " 'AKx.Axx.Qxxx.KQx T98.K9x.Jxx.J8xx Qxxxx.QJx.AKTx.x Jx.T8xx.98.AT9xx 1.00000',\n",
       " 'KJ98x.x.8x.AQxxx x.AK9xxx.Qxx.J9x Qxxxx.QJx.AKTx.x AT.T8x.J9xx.KT8x 1.00000',\n",
       " 'AKx.T9xx.9xx.xxx J8x.8xx.Qxxx.AT8 Qxxxx.QJx.AKTx.x T9.AKx.J8.KQJ9xx 1.00000',\n",
       " 'JT.A98x.9xx.KQJ8 A98x.xx.Qx.9xxxx Qxxxx.QJx.AKTx.x Kx.KTxx.J8xx.ATx 1.00000',\n",
       " 'T9x.KTxxx.J.AQT8 AJ8x.A9.xxxx.9xx Qxxxx.QJx.AKTx.x K.8xx.Q98x.KJxxx 1.00000',\n",
       " 'K98.KT8x.xxx.Kxx Axx.A9xx.9xx.QT8 Qxxxx.QJx.AKTx.x JT.xx.QJ8.AJ9xxx 1.00000',\n",
       " 'AK8.AT8x.xxx.T98 T.Kxx.QJ9xx.KJxx Qxxxx.QJx.AKTx.x J9xx.9xx.8.AQxxx 1.00000',\n",
       " 'J9.KTxx.Jx.JT8xx AKTx.xx.8xxx.AQ9 Qxxxx.QJx.AKTx.x 8x.A98x.Q9x.Kxxx 1.00000',\n",
       " 'Ax.AKxx.J98x.Qxx KJ.T9x.Qxx.AJxxx Qxxxx.QJx.AKTx.x T98x.8xx.xx.KT98 1.00000',\n",
       " 'Jxx.Ax.Q8x.AQ9xx T9.Txxx.Jxx.KTxx Qxxxx.QJx.AKTx.x AK8.K98x.9xx.J8x 1.00000',\n",
       " 'Tx.xxx.QJxx.AJxx 98.AK98xx.8.K98x Qxxxx.QJx.AKTx.x AKJx.T.9xxx.QTxx 1.00000',\n",
       " 'Tx.A9.9xxx.AQ9xx K8x.KTxxx.J8.Jxx Qxxxx.QJx.AKTx.x AJ9.8xx.Qxx.KT8x 1.00000',\n",
       " 'AJ8x.9x.xxx.KJ8x KT9.Tx.QJx.A9xxx Qxxxx.QJx.AKTx.x x.AK8xxx.98x.QTx 1.00000',\n",
       " 'AT9x.8x.xxx.KJTx K8x.AK9x.QJ8.98x Qxxxx.QJx.AKTx.x J.Txxx.9xx.AQxxx 1.00000',\n",
       " 'J8x.xxx.Qxx.AKxx KT9x.K8x.Jx.QT8x Qxxxx.QJx.AKTx.x A.AT9x.98xx.J9xx 1.00000',\n",
       " 'A.K8x.Q8xxx.Qxxx KT9x.9xx.xx.KJTx Qxxxx.QJx.AKTx.x J8x.ATxx.J9.A98x 1.00000',\n",
       " 'T98.K8.J8.AKT8xx K.AT9xx.9xxx.Jxx Qxxxx.QJx.AKTx.x AJxx.xxx.Qxx.Q9x 1.00000',\n",
       " 'x.AKTxx.x.AQJ8xx AK9x.98xx.8x.Txx Qxxxx.QJx.AKTx.x JT8.x.QJ9xxx.K9x 1.00000',\n",
       " '98x.A98x.Qxx.AJ8 KJTx.Tx.98x.KQxx Qxxxx.QJx.AKTx.x A.Kxxx.Jxx.T9xxx 1.00000',\n",
       " 'T9x.Kx.QJ8x.KQT8 8.ATxxx.xx.J9xxx Qxxxx.QJx.AKTx.x AKJx.98x.9xx.Axx 1.00000',\n",
       " 'A98x.AKxx.J8.T8x Jx.98x.xxxx.KQ9x Qxxxx.QJx.AKTx.x KT.Txx.Q9x.AJxxx 1.00000',\n",
       " 'AT9x.A8x.8xxx.Kx KJx.9xx.9x.AJTxx Qxxxx.QJx.AKTx.x 8.KTxx.QJx.Q98xx 1.00000',\n",
       " 'AT8x.T8.J8x.AKJ8 9.Axxx.Qxx.QT9xx Qxxxx.QJx.AKTx.x KJx.K9xx.9xx.xxx 1.00000',\n",
       " 'A8.KT8.Q98x.J8xx KTxx.9xxx.x.KQT9 Qxxxx.QJx.AKTx.x J9.Axx.Jxxx.Axxx 1.00000',\n",
       " '9.9xxx.8xx.ATxxx JTx.KT8x.Jxx.KJ9 Qxxxx.QJx.AKTx.x AK8x.Ax.Q9x.Q8xx 1.00000',\n",
       " 'KJx.A9x.QJ9x.T9x A98.KTx.xx.J8xxx Qxxxx.QJx.AKTx.x Tx.8xxx.8xx.AKQx 1.00000',\n",
       " 'AJ9x.A8x.Jxx.Qxx T8.Tx.9xx.KJT98x Qxxxx.QJx.AKTx.x Kx.K9xxx.Q8x.Axx 1.00000',\n",
       " 'K.98xxx.Q98x.J8x AJT8.AT.xx.AKQxx Qxxxx.QJx.AKTx.x 9xx.Kxx.Jxx.T9xx 1.00000',\n",
       " 'AJ.T98x.Q8x.K8xx K8x.AKx.Jxx.9xxx Qxxxx.QJx.AKTx.x T9x.xxx.9xx.AQJT 1.00000',\n",
       " 'K8.KTxxx.Qx.AQ8x Txx.9xx.98xxx.Tx Qxxxx.QJx.AKTx.x AJ9.A8.Jx.KJ9xxx 1.00000',\n",
       " 'K9x.ATx.8xx.AQ8x AJ8.8xx.J9xxx.Kx Qxxxx.QJx.AKTx.x Tx.K9xx.Q.JT9xxx 1.00000',\n",
       " 'J98xx.9xxx.x.Kxx K.AT8.J8xx.AJ98x Qxxxx.QJx.AKTx.x AT.Kxx.Q9xx.QTxx 1.00000',\n",
       " 'KJx.AKxx.9xx.QTx AT9.8x.J8xx.Kxxx Qxxxx.QJx.AKTx.x 8x.T9xx.Qx.AJ98x 1.00000',\n",
       " 'J8.KT9x.Jxxx.KQx Txx.Axxx.Q8.AT8x Qxxxx.QJx.AKTx.x AK9.8x.9xx.J9xxx 1.00000',\n",
       " 'JT8.Txxx.Jxx.KT9 Kxx.A9x.Q98.A8xx Qxxxx.QJx.AKTx.x A9.K8x.xxx.QJxxx 1.00000',\n",
       " 'JT8x.Axxx.Jx.Txx Ax.Txx.9xx.AKQJ9 Qxxxx.QJx.AKTx.x K9.K98.Q8xx.8xxx 1.00000',\n",
       " 'KJT98.K9.9x.ATxx Ax.T8xx.Qxx.QJ8x Qxxxx.QJx.AKTx.x x.Axxx.J8xx.K9xx 1.00000',\n",
       " 'K8.xxx.9x.AQJTxx 9xx.AK98.Jxx.98x Qxxxx.QJx.AKTx.x AJT.Txx.Q8xx.Kxx 1.00000',\n",
       " '9xx.Ax.QJxx.KQxx KJ8.K98xxx.x.9xx Qxxxx.QJx.AKTx.x AT.Tx.98xx.AJT8x 1.00000',\n",
       " 'A8x.AT.Jxxx.AJTx KJ.xxx.Q98x.KQ9x Qxxxx.QJx.AKTx.x T9x.K98xx.x.8xxx 1.00000',\n",
       " 'Jxx.AT9.J9xx.A8x AKT9.xx.8x.QTxxx Qxxxx.QJx.AKTx.x 8.K8xxx.Qxx.KJ9x 1.00000',\n",
       " 'KT8x.Kxx.x.AJ9xx A9.9xx.98xx.KQ8x Qxxxx.QJx.AKTx.x Jx.AT8x.QJxx.Txx 1.00000',\n",
       " 'KJT.AT9x.Jxx.QTx A9.K8x.8xxx.J8xx Qxxxx.QJx.AKTx.x 8xx.xxx.Q9.AK9xx 1.00000',\n",
       " 'Tx.Kx.8xx.AKT8xx Jx.AT98xx.9x.QJ9 Qxxxx.QJx.AKTx.x AK98.xx.QJxx.xxx 1.00000',\n",
       " 'AKx.9xx.Q8x.AQTx JT8.T8x.9xx.9xxx Qxxxx.QJx.AKTx.x 9x.AKxx.Jxx.KJ8x 1.00000',\n",
       " 'T9xx.8.98xx.AKTx AK8.Txx.Qx.J98xx Qxxxx.QJx.AKTx.x J.AK9xxx.Jxx.Qxx 1.00000',\n",
       " 'K8.A9x.J9x.AQT9x AJT9.8x.Qxx.J8xx Qxxxx.QJx.AKTx.x xx.KTxxx.8xx.Kxx 1.00000',\n",
       " 'T8.AKT9.Jxx.A98x KJ9.x.Q9xx.KJxxx Qxxxx.QJx.AKTx.x Axx.8xxxx.8x.QTx 1.00000',\n",
       " 'KJ9xx.KT9.xx.ATx A8.Axxxx.Jxx.QJx Qxxxx.QJx.AKTx.x T.8x.Q98x.K98xxx 1.00000',\n",
       " 'Ax.AK8x.QJxx.Q8x KJT98.xx.x.JTxxx Qxxxx.QJx.AKTx.x x.T9xx.98xx.AK9x 1.00000',\n",
       " 'Jx.xxx.J98.AKJ8x KT8.A8x.xxx.xxxx Qxxxx.QJx.AKTx.x A9x.KT9x.Qxx.QT9 1.00000',\n",
       " 'AJ98.x.8xxx.AQTx KTx.ATx.J9x.9xxx Qxxxx.QJx.AKTx.x x.K98xxx.Qx.KJ8x 1.00000',\n",
       " 'T98.AK.8x.QJ8xxx KJx.T8xx.xxx.AT9 Qxxxx.QJx.AKTx.x Ax.9xxx.QJ9x.Kxx 1.00000',\n",
       " 'AJ.T8xxx.QJ98.Qx 98.Kxx.xxx.AKJTx Qxxxx.QJx.AKTx.x KTxx.A9.xx.98xxx 1.00000',\n",
       " 'KJx.Kxx.Qxxx.KQJ 9x.AT8x.98x.9xxx Qxxxx.QJx.AKTx.x AT8.9xx.Jx.AT8xx 1.00000',\n",
       " 'K9x.xx.98x.AQTxx 8x.KT9xx.Jx.98xx Qxxxx.QJx.AKTx.x AJT.A8x.Qxxx.KJx 1.00000',\n",
       " 'T9x.xx.9xx.AKQxx AJ8x.AK.QJxx.J9x Qxxxx.QJx.AKTx.x K.T98xxx.8x.T8xx 1.00000',\n",
       " 'AK.KTx.8xx.JTxxx JT98.A9x.Jx.Q9xx Qxxxx.QJx.AKTx.x xx.8xxx.Q9xx.AK8 1.00000',\n",
       " '9x.8xx.J8xx.AKTx KJT8.AKxx.9xx.J8 Qxxxx.QJx.AKTx.x Ax.T9x.Qx.Q9xxxx 1.00000',\n",
       " 'AT9.A9x.Jxx.KQTx 8x.KT8xx.8xx.8xx Qxxxx.QJx.AKTx.x KJx.xx.Q9x.AJ9xx 1.00000',\n",
       " 'KJT.Kxx.8xx.AQJ9 Ax.AT9xx.J9x.Kxx Qxxxx.QJx.AKTx.x 98x.8x.Qxx.T8xxx 1.00000',\n",
       " 'Jx.9xx.QJ9x.T8xx AKx.KT8x.8x.AQJx Qxxxx.QJx.AKTx.x T98.Axx.xxx.K9xx 1.00000',\n",
       " 'KJ9.AT9x.J.Q9xxx Txx.8x.98xxx.KJx Qxxxx.QJx.AKTx.x A8.Kxxx.Qxx.AT8x 1.00000',\n",
       " 'AJ8xx.Kxx.8.K8xx KT9.98xx.9x.AJxx Qxxxx.QJx.AKTx.x .ATx.QJxxxx.QT9x 1.00000',\n",
       " 'AJ9x.AK.Jxxx.QTx T8x.98xx.Qxx.J8x Qxxxx.QJx.AKTx.x K.Txxx.98.AK9xxx 1.00000',\n",
       " 'K8x.Kxx.QJx.Q9xx A9x.Axxx.9xx.JTx Qxxxx.QJx.AKTx.x JT.T98.8xx.AK8xx 1.00000',\n",
       " 'K98x.xxx.9xx.JTx ATx.KT9.Q8xx.8xx Qxxxx.QJx.AKTx.x J.A8xx.Jx.AKQ9xx 1.00000',\n",
       " '98.9.8xxxx.KJ9xx Kxx.KT8xx.9.QTxx Qxxxx.QJx.AKTx.x AJT.Axxx.QJx.A8x 1.00000',\n",
       " 'JT9.xx.J98.J8xxx 8x.AKT98.Qx.AQ9x Qxxxx.QJx.AKTx.x AKx.xxx.xxxx.KTx 1.00000',\n",
       " 'AT8.Txx.xxxx.T9x Kx.8xx.QJ9x.AKJx Qxxxx.QJx.AKTx.x J9x.AK9x.8.Q8xxx 1.00000',\n",
       " 'K98x.Kxx.9xx.xxx AJ.98x.J8x.AQJT8 Qxxxx.QJx.AKTx.x Tx.ATxx.Qxx.K9xx 1.00000',\n",
       " 'JT.KT98.Q8xx.A9x AKxx.xxx..QJT8xx Qxxxx.QJx.AKTx.x 98.Axx.J9xxx.Kxx 1.00000',\n",
       " 'T98x.K8x.x.KQxxx AKJx.Txx.Jxx.Jxx Qxxxx.QJx.AKTx.x .A9xx.Q98xx.AT98 1.00000',\n",
       " 'J9.T9x.J9xx.J9xx Kx.K8x.8xx.KQT8x Qxxxx.QJx.AKTx.x AT8x.Axxx.Qx.Axx 1.00000',\n",
       " 'JT8x.xx.Qxx.KT8x K.AKxxx.Jxx.9xxx Qxxxx.QJx.AKTx.x A9x.T98.98x.AQJx 1.00000',\n",
       " 'J8x.T98x.QJ.9xxx AKx.Ax.98xx.JT8x Qxxxx.QJx.AKTx.x T9.Kxxx.xxx.AKQx 1.00000',\n",
       " 'Tx.A8xx.Q8x.8xxx K9.xxx.J9xx.KJTx Qxxxx.QJx.AKTx.x AJ8x.KT9.xx.AQ9x 1.00000',\n",
       " 'A.KT8x.J8xx.98xx KJTx.A9.9xxx.Axx Qxxxx.QJx.AKTx.x 98x.xxxx.Q.KQJTx 1.00000',\n",
       " '.T9xxxx.9x.AK8xx JT98x.K.J8x.JTxx Qxxxx.QJx.AKTx.x AKx.A8x.Qxxx.Q9x 1.00000',\n",
       " 'KJT.T8.J8xx.AKxx A8x.Ax.Q9x.JT8xx Qxxxx.QJx.AKTx.x 9x.K9xxxx.xx.Q9x 1.00000',\n",
       " 'AT9.xx.J8xx.J9xx Kx.AT98xx.xx.KQx Qxxxx.QJx.AKTx.x J8x.Kx.Q9x.AT8xx 1.00000',\n",
       " 'AK.xxxx.J8xx.KQ8 JT8.K98.9xx.A9xx Qxxxx.QJx.AKTx.x 9xx.ATx.Qx.JTxxx 1.00000',\n",
       " 'AKx.Kxxx.xx.8xxx 8x.AT9x.Qxx.KQJ9 Qxxxx.QJx.AKTx.x JT9.8x.J98x.ATxx 1.00000',\n",
       " 'T8x.KTxx.9xx.Txx AKJ.xx.QJxx.AQJx Qxxxx.QJx.AKTx.x 9x.A98x.8x.K98xx 1.00000',\n",
       " 'AKJx.A98xx.x.Jxx T8.Kxx.QJ8xx.K9x Qxxxx.QJx.AKTx.x 9x.Tx.9xx.AQT8xx 1.00000',\n",
       " 'KJ8.Axx.Qxx.Axxx Axx.T9x.8xx.Q98x Qxxxx.QJx.AKTx.x T9.K8xx.J9x.KJTx 1.00000',\n",
       " 'AT9.T8xx.Qx.Axxx KJx.Axx.Jxxx.T8x Qxxxx.QJx.AKTx.x 8x.K9x.98x.KQJ9x 1.00000',\n",
       " 'AKTx.Txxx.x.QJxx J9.A8xx.QJx.AKxx Qxxxx.QJx.AKTx.x 8x.K9.98xxx.T98x 1.00000',\n",
       " 'AT98x.AKTxx.8x.8 Jx.8x.Q9xx.AKQxx Qxxxx.QJx.AKTx.x K.9xx.Jxx.JT9xxx 1.00000',\n",
       " 'AJT8.8x.QJ9.KQ9x K9x.ATx.8xxx.Txx Qxxxx.QJx.AKTx.x x.K9xxx.xx.AJ8xx 1.00000',\n",
       " 'KT9x.T.Jxx.AJT8x AJx.8xxx.Q9x.Qxx Qxxxx.QJx.AKTx.x 8.AK9xx.8xx.K9xx 1.00000',\n",
       " 'J.AKTx.QJ9x.AJ8x KT9x.9xxx.x.KQxx Qxxxx.QJx.AKTx.x A8x.8x.8xxx.T9xx 1.00000',\n",
       " 'JTx.Tx.J98x.Txxx 9.K8xx.Qxxx.AKxx Qxxxx.QJx.AKTx.x AK8x.A9xx.x.QJ98 1.00000',\n",
       " 'AKJ.Tx.Q98x.Kxxx Txx.A98x.Jxx.AT8 Qxxxx.QJx.AKTx.x 98.Kxxx.xx.QJ9xx 1.00000',\n",
       " 'KT9.T8x.QJxx.xxx 8x.AK9x.98xx.KQx Qxxxx.QJx.AKTx.x AJx.xxx.x.AJT98x 1.00000',\n",
       " 'J.8xx.QJ9xx.KTxx T9x.K9x.xxx.AQJx Qxxxx.QJx.AKTx.x AK8x.ATxx.8.98xx 1.00000',\n",
       " 'AJx.A.J9xx.KQTxx KT.KTxxx.8x.AJ8x Qxxxx.QJx.AKTx.x 98x.98xx.Qxx.9xx 1.00000',\n",
       " '98.AT8xx.Qx.QJT9 AKx.9xx.J9x.A8xx Qxxxx.QJx.AKTx.x JTx.Kx.8xxx.Kxxx 1.00000',\n",
       " 'A8x.AT8x.Jxx.Jxx x.xxx.Qxxx.AK9xx Qxxxx.QJx.AKTx.x KJT9.K9x.98.QT8x 1.00000']"
      ]
     },
     "execution_count": 3,
     "metadata": {},
     "output_type": "execute_result"
    }
   ],
   "source": [
    "bid.samples"
   ]
  },
  {
   "cell_type": "code",
   "execution_count": 4,
   "id": "bfe98f56",
   "metadata": {},
   "outputs": [
    {
     "data": {
      "text/plain": [
       "[{'call': '3C', 'insta_score': 0.9526}]"
      ]
     },
     "execution_count": 4,
     "metadata": {},
     "output_type": "execute_result"
    }
   ],
   "source": [
    "auction = [\"PAD_START\", \"PAD_START\", \"1S\", \"PASS\", \"2N\",\"PASS\"]\n",
    "bid = bot_bid.bid(auction)\n",
    "\n",
    "bid.to_dict()['candidates']"
   ]
  },
  {
   "cell_type": "code",
   "execution_count": 5,
   "id": "55b647a5",
   "metadata": {},
   "outputs": [
    {
     "data": {
      "text/plain": [
       "['AKJ9.Axx.Q8x.J8x T.T98xx.9xx.A9xx Qxxxx.QJx.AKTx.x 8xx.Kx.Jxx.KQTxx 0.97734',\n",
       " 'AT98x.AK.xx.AJ98 KJx.9xxx.Q9.QTxx Qxxxx.QJx.AKTx.x .T8xx.J8xxx.Kxxx 0.95695',\n",
       " 'AKTx.K9x.J8x.JT8 Jx.Axx.9xx.AQxxx Qxxxx.QJx.AKTx.x 98.T8xx.Qxx.K9xx 0.79249',\n",
       " 'KT98.AK.J98.J8xx J.T98xx.xxx.KQ9x Qxxxx.QJx.AKTx.x Axx.xxx.Qxx.ATxx 0.83341',\n",
       " 'AKTx.ATxx.9x.QJ8 J98.x.QJxx.ATxxx Qxxxx.QJx.AKTx.x x.K98xx.8xx.K9xx 0.98886',\n",
       " 'AKJx.ATx.QJx.Txx 98x.xxx.98x.K8xx Qxxxx.QJx.AKTx.x T.K98x.xxx.AQJ9x 0.97632',\n",
       " 'KT9xx.ATx.xx.AKJ J.K98x.QJ8.QTxxx Qxxxx.QJx.AKTx.x A8.xxx.9xxx.98xx 0.98318',\n",
       " 'AKT8x.9x.xxx.AKx J9x.AKx.J98x.8xx Qxxxx.QJx.AKTx.x .T8xxx.Qx.QJT9xx 0.94526',\n",
       " 'AKJT8.ATx.Jx.A8x 9x.8xx.8x.KJ9xxx Qxxxx.QJx.AKTx.x x.K9xx.Q9xxx.QTx 0.95796',\n",
       " 'AK8xx.9xx.xx.AKT 9.A8xx.QJxx.Qxxx Qxxxx.QJx.AKTx.x JT.KTx.98x.J98xx 0.98728',\n",
       " 'AKxx.KT8.8.KT98x JT9.Axx.9xxx.xxx Qxxxx.QJx.AKTx.x 8.9xxx.QJxx.AQJx 0.98286',\n",
       " 'AKJx.AKx.x.KQJT9 Tx.98x.Q9xx.A8xx Qxxxx.QJx.AKTx.x 98.Txxx.J8xx.xxx 0.32824',\n",
       " 'AKJ98.K8x.9.QJT8 .ATxxx.Qxx.Axxxx Qxxxx.QJx.AKTx.x Txx.9x.J8xxx.K9x 0.89932',\n",
       " 'KT9x.Ax.xxx.KQxx A8.98x.QJ98.J9xx Qxxxx.QJx.AKTx.x Jx.KTxxx.xx.AT8x 0.85615',\n",
       " 'KT8x.Kx.Q98x.ATx A9.xxx.Jxx.KQxxx Qxxxx.QJx.AKTx.x Jx.AT98x.xx.J98x 0.90164',\n",
       " 'AKJ98.A9.J9.AQTx x.T8xx.Qxx.J98xx Qxxxx.QJx.AKTx.x Tx.Kxxx.8xxx.Kxx 0.86992',\n",
       " 'KJT9x.xx.Q.AQT8x 8.K98xx.J9xx.Kxx Qxxxx.QJx.AKTx.x Ax.ATx.8xxx.J9xx 0.98787',\n",
       " 'AJT9xx.AT9.J.A8x K.8xxx.98xxx.Qxx Qxxxx.QJx.AKTx.x 8.Kxx.Qxx.KJT9xx 0.98383',\n",
       " 'KJ9xx.AT8x.x.AKx A.xxx.J8xx.QJTxx Qxxxx.QJx.AKTx.x T8.K9x.Q9xx.98xx 0.95378',\n",
       " 'AKJT8x.KT9.QJ.xx 9.A8xx.8xx.AJTxx Qxxxx.QJx.AKTx.x x.xxx.9xxx.KQ98x 0.98578',\n",
       " 'AJT98.xx.8x.AKxx Kxx.A8x.xx.QT98x Qxxxx.QJx.AKTx.x .KT9xx.QJ9xx.Jxx 0.56444',\n",
       " 'KT98.A98.9x.AJTx Axx.xxx.8xxx.Qxx Qxxxx.QJx.AKTx.x J.KTxx.QJx.K98xx 0.95909',\n",
       " 'AK8x.Kxx.8x.KJTx T.A98xx.J9xx.xxx Qxxxx.QJx.AKTx.x J9x.Tx.Qxx.AQ98x 0.98659',\n",
       " 'KT98x.8.Qxx.AK9x AJx.AT9xx.x.J8xx Qxxxx.QJx.AKTx.x .Kxxx.J98xx.QTxx 0.98132',\n",
       " 'AKJT8x.Kxx.J98.K x.T8xx.xx.A9xxxx Qxxxx.QJx.AKTx.x 9.A9x.Qxxx.QJT8x 0.93877',\n",
       " 'AT8x.Axx.xx.Axxx KJx.K98.J8x.Q8xx Qxxxx.QJx.AKTx.x 9.Txxx.Q9xx.KJT9 0.97354',\n",
       " 'AT9x.T9x.Q.AKQ9x 8x.K8x.J98x.Txxx Qxxxx.QJx.AKTx.x KJ.Axxx.xxxx.J8x 0.78757',\n",
       " 'AKJT98x.Kx.Q9.T9 .Axx.J8xx.KJxxxx Qxxxx.QJx.AKTx.x x.T98xx.xxx.AQ8x 0.98201',\n",
       " 'AJT8.AKxx.9xx.xx Kx.9xx.J8xx.AJ9x Qxxxx.QJx.AKTx.x 9x.T8x.Qx.KQT8xx 0.94223',\n",
       " 'AKTx.98xx.Qx.AKx J8x.Ax.J9xx.JT8x Qxxxx.QJx.AKTx.x 9.KTxx.8xx.Q9xxx 0.97686',\n",
       " 'AT98x.AKx.Jx.9xx KJx.T8x.98x.Qxxx Qxxxx.QJx.AKTx.x .9xxx.Qxxx.AKJT8 0.96423',\n",
       " 'AKTxx.Txx.8x.KQ9 J98.98x.J9x.AJxx Qxxxx.QJx.AKTx.x .AKxx.Qxxx.T8xxx 0.95390',\n",
       " 'AJ8x.Ax.Q9xx.KTx Kx.98xxx.x.QJ8xx Qxxxx.QJx.AKTx.x T9.KTx.J8xx.A9xx 0.97903',\n",
       " 'AKJT98.AT.Jx.K9x x.K98x.Q9xx.Axxx Qxxxx.QJx.AKTx.x x.xxxx.8xx.QJT8x 0.97624',\n",
       " 'J9xx.AKx.9.AK98x AT8.Tx.Q8xx.QTxx Qxxxx.QJx.AKTx.x K.98xxx.Jxxx.Jxx 0.77469',\n",
       " 'AKT8.9x.9xx.AQxx Jx.8xxx.Jxx.KJT8 Qxxxx.QJx.AKTx.x 9x.AKTx.Q8x.9xxx 0.93981',\n",
       " 'AT9x.Ax.QJx.KJ9x J8.Txx.8xx.AQTxx Qxxxx.QJx.AKTx.x Kx.K98xx.9xx.8xx 0.98080',\n",
       " 'AKJ9x.A.8xx.Jxxx T8x.T9xx.9x.KQ8x Qxxxx.QJx.AKTx.x .K8xxx.QJxx.AT9x 0.98254',\n",
       " 'K9xx.AT8x.x.AKxx AJT.Kxx.J9.JT9xx Qxxxx.QJx.AKTx.x 8.9xx.Q8xxxx.Q8x 0.96556',\n",
       " 'AJTxx.AKT.Jx.Jxx K.xxxx.Q98x.AQ98 Qxxxx.QJx.AKTx.x 98.98x.xxx.KTxxx 0.98292',\n",
       " 'AKT8x.Ax.9xx.KQx x.KT98xx.xx.T9xx Qxxxx.QJx.AKTx.x J9.xx.QJ8x.AJ8xx 0.98176',\n",
       " 'AKJx.AK8.9xx.9xx T.T9xxx.xxx.QTxx Qxxxx.QJx.AKTx.x 98x.xx.QJ8.AKJ8x 0.97910',\n",
       " 'AKJTx.AT9.J8.J8x 9.8xxxx.xx.AQT9x Qxxxx.QJx.AKTx.x 8x.Kx.Q9xxx.Kxxx 0.98373',\n",
       " 'KT98x.Axx.Jx.A8x x.K98xx.xx.Qxxxx Qxxxx.QJx.AKTx.x AJ.Tx.Q98xx.KJT9 0.97306',\n",
       " 'A8xx.K8.Jxx.AKJx 9.9xxxx.Q9x.QTxx Qxxxx.QJx.AKTx.x KJT.ATx.8xx.98xx 0.97073',\n",
       " 'KJTx.K9xx.xx.AJ8 A8.x.QJ98.Kxxxxx Qxxxx.QJx.AKTx.x 9x.AT8xx.xxx.QT9 0.95821',\n",
       " 'KJTxx.Ax.x.AKQ8x 9.K98x.Q8xx.JT9x Qxxxx.QJx.AKTx.x A8.Txxx.J9xx.xxx 0.64563',\n",
       " 'AKJx.Tx.9xx.Axxx T8.98xx.Jxxx.QJT Qxxxx.QJx.AKTx.x 9x.AKxx.Q8.K98xx 0.88470',\n",
       " 'AKTxx.Kx.QJx.J8x 8.98xx.9xx.KQT9x Qxxxx.QJx.AKTx.x J9.ATxx.8xx.Axxx 0.97090',\n",
       " 'AKJT9.Kx.Jxx.9xx 8x.9xx.Q9xx.AKQT Qxxxx.QJx.AKTx.x x.AT8xx.8x.J8xxx 0.89735',\n",
       " 'AKTxx.Kxx.8x.K98 98.T9xx.QJxx.Qxx Qxxxx.QJx.AKTx.x J.A8x.9xx.AJTxxx 0.97641',\n",
       " 'AK9x.ATx.8xx.AQJ J8x.K9.QJ9x.K8xx Qxxxx.QJx.AKTx.x T.8xxxx.xx.T9xxx 0.94185',\n",
       " 'K98x.Axx.Qxx.KJx Ax.T8x.8x.AQT9xx Qxxxx.QJx.AKTx.x JT.K9xx.J9xx.8xx 0.90121',\n",
       " 'AKJTx.Axxx.98.Ax x.98.Qxxx.KJTxxx Qxxxx.QJx.AKTx.x 98.KTxx.Jxx.Q98x 0.96562',\n",
       " 'AKJ8x.A98.8x.9xx T.KTx.9xxxx.AJTx Qxxxx.QJx.AKTx.x 9x.xxxx.QJ.KQ8xx 0.96508',\n",
       " 'KJT8.K8xx.J8x.A9 9x.ATx.9xx.QT8xx Qxxxx.QJx.AKTx.x Ax.9xx.Qxx.KJxxx 0.93164',\n",
       " 'AJxx.8xx..AQJxxx 9.AK9x.Q98xx.K8x Qxxxx.QJx.AKTx.x KT8.Txx.Jxxx.T9x 0.96270',\n",
       " 'AKJTx.AKTx.98.xx 98.8x.Qxx.AQ8xxx Qxxxx.QJx.AKTx.x x.9xxx.Jxxx.KJT9 0.97778',\n",
       " 'AK98x.Kx.Q9x.Q8x T.A8x.8xx.AJTxxx Qxxxx.QJx.AKTx.x Jx.T9xxx.Jxx.K9x 0.97412',\n",
       " 'A98x.Kx.QJ8x.K8x JT.Axx.xxx.AQJxx Qxxxx.QJx.AKTx.x Kx.T98xx.9x.T9xx 0.95240',\n",
       " 'AJ9x.T8.QJ8.KQ98 T8.Kxxx.9xx.AJxx Qxxxx.QJx.AKTx.x Kx.A9xx.xxx.Txxx 0.91108',\n",
       " 'AKxx.ATx.xx.Kxxx JT8.98x.98xx.T98 Qxxxx.QJx.AKTx.x 9.Kxxx.QJx.AQJxx 0.80901',\n",
       " 'JT98x.AKT.8x.AQx A.9xxx.J9xx.K98x Qxxxx.QJx.AKTx.x Kx.8xx.Qxx.JTxxx 0.98472',\n",
       " 'AJ9x.Ax.9x.AT8xx x.K98xx.Q8x.Jxxx Qxxxx.QJx.AKTx.x KT8.Txx.Jxxx.KQ9 0.98864',\n",
       " 'AKJx.ATxx.QJx.Qx T8.Kxx.9xxx.A8xx Qxxxx.QJx.AKTx.x 9x.98x.8x.KJT9xx 0.97123',\n",
       " 'AKJT9.AT.Jx.Jxxx xx.98xx.Q8xx.KT9 Qxxxx.QJx.AKTx.x 8.Kxxx.9xx.AQ8xx 0.98610',\n",
       " 'AT8x.A8xx.Jxx.Kx KJ.T9x.Qxxx.Q98x Qxxxx.QJx.AKTx.x 9x.Kxx.98.AJTxxx 0.92934',\n",
       " 'AKJT.KT9.xxx.Jxx 9x.Axxx.Q8x.K9xx Qxxxx.QJx.AKTx.x 8x.8xx.J9x.AQT8x 0.79567',\n",
       " 'AK98.K9x.Q8.Q9xx JTx.Ax.J9xxx.Kxx Qxxxx.QJx.AKTx.x x.T8xxx.xx.AJT8x 0.98229',\n",
       " 'KJxx.AKTx.Qx.AT8 T8.9xx.8xx.Q9xxx Qxxxx.QJx.AKTx.x A9.8xx.J9xx.KJxx 0.94635',\n",
       " 'AKJT9x.A.9xx.JT9 8.K9xxx.QJx.xxxx Qxxxx.QJx.AKTx.x x.T8xx.8xx.AKQ8x 0.98015',\n",
       " 'AT8x.AKx.9x.JTxx K.T9xxxx.xx.Kxxx Qxxxx.QJx.AKTx.x J9x.8.QJ8xx.AQ98 0.95029',\n",
       " 'AT8x.98x.J9x.AKx KJ.Kxx.Q8xx.T9xx Qxxxx.QJx.AKTx.x 9x.ATxx.xx.QJ8xx 0.86400',\n",
       " 'AK98x.A9x.Jx.8xx JT.Kx.Q8xxx.AKTx Qxxxx.QJx.AKTx.x x.T8xxx.9x.QJ9xx 0.96534',\n",
       " 'AKJx.Kxx.Jxx.T9x Tx.T9xxx.xx.QJ8x Qxxxx.QJx.AKTx.x 98.A8.Q98x.AKxxx 0.80628',\n",
       " 'KJT8x.Ax.8x.A98x 9x.98xx.Jxx.Kxxx Qxxxx.QJx.AKTx.x A.KTxx.Q9xx.QJTx 0.98399',\n",
       " 'AT8x.K.xxx.KQJ9x 9.T9xxxx.J98.ATx Qxxxx.QJx.AKTx.x KJx.A8x.Qxx.8xxx 0.98358',\n",
       " 'AKT8.xx.9xx.KQxx 9.AKT8x.Jxx.JTxx Qxxxx.QJx.AKTx.x Jxx.9xx.Q8x.A98x 0.85311',\n",
       " 'KJ9x.AKx.Qxxx.QJ 8x.T9x.J9x.AK8xx Qxxxx.QJx.AKTx.x AT.8xxx.8x.T9xxx 0.93495',\n",
       " 'AKJ9.Ax.xx.T8xxx 8x.KT98x.J98.AK9 Qxxxx.QJx.AKTx.x Tx.xxx.Qxxx.QJxx 0.98629',\n",
       " 'AKJTx.x.Qx.AQT8x 8x.AK98xx.xx.9xx Qxxxx.QJx.AKTx.x 9.Txx.J98xx.KJxx 0.60736',\n",
       " 'AKJTx.8xx.Jx.A8x x.AK9x.Q8x.Qxxxx Qxxxx.QJx.AKTx.x 98.Txx.9xxx.KJT9 0.97990',\n",
       " 'KJ98.A8xx.8x.AK9 Ax.Txxx.Q9x.JTxx Qxxxx.QJx.AKTx.x Tx.K9.Jxxx.Q8xxx 0.98521',\n",
       " 'KJ9x.Ax.98x.A8xx T.T98xxx.Jx.KJ9x Qxxxx.QJx.AKTx.x A8x.Kx.Qxxx.QTxx 0.89597',\n",
       " 'AKT8x.x.xx.AQJ9x Jx.A98x.Q9xx.T8x Qxxxx.QJx.AKTx.x 9.KTxxx.J8x.Kxxx 0.90048',\n",
       " 'KT98.Kxxx.Qxx.AT x.A9x.98xx.J9xxx Qxxxx.QJx.AKTx.x AJx.T8x.Jx.KQ8xx 0.92643',\n",
       " 'AK9x.8x.8xx.AK9x T.T9xx.J9xx.T8xx Qxxxx.QJx.AKTx.x J8x.AKxx.Qx.QJxx 0.98093',\n",
       " 'AKJ9xx.xxx.x.A8x T8.K9x.J98x.T9xx Qxxxx.QJx.AKTx.x .AT8x.Qxxx.KQJxx 0.98525',\n",
       " 'AKJ9x.AKx.98x.Ax x.xxx.Qx.KQ98xxx Qxxxx.QJx.AKTx.x T8.T98x.Jxxx.JTx 0.92232',\n",
       " 'KT8x.ATxx.QJ.Q9x J9.98x.xxx.AJxxx Qxxxx.QJx.AKTx.x Ax.Kxx.98xx.KT8x 0.83480',\n",
       " 'AKJ9x.xx.Q9x.K8x x.AT98x.x.AQ9xxx Qxxxx.QJx.AKTx.x T8.Kxx.J8xxx.JTx 0.42332',\n",
       " 'AJTx.AKxx.9x.Axx K98.Tx.J8x.T98xx Qxxxx.QJx.AKTx.x x.98xx.Qxxx.KQJx 0.97104',\n",
       " 'AKJx.ATx.J9x.AJ8 98.Kxx.Q8x.KQ9xx Qxxxx.QJx.AKTx.x Tx.98xx.xxx.Txxx 0.93318',\n",
       " 'AT98.AK.Jxx.9xxx KJx.T9xx.xxx.AQx Qxxxx.QJx.AKTx.x x.8xxx.Q98.KJT8x 0.86068',\n",
       " 'KJT8x.AKT8.J8.AK x.9x.9xx.QT98xxx Qxxxx.QJx.AKTx.x A9.xxxx.Qxxx.Jxx 0.90785',\n",
       " 'AJT98x.Kx.x.AK8x K.A9xxx.Q8x.J9xx Qxxxx.QJx.AKTx.x x.T8x.J9xxx.QTxx 0.94532',\n",
       " 'AKJTxx.xx.Qxx.Kx 9.Txxx.xxx.AT9xx Qxxxx.QJx.AKTx.x 8.AK98.J98.QJ8xx 0.97415',\n",
       " 'KJxx.98.QJx.AKQx T8.KTxxx.98x.Txx Qxxxx.QJx.AKTx.x A9.Axx.xxx.J98xx 0.97010',\n",
       " 'AKJTx.K8x.Qx.Axx 98.Axx.8x.KQT9xx Qxxxx.QJx.AKTx.x x.T9xx.J9xxx.J8x 0.96425',\n",
       " 'KJ9x.AK9x.QJ.Kxx Ax.8x.9xxx.AJ98x Qxxxx.QJx.AKTx.x T8.Txxx.8xx.QTxx 0.96491',\n",
       " 'AJT8.Kxx.QJ.AK8x xx.AT9x.9xx.Jxxx Qxxxx.QJx.AKTx.x K9.8xx.8xxx.QT9x 0.87403',\n",
       " 'AKTx.KTx.Jxx.Axx J.A98xx.xxx.KJ9x Qxxxx.QJx.AKTx.x 98x.xx.Q98.QT8xx 0.97967',\n",
       " 'AJ9x.A8.J98x.K9x 8.KTxxx.xx.AQJTx Qxxxx.QJx.AKTx.x KTx.9xx.Qxx.8xxx 0.86983',\n",
       " 'AKJ8x.Tx.xxx.AKJ 9.AKxx.QJx.Q8xxx Qxxxx.QJx.AKTx.x Tx.98xx.98x.T9xx 0.98052',\n",
       " 'AKJx.KT9x.Qxx.8x T9.xxx.J8x.KJ9xx Qxxxx.QJx.AKTx.x 8x.A8x.9xx.AQTxx 0.95781',\n",
       " 'AKJTx.Ax.Q8x.K8x 8x.T98xx.Jx.AQTx Qxxxx.QJx.AKTx.x 9.Kxx.9xxx.J9xxx 0.97159',\n",
       " 'KJTx.ATxx.Jx.Axx 8x.K9x.Q9xx.QT8x Qxxxx.QJx.AKTx.x A9.8xx.8xx.KJ9xx 0.97980',\n",
       " 'AJ8x.T9.Jx.AQTxx T9.A8xxx.Qxx.Kxx Qxxxx.QJx.AKTx.x Kx.Kxx.98xx.J98x 0.98701',\n",
       " 'AT98.K.J8xx.ATxx KJxx.9xx.xx.J9xx Qxxxx.QJx.AKTx.x .AT8xxx.Q9x.KQ8x 0.86374',\n",
       " 'AKJ8x.K.8xx.AT8x Tx.AT98x.Qx.Q9xx Qxxxx.QJx.AKTx.x 9.xxxx.J9xx.KJxx 0.97285',\n",
       " 'A98x.9xx.Jx.AKQx x.AT8.Qxxx.JTxxx Qxxxx.QJx.AKTx.x KJT.Kxxx.98x.98x 0.98637',\n",
       " 'AJT8.9x.9xx.AK8x 9xx.A8xx.Jxx.Txx Qxxxx.QJx.AKTx.x K.KTxx.Q8x.QJ9xx 0.88913',\n",
       " 'AKJT.Kx.QJ98.QJx 8xx.ATx.xx.T8xxx Qxxxx.QJx.AKTx.x 9.98xxx.xxx.AK9x 0.89970',\n",
       " 'KTxx.AKx.8.KQTxx 98.xxxx.9xx.A9xx Qxxxx.QJx.AKTx.x AJ.T98.QJxxx.J8x 0.80927',\n",
       " 'AJT8.A8x.Q8.AJ98 x.KT9xx.xxx.QTxx Qxxxx.QJx.AKTx.x K9x.xx.J9xx.Kxxx 0.95240',\n",
       " 'AJT98x.xx.8.AKQ8 .AT9xx.Q9xx.9xxx Qxxxx.QJx.AKTx.x Kx.K8x.Jxxx.JTxx 0.97372',\n",
       " 'AKJ9.AKT.Q9x.J8x Tx.98xx.xxx.KTxx Qxxxx.QJx.AKTx.x 8x.xxx.J8x.AQ9xx 0.94528',\n",
       " 'KJ98x.AK9.Q8.J98 AT.Txx.Jxxx.KQxx Qxxxx.QJx.AKTx.x x.8xxx.9xx.ATxxx 0.98383',\n",
       " 'K98x.KT.8xx.AQxx JT.A8xx.Q9x.K98x Qxxxx.QJx.AKTx.x Ax.9xxx.Jxx.JTxx 0.79772',\n",
       " 'AKJTx.xxx.Qx.A9x 9x.A9x.Jxx.JTxxx Qxxxx.QJx.AKTx.x 8.KT8x.98xx.KQ8x 0.98558',\n",
       " 'AT98x.AK.J8x.K8x KJ.Txx.9xxx.AQxx Qxxxx.QJx.AKTx.x x.98xxx.Qx.JT9xx 0.98206',\n",
       " 'AKxx.98x.Q8x.A9x T8.AT.Jxxx.KQJTx Qxxxx.QJx.AKTx.x J9.Kxxxx.9x.8xxx 0.92094',\n",
       " 'AKT8x.ATxx.x.KJT J9.K8.QJxxx.Q8xx Qxxxx.QJx.AKTx.x x.9xxx.98x.A9xxx 0.95234',\n",
       " 'AJ98x.Kx.Qx.A8xx x.ATxx.J98.KT9xx Qxxxx.QJx.AKTx.x KT.98xx.xxxx.QJx 0.98590',\n",
       " 'AKJTx.9xx.Jxx.K9 9.Axx.Q8xx.AQT8x Qxxxx.QJx.AKTx.x 8x.KT8x.9x.Jxxxx 0.93371',\n",
       " 'KJTxx.K.QJxx.A8x 9.A8xx.8xx.QJ9xx Qxxxx.QJx.AKTx.x A8.T9xxx.9x.KTxx 0.98268',\n",
       " 'AJxx.AK.J9xx.J9x K8.98xx.xx.T8xxx Qxxxx.QJx.AKTx.x T9.Txxx.Q8x.AKQx 0.97659',\n",
       " 'AKT98x.ATx..JTxx .xxx.Q9xxxx.AKQ9 Qxxxx.QJx.AKTx.x Jx.K98x.J8x.8xxx 0.98027']"
      ]
     },
     "execution_count": 5,
     "metadata": {},
     "output_type": "execute_result"
    }
   ],
   "source": [
    "bid.samples"
   ]
  },
  {
   "cell_type": "code",
   "execution_count": 6,
   "id": "7101e514",
   "metadata": {},
   "outputs": [
    {
     "data": {
      "text/plain": [
       "[{'call': '4S',\n",
       "  'insta_score': 0.7351,\n",
       "  'expected_score': 208,\n",
       "  'adjustment': 37},\n",
       " {'call': '3S', 'insta_score': 0.1515, 'expected_score': 208, 'adjustment': 8}]"
      ]
     },
     "execution_count": 6,
     "metadata": {},
     "output_type": "execute_result"
    }
   ],
   "source": [
    "auction = [\"PAD_START\", \"PAD_START\", \"1S\", \"PASS\", \"2N\", \"PASS\",\"3C\",\"X\",\"PASS\",\"PASS\"]\n",
    "bid = bot_bid.bid(auction)\n",
    "\n",
    "bid.to_dict()['candidates']"
   ]
  },
  {
   "cell_type": "code",
   "execution_count": 7,
   "metadata": {},
   "outputs": [
    {
     "data": {
      "text/plain": [
       "['AK9xx.Kxx.J9.J8x J.T98.Qxxxx.K9xx Qxxxx.QJx.AKTx.x T8.Axxx.8x.AQTxx 0.63272 1S-P-2N-P-3C-X-P-P-4S-P-P-P (9.1)  1S-P-2N-P-3C-X-P-P-3S-P-4S-P-P-P (9.1) ',\n",
       " 'KJT8.AK8x.QJx.8x A9.9xx.98x.JT9xx Qxxxx.QJx.AKTx.x xx.Txx.xxx.AKQxx 0.38877 1S-P-2N-P-3C-X-P-P-4S-P-P-P (10.9)  1S-P-2N-P-3C-X-P-P-3S-P-4S-P-P-P (10.9) ',\n",
       " 'AKJx.98x.xxx.A98 98.Txxx.J9xx.QTx Qxxxx.QJx.AKTx.x Tx.AKx.Q8.KJxxxx 0.76518 1S-P-2N-P-3C-X-P-P-4S-P-P-P (9.4)  1S-P-2N-P-3C-X-P-P-3S-P-4S-P-P-P (9.4) ',\n",
       " 'AJT9.Kxx.8.KQ8xx K8.AT8x.Jxxxx.xx Qxxxx.QJx.AKTx.x xx.9xx.Q9x.AJT9x 0.36867 1S-P-2N-P-3C-X-P-P-4S-P-P-P (9.9)  1S-P-2N-P-3C-X-P-P-3S-P-4S-P-P-P (9.9) ',\n",
       " 'KT8x.A.xxx.AJ8xx J9.8xxxx.QJ8xx.K Qxxxx.QJx.AKTx.x Ax.KT9x.9.QT9xxx 0.54942 1S-P-2N-P-3C-X-P-P-4S-P-P-P (8.1)  1S-P-2N-P-3C-X-P-P-3S-P-4S-P-P-P (8.1) ',\n",
       " 'AKJx.Txx.8xxx.A9 Tx.A8xx.9x.QJxxx Qxxxx.QJx.AKTx.x 98.K9x.QJx.KT8xx 0.76514 1S-P-2N-P-3C-X-P-P-4S-P-P-P (9.0)  1S-P-2N-P-3C-X-P-P-3S-P-4S-P-P-P (9.0) ',\n",
       " 'AK8x.Axx.9xx.Qxx 9x.T98x.8xx.KJTx Qxxxx.QJx.AKTx.x JT.Kxx.QJx.A98xx 0.52519 1S-P-2N-P-3C-X-P-P-4S-P-P-P (10.3)  1S-P-2N-P-3C-X-P-P-3S-P-4S-P-P-P (10.3) ',\n",
       " 'AK8xx.Kx.98xx.Qx J9.T8xx.Jxx.AJ8x Qxxxx.QJx.AKTx.x T.A9xx.Qx.KT9xxx 0.66753 1S-P-2N-P-3C-X-P-P-4S-P-P-P (8.8)  1S-P-2N-P-3C-X-P-P-3S-P-4S-P-P-P (8.8) ',\n",
       " 'KJT8x.A9x.Jx.A8x A.xxx.Q98xx.T9xx Qxxxx.QJx.AKTx.x 9x.KT8x.xx.KQJxx 0.32220 1S-P-2N-P-3C-X-P-P-4S-P-P-P (10.0)  1S-P-2N-P-3C-X-P-P-3S-P-4S-P-P-P (10.0) ',\n",
       " 'AK9xx.ATxx.Qx.8x 8.9x.J98xx.A9xxx Qxxxx.QJx.AKTx.x JT.K8xx.xx.KQJTx 0.29598 1S-P-2N-P-3C-X-P-P-4S-P-P-P (11.1)  1S-P-2N-P-3C-X-P-P-3S-P-4S-P-P-P (11.1) ',\n",
       " 'KT98.A8x.9x.AQT8 Jx.T9xx.Q8xxx.xx Qxxxx.QJx.AKTx.x Ax.Kxx.Jx.KJ9xxx 0.74381 1S-P-2N-P-3C-X-P-P-4S-P-P-P (9.8)  1S-P-2N-P-3C-X-P-P-3S-P-4S-P-P-P (9.8) ',\n",
       " 'AKJT9.AT9x.8x.xx 8x.Kxxx.J9x.AQ9x Qxxxx.QJx.AKTx.x x.8x.Qxxx.KJT8xx 0.37769 1S-P-2N-P-3C-X-P-P-4S-P-P-P (11.1)  1S-P-2N-P-3C-X-P-P-3S-P-4S-P-P-P (11.1) ',\n",
       " 'AT9x.Ax.Q9xx.QJx KJ8x.K9xx.x.98xx Qxxxx.QJx.AKTx.x .T8xx.J8xx.AKTxx 0.80779 1S-P-2N-P-3C-X-P-P-4S-P-P-P (8.3)  1S-P-2N-P-3C-X-P-P-3S-P-4S-P-P-P (8.3) ',\n",
       " 'AKJT8.xx.9xx.A8x 9xx.AKxx.Qxx.Jxx Qxxxx.QJx.AKTx.x .T98x.J8x.KQT9xx 0.27674 1S-P-2N-P-3C-X-P-P-4S-P-P-P (9.1)  1S-P-2N-P-3C-X-P-P-3S-P-4S-P-P-P (9.1) ',\n",
       " 'AKT9.T8x.Q8.K9xx 8xx.9xxx.9xxx.Qx Qxxxx.QJx.AKTx.x J.AKx.Jxx.AJT8xx 0.54416 1S-P-2N-P-3C-X-P-P-4S-P-P-P (9.0)  1S-P-2N-P-3C-X-P-P-3S-P-4S-P-P-P (9.0) ',\n",
       " 'KJ9xx.Ax.J98x.KT A.9xxx.Qxxx.xxxx Qxxxx.QJx.AKTx.x T8.KT8x.x.AQJ98x 0.53835 1S-P-2N-P-3C-X-P-P-4S-P-P-P (8.4)  1S-P-2N-P-3C-X-P-P-3S-P-4S-P-P-P (8.4) ',\n",
       " 'AKJT9x.x.Q8.QT8x 8x.AT98x.9xx.A9x Qxxxx.QJx.AKTx.x .Kxxx.Jxxx.KJxxx 0.32910 1S-P-2N-P-3C-X-P-P-4S-P-P-P (8.4)  1S-P-2N-P-3C-X-P-P-3S-P-4S-P-P-P (8.4) ',\n",
       " 'KJT8.Axx.98x.AQx 9xx.9xx.Qxx.98xx Qxxxx.QJx.AKTx.x A.KT8x.Jxx.KJTxx 0.67108 1S-P-2N-P-3C-X-P-P-4S-P-P-P (10.4)  1S-P-2N-P-3C-X-P-P-3S-P-4S-P-P-P (10.4) ',\n",
       " 'AJT9.Axxx.xxx.A9 K8.T98.J8x.QJ8xx Qxxxx.QJx.AKTx.x xx.Kxx.Q9x.KTxxx 0.74984 1S-P-2N-P-3C-X-P-P-4S-P-P-P (10.6)  1S-P-2N-P-3C-X-P-P-3S-P-4S-P-P-P (10.6) ',\n",
       " 'KT8x.AKx.Q9x.Q8x Ax.9xxx.8xxx.T9x Qxxxx.QJx.AKTx.x J9.T8x.Jx.AKJxxx 0.71593 1S-P-2N-P-3C-X-P-P-4S-P-P-P (9.8)  1S-P-2N-P-3C-X-P-P-3S-P-4S-P-P-P (9.8) ',\n",
       " 'AJxx.Ax.98x.A8xx KT.98xx.Qxxx.JTx Qxxxx.QJx.AKTx.x 98.KTxx.Jx.KQ9xx 0.75874 1S-P-2N-P-3C-X-P-P-4S-P-P-P (9.4)  1S-P-2N-P-3C-X-P-P-3S-P-4S-P-P-P (9.4) ',\n",
       " 'AT8x.A9x.xx.ATxx KJx.xxxx.Jxx.QJx Qxxxx.QJx.AKTx.x 9.KT8.Q98x.K98xx 0.75545 1S-P-2N-P-3C-X-P-P-4S-P-P-P (9.4)  1S-P-2N-P-3C-X-P-P-3S-P-4S-P-P-P (9.4) ',\n",
       " 'AJT8x.AK.xxx.Txx 9x.98xx.Q98.Axxx Qxxxx.QJx.AKTx.x K.Txxx.Jxx.KQJ98 0.68959 1S-P-2N-P-3C-X-P-P-4S-P-P-P (9.8)  1S-P-2N-P-3C-X-P-P-3S-P-4S-P-P-P (9.8) ',\n",
       " 'AJ9x.xxx.Q8x.AQx T8.A98x.J9x.T9xx Qxxxx.QJx.AKTx.x Kx.KTx.xxx.KJ8xx 0.79881 1S-P-2N-P-3C-X-P-P-4S-P-P-P (9.5)  1S-P-2N-P-3C-X-P-P-3S-P-4S-P-P-P (9.5) ',\n",
       " 'AKJ9.T8x.Qx.KJxx Tx.Axxx.J8xx.Q9x Qxxxx.QJx.AKTx.x 8x.K9x.9xx.AT8xx 0.49953 1S-P-2N-P-3C-X-P-P-4S-P-P-P (9.3)  1S-P-2N-P-3C-X-P-P-3S-P-4S-P-P-P (9.3) ',\n",
       " 'AJT9.A9.Q8xx.Kxx xx.K8xx.Jxxx.Q8x Qxxxx.QJx.AKTx.x K8.Txxx.9.AJT9xx 0.44129 1S-P-2N-P-3C-X-P-P-4S-P-P-P (9.1)  1S-P-2N-P-3C-X-P-P-3S-P-4S-P-P-P (9.1) ',\n",
       " 'AKTx.T8.QJxx.KTx J8.Kxxxx.9x.Jxxx Qxxxx.QJx.AKTx.x 9x.A9x.8xx.AQ98x 0.82121 1S-P-2N-P-3C-X-P-P-4S-P-P-P (8.8)  1S-P-2N-P-3C-X-P-P-3S-P-4S-P-P-P (8.8) ',\n",
       " 'AKTxx.K8x.9x.K9x J9.A9xx.Qxxx.8xx Qxxxx.QJx.AKTx.x 8.Txx.J8x.AQJTxx 0.65356 1S-P-2N-P-3C-X-P-P-4S-P-P-P (10.3)  1S-P-2N-P-3C-X-P-P-3S-P-4S-P-P-P (10.3) ',\n",
       " 'AT8x.KTxx.Jxx.KJ K9x.98x.Qxx.8xxx Qxxxx.QJx.AKTx.x J.Axx.98x.AQT9xx 0.74722 1S-P-2N-P-3C-X-P-P-4S-P-P-P (9.8)  1S-P-2N-P-3C-X-P-P-3S-P-4S-P-P-P (9.8) ',\n",
       " 'K9xx.K8xx.Qx.KQx JT8.A9x.J8xx.8xx Qxxxx.QJx.AKTx.x A.Txx.9xx.AJT9xx 0.74768 1S-P-2N-P-3C-X-P-P-4S-P-P-P (9.6)  1S-P-2N-P-3C-X-P-P-3S-P-4S-P-P-P (9.6) ',\n",
       " 'AKJx.Kxxx.Qx.JTx T98.T8x.J98x.Kxx Qxxxx.QJx.AKTx.x x.A9x.xxx.AQ98xx 0.55044 1S-P-2N-P-3C-X-P-P-4S-P-P-P (10.2)  1S-P-2N-P-3C-X-P-P-3S-P-4S-P-P-P (10.2) ',\n",
       " 'AK9x.Tx.Qxxx.KJ9 JT8.K98x.Jx.QTxx Qxxxx.QJx.AKTx.x x.Axxx.98x.A8xxx 0.81223 1S-P-2N-P-3C-X-P-P-4S-P-P-P (8.2)  1S-P-2N-P-3C-X-P-P-3S-P-4S-P-P-P (8.2) ',\n",
       " 'A8xx.KTx.Jx.KJxx KT9.98x.98xxx.Q9 Qxxxx.QJx.AKTx.x J.Axxx.Qx.AT8xxx 0.81484 1S-P-2N-P-3C-X-P-P-4S-P-P-P (9.1)  1S-P-2N-P-3C-X-P-P-3S-P-4S-P-P-P (9.1) ',\n",
       " 'KJTx.Kxx.Qxx.Kxx 98.xxx.9xxx.ATxx Qxxxx.QJx.AKTx.x Ax.AT98.J8.QJ98x 0.70729 1S-P-2N-P-3C-X-P-P-4S-P-P-P (8.2)  1S-P-2N-P-3C-X-P-P-3S-P-4S-P-P-P (8.2) ',\n",
       " 'AJTx.A8x.8xx.AQx Kx.K9xx.9xx.T98x Qxxxx.QJx.AKTx.x 98.Txx.QJx.KJxxx 0.32479 1S-P-2N-P-3C-X-P-P-4S-P-P-P (10.9)  1S-P-2N-P-3C-X-P-P-3S-P-4S-P-P-P (10.9) ',\n",
       " 'KT9x.AK8x.J.Q9xx J8x.T9x.9xxx.Kxx Qxxxx.QJx.AKTx.x A.xxx.Q8xx.AJT8x 0.30100 1S-P-2N-P-3C-X-P-P-4S-P-P-P (10.7)  1S-P-2N-P-3C-X-P-P-3S-P-4S-P-P-P (10.7) ',\n",
       " 'AJT8.AK8.Qxx.JTx K9x.9x.J9xx.Q9xx Qxxxx.QJx.AKTx.x x.Txxxx.8x.AK8xx 0.39959 1S-P-2N-P-3C-X-P-P-4S-P-P-P (10.4)  1S-P-2N-P-3C-X-P-P-3S-P-4S-P-P-P (10.4) ',\n",
       " 'KJTx.AKT8.9x.Q9x A98.xxx.Jxx.KJTx Qxxxx.QJx.AKTx.x x.9xx.Q8xx.A8xxx 0.46086 1S-P-2N-P-3C-X-P-P-4S-P-P-P (10.6)  1S-P-2N-P-3C-X-P-P-3S-P-4S-P-P-P (10.6) ',\n",
       " 'AJT98x.Axx.QJ.QT x.Kxx.98xxx.AJ98 Qxxxx.QJx.AKTx.x K.T98x.xx.Kxxxxx 0.29703 1S-P-2N-P-3C-X-P-P-4S-P-P-P (10.1)  1S-P-2N-P-3C-X-P-P-3S-P-4S-P-P-P (10.1) ',\n",
       " 'KJTxx.x.Q8xx.AQ9 8.AK8xxx.Jxx.Txx Qxxxx.QJx.AKTx.x A9.T9x.9x.KJ8xxx 0.38848 1S-P-2N-P-3C-X-P-P-4S-P-P-P (9.0)  1S-P-2N-P-3C-X-P-P-3S-P-4S-P-P-P (9.0) ',\n",
       " 'AKJ98.9x.Jxx.KTx xx.ATxx.Qxx.QJ8x Qxxxx.QJx.AKTx.x T.K8xx.98x.A9xxx 0.65432 1S-P-2N-P-3C-X-P-P-4S-P-P-P (8.7)  1S-P-2N-P-3C-X-P-P-3S-P-4S-P-P-P (8.7) ',\n",
       " 'AJT8x.AKx.9xx.xx x.98xxx.Qxx.A8xx Qxxxx.QJx.AKTx.x K9.Tx.J8x.KQJT9x 0.69563 1S-P-2N-P-3C-X-P-P-4S-P-P-P (10.3)  1S-P-2N-P-3C-X-P-P-3S-P-4S-P-P-P (10.3) ',\n",
       " 'AKJ9x.K9.9xx.Jxx T8x.Axx.Q8x.K9xx Qxxxx.QJx.AKTx.x .T8xxx.Jxx.AQT8x 0.65722 1S-P-2N-P-3C-X-P-P-4S-P-P-P (8.7)  1S-P-2N-P-3C-X-P-P-3S-P-4S-P-P-P (8.7) ',\n",
       " 'AJT8x.A8x.xx.Axx K9.KTxxx.Q8x.8xx Qxxxx.QJx.AKTx.x x.9x.J9xx.KQJT9x 0.38049 1S-P-2N-P-3C-X-P-P-4S-P-P-P (10.5)  1S-P-2N-P-3C-X-P-P-3S-P-4S-P-P-P (10.5) ',\n",
       " 'AKJx.Txx.Qxx.Axx 98x.A9x.98xx.K9x Qxxxx.QJx.AKTx.x T.K8xx.Jx.QJT8xx 0.55125 1S-P-2N-P-3C-X-P-P-4S-P-P-P (9.3)  1S-P-2N-P-3C-X-P-P-3S-P-4S-P-P-P (9.3) ',\n",
       " 'AKJTx.K8xx.98.Jx 8x.ATx.Jxxx.KTxx Qxxxx.QJx.AKTx.x 9.9xx.Qxx.AQ98xx 0.45604 1S-P-2N-P-3C-X-P-P-4S-P-P-P (10.4)  1S-P-2N-P-3C-X-P-P-3S-P-4S-P-P-P (10.4) ',\n",
       " 'AKJ8x.xxx.xxx.Ax T9x.A8x.Q8x.Q98x Qxxxx.QJx.AKTx.x .KT9x.J9x.KJTxxx 0.62156 1S-P-2N-P-3C-X-P-P-4S-P-P-P (9.1)  1S-P-2N-P-3C-X-P-P-3S-P-4S-P-P-P (9.0) ',\n",
       " 'AK98.AT9.98x.KJx Jx.xxxx.QJxx.QTx Qxxxx.QJx.AKTx.x Tx.K8x.xx.A98xxx 0.33499 1S-P-2N-P-3C-X-P-P-4S-P-P-P (11.1)  1S-P-2N-P-3C-X-P-P-3S-P-4S-P-P-P (11.1) ',\n",
       " 'AKJT8.xx.QJx.QTx 9x.AK9.8xxx.J9xx Qxxxx.QJx.AKTx.x x.T8xxx.9x.AK8xx 0.71503 1S-P-2N-P-3C-X-P-P-4S-P-P-P (9.0)  1S-P-2N-P-3C-X-P-P-3S-P-4S-P-P-P (9.0) ',\n",
       " 'A98xx.AT8x.8x.AT KT.Kxx.J9xx.8xxx Qxxxx.QJx.AKTx.x J.9xx.Qxx.KQJ9xx 0.48965 1S-P-2N-P-3C-X-P-P-4S-P-P-P (11.4)  1S-P-2N-P-3C-X-P-P-3S-P-4S-P-P-P (11.4) ',\n",
       " 'AJTx.K9xx.8x.A8x 9x.T8xx.Q9xx.QTx Qxxxx.QJx.AKTx.x K8.Ax.Jxx.KJ9xxx 0.67748 1S-P-2N-P-3C-X-P-P-4S-P-P-P (10.6)  1S-P-2N-P-3C-X-P-P-3S-P-4S-P-P-P (10.6) ',\n",
       " 'AK9xx.Txx.Q8x.KQ J8.AK8xx.9x.T9xx Qxxxx.QJx.AKTx.x T.9x.Jxxx.AJ8xxx 0.37941 1S-P-2N-P-3C-X-P-P-4S-P-P-P (9.2)  1S-P-2N-P-3C-X-P-P-3S-P-4S-P-P-P (9.2) ',\n",
       " 'AKJx.K9x.J8xx.xx 98x.xxx.Q9x.AQ8x Qxxxx.QJx.AKTx.x T.AT8x.xx.KJT9xx 0.82358 1S-P-2N-P-3C-X-P-P-4S-P-P-P (9.7)  1S-P-2N-P-3C-X-P-P-3S-P-4S-P-P-P (9.7) ',\n",
       " 'AJ9x.8x.Q8x.AJ98 Tx.AK9xxx.Jxx.Tx Qxxxx.QJx.AKTx.x K8.Tx.9xx.KQxxxx 0.74046 1S-P-2N-P-3C-X-P-P-4S-P-P-P (9.0)  1S-P-2N-P-3C-X-P-P-3S-P-4S-P-P-P (9.0) ',\n",
       " 'AK8x.ATx.xxx.Qxx J9x.K8x.QJ9x.T9x Qxxxx.QJx.AKTx.x T.9xxx.8x.AKJ8xx 0.81558 1S-P-2N-P-3C-X-P-P-4S-P-P-P (9.8)  1S-P-2N-P-3C-X-P-P-3S-P-4S-P-P-P (9.8) ',\n",
       " 'AK98.T8xx.x.KQJx Jx.9x.QJ9xxxx.xx Qxxxx.QJx.AKTx.x Tx.AKxx.8.AT98xx 0.33697 1S-P-2N-P-3C-X-P-P-4S-P-P-P (9.3)  1S-P-2N-P-3C-X-P-P-3S-P-4S-P-P-P (9.3) ',\n",
       " 'KTxx.K9.Q98x.KJT A98.ATxxx.Jx.9xx Qxxxx.QJx.AKTx.x J.8xx.xxx.AQ8xxx 0.71735 1S-P-2N-P-3C-X-P-P-4S-P-P-P (8.3)  1S-P-2N-P-3C-X-P-P-3S-P-4S-P-P-P (8.3) ',\n",
       " 'AK8x.A9x.J9x.JTx J9x.Kxx.Q8x.K9xx Qxxxx.QJx.AKTx.x T.T8xx.xxx.AQ8xx 0.69049 1S-P-2N-P-3C-X-P-P-4S-P-P-P (9.7)  1S-P-2N-P-3C-X-P-P-3S-P-4S-P-P-P (9.7) ',\n",
       " 'AJT8.AT9x.xx.QJx Kx.Kxxx.Q98x.8xx Qxxxx.QJx.AKTx.x 9x.8x.Jxx.AKT9xx 0.70393 1S-P-2N-P-3C-X-P-P-4S-P-P-P (10.8)  1S-P-2N-P-3C-X-P-P-3S-P-4S-P-P-P (10.8) ',\n",
       " 'AK8x.xx.Jx.KJxxx Jx.AT98x.9xxx.8x Qxxxx.QJx.AKTx.x T9.Kxx.Q8x.AQT9x 0.71299 1S-P-2N-P-3C-X-P-P-4S-P-P-P (8.7)  1S-P-2N-P-3C-X-P-P-3S-P-4S-P-P-P (8.7) ',\n",
       " 'AJ98x.9x.QJx.Axx Tx.ATxx.98x.J9xx Qxxxx.QJx.AKTx.x K.K8xx.xxx.KQT8x 0.63282 1S-P-2N-P-3C-X-P-P-4S-P-P-P (9.0)  1S-P-2N-P-3C-X-P-P-3S-P-4S-P-P-P (9.0) ',\n",
       " 'AJ8x.Txx.9x.AKxx KT9x.9xx.Qxx.xxx Qxxxx.QJx.AKTx.x .AK8x.J8xx.QJT98 0.38130 1S-P-2N-P-3C-X-P-P-4S-P-P-P (9.1)  1S-P-2N-P-3C-X-P-P-3S-P-4S-P-P-P (9.1) ',\n",
       " 'AKJ98.K8xx.Jx.xx Tx.AT.98xx.AT9xx Qxxxx.QJx.AKTx.x x.9xxx.Qxx.KQJ8x 0.52489 1S-P-2N-P-3C-X-P-P-4S-P-P-P (10.7)  1S-P-2N-P-3C-X-P-P-3S-P-4S-P-P-P (10.7) ',\n",
       " 'AKJ8x.xx.xx.AJxx T9.8xxx.Q9xx.Qxx Qxxxx.QJx.AKTx.x x.AKT9.J8x.KT98x 0.56045 1S-P-2N-P-3C-X-P-P-4S-P-P-P (9.1)  1S-P-2N-P-3C-X-P-P-3S-P-4S-P-P-P (9.1) ',\n",
       " 'AKJxx.x.Q9xx.Qxx T8.AT8xx.8x.ATxx Qxxxx.QJx.AKTx.x 9.K9xx.Jxx.KJ98x 0.38342 1S-P-2N-P-3C-X-P-P-4S-P-P-P (8.0)  1S-P-2N-P-3C-X-P-P-3S-P-4S-P-P-P (8.0) ',\n",
       " 'AKT9x.98x.Qx.KQx 8.KTxxx.8xxx.T9x Qxxxx.QJx.AKTx.x Jx.Ax.J9x.AJ8xxx 0.38416 1S-P-2N-P-3C-X-P-P-4S-P-P-P (10.0)  1S-P-2N-P-3C-X-P-P-3S-P-4S-P-P-P (10.0) ',\n",
       " 'AKxx.ATx.Jxx.98x J8.8xx.Q98x.Jxxx Qxxxx.QJx.AKTx.x T9.K9xx.xx.AKQTx 0.78658 1S-P-2N-P-3C-X-P-P-4S-P-P-P (10.4)  1S-P-2N-P-3C-X-P-P-3S-P-4S-P-P-P (10.4) ',\n",
       " 'AKJT9x.xx.Qxx.Kx x.ATxxx.Jxx.J8xx Qxxxx.QJx.AKTx.x 8.K98.98x.AQT9xx 0.48805 1S-P-2N-P-3C-X-P-P-4S-P-P-P (8.7)  1S-P-2N-P-3C-X-P-P-3S-P-4S-P-P-P (8.7) ',\n",
       " 'K9xx.T8x.Q8.AQJx JT8.K9xx.xxx.Txx Qxxxx.QJx.AKTx.x A.Axx.J9xx.K98xx 0.70602 1S-P-2N-P-3C-X-P-P-4S-P-P-P (9.1)  1S-P-2N-P-3C-X-P-P-3S-P-4S-P-P-P (9.1) ',\n",
       " 'AK8x.A8x.Jxx.Jxx J9x.9xx.8xxx.KQ8 Qxxxx.QJx.AKTx.x T.KTxx.Q9.AT9xxx 0.81584 1S-P-2N-P-3C-X-P-P-4S-P-P-P (9.0)  1S-P-2N-P-3C-X-P-P-3S-P-4S-P-P-P (9.0) ',\n",
       " 'KT9xx.Axx.Qxx.KT J.KT9xx.J9x.98xx Qxxxx.QJx.AKTx.x A8.8x.8xx.AQJxxx 0.66410 1S-P-2N-P-3C-X-P-P-4S-P-P-P (9.1)  1S-P-2N-P-3C-X-P-P-3S-P-4S-P-P-P (9.1) ',\n",
       " 'AKJ98.Txx.9x.KJx x.K98xx.xxx.A98x Qxxxx.QJx.AKTx.x Tx.Ax.QJ8x.QTxxx 0.60927 1S-P-2N-P-3C-X-P-P-4S-P-P-P (9.3)  1S-P-2N-P-3C-X-P-P-3S-P-4S-P-P-P (9.3) ',\n",
       " 'KJT9.K9x.QJ9.K9x 8xx.xxx.8xx.QJxx Qxxxx.QJx.AKTx.x A.AT8x.xxx.AT8xx 0.83041 1S-P-2N-P-3C-X-P-P-4S-P-P-P (9.0)  1S-P-2N-P-3C-X-P-P-3S-P-4S-P-P-P (9.0) ',\n",
       " 'K98x.AT9.J98x.Ax AJTx.8xxx.x.8xxx Qxxxx.QJx.AKTx.x .Kxx.Qxxx.KQJT9x 0.76211 1S-P-2N-P-3C-X-P-P-4S-P-P-P (8.9)  1S-P-2N-P-3C-X-P-P-3S-P-4S-P-P-P (8.9) ',\n",
       " 'AKJ98.KT9.Q9x.Tx Tx.8xx.J8x.KQxxx Qxxxx.QJx.AKTx.x x.Axxx.xxx.AJ98x 0.72262 1S-P-2N-P-3C-X-P-P-4S-P-P-P (10.1)  1S-P-2N-P-3C-X-P-P-3S-P-4S-P-P-P (10.1) ',\n",
       " 'JT98.AKTx.9x.AJx Kx.xx.J8xxx.QTxx Qxxxx.QJx.AKTx.x Ax.98xx.Qx.K98xx 0.73098 1S-P-2N-P-3C-X-P-P-4S-P-P-P (10.8)  1S-P-2N-P-3C-X-P-P-3S-P-4S-P-P-P (10.8) ',\n",
       " 'AK8x.K98x.9x.Qxx JTx.Txx.QJxx.AJ8 Qxxxx.QJx.AKTx.x 9.Axx.8xx.KT9xxx 0.71373 1S-P-2N-P-3C-X-P-P-4S-P-P-P (9.8)  1S-P-2N-P-3C-X-P-P-3S-P-4S-P-P-P (9.8) ',\n",
       " 'AJ98x.KT8x.xx.Ax Kx.9xxx.J8x.QT9x Qxxxx.QJx.AKTx.x T.Ax.Q9xx.KJ8xxx 0.51925 1S-P-2N-P-3C-X-P-P-4S-P-P-P (10.5)  1S-P-2N-P-3C-X-P-P-3S-P-4S-P-P-P (10.5) ',\n",
       " 'AK8x.KT9.8xx.KJx JTx.xxx.J9xx.Q9x Qxxxx.QJx.AKTx.x 9.A8xx.Qx.AT8xxx 0.67640 1S-P-2N-P-3C-X-P-P-4S-P-P-P (9.7)  1S-P-2N-P-3C-X-P-P-3S-P-4S-P-P-P (9.7) ',\n",
       " 'AT8x.KTx.xx.AKTx J9.xxxx.Q98x.9xx Qxxxx.QJx.AKTx.x Kx.A98.Jxx.QJ8xx 0.36998 1S-P-2N-P-3C-X-P-P-4S-P-P-P (10.4)  1S-P-2N-P-3C-X-P-P-3S-P-4S-P-P-P (10.4) ',\n",
       " 'AJ8x.ATxx.Jx.Kxx K9.xxx.9xxx.Q98x Qxxxx.QJx.AKTx.x Tx.K98.Q8x.AJTxx 0.73475 1S-P-2N-P-3C-X-P-P-4S-P-P-P (9.5)  1S-P-2N-P-3C-X-P-P-3S-P-4S-P-P-P (9.5) ',\n",
       " 'AKJx.Txx.Qxx.AJ9 T98x.98x.xx.Qxxx Qxxxx.QJx.AKTx.x .AKxx.J98x.KT8xx 0.33123 1S-P-2N-P-3C-X-P-P-4S-P-P-P (8.9)  1S-P-2N-P-3C-X-P-P-3S-P-4S-P-P-P (8.9) ',\n",
       " 'AKJ98.8xx.Q9.K9x Txx.9xxx.xxx.ATx Qxxxx.QJx.AKTx.x .AKT.J8xx.QJ8xxx 0.66155 1S-P-2N-P-3C-X-P-P-4S-P-P-P (8.7)  1S-P-2N-P-3C-X-P-P-3S-P-4S-P-P-P (8.7) ',\n",
       " 'AKT98.K9.8xx.ATx Jx.8xxx.J9x.J98x Qxxxx.QJx.AKTx.x x.ATxx.Qxx.KQxxx 0.39448 1S-P-2N-P-3C-X-P-P-4S-P-P-P (10.0)  1S-P-2N-P-3C-X-P-P-3S-P-4S-P-P-P (10.0) ',\n",
       " 'AKTx.K9xx.8x.KJx J8x.Txx.Jxx.QT9x Qxxxx.QJx.AKTx.x 9.A8x.Q9xx.A8xxx 0.36736 1S-P-2N-P-3C-X-P-P-4S-P-P-P (10.7)  1S-P-2N-P-3C-X-P-P-3S-P-4S-P-P-P (10.7) ',\n",
       " 'AT9x.Kx.9xx.AJxx KJx.8xxxx.Qxx.8x Qxxxx.QJx.AKTx.x 8.AT9.J8x.KQT9xx 0.80331 1S-P-2N-P-3C-X-P-P-4S-P-P-P (9.0)  1S-P-2N-P-3C-X-P-P-3S-P-4S-P-P-P (9.0) ',\n",
       " 'AKT9x.Kxx.8x.Kxx J8x.T9x.QJ9x.Txx Qxxxx.QJx.AKTx.x .A8xx.xxx.AQJ98x 0.66527 1S-P-2N-P-3C-X-P-P-4S-P-P-P (9.3)  1S-P-2N-P-3C-X-P-P-3S-P-4S-P-P-P (9.3) ',\n",
       " 'AJ9xx.A9x.Qxx.Jx T.T8xxx.J9.AT8xx Qxxxx.QJx.AKTx.x K8.Kx.8xxx.KQ9xx 0.66740 1S-P-2N-P-3C-X-P-P-4S-P-P-P (9.1)  1S-P-2N-P-3C-X-P-P-3S-P-4S-P-P-P (9.1) ',\n",
       " 'AJTx.9.Qxxx.AJxx K9.T8xxx.J98x.T8 Qxxxx.QJx.AKTx.x 8x.AKxx.x.KQ9xxx 0.60655 1S-P-2N-P-3C-X-P-P-4S-P-P-P (8.3)  1S-P-2N-P-3C-X-P-P-3S-P-4S-P-P-P (8.3) ',\n",
       " 'AK8x.AT9.J8x.xxx JT9x.xx.Q9x.AQ98 Qxxxx.QJx.AKTx.x .K8xxx.xxx.KJTxx 0.63193 1S-P-2N-P-3C-X-P-P-4S-P-P-P (9.2)  1S-P-2N-P-3C-X-P-P-3S-P-4S-P-P-P (9.2) ',\n",
       " 'AJ98.K9x.98x.Axx Kxx.AT8x.Qx.T98x Qxxxx.QJx.AKTx.x T.xxx.Jxxx.KQJxx 0.67769 1S-P-2N-P-3C-X-P-P-4S-P-P-P (9.9)  1S-P-2N-P-3C-X-P-P-3S-P-4S-P-P-P (9.9) ',\n",
       " 'A98xx.A98.9x.ATx J.xxxx.QJxx.K8xx Qxxxx.QJx.AKTx.x KT.KTx.8xx.QJ9xx 0.38015 1S-P-2N-P-3C-X-P-P-4S-P-P-P (9.7)  1S-P-2N-P-3C-X-P-P-3S-P-4S-P-P-P (9.7) ',\n",
       " 'AKT9.xx.J8x.AQxx J8x.A9xx.9xx.T9x Qxxxx.QJx.AKTx.x x.KT8x.Qxx.KJ8xx 0.35617 1S-P-2N-P-3C-X-P-P-4S-P-P-P (9.2)  1S-P-2N-P-3C-X-P-P-3S-P-4S-P-P-P (9.2) ',\n",
       " 'JTxx.Kxx.QJ8.KQx K8.8xx.9xxx.9xxx Qxxxx.QJx.AKTx.x A9.AT9x.xx.AJT8x 0.75902 1S-P-2N-P-3C-X-P-P-4S-P-P-P (8.3)  1S-P-2N-P-3C-X-P-P-3S-P-4S-P-P-P (8.3) ',\n",
       " 'AJT9x.Ax.xx.Kxxx Kx.T9xx.J98x.JTx Qxxxx.QJx.AKTx.x 8.K8xx.Qxx.AQ98x 0.61362 1S-P-2N-P-3C-X-P-P-4S-P-P-P (9.1)  1S-P-2N-P-3C-X-P-P-3S-P-4S-P-P-P (9.1) ',\n",
       " 'AJ98.T8x.QJ8x.Ax Tx.AK9xx.xx.T8xx Qxxxx.QJx.AKTx.x Kx.xx.9xx.KQJ9xx 0.74510 1S-P-2N-P-3C-X-P-P-4S-P-P-P (9.4)  1S-P-2N-P-3C-X-P-P-3S-P-4S-P-P-P (9.4) ',\n",
       " 'A98x.K8x.xxx.AKx KJTx.T9x.Q8x.98x Qxxxx.QJx.AKTx.x .Axxx.J9x.QJTxxx 0.62453 1S-P-2N-P-3C-X-P-P-4S-P-P-P (9.8)  1S-P-2N-P-3C-X-P-P-3S-P-4S-P-P-P (9.8) ',\n",
       " 'K98x.K8x.QJx.KJx AJT.9xx.xxx.QTxx Qxxxx.QJx.AKTx.x x.ATxx.98x.A98xx 0.81412 1S-P-2N-P-3C-X-P-P-4S-P-P-P (8.3)  1S-P-2N-P-3C-X-P-P-3S-P-4S-P-P-P (8.3) ',\n",
       " 'AT8x.A8x.98xx.Ax J9x.T9x.QJx.Txxx Qxxxx.QJx.AKTx.x K.Kxxx.xx.KQJ98x 0.77395 1S-P-2N-P-3C-X-P-P-4S-P-P-P (10.2)  1S-P-2N-P-3C-X-P-P-3S-P-4S-P-P-P (10.2) ',\n",
       " 'AKJ9.xxx.Jxx.ATx Tx.AKT8.Q8xx.xxx Qxxxx.QJx.AKTx.x 8x.9xx.9x.KQJ98x 0.53123 1S-P-2N-P-3C-X-P-P-4S-P-P-P (10.2)  1S-P-2N-P-3C-X-P-P-3S-P-4S-P-P-P (10.2) ',\n",
       " 'AK8x.K8xx.xxx.Q9 Tx.AT9xx.9.ATxxx Qxxxx.QJx.AKTx.x J9.x.QJ8xx.KJ8xx 0.30339 1S-P-2N-P-3C-X-P-P-4S-P-P-P (9.2)  1S-P-2N-P-3C-X-P-P-3S-P-4S-P-P-P (9.2) ',\n",
       " 'KJT9.KTx.Qxx.AQx 8x.98xx.98xx.xxx Qxxxx.QJx.AKTx.x Ax.Axx.Jx.KJT98x 0.38406 1S-P-2N-P-3C-X-P-P-4S-P-P-P (10.6)  1S-P-2N-P-3C-X-P-P-3S-P-4S-P-P-P (10.6) ',\n",
       " 'KJTxx.K9.J98.A9x 9.Txxx.Qxxx.JTxx Qxxxx.QJx.AKTx.x A8.A8xx.xx.KQ8xx 0.59258 1S-P-2N-P-3C-X-P-P-4S-P-P-P (9.0)  1S-P-2N-P-3C-X-P-P-3S-P-4S-P-P-P (9.0) ',\n",
       " 'K98x.K9.J8x.KQ9x Tx.A8xx.Q9xx.8xx Qxxxx.QJx.AKTx.x AJ.Txxx.xx.AJTxx 0.73197 1S-P-2N-P-3C-X-P-P-4S-P-P-P (8.9)  1S-P-2N-P-3C-X-P-P-3S-P-4S-P-P-P (8.9) ',\n",
       " 'AT98x.9xx.Qx.AQx Jx.A8x.9xxx.JTxx Qxxxx.QJx.AKTx.x K.KTxx.J8x.K98xx 0.60737 1S-P-2N-P-3C-X-P-P-4S-P-P-P (9.8)  1S-P-2N-P-3C-X-P-P-3S-P-4S-P-P-P (9.8) ',\n",
       " 'K9xx.AKT9.Qxx.T8 JT8.8xxx.8x.KQ9x Qxxxx.QJx.AKTx.x A.xx.J9xx.AJxxxx 0.72810 1S-P-2N-P-3C-X-P-P-4S-P-P-P (10.2)  1S-P-2N-P-3C-X-P-P-3S-P-4S-P-P-P (10.2) ',\n",
       " 'KJT9.A9.xxx.A8xx 8xx.KT8x.QJ8.JT9 Qxxxx.QJx.AKTx.x A.xxxx.9xx.KQxxx 0.80044 1S-P-2N-P-3C-X-P-P-4S-P-P-P (9.1)  1S-P-2N-P-3C-X-P-P-3S-P-4S-P-P-P (9.1) ',\n",
       " 'AKT9x.xx.Qxx.AJ8 J8.A9xx.Jxx.T9xx Qxxxx.QJx.AKTx.x x.KT8x.98x.KQxxx 0.35465 1S-P-2N-P-3C-X-P-P-4S-P-P-P (9.0)  1S-P-2N-P-3C-X-P-P-3S-P-4S-P-P-P (9.0) ',\n",
       " 'KJ98x.Axx.Q9x.QT x.K8xx.J8xx.KJ9x Qxxxx.QJx.AKTx.x AT.T9x.xx.A8xxxx 0.62486 1S-P-2N-P-3C-X-P-P-4S-P-P-P (8.8)  1S-P-2N-P-3C-X-P-P-3S-P-4S-P-P-P (8.8) ',\n",
       " 'K8xx.K9.J8.AJxxx AJT.8xxx.Q9xx.8x Qxxxx.QJx.AKTx.x 9.ATxx.xxx.KQT9x 0.72572 1S-P-2N-P-3C-X-P-P-4S-P-P-P (8.8)  1S-P-2N-P-3C-X-P-P-3S-P-4S-P-P-P (8.8) ',\n",
       " 'AK9x.Kxx.xx.QJ98 T8.A98xx.xxx.xxx Qxxxx.QJx.AKTx.x Jx.Tx.QJ98.AKTxx 0.80386 1S-P-2N-P-3C-X-P-P-4S-P-P-P (9.6)  1S-P-2N-P-3C-X-P-P-3S-P-4S-P-P-P (9.6) ',\n",
       " 'AKJT9.Txx.QJ9.K8 8x.K8xx.8xx.Q9xx Qxxxx.QJx.AKTx.x x.A9x.xxx.AJTxxx 0.37387 1S-P-2N-P-3C-X-P-P-4S-P-P-P (9.4)  1S-P-2N-P-3C-X-P-P-3S-P-4S-P-P-P (9.4) ',\n",
       " 'AK9x.KTx.J9.QJxx T8x.A9xx.8xx.8xx Qxxxx.QJx.AKTx.x J.8xx.Qxxx.AKT9x 0.52629 1S-P-2N-P-3C-X-P-P-4S-P-P-P (9.9)  1S-P-2N-P-3C-X-P-P-3S-P-4S-P-P-P (9.9) ',\n",
       " 'JT8x.Ax.xxx.AKxx Ax.Txxx.QJ8x.Jxx Qxxxx.QJx.AKTx.x K9.K98x.9x.QT98x 0.40816 1S-P-2N-P-3C-X-P-P-4S-P-P-P (9.0)  1S-P-2N-P-3C-X-P-P-3S-P-4S-P-P-P (8.9) ',\n",
       " 'AJ9x.K9x.J8xx.A9 K8.ATx.Q9xx.JT8x Qxxxx.QJx.AKTx.x Tx.8xxx.x.KQxxxx 0.32620 1S-P-2N-P-3C-X-P-P-4S-P-P-P (10.1)  1S-P-2N-P-3C-X-P-P-3S-P-4S-P-P-P (10.1) ',\n",
       " 'KJT8.AK8.9xx.KJx 9xx.9xx.J8xx.Q8x Qxxxx.QJx.AKTx.x A.Txxx.Qx.AT9xxx 0.35098 1S-P-2N-P-3C-X-P-P-4S-P-P-P (10.2)  1S-P-2N-P-3C-X-P-P-3S-P-4S-P-P-P (10.2) ',\n",
       " 'AKJx.8xx.Jxx.Kxx T9x.AT9x.Qx.QJxx Qxxxx.QJx.AKTx.x 8.Kxx.98xx.AT98x 0.76514 1S-P-2N-P-3C-X-P-P-4S-P-P-P (8.4)  1S-P-2N-P-3C-X-P-P-3S-P-4S-P-P-P (8.4) ',\n",
       " 'AKJx.9xx.8x.A8xx Tx.ATxx.QJxx.Txx Qxxxx.QJx.AKTx.x 98.K8x.9xx.KQJ9x 0.73822 1S-P-2N-P-3C-X-P-P-4S-P-P-P (9.8)  1S-P-2N-P-3C-X-P-P-3S-P-4S-P-P-P (9.8) ',\n",
       " 'KT98.A9.QJxx.Kxx AJx.8xxx.9x.T9xx Qxxxx.QJx.AKTx.x x.KTxx.8xx.AQJ8x 0.82941 1S-P-2N-P-3C-X-P-P-4S-P-P-P (8.7)  1S-P-2N-P-3C-X-P-P-3S-P-4S-P-P-P (8.7) ',\n",
       " 'AJT98.A9xx.8x.AT x.T8.QJ9xx.9xxxx Qxxxx.QJx.AKTx.x Kx.Kxxx.xx.KQJ8x 0.31224 1S-P-2N-P-3C-X-P-P-4S-P-P-P (11.2)  1S-P-2N-P-3C-X-P-P-3S-P-4S-P-P-P (11.2) ',\n",
       " 'A98x.Axx.Jxxx.Ax KJTx.KTx.x.T9xxx Qxxxx.QJx.AKTx.x .98xx.Q98x.KQJ8x 0.77254 1S-P-2N-P-3C-X-P-P-4S-P-P-P (9.1)  1S-P-2N-P-3C-X-P-P-3S-P-4S-P-P-P (9.1) ',\n",
       " 'AJTx.8x.QJx.ATxx K9.AT9xxx.9x.Qxx Qxxxx.QJx.AKTx.x 8x.Kx.8xxx.KJ98x 0.70257 1S-P-2N-P-3C-X-P-P-4S-P-P-P (8.9)  1S-P-2N-P-3C-X-P-P-3S-P-4S-P-P-P (8.9) ',\n",
       " 'K98xx.AKx.xx.QJx AT.98x.J98x.KTxx Qxxxx.QJx.AKTx.x J.Txxx.Qxx.A98xx 0.36636 1S-P-2N-P-3C-X-P-P-4S-P-P-P (10.1)  1S-P-2N-P-3C-X-P-P-3S-P-4S-P-P-P (10.1) ',\n",
       " 'AK98.ATxx.Qxxx.x Tx.K8.J98.QJT8xx Qxxxx.QJx.AKTx.x Jx.9xxx.xx.AK9xx 0.50250 1S-P-2N-P-3C-X-P-P-4S-P-P-P (11.3)  1S-P-2N-P-3C-X-P-P-3S-P-4S-P-P-P (11.3) ',\n",
       " 'AKT8xx.A9x.Jx.xx J.Txx.Q9xx.KTxxx Qxxxx.QJx.AKTx.x 9.K8xx.8xx.AQJ98 0.41979 1S-P-2N-P-3C-X-P-P-4S-P-P-P (9.9)  1S-P-2N-P-3C-X-P-P-3S-P-4S-P-P-P (9.9) ',\n",
       " 'AJ9x.A9x.Qx.KTxx K8.K8xx.98xx.J9x Qxxxx.QJx.AKTx.x Tx.Txx.Jxx.AQ8xx 0.48676 1S-P-2N-P-3C-X-P-P-4S-P-P-P (10.7)  1S-P-2N-P-3C-X-P-P-3S-P-4S-P-P-P (10.7) ',\n",
       " 'AT9x.AK.98xx.QTx Kx.8xxxx.Jxx.9xx Qxxxx.QJx.AKTx.x J8.T9x.Qx.AKJ8xx 0.81950 1S-P-2N-P-3C-X-P-P-4S-P-P-P (9.3)  1S-P-2N-P-3C-X-P-P-3S-P-4S-P-P-P (9.3) ',\n",
       " 'AJ9x.Ax.Jxx.K8xx K8.KT8xxx.Q8x.9x Qxxxx.QJx.AKTx.x Tx.9x.9xx.AQJTxx 0.80133 1S-P-2N-P-3C-X-P-P-4S-P-P-P (9.0)  1S-P-2N-P-3C-X-P-P-3S-P-4S-P-P-P (9.0) ']"
      ]
     },
     "execution_count": 7,
     "metadata": {},
     "output_type": "execute_result"
    }
   ],
   "source": [
    "bid.samples"
   ]
  },
  {
   "cell_type": "code",
   "execution_count": 8,
   "metadata": {},
   "outputs": [
    {
     "data": {
      "text/plain": [
       "[{'call': 'X',\n",
       "  'insta_score': 0.5445,\n",
       "  'expected_score': 1659,\n",
       "  'adjustment': 27},\n",
       " {'call': 'PASS',\n",
       "  'insta_score': 0.2446,\n",
       "  'expected_score': 1659,\n",
       "  'adjustment': 12},\n",
       " {'call': '5S',\n",
       "  'insta_score': 0.1905,\n",
       "  'expected_score': 146,\n",
       "  'adjustment': 10}]"
      ]
     },
     "execution_count": 8,
     "metadata": {},
     "output_type": "execute_result"
    }
   ],
   "source": [
    "auction = [\"PAD_START\", \"PAD_START\", \"1S\", \"PASS\", \"2N\", \"PASS\",\"3C\",\"X\",\"PASS\",\"PASS\",\"4S\",\"PASS\",\"PASS\",\"5C\"]\n",
    "bid = bot_bid.bid(auction)\n",
    "\n",
    "bid.to_dict()['candidates']"
   ]
  },
  {
   "cell_type": "code",
   "execution_count": 9,
   "metadata": {},
   "outputs": [
    {
     "data": {
      "text/plain": [
       "['KJ98x.K8xx.Q8x.K A.A9.9xxx.QJTxxx Qxxxx.QJx.AKTx.x Tx.Txxx.Jx.A98xx 0.14127 1S-P-2N-P-3C-X-P-P-4S-P-P-5C-X-P-P-P (5.0)  1S-P-2N-P-3C-X-P-P-4S-P-P-5C-P-P-X-P-P-P (5.0)  1S-P-2N-P-3C-X-P-P-4S-P-P-5C-5S-P-P-P (9.4) ',\n",
       " 'AJ8x.A8xx.QJxxx. 9.Kxx.8x.KQTxxxx Qxxxx.QJx.AKTx.x KTx.T9x.9x.AJ98x 0.10883 1S-P-2N-P-3C-X-P-P-4S-P-P-5C-X-P-P-P (4.5)  1S-P-2N-P-3C-X-P-P-4S-P-P-5C-P-P-X-P-P-P (4.5)  1S-P-2N-P-3C-X-P-P-4S-P-P-5C-5S-P-P-P (10.5) ',\n",
       " 'AJT8x.K8xx.Jxx.K .ATx.Q8xx.Q98xxx Qxxxx.QJx.AKTx.x K9x.9xx.9x.AJTxx 0.09455 1S-P-2N-P-3C-X-P-P-4S-P-P-5C-X-P-P-P (4.6)  1S-P-2N-P-3C-X-P-P-4S-P-P-5C-P-P-X-P-P-P (4.6)  1S-P-2N-P-3C-X-P-P-4S-P-P-5C-5S-P-P-P (9.6) ',\n",
       " 'J98x.AK8x.J9xx.A x.xx.Q8xx.KJ9xxx Qxxxx.QJx.AKTx.x AKT.T9xx.x.QT8xx 0.05956 1S-P-2N-P-3C-X-P-P-4S-P-P-5C-X-P-P-P (4.6)  1S-P-2N-P-3C-X-P-P-4S-P-P-5C-P-P-X-P-P-P (4.6)  1S-P-2N-P-3C-X-P-P-4S-P-P-5C-5S-X-P-P-P (10.3) ',\n",
       " 'AT9x.K9x.J98xx.A J8.A8xx.x.QJ8xxx Qxxxx.QJx.AKTx.x Kx.Txx.Qxx.KT9xx 0.05310 1S-P-2N-P-3C-X-P-P-4S-P-P-5C-X-P-P-P (5.1)  1S-P-2N-P-3C-X-P-P-4S-P-P-5C-P-P-X-P-P-P (5.1)  1S-P-2N-P-3C-X-P-P-4S-P-P-5C-5S-P-P-P (9.3) ',\n",
       " 'AKJ9x.KT9x.Qxx.9 T8.8xx.9x.AQ8xxx Qxxxx.QJx.AKTx.x x.Axx.J8xx.KJTxx 0.05092 1S-P-2N-P-3C-X-P-P-4S-P-P-5C-X-P-P-P (6.5)  1S-P-2N-P-3C-X-P-P-4S-P-P-5C-P-P-X-P-P-P (6.5)  1S-P-2N-P-3C-X-P-P-4S-P-P-5C-5S-P-P-P (10.7) ',\n",
       " 'AKJ98.A9xx.8xx.x x.K8x.Jxx.AQT9xx Qxxxx.QJx.AKTx.x Tx.Txx.Q9x.KJ8xx 0.04936 1S-P-2N-P-3C-X-P-P-4S-P-P-5C-X-P-P-P (6.5)  1S-P-2N-P-3C-X-P-P-4S-P-P-5C-P-P-X-P-P-P (6.5)  1S-P-2N-P-3C-X-P-P-4S-P-P-5C-5S-P-6S-P-P-P (10.7) ',\n",
       " 'AK98x.K98.QJ8xx. Jx.Axx.9x.QT98xx Qxxxx.QJx.AKTx.x T.Txxx.xx.AKJxxx 0.04663 1S-P-2N-P-3C-X-P-P-4S-P-P-5C-X-P-P-P (4.7)  1S-P-2N-P-3C-X-P-P-4S-P-P-5C-P-P-X-P-P-P (4.7)  1S-P-2N-P-3C-X-P-P-4S-P-P-5C-5S-P-P-P (9.6) ',\n",
       " 'AT9x.AKxx.QJ8x.T K.9xxx.xx.KJ9xxx Qxxxx.QJx.AKTx.x J8x.T8.9xx.AQ8xx 0.04597 1S-P-2N-P-3C-X-P-P-4S-P-P-5C-X-P-P-P (3.7)  1S-P-2N-P-3C-X-P-P-4S-P-P-5C-P-P-X-P-P-P (3.7)  1S-P-2N-P-3C-X-P-P-4S-P-P-5C-5S-P-P-P (11.1) ',\n",
       " 'JT9xx.AKx.Q8xx.Q K8.xx.9xx.AJ9xxx Qxxxx.QJx.AKTx.x A.T98xx.Jx.KT8xx 0.04396 1S-P-2N-P-3C-X-P-P-4S-P-P-5C-X-P-P-P (5.2)  1S-P-2N-P-3C-X-P-P-4S-P-P-5C-P-P-X-P-P-P (5.2)  1S-P-2N-P-3C-X-P-P-4S-P-P-5C-5S-P-P-P (8.7) ']"
      ]
     },
     "execution_count": 9,
     "metadata": {},
     "output_type": "execute_result"
    }
   ],
   "source": [
    "bid.samples"
   ]
  },
  {
   "cell_type": "code",
   "execution_count": 10,
   "metadata": {},
   "outputs": [
    {
     "data": {
      "text/plain": [
       "[{'call': 'PASS',\n",
       "  'insta_score': 0.9835,\n",
       "  'expected_score': 190,\n",
       "  'adjustment': 49},\n",
       " {'call': '6S', 'insta_score': 0.0149, 'expected_score': 208, 'adjustment': 1}]"
      ]
     },
     "execution_count": 10,
     "metadata": {},
     "output_type": "execute_result"
    }
   ],
   "source": [
    "auction = [\"PAD_START\", \"PAD_START\", \"1S\", \"PASS\", \"2N\", \"PASS\",\"3C\",\"X\",\"PASS\",\"PASS\",\"4S\",\"PASS\",\"PASS\",\"5C\",\"X\",\"PASS\",\"5S\",\"PASS\"]\n",
    "bid = bot_bid.bid(auction)\n",
    "\n",
    "bid.to_dict()['candidates']"
   ]
  },
  {
   "cell_type": "code",
   "execution_count": 11,
   "metadata": {},
   "outputs": [
    {
     "data": {
      "text/plain": [
       "['AJT98x.KT9x.Qx.Q .A8xx.Jxx.KJTxxx Qxxxx.QJx.AKTx.x Kx.xx.98xx.A98xx 0.07573 1S-P-2N-P-3C-X-P-P-4S-P-P-5C-X-P-5S-P-P-P (10.3)  1S-P-2N-P-3C-X-P-P-4S-P-P-5C-X-P-5S-P-6S-P-P-P (10.3) ',\n",
       " 'AJT98.ATxx.QJxx. .K98xx.8.AJ9xxxx Qxxxx.QJx.AKTx.x Kxx.x.9xxx.KQT8x 0.06872 1S-P-2N-P-3C-X-P-P-4S-P-P-5C-X-P-5S-P-P-P (9.7)  1S-P-2N-P-3C-X-P-P-4S-P-P-5C-X-P-5S-P-6S-P-P-P (9.7) ',\n",
       " 'KJ8xx.AKTx.Qxxx. AT.9x.Jx.JT9xxxx Qxxxx.QJx.AKTx.x 9.8xxx.98x.AKQ8x 0.05666 1S-P-2N-P-3C-X-P-P-4S-P-P-5C-X-P-5S-P-P-P (10.5)  1S-P-2N-P-3C-X-P-P-4S-P-P-5C-X-P-5S-P-6S-P-P-P (10.5) ',\n",
       " 'AKJ98.9xxx.J98.A Tx.ATx.xx.KT8xxx Qxxxx.QJx.AKTx.x x.K8x.Qxxx.QJ9xx 0.05551 1S-P-2N-P-3C-X-P-P-4S-P-P-5C-X-P-5S-P-P-P (10.0)  1S-P-2N-P-3C-X-P-P-4S-P-P-5C-X-P-5S-P-6S-P-P-P (10.0) ',\n",
       " 'KJ9xx.AK8x.J8x.x AT8.xxx.x.KQT9xx Qxxxx.QJx.AKTx.x .T9x.Q9xxx.AJ8xx 0.05202 1S-P-2N-P-3C-X-P-P-4S-P-P-5C-X-P-5S-P-P-P (9.5)  1S-P-2N-P-3C-X-P-P-4S-P-P-5C-X-P-5S-P-6S-P-P-P (9.5) ',\n",
       " 'AK98x.Axxx.Q8x.x J.98x.9xx.AT98xx Qxxxx.QJx.AKTx.x Tx.KTx.Jxx.KQJxx 0.05178 1S-P-2N-P-3C-X-P-P-4S-P-P-5C-X-P-5S-P-P-P (11.2)  1S-P-2N-P-3C-X-P-P-4S-P-P-5C-X-P-5S-P-6S-P-7S-P-P-P (11.2) ',\n",
       " 'AKJ8x.A8x.98xx.J T.Txx.QJx.KQT9xx Qxxxx.QJx.AKTx.x 9x.K9xx.xx.A8xxx 0.04967 1S-P-2N-P-3C-X-P-P-4S-P-P-5C-X-P-5S-P-P-P (10.2)  1S-P-2N-P-3C-X-P-P-4S-P-P-5C-X-P-5S-P-6S-P-P-P (10.2) ',\n",
       " 'AKJT98.Axx.J8x.9 .T8xx.Q9x.AT8xxx Qxxxx.QJx.AKTx.x xx.K9x.xxx.KQJxx 0.04378 1S-P-2N-P-3C-X-P-P-4S-P-P-5C-X-P-5S-P-P-P (10.0)  1S-P-2N-P-3C-X-P-P-4S-P-P-5C-X-P-5S-P-6S-P-P-P (10.0) ',\n",
       " 'AKT9x.AT9x.J8x.x 8x.Kxx.xx.QJ9xxx Qxxxx.QJx.AKTx.x J.8xx.Q9xx.AKT8x 0.04113 1S-P-2N-P-3C-X-P-P-4S-P-P-5C-X-P-5S-P-P-P (10.7)  1S-P-2N-P-3C-X-P-P-4S-P-P-5C-X-P-5S-P-6S-P-P-P (10.7) ',\n",
       " 'AT98xx.AKx.Q8x.x J.8xx.J9x.AT8xxx Qxxxx.QJx.AKTx.x K.T9xx.xxx.KQJ9x 0.03970 1S-P-2N-P-3C-X-P-P-4S-P-P-5C-X-P-5S-P-P-P (11.1)  1S-P-2N-P-3C-X-P-P-4S-P-P-5C-X-P-5S-P-6S-P-P-P (11.1) ']"
      ]
     },
     "execution_count": 11,
     "metadata": {},
     "output_type": "execute_result"
    }
   ],
   "source": [
    "bid.samples"
   ]
  },
  {
   "cell_type": "code",
   "execution_count": null,
   "metadata": {},
   "outputs": [],
   "source": []
  }
 ],
 "metadata": {
  "kernelspec": {
   "display_name": "Python 3 (ipykernel)",
   "language": "python",
   "name": "python3"
  },
  "language_info": {
   "codemirror_mode": {
    "name": "ipython",
    "version": 3
   },
   "file_extension": ".py",
   "mimetype": "text/x-python",
   "name": "python",
   "nbconvert_exporter": "python",
   "pygments_lexer": "ipython3",
   "version": "3.11.0"
  }
 },
 "nbformat": 4,
 "nbformat_minor": 5
}
