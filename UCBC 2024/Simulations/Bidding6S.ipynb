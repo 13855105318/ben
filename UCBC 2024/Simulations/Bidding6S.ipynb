{
 "cells": [
  {
   "cell_type": "markdown",
   "id": "75d07246",
   "metadata": {},
   "source": [
    "# Bidding\n",
    "\n",
    "This is a tutorial for how to use the bidding engine"
   ]
  },
  {
   "cell_type": "code",
   "execution_count": 1,
   "id": "59a5664c",
   "metadata": {},
   "outputs": [
    {
     "name": "stdout",
     "output_type": "stream",
     "text": [
      "WARNING:tensorflow:From c:\\Python311\\Lib\\site-packages\\tensorflow\\python\\compat\\v2_compat.py:107: disable_resource_variables (from tensorflow.python.ops.variable_scope) is deprecated and will be removed in a future version.\n",
      "Instructions for updating:\n",
      "non-resource variables are not supported in the long term\n",
      "INFO:tensorflow:Restoring parameters from ..\\Models/NS1EW99-bidding_same-5556000\n",
      "INFO:tensorflow:Restoring parameters from ..\\Models/NS1EW99-binfo_same-5556000\n",
      "INFO:tensorflow:Restoring parameters from ..\\Models/lead_suit-999000\n",
      "INFO:tensorflow:Restoring parameters from ..\\Models/lead_nt-475000\n",
      "INFO:tensorflow:Restoring parameters from ..\\Models/Jack/lr3-1000000\n",
      "INFO:tensorflow:Restoring parameters from ..\\Models/single_dummy-32768000\n",
      "INFO:tensorflow:Restoring parameters from ..\\Models/lefty_nt-475000\n",
      "INFO:tensorflow:Restoring parameters from ..\\Models/dummy_nt-475000\n",
      "INFO:tensorflow:Restoring parameters from ..\\Models/righty_nt-475000\n",
      "INFO:tensorflow:Restoring parameters from ..\\Models/decl_nt-950000\n",
      "INFO:tensorflow:Restoring parameters from ..\\Models/lefty_suit-999000\n",
      "INFO:tensorflow:Restoring parameters from ..\\Models/dummy_suit-999000\n",
      "INFO:tensorflow:Restoring parameters from ..\\Models/righty_suit-999000\n",
      "INFO:tensorflow:Restoring parameters from ..\\Models/decl_suit-1278000\n"
     ]
    }
   ],
   "source": [
    "import sys\n",
    "sys.path.append('../../src')\n",
    "\n",
    "import os\n",
    "import logging\n",
    "\n",
    "# Set logging level to suppress warnings\n",
    "logging.getLogger().setLevel(logging.ERROR)\n",
    "# Just disables the warnings\n",
    "os.environ['TF_CPP_MIN_LOG_LEVEL'] = '2'\n",
    "\n",
    "from nn.models import Models\n",
    "from bots import BotBid\n",
    "from util import hand_to_str\n",
    "from sample import Sample\n",
    "import conf\n",
    "import numpy as np\n",
    "\n",
    "np.set_printoptions(precision=2, suppress=True, linewidth=200)\n",
    "np.random.seed(42)\n",
    "\n",
    "models = Models.from_conf(conf.load('../Conf/UCBC2024.conf'),'..')   # loading neural networks\n",
    "sampler = Sample.from_conf(conf.load('../Conf/UCBC2024.conf'), False)  # Load sampling strategies\n"
   ]
  },
  {
   "cell_type": "markdown",
   "id": "10d8f2fc",
   "metadata": {},
   "source": [
    "### Running through an example"
   ]
  },
  {
   "cell_type": "code",
   "execution_count": 2,
   "id": "19dbfeb7",
   "metadata": {},
   "outputs": [
    {
     "data": {
      "text/plain": [
       "[{'call': '1S', 'insta_score': 1.0}]"
      ]
     },
     "execution_count": 2,
     "metadata": {},
     "output_type": "execute_result"
    }
   ],
   "source": [
    "# East deals, EW vulnerable.\n",
    "vuln_ns, vuln_ew = False, True\n",
    "\n",
    "# you sit West and hold:\n",
    "hand = 'Q6542.QJ7.AKT6.7'\n",
    "\n",
    "auction = [\"PAD_START\", \"PAD_START\"]\n",
    "bot_bid = BotBid([vuln_ns, vuln_ew], hand, models, sampler, 2, 2, False)\n",
    "\n",
    "bid = bot_bid.bid(auction)\n",
    "bid.to_dict()['candidates']\n",
    "\n",
    "# what's your bid?"
   ]
  },
  {
   "cell_type": "code",
   "execution_count": 3,
   "metadata": {},
   "outputs": [
    {
     "data": {
      "text/plain": [
       "[]"
      ]
     },
     "execution_count": 3,
     "metadata": {},
     "output_type": "execute_result"
    }
   ],
   "source": [
    "bid.samples"
   ]
  },
  {
   "cell_type": "code",
   "execution_count": 4,
   "id": "bfe98f56",
   "metadata": {},
   "outputs": [
    {
     "data": {
      "text/plain": [
       "[{'call': '3C', 'insta_score': 0.957}]"
      ]
     },
     "execution_count": 4,
     "metadata": {},
     "output_type": "execute_result"
    }
   ],
   "source": [
    "auction = [\"PAD_START\", \"PAD_START\", \"1S\", \"PASS\", \"2N\",\"PASS\"]\n",
    "bid = bot_bid.bid(auction)\n",
    "\n",
    "bid.to_dict()['candidates']"
   ]
  },
  {
   "cell_type": "code",
   "execution_count": 5,
   "id": "55b647a5",
   "metadata": {},
   "outputs": [
    {
     "data": {
      "text/plain": [
       "[]"
      ]
     },
     "execution_count": 5,
     "metadata": {},
     "output_type": "execute_result"
    }
   ],
   "source": [
    "bid.samples"
   ]
  },
  {
   "cell_type": "code",
   "execution_count": 6,
   "id": "7101e514",
   "metadata": {},
   "outputs": [
    {
     "data": {
      "text/plain": [
       "[{'call': '4S',\n",
       "  'insta_score': 0.568,\n",
       "  'expected_score': 426,\n",
       "  'adjustment': 284},\n",
       " {'call': '3S', 'insta_score': 0.166, 'expected_score': 426, 'adjustment': 83},\n",
       " {'call': '4D', 'insta_score': 0.179, 'expected_score': 367, 'adjustment': 90}]"
      ]
     },
     "execution_count": 6,
     "metadata": {},
     "output_type": "execute_result"
    }
   ],
   "source": [
    "auction = [\"PAD_START\", \"PAD_START\", \"1S\", \"PASS\", \"2N\", \"PASS\",\"3C\",\"X\",\"PASS\",\"PASS\"]\n",
    "bid = bot_bid.bid(auction)\n",
    "\n",
    "bid.to_dict()['candidates']"
   ]
  },
  {
   "cell_type": "code",
   "execution_count": 7,
   "metadata": {},
   "outputs": [
    {
     "data": {
      "text/plain": [
       "['AK9x.K9xx.98x.Qx JT.ATxx.Jxx.J9xx Qxxxx.QJx.AKTx.x 8x.8x.Qxx.AKT8xx 0.69553 \\n 1S-P-2N-P-3C-X-P-P-4S-P-P-P (10.1, 10.2)  \\n 1S-P-2N-P-3C-X-P-P-4D-P-4S-P-P-P (10.1, 10.2)  \\n 1S-P-2N-P-3C-X-P-P-3S-P-4S-P-P-P (10.1, 10.2) ',\n",
       " 'AKTx.A8x.J8x.8xx 8x.Kxxxx.Qxx.QTx Qxxxx.QJx.AKTx.x J9.T9.9xx.AKJ9xx 0.68810 \\n 1S-P-2N-P-3C-X-P-P-4S-P-P-P (10.8, 10.8)  \\n 1S-P-2N-P-3C-X-P-P-4D-P-4S-P-P-P (10.8, 10.8)  \\n 1S-P-2N-P-3C-X-P-P-3S-P-4S-P-P-P (10.8, 10.8) ',\n",
       " 'A98x.AKx.J8x.Txx KJ.xxx.Q9xx.J98x Qxxxx.QJx.AKTx.x Tx.T98x.xx.AKQxx 0.68808 \\n 1S-P-2N-P-3C-X-P-P-4S-P-P-P (11.1, 10.7)  \\n 1S-P-2N-P-3C-X-P-P-4D-P-4S-P-P-P (11.1, 10.7)  \\n 1S-P-2N-P-3C-X-P-P-3S-P-4S-P-P-P (11.1, 10.7) ',\n",
       " 'KTxx.AKx.Jxx.J9x 98.9xxx.Qxx.Axxx Qxxxx.QJx.AKTx.x AJ.T8x.98x.KQT8x 0.68477 \\n 1S-P-2N-P-3C-X-P-P-4S-P-P-P (10.1, 10.7)  \\n 1S-P-2N-P-3C-X-P-P-4D-P-4S-P-P-P (10.1, 10.7)  \\n 1S-P-2N-P-3C-X-P-P-3S-P-4S-P-P-P (10.1, 10.7) ',\n",
       " 'T98x.AK9x.xxx.AJ Ax.T8x.J9x.QT8xx Qxxxx.QJx.AKTx.x KJ.xxx.Q8x.K9xxx 0.68352 \\n 1S-P-2N-P-3C-X-P-P-4S-P-P-P (10.2, 10.2)  \\n 1S-P-2N-P-3C-X-P-P-4D-P-4S-P-P-P (10.2, 10.2)  \\n 1S-P-2N-P-3C-X-P-P-3S-P-4S-P-P-P (10.2, 10.2) ',\n",
       " 'AJxx.9xx.8xx.AKx K9.ATxx.Jxx.T9xx Qxxxx.QJx.AKTx.x T8.K8x.Q9x.QJ8xx 0.68173 \\n 1S-P-2N-P-3C-X-P-P-4S-P-P-P (9.4, 9.6)  \\n 1S-P-2N-P-3C-X-P-P-4D-P-4S-P-P-P (9.4, 9.6)  \\n 1S-P-2N-P-3C-X-P-P-3S-P-4S-P-P-P (9.4, 9.6) ',\n",
       " 'AT8x.AKTx.xxx.Jx K9x.98x.9x.KT8xx Qxxxx.QJx.AKTx.x J.xxx.QJ8x.AQ9xx 0.68172 \\n 1S-P-2N-P-3C-X-P-P-4S-P-P-P (11.1, 10.4)  \\n 1S-P-2N-P-3C-X-P-P-4D-P-4S-P-P-P (11.1, 10.5)  \\n 1S-P-2N-P-3C-X-P-P-3S-P-4S-P-P-P (11.1, 10.5) ',\n",
       " 'AK9x.K9x.Q9x.T9x T8.A8x.8xxx.Kxxx Qxxxx.QJx.AKTx.x Jx.Txxx.Jx.AQJ8x 0.68156 \\n 1S-P-2N-P-3C-X-P-P-4S-P-P-P (10.8, 10.9)  \\n 1S-P-2N-P-3C-X-P-P-4D-P-4S-P-P-P (10.8, 10.6)  \\n 1S-P-2N-P-3C-X-P-P-3S-P-4S-P-P-P (10.8, 10.6) ',\n",
       " 'AKTx.T9x.J8x.A8x J9.Axxx.9xx.QT9x Qxxxx.QJx.AKTx.x 8x.K8x.Qxx.KJxxx 0.67828 \\n 1S-P-2N-P-3C-X-P-P-4S-P-P-P (10.0, 10.7)  \\n 1S-P-2N-P-3C-X-P-P-4D-P-4S-P-P-P (10.0, 10.4)  \\n 1S-P-2N-P-3C-X-P-P-3S-P-4S-P-P-P (10.0, 10.4) ',\n",
       " 'AT98.ATx.xxx.A9x KJ.Kxx.J98xx.T8x Qxxxx.QJx.AKTx.x xx.98xx.Q.KQJxxx 0.67684 \\n 1S-P-2N-P-3C-X-P-P-4S-P-P-5C-X-P-P-P (7.3, 8.2)  \\n 1S-P-2N-P-3C-X-P-P-4D-P-4S-P-P-P (10.8, 10.4)  \\n 1S-P-2N-P-3C-X-P-P-3S-P-4S-5C-X-P-P-P (7.3, 7.7) ']"
      ]
     },
     "execution_count": 7,
     "metadata": {},
     "output_type": "execute_result"
    }
   ],
   "source": [
    "bid.samples"
   ]
  },
  {
   "cell_type": "code",
   "execution_count": 8,
   "metadata": {},
   "outputs": [
    {
     "data": {
      "text/plain": [
       "[{'call': 'X',\n",
       "  'insta_score': 0.829,\n",
       "  'expected_score': 1066,\n",
       "  'adjustment': 414},\n",
       " {'call': '5S', 'insta_score': 0.125, 'expected_score': 238, 'adjustment': 62}]"
      ]
     },
     "execution_count": 8,
     "metadata": {},
     "output_type": "execute_result"
    }
   ],
   "source": [
    "auction = [\"PAD_START\", \"PAD_START\", \"1S\", \"PASS\", \"2N\", \"PASS\",\"3C\",\"X\",\"PASS\",\"PASS\",\"4S\",\"PASS\",\"PASS\",\"5C\"]\n",
    "bid = bot_bid.bid(auction)\n",
    "\n",
    "bid.to_dict()['candidates']"
   ]
  },
  {
   "cell_type": "code",
   "execution_count": 9,
   "metadata": {},
   "outputs": [
    {
     "data": {
      "text/plain": [
       "['AK9x.A8xx.J8x.8x J.Txx.9xxx.AJT9x Qxxxx.QJx.AKTx.x T8x.K9x.Qx.KQxxx 0.51342 \\n 1S-P-2N-P-3C-X-P-P-4S-P-P-5C-X-P-P-P (7.6, 8.7)  \\n 1S-P-2N-P-3C-X-P-P-4S-P-P-5C-5S-P-P-P (11.8, 11.1) ',\n",
       " 'AKJx.98xx.9xx.A9 9x.Kxx.QJx.T8xxx Qxxxx.QJx.AKTx.x T8.ATx.8xx.KQJxx 0.51134 \\n 1S-P-2N-P-3C-X-P-P-4S-P-P-5C-X-P-P-P (7.4, 8.0)  \\n 1S-P-2N-P-3C-X-P-P-4S-P-P-5C-5S-P-P-P (9.9, 10.5) ',\n",
       " 'AJ98.AKxx.xxx.8x Kx.Txx.J9x.KJxxx Qxxxx.QJx.AKTx.x Tx.98x.Q8x.AQT9x 0.50507 \\n 1S-P-2N-P-3C-X-P-P-4S-P-P-5C-X-P-P-P (7.2, 7.8)  \\n 1S-P-2N-P-3C-X-P-P-4S-P-P-5C-5S-P-P-P (11.5, 10.7) ',\n",
       " 'KJT9.Axx.8xx.KJx A8x.T8xx.9x.QTxx Qxxxx.QJx.AKTx.x x.K9x.QJxx.A98xx 0.50356 \\n 1S-P-2N-P-3C-X-P-P-4S-P-P-5C-X-P-P-P (7.5, 7.9)  \\n 1S-P-2N-P-3C-X-P-P-4S-P-P-5C-5S-P-P-P (9.8, 9.6) ',\n",
       " 'ATxx.A9xx.8xx.Ax J8.K8x.xxx.QJ8xx Qxxxx.QJx.AKTx.x K9.Txx.QJ9.KT9xx 0.50278 \\n 1S-P-2N-P-3C-X-P-P-4S-P-P-5C-X-P-P-P (6.5, 8.1)  \\n 1S-P-2N-P-3C-X-P-P-4S-P-P-5C-5S-P-P-P (11.0, 10.5) ',\n",
       " 'AJ8x.A98x.QJx.xx 9x.Txx.8xx.AKTxx Qxxxx.QJx.AKTx.x KT.Kxx.9xx.QJ98x 0.50108 \\n 1S-P-2N-P-3C-X-P-P-4S-P-P-5C-X-P-P-P (6.6, 8.0)  \\n 1S-P-2N-P-3C-X-P-P-4S-P-P-5C-5S-P-P-P (11.8, 11.5) ',\n",
       " 'AJT8.ATx.xxx.K8x xx.K9xx.J9x.Q9xx Qxxxx.QJx.AKTx.x K9.8xx.Q8x.AJTxx 0.50019 \\n 1S-P-2N-P-3C-X-P-P-4S-P-P-5C-X-P-P-P (6.1, 7.5)  \\n 1S-P-2N-P-3C-X-P-P-4S-P-P-5C-5S-P-P-P (11.0, 10.3) ',\n",
       " 'J9xx.A98.QJx.A8x AK.xxxx.9xx.T9xx Qxxxx.QJx.AKTx.x T8.KTx.8xx.KQJxx 0.49731 \\n 1S-P-2N-P-3C-X-P-P-4S-P-P-5C-X-P-P-P (6.5, 7.6)  \\n 1S-P-2N-P-3C-X-P-P-4S-P-P-5C-5S-P-P-P (10.8, 10.3) ',\n",
       " 'AK9x.K9xx.Qxx.xx T8.AT8x.J98.J9xx Qxxxx.QJx.AKTx.x Jx.xx.xxx.AKQT8x 0.49444 \\n 1S-P-2N-P-3C-X-P-P-4S-P-P-5C-X-P-P-P (7.4, 8.2)  \\n 1S-P-2N-P-3C-X-P-P-4S-P-P-5C-5S-P-P-P (10.7, 10.6) ',\n",
       " 'AKJ8.KTxx.98x.Jx T9x.A9xx.Qx.Q9xx Qxxxx.QJx.AKTx.x x.8x.Jxxx.AKT8xx 0.49370 \\n 1S-P-2N-P-3C-X-P-P-4S-P-P-5C-X-P-P-P (8.4, 9.0)  \\n 1S-P-2N-P-3C-X-P-P-4S-P-P-5C-5S-P-P-P (10.1, 10.4) ']"
      ]
     },
     "execution_count": 9,
     "metadata": {},
     "output_type": "execute_result"
    }
   ],
   "source": [
    "bid.samples"
   ]
  },
  {
   "cell_type": "code",
   "execution_count": 10,
   "metadata": {},
   "outputs": [
    {
     "data": {
      "text/plain": [
       "[{'call': 'PASS',\n",
       "  'insta_score': 0.966,\n",
       "  'expected_score': 139,\n",
       "  'adjustment': 483},\n",
       " {'call': '6S', 'insta_score': 0.034, 'expected_score': 97, 'adjustment': 17}]"
      ]
     },
     "execution_count": 10,
     "metadata": {},
     "output_type": "execute_result"
    }
   ],
   "source": [
    "auction = [\"PAD_START\", \"PAD_START\", \"1S\", \"PASS\", \"2N\", \"PASS\",\"3C\",\"X\",\"PASS\",\"PASS\",\"4S\",\"PASS\",\"PASS\",\"5C\",\"X\",\"PASS\",\"5S\",\"PASS\"]\n",
    "bid = bot_bid.bid(auction)\n",
    "\n",
    "bid.to_dict()['candidates']"
   ]
  },
  {
   "cell_type": "code",
   "execution_count": 11,
   "metadata": {},
   "outputs": [
    {
     "data": {
      "text/plain": [
       "['KJ8x.K98x.QJxx.Q T9x.Axx.x.KT98xx Qxxxx.QJx.AKTx.x A.Txx.98xx.AJxxx 0.39297 \\n 1S-P-2N-P-3C-X-P-P-4S-P-P-5C-X-P-5S-P-P-P (9.1, 9.8)  \\n 1S-P-2N-P-3C-X-P-P-4S-P-P-5C-X-P-5S-P-6S-P-P-P (9.1, 9.8) ',\n",
       " 'KJ9xx.A9xx.Jxx.K AT.T8x.8x.QJ98xx Qxxxx.QJx.AKTx.x 8.Kxx.Q9xx.ATxxx 0.39210 \\n 1S-P-2N-P-3C-X-P-P-4S-P-P-5C-X-P-5S-P-P-P (9.8, 10.5)  \\n 1S-P-2N-P-3C-X-P-P-4S-P-P-5C-X-P-5S-P-6S-P-P-P (9.8, 10.5) ',\n",
       " 'KJT8x.KTx.QJxxx. Ax.9xxx.x.KQJ9xx Qxxxx.QJx.AKTx.x 9.A8x.98x.AT8xxx 0.38780 \\n 1S-P-2N-P-3C-X-P-P-4S-P-P-5C-X-P-5S-P-P-P (10.2, 11.4)  \\n 1S-P-2N-P-3C-X-P-P-4S-P-P-5C-X-P-5S-P-6S-P-P-P (10.2, 11.4) ',\n",
       " 'AK98xx.98x.8xx.Q T.ATxx.Jx.AJ98xx Qxxxx.QJx.AKTx.x J.Kxx.Q9xx.KTxxx 0.38593 \\n 1S-P-2N-P-3C-X-P-P-4S-P-P-5C-X-P-5S-P-P-P (9.7, 10.1)  \\n 1S-P-2N-P-3C-X-P-P-4S-P-P-5C-X-P-5S-P-6S-P-P-P (9.7, 10.4) ',\n",
       " 'AKJ9x.A8xx.8xx.x x.9xx.QJx.KJ9xxx Qxxxx.QJx.AKTx.x T8.KTx.9xx.AQT8x 0.38303 \\n 1S-P-2N-P-3C-X-P-P-4S-P-P-5C-X-P-5S-P-P-P (12.3, 12.2)  \\n 1S-P-2N-P-3C-X-P-P-4S-P-P-5C-X-P-5S-P-6S-P-P-P (12.3, 12.2) ',\n",
       " 'AKJ8.KTxx.J8xx.x Tx.98x.9x.AQT9xx Qxxxx.QJx.AKTx.x 9x.Axx.Qxx.KJ8xx 0.38137 \\n 1S-P-2N-P-3C-X-P-P-4S-P-P-5C-X-P-5S-P-P-P (11.1, 11.5)  \\n 1S-P-2N-P-3C-X-P-P-4S-P-P-5C-X-P-5S-P-6S-P-P-P (11.1, 11.5) ',\n",
       " 'AKJ8x.98xx.9xx.x .KTx.QJ8x.AT8xxx Qxxxx.QJx.AKTx.x T9x.Axx.xx.KQJ9x 0.38041 \\n 1S-P-2N-P-3C-X-P-P-4S-P-P-5C-X-P-5S-P-P-P (9.8, 9.9)  \\n 1S-P-2N-P-3C-X-P-P-4S-P-P-5C-X-P-5S-P-6S-P-P-P (9.8, 9.9) ',\n",
       " 'AKJ8x.K8xx.Jxx.x 9.Axx.98x.KT8xxx Qxxxx.QJx.AKTx.x Tx.T9x.Qxx.AQJ9x 0.37951 \\n 1S-P-2N-P-3C-X-P-P-4S-P-P-5C-X-P-5S-P-P-P (11.3, 11.6)  \\n 1S-P-2N-P-3C-X-P-P-4S-P-P-5C-X-P-5S-P-6S-P-P-P (11.3, 11.6) ',\n",
       " 'KJT.ATxx.QJxxx.T A9x.98x.x.KJ98xx Qxxxx.QJx.AKTx.x 8x.Kxx.98x.AQxxx 0.37928 \\n 1S-P-2N-P-3C-X-P-P-4S-P-P-5C-X-P-5S-P-P-P (10.3, 11.1)  \\n 1S-P-2N-P-3C-X-P-P-4S-P-P-5C-X-P-5S-P-6S-P-P-P (10.3, 11.1) ',\n",
       " 'AKJ8x.98xx.Qxx.8 .KTx.J9xx.AJ9xxx Qxxxx.QJx.AKTx.x T9x.Axx.8x.KQTxx 0.37678 \\n 1S-P-2N-P-3C-X-P-P-4S-P-P-5C-X-P-5S-P-P-P (10.0, 10.7)  \\n 1S-P-2N-P-3C-X-P-P-4S-P-P-5C-X-P-5S-P-6S-P-P-P (10.0, 10.7) ']"
      ]
     },
     "execution_count": 11,
     "metadata": {},
     "output_type": "execute_result"
    }
   ],
   "source": [
    "bid.samples"
   ]
  },
  {
   "cell_type": "code",
   "execution_count": null,
   "metadata": {},
   "outputs": [],
   "source": []
  }
 ],
 "metadata": {
  "kernelspec": {
   "display_name": "Python 3 (ipykernel)",
   "language": "python",
   "name": "python3"
  },
  "language_info": {
   "codemirror_mode": {
    "name": "ipython",
    "version": 3
   },
   "file_extension": ".py",
   "mimetype": "text/x-python",
   "name": "python",
   "nbconvert_exporter": "python",
   "pygments_lexer": "ipython3",
   "version": "3.11.0"
  }
 },
 "nbformat": 4,
 "nbformat_minor": 5
}
