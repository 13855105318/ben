{
 "cells": [
  {
   "cell_type": "markdown",
   "id": "75d07246",
   "metadata": {},
   "source": [
    "# Bidding\n",
    "\n",
    "This is a tutorial for how to use the bidding engine"
   ]
  },
  {
   "cell_type": "code",
   "execution_count": 1,
   "id": "59a5664c",
   "metadata": {},
   "outputs": [
    {
     "name": "stdout",
     "output_type": "stream",
     "text": [
      "WARNING:tensorflow:From c:\\Python311\\Lib\\site-packages\\tensorflow\\python\\compat\\v2_compat.py:107: disable_resource_variables (from tensorflow.python.ops.variable_scope) is deprecated and will be removed in a future version.\n",
      "Instructions for updating:\n",
      "non-resource variables are not supported in the long term\n",
      "INFO:tensorflow:Restoring parameters from ..\\Models/NS1EW99-bidding_V2-1494000\n",
      "INFO:tensorflow:Restoring parameters from ..\\Models/NS1EW99-binfo_V2-1494000\n",
      "INFO:tensorflow:Restoring parameters from ..\\Models/lead_suit-999000\n",
      "INFO:tensorflow:Restoring parameters from ..\\Models/lead_nt-475000\n",
      "INFO:tensorflow:Restoring parameters from ..\\Models/Jack/lr3-1000000\n",
      "INFO:tensorflow:Restoring parameters from ..\\Models/single_dummy-32768000\n",
      "INFO:tensorflow:Restoring parameters from ..\\Models/jack/lefty-1000000\n",
      "INFO:tensorflow:Restoring parameters from ..\\Models/jack/dummy-920000\n",
      "INFO:tensorflow:Restoring parameters from ..\\Models/jack/righty-1000000\n",
      "INFO:tensorflow:Restoring parameters from ..\\Models/jack/decl-1000000\n",
      "INFO:tensorflow:Restoring parameters from ..\\Models/jack/lefty-1000000\n",
      "INFO:tensorflow:Restoring parameters from ..\\Models/jack/dummy-920000\n",
      "INFO:tensorflow:Restoring parameters from ..\\Models/jack/righty-1000000\n",
      "INFO:tensorflow:Restoring parameters from ..\\Models/jack/decl-1000000\n"
     ]
    }
   ],
   "source": [
    "import sys\n",
    "import os\n",
    "sys.path.append('../../src')\n",
    "os.environ['BEN_HOME'] = \"../..\"\n",
    "import logging\n",
    "\n",
    "# Set logging level to suppress warnings\n",
    "logging.getLogger().setLevel(logging.ERROR)\n",
    "# Just disables the warnings\n",
    "os.environ['TF_CPP_MIN_LOG_LEVEL'] = '2'\n",
    "\n",
    "from nn.models import Models\n",
    "from bots import BotBid\n",
    "from util import hand_to_str\n",
    "from sample import Sample\n",
    "import conf\n",
    "import numpy as np\n",
    "\n",
    "np.set_printoptions(precision=2, suppress=True, linewidth=200)\n",
    "np.random.seed(42)\n",
    "\n",
    "models = Models.from_conf(conf.load('../Conf/UCBC2024.conf'),'..')   # loading neural networks\n",
    "sampler = Sample.from_conf(conf.load('../Conf/UCBC2024.conf'), False)  # Load sampling strategies\n"
   ]
  },
  {
   "cell_type": "markdown",
   "id": "10d8f2fc",
   "metadata": {},
   "source": [
    "### Running through an example"
   ]
  },
  {
   "cell_type": "code",
   "execution_count": 3,
   "id": "19dbfeb7",
   "metadata": {},
   "outputs": [
    {
     "data": {
      "text/plain": [
       "[{'call': '1S', 'insta_score': 0.999}]"
      ]
     },
     "execution_count": 3,
     "metadata": {},
     "output_type": "execute_result"
    }
   ],
   "source": [
    "# East deals, EW vulnerable.\n",
    "vuln_ns, vuln_ew = False, True\n",
    "\n",
    "# you sit West as dealer and hold:\n",
    "hand = 'Q6542.QJ7.AKT6.7'\n",
    "\n",
    "auction = [\"PAD_START\",\"PAD_START\",\"PAD_START\"]\n",
    "bot_bid = BotBid([vuln_ns, vuln_ew], hand, models, sampler, 3, 3, False)\n",
    "\n",
    "bid = bot_bid.bid(auction)\n",
    "bid.to_dict()['candidates']\n",
    "\n",
    "# what's your bid?"
   ]
  },
  {
   "cell_type": "code",
   "execution_count": 4,
   "metadata": {},
   "outputs": [
    {
     "data": {
      "text/plain": [
       "[]"
      ]
     },
     "execution_count": 4,
     "metadata": {},
     "output_type": "execute_result"
    }
   ],
   "source": [
    "bid.samples"
   ]
  },
  {
   "cell_type": "code",
   "execution_count": 6,
   "id": "bfe98f56",
   "metadata": {},
   "outputs": [
    {
     "data": {
      "text/plain": [
       "[{'call': '3C', 'insta_score': 0.94}]"
      ]
     },
     "execution_count": 6,
     "metadata": {},
     "output_type": "execute_result"
    }
   ],
   "source": [
    "auction = [\"PAD_START\",\"PAD_START\",\"PAD_START\",\"1S\", \"PASS\", \"2N\",\"PASS\"]\n",
    "bid = bot_bid.bid(auction)\n",
    "\n",
    "bid.to_dict()['candidates']"
   ]
  },
  {
   "cell_type": "code",
   "execution_count": 7,
   "id": "55b647a5",
   "metadata": {},
   "outputs": [
    {
     "data": {
      "text/plain": [
       "[]"
      ]
     },
     "execution_count": 7,
     "metadata": {},
     "output_type": "execute_result"
    }
   ],
   "source": [
    "bid.samples"
   ]
  },
  {
   "cell_type": "code",
   "execution_count": 9,
   "id": "7101e514",
   "metadata": {},
   "outputs": [
    {
     "name": "stderr",
     "output_type": "stream",
     "text": [
      "Loaded lib dds.dll\n"
     ]
    },
    {
     "data": {
      "text/plain": [
       "[{'call': '3S',\n",
       "  'insta_score': 0.594,\n",
       "  'expected_score': 493,\n",
       "  'adjustment': 297},\n",
       " {'call': '4S', 'insta_score': 0.3, 'expected_score': 568, 'adjustment': 150}]"
      ]
     },
     "execution_count": 9,
     "metadata": {},
     "output_type": "execute_result"
    }
   ],
   "source": [
    "auction = [\"PAD_START\",\"PAD_START\",\"PAD_START\", \"1S\", \"PASS\", \"2N\", \"PASS\",\"3C\",\"X\",\"PASS\",\"PASS\"]\n",
    "bid = bot_bid.bid(auction)\n",
    "\n",
    "bid.to_dict()['candidates']"
   ]
  },
  {
   "cell_type": "code",
   "execution_count": 10,
   "metadata": {},
   "outputs": [
    {
     "data": {
      "text/plain": [
       "['.K9xx.98xx.AQ9xx AJTx.ATx.xx.KJ8x K98x.8xx.QJx.Txx Qxxxx.QJx.AKTx.x 0.47844 \\n 1S-P-2N-P-3C-X-P-P-3S-P-4S-P-P-P (11, 10.8, 10.0)  \\n 1S-P-2N-P-3C-X-P-P-4S-P-P-P (11, 10.8, 10.0) ',\n",
       " 'A.xxx.9xx.AQ9xxx KT8.KT8x.Qx.KJ8x J9xx.A9x.J8xx.Tx Qxxxx.QJx.AKTx.x 0.47129 \\n 1S-P-2N-P-3C-X-P-P-3S-P-4S-P-P-P (9, 9.4, 9.0)  \\n 1S-P-2N-P-3C-X-P-P-4S-P-P-P (9, 9.4, 9.0) ',\n",
       " '9x.Txx.Qxx.AKQT9 AK8.AK9x.J8.8xxx JTx.8xx.9xxx.Jxx Qxxxx.QJx.AKTx.x 0.47040 \\n 1S-P-2N-P-3C-X-P-P-3S-P-3N-P-4C-X-4D-P-4S-P-P-P (12, 11.9, 11.5)  \\n 1S-P-2N-P-3C-X-P-P-4S-P-P-P (12, 11.9, 11.4) ',\n",
       " 'Kx.8x.QJx.AT9xxx AT9.KT9xx.xx.KQ8 J8x.Axx.98xx.Jxx Qxxxx.QJx.AKTx.x 0.46849 \\n 1S-P-2N-P-3C-X-P-P-3S-P-4S-P-P-P (10, 9.8, 9.6)  \\n 1S-P-2N-P-3C-X-P-P-4S-P-P-P (10, 9.8, 9.9) ',\n",
       " 'x.ATx.Q8x.AJ8xxx AKJx.98xx.9x.Q9x T98.Kxx.Jxxx.KTx Qxxxx.QJx.AKTx.x 0.46514 \\n 1S-P-2N-P-3C-X-P-P-3S-P-4S-P-P-P (10, 9.6, 9.2)  \\n 1S-P-2N-P-3C-X-P-P-4S-P-P-P (10, 9.6, 9.2) ',\n",
       " 'J.KTx.J8xx.KQT9x AKT.A98x.Qxx.AJx 98xx.xxx.9x.8xxx Qxxxx.QJx.AKTx.x 0.46451 \\n 1S-P-2N-P-3C-X-P-P-3S-P-3N-P-4C-X-4N-P-5D-P-5H-P-6D-P-6S-P-P-P (13, 12.1, 11.9)  \\n 1S-P-2N-P-3C-X-P-P-4S-P-4N-P-5D-P-5H-P-6D-P-6S-P-P-P (13, 12.1, 11.9) ',\n",
       " 'JT.KT98.9.AJxxxx AK9.Axx.J8xx.KQT 8xx.xxx.Qxxx.98x Qxxxx.QJx.AKTx.x 0.46354 \\n 1S-P-2N-P-3C-X-P-P-3S-P-4H-P-4S-P-P-P (12, 11.5, 11.4)  \\n 1S-P-2N-P-3C-X-P-P-4S-P-4N-P-5D-P-5H-P-6D-P-6S-P-P-P (12, 11.5, 11.4) ',\n",
       " 'K.8xxx.xx.AJ98xx A8x.AT9.Q9xx.KQx JT9x.Kxx.J8x.Txx Qxxxx.QJx.AKTx.x 0.46348 \\n 1S-P-2N-P-3C-X-P-P-3S-P-4S-P-P-P (9, 9.8, 9.7)  \\n 1S-P-2N-P-3C-X-P-P-4S-P-P-P (9, 9.8, 9.7) ',\n",
       " 'AT.A9.9xx.QJ9xxx 98x.Txxxx.Qx.AK8 KJx.K8x.J8xx.Txx Qxxxx.QJx.AKTx.x 0.45962 \\n 1S-P-2N-P-3C-X-P-P-3S-P-4S-P-P-P (8, 8.2, 7.7)  \\n 1S-P-2N-P-3C-X-P-P-4S-P-P-P (8, 8.2, 7.7) ',\n",
       " 'A9.98xx.x.KJTxxx T8x.AKx.9xxx.AQ8 KJx.Txx.QJ8x.9xx Qxxxx.QJx.AKTx.x 0.45869 \\n 1S-P-2N-P-3C-X-P-P-3S-P-4S-P-P-P (10, 9.9, 9.6)  \\n 1S-P-2N-P-3C-X-P-P-4S-P-P-P (10, 9.9, 9.6) ']"
      ]
     },
     "execution_count": 10,
     "metadata": {},
     "output_type": "execute_result"
    }
   ],
   "source": [
    "bid.samples"
   ]
  },
  {
   "cell_type": "code",
   "execution_count": 11,
   "metadata": {},
   "outputs": [
    {
     "data": {
      "text/plain": [
       "[{'call': 'X', 'insta_score': 0.842, 'expected_score': 360, 'adjustment': 421},\n",
       " {'call': '5S', 'insta_score': 0.108, 'expected_score': 336, 'adjustment': 54}]"
      ]
     },
     "execution_count": 11,
     "metadata": {},
     "output_type": "execute_result"
    }
   ],
   "source": [
    "auction = [\"PAD_START\",\"PAD_START\",\"PAD_START\", \"1S\", \"PASS\", \"2N\", \"PASS\",\"3C\",\"X\",\"PASS\",\"PASS\",\"4S\",\"PASS\",\"PASS\",\"5C\"]\n",
    "bid = bot_bid.bid(auction)\n",
    "\n",
    "bid.to_dict()['candidates']"
   ]
  },
  {
   "cell_type": "code",
   "execution_count": 12,
   "metadata": {},
   "outputs": [
    {
     "data": {
      "text/plain": [
       "['8x.Ax.QJ8.A98xxx AKJTx.K9xx.9xxx. 9.T8xx.xx.KQJTxx Qxxxx.QJx.AKTx.x 0.33167 \\n 1S-P-2N-P-3C-X-P-P-4S-P-P-5C-X-P-P-P (9, 9.5, 9.8)  \\n 1S-P-2N-P-3C-X-P-P-4S-P-P-5C-5S-P-P-P (11, 11.6, 11.1) ',\n",
       " 'x.K8xx.Qxx.AJTxx AKJ9x.Txx.98xx.8 T8.A9x.Jx.KQ9xxx Qxxxx.QJx.AKTx.x 0.32831 \\n 1S-P-2N-P-3C-X-P-P-4S-P-P-5C-X-P-P-P (9, 9.8, 10.4)  \\n 1S-P-2N-P-3C-X-P-P-4S-P-P-5C-5S-P-P-P (9, 9.9, 10.5) ',\n",
       " 'Jx.A8x.xx.KQ8xxx AK98x.9xx.QJ98x. T.KTxx.xx.AJT9xx Qxxxx.QJx.AKTx.x 0.32572 \\n 1S-P-2N-P-3C-X-P-P-4S-P-P-5C-X-P-P-P (9, 9.4, 10.2)  \\n 1S-P-2N-P-3C-X-P-P-4S-P-P-5C-5S-P-P-P (11, 10.8, 11.5) ',\n",
       " 'J9.xxx.Q98.AKT9x A8x.AT9x.Jxxxx.8 KTx.K8x.x.QJxxxx Qxxxx.QJx.AKTx.x 0.32435 \\n 1S-P-2N-P-3C-X-P-P-4S-P-P-5C-X-P-P-P (9, 9.1, 9.5)  \\n 1S-P-2N-P-3C-X-P-P-4S-P-P-5C-5S-P-P-P (9, 9.7, 9.2) ',\n",
       " 'A.9x.J8xx.KT8xxx JT9x.AKxxx.Qxxx. K8x.T8x.9.AQJ9xx Qxxxx.QJx.AKTx.x 0.32389 \\n 1S-P-2N-P-3C-X-P-P-4S-P-P-5C-X-P-P-P (10, 9.8, 10.2)  \\n 1S-P-2N-P-3C-X-P-P-4S-P-P-5C-5S-P-P-P (10, 9.9, 10.9) ',\n",
       " 'K.K8xx.98x.AJTxx AJT9x.A9x.Jxxx.x 8x.Txx.Qx.KQ98xx Qxxxx.QJx.AKTx.x 0.32158 \\n 1S-P-2N-P-3C-X-P-P-4S-P-P-5C-X-P-P-P (8, 7.3, 8.9)  \\n 1S-P-2N-P-3C-X-P-P-4S-P-P-5C-5S-P-P-P (11, 12.3, 11.9) ',\n",
       " 'K8x.xx.9xx.KQJ8x AJT9.AT9xx.Q8xx. x.K8x.Jx.AT9xxxx Qxxxx.QJx.AKTx.x 0.32134 \\n 1S-P-2N-P-3C-X-P-P-4S-P-P-5C-X-P-P-P (9, 8.3, 8.9)  \\n 1S-P-2N-P-3C-X-P-P-4S-P-P-5C-5S-P-P-P (12, 12.0, 11.6) ',\n",
       " '9x.KTx.Jxx.KQJxx AKJT.Axx.Q9xxx.x 8x.98xx.8.AT98xx Qxxxx.QJx.AKTx.x 0.31927 \\n 1S-P-2N-P-3C-X-P-P-4S-P-P-5C-X-P-P-P (8, 8.3, 9.0)  \\n 1S-P-2N-P-3C-X-P-P-4S-P-P-5C-5S-P-P-P (12, 12.1, 12.2) ',\n",
       " 'A.Txx.J8xx.AJTxx KJT9x.AK8x.9xx.x 8x.9xx.Qx.KQ98xx Qxxxx.QJx.AKTx.x 0.31787 \\n 1S-P-2N-P-3C-X-P-P-4S-P-P-5C-X-P-P-P (8, 8.3, 9.1)  \\n 1S-P-2N-P-3C-X-P-P-4S-P-P-5C-5S-P-P-P (10, 11.3, 11.2) ',\n",
       " 'xx.K9x.xxx.AKT8x KJT98.AT8.QJ98.J A.xxxx.xx.Q9xxxx Qxxxx.QJx.AKTx.x 0.31368 \\n 1S-P-2N-P-3C-X-P-P-4S-P-P-5C-X-P-P-P (8, 8.4, 9.3)  \\n 1S-P-2N-P-3C-X-P-P-4S-P-P-5C-5S-P-P-P (11, 10.8, 11.1) ']"
      ]
     },
     "execution_count": 12,
     "metadata": {},
     "output_type": "execute_result"
    }
   ],
   "source": [
    "bid.samples"
   ]
  },
  {
   "cell_type": "code",
   "execution_count": 14,
   "metadata": {},
   "outputs": [
    {
     "data": {
      "text/plain": [
       "[{'call': 'PASS',\n",
       "  'insta_score': 0.987,\n",
       "  'expected_score': 336,\n",
       "  'adjustment': 493},\n",
       " {'call': '6S', 'insta_score': 0.01, 'expected_score': 146, 'adjustment': 5}]"
      ]
     },
     "execution_count": 14,
     "metadata": {},
     "output_type": "execute_result"
    }
   ],
   "source": [
    "auction = [\"PAD_START\",\"PAD_START\",\"PAD_START\",\"1S\", \"PASS\", \"2N\", \"PASS\",\"3C\",\"X\",\"PASS\",\"PASS\",\"4S\",\"PASS\",\"PASS\",\"5C\",\"X\",\"PASS\",\"5S\",\"PASS\"]\n",
    "bid = bot_bid.bid(auction)\n",
    "\n",
    "bid.to_dict()['candidates']"
   ]
  },
  {
   "cell_type": "code",
   "execution_count": 15,
   "metadata": {},
   "outputs": [
    {
     "data": {
      "text/plain": [
       "['8x.Ax.QJ8.A98xxx AKJTx.K9xx.9xxx. 9.T8xx.xx.KQJTxx Qxxxx.QJx.AKTx.x 0.33167 \\n 1S-P-2N-P-3C-X-P-P-4S-P-P-5C-X-P-5S-P-P-P (11, 11.6, 11.4)  \\n 1S-P-2N-P-3C-X-P-P-4S-P-P-5C-X-P-5S-P-6S-P-P-P (11, 11.6, 11.4) ',\n",
       " 'J9.xxx.Q98.AKT9x A8x.AT9x.Jxxxx.8 KTx.K8x.x.QJxxxx Qxxxx.QJx.AKTx.x 0.32435 \\n 1S-P-2N-P-3C-X-P-P-4S-P-P-5C-X-P-5S-P-P-P (9, 9.7, 9.2)  \\n 1S-P-2N-P-3C-X-P-P-4S-P-P-5C-X-P-5S-P-6S-P-P-P (9, 9.7, 9.2) ',\n",
       " 'K.K8xx.98x.AJTxx AJT9x.A9x.Jxxx.x 8x.Txx.Qx.KQ98xx Qxxxx.QJx.AKTx.x 0.32158 \\n 1S-P-2N-P-3C-X-P-P-4S-P-P-5C-X-P-5S-P-P-P (11, 12.3, 11.9)  \\n 1S-P-2N-P-3C-X-P-P-4S-P-P-5C-X-P-5S-P-6S-P-P-P (11, 12.3, 11.9) ',\n",
       " 'x.AT9x.9xx.KJ9xx AKJT98x.K8.QJxx. .xxxx.8x.AQT8xxx Qxxxx.QJx.AKTx.x 0.32077 \\n 1S-P-2N-P-3C-X-P-P-4S-P-P-5C-X-P-5S-P-P-P (12, 11.4, 12.3)  \\n 1S-P-2N-P-3C-X-P-P-4S-P-P-5C-X-P-5S-P-6S-P-P-P (12, 11.4, 12.3) ',\n",
       " '.ATxx.98x.AJ9xxx AKJT98x.Kx.Qxxx. x.98xx.Jx.KQT8xx Qxxxx.QJx.AKTx.x 0.31716 \\n 1S-P-2N-P-3C-X-P-P-4S-P-P-5C-X-P-5S-P-P-P (12, 11.5, 12.2)  \\n 1S-P-2N-P-3C-X-P-P-4S-P-P-5C-X-P-5S-P-6S-P-P-P (12, 11.5, 12.2) ',\n",
       " 'x.Kxxx.Qxx.KJ9xx KJT98x.A9.98xx.A A.T8xx.Jx.QT8xxx Qxxxx.QJx.AKTx.x 0.31478 \\n 1S-P-2N-P-3C-X-P-P-4S-P-P-5C-X-P-5S-P-P-P (11, 11.5, 11.8)  \\n 1S-P-2N-P-3C-X-P-P-4S-P-P-5C-X-P-5S-P-6S-P-P-P (11, 11.5, 11.8) ',\n",
       " 'xx.K9x.xxx.AKT8x KJT98.AT8.QJ98.J A.xxxx.xx.Q9xxxx Qxxxx.QJx.AKTx.x 0.31368 \\n 1S-P-2N-P-3C-X-P-P-4S-P-P-5C-X-P-5S-P-P-P (11, 10.8, 11.1)  \\n 1S-P-2N-P-3C-X-P-P-4S-P-P-5C-X-P-5S-P-6S-P-P-P (11, 10.8, 11.1) ',\n",
       " 'Jx.Txx.8xx.AKQ8x KT98x.K9x.QJxx.x A.A8xx.9x.JT9xxx Qxxxx.QJx.AKTx.x 0.31340 \\n 1S-P-2N-P-3C-X-P-P-4S-P-P-5C-X-P-5S-P-P-P (10, 10.1, 10.1)  \\n 1S-P-2N-P-3C-X-P-P-4S-P-P-5C-X-P-5S-P-6S-P-P-P (10, 10.1, 10.1) ',\n",
       " '9.Kxx.9xxx.AJ8xx AKT8xx.9x.QJ8x.K J.AT8xx.x.QT9xxx Qxxxx.QJx.AKTx.x 0.31296 \\n 1S-P-2N-P-3C-X-P-P-4S-P-P-5C-X-P-5S-P-P-P (10, 9.8, 11.0)  \\n 1S-P-2N-P-3C-X-P-P-4S-P-P-5C-X-P-5S-P-6S-P-P-P (10, 9.8, 11.3) ',\n",
       " 'T9x.K9.Jxx.AKTxx AKx.T8xxx.98xx.x J8.Axx.Qx.QJ98xx Qxxxx.QJx.AKTx.x 0.31264 \\n 1S-P-2N-P-3C-X-P-P-4S-P-P-5C-X-P-5S-P-P-P (9, 9.5, 9.0)  \\n 1S-P-2N-P-3C-X-P-P-4S-P-P-5C-X-P-5S-P-6S-P-P-P (9, 9.5, 9.0) ']"
      ]
     },
     "execution_count": 15,
     "metadata": {},
     "output_type": "execute_result"
    }
   ],
   "source": [
    "bid.samples"
   ]
  }
 ],
 "metadata": {
  "kernelspec": {
   "display_name": "Python 3 (ipykernel)",
   "language": "python",
   "name": "python3"
  },
  "language_info": {
   "codemirror_mode": {
    "name": "ipython",
    "version": 3
   },
   "file_extension": ".py",
   "mimetype": "text/x-python",
   "name": "python",
   "nbconvert_exporter": "python",
   "pygments_lexer": "ipython3",
   "version": "3.11.9"
  }
 },
 "nbformat": 4,
 "nbformat_minor": 5
}
