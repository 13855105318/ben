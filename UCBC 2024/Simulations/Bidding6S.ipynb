{
 "cells": [
  {
   "cell_type": "markdown",
   "id": "75d07246",
   "metadata": {},
   "source": [
    "# Bidding\n",
    "\n",
    "This is a tutorial for how to use the bidding engine"
   ]
  },
  {
   "cell_type": "code",
   "execution_count": 1,
   "id": "59a5664c",
   "metadata": {},
   "outputs": [
    {
     "name": "stdout",
     "output_type": "stream",
     "text": [
      "WARNING:tensorflow:From c:\\Python311\\Lib\\site-packages\\tensorflow\\python\\compat\\v2_compat.py:107: disable_resource_variables (from tensorflow.python.ops.variable_scope) is deprecated and will be removed in a future version.\n",
      "Instructions for updating:\n",
      "non-resource variables are not supported in the long term\n",
      "INFO:tensorflow:Restoring parameters from ..\\Models/NS1EW99-bidding-3961000\n",
      "INFO:tensorflow:Restoring parameters from ..\\Models/NS1EW99-binfo-1887000\n",
      "INFO:tensorflow:Restoring parameters from ..\\Models/lead_suit-154000\n",
      "INFO:tensorflow:Restoring parameters from ..\\Models/lead_nt-59000\n",
      "INFO:tensorflow:Restoring parameters from ..\\Models/single_dummy-1562000\n",
      "INFO:tensorflow:Restoring parameters from ..\\Models/lefty-1000000\n",
      "INFO:tensorflow:Restoring parameters from ..\\Models/dummy-920000\n",
      "INFO:tensorflow:Restoring parameters from ..\\Models/righty-1000000\n",
      "INFO:tensorflow:Restoring parameters from ..\\Models/decl-1000000\n"
     ]
    }
   ],
   "source": [
    "import sys\n",
    "sys.path.append('../../src')\n",
    "\n",
    "import os\n",
    "import logging\n",
    "\n",
    "# Set logging level to suppress warnings\n",
    "logging.getLogger().setLevel(logging.ERROR)\n",
    "# Just disables the warnings\n",
    "os.environ['TF_CPP_MIN_LOG_LEVEL'] = '2'\n",
    "\n",
    "from nn.models import Models\n",
    "from bots import BotBid\n",
    "from util import hand_to_str\n",
    "from sample import Sample\n",
    "import conf\n",
    "import numpy as np\n",
    "\n",
    "np.set_printoptions(precision=2, suppress=True, linewidth=200)\n",
    "np.random.seed(42)\n",
    "\n",
    "models = Models.from_conf(conf.load('../Conf/UCBC2024.conf'),'..')   # loading neural networks\n",
    "sampler = Sample.from_conf(conf.load('../Conf/UCBC2024.conf'), False)  # Load sampling strategies\n"
   ]
  },
  {
   "cell_type": "markdown",
   "id": "10d8f2fc",
   "metadata": {},
   "source": [
    "### Running through an example"
   ]
  },
  {
   "cell_type": "code",
   "execution_count": 2,
   "id": "19dbfeb7",
   "metadata": {},
   "outputs": [
    {
     "data": {
      "text/plain": [
       "[{'call': '1S', 'insta_score': 1.0}]"
      ]
     },
     "execution_count": 2,
     "metadata": {},
     "output_type": "execute_result"
    }
   ],
   "source": [
    "# East deals, EW vulnerable.\n",
    "vuln_ns, vuln_ew = False, True\n",
    "\n",
    "# you sit West and hold:\n",
    "hand = 'Q6542.QJ7.AKT6.7'\n",
    "\n",
    "auction = [\"PAD_START\", \"PAD_START\"]\n",
    "bot_bid = BotBid([vuln_ns, vuln_ew], hand, models, sampler, 2, False)\n",
    "\n",
    "bid = bot_bid.bid(auction)\n",
    "bid.to_dict()['candidates']\n",
    "\n",
    "# what's your bid?"
   ]
  },
  {
   "cell_type": "code",
   "execution_count": 3,
   "metadata": {},
   "outputs": [
    {
     "data": {
      "text/plain": [
       "['KT.AKTxx.9xx.QTx Axx.8x.J8x.J9xxx Qxxxx.QJx.AKTx.x J98.9xx.Qxx.AK8x 1.00000',\n",
       " 'AJ8x.8x.J9x.KQ9x KT9.AKTx.Q8x.T8x Qxxxx.QJx.AKTx.x x.9xxx.xxx.AJxxx 1.00000',\n",
       " 'KJx.T9x.Jx.AT9xx T9.Kxx.Q9xx.J8xx Qxxxx.QJx.AKTx.x A8x.A8xx.8xx.KQx 1.00000',\n",
       " 'A9.ATxx.QJ8.AK9x KTx.8xx.xxx.QTxx Qxxxx.QJx.AKTx.x J8x.K9x.9xx.J8xx 1.00000',\n",
       " '98x.8xx.xxxx.Q8x Tx.AK.J98x.Kxxxx Qxxxx.QJx.AKTx.x AKJ.T9xxx.Q.AJT9 1.00000',\n",
       " 'Kx.Axx.Q8x.JT8xx JT98.Kx.Jxx.AQxx Qxxxx.QJx.AKTx.x Ax.T98xx.9xx.K9x 1.00000',\n",
       " 'JT8x.ATx.xx.KQT8 K.9x.Q98xxx.AJxx Qxxxx.QJx.AKTx.x A9x.K8xxx.J.9xxx 1.00000',\n",
       " 'T8x.9xx.xx.AK98x AJx.ATxx.QJ9xx.J Qxxxx.QJx.AKTx.x K9.K8x.8x.QTxxxx 1.00000',\n",
       " 'KTx.A9xx.Jxx.KQx AJ98x.xx.Q9.AT8x Qxxxx.QJx.AKTx.x .KT8x.8xxx.J9xxx 1.00000',\n",
       " 'J98x.xx.J.AKT9xx KTx.AT98x.Q98x.J Qxxxx.QJx.AKTx.x A.Kxx.xxxx.Q8xxx 1.00000',\n",
       " 'AK8x.A.J9x.A9xxx J9.98xxx.8xx.KQT Qxxxx.QJx.AKTx.x Tx.KTxx.Qxx.J8xx 1.00000',\n",
       " 'JT9.98xx.xx.AQJx x.AKTx.J8xx.8xxx Qxxxx.QJx.AKTx.x AK8x.xx.Q9x.KT9x 1.00000',\n",
       " 'KT8x.Kxx.x.AJ9xx A9.9xx.98xx.KQ8x Qxxxx.QJx.AKTx.x Jx.AT8x.QJxx.Txx 1.00000',\n",
       " 'K98.Kx.Jxx.KJ8xx Ax.AT9x.98x.9xxx Qxxxx.QJx.AKTx.x JTx.8xxx.Qxx.AQT 1.00000',\n",
       " 'J8.KTxx.9x.AK9xx 9.98xx.QJ8x.QJxx Qxxxx.QJx.AKTx.x AKTxx.Ax.xxx.T8x 1.00000',\n",
       " 'A9x.Axx.QJ8x.Jxx K8.9x.9xxx.KT9xx Qxxxx.QJx.AKTx.x JTx.KT8xx.x.AQ8x 1.00000',\n",
       " 'Txx.Ax.Qxx.QJ8xx AJ9.Kxx.Jxx.K9xx Qxxxx.QJx.AKTx.x K8.T98xx.98x.ATx 1.00000',\n",
       " 'JT8.Axx.Jxx.KJ9x 9x.KT8xx.Qxx.Txx Qxxxx.QJx.AKTx.x AKx.9x.98x.AQ8xx 1.00000',\n",
       " 'xx.KT8xx.xxx.xxx JT98.xx.98x.AQJ8 Qxxxx.QJx.AKTx.x AK.A9x.QJx.KT9xx 1.00000',\n",
       " 'AJ.K8xx.9x.KT8xx T9.AT.Qxxxx.A9xx Qxxxx.QJx.AKTx.x K8xx.9xxx.J8.QJx 1.00000',\n",
       " 'KT8.8x.Qx.AKTxxx AJ9x.K9x.J9xx.Q9 Qxxxx.QJx.AKTx.x x.ATxxx.8xx.J8xx 1.00000',\n",
       " 'K98x.xxx.9x.A98x AT.A8xx.J8xx.KTx Qxxxx.QJx.AKTx.x Jx.KT9.Qxx.QJxxx 1.00000',\n",
       " 'AJ9.A8xx.9xx.98x Kxx.T9.Qxx.KQJxx Qxxxx.QJx.AKTx.x T8.Kxxx.J8x.ATxx 1.00000',\n",
       " 'T8x.Kxxx.xx.K9xx K.A98x.QJ8x.AJ8x Qxxxx.QJx.AKTx.x AJ9x.Tx.9xx.QTxx 1.00000',\n",
       " 'KT98x.A98.J9.KJT Ax.Kxxx.xx.Q8xxx Qxxxx.QJx.AKTx.x J.Txx.Q8xxx.A9xx 1.00000',\n",
       " 'K9.AT8xx.xxx.KTx Jx.xx.Q98x.QJxxx Qxxxx.QJx.AKTx.x AT8x.K9x.Jx.A98x 1.00000',\n",
       " 'AKJ9x.ATx.Qxx.Q9 x.98xx.98xx.KJT8 Qxxxx.QJx.AKTx.x T8.Kxx.Jx.Axxxxx 1.00000',\n",
       " 'KJ.Kxx.J8xxx.xxx A9x.A9xx.Q9.KT9x Qxxxx.QJx.AKTx.x T8x.T8x.xx.AQJ8x 1.00000',\n",
       " 'T8x.K9.8xxxx.Axx Ax.8xxx.QJ9x.QJT Qxxxx.QJx.AKTx.x KJ9.ATxx..K98xxx 1.00000',\n",
       " 'AJ9.KT9x.xx.Txxx xx.xx.J98xx.AQJx Qxxxx.QJx.AKTx.x KT8.A8xx.Qx.K98x 1.00000',\n",
       " 'Axx.8xxx.Qxx.KTx KJT8.xx.J9xx.AJx Qxxxx.QJx.AKTx.x 9.AKT9.8x.Q98xxx 1.00000',\n",
       " 'Kx.xxxx.Jxx.AQTx AJT8x.8.98xxx.8x Qxxxx.QJx.AKTx.x 9.AKT9x.Q.KJ9xxx 1.00000',\n",
       " 'AT8x.A8.Qxx.98xx Jx.KTx.J9xx.ATxx Qxxxx.QJx.AKTx.x K9.9xxxx.8x.KQJx 1.00000',\n",
       " 'T9x.KT8.Qxxx.J9x AKJx.xxx.8xx.Axx Qxxxx.QJx.AKTx.x 8.A9xx.J9.KQT8xx 1.00000',\n",
       " 'AJ9.K9x.J8.KQxxx KTxx.ATx.Qxxx.JT Qxxxx.QJx.AKTx.x 8.8xxx.9xx.A98xx 1.00000',\n",
       " 'Ax.8xx.Q8xx.KT8x J98x.x.9xx.AJ9xx Qxxxx.QJx.AKTx.x KT.AKT9xx.Jx.Qxx 1.00000',\n",
       " 'JT.K9.Jxxx.K9xxx K9xx.xxx.8x.QJ8x Qxxxx.QJx.AKTx.x A8.AT8xx.Q9x.ATx 1.00000',\n",
       " 'JT.AT9x.Qx.J8xxx Axx.Kx.J9xx.AQ9x Qxxxx.QJx.AKTx.x K98.8xxx.8xx.KTx 1.00000',\n",
       " 'AKx.Axx.8xxx.J8x 98x.K8xx.x.QTxxx Qxxxx.QJx.AKTx.x JT.T9x.QJ9x.AK9x 1.00000',\n",
       " 'AKT.9xxx.xx.J9xx 9x.AKxx.J9x.Qxxx Qxxxx.QJx.AKTx.x J8x.T8.Q8xx.AKT8 1.00000',\n",
       " 'AJx.8xx.J9x.JT9x KT.KTx.Q8x.KQ8xx Qxxxx.QJx.AKTx.x 98x.A9xx.xxx.Axx 1.00000',\n",
       " 'AJ.T8xx.Q8x.A8xx KT8x.xx.9xx.KJ9x Qxxxx.QJx.AKTx.x 9x.AK9x.Jxx.QTxx 1.00000',\n",
       " 'A98x.8x.QJ9.KJxx x.K9xx.8xxx.QT8x Qxxxx.QJx.AKTx.x KJT.ATxx.xx.A9xx 1.00000',\n",
       " 'AK9x.8x.xx.Txxxx T8.KTxx.QJ9x.A98 Qxxxx.QJx.AKTx.x Jx.A9xx.8xx.KQJx 1.00000',\n",
       " 'AJTx.98x.Q9x.T9x Kx.Axx.Jxxx.Q8xx Qxxxx.QJx.AKTx.x 98.KTxx.8x.AKJxx 1.00000',\n",
       " 'T98x.AKx.Q9xx.Tx KJx.8xx.Jxx.AJ98 Qxxxx.QJx.AKTx.x A.T9xx.8x.KQxxxx 1.00000',\n",
       " 'AKJx.T8x.Jx.K8xx x.AKxx.Q98x.AQJT Qxxxx.QJx.AKTx.x T98.9xx.xxx.9xxx 1.00000',\n",
       " 'Jx.9xxx.J9x.9xxx A9x.Axx.8xx.AT8x Qxxxx.QJx.AKTx.x KT8.KT8.Qxx.KQJx 1.00000',\n",
       " 'Jx.AT9x.Jxx.AQ98 AK9x.8xx.x.KJxxx Qxxxx.QJx.AKTx.x T8.Kxx.Q98xx.Txx 1.00000',\n",
       " 'Ax.8xx.Qxx.AT8xx JT.AKxx.J8xx.J9x Qxxxx.QJx.AKTx.x K98x.T9x.9x.KQxx 1.00000',\n",
       " 'K98.9x.Qxxx.KQxx AJxx.T8xx.J9.T8x Qxxxx.QJx.AKTx.x T.AKxx.8xx.AJ9xx 1.00000',\n",
       " 'AJx.xx.Q98.AQJ9x K8.AT8xx.Jxx.KT8 Qxxxx.QJx.AKTx.x T9x.K9x.xxx.xxxx 1.00000',\n",
       " 'KJT98.A9x.J.J8xx x.Kxxx.Q9xxx.T9x Qxxxx.QJx.AKTx.x Ax.T8x.8xx.AKQxx 1.00000',\n",
       " 'A9x.ATx.xxx.Kxxx J8x.Kxx.Q98.T98x Qxxxx.QJx.AKTx.x KT.98xx.Jxx.AQJx 1.00000',\n",
       " 'AK9.T8xx.J8.KJ98 8x.Kxx.Qxx.Qxxxx Qxxxx.QJx.AKTx.x JTx.A9x.9xxx.ATx 1.00000',\n",
       " 'K8.K8x.9xx.KQJTx AJxx.9xx.xxx.98x Qxxxx.QJx.AKTx.x T9.ATxx.QJ8.Axxx 1.00000',\n",
       " 'KJTx.Ax.Q9.KJxxx 98.K98.Jxxx.AT9x Qxxxx.QJx.AKTx.x Ax.Txxxx.8xx.Q8x 1.00000',\n",
       " 'A98x.98.9xxx.KQT KT.Txxx.Q.AJ98xx Qxxxx.QJx.AKTx.x Jx.AKxx.J8xx.xxx 1.00000',\n",
       " 'Tx.ATxx.J9xx.QTx AKx.xx.Qxxx.A9xx Qxxxx.QJx.AKTx.x J98.K98x.8.KJ8xx 1.00000',\n",
       " 'Kx.AKTx.8xx.Jxxx AJ.8xxx.J9x.K8xx Qxxxx.QJx.AKTx.x T98x.9x.Qxx.AQT9 1.00000',\n",
       " 'KJT.T8x.J9x.AT8x 98.Kxxx.8xxx.K9x Qxxxx.QJx.AKTx.x Axx.A9x.Qx.QJxxx 1.00000',\n",
       " 'Jx.K9x.Q9xxx.A9x A8.A8xx.J8.KQJxx Qxxxx.QJx.AKTx.x KT9x.Txx.xx.T8xx 1.00000',\n",
       " 'ATx.K9xx.J8x.Kxx K8.AT8xx.9xx.J9x Qxxxx.QJx.AKTx.x J9x.x.Qxx.AQT8xx 1.00000',\n",
       " 'JTx.K98x.98x.xxx K8x.Txx.Qx.AKJxx Qxxxx.QJx.AKTx.x A9.Axx.Jxxx.QT98 1.00000',\n",
       " 'J9x.KT9x.xxx.A9x AKTx.xx.Jx.KJxxx Qxxxx.QJx.AKTx.x 8.A8xx.Q98x.QT8x 1.00000',\n",
       " 'J8x.Tx.Q8x.QT9xx Tx.AKxxx.Jx.AKJx Qxxxx.QJx.AKTx.x AK9.98x.9xxx.8xx 1.00000',\n",
       " 'AJT.A9xx.98xx.Tx K98.8xx.Jxx.KQJx Qxxxx.QJx.AKTx.x xx.KTx.Qx.A98xxx 1.00000',\n",
       " 'x.AT98x.Qxxx.ATx AKJx.xx.8x.8xxxx Qxxxx.QJx.AKTx.x T98.Kxx.J9x.KQJ9 1.00000',\n",
       " 'K9x.9xx.x.AKT9xx AJT.KT8xx.QJxx.x Qxxxx.QJx.AKTx.x 8x.Ax.98xx.QJ8xx 1.00000',\n",
       " 'K9.Txxx.8x.QJT9x Jx.AK9x.QJxx.Kxx Qxxxx.QJx.AKTx.x AT8x.8x.9xx.A8xx 1.00000',\n",
       " 'AKJT9.8.Q8x.AQ8x x.A9xxx.Jxx.Txxx Qxxxx.QJx.AKTx.x 8x.KTxx.9xx.KJ9x 1.00000',\n",
       " 'JT8.T8x.Jxx.AKxx K9x.A9xx.xxx.JT8 Qxxxx.QJx.AKTx.x Ax.Kxx.Q98.Q9xxx 1.00000',\n",
       " 'K8x.K8xx.xx.QJxx J9x.T9xx.Qx.A8xx Qxxxx.QJx.AKTx.x AT.Ax.J98xx.KT9x 1.00000',\n",
       " 'JT.KT8xx.Qx.AJTx A9xx.9xx.J8.K9xx Qxxxx.QJx.AKTx.x K8.Ax.9xxxx.Q8xx 1.00000',\n",
       " 'KT9.Kx.Q8x.A9xxx Jxx.A8xx.9xx.Qxx Qxxxx.QJx.AKTx.x A8.T9xx.Jxx.KJT8 1.00000',\n",
       " 'Jx.T8x.J98x.AJT8 K9.AKxx.Qxx.Q9xx Qxxxx.QJx.AKTx.x AT8x.9xx.xx.Kxxx 1.00000',\n",
       " 'T98xx.T8xx.J8x.A KJ.A9x.Qxx.QT8xx Qxxxx.QJx.AKTx.x A.Kxx.9xx.KJ9xxx 1.00000',\n",
       " 'AJ.98x.Qxx.JT9xx 98x.Kxx.98xx.AK8 Qxxxx.QJx.AKTx.x KTx.ATxx.Jx.Qxxx 1.00000',\n",
       " 'T9x.8x.Qxx.AKQxx AK8.9xxx.J9x.J8x Qxxxx.QJx.AKTx.x Jx.AKTx.8xx.T9xx 1.00000',\n",
       " 'A9.T9x.9xxx.QT9x 8xx.Kx.QJx.AJ8xx Qxxxx.QJx.AKTx.x KJT.A8xxx.8x.Kxx 1.00000',\n",
       " 'KJx.ATx.Q8xx.Q98 98.K8xx.9x.Axxxx Qxxxx.QJx.AKTx.x ATx.9xx.Jxx.KJTx 1.00000',\n",
       " 'Ax.98xx.QJ.AT8xx KJT9.Kx.xxx.QJxx Qxxxx.QJx.AKTx.x 8x.ATxx.98xx.K9x 1.00000',\n",
       " 'Ax.Kxx.QJxx.KJTx J8x.A8x.98xx.8xx Qxxxx.QJx.AKTx.x KT9.T9xx.x.AQ9xx 1.00000',\n",
       " 'Jxx.AK9x.98x.AJx KT.8x.Jxxx.T98xx Qxxxx.QJx.AKTx.x A98.Txxx.Qx.KQxx 1.00000',\n",
       " 'AKT8.xxxx.Qx.Kxx Jx.A9x.J8xx.QTxx Qxxxx.QJx.AKTx.x 9x.KT8.9xx.AJ98x 1.00000',\n",
       " 'A.ATxx.J8x.KQJxx KJx.K9.Q9xx.T9xx Qxxxx.QJx.AKTx.x T98x.8xxx.xx.A8x 1.00000',\n",
       " 'A8.8xxx.QJ9.AJxx Kxx.T9.xxx.K98xx Qxxxx.QJx.AKTx.x JT9.AKxx.8xx.QTx 1.00000',\n",
       " 'JT9.xx.J98.J8xxx 8x.AKT98.Qx.AQ9x Qxxxx.QJx.AKTx.x AKx.xxx.xxxx.KTx 1.00000',\n",
       " 'KTxx.Tx.9x.Q8xxx J8.AKxxx.J8xx.Ax Qxxxx.QJx.AKTx.x A9.98x.Qxx.KJT9x 1.00000',\n",
       " 'KT9.KTxx.9xx.AJx A8x.98x.Q8x.KTxx Qxxxx.QJx.AKTx.x Jx.Axx.Jxx.Q98xx 1.00000',\n",
       " 'KJ8.K8xx.Qxx.QJT A9x.Txxx.8x.K9xx Qxxxx.QJx.AKTx.x Tx.A9.J9xx.A8xxx 1.00000',\n",
       " 'KT9x.KTx.Jxx.J9x Ax.98xxx.Q8x.Qxx Qxxxx.QJx.AKTx.x J8.Ax.9xx.AKT8xx 1.00000',\n",
       " 'AKT8.Ax.8xx.9xxx 9x.8xxx.Qx.AKQ8x Qxxxx.QJx.AKTx.x Jx.KT9x.J9xx.JTx 1.00000',\n",
       " 'JTx.Kxx.Qxx.xxxx A9.AT9xx.98x.JT8 Qxxxx.QJx.AKTx.x K8x.8x.Jxx.AKQ9x 1.00000',\n",
       " 'AKx.T98xx.8x.T9x J8x.Kx.xx.AQJxxx Qxxxx.QJx.AKTx.x T9.Axx.QJ9xx.K8x 1.00000',\n",
       " 'KJ.T9xx.J8x.AQ8x A9xx.xx.Qxx.9xxx Qxxxx.QJx.AKTx.x T8.AK8x.9xx.KJTx 1.00000',\n",
       " '8.AK.J8xxx.A8xxx AKx.98xx.9x.KQJ9 Qxxxx.QJx.AKTx.x JT9x.Txxx.Qx.Txx 1.00000',\n",
       " '9x.ATxx.Jx.AJ9xx AT.Kxx.Q8xx.Q8xx Qxxxx.QJx.AKTx.x KJ8x.98x.9xx.KTx 1.00000',\n",
       " 'Ax.Tx.Q98x.KQJxx JT98.K98.xx.A9xx Qxxxx.QJx.AKTx.x Kx.Axxxx.Jxx.T8x 1.00000',\n",
       " 'KT.KT8.Jx.AQT9xx 8xx.9xxxx.Qxx.Jx Qxxxx.QJx.AKTx.x AJ9.Ax.98xx.K8xx 1.00000',\n",
       " 'T8x.T98xx.xx.K8x AJx.x.QJ9x.AT9xx Qxxxx.QJx.AKTx.x K9.AKxx.8xx.QJxx 1.00000',\n",
       " 'Kx.K9x.Q8x.AQ98x AJ9.Txxx.9xx.Jxx Qxxxx.QJx.AKTx.x T8x.A8x.Jxx.KTxx 1.00000',\n",
       " 'T98x.8xx.8xx.AQx KJ.Kxx.9xx.T98xx Qxxxx.QJx.AKTx.x Ax.AT9x.QJx.KJxx 1.00000',\n",
       " 'KTx.KTx.9xxx.Q9x J8x.Ax.8x.AK8xxx Qxxxx.QJx.AKTx.x A9.98xxx.QJx.JTx 1.00000',\n",
       " 'AKx.8xx.QJx.AKQ9 9x.K9.98xx.T8xxx Qxxxx.QJx.AKTx.x JT8.ATxxx.xx.Jxx 1.00000',\n",
       " 'AK9x.9.8xx.QT8xx T8x.K8xxx.QJxx.K Qxxxx.QJx.AKTx.x J.ATxx.9x.AJ9xxx 1.00000',\n",
       " 'KJT9x.T9x.x.QT9x 8x.Kxx.Q9xx.AK8x Qxxxx.QJx.AKTx.x A.A8xx.J8xx.Jxxx 1.00000',\n",
       " '98xx.KT.xxx.AKTx AJ.xxxxx.Q9x.J9x Qxxxx.QJx.AKTx.x KT.A98.J8x.Q8xxx 1.00000',\n",
       " 'AKx.K9x.98x.T8xx 98x.ATxx.Qxx.Qxx Qxxxx.QJx.AKTx.x JT.8xx.Jxx.AKJ9x 1.00000',\n",
       " 'T8x.Ax.Q9xx.AQxx K9x.K8x.8xx.K9xx Qxxxx.QJx.AKTx.x AJ.T9xxx.Jx.JT8x 1.00000',\n",
       " 'Tx.KT8x.98x.KQT9 AK9x.9x.Qx.A8xxx Qxxxx.QJx.AKTx.x J8.Axxx.Jxxx.Jxx 1.00000',\n",
       " 'ATx.Kx.98xxx.Q8x J.T98xx.Jxx.AJTx Qxxxx.QJx.AKTx.x K98x.Axx.Q.K9xxx 1.00000',\n",
       " 'JTx.K8xx.8.AJ98x A9x.Txx.J9x.Qxxx Qxxxx.QJx.AKTx.x K8.A9x.Qxxxx.KTx 1.00000',\n",
       " 'AK8.KT9x.8xx.9xx Tx.Ax.9xxx.QJxxx Qxxxx.QJx.AKTx.x J9x.8xxx.QJ.AKT8 1.00000',\n",
       " 'AT9x.KT.J98.Kxxx K.A8xx.xxx.QJT9x Qxxxx.QJx.AKTx.x J8x.9xxx.Qxx.A8x 1.00000',\n",
       " 'Jxx.T9x.xxx.KJxx KT9.K8x.Q98x.A98 Qxxxx.QJx.AKTx.x A8.Axxx.Jx.QTxxx 1.00000',\n",
       " 'AKJTx.8x.8x.KQxx 8x.AKT9x.xx.J8xx Qxxxx.QJx.AKTx.x 9.xxx.QJ9xx.AT9x 1.00000',\n",
       " 'KJ.ATxxx.Jxx.JTx T8x.98.Q98x.KQ8x Qxxxx.QJx.AKTx.x A9x.Kxx.xx.A9xxx 1.00000',\n",
       " 'J9x.8xxx.Jxx.Kxx T8.KT9x.Qxxx.Axx Qxxxx.QJx.AKTx.x AKx.Ax.98.QJT98x 1.00000',\n",
       " 'AJ8x.A8xx.8xx.Ax 9x.K9x.QJ9.KT98x Qxxxx.QJx.AKTx.x KT.Txx.xxx.QJxxx 1.00000',\n",
       " 'KT8x.8x.Jxxx.Axx AJ9.9xxx.98.KQJx Qxxxx.QJx.AKTx.x x.AKTx.Qxx.T98xx 1.00000',\n",
       " 'Axx.T98x.Qx.AKxx JT.AKxx.9xx.QJ98 Qxxxx.QJx.AKTx.x K98.xx.J8xx.Txxx 1.00000',\n",
       " 'AJ9x.KT8.9x.Txxx T8x.A9x.J8x.AJ9x Qxxxx.QJx.AKTx.x K.xxxx.Qxxx.KQ8x 1.00000',\n",
       " 'K98.9xx.xxx.AKT9 AJxx.A8x.J8x.Qxx Qxxxx.QJx.AKTx.x T.KTxx.Q9x.J8xxx 1.00000',\n",
       " 'J8x.T8x.Qxx.AKJx KTx.Kxxx.8xx.T8x Qxxxx.QJx.AKTx.x A9.A9x.J9x.Q9xxx 1.00000',\n",
       " 'K9x.A98x.Qxx.KT8 Ax.Tx.J8xx.A9xxx Qxxxx.QJx.AKTx.x JT8.Kxxx.9x.QJxx 1.00000',\n",
       " 'J8.xxx.QJx.K8xxx T9x.Kxx.8xx.AJT9 Qxxxx.QJx.AKTx.x AKx.AT98.9xx.Qxx 1.00000',\n",
       " 'xx.KT8xx.9xx.AJx KT98.xx.QJx.Qxxx Qxxxx.QJx.AKTx.x AJ.A9x.8xx.KT98x 1.00000']"
      ]
     },
     "execution_count": 3,
     "metadata": {},
     "output_type": "execute_result"
    }
   ],
   "source": [
    "bid.samples"
   ]
  },
  {
   "cell_type": "code",
   "execution_count": 4,
   "id": "bfe98f56",
   "metadata": {},
   "outputs": [
    {
     "data": {
      "text/plain": [
       "[{'call': '3C', 'insta_score': 0.926}]"
      ]
     },
     "execution_count": 4,
     "metadata": {},
     "output_type": "execute_result"
    }
   ],
   "source": [
    "auction = [\"PAD_START\", \"PAD_START\", \"1S\", \"PASS\", \"2N\",\"PASS\"]\n",
    "bid = bot_bid.bid(auction)\n",
    "\n",
    "bid.to_dict()['candidates']"
   ]
  },
  {
   "cell_type": "code",
   "execution_count": 5,
   "id": "55b647a5",
   "metadata": {},
   "outputs": [
    {
     "data": {
      "text/plain": [
       "['AJ9xx.AKx.J.AQxx KT.9x.Qxxx.KJT98 Qxxxx.QJx.AKTx.x 8.T8xxx.98xx.xxx 0.99038',\n",
       " 'AJ98x.Axx.Qx.A98 KT.9xxx.8xx.QJxx Qxxxx.QJx.AKTx.x x.KT8.J9xx.KTxxx 0.99956',\n",
       " 'KJ9x.AK9x.9x.Kxx Tx.xx.QJ8x.JT8xx Qxxxx.QJx.AKTx.x A8.T8xx.xxx.AQ9x 0.99975',\n",
       " 'AJT8x.9x.J.AK8xx K.AKTxx.xxx.QJ9x Qxxxx.QJx.AKTx.x 9x.8xx.Q98xx.Txx 0.99353',\n",
       " 'AK9x.ATx.J9x.QT9 T.Kxx.Q8xxx.Jxxx Qxxxx.QJx.AKTx.x J8x.98xx.x.AK8xx 0.99977',\n",
       " 'AKJTx.Axx.J8x.Ax 8x.Kxxx.Q.QT98xx Qxxxx.QJx.AKTx.x 9.T98.9xxxx.KJxx 0.99910',\n",
       " 'AK8xx.Kxxx.x.KJx .T9x.Q9xxx.AQTxx Qxxxx.QJx.AKTx.x JT9.A8x.J8x.98xx 0.99050',\n",
       " 'AKJ8.8xxx.x.A9xx 9x.KT.98xxx.KQTx Qxxxx.QJx.AKTx.x Tx.A9xx.QJx.J8xx 0.99597',\n",
       " 'AKJ8x.K.J9x.KQTx .A8x.Q8xxx.J98xx Qxxxx.QJx.AKTx.x T9x.T9xxxx.x.Axx 0.99642',\n",
       " 'AKT9.AT9x.8x.KTx x.K8xx.QJ9x.J8xx Qxxxx.QJx.AKTx.x J8x.xx.xxx.AQ9xx 0.99977',\n",
       " 'AJ98.Kx.J9x.AKxx Txx.AT8x.8xx.QT9 Qxxxx.QJx.AKTx.x K.9xxx.Qxx.J8xxx 0.99974',\n",
       " 'KJTx.T9.Qx.AKQ9x 98x.AKx.9xx.Jxxx Qxxxx.QJx.AKTx.x A.8xxxx.J8xx.T8x 0.99948',\n",
       " 'AT9x.Axx.9.AT9xx Kx.KT9x.Qxxx.Q8x Qxxxx.QJx.AKTx.x J8.8xx.J8xx.KJxx 0.99646',\n",
       " 'KT98x.xx.Qx.AKJT x.A98.J9xxx.Qxxx Qxxxx.QJx.AKTx.x AJ.KTxxx.8x.98xx 0.99949',\n",
       " 'AKJ9x.K8x.Q9.KJT 8x.T9x.8xx.Q98xx Qxxxx.QJx.AKTx.x T.Axxx.Jxxx.Axxx 0.99920',\n",
       " 'AK98.AKx.xxxx.Jx x.Txxx.QJ9.A98xx Qxxxx.QJx.AKTx.x JTx.98x.8x.KQTxx 0.99971',\n",
       " 'AK9x.Tx.9xx.AK8x J.xx.Q8xxx.QJ9xx Qxxxx.QJx.AKTx.x T8x.AK98xx.J.Txx 0.99943',\n",
       " 'AKJ9x.ATx.QJx.xx T8x.Kxx.9x.KQ8xx Qxxxx.QJx.AKTx.x .98xx.8xxx.AJT9x 0.99952',\n",
       " 'AKTx.Ax.xxxx.Kxx J.98xx.Q98.AJT9x Qxxxx.QJx.AKTx.x 98x.KTxx.Jx.Q8xx 0.99960',\n",
       " 'AKJT8.Ax.Qx.9xxx xx.xxxx.9xxx.AK8 Qxxxx.QJx.AKTx.x 9.KT98.J8x.QJTxx 0.99956',\n",
       " 'AKJT8x.A8x.8xx.K .Kxxxx.Q9.T98xxx Qxxxx.QJx.AKTx.x 9x.T9.Jxxx.AQJxx 0.99297',\n",
       " 'AKJTxx.KT9.9xx.A 8.A8x.8xx.QT8xxx Qxxxx.QJx.AKTx.x 9.xxxx.QJx.KJ9xx 0.99716',\n",
       " 'KJTx.Ax.98xx.AQx A8.8xxxx.Jxx.Kxx Qxxxx.QJx.AKTx.x 9x.KT9.Qx.JT98xx 0.99958',\n",
       " 'KT8xx.AKx.Jxx.QT 9.T8xx.8xx.KJxxx Qxxxx.QJx.AKTx.x AJ.9xx.Q9x.A98xx 0.99902',\n",
       " 'AT9x.ATxx..KQxxx J.K9x.Q9xxxx.AJx Qxxxx.QJx.AKTx.x K8x.8xx.J8x.T98x 0.99493',\n",
       " 'AJ9x.AK8.98.ATxx T8.9xxx.Jxxx.Q9x Qxxxx.QJx.AKTx.x Kx.Txx.Qxx.KJ8xx 0.99977',\n",
       " 'ATxx.K9.Q9.AKxxx J.Axxx.J8xx.T8xx Qxxxx.QJx.AKTx.x K98.T8xx.xxx.QJ9 0.99930',\n",
       " 'AKT8.Tx.8x.AKJT8 J9x.A8xx.9xx.9xx Qxxxx.QJx.AKTx.x x.K9xx.QJxx.Qxxx 0.99942',\n",
       " 'AKT9.K8xx.x.QJxx 8xx.Tx.QJ8x.KTxx Qxxxx.QJx.AKTx.x J.A9xx.9xxx.A98x 0.99582',\n",
       " 'AJ9x.Kxx.Q9x.KQx Tx.A9x.xxx.AT98x Qxxxx.QJx.AKTx.x K8.T8xx.J8x.Jxxx 0.99958',\n",
       " 'KJT98.A9.J.AJT9x A.T8xxxx.8xx.xxx Qxxxx.QJx.AKTx.x xx.Kx.Q9xxx.KQ8x 0.99344',\n",
       " 'AKTxx.Kx.Q8xx.JT J9.9xx.9x.AKQ9xx Qxxxx.QJx.AKTx.x 8.AT8xx.Jxx.8xxx 0.99453',\n",
       " 'AT9x.Tx.Jx.AKTxx .A98xx.Qxxx.8xxx Qxxxx.QJx.AKTx.x KJ8x.Kxx.98x.QJ9 0.99941',\n",
       " 'KJTx.9x.QJx.KQTx Ax.ATxx.xx.J8xxx Qxxxx.QJx.AKTx.x 98.K8xx.98xx.A9x 0.99903',\n",
       " 'ATxx.AKT8.Jx.AJx J9.xxx.Q98x.K9xx Qxxxx.QJx.AKTx.x K8.9xx.xxx.QT8xx 0.99960',\n",
       " 'AKTx.T8x.8x.AKxx J8.9xx.QJxxx.J8x Qxxxx.QJx.AKTx.x 9x.AKxx.9x.QT9xx 0.99980',\n",
       " 'AJT9xx.8x.9x.AKx K8.K9x.Q8xx.Q98x Qxxxx.QJx.AKTx.x .ATxxx.Jxx.JTxxx 0.98700',\n",
       " 'AK8xx.A.Jx.KQ8xx T.KT9xxx.98.JTxx Qxxxx.QJx.AKTx.x J9.8xx.Qxxxx.A9x 0.99447',\n",
       " 'AJ9x.Kxx.Qxx.KJ9 Tx.Axxx.Jxx.Txxx Qxxxx.QJx.AKTx.x K8.T98.98x.AQ8xx 0.99976',\n",
       " 'KT8x.K98.QJ9.K9x J9.Tx.8xx.AQT8xx Qxxxx.QJx.AKTx.x Ax.Axxxx.xxx.Jxx 0.99919',\n",
       " 'KTxx.AKx.QJx.Axx A9.98x.8xxx.JT9x Qxxxx.QJx.AKTx.x J8.Txxx.9x.KQ8xx 0.99965',\n",
       " 'AKTx.Kx.J9xx.Qxx 98.98x.Qxx.A98xx Qxxxx.QJx.AKTx.x Jx.ATxxx.8x.KJTx 0.99940',\n",
       " 'A8xx.Ax.8xx.ATxx KT.8xxxx.9x.K8xx Qxxxx.QJx.AKTx.x J9.KT9.QJxx.QJ9x 0.99942',\n",
       " 'AT98x.Axx.x.AT98 Jx.Kxx.J98x.xxxx Qxxxx.QJx.AKTx.x K.T98x.Qxxx.KQJx 0.99295',\n",
       " 'AKJTx.AT.98.J98x 8x.xxxx.xx.ATxxx Qxxxx.QJx.AKTx.x 9.K98x.QJxxx.KQx 0.99121',\n",
       " 'A9xx.Axx.x.A98xx 8.K9xx.QJ8x.QJxx Qxxxx.QJx.AKTx.x KJT.T8x.9xxx.KTx 0.99643',\n",
       " 'AKTxx.AK.xxx.T9x 9.T9xx.Jx.QJ8xxx Qxxxx.QJx.AKTx.x J8.8xxx.Q98x.AKx 0.99948',\n",
       " 'AKT8.Kxxx.Jx.A9x 9x.AT8.98xx.Jxxx Qxxxx.QJx.AKTx.x Jx.9xx.Qxx.KQT8x 0.99975',\n",
       " 'AKJ8.9xxx.9xx.AJ T9x.ATx.xx.KT98x Qxxxx.QJx.AKTx.x x.K8x.QJ8x.Qxxxx 0.99972',\n",
       " 'KTxx.A8x.xx.AQ9x AJ.Txxx.Qxx.JTxx Qxxxx.QJx.AKTx.x 98.K9x.J98x.K8xx 0.99975',\n",
       " 'AKJT8.9.Jxx.KQxx x.KTxx.8xxx.AT8x Qxxxx.QJx.AKTx.x 9x.A8xxx.Q9.J9xx 0.99716',\n",
       " 'AT9x.AK.Qx.KQJxx J8.T8x.98xx.AT98 Qxxxx.QJx.AKTx.x Kx.9xxxx.Jxx.xxx 0.99877',\n",
       " 'KJ9x.AK9x.J9.KQx A8.8xx.8xxxx.J9x Qxxxx.QJx.AKTx.x Tx.Txx.Qx.AT8xxx 0.99964',\n",
       " 'AKTx.T9x.Qxx.Kxx 8.A8xxx.8xx.AQxx Qxxxx.QJx.AKTx.x J9x.Kx.J9x.JT98x 0.99765',\n",
       " 'AK8xx.AKx.Q8.Kxx J.T9xx.J9xxx.QJT Qxxxx.QJx.AKTx.x T9.8xx.xx.A98xxx 0.99893',\n",
       " 'AKJTx.A.J8x.KTxx 8.K8xxx.9xx.A8xx Qxxxx.QJx.AKTx.x 9x.T9xx.Qxx.QJ9x 0.99675',\n",
       " 'KT9x.Kxx.QJx.Kxx J8.AT8xx.8x.AQxx Qxxxx.QJx.AKTx.x Ax.9x.9xxx.JT98x 0.99816',\n",
       " 'AJ98x.AKx.Jx.KJx KT.T8x.98xx.AT9x Qxxxx.QJx.AKTx.x x.9xxx.Qxx.Q8xxx 0.99931',\n",
       " 'AKT9x.KTxx.QJ.8x x.Axx.8xx.KQJ9xx Qxxxx.QJx.AKTx.x J8.98x.9xxx.ATxx 0.99229',\n",
       " 'K98xx.Axx.x.AJxx A.8xx.Q98x.T98xx Qxxxx.QJx.AKTx.x JT.KT9x.Jxxx.KQx 0.99356',\n",
       " 'AJ9x.KT.Q9.AKxxx K.A98xx.8xxx.98x Qxxxx.QJx.AKTx.x T8x.xxx.Jxx.QJTx 0.99919',\n",
       " 'AKT9.Kx.98x.KT9x J8.A98x.Qxx.J8xx Qxxxx.QJx.AKTx.x xx.Txxx.Jxx.AQxx 0.99972',\n",
       " 'AKT98.ATx.Jx.A9x J.K9x.Q98x.KQJ8x Qxxxx.QJx.AKTx.x xx.8xxx.xxx.Txxx 0.99753',\n",
       " 'AJT9x.Kx.Qxx.AT9 8.A9xx.8xx.QJ8xx Qxxxx.QJx.AKTx.x Kx.T8xx.J9x.Kxxx 0.99954',\n",
       " 'AK9x.ATx.8xxx.Jx Tx.K98xx.Jx.QT9x Qxxxx.QJx.AKTx.x J8.xx.Q9x.AK8xxx 0.99757',\n",
       " 'AKT9.KTx.Q.JT9xx .A98x.J98xxx.Axx Qxxxx.QJx.AKTx.x J8xx.xxx.xx.KQ8x 0.99824',\n",
       " 'KT8x.xx.Qx.AKJxx J9.K9xx.J9xx.9xx Qxxxx.QJx.AKTx.x Ax.AT8x.8xx.QT8x 0.99960',\n",
       " 'AKTx.A8xx.8xx.AJ x.T9.QJxx.KQ8xxx Qxxxx.QJx.AKTx.x J98.Kxxx.9x.T9xx 0.99848',\n",
       " 'AKTx.ATx.9xx.KQJ 8.K8xx.QJ8x.8xxx Qxxxx.QJx.AKTx.x J9x.9xx.xx.AT9xx 0.99969',\n",
       " 'AKTx.AK8x.Q9.KQ8 J9x.xxxx.xxx.J9x Qxxxx.QJx.AKTx.x 8.T9.J8xx.ATxxxx 0.99924',\n",
       " 'AKJx.A8x.J98.KQJ T8x.T9xx.xxx.xxx Qxxxx.QJx.AKTx.x 9.Kxx.Qxx.AT98xx 0.99728',\n",
       " 'AJ98x.AKx.Q8.8xx x.8xx.J9xx.AKQJx Qxxxx.QJx.AKTx.x KT.T9xx.xxx.T9xx 0.99936',\n",
       " 'AT98.K9.Jxx.KJxx KJ.Axxxx.Q9x.T98 Qxxxx.QJx.AKTx.x xx.T8x.8xx.AQxxx 0.99925',\n",
       " 'AJ9x.AKx.Q8x.QJx Kx.8xxx.9xx.K8xx Qxxxx.QJx.AKTx.x T8.T9x.Jxx.AT9xx 0.99969',\n",
       " 'AKT8x.KT9x.x.Kxx Jx.8x.Q8xx.AJTxx Qxxxx.QJx.AKTx.x 9.Axxx.J9xx.Q98x 0.98911',\n",
       " 'AKTx.KTx.x.AKT8x 98.8xxx.98x.Q9xx Qxxxx.QJx.AKTx.x Jx.A9x.QJxxx.Jxx 0.99631',\n",
       " 'AJ8x.KTx.xxx.KJT T9.xxx.QJxx.AQxx Qxxxx.QJx.AKTx.x Kx.A98x.98.98xxx 0.99942',\n",
       " 'AKT8.K.98x.A98xx Jxx.A8xxx.QJ.Qxx Qxxxx.QJx.AKTx.x 9.T9xx.xxxx.KJTx 0.99551',\n",
       " 'AK9x.K8xx.Q8x.Tx JTx.ATx.9x.AQJ8x Qxxxx.QJx.AKTx.x 8.9xx.Jxxx.K9xxx 0.99718',\n",
       " 'AKJxx.Axx.9xx.Kx T8.KT98x.8x.AQJx Qxxxx.QJx.AKTx.x 9.xx.QJxx.T98xxx 0.99862',\n",
       " 'AKTxx.A98.Qx.xxx J8.KT.98x.AJT98x Qxxxx.QJx.AKTx.x 9.xxxxx.Jxxx.KQx 0.99702',\n",
       " 'AK98x.Tx.Qx.KQTx T.A8xxxx.Jxx.9xx Qxxxx.QJx.AKTx.x Jx.K9.98xx.AJ8xx 0.99952',\n",
       " 'AKT8x.xx.Qxx.Axx x.A9xxx.J98x.QT8 Qxxxx.QJx.AKTx.x J9.KT8.xx.KJ9xxx 0.99948',\n",
       " 'AKxx.AKx..JT98xx T.T8x.98xxxx.AQx Qxxxx.QJx.AKTx.x J98.9xxx.QJx.Kxx 0.99215',\n",
       " 'AKJT9.xxx.xx.Axx 8x.A8xx.QJ9.QJxx Qxxxx.QJx.AKTx.x x.KT9.8xxx.KT98x 0.99919',\n",
       " 'KJT8x.A.Q.AKT8xx A.9xxxx.98xx.xxx Qxxxx.QJx.AKTx.x 9x.KT8x.Jxxx.QJ9 0.98864',\n",
       " 'AKJ8.AT9.9.A98xx Tx.8xxx.xxxx.KQT Qxxxx.QJx.AKTx.x 9x.Kxx.QJ8x.Jxxx 0.99636',\n",
       " 'KJTxx.AKx.9xx.K9 A8.8x.QJxx.AQ8xx Qxxxx.QJx.AKTx.x 9.T9xxx.8x.JTxxx 0.99702',\n",
       " 'AK9xx.x.J98x.Axx T8.A98xx.Qx.J98x Qxxxx.QJx.AKTx.x J.KTxx.xxx.KQTxx 0.99489',\n",
       " 'AJTx.Kxx.xxx.AKx 8x.AT8xx.Jx.JT9x Qxxxx.QJx.AKTx.x K9.9x.Q98x.Q8xxx 0.99976',\n",
       " 'AKT9x.Axx.Jx.ATx J8.KT8x.xxx.J8xx Qxxxx.QJx.AKTx.x x.9xx.Q98x.KQ9xx 0.99942',\n",
       " 'AT9x.AKxx.98.KQ8 Kx.98xx.Qx.AJT9x Qxxxx.QJx.AKTx.x J8.Tx.Jxxxx.xxxx 0.99946',\n",
       " 'AT9x.Ax.8xx.ATxx K.Txxxx.J9xx.KJx Qxxxx.QJx.AKTx.x J8x.K98.Qx.Q98xx 0.99945',\n",
       " 'AKTx.Txx.xx.AJ8x 9.AK98x.QJ8x.Txx Qxxxx.QJx.AKTx.x J8x.xx.9xx.KQ9xx 0.99653',\n",
       " 'AT9xx.KTx.Jxx.AK J.A8xxx.Qxx.J9xx Qxxxx.QJx.AKTx.x K8.9x.98x.QT8xxx 0.99956',\n",
       " 'AK98xx.AKx.Jx.J8 T.T9x.Q9xx.Axxxx Qxxxx.QJx.AKTx.x J.8xxx.8xx.KQT9x 0.99884',\n",
       " 'AKJT98.Kx.xxx.Jx .9xx.QJ98.KQ98xx Qxxxx.QJx.AKTx.x xx.AT8xx.xx.ATxx 0.99806',\n",
       " 'AKJT.T9x.Qxxx.Qx 98x.Axx.98.KT98x Qxxxx.QJx.AKTx.x x.K8xx.Jxx.AJxxx 0.99844',\n",
       " 'AKxx.Kxx.x.KQJ9x 9.T8x.J98xx.ATxx Qxxxx.QJx.AKTx.x JT8.A9xx.Qxx.8xx 0.99647',\n",
       " 'KJT9.K8x.QJx.Axx Ax.Txxx.9xx.KJT9 Qxxxx.QJx.AKTx.x 8x.A9x.8xx.Q8xxx 0.99972',\n",
       " 'AJTx.AK9.Q98.xxx x.xxxx.Jxx.AKQJx Qxxxx.QJx.AKTx.x K98.T8x.xxx.T98x 0.99886',\n",
       " 'AKJ9x.Kx.Q8x.T98 Tx.A98xx.Jxx.Jxx Qxxxx.QJx.AKTx.x 8.Txx.9xx.AKQxxx 0.99470',\n",
       " 'AT98.A9x.Jxx.KQx Jx.T8xx.xxx.AJTx Qxxxx.QJx.AKTx.x Kx.Kxx.Q98.98xxx 0.99977',\n",
       " 'AKJTxx.xx.Qx.AJx 98.A9x.98xx.K8xx Qxxxx.QJx.AKTx.x .KT8xx.Jxx.QT9xx 0.96238',\n",
       " 'AK98x.98x.8x.AKx T.AKxx.9xx.T9xxx Qxxxx.QJx.AKTx.x Jx.Txx.QJxx.QJ8x 0.99953',\n",
       " 'AKT9.Kx.J8x.Axxx Jx.T98xx.9x.QJT9 Qxxxx.QJx.AKTx.x 8x.Axx.Qxxx.K8xx 0.99978',\n",
       " 'KJ9xx.AK9x.J.JTx T8.T8xx.Q8xx.Axx Qxxxx.QJx.AKTx.x A.xx.9xxx.KQ98xx 0.99330',\n",
       " 'K8xx.AKx.9xx.AQx T9.8xxx.8xx.KJ8x Qxxxx.QJx.AKTx.x AJ.T9x.QJx.T9xxx 0.99977',\n",
       " 'AKT98x.AKT.x.AJx J.8x.8xxx.Q98xxx Qxxxx.QJx.AKTx.x x.9xxxx.QJ9x.KTx 0.96669',\n",
       " 'AKJ8x.AKxx.Q8.Tx T9.Txx.9xxx.A8xx Qxxxx.QJx.AKTx.x x.98x.Jxx.KQJ9xx 0.99903',\n",
       " 'AKJx.9xx.9x.AK8x 98x.Kxx.QJxx.9xx Qxxxx.QJx.AKTx.x T.AT8x.8xx.QJTxx 0.99979',\n",
       " 'AKJx.AK9x.Q8x.Jx 9x.T8x.xx.KT8xxx Qxxxx.QJx.AKTx.x T8.xxx.J9xx.AQ9x 0.99956',\n",
       " 'AJT8.KT9.Qxx.QJx 9x.Axx.98xx.KTxx Qxxxx.QJx.AKTx.x Kx.8xxx.Jx.A98xx 0.99974',\n",
       " 'AT98.ATxx.J8.K98 J.98xx.9xx.AQJxx Qxxxx.QJx.AKTx.x Kxx.Kx.Qxxx.Txxx 0.99948',\n",
       " 'K98xx.Kx.Qx.AQ9x T.8xxx.98xxx.Kxx Qxxxx.QJx.AKTx.x AJ.AT9x.Jx.JT8xx 0.99960',\n",
       " 'AJT98.K.8xx.AQ9x x.98xxx.Qxxx.Kxx Qxxxx.QJx.AKTx.x Kx.ATxx.J9.JT8xx 0.99675',\n",
       " 'AJT8x.A9xx.9x.K9 9.T8xx.Q8xx.A8xx Qxxxx.QJx.AKTx.x Kx.Kx.Jxx.QJTxxx 0.99579',\n",
       " 'AKJT8.Ax.xx.J9xx xx.8xxx.Q98x.A8x Qxxxx.QJx.AKTx.x 9.KT9x.Jxx.KQTxx 0.99944',\n",
       " 'AKT8x.xx.x.AKTxx 9x.AT8x.Qxxx.Q98 Qxxxx.QJx.AKTx.x J.K9xx.J98x.Jxxx 0.99143',\n",
       " 'AJTx.AKT8.Jxx.AK K.xx.98xx.JT8xxx Qxxxx.QJx.AKTx.x 98x.9xxx.Qx.Q9xx 0.99944',\n",
       " 'AKT9x.A8.Qx.QJTx J8.KTxx.J9xx.Kxx Qxxxx.QJx.AKTx.x x.9xxx.8xx.A98xx 0.99946',\n",
       " 'AK8x.KTxx.J9.K8x x.A98xx.xxx.J9xx Qxxxx.QJx.AKTx.x JT9.x.Q8xx.AQTxx 0.99966',\n",
       " 'AK98.xx.QJ8x.Axx Tx.AT8x.xx.KQ8xx Qxxxx.QJx.AKTx.x Jx.K9xx.9xx.JT9x 0.99919',\n",
       " 'K9xx.A8x.Qx.KJ8x JT.Kxx.98x.Q9xxx Qxxxx.QJx.AKTx.x A8.T9xx.Jxxx.ATx 0.99972',\n",
       " 'AKT8.KT8.QJxxx.A 9xx.A9xx.9.KJ98x Qxxxx.QJx.AKTx.x J.xxx.8xx.QTxxxx 0.99880',\n",
       " 'AKT8.Kxx.x.Q98xx 9x.Axx.Jxxx.AJTx Qxxxx.QJx.AKTx.x Jx.T98x.Q98x.Kxx 0.99653',\n",
       " 'AKJ9xx.xx.9x.AKx .KT9x.J8xx.T98xx Qxxxx.QJx.AKTx.x T8.A8xx.Qxx.QJxx 0.99904',\n",
       " 'KJT98x.AK.xx.AT8 A.T9xx.xx.QJ9xxx Qxxxx.QJx.AKTx.x x.8xxx.QJ98x.Kxx 0.99828']"
      ]
     },
     "execution_count": 5,
     "metadata": {},
     "output_type": "execute_result"
    }
   ],
   "source": [
    "bid.samples"
   ]
  },
  {
   "cell_type": "code",
   "execution_count": 6,
   "id": "7101e514",
   "metadata": {},
   "outputs": [
    {
     "data": {
      "text/plain": [
       "[{'call': '4S', 'insta_score': 0.814, 'expected_score': 377, 'adjustment': 41},\n",
       " {'call': '3S', 'insta_score': 0.099, 'expected_score': 377, 'adjustment': 5}]"
      ]
     },
     "execution_count": 6,
     "metadata": {},
     "output_type": "execute_result"
    }
   ],
   "source": [
    "auction = [\"PAD_START\", \"PAD_START\", \"1S\", \"PASS\", \"2N\", \"PASS\",\"3C\",\"X\",\"PASS\",\"PASS\"]\n",
    "bid = bot_bid.bid(auction)\n",
    "\n",
    "bid.to_dict()['candidates']"
   ]
  },
  {
   "cell_type": "code",
   "execution_count": 7,
   "metadata": {},
   "outputs": [
    {
     "data": {
      "text/plain": [
       "['98xx.A8xx.xx.AKJ AT.T9xx.Q8xx.xxx Qxxxx.QJx.AKTx.x KJ.Kx.J9x.QT98xx 0.56009 \\n 1S-P-2N-P-3C-X-P-P-4S-P-P-P (10.0)  \\n 1S-P-2N-P-3C-X-P-P-3S-P-4S-P-P-P (10.0) ',\n",
       " 'T98x.Kxx.Qxx.AKx AJ.98xx.Jxx.JTxx Qxxxx.QJx.AKTx.x Kx.ATx.98x.Q98xx 0.52951 \\n 1S-P-2N-P-3C-X-P-P-4S-P-P-P (9.9)  \\n 1S-P-2N-P-3C-X-P-P-3S-P-4S-P-P-P (9.9) ',\n",
       " 'J9xx.KT.J9x.AKT8 AK.9xxx.8xxx.xxx Qxxxx.QJx.AKTx.x T8.A8xx.Qx.QJ9xx 0.52425 \\n 1S-P-2N-P-3C-X-P-P-4S-P-P-P (10.0)  \\n 1S-P-2N-P-3C-X-P-P-3S-P-4S-P-P-P (10.0) ',\n",
       " 'K98x.Tx.Q8x.AKT8 J.K98x.J9xxx.J9x Qxxxx.QJx.AKTx.x ATx.Axxx.x.Qxxxx 0.50834 \\n 1S-P-2N-P-3C-X-P-P-4S-P-P-P (9.4)  \\n 1S-P-2N-P-3C-X-P-P-3S-P-4S-P-P-P (9.4) ',\n",
       " 'K8xx.A9x.J98.ATx AJT.8xx.xxx.J98x Qxxxx.QJx.AKTx.x 9.KTxx.Qxx.KQxxx 0.49379 \\n 1S-P-2N-P-3C-X-P-P-4S-P-P-P (10.7)  \\n 1S-P-2N-P-3C-X-P-P-3S-P-4S-P-P-P (10.7) ',\n",
       " 'AK8x.Kx.Q9x.Txxx JT9.A98xx.xx.J8x Qxxxx.QJx.AKTx.x x.Txx.J8xx.AKQ9x 0.47587 \\n 1S-P-2N-P-3C-X-P-P-4S-P-P-P (10.6)  \\n 1S-P-2N-P-3C-X-P-P-3S-P-4S-P-P-P (10.6) ',\n",
       " 'AJ9x.AT.Q8x.JTxx T.Kxxxx.xxxx.K8x Qxxxx.QJx.AKTx.x K8x.98x.J9.AQ9xx 0.47526 \\n 1S-P-2N-P-3C-X-P-P-4S-P-P-P (11.2)  \\n 1S-P-2N-P-3C-X-P-P-3S-P-4S-P-P-P (11.2) ',\n",
       " 'AK9x.Txx.Q9x.KTx T8.9xxx.8xx.A8xx Qxxxx.QJx.AKTx.x Jx.AK8.Jxx.QJ9xx 0.47460 \\n 1S-P-2N-P-3C-X-P-P-4S-P-P-P (10.0)  \\n 1S-P-2N-P-3C-X-P-P-3S-P-4S-P-P-P (10.0) ',\n",
       " 'J9xx.AK9x.Q8.QTx K8.T8xxx.xx.AJ9x Qxxxx.QJx.AKTx.x AT.x.J9xxx.K8xxx 0.47415 \\n 1S-P-2N-P-3C-X-P-P-4S-P-P-P (9.4)  \\n 1S-P-2N-P-3C-X-P-P-3S-P-4S-P-P-P (9.4) ',\n",
       " 'KJ9x.A8x.xxx.KJx T8x.T9xx.Q9.A9xx Qxxxx.QJx.AKTx.x A.Kxx.J8xx.QT8xx 0.47401 \\n 1S-P-2N-P-3C-X-P-P-4S-P-P-P (10.2)  \\n 1S-P-2N-P-3C-X-P-P-3S-P-4S-P-P-P (10.2) ',\n",
       " 'K98x.A9x.Q9.K9xx AT.8xxx.J8xx.J8x Qxxxx.QJx.AKTx.x Jx.KTx.xxx.AQTxx 0.47356 \\n 1S-P-2N-P-3C-X-P-P-4S-P-P-P (10.7)  \\n 1S-P-2N-P-3C-X-P-P-3S-P-4S-P-P-P (10.7) ',\n",
       " 'AKT9.T98x.Qx.KTx 8x.xx.J98xx.AJ8x Qxxxx.QJx.AKTx.x Jx.AKxx.xx.Q9xxx 0.46999 \\n 1S-P-2N-P-3C-X-P-P-4S-P-P-P (9.8)  \\n 1S-P-2N-P-3C-X-P-P-3S-P-4S-P-P-P (9.8) ',\n",
       " 'AJTx.KTx.xxx.Axx 98x.A8x.Q9xx.Txx Qxxxx.QJx.AKTx.x K.9xxx.J8.KQJ98x 0.46123 \\n 1S-P-2N-P-3C-X-P-P-4S-P-P-P (11.3)  \\n 1S-P-2N-P-3C-X-P-P-3S-P-4S-P-P-P (11.3) ',\n",
       " 'KT9x.Axx.Q9x.KTx AJ.KTxx.8xxx.J9x Qxxxx.QJx.AKTx.x 8x.98x.Jx.AQ8xxx 0.46019 \\n 1S-P-2N-P-3C-X-P-P-4S-P-P-P (10.3)  \\n 1S-P-2N-P-3C-X-P-P-3S-P-4S-P-P-P (10.3) ',\n",
       " 'AKJT.Txx.QJx.J9x 98x.A8x.8xx.AT8x Qxxxx.QJx.AKTx.x x.K9xx.9xx.KQxxx 0.45492 \\n 1S-P-2N-P-3C-X-P-P-4S-P-P-P (9.9)  \\n 1S-P-2N-P-3C-X-P-P-3S-P-4S-P-P-P (9.9) ',\n",
       " 'JT98.9xx.Qx.AKQx AKxx.xxx.9xxx.xx Qxxxx.QJx.AKTx.x .AKT8.J8x.JT98xx 0.45348 \\n 1S-P-2N-P-3C-X-P-P-4S-P-P-P (9.1)  \\n 1S-P-2N-P-3C-X-P-P-3S-P-4S-P-P-P (9.1) ',\n",
       " 'KT8x.AKxx.Qx.Txx AJ9x.T8.J8xx.Q8x Qxxxx.QJx.AKTx.x .9xxx.9xx.AKJ9xx 0.45278 \\n 1S-P-2N-P-3C-X-P-P-4S-P-P-P (10.2)  \\n 1S-P-2N-P-3C-X-P-P-3S-P-4S-P-P-P (10.2) ',\n",
       " 'AKJx.K98.Jx.xxxx T9x.Axxx.9xx.QT8 Qxxxx.QJx.AKTx.x 8.Txx.Q8xx.AKJ9x 0.44778 \\n 1S-P-2N-P-3C-X-P-P-4S-P-P-P (11.2)  \\n 1S-P-2N-P-3C-X-P-P-3S-P-4S-P-P-P (11.2) ',\n",
       " 'AJTx.KTx.Qxx.Qxx 8x.8xxx.9xx.KT9x Qxxxx.QJx.AKTx.x K9.A9x.J8x.AJ8xx 0.44612 \\n 1S-P-2N-P-3C-X-P-P-4S-P-P-P (11.2)  \\n 1S-P-2N-P-3C-X-P-P-3S-P-4S-P-P-P (11.2) ',\n",
       " 'AJ98.8xx.xx.AK98 KTx.KTx.Q98x.xxx Qxxxx.QJx.AKTx.x x.A9xx.Jxx.QJTxx 0.44577 \\n 1S-P-2N-P-3C-X-P-P-4S-P-P-P (9.9)  \\n 1S-P-2N-P-3C-X-P-P-3S-P-4S-P-P-P (9.9) ',\n",
       " 'AKTx.T9xx.Qx.K9x 8x.K8x.9xxx.T8xx Qxxxx.QJx.AKTx.x J9.Axx.J8x.AQJxx 0.44396 \\n 1S-P-2N-P-3C-X-P-P-4S-P-P-P (10.2)  \\n 1S-P-2N-P-3C-X-P-P-3S-P-4S-P-P-P (10.2) ',\n",
       " 'ATxx.A9x.QJx.J8x KJ9.Kxx.98x.KT9x Qxxxx.QJx.AKTx.x 8.T8xx.xxx.AQxxx 0.43892 \\n 1S-P-2N-P-3C-X-P-P-4S-P-P-P (10.1)  \\n 1S-P-2N-P-3C-X-P-P-3S-P-4S-P-P-P (10.1) ',\n",
       " 'AKT9.Txx.Q8.QJxx J8x.A8x.J9xx.A8x Qxxxx.QJx.AKTx.x x.K9xx.xxx.KT9xx 0.43756 \\n 1S-P-2N-P-3C-X-P-P-4S-P-P-P (9.9)  \\n 1S-P-2N-P-3C-X-P-P-3S-P-4S-P-P-P (9.9) ',\n",
       " 'AT8x.9x.QJ98.AJx J9x.A8xxxx.x.T98 Qxxxx.QJx.AKTx.x K.KT.xxxx.KQxxxx 0.43672 \\n 1S-P-2N-P-3C-X-P-P-4S-P-P-P (10.1)  \\n 1S-P-2N-P-3C-X-P-P-3S-P-4S-P-P-P (10.1) ',\n",
       " 'KJTx.KT.9xxx.AJx 98.A98x.Q8x.K8xx Qxxxx.QJx.AKTx.x Ax.xxxx.Jx.QT9xx 0.43542 \\n 1S-P-2N-P-3C-X-P-P-4S-P-P-P (10.9)  \\n 1S-P-2N-P-3C-X-P-P-3S-P-4S-P-P-P (10.9) ',\n",
       " 'AK9x.Axx.9xx.J8x JT8.K98x.Jxx.Kxx Qxxxx.QJx.AKTx.x x.Txx.Q8x.AQT9xx 0.43464 \\n 1S-P-2N-P-3C-X-P-P-4S-P-P-P (11.1)  \\n 1S-P-2N-P-3C-X-P-P-3S-P-4S-P-P-P (11.1) ',\n",
       " 'AK98.Kx.xxx.QT9x xx.A8xx.J9xx.8xx Qxxxx.QJx.AKTx.x JT.T9xx.Q8.AKJxx 0.43462 \\n 1S-P-2N-P-3C-X-P-P-4S-P-P-P (10.9)  \\n 1S-P-2N-P-3C-X-P-P-3S-P-4S-P-P-P (10.9) ',\n",
       " 'AT98.Axx.xxx.A98 KJ.K98xx.J9.Jxxx Qxxxx.QJx.AKTx.x xx.Tx.Q8xx.KQTxx 0.43198 \\n 1S-P-2N-P-3C-X-P-P-4S-P-P-P (10.9)  \\n 1S-P-2N-P-3C-X-P-P-3S-P-4S-P-P-P (10.9) ',\n",
       " 'AKJ8.Tx.QJ8x.JTx T9x.AK8x.9xx.98x Qxxxx.QJx.AKTx.x x.9xxx.xx.AKQxxx 0.42269 \\n 1S-P-2N-P-3C-X-P-P-4S-P-P-P (10.1)  \\n 1S-P-2N-P-3C-X-P-P-3S-P-4S-P-P-P (10.1) ',\n",
       " 'AKT9.A8x.Jxx.98x J8x.T9x.9xx.Axxx Qxxxx.QJx.AKTx.x x.Kxxx.Q8x.KQJTx 0.42187 \\n 1S-P-2N-P-3C-X-P-P-4S-P-P-P (11.2)  \\n 1S-P-2N-P-3C-X-P-P-3S-P-4S-P-P-P (11.2) ',\n",
       " 'AKJx.xx.Q8xx.Q8x 9.KT98xx.9xx.AJx Qxxxx.QJx.AKTx.x T8x.Ax.Jx.KT9xxx 0.41526 \\n 1S-P-2N-P-3C-X-P-P-4S-P-P-P (9.8)  \\n 1S-P-2N-P-3C-X-P-P-3S-P-4S-P-P-P (9.8) ',\n",
       " 'J98x.AKx.Jx.KT9x Ax.T9x.Qxxxx.8xx Qxxxx.QJx.AKTx.x KT.8xxx.98.AQJxx 0.41116 \\n 1S-P-2N-P-3C-X-P-P-4S-P-P-P (10.1)  \\n 1S-P-2N-P-3C-X-P-P-3S-P-4S-P-P-P (10.1) ',\n",
       " 'AKT9.Kxx.Qxx.T8x 8xx.A98.J8xx.Jxx Qxxxx.QJx.AKTx.x J.Txxx.9x.AKQ9xx 0.40226 \\n 1S-P-2N-P-3C-X-P-P-4S-P-P-P (11.2)  \\n 1S-P-2N-P-3C-X-P-P-3S-P-4S-P-P-P (11.2) ',\n",
       " 'AJT8.AKx.xxx.T8x 9xx.T98x.9xx.AQx Qxxxx.QJx.AKTx.x K.xxx.QJ8.KJ9xxx 0.40088 \\n 1S-P-2N-P-3C-X-P-P-4S-P-P-P (11.5)  \\n 1S-P-2N-P-3C-X-P-P-3S-P-4S-P-P-P (11.5) ',\n",
       " 'KJ9x.AKxx.Jx.xxx Ax.9xx.9xxxx.QJx Qxxxx.QJx.AKTx.x T8.T8x.Q8.AKT98x 0.39636 \\n 1S-P-2N-P-3C-X-P-P-4S-P-P-P (11.2)  \\n 1S-P-2N-P-3C-X-P-P-3S-P-4S-P-P-P (11.2) ',\n",
       " 'J8xx.AK8.9x.Axxx AT.xxxx.Qxxx.QTx Qxxxx.QJx.AKTx.x K9.T9x.J8x.KJ98x 0.39305 \\n 1S-P-2N-P-3C-X-P-P-4S-P-P-P (10.8)  \\n 1S-P-2N-P-3C-X-P-P-3S-P-4S-P-P-P (10.8) ',\n",
       " 'AJ98.A8x.98.KTxx Tx.KT9xx.Qxxx.Jx Qxxxx.QJx.AKTx.x Kx.xx.Jxx.AQ98xx 0.39128 \\n 1S-P-2N-P-3C-X-P-P-4S-P-P-P (11.2)  \\n 1S-P-2N-P-3C-X-P-P-3S-P-4S-P-P-P (11.2) ',\n",
       " 'J9xx.KTxx.QJ.AQx AT.8xx.9xxx.JTxx Qxxxx.QJx.AKTx.x K8.A9x.8xx.K98xx 0.36642 \\n 1S-P-2N-P-3C-X-P-P-4S-P-P-P (10.2)  \\n 1S-P-2N-P-3C-X-P-P-3S-P-4S-P-P-P (10.2) ',\n",
       " 'AT98.AT9x.8x.ATx Kxx.8xx.QJxx.Q8x Qxxxx.QJx.AKTx.x J.Kxx.9xx.KJ9xxx 0.36378 \\n 1S-P-2N-P-3C-X-P-P-4S-P-P-P (11.6)  \\n 1S-P-2N-P-3C-X-P-P-3S-P-4S-P-P-P (11.6) ',\n",
       " 'K98x.K98x.Qxx.Ax AJT.xx.J8xx.J98x Qxxxx.QJx.AKTx.x x.ATxx.9x.KQTxxx 0.35847 \\n 1S-P-2N-P-3C-X-P-P-4S-P-P-P (10.2)  \\n 1S-P-2N-P-3C-X-P-P-3S-P-4S-P-P-P (10.2) ',\n",
       " 'AJTx.T9x.QJxx.Ax Kx.Kxxx.9x.QJTxx Qxxxx.QJx.AKTx.x 98.A8x.8xx.K98xx 0.34587 \\n 1S-P-2N-P-3C-X-P-P-4S-P-P-P (10.4)  \\n 1S-P-2N-P-3C-X-P-P-3S-P-4S-P-P-P (10.4) ',\n",
       " 'JT98x.Kx.QJx.AJx x.AT9xx.9xxx.9xx Qxxxx.QJx.AKTx.x AK.8xx.8x.KQT8xx 0.34010 \\n 1S-P-2N-P-3C-X-P-P-4S-P-P-P (10.0)  \\n 1S-P-2N-P-3C-X-P-P-3S-P-4S-P-P-P (10.0) ',\n",
       " 'KJT8.Kxx.xx.KQxx Ax.A9xxx.J9x.J8x Qxxxx.QJx.AKTx.x 9x.T8.Q8xx.AT9xx 0.33798 \\n 1S-P-2N-P-3C-X-P-P-4S-P-P-P (10.2)  \\n 1S-P-2N-P-3C-X-P-P-3S-P-4S-P-P-P (10.2) ',\n",
       " 'AJT9.K9x.98.A9xx xx.AT8x.QJxx.J8x Qxxxx.QJx.AKTx.x K8.xxx.xxx.KQTxx 0.33474 \\n 1S-P-2N-P-3C-X-P-P-4S-P-P-P (11.6)  \\n 1S-P-2N-P-3C-X-P-P-3S-P-4S-P-P-P (11.6) ',\n",
       " 'AKJ9.Kxx.xx.Jxxx T8xx.AT9x.Q98.Qx Qxxxx.QJx.AKTx.x .8xx.Jxxx.AKT98x 0.33397 \\n 1S-P-2N-P-3C-X-P-P-4S-P-P-P (10.6)  \\n 1S-P-2N-P-3C-X-P-P-3S-P-4S-P-P-P (10.6) ',\n",
       " 'AKJx.8x.Jxx.A9xx T98x.AK9.8xx.8xx Qxxxx.QJx.AKTx.x .Txxxx.Q9x.KQJTx 0.33074 \\n 1S-P-2N-P-3C-X-P-P-4S-P-P-P (10.8)  \\n 1S-P-2N-P-3C-X-P-P-3S-P-4S-P-P-P (10.8) ',\n",
       " 'KJ8xx.8xx.Jx.AK9 AT9.T9x.98x.QJ8x Qxxxx.QJx.AKTx.x .AKxx.Qxxx.Txxxx 0.32970 \\n 1S-P-2N-P-3C-X-P-P-4S-P-P-P (9.5)  \\n 1S-P-2N-P-3C-X-P-P-3S-P-4S-P-P-P (9.5) ',\n",
       " 'AK98.T98.xx.AJ8x Jx.Kxx.QJ8xx.T9x Qxxxx.QJx.AKTx.x Tx.Axxx.9x.KQxxx 0.32063 \\n 1S-P-2N-P-3C-X-P-P-4S-P-P-P (10.8)  \\n 1S-P-2N-P-3C-X-P-P-3S-P-4S-P-P-P (10.8) ',\n",
       " 'AJ9x.K.QJx.QTxxx KTx.A98xx.xxx.8x Qxxxx.QJx.AKTx.x 8.Txxx.98x.AKJ9x 0.31901 \\n 1S-P-2N-P-3C-X-P-P-4S-P-P-P (10.2)  \\n 1S-P-2N-P-3C-X-P-P-3S-P-4S-P-P-P (10.2) ',\n",
       " 'KJ98.Ax.xxx.KQ8x Ax.T9xx.QJxx.JT9 Qxxxx.QJx.AKTx.x Tx.K8xx.98.Axxxx 0.31810 \\n 1S-P-2N-P-3C-X-P-P-4S-P-P-P (10.8)  \\n 1S-P-2N-P-3C-X-P-P-3S-P-4S-P-P-P (10.8) ',\n",
       " 'AKJx.Ax.Jxx.T8xx 8x.T98xxx.xx.KJx Qxxxx.QJx.AKTx.x T9.Kx.Q98x.AQ9xx 0.31395 \\n 1S-P-2N-P-3C-X-P-P-4S-P-P-P (11.5)  \\n 1S-P-2N-P-3C-X-P-P-3S-P-4S-P-P-P (11.5) ',\n",
       " 'JT98x.AK8.Jx.QJx Kx.T9xx.Q9x.T9xx Qxxxx.QJx.AKTx.x A.xxx.8xxx.AK8xx 0.30914 \\n 1S-P-2N-P-3C-X-P-P-4S-P-P-P (10.4)  \\n 1S-P-2N-P-3C-X-P-P-3S-P-4S-P-P-P (10.4) ',\n",
       " 'AKxx.A9x.9xx.Jxx JT9.K8x.Q8x.AT8x Qxxxx.QJx.AKTx.x 8.Txxx.Jxx.KQ9xx 0.30818 \\n 1S-P-2N-P-3C-X-P-P-4S-P-P-P (11.1)  \\n 1S-P-2N-P-3C-X-P-P-3S-P-4S-P-P-P (11.1) ',\n",
       " 'KJTx.Ax.J8x.AT8x A98x.KTxxx.9x.Jx Qxxxx.QJx.AKTx.x .98x.Qxxx.KQ9xxx 0.30764 \\n 1S-P-2N-P-3C-X-P-P-4S-P-P-P (10.7)  \\n 1S-P-2N-P-3C-X-P-P-3S-P-4S-P-P-P (10.7) ',\n",
       " 'KJT9.AT.J9x.Axxx xx.K9xxx.8xx.K9x Qxxxx.QJx.AKTx.x A8.8xx.Qxx.QJT8x 0.30737 \\n 1S-P-2N-P-3C-X-P-P-4S-P-P-P (11.2)  \\n 1S-P-2N-P-3C-X-P-P-3S-P-4S-P-P-P (11.2) ',\n",
       " 'JT9x.K8x.Qx.AKxx Ax.T9xxx.J98x.8x Qxxxx.QJx.AKTx.x K8.Ax.xxx.QJT9xx 0.30204 \\n 1S-P-2N-P-3C-X-P-P-4S-P-P-P (10.2)  \\n 1S-P-2N-P-3C-X-P-P-3S-P-4S-P-P-P (10.2) ',\n",
       " 'KJ98x.A8.J9x.QJ9 ATx.KT9xx.Q8.Txx Qxxxx.QJx.AKTx.x .xxx.xxxx.AK8xxx 0.30083 \\n 1S-P-2N-P-3C-X-P-P-4S-P-P-P (10.3)  \\n 1S-P-2N-P-3C-X-P-P-3S-P-4S-P-P-P (10.3) ',\n",
       " 'KJ8x.Kx.Qxx.KJTx T9x.A9xxx.Jxx.xx Qxxxx.QJx.AKTx.x A.T8x.98x.AQ98xx 0.30045 \\n 1S-P-2N-P-3C-X-P-P-4S-P-P-P (10.0)  \\n 1S-P-2N-P-3C-X-P-P-3S-P-4S-P-P-P (10.0) ',\n",
       " 'KT9xx.Axx.Q8.Kxx A8.KT9x.9xxx.J9x Qxxxx.QJx.AKTx.x J.8xx.Jxx.AQT8xx 0.29967 \\n 1S-P-2N-P-3C-X-P-P-4S-P-P-P (10.5)  \\n 1S-P-2N-P-3C-X-P-P-3S-P-4S-P-P-P (10.5) ',\n",
       " 'A98x.A8.Q98.K9xx KJT.xxxx.Jxx.Qxx Qxxxx.QJx.AKTx.x x.KT9x.xxx.AJT8x 0.29831 \\n 1S-P-2N-P-3C-X-P-P-4S-P-P-P (10.7)  \\n 1S-P-2N-P-3C-X-P-P-3S-P-4S-P-P-P (10.7) ',\n",
       " 'AJTx.K8x.9xx.KQx K8x.AT9xx.8x.Jxx Qxxxx.QJx.AKTx.x 9.xx.QJxx.AT98xx 0.29718 \\n 1S-P-2N-P-3C-X-P-P-4S-P-P-P (9.7)  \\n 1S-P-2N-P-3C-X-P-P-3S-P-4S-P-P-P (9.7) ',\n",
       " 'JT98.AK.Qxx.KTxx Kxx.xxx.J8xx.QJx Qxxxx.QJx.AKTx.x A.T98xx.9x.A98xx 0.29563 \\n 1S-P-2N-P-3C-X-P-P-4S-P-P-P (10.2)  \\n 1S-P-2N-P-3C-X-P-P-3S-P-4S-P-P-P (10.2) ',\n",
       " 'KT8x.Ax.Jxx.KQTx AJx.T9xx.xxx.Jxx Qxxxx.QJx.AKTx.x 9.K8xx.Q98.A98xx 0.29342 \\n 1S-P-2N-P-3C-X-P-P-4S-P-P-P (10.5)  \\n 1S-P-2N-P-3C-X-P-P-3S-P-4S-P-P-P (10.5) ',\n",
       " 'AJT8x.Kx.QJ8.JTx K9.AT9x.9xx.Q9xx Qxxxx.QJx.AKTx.x x.8xxx.xxx.AK8xx 0.29271 \\n 1S-P-2N-P-3C-X-P-P-4S-P-P-P (10.5)  \\n 1S-P-2N-P-3C-X-P-P-3S-P-4S-P-P-P (10.5) ',\n",
       " 'KJ98.Kx.Qxx.KJTx ATx.A9xx.J8xx.9x Qxxxx.QJx.AKTx.x x.T8xx.9x.AQ8xxx 0.29180 \\n 1S-P-2N-P-3C-X-P-P-4S-P-P-P (9.9)  \\n 1S-P-2N-P-3C-X-P-P-3S-P-4S-P-P-P (9.9) ',\n",
       " 'AKJT8.xx.9xx.Axx 9.AK9x.Q8xx.T9xx Qxxxx.QJx.AKTx.x xx.T8xx.Jx.KQJ8x 0.28924 \\n 1S-P-2N-P-3C-X-P-P-4S-P-P-P (11.0)  \\n 1S-P-2N-P-3C-X-P-P-3S-P-4S-P-P-P (11.0) ',\n",
       " 'A98x.K9.J8x.AJT9 KTx.ATxxxx.xx.xx Qxxxx.QJx.AKTx.x J.8x.Q9xx.KQ8xxx 0.28676 \\n 1S-P-2N-P-3C-X-P-P-4S-P-P-P (10.7)  \\n 1S-P-2N-P-3C-X-P-P-3S-P-4S-P-P-P (10.7) ',\n",
       " 'KJ98x.Ax.xxx.Axx A.K8xxx.98x.JT9x Qxxxx.QJx.AKTx.x Tx.T9x.QJx.KQ8xx 0.28608 \\n 1S-P-2N-P-3C-X-P-P-4S-P-P-P (11.2)  \\n 1S-P-2N-P-3C-X-P-P-3S-P-4S-P-P-P (11.2) ',\n",
       " 'J8xx.A98.98.AKJ8 9.KTxxx.QJxx.9xx Qxxxx.QJx.AKTx.x AKT.xx.xxx.QTxxx 0.28583 \\n 1S-P-2N-P-3C-X-P-P-4S-P-P-P (10.0)  \\n 1S-P-2N-P-3C-X-P-P-3S-P-4S-P-P-P (10.0) ',\n",
       " 'AJ98.K8x.J9.KJxx xx.xxxx.Q8xx.ATx Qxxxx.QJx.AKTx.x KT.AT9.xxx.Q98xx 0.28411 \\n 1S-P-2N-P-3C-X-P-P-4S-P-P-P (10.8)  \\n 1S-P-2N-P-3C-X-P-P-3S-P-4S-P-P-P (10.8) ',\n",
       " 'AKT8.8x.8x.KQ9xx 9x.AT9xx.9xxx.J8 Qxxxx.QJx.AKTx.x Jx.Kxx.QJx.ATxxx 0.28305 \\n 1S-P-2N-P-3C-X-P-P-4S-P-P-P (10.5)  \\n 1S-P-2N-P-3C-X-P-P-3S-P-4S-P-P-P (10.5) ',\n",
       " 'A9xx.Ax.8xx.AJxx KT.T98x.Qxxx.Qxx Qxxxx.QJx.AKTx.x J8.Kxxx.J9.KT98x 0.28137 \\n 1S-P-2N-P-3C-X-P-P-4S-P-P-P (11.2)  \\n 1S-P-2N-P-3C-X-P-P-3S-P-4S-P-P-P (11.2) ',\n",
       " 'JTxx.AKx.Jx.Axxx K98.9xxx.8xxx.KJ Qxxxx.QJx.AKTx.x A.T8x.Q9x.QT98xx 0.27799 \\n 1S-P-2N-P-3C-X-P-P-4S-P-P-P (10.6)  \\n 1S-P-2N-P-3C-X-P-P-3S-P-4S-P-P-P (10.6) ',\n",
       " 'AKJ9x.8x.Q8x.QTx T8.KT9xx.9xx.AJx Qxxxx.QJx.AKTx.x x.Axx.Jxx.K98xxx 0.27764 \\n 1S-P-2N-P-3C-X-P-P-4S-P-P-P (10.3)  \\n 1S-P-2N-P-3C-X-P-P-3S-P-4S-P-P-P (10.3) ',\n",
       " 'AT8x.xx.98.AKJ8x KJ9x.K8xx.xxx.9x Qxxxx.QJx.AKTx.x .AT9x.QJxx.QTxxx 0.27744 \\n 1S-P-2N-P-3C-X-P-P-4S-P-P-P (9.9)  \\n 1S-P-2N-P-3C-X-P-P-3S-P-4S-P-P-P (9.9) ',\n",
       " 'AKJx.8xxx.Qx.KTx 98.T9xx.Jxx.Q9xx Qxxxx.QJx.AKTx.x Tx.AK.98xx.AJ8xx 0.27545 \\n 1S-P-2N-P-3C-X-P-P-4S-P-P-P (10.2)  \\n 1S-P-2N-P-3C-X-P-P-3S-P-4S-P-P-P (10.2) ',\n",
       " 'AT9x.AKx.8xxx.Jx J.98xxx.Qxx.K8xx Qxxxx.QJx.AKTx.x K8x.Tx.J9.AQT9xx 0.27434 \\n 1S-P-2N-P-3C-X-P-P-4S-P-P-P (11.2)  \\n 1S-P-2N-P-3C-X-P-P-3S-P-4S-P-P-P (11.2) ',\n",
       " 'AK9x.xxx.Qxx.Kxx J8.AK98x.8xx.Q9x Qxxxx.QJx.AKTx.x Tx.Tx.J9x.AJT8xx 0.26943 \\n 1S-P-2N-P-3C-X-P-P-4S-P-P-P (10.0)  \\n 1S-P-2N-P-3C-X-P-P-3S-P-4S-P-P-P (10.0) ',\n",
       " 'KJxx.AK9.Qxx.xxx A9.xxx.J9xxx.Axx Qxxxx.QJx.AKTx.x T8.T8xx.8.KQJT98 0.26827 \\n 1S-P-2N-P-3C-X-P-P-4S-P-P-P (10.7)  \\n 1S-P-2N-P-3C-X-P-P-3S-P-4S-P-P-P (10.7) ',\n",
       " 'KJ9x.A8x.Jxx.Axx T8x.Txx.Q8x.Q98x Qxxxx.QJx.AKTx.x A.K9xx.9xx.KJTxx 0.26770 \\n 1S-P-2N-P-3C-X-P-P-4S-P-P-P (11.4)  \\n 1S-P-2N-P-3C-X-P-P-3S-P-4S-P-P-P (11.4) ',\n",
       " 'KJT8x.AKx.Jx.98x A9.9xxxx.xx.ATxx Qxxxx.QJx.AKTx.x x.T8.Q98xx.KQJxx 0.26467 \\n 1S-P-2N-P-3C-X-P-P-4S-P-P-P (11.1)  \\n 1S-P-2N-P-3C-X-P-P-3S-P-4S-P-P-P (11.1) ',\n",
       " 'AJ98x.K98.Qxx.Q9 K.ATxx.J9xx.Txxx Qxxxx.QJx.AKTx.x Tx.xxx.8x.AKJ8xx 0.26421 \\n 1S-P-2N-P-3C-X-P-P-4S-P-P-P (10.4)  \\n 1S-P-2N-P-3C-X-P-P-3S-P-4S-P-P-P (10.4) ',\n",
       " 'KJT8x.KT9.xx.AJx A9.Axx.Q8xx.T9xx Qxxxx.QJx.AKTx.x x.8xxx.J9x.KQ8xx 0.26300 \\n 1S-P-2N-P-3C-X-P-P-4S-P-P-P (11.2)  \\n 1S-P-2N-P-3C-X-P-P-3S-P-4S-P-P-P (11.2) ',\n",
       " 'AJ98x.Kxx.9x.AT9 K.T8xx.8xxx.J8xx Qxxxx.QJx.AKTx.x Tx.A9x.QJx.KQxxx 0.25965 \\n 1S-P-2N-P-3C-X-P-P-4S-P-P-P (11.2)  \\n 1S-P-2N-P-3C-X-P-P-3S-P-4S-P-P-P (11.2) ',\n",
       " 'AKJT.8xx.Q8x.KTx 8x.KT9xx.xx.QJ9x Qxxxx.QJx.AKTx.x 9x.Ax.J9xx.A8xxx 0.25934 \\n 1S-P-2N-P-3C-X-P-P-4S-P-P-P (10.1)  \\n 1S-P-2N-P-3C-X-P-P-3S-P-4S-P-P-P (10.1) ',\n",
       " 'KJ9x.Axx.8xx.KJT AT.KT8xx.J9x.Qxx Qxxxx.QJx.AKTx.x 8x.9x.Qxx.A98xxx 0.25748 \\n 1S-P-2N-P-3C-X-P-P-4S-P-P-P (10.1)  \\n 1S-P-2N-P-3C-X-P-P-3S-P-4S-P-P-P (10.1) ',\n",
       " 'AKJTx.T98.8x.Axx x.Kxxxx.J9x.T8xx Qxxxx.QJx.AKTx.x 98.Ax.Qxxx.KQJ9x 0.25538 \\n 1S-P-2N-P-3C-X-P-P-4S-P-P-P (10.8)  \\n 1S-P-2N-P-3C-X-P-P-3S-P-4S-P-P-P (10.8) ',\n",
       " 'AKTx.xxx.QJx.QJx 98x.ATx.9xx.K8xx Qxxxx.QJx.AKTx.x J.K98x.8xx.AT9xx 0.25484 \\n 1S-P-2N-P-3C-X-P-P-4S-P-P-P (9.6)  \\n 1S-P-2N-P-3C-X-P-P-3S-P-4S-P-P-P (9.6) ',\n",
       " 'AJT9x.KTx.9xx.KJ 8x.9xxx.xxx.ATxx Qxxxx.QJx.AKTx.x K.A8x.QJ8.Q98xxx 0.25474 \\n 1S-P-2N-P-3C-X-P-P-4S-P-P-P (10.7)  \\n 1S-P-2N-P-3C-X-P-P-3S-P-4S-P-P-P (10.7) ',\n",
       " 'KJT9.K9x.xx.AJxx Ax.A8xxx.QJx.8xx Qxxxx.QJx.AKTx.x 8x.Tx.98xx.KQT9x 0.25393 \\n 1S-P-2N-P-3C-X-P-P-4S-P-P-P (11.1)  \\n 1S-P-2N-P-3C-X-P-P-3S-P-4S-P-P-P (11.1) ',\n",
       " 'KT98x.AKx.Qx.T8x J.98xxx.8xx.KQ9x Qxxxx.QJx.AKTx.x Ax.Tx.J9xx.AJxxx 0.25304 \\n 1S-P-2N-P-3C-X-P-P-4S-P-P-P (11.2)  \\n 1S-P-2N-P-3C-X-P-P-3S-P-4S-P-P-P (11.2) ',\n",
       " 'T9xx.AKx.Qx.KJ9x K8.8xxx.8xxx.T8x Qxxxx.QJx.AKTx.x AJ.T9x.J9x.AQxxx 0.25174 \\n 1S-P-2N-P-3C-X-P-P-4S-P-P-P (10.0)  \\n 1S-P-2N-P-3C-X-P-P-3S-P-4S-P-P-P (10.0) ',\n",
       " 'K98x.A9x.Qx.A9xx JT.KT8xx.8xx.Txx Qxxxx.QJx.AKTx.x Ax.xx.J9xx.KQJ8x 0.25122 \\n 1S-P-2N-P-3C-X-P-P-4S-P-P-P (10.8)  \\n 1S-P-2N-P-3C-X-P-P-3S-P-4S-P-P-P (10.8) ',\n",
       " 'AK98.Kxx.QJ8.8xx Jx.9xxx.9xxx.Kxx Qxxxx.QJx.AKTx.x Tx.AT8.xx.AQJT9x 0.25036 \\n 1S-P-2N-P-3C-X-P-P-4S-P-P-P (11.2)  \\n 1S-P-2N-P-3C-X-P-P-3S-P-4S-P-P-P (11.2) ']"
      ]
     },
     "execution_count": 7,
     "metadata": {},
     "output_type": "execute_result"
    }
   ],
   "source": [
    "bid.samples"
   ]
  },
  {
   "cell_type": "code",
   "execution_count": 8,
   "metadata": {},
   "outputs": [
    {
     "data": {
      "text/plain": [
       "[{'call': 'X', 'insta_score': 0.879}]"
      ]
     },
     "execution_count": 8,
     "metadata": {},
     "output_type": "execute_result"
    }
   ],
   "source": [
    "auction = [\"PAD_START\", \"PAD_START\", \"1S\", \"PASS\", \"2N\", \"PASS\",\"3C\",\"X\",\"PASS\",\"PASS\",\"4S\",\"PASS\",\"PASS\",\"5C\"]\n",
    "bid = bot_bid.bid(auction)\n",
    "\n",
    "bid.to_dict()['candidates']"
   ]
  },
  {
   "cell_type": "code",
   "execution_count": 9,
   "metadata": {},
   "outputs": [
    {
     "data": {
      "text/plain": [
       "['AKJ98.KT9x.Jx.9x Tx.Ax.98x.QT8xxx Qxxxx.QJx.AKTx.x x.8xxx.Qxxx.AKJx 0.12699',\n",
       " 'AK9x.K98x.Q98x.x T8x.Tx.Jx.AJT8xx Qxxxx.QJx.AKTx.x J.Axxx.xxx.KQ9xx 0.09978',\n",
       " 'ATxx.A8xx.Q98x.K K9.xx.Jxx.QJ98xx Qxxxx.QJx.AKTx.x J8.KT9x.xx.ATxxx 0.07785',\n",
       " 'KT9x.AKxx.J9xx.Q AJx.T8x.x.JT98xx Qxxxx.QJx.AKTx.x 8.9xx.Q8xx.AKxxx 0.07435',\n",
       " 'AKJ9xx.xx.Qxxx.Q T8.ATxx.8.KJTxxx Qxxxx.QJx.AKTx.x .K98x.J9xx.A98xx 0.06970',\n",
       " 'AKJT.K98x.J9xx.x 98.Ax.Q8.T98xxxx Qxxxx.QJx.AKTx.x xx.Txxx.xxx.AKQJ 0.06509',\n",
       " 'AKT8xx.Kxx.Q9x.x J9.9xx.Jx.AQJ9xx Qxxxx.QJx.AKTx.x .AT8x.8xxx.KT8xx 0.06437',\n",
       " 'AKTxx.KT8x.Qxx.8 J.Ax.9xxx.KQJT9x Qxxxx.QJx.AKTx.x 98.9xxx.J8.Axxxx 0.05388',\n",
       " 'AJ8x.AKxx.9xxx.x Tx.98.J8x.AKJT8x Qxxxx.QJx.AKTx.x K9.Txxx.Qx.Q9xxx 0.04772',\n",
       " 'AKJ8xx.K9xx.9x.x T.ATx.J8x.KQJ9xx Qxxxx.QJx.AKTx.x 9.8xx.Qxxx.AT8xx 0.04624']"
      ]
     },
     "execution_count": 9,
     "metadata": {},
     "output_type": "execute_result"
    }
   ],
   "source": [
    "bid.samples"
   ]
  },
  {
   "cell_type": "code",
   "execution_count": 10,
   "metadata": {},
   "outputs": [
    {
     "data": {
      "text/plain": [
       "[{'call': 'PASS',\n",
       "  'insta_score': 0.981,\n",
       "  'expected_score': 304,\n",
       "  'adjustment': 49},\n",
       " {'call': '6S', 'insta_score': 0.012, 'expected_score': 232, 'adjustment': 1}]"
      ]
     },
     "execution_count": 10,
     "metadata": {},
     "output_type": "execute_result"
    }
   ],
   "source": [
    "auction = [\"PAD_START\", \"PAD_START\", \"1S\", \"PASS\", \"2N\", \"PASS\",\"3C\",\"X\",\"PASS\",\"PASS\",\"4S\",\"PASS\",\"PASS\",\"5C\",\"X\",\"PASS\",\"5S\",\"PASS\"]\n",
    "bid = bot_bid.bid(auction)\n",
    "\n",
    "bid.to_dict()['candidates']"
   ]
  },
  {
   "cell_type": "code",
   "execution_count": 11,
   "metadata": {},
   "outputs": [
    {
     "data": {
      "text/plain": [
       "['K98x.AKT.QJxx.xx AJT.x.9xx.QJT98x Qxxxx.QJx.AKTx.x x.98xxxx.8x.AKxx 0.04907 \\n 1S-P-2N-P-3C-X-P-P-4S-P-P-5C-X-P-5S-P-P-P (10.2)  \\n 1S-P-2N-P-3C-X-P-P-4S-P-P-5C-X-P-5S-P-6S-P-P-P (10.2) ',\n",
       " 'AKJ8xx.xxx.xx.K8 .AK98.QJxx.QTxxx Qxxxx.QJx.AKTx.x T9.Txx.98x.AJ9xx 0.04432 \\n 1S-P-2N-P-3C-X-P-P-4S-P-P-5C-X-P-5S-P-P-P (10.2)  \\n 1S-P-2N-P-3C-X-P-P-4S-P-P-5C-X-P-5S-P-6S-P-P-P (10.2) ',\n",
       " 'K9xx.AKxx.QJx.xx AJ8.8x.98.QJ9xxx Qxxxx.QJx.AKTx.x T.T9xx.xxxx.AKT8 0.04158 \\n 1S-P-2N-P-3C-X-P-P-4S-P-P-5C-X-P-5S-P-P-P (10.7)  \\n 1S-P-2N-P-3C-X-P-P-4S-P-P-5C-X-P-5S-P-6S-P-P-P (10.7) ',\n",
       " 'AJT98.Axxx.xxx.K xx.K8x.Q8.AT98xx Qxxxx.QJx.AKTx.x K.T9x.J9xx.QJxxx 0.03733 \\n 1S-P-2N-P-3C-X-P-P-4S-P-P-5C-X-P-5S-P-P-P (10.8)  \\n 1S-P-2N-P-3C-X-P-P-4S-P-P-5C-X-P-5S-P-6S-P-P-P (10.8) ',\n",
       " 'AKT8x.ATxx.9xx.T 9x.9x.J8x.AQ8xxx Qxxxx.QJx.AKTx.x J.K8xx.Qxx.KJ9xx 0.03664 \\n 1S-P-2N-P-3C-X-P-P-4S-P-P-5C-X-P-5S-P-P-P (12.0)  \\n 1S-P-2N-P-3C-X-P-P-4S-P-P-5C-X-P-5S-P-6S-P-P-P (12.0) ',\n",
       " 'KJ98x.A8xx.Q9x.K A.9x.Jxxx.AJTxxx Qxxxx.QJx.AKTx.x Tx.KTxx.8x.Q98xx 0.03557 \\n 1S-P-2N-P-3C-X-P-P-4S-P-P-5C-X-P-5S-P-P-P (10.1)  \\n 1S-P-2N-P-3C-X-P-P-4S-P-P-5C-X-P-5S-P-6S-P-P-P (10.1) ',\n",
       " 'AK9x.A8xx.Q8xxx. Jx.KT.xx.AJT9xxx Qxxxx.QJx.AKTx.x T8.9xxx.J9.KQ8xx 0.03554 \\n 1S-P-2N-P-3C-X-P-P-4S-P-P-5C-X-P-5S-P-P-P (12.0)  \\n 1S-P-2N-P-3C-X-P-P-4S-P-P-5C-X-P-5S-P-6S-P-P-P (12.0) ',\n",
       " 'AJ98x.A98x.Qx.QT T.Kx.Jxxx.K8xxxx Qxxxx.QJx.AKTx.x Kx.Txxx.98x.AJ9x 0.03518 \\n 1S-P-2N-P-3C-X-P-P-4S-P-P-5C-X-P-5S-P-P-P (11.2)  \\n 1S-P-2N-P-3C-X-P-P-4S-P-P-5C-X-P-5S-P-6S-P-P-P (11.2) ',\n",
       " 'AJTxx.A98x.J9x.K 9.Kx.Qxxx.AT8xxx Qxxxx.QJx.AKTx.x K8.Txxx.8x.QJ9xx 0.03498 \\n 1S-P-2N-P-3C-X-P-P-4S-P-P-5C-X-P-5S-P-P-P (11.2)  \\n 1S-P-2N-P-3C-X-P-P-4S-P-P-5C-X-P-5S-P-6S-P-P-P (11.2) ',\n",
       " 'KJT8x.AT8x.Q8.Qx A.9x.Jxxx.J98xxx Qxxxx.QJx.AKTx.x 9x.Kxxx.9xx.AKTx 0.03449 \\n 1S-P-2N-P-3C-X-P-P-4S-P-P-5C-X-P-5S-P-P-P (10.9)  \\n 1S-P-2N-P-3C-X-P-P-4S-P-P-5C-X-P-5S-P-6S-P-P-P (10.9) ']"
      ]
     },
     "execution_count": 11,
     "metadata": {},
     "output_type": "execute_result"
    }
   ],
   "source": [
    "bid.samples"
   ]
  },
  {
   "cell_type": "code",
   "execution_count": null,
   "metadata": {},
   "outputs": [],
   "source": []
  }
 ],
 "metadata": {
  "kernelspec": {
   "display_name": "Python 3 (ipykernel)",
   "language": "python",
   "name": "python3"
  },
  "language_info": {
   "codemirror_mode": {
    "name": "ipython",
    "version": 3
   },
   "file_extension": ".py",
   "mimetype": "text/x-python",
   "name": "python",
   "nbconvert_exporter": "python",
   "pygments_lexer": "ipython3",
   "version": "3.11.0"
  }
 },
 "nbformat": 4,
 "nbformat_minor": 5
}
