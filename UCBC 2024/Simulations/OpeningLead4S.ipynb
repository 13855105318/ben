{
 "cells": [
  {
   "cell_type": "markdown",
   "id": "170af530",
   "metadata": {},
   "source": [
    "# Opening Lead\n",
    "\n",
    "This is a tutorial for how to use the opening lead engine."
   ]
  },
  {
   "cell_type": "code",
   "execution_count": 1,
   "id": "26570686",
   "metadata": {},
   "outputs": [
    {
     "name": "stdout",
     "output_type": "stream",
     "text": [
      "WARNING:tensorflow:From c:\\Python311\\Lib\\site-packages\\tensorflow\\python\\compat\\v2_compat.py:107: disable_resource_variables (from tensorflow.python.ops.variable_scope) is deprecated and will be removed in a future version.\n",
      "Instructions for updating:\n",
      "non-resource variables are not supported in the long term\n"
     ]
    }
   ],
   "source": [
    "import os\n",
    "import sys\n",
    "sys.path.append('../../src')\n",
    "os.environ['BEN_HOME'] = \"../..\"\n",
    "\n",
    "from nn.models import Models\n",
    "from bots import BotLead\n",
    "from sample import Sample\n",
    "import conf\n",
    "import numpy as np\n",
    "\n",
    "np.set_printoptions(precision=2, suppress=True, linewidth=200)\n",
    "np.random.seed(42)\n"
   ]
  },
  {
   "cell_type": "code",
   "execution_count": 2,
   "id": "fe373c76",
   "metadata": {},
   "outputs": [
    {
     "name": "stdout",
     "output_type": "stream",
     "text": [
      "INFO:tensorflow:Restoring parameters from ..\\Models/NS1EW99-bidding-1335000\n",
      "INFO:tensorflow:Restoring parameters from ..\\Models/NS1EW99-binfo-1335000\n",
      "INFO:tensorflow:Restoring parameters from ..\\Models/lead_suit-154000\n",
      "INFO:tensorflow:Restoring parameters from ..\\Models/lead_nt-59000\n",
      "INFO:tensorflow:Restoring parameters from ..\\Models/lr3-1000000\n",
      "INFO:tensorflow:Restoring parameters from ..\\Models/single_dummy-32768000\n",
      "INFO:tensorflow:Restoring parameters from ..\\Models/lefty-1000000\n",
      "INFO:tensorflow:Restoring parameters from ..\\Models/dummy-920000\n",
      "INFO:tensorflow:Restoring parameters from ..\\Models/righty-1000000\n",
      "INFO:tensorflow:Restoring parameters from ..\\Models/decl-1000000\n"
     ]
    }
   ],
   "source": [
    "models = Models.from_conf(conf.load('../Conf/UCBC2024.conf'),'..')   # loading neural networks\n",
    "sampler = Sample.from_conf(conf.load('../Conf/UCBC2024.conf'), True)  # Load sampling strategies"
   ]
  },
  {
   "cell_type": "code",
   "execution_count": 3,
   "id": "c3397678",
   "metadata": {},
   "outputs": [
    {
     "name": "stdout",
     "output_type": "stream",
     "text": [
      "Finding leads from neural network\n",
      "Cx 0.413\n",
      "HA 0.250\n",
      "Dx 0.179\n",
      "ST 0.138\n",
      "Now generating 5000000 deals to find opening lead\n",
      "sample_cards_auction, nsteps= 4\n",
      "NS:  1.0 EW:  99.0 Auction:  ['PAD_START', 'PAD_START', 'PASS', '1S', 'PASS', '2H', 'PASS', '2N', 'PASS', '4S', 'PASS', 'PASS', 'PASS']\n",
      "nesw_i 0\n",
      "Player:  N Hand:  T.AKxx.QTxx.J9xx\n",
      "HCP:  [[11.06  6.6  12.5 ]]\n",
      "Shape:  [[4.03 5.06 1.97 1.87 2.56 2.63 3.99 3.83 4.83 1.68 3.22 3.26]]\n",
      "Setting seed (Sampling)= 3948620766\n",
      "sample_cards_vec generating 5000000\n",
      "sample_cards_vec took 99.1\n",
      "n_samples 1511211 matching bidding info\n",
      "Samples after bidding filtering:  1  Threshold:  0.25\n",
      "Generated samples: 10  OK Quality False\n",
      "Now simulate on 500 deals to find opening lead\n",
      "Opening lead being examined:  C6 10\n",
      "dds took 0.048\n",
      "Opening lead being examined:  HA 10\n",
      "dds took 0.014\n",
      "Opening lead being examined:  D6 10\n",
      "dds took 0.06603\n",
      "Opening lead being examined:  ST 10\n",
      "dds took 0.01697\n",
      "Accepted samples for opening lead: 10\n"
     ]
    },
    {
     "name": "stderr",
     "output_type": "stream",
     "text": [
      "Loaded lib dds.dll\n"
     ]
    }
   ],
   "source": [
    "# Camrose 2024 Deal 70\n",
    "# You are sitting North and you hold\n",
    "hand = 'T.AK63.QT76.J962'\n",
    "\n",
    "# the auction goes:\n",
    "auction = [\"PAD_START\", \"PAD_START\", \"PASS\", \"1S\", \"PASS\", \"2H\", \"PASS\", \"2N\", \"PASS\", \"4S\", \"PASS\", \"PASS\", \"PASS\"]\n",
    "\n",
    "# what to lead?\n",
    "\n",
    "lead_bot = BotLead([True, False], hand, models, sampler, 0, True)\n",
    "lead = lead_bot.find_opening_lead(auction)"
   ]
  },
  {
   "cell_type": "code",
   "execution_count": 4,
   "id": "a2b5fe25",
   "metadata": {},
   "outputs": [
    {
     "data": {
      "text/plain": [
       "HA"
      ]
     },
     "execution_count": 4,
     "metadata": {},
     "output_type": "execute_result"
    }
   ],
   "source": [
    "lead.card"
   ]
  },
  {
   "cell_type": "markdown",
   "id": "02e88396",
   "metadata": {},
   "source": [
    "seems like the engine chose to lead the ace of diamonds\n",
    "\n",
    "the other options it considered were: a small spade and a small club"
   ]
  },
  {
   "cell_type": "code",
   "execution_count": 5,
   "id": "956ef356",
   "metadata": {},
   "outputs": [
    {
     "data": {
      "text/plain": [
       "[{'card': 'HA',\n",
       "  'insta_score': 0.25,\n",
       "  'expected_tricks_sd': 10.6,\n",
       "  'p_make_contract': 0.0},\n",
       " {'card': 'Cx',\n",
       "  'insta_score': 0.413,\n",
       "  'expected_tricks_sd': 10.7,\n",
       "  'p_make_contract': 0.0},\n",
       " {'card': 'Dx',\n",
       "  'insta_score': 0.179,\n",
       "  'expected_tricks_sd': 10.7,\n",
       "  'p_make_contract': 0.0},\n",
       " {'card': 'ST',\n",
       "  'insta_score': 0.138,\n",
       "  'expected_tricks_sd': 10.7,\n",
       "  'p_make_contract': 0.0}]"
      ]
     },
     "execution_count": 5,
     "metadata": {},
     "output_type": "execute_result"
    }
   ],
   "source": [
    "lead.to_dict()['candidates']"
   ]
  },
  {
   "cell_type": "markdown",
   "id": "97efc5a1",
   "metadata": {},
   "source": [
    "in the above output:\n",
    "- `insta_score` reflects the preference of the neural network\n",
    "- `expected_tricks` how many tricks declarer is expected to take on this lead\n",
    "- `p_make_contract` is the probability of the contract making on this lead\n",
    "\n",
    "the probability of making and the expected tricks are computed on samples which are consistent with the auction. the samples are estimated single dummy using a neural network (more on this in another tutorial). we could also solve the samples double dummy, but that would be quite a bit slower."
   ]
  },
  {
   "cell_type": "code",
   "execution_count": 6,
   "id": "7cb2bf98",
   "metadata": {},
   "outputs": [
    {
     "data": {
      "text/plain": [
       "['A98xx.QT9xx..A8x Jx.J8.J8xxxx.Qxx KQxxx.xx.AK9.KTx 0.25192',\n",
       " 'AKxxx.QJ9xx..8xx J8.xx.A98xxx.Txx Q9xxx.T8.KJx.AKQ 0.24591',\n",
       " 'A98xx.JT98x..AQx Kx.xx.J98xxx.Txx QJxxx.Qx.AKx.K8x 0.24540',\n",
       " 'KJ8xx.QJ8xx..ATx 9x.9x.J9xxxx.Kxx AQxxx.Tx.AK8.Q8x 0.24063',\n",
       " 'AQ9xxx.Q8xxx..Kx K.Tx.J9xxxx.Txxx J8xxx.J9.AK8.AQ8 0.24041',\n",
       " 'AJ9xx.QJ8xx..Kxx Kx.T9.J98xxx.Txx Q8xxx.xx.AKx.AQ8 0.23983',\n",
       " 'KQJ8xx.T8xxx..Ax x.J9.KJ98xx.Txxx A9xxx.Qx.Axx.KQ8 0.23709',\n",
       " 'A9xxx.QJ98x..A8x K8.Tx.J8xxxx.Txx QJxxx.xx.AK9.KQx 0.23449',\n",
       " 'KJ98xx.QJ98x..Kx x.Tx.AJ98xx.T8xx AQxxx.xx.Kxx.AQx 0.23405',\n",
       " 'KJ8xxx.QJT9x..A8 x.xx.A98xxx.xxxx AQ9xx.8x.KJx.KQT 0.23311']"
      ]
     },
     "execution_count": 6,
     "metadata": {},
     "output_type": "execute_result"
    }
   ],
   "source": [
    "# each row is one sample board\n",
    "# the hands are in the order: LHO, Partner, RHO. Your cards are not shown as they are fixed/\n",
    "\n",
    "lead.samples"
   ]
  }
 ],
 "metadata": {
  "kernelspec": {
   "display_name": "Python 3 (ipykernel)",
   "language": "python",
   "name": "python3"
  },
  "language_info": {
   "codemirror_mode": {
    "name": "ipython",
    "version": 3
   },
   "file_extension": ".py",
   "mimetype": "text/x-python",
   "name": "python",
   "nbconvert_exporter": "python",
   "pygments_lexer": "ipython3",
   "version": "3.11.0"
  }
 },
 "nbformat": 4,
 "nbformat_minor": 5
}
