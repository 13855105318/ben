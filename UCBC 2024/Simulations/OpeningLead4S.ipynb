{
 "cells": [
  {
   "cell_type": "markdown",
   "id": "170af530",
   "metadata": {},
   "source": [
    "# Opening Lead\n",
    "\n",
    "This is a tutorial for how to use the opening lead engine."
   ]
  },
  {
   "cell_type": "code",
   "execution_count": 1,
   "id": "26570686",
   "metadata": {},
   "outputs": [
    {
     "name": "stdout",
     "output_type": "stream",
     "text": [
      "WARNING:tensorflow:From c:\\Python311\\Lib\\site-packages\\tensorflow\\python\\compat\\v2_compat.py:107: disable_resource_variables (from tensorflow.python.ops.variable_scope) is deprecated and will be removed in a future version.\n",
      "Instructions for updating:\n",
      "non-resource variables are not supported in the long term\n"
     ]
    }
   ],
   "source": [
    "import os\n",
    "import sys\n",
    "sys.path.append('../../src')\n",
    "os.environ['BEN_HOME'] = \"../..\"\n",
    "\n",
    "from nn.models import Models\n",
    "from bots import BotLead\n",
    "from sample import Sample\n",
    "import conf\n",
    "import numpy as np\n",
    "\n",
    "np.set_printoptions(precision=2, suppress=True, linewidth=200)\n",
    "np.random.seed(42)\n"
   ]
  },
  {
   "cell_type": "code",
   "execution_count": 2,
   "id": "fe373c76",
   "metadata": {},
   "outputs": [
    {
     "name": "stdout",
     "output_type": "stream",
     "text": [
      "INFO:tensorflow:Restoring parameters from ..\\Models/NS1EW99-bidding_same-1700000\n",
      "INFO:tensorflow:Restoring parameters from ..\\Models/NS1EW99-binfo_same-1700000\n",
      "INFO:tensorflow:Restoring parameters from ..\\Models/lead_suit-154000\n",
      "INFO:tensorflow:Restoring parameters from ..\\Models/lead_nt-59000\n",
      "INFO:tensorflow:Restoring parameters from ..\\Models/lr3-1000000\n",
      "INFO:tensorflow:Restoring parameters from ..\\Models/single_dummy-32768000\n",
      "INFO:tensorflow:Restoring parameters from ..\\Models/lefty-1000000\n",
      "INFO:tensorflow:Restoring parameters from ..\\Models/dummy-920000\n",
      "INFO:tensorflow:Restoring parameters from ..\\Models/righty-1000000\n",
      "INFO:tensorflow:Restoring parameters from ..\\Models/decl-1000000\n",
      "INFO:tensorflow:Restoring parameters from ..\\Models/lefty-1000000\n",
      "INFO:tensorflow:Restoring parameters from ..\\Models/dummy-920000\n",
      "INFO:tensorflow:Restoring parameters from ..\\Models/righty-1000000\n",
      "INFO:tensorflow:Restoring parameters from ..\\Models/decl-1000000\n"
     ]
    }
   ],
   "source": [
    "models = Models.from_conf(conf.load('../Conf/UCBC2024.conf'),'..')   # loading neural networks\n",
    "sampler = Sample.from_conf(conf.load('../Conf/UCBC2024.conf'), True)  # Load sampling strategies"
   ]
  },
  {
   "cell_type": "code",
   "execution_count": 3,
   "id": "c3397678",
   "metadata": {},
   "outputs": [
    {
     "name": "stdout",
     "output_type": "stream",
     "text": [
      "Finding leads from neural network\n",
      "Cx 0.651\n",
      "Hx 0.164\n",
      "D8 0.162\n",
      "Now generating 100000 deals to find opening lead\n",
      "sample_cards_auction, nsteps= 3\n",
      "NS:  1.0 EW:  99.0 Auction:  ['PASS', '1C', '1C', 'PASS', '3C', 'PASS', '4S', 'PASS', 'PASS', 'PASS']\n",
      "nesw_i 3\n",
      "Player:  W Hand:  x.J9xx.8xxx.J9xx\n",
      "HCP:  [[ 8.65 12.27 14.84]]\n",
      "Shape:  [[4.49 3.42 3.24 1.78 2.83 3.02 2.77 4.42 4.72 2.88 3.05 2.3 ]]\n",
      "Setting seed (Sampling) from 4.J954.8632.J975: 588168504\n",
      "sample_cards_vec generating 100000\n",
      "sample_cards_vec took 1.97 Deals: 67838\n",
      "n_samples 67838 matching bidding info\n",
      "Samples after bidding filtering:  0  Threshold:  0.7\n",
      "Only found 1 10\n",
      "Generated samples: 10  OK Quality False\n",
      "Now simulate on 200 deals to find opening lead\n",
      "Opening lead being examined:  C7 10\n",
      "dds took 0.05143\n",
      "Opening lead being examined:  H5 10\n"
     ]
    },
    {
     "name": "stderr",
     "output_type": "stream",
     "text": [
      "Loaded lib dds.dll\n"
     ]
    },
    {
     "name": "stdout",
     "output_type": "stream",
     "text": [
      "dds took 0.1015\n",
      "Opening lead being examined:  D8 10\n",
      "dds took 0.068\n",
      "False\n",
      "CandidateCard(card=Cx, insta_score=0.6511, exp_tricks_sd=11.4, exp_tricks_dd=None, p_make_contract=0.1, exp_score_sd=None, exp_score_dd=None)\n",
      "CandidateCard(card=Hx, insta_score=0.1635, exp_tricks_sd=11.3, exp_tricks_dd=None, p_make_contract=0.1, exp_score_sd=None, exp_score_dd=None)\n",
      "CandidateCard(card=D8, insta_score=0.1624, exp_tricks_sd=11.4, exp_tricks_dd=None, p_make_contract=0.0, exp_score_sd=None, exp_score_dd=None)\n",
      "Accepted samples for opening lead: 10\n"
     ]
    }
   ],
   "source": [
    "# Camrose 2024 Deal 34\n",
    "# You are sitting North and you hold\n",
    "hand = '4.J954.8632.J975'\n",
    "\n",
    "# the auction goes:\n",
    "auction = [\"PASS\", \"1C\", \"1C\", \"PASS\", \"3C\", \"PASS\", \"4S\", \"PASS\", \"PASS\", \"PASS\"]\n",
    "\n",
    "# what to lead?\n",
    "\n",
    "lead_bot = BotLead([True, False], hand, models, sampler, 0, True)\n",
    "lead = lead_bot.find_opening_lead(auction)"
   ]
  },
  {
   "cell_type": "code",
   "execution_count": 4,
   "id": "a2b5fe25",
   "metadata": {},
   "outputs": [
    {
     "data": {
      "text/plain": [
       "C7"
      ]
     },
     "execution_count": 4,
     "metadata": {},
     "output_type": "execute_result"
    }
   ],
   "source": [
    "lead.card"
   ]
  },
  {
   "cell_type": "markdown",
   "id": "02e88396",
   "metadata": {},
   "source": [
    "seems like the engine chose to lead the ace of diamonds\n",
    "\n",
    "the other options it considered were: a small spade and a small club"
   ]
  },
  {
   "cell_type": "code",
   "execution_count": 5,
   "id": "956ef356",
   "metadata": {},
   "outputs": [
    {
     "data": {
      "text/plain": [
       "[{'card': 'Cx',\n",
       "  'insta_score': 0.651,\n",
       "  'expected_tricks_sd': 11.4,\n",
       "  'p_make_contract': 0.1},\n",
       " {'card': 'Hx',\n",
       "  'insta_score': 0.164,\n",
       "  'expected_tricks_sd': 11.3,\n",
       "  'p_make_contract': 0.1},\n",
       " {'card': 'D8',\n",
       "  'insta_score': 0.162,\n",
       "  'expected_tricks_sd': 11.4,\n",
       "  'p_make_contract': 0.0}]"
      ]
     },
     "execution_count": 5,
     "metadata": {},
     "output_type": "execute_result"
    }
   ],
   "source": [
    "lead.to_dict()['candidates']"
   ]
  },
  {
   "cell_type": "markdown",
   "id": "97efc5a1",
   "metadata": {},
   "source": [
    "in the above output:\n",
    "- `insta_score` reflects the preference of the neural network\n",
    "- `expected_tricks` how many tricks declarer is expected to take on this lead\n",
    "- `p_make_contract` is the probability of the contract making on this lead\n",
    "\n",
    "the probability of making and the expected tricks are computed on samples which are consistent with the auction. the samples are estimated single dummy using a neural network (more on this in another tutorial). we could also solve the samples double dummy, but that would be quite a bit slower."
   ]
  },
  {
   "cell_type": "code",
   "execution_count": 6,
   "id": "7cb2bf98",
   "metadata": {},
   "outputs": [
    {
     "data": {
      "text/plain": [
       "['x.J9xx.8xxx.J9xx T98xx.AKTxx.Tx.x KJx.Q8x.Axx.QTxx AQxx.x.KQJ9.AK8x 0.50025',\n",
       " 'x.J9xx.8xxx.J9xx Qxx.Txx.AJ9x.xxx 98xx.Axx.Kxx.KQT AKJTx.KQ8.QT.A8x 0.49979',\n",
       " 'x.J9xx.8xxx.J9xx K9xx.xx.QJTx.Q8x ATxx.Q8x.K9x.KTx QJ8x.AKTx.Ax.Axx 0.49978',\n",
       " 'x.J9xx.8xxx.J9xx KTx.ATxx.QJTx.A8 9xxx.Q8x.AKx.KTx AQJ8x.Kx.9x.Qxxx 0.49976',\n",
       " 'x.J9xx.8xxx.J9xx QJT8xx.ATxx.9x.Q K9.KQ8x.KJT.xxxx Axxx.x.AQxx.AKT8 0.49973',\n",
       " 'x.J9xx.8xxx.J9xx AKx.AQ8x.J9xx.xx Qx.KTxx.KQx.QT8x JT98xxx.x.AT.AKx 0.49972',\n",
       " 'x.J9xx.8xxx.J9xx 98xxx.AQTxx.Tx.Q JTx.K8x.KJx.AT8x AKQx.x.AQ9x.Kxxx 0.49971',\n",
       " 'x.J9xx.8xxx.J9xx KT9xxx.Tx.JTxx.x Qx.Q8xx.KQx.KTxx AJ8x.AKx.A9.AQ8x 0.49970',\n",
       " 'x.J9xx.8xxx.J9xx AJ98xx.ATx.QJ9.x KQ.Q8xx.Kxx.QTxx Txxx.Kx.ATx.AK8x 0.49970',\n",
       " 'x.J9xx.8xxx.J9xx AJ9xxx.8.Jxx.K8x Qx.ATxx.QTx.Axxx KT8x.KQxx.AK9.QT 0.49970']"
      ]
     },
     "execution_count": 6,
     "metadata": {},
     "output_type": "execute_result"
    }
   ],
   "source": [
    "# each row is one sample board\n",
    "# the hands are in the order: LHO, Partner, RHO. Your cards are not shown as they are fixed/\n",
    "\n",
    "lead.samples"
   ]
  }
 ],
 "metadata": {
  "kernelspec": {
   "display_name": "Python 3 (ipykernel)",
   "language": "python",
   "name": "python3"
  },
  "language_info": {
   "codemirror_mode": {
    "name": "ipython",
    "version": 3
   },
   "file_extension": ".py",
   "mimetype": "text/x-python",
   "name": "python",
   "nbconvert_exporter": "python",
   "pygments_lexer": "ipython3",
   "version": "3.11.0"
  }
 },
 "nbformat": 4,
 "nbformat_minor": 5
}
