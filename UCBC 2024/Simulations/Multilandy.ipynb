{
 "cells": [
  {
   "cell_type": "markdown",
   "id": "75d07246",
   "metadata": {},
   "source": [
    "# Bidding\n",
    "\n",
    "This is a tutorial for how to use the bidding engine"
   ]
  },
  {
   "cell_type": "code",
   "execution_count": 1,
   "id": "59a5664c",
   "metadata": {},
   "outputs": [
    {
     "name": "stdout",
     "output_type": "stream",
     "text": [
      "WARNING:tensorflow:From c:\\Python311\\Lib\\site-packages\\tensorflow\\python\\compat\\v2_compat.py:107: disable_resource_variables (from tensorflow.python.ops.variable_scope) is deprecated and will be removed in a future version.\n",
      "Instructions for updating:\n",
      "non-resource variables are not supported in the long term\n",
      "INFO:tensorflow:Restoring parameters from ..\\Models/NS1EW99-bidding_same-5556000\n",
      "INFO:tensorflow:Restoring parameters from ..\\Models/NS1EW99-binfo_same-5556000\n",
      "INFO:tensorflow:Restoring parameters from ..\\Models/lead_suit-999000\n",
      "INFO:tensorflow:Restoring parameters from ..\\Models/lead_nt-475000\n",
      "INFO:tensorflow:Restoring parameters from ..\\Models/Jack/lr3-1000000\n",
      "INFO:tensorflow:Restoring parameters from ..\\Models/single_dummy-32768000\n",
      "INFO:tensorflow:Restoring parameters from ..\\Models/lefty_nt-475000\n",
      "INFO:tensorflow:Restoring parameters from ..\\Models/dummy_nt-475000\n",
      "INFO:tensorflow:Restoring parameters from ..\\Models/righty_nt-475000\n",
      "INFO:tensorflow:Restoring parameters from ..\\Models/decl_nt-950000\n",
      "INFO:tensorflow:Restoring parameters from ..\\Models/lefty_suit-999000\n",
      "INFO:tensorflow:Restoring parameters from ..\\Models/dummy_suit-999000\n",
      "INFO:tensorflow:Restoring parameters from ..\\Models/righty_suit-999000\n",
      "INFO:tensorflow:Restoring parameters from ..\\Models/decl_suit-1278000\n"
     ]
    }
   ],
   "source": [
    "import sys\n",
    "sys.path.append('../../src')\n",
    "\n",
    "from nn.models import Models\n",
    "from bots import BotBid\n",
    "from util import hand_to_str\n",
    "from sample import Sample\n",
    "import conf\n",
    "import numpy as np\n",
    "\n",
    "np.set_printoptions(precision=2, suppress=True, linewidth=200)\n",
    "np.random.seed(42)\n",
    "\n",
    "models = Models.from_conf(conf.load('../Conf/UCBC2024.conf'),'..')   # loading neural networks\n",
    "sampler = Sample.from_conf(conf.load('../Conf/UCBC2024.conf'), False)  # Load sampling strategies\n"
   ]
  },
  {
   "cell_type": "markdown",
   "id": "10d8f2fc",
   "metadata": {},
   "source": [
    "### Running through an example"
   ]
  },
  {
   "cell_type": "code",
   "execution_count": 2,
   "id": "19dbfeb7",
   "metadata": {},
   "outputs": [],
   "source": [
    "# EW vulnerable.\n",
    "vuln_ns, vuln_ew = False, True\n",
    "# you sit North and hold:\n",
    "hand = 'QT5.T8.KQT87.864'\n",
    "bot_bid = BotBid([vuln_ns, vuln_ew], hand, models, sampler, 0, 3, False)\n",
    "\n",
    "# the auction goes:\n",
    "auction = [\"PAD_START\",\"PAD_START\",\"PAD_START\",\"PASS\"]\n",
    "bid = bot_bid.bid(auction)\n",
    "\n",
    "auction = [\"PAD_START\",\"PAD_START\",\"PAD_START\",\"PASS\", \"PASS\", \"1N\", \"2C\", \"PASS\"]\n",
    "# what's your bid?\n",
    "bid = bot_bid.bid(auction)\n"
   ]
  },
  {
   "cell_type": "code",
   "execution_count": 3,
   "id": "55b647a5",
   "metadata": {},
   "outputs": [
    {
     "data": {
      "text/plain": [
       "['QTx.T8.KQT8x.8xx AKxx.AKQx.J9x.xx xxx.J9x.Ax.AKQT9 J98.xxxx.xxx.Jxx 0.88559 \\n P-P-1N-2C-P-2S-P-P-P (6.0, 7.0)  \\n P-P-1N-2C-P-P-P (8.3, 8.5)  \\n P-P-1N-2C-P-2H-P-P-P (5.5, 7.2)  \\n P-P-1N-2C-P-2D-P-P-X-P-2H-3D-X-P-P-P (8.3, 7.9) ',\n",
       " 'QTx.T8.KQT8x.8xx AKxx.Qxxx.Ax.AT9 Jxx.AK9.9x.KQJxx 98x.Jxxx.Jxxx.xx 0.86874 \\n P-P-1N-2C-P-2S-P-P-P (6.7, 7.8)  \\n P-P-1N-2C-P-P-P (8.3, 8.1)  \\n P-P-1N-2C-P-2H-P-P-P (5.5, 7.6)  \\n P-P-1N-2C-P-2D-P-P-X-P-2H-3D-X-P-P-P (7.7, 8.2) ',\n",
       " 'QTx.T8.KQT8x.8xx KJx.Axx.Axx.KQTx A98xx.KQ9xx.x.J9 xx.Jxx.J9xx.Axxx 0.86392 \\n P-P-1N-2C-P-2S-P-P-P (7.9, 7.9)  \\n P-P-1N-2C-P-P-P (4.3, 5.6)  \\n P-P-1N-2C-P-2H-P-P-P (6.8, 7.5)  \\n P-P-1N-2C-P-2D-P-P-P (5.9, 7.0) ',\n",
       " 'QTx.T8.KQT8x.8xx Axx.AKJx.AJ9x.xx K98.9xx.xx.AKQ9x Jxxx.Qxxx.xx.JTx 0.85282 \\n P-P-1N-2C-P-2S-P-P-P (5.5, 6.3)  \\n P-P-1N-2C-P-P-P (8.1, 7.4)  \\n P-P-1N-2C-P-2H-P-P-P (4.7, 6.2)  \\n P-P-1N-2C-P-2D-P-P-X-P-2H-3D-X-P-P-P (7.0, 6.5) ',\n",
       " 'QTx.T8.KQT8x.8xx xxx.AQx.AJ9x.KJx AKJxx.KJxxx.x.Qx 98.9xx.xxx.AT9xx 0.82567 \\n P-P-1N-2C-P-2S-P-P-P (8.8, 8.6)  \\n P-P-1N-2C-P-P-P (4.6, 6.5)  \\n P-P-1N-2C-P-2H-P-P-P (7.6, 7.7)  \\n P-P-1N-2C-P-2D-P-P-P (6.5, 7.2) ',\n",
       " 'QTx.T8.KQT8x.8xx Kx.KJx.Axxx.KJ9x A8xxx.Qxxxx.9.AQ J9x.A9x.Jxx.Txxx 0.82168 \\n P-P-1N-2C-P-2S-P-P-P (8.3, 8.4)  \\n P-P-1N-2C-P-P-P (5.2, 6.3)  \\n P-P-1N-2C-P-2H-P-P-P (7.1, 7.3)  \\n P-P-1N-2C-P-2D-P-P-P (6.8, 6.7) ',\n",
       " 'QTx.T8.KQT8x.8xx A8xx.AQxx.Ax.KTx Kx.K9x.xxx.AQJxx J9xx.Jxxx.J9x.9x 0.81877 \\n P-P-1N-2C-P-2S-P-P-P (6.1, 7.2)  \\n P-P-1N-2C-P-P-P (9.0, 8.3)  \\n P-P-1N-2C-P-2H-P-P-P (6.1, 7.1)  \\n P-P-1N-2C-P-2D-P-P-P (9.3, 8.9) ',\n",
       " 'QTx.T8.KQT8x.8xx Axx.AKxx.Axxx.Qx K9x.Qxxx..AKT9xx J8xx.J9x.J9xx.Jx 0.79080 \\n P-P-1N-2C-P-2S-P-P-P (6.7, 7.3)  \\n P-P-1N-2C-P-P-P (9.5, 9.1)  \\n P-P-1N-2C-P-2H-P-P-P (7.0, 7.9)  \\n P-P-1N-2C-P-2D-P-P-X-P-2S-3D-X-P-P-P (6.8, 7.5) ',\n",
       " 'QTx.T8.KQT8x.8xx Jxx.AKJx.Axx.ATx AK9.9xx.J.KQJxxx 8xxx.Qxxx.9xxx.9 0.78557 \\n P-P-1N-2C-P-2S-P-P-P (6.0, 7.2)  \\n P-P-1N-2C-P-P-P (9.1, 8.9)  \\n P-P-1N-2C-P-2H-P-P-P (5.2, 7.0)  \\n P-P-1N-2C-P-2D-P-P-P (6.7, 7.4) ',\n",
       " 'QTx.T8.KQT8x.8xx A9xx.KQJx.Axx.Kx KJx.A9xx.x.ATxxx 8xx.xxx.J9xx.QJ9 0.76851 \\n P-P-1N-2C-P-2S-P-P-P (6.3, 7.5)  \\n P-P-1N-2C-P-P-P (7.7, 7.7)  \\n P-P-1N-2C-P-2H-P-P-P (6.0, 7.2)  \\n P-P-1N-2C-P-2D-P-P-P (6.7, 7.3) ',\n",
       " 'QTx.T8.KQT8x.8xx 9xxx.AKQx.Axx.QT AJ8.Jxxx.x.AK9xx Kxx.9xx.J9xx.Jxx 0.75998 \\n P-P-1N-2C-P-2S-P-P-P (6.4, 7.3)  \\n P-P-1N-2C-P-P-P (8.3, 7.7)  \\n P-P-1N-2C-P-2H-P-P-P (6.1, 7.1)  \\n P-P-1N-2C-P-2D-P-P-P (7.0, 7.2) ',\n",
       " 'QTx.T8.KQT8x.8xx AJ.Qxxx.AJ9x.K9x Kxxxx.AKxx.x.JTx 98x.J9x.xxx.AQxx 0.75505 \\n P-P-1N-2C-P-2S-P-P-P (7.5, 7.9)  \\n P-P-1N-2C-P-P-P (4.8, 6.1)  \\n P-P-1N-2C-P-2H-P-P-P (5.1, 6.7)  \\n P-P-1N-2C-P-2D-P-P-P (5.9, 6.5) ',\n",
       " 'QTx.T8.KQT8x.8xx AJ8x.AJx.xx.AK9x Kx.KQxx.Ax.QJTxx 9xxx.9xxx.J9xx.x 0.75341 \\n P-P-1N-2C-P-2S-P-P-P (5.7, 7.3)  \\n P-P-1N-2C-P-P-P (8.4, 8.4)  \\n P-P-1N-2C-P-2H-P-P-P (6.6, 7.8)  \\n P-P-1N-2C-P-2D-P-P-P (7.9, 7.9) ',\n",
       " 'QTx.T8.KQT8x.8xx AJ8.AKx.Jxxx.Axx K9xx.Q9xxx.A.QTx xxx.Jxx.9xx.KJ9x 0.74967 \\n P-P-1N-2C-P-2S-P-P-P (6.6, 7.2)  \\n P-P-1N-2C-P-P-P (5.5, 6.3)  \\n P-P-1N-2C-P-2H-P-P-P (6.4, 7.2)  \\n P-P-1N-2C-P-2D-P-P-P (6.1, 6.7) ',\n",
       " 'QTx.T8.KQT8x.8xx AKxx.Q9xx.Axx.Kx Jxx.AKx.9x.AJ9xx 98x.Jxxx.Jxx.QTx 0.74903 \\n P-P-1N-2C-P-2S-P-P-P (6.3, 7.2)  \\n P-P-1N-2C-P-P-P (7.7, 7.9)  \\n P-P-1N-2C-P-2H-P-P-P (5.4, 6.4)  \\n P-P-1N-2C-P-2D-P-P-P (7.5, 7.8) ',\n",
       " 'QTx.T8.KQT8x.8xx Kxxx.QJxx.AJx.Ax AJx.A9xx.x.KJTxx 98x.Kxx.9xxx.Q9x 0.74798 \\n P-P-1N-2C-P-2S-P-P-P (6.6, 7.8)  \\n P-P-1N-2C-P-P-P (8.8, 8.1)  \\n P-P-1N-2C-P-2H-P-P-P (6.6, 7.3)  \\n P-P-1N-2C-P-2D-P-P-P (7.2, 7.2) ',\n",
       " 'QTx.T8.KQT8x.8xx xxx.Axx.Axx.AKQx AJxx.KQJxx.9x.Tx K98.9xx.Jxx.J9xx 0.74610 \\n P-P-1N-2C-P-2S-P-P-P (7.5, 6.6)  \\n P-P-1N-2C-P-P-P (4.9, 5.8)  \\n P-P-1N-2C-P-2H-P-P-P (7.6, 6.7)  \\n P-P-1N-2C-P-2D-P-P-P (7.4, 6.6) ',\n",
       " 'QTx.T8.KQT8x.8xx A8x.9xx.AJx.AQ9x Jxxx.AKQxx.9x.Kx K9x.Jxx.xxx.JTxx 0.74348 \\n P-P-1N-2C-P-2S-P-P-P (7.5, 7.2)  \\n P-P-1N-2C-P-P-P (5.4, 5.7)  \\n P-P-1N-2C-P-2H-P-P-P (7.7, 7.3)  \\n P-P-1N-2C-P-2D-P-P-P (7.6, 7.7) ',\n",
       " 'QTx.T8.KQT8x.8xx AK8.Q9xx.Jx.KQTx Jxxxx.AKxx.Ax.xx 9x.Jxx.9xxx.AJ9x 0.74119 \\n P-P-1N-2C-P-2S-P-P-P (8.4, 8.5)  \\n P-P-1N-2C-P-P-P (4.4, 6.0)  \\n P-P-1N-2C-P-2H-P-P-P (5.5, 7.2)  \\n P-P-1N-2C-P-2D-P-P-P (7.6, 7.7) ',\n",
       " 'QTx.T8.KQT8x.8xx AK98.Kxx.Jxxx.AJ Jxx.AQxx.A.KQT9x xxx.J9xx.9xx.xxx 0.74017 \\n P-P-1N-2C-P-2S-P-P-P (8.2, 8.2)  \\n P-P-1N-2C-P-P-P (9.7, 9.6)  \\n P-P-1N-2C-P-2H-P-P-P (8.1, 8.1)  \\n P-P-1N-2C-P-2D-P-P-P (8.4, 8.7) ']"
      ]
     },
     "execution_count": 3,
     "metadata": {},
     "output_type": "execute_result"
    }
   ],
   "source": [
    "bid.samples"
   ]
  },
  {
   "cell_type": "markdown",
   "id": "7d0dd8f5",
   "metadata": {},
   "source": [
    "each row is one sample. the hands are in the order: N E S W\n",
    "\n",
    "(West always has the same cards because it's your hand and it's known to you)"
   ]
  },
  {
   "cell_type": "code",
   "execution_count": 4,
   "id": "7101e514",
   "metadata": {},
   "outputs": [
    {
     "name": "stdout",
     "output_type": "stream",
     "text": [
      "Good quality: True\n",
      "QTx.T8.KQT8x.8xx K8xx.AQ9x.A9x.Ax A9x.Kxx.xx.KQT9x Jxx.Jxxx.Jxx.Jxx\n",
      "QTx.T8.KQT8x.8xx Ax.A9x.A9xx.AJTx KJ9xx.KQxxx.J.xx 8xx.Jxx.xxx.KQ9x\n",
      "QTx.T8.KQT8x.8xx K9xx.AQxx.A9x.Kx A8x.KJ.xxx.AQTxx Jxx.9xxxx.Jx.J9x\n",
      "QTx.T8.KQT8x.8xx AJ.Jxx.A9xx.AKTx K98xx.AK9xx..Jxx xxx.Qxx.Jxxx.Q9x\n",
      "QTx.T8.KQT8x.8xx Jxx.AK9x.Axx.AJx AKx.QJx.Jx.KT9xx 98xx.xxxx.9xx.Qx\n",
      "QTx.T8.KQT8x.8xx Kx.Axx.AJxx.A9xx A8xxx.KQJ9x..KQT J9x.xxx.9xxx.Jxx\n",
      "QTx.T8.KQT8x.8xx AK9x.A9x.Axx.QTx 8xx.KQxx.J.AKxxx Jxx.Jxxx.9xxx.J9\n",
      "QTx.T8.KQT8x.8xx 8xx.AQx.Axx.KQJT AKJxx.KJ9xx.x.xx 9x.xxx.J9xx.A9xx\n",
      "QTx.T8.KQT8x.8xx xxx.QJx.Ax.AKQT9 AK9x.K9xxx.9x.Jx J8x.Axx.Jxxx.xxx\n",
      "QTx.T8.KQT8x.8xx A8xx.AKQx.Ax.Txx K9x.9xx.Jx.AK9xx Jxx.Jxxx.9xxx.QJ\n",
      "QTx.T8.KQT8x.8xx J98x.Axx.AJxx.AK AKx.QJxx.9.Qxxxx xxx.K9xx.xxx.JT9\n",
      "QTx.T8.KQT8x.8xx Axxx.AKJx.AJx.xx K8x.Qxxx.x.AJT9x J9x.9xx.9xxx.KQx\n",
      "QTx.T8.KQT8x.8xx AKxx.Kxxx.Axx.Jx 9xx.AJxx.x.AKT9x J8x.Q9x.J9xx.Qxx\n",
      "QTx.T8.KQT8x.8xx AK9x.Jxx.Axx.Axx J8x.AKxx.x.KQJ9x xxx.Q9xx.J9xx.Tx\n",
      "QTx.T8.KQT8x.8xx K9x.AKx.J9xx.AQ9 AJ8xxx.Q9xxx..KT x.Jxx.Axxx.Jxxxx\n",
      "QTx.T8.KQT8x.8xx KJ8x.Jxx.AJx.AQT Axx.AQ9x.x.K9xxx 9xx.Kxxx.9xxx.Jx\n",
      "QTx.T8.KQT8x.8xx 98x.AKx.AJxx.K9x AJxxx.QJxxx..AJx Kx.9xx.9xxx.QTxx\n",
      "QTx.T8.KQT8x.8xx AK9.AK9x.J9x.T9x Jx.xxx.Axx.AKQxx 8xxxx.QJxx.xx.Jx\n",
      "QTx.T8.KQT8x.8xx AK8x.Qx.AJ9x.QTx Jxx.AKJx.x.AKJ9x 9xx.9xxxx.xxx.xx\n",
      "QTx.T8.KQT8x.8xx KJx.K9x.Axx.AQTx A9xx.Qxxxx.x.KJ9 8xx.AJx.J9xx.xxx\n",
      "QTx.T8.KQT8x.8xx A98x.KQx.Axx.Kxx Kxx.AJx.Jx.AQJ9x Jxx.9xxxx.9xx.Tx\n",
      "QTx.T8.KQT8x.8xx Kxx.AQJx.9xx.KQT A98xx.K9xx.x.Axx Jx.xxx.AJxx.J9xx\n",
      "QTx.T8.KQT8x.8xx KJxx.AKJ.xxx.Kxx Ax.xxxx.A9.AQTxx 98xx.Q9xx.Jxx.J9\n",
      "QTx.T8.KQT8x.8xx AKJ.9xx.AJ9x.AT9 8xx.AQJx.x.KQxxx 9xxx.Kxxx.xxx.Jx\n",
      "QTx.T8.KQT8x.8xx KJx.KJx.AJxx.KJx 98xx.AQxxx.x.Axx Axx.9xx.9xx.QT9x\n",
      "QTx.T8.KQT8x.8xx J8x.KJx.AJx.AQ9x AKxx.AQx.x.KJTxx 9xx.9xxxx.9xxx.x\n",
      "QTx.T8.KQT8x.8xx 8x.Jxxx.AJx.AKQT KJxxx.AQxx.x.Jxx A9x.K9x.9xxx.9xx\n",
      "QTx.T8.KQT8x.8xx KJxx.AQ9x.A9.Qxx A8x.Kxx.xx.KJT9x 9xx.Jxxx.Jxxx.Ax\n",
      "QTx.T8.KQT8x.8xx xxx.AKx.Jxxx.AKQ AK8xx.Qxxx.A.9xx J9.J9xx.9xx.JTxx\n",
      "QTx.T8.KQT8x.8xx AKx.AKJx.Jxx.9xx 8xx.xxx.A.AKQJTx J9xx.Q9xx.9xxx.x\n",
      "QTx.T8.KQT8x.8xx Axx.AQJx.Axxx.Qx Jxx.K9x.J.AKJT9x K98x.xxxx.9xx.xx\n",
      "QTx.T8.KQT8x.8xx Axx.AKxx.A9x.9xx K9x.Qxx.Jx.AKQJx J8xx.J9xx.xxx.Tx\n",
      "QTx.T8.KQT8x.8xx AK8x.Q9x.Axx.Axx 9xx.AK.Jxx.KQ9xx Jxx.Jxxxxx.9x.JT\n",
      "QTx.T8.KQT8x.8xx A8x.AQx.A9xxx.KT KJxx.KJxxx..Q9xx 9xx.9xx.Jxx.AJxx\n",
      "QTx.T8.KQT8x.8xx KJ.AJxx.Jxxx.AK9 A98xx.KQxx.A.QJx xxx.9xx.9xx.Txxx\n",
      "QTx.T8.KQT8x.8xx Axx.Axxx.Axx.AJx KJx.KJ9.J9.Q9xxx 98xx.Qxxx.xxx.KT\n",
      "QTx.T8.KQT8x.8xx AK8.xxx.A9.KJ9xx Jxxx.AKQJx.xx.QT 9xx.9xx.Jxxx.Axx\n"
     ]
    }
   ],
   "source": [
    "# we got some samples above. if we want more, we can always get more\n",
    "\n",
    "sample_hands, sorted_score, p_hcp, p_shp, good_quality = bot_bid.sample_hands_for_auction([\"PAD_START\",\"PAD_START\",\"PAD_START\",\"PASS\", \"PASS\", \"1N\", \"2C\", \"PASS\"],0)\n",
    "print(\"Good quality:\", good_quality)\n",
    "for i in range(sample_hands.shape[0]):\n",
    "    print(f'{hand_to_str(sample_hands[i, 0, :])} {hand_to_str(sample_hands[i, 1, :])} {hand_to_str(sample_hands[i, 2, :])} {hand_to_str(sample_hands[i, 3, :])}')"
   ]
  }
 ],
 "metadata": {
  "kernelspec": {
   "display_name": "Python 3 (ipykernel)",
   "language": "python",
   "name": "python3"
  },
  "language_info": {
   "codemirror_mode": {
    "name": "ipython",
    "version": 3
   },
   "file_extension": ".py",
   "mimetype": "text/x-python",
   "name": "python",
   "nbconvert_exporter": "python",
   "pygments_lexer": "ipython3",
   "version": "3.11.0"
  }
 },
 "nbformat": 4,
 "nbformat_minor": 5
}
