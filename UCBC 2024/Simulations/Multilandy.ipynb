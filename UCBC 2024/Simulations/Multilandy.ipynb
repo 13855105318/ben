{
 "cells": [
  {
   "cell_type": "markdown",
   "id": "75d07246",
   "metadata": {},
   "source": [
    "# Bidding\n",
    "\n",
    "This is a tutorial for how to use the bidding engine"
   ]
  },
  {
   "cell_type": "code",
   "execution_count": 1,
   "id": "59a5664c",
   "metadata": {},
   "outputs": [
    {
     "name": "stdout",
     "output_type": "stream",
     "text": [
      "WARNING:tensorflow:From c:\\Python311\\Lib\\site-packages\\tensorflow\\python\\compat\\v2_compat.py:107: disable_resource_variables (from tensorflow.python.ops.variable_scope) is deprecated and will be removed in a future version.\n",
      "Instructions for updating:\n",
      "non-resource variables are not supported in the long term\n",
      "INFO:tensorflow:Restoring parameters from ..\\Models/NS1EW99-bidding_same-278000\n",
      "INFO:tensorflow:Restoring parameters from ..\\Models/NS1EW99-binfo_same-278000\n",
      "INFO:tensorflow:Restoring parameters from ..\\Models/lead_suit-154000\n",
      "INFO:tensorflow:Restoring parameters from ..\\Models/lead_nt-59000\n",
      "INFO:tensorflow:Restoring parameters from ..\\Models/lr3-1000000\n",
      "INFO:tensorflow:Restoring parameters from ..\\Models/single_dummy-32768000\n",
      "INFO:tensorflow:Restoring parameters from ..\\Models/lefty-1000000\n",
      "INFO:tensorflow:Restoring parameters from ..\\Models/dummy-920000\n",
      "INFO:tensorflow:Restoring parameters from ..\\Models/righty-1000000\n",
      "INFO:tensorflow:Restoring parameters from ..\\Models/decl-1000000\n"
     ]
    }
   ],
   "source": [
    "import sys\n",
    "sys.path.append('../../src')\n",
    "\n",
    "from nn.models import Models\n",
    "from bots import BotBid\n",
    "from util import hand_to_str\n",
    "from sample import Sample\n",
    "import conf\n",
    "import numpy as np\n",
    "\n",
    "np.set_printoptions(precision=2, suppress=True, linewidth=200)\n",
    "np.random.seed(42)\n",
    "\n",
    "models = Models.from_conf(conf.load('../Conf/UCBC2024.conf'),'..')   # loading neural networks\n",
    "sampler = Sample.from_conf(conf.load('../Conf/UCBC2024.conf'), False)  # Load sampling strategies\n"
   ]
  },
  {
   "cell_type": "markdown",
   "id": "10d8f2fc",
   "metadata": {},
   "source": [
    "### Running through an example"
   ]
  },
  {
   "cell_type": "code",
   "execution_count": 2,
   "id": "19dbfeb7",
   "metadata": {},
   "outputs": [],
   "source": [
    "# EW vulnerable.\n",
    "vuln_ns, vuln_ew = False, True\n",
    "# you sit North and hold:\n",
    "hand = 'QT5.T8.KQT87.864'\n",
    "bot_bid = BotBid([vuln_ns, vuln_ew], hand, models, sampler, 0, 3, False)\n",
    "\n",
    "# the auction goes:\n",
    "auction = [\"PAD_START\",\"PAD_START\",\"PAD_START\",\"PASS\"]\n",
    "bid = bot_bid.bid(auction)\n",
    "\n",
    "auction = [\"PAD_START\",\"PAD_START\",\"PAD_START\",\"PASS\", \"PASS\", \"1N\", \"2C\", \"PASS\"]\n",
    "# what's your bid?\n",
    "bid = bot_bid.bid(auction)\n"
   ]
  },
  {
   "cell_type": "code",
   "execution_count": 3,
   "id": "55b647a5",
   "metadata": {},
   "outputs": [
    {
     "data": {
      "text/plain": [
       "['QTx.T8.KQT8x.8xx K9.AQx.Axxx.QTxx AJ8xx.Kxxxx.9.AK xxx.J9x.Jxx.J9xx 0.78538 \\n P-P-1N-2C-P-P-P (6.7)  \\n P-P-1N-2C-P-2H-P-2S-P-P-P (9.9)  \\n P-P-1N-2C-P-2S-P-P-P (10.0) ',\n",
       " 'QTx.T8.KQT8x.8xx Axx.Kxx.AJx.KQTx KJ98x.AQ9xx.x.Ax xx.Jxx.9xxx.J9xx 0.78068 \\n P-P-1N-2C-P-P-P (6.0)  \\n P-P-1N-2C-P-2H-P-2S-P-P-P (9.7)  \\n P-P-1N-2C-P-2S-P-P-P (9.8) ',\n",
       " 'QTx.T8.KQT8x.8xx AK9.A9xx.AJxx.9x J8xx.KJx.9.AKJTx xxx.Qxxx.xxx.Qxx 0.75251 \\n P-P-1N-2C-P-P-P (7.8)  \\n P-P-1N-2C-P-2H-P-P-P (5.1)  \\n P-P-1N-2C-P-2S-P-P-P (7.3) ',\n",
       " 'QTx.T8.KQT8x.8xx 8xx.AQxx.A9x.KQT A9xx.KJx.x.AJ9xx KJx.9xxx.Jxxx.xx 0.74330 \\n P-P-1N-2C-P-P-P (8.3)  \\n P-P-1N-2C-P-2H-P-P-P (5.8)  \\n P-P-1N-2C-P-2S-P-P-P (8.2) ',\n",
       " 'QTx.T8.KQT8x.8xx AK.J9x.AJxx.Kxxx J98xx.KQxxx..AJ9 xxx.Axx.9xxx.QTx 0.74150 \\n P-P-1N-2C-P-P-P (5.5)  \\n P-P-1N-2C-P-2H-P-P-P (7.0)  \\n P-P-1N-2C-P-2S-P-P-P (7.8) ',\n",
       " 'QTx.T8.KQT8x.8xx xx.AKJ.Axxx.Axxx AJ9xx.Q9xxx.x.KQ K8x.xxx.J9x.JT9x 0.72056 \\n P-P-1N-2C-P-P-P (4.4)  \\n P-P-1N-2C-P-2H-P-P-P (7.0)  \\n P-P-1N-2C-P-2S-P-P-P (8.1) ',\n",
       " 'QTx.T8.KQT8x.8xx AK9.K9xx.Axx.J9x J8x.AQxx.9.AKTxx xxxx.Jxx.Jxxx.Qx 0.70450 \\n P-P-1N-2C-P-P-P (9.1)  \\n P-P-1N-2C-P-2H-P-P-P (7.6)  \\n P-P-1N-2C-P-2S-P-P-P (7.7) ',\n",
       " 'QTx.T8.KQT8x.8xx Kxxx.AKxx.J9x.Ax Ax.9xxx.Ax.KQJT9 J98x.QJx.xxx.xxx 0.70035 \\n P-P-1N-2C-P-P-P (9.2)  \\n P-P-1N-2C-P-2H-P-P-P (6.4)  \\n P-P-1N-2C-P-2S-P-P-P (5.7) ',\n",
       " 'QTx.T8.KQT8x.8xx Kxx.K9x.AJx.AQTx AJ8xx.AQJxxx.x.J 9x.xx.9xxx.K9xxx 0.68546 \\n P-P-1N-2C-P-P-P (5.4)  \\n P-P-1N-2C-P-2H-P-P-P (9.8)  \\n P-P-1N-2C-P-2S-P-2N-P-P-P (6.3) ',\n",
       " 'QTx.T8.KQT8x.8xx AJx.Q9x.9x.AKJxx K9xxx.Kxxxx.Ax.Q 8x.AJx.Jxxx.T9xx 0.67982 \\n P-P-1N-2C-P-P-P (3.0)  \\n P-P-1N-2C-P-2H-3C-P-P-P (9.7)  \\n P-P-1N-2C-P-2S-3C-P-P-P (9.7) ',\n",
       " 'QTx.T8.KQT8x.8xx xxx.AKxx.Axxx.Ax AK9x.Q9xx..KJTxx J8x.Jxx.J9xx.Q9x 0.64787 \\n P-P-1N-2C-P-P-P (8.8)  \\n P-P-1N-2C-P-2H-P-P-P (7.1)  \\n P-P-1N-2C-P-2S-P-P-P (8.3) ',\n",
       " 'QTx.T8.KQT8x.8xx KJ9x.AK9x.AJ9.Tx A8x.Jxxx.x.KQJxx xxx.Qxx.xxxx.A9x 0.63486 \\n P-P-1N-2C-P-P-P (7.2)  \\n P-P-1N-2C-P-2H-P-P-P (5.1)  \\n P-P-1N-2C-P-2S-P-P-P (5.0) ',\n",
       " 'QTx.T8.KQT8x.8xx A8x.9xxx.A9x.AKQ KJxxx.KQJx.J.T9x 9x.Axx.xxxx.Jxxx 0.63293 \\n P-P-1N-2C-P-P-P (5.5)  \\n P-P-1N-2C-P-2H-P-2S-P-P-P (7.9)  \\n P-P-1N-2C-P-2S-P-P-P (7.7) ',\n",
       " 'QTx.T8.KQT8x.8xx K9x.KQx.xxx.AKTx AJ8xxx.AJ9x.A9x. x.xxxx.Jx.QJ9xxx 0.61899 \\n P-P-1N-2C-P-P-P (4.9)  \\n P-P-1N-2C-P-2H-P-2S-P-P-P (11.6)  \\n P-P-1N-2C-P-2S-P-P-3C-P-P-P (7.6) ',\n",
       " 'QTx.T8.KQT8x.8xx KJx.A9xx.A9x.A9x Axx.KQxx.x.KQJxx 98xx.Jxx.Jxxx.Tx 0.61526 \\n P-P-1N-2C-P-P-P (8.9)  \\n P-P-1N-2C-P-2H-P-P-P (7.7)  \\n P-P-1N-2C-P-2S-P-P-P (7.3) ',\n",
       " 'QTx.T8.KQT8x.8xx K9x.Kxx.Ax.AQ9xx A8xxx.AQJx.9x.Jx Jx.9xxx.Jxxx.KTx 0.60915 \\n P-P-1N-2C-P-P-3C-P-P-P (7.4)  \\n P-P-1N-2C-P-2H-3C-P-P-P (7.4)  \\n P-P-1N-2C-P-2S-3C-P-P-P (7.4) ',\n",
       " 'QTx.T8.KQT8x.8xx Ax.KJxx.xxx.AKTx K98xx.Axxx.J9.QJ Jxx.Q9x.Axx.9xxx 0.59976 \\n P-P-1N-2C-P-P-P (3.8)  \\n P-P-1N-2C-P-2H-P-P-P (4.7)  \\n P-P-1N-2C-P-2S-P-P-P (7.9) ',\n",
       " 'QTx.T8.KQT8x.8xx xxxx.KJx.AJ.AQJx AK98x.AQxx.9.K9x J.9xxx.xxxxx.Txx 0.59561 \\n P-P-1N-2C-P-P-P (7.1)  \\n P-P-1N-2C-P-2H-P-2S-P-P-P (9.9)  \\n P-P-1N-2C-P-2S-P-P-P (9.8) ',\n",
       " 'QTx.T8.KQT8x.8xx Axx.Kxx.xx.AKJTx J98xxx.AQJx.Ax.Q K.9xxx.J9xx.9xxx 0.58413 \\n P-P-1N-2C-P-P-P (4.9)  \\n P-P-1N-2C-P-2H-3C-P-P-P (7.6)  \\n P-P-1N-2C-P-2S-3C-P-P-P (7.6) ',\n",
       " 'QTx.T8.KQT8x.8xx 8x.AKQx.xxx.AKQT AKJ9xx.xxxx.AJ.x xx.J9x.9xx.J9xxx 0.58246 \\n P-P-1N-2C-P-P-2H-2S-P-P-P (9.8)  \\n P-P-1N-2C-P-2H-P-2S-P-P-P (9.8)  \\n P-P-1N-2C-P-2S-P-P-P (9.8) ']"
      ]
     },
     "execution_count": 3,
     "metadata": {},
     "output_type": "execute_result"
    }
   ],
   "source": [
    "bid.samples"
   ]
  },
  {
   "cell_type": "markdown",
   "id": "7d0dd8f5",
   "metadata": {},
   "source": [
    "each row is one sample. the hands are in the order: N E S W\n",
    "\n",
    "(West always has the same cards because it's your hand and it's known to you)"
   ]
  },
  {
   "cell_type": "code",
   "execution_count": 4,
   "id": "7101e514",
   "metadata": {},
   "outputs": [
    {
     "name": "stdout",
     "output_type": "stream",
     "text": [
      "QTx.T8.KQT8x.8xx K9.AQx.Axxx.QTxx AJ8xx.Kxxxx.9.AK xxx.J9x.Jxx.J9xx\n",
      "QTx.T8.KQT8x.8xx Axx.Kxx.AJx.KQTx KJ98x.AQ9xx.x.Ax xx.Jxx.9xxx.J9xx\n",
      "QTx.T8.KQT8x.8xx AK9.A9xx.AJxx.9x J8xx.KJx.9.AKJTx xxx.Qxxx.xxx.Qxx\n",
      "QTx.T8.KQT8x.8xx 8xx.AQxx.A9x.KQT A9xx.KJx.x.AJ9xx KJx.9xxx.Jxxx.xx\n",
      "QTx.T8.KQT8x.8xx AK.J9x.AJxx.Kxxx J98xx.KQxxx..AJ9 xxx.Axx.9xxx.QTx\n",
      "QTx.T8.KQT8x.8xx xx.AKJ.Axxx.Axxx AJ9xx.Q9xxx.x.KQ K8x.xxx.J9x.JT9x\n",
      "QTx.T8.KQT8x.8xx AK9.K9xx.Axx.J9x J8x.AQxx.9.AKTxx xxxx.Jxx.Jxxx.Qx\n",
      "QTx.T8.KQT8x.8xx Kxxx.AKxx.J9x.Ax Ax.9xxx.Ax.KQJT9 J98x.QJx.xxx.xxx\n",
      "QTx.T8.KQT8x.8xx Kxx.K9x.AJx.AQTx AJ8xx.AQJxxx.x.J 9x.xx.9xxx.K9xxx\n",
      "QTx.T8.KQT8x.8xx AJx.Q9x.9x.AKJxx K9xxx.Kxxxx.Ax.Q 8x.AJx.Jxxx.T9xx\n",
      "QTx.T8.KQT8x.8xx xxx.AKxx.Axxx.Ax AK9x.Q9xx..KJTxx J8x.Jxx.J9xx.Q9x\n",
      "QTx.T8.KQT8x.8xx KJ9x.AK9x.AJ9.Tx A8x.Jxxx.x.KQJxx xxx.Qxx.xxxx.A9x\n",
      "QTx.T8.KQT8x.8xx A8x.9xxx.A9x.AKQ KJxxx.KQJx.J.T9x 9x.Axx.xxxx.Jxxx\n",
      "QTx.T8.KQT8x.8xx K9x.KQx.xxx.AKTx AJ8xxx.AJ9x.A9x. x.xxxx.Jx.QJ9xxx\n",
      "QTx.T8.KQT8x.8xx KJx.A9xx.A9x.A9x Axx.KQxx.x.KQJxx 98xx.Jxx.Jxxx.Tx\n",
      "QTx.T8.KQT8x.8xx K9x.Kxx.Ax.AQ9xx A8xxx.AQJx.9x.Jx Jx.9xxx.Jxxx.KTx\n",
      "QTx.T8.KQT8x.8xx Ax.KJxx.xxx.AKTx K98xx.Axxx.J9.QJ Jxx.Q9x.Axx.9xxx\n",
      "QTx.T8.KQT8x.8xx xxxx.KJx.AJ.AQJx AK98x.AQxx.9.K9x J.9xxx.xxxxx.Txx\n",
      "QTx.T8.KQT8x.8xx Axx.Kxx.xx.AKJTx J98xxx.AQJx.Ax.Q K.9xxx.J9xx.9xxx\n",
      "QTx.T8.KQT8x.8xx 8x.AKQx.xxx.AKQT AKJ9xx.xxxx.AJ.x xx.J9x.9xx.J9xxx\n",
      "QTx.T8.KQT8x.8xx Kx.AKx.9xx.AQTxx A98xx.QJ9x.Ax.J9 Jxx.xxxx.Jxx.Kxx\n",
      "QTx.T8.KQT8x.8xx Axx.KQx.Axx.AT9x KJ98x.A9xx.9x.Kx xx.Jxxx.Jxx.QJxx\n",
      "QTx.T8.KQT8x.8xx AKx.QJx.AJxx.Qxx J8xxx.AKxxx.x.K9 9x.9xx.9xx.AJTxx\n",
      "QTx.T8.KQT8x.8xx AKx.KQx.9xx.KJxx 98xxx.A9xx.A.Axx Jx.Jxxx.Jxxx.QT9\n",
      "QTx.T8.KQT8x.8xx AK8x.xx.Axx.KQTx J9xxx.AKQx.Jx.A9 x.J9xxx.9xx.Jxxx\n",
      "QTx.T8.KQT8x.8xx J8.Axx.A9x.AQJ9x AKxxx.QJxx.xx.Kx 9xx.K9xx.Jxx.Txx\n",
      "QTx.T8.KQT8x.8xx 98x.KJxx.Axx.AKx AKxxx.A9xx.xx.Jx Jx.Qxx.J9x.QT9xx\n",
      "QTx.T8.KQT8x.8xx A8x.Kxx.AJ9x.A9x KJ9xx.AJ9x.x.KJx xx.Qxxx.xxx.QTxx\n",
      "QTx.T8.KQT8x.8xx Kx.Jxxx.AJx.AK9x AJ98x.AKQx.xx.Qx xxx.9xx.9xx.JTxx\n",
      "QTx.T8.KQT8x.8xx AJx.AQx.J9.KQxxx K98xx.KJ9x.A.AT9 xx.xxxx.xxxxx.Jx\n",
      "QTx.T8.KQT8x.8xx Jxx.AQxx.Ax.KJTx A9xxx.KJxx.xx.Ax K8.9xx.J9xx.Q9xx\n",
      "QTx.T8.KQT8x.8xx A9x.K9xx.AJ.KQJx KJ8xx.Axxx.x.A9x xx.QJx.9xxxx.Txx\n",
      "QTx.T8.KQT8x.8xx 9x.AKxx.Axxx.A9x AKJ8x.QJ9x.xx.KT xxx.xxx.J9.QJxxx\n",
      "QTx.T8.KQT8x.8xx AKx.AQ9x.9xx.QJx J98xx.Kxxx.Ax.Kx xx.Jxx.Jxx.AT9xx\n",
      "QTx.T8.KQT8x.8xx A8x.QJxx.Jxx.AQJ KJ9xx.Axxx.A.K9x xx.K9x.9xxx.Txxx\n",
      "QTx.T8.KQT8x.8xx KJx.Qxx.A9.AJTxx A98xx.AKJxx.xxx. xx.9xx.Jxx.KQ9xx\n",
      "QTx.T8.KQT8x.8xx Ax.xxx.AJxx.AKxx K9xxx.AKQx.x.QJT J8x.J9xx.9xx.9xx\n",
      "QTx.T8.KQT8x.8xx Kx.Ax.Axxxx.AJTx AJ98xx.KJ9xx..Q9 xx.Qxxx.J9x.Kxxx\n",
      "QTx.T8.KQT8x.8xx Axx.KJx.AJ9x.QTx J98xx.AQ9x.x.KJx Kx.xxxx.xxx.A9xx\n",
      "QTx.T8.KQT8x.8xx Axx.xx.A9xx.AKTx KJ9x.AQ9xxx.Jx.x 8xx.KJx.xx.QJ9xx\n",
      "QTx.T8.KQT8x.8xx Jxx.Qxx.AJ.AKQxx AK9xxx.AJ9xx.9.x 8.Kxx.xxxxx.JT9x\n",
      "QTx.T8.KQT8x.8xx 9x.Kxx.Axxx.AKQx AK8xx.AJ9x..J9xx Jxx.Qxxx.J9xx.Tx\n",
      "QTx.T8.KQT8x.8xx KJ9x.AKxx.xx.KQ9 A8xxx.QJxx.Axx.T x.9xx.J9x.AJxxxx\n",
      "QTx.T8.KQT8x.8xx Axxx.KQ.xxx.AKQ9 KJxx.A9xxxx.A.xx 98.Jxx.J9xx.JTxx\n",
      "QTx.T8.KQT8x.8xx Axxx.KQx.Jxx.AQx KJ8x.AJ9xxx.A.K9 9x.xx.9xxx.JTxxx\n",
      "QTx.T8.KQT8x.8xx Ax.Kxxx.Axx.AJTx KJxx.QJ9xxx.J.Kx 98xx.A.9xxx.Q9xx\n",
      "QTx.T8.KQT8x.8xx AJ9.Kx.AJx.KJ9xx K8xx.AQJ9xx.x.QT xxx.xxx.9xxx.Axx\n",
      "QTx.T8.KQT8x.8xx AJ9xx.Ax.Axx.Kxx K8xx.KQJ9x.xx.Qx x.xxxx.J9x.AJT9x\n",
      "QTx.T8.KQT8x.8xx Ax.Jxx.A9xx.AK9x J8xxx.AK9x.x.QJx K9x.Qxxx.Jxx.Txx\n",
      "QTx.T8.KQT8x.8xx AJx.Kxx.J9xx.AKT K9xx.AJ9xx.x.QJx 8xx.Qxx.Axx.9xxx\n",
      "QTx.T8.KQT8x.8xx AKx.A9xx.Axx.Jxx J8xx.KQJxx.J.Kxx 9xx.xx.9xxx.AQT9\n",
      "QTx.T8.KQT8x.8xx AJ.AJx.xxxx.AKxx K8xx.KQxxx.A.T9x 9xxx.9xx.J9x.QJx\n",
      "QTx.T8.KQT8x.8xx J9x.KQx.Axxx.AK9 AKxx.Jxxxx.9.QJx 8xx.A9x.Jxx.Txxx\n",
      "QTx.T8.KQT8x.8xx A8xx.KQxx.Jx.AJx K9xxx.AJxx.xx.Kx J.9xx.A9xx.QT9xx\n",
      "QTx.T8.KQT8x.8xx 8x.K9xx.AJx.AKJx KJ9x.AQJxxx.9x.T Axxx.x.xxx.Q9xxx\n",
      "QTx.T8.KQT8x.8xx AK8.J9xx.A9x.Axx Jxxx.AKQxxx.x.JT 9xx.x.Jxxx.KQ9xx\n",
      "QTx.T8.KQT8x.8xx AJ8.Ax.J9xx.AKJx Kxxx.KJ9xx.Ax.9x 9xx.Qxxx.xx.QTxx\n",
      "QTx.T8.KQT8x.8xx AJx.Kxx.A9x.AQxx K8xx.AJ9xx.xx.KJ 9xx.Qxx.Jxx.T9xx\n",
      "QTx.T8.KQT8x.8xx Axx.Jxx.AJxx.AJx K98x.AKQxxx.xx.x Jxx.9x.9x.KQT9xx\n",
      "QTx.T8.KQT8x.8xx A9x.AQxx.Jx.KJTx K8x.KJx.A9.Q9xxx Jxxx.9xxx.xxxx.A\n",
      "QTx.T8.KQT8x.8xx AJx.xx.AJx.KQT9x K98x.AK9xxx.9x.A xxx.QJx.xxx.Jxxx\n",
      "QTx.T8.KQT8x.8xx A9xx.AKx.AJ9x.Qx KJxx.Q9xxx.x.AKx 8x.Jxx.xxx.JT9xx\n",
      "QTx.T8.KQT8x.8xx Kxx.xx.AJxx.AKJx AJ8x.AQ9xxx.x.Q9 9xx.KJx.9xx.Txxx\n",
      "QTx.T8.KQT8x.8xx A9xx.KQ.J9x.AKJx KJ8x.AJxxxx.A.Tx xx.9xx.xxxx.Q9xx\n",
      "QTx.T8.KQT8x.8xx AK9.xxx.Ax.AT9xx Jxxx.AQ9xx.Jx.KJ 8xx.KJx.9xxx.Qxx\n",
      "QTx.T8.KQT8x.8xx AKJ.Jxx.Jxx.KQJx 8xxx.AK9xx.A.Txx 9xx.Qxx.9xxx.A9x\n",
      "QTx.T8.KQT8x.8xx AKJx.KJx.Axx.Q9x 9xxx.AQxxx.x.AKx 8x.9xx.J9xx.JTxx\n",
      "QTx.T8.KQT8x.8xx AK9x.Kxx.xx.AJTx Jxxx.Axxxx.Jx.KQ 8x.QJ9.A9xx.9xxx\n",
      "QTx.T8.KQT8x.8xx Kxx.Axxx.AJx.Axx AJ9x.KQJxx.9x.JT 8xx.9x.xxx.KQ9xx\n",
      "QTx.T8.KQT8x.8xx A9.A9x.AJ9x.A9xx KJxx.KQJxx.xx.KT 8xxx.xxx.xx.QJxx\n",
      "QTx.T8.KQT8x.8xx xxx.AJx.AJx.KQJ9 AJ8x.KQ9xxx.x.Ax K9x.xx.9xxx.Txxx\n",
      "QTx.T8.KQT8x.8xx KJ.Qxx.Axx.AKT9x A98x.AKxxx.Jxx.x xxxx.J9x.9x.QJxx\n",
      "QTx.T8.KQT8x.8xx K8xx.Ax.Axx.AJ9x AJ9x.KJxxx.9x.Kx xx.Q9xx.Jxx.QTxx\n",
      "QTx.T8.KQT8x.8xx K8x.K9x.xxx.AKQ9 J9xx.AQxxx.Ax.Tx Axx.Jxx.J9x.Jxxx\n",
      "QTx.T8.KQT8x.8xx Ax.KQJx.Axxx.Qxx KJ98.A9xxx.x.AJ9 xxxx.xx.J9x.KTxx\n",
      "QTx.T8.KQT8x.8xx AKx.Kxx.J9xx.Axx 9xxx.AQJxx.A.Q9x J8x.9xx.xxx.KJTx\n",
      "QTx.T8.KQT8x.8xx K9xx.K9x.A9x.AQx AJ8x.AQJxxx.x.Kx xx.xx.Jxxx.JT9xx\n",
      "QTx.T8.KQT8x.8xx KJ9x.KJ9.Axx.AJx A8xx.Axxxx.J9.Qx xx.Qxx.xxx.KT9xx\n",
      "QTx.T8.KQT8x.8xx K8xx.K9.Axx.KQT9 AJxx.AQJxx.9xx.x 9x.xxxx.Jx.AJxxx\n",
      "QTx.T8.KQT8x.8xx KJx.xx.A9xx.AKQJ A9xx.AKQxx.x.9xx 8xx.J9xx.Jxx.Txx\n",
      "QTx.T8.KQT8x.8xx K98x.A9x.AJx.ATx AJxx.KQJxx.9.K9x xx.xxx.xxxx.QJxx\n",
      "QTx.T8.KQT8x.8xx 8xxx.A9.Axx.AKTx AKxx.KJxxx.9.QJ9 J9.Qxxx.Jxxx.xxx\n",
      "QTx.T8.KQT8x.8xx K98x.Axxx.A9x.KJ AJxxx.KQJ9x.x.9x x.xx.Jxxx.AQTxxx\n",
      "QTx.T8.KQT8x.8xx AJxx.Jxx.A9x.AKJ K9xx.AKQ9xx.Jx.Q 8x.xx.xxx.T9xxxx\n",
      "QTx.T8.KQT8x.8xx A8xx.Ax.A9x.AQTx KJ9x.KQJ9xx..KJx xx.xxx.Jxxxx.9xx\n",
      "QTx.T8.KQT8x.8xx AKxx.9xx.9x.AKQx J98x.KQJxx.Ax.J9 xx.Axx.Jxxx.Txxx\n",
      "QTx.T8.KQT8x.8xx Axx.KJx.Axx.QJTx J98x.AQ9xx.9x.Ax Kxx.xxx.Jxx.K9xx\n",
      "QTx.T8.KQT8x.8xx xxx.AKxx.AJ9x.KQ AKJ9.Jxxxx.x.A9x 8xx.Q9.xxx.JTxxx\n",
      "QTx.T8.KQT8x.8xx K98x.AKJ.9xx.AKx Axxx.Q9xxx.Ax.Qx Jx.xxx.Jxx.JT9xx\n",
      "QTx.T8.KQT8x.8xx AK8.xxx.Ax.KJxxx Jxxxx.AKJxx.x.A9 9x.Q9x.J9xxx.QTx\n",
      "QTx.T8.KQT8x.8xx A8.Kxx.AJx.AT9xx Kxxx.AQ9xx.xx.KQ J9xx.Jxx.9xx.Jxx\n",
      "QTx.T8.KQT8x.8xx AJ9x.K9x.Jxx.AQT Kxx.Qxxx.A.K9xxx 8xx.AJxx.9xxx.Jx\n",
      "QTx.T8.KQT8x.8xx A9.xxxx.Axx.AKTx K8xxx.AKQJx..J9x Jxx.9x.J9xxx.Qxx\n",
      "QTx.T8.KQT8x.8xx KJ8x.9x.Axx.AQJx 9xxx.AKQJx.9x.Kx Ax.xxxx.Jxx.T9xx\n",
      "QTx.T8.KQT8x.8xx Jx.KJ9.AJ9x.KQ9x A8xx.AQxxx.x.AJT K9xx.xxx.xxx.xxx\n",
      "QTx.T8.KQT8x.8xx Ax.Qxx.Axxx.AKTx KJxx.AKJxx.J9x.x 98xx.9xx.x.QJ9xx\n",
      "QTx.T8.KQT8x.8xx 9x.KJ.Axxxx.AKQx AKJxxx.Axxx.x.J9 8x.Q9xxx.J9.Txxx\n",
      "QTx.T8.KQT8x.8xx xx.AQJx.Jxx.AKxx AKJ8x.K9xxx.9xx. 9xx.xx.Ax.QJT9xx\n",
      "QTx.T8.KQT8x.8xx K9x.KJx.Axx.AJ9x AJxxx.A9xxx..Kxx 8x.Qxx.J9xxx.QTx\n",
      "QTx.T8.KQT8x.8xx xxx.AKx.Ax.KJ9xx AKJ9x.QJ9xx.9.Qx 8x.xxx.Jxxxx.ATx\n",
      "QTx.T8.KQT8x.8xx A8x.AJ9.Jxx.AJTx KJxx.Qxxxx.Ax.Kx 9xx.Kxx.9xx.Q9xx\n",
      "QTx.T8.KQT8x.8xx AJ9x.AKJ.Jxx.JTx K8xx.Qxxxx.A.AKx xx.9xx.9xxx.Q9xx\n",
      "QTx.T8.KQT8x.8xx K8x.Qxxx.Axx.AQ9 J9xx.AKJ9xx.J.Kx Axx.x.9xxx.JTxxx\n",
      "QTx.T8.KQT8x.8xx KJx.Qx.Jxx.AKJxx A9xx.AKxxx.9x.QT 8xx.J9xx.Axx.9xx\n",
      "QTx.T8.KQT8x.8xx Kx.KJx.Jxxx.AKxx AJ9x.AQ9xx.x.Jxx 8xxx.xxx.A9x.QT9\n",
      "QTx.T8.KQT8x.8xx K9.AKJ9.xxx.KJxx AJxx.Qxxxx.A.A9x 8xxx.xx.J9xx.QTx\n",
      "QTx.T8.KQT8x.8xx Kxx.AK9.Jx.KQJxx AJ98.QJxxxx.A.9x xxx.xx.9xxxx.ATx\n",
      "QTx.T8.KQT8x.8xx AJx.Kx.A9x.ATxxx K8xx.AQJxx.Jx.Kx 9xx.9xxx.xxx.QJ9\n",
      "QTx.T8.KQT8x.8xx KJ.Axxx.A9x.Kxxx A8xx.KQ9xx.xx.Qx 9xxx.Jx.Jxx.AJT9\n",
      "QTx.T8.KQT8x.8xx Kx.AQx.Jxx.AQ9xx AJ9x.KJ9xx.A9x.x 8xxx.xxx.xx.KJTx\n",
      "QTx.T8.KQT8x.8xx Ax.Axx.9xx.AK9xx KJxx.KJxxx.AJx.J 98xx.Q9x.xx.QTxx\n",
      "QTx.T8.KQT8x.8xx AKx.Kx.9xx.AKxxx Jxxx.AQJxx.Ax.JT 98x.9xxx.Jxx.Q9x\n",
      "QTx.T8.KQT8x.8xx J8.QJx.AJ9x.AKJx K9xx.AK9xx..Q9xx Axxx.xxx.xxxx.Tx\n",
      "QTx.T8.KQT8x.8xx Kxx.Kx.Axx.KQT9x A98x.AJxxx.9x.AJ Jxx.Q9xx.Jxx.xxx\n",
      "QTx.T8.KQT8x.8xx Axx.KJxx.Axxx.Kx 8xx.AQ9.Jx.AJT9x KJ9x.xxxx.9x.Qxx\n",
      "QTx.T8.KQT8x.8xx AJx.J9.xxx.AKQJ9 K9xx.AQxxx.AJ.xx 8xx.Kxxx.9xx.Txx\n",
      "QTx.T8.KQT8x.8xx Jx.QJx.A9xx.AKxx K8xx.AKxxx.Jx.QJ A9xx.9xx.xx.T9xx\n",
      "QTx.T8.KQT8x.8xx Axx.K9x.AJ9xx.K9 KJ8.QJxx.x.AJTxx 9xxx.Axxx.xx.Qxx\n",
      "QTx.T8.KQT8x.8xx A8xx.Kxx.Jx.AKT9 KJ9x.AQJ9x.Ax.Qx xx.xxx.9xxx.Jxxx\n",
      "QTx.T8.KQT8x.8xx AK8x.Axx.9x.A9xx Jxxx.KQJ9x.Ax.KT 9x.xxx.Jxxx.QJxx\n",
      "QTx.T8.KQT8x.8xx J9x.J9.Axx.AKQJx K8xx.AKQxxxx.Jx. Axx.xx.9xx.T9xxx\n",
      "QTx.T8.KQT8x.8xx A9x.KQ9.Jx.AKxxx KJ8x.AJxxx.A9.J9 xxx.xxx.xxxx.QTx\n",
      "QTx.T8.KQT8x.8xx AKx.Qxx.Jx.AQT9x J98x.AKJ9x.Ax.Kx xxx.xxx.9xxx.Jxx\n"
     ]
    }
   ],
   "source": [
    "# we got some samples above. if we want more, we can always get more\n",
    "\n",
    "sample_hands, sorted_score, p_hcp, p_shp, good_quality = bot_bid.sample_hands_for_auction([\"PAD_START\",\"PAD_START\",\"PAD_START\",\"PASS\", \"PASS\", \"1N\", \"2C\", \"PASS\"],0)\n",
    "print(\"Good quality:\", good_quality)\n",
    "for i in range(sample_hands.shape[0]):\n",
    "    print(f'{hand_to_str(sample_hands[i, 0, :])} {hand_to_str(sample_hands[i, 1, :])} {hand_to_str(sample_hands[i, 2, :])} {hand_to_str(sample_hands[i, 3, :])}')"
   ]
  }
 ],
 "metadata": {
  "kernelspec": {
   "display_name": "Python 3 (ipykernel)",
   "language": "python",
   "name": "python3"
  },
  "language_info": {
   "codemirror_mode": {
    "name": "ipython",
    "version": 3
   },
   "file_extension": ".py",
   "mimetype": "text/x-python",
   "name": "python",
   "nbconvert_exporter": "python",
   "pygments_lexer": "ipython3",
   "version": "3.11.0"
  }
 },
 "nbformat": 4,
 "nbformat_minor": 5
}
