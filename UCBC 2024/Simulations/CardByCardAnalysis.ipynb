{
 "cells": [
  {
   "cell_type": "markdown",
   "id": "21a4c878",
   "metadata": {},
   "source": [
    "# Detailed Analysis (Bid by Bid, Card by Card)\n",
    "\n",
    "This is a tutorial of how to do a detailed analysis of a played board.\n",
    "\n",
    "The engine looks at the bidding and play as it originally happened, and does an analysis for every bid and every card played.\n",
    "\n",
    "The analysis is not just a double-dummy analysis for the exact current layout (like if you would press the \"GIB\" button on BBO). Instead, it's an analysis over many different possible layouts (samples)."
   ]
  },
  {
   "cell_type": "code",
   "execution_count": 1,
   "id": "16f73f71",
   "metadata": {},
   "outputs": [
    {
     "name": "stdout",
     "output_type": "stream",
     "text": [
      "WARNING:tensorflow:From c:\\Python311\\Lib\\site-packages\\tensorflow\\python\\compat\\v2_compat.py:107: disable_resource_variables (from tensorflow.python.ops.variable_scope) is deprecated and will be removed in a future version.\n",
      "Instructions for updating:\n",
      "non-resource variables are not supported in the long term\n"
     ]
    }
   ],
   "source": [
    "import sys\n",
    "import os\n",
    "sys.path.append('../../src')\n",
    "os.environ['BEN_HOME'] = \"../..\"\n",
    "\n",
    "from nn.models import Models\n",
    "from analysis import CardByCard\n",
    "from util import parse_lin, display_lin\n",
    "from sample import Sample\n",
    "import conf\n",
    "import numpy as np\n",
    "\n",
    "np.set_printoptions(precision=2, suppress=True, linewidth=200)\n",
    "np.random.seed(42)\n"
   ]
  },
  {
   "cell_type": "code",
   "execution_count": 2,
   "id": "ca7fa897",
   "metadata": {},
   "outputs": [
    {
     "name": "stdout",
     "output_type": "stream",
     "text": [
      "INFO:tensorflow:Restoring parameters from ..\\Models/NS1EW99-bidding-10724000\n",
      "INFO:tensorflow:Restoring parameters from ..\\Models/NS1EW99-binfo-6131000\n",
      "INFO:tensorflow:Restoring parameters from ..\\Models/lead_suit-154000\n",
      "INFO:tensorflow:Restoring parameters from ..\\Models/lead_nt-59000\n",
      "INFO:tensorflow:Restoring parameters from ..\\Models/lr3-1000000\n",
      "INFO:tensorflow:Restoring parameters from ..\\Models/single_dummy-32768000\n",
      "INFO:tensorflow:Restoring parameters from ..\\Models/lefty-1000000\n",
      "INFO:tensorflow:Restoring parameters from ..\\Models/dummy-920000\n",
      "INFO:tensorflow:Restoring parameters from ..\\Models/righty-1000000\n",
      "INFO:tensorflow:Restoring parameters from ..\\Models/decl-1000000\n"
     ]
    }
   ],
   "source": [
    "models = Models.from_conf(conf.load('../Conf/UCBC2024.conf'),'..')   # loading neural networks\n",
    "sampler = Sample.from_conf(conf.load('../Conf/UCBC2024.conf'), False)  # Load sampling strategies\n"
   ]
  },
  {
   "cell_type": "code",
   "execution_count": 3,
   "id": "2940c18a",
   "metadata": {},
   "outputs": [],
   "source": [
    "# we specify all the information about a board\n",
    "# (it's quite tedious to enter every single thing by hand here,\n",
    "# later we'll have an example of how you can give it a board played on BBO)\n",
    "\n",
    "dealer = 'N'\n",
    "vuln = [False, False]  # fist element is NS, second element is EW\n",
    "\n",
    "hands = ['87.84.T7.AKJ9764','JT53.QT.AJ6542.8','KQ96.K9.Q83.QT32','A42.AJ76532.K9.5']\n",
    "\n",
    "auction = ['3C', 'PASS', '4C', '4H', 'PASS', 'PASS', 'PASS']\n",
    "\n",
    "play = ['CA', 'C8', 'C3', 'C5',\n",
    "    'S8', 'ST', 'SQ', 'SA',\n",
    "    'DK', 'DT', 'D6', 'D3',\n",
    "    'D9', 'D7', 'DA', 'D8', \n",
    "    'DJ', 'DQ', 'HJ', 'S7']"
   ]
  },
  {
   "cell_type": "code",
   "execution_count": 4,
   "id": "79dae473",
   "metadata": {},
   "outputs": [],
   "source": [
    "card_by_card = CardByCard(dealer, vuln, hands, auction, play, models, sampler, False)"
   ]
  },
  {
   "cell_type": "code",
   "execution_count": 5,
   "id": "7ab0cce5",
   "metadata": {},
   "outputs": [
    {
     "name": "stdout",
     "output_type": "stream",
     "text": [
      "analyzing the bidding\n",
      "3C OK\n",
      "PASS OK\n",
      "4C ? NN-value: PASS 0.972\n",
      "4H OK\n",
      "PASS OK\n",
      "PASS OK\n",
      "PASS ? NN-value: 5C 0.436\n",
      "analyzing the play\n",
      "CA\n"
     ]
    },
    {
     "name": "stderr",
     "output_type": "stream",
     "text": [
      "Loaded lib dds.dll\n"
     ]
    },
    {
     "name": "stdout",
     "output_type": "stream",
     "text": [
      "C8 OK\n",
      "C3 OK\n",
      "C5 OK\n",
      "S8 OK\n",
      "ST OK\n",
      "SQ OK\n",
      "SA OK\n",
      "DK ? losing: 0.40\n",
      "DT OK\n",
      "D6 OK\n",
      "D3 OK\n",
      "D9 ?? losing: 1.00\n",
      "D7 OK\n",
      "DA OK\n",
      "D8 OK\n",
      "DJ OK\n",
      "DQ OK\n",
      "HJ OK\n",
      "S7 OK\n"
     ]
    }
   ],
   "source": [
    "# calling this starts the analysis\n",
    "# it will go bid-by-bid and card-by-card, and will take a few moments\n",
    "# possible mistakes will be annotated with ? or with ?? (if it's a bigger mistake)\n",
    "# (possible mistake means that the engine does not agree with the bid/play. the engine could be wrong too :))\n",
    "\n",
    "card_by_card.analyze()"
   ]
  },
  {
   "cell_type": "code",
   "execution_count": 6,
   "id": "73be8e31",
   "metadata": {},
   "outputs": [
    {
     "data": {
      "text/plain": [
       "{'bid': '3C',\n",
       " 'candidates': [{'call': '3C', 'insta_score': 0.959}],\n",
       " 'samples': [],\n",
       " 'hcp': -1,\n",
       " 'shape': -1,\n",
       " 'who': 'Analysis'}"
      ]
     },
     "execution_count": 6,
     "metadata": {},
     "output_type": "execute_result"
    }
   ],
   "source": [
    "# the engine does not agree with the 1N opening.\n",
    "# indeed, it's a little offbeat with a singleton\n",
    "# let's see what the engine is thinking (what would it bid instead)\n",
    "\n",
    "card_by_card.bid_responses[0].to_dict()  # the 0 index is the first bid in the auction"
   ]
  },
  {
   "cell_type": "markdown",
   "id": "186f6cff",
   "metadata": {},
   "source": [
    "the engine very confidently opens `1C` and doesn't even consider `1N`"
   ]
  },
  {
   "cell_type": "code",
   "execution_count": 7,
   "id": "573b5939",
   "metadata": {},
   "outputs": [
    {
     "data": {
      "text/plain": [
       "{'card': 'CA',\n",
       " 'candidates': [{'card': 'DT',\n",
       "   'insta_score': 0.032,\n",
       "   'expected_tricks_sd': 11.71,\n",
       "   'p_make_contract': 0.08},\n",
       "  {'card': 'CA',\n",
       "   'insta_score': 0.955,\n",
       "   'expected_tricks_sd': 11.55,\n",
       "   'p_make_contract': 0.05}],\n",
       " 'samples': ['KQJxx.xxx.KJxx.8 T9xx.T.9xxx.Txxx Ax.AKQJ9xx.AQ8.Q 0.34878',\n",
       "  'KQT9.QTxx.Q8x.Q8 xxxx.9.J9xxx.xxx AJx.AKJxxx.AKx.T 0.31813',\n",
       "  'AQxx.Jxx.QJ9x.Qx xxx.Tx.8xxxx.Txx KJT9.AKQ9xx.AK.8 0.31518',\n",
       "  'KQJxx.KJ9.J8xxx. Txx.Txx.xx.T8xxx A9x.AQxxx.AKQ9.Q 0.31224',\n",
       "  'QJ9xx.9xxx.K9xx. Txxx.Tx.8x.T8xxx AK.AKQJx.AQJxx.Q 0.30247',\n",
       "  'QTxx.9xxx.K9x.xx 9xx.x.AQJxxx.T8x AKJx.AKQJTx.8x.Q 0.29973',\n",
       "  'QJTx.Qxxx.Qxx.QT xxx.x.AK9xxx.xxx AK9x.AKJT9x.J8.8 0.29953',\n",
       "  'AJ9xx.ATx.Qxx.T8 Tx.9xx.98xxx.xxx KQxx.KQJxx.AKJ.Q 0.29819',\n",
       "  'AQJTx.JTxx.Kxx.x xx.9.AQJ8xx.T8xx K9xx.AKQxxx.9x.Q 0.29071',\n",
       "  'QJTx.JTx.J9xx.T8 9xx.x.AQ8xxx.Qxx AKxx.AKQ9xxx.K.x 0.29010'],\n",
       " 'hcp': -1,\n",
       " 'shape': -1}"
      ]
     },
     "execution_count": 7,
     "metadata": {},
     "output_type": "execute_result"
    }
   ],
   "source": [
    "# what about the opening lead? let's see...\n",
    "\n",
    "card_by_card.cards['CA'].to_dict()"
   ]
  },
  {
   "cell_type": "markdown",
   "id": "0a2a2bde",
   "metadata": {},
   "source": [
    "the engine agrees with leading a low club, but it's very close. the alternative is a low heart"
   ]
  },
  {
   "cell_type": "code",
   "execution_count": 8,
   "id": "7dcf0964",
   "metadata": {},
   "outputs": [
    {
     "data": {
      "text/plain": [
       "{'card': 'H9',\n",
       " 'candidates': [{'card': 'H9',\n",
       "   'insta_score': 1.0,\n",
       "   'expected_tricks_dd': 2.3,\n",
       "   'p_make_contract': 0.43,\n",
       "   'expected_score_dd': -224},\n",
       "  {'card': 'HK',\n",
       "   'insta_score': 0.0,\n",
       "   'expected_tricks_dd': 0.72,\n",
       "   'p_make_contract': 0.0,\n",
       "   'expected_score_dd': -458}],\n",
       " 'samples': ['8xx.x.T9.AKJ9xxx JTxx.QT.AJxxxx.8 KQ9x.K9.Q8x.QTxx Ax.AJ8xxxxx.Kx.x 0.779',\n",
       "  '8xx.x.9x.AKJ9xxx JTxx.QT.AJxxxx.8 KQ9x.K9.Q8x.QTxx Ax.AJ8xxxxx.KT.x 0.775',\n",
       "  '8xx.x.Tx.AKJ9xxx JTxx.QT.AJxxxx.8 KQ9x.K9.Q8x.QTxx Ax.AJ8xxxxx.K9.x 0.772',\n",
       "  '8x.x.T9x.AKJ9xxx JTxx.QT.AJxxxx.8 KQ9x.K9.Q8x.QTxx Axx.AJ8xxxxx.K.x 0.692',\n",
       "  '8xx.xx.T.AKJ9xxx JTxx.QT.AJxxxx.8 KQ9x.K9.Q8x.QTxx Ax.AJ8xxxx.K9x.x 0.511',\n",
       "  '8xx.xx.9.AKJ9xxx JTxx.QT.AJxxxx.8 KQ9x.K9.Q8x.QTxx Ax.AJ8xxxx.KTx.x 0.509',\n",
       "  '8xx.xx.x.AKJ9xxx JTxx.QT.AJxxxx.8 KQ9x.K9.Q8x.QTxx Ax.AJ8xxxx.KT9.x 0.505',\n",
       "  '8xx.8x.9.AKJ9xxx JTxx.QT.AJxxxx.8 KQ9x.K9.Q8x.QTxx Ax.AJxxxxx.KTx.x 0.503',\n",
       "  '8xx.8x.T.AKJ9xxx JTxx.QT.AJxxxx.8 KQ9x.K9.Q8x.QTxx Ax.AJxxxxx.K9x.x 0.502',\n",
       "  '8xx.8x.x.AKJ9xxx JTxx.QT.AJxxxx.8 KQ9x.K9.Q8x.QTxx Ax.AJxxxxx.KT9.x 0.497'],\n",
       " 'hcp': [8.4, 14.0],\n",
       " 'shape': [[2.3, 1.7, 2.5, 6.7], [2.9, 6.2, 3.4, 0.4]]}"
      ]
     },
     "execution_count": 8,
     "metadata": {},
     "output_type": "execute_result"
    }
   ],
   "source": [
    "# the engine considers dummy's discard of D3 on the first trick a big mistake.\n",
    "# perhaps we should ruff instead, let's see what the engine suggests\n",
    "\n",
    "card_by_card.cards['D3'].to_dict()"
   ]
  },
  {
   "cell_type": "markdown",
   "id": "d6dcab82",
   "metadata": {},
   "source": [
    "indeed, the best play is to ruff low.\n",
    "\n",
    "looking at the samples, we see that East has the `CA` in every sample (this is by inference because underleading an A is very unlikely)"
   ]
  },
  {
   "cell_type": "markdown",
   "id": "994e8878",
   "metadata": {},
   "source": [
    "## Analyzing a board played on BBO"
   ]
  },
  {
   "cell_type": "code",
   "execution_count": 9,
   "id": "cdd0edee",
   "metadata": {},
   "outputs": [],
   "source": [
    "# copy-paste from the hand records (in lin format)\n",
    "\n",
    "lin = 'pn|You,~~M7228oka,~~M72302cm,~~M72316sq|st||md|1S4TKHJD68QC679TKA,S35H479TQKD24TAC8,S2789H3AD379JKC35,|rh||ah|Board 3|sv|e|mb|1C|an|Minor suit opening -- 3+ !C; 11-21 HCP; 12-22 total points|mb|2H|an|Aggressive weak jump overcall -- 6+ !H; 4-10 HCP |mb|d|an|Negative double -- 4+ !S; 7+ HCP; 8+ total points |mb|4H|an|The Law: 10 trump -> game support -- 4+ total points |mb|4S|an|3+ !C; 4+ !S; 16-21 HCP; 17-22 total points|mb|p|mb|p|mb|p|pg||pc|DA|pc|D3|pc|D5|pc|D6|pg||pc|C8|pc|C3|pc|CJ|pc|CA|pg||pc|S4|pc|S5|pc|S8|pc|SJ|pg||pc|H5|pc|HJ|pc|HQ|pc|HA|pg||pc|S2|pc|SA|pc|ST|pc|S3|pg||pc|H2|pc|SK|pc|H4|pc|H3|pg||pc|D8|pc|D2|pc|DJ|pc|S6|pg||pc|SQ|pc|C6|pc|H7|pc|S7|pg||pc|H8|pc|C7|pc|HK|pc|S9|pg||pc|C5|pc|C2|pc|CT|pc|HT|pg||pc|CK|pc|H9|pc|D7|pc|C4|pg||pc|DQ|pc|D4|pc|DK|pc|H6|pg||pc|D9|pc|CQ|pc|C9|pc|DT|pg||'"
   ]
  },
  {
   "cell_type": "code",
   "execution_count": 10,
   "id": "86ccd5f5",
   "metadata": {},
   "outputs": [
    {
     "data": {
      "text/html": [
       "<iframe width=\"800\" height=\"600\" src=\"http://bridgebase.com/tools/handviewer.html?lin=pn|You,~~M7228oka,~~M72302cm,~~M72316sq|st||md|1S4TKHJD68QC679TKA,S35H479TQKD24TAC8,S2789H3AD379JKC35,|rh||ah|Board 3|sv|e|mb|1C|an|Minor suit opening -- 3+ !C; 11-21 HCP; 12-22 total points|mb|2H|an|Aggressive weak jump overcall -- 6+ !H; 4-10 HCP |mb|d|an|Negative double -- 4+ !S; 7+ HCP; 8+ total points |mb|4H|an|The Law: 10 trump -> game support -- 4+ total points |mb|4S|an|3+ !C; 4+ !S; 16-21 HCP; 17-22 total points|mb|p|mb|p|mb|p|pg||pc|DA|pc|D3|pc|D5|pc|D6|pg||pc|C8|pc|C3|pc|CJ|pc|CA|pg||pc|S4|pc|S5|pc|S8|pc|SJ|pg||pc|H5|pc|HJ|pc|HQ|pc|HA|pg||pc|S2|pc|SA|pc|ST|pc|S3|pg||pc|H2|pc|SK|pc|H4|pc|H3|pg||pc|D8|pc|D2|pc|DJ|pc|S6|pg||pc|SQ|pc|C6|pc|H7|pc|S7|pg||pc|H8|pc|C7|pc|HK|pc|S9|pg||pc|C5|pc|C2|pc|CT|pc|HT|pg||pc|CK|pc|H9|pc|D7|pc|C4|pg||pc|DQ|pc|D4|pc|DK|pc|H6|pg||pc|D9|pc|CQ|pc|C9|pc|DT|pg||\" />"
      ],
      "text/plain": [
       "<IPython.core.display.HTML object>"
      ]
     },
     "execution_count": 10,
     "metadata": {},
     "output_type": "execute_result"
    }
   ],
   "source": [
    "display_lin(lin)"
   ]
  },
  {
   "cell_type": "code",
   "execution_count": 11,
   "id": "8fa74a29",
   "metadata": {},
   "outputs": [],
   "source": [
    "board = parse_lin(lin)"
   ]
  },
  {
   "cell_type": "code",
   "execution_count": 12,
   "id": "fb875929",
   "metadata": {},
   "outputs": [],
   "source": [
    "card_by_card = CardByCard(*board, models, sampler, False)"
   ]
  },
  {
   "cell_type": "code",
   "execution_count": 13,
   "id": "49c15172",
   "metadata": {},
   "outputs": [
    {
     "name": "stdout",
     "output_type": "stream",
     "text": [
      "analyzing the bidding\n",
      "1C OK\n",
      "2H OK\n",
      "X OK\n",
      "4H ? NN-value: PASS 0.324\n",
      "4S ? NN-value: 5C 0.049\n",
      "PASS OK\n",
      "PASS OK\n",
      "PASS OK\n",
      "analyzing the play\n",
      "DA\n",
      "D3 OK\n",
      "D5 OK\n",
      "D6 OK\n",
      "C8 OK\n",
      "C3 OK\n",
      "CJ OK\n",
      "CA OK\n",
      "S4 ?? losing: 1.75\n",
      "S5 OK\n",
      "S8 OK\n",
      "SJ OK\n",
      "H5 OK\n",
      "HJ OK\n",
      "HQ OK\n",
      "HA OK\n",
      "S2 OK\n",
      "SA OK\n",
      "ST OK\n",
      "S3 OK\n",
      "H2 OK\n",
      "SK OK\n",
      "H4 OK\n",
      "H3 OK\n",
      "D8 OK\n",
      "D2 OK\n",
      "DJ OK\n",
      "S6 OK\n",
      "SQ OK\n",
      "C6 ?? losing: 1.00\n",
      "H7 OK\n",
      "S7 OK\n",
      "H8 OK\n",
      "C7 OK\n",
      "HK OK\n",
      "S9 OK\n",
      "C5 OK\n",
      "C2 OK\n",
      "CT OK\n",
      "HT OK\n",
      "CK OK\n",
      "H9 OK\n",
      "D7 OK\n",
      "C4 OK\n",
      "DQ OK\n",
      "D4 OK\n",
      "DK OK\n",
      "H6 OK\n"
     ]
    }
   ],
   "source": [
    "card_by_card.analyze()"
   ]
  },
  {
   "cell_type": "markdown",
   "id": "bf465259",
   "metadata": {},
   "source": [
    "the engine agrees with the bidding, but didn't like something in the cardplay.\n",
    "\n",
    "playing `S4` from hand is the first mistake. apparently this play drops almost half a trick on average."
   ]
  },
  {
   "cell_type": "code",
   "execution_count": 14,
   "id": "d79d9389",
   "metadata": {},
   "outputs": [
    {
     "data": {
      "text/plain": [
       "{'card': 'CK',\n",
       " 'candidates': [{'card': 'CK',\n",
       "   'insta_score': 0.107,\n",
       "   'expected_tricks_dd': 6.85,\n",
       "   'p_make_contract': 0.0,\n",
       "   'expected_score_dd': -108},\n",
       "  {'card': 'DQ',\n",
       "   'insta_score': 0.113,\n",
       "   'expected_tricks_dd': 6.85,\n",
       "   'p_make_contract': 0.0,\n",
       "   'expected_score_dd': -108},\n",
       "  {'card': 'D8',\n",
       "   'insta_score': 0.046,\n",
       "   'expected_tricks_dd': 6.85,\n",
       "   'p_make_contract': 0.0,\n",
       "   'expected_score_dd': -108},\n",
       "  {'card': 'HJ',\n",
       "   'insta_score': 0.325,\n",
       "   'expected_tricks_dd': 6.1,\n",
       "   'p_make_contract': 0.0,\n",
       "   'expected_score_dd': -145},\n",
       "  {'card': 'C7',\n",
       "   'insta_score': 0.222,\n",
       "   'expected_tricks_dd': 5.45,\n",
       "   'p_make_contract': 0.0,\n",
       "   'expected_score_dd': -178},\n",
       "  {'card': 'C6',\n",
       "   'insta_score': 0.222,\n",
       "   'expected_tricks_dd': 5.45,\n",
       "   'p_make_contract': 0.0,\n",
       "   'expected_score_dd': -178},\n",
       "  {'card': 'C9',\n",
       "   'insta_score': 0.021,\n",
       "   'expected_tricks_dd': 5.45,\n",
       "   'p_make_contract': 0.0,\n",
       "   'expected_score_dd': -178},\n",
       "  {'card': 'CT',\n",
       "   'insta_score': 0.012,\n",
       "   'expected_tricks_dd': 5.45,\n",
       "   'p_make_contract': 0.0,\n",
       "   'expected_score_dd': -178},\n",
       "  {'card': 'S4',\n",
       "   'insta_score': 0.061,\n",
       "   'expected_tricks_dd': 5.1,\n",
       "   'p_make_contract': 0.0,\n",
       "   'expected_score_dd': -195},\n",
       "  {'card': 'ST',\n",
       "   'insta_score': 0.003,\n",
       "   'expected_tricks_dd': 5.1,\n",
       "   'p_make_contract': 0.0,\n",
       "   'expected_score_dd': -195},\n",
       "  {'card': 'SK',\n",
       "   'insta_score': 0.09,\n",
       "   'expected_tricks_dd': 4.55,\n",
       "   'p_make_contract': 0.0,\n",
       "   'expected_score_dd': -222}],\n",
       " 'samples': ['.Q9xxxx.ATxx.Q8x 98xx.Ax.KJ9xx.xx AQJxxx.KT8x.x.Jx KTx.J.Q8x.AKT9xx 0.304',\n",
       "  '.K8xxxx.ATxx.8xx 98xx.Ax.KJ9xx.xx AQJxxx.QT9x.x.QJ KTx.J.Q8x.AKT9xx 0.245',\n",
       "  '.KQT8xx.ATxx.Q8x 98xx.Ax.KJ9xx.xx AQJxxx.9xxx.x.Jx KTx.J.Q8x.AKT9xx 0.204',\n",
       "  'x.Q98xxx.ATx.Q8x 98xx.Ax.KJ9xx.xx AQJxx.KTxx.xx.Jx KTx.J.Q8x.AKT9xx 0.204',\n",
       "  'x.QT98xx.ATx.Q8x 98xx.Ax.KJ9xx.xx AQJxx.Kxxx.xx.Jx KTx.J.Q8x.AKT9xx 0.200',\n",
       "  'x.QT98xx.Axx.Q8x 98xx.Ax.KJ9xx.xx AQJxx.Kxxx.Tx.Jx KTx.J.Q8x.AKT9xx 0.189',\n",
       "  'J.QT98xx.ATx.Q8x 98xx.Ax.KJ9xx.xx AQxxx.Kxxx.xx.Jx KTx.J.Q8x.AKT9xx 0.174',\n",
       "  'x.K98xxx.ATx.Q8x 98xx.Ax.KJ9xx.xx AQJxx.QTxx.xx.Jx KTx.J.Q8x.AKT9xx 0.166',\n",
       "  'x.KT98xx.ATx.Q8x 98xx.Ax.KJ9xx.xx AQJxx.Qxxx.xx.Jx KTx.J.Q8x.AKT9xx 0.163',\n",
       "  'x.KT8xxx.ATx.Q8x 98xx.Ax.KJ9xx.xx AQJxx.Q9xx.xx.Jx KTx.J.Q8x.AKT9xx 0.161'],\n",
       " 'hcp': [7.3, 8.0],\n",
       " 'shape': [[3.1, 4.4, 3.2, 2.2], [2.3, 6.0, 2.7, 1.9]]}"
      ]
     },
     "execution_count": 14,
     "metadata": {},
     "output_type": "execute_result"
    }
   ],
   "source": [
    "card_by_card.cards['S4'].to_dict()"
   ]
  },
  {
   "cell_type": "markdown",
   "id": "760b7b2f",
   "metadata": {},
   "source": [
    "the opening lead of `DA` is interesting. the engine prefers the `HK` and it's the only card it considers."
   ]
  },
  {
   "cell_type": "code",
   "execution_count": 15,
   "id": "00c728a0",
   "metadata": {},
   "outputs": [
    {
     "data": {
      "text/plain": [
       "{'card': 'DA',\n",
       " 'candidates': [{'card': 'C8',\n",
       "   'insta_score': 0.085,\n",
       "   'expected_tricks_sd': 12.04,\n",
       "   'p_make_contract': 0.01},\n",
       "  {'card': 'HK',\n",
       "   'insta_score': 0.837,\n",
       "   'expected_tricks_sd': 11.96,\n",
       "   'p_make_contract': 0.01}],\n",
       " 'samples': ['JT98x.x.KJx.AQxx x.AJ8xxx.Q8xxx.x AKQxx..9.KJT9xxx 0.50374',\n",
       "  'QJT9xx.x.KQJ.Kxx 8.AJ8xxx.98x.QJT AKxx..xxx.A9xxxx 0.50338',\n",
       "  'AJT8x.x.KJ8.KJxx x.AJ8xxx.Q9xxx.x KQ9xx..x.AQT9xxx 0.47506',\n",
       "  'AKQxx.xx.QJ8x.xx T.AJ8xx.K9x.T9xx J98xx..xx.AKQJxx 0.46506',\n",
       "  'ATxx..KJ98xx.Axx 98.AJ8xxxx.Q.T9x KQJxx..xx.KQJxxx 0.46324',\n",
       "  'KJT8x.8x.KQ.QT9x x.AJxxx.J98xxx.x AQ9xx..x.AKJxxxx 0.46099',\n",
       "  'AQJ9xx.J8.Kxx.Jx .Axxxx.Q98x.QT9x KT8xx..Jx.AKxxxx 0.45736',\n",
       "  'AQxxx.A8.Qxx.Txx 9.Jxxxx.KJ8x.QJ9 KJT8x..9x.AKxxxx 0.45580',\n",
       "  'AKJT8x.x.Jxx.QTx 9.AJ8xx.Q98x.J9x Qxxx.x.Kx.AKxxxx 0.45523',\n",
       "  'AQJTxx..K8xx.Jxx x.AJxxx.QJxx.9xx K98x.8x.9.AKQTxx 0.44782'],\n",
       " 'hcp': -1,\n",
       " 'shape': -1}"
      ]
     },
     "execution_count": 15,
     "metadata": {},
     "output_type": "execute_result"
    }
   ],
   "source": [
    "card_by_card.cards['DA'].to_dict()"
   ]
  },
  {
   "cell_type": "code",
   "execution_count": null,
   "id": "e55103f4",
   "metadata": {},
   "outputs": [],
   "source": []
  }
 ],
 "metadata": {
  "kernelspec": {
   "display_name": "Python 3 (ipykernel)",
   "language": "python",
   "name": "python3"
  },
  "language_info": {
   "codemirror_mode": {
    "name": "ipython",
    "version": 3
   },
   "file_extension": ".py",
   "mimetype": "text/x-python",
   "name": "python",
   "nbconvert_exporter": "python",
   "pygments_lexer": "ipython3",
   "version": "3.11.0"
  }
 },
 "nbformat": 4,
 "nbformat_minor": 5
}
