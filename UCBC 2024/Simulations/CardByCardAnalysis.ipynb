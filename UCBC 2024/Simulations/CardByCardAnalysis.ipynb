{
 "cells": [
  {
   "cell_type": "markdown",
   "id": "21a4c878",
   "metadata": {},
   "source": [
    "# Detailed Analysis (Bid by Bid, Card by Card)\n",
    "\n",
    "This is a tutorial of how to do a detailed analysis of a played board.\n",
    "\n",
    "The engine looks at the bidding and play as it originally happened, and does an analysis for every bid and every card played.\n",
    "\n",
    "The analysis is not just a double-dummy analysis for the exact current layout (like if you would press the \"GIB\" button on BBO). Instead, it's an analysis over many different possible layouts (samples)."
   ]
  },
  {
   "cell_type": "code",
   "execution_count": 1,
   "id": "16f73f71",
   "metadata": {},
   "outputs": [],
   "source": [
    "import sys\n",
    "import os\n",
    "sys.path.append('../../src')\n",
    "os.environ['BEN_HOME'] = \"../..\"\n",
    "\n",
    "from nn.models import Models\n",
    "from analysis import CardByCard\n",
    "from util import parse_lin, display_lin\n",
    "from sample import Sample\n",
    "import conf\n",
    "import numpy as np\n",
    "\n",
    "np.set_printoptions(precision=2, suppress=True, linewidth=200)\n",
    "np.random.seed(42)\n"
   ]
  },
  {
   "cell_type": "code",
   "execution_count": 2,
   "id": "ca7fa897",
   "metadata": {},
   "outputs": [
    {
     "name": "stdout",
     "output_type": "stream",
     "text": [
      "WARNING:tensorflow:From c:\\Python311\\Lib\\site-packages\\tensorflow\\python\\compat\\v2_compat.py:107: disable_resource_variables (from tensorflow.python.ops.variable_scope) is deprecated and will be removed in a future version.\n",
      "Instructions for updating:\n",
      "non-resource variables are not supported in the long term\n",
      "INFO:tensorflow:Restoring parameters from ..\\Models/NS1EW99-bidding_same-5556000\n",
      "INFO:tensorflow:Restoring parameters from ..\\Models/NS1EW99-binfo_same-5556000\n",
      "INFO:tensorflow:Restoring parameters from ..\\Models/lead_suit-999000\n",
      "INFO:tensorflow:Restoring parameters from ..\\Models/lead_nt-475000\n",
      "INFO:tensorflow:Restoring parameters from ..\\Models/Jack/lr3-1000000\n",
      "INFO:tensorflow:Restoring parameters from ..\\Models/single_dummy-32768000\n",
      "INFO:tensorflow:Restoring parameters from ..\\Models/jack/lefty-1000000\n",
      "INFO:tensorflow:Restoring parameters from ..\\Models/jack/dummy-920000\n",
      "INFO:tensorflow:Restoring parameters from ..\\Models/jack/righty-1000000\n",
      "INFO:tensorflow:Restoring parameters from ..\\Models/jack/decl-1000000\n",
      "INFO:tensorflow:Restoring parameters from ..\\Models/jack/lefty-1000000\n",
      "INFO:tensorflow:Restoring parameters from ..\\Models/jack/dummy-920000\n",
      "INFO:tensorflow:Restoring parameters from ..\\Models/jack/righty-1000000\n",
      "INFO:tensorflow:Restoring parameters from ..\\Models/jack/decl-1000000\n"
     ]
    }
   ],
   "source": [
    "models = Models.from_conf(conf.load('../Conf/UCBC2024.conf'),'..')   # loading neural networks\n",
    "sampler = Sample.from_conf(conf.load('../Conf/UCBC2024.conf'), False)  # Load sampling strategies\n"
   ]
  },
  {
   "cell_type": "code",
   "execution_count": 3,
   "id": "2940c18a",
   "metadata": {},
   "outputs": [],
   "source": [
    "# we specify all the information about a board\n",
    "# (it's quite tedious to enter every single thing by hand here,\n",
    "# later we'll have an example of how you can give it a board played on BBO)\n",
    "\n",
    "dealer = 'N'\n",
    "vuln = [False, False]  # fist element is NS, second element is EW\n",
    "\n",
    "hands = ['87.84.T7.AKJ9764','JT53.QT.AJ6542.8','KQ96.K9.Q83.QT32','A42.AJ76532.K9.5']\n",
    "\n",
    "auction = ['3C', 'PASS', '4C', '4H', 'PASS', 'PASS', 'PASS']\n",
    "\n",
    "play = ['CA', 'C8', 'C3', 'C5',\n",
    "    'S8', 'ST', 'SQ', 'SA',\n",
    "    'DK', 'DT', 'D6', 'D3',\n",
    "    'D9', 'D7', 'DA', 'D8', \n",
    "    'DJ', 'DQ', 'HJ', 'S7']"
   ]
  },
  {
   "cell_type": "code",
   "execution_count": 4,
   "id": "79dae473",
   "metadata": {},
   "outputs": [],
   "source": [
    "card_by_card = CardByCard(dealer, vuln, hands, auction, play, models, sampler, False)"
   ]
  },
  {
   "cell_type": "code",
   "execution_count": 5,
   "id": "7ab0cce5",
   "metadata": {},
   "outputs": [
    {
     "name": "stdout",
     "output_type": "stream",
     "text": [
      "analyzing the bidding\n",
      "3C OK NN-value: 0.942\n"
     ]
    },
    {
     "name": "stderr",
     "output_type": "stream",
     "text": [
      "Loaded lib dds.dll\n"
     ]
    },
    {
     "name": "stdout",
     "output_type": "stream",
     "text": [
      "PASS OK NN-value: 0.999\n",
      "4C Suggested bid from NN: CandidateBid(bid=PASS, insta_score=0.9221, expected_score=-51.20, adjust=  46)\n",
      "4C is not in the bids from the neural network\n",
      "4H OK NN-value: 0.454\n",
      "PASS OK NN-value: 0.914\n",
      "PASS OK NN-value: 0.903\n",
      "PASS Suggested bid from NN: CandidateBid(bid=5C  , insta_score=0.6373, expected_score=-265.75, adjust=  32)\n",
      "PASS NN-values:CandidateBid(bid=PASS, insta_score=0.3227, expected_score=-360.40, adjust=  16)\n",
      "analyzing opening lead\n",
      "CA\n",
      "CA OK\n",
      "analyzing play\n",
      "C8 OK\n",
      "C3 OK\n",
      "C5 OK\n",
      "S8 OK\n",
      "ST OK\n",
      "SQ OK\n",
      "SA ? losing: 0.40\n",
      "DK OK\n",
      "DT OK\n",
      "D6 OK\n",
      "D3 OK\n",
      "D9 OK\n",
      "D7 OK\n",
      "DA OK\n",
      "D8 OK\n",
      "DJ OK\n",
      "DQ OK\n",
      "HJ OK\n",
      "S7 OK\n"
     ]
    }
   ],
   "source": [
    "# calling this starts the analysis\n",
    "# it will go bid-by-bid and card-by-card, and will take a few moments\n",
    "# possible mistakes will be annotated with ? or with ?? (if it's a bigger mistake)\n",
    "# (possible mistake means that the engine does not agree with the bid/play. the engine could be wrong too :))\n",
    "\n",
    "await card_by_card.analyze()"
   ]
  },
  {
   "cell_type": "code",
   "execution_count": 6,
   "id": "73be8e31",
   "metadata": {},
   "outputs": [
    {
     "data": {
      "text/plain": [
       "{'bid': '3C',\n",
       " 'who': 'Analysis',\n",
       " 'candidates': [{'call': '3C', 'insta_score': 0.942}],\n",
       " 'hcp': [3.8, 3.6, 3.5, 1.9, 3.6, 3.6, 3.6, 2.1, 3.8, 3.5, 3.6, 2.0],\n",
       " 'shape': [10.7, 10.6, 10.7]}"
      ]
     },
     "execution_count": 6,
     "metadata": {},
     "output_type": "execute_result"
    }
   ],
   "source": [
    "# the engine does not agree with the 1N opening.\n",
    "# indeed, it's a little offbeat with a singleton\n",
    "# let's see what the engine is thinking (what would it bid instead)\n",
    "\n",
    "card_by_card.bid_responses[0].to_dict()  # the 0 index is the first bid in the auction"
   ]
  },
  {
   "cell_type": "markdown",
   "id": "186f6cff",
   "metadata": {},
   "source": [
    "the engine very confidently opens `1C` and doesn't even consider `1N`"
   ]
  },
  {
   "cell_type": "code",
   "execution_count": 7,
   "id": "573b5939",
   "metadata": {},
   "outputs": [
    {
     "data": {
      "text/plain": [
       "{'card': 'CA',\n",
       " 'quality': 'Good',\n",
       " 'hcp': [4.2, 3.0, 4.0, 1.8, 3.6, 2.4, 4.0, 3.1, 3.3, 5.8, 2.9, 0.9],\n",
       " 'shape': [8.1, 8.5, 14.0],\n",
       " 'candidates': [{'card': 'DT',\n",
       "   'insta_score': 0.154,\n",
       "   'expected_tricks_sd': 12.7,\n",
       "   'p_make_contract': 0.0},\n",
       "  {'card': 'CK',\n",
       "   'insta_score': 0.623,\n",
       "   'expected_tricks_sd': 12.8,\n",
       "   'p_make_contract': 0.0},\n",
       "  {'card': 'Sx',\n",
       "   'insta_score': 0.061,\n",
       "   'expected_tricks_sd': 12.8,\n",
       "   'p_make_contract': 0.0}],\n",
       " 'samples': ['8x.8x.Tx.AKJ9xxx KTx.xxxx.QJxx.T8 A9xxx..8xxx.Qxxx QJx.AKQJT9x.AK9. 0.63183',\n",
       "  '8x.8x.Tx.AKJ9xxx AKJx.Qxx.9xxx.Qx T9xxx..KQJx.T8xx Qx.AKJT9xxx.A8x. 0.61970',\n",
       "  '8x.8x.Tx.AKJ9xxx ATx.Jxx.QJxxx.Q8 QJxxx..K9xx.Txxx K9x.AKQT9xxx.A8. 0.61017',\n",
       "  '8x.8x.Tx.AKJ9xxx AKT9xx.Txx.xx.8x xx.x.KJ98xx.QTxx QJx.AKQJ9xx.AQx. 0.60829',\n",
       "  '8x.8x.Tx.AKJ9xxx AT9xxx.Txx.Jxx.8 Kxx.x.Q98x.QTxxx QJ.AKQJ9xx.AKxx. 0.60587',\n",
       "  '8x.8x.Tx.AKJ9xxx KTxxxx.Jxx.J9.Qx Q9x.Q.Kxxxx.T8xx AJ.AKT9xxx.AQ8x. 0.60360',\n",
       "  '8x.8x.Tx.AKJ9xxx AJxx.AJx.98xx.8x Qxxx..QJxxx.QTxx KT9.KQT9xxxx.AK. 0.60319',\n",
       "  '8x.8x.Tx.AKJ9xxx KJxxxx.9xx.Qxx.T T9.x.AJxxx.Q8xxx AQx.AKQJTxx.K98. 0.60118',\n",
       "  '8x.8x.Tx.AKJ9xxx Axx.Kxxx.98xx.QT QJ9xx..Kxxx.8xxx KTx.AQJT9xx.AQJ. 0.60042',\n",
       "  '8x.8x.Tx.AKJ9xxx Jxxxx.J9x.A9x.xx T9x.x.KQ8xx.QT8x AKQ.AKQTxxx.Jxx. 0.59984']}"
      ]
     },
     "execution_count": 7,
     "metadata": {},
     "output_type": "execute_result"
    }
   ],
   "source": [
    "# what about the opening lead? let's see...\n",
    "\n",
    "card_by_card.cards['CA'].to_dict()"
   ]
  },
  {
   "cell_type": "markdown",
   "id": "0a2a2bde",
   "metadata": {},
   "source": [
    "the engine agrees with leading a low club, but it's very close. the alternative is a low heart"
   ]
  },
  {
   "cell_type": "code",
   "execution_count": 8,
   "id": "7dcf0964",
   "metadata": {},
   "outputs": [
    {
     "data": {
      "text/plain": [
       "{'card': 'SJ',\n",
       " 'quality': 'Bad',\n",
       " 'hcp': [8.0, 11.0],\n",
       " 'shape': [2.1, 1.9, 2.3, 6.8, 3.6, 3.0, 3.1, 3.2],\n",
       " 'candidates': [{'card': 'SJ',\n",
       "   'insta_score': 0.203,\n",
       "   'expected_tricks_dd': 10.2,\n",
       "   'p_make_contract': 1.0,\n",
       "   'expected_score_dd': 426},\n",
       "  {'card': 'S3',\n",
       "   'insta_score': 0.797,\n",
       "   'expected_tricks_dd': 9.2,\n",
       "   'p_make_contract': 0.2,\n",
       "   'expected_score_dd': 44},\n",
       "  {'card': 'S5',\n",
       "   'insta_score': 0.797,\n",
       "   'expected_tricks_dd': 9.2,\n",
       "   'p_make_contract': 0.2,\n",
       "   'expected_score_dd': 44}],\n",
       " 'samples': ['8x.K98.Q.AQT9xxx JTxx.QT.AJxxxx.8 KQ9x.x.T8xx.KJxx Axx.AJxxxxx.K9.x 0.12589',\n",
       "  '98x.K9x..AQJT9xx JTxx.QT.AJxxxx.8 KQx.8.QT8xx.Kxxx Axx.AJxxxxx.K9.x 0.05880',\n",
       "  '8x.x.T8x.AT9xxxx JTxx.QT.AJxxxx.8 KQ9x.K98.Qx.KQJx Axx.AJxxxxx.K9.x 0.05868',\n",
       "  '8x.K98.T.AQJT9xx JTxx.QT.AJxxxx.8 KQ9x.x.Q8xx.Kxxx Axx.AJxxxxx.K9.x 0.05575',\n",
       "  '8x.K8x.x.AQJT9xx JTxx.QT.AJxxxx.8 KQ9x.9.QT8x.Kxxx Axx.AJxxxxx.K9.x 0.05550']}"
      ]
     },
     "execution_count": 8,
     "metadata": {},
     "output_type": "execute_result"
    }
   ],
   "source": [
    "# the engine considers dummy's discard of D3 on the first trick a big mistake.\n",
    "# perhaps we should ruff instead, let's see what the engine suggests\n",
    "\n",
    "card_by_card.cards['D3'].to_dict()"
   ]
  },
  {
   "cell_type": "markdown",
   "id": "d6dcab82",
   "metadata": {},
   "source": [
    "indeed, the best play is to ruff low.\n",
    "\n",
    "looking at the samples, we see that East has the `CA` in every sample (this is by inference because underleading an A is very unlikely)"
   ]
  }
 ],
 "metadata": {
  "kernelspec": {
   "display_name": "Python 3 (ipykernel)",
   "language": "python",
   "name": "python3"
  },
  "language_info": {
   "codemirror_mode": {
    "name": "ipython",
    "version": 3
   },
   "file_extension": ".py",
   "mimetype": "text/x-python",
   "name": "python",
   "nbconvert_exporter": "python",
   "pygments_lexer": "ipython3",
   "version": "3.11.0"
  }
 },
 "nbformat": 4,
 "nbformat_minor": 5
}
