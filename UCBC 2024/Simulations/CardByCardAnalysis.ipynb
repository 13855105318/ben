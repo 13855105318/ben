{
 "cells": [
  {
   "cell_type": "markdown",
   "id": "21a4c878",
   "metadata": {},
   "source": [
    "# Detailed Analysis (Bid by Bid, Card by Card)\n",
    "\n",
    "This is a tutorial of how to do a detailed analysis of a played board.\n",
    "\n",
    "The engine looks at the bidding and play as it originally happened, and does an analysis for every bid and every card played.\n",
    "\n",
    "The analysis is not just a double-dummy analysis for the exact current layout (like if you would press the \"GIB\" button on BBO). Instead, it's an analysis over many different possible layouts (samples)."
   ]
  },
  {
   "cell_type": "code",
   "execution_count": 1,
   "id": "16f73f71",
   "metadata": {},
   "outputs": [
    {
     "name": "stdout",
     "output_type": "stream",
     "text": [
      "WARNING:tensorflow:From c:\\Python311\\Lib\\site-packages\\tensorflow\\python\\compat\\v2_compat.py:107: disable_resource_variables (from tensorflow.python.ops.variable_scope) is deprecated and will be removed in a future version.\n",
      "Instructions for updating:\n",
      "non-resource variables are not supported in the long term\n"
     ]
    }
   ],
   "source": [
    "import sys\n",
    "import os\n",
    "sys.path.append('../../src')\n",
    "os.environ['BEN_HOME'] = \"../..\"\n",
    "\n",
    "from nn.models import Models\n",
    "from analysis import CardByCard\n",
    "from util import parse_lin, display_lin\n",
    "from sample import Sample\n",
    "import conf\n",
    "import numpy as np\n",
    "\n",
    "np.set_printoptions(precision=2, suppress=True, linewidth=200)\n",
    "np.random.seed(42)\n"
   ]
  },
  {
   "cell_type": "code",
   "execution_count": 2,
   "id": "ca7fa897",
   "metadata": {},
   "outputs": [
    {
     "name": "stdout",
     "output_type": "stream",
     "text": [
      "INFO:tensorflow:Restoring parameters from ..\\Models/bidding-3233000\n",
      "INFO:tensorflow:Restoring parameters from ..\\Models/binfo-808000\n",
      "INFO:tensorflow:Restoring parameters from ..\\Models/lead-1000000\n",
      "INFO:tensorflow:Restoring parameters from ..\\Models/lead-1000000\n",
      "INFO:tensorflow:Restoring parameters from ..\\Models/lr3-1000000\n",
      "INFO:tensorflow:Restoring parameters from ..\\Models/lefty-1000000\n",
      "INFO:tensorflow:Restoring parameters from ..\\Models/dummy-920000\n",
      "INFO:tensorflow:Restoring parameters from ..\\Models/righty-1000000\n",
      "INFO:tensorflow:Restoring parameters from ..\\Models/decl-1000000\n"
     ]
    }
   ],
   "source": [
    "models = Models.from_conf(conf.load('../Conf/UCBC2024.conf'),'..')   # loading neural networks\n",
    "sampler = Sample.from_conf(conf.load('../Conf/UCBC2024.conf'), False)  # Load sampling strategies\n"
   ]
  },
  {
   "cell_type": "code",
   "execution_count": 3,
   "id": "2940c18a",
   "metadata": {},
   "outputs": [],
   "source": [
    "# we specify all the information about a board\n",
    "# (it's quite tedious to enter every single thing by hand here,\n",
    "# later we'll have an example of how you can give it a board played on BBO)\n",
    "\n",
    "dealer = 'N'\n",
    "vuln = [False, False]  # fist element is NS, second element is EW\n",
    "\n",
    "hands = ['87.84.T7.AKJ9764','JT53.QT.AJ6542.8','KQ96.K9.Q83.QT32','A42.AJ76532.K9.5']\n",
    "\n",
    "auction = ['3C', 'PASS', '4C', '4H', 'PASS', 'PASS', 'PASS']\n",
    "\n",
    "play = ['CA', 'C8', 'C3', 'C5',\n",
    "    'S8', 'ST', 'SQ', 'SA',\n",
    "    'DK', 'DT', 'D6', 'D3',\n",
    "    'D9', 'D7', 'DA', 'D8', \n",
    "    'DJ', 'DQ', 'HJ', 'S7', \n",
    "    'H4', 'HT', 'HK', 'H5',\n",
    "    'CJ', 'S5', 'SK', 'S4',\n",
    "    'H8', 'S3', 'S6', 'S2',\n",
    "    'CK', 'D2', 'C2', 'H2',\n",
    "    'C4', 'HQ', 'H9', 'HA',\n",
    "    'C6', 'D5', 'CT', 'H6',\n",
    "    'C7', 'D4', 'CQ', 'H7',\n",
    "    'C9', 'SJ', 'S9', 'H3']"
   ]
  },
  {
   "cell_type": "code",
   "execution_count": 4,
   "id": "79dae473",
   "metadata": {},
   "outputs": [],
   "source": [
    "card_by_card = CardByCard(dealer, vuln, hands, auction, play, models, sampler, False)"
   ]
  },
  {
   "cell_type": "code",
   "execution_count": 5,
   "id": "7ab0cce5",
   "metadata": {},
   "outputs": [
    {
     "name": "stdout",
     "output_type": "stream",
     "text": [
      "analyzing the bidding\n",
      "3C OK\n",
      "PASS OK\n",
      "4C ? NN-value: PASS 0.874\n",
      "4H ? NN-value: PASS 0.539\n",
      "PASS OK\n",
      "PASS OK\n",
      "PASS ? NN-value: 5C 0.731\n",
      "analyzing the play\n",
      "CA\n",
      "../..\\bin\\dds.dll\n"
     ]
    },
    {
     "name": "stderr",
     "output_type": "stream",
     "text": [
      "Loaded lib dds.dll\n"
     ]
    },
    {
     "name": "stdout",
     "output_type": "stream",
     "text": [
      "C8 OK\n",
      "C3 OK\n",
      "C5 OK\n",
      "S8 OK\n",
      "ST OK\n",
      "SQ OK\n",
      "SA OK\n",
      "DK OK\n",
      "DT OK\n",
      "D6 OK\n",
      "D3 OK\n",
      "D9 OK\n",
      "D7 OK\n",
      "DA OK\n",
      "D8 OK\n",
      "DJ OK\n",
      "DQ OK\n",
      "HJ OK\n",
      "S7 OK\n",
      "H4 OK\n",
      "Error Code: -13, Error Message: Played card also remains in a hand\n"
     ]
    },
    {
     "ename": "AttributeError",
     "evalue": "'NoneType' object has no attribute 'items'",
     "output_type": "error",
     "traceback": [
      "\u001b[1;31m---------------------------------------------------------------------------\u001b[0m",
      "\u001b[1;31mAttributeError\u001b[0m                            Traceback (most recent call last)",
      "\u001b[1;32md:\\github\\ben\\UCBC 2024\\Simulations\\CardByCardAnalysis copy.ipynb Cell 6\u001b[0m line \u001b[0;36m6\n\u001b[0;32m      <a href='vscode-notebook-cell:/d%3A/github/ben/UCBC%202024/Simulations/CardByCardAnalysis%20copy.ipynb#W5sZmlsZQ%3D%3D?line=0'>1</a>\u001b[0m \u001b[39m# calling this starts the analysis\u001b[39;00m\n\u001b[0;32m      <a href='vscode-notebook-cell:/d%3A/github/ben/UCBC%202024/Simulations/CardByCardAnalysis%20copy.ipynb#W5sZmlsZQ%3D%3D?line=1'>2</a>\u001b[0m \u001b[39m# it will go bid-by-bid and card-by-card, and will take a few moments\u001b[39;00m\n\u001b[0;32m      <a href='vscode-notebook-cell:/d%3A/github/ben/UCBC%202024/Simulations/CardByCardAnalysis%20copy.ipynb#W5sZmlsZQ%3D%3D?line=2'>3</a>\u001b[0m \u001b[39m# possible mistakes will be annotated with ? or with ?? (if it's a bigger mistake)\u001b[39;00m\n\u001b[0;32m      <a href='vscode-notebook-cell:/d%3A/github/ben/UCBC%202024/Simulations/CardByCardAnalysis%20copy.ipynb#W5sZmlsZQ%3D%3D?line=3'>4</a>\u001b[0m \u001b[39m# (possible mistake means that the engine does not agree with the bid/play. the engine could be wrong too :))\u001b[39;00m\n\u001b[1;32m----> <a href='vscode-notebook-cell:/d%3A/github/ben/UCBC%202024/Simulations/CardByCardAnalysis%20copy.ipynb#W5sZmlsZQ%3D%3D?line=5'>6</a>\u001b[0m card_by_card\u001b[39m.\u001b[39;49manalyze()\n",
      "File \u001b[1;32md:\\github\\ben\\UCBC 2024\\Simulations\\../../src\\analysis.py:30\u001b[0m, in \u001b[0;36mCardByCard.analyze\u001b[1;34m(self)\u001b[0m\n\u001b[0;32m     28\u001b[0m \u001b[39mprint\u001b[39m(\u001b[39m'\u001b[39m\u001b[39manalyzing the play\u001b[39m\u001b[39m'\u001b[39m)\n\u001b[0;32m     29\u001b[0m \u001b[39mself\u001b[39m\u001b[39m.\u001b[39manalyze_opening_lead()\n\u001b[1;32m---> 30\u001b[0m \u001b[39mself\u001b[39;49m\u001b[39m.\u001b[39;49manalyze_play()\n",
      "File \u001b[1;32md:\\github\\ben\\UCBC 2024\\Simulations\\../../src\\analysis.py:127\u001b[0m, in \u001b[0;36mCardByCard.analyze_play\u001b[1;34m(self)\u001b[0m\n\u001b[0;32m    123\u001b[0m \u001b[39mif\u001b[39;00m \u001b[39misinstance\u001b[39m(card_players[player_i], bots\u001b[39m.\u001b[39mCardPlayer):\n\u001b[0;32m    124\u001b[0m     rollout_states, min_scores, c_hcp, c_shp \u001b[39m=\u001b[39m \u001b[39mself\u001b[39m\u001b[39m.\u001b[39msampler\u001b[39m.\u001b[39minit_rollout_states(trick_i, player_i, card_players, player_cards_played, shown_out_suits, current_trick, \u001b[39mself\u001b[39m\u001b[39m.\u001b[39mpadded_auction, card_players[player_i]\u001b[39m.\u001b[39mhand\u001b[39m.\u001b[39mreshape((\u001b[39m-\u001b[39m\u001b[39m1\u001b[39m, \u001b[39m32\u001b[39m)), \u001b[39mself\u001b[39m\u001b[39m.\u001b[39mvuln, \u001b[39mself\u001b[39m\u001b[39m.\u001b[39mmodels)\n\u001b[1;32m--> 127\u001b[0m card_resp \u001b[39m=\u001b[39m card_players[player_i]\u001b[39m.\u001b[39;49mplay_card(trick_i, leader_i, current_trick52, rollout_states)\n\u001b[0;32m    128\u001b[0m \u001b[39mif\u001b[39;00m (\u001b[39mlen\u001b[39m(min_scores)) \u001b[39m>\u001b[39m \u001b[39m0\u001b[39m:\n\u001b[0;32m    129\u001b[0m     samples_with_score \u001b[39m=\u001b[39m [\u001b[39mf\u001b[39m\u001b[39m\"\u001b[39m\u001b[39m{\u001b[39;00msample\u001b[39m}\u001b[39;00m\u001b[39m \u001b[39m\u001b[39m{\u001b[39;00mscore\u001b[39m:\u001b[39;00m\u001b[39m.4f\u001b[39m\u001b[39m}\u001b[39;00m\u001b[39m\"\u001b[39m  \u001b[39mfor\u001b[39;00m sample, score \u001b[39min\u001b[39;00m \u001b[39mzip\u001b[39m(card_resp\u001b[39m.\u001b[39msamples, min_scores)]\n",
      "File \u001b[1;32md:\\github\\ben\\UCBC 2024\\Simulations\\../../src\\bots.py:589\u001b[0m, in \u001b[0;36mCardPlayer.play_card\u001b[1;34m(self, trick_i, leader_i, current_trick52, players_states)\u001b[0m\n\u001b[0;32m    587\u001b[0m \u001b[39mdef\u001b[39;00m \u001b[39mplay_card\u001b[39m(\u001b[39mself\u001b[39m, trick_i, leader_i, current_trick52, players_states):\n\u001b[0;32m    588\u001b[0m     current_trick \u001b[39m=\u001b[39m [deck52\u001b[39m.\u001b[39mcard52to32(c) \u001b[39mfor\u001b[39;00m c \u001b[39min\u001b[39;00m current_trick52]\n\u001b[1;32m--> 589\u001b[0m     card52_dd \u001b[39m=\u001b[39m \u001b[39mself\u001b[39;49m\u001b[39m.\u001b[39;49mnext_card52(trick_i, leader_i, current_trick52, players_states)\n\u001b[0;32m    590\u001b[0m     card_resp \u001b[39m=\u001b[39m \u001b[39mself\u001b[39m\u001b[39m.\u001b[39mnext_card(trick_i, leader_i, current_trick, players_states, card52_dd)\n\u001b[0;32m    592\u001b[0m     \u001b[39mreturn\u001b[39;00m card_resp\n",
      "File \u001b[1;32md:\\github\\ben\\UCBC 2024\\Simulations\\../../src\\bots.py:662\u001b[0m, in \u001b[0;36mCardPlayer.next_card52\u001b[1;34m(self, trick_i, leader_i, current_trick52, players_states)\u001b[0m\n\u001b[0;32m    659\u001b[0m     \u001b[39mprint\u001b[39m(hands_pbn)\n\u001b[0;32m    661\u001b[0m dd_solved \u001b[39m=\u001b[39m \u001b[39mself\u001b[39m\u001b[39m.\u001b[39mdd\u001b[39m.\u001b[39msolve(\u001b[39mself\u001b[39m\u001b[39m.\u001b[39mstrain_i, leader_i, current_trick52, hands_pbn)\n\u001b[1;32m--> 662\u001b[0m card_tricks \u001b[39m=\u001b[39m ddsolver\u001b[39m.\u001b[39;49mexpected_tricks(dd_solved)\n\u001b[0;32m    663\u001b[0m card_ev \u001b[39m=\u001b[39m \u001b[39mself\u001b[39m\u001b[39m.\u001b[39mget_card_ev(dd_solved)\n\u001b[0;32m    664\u001b[0m \u001b[39mif\u001b[39;00m \u001b[39mself\u001b[39m\u001b[39m.\u001b[39mverbose:\n",
      "File \u001b[1;32md:\\github\\ben\\UCBC 2024\\Simulations\\../../src\\ddsolver\\ddsolver.py:81\u001b[0m, in \u001b[0;36mexpected_tricks\u001b[1;34m(card_results)\u001b[0m\n\u001b[0;32m     80\u001b[0m \u001b[39mdef\u001b[39;00m \u001b[39mexpected_tricks\u001b[39m(card_results):\n\u001b[1;32m---> 81\u001b[0m     \u001b[39mreturn\u001b[39;00m {card:(\u001b[39msum\u001b[39m(values)\u001b[39m/\u001b[39m\u001b[39mlen\u001b[39m(values)) \u001b[39mfor\u001b[39;00m card, values \u001b[39min\u001b[39;00m card_results\u001b[39m.\u001b[39;49mitems()}\n",
      "\u001b[1;31mAttributeError\u001b[0m: 'NoneType' object has no attribute 'items'"
     ]
    }
   ],
   "source": [
    "# calling this starts the analysis\n",
    "# it will go bid-by-bid and card-by-card, and will take a few moments\n",
    "# possible mistakes will be annotated with ? or with ?? (if it's a bigger mistake)\n",
    "# (possible mistake means that the engine does not agree with the bid/play. the engine could be wrong too :))\n",
    "\n",
    "card_by_card.analyze()"
   ]
  },
  {
   "cell_type": "code",
   "execution_count": null,
   "id": "73be8e31",
   "metadata": {},
   "outputs": [],
   "source": [
    "# the engine does not agree with the 1N opening.\n",
    "# indeed, it's a little offbeat with a singleton\n",
    "# let's see what the engine is thinking (what would it bid instead)\n",
    "\n",
    "card_by_card.bid_responses[0].to_dict()  # the 0 index is the first bid in the auction"
   ]
  },
  {
   "cell_type": "markdown",
   "id": "186f6cff",
   "metadata": {},
   "source": [
    "the engine very confidently opens `1C` and doesn't even consider `1N`"
   ]
  },
  {
   "cell_type": "code",
   "execution_count": null,
   "id": "573b5939",
   "metadata": {},
   "outputs": [],
   "source": [
    "# what about the opening lead? let's see...\n",
    "\n",
    "card_by_card.cards['C2'].to_dict()"
   ]
  },
  {
   "cell_type": "markdown",
   "id": "0a2a2bde",
   "metadata": {},
   "source": [
    "the engine agrees with leading a low club, but it's very close. the alternative is a low heart"
   ]
  },
  {
   "cell_type": "code",
   "execution_count": null,
   "id": "7dcf0964",
   "metadata": {},
   "outputs": [],
   "source": [
    "# the engine considers dummy's discard of D3 on the first trick a big mistake.\n",
    "# perhaps we should ruff instead, let's see what the engine suggests\n",
    "\n",
    "card_by_card.cards['D3'].to_dict()"
   ]
  },
  {
   "cell_type": "markdown",
   "id": "d6dcab82",
   "metadata": {},
   "source": [
    "indeed, the best play is to ruff low.\n",
    "\n",
    "looking at the samples, we see that East has the `CA` in every sample (this is by inference because underleading an A is very unlikely)"
   ]
  },
  {
   "cell_type": "markdown",
   "id": "994e8878",
   "metadata": {},
   "source": [
    "## Analyzing a board played on BBO"
   ]
  },
  {
   "cell_type": "code",
   "execution_count": null,
   "id": "cdd0edee",
   "metadata": {},
   "outputs": [],
   "source": [
    "# copy-paste from the hand records (in lin format)\n",
    "\n",
    "lin = 'pn|You,~~M7228oka,~~M72302cm,~~M72316sq|st||md|1S4TKHJD68QC679TKA,S35H479TQKD24TAC8,S2789H3AD379JKC35,|rh||ah|Board 3|sv|e|mb|1C|an|Minor suit opening -- 3+ !C; 11-21 HCP; 12-22 total points|mb|2H|an|Aggressive weak jump overcall -- 6+ !H; 4-10 HCP |mb|d|an|Negative double -- 4+ !S; 7+ HCP; 8+ total points |mb|4H|an|The Law: 10 trump -> game support -- 4+ total points |mb|4S|an|3+ !C; 4+ !S; 16-21 HCP; 17-22 total points|mb|p|mb|p|mb|p|pg||pc|DA|pc|D3|pc|D5|pc|D6|pg||pc|C8|pc|C3|pc|CJ|pc|CA|pg||pc|S4|pc|S5|pc|S8|pc|SJ|pg||pc|H5|pc|HJ|pc|HQ|pc|HA|pg||pc|S2|pc|SA|pc|ST|pc|S3|pg||pc|H2|pc|SK|pc|H4|pc|H3|pg||pc|D8|pc|D2|pc|DJ|pc|S6|pg||pc|SQ|pc|C6|pc|H7|pc|S7|pg||pc|H8|pc|C7|pc|HK|pc|S9|pg||pc|C5|pc|C2|pc|CT|pc|HT|pg||pc|CK|pc|H9|pc|D7|pc|C4|pg||pc|DQ|pc|D4|pc|DK|pc|H6|pg||pc|D9|pc|CQ|pc|C9|pc|DT|pg||'"
   ]
  },
  {
   "cell_type": "code",
   "execution_count": null,
   "id": "86ccd5f5",
   "metadata": {},
   "outputs": [],
   "source": [
    "display_lin(lin)"
   ]
  },
  {
   "cell_type": "code",
   "execution_count": null,
   "id": "8fa74a29",
   "metadata": {},
   "outputs": [],
   "source": [
    "board = parse_lin(lin)"
   ]
  },
  {
   "cell_type": "code",
   "execution_count": null,
   "id": "fb875929",
   "metadata": {},
   "outputs": [],
   "source": [
    "card_by_card = CardByCard(*board, models, sampler, False)"
   ]
  },
  {
   "cell_type": "code",
   "execution_count": null,
   "id": "49c15172",
   "metadata": {},
   "outputs": [],
   "source": [
    "card_by_card.analyze()"
   ]
  },
  {
   "cell_type": "markdown",
   "id": "bf465259",
   "metadata": {},
   "source": [
    "the engine agrees with the bidding, but didn't like something in the cardplay.\n",
    "\n",
    "playing `S4` from hand is the first mistake. apparently this play drops almost half a trick on average."
   ]
  },
  {
   "cell_type": "code",
   "execution_count": null,
   "id": "d79d9389",
   "metadata": {},
   "outputs": [],
   "source": [
    "card_by_card.cards['S4'].to_dict()"
   ]
  },
  {
   "cell_type": "markdown",
   "id": "760b7b2f",
   "metadata": {},
   "source": [
    "the opening lead of `DA` is interesting. the engine prefers the `HK` and it's the only card it considers."
   ]
  },
  {
   "cell_type": "code",
   "execution_count": null,
   "id": "00c728a0",
   "metadata": {},
   "outputs": [],
   "source": [
    "card_by_card.cards['DA'].to_dict()"
   ]
  },
  {
   "cell_type": "code",
   "execution_count": null,
   "id": "e55103f4",
   "metadata": {},
   "outputs": [],
   "source": []
  }
 ],
 "metadata": {
  "kernelspec": {
   "display_name": "Python 3 (ipykernel)",
   "language": "python",
   "name": "python3"
  },
  "language_info": {
   "codemirror_mode": {
    "name": "ipython",
    "version": 3
   },
   "file_extension": ".py",
   "mimetype": "text/x-python",
   "name": "python",
   "nbconvert_exporter": "python",
   "pygments_lexer": "ipython3",
   "version": "3.11.0"
  }
 },
 "nbformat": 4,
 "nbformat_minor": 5
}
