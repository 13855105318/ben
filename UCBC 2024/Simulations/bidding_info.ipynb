{
 "cells": [
  {
   "cell_type": "code",
   "execution_count": 1,
   "metadata": {},
   "outputs": [
    {
     "name": "stdout",
     "output_type": "stream",
     "text": [
      "WARNING:tensorflow:From c:\\Python311\\Lib\\site-packages\\tensorflow\\python\\compat\\v2_compat.py:107: disable_resource_variables (from tensorflow.python.ops.variable_scope) is deprecated and will be removed in a future version.\n",
      "Instructions for updating:\n",
      "non-resource variables are not supported in the long term\n",
      "INFO:tensorflow:Restoring parameters from ..\\Models/NS1EW99-bidding-10724000\n",
      "INFO:tensorflow:Restoring parameters from ..\\Models/NS1EW99-binfo-6131000\n",
      "INFO:tensorflow:Restoring parameters from ..\\Models/lead_suit-154000\n",
      "INFO:tensorflow:Restoring parameters from ..\\Models/lead_nt-59000\n",
      "INFO:tensorflow:Restoring parameters from ..\\Models/lr3-1000000\n",
      "INFO:tensorflow:Restoring parameters from ..\\Models/single_dummy-32768000\n",
      "INFO:tensorflow:Restoring parameters from ..\\Models/lefty-1000000\n",
      "INFO:tensorflow:Restoring parameters from ..\\Models/dummy-920000\n",
      "INFO:tensorflow:Restoring parameters from ..\\Models/righty-1000000\n",
      "INFO:tensorflow:Restoring parameters from ..\\Models/decl-1000000\n"
     ]
    }
   ],
   "source": [
    "import sys\n",
    "sys.path.append('../../src')\n",
    "\n",
    "import binary\n",
    "\n",
    "from nn.models import Models\n",
    "from bots import BotBid\n",
    "from util import hand_to_str\n",
    "from sample import Sample\n",
    "import conf\n",
    "\n",
    "import numpy as np\n",
    "\n",
    "np.set_printoptions(precision=2, suppress=True, linewidth=200)\n",
    "np.random.seed(42)\n",
    "models = Models.from_conf(conf.load('../Conf/UCBC2024.conf'),'..')   # loading neural networks\n",
    "sampler = Sample.from_conf(conf.load('../Conf/UCBC2024.conf'), False)  # Load sampling strategies\n"
   ]
  },
  {
   "cell_type": "code",
   "execution_count": 5,
   "metadata": {},
   "outputs": [
    {
     "name": "stdout",
     "output_type": "stream",
     "text": [
      "n_steps 3\n",
      "[[[ 1.   99.    0.    1.   -0.75 -0.14 -0.71  1.   -0.14  0.    0.    1.    0.    1.    0.    0.    1.    0.    0.    0.    0.    1.    0.    1.    0.    0.    1.    1.    0.    1.    0.    1.\n",
      "    1.    0.    0.    0.    0.    0.    0.    1.    2.    0.    0.    1.    0.    0.    0.    0.    0.    0.    0.    0.    0.    0.    0.    0.    0.    0.    0.    0.    0.    0.    0.    0.\n",
      "    0.    0.    0.    0.    0.    0.    0.    0.    0.    0.    0.    0.    0.    0.    0.    0.    0.    0.    0.    1.    0.    0.    0.    0.    0.    0.    0.    0.    0.    0.    0.    0.\n",
      "    0.    0.    0.    0.    0.    0.    0.    0.    0.    0.    0.    0.    0.    0.    0.    0.    0.    0.    0.    0.    0.    0.    0.    0.    0.    0.    0.    0.    0.    0.    0.    0.\n",
      "    0.    0.    1.    0.    0.    0.    0.    0.    0.    0.    0.    0.    0.    0.    0.    0.    0.    0.    0.    0.    0.    0.    0.    0.    0.    0.    0.    0.    0.    0.    0.    0.\n",
      "    0.  ]\n",
      "  [ 1.   99.    0.    1.   -0.75 -0.14 -0.71  1.   -0.14  0.    0.    1.    0.    1.    0.    0.    1.    0.    0.    0.    0.    1.    0.    1.    0.    0.    1.    1.    0.    1.    0.    1.\n",
      "    1.    0.    0.    0.    0.    0.    0.    1.    2.    1.    0.    0.    0.    0.    0.    0.    0.    0.    0.    0.    0.    0.    0.    0.    0.    0.    0.    0.    0.    0.    0.    0.\n",
      "    0.    0.    0.    0.    0.    0.    0.    0.    0.    0.    0.    0.    0.    0.    0.    0.    0.    0.    1.    0.    0.    0.    0.    0.    0.    0.    0.    0.    0.    0.    0.    0.\n",
      "    0.    0.    0.    0.    0.    0.    0.    0.    0.    0.    0.    0.    0.    0.    0.    0.    0.    0.    0.    0.    0.    0.    0.    0.    0.    0.    1.    0.    0.    0.    0.    0.\n",
      "    0.    0.    0.    0.    0.    0.    0.    0.    0.    0.    0.    0.    0.    0.    0.    0.    0.    0.    0.    0.    0.    0.    0.    0.    0.    0.    0.    0.    0.    0.    0.    0.\n",
      "    0.  ]\n",
      "  [ 1.   99.    0.    1.   -0.75 -0.14 -0.71  1.   -0.14  0.    0.    1.    0.    1.    0.    0.    1.    0.    0.    0.    0.    1.    0.    1.    0.    0.    1.    1.    0.    1.    0.    1.\n",
      "    1.    0.    0.    0.    0.    0.    0.    1.    2.    0.    1.    0.    0.    0.    0.    0.    0.    0.    0.    0.    0.    0.    0.    0.    0.    0.    0.    0.    0.    0.    0.    0.\n",
      "    0.    0.    0.    0.    0.    0.    0.    0.    0.    0.    0.    0.    0.    0.    0.    0.    0.    0.    1.    0.    0.    0.    0.    0.    0.    0.    0.    0.    0.    0.    0.    0.\n",
      "    0.    0.    0.    0.    0.    0.    0.    0.    0.    0.    0.    0.    0.    0.    0.    0.    0.    0.    0.    0.    0.    0.    0.    0.    0.    0.    1.    0.    0.    0.    0.    0.\n",
      "    0.    0.    0.    0.    0.    0.    0.    0.    0.    0.    0.    0.    0.    0.    0.    0.    0.    0.    0.    0.    0.    0.    0.    0.    0.    0.    0.    0.    0.    0.    0.    0.\n",
      "    0.  ]]]\n"
     ]
    }
   ],
   "source": [
    "auction = ['PAD_START', 'PAD_START', 'PAD_START', 'PASS', 'PASS', '1N', '2C','PAD_START']\n",
    "n_steps = binary.calculate_step(auction)\n",
    "print(\"n_steps\", n_steps)\n",
    "nesw_i = 2\n",
    "vuln = [False, True]\n",
    "hand = binary.parse_hand_f(32)(\"QT5.T8.KQT87.864\")\n",
    "A = binary.get_auction_binary(n_steps, auction, nesw_i, hand, vuln, models.ns, models.ew)\n",
    "print(A)\n"
   ]
  },
  {
   "cell_type": "code",
   "execution_count": 4,
   "metadata": {},
   "outputs": [
    {
     "name": "stdout",
     "output_type": "stream",
     "text": [
      "c_hcp:[[ 6.32 10.24 16.77]]\n"
     ]
    }
   ],
   "source": [
    "p_hcp, p_shp = models.binfo_model.model(A)\n",
    "#print(p_hcp)\n",
    "#print(p_shp)\n",
    "p_hcp = p_hcp.reshape((-1, n_steps, 3))[:, -1, :]\n",
    "p_shp = p_shp.reshape((-1, n_steps, 12))[:, -1, :]\n",
    "\n",
    "def f_trans_hcp(x): return 4 * x + 10\n",
    "def f_trans_shp(x): return 1.75 * x + 3.25\n",
    "\n",
    "p_hcp = f_trans_hcp(p_hcp)\n",
    "p_shp = f_trans_shp(p_shp)\n",
    "\n",
    "c_hcp = p_hcp.copy()\n",
    "c_shp = p_shp.copy()\n",
    "\n",
    "print(f\"c_hcp:{c_hcp}\")\n",
    "#print(f\"c_shp:{c_shp[0][8]:.1f}\")\n"
   ]
  },
  {
   "cell_type": "code",
   "execution_count": null,
   "metadata": {},
   "outputs": [],
   "source": [
    "auction = ['PAD_START', '2C','4N']\n",
    "n_steps = binary.calculate_step(auction)\n",
    "n_samples = 10\n",
    "nesw_i = 3\n",
    "vuln = [True, False]\n",
    "hand = binary.parse_hand_f(32)(\"AJT8653.J.962.92\")\n",
    "A = binary.get_auction_binary(n_steps, auction, nesw_i, hand, vuln, models.ns, models.ew)\n",
    "p_hcp, p_shp = models.binfo_model.model(A)\n",
    "c_hcp = (lambda x: 4 * x + 10)(p_hcp.copy())\n",
    "print(c_hcp)\n"
   ]
  },
  {
   "cell_type": "code",
   "execution_count": null,
   "metadata": {},
   "outputs": [],
   "source": [
    "auction = ['PAD_START', '2C','4N','PASS']\n",
    "n_steps = binary.calculate_step(auction)\n",
    "n_samples = 10\n",
    "nesw_i = 0\n",
    "vuln = [True, False]\n",
    "hand = binary.parse_hand_f(32)(\"K4.T9876532.54.6\")\n",
    "A = binary.get_auction_binary(n_steps, auction, nesw_i, hand, vuln, models.ns, models.ew)\n",
    "p_hcp, p_shp = models.binfo_model.model(A)\n",
    "c_hcp = (lambda x: 4 * x + 10)(p_hcp.copy())\n",
    "print(c_hcp)\n"
   ]
  }
 ],
 "metadata": {
  "kernelspec": {
   "display_name": "Python 3",
   "language": "python",
   "name": "python3"
  },
  "language_info": {
   "codemirror_mode": {
    "name": "ipython",
    "version": 3
   },
   "file_extension": ".py",
   "mimetype": "text/x-python",
   "name": "python",
   "nbconvert_exporter": "python",
   "pygments_lexer": "ipython3",
   "version": "3.11.0"
  },
  "orig_nbformat": 4
 },
 "nbformat": 4,
 "nbformat_minor": 2
}
