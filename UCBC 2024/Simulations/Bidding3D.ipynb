{
 "cells": [
  {
   "cell_type": "markdown",
   "id": "75d07246",
   "metadata": {},
   "source": [
    "# Bidding\n",
    "\n",
    "This is a tutorial for how to use the bidding engine"
   ]
  },
  {
   "cell_type": "code",
   "execution_count": 1,
   "id": "59a5664c",
   "metadata": {},
   "outputs": [
    {
     "name": "stdout",
     "output_type": "stream",
     "text": [
      "WARNING:tensorflow:From c:\\Python311\\Lib\\site-packages\\tensorflow\\python\\compat\\v2_compat.py:107: disable_resource_variables (from tensorflow.python.ops.variable_scope) is deprecated and will be removed in a future version.\n",
      "Instructions for updating:\n",
      "non-resource variables are not supported in the long term\n",
      "INFO:tensorflow:Restoring parameters from ..\\Models/NS1EW99-bidding_same-5556000\n",
      "INFO:tensorflow:Restoring parameters from ..\\Models/NS1EW99-binfo_same-5556000\n",
      "INFO:tensorflow:Restoring parameters from ..\\Models/lead_suit-999000\n",
      "INFO:tensorflow:Restoring parameters from ..\\Models/lead_nt-475000\n",
      "INFO:tensorflow:Restoring parameters from ..\\Models/Jack/lr3-1000000\n",
      "INFO:tensorflow:Restoring parameters from ..\\Models/single_dummy-32768000\n",
      "INFO:tensorflow:Restoring parameters from ..\\Models/lefty_nt-475000\n",
      "INFO:tensorflow:Restoring parameters from ..\\Models/dummy_nt-475000\n",
      "INFO:tensorflow:Restoring parameters from ..\\Models/righty_nt-475000\n",
      "INFO:tensorflow:Restoring parameters from ..\\Models/decl_nt-950000\n",
      "INFO:tensorflow:Restoring parameters from ..\\Models/lefty_suit-999000\n",
      "INFO:tensorflow:Restoring parameters from ..\\Models/dummy_suit-999000\n",
      "INFO:tensorflow:Restoring parameters from ..\\Models/righty_suit-999000\n",
      "INFO:tensorflow:Restoring parameters from ..\\Models/decl_suit-1278000\n"
     ]
    }
   ],
   "source": [
    "import sys\n",
    "sys.path.append('../../src')\n",
    "\n",
    "from nn.models import Models\n",
    "from bots import BotBid\n",
    "from util import hand_to_str\n",
    "from sample import Sample\n",
    "import conf\n",
    "import numpy as np\n",
    "\n",
    "np.set_printoptions(precision=2, suppress=True, linewidth=200)\n",
    "np.random.seed(42)\n",
    "\n",
    "models = Models.from_conf(conf.load('../Conf/UCBC2024.conf'),'..')   # loading neural networks\n",
    "sampler = Sample.from_conf(conf.load('../Conf/UCBC2024.conf'), False)  # Load sampling strategies\n"
   ]
  },
  {
   "cell_type": "markdown",
   "id": "10d8f2fc",
   "metadata": {},
   "source": [
    "### Running through an example"
   ]
  },
  {
   "cell_type": "code",
   "execution_count": 2,
   "id": "19dbfeb7",
   "metadata": {},
   "outputs": [
    {
     "name": "stdout",
     "output_type": "stream",
     "text": [
      "[{'call': '3D', 'insta_score': 0.897}, {'call': '2D', 'insta_score': 0.083}]\n",
      "[{'call': '3D', 'insta_score': 0.945}]\n",
      "[{'call': '3D', 'insta_score': 0.897}, {'call': '2D', 'insta_score': 0.083}]\n",
      "[{'call': '3D', 'insta_score': 0.945}]\n"
     ]
    }
   ],
   "source": [
    "# East deals, EW vulnerable.\n",
    "vuln_ns, vuln_ew = True, True\n",
    "\n",
    "# you sit West and hold:\n",
    "hand = '85.9.KQJT873.QJT'\n",
    "\n",
    "# the auction goes:\n",
    "auction = []\n",
    "bot_bid = BotBid([vuln_ns, vuln_ew], hand, models, sampler, 0, 0, False)\n",
    "\n",
    "bid = bot_bid.bid(auction)\n",
    "print(bid.to_dict()['candidates'])\n",
    "auction = [\"PAD_START\"]\n",
    "bot_bid = BotBid([vuln_ns, vuln_ew], hand, models, sampler, 1, 1, False)\n",
    "\n",
    "bid = bot_bid.bid(auction)\n",
    "print(bid.to_dict()['candidates'])\n",
    "auction = [\"PAD_START\",\"PAD_START\"]\n",
    "bot_bid = BotBid([vuln_ns, vuln_ew], hand, models, sampler, 2, 2, False)\n",
    "\n",
    "bid = bot_bid.bid(auction)\n",
    "print(bid.to_dict()['candidates'])\n",
    "auction = [\"PAD_START\",\"PAD_START\",\"PAD_START\"]\n",
    "bot_bid = BotBid([vuln_ns, vuln_ew], hand, models, sampler, 3, 3, False)\n",
    "\n",
    "bid = bot_bid.bid(auction)\n",
    "print(bid.to_dict()['candidates'])\n",
    "\n",
    "# what's your bid?"
   ]
  },
  {
   "cell_type": "code",
   "execution_count": 3,
   "id": "bfe98f56",
   "metadata": {},
   "outputs": [
    {
     "data": {
      "text/plain": [
       "[{'call': 'PASS',\n",
       "  'insta_score': 0.994,\n",
       "  'expected_score': 404,\n",
       "  'adjustment': 497},\n",
       " {'call': '3D',\n",
       "  'insta_score': 0.003,\n",
       "  'expected_score': -207,\n",
       "  'adjustment': -620}]"
      ]
     },
     "execution_count": 3,
     "metadata": {},
     "output_type": "execute_result"
    }
   ],
   "source": [
    "auction = [\"PAD_START\", \"2D\", \"PASS\", \"PASS\", \"X\", \"PASS\", \"PASS\"]\n",
    "bid = bot_bid.bid(auction)\n",
    "\n",
    "bid.to_dict()['candidates']"
   ]
  },
  {
   "cell_type": "markdown",
   "id": "ad120123",
   "metadata": {},
   "source": [
    "in the output above:\n",
    "- `insta_score` reflects what the neural network prefers to bid\n",
    "- `expected_score` is based on what you expect to score on difference samples (for example, 70% of the time you are making and 30% of the time you are going one off, then the expected score is 0.7 * 620 - 0.3 * 100)"
   ]
  },
  {
   "cell_type": "markdown",
   "id": "051ff121",
   "metadata": {},
   "source": [
    "### Samples consistent with the auction so far\n",
    "\n",
    "Above we said that we are computig expected scores on samples consistent with the auction so far.\n",
    "\n",
    "How do we get these samples?\n",
    "\n",
    "We get some samples in the response we get from the bot (i.e `bid.samples`)"
   ]
  },
  {
   "cell_type": "code",
   "execution_count": 4,
   "id": "55b647a5",
   "metadata": {},
   "outputs": [
    {
     "data": {
      "text/plain": [
       "['AQ9.AKx..AK9xxxx KJT.8xx.A9xxxx.8 xxxxx.QJTxxx..xx 8x.9.KQJT8xx.QJT 0.73732 \\n 2D-P-P-X-P-P-P (9.6, 9.3)  \\n 2D-P-P-X-P-P-3D-P-P-4C-P-P-P (11.0, 11.8) ',\n",
       " 'AQJT.AKTxx..AK8x xx.QJx.A9xxxx.9x K9xxx.8xxx..xxxx 8x.9.KQJT8xx.QJT 0.72674 \\n 2D-P-P-X-P-P-P (8.8, 8.8)  \\n 2D-P-P-X-P-P-3D-P-P-4H-P-P-P (11.7, 12.0) ',\n",
       " 'AQT9xx.AJ8..AK8x Kxx.xxx.A9xxxx.x Jx.KQTxxx..9xxxx 8x.9.KQJT8xx.QJT 0.71237 \\n 2D-P-P-X-P-P-P (9.5, 9.3)  \\n 2D-P-P-X-P-P-3D-P-P-3S-P-P-P (11.3, 12.1) ',\n",
       " 'AKJx.KQJ8..Axxxx Txx.x.A9xxxx.K9x Q9xx.ATxxxxx..8x 8x.9.KQJT8xx.QJT 0.70874 \\n 2D-P-P-X-P-P-P (9.1, 9.4)  \\n 2D-P-P-X-P-P-3D-P-P-4C-P-P-P (9.2, 12.1) ',\n",
       " 'AKQx.QTxxx..AKxx Txx.AJ.A9xxxx.xx J9xx.K8xxx..98xx 8x.9.KQJT8xx.QJT 0.69171 \\n 2D-P-P-X-P-P-P (9.3, 9.2)  \\n 2D-P-P-X-P-P-3D-P-P-3H-P-P-P (11.4, 11.5) ',\n",
       " 'KQT.AKQxx..AK8xx AJx.xx.A9xxxx.xx 9xxxx.JT8xx..9xx 8x.9.KQJT8xx.QJT 0.68798 \\n 2D-P-P-X-P-P-P (9.6, 9.8)  \\n 2D-P-P-X-P-P-3D-P-P-4C-P-P-P (10.2, 11.2) ',\n",
       " 'AQxxx.AKQJx..K9x x.T8x.A9xxxx.Axx KJT9x.xxxx..8xxx 8x.9.KQJT8xx.QJT 0.68761 \\n 2D-P-P-X-P-P-P (9.9, 10.2)  \\n 2D-P-P-X-P-P-3D-P-P-3S-P-P-P (10.1, 11.5) ',\n",
       " 'AKxx.A8xx..AK8xx Tx.Qxx.A9xxxx.xx QJ9xx.KJTxx..9xx 8x.9.KQJT8xx.QJT 0.67602 \\n 2D-P-P-X-P-P-P (8.3, 8.5)  \\n 2D-P-P-X-P-P-3D-P-P-4C-P-P-P (12.3, 12.2) ',\n",
       " 'AKTx.AKQ8xx..Kxx Q9x.x.A9xxxx.8xx Jxxx.JTxxx..A9xx 8x.9.KQJT8xx.QJT 0.65445 \\n 2D-P-P-X-P-P-P (8.8, 8.8)  \\n 2D-P-P-X-P-P-3D-P-P-3H-P-P-P (12.4, 12.5) ',\n",
       " 'AK9xx.KJ8x..AK8x Qxx.x.A9xxxx.xxx JTx.AQTxxxx..9xx 8x.9.KQJT8xx.QJT 0.64318 \\n 2D-P-P-X-P-P-P (8.4, 8.8)  \\n 2D-P-P-X-P-P-3D-P-P-3S-P-P-P (12.3, 12.5) ']"
      ]
     },
     "execution_count": 4,
     "metadata": {},
     "output_type": "execute_result"
    }
   ],
   "source": [
    "bid.samples"
   ]
  },
  {
   "cell_type": "markdown",
   "id": "7d0dd8f5",
   "metadata": {},
   "source": [
    "each row is one sample. the hands are in the order: N E S W\n",
    "\n",
    "(West always has the same cards because it's your hand and it's known to you)"
   ]
  },
  {
   "cell_type": "code",
   "execution_count": 5,
   "id": "7101e514",
   "metadata": {},
   "outputs": [
    {
     "name": "stdout",
     "output_type": "stream",
     "text": [
      "Good quality: True\n",
      "8x.9.KQJT8xx.QJT xx.Qxxx.xx.9xxxx AKQJTxx.AJx.A.AK 9x.KT8xx.9xx.8xx\n",
      "8x.9.KQJT8xx.QJT J9x.8xx.9xx.AKxx AKQxx.AKQJxx.x.9 Txx.Txx.Ax.8xxxx\n",
      "8x.9.KQJT8xx.QJT 9xx.Txxx.xxx.98x AKQJT.AKQ8..Kxxx xxx.Jxxx.A9x.Axx\n",
      "8x.9.KQJT8xx.QJT Jxx.Txxx.xx.A9xx AKQ9xx.AKQJ.A9.K Tx.8xxx.xx.8xxxx\n",
      "8x.9.KQJT8xx.QJT Txx.K8xx.9x.9xxx AKQJ9.AJTxx.A.Ax xxx.Qxx.xxx.K8xx\n",
      "8x.9.KQJT8xx.QJT Kxxx.Jxxx.xx.9xx AJT9x.AQT8.A.A8x Qx.Kxxx.9xx.Kxxx\n",
      "8x.9.KQJT8xx.QJT KTx.T8x.A9x.xxxx AQJ9x.AKQJx..8xx xxx.xxxx.xxx.AK9\n",
      "8x.9.KQJT8xx.QJT Axxx.J8xx.xx.9xx KQT9x.AKQx.A.K8x Jx.Txxx.9xx.Axxx\n",
      "8x.9.KQJT8xx.QJT x.JTxx.9xxx.98xx AKQJTxx.AKQx..Ax 9xx.8xxx.Ax.Kxxx\n",
      "8x.9.KQJT8xx.QJT QTxx.Kxxx.9x.xxx AKJ9x.AQJx.A.Kxx xx.T8xx.xxx.A98x\n"
     ]
    }
   ],
   "source": [
    "# we got some samples above. if we want more, we can always get more\n",
    "\n",
    "sample_hands, sorted_score, p_hcp, p_shp, good_quality = bot_bid.sample_hands_for_auction([\"PAD_START\", \"PAD_START\", \"PAD_START\", \"PASS\", \"1N\", \"PASS\", \"3S\",\"PASS\"],0)\n",
    "print(\"Good quality:\", good_quality)\n",
    "for i in range(sample_hands.shape[0]):\n",
    "    print(f'{hand_to_str(sample_hands[i, 0, :])} {hand_to_str(sample_hands[i, 1, :])} {hand_to_str(sample_hands[i, 2, :])} {hand_to_str(sample_hands[i, 3, :])}')"
   ]
  }
 ],
 "metadata": {
  "kernelspec": {
   "display_name": "Python 3 (ipykernel)",
   "language": "python",
   "name": "python3"
  },
  "language_info": {
   "codemirror_mode": {
    "name": "ipython",
    "version": 3
   },
   "file_extension": ".py",
   "mimetype": "text/x-python",
   "name": "python",
   "nbconvert_exporter": "python",
   "pygments_lexer": "ipython3",
   "version": "3.11.0"
  }
 },
 "nbformat": 4,
 "nbformat_minor": 5
}
