{
 "cells": [
  {
   "cell_type": "markdown",
   "id": "75d07246",
   "metadata": {},
   "source": [
    "# Bidding\n",
    "\n",
    "This is a tutorial for how to use the bidding engine"
   ]
  },
  {
   "cell_type": "code",
   "execution_count": 1,
   "id": "59a5664c",
   "metadata": {},
   "outputs": [
    {
     "name": "stdout",
     "output_type": "stream",
     "text": [
      "WARNING:tensorflow:From c:\\Python311\\Lib\\site-packages\\tensorflow\\python\\compat\\v2_compat.py:107: disable_resource_variables (from tensorflow.python.ops.variable_scope) is deprecated and will be removed in a future version.\n",
      "Instructions for updating:\n",
      "non-resource variables are not supported in the long term\n"
     ]
    }
   ],
   "source": [
    "import sys\n",
    "sys.path.append('../../src')\n",
    "\n",
    "from nn.models import Models\n",
    "from bots import BotBid\n",
    "from util import hand_to_str\n",
    "from sample import Sample\n",
    "import conf\n",
    "import numpy as np\n",
    "\n",
    "np.set_printoptions(precision=2, suppress=True, linewidth=200)\n",
    "np.random.seed(42)\n"
   ]
  },
  {
   "cell_type": "code",
   "execution_count": 2,
   "id": "44786d5d",
   "metadata": {},
   "outputs": [
    {
     "name": "stdout",
     "output_type": "stream",
     "text": [
      "INFO:tensorflow:Restoring parameters from ..\\Models/NS1EW99-bidding-3233000\n",
      "INFO:tensorflow:Restoring parameters from ..\\Models/NS1EW99-binfo-3233000\n",
      "INFO:tensorflow:Restoring parameters from ..\\Models/lead_suit-154000\n",
      "INFO:tensorflow:Restoring parameters from ..\\Models/lead_nt-59000\n",
      "INFO:tensorflow:Restoring parameters from ..\\Models/single_dummy-31102000\n",
      "INFO:tensorflow:Restoring parameters from ..\\Models/lefty-1000000\n",
      "INFO:tensorflow:Restoring parameters from ..\\Models/dummy-920000\n",
      "INFO:tensorflow:Restoring parameters from ..\\Models/righty-1000000\n",
      "INFO:tensorflow:Restoring parameters from ..\\Models/decl-1000000\n"
     ]
    }
   ],
   "source": [
    "models = Models.from_conf(conf.load('../Conf/UCBC2024.conf'),'..')   # loading neural networks\n",
    "sampler = Sample.from_conf(conf.load('../Conf/UCBC2024.conf'), False)  # Load sampling strategies\n"
   ]
  },
  {
   "cell_type": "markdown",
   "id": "10d8f2fc",
   "metadata": {},
   "source": [
    "### Running through an example"
   ]
  },
  {
   "cell_type": "code",
   "execution_count": 3,
   "id": "19dbfeb7",
   "metadata": {},
   "outputs": [
    {
     "name": "stdout",
     "output_type": "stream",
     "text": [
      "[{'call': '3D', 'insta_score': 0.9623}, {'call': '2D', 'insta_score': 0.0216}, {'call': 'PASS', 'insta_score': 0.0103}, {'call': '3N', 'insta_score': 0.0037}, {'call': '4D', 'insta_score': 0.0013}]\n",
      "[{'call': '3D', 'insta_score': 0.9647}, {'call': '2D', 'insta_score': 0.0136}, {'call': 'PASS', 'insta_score': 0.0091}, {'call': '3N', 'insta_score': 0.007}, {'call': '4D', 'insta_score': 0.0039}, {'call': '5D', 'insta_score': 0.0011}]\n",
      "[{'call': '3D', 'insta_score': 0.9623}, {'call': '2D', 'insta_score': 0.0216}, {'call': 'PASS', 'insta_score': 0.0103}, {'call': '3N', 'insta_score': 0.0037}, {'call': '4D', 'insta_score': 0.0013}]\n",
      "[{'call': '3D', 'insta_score': 0.9647}, {'call': '2D', 'insta_score': 0.0136}, {'call': 'PASS', 'insta_score': 0.0091}, {'call': '3N', 'insta_score': 0.007}, {'call': '4D', 'insta_score': 0.0039}, {'call': '5D', 'insta_score': 0.0011}]\n"
     ]
    }
   ],
   "source": [
    "# East deals, EW vulnerable.\n",
    "vuln_ns, vuln_ew = True, True\n",
    "\n",
    "# you sit West and hold:\n",
    "hand = '85.9.KQJT873.QJT'\n",
    "\n",
    "# the auction goes:\n",
    "# (a few words about 'PAD_START':\n",
    "# the auction is padded to dealer North\n",
    "# if North is not dealer, than we have to put in a 'PAD_START' for every seat that was skipped\n",
    "# if East deals we have one pad (because North is skipped)\n",
    "# if South deals we have two pads (because North and East are skipped)\n",
    "# etc.)\n",
    "auction = []\n",
    "bot_bid = BotBid([vuln_ns, vuln_ew], hand, models, sampler, False)\n",
    "\n",
    "bid = bot_bid.bid(auction)\n",
    "print(bid.to_dict()['candidates'])\n",
    "auction = [\"PAD_START\"]\n",
    "bot_bid = BotBid([vuln_ns, vuln_ew], hand, models, sampler, False)\n",
    "\n",
    "bid = bot_bid.bid(auction)\n",
    "print(bid.to_dict()['candidates'])\n",
    "auction = [\"PAD_START\",\"PAD_START\"]\n",
    "bot_bid = BotBid([vuln_ns, vuln_ew], hand, models, sampler, False)\n",
    "\n",
    "bid = bot_bid.bid(auction)\n",
    "print(bid.to_dict()['candidates'])\n",
    "auction = [\"PAD_START\",\"PAD_START\",\"PAD_START\"]\n",
    "bot_bid = BotBid([vuln_ns, vuln_ew], hand, models, sampler, False)\n",
    "\n",
    "bid = bot_bid.bid(auction)\n",
    "print(bid.to_dict()['candidates'])\n",
    "\n",
    "# what's your bid?"
   ]
  },
  {
   "cell_type": "code",
   "execution_count": 4,
   "id": "bfe98f56",
   "metadata": {},
   "outputs": [
    {
     "data": {
      "text/plain": [
       "[{'call': 'PASS', 'insta_score': 1.0}]"
      ]
     },
     "execution_count": 4,
     "metadata": {},
     "output_type": "execute_result"
    }
   ],
   "source": [
    "auction = [\"PAD_START\", \"2D\", \"PASS\", \"PASS\", \"X\", \"PASS\", \"PASS\"]\n",
    "bid = bot_bid.bid(auction)\n",
    "\n",
    "bid.to_dict()['candidates']"
   ]
  },
  {
   "cell_type": "markdown",
   "id": "ad120123",
   "metadata": {},
   "source": [
    "in the output above:\n",
    "- `insta_score` reflects what the neural network prefers to bid\n",
    "- `expected_score` is based on what you expect to score on difference samples (for example, 70% of the time you are making and 30% of the time you are going one off, then the expected score is 0.7 * 620 - 0.3 * 100)"
   ]
  },
  {
   "cell_type": "markdown",
   "id": "051ff121",
   "metadata": {},
   "source": [
    "### Samples consistent with the auction so far\n",
    "\n",
    "Above we said that we are computig expected scores on samples consistent with the auction so far.\n",
    "\n",
    "How do we get these samples?\n",
    "\n",
    "We get some samples in the response we get from the bot (i.e `bid.samples`)"
   ]
  },
  {
   "cell_type": "code",
   "execution_count": 5,
   "id": "55b647a5",
   "metadata": {},
   "outputs": [
    {
     "data": {
      "text/plain": [
       "['AKQx.AQJTx..AKxx Jx.Kx.A9xxxx.98x T9xxx.8xxxx..xxx 8x.9.KQJT8xx.QJT 0.07125',\n",
       " 'AKQxx.AKxxx..A8x Jx.Q8x.A9xxxx.Kx T9xx.JTxx..9xxxx 8x.9.KQJT8xx.QJT 0.06242',\n",
       " 'AKTxx.AKQ8x..A9x xx.Txx.A9xxxx.Kx QJ9x.Jxxx..8xxxx 8x.9.KQJT8xx.QJT 0.03983',\n",
       " 'AKJx.AKJxx..K8xx Q9.xx.A9xxxx.Axx Txxxx.QT8xx..9xx 8x.9.KQJT8xx.QJT 0.03391',\n",
       " 'AKJ.AKJxxx..AKxx Qxx.Tx.A9xxxx.xx T9xxx.Q8xx..98xx 8x.9.KQJT8xx.QJT 0.03087',\n",
       " 'AKT9.AKQxx..K8xx Qxx.8xx.A9xxxx.x Jxxx.JTxx..A9xxx 8x.9.KQJT8xx.QJT 0.03009',\n",
       " 'AKQxxx.AQTxx..K9 Jx.x.A9xxxx.xxxx T9x.KJ8xxx..A8xx 8x.9.KQJT8xx.QJT 0.02665',\n",
       " 'AQTxx.AKQxx..Kxx Jx.JTx.A9xxxx.xx K9xx.8xxx..A98xx 8x.9.KQJT8xx.QJT 0.02089',\n",
       " 'Kxxx.AKQxx..AKxx A9.Jxx.A9xxxx.8x QJTxx.T8xx..9xxx 8x.9.KQJT8xx.QJT 0.01778',\n",
       " 'AK9.AKJxx..AK8xx QTx.8x.A9xxxx.xx Jxxxx.QTxxx..9xx 8x.9.KQJT8xx.QJT 0.01670']"
      ]
     },
     "execution_count": 5,
     "metadata": {},
     "output_type": "execute_result"
    }
   ],
   "source": [
    "bid.samples"
   ]
  },
  {
   "cell_type": "markdown",
   "id": "7d0dd8f5",
   "metadata": {},
   "source": [
    "each row is one sample. the hands are in the order: N E S W\n",
    "\n",
    "(West always has the same cards because it's your hand and it's known to you)"
   ]
  },
  {
   "cell_type": "code",
   "execution_count": 6,
   "id": "7101e514",
   "metadata": {},
   "outputs": [
    {
     "name": "stdout",
     "output_type": "stream",
     "text": [
      "8x.9.KQJT8xx.QJT 9x.AJxxx.9xx.xxx AKQxxx.KTxx..AK9 JTx.Q8x.Axx.8xxx\n",
      "8x.9.KQJT8xx.QJT Jxx.KTxx.x.8xxxx KQTxxx.QJxx.A.AK A9.A8xx.9xxx.9xx\n",
      "8x.9.KQJT8xx.QJT xxx.KQJx.9x.8xxx AKQJ9x.ATxx..A9x Tx.8xxx.Axxx.Kxx\n",
      "8x.9.KQJT8xx.QJT 9xx.KJTxx.Ax.xxx AQJTxx.Axxx..AK8 Kx.Q8x.9xxx.9xxx\n",
      "8x.9.KQJT8xx.QJT J.A8xx.A9xx.8xxx AKQTxx.QTxx.x.AK 9xxx.KJxx.x.9xxx\n",
      "8x.9.KQJT8xx.QJT xx.A8xx.9xx.Kxxx AKQ9xx.QJxx.Ax.A JTx.KTxx.x.98xxx\n",
      "8x.9.KQJT8xx.QJT x.KTxx.xx.K98xxx AKQJT9x.AQ8x.A.A xxx.Jxxx.9xx.xxx\n",
      "8x.9.KQJT8xx.QJT J.KTxxx.Axx.8xxx AKQTxx.AQJ8..K9x 9xxx.xxx.9xx.Axx\n",
      "8x.9.KQJT8xx.QJT Txx.Axx.Ax.9xxxx AKQ9xx.KQJxx..AK Jx.T8xx.9xxx.8xx\n",
      "8x.9.KQJT8xx.QJT xx.KJTxx.xx.K8xx AKQJ9xx.AQxx.A.A Tx.8xx.9xx.9xxxx\n"
     ]
    }
   ],
   "source": [
    "# we got some samples above. if we want more, we can always get more\n",
    "\n",
    "sample_hands, sorted_score, p_hcp, p_shp = bot_bid.sample_hands([\"PAD_START\", \"PAD_START\", \"PAD_START\", \"PASS\", \"1N\", \"PASS\", \"3S\",\"PASS\"])\n",
    "\n",
    "for i in range(sample_hands.shape[0]):\n",
    "    print(f'{hand_to_str(sample_hands[i, 0, :])} {hand_to_str(sample_hands[i, 1, :])} {hand_to_str(sample_hands[i, 2, :])} {hand_to_str(sample_hands[i, 3, :])}')"
   ]
  }
 ],
 "metadata": {
  "kernelspec": {
   "display_name": "Python 3 (ipykernel)",
   "language": "python",
   "name": "python3"
  },
  "language_info": {
   "codemirror_mode": {
    "name": "ipython",
    "version": 3
   },
   "file_extension": ".py",
   "mimetype": "text/x-python",
   "name": "python",
   "nbconvert_exporter": "python",
   "pygments_lexer": "ipython3",
   "version": "3.11.0"
  }
 },
 "nbformat": 4,
 "nbformat_minor": 5
}
