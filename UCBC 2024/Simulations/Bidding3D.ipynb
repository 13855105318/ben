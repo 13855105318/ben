{
 "cells": [
  {
   "cell_type": "markdown",
   "id": "75d07246",
   "metadata": {},
   "source": [
    "# Bidding\n",
    "\n",
    "This is a tutorial for how to use the bidding engine"
   ]
  },
  {
   "cell_type": "code",
   "execution_count": 1,
   "id": "59a5664c",
   "metadata": {},
   "outputs": [
    {
     "name": "stdout",
     "output_type": "stream",
     "text": [
      "WARNING:tensorflow:From c:\\Python311\\Lib\\site-packages\\tensorflow\\python\\compat\\v2_compat.py:107: disable_resource_variables (from tensorflow.python.ops.variable_scope) is deprecated and will be removed in a future version.\n",
      "Instructions for updating:\n",
      "non-resource variables are not supported in the long term\n",
      "INFO:tensorflow:Restoring parameters from ..\\Models/NS1EW99-bidding_same-278000\n",
      "INFO:tensorflow:Restoring parameters from ..\\Models/NS1EW99-binfo_same-278000\n",
      "INFO:tensorflow:Restoring parameters from ..\\Models/lead_suit-154000\n",
      "INFO:tensorflow:Restoring parameters from ..\\Models/lead_nt-59000\n",
      "INFO:tensorflow:Restoring parameters from ..\\Models/lr3-1000000\n",
      "INFO:tensorflow:Restoring parameters from ..\\Models/single_dummy-32768000\n",
      "INFO:tensorflow:Restoring parameters from ..\\Models/lefty-1000000\n",
      "INFO:tensorflow:Restoring parameters from ..\\Models/dummy-920000\n",
      "INFO:tensorflow:Restoring parameters from ..\\Models/righty-1000000\n",
      "INFO:tensorflow:Restoring parameters from ..\\Models/decl-1000000\n"
     ]
    }
   ],
   "source": [
    "import sys\n",
    "sys.path.append('../../src')\n",
    "\n",
    "from nn.models import Models\n",
    "from bots import BotBid\n",
    "from util import hand_to_str\n",
    "from sample import Sample\n",
    "import conf\n",
    "import numpy as np\n",
    "\n",
    "np.set_printoptions(precision=2, suppress=True, linewidth=200)\n",
    "np.random.seed(42)\n",
    "\n",
    "models = Models.from_conf(conf.load('../Conf/UCBC2024.conf'),'..')   # loading neural networks\n",
    "sampler = Sample.from_conf(conf.load('../Conf/UCBC2024.conf'), False)  # Load sampling strategies\n"
   ]
  },
  {
   "cell_type": "markdown",
   "id": "10d8f2fc",
   "metadata": {},
   "source": [
    "### Running through an example"
   ]
  },
  {
   "cell_type": "code",
   "execution_count": 2,
   "id": "19dbfeb7",
   "metadata": {},
   "outputs": [
    {
     "name": "stdout",
     "output_type": "stream",
     "text": [
      "[{'call': '3D', 'insta_score': 0.861}]\n",
      "[{'call': '3D', 'insta_score': 0.895}]\n",
      "[{'call': '3D', 'insta_score': 0.861}]\n",
      "[{'call': '3D', 'insta_score': 0.895}]\n"
     ]
    }
   ],
   "source": [
    "# East deals, EW vulnerable.\n",
    "vuln_ns, vuln_ew = True, True\n",
    "\n",
    "# you sit West and hold:\n",
    "hand = '85.9.KQJT873.QJT'\n",
    "\n",
    "# the auction goes:\n",
    "auction = []\n",
    "bot_bid = BotBid([vuln_ns, vuln_ew], hand, models, sampler, 0, 0, False)\n",
    "\n",
    "bid = bot_bid.bid(auction)\n",
    "print(bid.to_dict()['candidates'])\n",
    "auction = [\"PAD_START\"]\n",
    "bot_bid = BotBid([vuln_ns, vuln_ew], hand, models, sampler, 1, 1, False)\n",
    "\n",
    "bid = bot_bid.bid(auction)\n",
    "print(bid.to_dict()['candidates'])\n",
    "auction = [\"PAD_START\",\"PAD_START\"]\n",
    "bot_bid = BotBid([vuln_ns, vuln_ew], hand, models, sampler, 2, 2, False)\n",
    "\n",
    "bid = bot_bid.bid(auction)\n",
    "print(bid.to_dict()['candidates'])\n",
    "auction = [\"PAD_START\",\"PAD_START\",\"PAD_START\"]\n",
    "bot_bid = BotBid([vuln_ns, vuln_ew], hand, models, sampler, 3, 3, False)\n",
    "\n",
    "bid = bot_bid.bid(auction)\n",
    "print(bid.to_dict()['candidates'])\n",
    "\n",
    "# what's your bid?"
   ]
  },
  {
   "cell_type": "code",
   "execution_count": 3,
   "id": "bfe98f56",
   "metadata": {},
   "outputs": [
    {
     "data": {
      "text/plain": [
       "[{'call': 'PASS',\n",
       "  'insta_score': 0.939,\n",
       "  'expected_score': 361,\n",
       "  'adjustment': 470},\n",
       " {'call': '4D',\n",
       "  'insta_score': 0.027,\n",
       "  'expected_score': -473,\n",
       "  'adjustment': -1404}]"
      ]
     },
     "execution_count": 3,
     "metadata": {},
     "output_type": "execute_result"
    }
   ],
   "source": [
    "auction = [\"PAD_START\", \"2D\", \"PASS\", \"PASS\", \"X\", \"PASS\", \"PASS\"]\n",
    "bid = bot_bid.bid(auction)\n",
    "\n",
    "bid.to_dict()['candidates']"
   ]
  },
  {
   "cell_type": "markdown",
   "id": "ad120123",
   "metadata": {},
   "source": [
    "in the output above:\n",
    "- `insta_score` reflects what the neural network prefers to bid\n",
    "- `expected_score` is based on what you expect to score on difference samples (for example, 70% of the time you are making and 30% of the time you are going one off, then the expected score is 0.7 * 620 - 0.3 * 100)"
   ]
  },
  {
   "cell_type": "markdown",
   "id": "051ff121",
   "metadata": {},
   "source": [
    "### Samples consistent with the auction so far\n",
    "\n",
    "Above we said that we are computig expected scores on samples consistent with the auction so far.\n",
    "\n",
    "How do we get these samples?\n",
    "\n",
    "We get some samples in the response we get from the bot (i.e `bid.samples`)"
   ]
  },
  {
   "cell_type": "code",
   "execution_count": 4,
   "id": "55b647a5",
   "metadata": {},
   "outputs": [
    {
     "data": {
      "text/plain": [
       "['AKTx.JTxx..AK8xx xx.K8.A9xxxx.9xx QJ9xx.AQxxxx..xx 8x.9.KQJT8xx.QJT 0.06419 \\n 2D-P-P-X-P-P-P (7.8)  \\n 2D-P-P-X-P-P-4D-P-P-4S-P-P-P (12.5) ',\n",
       " 'KQJx.AQ8x..A8xxx x.JT.A9xxxx.Kxxx AT9xxx.Kxxxxx..9 8x.9.KQJT8xx.QJT 0.05817 \\n 2D-P-P-X-P-P-P (9.0)  \\n 2D-P-P-X-P-P-4D-P-P-4S-P-P-P (12.5) ',\n",
       " 'Q9xx.AKxx..AK9xx KT.8x.A9xxxx.8xx AJxxx.QJTxxx..xx 8x.9.KQJT8xx.QJT 0.04053 \\n 2D-P-P-X-P-P-P (8.2)  \\n 2D-P-P-X-P-P-4D-P-P-4S-P-P-P (12.4) ',\n",
       " 'Kxx.AQxx..AK98xx ATx.8.A9xxxx.xxx QJ9xx.KJTxxxx..x 8x.9.KQJT8xx.QJT 0.03538 \\n 2D-P-P-X-P-P-P (9.1)  \\n 2D-P-P-X-P-P-4D-P-P-4H-P-P-P (12.1) ',\n",
       " 'AQJx.KTx..AK8xxx Kx.xxx.A9xxxx.9x T9xxx.AQJ8xx..xx 8x.9.KQJT8xx.QJT 0.02696 \\n 2D-P-P-X-P-P-P (8.9)  \\n 2D-P-P-X-P-P-4D-P-P-4H-P-P-P (12.1) ',\n",
       " 'AKQ9.AKT8..xxxxx T.Jxx.A9xxxx.K98 Jxxxxx.Qxxxx..Ax 8x.9.KQJT8xx.QJT 0.02481 \\n 2D-P-P-X-P-P-P (9.7)  \\n 2D-P-P-X-P-P-4D-P-P-4S-P-P-P (12.0) ',\n",
       " 'JTx.AKTxx..AK9xx Qxx.xx.A9xxxx.xx AK9xx.QJ8xx..8xx 8x.9.KQJT8xx.QJT 0.02480 \\n 2D-P-P-X-P-P-P (8.4)  \\n 2D-P-P-X-P-P-4D-P-P-X-P-P-P (8.4) ',\n",
       " 'AK9.KQJx..AK9xxx Jxx.A8x.A9xxxx.8 QTxxx.Txxxx..xxx 8x.9.KQJT8xx.QJT 0.02026 \\n 2D-P-P-X-P-P-P (9.7)  \\n 2D-P-P-X-P-P-4D-X-P-P-P (9.7) ',\n",
       " 'AKTx.AJxx..Kxxxx Jx.Qx.A9xxxx.A8x Q9xxx.KT8xxx..9x 8x.9.KQJT8xx.QJT 0.01972 \\n 2D-P-P-X-P-P-P (9.7)  \\n 2D-P-P-X-P-P-4D-P-P-P (9.7) ',\n",
       " 'Axx.AKxx..A8xxxx Jx.JTx.A9xxxx.Kx KQT9xx.Q8xxx..9x 8x.9.KQJT8xx.QJT 0.01859 \\n 2D-P-P-X-P-P-P (9.0)  \\n 2D-P-P-X-P-P-4D-P-P-4S-P-P-P (11.8) ']"
      ]
     },
     "execution_count": 4,
     "metadata": {},
     "output_type": "execute_result"
    }
   ],
   "source": [
    "bid.samples"
   ]
  },
  {
   "cell_type": "markdown",
   "id": "7d0dd8f5",
   "metadata": {},
   "source": [
    "each row is one sample. the hands are in the order: N E S W\n",
    "\n",
    "(West always has the same cards because it's your hand and it's known to you)"
   ]
  },
  {
   "cell_type": "code",
   "execution_count": 5,
   "id": "7101e514",
   "metadata": {},
   "outputs": [
    {
     "name": "stdout",
     "output_type": "stream",
     "text": [
      "8x.9.KQJT8xx.QJT JTxxx.JTxx.x.Kxx AKQ9.AKQx.Ax.A8x xx.8xxx.9xx.9xxx\n",
      "8x.9.KQJT8xx.QJT 9xxx.KTxxx.x.xxx AKTx.AJ8x.A9.AKx QJx.Qxx.xxx.98xx\n",
      "8x.9.KQJT8xx.QJT KJT9.T8xxx..98xx AQxx.KQ.Axx.AKxx xxx.AJxxx.9xx.xx\n",
      "8x.9.KQJT8xx.QJT J9x.Q8xxx.xx.9xx AKQT.AKxx.x.AK8x xxxx.JTx.A9x.xxx\n",
      "8x.9.KQJT8xx.QJT Qxxx.QTxx.x.9xxx AKJx.KJ8x.Ax.AKx T9x.Axxx.9xx.8xx\n",
      "8x.9.KQJT8xx.QJT QJxx.AJxx.9x.98x AK9x.KQT.Ax.AKxx Txx.8xxxx.xx.xxx\n",
      "8x.9.KQJT8xx.QJT QTxx.QJT8x.x.8xx AKJx.Kxx.A9.AKxx 9xx.Axxx.xxx.9xx\n",
      "8x.9.KQJT8xx.QJT xx.QJTxx.x.8xxxx AKxx.Axx.Ax.AKxx QJT9x.K8xx.9xx.9\n",
      "8x.9.KQJT8xx.QJT Txx.KTxxx.xx.xxx AKJx.A8x.A9.AK9x Q9xx.QJxx.xx.8xx\n",
      "8x.9.KQJT8xx.QJT KTxx.AJTxx.xx.xx AQJ9.x.A9x.AKxxx xxx.KQ8xxx.x.98x\n"
     ]
    }
   ],
   "source": [
    "# we got some samples above. if we want more, we can always get more\n",
    "\n",
    "sample_hands, sorted_score, p_hcp, p_shp, good_quality = bot_bid.sample_hands_for_auction([\"PAD_START\", \"PAD_START\", \"PAD_START\", \"PASS\", \"1N\", \"PASS\", \"3S\",\"PASS\"],0)\n",
    "print(\"Good quality:\", good_quality)\n",
    "for i in range(sample_hands.shape[0]):\n",
    "    print(f'{hand_to_str(sample_hands[i, 0, :])} {hand_to_str(sample_hands[i, 1, :])} {hand_to_str(sample_hands[i, 2, :])} {hand_to_str(sample_hands[i, 3, :])}')"
   ]
  }
 ],
 "metadata": {
  "kernelspec": {
   "display_name": "Python 3 (ipykernel)",
   "language": "python",
   "name": "python3"
  },
  "language_info": {
   "codemirror_mode": {
    "name": "ipython",
    "version": 3
   },
   "file_extension": ".py",
   "mimetype": "text/x-python",
   "name": "python",
   "nbconvert_exporter": "python",
   "pygments_lexer": "ipython3",
   "version": "3.11.0"
  }
 },
 "nbformat": 4,
 "nbformat_minor": 5
}
