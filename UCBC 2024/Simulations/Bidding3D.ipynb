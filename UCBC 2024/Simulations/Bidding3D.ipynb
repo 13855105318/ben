{
 "cells": [
  {
   "cell_type": "markdown",
   "id": "75d07246",
   "metadata": {},
   "source": [
    "# Bidding\n",
    "\n",
    "This is a tutorial for how to use the bidding engine"
   ]
  },
  {
   "cell_type": "code",
   "execution_count": 1,
   "id": "59a5664c",
   "metadata": {},
   "outputs": [
    {
     "name": "stdout",
     "output_type": "stream",
     "text": [
      "WARNING:tensorflow:From c:\\Python311\\Lib\\site-packages\\tensorflow\\python\\compat\\v2_compat.py:107: disable_resource_variables (from tensorflow.python.ops.variable_scope) is deprecated and will be removed in a future version.\n",
      "Instructions for updating:\n",
      "non-resource variables are not supported in the long term\n",
      "INFO:tensorflow:Restoring parameters from ..\\Models/NS1EW99-bidding-3961000\n",
      "INFO:tensorflow:Restoring parameters from ..\\Models/NS1EW99-binfo-1887000\n",
      "INFO:tensorflow:Restoring parameters from ..\\Models/lead_suit-154000\n",
      "INFO:tensorflow:Restoring parameters from ..\\Models/lead_nt-59000\n",
      "INFO:tensorflow:Restoring parameters from ..\\Models/single_dummy-1562000\n",
      "INFO:tensorflow:Restoring parameters from ..\\Models/lefty-1000000\n",
      "INFO:tensorflow:Restoring parameters from ..\\Models/dummy-920000\n",
      "INFO:tensorflow:Restoring parameters from ..\\Models/righty-1000000\n",
      "INFO:tensorflow:Restoring parameters from ..\\Models/decl-1000000\n"
     ]
    }
   ],
   "source": [
    "import sys\n",
    "sys.path.append('../../src')\n",
    "\n",
    "from nn.models import Models\n",
    "from bots import BotBid\n",
    "from util import hand_to_str\n",
    "from sample import Sample\n",
    "import conf\n",
    "import numpy as np\n",
    "\n",
    "np.set_printoptions(precision=2, suppress=True, linewidth=200)\n",
    "np.random.seed(42)\n",
    "\n",
    "models = Models.from_conf(conf.load('../Conf/UCBC2024.conf'),'..')   # loading neural networks\n",
    "sampler = Sample.from_conf(conf.load('../Conf/UCBC2024.conf'), False)  # Load sampling strategies\n"
   ]
  },
  {
   "cell_type": "markdown",
   "id": "10d8f2fc",
   "metadata": {},
   "source": [
    "### Running through an example"
   ]
  },
  {
   "cell_type": "code",
   "execution_count": 2,
   "id": "19dbfeb7",
   "metadata": {},
   "outputs": [
    {
     "name": "stdout",
     "output_type": "stream",
     "text": [
      "[{'call': '3D', 'insta_score': 0.979}]\n",
      "[{'call': '3D', 'insta_score': 0.968}]\n",
      "[{'call': '3D', 'insta_score': 0.979}]\n",
      "[{'call': '3D', 'insta_score': 0.968}]\n"
     ]
    }
   ],
   "source": [
    "# East deals, EW vulnerable.\n",
    "vuln_ns, vuln_ew = True, True\n",
    "\n",
    "# you sit West and hold:\n",
    "hand = '85.9.KQJT873.QJT'\n",
    "\n",
    "# the auction goes:\n",
    "auction = []\n",
    "bot_bid = BotBid([vuln_ns, vuln_ew], hand, models, sampler, False)\n",
    "\n",
    "bid = bot_bid.bid(auction)\n",
    "print(bid.to_dict()['candidates'])\n",
    "auction = [\"PAD_START\"]\n",
    "bot_bid = BotBid([vuln_ns, vuln_ew], hand, models, sampler, False)\n",
    "\n",
    "bid = bot_bid.bid(auction)\n",
    "print(bid.to_dict()['candidates'])\n",
    "auction = [\"PAD_START\",\"PAD_START\"]\n",
    "bot_bid = BotBid([vuln_ns, vuln_ew], hand, models, sampler, False)\n",
    "\n",
    "bid = bot_bid.bid(auction)\n",
    "print(bid.to_dict()['candidates'])\n",
    "auction = [\"PAD_START\",\"PAD_START\",\"PAD_START\"]\n",
    "bot_bid = BotBid([vuln_ns, vuln_ew], hand, models, sampler, False)\n",
    "\n",
    "bid = bot_bid.bid(auction)\n",
    "print(bid.to_dict()['candidates'])\n",
    "\n",
    "# what's your bid?"
   ]
  },
  {
   "cell_type": "code",
   "execution_count": 3,
   "id": "bfe98f56",
   "metadata": {},
   "outputs": [
    {
     "data": {
      "text/plain": [
       "[{'call': 'PASS', 'insta_score': 1.0, 'expected_score': 392, 'adjustment': 50},\n",
       " {'call': '5D',\n",
       "  'insta_score': 0.0,\n",
       "  'expected_score': -450,\n",
       "  'adjustment': -1751}]"
      ]
     },
     "execution_count": 3,
     "metadata": {},
     "output_type": "execute_result"
    }
   ],
   "source": [
    "auction = [\"PAD_START\", \"2D\", \"PASS\", \"PASS\", \"X\", \"PASS\", \"PASS\"]\n",
    "bid = bot_bid.bid(auction)\n",
    "\n",
    "bid.to_dict()['candidates']"
   ]
  },
  {
   "cell_type": "markdown",
   "id": "ad120123",
   "metadata": {},
   "source": [
    "in the output above:\n",
    "- `insta_score` reflects what the neural network prefers to bid\n",
    "- `expected_score` is based on what you expect to score on difference samples (for example, 70% of the time you are making and 30% of the time you are going one off, then the expected score is 0.7 * 620 - 0.3 * 100)"
   ]
  },
  {
   "cell_type": "markdown",
   "id": "051ff121",
   "metadata": {},
   "source": [
    "### Samples consistent with the auction so far\n",
    "\n",
    "Above we said that we are computig expected scores on samples consistent with the auction so far.\n",
    "\n",
    "How do we get these samples?\n",
    "\n",
    "We get some samples in the response we get from the bot (i.e `bid.samples`)"
   ]
  },
  {
   "cell_type": "code",
   "execution_count": 4,
   "id": "55b647a5",
   "metadata": {},
   "outputs": [
    {
     "data": {
      "text/plain": [
       "['AQJx.AKTxx..A8xx Txx.QJ8.A9xxxx.K K9xx.xxxx..9xxxx 8x.9.KQJT8xx.QJT 0.05584 \\n 2D-P-P-X-P-P-P (9.6)  \\n 2D-P-P-X-P-P-5D-X-P-P-P (9.6) ',\n",
       " 'AKQJT.JT8xx..AKx xx.Axx.A9xxxx.xx 9xxx.KQxx..98xxx 8x.9.KQJT8xx.QJT 0.02452 \\n 2D-P-P-X-P-P-P (9.8)  \\n 2D-P-P-X-P-P-5D-X-P-P-P (9.8) ',\n",
       " 'AT9x.KJxx..AKxxx xx.Qxx.A9xxxx.8x KQJxx.AT8xx..9xx 8x.9.KQJT8xx.QJT 0.02050 \\n 2D-P-P-X-P-P-P (8.5)  \\n 2D-P-P-X-P-P-5D-X-P-P-P (8.5) ',\n",
       " 'AK9xx.AQJxxx..Ax Jx.Kx.A9xxxx.9xx QTxx.T8xx..K8xxx 8x.9.KQJT8xx.QJT 0.01909 \\n 2D-P-P-X-P-P-P (8.5)  \\n 2D-P-P-X-P-P-5D-X-P-P-P (8.5) ',\n",
       " 'AKTx.KJxx..Axxxx J9x.QTx.A9xxxx.8 Qxxx.A8xxx..K9xx 8x.9.KQJT8xx.QJT 0.01766 \\n 2D-P-P-X-P-P-P (9.2)  \\n 2D-P-P-X-P-P-5D-X-P-P-P (9.2) ',\n",
       " 'AK9x.AKQJx..AKxx QJx.xx.A9xxxx.xx Txxx.T8xxx..98xx 8x.9.KQJT8xx.QJT 0.01453 \\n 2D-P-P-X-P-P-P (8.7)  \\n 2D-P-P-X-P-P-5D-X-P-P-P (8.7) ',\n",
       " 'AJxxxx.AQJx..AKx T.KTx.A9xxxx.8xx KQ9x.8xxxx..9xxx 8x.9.KQJT8xx.QJT 0.01324 \\n 2D-P-P-X-P-P-P (9.5)  \\n 2D-P-P-X-P-P-5D-X-P-P-P (9.5) ',\n",
       " 'AK9xxx.KQx..AKxx JT.Ax.A9xxxx.xxx Qxx.JT8xxxx..98x 8x.9.KQJT8xx.QJT 0.01264 \\n 2D-P-P-X-P-P-P (9.0)  \\n 2D-P-P-X-P-P-5D-X-P-P-P (9.0) ',\n",
       " 'AQTxx.KQJxx..AKx J9x.8xx.A9xxxx.x Kxx.ATxx..98xxxx 8x.9.KQJT8xx.QJT 0.01100 \\n 2D-P-P-X-P-P-P (9.0)  \\n 2D-P-P-X-P-P-5D-X-P-P-P (9.0) ',\n",
       " 'AQ9x.KQ8x..A9xxx xxx.Ax.A9xxxx.8x KJTx.JTxxxx..Kxx 8x.9.KQJT8xx.QJT 0.01027 \\n 2D-P-P-X-P-P-P (9.1)  \\n 2D-P-P-X-P-P-5D-X-P-P-P (9.1) ']"
      ]
     },
     "execution_count": 4,
     "metadata": {},
     "output_type": "execute_result"
    }
   ],
   "source": [
    "bid.samples"
   ]
  },
  {
   "cell_type": "markdown",
   "id": "7d0dd8f5",
   "metadata": {},
   "source": [
    "each row is one sample. the hands are in the order: N E S W\n",
    "\n",
    "(West always has the same cards because it's your hand and it's known to you)"
   ]
  },
  {
   "cell_type": "code",
   "execution_count": 5,
   "id": "7101e514",
   "metadata": {},
   "outputs": [
    {
     "name": "stdout",
     "output_type": "stream",
     "text": [
      "8x.9.KQJT8xx.QJT x.J8xxx.9xxx.Kxx AKQJ9.AKxx..A9xx Txxxx.QTx.Ax.8xx\n",
      "8x.9.KQJT8xx.QJT K9xx.J8xx.9x.8xx AQJTx.AKTx..AKxx xx.Qxxx.Axxx.9xx\n",
      "8x.9.KQJT8xx.QJT Tx.QJxx.9x.98xxx AKQ9xx.K8xx.Ax.A Jxx.ATxx.xx.Kxxx\n",
      "8x.9.KQJT8xx.QJT KQ9.xxx.xx.xxxxx AJxxxx.AKT8.A9.K Tx.QJxxx.xx.A98x\n",
      "8x.9.KQJT8xx.QJT 9.xxxx.9xxx.K8xx AKQJTx.AQ8x.Ax.x xxxx.KJTx..A9xxx\n",
      "8x.9.KQJT8xx.QJT JTx.8xx.9x.Axxxx AKQxx.AKQJ.Axx.x 9xx.Txxxx.x.K98x\n",
      "8x.9.KQJT8xx.QJT J9x.QJ8xx.x.9xxx AKQTxx.AKTx.9x.A xx.xxx.Axx.K8xxx\n",
      "8x.9.KQJT8xx.QJT J9x.T8xx.A9xx.8x AKxxx.AKJx..AK9x QTx.Qxxx.xx.xxxx\n",
      "8x.9.KQJT8xx.QJT x.JT8x.9x.Kxxxxx KQJxx.AKxx.Axx.A AT9xx.Qxxx.x.98x\n",
      "8x.9.KQJT8xx.QJT Txx.K8xxx.9xx.8x AKQJ9x.AQJx.A.xx xx.Txx.xx.AK9xxx\n"
     ]
    }
   ],
   "source": [
    "# we got some samples above. if we want more, we can always get more\n",
    "\n",
    "sample_hands, sorted_score, p_hcp, p_shp = bot_bid.sample_hands([\"PAD_START\", \"PAD_START\", \"PAD_START\", \"PASS\", \"1N\", \"PASS\", \"3S\",\"PASS\"])\n",
    "\n",
    "for i in range(sample_hands.shape[0]):\n",
    "    print(f'{hand_to_str(sample_hands[i, 0, :])} {hand_to_str(sample_hands[i, 1, :])} {hand_to_str(sample_hands[i, 2, :])} {hand_to_str(sample_hands[i, 3, :])}')"
   ]
  }
 ],
 "metadata": {
  "kernelspec": {
   "display_name": "Python 3 (ipykernel)",
   "language": "python",
   "name": "python3"
  },
  "language_info": {
   "codemirror_mode": {
    "name": "ipython",
    "version": 3
   },
   "file_extension": ".py",
   "mimetype": "text/x-python",
   "name": "python",
   "nbconvert_exporter": "python",
   "pygments_lexer": "ipython3",
   "version": "3.11.0"
  }
 },
 "nbformat": 4,
 "nbformat_minor": 5
}
