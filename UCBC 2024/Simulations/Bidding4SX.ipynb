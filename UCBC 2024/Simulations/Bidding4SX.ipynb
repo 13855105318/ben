{
 "cells": [
  {
   "cell_type": "markdown",
   "id": "75d07246",
   "metadata": {},
   "source": [
    "# Bidding\n",
    "\n",
    "This is a tutorial for how to use the bidding engine"
   ]
  },
  {
   "cell_type": "code",
   "execution_count": 1,
   "id": "59a5664c",
   "metadata": {},
   "outputs": [
    {
     "name": "stdout",
     "output_type": "stream",
     "text": [
      "WARNING:tensorflow:From c:\\Python311\\Lib\\site-packages\\tensorflow\\python\\compat\\v2_compat.py:107: disable_resource_variables (from tensorflow.python.ops.variable_scope) is deprecated and will be removed in a future version.\n",
      "Instructions for updating:\n",
      "non-resource variables are not supported in the long term\n"
     ]
    }
   ],
   "source": [
    "import sys\n",
    "sys.path.append('../../src')\n",
    "\n",
    "from nn.models import Models\n",
    "from bots import BotBid\n",
    "from util import hand_to_str\n",
    "from sample import Sample\n",
    "import conf\n",
    "import numpy as np\n",
    "\n",
    "np.set_printoptions(precision=2, suppress=True, linewidth=200)\n",
    "np.random.seed(42)\n"
   ]
  },
  {
   "cell_type": "code",
   "execution_count": 2,
   "id": "44786d5d",
   "metadata": {},
   "outputs": [
    {
     "name": "stdout",
     "output_type": "stream",
     "text": [
      "INFO:tensorflow:Restoring parameters from ..\\Models/NS1EW99-bidding-3961000\n",
      "INFO:tensorflow:Restoring parameters from ..\\Models/NS1EW99-binfo-1887000\n",
      "INFO:tensorflow:Restoring parameters from ..\\Models/lead_suit-154000\n",
      "INFO:tensorflow:Restoring parameters from ..\\Models/lead_nt-59000\n",
      "INFO:tensorflow:Restoring parameters from ..\\Models/single_dummy-1562000\n",
      "INFO:tensorflow:Restoring parameters from ..\\Models/lefty-1000000\n",
      "INFO:tensorflow:Restoring parameters from ..\\Models/dummy-920000\n",
      "INFO:tensorflow:Restoring parameters from ..\\Models/righty-1000000\n",
      "INFO:tensorflow:Restoring parameters from ..\\Models/decl-1000000\n"
     ]
    }
   ],
   "source": [
    "models = Models.from_conf(conf.load('../Conf/UCBC2024.conf'),'..')   # loading neural networks\n",
    "sampler = Sample.from_conf(conf.load('../Conf/UCBC2024.conf'), False)  # Load sampling strategies\n"
   ]
  },
  {
   "cell_type": "markdown",
   "id": "10d8f2fc",
   "metadata": {},
   "source": [
    "### Running through an example"
   ]
  },
  {
   "cell_type": "code",
   "execution_count": 3,
   "id": "19dbfeb7",
   "metadata": {},
   "outputs": [
    {
     "data": {
      "text/plain": [
       "[{'call': '1S', 'insta_score': 0.713, 'expected_score': 38, 'adjustment': 36},\n",
       " {'call': '2S', 'insta_score': 0.281, 'expected_score': 33, 'adjustment': 14}]"
      ]
     },
     "execution_count": 3,
     "metadata": {},
     "output_type": "execute_result"
    }
   ],
   "source": [
    "# East deals, EW vulnerable.\n",
    "vuln_ns, vuln_ew = True, True\n",
    "\n",
    "# you sit West and hold:\n",
    "hand = 'KJ7432.9.A.QJT86'\n",
    "\n",
    "# the auction goes:\n",
    "# (a few words about 'PAD_START':\n",
    "# the auction is padded to dealer North\n",
    "# if North is not dealer, than we have to put in a 'PAD_START' for every seat that was skipped\n",
    "# if East deals we have one pad (because North is skipped)\n",
    "# if South deals we have two pads (because North and East are skipped)\n",
    "# etc.)\n",
    "auction = [\"PAD_START\", \"PAD_START\", \"PASS\", \"PASS\"]\n",
    "bot_bid = BotBid([vuln_ns, vuln_ew], hand, models, sampler, False)\n",
    "\n",
    "bid = bot_bid.bid(auction)\n",
    "bid.to_dict()['candidates']\n",
    "\n",
    "# what's your bid?"
   ]
  },
  {
   "cell_type": "code",
   "execution_count": 4,
   "id": "bfe98f56",
   "metadata": {},
   "outputs": [
    {
     "data": {
      "text/plain": [
       "[{'call': 'PASS', 'insta_score': 0.942}]"
      ]
     },
     "execution_count": 4,
     "metadata": {},
     "output_type": "execute_result"
    }
   ],
   "source": [
    "auction = [\"PAD_START\", \"PAD_START\", \"PASS\", \"PASS\", \"1S\", \"2H\", \"PASS\", \"3D\"]\n",
    "bid = bot_bid.bid(auction)\n",
    "\n",
    "bid.to_dict()['candidates']"
   ]
  },
  {
   "cell_type": "code",
   "execution_count": 5,
   "id": "55b647a5",
   "metadata": {},
   "outputs": [
    {
     "data": {
      "text/plain": [
       "['KJxxxx.9.A.QJT8x Axx.AJ8xxx.KJx.x QT.KTxx.9x.K9xxx 98.Qx.QT8xxxx.Ax 0.21122',\n",
       " 'KJxxxx.9.A.QJT8x A.AK8xxxx.8x.A9x QT.JTxx.T9xx.xxx 98xx.Q.KQJxxx.Kx 0.15015',\n",
       " 'KJxxxx.9.A.QJT8x Ax.KQxxxx.Kxx.A9 8x.T8xx.Q9.Kxxxx QT9.AJ.JT8xxxx.x 0.14997',\n",
       " 'KJxxxx.9.A.QJT8x Axx.AQT8x.KJ.Kxx T9.Jxxxx.xxx.A9x Q8.Kx.QT98xxx.xx 0.14625',\n",
       " 'KJxxxx.9.A.QJT8x A9.KQT8xx.9x.Axx T8.Axxx.K8x.9xxx Qxx.Jx.QJTxxxx.K 0.14361',\n",
       " 'KJxxxx.9.A.QJT8x 98.AKJ8xxx.Q8.Ax T.QTx.Txxx.Kxxxx AQxx.xx.KJ9xxx.9 0.14015',\n",
       " 'KJxxxx.9.A.QJT8x AQ.A8xxxx.Kx.xxx T8x.QJTx.QTx.K9x 9x.Kx.J98xxxx.Ax 0.12611',\n",
       " 'KJxxxx.9.A.QJT8x A8x.KJTxx.Kx.K9x Tx.AQ8xx.Jxx.xxx Q9.xx.QT98xxx.Ax 0.12165',\n",
       " 'KJxxxx.9.A.QJT8x ATx.KT8xxx.KQ.Kx 8x.Qxxx.xxx.Axxx Q9.AJ.JT98xxx.9x 0.12052',\n",
       " 'KJxxxx.9.A.QJT8x Qx.KQJTxx.KJ.K9x A98.A8xx.8xx.xxx Tx.xx.QT9xxxx.Ax 0.11876']"
      ]
     },
     "execution_count": 5,
     "metadata": {},
     "output_type": "execute_result"
    }
   ],
   "source": [
    "bid.samples"
   ]
  },
  {
   "cell_type": "code",
   "execution_count": 6,
   "metadata": {},
   "outputs": [
    {
     "data": {
      "text/plain": [
       "[{'call': 'PASS',\n",
       "  'insta_score': 0.998,\n",
       "  'expected_score': -91,\n",
       "  'adjustment': 50},\n",
       " {'call': '4S',\n",
       "  'insta_score': 0.002,\n",
       "  'expected_score': -478,\n",
       "  'adjustment': -1433}]"
      ]
     },
     "execution_count": 6,
     "metadata": {},
     "output_type": "execute_result"
    }
   ],
   "source": [
    "auction = [\"PAD_START\", \"PAD_START\", \"PASS\", \"PASS\", \"1S\", \"2H\", \"PASS\", \"3D\", \"PASS\", \"3N\" , \"PASS\", \"PASS\"]\n",
    "bid = bot_bid.bid(auction)\n",
    "\n",
    "bid.to_dict()['candidates']"
   ]
  },
  {
   "cell_type": "code",
   "execution_count": 7,
   "id": "7101e514",
   "metadata": {},
   "outputs": [
    {
     "name": "stdout",
     "output_type": "stream",
     "text": [
      "KJxxxx.9.A.QJT8x AQx.JTxxx.xxx.xx x.AQ8x.QT9xx.A9x T98.Kxx.KJ8x.Kxx\n",
      "KJxxxx.9.A.QJT8x Q8x.JTxxx.Kxx.Kx T.A8xx.QT98x.Axx A9x.KQx.Jxxx.9xx\n",
      "KJxxxx.9.A.QJT8x QT8.ATxx.Txx.Kxx 9.KQxx.KQ8xx.A9x Axx.J8xx.J9xx.xx\n",
      "KJxxxx.9.A.QJT8x T9x.AQTx.T9xx.Kx x.Jxxx.KJ8xx.Axx AQ8.K8xx.Qxx.9xx\n",
      "KJxxxx.9.A.QJT8x A8x.J8xxx.xx.Kxx 9.AKQx.QJT8x.Axx QTx.Txx.K9xxx.9x\n",
      "KJxxxx.9.A.QJT8x Q8x.JTxxx.9xx.Kx x.AK8x.KQ8xx.A9x AT9.Qxx.JTxx.xxx\n",
      "KJxxxx.9.A.QJT8x AT9.J8xxx.Kx.xxx Q.ATxx.QJ9xxx.Ax 8xx.KQx.T8xx.K9x\n",
      "KJxxxx.9.A.QJT8x ATx.KJxxx.Q9x.Ax 9.AQxx.Kxxxx.K9x Q8x.T8x.JT8x.xxx\n",
      "KJxxxx.9.A.QJT8x QTx.Kxxxx.xx.9xx A.QJ8x.KT9xxxx.K 98x.ATx.QJ8.Axxx\n",
      "KJxxxx.9.A.QJT8x T8x.AKT8x.xx.A9x Q.xxxx.KJxxx.Kxx A9x.QJx.QT98x.xx\n"
     ]
    }
   ],
   "source": [
    "# we got some samples above. if we want more, we can always get more\n",
    "\n",
    "sample_hands, sorted_score, p_hcp, p_shp = bot_bid.sample_hands([\"PAD_START\", \"PAD_START\", \"PAD_START\", \"PASS\", \"1N\", \"PASS\", \"3S\",\"PASS\"])\n",
    "\n",
    "for i in range(sample_hands.shape[0]):\n",
    "    print(f'{hand_to_str(sample_hands[i, 0, :])} {hand_to_str(sample_hands[i, 1, :])} {hand_to_str(sample_hands[i, 2, :])} {hand_to_str(sample_hands[i, 3, :])}')"
   ]
  }
 ],
 "metadata": {
  "kernelspec": {
   "display_name": "Python 3 (ipykernel)",
   "language": "python",
   "name": "python3"
  },
  "language_info": {
   "codemirror_mode": {
    "name": "ipython",
    "version": 3
   },
   "file_extension": ".py",
   "mimetype": "text/x-python",
   "name": "python",
   "nbconvert_exporter": "python",
   "pygments_lexer": "ipython3",
   "version": "3.11.0"
  }
 },
 "nbformat": 4,
 "nbformat_minor": 5
}
