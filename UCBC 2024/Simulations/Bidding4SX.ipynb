{
 "cells": [
  {
   "cell_type": "markdown",
   "id": "75d07246",
   "metadata": {},
   "source": [
    "# Bidding\n",
    "\n",
    "This is a tutorial for how to use the bidding engine"
   ]
  },
  {
   "cell_type": "code",
   "execution_count": 1,
   "id": "59a5664c",
   "metadata": {},
   "outputs": [
    {
     "name": "stdout",
     "output_type": "stream",
     "text": [
      "WARNING:tensorflow:From c:\\Python311\\Lib\\site-packages\\tensorflow\\python\\compat\\v2_compat.py:107: disable_resource_variables (from tensorflow.python.ops.variable_scope) is deprecated and will be removed in a future version.\n",
      "Instructions for updating:\n",
      "non-resource variables are not supported in the long term\n"
     ]
    }
   ],
   "source": [
    "import sys\n",
    "sys.path.append('../../src')\n",
    "\n",
    "from nn.models import Models\n",
    "from bots import BotBid\n",
    "from util import hand_to_str\n",
    "from sample import Sample\n",
    "import conf\n",
    "import numpy as np\n",
    "\n",
    "np.set_printoptions(precision=2, suppress=True, linewidth=200)\n",
    "np.random.seed(42)\n"
   ]
  },
  {
   "cell_type": "code",
   "execution_count": 2,
   "id": "44786d5d",
   "metadata": {},
   "outputs": [
    {
     "name": "stdout",
     "output_type": "stream",
     "text": [
      "INFO:tensorflow:Restoring parameters from ..\\Models/NS1EW2-bidding-3233000\n",
      "INFO:tensorflow:Restoring parameters from ..\\Models/NS1EW2-binfo-808000\n",
      "INFO:tensorflow:Restoring parameters from ..\\Models/lead_suit-154000\n",
      "INFO:tensorflow:Restoring parameters from ..\\Models/lead_nt-59000\n",
      "INFO:tensorflow:Restoring parameters from ..\\Models/lr3-1000000\n",
      "INFO:tensorflow:Restoring parameters from ..\\Models/lefty-1000000\n",
      "INFO:tensorflow:Restoring parameters from ..\\Models/dummy-920000\n",
      "INFO:tensorflow:Restoring parameters from ..\\Models/righty-1000000\n",
      "INFO:tensorflow:Restoring parameters from ..\\Models/decl-1000000\n"
     ]
    }
   ],
   "source": [
    "models = Models.from_conf(conf.load('../Conf/UCBC2024.conf'),'..')   # loading neural networks\n",
    "sampler = Sample.from_conf(conf.load('../Conf/UCBC2024.conf'), False)  # Load sampling strategies\n"
   ]
  },
  {
   "cell_type": "markdown",
   "id": "10d8f2fc",
   "metadata": {},
   "source": [
    "### Running through an example"
   ]
  },
  {
   "cell_type": "code",
   "execution_count": 3,
   "id": "19dbfeb7",
   "metadata": {},
   "outputs": [
    {
     "data": {
      "text/plain": [
       "[{'call': '1S', 'insta_score': 0.8339, 'expected_score': 78, 'adjustment': 42},\n",
       " {'call': '2S', 'insta_score': 0.1631, 'expected_score': 51, 'adjustment': 8}]"
      ]
     },
     "execution_count": 3,
     "metadata": {},
     "output_type": "execute_result"
    }
   ],
   "source": [
    "# East deals, EW vulnerable.\n",
    "vuln_ns, vuln_ew = True, True\n",
    "\n",
    "# you sit West and hold:\n",
    "hand = 'KJ7432.9.A.QJT86'\n",
    "\n",
    "# the auction goes:\n",
    "# (a few words about 'PAD_START':\n",
    "# the auction is padded to dealer North\n",
    "# if North is not dealer, than we have to put in a 'PAD_START' for every seat that was skipped\n",
    "# if East deals we have one pad (because North is skipped)\n",
    "# if South deals we have two pads (because North and East are skipped)\n",
    "# etc.)\n",
    "auction = [\"PAD_START\", \"PAD_START\", \"PASS\", \"PASS\"]\n",
    "bot_bid = BotBid([vuln_ns, vuln_ew], hand, models, sampler, False)\n",
    "\n",
    "bid = bot_bid.bid(auction)\n",
    "bid.to_dict()['candidates']\n",
    "\n",
    "# what's your bid?"
   ]
  },
  {
   "cell_type": "code",
   "execution_count": 4,
   "id": "bfe98f56",
   "metadata": {},
   "outputs": [
    {
     "data": {
      "text/plain": [
       "[{'call': 'PASS', 'insta_score': 0.993}]"
      ]
     },
     "execution_count": 4,
     "metadata": {},
     "output_type": "execute_result"
    }
   ],
   "source": [
    "auction = [\"PAD_START\", \"PAD_START\", \"PASS\", \"PASS\", \"1S\", \"2H\", \"PASS\", \"3D\"]\n",
    "bid = bot_bid.bid(auction)\n",
    "\n",
    "bid.to_dict()['candidates']"
   ]
  },
  {
   "cell_type": "code",
   "execution_count": 5,
   "id": "55b647a5",
   "metadata": {},
   "outputs": [
    {
     "data": {
      "text/plain": [
       "['KJxxxx.9.A.QJT8x x.AKJ8xxxx.xx.A9 Qx.Txx.K8x.Kxxxx AT98.Q.QJT9xxx.x 0.39012',\n",
       " 'KJxxxx.9.A.QJT8x AQ.AQJTxxx.J8x.x 8.K8xx.Txx.Kxxxx T9xx.x.KQ9xxx.A9 0.36071',\n",
       " 'KJxxxx.9.A.QJT8x 8x.AKJTxxx.x.AKx A.8xx.T9xxx.9xxx QT9x.Qx.KQJ8xx.x 0.31275',\n",
       " 'KJxxxx.9.A.QJT8x xx.AQJ8xx.Kx.Axx 9.Kxxx.9xxx.Kxxx AQT8.Tx.QJT8xx.9 0.30764',\n",
       " 'KJxxxx.9.A.QJT8x 9x.AKQxxxx.xx.Ax T.Txx.QJxx.K9xxx AQ8x.J8.KT98xx.x 0.27324',\n",
       " 'KJxxxx.9.A.QJT8x Q8.AQJT8xxx.Kx.K x.Kxxx.JTxx.xxxx AT9x..Q98xxx.A9x 0.25882',\n",
       " 'KJxxxx.9.A.QJT8x Q8.KQJT8xx.T9.Ax 9.Axx.Jxxx.K9xxx ATxx.xx.KQ8xxx.x 0.25252',\n",
       " 'KJxxxx.9.A.QJT8x x.AKQ8xx.Q9x.Kxx QT.JTxx.8xx.Axxx A98x.xx.KJTxxx.9 0.24375',\n",
       " 'KJxxxx.9.A.QJT8x QT.AT8xxxx.x.AKx 8.KQJxx.QT9xx.xx A9xx..KJ8xxx.9xx 0.19063',\n",
       " 'KJxxxx.9.A.QJT8x 98x.AKQJxx.x.K9x Qx.Txxx.KQx.Axxx AT.8x.JT98xxxx.x 0.18854']"
      ]
     },
     "execution_count": 5,
     "metadata": {},
     "output_type": "execute_result"
    }
   ],
   "source": [
    "bid.samples"
   ]
  },
  {
   "cell_type": "code",
   "execution_count": 6,
   "metadata": {},
   "outputs": [
    {
     "data": {
      "text/plain": [
       "[{'call': 'PASS',\n",
       "  'insta_score': 0.9984,\n",
       "  'expected_score': -293,\n",
       "  'adjustment': 50},\n",
       " {'call': 'X',\n",
       "  'insta_score': 0.0012,\n",
       "  'expected_score': -375,\n",
       "  'adjustment': -400}]"
      ]
     },
     "execution_count": 6,
     "metadata": {},
     "output_type": "execute_result"
    }
   ],
   "source": [
    "auction = [\"PAD_START\", \"PAD_START\", \"PASS\", \"PASS\", \"1S\", \"2H\", \"PASS\", \"3D\", \"PASS\", \"3N\" , \"PASS\", \"PASS\"]\n",
    "bid = bot_bid.bid(auction)\n",
    "\n",
    "bid.to_dict()['candidates']"
   ]
  },
  {
   "cell_type": "code",
   "execution_count": 7,
   "id": "7101e514",
   "metadata": {},
   "outputs": [
    {
     "name": "stdout",
     "output_type": "stream",
     "text": [
      "KJxxxx.9.A.QJT8x T8xx.AK8.T9xxx.K 9.QTxx.KQJx.A9xx AQ.Jxxxx.8xx.xxx\n",
      "KJxxxx.9.A.QJT8x Q8x.QJxx.KJ9x.Kx T.AKT8.T8xx.Axxx A9x.xxxx.Qxxx.9x\n",
      "KJxxxx.9.A.QJT8x AQT.JTxx.xxxxx.K x.AQ8x.KQT9.9xxx 98x.Kxxx.J8x.Axx\n",
      "KJxxxx.9.A.QJT8x Axx.Jxx.J98x.AK9 T.Axxx.KQxxx.xxx Q98.KQT8x.Txx.xx\n",
      "KJxxxx.9.A.QJT8x AQxx.Kxxx.QT9x.x 8.QJ8x.KJ8xx.A9x T9.ATxx.xxx.Kxxx\n",
      "KJxxxx.9.A.QJT8x AT8.QTxx.QJxx.Kx 9.AJxx.K98xx.Axx Qxx.K8xx.Txx.9xx\n",
      "KJxxxx.9.A.QJT8x QT.Qxxxx.QJ9x.A9 9.AKJx.8xxxx.Kxx A8xx.T8x.KTx.xxx\n",
      "KJxxxx.9.A.QJT8x 98x.AJ8xx.xxx.A9 x.KTxx.KJ98xx.Kx AQT.Qxx.QTx.xxxx\n",
      "KJxxxx.9.A.QJT8x AT9x.KTxx.KQx.9x x.Axxx.T9xxxx.AK Q8.QJ8x.J8x.xxxx\n",
      "KJxxxx.9.A.QJT8x xx.AJxx.Txx.A9xx 9.KTxx.KQ9xxx.Kx AQT8.Q8xx.J8x.xx\n",
      "KJxxxx.9.A.QJT8x AT9x.KTxx.JT9x.x x.QJ8x.K8xxx.AK9 Q8.Axxx.Qxx.xxxx\n",
      "KJxxxx.9.A.QJT8x T8x.xxx.Qxxx.AKx x.AQxx.KJT98.9xx AQ9.KJT8x.xxx.xx\n",
      "KJxxxx.9.A.QJT8x A9x.ATxx.Qxx.xxx T.K8xx.KJ8xxx.K9 Q8x.QJxx.T9x.Axx\n",
      "KJxxxx.9.A.QJT8x A8x.Kxxxx.JTx.Ax 9.AJ8x.KQ9xxx.Kx QTx.QTx.8xx.9xxx\n",
      "KJxxxx.9.A.QJT8x T9x.Txxx.QJx.AKx x.AKJx.KTxxxx.9x AQ8.Q8xx.98x.xxx\n",
      "KJxxxx.9.A.QJT8x T98.AKx.KJx.xxxx A.Jxxx.T8xxx.A9x Qxx.QT8xx.Q9xx.K\n",
      "KJxxxx.9.A.QJT8x Q8xx.AJTxx.Kxxx. T.Kxxx.Q9x.Axxxx A9.Q8x.JT8xx.K9x\n",
      "KJxxxx.9.A.QJT8x Qxx.AT8xx.8xx.Kx 9.Kxxx.KQT9xx.A9 AT8.QJx.Jxx.xxxx\n",
      "KJxxxx.9.A.QJT8x Qxx.AJxxx.Qxx.9x 9.KQxx.KT8xx.Axx AT8.T8x.J9xx.Kxx\n",
      "KJxxxx.9.A.QJT8x AQ9.J8xx.JTx.9xx 8.KQTx.K9xxx.Axx Txx.Axxx.Q8xx.Kx\n",
      "KJxxxx.9.A.QJT8x AT98.QTxx.JT9.xx x.Axxx.Q8xxx.AK9 Qx.KJ8x.Kxxx.xxx\n",
      "KJxxxx.9.A.QJT8x QTxx.KTx.Kxx.9xx 9.Axxx.QJ9xx.Axx A8.QJ8xx.T8xx.Kx\n",
      "KJxxxx.9.A.QJT8x 9xx.AQT8.K9x.A9x A.KJxx.QJxxx.xxx QT8.xxxx.T8xx.Kx\n",
      "KJxxxx.9.A.QJT8x AQTx.xxx.98x.K9x 9.KTxx.QJTxx.Axx 8x.AQJ8x.Kxxx.xx\n",
      "KJxxxx.9.A.QJT8x AT.Qxxx.KQJ8.xxx 9.AKJT.9xxxx.A9x Q8xx.8xxx.Txx.Kx\n",
      "KJxxxx.9.A.QJT8x QTx.Axx.J8xx.xx 9.T8xx.KQxx.AK9x Ax.KQJxx.T9xx.xx\n",
      "KJxxxx.9.A.QJT8x ATx.Axxx.Q98x.9x Q.QJxx.Kxxx.AKxx 98x.KT8x.JTxx.xx\n",
      "KJxxxx.9.A.QJT8x AT8.KTxx.Txx.xxx Q.QJxx.Kxx.AK9xx 9xx.A8xx.QJ98xx.\n",
      "KJxxxx.9.A.QJT8x AT8.Q8xxx.KQx.Kx x.AKJx.JT98.9xxx Q9x.Txx.xxxxx.Ax\n",
      "KJxxxx.9.A.QJT8x T9x.Qxxxx.T98.Ax Q.AKT8.QJxx.K9xx A8x.Jxx.Kxxxx.xx\n",
      "KJxxxx.9.A.QJT8x Ax.AJ8xx.KJxxx.x x.KQxx.T98x.A9xx QT98.Txx.Qxx.Kxx\n",
      "KJxxxx.9.A.QJT8x ATx.A8xx.KJTx.xx Q.JTxx.Qxxxx.Axx 98x.KQxx.98x.K9x\n",
      "KJxxxx.9.A.QJT8x Q9.AKTx.QJT9.Axx A.QJxx.K8xxx.K9x T8xx.8xxx.xxx.xx\n",
      "KJxxxx.9.A.QJT8x AQ98x.Txxx.K8x.A .KQJx.T9xxxx.Kxx Tx.A8xx.QJx.9xxx\n",
      "KJxxxx.9.A.QJT8x ATx.KQxx.J98.Kxx Q.J8xx.KTxx.A9xx 98x.ATxx.Qxxxx.x\n",
      "KJxxxx.9.A.QJT8x AT8.AJxxx.T9x.9x Q.KQTx.KQ8xx.Kxx 9xx.8xx.Jxxx.Axx\n"
     ]
    }
   ],
   "source": [
    "# we got some samples above. if we want more, we can always get more\n",
    "\n",
    "sample_hands, sorted_score, p_hcp, p_shp = bot_bid.sample_hands([\"PAD_START\", \"PAD_START\", \"PAD_START\", \"PASS\", \"1N\", \"PASS\", \"3S\",\"PASS\"])\n",
    "\n",
    "for i in range(sample_hands.shape[0]):\n",
    "    print(f'{hand_to_str(sample_hands[i, 0, :])} {hand_to_str(sample_hands[i, 1, :])} {hand_to_str(sample_hands[i, 2, :])} {hand_to_str(sample_hands[i, 3, :])}')"
   ]
  }
 ],
 "metadata": {
  "kernelspec": {
   "display_name": "Python 3 (ipykernel)",
   "language": "python",
   "name": "python3"
  },
  "language_info": {
   "codemirror_mode": {
    "name": "ipython",
    "version": 3
   },
   "file_extension": ".py",
   "mimetype": "text/x-python",
   "name": "python",
   "nbconvert_exporter": "python",
   "pygments_lexer": "ipython3",
   "version": "3.11.0"
  }
 },
 "nbformat": 4,
 "nbformat_minor": 5
}
