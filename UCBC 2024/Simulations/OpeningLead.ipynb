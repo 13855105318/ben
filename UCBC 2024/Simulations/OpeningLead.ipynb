{
 "cells": [
  {
   "cell_type": "markdown",
   "id": "170af530",
   "metadata": {},
   "source": [
    "# Opening Lead\n",
    "\n",
    "This is a tutorial for how to use the opening lead engine."
   ]
  },
  {
   "cell_type": "code",
   "execution_count": 1,
   "id": "26570686",
   "metadata": {},
   "outputs": [
    {
     "name": "stdout",
     "output_type": "stream",
     "text": [
      "WARNING:tensorflow:From c:\\Python311\\Lib\\site-packages\\tensorflow\\python\\compat\\v2_compat.py:107: disable_resource_variables (from tensorflow.python.ops.variable_scope) is deprecated and will be removed in a future version.\n",
      "Instructions for updating:\n",
      "non-resource variables are not supported in the long term\n"
     ]
    }
   ],
   "source": [
    "import os\n",
    "import sys\n",
    "sys.path.append('../../src')\n",
    "\n",
    "from nn.models import Models\n",
    "from bots import BotLead\n",
    "from sample import Sample\n",
    "import conf"
   ]
  },
  {
   "cell_type": "code",
   "execution_count": 2,
   "id": "fe373c76",
   "metadata": {},
   "outputs": [
    {
     "name": "stdout",
     "output_type": "stream",
     "text": [
      "INFO:tensorflow:Restoring parameters from ..\\Models/bidding-3233000\n",
      "INFO:tensorflow:Restoring parameters from ..\\Models/binfo-808000\n",
      "INFO:tensorflow:Restoring parameters from ..\\Models/lead-1000000\n",
      "INFO:tensorflow:Restoring parameters from ..\\Models/lead-1000000\n",
      "INFO:tensorflow:Restoring parameters from ..\\Models/lr3-1000000\n",
      "INFO:tensorflow:Restoring parameters from ..\\Models/lefty-1000000\n",
      "INFO:tensorflow:Restoring parameters from ..\\Models/dummy-920000\n",
      "INFO:tensorflow:Restoring parameters from ..\\Models/righty-1000000\n",
      "INFO:tensorflow:Restoring parameters from ..\\Models/decl-1000000\n"
     ]
    }
   ],
   "source": [
    "models = Models.from_conf(conf.load('../Conf/UCBC2024.conf'),'..')   # loading neural networks\n",
    "sampler = Sample.from_conf(conf.load('../Conf/UCBC2024.conf'), False)  # Load sampling strategies"
   ]
  },
  {
   "cell_type": "code",
   "execution_count": 3,
   "id": "c3397678",
   "metadata": {},
   "outputs": [],
   "source": [
    "# both vulnerable. you are sitting North as dealer and you hold\n",
    "hand = 'QJT75.86.3.AT52'\n",
    "\n",
    "# the auction goes:\n",
    "auction = [\"PAD_START\", \"PAD_START\", \"PAD_START\", \"2N\", \"PASS\", \"3C\", \"PASS\", \"3D\", \"PASS\", \"6N\", \"PASS\", \"PASS\", \"PASS\"]\n",
    "\n",
    "# what to lead?\n",
    "\n",
    "lead_bot = BotLead([False, True], hand, models, models.lead_threshold, sampler, False)\n",
    "lead = lead_bot.find_opening_lead(auction)"
   ]
  },
  {
   "cell_type": "code",
   "execution_count": 4,
   "id": "a2b5fe25",
   "metadata": {},
   "outputs": [
    {
     "data": {
      "text/plain": [
       "C5"
      ]
     },
     "execution_count": 4,
     "metadata": {},
     "output_type": "execute_result"
    }
   ],
   "source": [
    "lead.card"
   ]
  },
  {
   "cell_type": "markdown",
   "id": "02e88396",
   "metadata": {},
   "source": [
    "seems like the engine chose to lead the ace of diamonds\n",
    "\n",
    "the other options it considered were: a small spade and a small club"
   ]
  },
  {
   "cell_type": "code",
   "execution_count": 5,
   "id": "956ef356",
   "metadata": {},
   "outputs": [
    {
     "data": {
      "text/plain": [
       "[{'card': 'Cx',\n",
       "  'insta_score': 0.2287,\n",
       "  'expected_tricks_sd': 11.43,\n",
       "  'p_make_contract': 0.53},\n",
       " {'card': 'SQ',\n",
       "  'insta_score': 0.703,\n",
       "  'expected_tricks_sd': 11.49,\n",
       "  'p_make_contract': 0.56}]"
      ]
     },
     "execution_count": 5,
     "metadata": {},
     "output_type": "execute_result"
    }
   ],
   "source": [
    "lead.to_dict()['candidates']"
   ]
  },
  {
   "cell_type": "markdown",
   "id": "97efc5a1",
   "metadata": {},
   "source": [
    "in the above output:\n",
    "- `insta_score` reflects the preference of the neural network\n",
    "- `expected_tricks` how many tricks declarer is expected to take on this lead\n",
    "- `p_make_contract` is the probability of the contract making on this lead\n",
    "\n",
    "the probability of making and the expected tricks are computed on samples which are consistent with the auction. the samples are estimated single dummy using a neural network (more on this in another tutorial). we could also solve the samples double dummy, but that would be quite a bit slower."
   ]
  },
  {
   "cell_type": "code",
   "execution_count": 6,
   "id": "7cb2bf98",
   "metadata": {},
   "outputs": [
    {
     "data": {
      "text/plain": [
       "['Axxx.AJx.8xxx.Qx .QT9xxx.T9x.9xxx K8x.Kx.AKQJx.KJ8 0.48639',\n",
       " '98xx.KQT.A9xx.Qx x.9xxx.QT8xx.9xx AKx.AJx.KJx.KJ8x 0.47680',\n",
       " 'K8xx.Qxx.AQxx.xx 9.T9xxx.JTxx.J8x Axx.AKJ.K98x.KQ9 0.44096',\n",
       " '9xxx.A9x.AQxx.Jx 8x.QTxx.T8xx.98x AK.KJx.KJ9x.KQxx 0.42967',\n",
       " '98xx.Axx.ATx.K8x xx.T9xx.Q9xx.9xx AK.KQJ.KJ8xx.QJx 0.42383',\n",
       " 'A8.Q9xx.KT9xx.QJ 9xx.Txx.8xx.xxxx Kxx.AKJ.AQJx.K98 0.42252',\n",
       " 'A9.Txxx.AJxx.QJx 8xx.J9xx.T9x.98x Kxx.AKQ.KQ8xx.Kx 0.42066',\n",
       " '8xx.KQxx.KJxx.Qx 9x.Txxx.Txx.J8xx AKx.AJ.AQ98x.K9x 0.41473',\n",
       " 'A9xx.AJTx.Tx.QJ9 x.9xxx.9xxx.8xxx K8x.KQx.AKQ8x.Kx 0.41313',\n",
       " 'K9xx.Qxx.Q8x.KJx 8x.T9xx.T9xx.Q9x Ax.AKJ.AKJxx.8xx 0.41088',\n",
       " '9xxx.Qx.KJx.KQxx .T9xxxx.8xxx.J9x AK8.AKJ.AQT9x.8x 0.40656',\n",
       " '8xx.KQTx.AQ8x.8x x.J9xx.T9xxx.Jxx AK9.Axx.KJx.KQ9x 0.40329',\n",
       " 'xxx.AKQx.98xx.Qx 9x.JT9xx.Txx.98x AK8.xx.AKQJx.KJx 0.40179',\n",
       " '98x.KQTx.Ax.Qxxx xx.J9x.JT9xxxx.9 AKx.Axx.KQ8.KJ8x 0.39980',\n",
       " '98xx.AQx.8xx.KQx xx.JT9xx.JTxx.8x AK.Kxx.AKQ9x.J9x 0.39514',\n",
       " 'Kxx.KQxx.T8xx.Kx xx.T9xx.J9xx.98x A98.AJx.AKQx.Qxx 0.38946',\n",
       " '98x.Q9xx.AQxx.Kx xx.Jxxx.JT8.98xx AKx.AKT.K9xx.QJx 0.38365',\n",
       " 'K8xx.Kxx.QTx.K8x x.J9xx.98xxx.Jxx A9x.AQx.AKJx.Q9x 0.38318',\n",
       " 'Kxxx.AJx.QJT.98x x.T9xxx.xxxx.Qxx A98.KQx.AK9x.KJx 0.37578',\n",
       " 'xx.AKxx.Jxxx.KJx 98x.J9x.T98x.8xx AKx.QTx.AKQx.Q9x 0.37475',\n",
       " 'K8xx.Kxx.9xx.KQx .J9xxx.Txxx.J98x Axx.AQT.AKQJ8.xx 0.37300',\n",
       " 'K9x.AQTx.Q9xx.xx xxx.9xxxx.Txx.J9 A8.KJ.AKJ8x.KQ8x 0.37261',\n",
       " 'A8xx.KJx.A9x.98x x.T9xxx.Txxx.Jxx K9x.AQx.KQJ8x.KQ 0.37193',\n",
       " '8xxx.KQT.KQJ.8xx 9.9xxx.T98xx.J9x AKx.AJx.Axxx.KQx 0.36865',\n",
       " 'A8x.JT9x.KQJ.Jxx xx.xxx.T8xx.98xx K9x.AKQ.A9xxx.KQ 0.36859',\n",
       " 'A8xx.Kxx.KJT9.98 x.9xxx.8xxxx.Jxx K9x.AQT.AQx.KQxx 0.36771',\n",
       " '8xxx.Jxx.AQx.KJx x.QTxx.T8xx.98xx AK9.AKx.KJ9xx.Qx 0.36475',\n",
       " 'Kxx.KJxx.KJxx.98 9x.T9xxx.Txx.Qxx A8x.AQ.AQ98x.KJx 0.36271',\n",
       " 'K8x.Q9xx.AQ9x.xx xxx.Txxx.J8x.J9x A9.AKJ.KTxxx.KQx 0.35818',\n",
       " 'A9.QJ9x.J9x.K8xx 8x.Txxx.Txxx.J9x Kxx.AKx.AKQ8x.Qx 0.35676',\n",
       " '8x.AKQ9.T8xx.Q9x xx.JTxxx.J9xxx.8 AK9.xx.AKQ.KJxxx 0.35569',\n",
       " 'xxx.QJxx.Kxx.KQ9 8x.T9xx.Q98xxx.x AK9.AK.AJT.J8xxx 0.35549',\n",
       " 'Ax.QTxx.Q8x.Kxxx 9xx.Jxx.J9xxx.9x K8x.AKx.AKTx.QJ8 0.35507',\n",
       " 'xxx.QT9x.KQ8x.KJ 9x.Jxxxx.Jxxx.9x AK8.AK.AT9x.Qxxx 0.35488',\n",
       " 'A9x.KJxx.QJx.9xx 8x.QT9xx.T9xx.8x Kxx.Ax.AK8x.KQJx 0.35200',\n",
       " '8xx.Qxxx.KQx.KJ9 9x.JT9x.T9xx.8xx AKx.AKx.A8xx.Qxx 0.35115',\n",
       " 'Ax.J9xx.KTxx.Kxx xx.QTxxx.xxx.98x K9x.AK.AQJ98.QJx 0.35104',\n",
       " 'K9x.AKJx.8xx.8xx x.Q9xxx.Txxx.9xx A8x.Tx.AKQJ9.KQJ 0.34822',\n",
       " 'Kxx.KQ9x.Txx.K9x 98.Jxxxx.9xx.8xx Axx.AT.AKQJx.QJx 0.34423',\n",
       " 'Kxx.JT9x.KQxx.Qx 9x.xxxx.J8xx.J8x A8x.AKQ.ATx.K9xx 0.34415',\n",
       " '9x.KQJx.KT8.QJxx 8xx.9xxx.Jxxx.8x AKx.ATx.AQ9x.K9x 0.33826',\n",
       " 'AK8x.AJxx.9x.9xx xx.9xx.JT8xx.8xx 9x.KQT.AKQxx.KQJ 0.33608',\n",
       " 'xxx.AQT9.Q9x.K8x 8.xxxx.J8xxx.J9x AK9.KJx.AKTx.Qxx 0.33427',\n",
       " '8xx.AKxx.J8xxx.K x.T9xx.T9xx.J9xx AKx.QJx.AKQ.Q8xx 0.33349',\n",
       " 'AKx.QJ9x.JT9.J8x 8xx.Txxx.8xxx.xx 9x.AK.AKQxx.KQ9x 0.33091',\n",
       " '98xx.Qxxx.ATx.KQ .JT9x.J98xxx.8xx AKx.AKx.KQx.J9xx 0.32822',\n",
       " 'Axx.AJxx.Q9x.9xx xx.T9xxx.J8xx.Jx K98.KQ.AKTx.KQ8x 0.32591',\n",
       " '9x.KJ9x.Kxx.KQ8x 8x.Txxx.JT9xx.xx AKx.AQx.AQ8x.J9x 0.32428',\n",
       " 'K8xx.AQxx.xxx.Q8 9x.J9xx.Jxx.9xxx Ax.KTx.AKQT9.KJx 0.32240',\n",
       " 'Kxx.K9xx.QJx.QJx 8x.JTxx.Txxx.98x A9x.AQx.AK9x.Kxx 0.31992',\n",
       " 'xxx.AJ9x.QJx.K9x 9x.Qxxxx.T9xxx.x AK8.KT.AK8x.QJ8x 0.31664',\n",
       " 'Kx.QT9x.ATx.QJ98 98x.Jxxx.98x.xxx Axx.AKx.KQJxx.Kx 0.31272',\n",
       " 'Kxxx.A9xx.ATx.8x 9x.JTxx.xxxx.xxx A8.KQx.KQJ9.KQJ9 0.31210',\n",
       " 'Axxx.AQ9x.98x.Jx x.JTxx.Txxx.9xxx K98.Kx.AKQJx.KQ8 0.31071',\n",
       " '8x.KJTx.KQJx.J9x xxx.Q9x.9xxx.8xx AK9.Axx.AT8x.KQx 0.30994',\n",
       " 'Kxxx.AKJx.Txx.xx 9x.T9xx.J8xx.J8x A8.Qxx.AKQ9x.KQ9 0.30779',\n",
       " '8x.AQJx.KJ8xx.J8 9x.T9xxx.Txx.9xx AKx.Kx.AQ9x.KQxx 0.30659',\n",
       " 'K8xx.KQ9x.KTxx.9 9x.xxx.9xx.Q8xxx Ax.AJx.AQJ8x.KJx 0.30573',\n",
       " 'Axx.QJxx.J9x.Kxx 8xx.9xxx.8xxx.J9 K9.AKT.AKQx.Q8xx 0.30480',\n",
       " 'K9xx.KQxx.Jxxx.Q xx.J9xx.T9x.98xx A8.ATx.AKQ8x.KJx 0.30439',\n",
       " 'K8x.QJ9x.KQJx.8x xxx.xxxx.8xx.xxx A9.AKT.AT9x.KQJ9 0.29909',\n",
       " 'K8x.Q9xx.Jxx.KQJ x.JTxx.T8xx.9xxx Axx.AKx.AKQ9x.8x 0.29726',\n",
       " 'Kxx.KQTx.JTx.Q9x 98x.Jxx.98xx.J8x Ax.A9x.AKQxx.Kxx 0.29515',\n",
       " 'K8xx.KJx.Qxx.K9x x.T9xx.T9xx.J8xx A9x.AQx.AKJ8x.Qx 0.29338',\n",
       " 'AKxx.Jxxx.QTx.J8 98.T9xx.J9xxx.9x xx.AKQ.AK8x.KQxx 0.29139',\n",
       " 'K9.QT9x.QJ9x.QJx xxx.Jxxx.8xx.9xx A8x.AKx.AKTxx.K8 0.28706',\n",
       " 'A98.AJxx.KT8x.8x xx.T9x.J9xxx.9xx Kxx.KQx.AQx.KQJx 0.28692',\n",
       " 'K8xx.ATxx.Q8x.QJ 9x.9xxx.J9x.98xx Ax.KQJ.AKTxx.Kxx 0.28654',\n",
       " 'A8xx.JTxx.Jx.KQx 9.Q9xx.9xxx.98xx Kxx.AKx.AKQ8x.Jx 0.28593',\n",
       " '8x.QJTx.AKJ8x.Jx xx.9xxx.xxx.9xxx AKx.AKx.QT9x.KQ8 0.27301',\n",
       " 'K8xx.KQJx.T98x.Q x.9xxx.xxx.J98xx A9x.ATx.AKQx.Kxx 0.27067',\n",
       " 'K9x.QJxx.QJxx.K8 xx.9xx.T8x.9xxxx A8x.AKT.AK9xx.QJ 0.27002',\n",
       " 'A9xx.ATx.QT.Qxxx xx.9xxxx.8xxxx.x K8.KQJ.AK9x.KJ98 0.26621',\n",
       " 'Kxxx.T9xx.KQx.QJ x.Jxxx.T8xx.98xx A98.AKQ.AJ9x.Kxx 0.26304',\n",
       " '8xx.AKTx.J8x.QJx 9.Q9xx.Txxx.98xx AKx.Jxx.AKQ9x.Kx 0.25907',\n",
       " 'Kxx.AJxx.Jx.Q8xx 9x.T9xx.QT9xx.xx A8x.KQx.AK8xx.KJ 0.25125']"
      ]
     },
     "execution_count": 6,
     "metadata": {},
     "output_type": "execute_result"
    }
   ],
   "source": [
    "# each row is one sample board\n",
    "# the hands are in the order: LHO, Partner, RHO. Your cards are not shown as they are fixed/\n",
    "\n",
    "lead.samples"
   ]
  }
 ],
 "metadata": {
  "kernelspec": {
   "display_name": "Python 3 (ipykernel)",
   "language": "python",
   "name": "python3"
  },
  "language_info": {
   "codemirror_mode": {
    "name": "ipython",
    "version": 3
   },
   "file_extension": ".py",
   "mimetype": "text/x-python",
   "name": "python",
   "nbconvert_exporter": "python",
   "pygments_lexer": "ipython3",
   "version": "3.11.0"
  }
 },
 "nbformat": 4,
 "nbformat_minor": 5
}
