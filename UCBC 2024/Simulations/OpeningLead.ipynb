{
 "cells": [
  {
   "cell_type": "markdown",
   "id": "170af530",
   "metadata": {},
   "source": [
    "# Opening Lead\n",
    "\n",
    "This is a tutorial for how to use the opening lead engine."
   ]
  },
  {
   "cell_type": "code",
   "execution_count": 1,
   "id": "26570686",
   "metadata": {},
   "outputs": [
    {
     "name": "stdout",
     "output_type": "stream",
     "text": [
      "WARNING:tensorflow:From c:\\Python311\\Lib\\site-packages\\tensorflow\\python\\compat\\v2_compat.py:107: disable_resource_variables (from tensorflow.python.ops.variable_scope) is deprecated and will be removed in a future version.\n",
      "Instructions for updating:\n",
      "non-resource variables are not supported in the long term\n"
     ]
    }
   ],
   "source": [
    "import os\n",
    "import sys\n",
    "sys.path.append('../../src')\n",
    "\n",
    "from nn.models import Models\n",
    "from bots import BotLead\n",
    "from sample import Sample\n",
    "import conf"
   ]
  },
  {
   "cell_type": "code",
   "execution_count": 2,
   "id": "fe373c76",
   "metadata": {},
   "outputs": [
    {
     "name": "stdout",
     "output_type": "stream",
     "text": [
      "INFO:tensorflow:Restoring parameters from ..\\Models/bidding-3233000\n",
      "INFO:tensorflow:Restoring parameters from ..\\Models/binfo-286000\n",
      "INFO:tensorflow:Restoring parameters from ..\\Models/lead-1000000\n",
      "INFO:tensorflow:Restoring parameters from ..\\Models/lr3-1000000\n",
      "INFO:tensorflow:Restoring parameters from ..\\Models/lefty-1000000\n",
      "INFO:tensorflow:Restoring parameters from ..\\Models/dummy-920000\n",
      "INFO:tensorflow:Restoring parameters from ..\\Models/righty-1000000\n",
      "INFO:tensorflow:Restoring parameters from ..\\Models/decl-1000000\n"
     ]
    }
   ],
   "source": [
    "models = Models.from_conf(conf.load('../Conf/UCBC2024.conf'),'..')   # loading neural networks\n",
    "sampler = Sample.from_conf(conf.load('../Conf/UCBC2024.conf'), False)  # Load sampling strategies"
   ]
  },
  {
   "cell_type": "code",
   "execution_count": 3,
   "id": "c3397678",
   "metadata": {},
   "outputs": [],
   "source": [
    "# both vulnerable. you are sitting North as dealer and you hold\n",
    "hand = 'Q6542.QJ7.AKT6.7'\n",
    "\n",
    "# the auction goes:\n",
    "auction = [\"PAD_START\", \"PAD_START\", \"1S\", \"PASS\", \"2N\", \"PASS\", \"3C\", \"X\", \"4S\", \"5C\", \"X\", \"PASS\", \"PASS\", \"PASS\"]\n",
    "\n",
    "# what to lead?\n",
    "\n",
    "lead_bot = BotLead([False, True], hand, models, models.lead_threshold, sampler, False)\n",
    "lead = lead_bot.find_opening_lead(auction)"
   ]
  },
  {
   "cell_type": "code",
   "execution_count": 4,
   "id": "a2b5fe25",
   "metadata": {},
   "outputs": [
    {
     "data": {
      "text/plain": [
       "D6"
      ]
     },
     "execution_count": 4,
     "metadata": {},
     "output_type": "execute_result"
    }
   ],
   "source": [
    "lead.card"
   ]
  },
  {
   "cell_type": "markdown",
   "id": "02e88396",
   "metadata": {},
   "source": [
    "seems like the engine chose to lead the ace of diamonds\n",
    "\n",
    "the other options it considered were: a small spade and a small club"
   ]
  },
  {
   "cell_type": "code",
   "execution_count": 5,
   "id": "956ef356",
   "metadata": {},
   "outputs": [
    {
     "data": {
      "text/plain": [
       "[{'card': 'Dx',\n",
       "  'insta_score': 0.0562,\n",
       "  'expected_tricks': 9.39,\n",
       "  'p_make_contract': 0.15},\n",
       " {'card': 'HQ',\n",
       "  'insta_score': 0.0786,\n",
       "  'expected_tricks': 9.39,\n",
       "  'p_make_contract': 0.16},\n",
       " {'card': 'DA',\n",
       "  'insta_score': 0.3247,\n",
       "  'expected_tricks': 9.38,\n",
       "  'p_make_contract': 0.16},\n",
       " {'card': 'Hx',\n",
       "  'insta_score': 0.0807,\n",
       "  'expected_tricks': 9.38,\n",
       "  'p_make_contract': 0.16},\n",
       " {'card': 'Sx',\n",
       "  'insta_score': 0.3844,\n",
       "  'expected_tricks': 9.44,\n",
       "  'p_make_contract': 0.18}]"
      ]
     },
     "execution_count": 5,
     "metadata": {},
     "output_type": "execute_result"
    }
   ],
   "source": [
    "lead.to_dict()['candidates']"
   ]
  },
  {
   "cell_type": "markdown",
   "id": "97efc5a1",
   "metadata": {},
   "source": [
    "in the above output:\n",
    "- `insta_score` reflects the preference of the neural network\n",
    "- `expected_tricks` how many tricks declarer is expected to take on this lead\n",
    "- `p_make_contract` is the probability of the contract making on this lead\n",
    "\n",
    "the probability of making and the expected tricks are computed on samples which are consistent with the auction. the samples are estimated single dummy using a neural network (more on this in another tutorial). we could also solve the samples double dummy, but that would be quite a bit slower."
   ]
  },
  {
   "cell_type": "code",
   "execution_count": 6,
   "id": "7cb2bf98",
   "metadata": {},
   "outputs": [
    {
     "data": {
      "text/plain": [
       "['9.8xx.Q8xx.A8xxx KJT8x.AK9x.J9x.x Ax.Txx.xx.KQJT9x 0.22947',\n",
       " '8x.K8x.Qxx.KQJ8x AKJT9x.AT9xx.8x. .xx.J9xx.AT9xxxx 0.22542',\n",
       " 'x.Txx.Q8xx.A8xxx AKT98x.Axx.Jxxx. J.K98x.9.KQJT9xx 0.21147',\n",
       " '.98xx.Q98x.A9xxx AKJ98xx.Axxx.Jx. T.KT.xxx.KQJT8xx 0.20804',\n",
       " '.K9xxx.8xx.A9xxx AKJT8xx.ATx.xx.T 9.8x.QJ9x.KQJ8xx 0.18512',\n",
       " 'T.K8x.Q8xx.A98xx AKJ9xx.AT9xx.9x. 8.xx.Jxx.KQJTxxx 0.18365',\n",
       " '9x.ATxx.9x.Axxxx AKJTx.K8xx.Q8xx. 8.9x.Jxx.KQJT98x 0.18246',\n",
       " 'T9.Kxx.9xx.KJ8xx AKJ8xx.ATxx.J8x. .98x.Qxx.AQT9xxx 0.17687',\n",
       " 'KT.xxx.Qxx.K9xxx AJ8xx.AKT9.98xx. 9.8xx.Jx.AQJT8xx 0.17467',\n",
       " '.T98x.J9xx.KQJxx KJT98xx.AK.Q8x.T A.xxxx.xx.A98xxx 0.16013',\n",
       " '8.8xx.QJxx.AQT8x AKJT9xx.AT9.8xx. .Kxxx.9x.KJ9xxxx 0.15820',\n",
       " '8.KT8x.Qxx.Qxxxx AKJT9.A9x.J98xx. xx.xxx.x.AKJT98x 0.15620',\n",
       " 'KT.9x.Q8xx.KQ8xx AJ8xx.AKTx.Jxxx. 9.8xxx.9.AJT9xxx 0.15345',\n",
       " '.T98x.Jxxx.AQ8xx KJT8xx.AKxxx.Qx. A9.x.98x.KJT9xxx 0.15254',\n",
       " 'AT.8xx.98x.AT98x KJ98x.AKTx.QJxx. x.9xx.xx.KQJxxxx 0.15148',\n",
       " '8x.Kxx.Q9x.AJTxx AKJTx.A9x.Jxxxx. 9.T8xx.8.KQ98xxx 0.15113',\n",
       " '9.ATxx.98x.Kxxxx AKJT8x.K98x.Jx.J x.xx.Qxxx.AQT98x 0.15090',\n",
       " '9.K98x.9xx.AQ9xx AKJ8xx.ATxx.Qxx. T.xx.J8x.KJT8xxx 0.14378',\n",
       " 'x.A8x.Jxxx.KJxxx AKJ98x.KT9x.Q9x. T.xxx.8x.AQT98xx 0.14327',\n",
       " 'x.K9xx.8xx.KTxxx KJT98x.A8x.QJx.Q A.Txx.9xx.AJ98xx 0.14215',\n",
       " 'x.K9xxx.9x.KJ9xx AKJ98x.A8xx.Jx.x T.T.Q8xxx.AQT8xx 0.14153',\n",
       " '8x.Kxx.Q8x.AQT9x AKJTx.A98x.Jxxx. 9.Txx.9x.KJ8xxxx 0.14017',\n",
       " 'T.Kxx.8xxx.K8xxx A98xx.Axx.QJ9x.J KJ.T98x.x.AQT9xx 0.13965',\n",
       " '9x.KT9xx.x.AT9xx AKJT8x.Axx.Q8x.8 .8x.J9xxx.KQJxxx 0.13776',\n",
       " 'A9.A9x.98x.Q98xx KJT8x.KTx.Qxxx.A x.8xxx.Jx.KJTxxx 0.13680',\n",
       " 'KT.K8xx.xx.KJxxx AJ98x.ATxx.QJxx. x.9x.98x.AQT98xx 0.13677',\n",
       " 'K.xx.Q8xxx.KQxxx AJT98x.AKT8x.Jx. x.9xx.9x.AJT98xx 0.13665',\n",
       " '.T9x.J98xx.AJTxx AKT98x.K8xxx.Qx. Jx.Ax.xx.KQ98xxx 0.13659',\n",
       " '.Txx.QJ98x.AT9xx AKJT9x.A98x.xx.x 8x.Kxx.xx.KQJ8xx 0.13277',\n",
       " 'T8.T9x.J9x.AJTxx AKJ9xx.A8x.xxx.x .Kxxx.Q8x.KQ98xx 0.13137',\n",
       " 'T.T9x.Q98x.KJT8x AK9x.Axxx.Jxxx.x J8x.K8x.x.AQ9xxx 0.13018',\n",
       " 'K.9xxx.J8x.A98xx AJT8xx.AKT.Q9xx. 9.8xx.xx.KQJTxxx 0.13002',\n",
       " '8.Axx.98xx.AJxxx AKJT9x.KT8x.Jxx. x.9xx.Qx.KQT98xx 0.12946',\n",
       " '8x.AT8x.xx.KQJT8 AKJT9.Kxxx.J9xx. x.9x.Q8x.A9xxxxx 0.12941',\n",
       " '9.8xxx.Q9x.AJxxx AJ8x.AK9x.Jxxx.x KTx.Tx.8x.KQT98x 0.12740',\n",
       " 'x.9xx.8xxx.KJT8x KJT9x.AK8.Q9xx.x A8.Txxx.J.AQ9xxx 0.12632',\n",
       " '.98x.J8xxx.AJTxx AKJT98x.KTxx.Q.9 x.Axx.9xx.KQ8xxx 0.12381',\n",
       " 'A.xx.8xxxx.KQ98x KJT9xx.AKT9x.Q9. 8.8xx.Jx.AJTxxxx 0.12336',\n",
       " '98.A9xx.xx.KJ9xx AKJTx.K8xx.Q98x. x.Tx.Jxx.AQT8xxx 0.12296',\n",
       " 'x.9xx.QJxx.Axxxx AKJT9x.ATx.xxx.x 8.K8xx.98.KQJT98 0.12220',\n",
       " '.T8xx.QJxx.AT8xx AJT9x.AKx.98xx.Q K8x.9xx.x.KJ9xxx 0.12132',\n",
       " 'J.T9x.98xx.AQ98x A98xx.AK8x.QJxx. KT.xxx.x.KJTxxxx 0.11944',\n",
       " 'Jx.ATx.QJ9.K8xxx AKT98x.K98.xxx.Q .xxxx.8xx.AJT9xx 0.11736',\n",
       " '.Kxxxx.Jxx.KJ9xx AKJT9xx.A8.Q9xx. 8.T9x.8x.AQT8xxx 0.11530',\n",
       " 'x.KT8xx.Jx.KJ8xx AJT98x.A9xx.8x.A K.x.Q9xxx.QT9xxx 0.11483',\n",
       " '9.AT9.8xxx.AJxxx AKJT8x.Kxx.J9xx. x.8xxx.Q.KQT98xx 0.11369',\n",
       " 'Kx.T9.8xxx.KJ98x AJTx.Axxx.QJ9x.x 98.K8xx.x.AQTxxx 0.11328',\n",
       " 'J9.9xx.xxx.AJT9x AKT8x.ATx.J8xx.8 x.K8xx.Q9.KQxxxx 0.11315',\n",
       " '.xxx.Q8xxx.ATxxx AKJT9xx.AT8x.9.8 8.K9x.Jxx.KQJ9xx 0.11262',\n",
       " '.Kxx.Q9xxx.QJ9xx AKJT98x.AT98.x.x x.xxx.J8x.AKT8xx 0.11233',\n",
       " 'x.K8x.8xxx.KJT8x AKJT98.Axxxx.Qx. x.T9.J9x.AQ9xxxx 0.11203',\n",
       " '9x.A98xx.x.KQxxx AKJTx.Kxx.Q9xxx. 8.Tx.J8x.AJT98xx 0.11063',\n",
       " 'J.9x.Q9xxx.AJTxx AKT9xx.AT8x.Jx.x 8.Kxxx.8x.KQ98xx 0.11049',\n",
       " 'Kx.T8x.Q8x.AJ8xx AJT98x.AK9x.xx.9 .xxx.J9xx.KQTxxx 0.10995']"
      ]
     },
     "execution_count": 6,
     "metadata": {},
     "output_type": "execute_result"
    }
   ],
   "source": [
    "# each row is one sample board\n",
    "# the hands are in the order: LHO, Partner, RHO. Your cards are not shown as they are fixed/\n",
    "\n",
    "lead.samples"
   ]
  }
 ],
 "metadata": {
  "kernelspec": {
   "display_name": "Python 3 (ipykernel)",
   "language": "python",
   "name": "python3"
  },
  "language_info": {
   "codemirror_mode": {
    "name": "ipython",
    "version": 3
   },
   "file_extension": ".py",
   "mimetype": "text/x-python",
   "name": "python",
   "nbconvert_exporter": "python",
   "pygments_lexer": "ipython3",
   "version": "3.11.0"
  }
 },
 "nbformat": 4,
 "nbformat_minor": 5
}
