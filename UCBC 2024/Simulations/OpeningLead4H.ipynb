{
 "cells": [
  {
   "cell_type": "markdown",
   "id": "170af530",
   "metadata": {},
   "source": [
    "# Opening Lead\n",
    "\n",
    "This is a tutorial for how to use the opening lead engine."
   ]
  },
  {
   "cell_type": "code",
   "execution_count": 1,
   "id": "26570686",
   "metadata": {},
   "outputs": [
    {
     "name": "stdout",
     "output_type": "stream",
     "text": [
      "WARNING:tensorflow:From c:\\Python311\\Lib\\site-packages\\tensorflow\\python\\compat\\v2_compat.py:107: disable_resource_variables (from tensorflow.python.ops.variable_scope) is deprecated and will be removed in a future version.\n",
      "Instructions for updating:\n",
      "non-resource variables are not supported in the long term\n"
     ]
    }
   ],
   "source": [
    "import os\n",
    "import sys\n",
    "sys.path.append('../../src')\n",
    "os.environ['BEN_HOME'] = \"../..\"\n",
    "\n",
    "from nn.models import Models\n",
    "from bots import BotLead\n",
    "from sample import Sample\n",
    "import conf\n",
    "import numpy as np\n",
    "\n",
    "np.set_printoptions(precision=2, suppress=True, linewidth=200)\n",
    "np.random.seed(42)\n"
   ]
  },
  {
   "cell_type": "code",
   "execution_count": 2,
   "id": "fe373c76",
   "metadata": {},
   "outputs": [
    {
     "name": "stdout",
     "output_type": "stream",
     "text": [
      "INFO:tensorflow:Restoring parameters from ..\\Models/bidding-3233000\n",
      "INFO:tensorflow:Restoring parameters from ..\\Models/binfo-808000\n",
      "INFO:tensorflow:Restoring parameters from ..\\Models/lead_suit-154000\n",
      "INFO:tensorflow:Restoring parameters from ..\\Models/lead_nt-59000\n",
      "INFO:tensorflow:Restoring parameters from ..\\Models/lr3-1000000\n",
      "INFO:tensorflow:Restoring parameters from ..\\Models/lefty-1000000\n",
      "INFO:tensorflow:Restoring parameters from ..\\Models/dummy-920000\n",
      "INFO:tensorflow:Restoring parameters from ..\\Models/righty-1000000\n",
      "INFO:tensorflow:Restoring parameters from ..\\Models/decl-1000000\n"
     ]
    }
   ],
   "source": [
    "models = Models.from_conf(conf.load('../Conf/UCBC2024.conf'),'..')   # loading neural networks\n",
    "sampler = Sample.from_conf(conf.load('../Conf/UCBC2024.conf'), False)  # Load sampling strategies"
   ]
  },
  {
   "cell_type": "code",
   "execution_count": 3,
   "id": "c3397678",
   "metadata": {},
   "outputs": [],
   "source": [
    "# both vulnerable. you are sitting North as dealer and you hold\n",
    "hand = 'AT873.T5.A3.8763'\n",
    "\n",
    "# the auction goes:\n",
    "auction = [\"PAD_START\", \"PAD_START\", \"PASS\", \"1N\", \"PASS\", \"2D\", \"X\", \"2H\", \"PASS\", \"4H\", \"PASS\", \"PASS\", \"PASS\"]\n",
    "\n",
    "# what to lead?\n",
    "\n",
    "lead_bot = BotLead([True, True], hand, models, sampler, False)\n",
    "lead = lead_bot.find_opening_lead(auction)"
   ]
  },
  {
   "cell_type": "code",
   "execution_count": 4,
   "id": "a2b5fe25",
   "metadata": {},
   "outputs": [
    {
     "data": {
      "text/plain": [
       "C8"
      ]
     },
     "execution_count": 4,
     "metadata": {},
     "output_type": "execute_result"
    }
   ],
   "source": [
    "lead.card"
   ]
  },
  {
   "cell_type": "markdown",
   "id": "02e88396",
   "metadata": {},
   "source": [
    "seems like the engine chose to lead the ace of diamonds\n",
    "\n",
    "the other options it considered were: a small spade and a small club"
   ]
  },
  {
   "cell_type": "code",
   "execution_count": 5,
   "id": "956ef356",
   "metadata": {},
   "outputs": [
    {
     "data": {
      "text/plain": [
       "[{'card': 'C8',\n",
       "  'insta_score': 0.0734,\n",
       "  'expected_tricks_sd': 9.862,\n",
       "  'p_make_contract': 0.627},\n",
       " {'card': 'DA',\n",
       "  'insta_score': 0.6784,\n",
       "  'expected_tricks_sd': 9.846,\n",
       "  'p_make_contract': 0.631},\n",
       " {'card': 'SA',\n",
       "  'insta_score': 0.2334,\n",
       "  'expected_tricks_sd': 9.868,\n",
       "  'p_make_contract': 0.634}]"
      ]
     },
     "execution_count": 5,
     "metadata": {},
     "output_type": "execute_result"
    }
   ],
   "source": [
    "lead.to_dict()['candidates']"
   ]
  },
  {
   "cell_type": "markdown",
   "id": "97efc5a1",
   "metadata": {},
   "source": [
    "in the above output:\n",
    "- `insta_score` reflects the preference of the neural network\n",
    "- `expected_tricks` how many tricks declarer is expected to take on this lead\n",
    "- `p_make_contract` is the probability of the contract making on this lead\n",
    "\n",
    "the probability of making and the expected tricks are computed on samples which are consistent with the auction. the samples are estimated single dummy using a neural network (more on this in another tutorial). we could also solve the samples double dummy, but that would be quite a bit slower."
   ]
  },
  {
   "cell_type": "code",
   "execution_count": 6,
   "id": "7cb2bf98",
   "metadata": {},
   "outputs": [
    {
     "data": {
      "text/plain": [
       "['xx.KQ8xxxx.9x.Ax Kxx.x.KT8xx.Q9xx QJ9.AJ9.QJxx.KJT 0.94849',\n",
       " '9x.QJ8xxxx.J.AJx QJxx.x.KTxxx.Q9x Kx.AK9.Q98xx.KTx 0.86398',\n",
       " '9xx.Q8xxxx.xx.AK xx.Kx.QJ8xx.QTxx KQJ.AJ9.KT9x.J9x 0.85619',\n",
       " 'Jxx.A9xxxx.xx.Ax Q9x.8x.QJ98x.QJx Kx.KQJ.KTxx.KT9x 0.84380',\n",
       " 'xx.KQJ9xx.Tx.Kxx Qxx.8x.QJ8xx.QJ9 KJ9.Axx.K9xx.ATx 0.84380',\n",
       " '9.KQJ9xxx.T9x.Kx KJxx.x.Q8xxx.QT9 Qxx.A8x.KJx.AJxx 0.83740',\n",
       " 'xx.KJ8xxx.xx.AJx Qxx.A9.QT8xx.T9x KJ9.Qxx.KJ9x.KQx 0.82140',\n",
       " 'KJx.AJ8xxx.98xx. xx.9x.QJTxx.KQxx Q9x.KQx.Kx.AJT9x 0.81943',\n",
       " 'xx.AQJxxx.Tx.QTx K9x.98x.KJ8xx.Jx QJx.Kx.Q9xx.AK9x 0.81903',\n",
       " 'Qx.Q98xxxx.9x.KQ K9xx.J.KT8xx.J9x Jx.AKx.QJxx.ATxx 0.81859',\n",
       " 'Q.AQJxxxx.9xx.T9 Jxxx.8.KQJ8xx.Jx K9x.K9x.Tx.AKQxx 0.81757',\n",
       " 'K.KQJ98xxx.Jx.Tx Qxxx..QTxxxx.Kxx J9x.Axx.K98.AQJ9 0.80186',\n",
       " 'xx.AKJ8xx.9xx.Jx KQx.xx.QJ8xx.T9x J9x.Q9x.KTx.AKQx 0.80072',\n",
       " 'QJ9.Q98xxx.x.Axx xx.Ax.KT9xx.JT9x Kxx.KJx.QJ8xx.KQ 0.79726',\n",
       " '9x.K9xxxx.8x.AQx QJxx.J8.KJTxx.9x Kx.AQx.Q9xx.KJTx 0.78534',\n",
       " 'KJ.QJ9xxx.xx.QTx Qxxx.xx.KQJ98.9x 9x.AK8.Txxx.AKJx 0.77404',\n",
       " 'KJx.Q98xxx.x.QJx 9xx.Jx.KT98x.ATx Qx.AKx.QJxxx.K9x 0.77069',\n",
       " 'Jx.AQJxxx.9xx.J9 Q9xx.8x.QJT8x.Kx Kx.K9x.Kxx.AQTxx 0.76978',\n",
       " 'x.AJ98xx.98x.ATx QJ9x.xx.KJTxxx.J Kxx.KQx.Qx.KQ9xx 0.75992',\n",
       " 'x.AQJ8xxx.J8x.Qx 9xx.x.QTxxx.AJTx KQJx.K9x.K9x.K9x 0.75866',\n",
       " 'KQx.J98xxx.8.QJT Jxx.Kx.KJxxx.9xx 9x.AQx.QT9xx.AKx 0.75574',\n",
       " 'x.AQ98xxxx.Q.JTx 9xxx.x.KT98xx.Ax KQJ.KJ.Jxxx.KQ9x 0.75543',\n",
       " 'xx.KQJ8xx.xxx.KT xx.xx.KQ9xx.Q9xx KQJ9.A9x.JT8.AJx 0.75479',\n",
       " 'xx.KQ9xxx.KJx.Tx Qxx.xx.QT9xx.A9x KJ9.AJ8.8xx.KQJx 0.74349',\n",
       " 'Kx.Q98xxx.T9x.A9 QJx.xx.KJ8xx.JTx 9xx.AKJ.Qxx.KQxx 0.74224',\n",
       " 'Q9.KQ8xxx.Jx.J9x KJx.J9x.KT98x.xx xxx.Ax.Qxxx.AKQT 0.72333',\n",
       " 'x.QJ98xx.Txx.AQx J9xx.x.KJ8xx.K9x KQx.AKxx.Q9x.JTx 0.70500',\n",
       " 'Kx.Qxxxxx.Q8x.Q9 9xx.K8.KJ9xx.Jxx QJx.AJ9.Txx.AKTx 0.70185',\n",
       " 'QJ.K98xxx.98x.QJ 9xx.Ax.KJxxx.Txx Kxx.QJx.QTx.AK9x 0.69333',\n",
       " 'Q.QJ8xxx.Txx.KJ9 Kxxx.x.KJ8xx.Txx J9x.AK9x.Q9x.AQx 0.67303',\n",
       " 'x.AQJ9xx.xxx.QTx KQ9.xx.QT8xx.Jxx Jxxx.K8x.KJ9.AK9 0.64973',\n",
       " 'x.Q9xxxxx.Kx.KJx KJxx.8.QJ8xxx.Tx Q9x.AKJ.T9x.AQ9x 0.64051',\n",
       " '9.KQJ8xxxx.Jx.Qx KJxx..K8xxxx.T9x Qxx.A9x.QT9.AKJx 0.63962',\n",
       " 'x.KQJ8xx.8x.QJ9x J9xx.x.QJ9xxx.Ax KQx.A9xx.KTx.KTx 0.63413',\n",
       " '.QJ9xxx.J9x.AJTx 9xxx.8x.KQTxx.Kx KQJx.AKx.8xx.Q9x 0.62278',\n",
       " 'Kx.KQJ8xxx.8x.xx Jxxx.x.K9xxx.KT9 Q9.A9x.QJTx.AQJx 0.62233',\n",
       " 'xx.AJ9xxxx.xx.KQ KJxx.x.QJTxxx.9x Q9.KQ8.K98.AJTxx 0.61451',\n",
       " '9.AK98xxx.Txx.Qx QJxx.J.QJ9xx.JT9 Kxx.Qxx.K8x.AKxx 0.58822',\n",
       " '9.AQJ9xxx.Tx.QJx Jxxx.8.K8xxx.KTx KQx.Kxx.QJ9x.A9x 0.58792',\n",
       " 'J.AQxxxx.T9x.Kxx 9x.8x.KJ8xx.QJTx KQxxx.KJ9.Qxx.A9 0.56568',\n",
       " 'Jx.AQJ9xxxx.8.Tx Q9x.x.KQT9x.Q9xx Kxx.K8.Jxxxx.AKJ 0.55997',\n",
       " 'Qx.AQJ98x.Txx.Jx xxx.xx.QJ9xx.AT9 KJ9.Kxx.K8x.KQxx 0.55576',\n",
       " 'Kxx.Q98xxx.Tx.Ax Q9x.Ax.Q98xx.T9x Jx.KJx.KJxx.KQJx 0.54625',\n",
       " 'x.KQ98xxx.Txx.KJ 9xxx.A.K98xx.T9x KQJ.Jxx.QJx.AQxx 0.54422',\n",
       " '9.AKQ8xxxx.T9.9x Qxxx.9.J8xxx.AJT KJx.Jx.KQxx.KQxx 0.54409',\n",
       " 'J.98xxxx.K8x.AJT 9xxx.Ax.QJxxx.xx KQx.KQJ.T9x.KQ9x 0.51544',\n",
       " 'xx.QJxxxxx.Qx.AT KJ9x.9.JT8xx.QJ9 Qx.AK8.K9xx.Kxxx 0.51404',\n",
       " 'x.AKJ8xxx.xx.Q9x Qxxx.9x.QT8xx.Kx KJ9.Qx.KJ9x.AJTx 0.50456',\n",
       " 'x.AQJxxx.98x.KT9 QJ9x.98x.KJTxx.x Kxx.Kx.Qxx.AQJxx 0.50423',\n",
       " 'K.KQJ8xxxx.9.Txx xxxx.A.QJTxxxx.x QJ9.9x.K8x.AKQJ9 0.49926',\n",
       " '9xxx.KQJxxx.9xx. Qx.9x.KT8xx.AQxx KJ.A8x.QJx.KJT9x 0.46457',\n",
       " 'Q9x.AJ98xx.xx.Tx Jx.KQx.JT98x.Q9x Kxx.xx.KQxx.AKJx 0.46348',\n",
       " '9x.K98xxx.xx.Axx Jxx.Jx.KJT9x.QJx KQx.AQx.Q8xx.KT9 0.46031',\n",
       " '9.KQJ8xx.9x.JTxx KJxx.9x.KTxxx.Q9 Qxx.Axx.QJ8x.AKx 0.45105',\n",
       " 'xx.KJxxxx.8.KTxx KJxx.Q8.QJ9xxx.x Q9.A9x.KTxx.AQJ9 0.44871',\n",
       " '9x.98xxxx.Tx.AK9 Kxx.Kx.Q9xxx.Jxx QJx.AQJ.KJ8x.QTx 0.44683',\n",
       " 'x.AK9xxx.T8x.Txx KJxx.J8.K9xxx.Jx Q9x.Qxx.QJx.AKQ9 0.44498',\n",
       " 'x.QJ8xxx.xx.ATxx J9xx.K9x.KJxxx.Q KQx.Ax.QT98.KJ9x 0.44441',\n",
       " 'x.K98xxx.8xx.Axx Q9xx.x.QJxxx.QJT KJx.AQJx.KT9.K9x 0.44151',\n",
       " 'QJ9x.K98xxx.Jx.T xx.Qx.Q98xx.AQxx Kx.AJx.KTxx.KJ9x 0.44028',\n",
       " 'Q.Q9xxxx.9.QJTxx K9xx.8x.JTxxxx.A Jxx.AKJ.KQ8x.K9x 0.43988',\n",
       " 'Qx.QJ98xxxx.J.A9 J9xx..KQTxx.JTxx Kx.AKx.98xxx.KQx 0.43695',\n",
       " '9.KJ98xx.9xx.K9x Kxxx.A.J8xxx.JTx QJx.Qxxx.KQT.AQx 0.43612',\n",
       " 'x.Q9xxxx.Jx.Axxx xxx.A8.KT9xx.KT9 KQJ9.KJx.Q8xx.QJ 0.43545',\n",
       " 'x.A98xxx.Tx.QJxx QJxxx.Kx.KJxxx.9 K9.QJx.Q98x.AKTx 0.43038',\n",
       " '9x.KQJ9xxxx.J.K9 xxx.x.Qxxxx.AJTx KQJ.A8.KT98x.Qxx 0.42601',\n",
       " 'x.A9xxxx.Txx.Kxx KJxx.KJ.J8xxx.Jx Q9x.Q8x.KQ9.AQT9 0.42475',\n",
       " 'xx.QJ98xx.xx.Axx J9x.Kx.KT8xx.QJT KQx.Axx.QJ9x.K9x 0.41869',\n",
       " 'Qx.KQ8xxx.8xxx.T 9x.9x.QJT9x.AQxx KJxx.AJx.Kx.KJ9x 0.41738',\n",
       " 'Kxx.KQJxxx.T8x.x Qxx.x.J9xxx.AJTx J9.A98x.KQx.KQ9x 0.41635',\n",
       " 'x.QJ98xx.xxx.ATx Jxx.Kx.QJ8xx.QJx KQ9x.Axx.KT9.K9x 0.41424',\n",
       " '.QJ8xxx.Kxx.T9xx Q9x.9x.JT8xx.KQJ KJxxx.AKx.Q9x.Ax 0.41324',\n",
       " 'QJ9.KJ8xxx.xxx.T xx.9.QT9xx.AQJxx Kxx.AQxx.KJ8.K9x 0.41124',\n",
       " '9x.QJ8xxx.KJxx.9 KQx.K9.QT98x.Txx Jxx.Axx.xx.AKQJx 0.40982',\n",
       " 'Qx.Q8xxxx.x.KT9x Jxx.Jx.KJ98x.Qxx K9x.AK9.QTxxx.AJ 0.40937',\n",
       " 'Jxx.AQxxxx.T9x.9 Q9x.8x.KQ8xx.JTx Kx.KJ9.Jxx.AKQxx 0.40721',\n",
       " 'J9x.KQJ8xx.xx.9x Kxx.9x.QJTxx.QJx Qx.Axx.K98x.AKTx 0.40675',\n",
       " 'KQ.Q98xxx.J9.J9x Jxxx.KJ.QT8xxx.T 9x.Axx.Kxx.AKQxx 0.40647',\n",
       " 'Jxx.KQJ8xx.Txx.x K9.xxx.KQ9xx.T9x Qxx.A9.J8x.AKQJx 0.40634',\n",
       " 'xx.KJ8xxx.x.QJxx KQJ9.9x.JT8xxx.K xx.AQx.KQ9x.AT9x 0.40620',\n",
       " 'xx.AQ8xxx.Txx.Jx 9xx.Jx.KQJ8x.QTx KQJ.K9x.9xx.AK9x 0.40454',\n",
       " 'x.KQJ98xx.Txx.KJ J9xx..KJ98xx.QTx KQx.Axxx.Qx.A9xx 0.40397',\n",
       " 'x.KQ9xxx.xx.Axxx Jxxx.8x.KQJT9x.T KQ9.AJx.8xx.KQJ9 0.40043',\n",
       " 'J9x.KQJ98x.xx.T9 Kx.Axx.T98xx.Kxx Qxx.xx.KQJx.AQJx 0.39948',\n",
       " 'J9x.KQJ98x.xx.T9 xx.xxx.KJ98x.Axx KQx.Ax.QTxx.KQJx 0.39948',\n",
       " 'xx.KJ98xx.xx.K9x Kxx.Qx.Q8xxx.QJx QJ9.Axx.KJT9.ATx 0.39591',\n",
       " 'J9.9xxxxx.K9.Axx xxxx.KQ.J8xxx.Kx KQ.AJ8.QTxx.QJT9 0.39532',\n",
       " 'Qx.AJ8xxx.8xx.Qx Kxx.Q9.QJT9x.T9x J9x.Kxx.Kxx.AKJx 0.39419',\n",
       " 'K9x.A98xxx.xx.xx xx.KQx.K98xx.JT9 QJx.Jx.QJTx.AKQx 0.39240',\n",
       " 'x.AJ9xxx.J98x.J9 QJxx.Qx.KQTxx.xx K9x.K8x.xx.AKQTx 0.39072',\n",
       " 'Jxx.QJ8xxx.x.KT9 K9x.9x.K8xxx.QJx Qx.AKx.QJT9x.Axx 0.38774',\n",
       " 'Jx.KQJxxxxx.Jx.9 Q9xx.9.T9xxx.AKx Kx.A8.KQ8x.QJTxx 0.38486',\n",
       " 'Q.K8xxxx.Tx.Qxxx 9xxx.QJ.KQJ8x.J9 KJx.A9x.9xxx.AKT 0.38231',\n",
       " 'Jx.Q98xxx.Qx.K9x Q9x.AKx.T9xxx.Tx Kxx.Jx.KJ8x.AQJx 0.38191',\n",
       " 'x.98xxxx.Kx.AQT9 J9xx.J.QJ98xx.Kx KQx.AKQx.Txx.Jxx 0.38180',\n",
       " 'Jxx.KQJ8xx.T8.xx Kxx.9x.KJ9xx.Q9x Q9.Axx.Qxxx.AKJT 0.38015',\n",
       " 'x.Qxxxxx.xx.Axxx KQ9x.9.KJ98xx.Q9 Jxx.AKJ8.QTx.KJT 0.37765',\n",
       " '9x.KQJ8xx.9x.JT9 Jxx.9x.QJxxx.KQx KQx.Axx.KT8x.Axx 0.37665',\n",
       " '9x.AQ9xxx.Qx.JT9 Qx.xx.KT98x.Kxxx KJxx.KJ8.Jxxx.AQ 0.37542',\n",
       " 'xx.KQJ8xx.T9.J9x Qxx.9x.J8xxx.AKx KJ9.Axx.KQxx.QTx 0.37147',\n",
       " 'J.KQ9xxx.Jx.T9xx Q9xx.J.KQT9xx.Jx Kxx.A8xx.8xx.AKQ 0.36624',\n",
       " 'Qx.J98xxx.xx.A9x Jx.Ax.T98xx.KQTx K9xx.KQx.KQJx.Jx 0.36311',\n",
       " '9x.AQxxxx.J8x.9x xx.9x.KQxxx.KJxx KQJx.KJ8.T9x.AQT 0.36219',\n",
       " '9.KJ8xxx.xx.Q9xx Jxxx.9x.KJ98x.Ax KQx.AQx.QTxx.KJT 0.36079',\n",
       " 'K9x.J98xxx.x.KJ9 xx.AQ.9xxxx.Qxxx QJx.Kxx.KQJT8.AT 0.36071',\n",
       " '9xx.KQ9xxx.Jx.Qx Kx.J8x.Q98xx.KTx QJx.Ax.KTxx.AJ9x 0.36066',\n",
       " 'J9x.KQ8xxx.xx.Jx Kxx.9x.QJ9xx.Axx Qx.AJx.KT8x.KQT9 0.36046',\n",
       " 'K.QJ8xxx.9x.J9xx Q9xx.K9.QJTxx.QT Jxx.Axx.K8xx.AKx 0.36030',\n",
       " 'Kx.KJ8xxx.9xx.9x Jxx.xx.KQTxx.QJT Q9x.AQ9.J8x.AKxx 0.36013',\n",
       " 'Qxx.QJ98xx.Qx.J9 9x.xx.KJT9x.Axxx KJx.AKx.8xxx.KQT 0.36012',\n",
       " 'x.AJ9xxx.8xx.Q9x 9xx.Kx.QJT9x.KJT KQJx.Q8x.Kxx.Axx 0.35999',\n",
       " 'Jx.K8xxxx.KJx.9x Kxx.9x.Q98xx.QJx Q9x.AQJ.Txx.AKTx 0.35801',\n",
       " 'J.AQJ9xxx.9.JT9x Qxxx.8.KQT8xxx.x K9x.Kxx.Jxx.AKQx 0.35756',\n",
       " 'Kx.K8xxxx.x.Txxx J9x.Jx.JT9xx.AK9 Qxx.AQ9.KQ8xx.QJ 0.35614',\n",
       " 'xx.Q8xxxx.xx.AJx 9xx.AK9.Q98xx.xx KQJ.Jx.KJTx.KQT9 0.35545',\n",
       " 'Q9.AJ98xx.Tx.T9x xx.KQ.Jxxxx.KJxx KJxx.xxx.KQ98.AQ 0.35499',\n",
       " 'xx.AQJxxx.98x.9x QJx.K8x.KJTxx.Tx K9x.9x.Qxx.AKQJx 0.35467',\n",
       " 'K9.Q8xxxx.xx.Q9x Jxxx.A9.Q8xxx.JT Qx.KJx.KJT9.AKxx 0.35277',\n",
       " 'Q9x.Q8xxxx.xx.K9 Jx.AJ9.QT98x.JTx Kxx.Kx.KJxx.AQxx 0.35210',\n",
       " 'KJ.J8xxxx.x.Q9xx xxxx.A9.KJTxxx.T Q9.KQx.Q98x.AKJx 0.35058',\n",
       " '9x.AQ8xxx.T.T9xx KJx.K9x.Q8xxxx.J Qxx.Jx.KJ9x.AKQx 0.34999',\n",
       " '.AJ9xxx.Tx.QJ9xx QJxx.8x.Q8xxx.AT K9xx.KQx.KJ9x.Kx 0.34982',\n",
       " 'Jx.KJ9xxx.xx.Kxx 9xx.8x.QJ9xx.AJ9 KQx.AQx.KT8x.QTx 0.34907',\n",
       " 'xx.KQJ9xx.8x.JTx 9xx.Ax.QJT9x.Q9x KQJ.8xx.Kxxx.AKx 0.34862',\n",
       " '9x.KQ98xx.xxx.Qx KQx.J.JT98x.KT9x Jxx.Axxx.KQx.AJx 0.34345',\n",
       " 'K9x.Q8xxxx.Q.T9x QJx.9x.T8xxx.AQx xx.AKJ.KJ9xx.KJx 0.34259',\n",
       " '9.KJ8xxx.Txx.QJT Qxx.Ax.QJ9xx.xxx KJxx.Q9x.K8x.AK9 0.34132',\n",
       " 'xx.QJ8xxxx..QT9x KQ9.A9.JT9xxx.Jx Jxx.Kx.KQ8xx.AKx 0.34043']"
      ]
     },
     "execution_count": 6,
     "metadata": {},
     "output_type": "execute_result"
    }
   ],
   "source": [
    "# each row is one sample board\n",
    "# the hands are in the order: LHO, Partner, RHO. Your cards are not shown as they are fixed/\n",
    "\n",
    "lead.samples"
   ]
  }
 ],
 "metadata": {
  "kernelspec": {
   "display_name": "Python 3 (ipykernel)",
   "language": "python",
   "name": "python3"
  },
  "language_info": {
   "codemirror_mode": {
    "name": "ipython",
    "version": 3
   },
   "file_extension": ".py",
   "mimetype": "text/x-python",
   "name": "python",
   "nbconvert_exporter": "python",
   "pygments_lexer": "ipython3",
   "version": "3.11.0"
  }
 },
 "nbformat": 4,
 "nbformat_minor": 5
}
