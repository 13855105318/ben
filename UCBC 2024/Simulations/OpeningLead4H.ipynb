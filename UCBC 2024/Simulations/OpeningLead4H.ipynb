{
 "cells": [
  {
   "cell_type": "markdown",
   "id": "170af530",
   "metadata": {},
   "source": [
    "# Opening Lead\n",
    "\n",
    "This is a tutorial for how to use the opening lead engine."
   ]
  },
  {
   "cell_type": "code",
   "execution_count": 1,
   "id": "26570686",
   "metadata": {},
   "outputs": [
    {
     "name": "stdout",
     "output_type": "stream",
     "text": [
      "WARNING:tensorflow:From c:\\Python311\\Lib\\site-packages\\tensorflow\\python\\compat\\v2_compat.py:107: disable_resource_variables (from tensorflow.python.ops.variable_scope) is deprecated and will be removed in a future version.\n",
      "Instructions for updating:\n",
      "non-resource variables are not supported in the long term\n"
     ]
    }
   ],
   "source": [
    "import os\n",
    "import sys\n",
    "sys.path.append('../../src')\n",
    "os.environ['BEN_HOME'] = \"../..\"\n",
    "\n",
    "from nn.models import Models\n",
    "from bots import BotLead\n",
    "from sample import Sample\n",
    "import conf\n",
    "import numpy as np\n",
    "\n",
    "np.set_printoptions(precision=2, suppress=True, linewidth=200)\n",
    "np.random.seed(42)\n"
   ]
  },
  {
   "cell_type": "code",
   "execution_count": 2,
   "id": "fe373c76",
   "metadata": {},
   "outputs": [
    {
     "name": "stdout",
     "output_type": "stream",
     "text": [
      "INFO:tensorflow:Restoring parameters from ..\\Models/NS1EW99-bidding-3961000\n",
      "INFO:tensorflow:Restoring parameters from ..\\Models/NS1EW99-binfo-1887000\n",
      "INFO:tensorflow:Restoring parameters from ..\\Models/lead_suit-154000\n",
      "INFO:tensorflow:Restoring parameters from ..\\Models/lead_nt-59000\n",
      "INFO:tensorflow:Restoring parameters from ..\\Models/single_dummy-1562000\n",
      "INFO:tensorflow:Restoring parameters from ..\\Models/lefty-1000000\n",
      "INFO:tensorflow:Restoring parameters from ..\\Models/dummy-920000\n",
      "INFO:tensorflow:Restoring parameters from ..\\Models/righty-1000000\n",
      "INFO:tensorflow:Restoring parameters from ..\\Models/decl-1000000\n"
     ]
    }
   ],
   "source": [
    "models = Models.from_conf(conf.load('../Conf/UCBC2024.conf'),'..')   # loading neural networks\n",
    "sampler = Sample.from_conf(conf.load('../Conf/UCBC2024.conf'), False)  # Load sampling strategies"
   ]
  },
  {
   "cell_type": "code",
   "execution_count": 3,
   "id": "c3397678",
   "metadata": {},
   "outputs": [],
   "source": [
    "# both vulnerable. you are sitting North as dealer and you hold\n",
    "hand = 'AT873.T5.A3.8763'\n",
    "\n",
    "# the auction goes:\n",
    "auction = [\"PAD_START\", \"PAD_START\", \"PASS\", \"1N\", \"PASS\", \"2D\", \"X\", \"2H\", \"PASS\", \"4H\", \"PASS\", \"PASS\", \"PASS\"]\n",
    "\n",
    "# what to lead?\n",
    "\n",
    "lead_bot = BotLead([True, True], hand, models, sampler, False)\n",
    "lead = lead_bot.find_opening_lead(auction)"
   ]
  },
  {
   "cell_type": "code",
   "execution_count": 4,
   "id": "a2b5fe25",
   "metadata": {},
   "outputs": [
    {
     "data": {
      "text/plain": [
       "SA"
      ]
     },
     "execution_count": 4,
     "metadata": {},
     "output_type": "execute_result"
    }
   ],
   "source": [
    "lead.card"
   ]
  },
  {
   "cell_type": "markdown",
   "id": "02e88396",
   "metadata": {},
   "source": [
    "seems like the engine chose to lead the ace of diamonds\n",
    "\n",
    "the other options it considered were: a small spade and a small club"
   ]
  },
  {
   "cell_type": "code",
   "execution_count": 5,
   "id": "956ef356",
   "metadata": {},
   "outputs": [
    {
     "data": {
      "text/plain": [
       "[{'card': 'SA',\n",
       "  'insta_score': 0.14,\n",
       "  'expected_tricks_sd': 7.87,\n",
       "  'p_make_contract': 0.18},\n",
       " {'card': 'DA',\n",
       "  'insta_score': 0.766,\n",
       "  'expected_tricks_sd': 8.08,\n",
       "  'p_make_contract': 0.16},\n",
       " {'card': 'C8',\n",
       "  'insta_score': 0.078,\n",
       "  'expected_tricks_sd': 6.95,\n",
       "  'p_make_contract': 0.05}]"
      ]
     },
     "execution_count": 5,
     "metadata": {},
     "output_type": "execute_result"
    }
   ],
   "source": [
    "lead.to_dict()['candidates']"
   ]
  },
  {
   "cell_type": "markdown",
   "id": "97efc5a1",
   "metadata": {},
   "source": [
    "in the above output:\n",
    "- `insta_score` reflects the preference of the neural network\n",
    "- `expected_tricks` how many tricks declarer is expected to take on this lead\n",
    "- `p_make_contract` is the probability of the contract making on this lead\n",
    "\n",
    "the probability of making and the expected tricks are computed on samples which are consistent with the auction. the samples are estimated single dummy using a neural network (more on this in another tutorial). we could also solve the samples double dummy, but that would be quite a bit slower."
   ]
  },
  {
   "cell_type": "code",
   "execution_count": 6,
   "id": "7cb2bf98",
   "metadata": {},
   "outputs": [
    {
     "data": {
      "text/plain": [
       "['Qx.AJ8xxx.8xx.Qx Kxx.Q9.QJT9x.T9x J9x.Kxx.Kxx.AKJx 0.89806',\n",
       " 'Q9x.KJxxxx.Q9.Qx xx.98.K8xxx.KJTx KJx.AQx.JTxx.A9x 0.87899',\n",
       " 'Jx.AQ98xx.8xx.J9 9x.KJx.QJTxx.Txx KQxx.xx.K9x.AKQx 0.87617',\n",
       " 'K.A9xxxx.98.JTxx QJxx.Q8.KJTxxx.x 9xx.KJx.Qxx.AKQ9 0.87146',\n",
       " 'J9x.KQxxxx.9x.Kx Qx.Jx.KT8xxx.Q9x Kxx.A98.QJx.AJTx 0.86994',\n",
       " 'Jx.AQJ9xxx.8.Jxx 9xx.Kx.Q9xxx.KTx KQx.8x.KJTxx.AQ9 0.86764',\n",
       " 'J9x.KQ9xxx.x.xxx xx.Jxx.KQT98.KT9 KQx.A8.Jxxxx.AQJ 0.86458',\n",
       " 'xx.AQ98xx.xx.T9x Q9x.Jxx.KT9xx.Kx KJx.Kx.QJ8x.AQJx 0.86365',\n",
       " 'K9.Q8xxxx.J.Q9xx xxx.Ax.9xxxx.ATx QJx.KJ9.KQT8x.KJ 0.86295',\n",
       " 'Qxx.AJ9xxx.9.xxx Jx.8xx.QJTxx.KJT K9x.KQ.K8xxx.AQ9 0.85934',\n",
       " 'Kx.AQJ9xx.8xx.xx J9x.8x.QJTxx.K9x Qxx.Kxx.K9x.AQJT 0.85720',\n",
       " 'xx.KQJ8xx.xxx.KT xx.xx.KQ9xx.Q9xx KQJ9.A9x.JT8.AJx 0.85243',\n",
       " 'Kx.KQJ98xx.8x.T9 J9x.xx.KQJTx.Jxx Qxx.Ax.9xxx.AKQx 0.85198',\n",
       " 'Qxx.AQJ9xx.T8x.x J9.8x.QJ9xx.KJT9 Kxx.Kxx.Kxx.AQxx 0.85172',\n",
       " 'xx.KQ9xxxx.8x.A9 9x.8x.QJxxx.KJxx KQJx.AJ.KT9x.QTx 0.84988',\n",
       " 'Q9x.AKJ9xx.9x.xx xx.Qxx.KJT8xx.JT KJx.8x.Qxx.AKQ9x 0.84689',\n",
       " 'Qxx.98xxxx.Tx.AK 9xx.Kx.QJ98x.Qxx KJ.AQJ.Kxxx.JT9x 0.84498',\n",
       " 'x.Kxxxxx.KQ8.JTx KQx.98.T9xxx.Kxx J9xx.AQJ.Jxx.AQ9 0.84400',\n",
       " 'xx.A9xxxx.8x.ATx Jxx.QJ.KJ9xxx.Jx KQ9.K8x.QTx.KQ9x 0.84327',\n",
       " 'J9x.AJ8xxx.Qx.9x xxx.Qx.KT9xx.KTx KQ.K9x.J8xx.AQJx 0.83364',\n",
       " 'xx.J98xxxx.xx.Ax KQx.Q.QT9xx.QTxx J9x.AKx.KJ8x.KJ9 0.82988',\n",
       " 'xx.AQxxxx.Kxx.9x Q9x.8.QJ98x.QJTx KJx.KJ9x.Txx.AKx 0.82595',\n",
       " 'K.KQJ98xxx.8x.xx 9xx.x.KQTxx.QJ9x QJxx.Ax.J9xx.AKT 0.82532',\n",
       " 'xx.KQJ98xx.J.Qxx Q9x.Ax.QTxxx.T9x KJx.xx.K98xx.AKJ 0.82227',\n",
       " 'x.K98xxx.QJT.Txx KJxx.QJ.9xxxx.A9 Q9x.Axx.K8x.KQJx 0.81720',\n",
       " '9xx.J9xxxx.KT.Ax Qx.8x.Q9xxx.KJ9x KJx.AKQ.J8xx.QTx 0.81512',\n",
       " 'J9xx.AQJ8xx.T.J9 x.Kx.J9xxxx.KTxx KQx.9xx.KQ8x.AQx 0.81366',\n",
       " 'K.QJxxxx.T98.J9x Qxx.K8.QJxxx.Txx J9xx.A9x.Kxx.AKQ 0.81226',\n",
       " 'QJ9.J98xxx.Qx.KJ xx.AK.T98xxx.T9x Kxx.Qxx.KJx.AQxx 0.81101',\n",
       " 'xx.KQJ9xx.Tx.Kxx Qxx.8x.QJ8xx.QJ9 KJ9.Axx.K9xx.ATx 0.80794',\n",
       " 'QJxx.QJxxxx.x.Jx xx.Kx.J98xxx.ATx K9.A98.KQTx.KQ9x 0.80776',\n",
       " 'Qxx.KQ8xxx.xx.Jx 9x.Jx.QJ98x.KQT9 KJx.A9x.KTxx.Axx 0.79724',\n",
       " 'Jxx.KQJ8xx.T9x.x K9.xxx.KQxxx.T9x Qxx.A9.J8x.AKQJx 0.79699',\n",
       " 'xx.AQ98xx.Jxx.T9 Jx.xx.Q98xx.KQxx KQ9x.KJx.KTx.AJx 0.79575',\n",
       " 'K9x.KJ9xxx.xx.QT Jxx.Ax.Q98xx.J9x Qx.Q8x.KJTx.AKxx 0.79437',\n",
       " 'xx.AQ98xx.9xx.Tx K9x.Jxx.QJxxx.Qx QJx.Kx.KT8.AKJ9x 0.79417',\n",
       " 'Qx.AK9xxx.9xx.J9 J9xx.xx.QJ8xx.KT Kx.QJ8.KTx.AQxxx 0.79167',\n",
       " 'J9.QJ9xxx.8xx.A9 Kxx.8.KTxxx.Qxxx Qxx.AKxx.QJ9.KJT 0.78600',\n",
       " 'Qxx.KQxxxx.x.Qxx J9x.9x.KQJ8x.J9x Kx.AJ8.T9xxx.AKT 0.78332',\n",
       " 'Q.98xxxxx.K8x.J9 xxx.AQ.QJT9x.QTx KJ9x.KJ.xxx.AKxx 0.78297',\n",
       " 'xx.AQJxxx.98x.9x QJx.K8x.KJTxx.Tx K9x.9x.Qxx.AKQJx 0.77840',\n",
       " 'Jxx.AQ8xxx.8xx.T Qx.x.KQ9xx.QJ9xx K9x.KJ9x.JTx.AKx 0.77692',\n",
       " 'KQJx.Q8xxxx.J8.x 9x.Kx.T9xxx.AJ9x xx.AJ9.KQxx.KQTx 0.77497',\n",
       " 'Jxx.QJ98xx.Kxx.x 9x.Kxx.QJTxx.ATx KQx.Ax.98x.KQJ9x 0.76903',\n",
       " 'Q9.AQJxxx.T8x.xx Jxx.8x.KQJxx.T9x Kxx.K9x.9xx.AKQJ 0.75750',\n",
       " 'xx.KQJ98x.98.K9x KJ9.xx.Kxxxx.Txx Qxx.Axx.QJTx.AQJ 0.75379',\n",
       " 'Jx.QJ98xx.Qx.Jxx Q9xx.Ax.JT8xx.K9 Kx.Kxx.K9xx.AQTx 0.74762',\n",
       " 'Jxx.AQ8xxx.x.Jxx Qx.KJx.98xxx.K9x K9x.9x.KQJTx.AQT 0.74554',\n",
       " 'xx.Q98xxx.xx.KQx Jxx.Jx.QJTxx.ATx KQ9.AKx.K98x.J9x 0.74338',\n",
       " 'J.A9xxxx.8xx.QJx Qxx.KJx.KT9xx.Tx K9xx.Q8.QJx.AK9x 0.74166',\n",
       " 'J9xx.KQ9xxx.T9x. K.8x.KJxxx.QJT9x Qxx.AJx.Q8x.AKxx 0.74066',\n",
       " 'QJx.98xxxxx..AT9 9.KJ.Q98xxxx.Qxx Kxxx.AQ.KJTx.KJx 0.73617',\n",
       " '9xx.KQ8xxx.Jx.xx J.AJ9.T8xxx.QJT9 KQxx.xx.KQ9x.AKx 0.73097',\n",
       " '9xx.AQ9xxx.9xx.x KJ.8x.QJT8x.QTxx Qxx.KJx.Kxx.AKJ9 0.73075',\n",
       " 'J9x.KJ98xx.x.QJx xx.xx.KQTxx.K9xx KQx.AQx.J98xx.AT 0.72256',\n",
       " 'xx.QJ9xxx.T9.KJx KQx.8x.KQ8xx.Txx J9x.AKx.Jxxx.AQ9 0.72057',\n",
       " 'Qx.KQ98xx.Jxx.xx Jx.xx.KT8xx.QJ9x K9xx.AJx.Q9x.AKT 0.72012',\n",
       " 'x.AK9xxx.Txx.Qxx J9x.QJx.QJ98x.JT KQxx.8x.Kxx.AK9x 0.71909',\n",
       " 'Q9x.KJ98xx.QJ.xx xxx.Qxx.K8xxx.Qx KJ.Ax.T9xx.AKJT9 0.71314',\n",
       " 'KJx.Q8xxxx.Jx.Tx Q9.9x.QT9xx.AJxx xxx.AKJ.K8xx.KQ9 0.70467',\n",
       " '9xx.AK98xx.Jxx.x xx.Q.QT9xx.AJ9xx KQJ.Jxxx.K8x.KQT 0.69944',\n",
       " '9x.K8xxxx.Jx.QJx QJx.A.T9xxxx.KTx Kxx.QJ9x.KQ8.A9x 0.69929',\n",
       " 'QJ.A98xxx.9x.K9x xx.QJx.KJT8xx.xx K9xx.Kx.Qxx.AQJT 0.69382',\n",
       " 'Q9x.QJ9xxx.KQx.x Kx.Ax.98xxxx.T9x Jxx.K8x.JT.AKQJx 0.67514',\n",
       " 'Qx.KQ8xxx.Jxx.Qx 9xx.J9.QT98x.ATx KJx.Axx.Kxx.KJ9x 0.67355',\n",
       " 'Q9x.QJ8xxx.Tx.Jx Kx.Kxx.Q8xxx.QT9 Jxx.A9.KJ9x.AKxx 0.67347',\n",
       " 'KQx.J98xxx.J8.Q9 xx.Kxx.K9xxx.xxx J9x.AQ.QTxx.AKJT 0.66647',\n",
       " 'xxx.AKxxxx.xx.Jx Q9.98.Q8xxx.KQT9 KJx.QJx.KJT9.Axx 0.66370',\n",
       " 'xx.KJ98xx.xx.KTx Kxx.xx.Q8xxx.QJ9 QJ9.AQx.KJT9.Axx 0.65863',\n",
       " 'Jxx.J98xxx.KT.AT 9x.KQx.J9xxxx.Qx KQx.Ax.Q8x.KJ9xx 0.65559',\n",
       " 'Kx.KJxxxx.J9x.9x Jxx.9x.KQTxx.QJT Q9x.AQ8.8xx.AKxx 0.64584',\n",
       " 'x.AQJ9xxx.xx.QJx K9xx.8.JT98xx.Kx QJx.Kxx.KQx.AT9x 0.63997',\n",
       " 'KJ.QJ9xxx.xx.T9x Qxxx.xx.KQJ98.Qx 9x.AK8.Txxx.AKJx 0.63485',\n",
       " '9x.KQ9xxx.Tx.KJT Qxxx.Jx.KJ9xx.xx KJ.A8x.Q8xx.AQ9x 0.62930',\n",
       " 'Qx.K9xxxx.Qx.Jxx K9x.AJx.T98xx.9x Jxx.Q8.KJxx.AKQT 0.62031',\n",
       " 'QJx.A98xxx.8.Qxx 9xx.Jx.Q9xxx.KJT Kx.KQx.KJTxx.A9x 0.60998',\n",
       " '9xx.AKJ8xx.Jx.xx Jx.xx.KQ8xx.JT9x KQx.Q9x.T9xx.AKQ 0.60076',\n",
       " 'Q9x.KQ8xxxx.xx.Q xxx.A.KT8xx.T9xx KJ.J9x.QJ9x.AKJx 0.60050',\n",
       " 'QJx.KQ9xxx.xx.Qx 9x.A8x.KT98x.Txx Kxx.Jx.QJxx.AKJ9 0.59965',\n",
       " 'x.AKxxxx.T8x.QJ9 QJx.J8.QJ9xx.Txx K9xx.Q9x.Kxx.AKx 0.59824',\n",
       " 'Jx.AQJxxx.xxx.Tx 9xx.Kxx.KQ8xx.9x KQx.98.JT9.AKQJx 0.59027',\n",
       " 'Jx.AQ9xxx.JTx.9x Qxx.KJ8.8xxxx.Kx K9x.xx.KQ9.AQJTx 0.58747',\n",
       " 'Jx.QJ9xxx.Kx.Q9x Kxx.8x.QJ8xx.JTx Q9x.AKx.T9xx.AKx 0.58047',\n",
       " 'Q.K98xxx.Tx.Kxxx Jxx.Qx.QJ8xx.QJT K9xx.AJx.K9xx.A9 0.58015',\n",
       " 'QJx.Q8xxxx.xx.QT K9.Ax.QT9xx.9xxx xxx.KJ9.KJ8x.AKJ 0.57254',\n",
       " 'Jx.Q98xxx.KJ.Jxx Kx.Jx.98xxx.KQTx Q9xx.AKx.QTxx.A9 0.56876',\n",
       " 'x.AQ9xxx.xxx.J9x 9xx.J8.QT9xx.AKx KQJx.Kxx.KJ8.QTx 0.56355',\n",
       " 'Q9x.AQ8xxx.Jxx.Q x.9x.Q9xxx.KJT9x KJxx.KJx.KT8.Axx 0.56068',\n",
       " 'Kx.K98xxxx.xx.A9 Q9xx.x.KJ98x.JTx Jx.AQJ.QTxx.KQxx 0.56028',\n",
       " 'Qx.J8xxxx.xx.AQJ 9xx.Kx.KJT9x.T9x KJx.AQ9.Q8xx.Kxx 0.55762',\n",
       " 'x.J98xxx.T8.KQJx J9xx.Ax.QJxxx.Tx KQx.KQx.K9xx.A9x 0.55018',\n",
       " 'Jx.AQ98xxx.9x.K9 K9x.xx.K8xxx.Txx Qxx.KJ.QJTx.AQJx 0.54864',\n",
       " 'Kx.J9xxxx.8xx.Ax Q9x.Qx.KJT9x.T9x Jxx.AK8.Qxx.KQJx 0.54433',\n",
       " 'Q9x.AJ98xx.JT.9x x.KQ.8xxxxx.KJTx KJxx.xxx.KQ9.AQx 0.54278',\n",
       " '9xx.AJ8xxx.T8x.K Qx.x.Q9xxx.AJ9xx KJx.KQ9x.KJx.QTx 0.53830',\n",
       " 'Jxx.QJ8xxx.9x.K9 x.9xx.QT8xx.AQxx KQ9x.AK.KJxx.JTx 0.53658',\n",
       " 'Jx.QJxxxx.KTx.xx Qx.K8.QJ8xx.QT9x K9xx.A9x.9xx.AKJ 0.53480',\n",
       " '9x.AQJ9xx.T9x.Tx Kxx.8xx.Qxxxx.Ax QJx.Kx.KJ8.KQJ9x 0.53329',\n",
       " '9xx.AJ9xxx.Jx.Tx Q.K8.QT9xx.KJ9xx KJxx.Qxx.K8xx.AQ 0.52958',\n",
       " 'K9x.J8xxxx.xx.A9 Jx.9x.KJ98x.QJxx Qxx.AKQ.QTxx.KTx 0.52817',\n",
       " 'x.AJ98xx.98x.ATx QJ9x.xx.KJTxxx.J Kxx.KQx.Qx.KQ9xx 0.52756',\n",
       " 'Jxx.KQ8xxx.9.JTx Q9x.9x.QT8xx.KQ9 Kx.AJx.KJxxx.Axx 0.52076',\n",
       " '9xx.KQJxxx.J8.Tx x.xx.Txxxx.AKJ9x KQJx.A98.KQ9x.Qx 0.51109',\n",
       " 'xxx.AKJ8xx.xx.JT 9x.Qxx.QT8xx.K9x KQJ.9x.KJ9x.AQxx 0.51025',\n",
       " '9x.AJ9xxx.x.KT9x xx.Q8x.KT8xxx.QJ KQJx.Kx.QJ9x.Axx 0.50934',\n",
       " 'J9xx.AJ9xxx.x.xx Qx.8xx.QJ98x.KQx Kx.KQ.KTxxx.AJT9 0.50871',\n",
       " '9x.AQ9xxx.8xx.9x Qxx.J8.KQ9xx.Kxx KJx.Kxx.JTx.AQJT 0.50832',\n",
       " 'Qx.J8xxxx.9x.AQ9 Jxxx.A9.QT8xx.Tx K9.KQx.KJxx.KJxx 0.50738',\n",
       " 'J.AJ8xxxx.T8.Axx 9xx.Qx.Qxxxx.K9x KQxx.K9.KJ9x.QJT 0.49980',\n",
       " 'xx.AKQ9xx.JT9.T9 9x.xx.Q8xxxx.AJx KQJx.J8x.Kx.KQxx 0.49623',\n",
       " 'J.Q98xxx.Kx.JTxx 9xx.Jx.QJT9x.KQ9 KQxx.AKx.8xxx.Ax 0.49584',\n",
       " 'J9x.Q98xxx.x.A9x xx.Jxx.KQT8x.QTx KQx.AK.J9xxx.KJx 0.49277',\n",
       " 'J9.QJ98xx.Q9x.Ax Qx.xx.KTxxx.QT9x Kxxx.AKx.J8x.KJx 0.48987',\n",
       " 'Qx.Q98xxx.8xx.KJ Jxx.x.KQTxx.QT9x K9x.AKJx.J9x.Axx 0.48731',\n",
       " 'J9x.QJ9xxx.Q98.J xx.8x.KJxxx.KQTx KQx.AKx.Txx.A9xx 0.48314',\n",
       " 'Jxx.98xxxx.K8.AJ Kx.Qx.Qxxxx.Txxx Q9x.AKJ.JT9x.KQ9 0.47874',\n",
       " '9x.KQJxxx.QJx.xx Jx.8x.KT9xx.QJT9 KQxx.A9x.8xx.AKx 0.47777',\n",
       " 'xx.AK8xxx.98x.9x K9.xx.QJxxx.QJTx QJxx.QJ9.KTx.AKx 0.47617',\n",
       " 'J.98xxxx.K8x.ATx 9xxx.AJ.QJ9xx.Jx KQx.KQx.Txx.KQ9x 0.47420',\n",
       " 'Qxx.Q98xxx.9x.KQ K9x.Jx.KT8xx.J9x Jx.AKx.QJxx.ATxx 0.46725',\n",
       " '9xx.AKQ9xx.9xx.x x.8x.KJT8x.KJT9x KQJx.Jxx.Qxx.AQx 0.46725',\n",
       " 'xx.AJxxxx.Jx.QTx Q9xx.9x.KQT8x.9x KJ.KQ8.9xxx.AKJx 0.46710',\n",
       " 'Qx.AJ8xxx.9x.K9x Kx.xx.Kxxxx.JTxx J9xx.KQ9.QJT8.AQ 0.46624',\n",
       " 'xx.A8xxxx.Kxx.Jx J9.Kx.QT9xx.Q9xx KQxx.QJ9.J8x.AKT 0.46473',\n",
       " 'Jxx.K98xxx.Jx.Kx K.Qxx.8xxxx.QJTx Q9xx.AJ.KQT9.A9x 0.46043',\n",
       " 'x.KQ98xxx.Kx.Jxx KQ9x.xx.QJ8xxx.9 Jxx.AJ.T9x.AKQTx 0.46039',\n",
       " 'Qxx.AJ9xxx.J.Jxx K9.Qx.T98xxx.KT9 Jxx.K8x.KQxx.AQx 0.45835',\n",
       " 'xx.AQ8xxx.Txx.Jx 9xx.Jx.KQJ8x.QTx KQJ.K9x.9xx.AK9x 0.45775']"
      ]
     },
     "execution_count": 6,
     "metadata": {},
     "output_type": "execute_result"
    }
   ],
   "source": [
    "# each row is one sample board\n",
    "# the hands are in the order: LHO, Partner, RHO. Your cards are not shown as they are fixed/\n",
    "\n",
    "lead.samples"
   ]
  }
 ],
 "metadata": {
  "kernelspec": {
   "display_name": "Python 3 (ipykernel)",
   "language": "python",
   "name": "python3"
  },
  "language_info": {
   "codemirror_mode": {
    "name": "ipython",
    "version": 3
   },
   "file_extension": ".py",
   "mimetype": "text/x-python",
   "name": "python",
   "nbconvert_exporter": "python",
   "pygments_lexer": "ipython3",
   "version": "3.11.0"
  }
 },
 "nbformat": 4,
 "nbformat_minor": 5
}
