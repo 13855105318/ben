{
 "cells": [
  {
   "cell_type": "markdown",
   "id": "170af530",
   "metadata": {},
   "source": [
    "# Opening Lead\n",
    "\n",
    "This is a tutorial for how to use the opening lead engine."
   ]
  },
  {
   "cell_type": "code",
   "execution_count": 1,
   "id": "26570686",
   "metadata": {},
   "outputs": [],
   "source": [
    "import os\n",
    "import sys\n",
    "sys.path.append('../../src')\n",
    "os.environ['BEN_HOME'] = \"../..\"\n",
    "\n",
    "from nn.models import Models\n",
    "from bots import BotLead\n",
    "from sample import Sample\n",
    "import conf\n",
    "import numpy as np\n",
    "\n",
    "np.set_printoptions(precision=2, suppress=True, linewidth=200)\n",
    "np.random.seed(42)\n"
   ]
  },
  {
   "cell_type": "code",
   "execution_count": 2,
   "id": "fe373c76",
   "metadata": {},
   "outputs": [
    {
     "name": "stdout",
     "output_type": "stream",
     "text": [
      "WARNING:tensorflow:From c:\\Python311\\Lib\\site-packages\\tensorflow\\python\\compat\\v2_compat.py:107: disable_resource_variables (from tensorflow.python.ops.variable_scope) is deprecated and will be removed in a future version.\n",
      "Instructions for updating:\n",
      "non-resource variables are not supported in the long term\n",
      "INFO:tensorflow:Restoring parameters from ..\\Models/NS1EW99-bidding_same-5556000\n",
      "INFO:tensorflow:Restoring parameters from ..\\Models/NS1EW99-binfo_same-5556000\n",
      "INFO:tensorflow:Restoring parameters from ..\\Models/lead_suit-999000\n",
      "INFO:tensorflow:Restoring parameters from ..\\Models/lead_nt-475000\n",
      "INFO:tensorflow:Restoring parameters from ..\\Models/Jack/lr3-1000000\n",
      "INFO:tensorflow:Restoring parameters from ..\\Models/single_dummy-32768000\n",
      "INFO:tensorflow:Restoring parameters from ..\\Models/jack/lefty-1000000\n",
      "INFO:tensorflow:Restoring parameters from ..\\Models/jack/dummy-920000\n",
      "INFO:tensorflow:Restoring parameters from ..\\Models/jack/righty-1000000\n",
      "INFO:tensorflow:Restoring parameters from ..\\Models/jack/decl-1000000\n",
      "INFO:tensorflow:Restoring parameters from ..\\Models/jack/lefty-1000000\n",
      "INFO:tensorflow:Restoring parameters from ..\\Models/jack/dummy-920000\n",
      "INFO:tensorflow:Restoring parameters from ..\\Models/jack/righty-1000000\n",
      "INFO:tensorflow:Restoring parameters from ..\\Models/jack/decl-1000000\n"
     ]
    }
   ],
   "source": [
    "models = Models.from_conf(conf.load('../Conf/UCBC2024.conf'),'..')   # loading neural networks\n",
    "sampler = Sample.from_conf(conf.load('../Conf/UCBC2024.conf'), False)  # Load sampling strategies"
   ]
  },
  {
   "cell_type": "code",
   "execution_count": 3,
   "id": "c3397678",
   "metadata": {},
   "outputs": [
    {
     "name": "stderr",
     "output_type": "stream",
     "text": [
      "Loaded lib dds.dll\n"
     ]
    }
   ],
   "source": [
    "# both vulnerable. you are sitting North as dealer and you hold\n",
    "hand = 'AT873.T5.A3.8763'\n",
    "seat = 0\n",
    "# the auction goes:\n",
    "auction = [\"PASS\", \"1N\", \"PASS\", \"2D\", \"X\", \"2H\", \"PASS\", \"4H\", \"PASS\", \"PASS\", \"PASS\"]\n",
    "\n",
    "# what to lead?\n",
    "\n",
    "lead_bot = BotLead([True, True], hand, models, sampler, seat, 0, False)\n",
    "lead = lead_bot.find_opening_lead(auction)"
   ]
  },
  {
   "cell_type": "code",
   "execution_count": 4,
   "id": "a2b5fe25",
   "metadata": {},
   "outputs": [
    {
     "data": {
      "text/plain": [
       "D3"
      ]
     },
     "execution_count": 4,
     "metadata": {},
     "output_type": "execute_result"
    }
   ],
   "source": [
    "lead.card"
   ]
  },
  {
   "cell_type": "markdown",
   "id": "02e88396",
   "metadata": {},
   "source": [
    "seems like the engine chose to lead the ace of diamonds\n",
    "\n",
    "the other options it considered were: a small spade and a small club"
   ]
  },
  {
   "cell_type": "code",
   "execution_count": 5,
   "id": "956ef356",
   "metadata": {},
   "outputs": [
    {
     "data": {
      "text/plain": [
       "[{'card': 'Dx',\n",
       "  'insta_score': 0.153,\n",
       "  'expected_tricks_sd': 10.1,\n",
       "  'p_make_contract': 0.2},\n",
       " {'card': 'Cx',\n",
       "  'insta_score': 0.162,\n",
       "  'expected_tricks_sd': 10.2,\n",
       "  'p_make_contract': 0.2},\n",
       " {'card': 'Hx',\n",
       "  'insta_score': 0.124,\n",
       "  'expected_tricks_sd': 10.5,\n",
       "  'p_make_contract': 0.1},\n",
       " {'card': 'Sx',\n",
       "  'insta_score': 0.215,\n",
       "  'expected_tricks_sd': 11.0,\n",
       "  'p_make_contract': 0.0}]"
      ]
     },
     "execution_count": 5,
     "metadata": {},
     "output_type": "execute_result"
    }
   ],
   "source": [
    "lead.to_dict()['candidates']"
   ]
  },
  {
   "cell_type": "markdown",
   "id": "97efc5a1",
   "metadata": {},
   "source": [
    "in the above output:\n",
    "- `insta_score` reflects the preference of the neural network\n",
    "- `expected_tricks` how many tricks declarer is expected to take on this lead\n",
    "- `p_make_contract` is the probability of the contract making on this lead\n",
    "\n",
    "the probability of making and the expected tricks are computed on samples which are consistent with the auction. the samples are estimated single dummy using a neural network (more on this in another tutorial). we could also solve the samples double dummy, but that would be quite a bit slower."
   ]
  },
  {
   "cell_type": "code",
   "execution_count": 6,
   "id": "7cb2bf98",
   "metadata": {},
   "outputs": [
    {
     "data": {
      "text/plain": [
       "['AT8xx.Tx.Ax.8xxx x.KJ98xx.KJx.Txx 9xx.xxx.QT8xx.AJ KQJx.AQ.9xx.KQ9x 0.68581',\n",
       " 'AT8xx.Tx.Ax.8xxx J9x.QJ8xxx.9.KJx Qxx.9x.KT8xx.QTx Kx.AKx.QJxxx.A9x 0.68210',\n",
       " 'AT8xx.Tx.Ax.8xxx x.KQJ98xxx.8.Q9x 9xxx.x.KQTxx.KJx KQJ.Ax.J9xxx.ATx 0.67324',\n",
       " 'AT8xx.Tx.Ax.8xxx KQx.QJxxxxx.T.Tx xx.98.QJ8xx.KJxx J9x.AK.K9xxx.AQ9 0.66772',\n",
       " 'AT8xx.Tx.Ax.8xxx x.KQ98xxx.QJx.9x 9x.x.KTxxx.AQTxx KQJxx.AJx.98x.KJ 0.66607',\n",
       " 'AT8xx.Tx.Ax.8xxx J.Q98xxxx.Tx.KQT Q9xx.Kx.K98xx.9x Kxx.AJ.QJxx.AJxx 0.66602',\n",
       " 'AT8xx.Tx.Ax.8xxx Qx.KJ98xxxx.Q.Tx KJ9x..KT98xx.Qxx xx.AQx.Jxxx.AKJ9 0.66499',\n",
       " 'AT8xx.Tx.Ax.8xxx xx.AQ98xxx.8x.Qx Qxx.KJ.K9xxx.T9x KJ9.xx.QJTx.AKJx 0.66436',\n",
       " 'AT8xx.Tx.Ax.8xxx K.K8xxxxx.xx.Q9x 9xxx.9.KQJT98.KT QJx.AQJ.xxx.AJxx 0.66378',\n",
       " 'AT8xx.Tx.Ax.8xxx Q9.K98xxxx.Jx.Qx Jx.AJ.Q8xxx.K9xx Kxxx.Qx.KT9x.AJT 0.66352']"
      ]
     },
     "execution_count": 6,
     "metadata": {},
     "output_type": "execute_result"
    }
   ],
   "source": [
    "# each row is one sample board\n",
    "# the hands are in the order: LHO, Partner, RHO. Your cards are not shown as they are fixed/\n",
    "\n",
    "lead.samples"
   ]
  }
 ],
 "metadata": {
  "kernelspec": {
   "display_name": "Python 3 (ipykernel)",
   "language": "python",
   "name": "python3"
  },
  "language_info": {
   "codemirror_mode": {
    "name": "ipython",
    "version": 3
   },
   "file_extension": ".py",
   "mimetype": "text/x-python",
   "name": "python",
   "nbconvert_exporter": "python",
   "pygments_lexer": "ipython3",
   "version": "3.11.0"
  }
 },
 "nbformat": 4,
 "nbformat_minor": 5
}
