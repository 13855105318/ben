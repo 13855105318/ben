{
 "cells": [
  {
   "cell_type": "markdown",
   "id": "75d07246",
   "metadata": {},
   "source": [
    "# Bidding\n",
    "\n",
    "This is a tutorial for how to use the bidding engine"
   ]
  },
  {
   "cell_type": "code",
   "execution_count": 1,
   "id": "59a5664c",
   "metadata": {},
   "outputs": [
    {
     "name": "stdout",
     "output_type": "stream",
     "text": [
      "WARNING:tensorflow:From c:\\Python311\\Lib\\site-packages\\tensorflow\\python\\compat\\v2_compat.py:107: disable_resource_variables (from tensorflow.python.ops.variable_scope) is deprecated and will be removed in a future version.\n",
      "Instructions for updating:\n",
      "non-resource variables are not supported in the long term\n",
      "INFO:tensorflow:Restoring parameters from ..\\Models/NS1EW99-bidding-1335000\n",
      "INFO:tensorflow:Restoring parameters from ..\\Models/NS1EW99-binfo-6131000\n",
      "INFO:tensorflow:Restoring parameters from ..\\Models/lead_suit-154000\n",
      "INFO:tensorflow:Restoring parameters from ..\\Models/lead_nt-59000\n",
      "INFO:tensorflow:Restoring parameters from ..\\Models/lr3-1000000\n",
      "INFO:tensorflow:Restoring parameters from ..\\Models/single_dummy-32768000\n",
      "INFO:tensorflow:Restoring parameters from ..\\Models/lefty-1000000\n",
      "INFO:tensorflow:Restoring parameters from ..\\Models/dummy-920000\n",
      "INFO:tensorflow:Restoring parameters from ..\\Models/righty-1000000\n",
      "INFO:tensorflow:Restoring parameters from ..\\Models/decl-1000000\n"
     ]
    }
   ],
   "source": [
    "import sys\n",
    "sys.path.append('../../src')\n",
    "\n",
    "from nn.models import Models\n",
    "from bots import BotBid\n",
    "from util import hand_to_str\n",
    "from sample import Sample\n",
    "import conf\n",
    "import numpy as np\n",
    "\n",
    "np.set_printoptions(precision=2, suppress=True, linewidth=200)\n",
    "np.random.seed(42)\n",
    "models = Models.from_conf(conf.load('../Conf/UCBC2024.conf'),'..')   # loading neural networks\n",
    "sampler = Sample.from_conf(conf.load('../Conf/UCBC2024.conf'), False)  # Load sampling strategies\n"
   ]
  },
  {
   "cell_type": "markdown",
   "id": "10d8f2fc",
   "metadata": {},
   "source": [
    "### Bidding"
   ]
  },
  {
   "cell_type": "code",
   "execution_count": 2,
   "id": "19dbfeb7",
   "metadata": {},
   "outputs": [
    {
     "data": {
      "text/plain": [
       "[{'call': 'PASS',\n",
       "  'insta_score': 0.558,\n",
       "  'expected_score': -102,\n",
       "  'adjustment': 28},\n",
       " {'call': '2C',\n",
       "  'insta_score': 0.433,\n",
       "  'expected_score': -128,\n",
       "  'adjustment': 22}]"
      ]
     },
     "execution_count": 2,
     "metadata": {},
     "output_type": "execute_result"
    }
   ],
   "source": [
    "vuln_ns, vuln_ew = False, True\n",
    "hand = 'A.8xx.Jxx.AQxxxx'\n",
    "\n",
    "auction = [\"1S\"]\n",
    "bot_bid = BotBid([vuln_ns, vuln_ew], hand, models, sampler, 1, False)\n",
    "\n",
    "bid = bot_bid.bid(auction)\n",
    "bid.to_dict()['candidates']\n",
    "\n",
    "# what's your bid?\n"
   ]
  },
  {
   "cell_type": "code",
   "execution_count": 3,
   "id": "f8eaf1c5",
   "metadata": {},
   "outputs": [
    {
     "data": {
      "text/plain": [
       "[{'call': 'X', 'insta_score': 0.798, 'expected_score': 20, 'adjustment': 40},\n",
       " {'call': 'PASS', 'insta_score': 0.201, 'expected_score': 8, 'adjustment': 10}]"
      ]
     },
     "execution_count": 3,
     "metadata": {},
     "output_type": "execute_result"
    }
   ],
   "source": [
    "auction = [\"1S\",\"PASS\",\"1N\",\"PASS\",\"2C\"]\n",
    "bot_bid = BotBid([vuln_ns, vuln_ew], hand, models, sampler, 1, False)\n",
    "\n",
    "bid = bot_bid.bid(auction)\n",
    "bid.to_dict()['candidates']\n"
   ]
  },
  {
   "cell_type": "code",
   "execution_count": 4,
   "id": "55b647a5",
   "metadata": {},
   "outputs": [
    {
     "name": "stdout",
     "output_type": "stream",
     "text": [
      "Qxxxx.ATx.A.KJT8 A.8xx.Jxx.AQxxxx K8.KJ9x.QT98.9xx JT9xx.Qxx.Kxxxx. 0.99862 \n",
      " 1S-P-1N-P-2C-X-2S-P-P-P (7.6)  \n",
      " 1S-P-1N-P-2C-P-2S-P-P-P (7.6) \n",
      "KJ8xx.QTx.A.KJxx A.8xx.Jxx.AQxxxx Tx.Axx.KT98x.T98 Q9xxx.KJ9x.Qxxx. 0.99835 \n",
      " 1S-P-1N-P-2C-X-2S-P-P-P (6.9)  \n",
      " 1S-P-1N-P-2C-P-2S-P-P-P (6.9) \n",
      "K98xx.Jx.AQ.KJ8x A.8xx.Jxx.AQxxxx x.KQT9x.KT9xx.T9 QJTxxx.Axx.8xx.x 0.99792 \n",
      " 1S-P-1N-P-2C-X-P-P-P (6.4)  \n",
      " 1S-P-1N-P-2C-P-P-P (6.4) \n",
      "KJxxx.AKT.x.KT9x A.8xx.Jxx.AQxxxx Qx.9xx.AK98x.J8x T98xx.QJxx.QTxx. 0.99790 \n",
      " 1S-P-1N-P-2C-X-2D-P-P-P (6.6)  \n",
      " 1S-P-1N-P-2C-P-2S-P-P-P (7.7) \n",
      "KT8xx.A9.A8.J8xx A.8xx.Jxx.AQxxxx xx.KJxx.QT9xx.KT QJ9xx.QTxx.Kxx.9 0.99779 \n",
      " 1S-P-1N-P-2C-X-2S-P-P-P (7.1)  \n",
      " 1S-P-1N-P-2C-P-2S-P-P-P (7.1) \n",
      "K8xxx.Ax.A.J98xx A.8xx.Jxx.AQxxxx Qx.QT9xx.KT98x.T JT9xx.KJx.Qxxx.K 0.99778 \n",
      " 1S-P-1N-P-2C-X-2S-P-P-P (7.1)  \n",
      " 1S-P-1N-P-2C-P-2S-P-P-P (7.1) \n",
      "Q8xxx.AK.xx.KT9x A.8xx.Jxx.AQxxxx K.QT9xx.QT98x.J8 JT9xxx.Jxx.AKx.x 0.99772 \n",
      " 1S-P-1N-P-2C-X-P-P-P (4.9)  \n",
      " 1S-P-1N-P-2C-P-P-P (4.9) \n",
      "KJTxx.K9.KT.KJT8 A.8xx.Jxx.AQxxxx Qx.AQTxx.xxx.9xx 98xxx.Jxx.AQ98x. 0.99762 \n",
      " 1S-P-1N-P-2C-X-2S-P-P-P (6.9)  \n",
      " 1S-P-1N-P-2C-P-2S-P-P-P (6.9) \n",
      "KT8xx.x.AQx.KT98 A.8xx.Jxx.AQxxxx 9x.KQTxx.KT9xx.x QJxxx.AJ9x.8x.Jx 0.99762 \n",
      " 1S-P-1N-P-2C-X-2S-P-P-P (6.8)  \n",
      " 1S-P-1N-P-2C-P-2S-P-P-P (6.8) \n",
      "KT9xx.AQx.A.T98x A.8xx.Jxx.AQxxxx xx.KJxx.QT98x.KJ QJ8xx.T9x.Kxxx.x 0.99750 \n",
      " 1S-P-1N-P-2C-X-2S-P-P-P (7.9)  \n",
      " 1S-P-1N-P-2C-P-2S-P-P-P (7.9) \n"
     ]
    }
   ],
   "source": [
    "### Samples consistent with the auction so far\n",
    "\n",
    "for i in range(min(10,len(bid.samples))):\n",
    "    print(bid.samples[i])\n"
   ]
  },
  {
   "cell_type": "markdown",
   "id": "7d0dd8f5",
   "metadata": {},
   "source": [
    "West always has the same cards because it's your hand and it's known to you"
   ]
  },
  {
   "cell_type": "code",
   "execution_count": 5,
   "id": "7101e514",
   "metadata": {},
   "outputs": [
    {
     "name": "stdout",
     "output_type": "stream",
     "text": [
      "Qxxx.x.QTxxx.98x KTxx.KQxx.AK.JTx A.8xx.Jxx.AQxxxx J98x.AJT9x.98x.K 1.00\n",
      "JTxx.QTx.Kxx.8xx Q9xx.A9x.AQT8.K9 A.8xx.Jxx.AQxxxx K8xx.KJxx.9xx.JT 1.00\n",
      "J98xx.A9xx.x.8xx KQx.KQT.KQT9x.JT A.8xx.Jxx.AQxxxx Txxx.Jxx.A8xx.K9 1.00\n",
      "KTx.Txx.K9xx.9xx QJ8x.KJx.AQx.KJT A.8xx.Jxx.AQxxxx 9xxxx.AQ9x.T8x.8 1.00\n",
      "Q9xx.Q9x.9xxx.Jx Jx.AJx.AKT8x.KT8 A.8xx.Jxx.AQxxxx KT8xxx.KTxx.Q.9x 1.00\n",
      "Txxx.K9x.QTxx.Jx Q9x.QJxx.AK8.K98 A.8xx.Jxx.AQxxxx KJ8xx.ATx.9xx.Tx 1.00\n",
      "xxxx.Kxxx.8.J98x KJ9.AQx.AT9xx.KT A.8xx.Jxx.AQxxxx QT8xx.JT9.KQxx.x 0.99\n",
      "T9xx.KJ.T9xx.T8x Qxx.AT9x.AK8x.Kx A.8xx.Jxx.AQxxxx KJ8xx.Qxxx.Qx.J9 1.00\n",
      "8xx.Txxxx.98x.Tx KQ9xx.AQJ.Txx.KJ A.8xx.Jxx.AQxxxx JTxx.K9.AKQx.98x 0.43\n",
      "Tx.AKQJ9.xxx.J9x KQJx.xxx.AK.KT8x A.8xx.Jxx.AQxxxx 98xxxx.Tx.QT98x. 0.41\n"
     ]
    }
   ],
   "source": [
    "# we got some samples above. if we want more, we can always get more\n",
    "auction = [\"PASS\", \"1N\"]\n",
    "sample_hands, sorted_score, p_hcp, p_shp = bot_bid.sample_hands_auction(auction)\n",
    "\n",
    "for i in range(min(10,sample_hands.shape[0])):\n",
    "    print(f'{hand_to_str(sample_hands[i, 0, :])} {hand_to_str(sample_hands[i, 1, :])} {hand_to_str(sample_hands[i, 2, :])} {hand_to_str(sample_hands[i, 3, :])} {sorted_score[i]:.2f}')"
   ]
  }
 ],
 "metadata": {
  "kernelspec": {
   "display_name": "Python 3 (ipykernel)",
   "language": "python",
   "name": "python3"
  },
  "language_info": {
   "codemirror_mode": {
    "name": "ipython",
    "version": 3
   },
   "file_extension": ".py",
   "mimetype": "text/x-python",
   "name": "python",
   "nbconvert_exporter": "python",
   "pygments_lexer": "ipython3",
   "version": "3.11.0"
  }
 },
 "nbformat": 4,
 "nbformat_minor": 5
}
