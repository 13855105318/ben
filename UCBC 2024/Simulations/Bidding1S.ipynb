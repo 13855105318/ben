{
 "cells": [
  {
   "cell_type": "markdown",
   "id": "75d07246",
   "metadata": {},
   "source": [
    "# Bidding\n",
    "\n",
    "This is a tutorial for how to use the bidding engine"
   ]
  },
  {
   "cell_type": "code",
   "execution_count": 1,
   "id": "59a5664c",
   "metadata": {},
   "outputs": [
    {
     "name": "stdout",
     "output_type": "stream",
     "text": [
      "WARNING:tensorflow:From c:\\Python311\\Lib\\site-packages\\tensorflow\\python\\compat\\v2_compat.py:107: disable_resource_variables (from tensorflow.python.ops.variable_scope) is deprecated and will be removed in a future version.\n",
      "Instructions for updating:\n",
      "non-resource variables are not supported in the long term\n",
      "INFO:tensorflow:Restoring parameters from ..\\Models/NS1EW99-bidding_same-5556000\n",
      "INFO:tensorflow:Restoring parameters from ..\\Models/NS1EW99-binfo_same-5556000\n",
      "INFO:tensorflow:Restoring parameters from ..\\Models/lead_suit-999000\n",
      "INFO:tensorflow:Restoring parameters from ..\\Models/lead_nt-475000\n",
      "INFO:tensorflow:Restoring parameters from ..\\Models/Jack/lr3-1000000\n",
      "INFO:tensorflow:Restoring parameters from ..\\Models/single_dummy-32768000\n",
      "INFO:tensorflow:Restoring parameters from ..\\Models/lefty_nt-475000\n",
      "INFO:tensorflow:Restoring parameters from ..\\Models/dummy_nt-475000\n",
      "INFO:tensorflow:Restoring parameters from ..\\Models/righty_nt-475000\n",
      "INFO:tensorflow:Restoring parameters from ..\\Models/decl_nt-950000\n",
      "INFO:tensorflow:Restoring parameters from ..\\Models/lefty_suit-999000\n",
      "INFO:tensorflow:Restoring parameters from ..\\Models/dummy_suit-999000\n",
      "INFO:tensorflow:Restoring parameters from ..\\Models/righty_suit-999000\n",
      "INFO:tensorflow:Restoring parameters from ..\\Models/decl_suit-1278000\n"
     ]
    }
   ],
   "source": [
    "import sys\n",
    "sys.path.append('../../src')\n",
    "\n",
    "from nn.models import Models\n",
    "from bots import BotBid\n",
    "from util import hand_to_str\n",
    "from sample import Sample\n",
    "import conf\n",
    "import numpy as np\n",
    "\n",
    "np.set_printoptions(precision=2, suppress=True, linewidth=200)\n",
    "np.random.seed(42)\n",
    "models = Models.from_conf(conf.load('../Conf/UCBC2024.conf'),'..')   # loading neural networks\n",
    "sampler = Sample.from_conf(conf.load('../Conf/UCBC2024.conf'), False)  # Load sampling strategies\n"
   ]
  },
  {
   "cell_type": "markdown",
   "id": "10d8f2fc",
   "metadata": {},
   "source": [
    "### Bidding"
   ]
  },
  {
   "cell_type": "code",
   "execution_count": 2,
   "id": "19dbfeb7",
   "metadata": {},
   "outputs": [
    {
     "data": {
      "text/plain": [
       "[{'call': 'PASS',\n",
       "  'insta_score': 0.257,\n",
       "  'expected_score': -2,\n",
       "  'adjustment': 13},\n",
       " {'call': '2C', 'insta_score': 0.741, 'expected_score': -28, 'adjustment': 37}]"
      ]
     },
     "execution_count": 2,
     "metadata": {},
     "output_type": "execute_result"
    }
   ],
   "source": [
    "vuln_ns, vuln_ew = False, True\n",
    "hand = 'A.8xx.Jxx.AQxxxx'\n",
    "\n",
    "auction = [\"1S\"]\n",
    "bot_bid = BotBid([vuln_ns, vuln_ew], hand, models, sampler, 1, 0, False)\n",
    "\n",
    "bid = bot_bid.bid(auction)\n",
    "bid.to_dict()['candidates']\n",
    "\n",
    "# what's your bid?\n"
   ]
  },
  {
   "cell_type": "code",
   "execution_count": 3,
   "id": "f8eaf1c5",
   "metadata": {},
   "outputs": [
    {
     "data": {
      "text/plain": [
       "[{'call': 'PASS',\n",
       "  'insta_score': 0.843,\n",
       "  'expected_score': 22,\n",
       "  'adjustment': 42},\n",
       " {'call': 'X', 'insta_score': 0.108, 'expected_score': 2, 'adjustment': 5}]"
      ]
     },
     "execution_count": 3,
     "metadata": {},
     "output_type": "execute_result"
    }
   ],
   "source": [
    "auction = [\"1S\",\"PASS\",\"1N\",\"PASS\",\"2C\"]\n",
    "bot_bid = BotBid([vuln_ns, vuln_ew], hand, models, sampler, 1, 0, False)\n",
    "\n",
    "bid = bot_bid.bid(auction)\n",
    "bid.to_dict()['candidates']\n"
   ]
  },
  {
   "cell_type": "code",
   "execution_count": 4,
   "id": "55b647a5",
   "metadata": {},
   "outputs": [
    {
     "name": "stdout",
     "output_type": "stream",
     "text": [
      "KJ8x.x.Qx.KJ98xx A.8xx.Jxx.AQxxxx xx.KQ9xx.KT98xx. QT9xxx.AJTx.Ax.T 0.74421 \n",
      " 1S-P-1N-P-2C-P-2D-P-3C-P-P-P (4.9, 5.1)  \n",
      " 1S-P-1N-P-2C-X-2D-P-3C-P-3D-P-3H-P-P-P (4.8, 6.7) \n",
      "8xxx.AJ.ATx.KT8x A.8xx.Jxx.AQxxxx xx.KQ9x.K9xxx.Jx KQJT9x.Txxx.Q8.9 0.74986 \n",
      " 1S-P-1N-P-2C-P-2S-P-P-P (4.9, 6.0)  \n",
      " 1S-P-1N-P-2C-X-P-P-P (6.2, 7.2) \n",
      "QT98xx.Ax.K.JT9x A.8xx.Jxx.AQxxxx x.KJTxx.QT98xx.K KJxxx.Q9x.Axx.8x 0.74532 \n",
      " 1S-P-1N-P-2C-P-2D-P-2S-P-P-P (7.2, 6.6)  \n",
      " 1S-P-1N-P-2C-X-2D-P-2S-P-P-P (7.2, 6.6) \n",
      "QTxxx.A.AKx.K98x A.8xx.Jxx.AQxxxx Kxx.QTxx.Q98xx.J J98x.KJ9xx.Tx.Tx 0.74781 \n",
      " 1S-P-1N-P-2C-P-2S-P-P-P (9.7, 9.0)  \n",
      " 1S-P-1N-P-2C-X-P-2H-P-P-2S-3H-P-P-3S-P-P-P (9.7, 9.0) \n",
      "KQ98xx.K9.AK.Kxx A.8xx.Jxx.AQxxxx x.AQTxxx.Q9xx.J9 JTxxx.Jx.T8xx.T8 0.74822 \n",
      " 1S-P-1N-P-2C-P-2H-P-3S-P-P-P (9.2, 9.0)  \n",
      " 1S-P-1N-P-2C-X-2H-P-3S-P-P-P (9.2, 9.0) \n",
      "QJTx.Kx.9x.KJ8xx A.8xx.Jxx.AQxxxx Kx.QJ9xx.KT8x.T9 98xxxx.ATx.AQxx. 0.74962 \n",
      " 1S-P-1N-P-2C-P-2S-P-4D-P-P-P (3.8, 6.1)  \n",
      " 1S-P-1N-P-2C-X-P-2D-3C-P-P-P (5.1, 5.5) \n",
      "KJ9xxx.x.K8x.J9x A.8xx.Jxx.AQxxxx .AKQT9x.T9xxx.8x QT8xxx.Jxx.AQ.KT 0.74603 \n",
      " 1S-P-1N-P-2C-P-2H-P-2S-P-3H-P-3S-P-P-P (5.8, 5.6)  \n",
      " 1S-P-1N-P-2C-X-2H-P-2S-P-P-P (5.8, 5.6) \n",
      "KJT8xx.Qx.KT.Kxx A.8xx.Jxx.AQxxxx x.KT9x.AQxxx.JT8 Q9xxx.AJxx.98x.9 0.74933 \n",
      " 1S-P-1N-P-2C-P-2S-P-P-P (7.5, 7.4)  \n",
      " 1S-P-1N-P-2C-X-P-2H-2S-P-P-P (7.5, 7.5) \n",
      "KQTx.9x.KT.JT9xx A.8xx.Jxx.AQxxxx J8.AQTxx.8xxx.K8 9xxxxx.KJx.AQ9x. 0.71998 \n",
      " 1S-P-1N-P-2C-P-2S-P-4D-P-P-P (4.1, 6.0)  \n",
      " 1S-P-1N-P-2C-X-P-2D-3C-P-P-P (5.2, 5.9) \n",
      "KQT9x.QTx.x.KJTx A.8xx.Jxx.AQxxxx xx.AKJ9.QT8xxx.8 J8xxx.xxx.AK9.9x 0.77940 \n",
      " 1S-P-1N-P-2C-P-2D-P-P-P (6.9, 7.4)  \n",
      " 1S-P-1N-P-2C-X-2D-P-P-P (6.9, 7.4) \n"
     ]
    }
   ],
   "source": [
    "### Samples consistent with the auction so far\n",
    "\n",
    "for i in range(min(10,len(bid.samples))):\n",
    "    print(bid.samples[i])\n"
   ]
  },
  {
   "cell_type": "markdown",
   "id": "7d0dd8f5",
   "metadata": {},
   "source": [
    "West always has the same cards because it's your hand and it's known to you"
   ]
  },
  {
   "cell_type": "code",
   "execution_count": 5,
   "id": "7101e514",
   "metadata": {},
   "outputs": [
    {
     "name": "stdout",
     "output_type": "stream",
     "text": [
      "Good quality: True\n",
      "xxx.QTx.T98x.KJT QJT.AKx.AKxx.98x A.8xx.Jxx.AQxxxx K98xxx.J9xx.Qx.x 1.00\n",
      "QTx.QT9x.xxx.KTx KJxxx.KJx.AKT.9x A.8xx.Jxx.AQxxxx 98xx.Axx.Q98x.J8 0.89\n",
      "QT8xx.K9xx.xx.8x KJx.JTxx.K9xx.Kx A.8xx.Jxx.AQxxxx 9xxx.AQ.AQT8.JT9 0.75\n",
      "QJTxxx.JTxx.Ax.9 Kxx.Q9xx.Q9.KJTx A.8xx.Jxx.AQxxxx 98x.AK.KT8xxx.8x 0.71\n",
      "98xx.Kxxx.8x.T9x QJxx.AQT.KQxx.Jx A.8xx.Jxx.AQxxxx KTxx.J9x.AT9x.K8 1.00\n",
      "Q9xx.KQx.K9xx.xx Kxx.AJ9xx.QT8.KJ A.8xx.Jxx.AQxxxx JT8xx.Tx.Axx.T98 0.75\n",
      "9xx.K9xxx.Q9x.Tx Qxxxx.AJT.ATx.J8 A.8xx.Jxx.AQxxxx KJT8.Qx.K8xx.K9x 0.75\n",
      "QJT.KJxx.QTx.9xx xxx.AQx.K98x.KJ8 A.8xx.Jxx.AQxxxx K98xxx.T9x.Axx.T 0.75\n",
      "K9xx.xx.9xxxx.9x J8xx.KQxx.AK8.8x A.8xx.Jxx.AQxxxx QTxx.AJT9.QT.KJT 0.75\n",
      "T8xxx.QJxx.A9x.x QJ9.AKx.KQxx.K9x A.8xx.Jxx.AQxxxx Kxxx.T9x.T8x.JT8 0.75\n"
     ]
    }
   ],
   "source": [
    "# we got some samples above. if we want more, we can always get more\n",
    "auction = [\"PASS\", \"1N\"]\n",
    "sample_hands, sorted_score, p_hcp, p_shp, good_quality = bot_bid.sample_hands_for_auction(auction,2)\n",
    "print(\"Good quality:\", good_quality)\n",
    "for i in range(min(10,sample_hands.shape[0])):\n",
    "    print(f'{hand_to_str(sample_hands[i, 0, :])} {hand_to_str(sample_hands[i, 1, :])} {hand_to_str(sample_hands[i, 2, :])} {hand_to_str(sample_hands[i, 3, :])} {sorted_score[i]:.2f}')"
   ]
  }
 ],
 "metadata": {
  "kernelspec": {
   "display_name": "Python 3 (ipykernel)",
   "language": "python",
   "name": "python3"
  },
  "language_info": {
   "codemirror_mode": {
    "name": "ipython",
    "version": 3
   },
   "file_extension": ".py",
   "mimetype": "text/x-python",
   "name": "python",
   "nbconvert_exporter": "python",
   "pygments_lexer": "ipython3",
   "version": "3.11.0"
  }
 },
 "nbformat": 4,
 "nbformat_minor": 5
}
