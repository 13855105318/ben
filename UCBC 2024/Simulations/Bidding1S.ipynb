{
 "cells": [
  {
   "cell_type": "markdown",
   "id": "75d07246",
   "metadata": {},
   "source": [
    "# Bidding\n",
    "\n",
    "This is a tutorial for how to use the bidding engine"
   ]
  },
  {
   "cell_type": "code",
   "execution_count": 1,
   "id": "59a5664c",
   "metadata": {},
   "outputs": [
    {
     "name": "stdout",
     "output_type": "stream",
     "text": [
      "WARNING:tensorflow:From c:\\Python311\\Lib\\site-packages\\tensorflow\\python\\compat\\v2_compat.py:107: disable_resource_variables (from tensorflow.python.ops.variable_scope) is deprecated and will be removed in a future version.\n",
      "Instructions for updating:\n",
      "non-resource variables are not supported in the long term\n",
      "INFO:tensorflow:Restoring parameters from ..\\Models/NS1EW99-bidding-10724000\n",
      "INFO:tensorflow:Restoring parameters from ..\\Models/NS1EW99-binfo-6131000\n",
      "INFO:tensorflow:Restoring parameters from ..\\Models/lead_suit-154000\n",
      "INFO:tensorflow:Restoring parameters from ..\\Models/lead_nt-59000\n",
      "INFO:tensorflow:Restoring parameters from ..\\Models/lr3-1000000\n",
      "INFO:tensorflow:Restoring parameters from ..\\Models/single_dummy-32768000\n",
      "INFO:tensorflow:Restoring parameters from ..\\Models/lefty-1000000\n",
      "INFO:tensorflow:Restoring parameters from ..\\Models/dummy-920000\n",
      "INFO:tensorflow:Restoring parameters from ..\\Models/righty-1000000\n",
      "INFO:tensorflow:Restoring parameters from ..\\Models/decl-1000000\n"
     ]
    }
   ],
   "source": [
    "import sys\n",
    "sys.path.append('../../src')\n",
    "\n",
    "from nn.models import Models\n",
    "from bots import BotBid\n",
    "from util import hand_to_str\n",
    "from sample import Sample\n",
    "import conf\n",
    "import numpy as np\n",
    "\n",
    "np.set_printoptions(precision=2, suppress=True, linewidth=200)\n",
    "np.random.seed(42)\n",
    "models = Models.from_conf(conf.load('../Conf/UCBC2024.conf'),'..')   # loading neural networks\n",
    "sampler = Sample.from_conf(conf.load('../Conf/UCBC2024.conf'), False)  # Load sampling strategies\n"
   ]
  },
  {
   "cell_type": "markdown",
   "id": "10d8f2fc",
   "metadata": {},
   "source": [
    "### Bidding"
   ]
  },
  {
   "cell_type": "code",
   "execution_count": 2,
   "id": "19dbfeb7",
   "metadata": {},
   "outputs": [
    {
     "data": {
      "text/plain": [
       "[{'call': 'PASS',\n",
       "  'insta_score': 0.958,\n",
       "  'expected_score': -123,\n",
       "  'adjustment': 48},\n",
       " {'call': '2C', 'insta_score': 0.038, 'expected_score': -138, 'adjustment': 2}]"
      ]
     },
     "execution_count": 2,
     "metadata": {},
     "output_type": "execute_result"
    }
   ],
   "source": [
    "vuln_ns, vuln_ew = False, True\n",
    "hand = 'A.8xx.Jxx.AQxxxx'\n",
    "\n",
    "auction = [\"1S\"]\n",
    "bot_bid = BotBid([vuln_ns, vuln_ew], hand, models, sampler, 1, False)\n",
    "\n",
    "bid = bot_bid.bid(auction)\n",
    "bid.to_dict()['candidates']\n",
    "\n",
    "# what's your bid?\n"
   ]
  },
  {
   "cell_type": "code",
   "execution_count": 3,
   "id": "f8eaf1c5",
   "metadata": {},
   "outputs": [
    {
     "data": {
      "text/plain": [
       "[{'call': 'X', 'insta_score': 0.943, 'expected_score': 71, 'adjustment': 47},\n",
       " {'call': 'PASS', 'insta_score': 0.047, 'expected_score': 21, 'adjustment': 2}]"
      ]
     },
     "execution_count": 3,
     "metadata": {},
     "output_type": "execute_result"
    }
   ],
   "source": [
    "auction = [\"1S\",\"PASS\",\"1N\",\"PASS\",\"2C\"]\n",
    "bot_bid = BotBid([vuln_ns, vuln_ew], hand, models, sampler, 1, False)\n",
    "\n",
    "bid = bot_bid.bid(auction)\n",
    "bid.to_dict()['candidates']\n"
   ]
  },
  {
   "cell_type": "code",
   "execution_count": 4,
   "id": "55b647a5",
   "metadata": {},
   "outputs": [
    {
     "name": "stdout",
     "output_type": "stream",
     "text": [
      "KQJxx.Q.Axx.K9xx A.8xx.Jxx.AQxxxx 8x.J9xx.KQ8x.JT8 T9xxx.AKTxx.T9x. 0.99947 \n",
      " 1S-P-1N-P-2C-X-P-P-P (6.2)  \n",
      " 1S-P-1N-P-2C-P-2S-P-P-P (6.6) \n",
      "Qxxxx.ATx.A.KJT8 A.8xx.Jxx.AQxxxx K8.KJ9x.QT98.9xx JT9xx.Qxx.Kxxxx. 0.99937 \n",
      " 1S-P-1N-P-2C-X-2S-P-P-P (7.6)  \n",
      " 1S-P-1N-P-2C-P-2S-P-P-P (7.6) \n",
      "KJ8xx.QTx.A.KJxx A.8xx.Jxx.AQxxxx Tx.Axx.KT98x.T98 Q9xxx.KJ9x.Qxxx. 0.99919 \n",
      " 1S-P-1N-P-2C-X-P-2H-P-P-P (6.7)  \n",
      " 1S-P-1N-P-2C-P-2S-P-P-P (6.9) \n",
      "KJxxx.A.KTx.KJ9x A.8xx.Jxx.AQxxxx xx.QJTxx.A9xx.8x QT98x.K9xx.Q8x.T 0.99895 \n",
      " 1S-P-1N-P-2C-X-P-P-P (6.3)  \n",
      " 1S-P-1N-P-2C-P-2S-P-P-P (7.5) \n",
      "K9xxx.x.KQx.KJ8x A.8xx.Jxx.AQxxxx 8x.QTxxx.AT8x.T9 QJTxx.AKJ9.9xx.x 0.99874 \n",
      " 1S-P-1N-P-2C-X-P-2H-P-P-P (8.1)  \n",
      " 1S-P-1N-P-2C-P-P-X-P-3C-P-3H-P-P-P (8.1) \n",
      "QJ9xx.A.ATx.KJT8 A.8xx.Jxx.AQxxxx Kx.KQJxx.9xxx.xx T8xxx.T9xx.KQ8.9 0.99873 \n",
      " 1S-P-1N-P-2C-X-P-P-P (6.2)  \n",
      " 1S-P-1N-P-2C-P-2S-P-P-P (7.7) \n",
      "QT9xx.Axx.K.KJxx A.8xx.Jxx.AQxxxx Kx.QT9x.QT8xx.T9 J8xxx.KJx.A9xx.8 0.99854 \n",
      " 1S-P-1N-P-2C-X-2S-P-P-P (6.3)  \n",
      " 1S-P-1N-P-2C-P-2S-P-P-P (6.3) \n",
      "KQTxx.xx.Ax.KJT8 A.8xx.Jxx.AQxxxx x.AKT9xx.Q8xx.xx J98xxx.QJ.KT9x.9 0.99842 \n",
      " 1S-P-1N-P-2C-X-2H-P-P-P (8.0)  \n",
      " 1S-P-1N-P-2C-P-2H-P-P-P (8.0) \n",
      "KQJ8x.x.AKQ.JT8x A.8xx.Jxx.AQxxxx xx.KQJ9x.Txxx.Kx T9xxx.ATxx.98x.9 0.99841 \n",
      " 1S-P-1N-P-2C-X-P-P-P (6.7)  \n",
      " 1S-P-1N-P-2C-P-2S-P-P-P (7.9) \n",
      "KQJTx.T9.Kx.KJ9x A.8xx.Jxx.AQxxxx x.Jxxxx.AQT9x.T8 98xxxx.AKQ.8xx.x 0.99813 \n",
      " 1S-P-1N-P-2C-X-P-P-P (5.0)  \n",
      " 1S-P-1N-P-2C-P-P-P (5.0) \n"
     ]
    }
   ],
   "source": [
    "### Samples consistent with the auction so far\n",
    "\n",
    "for i in range(min(10,len(bid.samples))):\n",
    "    print(bid.samples[i])\n"
   ]
  },
  {
   "cell_type": "markdown",
   "id": "7d0dd8f5",
   "metadata": {},
   "source": [
    "West always has the same cards because it's your hand and it's known to you"
   ]
  },
  {
   "cell_type": "code",
   "execution_count": 5,
   "id": "7101e514",
   "metadata": {},
   "outputs": [
    {
     "name": "stdout",
     "output_type": "stream",
     "text": [
      "T8xxx.KJx.KT9x.9 KQ.ATx.AQ8xx.Jxx A.8xx.Jxx.AQxxxx J9xxx.Q9xx.x.KT8 1.00\n",
      "9xx.xxxx.Qx.KT8x Jxx.AKT9.AK8x.J9 A.8xx.Jxx.AQxxxx KQT8xx.QJ.T9xx.x 1.00\n",
      "T9xx.QJ9.K9x.Txx KJ8.Kxxx.AQxx.K9 A.8xx.Jxx.AQxxxx Qxxxx.ATx.T8x.J8 1.00\n",
      "Qxx.T9xx.KTx.J9x KT8x.AKx.AQxx.T8 A.8xx.Jxx.AQxxxx J9xxx.QJx.98x.Kx 1.00\n",
      "T9xx.KJ.T9xx.T8x Qxx.AT9x.AK8x.Kx A.8xx.Jxx.AQxxxx KJ8xx.Qxxx.Qx.J9 1.00\n",
      "KT9xxx.Axxxx.xx. Qxx.KQ.A98xx.KJ8 A.8xx.Jxx.AQxxxx J8x.JT9.KQT.T9xx 0.98\n",
      "Qxxx.Axx.K9xx.J9 KJT9x.QT.AQT.K8x A.8xx.Jxx.AQxxxx 8xx.KJ9xx.8xx.Tx 0.35\n",
      "Kxxx.AJxx.Q9x.T8 JT8x.KQTx.AKx.KJ A.8xx.Jxx.AQxxxx Q9xx.9x.T8xx.9xx 1.00\n",
      "JTx.Txxx.Qxx.T9x Q9x.K9.AK9x.KJ8x A.8xx.Jxx.AQxxxx K8xxxx.AQJx.T8x. 1.00\n",
      "xxxx.Q9xx.9xx.Kx QJxx.AKx.AQxx.Tx A.8xx.Jxx.AQxxxx KT98.JTx.KT8.J98 1.00\n"
     ]
    }
   ],
   "source": [
    "# we got some samples above. if we want more, we can always get more\n",
    "auction = [\"PASS\", \"1N\"]\n",
    "sample_hands, sorted_score, p_hcp, p_shp = bot_bid.sample_hands_auction(auction)\n",
    "\n",
    "for i in range(min(10,sample_hands.shape[0])):\n",
    "    print(f'{hand_to_str(sample_hands[i, 0, :])} {hand_to_str(sample_hands[i, 1, :])} {hand_to_str(sample_hands[i, 2, :])} {hand_to_str(sample_hands[i, 3, :])} {sorted_score[i]:.2f}')"
   ]
  }
 ],
 "metadata": {
  "kernelspec": {
   "display_name": "Python 3 (ipykernel)",
   "language": "python",
   "name": "python3"
  },
  "language_info": {
   "codemirror_mode": {
    "name": "ipython",
    "version": 3
   },
   "file_extension": ".py",
   "mimetype": "text/x-python",
   "name": "python",
   "nbconvert_exporter": "python",
   "pygments_lexer": "ipython3",
   "version": "3.11.0"
  }
 },
 "nbformat": 4,
 "nbformat_minor": 5
}
