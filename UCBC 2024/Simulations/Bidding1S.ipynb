{
 "cells": [
  {
   "cell_type": "markdown",
   "id": "75d07246",
   "metadata": {},
   "source": [
    "# Bidding\n",
    "\n",
    "This is a tutorial for how to use the bidding engine"
   ]
  },
  {
   "cell_type": "code",
   "execution_count": 1,
   "id": "59a5664c",
   "metadata": {},
   "outputs": [
    {
     "name": "stdout",
     "output_type": "stream",
     "text": [
      "WARNING:tensorflow:From c:\\Python311\\Lib\\site-packages\\tensorflow\\python\\compat\\v2_compat.py:107: disable_resource_variables (from tensorflow.python.ops.variable_scope) is deprecated and will be removed in a future version.\n",
      "Instructions for updating:\n",
      "non-resource variables are not supported in the long term\n",
      "INFO:tensorflow:Restoring parameters from ..\\Models/NS1EW99-bidding-2584000\n",
      "INFO:tensorflow:Restoring parameters from ..\\Models/NS1EW99-binfo-6131000\n",
      "INFO:tensorflow:Restoring parameters from ..\\Models/lead_suit-154000\n",
      "INFO:tensorflow:Restoring parameters from ..\\Models/lead_nt-59000\n",
      "INFO:tensorflow:Restoring parameters from ..\\Models/lr3-1000000\n",
      "INFO:tensorflow:Restoring parameters from ..\\Models/single_dummy-32768000\n",
      "INFO:tensorflow:Restoring parameters from ..\\Models/lefty-1000000\n",
      "INFO:tensorflow:Restoring parameters from ..\\Models/dummy-920000\n",
      "INFO:tensorflow:Restoring parameters from ..\\Models/righty-1000000\n",
      "INFO:tensorflow:Restoring parameters from ..\\Models/decl-1000000\n"
     ]
    }
   ],
   "source": [
    "import sys\n",
    "sys.path.append('../../src')\n",
    "\n",
    "from nn.models import Models\n",
    "from bots import BotBid\n",
    "from util import hand_to_str\n",
    "from sample import Sample\n",
    "import conf\n",
    "import numpy as np\n",
    "\n",
    "np.set_printoptions(precision=2, suppress=True, linewidth=200)\n",
    "np.random.seed(42)\n",
    "models = Models.from_conf(conf.load('../Conf/UCBC2024.conf'),'..')   # loading neural networks\n",
    "sampler = Sample.from_conf(conf.load('../Conf/UCBC2024.conf'), False)  # Load sampling strategies\n"
   ]
  },
  {
   "cell_type": "markdown",
   "id": "10d8f2fc",
   "metadata": {},
   "source": [
    "### Bidding"
   ]
  },
  {
   "cell_type": "code",
   "execution_count": 2,
   "id": "19dbfeb7",
   "metadata": {},
   "outputs": [
    {
     "data": {
      "text/plain": [
       "[{'call': 'PASS', 'insta_score': 0.986}]"
      ]
     },
     "execution_count": 2,
     "metadata": {},
     "output_type": "execute_result"
    }
   ],
   "source": [
    "vuln_ns, vuln_ew = False, True\n",
    "hand = 'A.8xx.Jxx.AQxxxx'\n",
    "\n",
    "auction = [\"1S\"]\n",
    "bot_bid = BotBid([vuln_ns, vuln_ew], hand, models, sampler, False)\n",
    "\n",
    "bid = bot_bid.bid(auction)\n",
    "bid.to_dict()['candidates']\n",
    "\n",
    "# what's your bid?\n"
   ]
  },
  {
   "cell_type": "code",
   "execution_count": 3,
   "id": "f8eaf1c5",
   "metadata": {},
   "outputs": [
    {
     "data": {
      "text/plain": [
       "[{'call': 'X', 'insta_score': 0.893}]"
      ]
     },
     "execution_count": 3,
     "metadata": {},
     "output_type": "execute_result"
    }
   ],
   "source": [
    "auction = [\"1S\",\"PASS\",\"1N\",\"PASS\",\"2C\"]\n",
    "bot_bid = BotBid([vuln_ns, vuln_ew], hand, models, sampler, False)\n",
    "\n",
    "bid = bot_bid.bid(auction)\n",
    "bid.to_dict()['candidates']\n"
   ]
  },
  {
   "cell_type": "code",
   "execution_count": 4,
   "id": "55b647a5",
   "metadata": {},
   "outputs": [
    {
     "name": "stdout",
     "output_type": "stream",
     "text": [
      "K9xxx.AQ.Qx.KT9x A.8xx.Jxx.AQxxxx Q8.KJxx.T9xxx.Jx JTxxx.T9xx.AK8.8 0.99771\n",
      "KQ9xx.KQ.xx.KJT9 A.8xx.Jxx.AQxxxx x.JTxxx.AK9x.8xx JT8xxx.A9x.QT8x. 0.99759\n",
      "KJTxx.K9.KT.KJT8 A.8xx.Jxx.AQxxxx Qx.AQTxx.xxx.9xx 98xxx.Jxx.AQ98x. 0.99759\n",
      "K98xx.Jx.AQ.KJ8x A.8xx.Jxx.AQxxxx x.KQT9x.KT9xx.T9 QJTxxx.Axx.8xx.x 0.99750\n",
      "KQT9x.K.Q8x.KJ8x A.8xx.Jxx.AQxxxx x.Txxx.AKT9xx.T9 J8xxxx.AQJ9x.x.x 0.99734\n",
      "Qxxxx.ATx.A.KJT8 A.8xx.Jxx.AQxxxx K8.KJ9x.QT98.9xx JT9xx.Qxx.Kxxxx. 0.99676\n",
      "KJ8xx.K.AQ9.T8xx A.8xx.Jxx.AQxxxx Tx.AJxx.KTxxx.J9 Q9xxx.QT9xx.8x.K 0.99662\n",
      "KJ8xx.QTx.A.KJxx A.8xx.Jxx.AQxxxx Tx.Axx.KT98x.T98 Q9xxx.KJ9x.Qxxx. 0.99653\n",
      "KQJxx.KJx.8.KJTx A.8xx.Jxx.AQxxxx 9.Q9xx.KQT9xx.98 T8xxxx.ATx.Axx.x 0.99640\n",
      "KQJxx.Kx.8x.KJ9x A.8xx.Jxx.AQxxxx xx.AQJx.KTxxx.8x T98xx.T9xx.AQ9.T 0.99638\n"
     ]
    }
   ],
   "source": [
    "### Samples consistent with the auction so far\n",
    "\n",
    "for i in range(min(10,len(bid.samples))):\n",
    "    print(bid.samples[i])\n"
   ]
  },
  {
   "cell_type": "markdown",
   "id": "7d0dd8f5",
   "metadata": {},
   "source": [
    "West always has the same cards because it's your hand and it's known to you"
   ]
  },
  {
   "cell_type": "code",
   "execution_count": 5,
   "id": "7101e514",
   "metadata": {},
   "outputs": [
    {
     "name": "stdout",
     "output_type": "stream",
     "text": [
      "Qxx.Q9xx.AT9xx.T K9xxx.AKx.Q8.KJx A.8xx.Jxx.AQxxxx JT8x.JTx.Kxx.98x 0.69\n",
      "QJ8xx.AT9xx.T.98 KTx.KQJ.AKxx.Jxx A.8xx.Jxx.AQxxxx 9xxx.xx.Q98xx.KT 1.00\n",
      "T9xx.QT9.K8x.98x xx.AJxx.AQTx.KJx A.8xx.Jxx.AQxxxx KQJ8xx.Kxx.9xx.T 1.00\n",
      "T8xxx.AK9x.9x.Tx KJx.QTx.AK8xx.K9 A.8xx.Jxx.AQxxxx Q9xx.Jxx.QTx.J8x 0.99\n",
      "J9xx.Jxx.K9xx.JT Kxxx.AKQx.Q8x.K9 A.8xx.Jxx.AQxxxx QT8x.T9x.ATx.8xx 1.00\n",
      "8xxxx.KJ.Q9x.J8x QJx.AQx.AKxx.T9x A.8xx.Jxx.AQxxxx KT9x.T9xxx.T8x.K 1.00\n",
      "Kxxxx.Txx.8xx.T8 Q9x.AQx.AQT9.Kxx A.8xx.Jxx.AQxxxx JT8x.KJ9x.Kxx.J9 1.00\n",
      "QJ98.JTxxx.AQ.Tx KTx.AKQ.T98xx.Kx A.8xx.Jxx.AQxxxx xxxxx.9x.Kxx.J98 1.00\n",
      "JTxxxx.x.QT8x.Jx K9x.KQJxx.AKx.Tx A.8xx.Jxx.AQxxxx Q8x.AT9x.9xx.K98 0.47\n",
      "KQTx.QJT9.xxx.J8 J9xx.AK.KQT8.KTx A.8xx.Jxx.AQxxxx 8xxx.xxxx.A9x.9x 1.00\n"
     ]
    }
   ],
   "source": [
    "# we got some samples above. if we want more, we can always get more\n",
    "auction = [\"PASS\", \"1N\"]\n",
    "sample_hands, sorted_score, p_hcp, p_shp = bot_bid.sample_hands_auction(auction)\n",
    "\n",
    "for i in range(min(10,sample_hands.shape[0])):\n",
    "    print(f'{hand_to_str(sample_hands[i, 0, :])} {hand_to_str(sample_hands[i, 1, :])} {hand_to_str(sample_hands[i, 2, :])} {hand_to_str(sample_hands[i, 3, :])} {sorted_score[i]:.2f}')"
   ]
  }
 ],
 "metadata": {
  "kernelspec": {
   "display_name": "Python 3 (ipykernel)",
   "language": "python",
   "name": "python3"
  },
  "language_info": {
   "codemirror_mode": {
    "name": "ipython",
    "version": 3
   },
   "file_extension": ".py",
   "mimetype": "text/x-python",
   "name": "python",
   "nbconvert_exporter": "python",
   "pygments_lexer": "ipython3",
   "version": "3.11.0"
  }
 },
 "nbformat": 4,
 "nbformat_minor": 5
}
