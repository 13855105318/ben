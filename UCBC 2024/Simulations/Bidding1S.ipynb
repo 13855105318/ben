{
 "cells": [
  {
   "cell_type": "markdown",
   "id": "75d07246",
   "metadata": {},
   "source": [
    "# Bidding\n",
    "\n",
    "This is a tutorial for how to use the bidding engine"
   ]
  },
  {
   "cell_type": "code",
   "execution_count": 1,
   "id": "59a5664c",
   "metadata": {},
   "outputs": [
    {
     "name": "stdout",
     "output_type": "stream",
     "text": [
      "WARNING:tensorflow:From c:\\Python311\\Lib\\site-packages\\tensorflow\\python\\compat\\v2_compat.py:107: disable_resource_variables (from tensorflow.python.ops.variable_scope) is deprecated and will be removed in a future version.\n",
      "Instructions for updating:\n",
      "non-resource variables are not supported in the long term\n",
      "INFO:tensorflow:Restoring parameters from ..\\Models/NS1EW99-bidding_same-278000\n",
      "INFO:tensorflow:Restoring parameters from ..\\Models/NS1EW99-binfo_same-278000\n",
      "INFO:tensorflow:Restoring parameters from ..\\Models/lead_suit-154000\n",
      "INFO:tensorflow:Restoring parameters from ..\\Models/lead_nt-59000\n",
      "INFO:tensorflow:Restoring parameters from ..\\Models/lr3-1000000\n",
      "INFO:tensorflow:Restoring parameters from ..\\Models/single_dummy-32768000\n",
      "INFO:tensorflow:Restoring parameters from ..\\Models/lefty-1000000\n",
      "INFO:tensorflow:Restoring parameters from ..\\Models/dummy-920000\n",
      "INFO:tensorflow:Restoring parameters from ..\\Models/righty-1000000\n",
      "INFO:tensorflow:Restoring parameters from ..\\Models/decl-1000000\n"
     ]
    }
   ],
   "source": [
    "import sys\n",
    "sys.path.append('../../src')\n",
    "\n",
    "from nn.models import Models\n",
    "from bots import BotBid\n",
    "from util import hand_to_str\n",
    "from sample import Sample\n",
    "import conf\n",
    "import numpy as np\n",
    "\n",
    "np.set_printoptions(precision=2, suppress=True, linewidth=200)\n",
    "np.random.seed(42)\n",
    "models = Models.from_conf(conf.load('../Conf/UCBC2024.conf'),'..')   # loading neural networks\n",
    "sampler = Sample.from_conf(conf.load('../Conf/UCBC2024.conf'), False)  # Load sampling strategies\n"
   ]
  },
  {
   "cell_type": "markdown",
   "id": "10d8f2fc",
   "metadata": {},
   "source": [
    "### Bidding"
   ]
  },
  {
   "cell_type": "code",
   "execution_count": 2,
   "id": "19dbfeb7",
   "metadata": {},
   "outputs": [
    {
     "data": {
      "text/plain": [
       "[{'call': '2C',\n",
       "  'insta_score': 0.621,\n",
       "  'expected_score': -131,\n",
       "  'adjustment': 31},\n",
       " {'call': 'PASS',\n",
       "  'insta_score': 0.375,\n",
       "  'expected_score': -133,\n",
       "  'adjustment': 19}]"
      ]
     },
     "execution_count": 2,
     "metadata": {},
     "output_type": "execute_result"
    }
   ],
   "source": [
    "vuln_ns, vuln_ew = False, True\n",
    "hand = 'A.8xx.Jxx.AQxxxx'\n",
    "\n",
    "auction = [\"1S\"]\n",
    "bot_bid = BotBid([vuln_ns, vuln_ew], hand, models, sampler, 1, 0, False)\n",
    "\n",
    "bid = bot_bid.bid(auction)\n",
    "bid.to_dict()['candidates']\n",
    "\n",
    "# what's your bid?\n"
   ]
  },
  {
   "cell_type": "code",
   "execution_count": 3,
   "id": "f8eaf1c5",
   "metadata": {},
   "outputs": [
    {
     "data": {
      "text/plain": [
       "[{'call': 'X', 'insta_score': 0.892, 'expected_score': 3, 'adjustment': 45},\n",
       " {'call': 'PASS', 'insta_score': 0.107, 'expected_score': 15, 'adjustment': 5}]"
      ]
     },
     "execution_count": 3,
     "metadata": {},
     "output_type": "execute_result"
    }
   ],
   "source": [
    "auction = [\"1S\",\"PASS\",\"1N\",\"PASS\",\"2C\"]\n",
    "bot_bid = BotBid([vuln_ns, vuln_ew], hand, models, sampler, 1, 0, False)\n",
    "\n",
    "bid = bot_bid.bid(auction)\n",
    "bid.to_dict()['candidates']\n"
   ]
  },
  {
   "cell_type": "code",
   "execution_count": 4,
   "id": "55b647a5",
   "metadata": {},
   "outputs": [
    {
     "name": "stdout",
     "output_type": "stream",
     "text": [
      "Kxxxx.A.KTx.KJ9x A.8xx.Jxx.AQxxxx xx.QJTxx.A9xx.8x QJT98.K9xx.Q8x.T 0.99870 \n",
      " 1S-P-1N-P-2C-X-2S-P-P-P (6.7)  \n",
      " 1S-P-1N-P-2C-P-2S-P-P-P (6.7) \n",
      "Qxxxx.ATx.A.KJT8 A.8xx.Jxx.AQxxxx K8.KJ9x.QT98.9xx JT9xx.Qxx.Kxxxx. 0.99868 \n",
      " 1S-P-1N-P-2C-X-P-2D-P-P-P (6.6)  \n",
      " 1S-P-1N-P-2C-P-2S-P-P-P (7.6) \n",
      "KQ8xx.AJ.8x.KJTx A.8xx.Jxx.AQxxxx 9x.Kxxxx.A9x.98x JTxxx.QT9.KQTxx. 0.99861 \n",
      " 1S-P-1N-P-2C-X-P-2D-P-P-P (8.5)  \n",
      " 1S-P-1N-P-2C-P-2S-P-P-P (6.5) \n",
      "KJ9xx.AQx.K.JT8x A.8xx.Jxx.AQxxxx 8x.T9xx.AQxx.K9x QTxxx.KJx.T98xx. 0.99851 \n",
      " 1S-P-1N-P-2C-X-P-2D-P-P-P (6.5)  \n",
      " 1S-P-1N-P-2C-P-2S-P-P-P (7.8) \n",
      "K98xx.Jx.AQ.KJ8x A.8xx.Jxx.AQxxxx x.KQT9x.KT9xx.T9 QJTxxx.Axx.8xx.x 0.99846 \n",
      " 1S-P-1N-P-2C-X-P-P-P (6.4)  \n",
      " 1S-P-1N-P-2C-P-P-P (6.4) \n",
      "QJ98x.AK.Kx.JT9x A.8xx.Jxx.AQxxxx Tx.Txxx.AQTxx.Kx Kxxxx.QJ9x.98x.8 0.99834 \n",
      " 1S-P-1N-P-2C-X-2S-P-P-P (7.9)  \n",
      " 1S-P-1N-P-2C-P-2S-P-P-P (7.9) \n",
      "KQJTx.A.KTx.J8xx A.8xx.Jxx.AQxxxx xx.KQxx.Q8xx.KT9 98xxx.JT9xx.A9x. 0.99830 \n",
      " 1S-P-1N-P-2C-X-2S-P-P-P (7.5)  \n",
      " 1S-P-1N-P-2C-P-2S-P-P-P (7.5) \n",
      "KJTxx.K9.KT.KJT8 A.8xx.Jxx.AQxxxx Qx.AQTxx.xxx.9xx 98xxx.Jxx.AQ98x. 0.99822 \n",
      " 1S-P-1N-P-2C-X-P-2D-P-P-P (8.1)  \n",
      " 1S-P-1N-P-2C-P-2S-P-P-P (6.9) \n",
      "QT8xx.KQ.A9.KT98 A.8xx.Jxx.AQxxxx Kx.T9xx.KQTxx.Jx J9xxx.AJxx.8xx.x 0.99816 \n",
      " 1S-P-1N-P-2C-X-2S-P-P-P (7.5)  \n",
      " 1S-P-1N-P-2C-P-2S-P-P-P (7.5) \n",
      "KJ8xx.QTx.A.KJxx A.8xx.Jxx.AQxxxx Tx.Axx.KT98x.T98 Q9xxx.KJ9x.Qxxx. 0.99783 \n",
      " 1S-P-1N-P-2C-X-2S-P-P-P (6.9)  \n",
      " 1S-P-1N-P-2C-P-2S-P-P-P (6.9) \n"
     ]
    }
   ],
   "source": [
    "### Samples consistent with the auction so far\n",
    "\n",
    "for i in range(min(10,len(bid.samples))):\n",
    "    print(bid.samples[i])\n"
   ]
  },
  {
   "cell_type": "markdown",
   "id": "7d0dd8f5",
   "metadata": {},
   "source": [
    "West always has the same cards because it's your hand and it's known to you"
   ]
  },
  {
   "cell_type": "code",
   "execution_count": 5,
   "id": "7101e514",
   "metadata": {},
   "outputs": [
    {
     "name": "stdout",
     "output_type": "stream",
     "text": [
      "98x.9xxxx.Qxx.T9 KQJx.AKJT.8x.KJ8 A.8xx.Jxx.AQxxxx Txxxx.Q.AKT9x.xx 0.63\n",
      "9xx.AQTx.T9xxx.8 KQTx.Jx.AQx.KT9x A.8xx.Jxx.AQxxxx J8xxx.K9xx.K8.Jx 0.99\n",
      "QJT8xx.Tx.9x.JT9 Kx.KQxx.A8xx.Kxx A.8xx.Jxx.AQxxxx 9xxx.AJ9x.KQTx.8 0.62\n",
      "JT8xxx.T9x.KT.Tx Qxx.AQx.Axxx.K8x A.8xx.Jxx.AQxxxx K9x.KJxx.Q98x.J9 0.97\n",
      "8xxxx.xx.AQx.J8x KQx.AKTxx.9xx.K9 A.8xx.Jxx.AQxxxx JT9x.QJ9.KT8x.Tx 0.27\n",
      "J9xx.QJ9x.Tx.T9x KQxx.Kx.K8xx.KJx A.8xx.Jxx.AQxxxx T8xx.ATxx.AQ9x.8 0.98\n",
      "QTxxx.Ax.Q8xxx.8 K9x.KT.AKT9.KT9x A.8xx.Jxx.AQxxxx J8xx.QJ9xxx.x.Jx 1.00\n",
      "Txxx.9xx.A8xx.T8 QJ9x.AKx.Qx.KJ9x A.8xx.Jxx.AQxxxx K8xx.QJTx.KT9x.x 1.00\n",
      "8xxx.QJxx.9xx.8x K9xx.KT.AQx.KJT9 A.8xx.Jxx.AQxxxx QJTx.A9xx.KT8x.x 1.00\n",
      "8xx.Txx.9xx.T9xx JTxx.AKJ9.A8x.KJ A.8xx.Jxx.AQxxxx KQ9xx.Qxx.KQTx.8 1.00\n"
     ]
    }
   ],
   "source": [
    "# we got some samples above. if we want more, we can always get more\n",
    "auction = [\"PASS\", \"1N\"]\n",
    "sample_hands, sorted_score, p_hcp, p_shp, good_quality = bot_bid.sample_hands_for_auction(auction,2)\n",
    "print(\"Good quality:\", good_quality)\n",
    "for i in range(min(10,sample_hands.shape[0])):\n",
    "    print(f'{hand_to_str(sample_hands[i, 0, :])} {hand_to_str(sample_hands[i, 1, :])} {hand_to_str(sample_hands[i, 2, :])} {hand_to_str(sample_hands[i, 3, :])} {sorted_score[i]:.2f}')"
   ]
  }
 ],
 "metadata": {
  "kernelspec": {
   "display_name": "Python 3 (ipykernel)",
   "language": "python",
   "name": "python3"
  },
  "language_info": {
   "codemirror_mode": {
    "name": "ipython",
    "version": 3
   },
   "file_extension": ".py",
   "mimetype": "text/x-python",
   "name": "python",
   "nbconvert_exporter": "python",
   "pygments_lexer": "ipython3",
   "version": "3.11.0"
  }
 },
 "nbformat": 4,
 "nbformat_minor": 5
}
