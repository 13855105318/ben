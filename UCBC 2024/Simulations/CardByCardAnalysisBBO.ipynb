{
 "cells": [
  {
   "cell_type": "markdown",
   "id": "21a4c878",
   "metadata": {},
   "source": [
    "# Detailed Analysis (Bid by Bid, Card by Card)\n",
    "\n",
    "This is a tutorial of how to do a detailed analysis of a played board.\n",
    "\n",
    "The engine looks at the bidding and play as it originally happened, and does an analysis for every bid and every card played.\n",
    "\n",
    "The analysis is not just a double-dummy analysis for the exact current layout (like if you would press the \"GIB\" button on BBO). Instead, it's an analysis over many different possible layouts (samples)."
   ]
  },
  {
   "cell_type": "code",
   "execution_count": 1,
   "id": "16f73f71",
   "metadata": {},
   "outputs": [],
   "source": [
    "import sys\n",
    "import os\n",
    "sys.path.append('../../src')\n",
    "os.environ['BEN_HOME'] = \"../..\"\n",
    "\n",
    "from nn.models import Models\n",
    "from analysis import CardByCard\n",
    "from util import parse_lin, display_lin\n",
    "from sample import Sample\n",
    "import conf\n",
    "import numpy as np\n",
    "\n",
    "np.set_printoptions(precision=2, suppress=True, linewidth=200)\n",
    "np.random.seed(42)\n"
   ]
  },
  {
   "cell_type": "code",
   "execution_count": 2,
   "id": "ca7fa897",
   "metadata": {},
   "outputs": [
    {
     "name": "stdout",
     "output_type": "stream",
     "text": [
      "WARNING:tensorflow:From c:\\Python311\\Lib\\site-packages\\tensorflow\\python\\compat\\v2_compat.py:107: disable_resource_variables (from tensorflow.python.ops.variable_scope) is deprecated and will be removed in a future version.\n",
      "Instructions for updating:\n",
      "non-resource variables are not supported in the long term\n",
      "INFO:tensorflow:Restoring parameters from ..\\Models/NS1EW99-bidding_same-5556000\n",
      "INFO:tensorflow:Restoring parameters from ..\\Models/NS1EW99-binfo_same-5556000\n",
      "INFO:tensorflow:Restoring parameters from ..\\Models/lead_suit-999000\n",
      "INFO:tensorflow:Restoring parameters from ..\\Models/lead_nt-475000\n",
      "INFO:tensorflow:Restoring parameters from ..\\Models/Jack/lr3-1000000\n",
      "INFO:tensorflow:Restoring parameters from ..\\Models/single_dummy-32768000\n",
      "INFO:tensorflow:Restoring parameters from ..\\Models/jack/lefty-1000000\n",
      "INFO:tensorflow:Restoring parameters from ..\\Models/jack/dummy-920000\n",
      "INFO:tensorflow:Restoring parameters from ..\\Models/jack/righty-1000000\n",
      "INFO:tensorflow:Restoring parameters from ..\\Models/jack/decl-1000000\n",
      "INFO:tensorflow:Restoring parameters from ..\\Models/jack/lefty-1000000\n",
      "INFO:tensorflow:Restoring parameters from ..\\Models/jack/dummy-920000\n",
      "INFO:tensorflow:Restoring parameters from ..\\Models/jack/righty-1000000\n",
      "INFO:tensorflow:Restoring parameters from ..\\Models/jack/decl-1000000\n"
     ]
    }
   ],
   "source": [
    "models = Models.from_conf(conf.load('../Conf/UCBC2024.conf'),'..')   # loading neural networks\n",
    "sampler = Sample.from_conf(conf.load('../Conf/UCBC2024.conf'), False)  # Load sampling strategies\n"
   ]
  },
  {
   "cell_type": "markdown",
   "id": "994e8878",
   "metadata": {},
   "source": [
    "## Analyzing a board played on BBO"
   ]
  },
  {
   "cell_type": "code",
   "execution_count": 3,
   "id": "cdd0edee",
   "metadata": {},
   "outputs": [],
   "source": [
    "# copy-paste from the hand records (in lin format)\n",
    "\n",
    "lin = 'pn|You,~~M7228oka,~~M72302cm,~~M72316sq|st||md|1S4TKHJD68QC679TKA,S35H479TQKD24TAC8,S2789H3AD379JKC35,|rh||ah|Board 3|sv|e|mb|1C|an|Minor suit opening -- 3+ !C; 11-21 HCP; 12-22 total points|mb|2H|an|Aggressive weak jump overcall -- 6+ !H; 4-10 HCP |mb|d|an|Negative double -- 4+ !S; 7+ HCP; 8+ total points |mb|4H|an|The Law: 10 trump -> game support -- 4+ total points |mb|4S|an|3+ !C; 4+ !S; 16-21 HCP; 17-22 total points|mb|p|mb|p|mb|p|pg||pc|DA|pc|D3|pc|D5|pc|D6|pg||pc|C8|pc|C3|pc|CJ|pc|CA|pg||pc|S4|pc|S5|pc|S8|pc|SJ|pg||pc|H5|pc|HJ|pc|HQ|pc|HA|pg||pc|S2|pc|SA|pc|ST|pc|S3|pg||pc|H2|pc|SK|pc|H4|pc|H3|pg||pc|D8|pc|D2|pc|DJ|pc|S6|pg||pc|SQ|pc|C6|pc|H7|pc|S7|pg||pc|H8|pc|C7|pc|HK|pc|S9|pg||pc|C5|pc|C2|pc|CT|pc|HT|pg||pc|CK|pc|H9|pc|D7|pc|C4|pg||pc|DQ|pc|D4|pc|DK|pc|H6|pg||pc|D9|pc|CQ|pc|C9|pc|DT|pg||'"
   ]
  },
  {
   "cell_type": "code",
   "execution_count": 4,
   "id": "86ccd5f5",
   "metadata": {},
   "outputs": [
    {
     "data": {
      "text/html": [
       "<iframe width=\"800\" height=\"600\" src=\"http://bridgebase.com/tools/handviewer.html?lin=pn|You,~~M7228oka,~~M72302cm,~~M72316sq|st||md|1S4TKHJD68QC679TKA,S35H479TQKD24TAC8,S2789H3AD379JKC35,|rh||ah|Board 3|sv|e|mb|1C|an|Minor suit opening -- 3+ !C; 11-21 HCP; 12-22 total points|mb|2H|an|Aggressive weak jump overcall -- 6+ !H; 4-10 HCP |mb|d|an|Negative double -- 4+ !S; 7+ HCP; 8+ total points |mb|4H|an|The Law: 10 trump -> game support -- 4+ total points |mb|4S|an|3+ !C; 4+ !S; 16-21 HCP; 17-22 total points|mb|p|mb|p|mb|p|pg||pc|DA|pc|D3|pc|D5|pc|D6|pg||pc|C8|pc|C3|pc|CJ|pc|CA|pg||pc|S4|pc|S5|pc|S8|pc|SJ|pg||pc|H5|pc|HJ|pc|HQ|pc|HA|pg||pc|S2|pc|SA|pc|ST|pc|S3|pg||pc|H2|pc|SK|pc|H4|pc|H3|pg||pc|D8|pc|D2|pc|DJ|pc|S6|pg||pc|SQ|pc|C6|pc|H7|pc|S7|pg||pc|H8|pc|C7|pc|HK|pc|S9|pg||pc|C5|pc|C2|pc|CT|pc|HT|pg||pc|CK|pc|H9|pc|D7|pc|C4|pg||pc|DQ|pc|D4|pc|DK|pc|H6|pg||pc|D9|pc|CQ|pc|C9|pc|DT|pg||\" />"
      ],
      "text/plain": [
       "<IPython.core.display.HTML object>"
      ]
     },
     "execution_count": 4,
     "metadata": {},
     "output_type": "execute_result"
    }
   ],
   "source": [
    "display_lin(lin)"
   ]
  },
  {
   "cell_type": "code",
   "execution_count": 5,
   "id": "8fa74a29",
   "metadata": {},
   "outputs": [
    {
     "name": "stdout",
     "output_type": "stream",
     "text": [
      "Board(dealer='S', vuln=[False, True], hands=['9872.A3.KJ973.53', 'AQJ6.5826.5.4Q2J', 'KT4.J.Q86.AKT976', '53.KQT974.AT42.8'], auction=['1C', '2H', 'X', '4H', '4S', 'PASS', 'PASS', 'PASS'], play=['DA', 'D3', 'D5', 'D6', 'C8', 'C3', 'CJ', 'CA', 'S4', 'S5', 'S8', 'SJ', 'H5', 'HJ', 'HQ', 'HA', 'S2', 'SA', 'ST', 'S3', 'H2', 'SK', 'H4', 'H3', 'D8', 'D2', 'DJ', 'S6', 'SQ', 'C6', 'H7', 'S7', 'H8', 'C7', 'HK', 'S9', 'C5', 'C2', 'CT', 'HT', 'CK', 'H9', 'D7', 'C4', 'DQ', 'D4', 'DK', 'H6', 'D9', 'CQ', 'C9', 'DT'])\n"
     ]
    }
   ],
   "source": [
    "board = parse_lin(lin)\n",
    "print(board)"
   ]
  },
  {
   "cell_type": "code",
   "execution_count": 6,
   "id": "fb875929",
   "metadata": {},
   "outputs": [],
   "source": [
    "card_by_card = CardByCard(*board, models, sampler, False)"
   ]
  },
  {
   "cell_type": "code",
   "execution_count": 7,
   "id": "49c15172",
   "metadata": {},
   "outputs": [
    {
     "name": "stdout",
     "output_type": "stream",
     "text": [
      "analyzing the bidding\n"
     ]
    },
    {
     "name": "stdout",
     "output_type": "stream",
     "text": [
      "1C OK NN-value: 1.000\n"
     ]
    },
    {
     "name": "stderr",
     "output_type": "stream",
     "text": [
      "Loaded lib dds.dll\n"
     ]
    },
    {
     "name": "stdout",
     "output_type": "stream",
     "text": [
      "2H OK NN-value: 0.845\n",
      "X Suggested bid from NN: CandidateBid(bid=PASS, insta_score=0.5855, expected_score=61.35, adjust=  29)\n",
      "X NN-values:CandidateBid(bid=X   , insta_score=0.4109, expected_score=17.55, adjust=  21)\n",
      "4H OK NN-value: 0.431\n",
      "4S Suggested bid from NN: CandidateBid(bid=X   , insta_score=0.3774, expected_score=631.00, adjust=  19)\n",
      "4S is not in the bids from the neural network\n",
      "PASS OK NN-value: 0.953\n",
      "PASS OK NN-value: 0.939\n",
      "PASS OK NN-value: 0.687\n",
      "analyzing opening lead\n",
      "DA\n",
      "DA OK\n",
      "analyzing play\n",
      "D3 OK\n",
      "D5 OK\n",
      "D6 OK\n",
      "C8 OK\n",
      "C3 OK\n",
      "CJ ? losing: 0.43\n",
      "CA OK\n",
      "S4 OK\n",
      "S5 OK\n",
      "S8 OK\n",
      "SJ OK\n",
      "H5 OK\n",
      "HJ OK\n",
      "HQ OK\n",
      "HA OK\n",
      "S2 ? losing: 0.28\n",
      "SA OK\n",
      "ST OK\n",
      "S3 OK\n",
      "H2 OK\n",
      "SK OK\n",
      "H4 OK\n",
      "H3 OK\n",
      "D8 OK\n",
      "D2 OK\n",
      "DJ OK\n",
      "S6 OK\n",
      "SQ OK\n",
      "C6 OK\n",
      "H7 OK\n",
      "S7 OK\n",
      "H8 OK\n",
      "C7 OK\n",
      "HK OK\n",
      "S9 OK\n",
      "C5 OK\n",
      "C2 OK\n",
      "CT OK\n",
      "HT OK\n",
      "CK OK\n",
      "H9 OK\n",
      "D7 OK\n",
      "C4 OK\n",
      "DQ OK\n",
      "D4 OK\n",
      "DK OK\n",
      "H6 OK\n"
     ]
    }
   ],
   "source": [
    "await card_by_card.analyze()"
   ]
  },
  {
   "cell_type": "markdown",
   "id": "bf465259",
   "metadata": {},
   "source": [
    "the engine agrees with the bidding, but didn't like something in the cardplay.\n",
    "\n",
    "playing `S4` from hand is the first mistake. apparently this play drops almost half a trick on average."
   ]
  },
  {
   "cell_type": "code",
   "execution_count": 8,
   "id": "d79d9389",
   "metadata": {},
   "outputs": [
    {
     "data": {
      "text/plain": [
       "{'card': 'CQ',\n",
       " 'hcp': [7.3, 12.6],\n",
       " 'shape': [1.1, 6.1, 4.0, 1.9, 3.8, 1.4, 2.9, 5.0],\n",
       " 'candidates': [{'card': 'CQ',\n",
       "   'insta_score': 0.399,\n",
       "   'expected_tricks_dd': 2.0,\n",
       "   'p_make_contract': 1.0,\n",
       "   'expected_score_dd': 50},\n",
       "  {'card': 'H2',\n",
       "   'insta_score': 0.197,\n",
       "   'expected_tricks_dd': 2.0,\n",
       "   'p_make_contract': 1.0,\n",
       "   'expected_score_dd': 50},\n",
       "  {'card': 'H6',\n",
       "   'insta_score': 0.197,\n",
       "   'expected_tricks_dd': 2.0,\n",
       "   'p_make_contract': 1.0,\n",
       "   'expected_score_dd': 50},\n",
       "  {'card': 'H5',\n",
       "   'insta_score': 0.197,\n",
       "   'expected_tricks_dd': 2.0,\n",
       "   'p_make_contract': 1.0,\n",
       "   'expected_score_dd': 50},\n",
       "  {'card': 'C2',\n",
       "   'insta_score': 0.15,\n",
       "   'expected_tricks_dd': 2.0,\n",
       "   'p_make_contract': 1.0,\n",
       "   'expected_score_dd': 50},\n",
       "  {'card': 'C4',\n",
       "   'insta_score': 0.15,\n",
       "   'expected_tricks_dd': 2.0,\n",
       "   'p_make_contract': 1.0,\n",
       "   'expected_score_dd': 50},\n",
       "  {'card': 'H8',\n",
       "   'insta_score': 0.197,\n",
       "   'expected_tricks_dd': 2.0,\n",
       "   'p_make_contract': 1.0,\n",
       "   'expected_score_dd': 50},\n",
       "  {'card': 'SA',\n",
       "   'insta_score': 0.124,\n",
       "   'expected_tricks_dd': 2.0,\n",
       "   'p_make_contract': 1.0,\n",
       "   'expected_score_dd': 50},\n",
       "  {'card': 'SJ',\n",
       "   'insta_score': 0.008,\n",
       "   'expected_tricks_dd': 2.0,\n",
       "   'p_make_contract': 1.0,\n",
       "   'expected_score_dd': 50},\n",
       "  {'card': 'CJ',\n",
       "   'insta_score': 0.0,\n",
       "   'expected_tricks_dd': 2.0,\n",
       "   'p_make_contract': 1.0,\n",
       "   'expected_score_dd': 50},\n",
       "  {'card': 'SQ',\n",
       "   'insta_score': 0.0,\n",
       "   'expected_tricks_dd': 2.0,\n",
       "   'p_make_contract': 1.0,\n",
       "   'expected_score_dd': 50}],\n",
       " 'samples': ['x.QJT9xx.ATxx.T9 98xx.Ax.KJ9xx.xx AQJx.8xxx.x.QJxx KTxx.K.Q8x.AK8xx 0.59581',\n",
       "  'x.QJT9xx.ATxx.Tx 98xx.Ax.KJ9xx.xx AQJx.8xxx.x.QJxx KTxx.K.Q8x.AK98x 0.59075',\n",
       "  'T.KJT9xx.AQTxx.x 98xx.Ax.KJ9xx.xx AQJx.8xxx.x.QJxx Kxxx.Q.8x.AKT98x 0.58726',\n",
       "  'T.KJT9xx.AQTxx.9 98xx.Ax.KJ9xx.xx AQJx.8xxx.x.QJxx Kxxx.Q.8x.AKT8xx 0.58519',\n",
       "  'x.KJT9xx.AQTxx.9 98xx.Ax.KJ9xx.xx AQJx.8xxx.x.QJxx KTxx.Q.8x.AKT8xx 0.57328',\n",
       "  'x.KJT9xx.AQTxx.x 98xx.Ax.KJ9xx.xx AQJx.8xxx.x.QJxx KTxx.Q.8x.AKT98x 0.56912',\n",
       "  'x.KJT9xx.ATxx.8x 98xx.Ax.KJ9xx.xx AQJx.8xxx.x.QJxx KTxx.Q.Q8x.AKT9x 0.48297',\n",
       "  'T.KJT9xx.ATxx.xx 98xx.Ax.KJ9xx.xx AQJx.8xxx.x.QJxx Kxxx.Q.Q8x.AKT98 0.47158',\n",
       "  'x.QJT9xx.AQTx.T9 98xx.Ax.KJ9xx.xx AQJx.8xxx.x.QJxx KTxx.K.8xx.AK8xx 0.44880',\n",
       "  'x.QJT9xx.AQxx.T8 98xx.Ax.KJ9xx.xx AQJx.8xxx.x.QJxx KTxx.K.T8x.AK9xx 0.44773',\n",
       "  'x.QJT9xx.AQTx.8x 98xx.Ax.KJ9xx.xx AQJx.8xxx.x.QJxx KTxx.K.8xx.AKT9x 0.44840',\n",
       "  'T.QJT9xx.AQTx.8x 98xx.Ax.KJ9xx.xx AQJx.8xxx.x.QJxx Kxxx.K.8xx.AKT9x 0.44718',\n",
       "  'x.QJT9xx.AQTx.Tx 98xx.Ax.KJ9xx.xx AQJx.8xxx.x.QJxx KTxx.K.8xx.AK98x 0.44665',\n",
       "  'T.QJT9xx.AQxx.T9 98xx.Ax.KJ9xx.xx AQJx.8xxx.x.QJxx Kxxx.K.T8x.AK8xx 0.44583',\n",
       "  'x.QJT9xx.AQxx.T9 98xx.Ax.KJ9xx.xx AQJx.8xxx.x.QJxx KTxx.K.T8x.AK8xx 0.44584',\n",
       "  'T.QJT9xx.AQxx.Tx 98xx.Ax.KJ9xx.xx AQJx.8xxx.x.QJxx Kxxx.K.T8x.AK98x 0.44396',\n",
       "  'x.QJT9xx.AQTx.9x 98xx.Ax.KJ9xx.xx AQJx.8xxx.x.QJxx KTxx.K.8xx.AKT8x 0.44417',\n",
       "  'x.QJT9xx.AQxx.Tx 98xx.Ax.KJ9xx.xx AQJx.8xxx.x.QJxx KTxx.K.T8x.AK98x 0.44396',\n",
       "  'T.QJT9xx.AQTx.9x 98xx.Ax.KJ9xx.xx AQJx.8xxx.x.QJxx Kxxx.K.8xx.AKT8x 0.44281',\n",
       "  'x.QJT9xx.AQxx.8x 98xx.Ax.KJ9xx.xx AQJx.8xxx.x.QJxx KTxx.K.T8x.AKT9x 0.44317']}"
      ]
     },
     "execution_count": 8,
     "metadata": {},
     "output_type": "execute_result"
    }
   ],
   "source": [
    "card_by_card.cards['S4'].to_dict()"
   ]
  },
  {
   "cell_type": "markdown",
   "id": "760b7b2f",
   "metadata": {},
   "source": [
    "the opening lead of `DA` is interesting. the engine prefers the `HK` and it's the only card it considers."
   ]
  },
  {
   "cell_type": "code",
   "execution_count": 9,
   "id": "00c728a0",
   "metadata": {},
   "outputs": [
    {
     "data": {
      "text/plain": [
       "{'card': 'DA',\n",
       " 'quality': 'Good',\n",
       " 'hcp': [4.2, 1.8, 3.5, 3.5, 2.6, 4.2, 3.0, 3.0, 4.1, 1.4, 2.4, 5.1],\n",
       " 'shape': [10.8, 7.0, 13.3],\n",
       " 'candidates': [{'card': 'C8',\n",
       "   'insta_score': 0.109,\n",
       "   'expected_tricks_sd': 11.66,\n",
       "   'p_make_contract': 0.08},\n",
       "  {'card': 'Hx',\n",
       "   'insta_score': 0.238,\n",
       "   'expected_tricks_sd': 11.78,\n",
       "   'p_make_contract': 0.02},\n",
       "  {'card': 'HK',\n",
       "   'insta_score': 0.23,\n",
       "   'expected_tricks_sd': 11.77,\n",
       "   'p_make_contract': 0.02},\n",
       "  {'card': 'Dx',\n",
       "   'insta_score': 0.102,\n",
       "   'expected_tricks_sd': 12.09,\n",
       "   'p_make_contract': 0.02}],\n",
       " 'samples': ['xx.KQT9xx.ATxx.8 QT8xx.x.KQxx.Kxx x.AJ8xxx.Jxx.J9x AKJ9x..98.AQTxxx 0.79423',\n",
       "  'xx.KQT9xx.ATxx.8 AJxxx.J.KJ9xx.xx x.A8xxx.Qxx.QT9x KQT98.x.8.AKJxxx 0.77794',\n",
       "  'xx.KQT9xx.ATxx.8 J98xx.A8.K8xx.Qx x.Jxxxx.Q9x.A9xx AKQTx..Jx.KJTxxx 0.77758',\n",
       "  'xx.KQT9xx.ATxx.8 K9xxx.x.K8xx.AJx x.AJ8xxx.QJx.xxx AQJT8..9x.KQT9xx 0.77259',\n",
       "  'xx.KQT9xx.ATxx.8 KQ8xx.J.KQxx.Txx J.A8xxxx.J8x.Qxx AT9xx..9x.AKJ9xx 0.77076',\n",
       "  'xx.KQT9xx.ATxx.8 A9xxx.A8.xxx.QJx x.Jxxxx.Q98x.ATx KQJT8..KJ.K9xxxx 0.76874',\n",
       "  'xx.KQT9xx.ATxx.8 KJ9xx.A.J98xx.J9 T.J8xxx.Kxx.Kxxx AQ8xx.x.Q.AQTxxx 0.76856',\n",
       "  'xx.KQT9xx.ATxx.8 QJ8xx.x.QJ8x.KQx 9.AJ8xx.9xxx.JTx AKTxx.x.K.A9xxxx 0.76726',\n",
       "  'xx.KQT9xx.ATxx.8 KQTxx.AJ.xxx.9xx 8.8xxxx.QJ9x.KQx AJ9xx..K8.AJTxxx 0.76680',\n",
       "  'xx.KQT9xx.ATxx.8 A9xxx.8.KQ8x.Jxx J.AJxxx.J9xx.9xx KQT8x.x.x.AKQTxx 0.76509',\n",
       "  'xx.KQT9xx.ATxx.8 QJT9x.Jx.QJx.Axx x.A8xxx.98xx.KJ9 AK8xx..Kx.QTxxxx 0.76220',\n",
       "  'xx.KQT9xx.ATxx.8 AT98x.8.Jxxx.Axx x.Jxxxx.KQ98.Qxx KQJxx.A.x.KJT9xx 0.76139',\n",
       "  'xx.KQT9xx.ATxx.8 KTxxx.xx.K8xx.KJ 8.AJ8xx.QJ9x.9xx AQJ9x..x.AQTxxxx 0.76044',\n",
       "  'xx.KQT9xx.ATxx.8 AJTxx.x.Q9xx.K9x x.AJxxx.J8xx.Txx KQ98x.8.K.AQJxxx 0.76022',\n",
       "  'xx.KQT9xx.ATxx.8 AKQxx.8x.J9xx.Qx x.AJxxx.Qxx.JTxx JT98x..K8.AK9xxx 0.75930',\n",
       "  'xx.KQT9xx.ATxx.8 KQT8x.Ax.xx.JTxx x.J8xxx.KQJ9x.xx AJ9xx..8x.AKQ9xx 0.75799',\n",
       "  'xx.KQT9xx.ATxx.8 KJT9.J.KJ98xx.Kx xxx.A8xxxx.x.QTx AQ8x..Qx.AJ9xxxx 0.75699',\n",
       "  'xx.KQT9xx.ATxx.8 AK9xx.x.KJ8xxx.T J.J8xxx.9x.A9xxx QT8xx.A.Q.KQJxxx 0.75618',\n",
       "  'xx.KQT9xx.ATxx.8 KJ9x.J.QJ98x.QTx 8xx.A8xxxx.x.9xx AQTx..Kxx.AKJxxx 0.75421',\n",
       "  'xx.KQT9xx.ATxx.8 QJT9x.A.J8xx.ATx x.J8xxxx.KQ9.9xx AK8xx..xx.KQJxxx 0.75358']}"
      ]
     },
     "execution_count": 9,
     "metadata": {},
     "output_type": "execute_result"
    }
   ],
   "source": [
    "card_by_card.cards['DA'].to_dict()"
   ]
  }
 ],
 "metadata": {
  "kernelspec": {
   "display_name": "Python 3 (ipykernel)",
   "language": "python",
   "name": "python3"
  },
  "language_info": {
   "codemirror_mode": {
    "name": "ipython",
    "version": 3
   },
   "file_extension": ".py",
   "mimetype": "text/x-python",
   "name": "python",
   "nbconvert_exporter": "python",
   "pygments_lexer": "ipython3",
   "version": "3.11.9"
  }
 },
 "nbformat": 4,
 "nbformat_minor": 5
}
