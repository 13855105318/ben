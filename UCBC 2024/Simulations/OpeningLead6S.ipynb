{
 "cells": [
  {
   "cell_type": "markdown",
   "id": "170af530",
   "metadata": {},
   "source": [
    "# Opening Lead\n",
    "\n",
    "This is a tutorial for how to use the opening lead engine."
   ]
  },
  {
   "cell_type": "code",
   "execution_count": 1,
   "id": "26570686",
   "metadata": {},
   "outputs": [
    {
     "name": "stdout",
     "output_type": "stream",
     "text": [
      "WARNING:tensorflow:From c:\\Python311\\Lib\\site-packages\\tensorflow\\python\\compat\\v2_compat.py:107: disable_resource_variables (from tensorflow.python.ops.variable_scope) is deprecated and will be removed in a future version.\n",
      "Instructions for updating:\n",
      "non-resource variables are not supported in the long term\n"
     ]
    }
   ],
   "source": [
    "import os\n",
    "import sys\n",
    "sys.path.append('../../src')\n",
    "os.environ['BEN_HOME'] = \"../..\"\n",
    "\n",
    "from nn.models import Models\n",
    "from bots import BotLead\n",
    "from sample import Sample\n",
    "import conf\n",
    "import numpy as np\n",
    "\n",
    "np.set_printoptions(precision=2, suppress=True, linewidth=200)\n",
    "np.random.seed(42)\n"
   ]
  },
  {
   "cell_type": "code",
   "execution_count": 2,
   "id": "fe373c76",
   "metadata": {},
   "outputs": [
    {
     "name": "stdout",
     "output_type": "stream",
     "text": [
      "INFO:tensorflow:Restoring parameters from ..\\Models/NS1EW99-bidding_same-5556000\n",
      "INFO:tensorflow:Restoring parameters from ..\\Models/NS1EW99-binfo_same-5556000\n",
      "INFO:tensorflow:Restoring parameters from ..\\Models/lead_suit-999000\n",
      "INFO:tensorflow:Restoring parameters from ..\\Models/lead_nt-475000\n",
      "INFO:tensorflow:Restoring parameters from ..\\Models/Jack/lr3-1000000\n",
      "INFO:tensorflow:Restoring parameters from ..\\Models/single_dummy-32768000\n",
      "INFO:tensorflow:Restoring parameters from ..\\Models/lefty_nt-475000\n",
      "INFO:tensorflow:Restoring parameters from ..\\Models/dummy_nt-475000\n",
      "INFO:tensorflow:Restoring parameters from ..\\Models/righty_nt-475000\n",
      "INFO:tensorflow:Restoring parameters from ..\\Models/decl_nt-950000\n",
      "INFO:tensorflow:Restoring parameters from ..\\Models/lefty_suit-999000\n",
      "INFO:tensorflow:Restoring parameters from ..\\Models/dummy_suit-999000\n",
      "INFO:tensorflow:Restoring parameters from ..\\Models/righty_suit-999000\n",
      "INFO:tensorflow:Restoring parameters from ..\\Models/decl_suit-1278000\n"
     ]
    }
   ],
   "source": [
    "models = Models.from_conf(conf.load('../Conf/UCBC2024.conf'),'..')   # loading neural networks\n",
    "sampler = Sample.from_conf(conf.load('../Conf/UCBC2024.conf'), False)  # Load sampling strategies"
   ]
  },
  {
   "cell_type": "code",
   "execution_count": 3,
   "id": "c3397678",
   "metadata": {},
   "outputs": [
    {
     "name": "stderr",
     "output_type": "stream",
     "text": [
      "Loaded lib dds.dll\n"
     ]
    }
   ],
   "source": [
    "# both vulnerable. you are sitting South\n",
    "hand = '5.A97643.Q82.QJ5'\n",
    "\n",
    "# the auction goes:\n",
    "auction = [\"PAD_START\", \"PAD_START\", \"PAD_START\", \"1C\", \"PASS\", \"2S\", \"PASS\", \"3S\", \"PASS\", \"4D\",  \"PASS\", \"4S\", \"PASS\", \"4N\", \"PASS\", \"5D\", \"PASS\", \"6S\", \"PASS\", \"PASS\", \"PASS\"]\n",
    "\n",
    "# what to lead?\n",
    "\n",
    "lead_bot = BotLead([True, True], hand, models, sampler, 2, False)\n",
    "lead = lead_bot.find_opening_lead(auction)"
   ]
  },
  {
   "cell_type": "code",
   "execution_count": 4,
   "id": "a2b5fe25",
   "metadata": {},
   "outputs": [
    {
     "data": {
      "text/plain": [
       "D2"
      ]
     },
     "execution_count": 4,
     "metadata": {},
     "output_type": "execute_result"
    }
   ],
   "source": [
    "lead.card"
   ]
  },
  {
   "cell_type": "markdown",
   "id": "02e88396",
   "metadata": {},
   "source": [
    "seems like the engine chose to lead the ace of diamonds\n",
    "\n",
    "the other options it considered were: a small spade and a small club"
   ]
  },
  {
   "cell_type": "code",
   "execution_count": 5,
   "id": "956ef356",
   "metadata": {},
   "outputs": [
    {
     "data": {
      "text/plain": [
       "[{'card': 'Dx',\n",
       "  'insta_score': 0.213,\n",
       "  'expected_tricks_sd': 11.0,\n",
       "  'p_make_contract': 0.9},\n",
       " {'card': 'Hx',\n",
       "  'insta_score': 0.192,\n",
       "  'expected_tricks_sd': 11.4,\n",
       "  'p_make_contract': 0.6},\n",
       " {'card': 'Cx',\n",
       "  'insta_score': 0.126,\n",
       "  'expected_tricks_sd': 11.5,\n",
       "  'p_make_contract': 0.4}]"
      ]
     },
     "execution_count": 5,
     "metadata": {},
     "output_type": "execute_result"
    }
   ],
   "source": [
    "lead.to_dict()['candidates']"
   ]
  },
  {
   "cell_type": "markdown",
   "id": "97efc5a1",
   "metadata": {},
   "source": [
    "in the above output:\n",
    "- `insta_score` reflects the preference of the neural network\n",
    "- `expected_tricks` how many tricks declarer is expected to take on this lead\n",
    "- `p_make_contract` is the probability of the contract making on this lead\n",
    "\n",
    "the probability of making and the expected tricks are computed on samples which are consistent with the auction. the samples are estimated single dummy using a neural network (more on this in another tutorial). we could also solve the samples double dummy, but that would be quite a bit slower."
   ]
  },
  {
   "cell_type": "code",
   "execution_count": 6,
   "id": "7cb2bf98",
   "metadata": {},
   "outputs": [
    {
     "data": {
      "text/plain": [
       "['x.A9xxxx.Q8x.QJx Axxx.xx.KJx.K8xx T9x.QJT.T9xxxx.x KQJ8x.K8.A.AT9xx 0.72345',\n",
       " 'x.A9xxxx.Q8x.QJx 98xx.KJ.AKx.Txxx JTx.QTx.JT9xx.8x AKQxx.8x.xx.AK9x 0.71553',\n",
       " 'x.A9xxxx.Q8x.QJx xxxx.KJ.K9x.ATxx JT8.QT.JTxxxx.8x AKQ9x.8xx.A.K9xx 0.71362',\n",
       " 'x.A9xxxx.Q8x.QJx Txxx.KJ.AKx.9xxx J98.QT8.JT9xx.Tx AKQxx.xx.xx.AK8x 0.71281',\n",
       " 'x.A9xxxx.Q8x.QJx J98x.KJx.AKT.9xx Txx.8x.J9xxxx.8x AKQxx.QT.x.AKTxx 0.69118',\n",
       " 'x.A9xxxx.Q8x.QJx T9xx.Tx.AKJ.KT8x J8x.J8x.T9xxx.9x AKQxx.KQ.xx.Axxx 0.68454',\n",
       " 'x.A9xxxx.Q8x.QJx A9xx.KJx.JTx.K9x 8xx.QT.9xxxx.Txx KQJTx.8x.AK.A8xx 0.68398',\n",
       " 'x.A9xxxx.Q8x.QJx KJxx.KQx.K9x.Txx T9x.Tx.JTxxxx.K9 AQ8xx.J8.A.A8xxx 0.67844',\n",
       " 'x.A9xxxx.Q8x.QJx Txx.KQJx.K9x.K8x 9xxx.8.Jxxxx.T9x AKQJ8.Tx.AT.Axxx 0.67193',\n",
       " 'x.A9xxxx.Q8x.QJx J8x.J8x.AKx.K98x T9xx.Qx.JTxxx.Tx AKQxx.KT.9x.Axxx 0.67182']"
      ]
     },
     "execution_count": 6,
     "metadata": {},
     "output_type": "execute_result"
    }
   ],
   "source": [
    "# each row is one sample board\n",
    "# the hands are in the order: LHO, Partner, RHO. Your cards are not shown as they are fixed/\n",
    "\n",
    "lead.samples"
   ]
  }
 ],
 "metadata": {
  "kernelspec": {
   "display_name": "Python 3 (ipykernel)",
   "language": "python",
   "name": "python3"
  },
  "language_info": {
   "codemirror_mode": {
    "name": "ipython",
    "version": 3
   },
   "file_extension": ".py",
   "mimetype": "text/x-python",
   "name": "python",
   "nbconvert_exporter": "python",
   "pygments_lexer": "ipython3",
   "version": "3.11.0"
  }
 },
 "nbformat": 4,
 "nbformat_minor": 5
}
