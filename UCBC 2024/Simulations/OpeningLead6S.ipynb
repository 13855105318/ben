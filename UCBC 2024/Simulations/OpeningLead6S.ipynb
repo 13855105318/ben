{
 "cells": [
  {
   "cell_type": "markdown",
   "id": "170af530",
   "metadata": {},
   "source": [
    "# Opening Lead\n",
    "\n",
    "This is a tutorial for how to use the opening lead engine."
   ]
  },
  {
   "cell_type": "code",
   "execution_count": 1,
   "id": "26570686",
   "metadata": {},
   "outputs": [
    {
     "name": "stdout",
     "output_type": "stream",
     "text": [
      "WARNING:tensorflow:From c:\\Python311\\Lib\\site-packages\\tensorflow\\python\\compat\\v2_compat.py:107: disable_resource_variables (from tensorflow.python.ops.variable_scope) is deprecated and will be removed in a future version.\n",
      "Instructions for updating:\n",
      "non-resource variables are not supported in the long term\n"
     ]
    }
   ],
   "source": [
    "import os\n",
    "import sys\n",
    "sys.path.append('../../src')\n",
    "os.environ['BEN_HOME'] = \"../..\"\n",
    "\n",
    "from nn.models import Models\n",
    "from bots import BotLead\n",
    "from sample import Sample\n",
    "import conf\n",
    "import numpy as np\n",
    "\n",
    "np.set_printoptions(precision=2, suppress=True, linewidth=200)\n",
    "np.random.seed(42)\n"
   ]
  },
  {
   "cell_type": "code",
   "execution_count": 2,
   "id": "fe373c76",
   "metadata": {},
   "outputs": [
    {
     "name": "stdout",
     "output_type": "stream",
     "text": [
      "INFO:tensorflow:Restoring parameters from ..\\Models/NS1EW99-bidding-10724000\n",
      "INFO:tensorflow:Restoring parameters from ..\\Models/NS1EW99-binfo-6131000\n",
      "INFO:tensorflow:Restoring parameters from ..\\Models/lead_suit-154000\n",
      "INFO:tensorflow:Restoring parameters from ..\\Models/lead_nt-59000\n",
      "INFO:tensorflow:Restoring parameters from ..\\Models/lr3-1000000\n",
      "INFO:tensorflow:Restoring parameters from ..\\Models/single_dummy-32768000\n",
      "INFO:tensorflow:Restoring parameters from ..\\Models/lefty-1000000\n",
      "INFO:tensorflow:Restoring parameters from ..\\Models/dummy-920000\n",
      "INFO:tensorflow:Restoring parameters from ..\\Models/righty-1000000\n",
      "INFO:tensorflow:Restoring parameters from ..\\Models/decl-1000000\n"
     ]
    }
   ],
   "source": [
    "models = Models.from_conf(conf.load('../Conf/UCBC2024.conf'),'..')   # loading neural networks\n",
    "sampler = Sample.from_conf(conf.load('../Conf/UCBC2024.conf'), False)  # Load sampling strategies"
   ]
  },
  {
   "cell_type": "code",
   "execution_count": 3,
   "id": "c3397678",
   "metadata": {},
   "outputs": [
    {
     "name": "stderr",
     "output_type": "stream",
     "text": [
      "Loaded lib dds.dll\n"
     ]
    }
   ],
   "source": [
    "# both vulnerable. you are sitting North as dealer and you hold\n",
    "hand = '5.A97643.Q82.QJ5'\n",
    "\n",
    "# the auction goes:\n",
    "auction = [\"PAD_START\", \"PAD_START\", \"PAD_START\", \"1C\", \"PASS\", \"2S\", \"PASS\", \"3S\", \"PASS\", \"4D\",  \"PASS\", \"4S\", \"PASS\", \"4N\", \"PASS\", \"5D\", \"PASS\", \"6S\", \"PASS\", \"PASS\", \"PASS\"]\n",
    "\n",
    "# what to lead?\n",
    "\n",
    "lead_bot = BotLead([True, True], hand, models, sampler, False)\n",
    "lead = lead_bot.find_opening_lead(auction)"
   ]
  },
  {
   "cell_type": "code",
   "execution_count": 4,
   "id": "a2b5fe25",
   "metadata": {},
   "outputs": [
    {
     "data": {
      "text/plain": [
       "HA"
      ]
     },
     "execution_count": 4,
     "metadata": {},
     "output_type": "execute_result"
    }
   ],
   "source": [
    "lead.card"
   ]
  },
  {
   "cell_type": "markdown",
   "id": "02e88396",
   "metadata": {},
   "source": [
    "seems like the engine chose to lead the ace of diamonds\n",
    "\n",
    "the other options it considered were: a small spade and a small club"
   ]
  },
  {
   "cell_type": "code",
   "execution_count": 5,
   "id": "956ef356",
   "metadata": {},
   "outputs": [
    {
     "data": {
      "text/plain": [
       "[{'card': 'HA',\n",
       "  'insta_score': 0.275,\n",
       "  'expected_tricks_sd': 11.61,\n",
       "  'p_make_contract': 0.25},\n",
       " {'card': 'CQ',\n",
       "  'insta_score': 0.509,\n",
       "  'expected_tricks_sd': 12.21,\n",
       "  'p_make_contract': 0.18},\n",
       " {'card': 'Dx',\n",
       "  'insta_score': 0.159,\n",
       "  'expected_tricks_sd': 12.39,\n",
       "  'p_make_contract': 0.18}]"
      ]
     },
     "execution_count": 5,
     "metadata": {},
     "output_type": "execute_result"
    }
   ],
   "source": [
    "lead.to_dict()['candidates']"
   ]
  },
  {
   "cell_type": "markdown",
   "id": "97efc5a1",
   "metadata": {},
   "source": [
    "in the above output:\n",
    "- `insta_score` reflects the preference of the neural network\n",
    "- `expected_tricks` how many tricks declarer is expected to take on this lead\n",
    "- `p_make_contract` is the probability of the contract making on this lead\n",
    "\n",
    "the probability of making and the expected tricks are computed on samples which are consistent with the auction. the samples are estimated single dummy using a neural network (more on this in another tutorial). we could also solve the samples double dummy, but that would be quite a bit slower."
   ]
  },
  {
   "cell_type": "code",
   "execution_count": 6,
   "id": "7cb2bf98",
   "metadata": {},
   "outputs": [
    {
     "data": {
      "text/plain": [
       "['T9xx.T.KT9.AK8xx x.KJ8xx.Jxxxx.T9 AKQJ8xx.Q.Ax.xxx 0.41547',\n",
       " 'Txxx.Kx.xx.AKxxx J.JTx.KJTxxx.8xx AKQ98xx.Q8.A9.T9 0.39986',\n",
       " '98x.KTx.Jx.AK9xx Tx.J8.K9xxxx.T8x AKQJxxx.Qx.AT.xx 0.39001',\n",
       " 'T8x.8.Kxxx.AKxxx Jx.QJTx.JT9x.8xx AKQ9xxx.Kx.Ax.T9 0.38990',\n",
       " 'T9xx.Kx.9x.AKxxx x.QJTx.JTxxx.T98 AKQJ8xx.8.AKx.xx 0.38154',\n",
       " 'J8x.Tx.K9.AK9xxx xxx.QJ8x.xxxx.8x AKQT9x.K.AJTx.Tx 0.37995',\n",
       " 'Jxx.K8.Tx.AKT98x T9x.Tx.KJ9xxx.xx AKQ8xx.QJx.Ax.xx 0.37301',\n",
       " 'J9xx.x.K9x.AKxxx 8x.QT8x.Jxxx.98x AKQTxx.KJ.ATx.Tx 0.36399',\n",
       " 'AJxx.Kx.xx.KT9xx x.JT8x.T9xxx.A8x KQT98xx.Q.AKJ.xx 0.33872',\n",
       " 'JT8.Kx.Tx.AK9xxx xxxx.QJ8.J9xxx.x AKQ9x.Tx.AKx.T8x 0.33787']"
      ]
     },
     "execution_count": 6,
     "metadata": {},
     "output_type": "execute_result"
    }
   ],
   "source": [
    "# each row is one sample board\n",
    "# the hands are in the order: LHO, Partner, RHO. Your cards are not shown as they are fixed/\n",
    "\n",
    "lead.samples"
   ]
  }
 ],
 "metadata": {
  "kernelspec": {
   "display_name": "Python 3 (ipykernel)",
   "language": "python",
   "name": "python3"
  },
  "language_info": {
   "codemirror_mode": {
    "name": "ipython",
    "version": 3
   },
   "file_extension": ".py",
   "mimetype": "text/x-python",
   "name": "python",
   "nbconvert_exporter": "python",
   "pygments_lexer": "ipython3",
   "version": "3.11.0"
  }
 },
 "nbformat": 4,
 "nbformat_minor": 5
}
