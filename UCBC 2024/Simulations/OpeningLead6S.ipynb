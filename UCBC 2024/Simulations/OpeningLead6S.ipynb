{
 "cells": [
  {
   "cell_type": "markdown",
   "id": "170af530",
   "metadata": {},
   "source": [
    "# Opening Lead\n",
    "\n",
    "This is a tutorial for how to use the opening lead engine."
   ]
  },
  {
   "cell_type": "code",
   "execution_count": 1,
   "id": "26570686",
   "metadata": {},
   "outputs": [
    {
     "name": "stdout",
     "output_type": "stream",
     "text": [
      "WARNING:tensorflow:From c:\\Python311\\Lib\\site-packages\\tensorflow\\python\\compat\\v2_compat.py:107: disable_resource_variables (from tensorflow.python.ops.variable_scope) is deprecated and will be removed in a future version.\n",
      "Instructions for updating:\n",
      "non-resource variables are not supported in the long term\n"
     ]
    }
   ],
   "source": [
    "import os\n",
    "import sys\n",
    "sys.path.append('../../src')\n",
    "os.environ['BEN_HOME'] = \"../..\"\n",
    "\n",
    "from nn.models import Models\n",
    "from bots import BotLead\n",
    "from sample import Sample\n",
    "import conf\n",
    "import numpy as np\n",
    "\n",
    "np.set_printoptions(precision=2, suppress=True, linewidth=200)\n",
    "np.random.seed(42)\n"
   ]
  },
  {
   "cell_type": "code",
   "execution_count": 2,
   "id": "fe373c76",
   "metadata": {},
   "outputs": [
    {
     "name": "stdout",
     "output_type": "stream",
     "text": [
      "INFO:tensorflow:Restoring parameters from ..\\Models/bidding-3233000\n",
      "INFO:tensorflow:Restoring parameters from ..\\Models/binfo-808000\n",
      "INFO:tensorflow:Restoring parameters from ..\\Models/lead_suit-154000\n",
      "INFO:tensorflow:Restoring parameters from ..\\Models/lead_nt-59000\n",
      "INFO:tensorflow:Restoring parameters from ..\\Models/lr3-1000000\n",
      "INFO:tensorflow:Restoring parameters from ..\\Models/lefty-1000000\n",
      "INFO:tensorflow:Restoring parameters from ..\\Models/dummy-920000\n",
      "INFO:tensorflow:Restoring parameters from ..\\Models/righty-1000000\n",
      "INFO:tensorflow:Restoring parameters from ..\\Models/decl-1000000\n"
     ]
    }
   ],
   "source": [
    "models = Models.from_conf(conf.load('../Conf/UCBC2024.conf'),'..')   # loading neural networks\n",
    "sampler = Sample.from_conf(conf.load('../Conf/UCBC2024.conf'), False)  # Load sampling strategies"
   ]
  },
  {
   "cell_type": "code",
   "execution_count": 3,
   "id": "c3397678",
   "metadata": {},
   "outputs": [],
   "source": [
    "# both vulnerable. you are sitting North as dealer and you hold\n",
    "hand = '5.A97643.Q82.QJ5'\n",
    "\n",
    "# the auction goes:\n",
    "auction = [\"PAD_START\", \"PAD_START\", \"PAD_START\", \"1C\", \"PASS\", \"2S\", \"PASS\", \"3S\", \"PASS\", \"4D\",  \"PASS\", \"4S\", \"PASS\", \"4N\", \"PASS\", \"5D\", \"PASS\", \"6S\", \"PASS\", \"PASS\", \"PASS\"]\n",
    "\n",
    "# what to lead?\n",
    "\n",
    "lead_bot = BotLead([True, True], hand, models, sampler, False)\n",
    "lead = lead_bot.find_opening_lead(auction)"
   ]
  },
  {
   "cell_type": "code",
   "execution_count": 4,
   "id": "a2b5fe25",
   "metadata": {},
   "outputs": [
    {
     "data": {
      "text/plain": [
       "HA"
      ]
     },
     "execution_count": 4,
     "metadata": {},
     "output_type": "execute_result"
    }
   ],
   "source": [
    "lead.card"
   ]
  },
  {
   "cell_type": "markdown",
   "id": "02e88396",
   "metadata": {},
   "source": [
    "seems like the engine chose to lead the ace of diamonds\n",
    "\n",
    "the other options it considered were: a small spade and a small club"
   ]
  },
  {
   "cell_type": "code",
   "execution_count": 5,
   "id": "956ef356",
   "metadata": {},
   "outputs": [
    {
     "data": {
      "text/plain": [
       "[{'card': 'HA',\n",
       "  'insta_score': 0.3214,\n",
       "  'expected_tricks_sd': 11.422,\n",
       "  'p_make_contract': 0.516},\n",
       " {'card': 'CQ',\n",
       "  'insta_score': 0.3945,\n",
       "  'expected_tricks_sd': 11.433,\n",
       "  'p_make_contract': 0.528},\n",
       " {'card': 'Dx',\n",
       "  'insta_score': 0.2199,\n",
       "  'expected_tricks_sd': 11.52,\n",
       "  'p_make_contract': 0.565}]"
      ]
     },
     "execution_count": 5,
     "metadata": {},
     "output_type": "execute_result"
    }
   ],
   "source": [
    "lead.to_dict()['candidates']"
   ]
  },
  {
   "cell_type": "markdown",
   "id": "97efc5a1",
   "metadata": {},
   "source": [
    "in the above output:\n",
    "- `insta_score` reflects the preference of the neural network\n",
    "- `expected_tricks` how many tricks declarer is expected to take on this lead\n",
    "- `p_make_contract` is the probability of the contract making on this lead\n",
    "\n",
    "the probability of making and the expected tricks are computed on samples which are consistent with the auction. the samples are estimated single dummy using a neural network (more on this in another tutorial). we could also solve the samples double dummy, but that would be quite a bit slower."
   ]
  },
  {
   "cell_type": "code",
   "execution_count": 6,
   "id": "7cb2bf98",
   "metadata": {},
   "outputs": [
    {
     "data": {
      "text/plain": [
       "['98x.T.Kxx.AKT9xx xxx.Kx.JT9xxx.8x AKQJTx.QJ8x.A.xx 0.38323',\n",
       " 'xxxx.Kx.x.AK9xxx JT9.QJ8.JT9xx.8x AKQ8x.Tx.AKxx.Tx 0.37654',\n",
       " '9xx.KJ.Kx.AT9xxx T8x.Tx.JT9xxx.Kx AKQJxx.Q8x.Ax.8x 0.35281',\n",
       " 'T9xx.Qx.KJx.AK98 8x.8x.T9xxx.xxxx AKQJxx.KJT.Ax.Tx 0.33033',\n",
       " '9xx.JT.Kxx.AKTxx T8.8xx.ATxxx.98x AKQJxxx.KQ.J9.xx 0.30402',\n",
       " 'Txx.KT.J9x.AK9xx J8x.Q8x.Txxx.Txx AKQ9xx.Jx.AKx.8x 0.30138',\n",
       " 'KJx.T.Kxxx.Kxxxx T9xx.xx.JT9xx.Ax AQ8xx.KQJ8.A.T98 0.28540',\n",
       " 'J8x.KTx.Tx.AK8xx xxx.QJ.9xxxx.9xx AKQT9x.8x.AKJ.Tx 0.28250',\n",
       " '8xx.J.K9x.AKTxxx xx.T8x.JTxxxx.8x AKQJT9x.KQx.A.9x 0.28136',\n",
       " 'T9x.K8xx.Jx.AKT9 Jxx.T.KT9xx.8xxx AKQ8xx.QJ.Axx.xx 0.26982',\n",
       " '8xx.T8.KJx.AK9xx Txxx.QJx.9xxx.Tx AKQJ9.Kx.ATx.8xx 0.26436',\n",
       " 'Txxx.KJ.Tx.AK8xx xx.Txx.K9xxx.9xx AKQJ98.Q8.AJx.Tx 0.26358',\n",
       " '8xx.QJx.9.AKT8xx 9x.T8x.AJxxxx.9x AKQJTxx.K.KTx.xx 0.25881',\n",
       " 'J98.KTx.xx.AK8xx xxx.J8x.JT9xxx.T AKQTxx.Q.AK.9xxx 0.25784',\n",
       " '9xxx..KTx.AKT9xx J8x.8xx.J9xxx.xx AKQTx.KQJT.Ax.8x 0.25737',\n",
       " 'JT9x.Kx.Tx.AKTxx 8xx.J8x.J9xx.8xx AKQxx.QT.AKxx.9x 0.25682',\n",
       " 'xxx.Jx.Kxx.AKxxx QT8x.T.JTxxx.98x AKJ9x.KQ8x.A9.Tx 0.25545']"
      ]
     },
     "execution_count": 6,
     "metadata": {},
     "output_type": "execute_result"
    }
   ],
   "source": [
    "# each row is one sample board\n",
    "# the hands are in the order: LHO, Partner, RHO. Your cards are not shown as they are fixed/\n",
    "\n",
    "lead.samples"
   ]
  }
 ],
 "metadata": {
  "kernelspec": {
   "display_name": "Python 3 (ipykernel)",
   "language": "python",
   "name": "python3"
  },
  "language_info": {
   "codemirror_mode": {
    "name": "ipython",
    "version": 3
   },
   "file_extension": ".py",
   "mimetype": "text/x-python",
   "name": "python",
   "nbconvert_exporter": "python",
   "pygments_lexer": "ipython3",
   "version": "3.11.0"
  }
 },
 "nbformat": 4,
 "nbformat_minor": 5
}
