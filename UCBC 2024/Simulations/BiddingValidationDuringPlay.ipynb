{
 "cells": [
  {
   "cell_type": "markdown",
   "id": "75d07246",
   "metadata": {},
   "source": [
    "# Bidding validation during play\n",
    "\n",
    "When playing the samples are matched against bidding. This is an example of how this is done"
   ]
  },
  {
   "cell_type": "code",
   "execution_count": 1,
   "id": "59a5664c",
   "metadata": {},
   "outputs": [
    {
     "name": "stdout",
     "output_type": "stream",
     "text": [
      "WARNING:tensorflow:From c:\\Python311\\Lib\\site-packages\\tensorflow\\python\\compat\\v2_compat.py:107: disable_resource_variables (from tensorflow.python.ops.variable_scope) is deprecated and will be removed in a future version.\n",
      "Instructions for updating:\n",
      "non-resource variables are not supported in the long term\n",
      "INFO:tensorflow:Restoring parameters from ..\\..\\UCBC 2024/Models/bidding_V2-5158000\n",
      "INFO:tensorflow:Restoring parameters from ..\\..\\models/contract/contract-193200\n",
      "INFO:tensorflow:Restoring parameters from ..\\..\\UCBC 2024/Models/binfo_V2-5158000\n",
      "INFO:tensorflow:Restoring parameters from ..\\..\\UCBC 2024/Models/lead_suit-999000\n",
      "INFO:tensorflow:Restoring parameters from ..\\..\\UCBC 2024/Models/lead_nt-475000\n",
      "INFO:tensorflow:Restoring parameters from ..\\..\\UCBC 2024/Models/Jack/lr3-1000000\n",
      "INFO:tensorflow:Restoring parameters from ..\\..\\UCBC 2024/Models/single_dummy-32768000\n",
      "INFO:tensorflow:Restoring parameters from ..\\..\\UCBC 2024/Models/lefty_nt-475000\n",
      "INFO:tensorflow:Restoring parameters from ..\\..\\UCBC 2024/Models/decl_nt-475000\n",
      "INFO:tensorflow:Restoring parameters from ..\\..\\UCBC 2024/Models/righty_nt-475000\n",
      "INFO:tensorflow:Restoring parameters from ..\\..\\UCBC 2024/Models/decl_nt-475000\n",
      "INFO:tensorflow:Restoring parameters from ..\\..\\UCBC 2024/Models/lefty_suit-999000\n",
      "INFO:tensorflow:Restoring parameters from ..\\..\\UCBC 2024/Models/decl_suit-999000\n",
      "INFO:tensorflow:Restoring parameters from ..\\..\\UCBC 2024/Models/righty_suit-999000\n",
      "INFO:tensorflow:Restoring parameters from ..\\..\\UCBC 2024/Models/decl_suit-999000\n"
     ]
    }
   ],
   "source": [
    "import os\n",
    "import sys\n",
    "sys.path.append('../../src')\n",
    "os.environ['BEN_HOME'] = \"../..\"\n",
    "\n",
    "import os\n",
    "import logging\n",
    "\n",
    "# Set logging level to suppress warnings\n",
    "logging.getLogger().setLevel(logging.ERROR)\n",
    "# Just disables the warnings\n",
    "os.environ['TF_CPP_MIN_LOG_LEVEL'] = '2'\n",
    "from nn.models import Models\n",
    "from bots import BotBid\n",
    "from bidding import bidding\n",
    "from util import hand_to_str\n",
    "from deck52 import random_deal\n",
    "from sample import Sample\n",
    "import conf\n",
    "import numpy as np\n",
    "from binary import parse_hand_f\n",
    "\n",
    "np.set_printoptions(precision=2, suppress=True, linewidth=200)\n",
    "np.random.seed(42)\n",
    "\n",
    "models = Models.from_conf(conf.load('../../Src/config/default.conf'),'..\\..')   # loading neural networks\n",
    "sampler = Sample.from_conf(conf.load('../../Src/config/default.conf'), False)  # Load sampling strategies"
   ]
  },
  {
   "cell_type": "code",
   "execution_count": 5,
   "id": "44786d5d",
   "metadata": {},
   "outputs": [
    {
     "name": "stdout",
     "output_type": "stream",
     "text": [
      "Me PAD_START\n",
      "LHO PAD_START\n",
      "PAR PAD_START\n",
      "RHO PASS\n",
      "Me 1N\n",
      "LHO PASS\n",
      "PAR PASS\n",
      "RHO PASS\n",
      "[[[ 0.    1.    1.5  -0.14  0.43  0.43 -0.71  0.    0.    0.    1.    0.    1.    0.    1.    1.    0.    0.    0.    0.    0.    0.    3.    1.    1.    0.    0.    0.    0.    0.    2.    1.\n",
      "    0.    0.    0.    1.    0.    0.    0.    1.    0.    0.    0.    0.    0.    0.    0.    0.    0.    0.    0.    0.    0.    0.    0.    0.    0.    0.    0.    0.    0.    0.    0.    0.\n",
      "    0.    0.    0.    0.    0.    0.    0.    0.    0.    0.    0.    0.    0.    0.    0.    1.    0.    0.    0.    0.    0.    0.    0.    0.    0.    0.    0.    0.    0.    0.    0.    0.\n",
      "    0.    0.    0.    0.    0.    0.    0.    0.    0.    0.    0.    0.    0.    0.    0.    0.    0.    0.    0.    0.    0.    0.    0.    1.    0.    0.    0.    0.    0.    0.    0.    0.\n",
      "    0.    0.    0.    0.    0.    0.    0.    0.    0.    0.    0.    0.    0.    0.    0.    0.    0.    0.    0.    0.    0.    0.    0.    0.    0.    0.    0.    0.    0.    0.    0.    0.\n",
      "    0.    1.    0.    0.    0.    0.    0.    0.    0.    0.    0.    0.    0.    0.    0.    0.    0.    0.    0.    0.    0.    0.    0.    0.    0.    0.    0.    0.    0.    0.    0.    0.\n",
      "    0.    0.    0.    0.    0.    0.    0.  ]\n",
      "  [ 0.    1.    1.5  -0.14  0.43  0.43 -0.71  0.    0.    0.    1.    0.    1.    0.    1.    1.    0.    0.    0.    0.    0.    0.    3.    1.    1.    0.    0.    0.    0.    0.    2.    1.\n",
      "    0.    0.    0.    1.    0.    0.    0.    0.    0.    0.    0.    0.    0.    0.    0.    0.    1.    0.    0.    0.    0.    0.    0.    0.    0.    0.    0.    0.    0.    0.    0.    0.\n",
      "    0.    0.    0.    0.    0.    0.    0.    0.    0.    0.    0.    0.    0.    0.    0.    0.    0.    1.    0.    0.    0.    0.    0.    0.    0.    0.    0.    0.    0.    0.    0.    0.\n",
      "    0.    0.    0.    0.    0.    0.    0.    0.    0.    0.    0.    0.    0.    0.    0.    0.    0.    0.    0.    0.    0.    0.    0.    0.    0.    1.    0.    0.    0.    0.    0.    0.\n",
      "    0.    0.    0.    0.    0.    0.    0.    0.    0.    0.    0.    0.    0.    0.    0.    0.    0.    0.    0.    0.    0.    0.    0.    0.    0.    0.    0.    0.    0.    0.    0.    0.\n",
      "    0.    1.    0.    0.    0.    0.    0.    0.    0.    0.    0.    0.    0.    0.    0.    0.    0.    0.    0.    0.    0.    0.    0.    0.    0.    0.    0.    0.    0.    0.    0.    0.\n",
      "    0.    0.    0.    0.    0.    0.    0.  ]]]\n",
      "[[0. 0. 0. 0. 0. 0. 0. 0. 0. 1. 0. 0. 0. 0. 0. 0. 0. 0. 0. 0. 0. 0. 0. 0. 0. 0. 0. 0. 0. 0. 0. 0. 0. 0. 0. 0. 0. 0. 0. 0.]\n",
      " [0. 1. 0. 0. 0. 0. 0. 0. 0. 0. 0. 0. 0. 0. 0. 0. 0. 0. 0. 0. 0. 0. 0. 0. 0. 0. 0. 0. 0. 0. 0. 0. 0. 0. 0. 0. 0. 0. 0. 0.]]\n",
      "1N [1.]\n",
      "[1.]\n"
     ]
    }
   ],
   "source": [
    "auction = ['PAD_START', 'PAD_START', 'PASS', '1N', 'PASS', 'PASS', 'PASS']\n",
    "\n",
    "hand_str_list = [\n",
    "    \"J9x.Axxx.AKxx.AT\"\n",
    "]\n",
    "\n",
    "hands = np.array([parse_hand_f(32)(hand_str).reshape(32) for hand_str in hand_str_list])\n",
    "\n",
    "hand_no = 3\n",
    "dealer = 0\n",
    "scores = sampler.get_bid_scores(hand_no,dealer,auction,[True, False],hands, models)\n",
    "print(scores)"
   ]
  },
  {
   "cell_type": "code",
   "execution_count": null,
   "id": "5d7ac78f",
   "metadata": {},
   "outputs": [],
   "source": [
    "hand_str = \"8.9xx.9x.KT8xxxx\"\n",
    "hand = parse_hand_f(32)(hand_str).reshape(32)\n",
    "hands = np.array([hand])\n",
    "hand_no = 0\n",
    "scores = sampler.get_bid_scores(hand_no,dealer,auction,[False, True],hands, models)\n",
    "print(scores)"
   ]
  },
  {
   "cell_type": "code",
   "execution_count": null,
   "id": "44f5dbc0",
   "metadata": {},
   "outputs": [],
   "source": [
    "hand_str = \"A9x.AK.T8xx.Q9xx\"\n",
    "hand = parse_hand_f(32)(hand_str).reshape(32)\n",
    "hands = np.array([hand])\n",
    "hand_no = 2\n",
    "scores = sampler.get_bid_scores(hand_no,dealer,auction,[True, True],hands, models)\n",
    "print(scores)"
   ]
  },
  {
   "cell_type": "code",
   "execution_count": null,
   "metadata": {},
   "outputs": [],
   "source": [
    "hand_str = \"KTxx.J9xx.Qx.AKx\"\n",
    "hand = parse_hand_f(32)(hand_str).reshape(32)\n",
    "hands = np.array([hand])\n",
    "hand_no = 3\n",
    "scores = sampler.get_bid_scores(hand_no,dealer,auction,[True, True],hands, models)\n",
    "print(scores)"
   ]
  }
 ],
 "metadata": {
  "kernelspec": {
   "display_name": "Python 3 (ipykernel)",
   "language": "python",
   "name": "python3"
  },
  "language_info": {
   "codemirror_mode": {
    "name": "ipython",
    "version": 3
   },
   "file_extension": ".py",
   "mimetype": "text/x-python",
   "name": "python",
   "nbconvert_exporter": "python",
   "pygments_lexer": "ipython3",
   "version": "3.11.9"
  }
 },
 "nbformat": 4,
 "nbformat_minor": 5
}
