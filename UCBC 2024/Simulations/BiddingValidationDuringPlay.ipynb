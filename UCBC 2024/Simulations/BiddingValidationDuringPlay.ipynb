{
 "cells": [
  {
   "cell_type": "markdown",
   "id": "75d07246",
   "metadata": {},
   "source": [
    "# Bidding validation during play\n",
    "\n",
    "When playing the samples are matched against bidding. This is an example of how this is done"
   ]
  },
  {
   "cell_type": "code",
   "execution_count": 1,
   "id": "59a5664c",
   "metadata": {},
   "outputs": [
    {
     "name": "stdout",
     "output_type": "stream",
     "text": [
      "WARNING:tensorflow:From c:\\Python311\\Lib\\site-packages\\tensorflow\\python\\compat\\v2_compat.py:107: disable_resource_variables (from tensorflow.python.ops.variable_scope) is deprecated and will be removed in a future version.\n",
      "Instructions for updating:\n",
      "non-resource variables are not supported in the long term\n",
      "INFO:tensorflow:Restoring parameters from ..\\..\\models/archive/sayc/bidding-1494000\n",
      "INFO:tensorflow:Restoring parameters from ..\\..\\models/archive/sayc_info/binfo-1494000\n",
      "INFO:tensorflow:Restoring parameters from ..\\..\\models/lead_model_b/lead-1000000\n",
      "INFO:tensorflow:Restoring parameters from ..\\..\\models/lead_model_b/lead-1000000\n",
      "INFO:tensorflow:Restoring parameters from ..\\..\\models/lr3_model/lr3-1000000\n",
      "INFO:tensorflow:Restoring parameters from ..\\..\\UCBC 2024/Models/single_dummy-32768000\n",
      "INFO:tensorflow:Restoring parameters from ..\\..\\models/lefty_model/lefty-1000000\n",
      "INFO:tensorflow:Restoring parameters from ..\\..\\models/dummy_model/dummy-920000\n",
      "INFO:tensorflow:Restoring parameters from ..\\..\\models/righty_model/righty-1000000\n",
      "INFO:tensorflow:Restoring parameters from ..\\..\\models/decl_model/decl-1000000\n",
      "INFO:tensorflow:Restoring parameters from ..\\..\\models/lefty_model/lefty-1000000\n",
      "INFO:tensorflow:Restoring parameters from ..\\..\\models/dummy_model/dummy-920000\n",
      "INFO:tensorflow:Restoring parameters from ..\\..\\models/righty_model/righty-1000000\n",
      "INFO:tensorflow:Restoring parameters from ..\\..\\models/decl_model/decl-1000000\n"
     ]
    }
   ],
   "source": [
    "import os\n",
    "import sys\n",
    "sys.path.append('../../src')\n",
    "os.environ['BEN_HOME'] = \"../..\"\n",
    "\n",
    "import os\n",
    "import logging\n",
    "\n",
    "# Set logging level to suppress warnings\n",
    "logging.getLogger().setLevel(logging.ERROR)\n",
    "# Just disables the warnings\n",
    "os.environ['TF_CPP_MIN_LOG_LEVEL'] = '2'\n",
    "from nn.models import Models\n",
    "from bots import BotBid\n",
    "from bidding import bidding\n",
    "from util import hand_to_str\n",
    "from deck52 import random_deal\n",
    "from sample import Sample\n",
    "import conf\n",
    "import numpy as np\n",
    "from binary import parse_hand_f\n",
    "\n",
    "np.set_printoptions(precision=2, suppress=True, linewidth=200)\n",
    "np.random.seed(42)\n",
    "\n",
    "models = Models.from_conf(conf.load('../../Src/config/SAYC PIMC trick5 Def.conf'),'..\\..')   # loading neural networks\n",
    "sampler = Sample.from_conf(conf.load('../../Src/config/SAYC PIMC trick5 Def.conf'), False)  # Load sampling strategies"
   ]
  },
  {
   "cell_type": "code",
   "execution_count": 2,
   "id": "44786d5d",
   "metadata": {},
   "outputs": [
    {
     "name": "stdout",
     "output_type": "stream",
     "text": [
      "[0.   0.5  0.11 0.01 0.08 0.13 0.   0.08 0.53 0.   0.07 0.   0.   0.12 0.08 0.24 0.   0.19 0.26]\n"
     ]
    }
   ],
   "source": [
    "auction = [\"1D\",\"1S\",\"X\",\"PASS\",\"2D\",\"2S\",\"3D\",\"PASS\",\"PASS\",\"PASS\"]\n",
    "\n",
    "hand_str_list = [\n",
    "    \"xx.Q.AKT8x.KJ98x\",\n",
    "    \"xx.K9x.AKT8x.J9x\",\n",
    "    \"xx.K9.AKT8x.J98x\",\n",
    "    \"xx.KQ.AKT8x.JT9x\",\n",
    "    \"xx.x.AKT8x.KJ98x\",\n",
    "    \"xx.Kx.AKT8x.JT9x\",\n",
    "    \"xx.Q9x.AKT8x.J9x\",\n",
    "    \"xx.xx.AKT8x.KJ9x\",\n",
    "    \"xx.Kxx.AKT8x.J9x\",\n",
    "    \"xx.xx.AKT8x.J98x\",\n",
    "    \"xx.9.AKT8x.KJ98x\",\n",
    "    \"xx.Qx.AKT8x.KJ9x\",\n",
    "    \"xx.9x.AKT8x.JT9x\",\n",
    "    \"xx.Kx.AKT8x.J98x\",\n",
    "    \"xx.x.AKT8x.KJT9x\",\n",
    "    \"xx.KQx.AKT8x.J9x\",\n",
    "    \"xx.Kx.AKT8x.KJ9x\",\n",
    "    \"xx.KQ9.AKT8x.J9x\",\n",
    "    \"xx.K.AKT8x.JT98x\"\n",
    "]\n",
    "\n",
    "hands = np.array([parse_hand_f(32)(hand_str).reshape(32) for hand_str in hand_str_list])\n",
    "\n",
    "hand_no = 0\n",
    "dealer = 0\n",
    "scores = sampler.get_bid_scores(hand_no,dealer,auction,[True, False],hands, models)\n",
    "print(scores)"
   ]
  },
  {
   "cell_type": "code",
   "execution_count": 3,
   "id": "5d7ac78f",
   "metadata": {},
   "outputs": [
    {
     "name": "stdout",
     "output_type": "stream",
     "text": [
      "[0.]\n"
     ]
    }
   ],
   "source": [
    "hand_str = \"8.9xx.9x.KT8xxxx\"\n",
    "hand = parse_hand_f(32)(hand_str).reshape(32)\n",
    "hands = np.array([hand])\n",
    "hand_no = 0\n",
    "scores = sampler.get_bid_scores(hand_no,dealer,auction,[False, True],hands, models)\n",
    "print(scores)"
   ]
  },
  {
   "cell_type": "code",
   "execution_count": 4,
   "id": "44f5dbc0",
   "metadata": {},
   "outputs": [
    {
     "name": "stdout",
     "output_type": "stream",
     "text": [
      "[0.]\n"
     ]
    }
   ],
   "source": [
    "hand_str = \"A9x.AK.T8xx.Q9xx\"\n",
    "hand = parse_hand_f(32)(hand_str).reshape(32)\n",
    "hands = np.array([hand])\n",
    "hand_no = 2\n",
    "scores = sampler.get_bid_scores(hand_no,dealer,auction,[True, True],hands, models)\n",
    "print(scores)"
   ]
  },
  {
   "cell_type": "code",
   "execution_count": 5,
   "metadata": {},
   "outputs": [
    {
     "name": "stdout",
     "output_type": "stream",
     "text": [
      "[0.05]\n"
     ]
    }
   ],
   "source": [
    "hand_str = \"KTxx.J9xx.Qx.AKx\"\n",
    "hand = parse_hand_f(32)(hand_str).reshape(32)\n",
    "hands = np.array([hand])\n",
    "hand_no = 3\n",
    "scores = sampler.get_bid_scores(hand_no,dealer,auction,[True, True],hands, models)\n",
    "print(scores)"
   ]
  }
 ],
 "metadata": {
  "kernelspec": {
   "display_name": "Python 3 (ipykernel)",
   "language": "python",
   "name": "python3"
  },
  "language_info": {
   "codemirror_mode": {
    "name": "ipython",
    "version": 3
   },
   "file_extension": ".py",
   "mimetype": "text/x-python",
   "name": "python",
   "nbconvert_exporter": "python",
   "pygments_lexer": "ipython3",
   "version": "3.11.0"
  }
 },
 "nbformat": 4,
 "nbformat_minor": 5
}
