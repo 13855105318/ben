{
 "cells": [
  {
   "cell_type": "markdown",
   "id": "3d26ee18",
   "metadata": {},
   "source": [
    "# Single Dummy Estimates\n",
    "\n",
    "This tutorial shows the use of a neural network to estimate the number of tricks which will be taken on a given open lead in a given contract (single dummy)\n",
    "\n",
    "In this tutorial we'll access a bit lower-level APIs.\n"
   ]
  },
  {
   "cell_type": "code",
   "execution_count": 1,
   "id": "3db7a448",
   "metadata": {},
   "outputs": [
    {
     "name": "stdout",
     "output_type": "stream",
     "text": [
      "WARNING:tensorflow:From c:\\Python311\\Lib\\site-packages\\tensorflow\\python\\compat\\v2_compat.py:107: disable_resource_variables (from tensorflow.python.ops.variable_scope) is deprecated and will be removed in a future version.\n",
      "Instructions for updating:\n",
      "non-resource variables are not supported in the long term\n"
     ]
    }
   ],
   "source": [
    "import sys\n",
    "sys.path.append('../../src')\n",
    "\n",
    "import numpy as np\n",
    "import matplotlib.pyplot as plt\n",
    "\n",
    "import scoring\n",
    "import deck52\n",
    "\n",
    "from nn.models import Models\n",
    "from bidding import bidding\n",
    "from bidding.binary import parse_hand_f\n",
    "from bots import BotBid\n",
    "from objects import Card\n",
    "from util import hand_to_str\n",
    "from sample import Sample\n",
    "import conf\n",
    "\n",
    "np.set_printoptions(precision=2, suppress=True, linewidth=200)\n",
    "np.random.seed(42)\n"
   ]
  },
  {
   "cell_type": "code",
   "execution_count": 2,
   "id": "b08c7148",
   "metadata": {},
   "outputs": [
    {
     "name": "stdout",
     "output_type": "stream",
     "text": [
      "INFO:tensorflow:Restoring parameters from ..\\Models/NS1EW99-bidding-3233000\n",
      "INFO:tensorflow:Restoring parameters from ..\\Models/NS1EW99-binfo-3233000\n",
      "INFO:tensorflow:Restoring parameters from ..\\Models/lead_suit-154000\n",
      "INFO:tensorflow:Restoring parameters from ..\\Models/lead_nt-59000\n",
      "INFO:tensorflow:Restoring parameters from ..\\Models/single_dummy-312000\n",
      "INFO:tensorflow:Restoring parameters from ..\\Models/lefty-1000000\n",
      "INFO:tensorflow:Restoring parameters from ..\\Models/dummy-920000\n",
      "INFO:tensorflow:Restoring parameters from ..\\Models/righty-1000000\n",
      "INFO:tensorflow:Restoring parameters from ..\\Models/decl-1000000\n"
     ]
    }
   ],
   "source": [
    "models = Models.from_conf(conf.load('../Conf/UCBC2024.conf'),'..')   # loading neural networks\n",
    "sampler = Sample.from_conf(conf.load('../Conf/UCBC2024.conf'), False)  # Load sampling strategies\n"
   ]
  },
  {
   "cell_type": "code",
   "execution_count": 3,
   "id": "b4b75d68",
   "metadata": {},
   "outputs": [],
   "source": [
    "# helper functions are defined here. it's ok to scroll over this part\n",
    "\n",
    "# this is the function which does the prediction\n",
    "# for each possible number of tricks (from 0 to 13) \n",
    "# it returns the probability that that number of tricks will be taken (single dummy)\n",
    "def single_dummy(model, hands, decl_i, strain_i, lead_card_i):\n",
    "    # an array, which is the input for the neural network, is prepared\n",
    "    X_sd = np.zeros((hands.shape[0], 32 + 5 + 4*32))\n",
    "    X_sd[:,32 + strain_i] = 1\n",
    "    X_sd[:,(32 + 5 + 0*32):(32 + 5 + 1*32)] = hands[:, (decl_i + 1) % 4]\n",
    "    X_sd[:,(32 + 5 + 1*32):(32 + 5 + 2*32)] = hands[:, (decl_i + 2) % 4]\n",
    "    X_sd[:,(32 + 5 + 2*32):(32 + 5 + 3*32)] = hands[:, (decl_i + 3) % 4]\n",
    "    X_sd[:,(32 + 5 + 3*32):] = hands[:, decl_i]\n",
    "    X_sd[:, lead_card_i] = 1\n",
    "    \n",
    "    return model(X_sd)\n",
    "\n",
    "# plotting the trick probability distribution\n",
    "def plot_tricks(tricks_softmax):\n",
    "    tricks = tricks_softmax[0]\n",
    "    plt.bar(range(14), tricks)\n",
    "    plt.title(f'E(tricks) = {tricks @ np.arange(14)}')\n",
    "    plt.xlabel('# tricks')\n",
    "    plt.ylabel('probability')\n",
    "\n",
    "def expected_score(tricks_softmax, contract, vuln):\n",
    "    tricks = tricks_softmax\n",
    "    score_by_tricks = np.array([scoring.score(contract, vuln, i) for i in range(14)])\n",
    "    return tricks @ score_by_tricks"
   ]
  },
  {
   "cell_type": "code",
   "execution_count": 4,
   "id": "fc7fa234",
   "metadata": {},
   "outputs": [],
   "source": [
    "# we take the following hand as an example\n",
    "# West plays it in 3N on a small heart lead\n",
    "# how many tricks will declarer take?\n",
    "\n",
    "hands_str = 'AK98x.Axxx.Q8x.x J.98x.9xx.AT98xx Qxxxx.QJx.AKTx.x Tx.KTx.Jxx.KQJxx'  # N E S W\n",
    "contract = '2SS'\n",
    "opening_lead = 'CA'"
   ]
  },
  {
   "cell_type": "code",
   "execution_count": 5,
   "id": "573954a6",
   "metadata": {},
   "outputs": [
    {
     "name": "stdout",
     "output_type": "stream",
     "text": [
      "[[[1 1 0 0 0 1 1 1 1 0 0 0 0 0 0 3 0 0 1 0 0 0 1 1 0 0 0 0 0 0 0 1]\n",
      "  [0 0 0 1 0 0 0 0 0 0 0 0 0 1 1 1 0 0 0 0 0 1 0 2 1 0 0 0 1 1 1 2]\n",
      "  [0 0 1 0 0 0 0 4 0 0 1 1 0 0 0 1 1 1 0 0 1 0 0 1 0 0 0 0 0 0 0 1]\n",
      "  [0 0 0 0 1 0 0 1 0 1 0 0 1 0 0 1 0 0 0 1 0 0 0 2 0 1 1 1 0 0 0 2]]]\n"
     ]
    }
   ],
   "source": [
    "# this line just converts the string representation of the hands into a binary format\n",
    "hands = np.vstack([parse_hand_f(32)(s) for s in hands_str.split()]).reshape((-1, 4, 32))\n",
    "\n",
    "print(hands)\n",
    "# applying the function which does the prediction\n",
    "tricks_distr = single_dummy(\n",
    "    models.sd_model.model, \n",
    "    hands, \n",
    "    decl_i='NESW'.index(contract[-1]), \n",
    "    strain_i='NSHDC'.index(contract[1]), \n",
    "    lead_card_i=deck52.card52to32(Card.from_symbol(opening_lead).code())\n",
    ")"
   ]
  },
  {
   "cell_type": "code",
   "execution_count": 6,
   "id": "c6f6fdff",
   "metadata": {},
   "outputs": [
    {
     "data": {
      "text/plain": [
       "array([[0.  , 0.  , 0.  , 0.  , 0.  , 0.  , 0.  , 0.02, 0.05, 0.09, 0.13, 0.22, 0.26, 0.25]], dtype=float32)"
      ]
     },
     "execution_count": 6,
     "metadata": {},
     "output_type": "execute_result"
    }
   ],
   "source": [
    "# the result is an array representing the probability distribution of tricks\n",
    "# the first element of the array is the probability that declarer will take 0 tricks\n",
    "# the last element of the array is the probability that declarer will take 13 tricks\n",
    "tricks_distr"
   ]
  },
  {
   "cell_type": "code",
   "execution_count": 7,
   "id": "a0bead58",
   "metadata": {},
   "outputs": [
    {
     "data": {
      "image/png": "[encoded data removed]",
      "text/plain": [
       "<Figure size 640x480 with 1 Axes>"
      ]
     },
     "metadata": {},
     "output_type": "display_data"
    }
   ],
   "source": [
    "# we can also plot it to see it better\n",
    "plot_tricks(tricks_distr)"
   ]
  },
  {
   "cell_type": "code",
   "execution_count": 8,
   "id": "8923c1dc",
   "metadata": {},
   "outputs": [
    {
     "data": {
      "text/plain": [
       "388.299034156948"
      ]
     },
     "execution_count": 8,
     "metadata": {},
     "output_type": "execute_result"
    }
   ],
   "source": [
    "# we can also compute how much declarer is expected to score on this hand (non-vulnerable)\n",
    "expected_score(tricks_distr, contract='4S', vuln=False)[0]"
   ]
  },
  {
   "cell_type": "code",
   "execution_count": 9,
   "id": "ad71c875",
   "metadata": {},
   "outputs": [
    {
     "data": {
      "text/plain": [
       "0.5053919"
      ]
     },
     "execution_count": 9,
     "metadata": {},
     "output_type": "execute_result"
    }
   ],
   "source": [
    "# or we can get the probability that the contract will be made (i.e declarer will take 12 or more tricks)\n",
    "np.sum(tricks_distr[:,12:])"
   ]
  }
 ],
 "metadata": {
  "kernelspec": {
   "display_name": "Python 3 (ipykernel)",
   "language": "python",
   "name": "python3"
  },
  "language_info": {
   "codemirror_mode": {
    "name": "ipython",
    "version": 3
   },
   "file_extension": ".py",
   "mimetype": "text/x-python",
   "name": "python",
   "nbconvert_exporter": "python",
   "pygments_lexer": "ipython3",
   "version": "3.11.0"
  }
 },
 "nbformat": 4,
 "nbformat_minor": 5
}
