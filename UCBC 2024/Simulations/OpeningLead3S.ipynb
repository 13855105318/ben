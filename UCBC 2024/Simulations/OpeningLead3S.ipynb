{
 "cells": [
  {
   "cell_type": "markdown",
   "id": "170af530",
   "metadata": {},
   "source": [
    "# Opening Lead\n",
    "\n",
    "This is a tutorial for how to use the opening lead engine."
   ]
  },
  {
   "cell_type": "code",
   "execution_count": 1,
   "id": "26570686",
   "metadata": {},
   "outputs": [
    {
     "name": "stdout",
     "output_type": "stream",
     "text": [
      "WARNING:tensorflow:From c:\\Python311\\Lib\\site-packages\\tensorflow\\python\\compat\\v2_compat.py:107: disable_resource_variables (from tensorflow.python.ops.variable_scope) is deprecated and will be removed in a future version.\n",
      "Instructions for updating:\n",
      "non-resource variables are not supported in the long term\n"
     ]
    }
   ],
   "source": [
    "import os\n",
    "import sys\n",
    "sys.path.append('../../src')\n",
    "os.environ['BEN_HOME'] = \"../..\"\n",
    "\n",
    "from nn.models import Models\n",
    "from bots import BotLead\n",
    "from sample import Sample\n",
    "import conf\n",
    "import numpy as np\n",
    "\n",
    "np.set_printoptions(precision=2, suppress=True, linewidth=200)\n",
    "np.random.seed(42)\n"
   ]
  },
  {
   "cell_type": "code",
   "execution_count": 2,
   "id": "fe373c76",
   "metadata": {},
   "outputs": [
    {
     "name": "stdout",
     "output_type": "stream",
     "text": [
      "INFO:tensorflow:Restoring parameters from ..\\Models/NS1EW99-bidding_same-5556000\n",
      "INFO:tensorflow:Restoring parameters from ..\\Models/NS1EW99-binfo_same-5556000\n",
      "INFO:tensorflow:Restoring parameters from ..\\Models/lead_suit-999000\n",
      "INFO:tensorflow:Restoring parameters from ..\\Models/lead_nt-475000\n",
      "INFO:tensorflow:Restoring parameters from ..\\Models/Jack/lr3-1000000\n",
      "INFO:tensorflow:Restoring parameters from ..\\Models/single_dummy-32768000\n",
      "INFO:tensorflow:Restoring parameters from ..\\Models/lefty_nt-475000\n",
      "INFO:tensorflow:Restoring parameters from ..\\Models/dummy_nt-475000\n",
      "INFO:tensorflow:Restoring parameters from ..\\Models/righty_nt-475000\n",
      "INFO:tensorflow:Restoring parameters from ..\\Models/decl_nt-950000\n",
      "INFO:tensorflow:Restoring parameters from ..\\Models/lefty_suit-999000\n",
      "INFO:tensorflow:Restoring parameters from ..\\Models/dummy_suit-999000\n",
      "INFO:tensorflow:Restoring parameters from ..\\Models/righty_suit-999000\n",
      "INFO:tensorflow:Restoring parameters from ..\\Models/decl_suit-1278000\n"
     ]
    }
   ],
   "source": [
    "models = Models.from_conf(conf.load('../Conf/UCBC2024.conf'),'..')   # loading neural networks\n",
    "sampler = Sample.from_conf(conf.load('../Conf/UCBC2024.conf'), False)  # Load sampling strategies"
   ]
  },
  {
   "cell_type": "code",
   "execution_count": 3,
   "id": "c3397678",
   "metadata": {},
   "outputs": [
    {
     "name": "stderr",
     "output_type": "stream",
     "text": [
      "Loaded lib dds.dll\n"
     ]
    }
   ],
   "source": [
    "# both vulnerable. you are sitting East as dealer and you hold\n",
    "hand = 'AQT8.AKT82.JT.43'\n",
    "seat = 1\n",
    "# the auction goes:\n",
    "auction = [\"PAD_START\", \"PAD_START\", \"PAD_START\", \"2D\", \"3S\", \"PASS\", \"PASS\", \"PASS\"]\n",
    "\n",
    "# what to lead?\n",
    "\n",
    "lead_bot = BotLead([True, True], hand, models, sampler, seat, False)\n",
    "lead = lead_bot.find_opening_lead(auction)"
   ]
  },
  {
   "cell_type": "code",
   "execution_count": 4,
   "id": "a2b5fe25",
   "metadata": {},
   "outputs": [
    {
     "data": {
      "text/plain": [
       "HK"
      ]
     },
     "execution_count": 4,
     "metadata": {},
     "output_type": "execute_result"
    }
   ],
   "source": [
    "lead.card"
   ]
  },
  {
   "cell_type": "markdown",
   "id": "02e88396",
   "metadata": {},
   "source": [
    "seems like the engine chose to lead the ace of diamonds\n",
    "\n",
    "the other options it considered were: a small spade and a small club"
   ]
  },
  {
   "cell_type": "code",
   "execution_count": 5,
   "id": "956ef356",
   "metadata": {},
   "outputs": [
    {
     "data": {
      "text/plain": [
       "[{'card': 'HK',\n",
       "  'insta_score': 0.334,\n",
       "  'expected_tricks_sd': 5.86,\n",
       "  'p_make_contract': 1.0},\n",
       " {'card': 'DJ',\n",
       "  'insta_score': 0.27,\n",
       "  'expected_tricks_sd': 5.91,\n",
       "  'p_make_contract': 1.0},\n",
       " {'card': 'HA',\n",
       "  'insta_score': 0.218,\n",
       "  'expected_tricks_sd': 5.86,\n",
       "  'p_make_contract': 1.0}]"
      ]
     },
     "execution_count": 5,
     "metadata": {},
     "output_type": "execute_result"
    }
   ],
   "source": [
    "lead.to_dict()['candidates']"
   ]
  },
  {
   "cell_type": "markdown",
   "id": "97efc5a1",
   "metadata": {},
   "source": [
    "in the above output:\n",
    "- `insta_score` reflects the preference of the neural network\n",
    "- `expected_tricks` how many tricks declarer is expected to take on this lead\n",
    "- `p_make_contract` is the probability of the contract making on this lead\n",
    "\n",
    "the probability of making and the expected tricks are computed on samples which are consistent with the auction. the samples are estimated single dummy using a neural network (more on this in another tutorial). we could also solve the samples double dummy, but that would be quite a bit slower."
   ]
  },
  {
   "cell_type": "code",
   "execution_count": 6,
   "id": "7cb2bf98",
   "metadata": {},
   "outputs": [
    {
     "data": {
      "text/plain": [
       "['AQT8.AKT8x.JT.xx x.xxx.A8xx.KJ98x x.QJx.KQ9xxx.Txx KJ9xxxx.9x.x.AQx 0.74913',\n",
       " 'AQT8.AKT8x.JT.xx .Jxxx.Qxx.K8xxxx x.9x.K98xxx.AQJ9 KJ9xxxxx.Qx.Ax.T 0.74034',\n",
       " 'AQT8.AKT8x.JT.xx xx.Q9xx.Kx.J8xxx .Jxx.Q98xxx.AQ9x KJ9xxxx.x.Axx.KT 0.74062',\n",
       " 'AQT8.AKT8x.JT.xx Jx.QJ9x.K98x.Txx .xx.AQxxxx.QJ98x K9xxxxx.xx.x.AKx 0.71911',\n",
       " 'AQT8.AKT8x.JT.xx 9.QJxxx.xxx.Axxx x.x.KQ98xx.KT98x KJxxxxx.9x.Ax.QJ 0.73346',\n",
       " 'AQT8.AKT8x.JT.xx x.xx.A9xx.KT98xx x.QJx.Q8xxxx.QJx KJ9xxxx.9xx.K.Ax 0.73768',\n",
       " 'AQT8.AKT8x.JT.xx x.QJx.9xxx.QJTxx x.xxx.KQ8xxx.A8x KJ9xxxx.9x.A.K9x 0.76823',\n",
       " 'AQT8.AKT8x.JT.xx .Q9xx.Q9xx.Kxxxx xx.xx.A8xxxx.AJ8 KJ9xxxx.Jx.K.QT9 0.73872',\n",
       " 'AQT8.AKT8x.JT.xx J.9xxxx.A98.J8xx 9x.Q.Kxxxxx.KQ9x Kxxxxx.Jx.Qx.ATx 0.71277',\n",
       " 'AQT8.AKT8x.JT.xx .QJ9xx.98xxx.Txx x.xx.AKQxxx.J9xx KJ9xxxxx.x..AKQ8 0.74023',\n",
       " 'AQT8.AKT8x.JT.xx 9x.xxx.8xxx.KJTx KJ.Jxx.KQ9xxx.xx xxxxx.Q9.A.AQ98x 0.70117',\n",
       " 'AQT8.AKT8x.JT.xx x.QJ9x.8xxx.T8xx 9.xx.KQ9xxx.QJ9x KJxxxxx.xx.A.AKx 0.75657',\n",
       " 'AQT8.AKT8x.JT.xx x.J9xx.Axxx.QT8x .xxx.KQ8xxx.A9xx KJ9xxxxx.Q.9.KJx 0.77491',\n",
       " 'AQT8.AKT8x.JT.xx Jx.Qxxx.xxxx.Qxx x.9x.AQ98xx.K8xx K9xxxx.Jx.K.AJT9 0.72141',\n",
       " 'AQT8.AKT8x.JT.xx .J9x.K8xx.K98xxx xx.x.AQ9xxx.QJTx KJ9xxxx.Qxxx.x.A 0.75567',\n",
       " 'AQT8.AKT8x.JT.xx x.J9xx.Kxxx.JT8x .Qxx.Q98xxx.AQxx KJ9xxxxx.x.A.K9x 0.74980',\n",
       " 'AQT8.AKT8x.JT.xx x.J9x.Qxxx.KQ8xx x.Qxx.AK9xxx.JTx KJ9xxxx.xx.8.A9x 0.75850',\n",
       " 'AQT8.AKT8x.JT.xx x.J9x.xxxx.KJxxx x.xxx.AQ98xx.QT9 KJ9xxxx.Qx.K.A8x 0.75902',\n",
       " 'AQT8.AKT8x.JT.xx K.Qxx.8xx.QT9xxx x.Jxx.A9xxxx.KJ8 J9xxxxx.9x.KQ.Ax 0.71880',\n",
       " 'AQT8.AKT8x.JT.xx x.QJxx.K9xx.T8xx x.x.A8xxxx.KQ9xx KJ9xxxx.9xx.Q.AJ 0.76009']"
      ]
     },
     "execution_count": 6,
     "metadata": {},
     "output_type": "execute_result"
    }
   ],
   "source": [
    "# each row is one sample board\n",
    "# the hands are in the order: LHO, Partner, RHO. Your cards are not shown as they are fixed/\n",
    "\n",
    "lead.samples"
   ]
  }
 ],
 "metadata": {
  "kernelspec": {
   "display_name": "Python 3 (ipykernel)",
   "language": "python",
   "name": "python3"
  },
  "language_info": {
   "codemirror_mode": {
    "name": "ipython",
    "version": 3
   },
   "file_extension": ".py",
   "mimetype": "text/x-python",
   "name": "python",
   "nbconvert_exporter": "python",
   "pygments_lexer": "ipython3",
   "version": "3.11.0"
  }
 },
 "nbformat": 4,
 "nbformat_minor": 5
}
