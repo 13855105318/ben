{
 "cells": [
  {
   "cell_type": "markdown",
   "id": "170af530",
   "metadata": {},
   "source": [
    "# Opening Lead\n",
    "\n",
    "This is a tutorial for how to use the opening lead engine."
   ]
  },
  {
   "cell_type": "code",
   "execution_count": 1,
   "id": "26570686",
   "metadata": {},
   "outputs": [
    {
     "name": "stdout",
     "output_type": "stream",
     "text": [
      "WARNING:tensorflow:From c:\\Python311\\Lib\\site-packages\\tensorflow\\python\\compat\\v2_compat.py:107: disable_resource_variables (from tensorflow.python.ops.variable_scope) is deprecated and will be removed in a future version.\n",
      "Instructions for updating:\n",
      "non-resource variables are not supported in the long term\n",
      "INFO:tensorflow:Restoring parameters from ..\\Models/NS1EW99-bidding_same-5556000\n",
      "INFO:tensorflow:Restoring parameters from ..\\Models/NS1EW99-binfo_same-5556000\n",
      "INFO:tensorflow:Restoring parameters from ..\\Models/lead_suit-999000\n",
      "INFO:tensorflow:Restoring parameters from ..\\Models/lead_nt-475000\n",
      "INFO:tensorflow:Restoring parameters from ..\\Models/Jack/lr3-1000000\n",
      "INFO:tensorflow:Restoring parameters from ..\\Models/single_dummy-32768000\n",
      "INFO:tensorflow:Restoring parameters from ..\\Models/jack/lefty-1000000\n",
      "INFO:tensorflow:Restoring parameters from ..\\Models/jack/dummy-920000\n",
      "INFO:tensorflow:Restoring parameters from ..\\Models/jack/righty-1000000\n",
      "INFO:tensorflow:Restoring parameters from ..\\Models/jack/decl-1000000\n",
      "INFO:tensorflow:Restoring parameters from ..\\Models/jack/lefty-1000000\n",
      "INFO:tensorflow:Restoring parameters from ..\\Models/jack/dummy-920000\n",
      "INFO:tensorflow:Restoring parameters from ..\\Models/jack/righty-1000000\n",
      "INFO:tensorflow:Restoring parameters from ..\\Models/jack/decl-1000000\n"
     ]
    }
   ],
   "source": [
    "import os\n",
    "import sys\n",
    "sys.path.append('../../src')\n",
    "os.environ['BEN_HOME'] = \"../..\"\n",
    "\n",
    "from nn.models import Models\n",
    "from bots import BotLead\n",
    "from sample import Sample\n",
    "import conf\n",
    "import numpy as np\n",
    "\n",
    "np.set_printoptions(precision=2, suppress=True, linewidth=200)\n",
    "np.random.seed(42)\n",
    "\n",
    "models = Models.from_conf(conf.load('../Conf/UCBC2024.conf'),'..')   # loading neural networks\n",
    "sampler = Sample.from_conf(conf.load('../Conf/UCBC2024.conf'), False)  # Load sampling strategies"
   ]
  },
  {
   "cell_type": "code",
   "execution_count": 2,
   "id": "c3397678",
   "metadata": {},
   "outputs": [
    {
     "name": "stderr",
     "output_type": "stream",
     "text": [
      "Loaded lib dds.dll\n"
     ]
    }
   ],
   "source": [
    "# both vulnerable. you are sitting East, South is dealer\n",
    "hand = 'AQT8.AKT82.JT.43'\n",
    "seat = 1\n",
    "dealer = 2\n",
    "# the auction goes:\n",
    "auction = [\"PAD_START\",\"PAD_START\", \"PASS\", \"2D\", \"3S\", \"PASS\", \"PASS\", \"PASS\"]\n",
    "\n",
    "# what to lead?\n",
    "\n",
    "lead_bot = BotLead([True, True], hand, models, sampler, seat, dealer, False)\n",
    "lead = lead_bot.find_opening_lead(auction)"
   ]
  },
  {
   "cell_type": "code",
   "execution_count": 3,
   "id": "a2b5fe25",
   "metadata": {},
   "outputs": [
    {
     "data": {
      "text/plain": [
       "HK"
      ]
     },
     "execution_count": 3,
     "metadata": {},
     "output_type": "execute_result"
    }
   ],
   "source": [
    "lead.card"
   ]
  },
  {
   "cell_type": "markdown",
   "id": "02e88396",
   "metadata": {},
   "source": [
    "seems like the engine chose to lead the king of hearts\n",
    "\n",
    "the other options it considered were: Jack of diamonds, Ace of hearts and a small club"
   ]
  },
  {
   "cell_type": "code",
   "execution_count": 4,
   "id": "956ef356",
   "metadata": {},
   "outputs": [
    {
     "data": {
      "text/plain": [
       "[{'card': 'HK',\n",
       "  'insta_score': 0.336,\n",
       "  'expected_tricks_sd': 5.75,\n",
       "  'p_make_contract': 1.0},\n",
       " {'card': 'HA',\n",
       "  'insta_score': 0.209,\n",
       "  'expected_tricks_sd': 5.75,\n",
       "  'p_make_contract': 1.0},\n",
       " {'card': 'DJ',\n",
       "  'insta_score': 0.269,\n",
       "  'expected_tricks_sd': 5.86,\n",
       "  'p_make_contract': 0.99},\n",
       " {'card': 'Cx',\n",
       "  'insta_score': 0.173,\n",
       "  'expected_tricks_sd': 5.93,\n",
       "  'p_make_contract': 0.99}]"
      ]
     },
     "execution_count": 4,
     "metadata": {},
     "output_type": "execute_result"
    }
   ],
   "source": [
    "lead.to_dict()['candidates']"
   ]
  },
  {
   "cell_type": "markdown",
   "id": "97efc5a1",
   "metadata": {},
   "source": [
    "in the above output:\n",
    "- `insta_score` reflects the preference of the neural network\n",
    "- `expected_tricks` how many tricks declarer is expected to take on this lead\n",
    "- `p_make_contract` is the probability of the contract making on this lead\n",
    "\n",
    "the probability of making and the expected tricks are computed on samples which are consistent with the auction. the samples are estimated single dummy using a neural network (more on this in another tutorial). we could also solve the samples double dummy, but that would be quite a bit slower."
   ]
  },
  {
   "cell_type": "code",
   "execution_count": 5,
   "id": "7cb2bf98",
   "metadata": {},
   "outputs": [
    {
     "data": {
      "text/plain": [
       "['AQT8.AKT8x.JT.xx xx.J9xx.K8xx.Kxx J.xx.AQ9xxx.JT98 K9xxxx.Qx.x.AQxx 0.70159',\n",
       " 'AQT8.AKT8x.JT.xx x.xxxx.KQ9x.AT8x .Jx.A8xxxx.KQ9xx KJ9xxxxx.Q9.x.Jx 0.73502',\n",
       " 'AQT8.AKT8x.JT.xx x.QJ9x.K9x.J98xx x.xx.A8xxxx.KQTx KJ9xxxx.xx.Qx.Ax 0.76897',\n",
       " 'AQT8.AKT8x.JT.xx KJxx.J9x.8xx.Jxx x.xx.KQxxxx.Q8xx 9xxx.Qxx.A9.AKT9 0.70293',\n",
       " 'AQT8.AKT8x.JT.xx xx.xxx.xxxx.Kxxx J.Q9x.KQ98xx.Q9x K9xxxx.Jx.A.AJT8 0.73150',\n",
       " 'AQT8.AKT8x.JT.xx .J9xxx.Axx.AJT8x 9.xx.KQ8xxx.KQxx KJxxxxxx.Q.9x.9x 0.71827',\n",
       " 'AQT8.AKT8x.JT.xx 9.Jxxx.8xx.QJ8xx xx.Qxx.KQ9xxx.K9 KJxxxx.9.Ax.ATxx 0.72537',\n",
       " 'AQT8.AKT8x.JT.xx x.9xx.Kxxx.KJxxx x.Jxx.Q98xxx.AQ8 KJ9xxxx.Qx.A.T9x 0.78828',\n",
       " 'AQT8.AKT8x.JT.xx .Qxxxx.A8xx.KT9x 9.9x.KQ9xxx.AJ8x KJxxxxxx.J.x.Qxx 0.74332',\n",
       " 'AQT8.AKT8x.JT.xx xxx.Jx.8xx.AJxxx .xxx.AQ9xxx.Q98x KJ9xxx.Q9x.Kx.KT 0.70597',\n",
       " 'AQT8.AKT8x.JT.xx x.Jxxx.K8x.QT8xx x.9.Q9xxxx.AK9xx KJ9xxxx.Qxx.Ax.J 0.77267',\n",
       " 'AQT8.AKT8x.JT.xx x.Qxxx.Axx.QT9xx x.Jx.KQ98xx.KJxx KJ9xxxx.9x.xx.A8 0.71043',\n",
       " 'AQT8.AKT8x.JT.xx KJ9.Qxx.xxx.JT8x x.J9x.Q98xxx.AKx xxxxx.xx.AK.Q9xx 0.71337',\n",
       " 'AQT8.AKT8x.JT.xx 9xx.J9x.xxx.Kxxx .xx.KQ98xx.QJ98x KJxxxx.Qxx.Ax.AT 0.72768',\n",
       " 'AQT8.AKT8x.JT.xx .9xxxx.A8xx.T8xx 9x.Qx.KQ9xxx.QJx KJxxxxx.J.x.AK9x 0.71550',\n",
       " 'AQT8.AKT8x.JT.xx xx.9xxx.Q9x.J8xx .QJ.Kxxxxx.QT9xx KJ9xxxx.xx.A8.AK 0.73995',\n",
       " 'AQT8.AKT8x.JT.xx .Qxxxx.98xx.KJ9x x.9x.KQxxxx.QTxx KJ9xxxxx.J.A.A8x 0.70210',\n",
       " 'AQT8.AKT8x.JT.xx x.Jxxx.8xx.AJ8xx x.Qx.K9xxxx.KQT9 KJ9xxxx.9x.AQ.xx 0.78324',\n",
       " 'AQT8.AKT8x.JT.xx Kx.9xx.8xxx.Qxxx .Qxx.KQ9xxx.T98x J9xxxxx.Jx.A.AKJ 0.73905',\n",
       " 'AQT8.AKT8x.JT.xx Jx.Qxxx.xxxx.Qxx x.9x.AQ98xx.K8xx K9xxxx.Jx.K.AJT9 0.73842']"
      ]
     },
     "execution_count": 5,
     "metadata": {},
     "output_type": "execute_result"
    }
   ],
   "source": [
    "# each row is one sample board\n",
    "# the hands are in the order: You, LHO, Partner, RHO. \n",
    "\n",
    "lead.samples"
   ]
  }
 ],
 "metadata": {
  "kernelspec": {
   "display_name": "Python 3 (ipykernel)",
   "language": "python",
   "name": "python3"
  },
  "language_info": {
   "codemirror_mode": {
    "name": "ipython",
    "version": 3
   },
   "file_extension": ".py",
   "mimetype": "text/x-python",
   "name": "python",
   "nbconvert_exporter": "python",
   "pygments_lexer": "ipython3",
   "version": "3.11.0"
  }
 },
 "nbformat": 4,
 "nbformat_minor": 5
}
