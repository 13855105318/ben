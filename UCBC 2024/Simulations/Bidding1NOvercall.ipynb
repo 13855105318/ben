{
 "cells": [
  {
   "cell_type": "markdown",
   "id": "75d07246",
   "metadata": {},
   "source": [
    "# Bidding\n",
    "\n",
    "This is a tutorial for how to use the bidding engine"
   ]
  },
  {
   "cell_type": "code",
   "execution_count": 1,
   "id": "59a5664c",
   "metadata": {},
   "outputs": [
    {
     "name": "stdout",
     "output_type": "stream",
     "text": [
      "WARNING:tensorflow:From c:\\Python311\\Lib\\site-packages\\tensorflow\\python\\compat\\v2_compat.py:107: disable_resource_variables (from tensorflow.python.ops.variable_scope) is deprecated and will be removed in a future version.\n",
      "Instructions for updating:\n",
      "non-resource variables are not supported in the long term\n",
      "INFO:tensorflow:Restoring parameters from ..\\Models/NS1EW99-bidding-3961000\n",
      "INFO:tensorflow:Restoring parameters from ..\\Models/NS1EW99-binfo-1887000\n",
      "INFO:tensorflow:Restoring parameters from ..\\Models/lead_suit-154000\n",
      "INFO:tensorflow:Restoring parameters from ..\\Models/lead_nt-59000\n",
      "INFO:tensorflow:Restoring parameters from ..\\Models/single_dummy-1562000\n",
      "INFO:tensorflow:Restoring parameters from ..\\Models/lefty-1000000\n",
      "INFO:tensorflow:Restoring parameters from ..\\Models/dummy-920000\n",
      "INFO:tensorflow:Restoring parameters from ..\\Models/righty-1000000\n",
      "INFO:tensorflow:Restoring parameters from ..\\Models/decl-1000000\n"
     ]
    }
   ],
   "source": [
    "import sys\n",
    "sys.path.append('../../src')\n",
    "\n",
    "from nn.models import Models\n",
    "from bots import BotBid\n",
    "from util import hand_to_str\n",
    "from sample import Sample\n",
    "import conf\n",
    "import numpy as np\n",
    "\n",
    "np.set_printoptions(precision=2, suppress=True, linewidth=200)\n",
    "np.random.seed(42)\n",
    "models = Models.from_conf(conf.load('../Conf/UCBC2024.conf'),'..')   # loading neural networks\n",
    "sampler = Sample.from_conf(conf.load('../Conf/UCBC2024.conf'), False)  # Load sampling strategies\n"
   ]
  },
  {
   "cell_type": "markdown",
   "id": "10d8f2fc",
   "metadata": {},
   "source": [
    "### Bidding"
   ]
  },
  {
   "cell_type": "code",
   "execution_count": 2,
   "id": "19dbfeb7",
   "metadata": {},
   "outputs": [
    {
     "data": {
      "text/plain": [
       "[{'call': '2D', 'insta_score': 0.311, 'expected_score': 2, 'adjustment': 16},\n",
       " {'call': '2C', 'insta_score': 0.666, 'expected_score': -36, 'adjustment': 33}]"
      ]
     },
     "execution_count": 2,
     "metadata": {},
     "output_type": "execute_result"
    }
   ],
   "source": [
    "vuln_ns, vuln_ew = False, False\n",
    "hand = 'AQJ986.QJ952.7.8'\n",
    "\n",
    "auction = [\"PASS\", \"1N\"]\n",
    "bot_bid = BotBid([vuln_ns, vuln_ew], hand, models, sampler, 2, False)\n",
    "\n",
    "bid = bot_bid.bid(auction)\n",
    "bid.to_dict()['candidates']\n",
    "\n",
    "# what's your bid?"
   ]
  },
  {
   "cell_type": "code",
   "execution_count": 3,
   "id": "55b647a5",
   "metadata": {},
   "outputs": [
    {
     "name": "stdout",
     "output_type": "stream",
     "text": [
      "Tx.xx.T9xx.KJxxx xx.AKx.Q8xx.AQ9x AQJ98x.QJ9xx.x.8 Kxx.T8x.AKJx.Txx 0.99703 \n",
      " P-1N-2C-X-2H-P-P-X-P-P-P (5.0)  \n",
      " P-1N-2D-X-2H-X-P-3N-P-P-P (10.0) \n",
      "xxx.ATxx.Jxx.Qxx Txx.Kx.AKQx.KTxx AQJ98x.QJ9xx.x.8 K.8x.T98xx.AJ9xx 0.99823 \n",
      " P-1N-2C-X-2H-X-P-P-P (9.7)  \n",
      " P-1N-2D-X-2H-X-P-P-P (9.7) \n",
      "x.xx.J8xxx.KQJxx Kx.A8xx.KQT.A9xx AQJ98x.QJ9xx.x.8 Txxx.KT.A9xx.Txx 0.99914 \n",
      " P-1N-2C-X-2H-X-P-P-P (6.4)  \n",
      " P-1N-2D-X-2H-X-P-P-P (6.4) \n",
      "Txxx.8x.ATxx.Jxx Kx.Kxx.KQ8x.KQ9x AQJ98x.QJ9xx.x.8 x.ATx.J9xx.ATxxx 0.99826 \n",
      " P-1N-2C-X-2S-P-P-3C-P-P-P (9.5)  \n",
      " P-1N-2D-X-2S-X-P-P-P (10.0) \n",
      "Tx.Ax.T9xxx.Qxxx Kx.Txx.AQx.AKJ9x AQJ98x.QJ9xx.x.8 xxx.K8x.KJ8x.Txx 0.99696 \n",
      " P-1N-2C-X-2H-3C-P-P-P (8.0)  \n",
      " P-1N-2D-X-2H-3C-P-P-P (8.0) \n",
      "x.T8x.AT98.AQTxx KTx.AKx.Kx.KJxxx AQJ98x.QJ9xx.x.8 xxx.xx.QJxxxx.9x 0.94270 \n",
      " P-1N-2C-P-2H-3C-P-3D-P-P-P (7.0)  \n",
      " P-1N-2D-P-2H-3C-P-P-P (5.5) \n",
      "xxx.T8xx.98x.QJ9 KT.AKx.AJxx.Txxx AQJ98x.QJ9xx.x.8 xx.x.KQTxx.AKxxx 0.99830 \n",
      " P-1N-2C-X-2H-X-P-3N-P-P-P (6.5)  \n",
      " P-1N-2D-X-2H-X-P-3D-P-P-P (11.2) \n",
      "x.Tx.AT98x.KJT9x Kxx.AKx.KQxx.Qxx AQJ98x.QJ9xx.x.8 Txx.8xx.Jxx.Axxx 0.99941 \n",
      " P-1N-2C-P-2H-P-P-P (8.6)  \n",
      " P-1N-2D-P-2H-P-P-P (8.6) \n",
      "Kx.T8.KJTx.Qxxxx Txx.AKxx.AQx.ATx AQJ98x.QJ9xx.x.8 xx.xx.98xxx.KJ9x 0.99919 \n",
      " P-1N-2C-P-2S-P-P-P (8.5)  \n",
      " P-1N-2D-P-2H-P-P-P (6.8) \n",
      "KTxx.xx.98xx.Axx xx.AKT.AKx.Qxxxx AQJ98x.QJ9xx.x.8 x.8xx.QJTxx.KJT9 0.99822 \n",
      " P-1N-2C-X-2S-3C-P-P-P (10.2)  \n",
      " P-1N-2D-X-2S-3C-P-P-P (10.2) \n"
     ]
    }
   ],
   "source": [
    "### Samples consistent with the auction so far\n",
    "\n",
    "for i in range(min(10,len(bid.samples))):\n",
    "    print(bid.samples[i])\n"
   ]
  },
  {
   "cell_type": "markdown",
   "id": "7d0dd8f5",
   "metadata": {},
   "source": [
    "West always has the same cards because it's your hand and it's known to you"
   ]
  },
  {
   "cell_type": "code",
   "execution_count": 4,
   "id": "7101e514",
   "metadata": {},
   "outputs": [
    {
     "name": "stdout",
     "output_type": "stream",
     "text": [
      "xxx.T8x.AK9xx.xx Tx.AKxx.Qxx.KQJx AQJ98x.QJ9xx.x.8 Kx.x.JT8x.AT9xxx 1.00\n",
      "Kx.8xx.JTxxx.9xx xxx.AK.Kxx.KQTxx AQJ98x.QJ9xx.x.8 Tx.Txx.AQ98.AJxx 1.00\n",
      "xx.8xx.J8xx.QJxx Kxx.Ax.AQx.KTxxx AQJ98x.QJ9xx.x.8 Tx.KTx.KT9xx.A9x 1.00\n",
      "Txxx.x.T9xx.AJxx Kx.AT8xx.Kxx.KQ9 AQJ98x.QJ9xx.x.8 x.Kx.AQJ8x.Txxxx 0.45\n",
      "xx.x.KT9xxx.Q9xx Kx.AKxx.Qxx.ATxx AQJ98x.QJ9xx.x.8 Txx.T8x.AJ8.KJxx 0.46\n",
      "Tx.Kxxx.Qxxx.QJx Kxxx.T8.AK9x.AKx AQJ98x.QJ9xx.x.8 x.Ax.JT8x.T9xxxx 1.00\n",
      "xx.ATx.9xxxx.Txx xx.Kxx.QJTx.AKQJ AQJ98x.QJ9xx.x.8 KTx.8x.AK8.9xxxx 1.00\n",
      "xx.xx.T98xx.AQxx Kxx.A8x.AQx.KTxx AQJ98x.QJ9xx.x.8 Tx.KTx.KJxx.J9xx 1.00\n",
      "Txx.KTx.Qxxx.Txx Kxx.Axx.JT9.AK9x AQJ98x.QJ9xx.x.8 x.8x.AK8xx.QJxxx 1.00\n",
      "xx.Tx.T9xx.AK9xx Tx.AKxx.AJ8x.QJx AQJ98x.QJ9xx.x.8 Kxx.8x.KQxx.Txxx 1.00\n"
     ]
    }
   ],
   "source": [
    "# we got some samples above. if we want more, we can always get more\n",
    "auction = [\"PASS\", \"1N\"]\n",
    "sample_hands, sorted_score, p_hcp, p_shp = bot_bid.sample_hands_auction(auction)\n",
    "\n",
    "for i in range(min(10,sample_hands.shape[0])):\n",
    "    print(f'{hand_to_str(sample_hands[i, 0, :])} {hand_to_str(sample_hands[i, 1, :])} {hand_to_str(sample_hands[i, 2, :])} {hand_to_str(sample_hands[i, 3, :])} {sorted_score[i]:.2f}')"
   ]
  }
 ],
 "metadata": {
  "kernelspec": {
   "display_name": "Python 3 (ipykernel)",
   "language": "python",
   "name": "python3"
  },
  "language_info": {
   "codemirror_mode": {
    "name": "ipython",
    "version": 3
   },
   "file_extension": ".py",
   "mimetype": "text/x-python",
   "name": "python",
   "nbconvert_exporter": "python",
   "pygments_lexer": "ipython3",
   "version": "3.11.0"
  }
 },
 "nbformat": 4,
 "nbformat_minor": 5
}
