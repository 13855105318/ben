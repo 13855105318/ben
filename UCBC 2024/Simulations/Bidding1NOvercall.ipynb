{
 "cells": [
  {
   "cell_type": "markdown",
   "id": "75d07246",
   "metadata": {},
   "source": [
    "# Bidding\n",
    "\n",
    "This is a tutorial for how to use the bidding engine"
   ]
  },
  {
   "cell_type": "code",
   "execution_count": 1,
   "id": "59a5664c",
   "metadata": {},
   "outputs": [
    {
     "name": "stdout",
     "output_type": "stream",
     "text": [
      "WARNING:tensorflow:From c:\\Python311\\Lib\\site-packages\\tensorflow\\python\\compat\\v2_compat.py:107: disable_resource_variables (from tensorflow.python.ops.variable_scope) is deprecated and will be removed in a future version.\n",
      "Instructions for updating:\n",
      "non-resource variables are not supported in the long term\n",
      "INFO:tensorflow:Restoring parameters from ..\\Models/NS1EW99-bidding_same-278000\n",
      "INFO:tensorflow:Restoring parameters from ..\\Models/NS1EW99-binfo_same-278000\n",
      "INFO:tensorflow:Restoring parameters from ..\\Models/lead_suit-154000\n",
      "INFO:tensorflow:Restoring parameters from ..\\Models/lead_nt-59000\n",
      "INFO:tensorflow:Restoring parameters from ..\\Models/lr3-1000000\n",
      "INFO:tensorflow:Restoring parameters from ..\\Models/single_dummy-32768000\n",
      "INFO:tensorflow:Restoring parameters from ..\\Models/lefty-1000000\n",
      "INFO:tensorflow:Restoring parameters from ..\\Models/dummy-920000\n",
      "INFO:tensorflow:Restoring parameters from ..\\Models/righty-1000000\n",
      "INFO:tensorflow:Restoring parameters from ..\\Models/decl-1000000\n"
     ]
    }
   ],
   "source": [
    "import sys\n",
    "sys.path.append('../../src')\n",
    "\n",
    "from nn.models import Models\n",
    "from bots import BotBid\n",
    "from util import hand_to_str\n",
    "from sample import Sample\n",
    "import conf\n",
    "import numpy as np\n",
    "\n",
    "np.set_printoptions(precision=2, suppress=True, linewidth=200)\n",
    "np.random.seed(42)\n",
    "models = Models.from_conf(conf.load('../Conf/UCBC2024.conf'),'..')   # loading neural networks\n",
    "sampler = Sample.from_conf(conf.load('../Conf/UCBC2024.conf'), False)  # Load sampling strategies\n"
   ]
  },
  {
   "cell_type": "markdown",
   "id": "10d8f2fc",
   "metadata": {},
   "source": [
    "### Bidding"
   ]
  },
  {
   "cell_type": "code",
   "execution_count": 2,
   "id": "19dbfeb7",
   "metadata": {},
   "outputs": [
    {
     "data": {
      "text/plain": [
       "[{'call': '2C', 'insta_score': 0.751, 'expected_score': -47, 'adjustment': 38},\n",
       " {'call': '2S', 'insta_score': 0.11, 'expected_score': -28, 'adjustment': 6}]"
      ]
     },
     "execution_count": 2,
     "metadata": {},
     "output_type": "execute_result"
    }
   ],
   "source": [
    "vuln_ns, vuln_ew = False, False\n",
    "hand = 'AQJ986.QJ952.7.8'\n",
    "\n",
    "auction = [\"PASS\", \"1N\"]\n",
    "bot_bid = BotBid([vuln_ns, vuln_ew], hand, models, sampler, 2, 0, False)\n",
    "\n",
    "bid = bot_bid.bid(auction)\n",
    "bid.to_dict()['candidates']\n",
    "\n",
    "# what's your bid?"
   ]
  },
  {
   "cell_type": "code",
   "execution_count": 3,
   "id": "55b647a5",
   "metadata": {},
   "outputs": [
    {
     "name": "stdout",
     "output_type": "stream",
     "text": [
      "Tx.xx.AKxx.QJxxx Kxx.ATx.Qxxx.AK9 AQJ98x.QJ9xx.x.8 xx.K8x.JT98.Txxx 0.96538 \n",
      " P-1N-2C-P-2H-P-2S-P-P-P (9.6)  \n",
      " P-1N-2S-P-P-P (9.6) \n",
      "x.8xx.AJ8x.KTxxx Kxx.KTx.KQxx.AJx AQJ98x.QJ9xx.x.8 Txx.Ax.T9xx.Q9xx 0.99914 \n",
      " P-1N-2C-P-2H-P-2S-P-P-P (7.5)  \n",
      " P-1N-2S-P-P-P (7.5) \n",
      "Tx.Axx.QJ8x.T9xx Kxxx.KT8.Kx.AQxx AQJ98x.QJ9xx.x.8 x.xx.AT9xxx.KJxx 0.97966 \n",
      " P-1N-2C-2D-P-P-2S-3D-P-P-P (8.8)  \n",
      " P-1N-2S-3D-P-3N-P-P-P (7.6) \n",
      "xx.T8x.Axx.J9xxx Tx.AK.QT98x.AKxx AQJ98x.QJ9xx.x.8 Kxx.xxx.KJxx.QTx 0.53458 \n",
      " P-1N-2C-X-P-2D-2S-3D-P-P-P (10.0)  \n",
      " P-1N-2S-2N-P-3C-P-3N-P-P-P (8.8) \n",
      "Tx.Txx.AT8xx.xxx Kxx.A8x.Kxx.AK9x AQJ98x.QJ9xx.x.8 xx.Kx.QJ9x.QJTxx 0.99930 \n",
      " P-1N-2C-X-P-P-2S-3C-P-P-P (8.9)  \n",
      " P-1N-2S-3C-P-P-P (8.9) \n",
      "xx.A8.9xxx.KQTxx KTxx.Kx.KQJx.AJx AQJ98x.QJ9xx.x.8 x.Txxx.AT8x.9xxx 0.99779 \n",
      " P-1N-2C-P-2H-P-2S-P-P-P (9.0)  \n",
      " P-1N-2S-P-P-P (9.0) \n",
      "xxx.xx.KJ9x.9xxx Kx.K8xx.Axxx.AKx AQJ98x.QJ9xx.x.8 Tx.AT.QT8x.QJTxx 0.99620 \n",
      " P-1N-2C-X-P-2H-2S-2N-P-P-P (7.9)  \n",
      " P-1N-2S-3C-P-P-P (9.7) \n",
      "Tx.Tx.Jxx.QJ9xxx Kxx.Kxx.A8xx.AKx AQJ98x.QJ9xx.x.8 xx.A8x.KQT9x.Txx 0.99891 \n",
      " P-1N-2C-2D-P-P-2S-3D-P-P-P (9.7)  \n",
      " P-1N-2S-2N-P-3C-P-3N-P-P-P (9.6) \n",
      "xx.xx.AJTxx.Axxx KT.AKT.Q9x.KJ9xx AQJ98x.QJ9xx.x.8 xxx.8xx.K8xx.QTx 0.99526 \n",
      " P-1N-2C-P-2H-3C-P-P-P (7.0)  \n",
      " P-1N-2S-P-P-3C-P-P-P (7.0) \n",
      "Tx.xx.T8xx.Axxxx Kxx.A8x.AQJx.KT9 AQJ98x.QJ9xx.x.8 xx.KTx.K9xx.QJxx 0.99874 \n",
      " P-1N-2C-X-P-2D-2S-3D-P-P-P (9.6)  \n",
      " P-1N-2S-2N-P-3C-P-3N-P-P-P (7.9) \n"
     ]
    }
   ],
   "source": [
    "### Samples consistent with the auction so far\n",
    "\n",
    "for i in range(min(10,len(bid.samples))):\n",
    "    print(bid.samples[i])\n"
   ]
  },
  {
   "cell_type": "markdown",
   "id": "7d0dd8f5",
   "metadata": {},
   "source": [
    "West always has the same cards because it's your hand and it's known to you"
   ]
  },
  {
   "cell_type": "code",
   "execution_count": 4,
   "id": "7101e514",
   "metadata": {},
   "outputs": [
    {
     "name": "stdout",
     "output_type": "stream",
     "text": [
      "Tx.xx.AKxx.QJxxx Kxx.ATx.Qxxx.AK9 AQJ98x.QJ9xx.x.8 xx.K8x.JT98.Txxx 0.97\n",
      "x.8xx.AJ8x.KTxxx Kxx.KTx.KQxx.AJx AQJ98x.QJ9xx.x.8 Txx.Ax.T9xx.Q9xx 1.00\n",
      "Tx.Axx.QJ8x.T9xx Kxxx.KT8.Kx.AQxx AQJ98x.QJ9xx.x.8 x.xx.AT9xxx.KJxx 0.98\n",
      "xx.T8x.Axx.J9xxx Tx.AK.QT98x.AKxx AQJ98x.QJ9xx.x.8 Kxx.xxx.KJxx.QTx 0.53\n",
      "Tx.Txx.AT8xx.xxx Kxx.A8x.Kxx.AK9x AQJ98x.QJ9xx.x.8 xx.Kx.QJ9x.QJTxx 1.00\n",
      "xx.A8.9xxx.KQTxx KTxx.Kx.KQJx.AJx AQJ98x.QJ9xx.x.8 x.Txxx.AT8x.9xxx 1.00\n",
      "xxx.xx.KJ9x.9xxx Kx.K8xx.Axxx.AKx AQJ98x.QJ9xx.x.8 Tx.AT.QT8x.QJTxx 1.00\n",
      "Tx.Tx.Jxx.QJ9xxx Kxx.Kxx.A8xx.AKx AQJ98x.QJ9xx.x.8 xx.A8x.KQT9x.Txx 1.00\n",
      "xx.xx.AJTxx.Axxx KT.AKT.Q9x.KJ9xx AQJ98x.QJ9xx.x.8 xxx.8xx.K8xx.QTx 1.00\n",
      "Tx.xx.T8xx.Axxxx Kxx.A8x.AQJx.KT9 AQJ98x.QJ9xx.x.8 xx.KTx.K9xx.QJxx 1.00\n"
     ]
    }
   ],
   "source": [
    "# we got some samples above. if we want more, we can always get more\n",
    "auction = [\"PASS\", \"1N\"]\n",
    "sample_hands, sorted_score, p_hcp, p_shp, good_quality = bot_bid.sample_hands_for_auction(auction, 2)\n",
    "print(\"Good quality:\", good_quality)\n",
    "for i in range(min(10,sample_hands.shape[0])):\n",
    "    print(f'{hand_to_str(sample_hands[i, 0, :])} {hand_to_str(sample_hands[i, 1, :])} {hand_to_str(sample_hands[i, 2, :])} {hand_to_str(sample_hands[i, 3, :])} {sorted_score[i]:.2f}')"
   ]
  }
 ],
 "metadata": {
  "kernelspec": {
   "display_name": "Python 3 (ipykernel)",
   "language": "python",
   "name": "python3"
  },
  "language_info": {
   "codemirror_mode": {
    "name": "ipython",
    "version": 3
   },
   "file_extension": ".py",
   "mimetype": "text/x-python",
   "name": "python",
   "nbconvert_exporter": "python",
   "pygments_lexer": "ipython3",
   "version": "3.11.0"
  }
 },
 "nbformat": 4,
 "nbformat_minor": 5
}
