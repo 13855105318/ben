{
 "cells": [
  {
   "cell_type": "markdown",
   "id": "75d07246",
   "metadata": {},
   "source": [
    "# Bidding\n",
    "\n",
    "This is a tutorial for how to use the bidding engine"
   ]
  },
  {
   "cell_type": "code",
   "execution_count": 1,
   "id": "59a5664c",
   "metadata": {},
   "outputs": [
    {
     "name": "stdout",
     "output_type": "stream",
     "text": [
      "WARNING:tensorflow:From c:\\Python311\\Lib\\site-packages\\tensorflow\\python\\compat\\v2_compat.py:107: disable_resource_variables (from tensorflow.python.ops.variable_scope) is deprecated and will be removed in a future version.\n",
      "Instructions for updating:\n",
      "non-resource variables are not supported in the long term\n",
      "INFO:tensorflow:Restoring parameters from ..\\Models/bidding-3233000\n",
      "INFO:tensorflow:Restoring parameters from ..\\Models/binfo-808000\n",
      "INFO:tensorflow:Restoring parameters from ..\\Models/lead_suit-154000\n",
      "INFO:tensorflow:Restoring parameters from ..\\Models/lead_nt-59000\n",
      "INFO:tensorflow:Restoring parameters from ..\\Models/lr3-1000000\n",
      "INFO:tensorflow:Restoring parameters from ..\\Models/lefty-1000000\n",
      "INFO:tensorflow:Restoring parameters from ..\\Models/dummy-920000\n",
      "INFO:tensorflow:Restoring parameters from ..\\Models/righty-1000000\n",
      "INFO:tensorflow:Restoring parameters from ..\\Models/decl-1000000\n"
     ]
    }
   ],
   "source": [
    "import sys\n",
    "sys.path.append('../../src')\n",
    "\n",
    "from nn.models import Models\n",
    "from bots import BotBid\n",
    "from util import hand_to_str\n",
    "from sample import Sample\n",
    "import conf\n",
    "import numpy as np\n",
    "\n",
    "np.set_printoptions(precision=2, suppress=True, linewidth=200)\n",
    "np.random.seed(42)\n",
    "models = Models.from_conf(conf.load('../Conf/UCBC2024.conf'),'..')   # loading neural networks\n",
    "sampler = Sample.from_conf(conf.load('../Conf/UCBC2024.conf'), False)  # Load sampling strategies\n"
   ]
  },
  {
   "cell_type": "markdown",
   "id": "10d8f2fc",
   "metadata": {},
   "source": [
    "### Bidding"
   ]
  },
  {
   "cell_type": "code",
   "execution_count": 2,
   "id": "19dbfeb7",
   "metadata": {},
   "outputs": [
    {
     "data": {
      "text/plain": [
       "[{'call': '2C',\n",
       "  'insta_score': 0.6512,\n",
       "  'expected_score': -90,\n",
       "  'adjustment': 33},\n",
       " {'call': 'PASS',\n",
       "  'insta_score': 0.2068,\n",
       "  'expected_score': -119,\n",
       "  'adjustment': 10}]"
      ]
     },
     "execution_count": 2,
     "metadata": {},
     "output_type": "execute_result"
    }
   ],
   "source": [
    "vuln_ns, vuln_ew = False, False\n",
    "hand = 'AQJ986.QJ952.7.8'\n",
    "\n",
    "auction = [\"PASS\", \"1N\"]\n",
    "bot_bid = BotBid([vuln_ns, vuln_ew], hand, models, sampler, False)\n",
    "\n",
    "bid = bot_bid.bid(auction)\n",
    "bid.to_dict()['candidates']\n",
    "\n",
    "# what's your bid?"
   ]
  },
  {
   "cell_type": "code",
   "execution_count": 3,
   "id": "55b647a5",
   "metadata": {},
   "outputs": [
    {
     "data": {
      "text/plain": [
       "['xx.T8xx.J8xx.Qxx Kx.AKx.ATxx.KTxx AQJ98x.QJ9xx.x.8 Txx.x.KQ9x.AJ9xx 0.99994 P-1N-2C-X-2H-P-P-X-P-P-P (7.4)  P-1N-P-3N-P-P-P (9.8) ',\n",
       " 'xx.Axxx.Txx.KJxx KTx.K8.AKQ8.T9xx AQJ98x.QJ9xx.x.8 xx.Tx.J9xxx.AQxx 0.99994 P-1N-2C-X-2H-P-P-3D-P-P-P (8.5)  P-1N-P-P-P (7.3) ',\n",
       " 'xx.Axx.98xx.AT9x Kxx.KT.AQx.KQxxx AQJ98x.QJ9xx.x.8 Tx.8xx.KJTxx.Jxx 0.99994 P-1N-2C-P-2H-3C-P-P-P (7.5)  P-1N-P-P-P (6.9) ',\n",
       " 'x.Txx.KQ9xx.Kxxx Kxx.AK.JTxx.A9xx AQJ98x.QJ9xx.x.8 Txx.8xx.A8x.QJTx 0.99993 P-1N-2C-X-2H-P-P-P (7.9)  P-1N-P-P-P (6.5) ',\n",
       " 'xxx.Kxx.Txxx.A9x Tx.ATx.AK9x.KQxx AQJ98x.QJ9xx.x.8 Kx.8x.QJ8x.JTxxx 0.99993 P-1N-2C-X-2H-P-P-X-P-P-P (8.4)  P-1N-P-P-P (8.3) ',\n",
       " 'Txx.8x.KJx.Qxxxx Kxx.AK.QTx.AJT9x AQJ98x.QJ9xx.x.8 x.Txxx.A98xxx.Kx 0.99993 P-1N-2C-X-2S-3C-P-3D-P-3N-P-P-P (8.9)  P-1N-P-3C-P-3D-P-P-P (10.7) ',\n",
       " 'xx.8xx.JT98x.KJx Tx.Axx.KQxx.AQxx AQJ98x.QJ9xx.x.8 Kxx.KT.Axx.T9xxx 0.99993 P-1N-2C-X-2H-P-P-X-P-P-P (6.9)  P-1N-P-3N-P-P-P (9.0) ',\n",
       " 'Txx.T8x.AJx.Jxxx xx.AKx.KQx.KT9xx AQJ98x.QJ9xx.x.8 Kx.xx.T98xxx.AQx 0.99993 P-1N-2C-X-2H-3C-P-3D-P-3N-P-P-P (8.8)  P-1N-P-3N-P-P-P (8.8) ',\n",
       " 'xxx.K8x.KQ8x.T9x KTx.Ax.AT9x.KQxx AQJ98x.QJ9xx.x.8 x.Txx.Jxxx.AJxxx 0.99993 P-1N-2C-X-2H-P-P-P (7.6)  P-1N-P-P-P (7.8) ',\n",
       " 'xx.Ax.JT8xx.J9xx KTx.KT8x.KQx.Axx AQJ98x.QJ9xx.x.8 xx.xx.A9xx.KQTxx 0.99992 P-1N-2C-X-2H-X-P-3N-P-P-P (8.2)  P-1N-P-2N-P-P-P (8.2) ',\n",
       " 'x.A8x.QTx.QJT9xx Txx.KTx.AKxx.AKx AQJ98x.QJ9xx.x.8 Kxx.xx.J98xx.xxx 0.99992 P-1N-2C-P-2H-P-P-P (8.4)  P-1N-P-P-P (7.4) ',\n",
       " 'xx.Axx.T8x.AQ9xx KTxx.K8x.AKQ.JTx AQJ98x.QJ9xx.x.8 x.Tx.J9xxxx.Kxxx 0.99992 P-1N-2C-P-2H-P-P-3D-P-P-P (8.0)  P-1N-P-3C-X-3D-P-P-P (7.8) ',\n",
       " 'Kxx.Txx.Qxx.Jxxx Txxx.A8.AK98.Axx AQJ98x.QJ9xx.x.8 .Kxx.JTxxx.KQT9x 0.99992 P-1N-2C-X-2H-P-P-3D-P-P-P (11.6)  P-1N-P-2N-P-P-P (9.8) ',\n",
       " 'Tx.Kx.A9xx.QJTxx Kxx.ATx.K8.AKxxx AQJ98x.QJ9xx.x.8 xx.8xx.QJTxxx.9x 0.99992 P-1N-2C-P-P-3C-P-P-P (6.1)  P-1N-P-3C-X-3D-P-P-P (8.3) ',\n",
       " 'Kx.Txx.xx.KQ9xxx Txx.AK8.AQT9.ATx AQJ98x.QJ9xx.x.8 xx.xx.KJ8xxx.Jxx 0.99992 P-1N-2C-P-2H-P-P-3D-P-P-P (9.4)  P-1N-P-3C-X-3D-P-P-P (9.5) ',\n",
       " 'xx.KTx.KJxx.AT9x Kx.Axx.ATxx.KJxx AQJ98x.QJ9xx.x.8 Txx.8x.Q98x.Qxxx 0.99992 P-1N-2C-P-P-P (7.9)  P-1N-P-P-P (5.1) ',\n",
       " 'Txx.8x.AJx.JTxxx Kx.ATxx.KQTx.K9x AQJ98x.QJ9xx.x.8 xx.Kx.98xxx.AQxx 0.99991 P-1N-2C-X-2S-P-P-3D-P-P-P (9.7)  P-1N-P-2N-P-P-P (8.2) ',\n",
       " 'x.KTx.T9xxx.AJTx xxxx.A8.AQJx.KQx AQJ98x.QJ9xx.x.8 KT.xxx.K8x.9xxxx 0.99991 P-1N-2C-X-2H-P-P-P (8.8)  P-1N-P-P-P (7.2) ',\n",
       " 'Kxx.Tx.AJTxx.9xx xx.AK8.K9xx.AKxx AQJ98x.QJ9xx.x.8 Tx.xxx.Q8x.QJTxx 0.99991 P-1N-2C-P-2S-P-P-P (9.9)  P-1N-P-P-P (7.9) ',\n",
       " 'xx.Kx.T98xx.Q9xx xxx.AT8xx.Kx.AKJ AQJ98x.QJ9xx.x.8 KT.x.AQJxx.Txxxx 0.99991 P-1N-2C-X-2H-X-P-3D-P-3N-P-P-P (9.1)  P-1N-P-3N-P-P-P (9.1) ',\n",
       " 'xxx.T8x.ATxx.QJx KTx.Ax.KQx.KTxxx AQJ98x.QJ9xx.x.8 x.Kxx.J98xx.A9xx 0.99991 P-1N-2C-X-2H-3C-P-P-P (9.7)  P-1N-P-2N-P-P-P (7.6) ',\n",
       " 'x.Axx.Txxx.KJT9x Kxx.K8x.AQ98.Axx AQJ98x.QJ9xx.x.8 Txx.Tx.KJxx.Qxxx 0.99991 P-1N-2C-P-2H-P-P-P (8.7)  P-1N-P-P-P (6.4) ',\n",
       " 'x.KT8x.K8xxx.QJ9 KTxx.Ax.AQx.KTxx AQJ98x.QJ9xx.x.8 xx.xx.JT9x.Axxxx 0.99991 P-1N-2C-P-2H-P-P-P (9.4)  P-1N-P-P-P (6.4) ',\n",
       " 'Txx.xx.J9xx.KQxx Kx.ATx.KTx.AJ9xx AQJ98x.QJ9xx.x.8 xx.K8x.AQ8xx.Txx 0.99991 P-1N-2C-X-2S-3C-P-3N-P-P-P (8.6)  P-1N-P-2N-P-P-P (8.9) ',\n",
       " 'xx.8x.AJ8x.Txxxx KTxx.ATx.K9x.AQx AQJ98x.QJ9xx.x.8 x.Kxx.QTxxx.KJ9x 0.99991 P-1N-2C-X-2H-X-P-3D-P-3N-P-P-P (8.2)  P-1N-P-2N-P-P-P (8.2) ',\n",
       " 'Kxxx.x.Q8xxx.JTx Txx.ATx.KJ9.AKxx AQJ98x.QJ9xx.x.8 .K8xx.ATxx.Q9xxx 0.99991 P-1N-2C-X-2S-P-P-3C-P-P-P (11.5)  P-1N-P-3S-P-3N-P-P-P (9.3) ',\n",
       " 'Tx..T8xxx.AKJxxx xxx.AK8x.AKx.Q9x AQJ98x.QJ9xx.x.8 Kx.Txxx.QJ9x.Txx 0.99990 P-1N-2C-P-2D-P-2S-P-P-P (9.3)  P-1N-P-P-P (7.5) ',\n",
       " '.T8xx.JTxxx.Q9xx Txx.AKx.Qx.AKJxx AQJ98x.QJ9xx.x.8 Kxxx.x.AK98x.Txx 0.99990 P-1N-2C-X-2H-3C-P-3N-P-P-P (9.6)  P-1N-P-3H-P-3N-P-P-P (9.5) ',\n",
       " 'xx.T8.QJx.QJxxxx KTx.Kxx.AKxxx.A9 AQJ98x.QJ9xx.x.8 xx.Axx.T98x.KTxx 0.99990 P-1N-2C-X-P-2D-P-P-3C-X-P-P-P (5.3)  P-1N-P-P-P (8.4) ',\n",
       " 'xx.K8xx.J8xx.AQx xx.ATx.AK9x.KJ9x AQJ98x.QJ9xx.x.8 KTx.x.QTxx.Txxxx 0.99990 P-1N-2C-P-2H-P-P-P (9.3)  P-1N-P-P-P (7.2) ',\n",
       " 'Kxx.xxx.T9xx.QJx Tx.A8x.AKJ.K9xxx AQJ98x.QJ9xx.x.8 xx.KT.Q8xxx.ATxx 0.99990 P-1N-2C-X-2H-3C-P-3N-P-P-P (9.0)  P-1N-P-2N-P-P-P (8.9) ',\n",
       " 'Tx.Kxx.98xx.QT9x Kxx.A8x.Qxx.AKJx AQJ98x.QJ9xx.x.8 xx.Tx.AKJTx.xxxx 0.99990 P-1N-2C-X-2H-3N-P-P-P (8.9)  P-1N-P-2N-P-3N-P-P-P (8.9) ',\n",
       " 'Txx.A8x.T9x.Qxxx Kxx.Kxx.KJx.AJTx AQJ98x.QJ9xx.x.8 x.Tx.AQ8xxx.K9xx 0.99990 P-1N-2C-X-2H-P-P-3D-P-P-P (9.8)  P-1N-P-3N-P-P-P (8.7) ',\n",
       " 'Txx.xx.ATxx.JTxx Kx.Axx.KQx.KQxxx AQJ98x.QJ9xx.x.8 xx.KT8.J98xx.A9x 0.99990 P-1N-2C-X-2S-3C-P-P-P (9.4)  P-1N-P-2N-P-3C-P-3N-P-P-P (8.3) ',\n",
       " 'Kxx.K.Q8xx.T9xxx xx.xxx.AKTx.AKQx AQJ98x.QJ9xx.x.8 Tx.AT8x.J9xx.Jxx 0.99990 P-1N-2C-P-2S-P-P-P (9.5)  P-1N-P-P-P (7.5) ',\n",
       " 'xx.Tx.AK98x.J9xx Kxx.AKx.QTx.ATxx AQJ98x.QJ9xx.x.8 Tx.8xx.Jxxx.KQxx 0.99990 P-1N-2C-P-2D-P-2S-P-P-P (8.7)  P-1N-P-P-P (7.2) ',\n",
       " 'Kxx.8x.T8xx.JTxx Tx.AKx.AQxx.Axxx AQJ98x.QJ9xx.x.8 xx.Txx.KJ9x.KQ9x 0.99990 P-1N-2C-X-2S-P-P-2N-P-3N-P-P-P (9.4)  P-1N-P-2N-P-3N-P-P-P (9.4) ',\n",
       " 'Tx.Kxx.xxx.AJT9x Kxx.T8.AQJTx.KQx AQJ98x.QJ9xx.x.8 xx.Axx.K98x.xxxx 0.99990 P-1N-2C-X-2H-P-P-P (9.0)  P-1N-P-P-P (7.1) ',\n",
       " 'Txxx.x.K9xx.KJxx Kxx.KT.AQJTx.Q9x AQJ98x.QJ9xx.x.8 .A8xxx.8xx.ATxxx 0.99990 P-1N-2C-2H-3C-P-P-3H-P-P-P (8.9)  P-1N-P-2D-P-2H-P-2N-P-P-P (8.2) ',\n",
       " 'Kxxx.T8x.J98x.9x xx.AKx.ATx.AQTxx AQJ98x.QJ9xx.x.8 T.xx.KQxxx.KJxxx 0.99990 P-1N-2C-X-P-3C-P-3N-P-P-P (10.3)  P-1N-P-2N-P-3C-P-5C-P-P-P (12.2) ',\n",
       " 'xx.T8x.8xx.AJT9x KT.Axx.AK9x.Qxxx AQJ98x.QJ9xx.x.8 xxx.Kx.QJTxx.Kxx 0.99990 P-1N-2C-X-2H-P-P-3D-P-3N-P-P-P (7.9)  P-1N-P-2N-P-P-P (7.9) ',\n",
       " 'x.ATxx.J8xx.QT9x KTxx.Kx.AKx.Kxxx AQJ98x.QJ9xx.x.8 xx.8x.QT9xx.AJxx 0.99989 P-1N-2C-X-2H-X-P-3D-P-3N-P-P-P (6.6)  P-1N-P-P-P (6.6) ',\n",
       " 'Tx.Kxx.QJT8.K9xx Kxx.Axx.AKxxx.JT AQJ98x.QJ9xx.x.8 xx.T8.9xx.AQxxxx 0.99989 P-1N-2C-X-2H-P-P-3C-P-P-P (8.3)  P-1N-P-2S-P-3C-P-P-P (8.2) ',\n",
       " 'Txx.xx.Kxx.Txxxx Kx.KT.AQT8x.KQ9x AQJ98x.QJ9xx.x.8 xx.A8xx.J9xx.AJx 0.99989 P-1N-2C-X-3C-P-P-X-P-P-P (5.1)  P-1N-P-2C-P-2D-P-3D-P-3N-P-P-P (10.4) ',\n",
       " 'T.8xx.9x.KJT9xxx Kxx.Axx.AKJ8x.xx AQJ98x.QJ9xx.x.8 xxx.KT.QTxxx.AQx 0.99989 P-1N-2C-X-P-P-P (6.8)  P-1N-P-3N-P-P-P (8.9) ',\n",
       " '.Kxxx.T9xx.QTxxx Kxxx.Ax.KQJx.A9x AQJ98x.QJ9xx.x.8 Txx.T8.A8xx.KJxx 0.99989 P-1N-2C-X-2H-P-P-X-P-P-P (9.0)  P-1N-P-2N-P-3N-P-P-P (7.4) ',\n",
       " 'Kx.Txxx.K8xxx.xx xx.AK8.Axx.AT9xx AQJ98x.QJ9xx.x.8 Txx.x.QJT9.KQJxx 0.99989 P-1N-2C-X-P-P-P (5.9)  P-1N-P-2N-P-P-P (9.4) ',\n",
       " 'Tx.8x.Q8xxx.KQTx xxx.AKT.KJx.A9xx AQJ98x.QJ9xx.x.8 Kx.xxx.AT9x.Jxxx 0.99989 P-1N-2C-X-2H-P-P-P (7.0)  P-1N-P-2N-P-P-P (7.6) ',\n",
       " 'Kx.x.9xxx.QJT9xx xx.8xx.AKJ8x.AKx AQJ98x.QJ9xx.x.8 Txx.AKTx.QTx.xxx 0.99989 P-1N-2C-X-3C-P-P-X-P-P-P (6.6)  P-1N-P-2C-P-2D-P-2N-P-P-P (8.2) ',\n",
       " 'Txx.8.Q8xxx.KTxx Kxx.AKT.JT9x.Axx AQJ98x.QJ9xx.x.8 x.xxxx.AKx.QJ9xx 0.99989 P-1N-2C-X-2S-P-P-3N-P-P-P (8.3)  P-1N-P-3S-P-3N-P-P-P (8.2) ',\n",
       " 'xx.Axx.KQx.JT9xx Kxx.K8.T9xxx.AKQ AQJ98x.QJ9xx.x.8 Tx.Txx.AJ8x.xxxx 0.99989 P-1N-2C-P-2H-3D-P-P-P (7.9)  P-1N-P-P-P (6.0) ',\n",
       " 'xx.Txx.KJ98.A9xx Kxx.A8x.AQT.Kxxx AQJ98x.QJ9xx.x.8 Tx.Kx.xxxxx.QJTx 0.99989 P-1N-2C-P-2H-P-P-3D-P-P-P (8.1)  P-1N-P-P-P (6.7) ',\n",
       " 'xxx.Txx.KQJxx.Tx Kx.A8x.A9xx.KQxx AQJ98x.QJ9xx.x.8 Tx.Kx.T8x.AJ9xxx 0.99989 P-1N-2C-X-P-P-P (5.2)  P-1N-P-2S-P-3C-P-P-P (10.1) ',\n",
       " 'xx.KT8x.J9x.J9xx KTx.xx.A8xx.AKQx AQJ98x.QJ9xx.x.8 xx.Ax.KQTxx.Txxx 0.99989 P-1N-2C-X-2H-P-P-3D-P-3N-P-P-P (8.5)  P-1N-P-2N-P-P-P (8.5) ',\n",
       " 'x.8x.T98x.KQ9xxx KTxx.xx.AKJx.ATx AQJ98x.QJ9xx.x.8 xx.AKTx.Qxxx.Jxx 0.99988 P-1N-2C-X-3C-P-P-X-P-P-P (6.5)  P-1N-P-2C-P-2S-P-3N-P-P-P (8.3) ',\n",
       " 'Txx.xx.T8xx.9xxx Kxx.ATx.J9x.AKxx AQJ98x.QJ9xx.x.8 x.K8x.AKQxx.QJTx 0.99988 P-1N-2C-X-2S-P-P-3N-P-P-P (11.4)  P-1N-P-3N-P-P-P (11.4) ',\n",
       " 'xx.Axxx.KJ8x.xxx Kx.Kx.AQTxx.ATxx AQJ98x.QJ9xx.x.8 Txx.T8.9xx.KQJ9x 0.99988 P-1N-2C-X-2H-3C-P-P-P (9.5)  P-1N-P-P-P (8.0) ',\n",
       " 'Txx.K8x.Qxx.9xxx xxx.Ax.AT9xx.AKx AQJ98x.QJ9xx.x.8 K.Txx.KJ8x.QJTxx 0.99988 P-1N-2C-X-2H-P-P-3N-P-P-P (9.3)  P-1N-P-3N-P-P-P (9.3) ',\n",
       " 'xx.xxx.AQ98x.Txx xx.AKT8.Kxx.KQJx AQJ98x.QJ9xx.x.8 KTx.x.JTxx.A9xxx 0.99988 P-1N-2C-X-2H-X-P-P-P (7.0)  P-1N-P-2N-P-P-P (8.8) ',\n",
       " 'KTx.8.98xxx.Jxxx xx.Axxx.AQJ.AT9x AQJ98x.QJ9xx.x.8 xx.KTx.KTxx.KQxx 0.99988 P-1N-2C-X-2S-P-P-3N-P-P-P (9.3)  P-1N-P-3N-P-P-P (9.3) ',\n",
       " 'Tx.8x.A9xx.Qxxxx Kx.KTx.K8x.AKJTx AQJ98x.QJ9xx.x.8 xxx.Axx.QJTxx.9x 0.99987 P-1N-2C-X-2H-3C-P-P-P (8.7)  P-1N-P-P-P (8.6) ',\n",
       " 'xx.Axxx.8.JTxxxx xx.K8x.AQJxx.KQ9 AQJ98x.QJ9xx.x.8 KTx.T.KT9xxx.Axx 0.99987 P-1N-2C-X-2H-P-P-3D-P-P-P (11.0)  P-1N-P-3N-P-P-P (9.6) ',\n",
       " 'xx.A8xxx.KQTx.xx KTxx.Kx.Axx.AQxx AQJ98x.QJ9xx.x.8 x.T.J98xx.KJT9xx 0.99987 P-1N-2C-2N-P-3C-P-P-P (9.5)  P-1N-P-2S-P-3C-P-P-P (9.5) ',\n",
       " 'xxx.Txx.Axx.QTxx KT.A8x.Jxxx.AKxx AQJ98x.QJ9xx.x.8 xx.Kx.KQT98.J9xx 0.99987 P-1N-2C-X-2H-P-P-3D-P-P-P (9.6)  P-1N-P-2N-P-P-P (7.9) ',\n",
       " 'xx.xxx.Kxx.Jxxxx KTx.KT8.AQxx.Axx AQJ98x.QJ9xx.x.8 xx.Ax.JT98x.KQT9 0.99987 P-1N-2C-X-2H-P-P-3D-P-P-P (10.2)  P-1N-P-3N-P-P-P (10.1) ',\n",
       " 'Kx.8xx.Axxx.9xxx xxx.AT.QJT.AKQJx AQJ98x.QJ9xx.x.8 Tx.Kxx.K98xx.Txx 0.99986 P-1N-2C-P-2H-3C-P-P-P (9.6)  P-1N-P-P-P (8.3) ',\n",
       " 'xx.Kxx.J8x.J9xxx xxx.Tx.AKT9x.AKQ AQJ98x.QJ9xx.x.8 KT.A8x.Qxxx.Txxx 0.99986 P-1N-2C-X-2H-P-P-2N-P-P-P (9.4)  P-1N-P-2N-P-P-P (9.4) ',\n",
       " 'xx.8xx.QT9x.AQ9x xx.Axx.AKx.KJxxx AQJ98x.QJ9xx.x.8 KTx.KT.J8xxx.Txx 0.99986 P-1N-2C-X-2H-3C-P-P-P (8.6)  P-1N-P-P-P (7.3) ',\n",
       " 'xxx.Tx.AKxx.Q9xx Kx.K8xx.Q9x.AKxx AQJ98x.QJ9xx.x.8 Tx.Ax.JT8xx.JTxx 0.99986 P-1N-2C-P-2S-P-P-3D-P-P-P (7.5)  P-1N-P-P-P (6.4) ',\n",
       " 'Txx.Txx.Tx.9xxxx Kxx.Kx.Axxx.KQJT AQJ98x.QJ9xx.x.8 x.A8x.KQJ98x.Axx 0.99986 P-1N-2C-X-2H-P-P-4N-P-5H-P-6D-P-P-P (12.3)  P-1N-P-3N-P-P-P (12.1) ',\n",
       " 'Kx.T8x.KT9x.KJ9x xx.AKx.AQx.Axxxx AQJ98x.QJ9xx.x.8 Txx.xx.J8xxx.QTx 0.99986 P-1N-2C-P-2H-3C-P-P-P (7.9)  P-1N-P-P-P (5.7) ',\n",
       " 'xxx.Kx.Q8xx.Q9xx KTx.A8x.Jx.AKTxx AQJ98x.QJ9xx.x.8 x.Txx.AKT9xx.Jxx 0.99986 P-1N-2C-X-2S-3C-P-3D-P-3N-P-P-P (8.2)  P-1N-P-3C-P-3D-P-P-P (9.7) ',\n",
       " 'xxx.Kx.Q8xx.QT9x KTxx.ATx.Ax.AJxx AQJ98x.QJ9xx.x.8 .8xx.KJT9xx.Kxxx 0.99985 P-1N-2C-X-2S-X-P-3D-P-3N-P-P-P (8.2)  P-1N-P-3C-P-3D-P-P-P (10.1) ',\n",
       " 'xx.T8xx.98xx.QJ9 KTx.AKx.AJx.Txxx AQJ98x.QJ9xx.x.8 xx.x.KQTxx.AKxxx 0.99985 P-1N-2C-X-2H-P-P-3N-P-P-P (9.8)  P-1N-P-3N-P-P-P (9.8) ',\n",
       " 'x.xx.QJ9xx.JT9xx Tx.A8xx.AKxx.AQx AQJ98x.QJ9xx.x.8 Kxxx.KT.T8x.Kxxx 0.99985 P-1N-2C-X-2H-X-P-2N-P-3N-P-P-P (8.6)  P-1N-P-2C-P-2H-P-2N-P-3N-P-P-P (8.6) ',\n",
       " 'Kxx.Txx.Qxxx.Axx xx.AK8.AJ8.QJ9xx AQJ98x.QJ9xx.x.8 Tx.xx.KT9xx.KTxx 0.99985 P-1N-2C-P-2H-3C-P-P-P (9.4)  P-1N-P-P-P (7.5) ',\n",
       " 'Txx.Axx.QTx.Jxxx Kxx.Kx.K98x.AKxx AQJ98x.QJ9xx.x.8 x.T8x.AJxxx.QT9x 0.99985 P-1N-2C-X-2H-P-P-3D-P-3N-P-P-P (8.1)  P-1N-P-P-P (8.1) ',\n",
       " 'Tx.8x.Q9xxx.9xxx Kxx.Kx.JT8x.AKJx AQJ98x.QJ9xx.x.8 xx.ATxx.AKx.QTxx 0.99985 P-1N-2C-X-P-P-P (5.0)  P-1N-P-2C-P-2D-P-3C-P-3N-P-P-P (9.9) ',\n",
       " 'xxx.Kx.Qxxxx.AJx KTx.A8x.AK8.K9xx AQJ98x.QJ9xx.x.8 x.Txx.JT9x.QTxxx 0.99985 P-1N-2C-P-2S-P-P-P (10.1)  P-1N-P-P-P (6.8) ',\n",
       " 'Tx.8x.98x.AQTxxx Kxx.Kxxx.AQTx.Kx AQJ98x.QJ9xx.x.8 xx.AT.KJxxx.J9xx 0.99985 P-1N-2C-X-P-2H-P-P-3C-P-3S-P-4C-P-P-P (6.4)  P-1N-P-2N-P-P-P (8.2) ',\n",
       " 'x.8xx.Kxx.KQJxxx Kxx.AKT.QJ8x.A9x AQJ98x.QJ9xx.x.8 Txx.xx.AT9xx.Txx 0.99985 P-1N-2C-P-2H-P-P-P (7.8)  P-1N-P-P-P (7.0) ',\n",
       " 'xx.T8xx.8xx.KJTx KTx.AKx.KJxx.Qxx AQJ98x.QJ9xx.x.8 xx.x.AQT9x.A9xxx 0.99984 P-1N-2C-X-2H-P-P-3D-P-P-P (10.4)  P-1N-P-3N-P-P-P (9.4) ',\n",
       " 'Kxx.xx.T98x.AQxx xx.AKx.AJxxx.KJx AQJ98x.QJ9xx.x.8 Tx.T8x.KQx.T9xxx 0.99984 P-1N-2C-P-2S-3D-P-P-P (8.6)  P-1N-P-P-P (7.1) ',\n",
       " 'x.K8x.K8xx.Jxxxx KTx.Tx.AJTx.AKxx AQJ98x.QJ9xx.x.8 xxx.Axx.Q9xx.QT9 0.99984 P-1N-2C-X-2H-P-P-2N-P-P-P (7.5)  P-1N-P-2N-P-P-P (7.5) ',\n",
       " 'Txx.Tx.xxx.AQJTx Kx.Axx.AK8x.Kxxx AQJ98x.QJ9xx.x.8 xx.K8x.QJT9x.9xx 0.99984 P-1N-2C-P-2S-P-P-P (9.4)  P-1N-P-P-P (7.8) ',\n",
       " 'x.T.QJT8x.JT9xxx xx.A8x.AKxx.KQxx AQJ98x.QJ9xx.x.8 KTxx.Kxxx.9xx.Ax 0.99984 P-1N-2C-X-3C-P-P-X-P-P-P (5.1)  P-1N-P-2C-P-2D-P-3N-P-P-P (8.3) ',\n",
       " 'xx.T8x.QJxxx.KTx xxx.AKx.AKxx.J9x AQJ98x.QJ9xx.x.8 KT.xx.T98.AQxxxx 0.99984 P-1N-2C-X-2H-P-P-3C-P-P-P (9.6)  P-1N-P-2S-P-3C-P-5C-P-P-P (9.6) ',\n",
       " 'xx.Kxx.AT98x.Jxx Kx.AT8x.Kxx.AKTx AQJ98x.QJ9xx.x.8 Txx.x.QJxx.Q9xxx 0.99984 P-1N-2C-P-2H-P-P-P (7.5)  P-1N-P-P-P (7.5) ',\n",
       " 'Txxx.xx.KJ9x.QTx Kx.Axx.Axx.AJ9xx AQJ98x.QJ9xx.x.8 x.KT8.QT8xx.Kxxx 0.99984 P-1N-2C-X-2S-3C-P-P-P (10.5)  P-1N-P-2N-P-P-P (8.2) ',\n",
       " 'Kxx.8x.J9xx.Q9xx Txxx.Axx.AK.KJTx AQJ98x.QJ9xx.x.8 .KTx.QT8xxx.Axxx 0.99984 P-1N-2C-X-2S-P-P-3D-P-3N-P-P-P (9.3)  P-1N-P-3N-P-P-P (9.3) ',\n",
       " 'T.A8x.KJ9xx.QTxx Kxx.KTx.AQ8x.AJx AQJ98x.QJ9xx.x.8 xxx.xx.Txx.K9xxx 0.99983 P-1N-2C-P-2H-P-P-P (9.1)  P-1N-P-P-P (6.0) ',\n",
       " 'xxx.Kxx.xxx.QTxx Kx.Ax.QTxx.AK9xx AQJ98x.QJ9xx.x.8 Tx.T8x.AKJ98.Jxx 0.99983 P-1N-2C-X-2H-3C-P-3D-P-3N-P-P-P (9.4)  P-1N-P-2N-P-3N-P-P-P (9.4) ',\n",
       " 'xx.Kxxx.Jxx.QJTx xx.AT8.AQ8xx.AKx AQJ98x.QJ9xx.x.8 KTx.x.KT9x.9xxxx 0.99983 P-1N-2C-X-2H-P-P-P (8.4)  P-1N-P-P-P (8.6) ',\n",
       " 'KTx.Txx.QJxx.AJx xx.AKx.Axxx.KQxx AQJ98x.QJ9xx.x.8 xx.8x.KT98.T9xxx 0.99983 P-1N-2C-P-P-P (7.7)  P-1N-P-P-P (6.5) ',\n",
       " 'x.8xx.KQ98x.Jxxx KTx.AKx.ATx.QTxx AQJ98x.QJ9xx.x.8 xxx.Tx.Jxxx.AK9x 0.99983 P-1N-2C-X-2H-P-P-2N-P-3N-P-P-P (7.8)  P-1N-P-2N-P-P-P (7.8) ',\n",
       " 'Txx.xx.QJTx.xxxx Kxx.AK8.9xx.AQJx AQJ98x.QJ9xx.x.8 x.Txx.AK8xx.KT9x 0.99983 P-1N-2C-X-2S-3N-P-P-P (9.5)  P-1N-P-3N-P-P-P (9.6) ',\n",
       " 'KTx.8x.KQT9x.Qxx xx.AKT.Axx.AJTxx AQJ98x.QJ9xx.x.8 xx.xxx.J8xx.K9xx 0.99983 P-1N-2C-P-2S-3C-P-P-P (9.1)  P-1N-P-P-P (6.6) ',\n",
       " 'Tx.Ax.Q98x.QJxxx Kxx.xx.AJTx.AKxx AQJ98x.QJ9xx.x.8 xx.KT8x.Kxxx.T9x 0.99983 P-1N-2C-P-2D-P-2S-P-P-P (8.6)  P-1N-P-P-P (6.2) ',\n",
       " 'xx.Txx.AT8xx.Jxx Kxx.A8.KJ9x.KQxx AQJ98x.QJ9xx.x.8 Tx.Kxx.Qxx.AT9xx 0.99982 P-1N-2C-X-2H-P-P-X-P-P-P (7.3)  P-1N-P-2N-P-P-P (8.2) ',\n",
       " 'xxxx.A.J9xx.Jxxx KT.Kxx.KT8x.AK9x AQJ98x.QJ9xx.x.8 x.T8xx.AQxx.QTxx 0.99982 P-1N-2C-X-2S-P-P-X-P-P-P (9.9)  P-1N-P-2C-P-2D-P-2N-P-P-P (8.5) ',\n",
       " 'xx.Axx.QJxx.Qxxx KTx.K8x.AT98.AJx AQJ98x.QJ9xx.x.8 xx.Tx.Kxxx.KT9xx 0.99982 P-1N-2C-X-2H-P-P-P (8.1)  P-1N-P-P-P (6.8) ',\n",
       " 'Kx.Txxx.QJTxx.Tx Txx.Ax.A8x.AKQxx AQJ98x.QJ9xx.x.8 xx.K8.K9xx.J9xxx 0.99982 P-1N-2C-X-P-3C-P-3N-P-P-P (9.0)  P-1N-P-P-P (9.1) ',\n",
       " 'Kxx.Tx.8xx.AQxxx xxx.Kx.AKQ9x.Kxx AQJ98x.QJ9xx.x.8 T.A8xx.JTxx.JT9x 0.99982 P-1N-2C-P-2S-3D-P-P-P (10.1)  P-1N-P-P-P (7.8) ',\n",
       " 'xx.Tx.9xxx.KQxxx Tx.AK8x.AJx.Axxx AQJ98x.QJ9xx.x.8 Kxx.xx.KQT8x.JT9 0.99982 P-1N-2C-X-3C-P-P-3D-P-3H-P-3N-P-P-P (8.8)  P-1N-P-2N-P-P-P (9.0) ',\n",
       " 'Tx.8x.KQ98x.Axxx xx.AKxx.Axx.KJ9x AQJ98x.QJ9xx.x.8 Kxx.Tx.JTxx.QTxx 0.99982 P-1N-2C-P-2D-P-2S-P-P-P (8.7)  P-1N-P-P-P (7.3) ',\n",
       " 'Tx.Tx.QJxxx.ATxx xxx.AKx.AK.QJxxx AQJ98x.QJ9xx.x.8 Kx.8xx.T98xx.K9x 0.99982 P-1N-2C-P-P-3C-P-3D-P-P-P (6.9)  P-1N-P-P-P (7.9) ',\n",
       " 'x.Kxx.K9xx.QJT9x xxx.AT8.AT8.AKxx AQJ98x.QJ9xx.x.8 KTx.xx.QJxxx.xxx 0.99982 P-1N-2C-P-2H-P-P-P (7.8)  P-1N-P-P-P (7.1) ',\n",
       " 'T.8xx.Qxx.KQJxxx Kxxx.KTx.AKxx.Ax AQJ98x.QJ9xx.x.8 xx.Ax.JT98x.T9xx 0.99982 P-1N-2C-P-2H-P-P-P (7.6)  P-1N-P-P-P (7.4) ',\n",
       " 'xx.xxx.KT9x.Axxx KTxx.KTx.AJx.KJx AQJ98x.QJ9xx.x.8 x.A8.Q8xxx.QT9xx 0.99982 P-1N-2C-X-2H-X-P-3D-P-P-P (8.5)  P-1N-P-2N-P-P-P (7.8) ',\n",
       " 'Tx.Tx.KQTxx.Txxx Kx.Ax.A9xx.KQ9xx AQJ98x.QJ9xx.x.8 xxx.K8xx.J8x.AJx 0.99982 P-1N-2C-X-2H-3C-P-3N-P-P-P (8.0)  P-1N-P-2C-P-2D-P-2N-P-3N-P-P-P (8.0) ',\n",
       " 'Txxx.Axx.9.K9xxx Kx.KTx.KT8xx.AQT AQJ98x.QJ9xx.x.8 x.8x.AQJxxx.Jxxx 0.99981 P-1N-2C-X-2S-P-P-3D-P-P-P (10.1)  P-1N-P-3C-X-3D-P-P-P (10.3) ',\n",
       " 'Tx.Txx.K8x.JT9xx Kxxx.Ax.J9x.AKxx AQJ98x.QJ9xx.x.8 x.K8x.AQTxxx.Qxx 0.99981 P-1N-2C-X-2H-P-P-3N-P-P-P (8.7)  P-1N-P-3N-P-P-P (8.7) ',\n",
       " 'xx.Ax.T8xx.QJTxx xx.KTxx.KQx.AK9x AQJ98x.QJ9xx.x.8 KTx.8x.AJ9xx.xxx 0.99981 P-1N-2C-X-2H-X-P-3D-P-P-P (8.9)  P-1N-P-2N-P-P-P (8.3) ',\n",
       " 'xx.xx.KT98x.KQJT KTx.AK8.AJx.xxxx AQJ98x.QJ9xx.x.8 xx.Txx.Qxxx.A9xx 0.99981 P-1N-2C-X-2H-P-P-P (7.9)  P-1N-P-P-P (6.0) ',\n",
       " 'x.Tx.A98xx.QJxxx Kxx.A8xx.KQJx.KT AQJ98x.QJ9xx.x.8 Txx.Kx.Txx.A9xxx 0.99981 P-1N-2C-X-2H-X-P-P-P (7.4)  P-1N-P-P-P (7.1) ',\n",
       " 'Tx.T8x.KT9x.K9xx xx.AKx.A8x.AJxxx AQJ98x.QJ9xx.x.8 Kxx.xx.QJxxx.QTx 0.99981 P-1N-2C-X-2H-3C-P-P-P (9.4)  P-1N-P-2N-P-P-P (8.3) ',\n",
       " 'xx.T8.AJ8xx.Qxxx KTx.AKxx.Tx.AKTx AQJ98x.QJ9xx.x.8 xx.xx.KQ9xx.J9xx 0.99981 P-1N-2C-P-P-P (6.1)  P-1N-P-P-P (7.4) ',\n",
       " 'xx.xxxx.KQx.Qxxx KTx.AK.AT98.JTxx AQJ98x.QJ9xx.x.8 xx.T8.Jxxxx.AK9x 0.99981 P-1N-2C-X-2H-P-P-3D-P-P-P (9.6)  P-1N-P-2N-P-P-P (7.8) ',\n",
       " 'xx.Kx.AJTx.Jxxxx KT.8xx.KQ8.AKT9x AQJ98x.QJ9xx.x.8 xxx.ATx.9xxxx.Qx 0.99981 P-1N-2C-P-2D-3C-P-3D-P-P-P (8.0)  P-1N-P-P-P (6.7) ',\n",
       " 'Tx.Kxxx.98xx.KTx Kxx.AT8x.AJx.AJx AQJ98x.QJ9xx.x.8 xx..KQTxx.Q9xxxx 0.99980 P-1N-2C-X-2H-X-P-3D-P-3N-P-P-P (8.5)  P-1N-P-2S-P-3C-P-P-P (11.0) ',\n",
       " 'xx.8xx.T9xx.Q9xx Kx.AKx.K8x.KTxxx AQJ98x.QJ9xx.x.8 Txx.Tx.AQJxx.AJx 0.99980 P-1N-2C-X-2H-3C-P-3N-P-P-P (10.0)  P-1N-P-3N-P-P-P (10.1) ',\n",
       " 'x.8xx.KTxx.A9xxx Txx.Kx.AQ8x.KQJT AQJ98x.QJ9xx.x.8 Kxx.ATx.J9xx.xxx 0.99980 P-1N-2C-X-2H-P-P-P (7.5)  P-1N-P-2N-P-P-P (8.4) ',\n",
       " 'xx.ATxxx.98x.Jxx xxx.Kx.AQJx.KQT9 AQJ98x.QJ9xx.x.8 KT.8.KTxxx.Axxxx 0.99980 P-1N-2C-X-2H-P-P-3D-P-P-P (11.0)  P-1N-P-3N-P-P-P (9.2) ',\n",
       " 'Kx.T8x.J8xx.Kxxx xx.AKx.KQ9xx.A9x AQJ98x.QJ9xx.x.8 Txx.xx.ATx.QJTxx 0.99980 P-1N-2C-X-2H-P-P-3C-P-P-P (9.3)  P-1N-P-P-P (8.2) ',\n",
       " 'Txx.Axxx.QT9.KJx Kxx.K8.AKJx.QT9x AQJ98x.QJ9xx.x.8 x.Tx.8xxxx.Axxxx 0.99980 P-1N-2C-P-2H-P-P-3D-P-P-P (8.9)  P-1N-P-P-P (6.7) ',\n",
       " 'Txx.T8xx.Ax.AJxx Kx.Kx.KJ8xx.KQ9x AQJ98x.QJ9xx.x.8 xx.Ax.QT9xx.Txxx 0.99980 P-1N-2C-P-2H-P-P-3D-P-P-P (8.9)  P-1N-P-P-P (7.5) ',\n",
       " 'x.xx.KJ8xx.9xxxx KTxx.AKT8.Qxx.KQ AQJ98x.QJ9xx.x.8 xx.xx.AT9x.AJTxx 0.99979 P-1N-2C-X-3C-P-P-X-P-3H-P-3N-P-P-P (8.5)  P-1N-P-2N-P-3N-P-P-P (8.4) ',\n",
       " 'Txx.KTx.T9xx.J9x Kx.A8x.KJ8x.Axxx AQJ98x.QJ9xx.x.8 xx.xx.AQxx.KQTxx 0.99979 P-1N-2C-X-2H-P-P-3N-P-P-P (9.4)  P-1N-P-3N-P-P-P (9.4) ']"
      ]
     },
     "execution_count": 3,
     "metadata": {},
     "output_type": "execute_result"
    }
   ],
   "source": [
    "### Samples consistent with the auction so far\n",
    "\n",
    "bid.samples"
   ]
  },
  {
   "cell_type": "markdown",
   "id": "7d0dd8f5",
   "metadata": {},
   "source": [
    "each row is one sample. the hands are in the order: N E S W\n",
    "\n",
    "(West always has the same cards because it's your hand and it's known to you)"
   ]
  },
  {
   "cell_type": "code",
   "execution_count": 4,
   "id": "7101e514",
   "metadata": {},
   "outputs": [
    {
     "name": "stdout",
     "output_type": "stream",
     "text": [
      "AQJ98x.QJ9xx.x.8 Txx.Axx.KJ8x.QTx x.KT8x.AQxx.K9xx Kxx.x.T9xx.AJxxx\n",
      "AQJ98x.QJ9xx.x.8 xx.A8.A9xx.J9xxx T.KTxx.KJxx.AQxx Kxxx.xx.QT8x.KTx\n",
      "AQJ98x.QJ9xx.x.8 Kxx.Kxx.Q8xxx.Jx x.AT8x.AK9x.Q9xx Txx.x.JTx.AKTxxx\n",
      "AQJ98x.QJ9xx.x.8 xx.AK.J9xx.Q9xxx x.Txxx.AQT8x.Axx KTxx.8x.Kxx.KJTx\n",
      "AQJ98x.QJ9xx.x.8 xxx.Txx.AJ98.KQx T.AKxx.KTxx.T9xx Kxx.8.Qxxx.AJxxx\n",
      "AQJ98x.QJ9xx.x.8 Kxx.Axx.AT9.9xxx x.KT8x.KJxx.AQJx Txx.x.Q8xxx.KTxx\n",
      "AQJ98x.QJ9xx.x.8 Kxx.Txx.A9xx.KJx x.AK8x.8xx.ATxxx Txx.x.KQJTx.Q9xx\n",
      "AQJ98x.QJ9xx.x.8 KTx.xx.ATx.Qxxxx x.A8xx.KQJx.AT9x xxx.KT.98xxx.KJx\n",
      "AQJ98x.QJ9xx.x.8 Kxx.8xx.AKxx.K9x x.AKxx.Jxx.JTxxx Txx.T.QT98x.AQxx\n",
      "AQJ98x.QJ9xx.x.8 Txx.Kx.xxxx.KTxx x.Axxx.KJTx.AQJx Kxx.T8.AQ98.9xxx\n",
      "AQJ98x.QJ9xx.x.8 Txx.x.J9x.AKJTxx x.AT8x.AKxxx.9xx Kxx.Kxx.QT8x.Qxx\n",
      "AQJ98x.QJ9xx.x.8 KTxx.x.Kxx.KT9xx x.ATxx.QT98xx.AJ xx.K8x.AJx.Qxxxx\n",
      "AQJ98x.QJ9xx.x.8 KTx.x.AT9xx.T9xx x.T8xx.KQJx.KQJx xxx.AKx.8xx.Axxx\n",
      "AQJ98x.QJ9xx.x.8 xx.Txxx.A8x.KQxx x.AK8x.KJ9x.J9xx KTxx..QTxxx.ATxx\n",
      "AQJ98x.QJ9xx.x.8 Kx.Tx.JT9.KJxxxx T.Kxxx.KQxxx.AT9 xxxx.A8.A8xx.Qxx\n",
      "AQJ98x.QJ9xx.x.8 Kxx.Txx.Txxx.AKQ x.AKxx.AJ9.JTxxx Txx.8.KQ8xx.9xxx\n",
      "AQJ98x.QJ9xx.x.8 KTxx.x.Kxx.JTxxx x.AKT8.AT98x.Kxx xx.xxx.QJxx.AQ9x\n",
      "AQJ98x.QJ9xx.x.8 Txxx.x.KJ8.AKTxx x.AKxx.AQxxxx.xx Kx.T8x.T9x.QJ9xx\n",
      "AQJ98x.QJ9xx.x.8 Kxx.xx.K9xx.JTxx x.ATxx.QJ8xx.AKQ Txx.K8.ATx.9xxxx\n",
      "AQJ98x.QJ9xx.x.8 Kxx.Txx.K9x.J9xx x.A8xx.AQ8x.AKQx Txx.K.JTxxx.Txxx\n",
      "AQJ98x.QJ9xx.x.8 Kxxx.8x.AKQx.Axx x.KTxx.JT98.KQJx Tx.Ax.xxxx.T9xxx\n",
      "AQJ98x.QJ9xx.x.8 Kxx.Ax.Axx.Q9xxx x.KTxx.QJxx.ATxx Txx.8x.KT98x.KJx\n",
      "AQJ98x.QJ9xx.x.8 Kxxx.x.AKxxx.Q9x T.AKxx.QJT.KJTxx xx.T8x.98xx.Axxx\n",
      "AQJ98x.QJ9xx.x.8 Kxx.Ax.9xx.AQxxx x.K8xx.AQJ8.KJ9x Txx.Tx.KTxxx.Txx\n",
      "AQJ98x.QJ9xx.x.8 Kxx.K.T98x.Q9xxx T.A8xx.Qxx.AJTxx xxx.Txx.AKJxx.Kx\n",
      "AQJ98x.QJ9xx.x.8 Txxx.ATx.JTx.Txx K.K8xx.A98x.AJxx xx.x.KQxxx.KQ9xx\n",
      "AQJ98x.QJ9xx.x.8 xx.Kx.AJ98x.Q9xx K.ATxx.Kxxx.Jxxx Txxx.8x.QTx.AKTx\n",
      "AQJ98x.QJ9xx.x.8 Kxx.x.AJT8.AJxxx T.AKT8.K9xxx.KTx xxx.xxx.Qxx.Q9xx\n"
     ]
    }
   ],
   "source": [
    "# we got some samples above. if we want more, we can always get more\n",
    "\n",
    "sample_hands, sorted_score, p_hcp, p_shp = bot_bid.sample_hands([\"PAD_START\", \"PAD_START\", \"PAD_START\", \"PASS\", \"1N\", \"PASS\", \"3S\",\"PASS\"])\n",
    "\n",
    "for i in range(sample_hands.shape[0]):\n",
    "    print(f'{hand_to_str(sample_hands[i, 0, :])} {hand_to_str(sample_hands[i, 1, :])} {hand_to_str(sample_hands[i, 2, :])} {hand_to_str(sample_hands[i, 3, :])}')"
   ]
  }
 ],
 "metadata": {
  "kernelspec": {
   "display_name": "Python 3 (ipykernel)",
   "language": "python",
   "name": "python3"
  },
  "language_info": {
   "codemirror_mode": {
    "name": "ipython",
    "version": 3
   },
   "file_extension": ".py",
   "mimetype": "text/x-python",
   "name": "python",
   "nbconvert_exporter": "python",
   "pygments_lexer": "ipython3",
   "version": "3.11.0"
  }
 },
 "nbformat": 4,
 "nbformat_minor": 5
}
