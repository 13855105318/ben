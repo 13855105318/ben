{
 "cells": [
  {
   "cell_type": "markdown",
   "id": "75d07246",
   "metadata": {},
   "source": [
    "# Bidding\n",
    "\n",
    "This is a tutorial for how to use the bidding engine"
   ]
  },
  {
   "cell_type": "code",
   "execution_count": 1,
   "id": "59a5664c",
   "metadata": {},
   "outputs": [
    {
     "name": "stdout",
     "output_type": "stream",
     "text": [
      "WARNING:tensorflow:From c:\\Python311\\Lib\\site-packages\\tensorflow\\python\\compat\\v2_compat.py:107: disable_resource_variables (from tensorflow.python.ops.variable_scope) is deprecated and will be removed in a future version.\n",
      "Instructions for updating:\n",
      "non-resource variables are not supported in the long term\n"
     ]
    }
   ],
   "source": [
    "import sys\n",
    "sys.path.append('../../src')\n",
    "\n",
    "from nn.models import Models\n",
    "from bots import BotBid\n",
    "from util import hand_to_str\n",
    "from sample import Sample\n",
    "import conf\n",
    "import numpy as np\n",
    "\n",
    "np.set_printoptions(precision=2, suppress=True, linewidth=200)\n",
    "np.random.seed(42)\n"
   ]
  },
  {
   "cell_type": "code",
   "execution_count": 2,
   "id": "44786d5d",
   "metadata": {},
   "outputs": [
    {
     "name": "stdout",
     "output_type": "stream",
     "text": [
      "INFO:tensorflow:Restoring parameters from ..\\Models/bidding-3233000\n",
      "INFO:tensorflow:Restoring parameters from ..\\Models/binfo-808000\n",
      "INFO:tensorflow:Restoring parameters from ..\\Models/lead_suit-154000\n",
      "INFO:tensorflow:Restoring parameters from ..\\Models/lead_nt-59000\n",
      "INFO:tensorflow:Restoring parameters from ..\\Models/lr3-1000000\n",
      "INFO:tensorflow:Restoring parameters from ..\\Models/lefty-1000000\n",
      "INFO:tensorflow:Restoring parameters from ..\\Models/dummy-920000\n",
      "INFO:tensorflow:Restoring parameters from ..\\Models/righty-1000000\n",
      "INFO:tensorflow:Restoring parameters from ..\\Models/decl-1000000\n"
     ]
    }
   ],
   "source": [
    "models = Models.from_conf(conf.load('../Conf/UCBC2024.conf'),'..')   # loading neural networks\n",
    "sampler = Sample.from_conf(conf.load('../Conf/UCBC2024.conf'), False)  # Load sampling strategies\n"
   ]
  },
  {
   "cell_type": "markdown",
   "id": "10d8f2fc",
   "metadata": {},
   "source": [
    "### Running through an example"
   ]
  },
  {
   "cell_type": "code",
   "execution_count": 3,
   "id": "19dbfeb7",
   "metadata": {},
   "outputs": [
    {
     "data": {
      "text/plain": [
       "[{'call': '2C',\n",
       "  'insta_score': 0.6512,\n",
       "  'expected_score': -90,\n",
       "  'adjustment': 33},\n",
       " {'call': 'PASS',\n",
       "  'insta_score': 0.2068,\n",
       "  'expected_score': -119,\n",
       "  'adjustment': 10}]"
      ]
     },
     "execution_count": 3,
     "metadata": {},
     "output_type": "execute_result"
    }
   ],
   "source": [
    "# East deals, EW vulnerable.\n",
    "vuln_ns, vuln_ew = False, False\n",
    "\n",
    "# you sit West and hold:\n",
    "hand = 'AQJ986.QJ952.7.8'\n",
    "\n",
    "# the auction goes:\n",
    "# (a few words about 'PAD_START':\n",
    "# the auction is padded to dealer North\n",
    "# if North is not dealer, than we have to put in a 'PAD_START' for every seat that was skipped\n",
    "# if East deals we have one pad (because North is skipped)\n",
    "# if South deals we have two pads (because North and East are skipped)\n",
    "# etc.)\n",
    "models.ns = 1\n",
    "models.ew = 2\n",
    "auction = [\"PASS\", \"1N\"]\n",
    "bot_bid = BotBid([vuln_ns, vuln_ew], hand, models, sampler, False)\n",
    "\n",
    "bid = bot_bid.bid(auction)\n",
    "bid.to_dict()['candidates']\n",
    "\n",
    "# what's your bid?"
   ]
  },
  {
   "cell_type": "code",
   "execution_count": 4,
   "id": "bfe98f56",
   "metadata": {},
   "outputs": [
    {
     "data": {
      "text/plain": [
       "[{'call': 'PASS',\n",
       "  'insta_score': 0.9852,\n",
       "  'expected_score': -52,\n",
       "  'adjustment': 49},\n",
       " {'call': '2S',\n",
       "  'insta_score': 0.0126,\n",
       "  'expected_score': -7,\n",
       "  'adjustment': -20}]"
      ]
     },
     "execution_count": 4,
     "metadata": {},
     "output_type": "execute_result"
    }
   ],
   "source": [
    "auction = [\"PAD_START\", \"2D\", \"PASS\", \"PASS\", \"X\", \"PASS\", \"PASS\"]\n",
    "bid = bot_bid.bid(auction)\n",
    "\n",
    "bid.to_dict()['candidates']"
   ]
  },
  {
   "cell_type": "markdown",
   "id": "ad120123",
   "metadata": {},
   "source": [
    "in the output above:\n",
    "- `insta_score` reflects what the neural network prefers to bid\n",
    "- `expected_score` is based on what you expect to score on difference samples (for example, 70% of the time you are making and 30% of the time you are going one off, then the expected score is 0.7 * 620 - 0.3 * 100)"
   ]
  },
  {
   "cell_type": "markdown",
   "id": "051ff121",
   "metadata": {},
   "source": [
    "### Samples consistent with the auction so far\n",
    "\n",
    "Above we said that we are computig expected scores on samples consistent with the auction so far.\n",
    "\n",
    "How do we get these samples?\n",
    "\n",
    "We get some samples in the response we get from the bot (i.e `bid.samples`)"
   ]
  },
  {
   "cell_type": "code",
   "execution_count": 5,
   "id": "55b647a5",
   "metadata": {},
   "outputs": [
    {
     "data": {
      "text/plain": [
       "['xx.ATx.AKT.AKQJx Kx.Kx.QJ98xx.9xx Txx.8xx.xxx.Txxx AQJ98x.QJ9xx.x.8 0.94234 2D-P-P-X-P-P-P (8.0)  2D-P-P-X-P-P-2S-3C-P-P-P (8.3) ',\n",
       " 'Kx.AKT8.x.AKQxxx xxx.x.AJ98xx.J9x Tx.xxx.KQTxx.Txx AQJ98x.QJ9xx.x.8 0.93737 2D-P-P-X-P-P-P (6.7)  2D-P-P-X-P-P-2S-3C-P-P-P (9.9) ',\n",
       " 'Kxx.Ax.AJ.AKJxxx T.KT8.KT98xx.T9x xxx.xxx.Qxxx.Qxx AQJ98x.QJ9xx.x.8 0.93234 2D-P-P-X-P-P-P (7.2)  2D-P-P-X-P-P-2S-3C-P-P-P (9.0) ',\n",
       " 'Kxx.Axx.Kx.AKQTx Tx.Kx.AQT98x.xxx xx.T8x.Jxxx.J9xx AQJ98x.QJ9xx.x.8 0.92488 2D-P-P-X-P-P-P (8.1)  2D-P-P-X-P-P-2S-3C-P-P-P (8.1) ',\n",
       " 'xxx.AKT8.Tx.AKJx Tx.x.QJ98xx.Qxxx Kx.xxx.AKxx.T9xx AQJ98x.QJ9xx.x.8 0.82310 2D-P-P-X-P-P-P (6.5)  2D-P-P-X-P-P-2S-P-P-P (6.9) ',\n",
       " 'Kxx.AKTx.Jx.A9xx x.xx.AQTxxx.xxxx Txx.8x.K98x.KQJT AQJ98x.QJ9xx.x.8 0.81570 2D-P-P-X-P-P-P (7.0)  2D-P-P-X-P-P-2S-P-2N-P-P-P (5.6) ',\n",
       " 'Kxx.AKTx.A8.AKxx x.x.KQJxxx.QJT9x Txx.8xx.T9xx.xxx AQJ98x.QJ9xx.x.8 0.77768 2D-P-P-X-P-P-P (7.5)  2D-P-P-X-P-P-2S-X-P-P-P (7.5) ',\n",
       " 'Kxx.AK8x.KJ.Jxxx T.Tx.ATxxxx.KQTx xxx.xx.Q98x.A9xx AQJ98x.QJ9xx.x.8 0.74772 2D-P-P-X-P-P-P (6.7)  2D-P-P-X-P-P-2S-P-2N-P-P-P (6.9) ',\n",
       " 'xx.AT8x.AQ.AKJTx Tx.K.KT8xxx.Q9xx Kxx.xxx.J9xx.xxx AQJ98x.QJ9xx.x.8 0.71092 2D-P-P-X-P-P-P (7.6)  2D-P-P-X-P-P-2S-3C-P-P-P (7.7) ',\n",
       " 'xxx.AKx.KJ.AKTxx Tx.8x.AQ9xxx.Jxx Kx.Txx.T8xx.Q9xx AQJ98x.QJ9xx.x.8 0.69083 2D-P-P-X-P-P-P (7.5)  2D-P-P-X-P-P-2S-3C-P-P-P (8.4) ',\n",
       " 'Kx.AT.AKx.AJxxxx xx.K8x.QJ9xxx.Kx Txx.xxx.T8x.QT9x AQJ98x.QJ9xx.x.8 0.68482 2D-P-P-X-P-P-P (7.1)  2D-P-P-X-P-P-2S-3C-P-P-P (8.8) ',\n",
       " 'Tx.AKT.AKx.ATxxx xx.xx.JT98xx.KQx Kxx.8xx.Qxx.J9xx AQJ98x.QJ9xx.x.8 0.64793 2D-P-P-X-P-P-P (6.1)  2D-P-P-X-P-P-2S-3C-P-P-P (8.7) ',\n",
       " 'Kxx.AT8x.AKx.JTx x.x.QT8xxx.KQxxx Txx.Kxx.J9x.A9xx AQJ98x.QJ9xx.x.8 0.58614 2D-P-P-X-P-P-P (6.5)  2D-P-P-X-P-P-2S-P-P-P (7.0) ',\n",
       " 'xxx.AT.AKJ.AQTxx x.Kxx.QT98xx.Kxx KTx.8xx.xxx.J9xx AQJ98x.QJ9xx.x.8 0.56810 2D-P-P-X-P-P-P (7.5)  2D-P-P-X-P-P-2S-3C-P-P-P (8.1) ',\n",
       " 'Kxx.AKx.9x.AKJxx x.xx.ATxxxx.Qxxx Txx.T8x.KQJ8.T9x AQJ98x.QJ9xx.x.8 0.55583 2D-P-P-X-P-P-P (6.7)  2D-P-P-X-P-P-2S-3C-P-P-P (8.6) ',\n",
       " 'Kxx.T8x.AQx.AQxx x.Ax.K98xxx.JTxx Txx.Kxx.JTx.K9xx AQJ98x.QJ9xx.x.8 0.54575 2D-P-P-X-P-P-P (7.4)  2D-P-P-X-P-P-2S-P-2N-P-P-P (6.5) ',\n",
       " 'Tx.AKxx.AJx.AQxx xx.8.KTxxxx.KJ9x Kxx.Txx.Q98.Txxx AQJ98x.QJ9xx.x.8 0.51104 2D-P-P-X-P-P-P (7.5)  2D-P-P-X-P-P-2S-X-P-3C-P-P-P (7.9) ',\n",
       " 'Kx.AT8.AKQxx.KQx x.Kx.JT8xxx.AT9x Txxx.xxx.9.Jxxxx AQJ98x.QJ9xx.x.8 0.47180 2D-P-P-X-P-P-P (7.1)  2D-P-P-X-P-P-2S-X-P-3C-P-3D-P-P-P (6.1) ',\n",
       " 'Tx.AKT8.A8x.ATxx xx.x.KQJ9xx.xxxx Kxx.xxx.Txx.KQJ9 AQJ98x.QJ9xx.x.8 0.43173 2D-P-P-X-P-P-P (7.3)  2D-P-P-X-P-P-2S-P-P-P (8.0) ',\n",
       " 'xxxx.AKx.KJ.AJTx x.xx.AQT9xx.Q9xx KT.T8x.8xxx.Kxxx AQJ98x.QJ9xx.x.8 0.40376 2D-P-P-X-P-P-P (7.8)  2D-P-P-X-P-P-2S-P-2N-P-P-P (6.9) ',\n",
       " 'Tx.AKTx.AKJ.AKQJ Kxx.x.QT8xxx.9xx xx.8xx.9xx.Txxxx AQJ98x.QJ9xx.x.8 0.40056 2D-P-P-X-P-P-P (7.1)  2D-P-P-X-P-P-2S-X-P-3C-P-P-P (10.6) ',\n",
       " 'Kx.AKTx.AQ.QT9xx Txx.x.KJT98x.Axx xx.8xx.xxxx.KJxx AQJ98x.QJ9xx.x.8 0.36322 2D-P-P-X-P-P-P (7.9)  2D-P-P-X-P-P-2S-3C-P-P-P (8.8) ',\n",
       " 'KTxx.KT8.AQx.KTx .xx.KJTxxx.AQxxx xxx.Axx.98x.J9xx AQJ98x.QJ9xx.x.8 0.36043 2D-P-P-X-P-P-P (7.9)  2D-P-P-X-P-P-2S-P-P-P (7.8) ',\n",
       " 'xxx.AK8x.8x.AKQT Kx.x.QJT9xx.9xxx Tx.Txx.AKxx.Jxxx AQJ98x.QJ9xx.x.8 0.35050 2D-P-P-X-P-P-P (7.3)  2D-P-P-X-P-P-2S-P-P-P (7.9) ',\n",
       " 'Kxx.AKx.AKQ.9xxx x.T8.T8xxxx.AKxx Txx.xxx.J9x.QJTx AQJ98x.QJ9xx.x.8 0.34469 2D-P-P-X-P-P-P (6.6)  2D-P-P-X-P-P-2S-X-P-P-P (7.5) ',\n",
       " 'Txxx.AKxx.Ax.AQJ K.8.K98xxx.Kxxxx xx.Txx.QJTx.T9xx AQJ98x.QJ9xx.x.8 0.32425 2D-P-P-X-P-P-P (7.1)  2D-P-P-X-P-P-2S-X-P-3C-P-P-P (7.6) ',\n",
       " 'xxx.AKT8.Ax.AJT9 T.xx.KQJT9x.Kxxx Kxx.xx.8xxx.Qxxx AQJ98x.QJ9xx.x.8 0.32177 2D-P-P-X-P-P-P (7.6)  2D-P-P-X-P-P-2S-P-2N-P-P-P (7.1) ',\n",
       " 'Txx.AKxx.A8.AJTx Kx.8.QT9xxx.Qxxx xx.Txx.KJxx.K9xx AQJ98x.QJ9xx.x.8 0.31892 2D-P-P-X-P-P-P (7.0)  2D-P-P-X-P-P-2S-P-P-P (7.7) ',\n",
       " 'xxx.AKxx.Q.AKQ9x Kx.Tx.KTxxxx.JTx Tx.8x.AJ98x.xxxx AQJ98x.QJ9xx.x.8 0.30633 2D-P-P-X-P-P-P (7.0)  2D-P-P-X-P-P-2S-3C-P-P-P (9.6) ',\n",
       " 'KTxx.AKxx.x.KQxx .T8.AQ98xx.A9xxx xxx.xx.KJTxx.JTx AQJ98x.QJ9xx.x.8 0.29030 2D-P-P-X-P-P-P (7.7)  2D-P-P-X-P-P-2S-P-P-P (7.9) ',\n",
       " 'Txx.AKx.KQx.AKxx Kx.Tx.AJ98xx.QTx xx.8xx.Txx.J9xxx AQJ98x.QJ9xx.x.8 0.28918 2D-P-P-X-P-P-P (8.1)  2D-P-P-X-P-P-2S-X-P-3C-P-P-P (8.7) ',\n",
       " 'Txxx.A8x.Ax.AKxx x.Kx.Q8xxxx.9xxx Kx.Txx.KJT9.QJTx AQJ98x.QJ9xx.x.8 0.28331 2D-P-P-X-P-P-P (7.0)  2D-P-P-X-P-P-2S-P-P-P (7.2) ',\n",
       " 'Kxx.A8.AQx.AKT9x xx.KTx.KJ8xxx.Qx Tx.xxx.T9x.Jxxxx AQJ98x.QJ9xx.x.8 0.27609 2D-P-P-X-P-P-P (7.0)  2D-P-P-X-P-P-2S-3C-P-P-P (8.8) ',\n",
       " 'KTx.Ax.AK9.AQJxx xx.K8x.QT8xxx.Kx xx.Txx.Jxx.T9xxx AQJ98x.QJ9xx.x.8 0.27547 2D-P-P-X-P-P-P (7.1)  2D-P-P-X-P-P-2S-3C-P-P-P (9.4) ',\n",
       " 'Kxxx.Kxx.xx.AKQJ x.Ax.QT8xxx.Txxx Tx.T8x.AKJ9.9xxx AQJ98x.QJ9xx.x.8 0.26633 2D-P-P-X-P-P-P (7.0)  2D-P-P-X-P-P-2S-P-2N-P-P-P (6.2) ',\n",
       " 'KTx.AKxx.Jx.KQxx xx.8.K9xxxx.AJxx xx.Txx.AQT8.T9xx AQJ98x.QJ9xx.x.8 0.25094 2D-P-P-X-P-P-P (6.8)  2D-P-P-X-P-P-2S-P-2N-P-P-P (6.2) ']"
      ]
     },
     "execution_count": 5,
     "metadata": {},
     "output_type": "execute_result"
    }
   ],
   "source": [
    "bid.samples"
   ]
  },
  {
   "cell_type": "markdown",
   "id": "7d0dd8f5",
   "metadata": {},
   "source": [
    "each row is one sample. the hands are in the order: N E S W\n",
    "\n",
    "(West always has the same cards because it's your hand and it's known to you)"
   ]
  },
  {
   "cell_type": "code",
   "execution_count": 6,
   "id": "7101e514",
   "metadata": {},
   "outputs": [
    {
     "name": "stdout",
     "output_type": "stream",
     "text": [
      "AQJ98x.QJ9xx.x.8 Txx.xxx.AKT.ATxx .KT8x.QJ9xx.KQJ9 Kxxx.A.8xxx.xxxx\n",
      "AQJ98x.QJ9xx.x.8 Kxx.Tx.J9xx.KJT9 T.A8xx.AK8x.xxxx xxx.Kx.QTxx.AQxx\n",
      "AQJ98x.QJ9xx.x.8 Kxx.xx.KQTx.QJxx x.A8xx.A8xx.KTxx Txx.KT.J9xx.A9xx\n",
      "AQJ98x.QJ9xx.x.8 Txx.Ax.QJ8x.AQ9x x.KTxx.AKT9.JTxx Kxx.8x.xxxx.Kxxx\n",
      "AQJ98x.QJ9xx.x.8 Kxx.K8x.xxx.JTxx x.Axxx.K98x.AKxx Txx.T.AQJTx.Q9xx\n",
      "AQJ98x.QJ9xx.x.8 Tx.Tx.AKJxxx.T9x x.AKxx.T9x.KQxxx Kxxx.8x.Q8x.AJxx\n",
      "AQJ98x.QJ9xx.x.8 xxx.A8x.AQT8x.xx x.KTxx.K9x.A9xxx KTx.x.Jxxx.KQJTx\n",
      "AQJ98x.QJ9xx.x.8 Kxx.x.AT8x.QJxxx x.KT8x.KJxx.AK9x Txx.Axx.Q9xx.Txx\n",
      "AQJ98x.QJ9xx.x.8 Kx.Ax.JTx.Jxxxxx x.Kxxx.KQxx.AKTx Txxx.T8.A98xx.Q9\n",
      "AQJ98x.QJ9xx.x.8 Kxx.8xx.KQTx.Jxx x.AKTx.J9xx.AQxx Txx.x.A8xx.KT9xx\n",
      "AQJ98x.QJ9xx.x.8 xx.Tx.KQ98x.KQ9x x.A8xx.Txxx.AJTx KTxx.Kx.AJx.xxxx\n",
      "AQJ98x.QJ9xx.x.8 KT.Txxx.KJxx.KTx x.AK8x.QT9x.AQ9x xxxx..A8xx.Jxxxx\n",
      "AQJ98x.QJ9xx.x.8 Kxxx.xx.ATxx.Kxx x.AKTx.J9x.AQTxx Tx.8x.KQ8xx.J9xx\n",
      "AQJ98x.QJ9xx.x.8 KTx.Tx.Qxxx.Axxx x.A8xx.AK8.KJ9xx xxx.Kx.JT9xx.QTx\n",
      "AQJ98x.QJ9xx.x.8 xx.T8.AJTx.ATxxx x.AKxx.98xxx.K9x KTxx.xx.KQx.QJxx\n",
      "AQJ98x.QJ9xx.x.8 xx.A.K8xx.JT9xxx x.Kxxx.AQJTx.Kxx KTxx.T8x.9xx.AQx\n",
      "AQJ98x.QJ9xx.x.8 KTx.8.J8xx.KQxxx x.ATxx.AKQxx.JTx xxx.Kxx.T9x.A9xx\n",
      "AQJ98x.QJ9xx.x.8 Kxx.Kx.KTxxx.QT9 x.ATxx.AQ9.xxxxx Txx.8x.J8xx.AKJx\n",
      "AQJ98x.QJ9xx.x.8 Kxx.ATxx.K8xx.Jx x.K8xx.AJT9x.AKT Txx..Qxx.Q9xxxxx\n",
      "AQJ98x.QJ9xx.x.8 Kx.T8xx.ATxx.A9x x.AKxx.KJxx.KQTx Txxx..Q98x.Jxxxx\n",
      "AQJ98x.QJ9xx.x.8 x.Axx.JTxxx.J9xx x.KTxx.KQ8.AKQxx KTxxx.8.A9xx.Txx\n",
      "AQJ98x.QJ9xx.x.8 KTx.x.QTxx.AQxxx .T8xx.AKJxx.KTxx xxxx.AKx.98x.J9x\n",
      "AQJ98x.QJ9xx.x.8 Kxx.T8.Jxx.QJT9x x.AKxx.AQxx.Axxx Txx.xx.KT98x.Kxx\n",
      "AQJ98x.QJ9xx.x.8 Kxx.T8.KJx.AJxxx T.AKxx.AQ98xx.Kx xxx.xx.Txx.QT9xx\n",
      "AQJ98x.QJ9xx.x.8 xx.8xx.ATx.A9xxx x.AKTx.KQx.KJTxx KTxx.x.J98xxx.Qx\n",
      "AQJ98x.QJ9xx.x.8 xx.Tx.J98.KQ9xxx x.AKxx.KTxxx.AJT KTxx.8x.AQxx.xxx\n",
      "AQJ98x.QJ9xx.x.8 Kxx.A.K9xx.Qxxxx .xxxx.QJ8xx.AK9x Txxx.KT8.ATx.JTx\n",
      "AQJ98x.QJ9xx.x.8 KTx.x.J9xx.KQxxx x.AKxx.A8xx.AJ9x xxx.T8x.KQTx.Txx\n",
      "AQJ98x.QJ9xx.x.8 Tx.Axxx.AT9xx.Ax x.KT8x.KJ8.QJ9xx Kxxx..Qxxx.KTxxx\n",
      "AQJ98x.QJ9xx.x.8 xx.8.A98xx.Kxxxx x.KTxx.QJxx.AQ9x KTxx.Axx.KTx.JTx\n",
      "AQJ98x.QJ9xx.x.8 xx.ATx.AQTxx.Txx K.Kxxx.J8xx.K9xx Txxx.8.K9x.AQJxx\n",
      "AQJ98x.QJ9xx.x.8 Tx.ATxx.AKJT9.Qx x.K8xx.Q8x.KJ9xx Kxxx..xxxx.ATxxx\n"
     ]
    }
   ],
   "source": [
    "# we got some samples above. if we want more, we can always get more\n",
    "\n",
    "sample_hands, sorted_score, p_hcp, p_shp = bot_bid.sample_hands([\"PAD_START\", \"PAD_START\", \"PAD_START\", \"PASS\", \"1N\", \"PASS\", \"3S\",\"PASS\"])\n",
    "\n",
    "for i in range(sample_hands.shape[0]):\n",
    "    print(f'{hand_to_str(sample_hands[i, 0, :])} {hand_to_str(sample_hands[i, 1, :])} {hand_to_str(sample_hands[i, 2, :])} {hand_to_str(sample_hands[i, 3, :])}')"
   ]
  }
 ],
 "metadata": {
  "kernelspec": {
   "display_name": "Python 3 (ipykernel)",
   "language": "python",
   "name": "python3"
  },
  "language_info": {
   "codemirror_mode": {
    "name": "ipython",
    "version": 3
   },
   "file_extension": ".py",
   "mimetype": "text/x-python",
   "name": "python",
   "nbconvert_exporter": "python",
   "pygments_lexer": "ipython3",
   "version": "3.11.0"
  }
 },
 "nbformat": 4,
 "nbformat_minor": 5
}
