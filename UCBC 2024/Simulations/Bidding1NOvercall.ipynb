{
 "cells": [
  {
   "cell_type": "markdown",
   "id": "75d07246",
   "metadata": {},
   "source": [
    "# Bidding\n",
    "\n",
    "This is a tutorial for how to use the bidding engine"
   ]
  },
  {
   "cell_type": "code",
   "execution_count": 1,
   "id": "59a5664c",
   "metadata": {},
   "outputs": [
    {
     "name": "stdout",
     "output_type": "stream",
     "text": [
      "WARNING:tensorflow:From c:\\Python311\\Lib\\site-packages\\tensorflow\\python\\compat\\v2_compat.py:107: disable_resource_variables (from tensorflow.python.ops.variable_scope) is deprecated and will be removed in a future version.\n",
      "Instructions for updating:\n",
      "non-resource variables are not supported in the long term\n",
      "INFO:tensorflow:Restoring parameters from ..\\Models/NS1EW99-bidding_same-5556000\n",
      "INFO:tensorflow:Restoring parameters from ..\\Models/NS1EW99-binfo_same-5556000\n",
      "INFO:tensorflow:Restoring parameters from ..\\Models/lead_suit-999000\n",
      "INFO:tensorflow:Restoring parameters from ..\\Models/lead_nt-475000\n",
      "INFO:tensorflow:Restoring parameters from ..\\Models/Jack/lr3-1000000\n",
      "INFO:tensorflow:Restoring parameters from ..\\Models/single_dummy-32768000\n",
      "INFO:tensorflow:Restoring parameters from ..\\Models/jack/lefty-1000000\n",
      "INFO:tensorflow:Restoring parameters from ..\\Models/jack/dummy-920000\n",
      "INFO:tensorflow:Restoring parameters from ..\\Models/jack/righty-1000000\n",
      "INFO:tensorflow:Restoring parameters from ..\\Models/jack/decl-1000000\n",
      "INFO:tensorflow:Restoring parameters from ..\\Models/jack/lefty-1000000\n",
      "INFO:tensorflow:Restoring parameters from ..\\Models/jack/dummy-920000\n",
      "INFO:tensorflow:Restoring parameters from ..\\Models/jack/righty-1000000\n",
      "INFO:tensorflow:Restoring parameters from ..\\Models/jack/decl-1000000\n"
     ]
    }
   ],
   "source": [
    "import sys\n",
    "import os\n",
    "sys.path.append('../../src')\n",
    "os.environ['BEN_HOME'] = \"../..\"\n",
    "\n",
    "from nn.models import Models\n",
    "from bots import BotBid\n",
    "from util import hand_to_str\n",
    "from sample import Sample\n",
    "import conf\n",
    "import numpy as np\n",
    "\n",
    "np.set_printoptions(precision=2, suppress=True, linewidth=200)\n",
    "np.random.seed(42)\n",
    "models = Models.from_conf(conf.load('../Conf/UCBC2024.conf'),'..')   # loading neural networks\n",
    "sampler = Sample.from_conf(conf.load('../Conf/UCBC2024.conf'), False)  # Load sampling strategies\n"
   ]
  },
  {
   "cell_type": "markdown",
   "id": "10d8f2fc",
   "metadata": {},
   "source": [
    "### Bidding"
   ]
  },
  {
   "cell_type": "code",
   "execution_count": 2,
   "id": "19dbfeb7",
   "metadata": {},
   "outputs": [
    {
     "name": "stderr",
     "output_type": "stream",
     "text": [
      "Loaded lib dds.dll\n"
     ]
    },
    {
     "data": {
      "text/plain": [
       "[{'call': '2S', 'insta_score': 0.143, 'expected_score': -45, 'adjustment': 7},\n",
       " {'call': '2C', 'insta_score': 0.741, 'expected_score': -99, 'adjustment': 37}]"
      ]
     },
     "execution_count": 2,
     "metadata": {},
     "output_type": "execute_result"
    }
   ],
   "source": [
    "vuln_ns, vuln_ew = False, False\n",
    "hand = 'AQJ986.QJ952.7.8'\n",
    "\n",
    "auction = [\"PASS\", \"1N\"]\n",
    "bot_bid = BotBid([vuln_ns, vuln_ew], hand, models, sampler, 2, 0, False)\n",
    "\n",
    "bid = bot_bid.bid(auction)\n",
    "bid.to_dict()['candidates']\n",
    "\n",
    "# what's your bid?"
   ]
  },
  {
   "cell_type": "code",
   "execution_count": 3,
   "id": "55b647a5",
   "metadata": {},
   "outputs": [
    {
     "name": "stdout",
     "output_type": "stream",
     "text": [
      "KTx.T8x.QT8xx.xx xx.Kx.KJ9xx.KJTx AQJ98x.QJ9xx.x.8 xx.Axx.Ax.AQ9xxx 0.74986 \n",
      " P-1N-2C-X-P-2D-2S-3C-P-3D-P-4C-P-P-P (11, 10.7, 11.0)  \n",
      " P-1N-2S-3C-P-3S-P-4N-P-5C-P-P-P (11, 10.7, 11.0) \n",
      "Txx.Ax.8xxx.J9xx Kxx.K8x.AKTx.Kxx AQJ98x.QJ9xx.x.8 x.Txx.QJ9x.AQTxx 0.99993 \n",
      " P-1N-2C-X-P-2D-2S-3D-3S-P-P-4D-P-P-P (10, 9.8, 9.8)  \n",
      " P-1N-2S-2N-P-3C-P-3N-P-4D-P-5C-P-P-P (9, 9.3, 9.7) \n",
      "xx.xxx.KJx.KQJxx Txxx.AKx.AQx.Axx AQJ98x.QJ9xx.x.8 K.T8.T98xxx.T9xx 0.99644 \n",
      " P-1N-2C-2D-3C-3D-P-P-P (9, 9.1, 8.5)  \n",
      " P-1N-2S-P-P-P (7, 7.9, 7.4) \n",
      "Txx.Tx.AQ8.QJTxx Kxx.Axxx.KJx.Axx AQJ98x.QJ9xx.x.8 x.K8.T9xxxx.K9xx 0.99974 \n",
      " P-1N-2C-2D-3C-P-P-3D-P-P-P (9, 9.5, 9.0)  \n",
      " P-1N-2S-2N-3S-P-P-4D-P-P-P (9, 9.5, 9.1) \n",
      "x.A8xxx.Txx.Qxxx xxx.KT.AK98.K9xx AQJ98x.QJ9xx.x.8 KTx.x.QJxxx.AJTx 0.74953 \n",
      " P-1N-2C-2D-3C-3D-P-3N-P-P-P (10, 8.3, 8.8)  \n",
      " P-1N-2S-2N-P-3N-P-P-P (10, 8.3, 8.8) \n",
      "xx.8xx.QJ8xx.xxx Kx..KT9xxx.AK9xx AQJ98x.QJ9xx.x.8 Txx.AKTxx.A.QJTx 0.74994 \n",
      " P-1N-2C-X-P-3C-P-3H-P-4C-P-4H-P-5C-P-P-P (12, 11.4, 11.9)  \n",
      " P-1N-2S-3H-P-4D-P-4N-P-5H-P-6H-P-P-P (5, 6.8, 8.5) \n",
      "Txx.Kx.KJ98x.QT9 Kx.A8x.xxx.KJxxx AQJ98x.QJ9xx.x.8 xx.Txx.AQTx.Axxx 0.74993 \n",
      " P-1N-2C-X-P-3C-P-3N-P-P-P (8, 5.9, 6.5)  \n",
      " P-1N-2S-2N-3S-P-P-3N-P-P-P (8, 5.9, 6.4) \n",
      "xx.Kx.JT8xx.Txxx KTx.Axx.A9xx.Kxx AQJ98x.QJ9xx.x.8 xx.T8x.KQx.AQJ9x 0.75007 \n",
      " P-1N-2C-X-P-2N-P-3N-P-P-P (9, 8.4, 9.0)  \n",
      " P-1N-2S-2N-P-3N-P-P-P (9, 8.4, 9.0) \n",
      "xx.xxx.A9xx.KQ9x Kx.AT8.KQT8.Jxxx AQJ98x.QJ9xx.x.8 Txx.Kx.Jxxx.ATxx 0.74999 \n",
      " P-1N-2C-X-P-2H-2S-P-P-X-P-P-P (9, 9.2, 9.1)  \n",
      " P-1N-2S-X-P-3H-P-P-X-P-P-P (4, 3.4, 6.1) \n",
      "Txx.KTxx.KJ8xx.J Kxx.8.AQxx.KTxxx AQJ98x.QJ9xx.x.8 x.Axx.T9x.AQ9xxx 0.74995 \n",
      " P-1N-2C-3C-P-P-P (11, 10.2, 10.9)  \n",
      " P-1N-2S-2N-3S-P-P-4C-P-P-P (11, 10.2, 10.8) \n"
     ]
    }
   ],
   "source": [
    "### Samples consistent with the auction so far\n",
    "\n",
    "for i in range(min(10,len(bid.samples))):\n",
    "    print(bid.samples[i])\n"
   ]
  },
  {
   "cell_type": "markdown",
   "id": "7d0dd8f5",
   "metadata": {},
   "source": [
    "West always has the same cards because it's your hand and it's known to you"
   ]
  },
  {
   "cell_type": "code",
   "execution_count": 4,
   "id": "7101e514",
   "metadata": {},
   "outputs": [
    {
     "name": "stdout",
     "output_type": "stream",
     "text": [
      "Good quality: True\n",
      "KTx.T8x.QT8xx.xx xx.Kx.KJ9xx.KJTx AQJ98x.QJ9xx.x.8 xx.Axx.Ax.AQ9xxx 0.75\n",
      "Txx.Ax.8xxx.J9xx Kxx.K8x.AKTx.Kxx AQJ98x.QJ9xx.x.8 x.Txx.QJ9x.AQTxx 1.00\n",
      "xx.xxx.KJx.KQJxx Txxx.AKx.AQx.Axx AQJ98x.QJ9xx.x.8 K.T8.T98xxx.T9xx 1.00\n",
      "Txx.Tx.AQ8.QJTxx Kxx.Axxx.KJx.Axx AQJ98x.QJ9xx.x.8 x.K8.T9xxxx.K9xx 1.00\n",
      "x.A8xxx.Txx.Qxxx xxx.KT.AK98.K9xx AQJ98x.QJ9xx.x.8 KTx.x.QJxxx.AJTx 0.75\n",
      "xx.8xx.QJ8xx.xxx Kx..KT9xxx.AK9xx AQJ98x.QJ9xx.x.8 Txx.AKTxx.A.QJTx 0.75\n",
      "Txx.Kx.KJ98x.QT9 Kx.A8x.xxx.KJxxx AQJ98x.QJ9xx.x.8 xx.Txx.AQTx.Axxx 0.75\n",
      "xx.Kx.JT8xx.Txxx KTx.Axx.A9xx.Kxx AQJ98x.QJ9xx.x.8 xx.T8x.KQx.AQJ9x 0.75\n",
      "xx.xxx.A9xx.KQ9x Kx.AT8.KQT8.Jxxx AQJ98x.QJ9xx.x.8 Txx.Kx.Jxxx.ATxx 0.75\n",
      "Txx.KTxx.KJ8xx.J Kxx.8.AQxx.KTxxx AQJ98x.QJ9xx.x.8 x.Axx.T9x.AQ9xxx 0.75\n"
     ]
    }
   ],
   "source": [
    "# we got some samples above. if we want more, we can always get more\n",
    "auction = [\"PASS\", \"1N\"]\n",
    "sample_hands, sorted_score, p_hcp, p_shp, good_quality = bot_bid.sample_hands_for_auction(auction, 2)\n",
    "print(\"Good quality:\", good_quality)\n",
    "for i in range(min(10,sample_hands.shape[0])):\n",
    "    print(f'{hand_to_str(sample_hands[i, 0, :])} {hand_to_str(sample_hands[i, 1, :])} {hand_to_str(sample_hands[i, 2, :])} {hand_to_str(sample_hands[i, 3, :])} {sorted_score[i]:.2f}')"
   ]
  }
 ],
 "metadata": {
  "kernelspec": {
   "display_name": "Python 3 (ipykernel)",
   "language": "python",
   "name": "python3"
  },
  "language_info": {
   "codemirror_mode": {
    "name": "ipython",
    "version": 3
   },
   "file_extension": ".py",
   "mimetype": "text/x-python",
   "name": "python",
   "nbconvert_exporter": "python",
   "pygments_lexer": "ipython3",
   "version": "3.11.0"
  }
 },
 "nbformat": 4,
 "nbformat_minor": 5
}
