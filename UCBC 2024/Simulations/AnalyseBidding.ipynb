{
 "cells": [
  {
   "cell_type": "markdown",
   "id": "21a4c878",
   "metadata": {},
   "source": [
    "# Detailed Analysis of bidding"
   ]
  },
  {
   "cell_type": "code",
   "execution_count": 1,
   "id": "16f73f71",
   "metadata": {},
   "outputs": [
    {
     "name": "stdout",
     "output_type": "stream",
     "text": [
      "WARNING:tensorflow:From c:\\Python311\\Lib\\site-packages\\tensorflow\\python\\compat\\v2_compat.py:107: disable_resource_variables (from tensorflow.python.ops.variable_scope) is deprecated and will be removed in a future version.\n",
      "Instructions for updating:\n",
      "non-resource variables are not supported in the long term\n"
     ]
    }
   ],
   "source": [
    "import sys\n",
    "sys.path.append('../../src')\n",
    "\n",
    "import binary\n",
    "from analysis import CardByCard\n",
    "\n",
    "from nn.models import Models\n",
    "from bots import BotBid\n",
    "from util import hand_to_str\n",
    "from sample import Sample\n",
    "import conf\n",
    "\n",
    "import numpy as np\n",
    "\n",
    "np.set_printoptions(precision=2, suppress=True, linewidth=200)\n",
    "np.random.seed(42)"
   ]
  },
  {
   "cell_type": "code",
   "execution_count": 2,
   "id": "ca7fa897",
   "metadata": {},
   "outputs": [
    {
     "name": "stdout",
     "output_type": "stream",
     "text": [
      "INFO:tensorflow:Restoring parameters from ..\\Models/NS1EW99-bidding_same-5556000\n",
      "INFO:tensorflow:Restoring parameters from ..\\Models/NS1EW99-binfo_same-5556000\n",
      "INFO:tensorflow:Restoring parameters from ..\\Models/lead_suit-999000\n",
      "INFO:tensorflow:Restoring parameters from ..\\Models/lead_nt-475000\n",
      "INFO:tensorflow:Restoring parameters from ..\\Models/Jack/lr3-1000000\n",
      "INFO:tensorflow:Restoring parameters from ..\\Models/single_dummy-32768000\n",
      "INFO:tensorflow:Restoring parameters from ..\\Models/lefty_nt-475000\n",
      "INFO:tensorflow:Restoring parameters from ..\\Models/dummy_nt-475000\n",
      "INFO:tensorflow:Restoring parameters from ..\\Models/righty_nt-475000\n",
      "INFO:tensorflow:Restoring parameters from ..\\Models/decl_nt-950000\n",
      "INFO:tensorflow:Restoring parameters from ..\\Models/lefty_suit-999000\n",
      "INFO:tensorflow:Restoring parameters from ..\\Models/dummy_suit-999000\n",
      "INFO:tensorflow:Restoring parameters from ..\\Models/righty_suit-999000\n",
      "INFO:tensorflow:Restoring parameters from ..\\Models/decl_suit-1278000\n"
     ]
    }
   ],
   "source": [
    "models = Models.from_conf(conf.load('../Conf/UCBC2024.conf'),'..')   # loading neural networks\n",
    "sampler = Sample.from_conf(conf.load('../Conf/UCBC2024.conf'), False)  # Load sampling strategies\n"
   ]
  },
  {
   "cell_type": "code",
   "execution_count": 3,
   "id": "2940c18a",
   "metadata": {},
   "outputs": [],
   "source": [
    "# we specify all the information about a board\n",
    "# (it's quite tedious to enter every single thing by hand here,\n",
    "# later we'll have an example of how you can give it a board played on BBO)\n",
    "\n",
    "dealer = 'N'\n",
    "vuln = [True, True]  # fist element is NS, second element is EW\n",
    "#hands = [ 'JTx.AT8x.Ax.9xxx', 'A8.KQxx.KQJ8x.T8','xxxx.J9x.9xx.Kxx','KQ9x.xx.Txx.AQJx']\n",
    "#auction = ['1D', 'PASS','1S', 'PASS','1N', 'PASS','2N', 'PASS','3C', 'PASS','3D', 'PASS','3S', 'PASS','4D', 'PASS','4S', 'PASS','5D', 'PASS','5S', 'PASS','6D', 'PASS','6S', 'PASS','7D', 'PASS', 'PASS', 'PASS']\n",
    "#hands = ['QJ972.43.KJT.J85', '843.9765.A73.AK4', 'T65.KQ82.Q52.T93', 'AK.AJT.9864.Q762']\n",
    "hands = ['QJ.Jxx.JT9x.J8xx', '8xx.9xxx.Axx.AKx','Txx.KQ8x.Qxx.T9x','AK9xx.AT.K8x.Qxx']\n",
    "\n",
    "auction = ['PASS','PASS','PASS','1D', '1S', 'X', 'PASS', '1N', 'PASS', '2N', 'PASS', '3H', 'PASS', '3N', 'PASS','PASS','PASS']\n",
    "\n",
    "card_by_card = CardByCard(dealer, vuln, hands, auction, [], models, sampler, False)"
   ]
  },
  {
   "cell_type": "code",
   "execution_count": 4,
   "id": "7ab0cce5",
   "metadata": {},
   "outputs": [
    {
     "name": "stdout",
     "output_type": "stream",
     "text": [
      "PASS OK NN-value: 1.000\n",
      "PASS OK NN-value: 0.803\n",
      "PASS OK NN-value: 1.000\n",
      "1D Suggested bid from NN:CandidateBid(bid=1S  , insta_score=0.7332, expected_score=---, adjust=---)\n",
      "1D is not in the bids from the neural network\n",
      "1S Suggested bid from NN:CandidateBid(bid=PASS, insta_score=1.0000, expected_score=---, adjust=---)\n",
      "1S is not in the bids from the neural network\n",
      "X OK NN-value: 0.999\n",
      "PASS OK NN-value: 0.859\n",
      "1N Suggested bid from NN:CandidateBid(bid=2N  , insta_score=0.2334, expected_score=183.27, adjust=  12)\n",
      "1N NN-values:CandidateBid(bid=1N  , insta_score=0.6695, expected_score=154.64, adjust=  33)\n",
      "PASS OK NN-value: 1.000\n",
      "2N Suggested bid from NN:CandidateBid(bid=PASS, insta_score=0.4873, expected_score=97.31, adjust=  24)\n",
      "2N NN-values:CandidateBid(bid=2N  , insta_score=0.4503, expected_score=58.32, adjust=  23)\n",
      "PASS OK NN-value: 0.998\n",
      "3H Suggested bid from NN:CandidateBid(bid=3N  , insta_score=0.7862, expected_score=531.76, adjust= 393)\n",
      "3H is not in the bids from the neural network\n",
      "PASS OK NN-value: 1.000\n",
      "3N OK NN-value: 0.389\n",
      "PASS OK NN-value: 0.998\n",
      "PASS OK NN-value: 0.998\n",
      "PASS OK NN-value: 1.000\n"
     ]
    }
   ],
   "source": [
    "# calling this starts the analysis\n",
    "# it will go bid-by-bid and card-by-card, and will take a few moments\n",
    "# possible mistakes will be annotated with ? or with ?? (if it's a bigger mistake)\n",
    "# (possible mistake means that the engine does not agree with the bid/play. the engine could be wrong too :))\n",
    "\n",
    "card_by_card.analyze_bidding()"
   ]
  }
 ],
 "metadata": {
  "kernelspec": {
   "display_name": "Python 3 (ipykernel)",
   "language": "python",
   "name": "python3"
  },
  "language_info": {
   "codemirror_mode": {
    "name": "ipython",
    "version": 3
   },
   "file_extension": ".py",
   "mimetype": "text/x-python",
   "name": "python",
   "nbconvert_exporter": "python",
   "pygments_lexer": "ipython3",
   "version": "3.11.0"
  }
 },
 "nbformat": 4,
 "nbformat_minor": 5
}
